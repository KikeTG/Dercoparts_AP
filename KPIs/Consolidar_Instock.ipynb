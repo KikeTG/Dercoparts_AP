{
 "cells": [
  {
   "cell_type": "code",
   "execution_count": 2,
   "metadata": {},
   "outputs": [
    {
     "name": "stdout",
     "output_type": "stream",
     "text": [
      "El archivo C:\\Users\\etorres.DERCOPARTS\\DERCO CHILE REPUESTOS SpA\\Planificación y abastecimiento - Documentos\\KPI\\Instock Semanal\\tablero instock - VERSION\\ParquetInstock\\2024 Base INSTOCK Abril sem 14.parquet ya existe. Se omite la conversión.\n",
      "El archivo C:\\Users\\etorres.DERCOPARTS\\DERCO CHILE REPUESTOS SpA\\Planificación y abastecimiento - Documentos\\KPI\\Instock Semanal\\tablero instock - VERSION\\ParquetInstock\\2024 Base INSTOCK Abril sem 15.parquet ya existe. Se omite la conversión.\n",
      "El archivo C:\\Users\\etorres.DERCOPARTS\\DERCO CHILE REPUESTOS SpA\\Planificación y abastecimiento - Documentos\\KPI\\Instock Semanal\\tablero instock - VERSION\\ParquetInstock\\2024 Base INSTOCK Abril sem 16.parquet ya existe. Se omite la conversión.\n",
      "El archivo C:\\Users\\etorres.DERCOPARTS\\DERCO CHILE REPUESTOS SpA\\Planificación y abastecimiento - Documentos\\KPI\\Instock Semanal\\tablero instock - VERSION\\ParquetInstock\\2024 Base INSTOCK Abril sem 17.parquet ya existe. Se omite la conversión.\n",
      "El archivo C:\\Users\\etorres.DERCOPARTS\\DERCO CHILE REPUESTOS SpA\\Planificación y abastecimiento - Documentos\\KPI\\Instock Semanal\\tablero instock - VERSION\\ParquetInstock\\2024 Base INSTOCK Agosto sem 31.parquet ya existe. Se omite la conversión.\n",
      "El archivo C:\\Users\\etorres.DERCOPARTS\\DERCO CHILE REPUESTOS SpA\\Planificación y abastecimiento - Documentos\\KPI\\Instock Semanal\\tablero instock - VERSION\\ParquetInstock\\2024 Base INSTOCK Agosto sem 32.parquet ya existe. Se omite la conversión.\n",
      "El archivo C:\\Users\\etorres.DERCOPARTS\\DERCO CHILE REPUESTOS SpA\\Planificación y abastecimiento - Documentos\\KPI\\Instock Semanal\\tablero instock - VERSION\\ParquetInstock\\2024 Base INSTOCK Agosto sem 33.parquet ya existe. Se omite la conversión.\n",
      "El archivo C:\\Users\\etorres.DERCOPARTS\\DERCO CHILE REPUESTOS SpA\\Planificación y abastecimiento - Documentos\\KPI\\Instock Semanal\\tablero instock - VERSION\\ParquetInstock\\2024 Base INSTOCK Agosto sem 34.parquet ya existe. Se omite la conversión.\n"
     ]
    },
    {
     "name": "stderr",
     "output_type": "stream",
     "text": [
      "C:\\Users\\etorres.DERCOPARTS\\AppData\\Local\\Temp\\ipykernel_22092\\2202096611.py:20: SettingWithCopyWarning: \n",
      "A value is trying to be set on a copy of a slice from a DataFrame.\n",
      "Try using .loc[row_indexer,col_indexer] = value instead\n",
      "\n",
      "See the caveats in the documentation: https://pandas.pydata.org/pandas-docs/stable/user_guide/indexing.html#returning-a-view-versus-a-copy\n",
      "  df['UE'] = df['UE'].astype(str).str.lower()\n"
     ]
    },
    {
     "name": "stdout",
     "output_type": "stream",
     "text": [
      "Conversión completada para: 2024 Base INSTOCK Diciembre sem 49.xlsx\n",
      "El archivo C:\\Users\\etorres.DERCOPARTS\\DERCO CHILE REPUESTOS SpA\\Planificación y abastecimiento - Documentos\\KPI\\Instock Semanal\\tablero instock - VERSION\\ParquetInstock\\2024 Base INSTOCK Enero sem 1.parquet ya existe. Se omite la conversión.\n",
      "El archivo C:\\Users\\etorres.DERCOPARTS\\DERCO CHILE REPUESTOS SpA\\Planificación y abastecimiento - Documentos\\KPI\\Instock Semanal\\tablero instock - VERSION\\ParquetInstock\\2024 Base INSTOCK Enero sem 2.parquet ya existe. Se omite la conversión.\n",
      "El archivo C:\\Users\\etorres.DERCOPARTS\\DERCO CHILE REPUESTOS SpA\\Planificación y abastecimiento - Documentos\\KPI\\Instock Semanal\\tablero instock - VERSION\\ParquetInstock\\2024 Base INSTOCK Enero sem 3.parquet ya existe. Se omite la conversión.\n",
      "El archivo C:\\Users\\etorres.DERCOPARTS\\DERCO CHILE REPUESTOS SpA\\Planificación y abastecimiento - Documentos\\KPI\\Instock Semanal\\tablero instock - VERSION\\ParquetInstock\\2024 Base INSTOCK Enero sem 4.parquet ya existe. Se omite la conversión.\n",
      "El archivo C:\\Users\\etorres.DERCOPARTS\\DERCO CHILE REPUESTOS SpA\\Planificación y abastecimiento - Documentos\\KPI\\Instock Semanal\\tablero instock - VERSION\\ParquetInstock\\2024 Base INSTOCK Enero sem 5.parquet ya existe. Se omite la conversión.\n",
      "El archivo C:\\Users\\etorres.DERCOPARTS\\DERCO CHILE REPUESTOS SpA\\Planificación y abastecimiento - Documentos\\KPI\\Instock Semanal\\tablero instock - VERSION\\ParquetInstock\\2024 Base INSTOCK Febrero sem 6.parquet ya existe. Se omite la conversión.\n",
      "El archivo C:\\Users\\etorres.DERCOPARTS\\DERCO CHILE REPUESTOS SpA\\Planificación y abastecimiento - Documentos\\KPI\\Instock Semanal\\tablero instock - VERSION\\ParquetInstock\\2024 Base INSTOCK Febrero sem 7.parquet ya existe. Se omite la conversión.\n",
      "El archivo C:\\Users\\etorres.DERCOPARTS\\DERCO CHILE REPUESTOS SpA\\Planificación y abastecimiento - Documentos\\KPI\\Instock Semanal\\tablero instock - VERSION\\ParquetInstock\\2024 Base INSTOCK Febrero sem 8.parquet ya existe. Se omite la conversión.\n",
      "El archivo C:\\Users\\etorres.DERCOPARTS\\DERCO CHILE REPUESTOS SpA\\Planificación y abastecimiento - Documentos\\KPI\\Instock Semanal\\tablero instock - VERSION\\ParquetInstock\\2024 Base INSTOCK Febrero sem 9.parquet ya existe. Se omite la conversión.\n",
      "El archivo C:\\Users\\etorres.DERCOPARTS\\DERCO CHILE REPUESTOS SpA\\Planificación y abastecimiento - Documentos\\KPI\\Instock Semanal\\tablero instock - VERSION\\ParquetInstock\\2024 Base INSTOCK Julio sem 27.parquet ya existe. Se omite la conversión.\n",
      "El archivo C:\\Users\\etorres.DERCOPARTS\\DERCO CHILE REPUESTOS SpA\\Planificación y abastecimiento - Documentos\\KPI\\Instock Semanal\\tablero instock - VERSION\\ParquetInstock\\2024 Base INSTOCK Julio sem 28.parquet ya existe. Se omite la conversión.\n",
      "El archivo C:\\Users\\etorres.DERCOPARTS\\DERCO CHILE REPUESTOS SpA\\Planificación y abastecimiento - Documentos\\KPI\\Instock Semanal\\tablero instock - VERSION\\ParquetInstock\\2024 Base INSTOCK Julio sem 29.parquet ya existe. Se omite la conversión.\n",
      "El archivo C:\\Users\\etorres.DERCOPARTS\\DERCO CHILE REPUESTOS SpA\\Planificación y abastecimiento - Documentos\\KPI\\Instock Semanal\\tablero instock - VERSION\\ParquetInstock\\2024 Base INSTOCK Julio sem 30.parquet ya existe. Se omite la conversión.\n",
      "El archivo C:\\Users\\etorres.DERCOPARTS\\DERCO CHILE REPUESTOS SpA\\Planificación y abastecimiento - Documentos\\KPI\\Instock Semanal\\tablero instock - VERSION\\ParquetInstock\\2024 Base INSTOCK Junio sem 23.parquet ya existe. Se omite la conversión.\n",
      "El archivo C:\\Users\\etorres.DERCOPARTS\\DERCO CHILE REPUESTOS SpA\\Planificación y abastecimiento - Documentos\\KPI\\Instock Semanal\\tablero instock - VERSION\\ParquetInstock\\2024 Base INSTOCK Junio sem 24.parquet ya existe. Se omite la conversión.\n",
      "El archivo C:\\Users\\etorres.DERCOPARTS\\DERCO CHILE REPUESTOS SpA\\Planificación y abastecimiento - Documentos\\KPI\\Instock Semanal\\tablero instock - VERSION\\ParquetInstock\\2024 Base INSTOCK Junio sem 25.parquet ya existe. Se omite la conversión.\n",
      "El archivo C:\\Users\\etorres.DERCOPARTS\\DERCO CHILE REPUESTOS SpA\\Planificación y abastecimiento - Documentos\\KPI\\Instock Semanal\\tablero instock - VERSION\\ParquetInstock\\2024 Base INSTOCK Junio sem 26.parquet ya existe. Se omite la conversión.\n",
      "El archivo C:\\Users\\etorres.DERCOPARTS\\DERCO CHILE REPUESTOS SpA\\Planificación y abastecimiento - Documentos\\KPI\\Instock Semanal\\tablero instock - VERSION\\ParquetInstock\\2024 Base INSTOCK Marzo sem 10.parquet ya existe. Se omite la conversión.\n",
      "El archivo C:\\Users\\etorres.DERCOPARTS\\DERCO CHILE REPUESTOS SpA\\Planificación y abastecimiento - Documentos\\KPI\\Instock Semanal\\tablero instock - VERSION\\ParquetInstock\\2024 Base INSTOCK Marzo sem 11.parquet ya existe. Se omite la conversión.\n",
      "El archivo C:\\Users\\etorres.DERCOPARTS\\DERCO CHILE REPUESTOS SpA\\Planificación y abastecimiento - Documentos\\KPI\\Instock Semanal\\tablero instock - VERSION\\ParquetInstock\\2024 Base INSTOCK Marzo sem 12.parquet ya existe. Se omite la conversión.\n",
      "El archivo C:\\Users\\etorres.DERCOPARTS\\DERCO CHILE REPUESTOS SpA\\Planificación y abastecimiento - Documentos\\KPI\\Instock Semanal\\tablero instock - VERSION\\ParquetInstock\\2024 Base INSTOCK Marzo sem 13.parquet ya existe. Se omite la conversión.\n",
      "El archivo C:\\Users\\etorres.DERCOPARTS\\DERCO CHILE REPUESTOS SpA\\Planificación y abastecimiento - Documentos\\KPI\\Instock Semanal\\tablero instock - VERSION\\ParquetInstock\\2024 Base INSTOCK Mayo sem 18.parquet ya existe. Se omite la conversión.\n",
      "El archivo C:\\Users\\etorres.DERCOPARTS\\DERCO CHILE REPUESTOS SpA\\Planificación y abastecimiento - Documentos\\KPI\\Instock Semanal\\tablero instock - VERSION\\ParquetInstock\\2024 Base INSTOCK Mayo sem 19.parquet ya existe. Se omite la conversión.\n",
      "El archivo C:\\Users\\etorres.DERCOPARTS\\DERCO CHILE REPUESTOS SpA\\Planificación y abastecimiento - Documentos\\KPI\\Instock Semanal\\tablero instock - VERSION\\ParquetInstock\\2024 Base INSTOCK Mayo sem 20.parquet ya existe. Se omite la conversión.\n",
      "El archivo C:\\Users\\etorres.DERCOPARTS\\DERCO CHILE REPUESTOS SpA\\Planificación y abastecimiento - Documentos\\KPI\\Instock Semanal\\tablero instock - VERSION\\ParquetInstock\\2024 Base INSTOCK Mayo sem 21.parquet ya existe. Se omite la conversión.\n",
      "El archivo C:\\Users\\etorres.DERCOPARTS\\DERCO CHILE REPUESTOS SpA\\Planificación y abastecimiento - Documentos\\KPI\\Instock Semanal\\tablero instock - VERSION\\ParquetInstock\\2024 Base INSTOCK Mayo sem 22.parquet ya existe. Se omite la conversión.\n",
      "El archivo C:\\Users\\etorres.DERCOPARTS\\DERCO CHILE REPUESTOS SpA\\Planificación y abastecimiento - Documentos\\KPI\\Instock Semanal\\tablero instock - VERSION\\ParquetInstock\\2024 Base INSTOCK Noviembre sem 45.parquet ya existe. Se omite la conversión.\n",
      "El archivo C:\\Users\\etorres.DERCOPARTS\\DERCO CHILE REPUESTOS SpA\\Planificación y abastecimiento - Documentos\\KPI\\Instock Semanal\\tablero instock - VERSION\\ParquetInstock\\2024 Base INSTOCK Noviembre sem 46.parquet ya existe. Se omite la conversión.\n"
     ]
    },
    {
     "name": "stderr",
     "output_type": "stream",
     "text": [
      "C:\\Users\\etorres.DERCOPARTS\\AppData\\Local\\Temp\\ipykernel_22092\\2202096611.py:20: SettingWithCopyWarning: \n",
      "A value is trying to be set on a copy of a slice from a DataFrame.\n",
      "Try using .loc[row_indexer,col_indexer] = value instead\n",
      "\n",
      "See the caveats in the documentation: https://pandas.pydata.org/pandas-docs/stable/user_guide/indexing.html#returning-a-view-versus-a-copy\n",
      "  df['UE'] = df['UE'].astype(str).str.lower()\n"
     ]
    },
    {
     "name": "stdout",
     "output_type": "stream",
     "text": [
      "Conversión completada para: 2024 Base INSTOCK Noviembre sem 47.xlsx\n"
     ]
    },
    {
     "name": "stderr",
     "output_type": "stream",
     "text": [
      "C:\\Users\\etorres.DERCOPARTS\\AppData\\Local\\Temp\\ipykernel_22092\\2202096611.py:20: SettingWithCopyWarning: \n",
      "A value is trying to be set on a copy of a slice from a DataFrame.\n",
      "Try using .loc[row_indexer,col_indexer] = value instead\n",
      "\n",
      "See the caveats in the documentation: https://pandas.pydata.org/pandas-docs/stable/user_guide/indexing.html#returning-a-view-versus-a-copy\n",
      "  df['UE'] = df['UE'].astype(str).str.lower()\n"
     ]
    },
    {
     "name": "stdout",
     "output_type": "stream",
     "text": [
      "Conversión completada para: 2024 Base INSTOCK Noviembre sem 48.xlsx\n",
      "El archivo C:\\Users\\etorres.DERCOPARTS\\DERCO CHILE REPUESTOS SpA\\Planificación y abastecimiento - Documentos\\KPI\\Instock Semanal\\tablero instock - VERSION\\ParquetInstock\\2024 Base INSTOCK Octubre sem 40.parquet ya existe. Se omite la conversión.\n",
      "El archivo C:\\Users\\etorres.DERCOPARTS\\DERCO CHILE REPUESTOS SpA\\Planificación y abastecimiento - Documentos\\KPI\\Instock Semanal\\tablero instock - VERSION\\ParquetInstock\\2024 Base INSTOCK Octubre sem 41.parquet ya existe. Se omite la conversión.\n",
      "El archivo C:\\Users\\etorres.DERCOPARTS\\DERCO CHILE REPUESTOS SpA\\Planificación y abastecimiento - Documentos\\KPI\\Instock Semanal\\tablero instock - VERSION\\ParquetInstock\\2024 Base INSTOCK Octubre sem 42.parquet ya existe. Se omite la conversión.\n",
      "El archivo C:\\Users\\etorres.DERCOPARTS\\DERCO CHILE REPUESTOS SpA\\Planificación y abastecimiento - Documentos\\KPI\\Instock Semanal\\tablero instock - VERSION\\ParquetInstock\\2024 Base INSTOCK Octubre sem 43.parquet ya existe. Se omite la conversión.\n",
      "El archivo C:\\Users\\etorres.DERCOPARTS\\DERCO CHILE REPUESTOS SpA\\Planificación y abastecimiento - Documentos\\KPI\\Instock Semanal\\tablero instock - VERSION\\ParquetInstock\\2024 Base INSTOCK Octubre sem 44.parquet ya existe. Se omite la conversión.\n",
      "El archivo C:\\Users\\etorres.DERCOPARTS\\DERCO CHILE REPUESTOS SpA\\Planificación y abastecimiento - Documentos\\KPI\\Instock Semanal\\tablero instock - VERSION\\ParquetInstock\\2024 Base INSTOCK Septiembre sem 35.parquet ya existe. Se omite la conversión.\n",
      "El archivo C:\\Users\\etorres.DERCOPARTS\\DERCO CHILE REPUESTOS SpA\\Planificación y abastecimiento - Documentos\\KPI\\Instock Semanal\\tablero instock - VERSION\\ParquetInstock\\2024 Base INSTOCK Septiembre sem 36.parquet ya existe. Se omite la conversión.\n",
      "El archivo C:\\Users\\etorres.DERCOPARTS\\DERCO CHILE REPUESTOS SpA\\Planificación y abastecimiento - Documentos\\KPI\\Instock Semanal\\tablero instock - VERSION\\ParquetInstock\\2024 Base INSTOCK Septiembre sem 37.parquet ya existe. Se omite la conversión.\n",
      "El archivo C:\\Users\\etorres.DERCOPARTS\\DERCO CHILE REPUESTOS SpA\\Planificación y abastecimiento - Documentos\\KPI\\Instock Semanal\\tablero instock - VERSION\\ParquetInstock\\2024 Base INSTOCK Septiembre sem 38.parquet ya existe. Se omite la conversión.\n",
      "El archivo C:\\Users\\etorres.DERCOPARTS\\DERCO CHILE REPUESTOS SpA\\Planificación y abastecimiento - Documentos\\KPI\\Instock Semanal\\tablero instock - VERSION\\ParquetInstock\\2024 Base INSTOCK Septiembre sem 39.parquet ya existe. Se omite la conversión.\n",
      "Proceso de conversión completado.\n"
     ]
    }
   ],
   "source": [
    "import os\n",
    "import pandas as pd\n",
    "\n",
    "# Ruta de los archivos Excel\n",
    "ruta_excel = r\"C:\\Users\\Etorres.dercoparts\\derco chile repuestos spa\\Planificación y abastecimiento - Documentos\\KPI\\Instock Semanal\\Bases Instock\"\n",
    "\n",
    "# Ruta para guardar los archivos Parquet\n",
    "ruta_parquet = r\"C:\\Users\\etorres.DERCOPARTS\\DERCO CHILE REPUESTOS SpA\\Planificación y abastecimiento - Documentos\\KPI\\Instock Semanal\\tablero instock - VERSION\\ParquetInstock\"\n",
    "\n",
    "\n",
    "# Crear la carpeta de destino si no existe\n",
    "os.makedirs(ruta_parquet, exist_ok=True)\n",
    "\n",
    "# Función para limpiar datos antes de convertir a Parquet\n",
    "def limpiar_datos(df):\n",
    "    df = df.loc[:, ~df.columns.str.contains('^Unnamed')]\n",
    "    \n",
    "    # Verificar si existe la columna 'UE' y transformarla a minúsculas si es necesario\n",
    "    if 'UE' in df.columns:\n",
    "        df['UE'] = df['UE'].astype(str).str.lower()\n",
    "    \n",
    "    df = df.astype(str)\n",
    "    return df\n",
    "\n",
    "# Obtener todos los archivos Excel en la ruta especificada\n",
    "archivos_excel = [f for f in os.listdir(ruta_excel) if f.endswith('.xlsx')]\n",
    "\n",
    "# Convertir todos los archivos Excel a Parquet\n",
    "for archivo in archivos_excel:\n",
    "    nombre_archivo = os.path.splitext(archivo)[0]\n",
    "    archivo_parquet = os.path.join(ruta_parquet, f\"{nombre_archivo}.parquet\")\n",
    "    \n",
    "    # Verificar si el archivo Parquet ya existe\n",
    "    if os.path.exists(archivo_parquet):\n",
    "        print(f\"El archivo {archivo_parquet} ya existe. Se omite la conversión.\")\n",
    "        continue\n",
    "\n",
    "    archivo_excel = os.path.join(ruta_excel, archivo)\n",
    "    try:\n",
    "        xls = pd.ExcelFile(archivo_excel)\n",
    "        if 'Sheet1' in xls.sheet_names:\n",
    "            df = pd.read_excel(archivo_excel, sheet_name='Sheet1')\n",
    "            df = limpiar_datos(df)\n",
    "            \n",
    "            df.to_parquet(archivo_parquet)\n",
    "            print(f\"Conversión completada para: {archivo}\")\n",
    "        else:\n",
    "            print(f\"Advertencia: {archivo} no contiene la hoja 'Sheet1'.\")\n",
    "    except PermissionError as e:\n",
    "        print(f\"Error al convertir {archivo}: {e}\")\n",
    "    except Exception as e:\n",
    "        print(f\"Error inesperado al convertir {archivo}: {e}\")\n",
    "\n",
    "print(\"Proceso de conversión completado.\")\n"
   ]
  },
  {
   "cell_type": "markdown",
   "metadata": {},
   "source": [
    "# Consolidar todos los instock"
   ]
  },
  {
   "cell_type": "code",
   "execution_count": 3,
   "metadata": {},
   "outputs": [
    {
     "name": "stdout",
     "output_type": "stream",
     "text": [
      "Archivo consolidado guardado en: C:\\Users\\etorres.DERCOPARTS\\DERCO CHILE REPUESTOS SpA\\Planificación y abastecimiento - Documentos\\KPI\\Instock Semanal\\tablero instock - VERSION\\Consolidado_Instock_Parquet\\consolidado_instock_2024-12-05_Sem49.parquet\n"
     ]
    }
   ],
   "source": [
    "import os\n",
    "import pandas as pd\n",
    "from datetime import datetime\n",
    "\n",
    "ruta_parquet = r\"C:\\Users\\etorres.DERCOPARTS\\DERCO CHILE REPUESTOS SpA\\Planificación y abastecimiento - Documentos\\KPI\\Instock Semanal\\tablero instock - VERSION\\ParquetInstock\"\n",
    "\n",
    "ruta_consolidado = r\"C:\\Users\\etorres.DERCOPARTS\\DERCO CHILE REPUESTOS SpA\\Planificación y abastecimiento - Documentos\\KPI\\Instock Semanal\\tablero instock - VERSION\\Consolidado_Instock_Parquet\"\n",
    "os.makedirs(ruta_consolidado, exist_ok=True)\n",
    "columnas_deseadas = [\"Nombre Sector\", \"UE\", \"Venta UMB\", \"Libre utilización\", \"Instock\"]\n",
    "columnas_deseadas_lower = [col.lower() for col in columnas_deseadas]\n",
    "\n",
    "hoy = datetime.now().strftime('%Y-%m-%d')\n",
    "semana_actual = datetime.now().isocalendar()[1]\n",
    "\n",
    "dfs = []\n",
    "for archivo in os.listdir(ruta_parquet):\n",
    "    if archivo.endswith('.parquet'):\n",
    "        archivo_parquet = os.path.join(ruta_parquet, archivo)\n",
    "        try:\n",
    "            df = pd.read_parquet(archivo_parquet)\n",
    "            df.columns = df.columns.str.lower()\n",
    "            if 'ue' in df.columns:\n",
    "                df.rename(columns={'ue': 'ue'}, inplace=True)\n",
    "            if 'UE' in df.columns:\n",
    "                df.rename(columns={'UE': 'ue'}, inplace=True)\n",
    "\n",
    "            if all(col in df.columns for col in columnas_deseadas_lower):\n",
    "                df = df[columnas_deseadas_lower]\n",
    "                df['ue'] = df['ue'].astype(str)\n",
    "                df['venta umb'] = df['venta umb'].astype(float)\n",
    "                df['libre utilización'] = df['libre utilización'].astype(float)\n",
    "                df['instock'] = df['instock'].astype(float)\n",
    "                source_name_prefix = archivo[:4] + \"_\" + archivo[-13:-8]\n",
    "                df[\"Source.Name\"] = source_name_prefix\n",
    "                dfs.append(df)\n",
    "            else:\n",
    "                print(f\"Advertencia: El archivo {archivo} no contiene todas las columnas deseadas.\")\n",
    "        except Exception as e:\n",
    "            print(f\"Error al leer el archivo {archivo}: {e}\")\n",
    "\n",
    "df_consolidado = pd.concat(dfs, ignore_index=True)\n",
    "df_consolidado.columns = columnas_deseadas + [\"Source.Name\"]\n",
    "nombre_archivo_consolidado = f\"consolidado_instock_{hoy}_Sem{semana_actual}.parquet\"\n",
    "ruta_archivo_consolidado = os.path.join(ruta_consolidado, nombre_archivo_consolidado)\n",
    "df_consolidado.to_parquet(ruta_archivo_consolidado)\n",
    "print(f\"Archivo consolidado guardado en: {ruta_archivo_consolidado}\")"
   ]
  }
 ],
 "metadata": {
  "kernelspec": {
   "display_name": "Python 3",
   "language": "python",
   "name": "python3"
  },
  "language_info": {
   "codemirror_mode": {
    "name": "ipython",
    "version": 3
   },
   "file_extension": ".py",
   "mimetype": "text/x-python",
   "name": "python",
   "nbconvert_exporter": "python",
   "pygments_lexer": "ipython3",
   "version": "3.12.4"
  }
 },
 "nbformat": 4,
 "nbformat_minor": 2
}
