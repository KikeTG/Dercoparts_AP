{
 "cells": [
  {
   "cell_type": "code",
   "execution_count": 1,
   "metadata": {},
   "outputs": [],
   "source": [
    "import os\n",
    "import pandas as pd\n",
    "import datetime\n",
    "from dateutil.relativedelta import relativedelta   \n",
    "import getpass"
   ]
  },
  {
   "cell_type": "code",
   "execution_count": 2,
   "metadata": {},
   "outputs": [],
   "source": [
    "nombre_usuario = getpass.getuser()\n",
    "#archivo_evolutivo = pd.read_excel(f\"C:/Users/{nombre_usuario}/Grupo Derco/Planificación y Compras Chile - Documentos/Planificación y Compras KPI-Reportes/Instock Semanal/Evolutivo.xlsx\" )\n",
    "# archivo_evolutivo['Venta UMB'] = archivo_evolutivo['Venta UMB']/6\n",
    "hoy = datetime.datetime.today().strftime(\"%Y-%m-%d\")"
   ]
  },
  {
   "cell_type": "code",
   "execution_count": 3,
   "metadata": {},
   "outputs": [],
   "source": [
    "def obtener_nombre_mes(numero_mes):\n",
    "    meses = {\n",
    "        1: \"Enero\",\n",
    "        2: \"Febrero\",\n",
    "        3: \"Marzo\",\n",
    "        4: \"Abril\",\n",
    "        5: \"Mayo\",\n",
    "        6: \"Junio\",\n",
    "        7: \"Julio\",\n",
    "        8: \"Agosto\",\n",
    "        9: \"Septiembre\",\n",
    "        10: \"Octubre\",\n",
    "        11: \"Noviembre\",\n",
    "        12: \"Diciembre\"\n",
    "    }\n",
    "    return meses.get(numero_mes, \"Mes no válido\")\n",
    "nombre_mes = obtener_nombre_mes(datetime.date.today().month)\n"
   ]
  },
  {
   "cell_type": "code",
   "execution_count": 4,
   "metadata": {},
   "outputs": [],
   "source": [
    "dtype ={'UE': str}\n",
    "valores_permitidos = ['Accesorios-Car Care','Rep.Alter.Maquinaria','Repuesto Alternativo','Baterías','Neumáticos','Lubricantes']\n",
    "mara_ue = pd.read_excel(f\"C:/Users/{nombre_usuario}.DERCOPARTS/DERCO CHILE REPUESTOS SpA/Planificación y abastecimiento - Documentos/Planificación y Compras Maestros/Vigencias/Maestra Retail/Maestra Aftermarket Actualizable.xlsx\", usecols=['UE','Nombre Sector'], dtype= dtype)\n",
    "mara_ue = mara_ue.drop_duplicates(subset=['UE'])\n",
    "mara_filtrada = mara_ue[mara_ue['Nombre Sector'].isin(valores_permitidos)]\n",
    "# mara_filtrada['UE'] = mara_filtrada['UE'].astype('str')\n",
    "\n",
    "mara_filtrada.loc[:, 'UE'] = mara_filtrada['UE'].astype(str)\n",
    "mara_filtrada.loc[:, 'UE'] = mara_filtrada['UE']"
   ]
  },
  {
   "cell_type": "code",
   "execution_count": 5,
   "metadata": {},
   "outputs": [
    {
     "data": {
      "text/plain": [
       "49"
      ]
     },
     "execution_count": 5,
     "metadata": {},
     "output_type": "execute_result"
    }
   ],
   "source": [
    "carpeta = f\"C:/Users/{nombre_usuario}.DERCOPARTS/DERCO CHILE REPUESTOS SpA/Planificación y abastecimiento - Documentoss/KPI/Tubo Semanal\"\n",
    "carpeta_ventas = f\"C:/Users/{nombre_usuario}.DERCOPARTS/DERCO CHILE REPUESTOS SpA/Planificación y abastecimiento - Documentoss/KPI/Tubo Semanal\"\n",
    "#carpeta_destino = f\"C:/Users/{nombre_usuario}/Grupo Derco/Planificación y Compras Chile - Documentos/Planificación y Compras KPI-Reportes/Instock Semanal/SEM {}\".format(datetime.date.today().isocalendar()[1])\n",
    "numero_semana = datetime.datetime.today().isocalendar()[1]\n",
    "\n",
    "numero_semana"
   ]
  },
  {
   "cell_type": "code",
   "execution_count": 6,
   "metadata": {},
   "outputs": [
    {
     "data": {
      "text/plain": [
       "'SEM 49'"
      ]
     },
     "execution_count": 6,
     "metadata": {},
     "output_type": "execute_result"
    }
   ],
   "source": [
    "nombre_carpeta = \"SEM {}\".format(datetime.datetime.today().isocalendar()[1])\n",
    "\n",
    "# Specify the path where you want to create the folder\n",
    "ubi_carpeta = f\"C:/Users/{nombre_usuario}.DERCOPARTS/DERCO CHILE REPUESTOS SpA/Planificación y abastecimiento - Documentos/Planificacion y Compras Procesos y Metodos/Pandas/INSTOCK\"\n",
    "\n",
    "# Combine the folder name with the path to create the full path\n",
    "carp_semana_instock = os.path.join(ubi_carpeta, nombre_carpeta)\n",
    "nombre_carpeta"
   ]
  },
  {
   "cell_type": "code",
   "execution_count": 7,
   "metadata": {},
   "outputs": [
    {
     "name": "stdout",
     "output_type": "stream",
     "text": [
      "C:/Users/etorres.DERCOPARTS/DERCO CHILE REPUESTOS SpA/Planificación y abastecimiento - Documentoss/KPI/Tubo Semanal\\2024-12-02\\2024-12-02 Stock S4.XLSX\n"
     ]
    },
    {
     "data": {
      "text/plain": [
       "2840369.187"
      ]
     },
     "execution_count": 7,
     "metadata": {},
     "output_type": "execute_result"
    }
   ],
   "source": [
    "carpetadestino = os.listdir(f\"C:/Users/{nombre_usuario}.DERCOPARTS/DERCO CHILE REPUESTOS SpA/Planificación y abastecimiento - Documentoss/KPI/Tubo Semanal\")[-3]\n",
    "stock_destino = os.path.join(f\"C:/Users/{nombre_usuario}.DERCOPARTS/DERCO CHILE REPUESTOS SpA/Planificación y abastecimiento - Documentoss/KPI/Tubo Semanal\", carpetadestino)  \n",
    "#ruta = stock_destino + '/2023-10-30 - Stock.xlsx'.format(datetime.datetime.today().isocalendar()[1])\n",
    "stock_destino_l = os.listdir(stock_destino)\n",
    "for i  in stock_destino_l:\n",
    "    if 'tock' in i and not 'iendas' in i and not 'añol' in i and 'S4' in i:\n",
    "        ruta = os.path.join(stock_destino, i)\n",
    "        print(ruta)\n",
    "stock = pd.read_excel(ruta,sheet_name='Sheet1', usecols=['Material', 'Libre utilización'])\n",
    "def remove_trailing_zero(x):\n",
    "    if pd.notna(x):  # Verifica si el valor no es NaN\n",
    "        return str(int(x)) if x == int(x) else str(x)\n",
    "    return x\n",
    "\n",
    "# Aplica la función a la columna \"Ult. Eslabon\"\n",
    "stock['Material'] = stock['Material'].apply(remove_trailing_zero)\n",
    "stock_suma = stock.groupby('Material', as_index=False).agg({'Libre utilización': 'sum'})\n",
    "stock_suma['Libre utilización'].sum()\n",
    "#3125458.761"
   ]
  },
  {
   "cell_type": "code",
   "execution_count": 8,
   "metadata": {},
   "outputs": [
    {
     "data": {
      "text/plain": [
       "['2024-12-02 - Semana 49 Venta Sell In.xlsx',\n",
       " '2024-12-02 ME2L S4.xlsx',\n",
       " '2024-12-02 ME5A.XLSX',\n",
       " '2024-12-02 Stock S4.XLSX',\n",
       " '2024-12-02 Stock Tiendas.XLSX',\n",
       " '2024-12-02 TR FINAL S4 Consolidado.xlsx',\n",
       " '2024-12-02 TR FINAL S4.xlsx',\n",
       " '2024-12-02 ZBD Contenedores.xlsx']"
      ]
     },
     "execution_count": 8,
     "metadata": {},
     "output_type": "execute_result"
    }
   ],
   "source": [
    "stock_destino_l"
   ]
  },
  {
   "cell_type": "code",
   "execution_count": 9,
   "metadata": {},
   "outputs": [
    {
     "data": {
      "text/html": [
       "<div>\n",
       "<style scoped>\n",
       "    .dataframe tbody tr th:only-of-type {\n",
       "        vertical-align: middle;\n",
       "    }\n",
       "\n",
       "    .dataframe tbody tr th {\n",
       "        vertical-align: top;\n",
       "    }\n",
       "\n",
       "    .dataframe thead th {\n",
       "        text-align: right;\n",
       "    }\n",
       "</style>\n",
       "<table border=\"1\" class=\"dataframe\">\n",
       "  <thead>\n",
       "    <tr style=\"text-align: right;\">\n",
       "      <th></th>\n",
       "      <th>Material</th>\n",
       "      <th>Libre utilización</th>\n",
       "    </tr>\n",
       "  </thead>\n",
       "  <tbody>\n",
       "    <tr>\n",
       "      <th>0</th>\n",
       "      <td>100483</td>\n",
       "      <td>0.0</td>\n",
       "    </tr>\n",
       "    <tr>\n",
       "      <th>1</th>\n",
       "      <td>100484</td>\n",
       "      <td>1.0</td>\n",
       "    </tr>\n",
       "    <tr>\n",
       "      <th>2</th>\n",
       "      <td>100485</td>\n",
       "      <td>0.0</td>\n",
       "    </tr>\n",
       "    <tr>\n",
       "      <th>3</th>\n",
       "      <td>100487</td>\n",
       "      <td>0.0</td>\n",
       "    </tr>\n",
       "    <tr>\n",
       "      <th>4</th>\n",
       "      <td>100492</td>\n",
       "      <td>25.0</td>\n",
       "    </tr>\n",
       "    <tr>\n",
       "      <th>...</th>\n",
       "      <td>...</td>\n",
       "      <td>...</td>\n",
       "    </tr>\n",
       "    <tr>\n",
       "      <th>11051</th>\n",
       "      <td>1171992</td>\n",
       "      <td>50.0</td>\n",
       "    </tr>\n",
       "    <tr>\n",
       "      <th>11052</th>\n",
       "      <td>1171993</td>\n",
       "      <td>50.0</td>\n",
       "    </tr>\n",
       "    <tr>\n",
       "      <th>11053</th>\n",
       "      <td>1171994</td>\n",
       "      <td>100.0</td>\n",
       "    </tr>\n",
       "    <tr>\n",
       "      <th>11054</th>\n",
       "      <td>1171995</td>\n",
       "      <td>9.0</td>\n",
       "    </tr>\n",
       "    <tr>\n",
       "      <th>11055</th>\n",
       "      <td>NaN</td>\n",
       "      <td>NaN</td>\n",
       "    </tr>\n",
       "  </tbody>\n",
       "</table>\n",
       "<p>11056 rows × 2 columns</p>\n",
       "</div>"
      ],
      "text/plain": [
       "      Material  Libre utilización\n",
       "0       100483                0.0\n",
       "1       100484                1.0\n",
       "2       100485                0.0\n",
       "3       100487                0.0\n",
       "4       100492               25.0\n",
       "...        ...                ...\n",
       "11051  1171992               50.0\n",
       "11052  1171993               50.0\n",
       "11053  1171994              100.0\n",
       "11054  1171995                9.0\n",
       "11055      NaN                NaN\n",
       "\n",
       "[11056 rows x 2 columns]"
      ]
     },
     "execution_count": 9,
     "metadata": {},
     "output_type": "execute_result"
    }
   ],
   "source": [
    "stock"
   ]
  },
  {
   "cell_type": "code",
   "execution_count": 10,
   "metadata": {},
   "outputs": [
    {
     "data": {
      "text/plain": [
       "'2024-12-02'"
      ]
     },
     "execution_count": 10,
     "metadata": {},
     "output_type": "execute_result"
    }
   ],
   "source": [
    "carpetadestino"
   ]
  },
  {
   "cell_type": "code",
   "execution_count": 11,
   "metadata": {},
   "outputs": [
    {
     "data": {
      "text/plain": [
       "'C:/Users/etorres.DERCOPARTS/DERCO CHILE REPUESTOS SpA/Planificación y abastecimiento - Documentoss/KPI/Tubo Semanal\\\\2024-12-02'"
      ]
     },
     "execution_count": 11,
     "metadata": {},
     "output_type": "execute_result"
    }
   ],
   "source": [
    "stock_destino"
   ]
  },
  {
   "cell_type": "code",
   "execution_count": 12,
   "metadata": {},
   "outputs": [
    {
     "name": "stdout",
     "output_type": "stream",
     "text": [
      "['01.12.2024 Cliente - Canal - Sector.xlsx', 'COD_ACTUAL_S4_20241202.xlsx', 'MaestrosCSV', 'MARA_Databricks_20241202.xlsx']\n"
     ]
    }
   ],
   "source": [
    "maestro = f\"C:/Users/{nombre_usuario}.DERCOPARTS/DERCO CHILE REPUESTOS SpA/Planificación y abastecimiento - Documentos/Planificación y Compras Maestros\"\n",
    "dir_maestro = os.listdir(maestro)\n",
    "for c_año in dir_maestro:\n",
    "    if str(datetime.datetime.today().year) in c_año:\n",
    "        c_carpeta = os.path.join(maestro, c_año)\n",
    "        c_mes = os.listdir(c_carpeta)\n",
    "        c_arch = os.path.join(c_carpeta, c_mes[-1])\n",
    "        archivos = os.listdir(c_arch)\n",
    "        print(archivos)\n",
    "        for a in archivos:\n",
    "            if 'COD_ACTUAL_S4' in a:\n",
    "                ruta_cad = os.path.join(c_arch, a)\n",
    "                cadena_de_remplazo = pd.read_excel(ruta_cad, usecols= ['Nro_pieza_fabricante_1',\t'Cod_Actual_1'] )\n",
    "                \n",
    "# ruta_cad_reemplazo = f\"C:/Users/{nombre_usuario}"
   ]
  },
  {
   "cell_type": "code",
   "execution_count": 13,
   "metadata": {},
   "outputs": [
    {
     "data": {
      "text/html": [
       "<div>\n",
       "<style scoped>\n",
       "    .dataframe tbody tr th:only-of-type {\n",
       "        vertical-align: middle;\n",
       "    }\n",
       "\n",
       "    .dataframe tbody tr th {\n",
       "        vertical-align: top;\n",
       "    }\n",
       "\n",
       "    .dataframe thead th {\n",
       "        text-align: right;\n",
       "    }\n",
       "</style>\n",
       "<table border=\"1\" class=\"dataframe\">\n",
       "  <thead>\n",
       "    <tr style=\"text-align: right;\">\n",
       "      <th></th>\n",
       "      <th>Nro_pieza_fabricante_1</th>\n",
       "      <th>Cod_Actual_1</th>\n",
       "    </tr>\n",
       "  </thead>\n",
       "  <tbody>\n",
       "    <tr>\n",
       "      <th>0</th>\n",
       "      <td>575579</td>\n",
       "      <td>536026</td>\n",
       "    </tr>\n",
       "    <tr>\n",
       "      <th>1</th>\n",
       "      <td>576126</td>\n",
       "      <td>542764</td>\n",
       "    </tr>\n",
       "    <tr>\n",
       "      <th>2</th>\n",
       "      <td>583940</td>\n",
       "      <td>515472</td>\n",
       "    </tr>\n",
       "    <tr>\n",
       "      <th>3</th>\n",
       "      <td>583949</td>\n",
       "      <td>521039</td>\n",
       "    </tr>\n",
       "    <tr>\n",
       "      <th>4</th>\n",
       "      <td>584287</td>\n",
       "      <td>563102</td>\n",
       "    </tr>\n",
       "    <tr>\n",
       "      <th>...</th>\n",
       "      <td>...</td>\n",
       "      <td>...</td>\n",
       "    </tr>\n",
       "    <tr>\n",
       "      <th>93504</th>\n",
       "      <td>664726</td>\n",
       "      <td>1145984</td>\n",
       "    </tr>\n",
       "    <tr>\n",
       "      <th>93505</th>\n",
       "      <td>591321</td>\n",
       "      <td>1060424</td>\n",
       "    </tr>\n",
       "    <tr>\n",
       "      <th>93506</th>\n",
       "      <td>573846</td>\n",
       "      <td>505670</td>\n",
       "    </tr>\n",
       "    <tr>\n",
       "      <th>93507</th>\n",
       "      <td>579449</td>\n",
       "      <td>529873</td>\n",
       "    </tr>\n",
       "    <tr>\n",
       "      <th>93508</th>\n",
       "      <td>565039</td>\n",
       "      <td>1083493</td>\n",
       "    </tr>\n",
       "  </tbody>\n",
       "</table>\n",
       "<p>93509 rows × 2 columns</p>\n",
       "</div>"
      ],
      "text/plain": [
       "      Nro_pieza_fabricante_1 Cod_Actual_1\n",
       "0                     575579       536026\n",
       "1                     576126       542764\n",
       "2                     583940       515472\n",
       "3                     583949       521039\n",
       "4                     584287       563102\n",
       "...                      ...          ...\n",
       "93504                 664726      1145984\n",
       "93505                 591321      1060424\n",
       "93506                 573846       505670\n",
       "93507                 579449       529873\n",
       "93508                 565039      1083493\n",
       "\n",
       "[93509 rows x 2 columns]"
      ]
     },
     "execution_count": 13,
     "metadata": {},
     "output_type": "execute_result"
    }
   ],
   "source": [
    "cadena_de_remplazo"
   ]
  },
  {
   "cell_type": "code",
   "execution_count": 14,
   "metadata": {},
   "outputs": [
    {
     "name": "stderr",
     "output_type": "stream",
     "text": [
      "C:\\Users\\etorres.DERCOPARTS\\AppData\\Local\\Temp\\ipykernel_14440\\3512973555.py:6: FutureWarning: A value is trying to be set on a copy of a DataFrame or Series through chained assignment using an inplace method.\n",
      "The behavior will change in pandas 3.0. This inplace method will never work because the intermediate object on which we are setting values always behaves as a copy.\n",
      "\n",
      "For example, when doing 'df[col].method(value, inplace=True)', try using 'df.method({col: value}, inplace=True)' or df[col] = df[col].method(value) instead, to perform the operation inplace on the original object.\n",
      "\n",
      "\n",
      "  df['Cod_Actual_1'].fillna(df['Material'], inplace=True)\n"
     ]
    }
   ],
   "source": [
    "stock_suma['Material'] = stock_suma['Material'].astype(str)\n",
    "cadena_de_remplazo['Nro_pieza_fabricante_1'] = cadena_de_remplazo['Nro_pieza_fabricante_1'].astype(str)\n",
    "\n",
    "df = pd.merge(stock_suma, cadena_de_remplazo, left_on='Material', right_on='Nro_pieza_fabricante_1', how='left', suffixes=('Cod_Actual_1', '_Cad_reemplazo'))\n",
    "df.drop('Nro_pieza_fabricante_1', axis=1, inplace=True)\n",
    "df['Cod_Actual_1'].fillna(df['Material'], inplace=True)\n",
    "df.drop('Material', axis=1, inplace=True)\n",
    "\n",
    "df_suma = df.groupby(['Cod_Actual_1']).agg({'Libre utilización': 'sum'}).reset_index()\n"
   ]
  },
  {
   "cell_type": "code",
   "execution_count": 15,
   "metadata": {},
   "outputs": [],
   "source": [
    "\n",
    "fechas_ventas = []\n",
    "semanas_ventas = sorted(os.listdir(carpeta), reverse=True)[2:14]\n",
    "consolidado_ventas = []\n",
    "columnas_ventas = ['Material', 'Venta UMB', 'Semana ISO'] \n",
    "\n",
    "for ventas in semanas_ventas:\n",
    "    ruta_semana_ventas = os.path.join(carpeta_ventas, ventas)\n",
    "    for ventas in os.listdir(ruta_semana_ventas):\n",
    "        if \"Sell\" in ventas and \"Out\" not in ventas and 'R3' not in ventas:\n",
    "            arc_ventas = os.path.join(ruta_semana_ventas, ventas)\n",
    "            \n",
    "            # Intentar leer \"Sheet1\" y si falla, intentar leer \"Hoja1\"\n",
    "            try:\n",
    "                df_temp = pd.read_excel(arc_ventas, sheet_name=\"Sheet1\", nrows=1)\n",
    "            except ValueError:\n",
    "                df_temp = pd.read_excel(arc_ventas, sheet_name=\"Hoja1\", nrows=1)\n",
    "            \n",
    "            if 'Semana ISO' in df_temp.columns:\n",
    "                columnas_ventas = ['Material', 'Venta UMB', 'Semana ISO']\n",
    "            elif 'Semana' in df_temp.columns:\n",
    "                columnas_ventas = ['Material', 'Venta UMB', 'Semana']\n",
    "            else:\n",
    "                raise ValueError(\"Neither 'Semana ISO' nor 'Semana' columns are present in the Excel sheet.\")\n",
    "            \n",
    "            # Intentar leer \"Sheet1\" y si falla, intentar leer \"Hoja1\"\n",
    "            try:\n",
    "                dfv = pd.read_excel(arc_ventas, sheet_name=\"Sheet1\", usecols=columnas_ventas, dtype={'Material': 'str'})\n",
    "            except ValueError:\n",
    "                dfv = pd.read_excel(arc_ventas, sheet_name=\"Hoja1\", usecols=columnas_ventas, dtype={'Material': 'str'})\n",
    "            \n",
    "            fechas_ventas.append(ventas[:10])\n",
    "            consolidado_ventas.append(dfv)\n",
    "\n",
    "df_final_ventas = pd.concat(consolidado_ventas, ignore_index=True)\n"
   ]
  },
  {
   "cell_type": "code",
   "execution_count": 16,
   "metadata": {},
   "outputs": [
    {
     "data": {
      "text/plain": [
       "['2024-12-02',\n",
       " '2024-11-25',\n",
       " '2024-11-18',\n",
       " '2024-11-11',\n",
       " '2024-11-04',\n",
       " '2024-10-28',\n",
       " '2024-10-21',\n",
       " '2024-10-14',\n",
       " '2024-10-07',\n",
       " '2024-09-30',\n",
       " '2024-09-23',\n",
       " '2024-09-16']"
      ]
     },
     "execution_count": 16,
     "metadata": {},
     "output_type": "execute_result"
    }
   ],
   "source": [
    "semanas_ventas"
   ]
  },
  {
   "cell_type": "code",
   "execution_count": 17,
   "metadata": {},
   "outputs": [
    {
     "name": "stdout",
     "output_type": "stream",
     "text": [
      "2209323.333\n"
     ]
    }
   ],
   "source": [
    "import pandas as pd\n",
    "\n",
    "# Supongamos que consolidado_ventas es una lista de DataFrames\n",
    "# Concatenar todos los DataFrames en uno solo\n",
    "df_consolidado = pd.concat(consolidado_ventas, ignore_index=True)\n",
    "\n",
    "# Convertir la columna 'Venta UMB' a numérico\n",
    "df_consolidado['Venta UMB'] = pd.to_numeric(df_consolidado['Venta UMB'], errors='coerce')\n",
    "\n",
    "# Calcular la suma\n",
    "sm = df_consolidado['Venta UMB'].sum()\n",
    "\n",
    "print(sm)"
   ]
  },
  {
   "cell_type": "markdown",
   "metadata": {},
   "source": [
    "CODIGO SI UN ARCHIVODE VENTA SELLIN ME DA ARCHIVO, CON ESTE IDENTIFICO CUAL ES EL QUE DA ERROR"
   ]
  },
  {
   "cell_type": "code",
   "execution_count": 18,
   "metadata": {},
   "outputs": [],
   "source": [
    "# import os\n",
    "# import pandas as pd\n",
    "\n",
    "# fechas_ventas = []\n",
    "# semanas_ventas = sorted(os.listdir(carpeta), reverse=True)[1:13]\n",
    "# consolidado_ventas = []\n",
    "# columnas_ventas = ['Material', 'Venta UMB', 'Semana ISO']\n",
    "\n",
    "# for ventas in semanas_ventas:\n",
    "#     ruta_semana_ventas = os.path.join(carpeta_ventas, ventas)\n",
    "#     for archivo in os.listdir(ruta_semana_ventas):\n",
    "#         if \"Sell\" in archivo and \"Out\" not in archivo and 'R3' not in archivo:\n",
    "#             arc_ventas = os.path.join(ruta_semana_ventas, archivo)\n",
    "#             try:\n",
    "#                 dfv = pd.read_excel(arc_ventas, sheet_name=\"Sheet1\", usecols=columnas_ventas, dtype={'Material':'str'}, engine='openpyxl')\n",
    "#                 fechas_ventas.append(archivo[:10])\n",
    "#                 consolidado_ventas.append(dfv)\n",
    "#             except Exception as e:\n",
    "#                 print(f\"Error al leer el archivo {arc_ventas}: {e}\")\n",
    "\n",
    "# df_final_ventas = pd.concat(consolidado_ventas, ignore_index=True)\n"
   ]
  },
  {
   "cell_type": "code",
   "execution_count": 19,
   "metadata": {},
   "outputs": [
    {
     "name": "stdout",
     "output_type": "stream",
     "text": [
      "Para el promedio de ventas se tomaron los archivos correspondientes a las siguientes fechas: \n",
      "2024-12-02, 2024-11-25, 2024-11-18, 2024-11-11, 2024-11-04, 2024-10-29, 2024-10-21, 2024-10-14, 2024-10-07, 2024-09-30, 2024-09-26, 2024-09-16\n"
     ]
    },
    {
     "name": "stderr",
     "output_type": "stream",
     "text": [
      "C:\\Users\\etorres.DERCOPARTS\\AppData\\Local\\Temp\\ipykernel_14440\\4092250586.py:20: FutureWarning: A value is trying to be set on a copy of a DataFrame or Series through chained assignment using an inplace method.\n",
      "The behavior will change in pandas 3.0. This inplace method will never work because the intermediate object on which we are setting values always behaves as a copy.\n",
      "\n",
      "For example, when doing 'df[col].method(value, inplace=True)', try using 'df.method({col: value}, inplace=True)' or df[col] = df[col].method(value) instead, to perform the operation inplace on the original object.\n",
      "\n",
      "\n",
      "  df['Cod_Actual_1'].fillna(df['Material'], inplace=True)\n"
     ]
    }
   ],
   "source": [
    "\n",
    "\n",
    "# for i in range(1, len(consolidado_ventas)):\n",
    "#     #df_final_ventas = pd.merge(df_final_ventas, consolidado_ventas[i], on='Material', how='left', sufixes=(f'_SEM{i}', f'_SEM{i+1}'))\n",
    "\n",
    "#     df_final_ventas = pd.concat([df_final_ventas, consolidado_ventas[i]], axis=0, ignore_index=True)\n",
    "\n",
    "df_final_ventas = df_final_ventas.groupby(['Material', 'Semana ISO'])['Venta UMB'].sum().reset_index()\n",
    "df_final_ventas.drop(['Semana ISO'], axis=1)\n",
    "df_final_ventas = df_final_ventas.groupby(['Material'])['Venta UMB'].sum().reset_index()\n",
    "\n",
    "    #df_final_ventas = df_final_ventas.applymap(lambda x: int(x) if '-' not in x else 0)\n",
    "    #df_final_ventas.replace(0, np.nan, inplace=True)\n",
    "\n",
    "\n",
    "    # Filtrar las filas que no contienen un guion '-'\n",
    "\n",
    "    #agrupar por ultimo eslabon\n",
    "\n",
    "df = pd.merge(df_final_ventas, cadena_de_remplazo, left_on= 'Material', right_on='Nro_pieza_fabricante_1', how= 'left', suffixes=('Cod_Actual_1', '_Cad_reemplazo'))\n",
    "df.drop('Nro_pieza_fabricante_1', axis=1, inplace=True)\n",
    "df['Cod_Actual_1'].fillna(df['Material'], inplace=True)\n",
    "#df['SEM'] = numero_semana\n",
    "df.drop('Material', axis=1, inplace=True)\n",
    "ventas_suma = df.groupby(['Cod_Actual_1']).agg({'Venta UMB': 'sum'}).reset_index()\n",
    "\n",
    "\n",
    "#nombre_archivo_ventas = \"Ventas SEM {}.xlsx\".format(datetime.date.today().isocalendar()[1])\n",
    "#ruta_destino = os.path.join(carpeta_destino, nombre_archivo_ventas)\n",
    "# df_consolidado.to_excel(ruta_destino, index=False)\n",
    "\n",
    "# def reemplazar_negativos_con_nan(valor):\n",
    "#     return valor if valor > 0 else None\n",
    "\n",
    "# Aplicar la función solo a las columnas que lo necesitas (desde la segunda columna en adelante)\n",
    "# columnas_a_modificar = df_final_ventas.columns[1:]  # Obtiene las columnas a partir de la segunda\n",
    "# df_final_ventas[columnas_a_modificar] = df_final_ventas[columnas_a_modificar].applymap(reemplazar_negativos_con_nan)\n",
    "\n",
    "\n",
    "# df_final_ventas['Promedio Semanal Ventas'] = df_final_ventas.iloc[:, 1:].mean(axis=1)\n",
    "# columnas = df_final_ventas.columns[1:-1]\n",
    "# df_final_ventas.drop(columnas, axis=1, inplace=True)\n",
    "\n",
    "\n",
    "#ventas_suma.to_excel(ruta_destino, index= False)\n",
    "print('Para el promedio de ventas se tomaron los archivos correspondientes a las siguientes fechas: ' + \"\\n\" + ', '.join(str(ventas) for ventas in fechas_ventas))\n"
   ]
  },
  {
   "cell_type": "code",
   "execution_count": 20,
   "metadata": {},
   "outputs": [
    {
     "data": {
      "text/html": [
       "<div>\n",
       "<style scoped>\n",
       "    .dataframe tbody tr th:only-of-type {\n",
       "        vertical-align: middle;\n",
       "    }\n",
       "\n",
       "    .dataframe tbody tr th {\n",
       "        vertical-align: top;\n",
       "    }\n",
       "\n",
       "    .dataframe thead th {\n",
       "        text-align: right;\n",
       "    }\n",
       "</style>\n",
       "<table border=\"1\" class=\"dataframe\">\n",
       "  <thead>\n",
       "    <tr style=\"text-align: right;\">\n",
       "      <th></th>\n",
       "      <th>Material</th>\n",
       "      <th>Venta UMB</th>\n",
       "    </tr>\n",
       "  </thead>\n",
       "  <tbody>\n",
       "    <tr>\n",
       "      <th>0</th>\n",
       "      <td>1000143</td>\n",
       "      <td>13.0</td>\n",
       "    </tr>\n",
       "    <tr>\n",
       "      <th>1</th>\n",
       "      <td>1000147</td>\n",
       "      <td>257.0</td>\n",
       "    </tr>\n",
       "    <tr>\n",
       "      <th>2</th>\n",
       "      <td>1000148</td>\n",
       "      <td>356.0</td>\n",
       "    </tr>\n",
       "    <tr>\n",
       "      <th>3</th>\n",
       "      <td>1000149</td>\n",
       "      <td>668.0</td>\n",
       "    </tr>\n",
       "    <tr>\n",
       "      <th>4</th>\n",
       "      <td>1000150</td>\n",
       "      <td>858.0</td>\n",
       "    </tr>\n",
       "  </tbody>\n",
       "</table>\n",
       "</div>"
      ],
      "text/plain": [
       "  Material  Venta UMB\n",
       "0  1000143       13.0\n",
       "1  1000147      257.0\n",
       "2  1000148      356.0\n",
       "3  1000149      668.0\n",
       "4  1000150      858.0"
      ]
     },
     "execution_count": 20,
     "metadata": {},
     "output_type": "execute_result"
    }
   ],
   "source": [
    "df_final_ventas.head()"
   ]
  },
  {
   "cell_type": "code",
   "execution_count": 21,
   "metadata": {},
   "outputs": [
    {
     "data": {
      "text/plain": [
       "12"
      ]
     },
     "execution_count": 21,
     "metadata": {},
     "output_type": "execute_result"
    }
   ],
   "source": [
    "len(fechas_ventas)"
   ]
  },
  {
   "cell_type": "code",
   "execution_count": 22,
   "metadata": {},
   "outputs": [
    {
     "data": {
      "text/plain": [
       "(8872, 2)"
      ]
     },
     "execution_count": 22,
     "metadata": {},
     "output_type": "execute_result"
    }
   ],
   "source": [
    "df.shape"
   ]
  },
  {
   "cell_type": "code",
   "execution_count": 23,
   "metadata": {},
   "outputs": [
    {
     "name": "stderr",
     "output_type": "stream",
     "text": [
      "C:\\Users\\etorres.DERCOPARTS\\AppData\\Local\\Temp\\ipykernel_14440\\1442971791.py:16: FutureWarning: A value is trying to be set on a copy of a DataFrame or Series through chained assignment using an inplace method.\n",
      "The behavior will change in pandas 3.0. This inplace method will never work because the intermediate object on which we are setting values always behaves as a copy.\n",
      "\n",
      "For example, when doing 'df[col].method(value, inplace=True)', try using 'df.method({col: value}, inplace=True)' or df[col] = df[col].method(value) instead, to perform the operation inplace on the original object.\n",
      "\n",
      "\n",
      "  ventas_v_stock_2['Libre utilización'].fillna(0, inplace=True)\n",
      "C:\\Users\\etorres.DERCOPARTS\\AppData\\Local\\Temp\\ipykernel_14440\\1442971791.py:17: FutureWarning: A value is trying to be set on a copy of a DataFrame or Series through chained assignment using an inplace method.\n",
      "The behavior will change in pandas 3.0. This inplace method will never work because the intermediate object on which we are setting values always behaves as a copy.\n",
      "\n",
      "For example, when doing 'df[col].method(value, inplace=True)', try using 'df.method({col: value}, inplace=True)' or df[col] = df[col].method(value) instead, to perform the operation inplace on the original object.\n",
      "\n",
      "\n",
      "  ventas_v_stock_2['Venta UMB'].fillna(0, inplace=True)\n"
     ]
    }
   ],
   "source": [
    "ventas_v_stock = pd.merge(mara_filtrada ,ventas_suma, left_on='UE',right_on='Cod_Actual_1', how= 'left', suffixes=('_Venta UMB', 'Venta UMB'))\n",
    "\n",
    "\n",
    "#ventas_v_stock['SEMANA'] = datetime.datetime.today().isocalendar()[1]\n",
    "#ventas_v_stock.drop('Material', axis=1, inplace=True)\n",
    "\n",
    "#DESDE LA ANTERIOR TRAER STOCK\n",
    "\n",
    "ventas_v_stock_2 = pd.merge(ventas_v_stock, df_suma, left_on='UE', right_on='Cod_Actual_1', how='left', suffixes=('_Libre utilización', 'Stock'))\n",
    "\n",
    "\n",
    "###PRUEBA DE INCORPORAR INSTOCK EN EL CALCULO INICIAL\n",
    "ventas_v_stock_2['Venta UMB'] = ventas_v_stock_2['Venta UMB'].apply(lambda x: 0 if x < 0 else x)\n",
    "ventas_v_stock_2['Venta UMB'] = ventas_v_stock_2['Venta UMB']/6\n",
    "\n",
    "ventas_v_stock_2['Libre utilización'].fillna(0, inplace=True)\n",
    "ventas_v_stock_2['Venta UMB'].fillna(0, inplace=True)\n",
    "\n",
    "\n",
    "def aplicar_condicion(row):\n",
    "    if (row['Libre utilización'] - row['Venta UMB']) >= 0:\n",
    "        return 1\n",
    "    else:\n",
    "        return 0\n",
    "\n",
    "# Aplicar la función usando apply y lambda\n",
    "ventas_v_stock_2['Instock'] = ventas_v_stock_2.apply(lambda row: aplicar_condicion(row), axis=1)\n",
    "\n",
    "\n",
    "\n",
    "\n",
    "\n",
    "\n",
    "\n",
    "\n",
    "\n"
   ]
  },
  {
   "cell_type": "code",
   "execution_count": 24,
   "metadata": {},
   "outputs": [],
   "source": [
    "#ventas_v_stock.to_excel(carpeta_destino + '/BASE INSTOCK SEM {}.xlsx'.format(numero_semana,numero_semana))\n",
    "ventas_v_stock_2.to_excel(f\"C:/Users/{nombre_usuario}.DERCOPARTS/DERCO CHILE REPUESTOS SpA/Planificación y abastecimiento - Documentos/kpi/Instock Semanal/Bases Instock/2024 Base INSTOCK {nombre_mes} sem {datetime.datetime.today().isocalendar()[1]}.xlsx\")"
   ]
  },
  {
   "cell_type": "code",
   "execution_count": 25,
   "metadata": {},
   "outputs": [
    {
     "data": {
      "text/plain": [
       "2207227.333"
      ]
     },
     "execution_count": 25,
     "metadata": {},
     "output_type": "execute_result"
    }
   ],
   "source": [
    "ventas_v_stock['Venta UMB'].sum()\n",
    "#rango aprox 1996323"
   ]
  },
  {
   "cell_type": "code",
   "execution_count": 26,
   "metadata": {},
   "outputs": [
    {
     "data": {
      "text/html": [
       "<div>\n",
       "<style scoped>\n",
       "    .dataframe tbody tr th:only-of-type {\n",
       "        vertical-align: middle;\n",
       "    }\n",
       "\n",
       "    .dataframe tbody tr th {\n",
       "        vertical-align: top;\n",
       "    }\n",
       "\n",
       "    .dataframe thead th {\n",
       "        text-align: right;\n",
       "    }\n",
       "</style>\n",
       "<table border=\"1\" class=\"dataframe\">\n",
       "  <thead>\n",
       "    <tr style=\"text-align: right;\">\n",
       "      <th></th>\n",
       "      <th>Cod_Actual_1</th>\n",
       "      <th>Venta UMB</th>\n",
       "    </tr>\n",
       "  </thead>\n",
       "  <tbody>\n",
       "    <tr>\n",
       "      <th>0</th>\n",
       "      <td>1000143</td>\n",
       "      <td>13.0</td>\n",
       "    </tr>\n",
       "    <tr>\n",
       "      <th>1</th>\n",
       "      <td>1000147</td>\n",
       "      <td>257.0</td>\n",
       "    </tr>\n",
       "    <tr>\n",
       "      <th>2</th>\n",
       "      <td>1000148</td>\n",
       "      <td>356.0</td>\n",
       "    </tr>\n",
       "    <tr>\n",
       "      <th>3</th>\n",
       "      <td>1000149</td>\n",
       "      <td>668.0</td>\n",
       "    </tr>\n",
       "    <tr>\n",
       "      <th>4</th>\n",
       "      <td>1000150</td>\n",
       "      <td>858.0</td>\n",
       "    </tr>\n",
       "    <tr>\n",
       "      <th>...</th>\n",
       "      <td>...</td>\n",
       "      <td>...</td>\n",
       "    </tr>\n",
       "    <tr>\n",
       "      <th>8714</th>\n",
       "      <td>750791</td>\n",
       "      <td>17.0</td>\n",
       "    </tr>\n",
       "    <tr>\n",
       "      <th>8715</th>\n",
       "      <td>750797</td>\n",
       "      <td>1.0</td>\n",
       "    </tr>\n",
       "    <tr>\n",
       "      <th>8716</th>\n",
       "      <td>750809</td>\n",
       "      <td>13.0</td>\n",
       "    </tr>\n",
       "    <tr>\n",
       "      <th>8717</th>\n",
       "      <td>750816</td>\n",
       "      <td>3.0</td>\n",
       "    </tr>\n",
       "    <tr>\n",
       "      <th>8718</th>\n",
       "      <td>752466</td>\n",
       "      <td>7.0</td>\n",
       "    </tr>\n",
       "  </tbody>\n",
       "</table>\n",
       "<p>8719 rows × 2 columns</p>\n",
       "</div>"
      ],
      "text/plain": [
       "     Cod_Actual_1  Venta UMB\n",
       "0         1000143       13.0\n",
       "1         1000147      257.0\n",
       "2         1000148      356.0\n",
       "3         1000149      668.0\n",
       "4         1000150      858.0\n",
       "...           ...        ...\n",
       "8714       750791       17.0\n",
       "8715       750797        1.0\n",
       "8716       750809       13.0\n",
       "8717       750816        3.0\n",
       "8718       752466        7.0\n",
       "\n",
       "[8719 rows x 2 columns]"
      ]
     },
     "execution_count": 26,
     "metadata": {},
     "output_type": "execute_result"
    }
   ],
   "source": [
    "ventas_suma"
   ]
  },
  {
   "cell_type": "code",
   "execution_count": 27,
   "metadata": {},
   "outputs": [
    {
     "data": {
      "text/plain": [
       "2207227.333"
      ]
     },
     "execution_count": 27,
     "metadata": {},
     "output_type": "execute_result"
    }
   ],
   "source": [
    "ventas_v_stock['Venta UMB'].sum()"
   ]
  },
  {
   "cell_type": "code",
   "execution_count": 28,
   "metadata": {},
   "outputs": [
    {
     "ename": "OSError",
     "evalue": "Cannot save file into a non-existent directory: 'C:\\Users\\etorres.DERCOPARTS\\DERCO CHILE REPUESTOS SpA\\Planificación y abastecimiento - Documentoss\\KPI\\Instock Semanal\\Bases Vigencias'",
     "output_type": "error",
     "traceback": [
      "\u001b[1;31m---------------------------------------------------------------------------\u001b[0m",
      "\u001b[1;31mOSError\u001b[0m                                   Traceback (most recent call last)",
      "Cell \u001b[1;32mIn[28], line 39\u001b[0m\n\u001b[0;32m     21\u001b[0m vigencia_agrupada \u001b[38;5;241m=\u001b[39m vigencia\u001b[38;5;241m.\u001b[39mgroupby([\u001b[38;5;124m'\u001b[39m\u001b[38;5;124mUE\u001b[39m\u001b[38;5;124m'\u001b[39m])\u001b[38;5;241m.\u001b[39magg({\n\u001b[0;32m     22\u001b[0m \u001b[38;5;124m'\u001b[39m\u001b[38;5;124mSegmentacion Aftermarket\u001b[39m\u001b[38;5;124m'\u001b[39m: custom_max_zero,\n\u001b[0;32m     23\u001b[0m \u001b[38;5;124m'\u001b[39m\u001b[38;5;124mCES 01\u001b[39m\u001b[38;5;124m'\u001b[39m: \u001b[38;5;124m'\u001b[39m\u001b[38;5;124msum\u001b[39m\u001b[38;5;124m'\u001b[39m,\n\u001b[1;32m   (...)\u001b[0m\n\u001b[0;32m     35\u001b[0m \u001b[38;5;124m'\u001b[39m\u001b[38;5;124mCategoria ClaCom\u001b[39m\u001b[38;5;124m'\u001b[39m: \u001b[38;5;124m'\u001b[39m\u001b[38;5;124mfirst\u001b[39m\u001b[38;5;124m'\u001b[39m,\n\u001b[0;32m     36\u001b[0m \u001b[38;5;124m'\u001b[39m\u001b[38;5;124mSubcategoria ClaCom\u001b[39m\u001b[38;5;124m'\u001b[39m: \u001b[38;5;124m'\u001b[39m\u001b[38;5;124mfirst\u001b[39m\u001b[38;5;124m'\u001b[39m})\u001b[38;5;241m.\u001b[39mreset_index()\n\u001b[0;32m     38\u001b[0m vigencia_agrupada[\u001b[38;5;124m'\u001b[39m\u001b[38;5;124mSegmentacion Aftermarket\u001b[39m\u001b[38;5;124m'\u001b[39m] \u001b[38;5;241m=\u001b[39m vigencia_agrupada[\u001b[38;5;124m'\u001b[39m\u001b[38;5;124mSegmentacion Aftermarket\u001b[39m\u001b[38;5;124m'\u001b[39m]\u001b[38;5;241m.\u001b[39mreplace(\u001b[38;5;241m0\u001b[39m, \u001b[38;5;124m'\u001b[39m\u001b[38;5;124mSIN SEGMENTACION\u001b[39m\u001b[38;5;124m'\u001b[39m)\n\u001b[1;32m---> 39\u001b[0m \u001b[43mvigencia_agrupada\u001b[49m\u001b[38;5;241;43m.\u001b[39;49m\u001b[43mto_excel\u001b[49m\u001b[43m(\u001b[49m\u001b[38;5;124;43mf\u001b[39;49m\u001b[38;5;124;43m'\u001b[39;49m\u001b[38;5;124;43mC:/Users/\u001b[39;49m\u001b[38;5;132;43;01m{\u001b[39;49;00m\u001b[43mnombre_usuario\u001b[49m\u001b[38;5;132;43;01m}\u001b[39;49;00m\u001b[38;5;124;43m.DERCOPARTS/DERCO CHILE REPUESTOS SpA/Planificación y abastecimiento - Documentoss/KPI/Instock Semanal/Bases Vigencias\u001b[39;49m\u001b[38;5;124;43m'\u001b[39;49m\u001b[43m \u001b[49m\u001b[38;5;241;43m+\u001b[39;49m\u001b[43m \u001b[49m\u001b[38;5;124;43mf\u001b[39;49m\u001b[38;5;124;43m'\u001b[39;49m\u001b[38;5;124;43m/BASE VIGENCIAS \u001b[39;49m\u001b[38;5;132;43;01m{\u001b[39;49;00m\u001b[43mnombre_mes\u001b[49m\u001b[38;5;132;43;01m}\u001b[39;49;00m\u001b[38;5;124;43m SEM \u001b[39;49m\u001b[38;5;132;43;01m{\u001b[39;49;00m\u001b[43mnumero_semana\u001b[49m\u001b[38;5;132;43;01m}\u001b[39;49;00m\u001b[38;5;124;43m.xlsx\u001b[39;49m\u001b[38;5;124;43m'\u001b[39;49m\u001b[43m)\u001b[49m\n",
      "File \u001b[1;32mc:\\Users\\etorres.DERCOPARTS\\AppData\\Local\\Programs\\Python\\Python312\\Lib\\site-packages\\pandas\\util\\_decorators.py:333\u001b[0m, in \u001b[0;36mdeprecate_nonkeyword_arguments.<locals>.decorate.<locals>.wrapper\u001b[1;34m(*args, **kwargs)\u001b[0m\n\u001b[0;32m    327\u001b[0m \u001b[38;5;28;01mif\u001b[39;00m \u001b[38;5;28mlen\u001b[39m(args) \u001b[38;5;241m>\u001b[39m num_allow_args:\n\u001b[0;32m    328\u001b[0m     warnings\u001b[38;5;241m.\u001b[39mwarn(\n\u001b[0;32m    329\u001b[0m         msg\u001b[38;5;241m.\u001b[39mformat(arguments\u001b[38;5;241m=\u001b[39m_format_argument_list(allow_args)),\n\u001b[0;32m    330\u001b[0m         \u001b[38;5;167;01mFutureWarning\u001b[39;00m,\n\u001b[0;32m    331\u001b[0m         stacklevel\u001b[38;5;241m=\u001b[39mfind_stack_level(),\n\u001b[0;32m    332\u001b[0m     )\n\u001b[1;32m--> 333\u001b[0m \u001b[38;5;28;01mreturn\u001b[39;00m \u001b[43mfunc\u001b[49m\u001b[43m(\u001b[49m\u001b[38;5;241;43m*\u001b[39;49m\u001b[43margs\u001b[49m\u001b[43m,\u001b[49m\u001b[43m \u001b[49m\u001b[38;5;241;43m*\u001b[39;49m\u001b[38;5;241;43m*\u001b[39;49m\u001b[43mkwargs\u001b[49m\u001b[43m)\u001b[49m\n",
      "File \u001b[1;32mc:\\Users\\etorres.DERCOPARTS\\AppData\\Local\\Programs\\Python\\Python312\\Lib\\site-packages\\pandas\\core\\generic.py:2417\u001b[0m, in \u001b[0;36mNDFrame.to_excel\u001b[1;34m(self, excel_writer, sheet_name, na_rep, float_format, columns, header, index, index_label, startrow, startcol, engine, merge_cells, inf_rep, freeze_panes, storage_options, engine_kwargs)\u001b[0m\n\u001b[0;32m   2404\u001b[0m \u001b[38;5;28;01mfrom\u001b[39;00m \u001b[38;5;21;01mpandas\u001b[39;00m\u001b[38;5;21;01m.\u001b[39;00m\u001b[38;5;21;01mio\u001b[39;00m\u001b[38;5;21;01m.\u001b[39;00m\u001b[38;5;21;01mformats\u001b[39;00m\u001b[38;5;21;01m.\u001b[39;00m\u001b[38;5;21;01mexcel\u001b[39;00m \u001b[38;5;28;01mimport\u001b[39;00m ExcelFormatter\n\u001b[0;32m   2406\u001b[0m formatter \u001b[38;5;241m=\u001b[39m ExcelFormatter(\n\u001b[0;32m   2407\u001b[0m     df,\n\u001b[0;32m   2408\u001b[0m     na_rep\u001b[38;5;241m=\u001b[39mna_rep,\n\u001b[1;32m   (...)\u001b[0m\n\u001b[0;32m   2415\u001b[0m     inf_rep\u001b[38;5;241m=\u001b[39minf_rep,\n\u001b[0;32m   2416\u001b[0m )\n\u001b[1;32m-> 2417\u001b[0m \u001b[43mformatter\u001b[49m\u001b[38;5;241;43m.\u001b[39;49m\u001b[43mwrite\u001b[49m\u001b[43m(\u001b[49m\n\u001b[0;32m   2418\u001b[0m \u001b[43m    \u001b[49m\u001b[43mexcel_writer\u001b[49m\u001b[43m,\u001b[49m\n\u001b[0;32m   2419\u001b[0m \u001b[43m    \u001b[49m\u001b[43msheet_name\u001b[49m\u001b[38;5;241;43m=\u001b[39;49m\u001b[43msheet_name\u001b[49m\u001b[43m,\u001b[49m\n\u001b[0;32m   2420\u001b[0m \u001b[43m    \u001b[49m\u001b[43mstartrow\u001b[49m\u001b[38;5;241;43m=\u001b[39;49m\u001b[43mstartrow\u001b[49m\u001b[43m,\u001b[49m\n\u001b[0;32m   2421\u001b[0m \u001b[43m    \u001b[49m\u001b[43mstartcol\u001b[49m\u001b[38;5;241;43m=\u001b[39;49m\u001b[43mstartcol\u001b[49m\u001b[43m,\u001b[49m\n\u001b[0;32m   2422\u001b[0m \u001b[43m    \u001b[49m\u001b[43mfreeze_panes\u001b[49m\u001b[38;5;241;43m=\u001b[39;49m\u001b[43mfreeze_panes\u001b[49m\u001b[43m,\u001b[49m\n\u001b[0;32m   2423\u001b[0m \u001b[43m    \u001b[49m\u001b[43mengine\u001b[49m\u001b[38;5;241;43m=\u001b[39;49m\u001b[43mengine\u001b[49m\u001b[43m,\u001b[49m\n\u001b[0;32m   2424\u001b[0m \u001b[43m    \u001b[49m\u001b[43mstorage_options\u001b[49m\u001b[38;5;241;43m=\u001b[39;49m\u001b[43mstorage_options\u001b[49m\u001b[43m,\u001b[49m\n\u001b[0;32m   2425\u001b[0m \u001b[43m    \u001b[49m\u001b[43mengine_kwargs\u001b[49m\u001b[38;5;241;43m=\u001b[39;49m\u001b[43mengine_kwargs\u001b[49m\u001b[43m,\u001b[49m\n\u001b[0;32m   2426\u001b[0m \u001b[43m\u001b[49m\u001b[43m)\u001b[49m\n",
      "File \u001b[1;32mc:\\Users\\etorres.DERCOPARTS\\AppData\\Local\\Programs\\Python\\Python312\\Lib\\site-packages\\pandas\\io\\formats\\excel.py:943\u001b[0m, in \u001b[0;36mExcelFormatter.write\u001b[1;34m(self, writer, sheet_name, startrow, startcol, freeze_panes, engine, storage_options, engine_kwargs)\u001b[0m\n\u001b[0;32m    941\u001b[0m     need_save \u001b[38;5;241m=\u001b[39m \u001b[38;5;28;01mFalse\u001b[39;00m\n\u001b[0;32m    942\u001b[0m \u001b[38;5;28;01melse\u001b[39;00m:\n\u001b[1;32m--> 943\u001b[0m     writer \u001b[38;5;241m=\u001b[39m \u001b[43mExcelWriter\u001b[49m\u001b[43m(\u001b[49m\n\u001b[0;32m    944\u001b[0m \u001b[43m        \u001b[49m\u001b[43mwriter\u001b[49m\u001b[43m,\u001b[49m\n\u001b[0;32m    945\u001b[0m \u001b[43m        \u001b[49m\u001b[43mengine\u001b[49m\u001b[38;5;241;43m=\u001b[39;49m\u001b[43mengine\u001b[49m\u001b[43m,\u001b[49m\n\u001b[0;32m    946\u001b[0m \u001b[43m        \u001b[49m\u001b[43mstorage_options\u001b[49m\u001b[38;5;241;43m=\u001b[39;49m\u001b[43mstorage_options\u001b[49m\u001b[43m,\u001b[49m\n\u001b[0;32m    947\u001b[0m \u001b[43m        \u001b[49m\u001b[43mengine_kwargs\u001b[49m\u001b[38;5;241;43m=\u001b[39;49m\u001b[43mengine_kwargs\u001b[49m\u001b[43m,\u001b[49m\n\u001b[0;32m    948\u001b[0m \u001b[43m    \u001b[49m\u001b[43m)\u001b[49m\n\u001b[0;32m    949\u001b[0m     need_save \u001b[38;5;241m=\u001b[39m \u001b[38;5;28;01mTrue\u001b[39;00m\n\u001b[0;32m    951\u001b[0m \u001b[38;5;28;01mtry\u001b[39;00m:\n",
      "File \u001b[1;32mc:\\Users\\etorres.DERCOPARTS\\AppData\\Local\\Programs\\Python\\Python312\\Lib\\site-packages\\pandas\\io\\excel\\_xlsxwriter.py:204\u001b[0m, in \u001b[0;36mXlsxWriter.__init__\u001b[1;34m(self, path, engine, date_format, datetime_format, mode, storage_options, if_sheet_exists, engine_kwargs, **kwargs)\u001b[0m\n\u001b[0;32m    201\u001b[0m \u001b[38;5;28;01mif\u001b[39;00m mode \u001b[38;5;241m==\u001b[39m \u001b[38;5;124m\"\u001b[39m\u001b[38;5;124ma\u001b[39m\u001b[38;5;124m\"\u001b[39m:\n\u001b[0;32m    202\u001b[0m     \u001b[38;5;28;01mraise\u001b[39;00m \u001b[38;5;167;01mValueError\u001b[39;00m(\u001b[38;5;124m\"\u001b[39m\u001b[38;5;124mAppend mode is not supported with xlsxwriter!\u001b[39m\u001b[38;5;124m\"\u001b[39m)\n\u001b[1;32m--> 204\u001b[0m \u001b[38;5;28;43msuper\u001b[39;49m\u001b[43m(\u001b[49m\u001b[43m)\u001b[49m\u001b[38;5;241;43m.\u001b[39;49m\u001b[38;5;21;43m__init__\u001b[39;49m\u001b[43m(\u001b[49m\n\u001b[0;32m    205\u001b[0m \u001b[43m    \u001b[49m\u001b[43mpath\u001b[49m\u001b[43m,\u001b[49m\n\u001b[0;32m    206\u001b[0m \u001b[43m    \u001b[49m\u001b[43mengine\u001b[49m\u001b[38;5;241;43m=\u001b[39;49m\u001b[43mengine\u001b[49m\u001b[43m,\u001b[49m\n\u001b[0;32m    207\u001b[0m \u001b[43m    \u001b[49m\u001b[43mdate_format\u001b[49m\u001b[38;5;241;43m=\u001b[39;49m\u001b[43mdate_format\u001b[49m\u001b[43m,\u001b[49m\n\u001b[0;32m    208\u001b[0m \u001b[43m    \u001b[49m\u001b[43mdatetime_format\u001b[49m\u001b[38;5;241;43m=\u001b[39;49m\u001b[43mdatetime_format\u001b[49m\u001b[43m,\u001b[49m\n\u001b[0;32m    209\u001b[0m \u001b[43m    \u001b[49m\u001b[43mmode\u001b[49m\u001b[38;5;241;43m=\u001b[39;49m\u001b[43mmode\u001b[49m\u001b[43m,\u001b[49m\n\u001b[0;32m    210\u001b[0m \u001b[43m    \u001b[49m\u001b[43mstorage_options\u001b[49m\u001b[38;5;241;43m=\u001b[39;49m\u001b[43mstorage_options\u001b[49m\u001b[43m,\u001b[49m\n\u001b[0;32m    211\u001b[0m \u001b[43m    \u001b[49m\u001b[43mif_sheet_exists\u001b[49m\u001b[38;5;241;43m=\u001b[39;49m\u001b[43mif_sheet_exists\u001b[49m\u001b[43m,\u001b[49m\n\u001b[0;32m    212\u001b[0m \u001b[43m    \u001b[49m\u001b[43mengine_kwargs\u001b[49m\u001b[38;5;241;43m=\u001b[39;49m\u001b[43mengine_kwargs\u001b[49m\u001b[43m,\u001b[49m\n\u001b[0;32m    213\u001b[0m \u001b[43m\u001b[49m\u001b[43m)\u001b[49m\n\u001b[0;32m    215\u001b[0m \u001b[38;5;28;01mtry\u001b[39;00m:\n\u001b[0;32m    216\u001b[0m     \u001b[38;5;28mself\u001b[39m\u001b[38;5;241m.\u001b[39m_book \u001b[38;5;241m=\u001b[39m Workbook(\u001b[38;5;28mself\u001b[39m\u001b[38;5;241m.\u001b[39m_handles\u001b[38;5;241m.\u001b[39mhandle, \u001b[38;5;241m*\u001b[39m\u001b[38;5;241m*\u001b[39mengine_kwargs)\n",
      "File \u001b[1;32mc:\\Users\\etorres.DERCOPARTS\\AppData\\Local\\Programs\\Python\\Python312\\Lib\\site-packages\\pandas\\io\\excel\\_base.py:1246\u001b[0m, in \u001b[0;36mExcelWriter.__init__\u001b[1;34m(self, path, engine, date_format, datetime_format, mode, storage_options, if_sheet_exists, engine_kwargs)\u001b[0m\n\u001b[0;32m   1242\u001b[0m \u001b[38;5;28mself\u001b[39m\u001b[38;5;241m.\u001b[39m_handles \u001b[38;5;241m=\u001b[39m IOHandles(\n\u001b[0;32m   1243\u001b[0m     cast(IO[\u001b[38;5;28mbytes\u001b[39m], path), compression\u001b[38;5;241m=\u001b[39m{\u001b[38;5;124m\"\u001b[39m\u001b[38;5;124mcompression\u001b[39m\u001b[38;5;124m\"\u001b[39m: \u001b[38;5;28;01mNone\u001b[39;00m}\n\u001b[0;32m   1244\u001b[0m )\n\u001b[0;32m   1245\u001b[0m \u001b[38;5;28;01mif\u001b[39;00m \u001b[38;5;129;01mnot\u001b[39;00m \u001b[38;5;28misinstance\u001b[39m(path, ExcelWriter):\n\u001b[1;32m-> 1246\u001b[0m     \u001b[38;5;28mself\u001b[39m\u001b[38;5;241m.\u001b[39m_handles \u001b[38;5;241m=\u001b[39m \u001b[43mget_handle\u001b[49m\u001b[43m(\u001b[49m\n\u001b[0;32m   1247\u001b[0m \u001b[43m        \u001b[49m\u001b[43mpath\u001b[49m\u001b[43m,\u001b[49m\u001b[43m \u001b[49m\u001b[43mmode\u001b[49m\u001b[43m,\u001b[49m\u001b[43m \u001b[49m\u001b[43mstorage_options\u001b[49m\u001b[38;5;241;43m=\u001b[39;49m\u001b[43mstorage_options\u001b[49m\u001b[43m,\u001b[49m\u001b[43m \u001b[49m\u001b[43mis_text\u001b[49m\u001b[38;5;241;43m=\u001b[39;49m\u001b[38;5;28;43;01mFalse\u001b[39;49;00m\n\u001b[0;32m   1248\u001b[0m \u001b[43m    \u001b[49m\u001b[43m)\u001b[49m\n\u001b[0;32m   1249\u001b[0m \u001b[38;5;28mself\u001b[39m\u001b[38;5;241m.\u001b[39m_cur_sheet \u001b[38;5;241m=\u001b[39m \u001b[38;5;28;01mNone\u001b[39;00m\n\u001b[0;32m   1251\u001b[0m \u001b[38;5;28;01mif\u001b[39;00m date_format \u001b[38;5;129;01mis\u001b[39;00m \u001b[38;5;28;01mNone\u001b[39;00m:\n",
      "File \u001b[1;32mc:\\Users\\etorres.DERCOPARTS\\AppData\\Local\\Programs\\Python\\Python312\\Lib\\site-packages\\pandas\\io\\common.py:749\u001b[0m, in \u001b[0;36mget_handle\u001b[1;34m(path_or_buf, mode, encoding, compression, memory_map, is_text, errors, storage_options)\u001b[0m\n\u001b[0;32m    747\u001b[0m \u001b[38;5;66;03m# Only for write methods\u001b[39;00m\n\u001b[0;32m    748\u001b[0m \u001b[38;5;28;01mif\u001b[39;00m \u001b[38;5;124m\"\u001b[39m\u001b[38;5;124mr\u001b[39m\u001b[38;5;124m\"\u001b[39m \u001b[38;5;129;01mnot\u001b[39;00m \u001b[38;5;129;01min\u001b[39;00m mode \u001b[38;5;129;01mand\u001b[39;00m is_path:\n\u001b[1;32m--> 749\u001b[0m     \u001b[43mcheck_parent_directory\u001b[49m\u001b[43m(\u001b[49m\u001b[38;5;28;43mstr\u001b[39;49m\u001b[43m(\u001b[49m\u001b[43mhandle\u001b[49m\u001b[43m)\u001b[49m\u001b[43m)\u001b[49m\n\u001b[0;32m    751\u001b[0m \u001b[38;5;28;01mif\u001b[39;00m compression:\n\u001b[0;32m    752\u001b[0m     \u001b[38;5;28;01mif\u001b[39;00m compression \u001b[38;5;241m!=\u001b[39m \u001b[38;5;124m\"\u001b[39m\u001b[38;5;124mzstd\u001b[39m\u001b[38;5;124m\"\u001b[39m:\n\u001b[0;32m    753\u001b[0m         \u001b[38;5;66;03m# compression libraries do not like an explicit text-mode\u001b[39;00m\n",
      "File \u001b[1;32mc:\\Users\\etorres.DERCOPARTS\\AppData\\Local\\Programs\\Python\\Python312\\Lib\\site-packages\\pandas\\io\\common.py:616\u001b[0m, in \u001b[0;36mcheck_parent_directory\u001b[1;34m(path)\u001b[0m\n\u001b[0;32m    614\u001b[0m parent \u001b[38;5;241m=\u001b[39m Path(path)\u001b[38;5;241m.\u001b[39mparent\n\u001b[0;32m    615\u001b[0m \u001b[38;5;28;01mif\u001b[39;00m \u001b[38;5;129;01mnot\u001b[39;00m parent\u001b[38;5;241m.\u001b[39mis_dir():\n\u001b[1;32m--> 616\u001b[0m     \u001b[38;5;28;01mraise\u001b[39;00m \u001b[38;5;167;01mOSError\u001b[39;00m(\u001b[38;5;124mrf\u001b[39m\u001b[38;5;124m\"\u001b[39m\u001b[38;5;124mCannot save file into a non-existent directory: \u001b[39m\u001b[38;5;124m'\u001b[39m\u001b[38;5;132;01m{\u001b[39;00mparent\u001b[38;5;132;01m}\u001b[39;00m\u001b[38;5;124m'\u001b[39m\u001b[38;5;124m\"\u001b[39m)\n",
      "\u001b[1;31mOSError\u001b[0m: Cannot save file into a non-existent directory: 'C:\\Users\\etorres.DERCOPARTS\\DERCO CHILE REPUESTOS SpA\\Planificación y abastecimiento - Documentoss\\KPI\\Instock Semanal\\Bases Vigencias'"
     ]
    }
   ],
   "source": [
    "vigencia = pd.read_excel(f\"C:/Users/{nombre_usuario}.DERCOPARTS/DERCO CHILE REPUESTOS SpA/Planificación y abastecimiento - Documentos/Planificación y Compras Maestros/Vigencias/2024-12 Vigencia Demanda AFM.xlsx\", usecols=['UE','Segmentacion Aftermarket','Categoria ClaCom','CES 01','Mayorista','Sodimac','Easy','Walmart','SMU','Tottus','Retail AP', 'Retail AG', 'Agrupacion ClaCom','Subagrupacion ClaCom',\t'Categoria ClaCom',\t'Subcategoria ClaCom'])\n",
    "#return cadena_de_reemplazo\n",
    "#print(a)\n",
    "\n",
    "\n",
    "\n",
    "vigencia['Segmentacion Aftermarket'] = vigencia['Segmentacion Aftermarket'].replace('SIN SEGMENTACION', 0)\n",
    "vigencia['Segmentacion Aftermarket'] = vigencia['Segmentacion Aftermarket'].replace('NO APLICA', 0)\n",
    "\n",
    "\n",
    "vigencia['Segmentacion Aftermarket'] = vigencia['Segmentacion Aftermarket'].fillna(0)\n",
    "vigencia['Segmentacion Aftermarket'] = vigencia['Segmentacion Aftermarket'].astype(int)\n",
    "\n",
    "\n",
    "def custom_max_zero(column):\n",
    "    if (column == 0).all():\n",
    "        return 0\n",
    "    else:\n",
    "        return column.max()\n",
    "\n",
    "vigencia_agrupada = vigencia.groupby(['UE']).agg({\n",
    "'Segmentacion Aftermarket': custom_max_zero,\n",
    "'CES 01': 'sum',\n",
    "\n",
    "'Mayorista': 'sum',\n",
    "'Sodimac': 'sum',\n",
    "'Easy': 'sum',\n",
    "'Walmart': 'sum',\n",
    "'SMU': 'sum',\n",
    "'Tottus': 'sum',\n",
    "'Retail AP': 'sum',\n",
    "'Retail AG': 'sum',\n",
    "'Agrupacion ClaCom': 'first',\n",
    "'Subagrupacion ClaCom': 'first',\n",
    "'Categoria ClaCom': 'first',\n",
    "'Subcategoria ClaCom': 'first'}).reset_index()\n",
    "\n",
    "vigencia_agrupada['Segmentacion Aftermarket'] = vigencia_agrupada['Segmentacion Aftermarket'].replace(0, 'SIN SEGMENTACION')\n",
    "vigencia_agrupada.to_excel(f'C:/Users/{nombre_usuario}.DERCOPARTS/DERCO CHILE REPUESTOS SpA/Planificación y abastecimiento - Documentoss/KPI/Instock Semanal/Bases Vigencias' + f'/BASE VIGENCIAS {nombre_mes} SEM {numero_semana}.xlsx')\n",
    "\n"
   ]
  },
  {
   "cell_type": "code",
   "execution_count": null,
   "metadata": {},
   "outputs": [
    {
     "data": {
      "text/plain": [
       "3038570.62"
      ]
     },
     "execution_count": 59,
     "metadata": {},
     "output_type": "execute_result"
    }
   ],
   "source": [
    "ventas_v_stock_2['Libre utilización'].sum()\n",
    "# 3478749.0100000002"
   ]
  },
  {
   "cell_type": "code",
   "execution_count": null,
   "metadata": {},
   "outputs": [
    {
     "data": {
      "text/plain": [
       "1579123.5760000001"
      ]
     },
     "execution_count": 60,
     "metadata": {},
     "output_type": "execute_result"
    }
   ],
   "source": [
    "ventas_v_stock_2[ventas_v_stock_2['Nombre Sector']=='Accesorios-Car Care']['Libre utilización'].sum()\n",
    "# rango aprox = 1750786"
   ]
  }
 ],
 "metadata": {
  "kernelspec": {
   "display_name": "Python 3",
   "language": "python",
   "name": "python3"
  },
  "language_info": {
   "codemirror_mode": {
    "name": "ipython",
    "version": 3
   },
   "file_extension": ".py",
   "mimetype": "text/x-python",
   "name": "python",
   "nbconvert_exporter": "python",
   "pygments_lexer": "ipython3",
   "version": "3.12.4"
  }
 },
 "nbformat": 4,
 "nbformat_minor": 2
}
