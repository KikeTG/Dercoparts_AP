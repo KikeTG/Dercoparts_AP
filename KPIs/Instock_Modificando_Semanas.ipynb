{
 "cells": [
  {
   "cell_type": "code",
   "execution_count": 57,
   "metadata": {},
   "outputs": [],
   "source": [
    "import os\n",
    "import pandas as pd\n",
    "import datetime\n",
    "from dateutil.relativedelta import relativedelta   \n",
    "import getpass"
   ]
  },
  {
   "cell_type": "code",
   "execution_count": 58,
   "metadata": {},
   "outputs": [],
   "source": [
    "nombre_usuario = getpass.getuser()\n",
    "#archivo_evolutivo = pd.read_excel(f\"C:/Users/{nombre_usuario}/Grupo Derco/Planificación y Compras Chile - Documentos/Planificación y Compras KPI-Reportes/Instock Semanal/Evolutivo.xlsx\" )\n",
    "# archivo_evolutivo['Venta UMB'] = archivo_evolutivo['Venta UMB']/6\n",
    "hoy = datetime.datetime.today().strftime(\"%Y-%m-%d\")\n",
    "hoy = '2024-07-18'\n"
   ]
  },
  {
   "cell_type": "code",
   "execution_count": 59,
   "metadata": {},
   "outputs": [
    {
     "data": {
      "text/plain": [
       "'Julio'"
      ]
     },
     "execution_count": 59,
     "metadata": {},
     "output_type": "execute_result"
    }
   ],
   "source": [
    "def obtener_nombre_mes(numero_mes):\n",
    "    meses = {\n",
    "        1: \"Enero\",\n",
    "        2: \"Febrero\",\n",
    "        3: \"Marzo\",\n",
    "        4: \"Abril\",\n",
    "        5: \"Mayo\",\n",
    "        6: \"Junio\",\n",
    "        7: \"Julio\",\n",
    "        8: \"Agosto\",\n",
    "        9: \"Septiembre\",\n",
    "        10: \"Octubre\",\n",
    "        11: \"Noviembre\",\n",
    "        12: \"Diciembre\"\n",
    "    }\n",
    "    return meses.get(numero_mes, \"Mes no válido\")\n",
    "nombre_mes = obtener_nombre_mes(datetime.date.today().month)\n",
    "nombre_mes = 'Julio'\n",
    "nombre_mes"
   ]
  },
  {
   "cell_type": "code",
   "execution_count": 60,
   "metadata": {},
   "outputs": [],
   "source": [
    "dtype ={'UE': str}\n",
    "valores_permitidos = ['Accesorios-Car Care','Rep.Alter.Maquinaria','Repuesto Alternativo','Baterías','Neumáticos','Lubricantes']\n",
    "mara_ue = pd.read_excel(f\"C:/Users/{nombre_usuario}.DERCOPARTS/DERCO CHILE REPUESTOS SpA/Planificación y abastecimiento - Documentos/KPI/Instock Semanal/Maestra Aftermarket Actualizable.xlsx\", usecols=['UE','Nombre Sector'], dtype= dtype)\n",
    "mara_ue = mara_ue.drop_duplicates(subset=['UE'])\n",
    "mara_filtrada = mara_ue[mara_ue['Nombre Sector'].isin(valores_permitidos)]\n",
    "# mara_filtrada['UE'] = mara_filtrada['UE'].astype('str')\n",
    "\n",
    "mara_filtrada.loc[:, 'UE'] = mara_filtrada['UE'].astype(str)\n",
    "mara_filtrada.loc[:, 'UE'] = mara_filtrada['UE']"
   ]
  },
  {
   "cell_type": "code",
   "execution_count": 61,
   "metadata": {},
   "outputs": [
    {
     "name": "stdout",
     "output_type": "stream",
     "text": [
      "   Material SAP Nº antiguo de material  Cadena de Reemplazo SAP  \\\n",
      "0      100470.0                8005912                      NaN   \n",
      "1      100471.0                8005913                      NaN   \n",
      "2      100472.0          ACC0000028013                      NaN   \n",
      "3      100473.0                8005914                      NaN   \n",
      "4      100474.0                8005915                      NaN   \n",
      "\n",
      "   Codigo de Reemplazo  Sector MU        Nombre Sector  \\\n",
      "0                  NaN       48.0  Accesorios-Car Care   \n",
      "1                  NaN       48.0  Accesorios-Car Care   \n",
      "2                  NaN       48.0  Accesorios-Car Care   \n",
      "3                  NaN       48.0  Accesorios-Car Care   \n",
      "4                  NaN       48.0  Accesorios-Car Care   \n",
      "\n",
      "      Texto breve Material     Texto Flejera (TPV)              Marca  \\\n",
      "0   GENIUS CHICHARRA REVER  GENIUS CHICHARRA REVER                OEM   \n",
      "1  CONSOLA UNIVERSAL NEGRA    CONSOLA UNIVERSAL NG  MARCA ALTERNATIVA   \n",
      "2   JGO TAPAS RUEDA ARO 13    JUEGO TAPA RUEDA 13P  MARCA ALTERNATIVA   \n",
      "3        TYPE R LUZ MAPERA       LUZ MAPERA TYPE R             TYPE R   \n",
      "4  MALET.STD 122X086 NEGRO    MALET.STD 122x086 NG  MARCA ALTERNATIVA   \n",
      "\n",
      "  Marca Representativa  ... Cantidad del RRII en CJ Tipo Moneda  \\\n",
      "0       REPRESENTACION  ...                     NaN         NaN   \n",
      "1              MERCADO  ...                     NaN         NaN   \n",
      "2              MERCADO  ...                     NaN         NaN   \n",
      "3              MERCADO  ...                     NaN         NaN   \n",
      "4              MERCADO  ...                     1.0         CLP   \n",
      "\n",
      "  Costo RRII en Moneda de Compra Costo RRII en CLP  \\\n",
      "0                            NaN               NaN   \n",
      "1                            NaN               NaN   \n",
      "2                            NaN               NaN   \n",
      "3                            NaN               NaN   \n",
      "4                         9779.0            9779.0   \n",
      "\n",
      "  Costo Reg. Info por Unidad en CLP Clave PIC Número de secuencia    Sku Step  \\\n",
      "0                               NaN       NaN                 NaN  SKU_100470   \n",
      "1                               NaN       NaN                 NaN  SKU_100471   \n",
      "2                               NaN       NaN                 NaN  SKU_100472   \n",
      "3                               NaN       NaN                 NaN  SKU_100473   \n",
      "4                            9779.0       NaN                 NaN  SKU_100474   \n",
      "\n",
      "   Codigo Malo      UE  \n",
      "0          NaN  100470  \n",
      "1          NaN  100471  \n",
      "2          NaN  100472  \n",
      "3          NaN  100473  \n",
      "4          NaN  100474  \n",
      "\n",
      "[5 rows x 115 columns]\n"
     ]
    }
   ],
   "source": [
    "import pandas as pd\n",
    "\n",
    "# Lee el archivo completo sin especificar columnas para verificar los nombres\n",
    "ruta_archivo = f\"C:/Users/{nombre_usuario}.DERCOPARTS/DERCO CHILE REPUESTOS SpA/Planificación y abastecimiento - Documentos/KPI/Instock Semanal/Maestra Aftermarket Actualizable.xlsx\"\n",
    "df = pd.read_excel(ruta_archivo)\n",
    "\n",
    "# Muestra las primeras filas del DataFrame para inspeccionar los nombres de las columnas\n",
    "print(df.head())\n"
   ]
  },
  {
   "cell_type": "code",
   "execution_count": 62,
   "metadata": {},
   "outputs": [
    {
     "name": "stderr",
     "output_type": "stream",
     "text": [
      "C:\\Users\\etorres.DERCOPARTS\\AppData\\Local\\Temp\\ipykernel_2444\\3206226685.py:14: DtypeWarning: Columns (3,15,99,112) have mixed types. Specify dtype option on import or set low_memory=False.\n",
      "  maestra = pd.read_csv(ruta_archivo, delimiter=';', decimal=',', encoding='latin-1')\n"
     ]
    }
   ],
   "source": [
    "import pandas as pd\n",
    "\n",
    "# Definir el nombre del usuario y la fecha actual\n",
    "nombre_usuario = \"etorres\"\n",
    "hoy = \"2024-07-15\"\n",
    "nombre_mes = \"Julio\"  # Ajustar según corresponda\n",
    "numero_semana = \"29\"  # Ajustar según corresponda\n",
    "\n",
    "# Leer la maestra en CSV especificando la codificación\n",
    "ruta_archivo = f\"C:/Users/{nombre_usuario}.DERCOPARTS/DERCO CHILE REPUESTOS SpA/Planificación y abastecimiento - Documentos/KPI/Tubo Semanal/Panel Transit/Maestra Aftermarket Actualizable.csv\"\n",
    "try:\n",
    "    maestra = pd.read_csv(ruta_archivo, delimiter=';', decimal=',', encoding='utf-8')\n",
    "except UnicodeDecodeError:\n",
    "    maestra = pd.read_csv(ruta_archivo, delimiter=';', decimal=',', encoding='latin-1')"
   ]
  },
  {
   "cell_type": "code",
   "execution_count": 63,
   "metadata": {},
   "outputs": [],
   "source": [
    "\n",
    "# Leer el archivo de vigencias en Excel\n",
    "vigencia = pd.read_excel(f\"C:/Users/{nombre_usuario}.DERCOPARTS/DERCO CHILE REPUESTOS SpA/Planificación y abastecimiento - Documentos/Planificación y Compras Maestros/Vigencias/{hoy[:7]} Vigencia Demanda AFM.xlsx\", usecols=['UE', 'Segmentacion Aftermarket', 'Categoria ClaCom', 'CES 01', 'Mayorista', 'Sodimac', 'Easy', 'Walmart', 'SMU', 'Tottus', 'Retail (AP-AG)', 'Agrupacion ClaCom', 'Subagrupacion ClaCom', 'Categoria ClaCom', 'Subcategoria ClaCom'])\n",
    "\n",
    "# Reemplazar valores en 'Segmentacion Aftermarket'\n",
    "vigencia['Segmentacion Aftermarket'] = vigencia['Segmentacion Aftermarket'].replace('SIN SEGMENTACION', 0)\n",
    "vigencia['Segmentacion Aftermarket'] = vigencia['Segmentacion Aftermarket'].replace('NO APLICA', 0)\n",
    "vigencia['Segmentacion Aftermarket'] = vigencia['Segmentacion Aftermarket'].fillna(0)\n",
    "vigencia['Segmentacion Aftermarket'] = vigencia['Segmentacion Aftermarket'].astype(int)\n"
   ]
  },
  {
   "cell_type": "code",
   "execution_count": 64,
   "metadata": {},
   "outputs": [],
   "source": [
    "\n",
    "\n",
    "# Definir función personalizada para maximo valor o cero\n",
    "def custom_max_zero(column):\n",
    "    if (column == 0).all():\n",
    "        return 0\n",
    "    else:\n",
    "        return column.max()\n",
    "\n",
    "# Agrupar y agregar datos\n",
    "vigencia_agrupada = vigencia.groupby(['UE']).agg({\n",
    "    'Segmentacion Aftermarket': custom_max_zero,\n",
    "    'CES 01': 'sum',\n",
    "    'Mayorista': 'sum',\n",
    "    'Sodimac': 'sum',\n",
    "    'Easy': 'sum',\n",
    "    'Walmart': 'sum',\n",
    "    'SMU': 'sum',\n",
    "    'Tottus': 'sum',\n",
    "    'Retail (AP-AG)': 'sum',\n",
    "    'Agrupacion ClaCom': 'first',\n",
    "    'Subagrupacion ClaCom': 'first',\n",
    "    'Categoria ClaCom': 'first',\n",
    "    'Subcategoria ClaCom': 'first'\n",
    "}).reset_index()\n",
    "\n",
    "# Reemplazar valores en 'Segmentacion Aftermarket'\n",
    "vigencia_agrupada['Segmentacion Aftermarket'] = vigencia_agrupada['Segmentacion Aftermarket'].replace(0, 'SIN SEGMENTACION')\n",
    "\n",
    "# Guardar el resultado en un archivo Excel\n",
    "vigencia_agrupada.to_excel(f'C:/Users/{nombre_usuario}.DERCOPARTS/DERCO CHILE REPUESTOS SpA/Planificación y abastecimiento - Documentos/KPI/Instock Semanal/Bases Vigencias/BASE VIGENCIAS {nombre_mes} SEM {numero_semana}.xlsx', index=False)\n"
   ]
  },
  {
   "cell_type": "code",
   "execution_count": 65,
   "metadata": {},
   "outputs": [
    {
     "data": {
      "text/plain": [
       "29"
      ]
     },
     "execution_count": 65,
     "metadata": {},
     "output_type": "execute_result"
    }
   ],
   "source": [
    "carpeta = f\"C:/Users/{nombre_usuario}.DERCOPARTS/DERCO CHILE REPUESTOS SpA/Planificación y abastecimiento - Documentos/KPI/Tubo Semanal\"\n",
    "carpeta_ventas = f\"C:/Users/{nombre_usuario}.DERCOPARTS/DERCO CHILE REPUESTOS SpA/Planificación y abastecimiento - Documentos/KPI/Tubo Semanal\"\n",
    "#carpeta_destino = f\"C:/Users/{nombre_usuario}/Grupo Derco/Planificación y Compras Chile - Documentos/Planificación y Compras KPI-Reportes/Instock Semanal/SEM {}\".format(datetime.date.today().isocalendar()[1])\n",
    "numero_semana = datetime.datetime.today().isocalendar()[1]\n",
    "numero_semana = 29\n",
    "numero_semana"
   ]
  },
  {
   "cell_type": "code",
   "execution_count": 66,
   "metadata": {},
   "outputs": [
    {
     "data": {
      "text/plain": [
       "'SEM 29'"
      ]
     },
     "execution_count": 66,
     "metadata": {},
     "output_type": "execute_result"
    }
   ],
   "source": [
    "nombre_carpeta = \"SEM {}\".format(datetime.datetime.today().isocalendar()[1])\n",
    "nombre_carpeta = \"SEM 29\"\n",
    "\n",
    "# Specify the path where you want to create the folder\n",
    "ubi_carpeta = f\"C:/Users/{nombre_usuario}.DERCOPARTS/DERCO CHILE REPUESTOS SpA/Planificación y abastecimiento - Documentos/Planificacion y Compras Procesos y Metodos/Pandas/INSTOCK\"\n",
    "\n",
    "# Combine the folder name with the path to create the full path\n",
    "carp_semana_instock = os.path.join(ubi_carpeta, nombre_carpeta)\n",
    "nombre_carpeta"
   ]
  },
  {
   "cell_type": "code",
   "execution_count": 67,
   "metadata": {},
   "outputs": [
    {
     "data": {
      "text/plain": [
       "'C:/Users/etorres.DERCOPARTS/DERCO CHILE REPUESTOS SpA/Planificación y abastecimiento - Documentos/Planificacion y Compras Procesos y Metodos/Pandas/INSTOCK\\\\SEM 29'"
      ]
     },
     "execution_count": 67,
     "metadata": {},
     "output_type": "execute_result"
    }
   ],
   "source": [
    "carp_semana_instock\t"
   ]
  },
  {
   "cell_type": "code",
   "execution_count": 68,
   "metadata": {},
   "outputs": [
    {
     "name": "stdout",
     "output_type": "stream",
     "text": [
      "C:\\Users\\etorres.DERCOPARTS\\DERCO CHILE REPUESTOS SpA\\Planificación y abastecimiento - Documentos\\KPI\\Tubo Semanal\\2024-07-15\\2024-07-15 Stock S4.XLSX\n"
     ]
    },
    {
     "data": {
      "text/plain": [
       "3230438.008"
      ]
     },
     "execution_count": 68,
     "metadata": {},
     "output_type": "execute_result"
    }
   ],
   "source": [
    "carpetadestino = os.listdir(f\"C:/Users/{nombre_usuario}.DERCOPARTS/DERCO CHILE REPUESTOS SpA/Planificación y abastecimiento - Documentos/KPI/Tubo Semanal\")[-3]\n",
    "stock_destino = os.path.join(f\"C:/Users/{nombre_usuario}.DERCOPARTS/DERCO CHILE REPUESTOS SpA/Planificación y abastecimiento - Documentos//KPI/Tubo Semanal\", carpetadestino)  \n",
    "stock_destino = r\"C:\\Users\\etorres.DERCOPARTS\\DERCO CHILE REPUESTOS SpA\\Planificación y abastecimiento - Documentos\\KPI\\Tubo Semanal\\2024-07-15\"\n",
    "#ruta = stock_destino + '/2023-10-30 - Stock.xlsx'.format(datetime.datetime.today().isocalendar()[1])\n",
    "stock_destino_l = os.listdir(stock_destino)\n",
    "for i  in stock_destino_l:\n",
    "    if 'tock' in i and not 'iendas' in i and not 'añol' in i and 'S4' in i:\n",
    "        ruta = os.path.join(stock_destino, i)\n",
    "        print(ruta)\n",
    "\n",
    "# ruta = f\"C:/Users/{nombre_usuario}.DERCOPARTS/DERCO CHILE REPUESTOS SpA/Planificación y abastecimiento - Documentos CHILE REPUESTOS SpA/Planificación y abastecimiento - Documentos/Planificación y Compras KPI-Reportes/Tubo Semanal/2024-01-02/2024-01-02 - Stock.XLSX\"\n",
    "stock = pd.read_excel(ruta,sheet_name='Sheet1', usecols=['Material', 'Libre utilización'])\n",
    "# #stock = stock.iloc[stock['Almacen'] != 1600]\n",
    "stock_suma = stock.groupby('Material', as_index=False).agg({'Libre utilización': 'sum'})\n",
    "stock_suma['Libre utilización'].sum()                                                                                                                                                                                                                                                                                                                                                           "
   ]
  },
  {
   "cell_type": "code",
   "execution_count": 69,
   "metadata": {},
   "outputs": [
    {
     "data": {
      "text/plain": [
       "'C:\\\\Users\\\\etorres.DERCOPARTS\\\\DERCO CHILE REPUESTOS SpA\\\\Planificación y abastecimiento - Documentos\\\\KPI\\\\Tubo Semanal\\\\2024-07-15'"
      ]
     },
     "execution_count": 69,
     "metadata": {},
     "output_type": "execute_result"
    }
   ],
   "source": [
    "stock_destino"
   ]
  },
  {
   "cell_type": "code",
   "execution_count": 70,
   "metadata": {},
   "outputs": [],
   "source": [
    "# maestro = f\"C:/Users/{nombre_usuario}.DERCOPARTS/DERCO CHILE REPUESTOS SpA/Planificación y abastecimiento - Documentos CHILE REPUESTOS SpA/Planificación y abastecimiento - Documentos/Planificación y Compras Maestros\"\n",
    "# dir_maestro = os.listdir(maestro)\n",
    "# for c_año in dir_maestro:\n",
    "#     if str(datetime.datetime.today().year) in c_año:\n",
    "#         c_carpeta = os.path.join(maestro, c_año)\n",
    "#         c_mes = os.listdir(c_carpeta)\n",
    "#         c_arch = os.path.join(c_carpeta, c_mes[-1])\n",
    "#         archivos = os.listdir(c_arch)\n",
    "#         print(archivos)\n",
    "#         for a in archivos:\n",
    "#             if 'COD_ACTUAL_S4' in a:\n",
    "#                 ruta_cad = os.path.join(c_arch, a)\n",
    "#                 cadena_de_remplazo = pd.read_excel(ruta_cad, usecols= ['Nro_pieza_fabricante_1',\t'Cod_Actual_1'] )\n",
    "              \n",
    "ruta_cad = r\"C:\\Users\\etorres.DERCOPARTS\\DERCO CHILE REPUESTOS SpA\\Planificación y abastecimiento - Documentos\\Planificación y Compras Maestros\\2024\\2024-07\\COD_ACTUAL_S4_20240701.xlsx\"\n",
    "cadena_de_remplazo = pd.read_excel(ruta_cad, usecols=['Nro_pieza_fabricante_1', 'Cod_Actual_1'])\n"
   ]
  },
  {
   "cell_type": "code",
   "execution_count": 71,
   "metadata": {},
   "outputs": [],
   "source": [
    "stock_suma.dtypes\n",
    "stock_suma['Material'] = stock_suma['Material'].astype(str)\n"
   ]
  },
  {
   "cell_type": "code",
   "execution_count": 72,
   "metadata": {},
   "outputs": [
    {
     "name": "stderr",
     "output_type": "stream",
     "text": [
      "C:\\Users\\etorres.DERCOPARTS\\AppData\\Local\\Temp\\ipykernel_2444\\4088269106.py:3: FutureWarning: A value is trying to be set on a copy of a DataFrame or Series through chained assignment using an inplace method.\n",
      "The behavior will change in pandas 3.0. This inplace method will never work because the intermediate object on which we are setting values always behaves as a copy.\n",
      "\n",
      "For example, when doing 'df[col].method(value, inplace=True)', try using 'df.method({col: value}, inplace=True)' or df[col] = df[col].method(value) instead, to perform the operation inplace on the original object.\n",
      "\n",
      "\n",
      "  df['Cod_Actual_1'].fillna(df['Material'], inplace=True)\n"
     ]
    }
   ],
   "source": [
    "df = pd.merge(stock_suma, cadena_de_remplazo, left_on= 'Material', right_on='Nro_pieza_fabricante_1', how= 'left', suffixes=('Cod_Actual_1', '_Cad_reemplazo'))\n",
    "df.drop('Nro_pieza_fabricante_1', axis=1, inplace=True)\n",
    "df['Cod_Actual_1'].fillna(df['Material'], inplace=True)\n",
    "#df['SEM'] = numero_semana\n",
    "df.drop('Material', axis=1, inplace=True)\n",
    "df_suma = df.groupby(['Cod_Actual_1']).agg({'Libre utilización': 'sum'}).reset_index()"
   ]
  },
  {
   "cell_type": "code",
   "execution_count": 73,
   "metadata": {},
   "outputs": [
    {
     "data": {
      "text/plain": [
       "3230438.008"
      ]
     },
     "execution_count": 73,
     "metadata": {},
     "output_type": "execute_result"
    }
   ],
   "source": [
    "df_suma['Libre utilización'].sum()"
   ]
  },
  {
   "cell_type": "code",
   "execution_count": 74,
   "metadata": {},
   "outputs": [],
   "source": [
    "import os\n",
    "import pandas as pd\n",
    "\n",
    "fechas_ventas = []\n",
    "semanas_ventas = ['2024-07-15', '2024-07-09', '2024-07-01', '2024-06-24', '2024-06-17', '2024-06-10', '2024-06-03', '2024-05-27', '2024-05-20', '2024-05-13', '2024-05-07', '2024-04-29']\n",
    "consolidado_ventas = []\n",
    "columnas_ventas = ['Material', 'Venta UMB', 'Semana ISO'] \n",
    "\n",
    "for ventas in semanas_ventas:\n",
    "    ruta_semana_ventas = os.path.join(carpeta_ventas, ventas)\n",
    "    for ventas in os.listdir(ruta_semana_ventas):\n",
    "        if \"Sell\" in ventas and \"Out\" not in ventas and 'R3' not in ventas:\n",
    "            arc_ventas = os.path.join(ruta_semana_ventas, ventas)\n",
    "            \n",
    "            # Intentar leer \"Sheet1\" y si falla, intentar leer \"Hoja1\"\n",
    "            try:\n",
    "                df_temp = pd.read_excel(arc_ventas, sheet_name=\"Sheet1\", nrows=1)\n",
    "            except ValueError:\n",
    "                df_temp = pd.read_excel(arc_ventas, sheet_name=\"Hoja1\", nrows=1)\n",
    "            \n",
    "            if 'Semana ISO' in df_temp.columns:\n",
    "                columnas_ventas = ['Material', 'Venta UMB', 'Semana ISO']\n",
    "            elif 'Semana' in df_temp.columns:\n",
    "                columnas_ventas = ['Material', 'Venta UMB', 'Semana']\n",
    "            else:\n",
    "                raise ValueError(\"Neither 'Semana ISO' nor 'Semana' columns are present in the Excel sheet.\")\n",
    "            \n",
    "            # Intentar leer \"Sheet1\" y si falla, intentar leer \"Hoja1\"\n",
    "            try:\n",
    "                dfv = pd.read_excel(arc_ventas, sheet_name=\"Sheet1\", usecols=columnas_ventas, dtype={'Material': 'str'})\n",
    "            except ValueError:\n",
    "                dfv = pd.read_excel(arc_ventas, sheet_name=\"Hoja1\", usecols=columnas_ventas, dtype={'Material': 'str'})\n",
    "            \n",
    "            fechas_ventas.append(ventas[:10])\n",
    "            consolidado_ventas.append(dfv)\n",
    "\n",
    "df_final_ventas = pd.concat(consolidado_ventas, ignore_index=True)\n"
   ]
  },
  {
   "cell_type": "code",
   "execution_count": 75,
   "metadata": {},
   "outputs": [
    {
     "data": {
      "text/plain": [
       "['2024-07-15',\n",
       " '2024-07-09',\n",
       " '2024-07-01',\n",
       " '2024-06-24',\n",
       " '2024-06-17',\n",
       " '2024-06-10',\n",
       " '2024-06-03',\n",
       " '2024-05-27',\n",
       " '2024-05-20',\n",
       " '2024-05-13',\n",
       " '2024-05-07',\n",
       " '2024-04-29']"
      ]
     },
     "execution_count": 75,
     "metadata": {},
     "output_type": "execute_result"
    }
   ],
   "source": [
    "semanas_ventas"
   ]
  },
  {
   "cell_type": "code",
   "execution_count": 76,
   "metadata": {},
   "outputs": [
    {
     "data": {
      "text/plain": [
       "[      Material  Venta UMB  Semana ISO\n",
       " 0       100485          1          28\n",
       " 1       100492          1          28\n",
       " 2       100497          1          28\n",
       " 3       100499          1          28\n",
       " 4       100499          1          28\n",
       " ...        ...        ...         ...\n",
       " 24501  1171198         12          28\n",
       " 24502  1171198         12          28\n",
       " 24503  1171198         12          28\n",
       " 24504  1171198         12          28\n",
       " 24505  1171201         24          28\n",
       " \n",
       " [24506 rows x 3 columns],\n",
       "       Material  Venta UMB  Semana ISO\n",
       " 0       101796          4          27\n",
       " 1       101796          7          27\n",
       " 2       101796          8          27\n",
       " 3       101796          3          27\n",
       " 4       101796          1          27\n",
       " ...        ...        ...         ...\n",
       " 24674  1161914         12          27\n",
       " 24675  1162177          1          27\n",
       " 24676  1171202         60          27\n",
       " 24677  1171203         60          27\n",
       " 24678  1171203         60          27\n",
       " \n",
       " [24679 rows x 3 columns],\n",
       "       Material  Venta UMB  Semana ISO\n",
       " 0       101083          6          26\n",
       " 1       101283          1          26\n",
       " 2       101613          1          26\n",
       " 3       102731          1          26\n",
       " 4       104057          1          26\n",
       " ...        ...        ...         ...\n",
       " 23538  1163968         24          26\n",
       " 23539  1171092          1          26\n",
       " 23540  1171092          1          26\n",
       " 23541  1171092          1          26\n",
       " 23542  1171092          1          26\n",
       " \n",
       " [23543 rows x 3 columns],\n",
       "       Material  Venta UMB  Semana ISO\n",
       " 0       100842          1          24\n",
       " 1       101067          1          24\n",
       " 2       101796          6          24\n",
       " 3       101796          8          24\n",
       " 4       101796          4          24\n",
       " ...        ...        ...         ...\n",
       " 20209  1161590          1          24\n",
       " 20210  1161777          2          24\n",
       " 20211  1162177          1          24\n",
       " 20212  1162180          1          24\n",
       " 20213  1162226          1          24\n",
       " \n",
       " [20214 rows x 3 columns],\n",
       "       Material  Venta UMB  Semana ISO\n",
       " 0       100842          1          24\n",
       " 1       101067          1          24\n",
       " 2       101796          6          24\n",
       " 3       101796          8          24\n",
       " 4       101796          4          24\n",
       " ...        ...        ...         ...\n",
       " 20209  1161590          1          24\n",
       " 20210  1161777          2          24\n",
       " 20211  1162177          1          24\n",
       " 20212  1162180          1          24\n",
       " 20213  1162226          1          24\n",
       " \n",
       " [20214 rows x 3 columns],\n",
       "       Material  Venta UMB  Semana ISO\n",
       " 0       101290          1          23\n",
       " 1       101796          3          23\n",
       " 2       101796          2          23\n",
       " 3       101796          3          23\n",
       " 4       101796          2          23\n",
       " ...        ...        ...         ...\n",
       " 26480  1171200         24          23\n",
       " 26481  1171200         24          23\n",
       " 26482  1171201         24          23\n",
       " 26483  1171201         24          23\n",
       " 26484  1171201         24          23\n",
       " \n",
       " [26485 rows x 3 columns],\n",
       "       Material  Venta UMB  Semana ISO\n",
       " 0       100486          1          22\n",
       " 1       101796          5          22\n",
       " 2       101796          1          22\n",
       " 3       101796          6          22\n",
       " 4       101796          7          22\n",
       " ...        ...        ...         ...\n",
       " 23582  1171195         24          22\n",
       " 23583  1171200         24          22\n",
       " 23584  1171200         24          22\n",
       " 23585  1171201         24          22\n",
       " 23586  1171201         24          22\n",
       " \n",
       " [23587 rows x 3 columns],\n",
       "       Material  Venta UMB  Semana ISO\n",
       " 0       101796          2          21\n",
       " 1       101796          9          21\n",
       " 2       101796          3          21\n",
       " 3       102571          1          21\n",
       " 4       110184          1          21\n",
       " ...        ...        ...         ...\n",
       " 14618  1161588          2          21\n",
       " 14619  1161590          1          21\n",
       " 14620  1161590          1          21\n",
       " 14621  1161590          1          21\n",
       " 14622  1161590          1          21\n",
       " \n",
       " [14623 rows x 3 columns],\n",
       "       Material  Venta UMB  Semana ISO\n",
       " 0       101796          6          20\n",
       " 1       101796          3          20\n",
       " 2       101796          2          20\n",
       " 3       101796          4          20\n",
       " 4       101796          5          20\n",
       " ...        ...        ...         ...\n",
       " 22053  1171196         24          20\n",
       " 22054  1171197         24          20\n",
       " 22055  1171200         24          20\n",
       " 22056  1171201         24          20\n",
       " 22057  1171203         60          20\n",
       " \n",
       " [22058 rows x 3 columns],\n",
       "       Material  Venta UMB  Semana ISO\n",
       " 0       100483          1          19\n",
       " 1       100495          1          19\n",
       " 2       100495          2          19\n",
       " 3       100495          1          19\n",
       " 4       100842          1          19\n",
       " ...        ...        ...         ...\n",
       " 20035  1161579          1          19\n",
       " 20036  1161579          1          19\n",
       " 20037  1161579          3          19\n",
       " 20038  1161583          2          19\n",
       " 20039  1167582          1          19\n",
       " \n",
       " [20040 rows x 3 columns],\n",
       "       Material  Venta UMB  Semana ISO\n",
       " 0       100483          1          18\n",
       " 1       100483          1          18\n",
       " 2       100483          1          18\n",
       " 3       100483          1          18\n",
       " 4       100484          1          18\n",
       " ...        ...        ...         ...\n",
       " 17360  1171202         60          18\n",
       " 17361  1171202         60          18\n",
       " 17362  1171203         60          18\n",
       " 17363  1171203         60          18\n",
       " 17364  1171203         60          18\n",
       " \n",
       " [17365 rows x 3 columns],\n",
       "       Material  Venta UMB  Semana ISO\n",
       " 0       101796          7          17\n",
       " 1       104073          5          17\n",
       " 2       104080          1          17\n",
       " 3       108943          2          17\n",
       " 4       110184          2          17\n",
       " ...        ...        ...         ...\n",
       " 18178  1161579          3          17\n",
       " 18179  1162129          1          17\n",
       " 18180  1162166          1          17\n",
       " 18181  1162167          1          17\n",
       " 18182  1164779          1          17\n",
       " \n",
       " [18183 rows x 3 columns]]"
      ]
     },
     "execution_count": 76,
     "metadata": {},
     "output_type": "execute_result"
    }
   ],
   "source": [
    "consolidado_ventas"
   ]
  },
  {
   "cell_type": "code",
   "execution_count": 77,
   "metadata": {},
   "outputs": [
    {
     "name": "stdout",
     "output_type": "stream",
     "text": [
      "2074263\n"
     ]
    }
   ],
   "source": [
    "import pandas as pd\n",
    "\n",
    "# Supongamos que consolidado_ventas es una lista de DataFrames\n",
    "# Concatenar todos los DataFrames en uno solo\n",
    "df_consolidado = pd.concat(consolidado_ventas, ignore_index=True)\n",
    "\n",
    "# Convertir la columna 'Venta UMB' a numérico\n",
    "df_consolidado['Venta UMB'] = pd.to_numeric(df_consolidado['Venta UMB'], errors='coerce')\n",
    "\n",
    "# Calcular la suma\n",
    "sm = df_consolidado['Venta UMB'].sum()\n",
    "\n",
    "print(sm)\n"
   ]
  },
  {
   "cell_type": "code",
   "execution_count": 93,
   "metadata": {},
   "outputs": [
    {
     "name": "stdout",
     "output_type": "stream",
     "text": [
      "Suma en consolidado_ventas: 2074263\n",
      "Suma en df_final_ventas: 2074263\n"
     ]
    }
   ],
   "source": [
    "import numpy as np\n",
    "\n",
    "suma_consolidado = np.sum([df['Venta UMB'].sum() for df in consolidado_ventas])\n",
    "suma_final = df_final_ventas['Venta UMB'].sum()\n",
    "\n",
    "print(f\"Suma en consolidado_ventas: {suma_consolidado}\")\n",
    "print(f\"Suma en df_final_ventas: {suma_final}\")\n"
   ]
  },
  {
   "cell_type": "code",
   "execution_count": 92,
   "metadata": {},
   "outputs": [
    {
     "name": "stdout",
     "output_type": "stream",
     "text": [
      "Para el promedio de ventas se tomaron los archivos correspondientes a las siguientes fechas: \n",
      "2024.07.15, 2024.07.09, 2024.07.01, 2024.06.25, 2024.06.17, 2024.06.10, 2024-06-03, 2024-05-27, 2024-05-20, 2024-05-13, 2024-05-06, 2024-04-29\n"
     ]
    },
    {
     "name": "stderr",
     "output_type": "stream",
     "text": [
      "C:\\Users\\etorres.DERCOPARTS\\AppData\\Local\\Temp\\ipykernel_2444\\400393310.py:8: FutureWarning: A value is trying to be set on a copy of a DataFrame or Series through chained assignment using an inplace method.\n",
      "The behavior will change in pandas 3.0. This inplace method will never work because the intermediate object on which we are setting values always behaves as a copy.\n",
      "\n",
      "For example, when doing 'df[col].method(value, inplace=True)', try using 'df.method({col: value}, inplace=True)' or df[col] = df[col].method(value) instead, to perform the operation inplace on the original object.\n",
      "\n",
      "\n",
      "  df['Cod_Actual_1'].fillna(df['Material'], inplace=True)\n"
     ]
    }
   ],
   "source": [
    "\n",
    "df_final_ventas = df_final_ventas.groupby(['Material', 'Semana ISO'])['Venta UMB'].sum().reset_index()\n",
    "df_final_ventas.drop(['Semana ISO'], axis=1)\n",
    "df_final_ventas = df_final_ventas.groupby(['Material'])['Venta UMB'].sum().reset_index()\n",
    "\n",
    "df = pd.merge(df_final_ventas, cadena_de_remplazo, left_on= 'Material', right_on='Nro_pieza_fabricante_1', how= 'left', suffixes=('Cod_Actual_1', '_Cad_reemplazo'))\n",
    "df.drop('Nro_pieza_fabricante_1', axis=1, inplace=True)\n",
    "df['Cod_Actual_1'].fillna(df['Material'], inplace=True)\n",
    "#df['SEM'] = numero_semana\n",
    "df.drop('Material', axis=1, inplace=True)\n",
    "ventas_suma = df.groupby(['Cod_Actual_1']).agg({'Venta UMB': 'sum'}).reset_index()\n",
    "\n",
    "\n",
    "#ventas_suma.to_excel(ruta_destino, index= False)\n",
    "print('Para el promedio de ventas se tomaron los archivos correspondientes a las siguientes fechas: ' + \"\\n\" + ', '.join(str(ventas) for ventas in fechas_ventas))\n"
   ]
  },
  {
   "cell_type": "code",
   "execution_count": 94,
   "metadata": {},
   "outputs": [
    {
     "data": {
      "text/plain": [
       "345710.5"
      ]
     },
     "execution_count": 94,
     "metadata": {},
     "output_type": "execute_result"
    }
   ],
   "source": [
    "sum=ventas_suma['Venta UMB'].sum()/6\n",
    "sum"
   ]
  },
  {
   "cell_type": "code",
   "execution_count": 95,
   "metadata": {},
   "outputs": [
    {
     "data": {
      "text/html": [
       "<div>\n",
       "<style scoped>\n",
       "    .dataframe tbody tr th:only-of-type {\n",
       "        vertical-align: middle;\n",
       "    }\n",
       "\n",
       "    .dataframe tbody tr th {\n",
       "        vertical-align: top;\n",
       "    }\n",
       "\n",
       "    .dataframe thead th {\n",
       "        text-align: right;\n",
       "    }\n",
       "</style>\n",
       "<table border=\"1\" class=\"dataframe\">\n",
       "  <thead>\n",
       "    <tr style=\"text-align: right;\">\n",
       "      <th></th>\n",
       "      <th>Material</th>\n",
       "      <th>Venta UMB</th>\n",
       "    </tr>\n",
       "  </thead>\n",
       "  <tbody>\n",
       "    <tr>\n",
       "      <th>0</th>\n",
       "      <td>1000147</td>\n",
       "      <td>132</td>\n",
       "    </tr>\n",
       "    <tr>\n",
       "      <th>1</th>\n",
       "      <td>1000148</td>\n",
       "      <td>528</td>\n",
       "    </tr>\n",
       "    <tr>\n",
       "      <th>2</th>\n",
       "      <td>1000149</td>\n",
       "      <td>565</td>\n",
       "    </tr>\n",
       "    <tr>\n",
       "      <th>3</th>\n",
       "      <td>1000150</td>\n",
       "      <td>800</td>\n",
       "    </tr>\n",
       "    <tr>\n",
       "      <th>4</th>\n",
       "      <td>1000151</td>\n",
       "      <td>116</td>\n",
       "    </tr>\n",
       "  </tbody>\n",
       "</table>\n",
       "</div>"
      ],
      "text/plain": [
       "  Material  Venta UMB\n",
       "0  1000147        132\n",
       "1  1000148        528\n",
       "2  1000149        565\n",
       "3  1000150        800\n",
       "4  1000151        116"
      ]
     },
     "execution_count": 95,
     "metadata": {},
     "output_type": "execute_result"
    }
   ],
   "source": [
    "df_final_ventas.head()"
   ]
  },
  {
   "cell_type": "code",
   "execution_count": 96,
   "metadata": {},
   "outputs": [
    {
     "data": {
      "text/plain": [
       "12"
      ]
     },
     "execution_count": 96,
     "metadata": {},
     "output_type": "execute_result"
    }
   ],
   "source": [
    "len(fechas_ventas)"
   ]
  },
  {
   "cell_type": "code",
   "execution_count": 97,
   "metadata": {},
   "outputs": [
    {
     "data": {
      "text/plain": [
       "(9298, 2)"
      ]
     },
     "execution_count": 97,
     "metadata": {},
     "output_type": "execute_result"
    }
   ],
   "source": [
    "df.shape\n"
   ]
  },
  {
   "cell_type": "code",
   "execution_count": 98,
   "metadata": {},
   "outputs": [
    {
     "name": "stderr",
     "output_type": "stream",
     "text": [
      "C:\\Users\\etorres.DERCOPARTS\\AppData\\Local\\Temp\\ipykernel_2444\\2179033813.py:16: FutureWarning: A value is trying to be set on a copy of a DataFrame or Series through chained assignment using an inplace method.\n",
      "The behavior will change in pandas 3.0. This inplace method will never work because the intermediate object on which we are setting values always behaves as a copy.\n",
      "\n",
      "For example, when doing 'df[col].method(value, inplace=True)', try using 'df.method({col: value}, inplace=True)' or df[col] = df[col].method(value) instead, to perform the operation inplace on the original object.\n",
      "\n",
      "\n",
      "  ventas_v_stock_2['Libre utilización'].fillna(0, inplace=True)\n",
      "C:\\Users\\etorres.DERCOPARTS\\AppData\\Local\\Temp\\ipykernel_2444\\2179033813.py:17: FutureWarning: A value is trying to be set on a copy of a DataFrame or Series through chained assignment using an inplace method.\n",
      "The behavior will change in pandas 3.0. This inplace method will never work because the intermediate object on which we are setting values always behaves as a copy.\n",
      "\n",
      "For example, when doing 'df[col].method(value, inplace=True)', try using 'df.method({col: value}, inplace=True)' or df[col] = df[col].method(value) instead, to perform the operation inplace on the original object.\n",
      "\n",
      "\n",
      "  ventas_v_stock_2['Venta UMB'].fillna(0, inplace=True)\n"
     ]
    }
   ],
   "source": [
    "ventas_v_stock = pd.merge(mara_filtrada ,ventas_suma, left_on='UE',right_on='Cod_Actual_1', how= 'left', suffixes=('_Venta UMB', 'Venta UMB'))\n",
    "\n",
    "\n",
    "#ventas_v_stock['SEMANA'] = datetime.datetime.today().isocalendar()[1]\n",
    "#ventas_v_stock.drop('Material', axis=1, inplace=True)\n",
    "\n",
    "#DESDE LA ANTERIOR TRAER STOCK\n",
    "\n",
    "ventas_v_stock_2 = pd.merge(ventas_v_stock, df_suma, left_on='UE', right_on='Cod_Actual_1', how='left', suffixes=('_Libre utilización', 'Stock'))\n",
    "\n",
    "\n",
    "###PRUEBA DE INCORPORAR INSTOCK EN EL CALCULO INICIAL\n",
    "ventas_v_stock_2['Venta UMB'] = ventas_v_stock_2['Venta UMB'].apply(lambda x: 0 if x < 0 else x)\n",
    "ventas_v_stock_2['Venta UMB'] = ventas_v_stock_2['Venta UMB']/6\n",
    "\n",
    "ventas_v_stock_2['Libre utilización'].fillna(0, inplace=True)\n",
    "ventas_v_stock_2['Venta UMB'].fillna(0, inplace=True)\n",
    "\n"
   ]
  },
  {
   "cell_type": "code",
   "execution_count": 99,
   "metadata": {},
   "outputs": [
    {
     "data": {
      "text/plain": [
       "345497.16666666674"
      ]
     },
     "execution_count": 99,
     "metadata": {},
     "output_type": "execute_result"
    }
   ],
   "source": [
    "sumv=ventas_v_stock_2['Venta UMB'].sum()\n",
    "sumv"
   ]
  },
  {
   "cell_type": "code",
   "execution_count": 101,
   "metadata": {},
   "outputs": [],
   "source": [
    "\n",
    "def aplicar_condicion(row):\n",
    "    if (row['Libre utilización'] - row['Venta UMB']) >= 0:\n",
    "        return 1\n",
    "    else:\n",
    "        return 0\n",
    "\n",
    "# Aplicar la función usando apply y lambda\n",
    "ventas_v_stock_2['Instock'] = ventas_v_stock_2.apply(lambda row: aplicar_condicion(row), axis=1)\n",
    "#ventas_v_stock.to_excel(carpeta_destino + '/BASE INSTOCK SEM {}.xlsx'.format(numero_semana,numero_semana))\n",
    "# ventas_v_stock_2.to_excel(f\"C:/Users/{nombre_usuario}.DERCOPARTS/DERCO CHILE REPUESTOS SpA/Planificación y abastecimiento - Documentos CHILE REPUESTOS SpA/Planificación y abastecimiento - Documentos/Planificación y Compras KPI-Reportes/Instock Semanal/Bases Instock/2024 Base INSTOCK {nombre_mes} sem {datetime.datetime.today().isocalendar()[1]}.xlsx\")\n",
    "ventas_v_stock_2.to_excel(f\"C:/Users/{nombre_usuario}.DERCOPARTS/DERCO CHILE REPUESTOS SpA/Planificación y abastecimiento - Documentos/kpi/Instock Semanal/Bases Instock/2024 Base INSTOCK {nombre_mes} sem 29.xlsx\")"
   ]
  },
  {
   "cell_type": "code",
   "execution_count": 102,
   "metadata": {},
   "outputs": [
    {
     "data": {
      "text/plain": [
       "2071310.0"
      ]
     },
     "execution_count": 102,
     "metadata": {},
     "output_type": "execute_result"
    }
   ],
   "source": [
    "ventas_v_stock['Venta UMB'].sum()\n",
    "#rango aprox 3638452.0"
   ]
  },
  {
   "cell_type": "code",
   "execution_count": 103,
   "metadata": {},
   "outputs": [
    {
     "data": {
      "text/html": [
       "<div>\n",
       "<style scoped>\n",
       "    .dataframe tbody tr th:only-of-type {\n",
       "        vertical-align: middle;\n",
       "    }\n",
       "\n",
       "    .dataframe tbody tr th {\n",
       "        vertical-align: top;\n",
       "    }\n",
       "\n",
       "    .dataframe thead th {\n",
       "        text-align: right;\n",
       "    }\n",
       "</style>\n",
       "<table border=\"1\" class=\"dataframe\">\n",
       "  <thead>\n",
       "    <tr style=\"text-align: right;\">\n",
       "      <th></th>\n",
       "      <th>Cod_Actual_1</th>\n",
       "      <th>Venta UMB</th>\n",
       "    </tr>\n",
       "  </thead>\n",
       "  <tbody>\n",
       "    <tr>\n",
       "      <th>0</th>\n",
       "      <td>1000147</td>\n",
       "      <td>132</td>\n",
       "    </tr>\n",
       "    <tr>\n",
       "      <th>1</th>\n",
       "      <td>1000148</td>\n",
       "      <td>528</td>\n",
       "    </tr>\n",
       "    <tr>\n",
       "      <th>2</th>\n",
       "      <td>1000149</td>\n",
       "      <td>565</td>\n",
       "    </tr>\n",
       "    <tr>\n",
       "      <th>3</th>\n",
       "      <td>1000150</td>\n",
       "      <td>800</td>\n",
       "    </tr>\n",
       "    <tr>\n",
       "      <th>4</th>\n",
       "      <td>1000151</td>\n",
       "      <td>116</td>\n",
       "    </tr>\n",
       "    <tr>\n",
       "      <th>...</th>\n",
       "      <td>...</td>\n",
       "      <td>...</td>\n",
       "    </tr>\n",
       "    <tr>\n",
       "      <th>9177</th>\n",
       "      <td>750797</td>\n",
       "      <td>1</td>\n",
       "    </tr>\n",
       "    <tr>\n",
       "      <th>9178</th>\n",
       "      <td>750803</td>\n",
       "      <td>1</td>\n",
       "    </tr>\n",
       "    <tr>\n",
       "      <th>9179</th>\n",
       "      <td>750816</td>\n",
       "      <td>7</td>\n",
       "    </tr>\n",
       "    <tr>\n",
       "      <th>9180</th>\n",
       "      <td>752466</td>\n",
       "      <td>15</td>\n",
       "    </tr>\n",
       "    <tr>\n",
       "      <th>9181</th>\n",
       "      <td>762562</td>\n",
       "      <td>2</td>\n",
       "    </tr>\n",
       "  </tbody>\n",
       "</table>\n",
       "<p>9182 rows × 2 columns</p>\n",
       "</div>"
      ],
      "text/plain": [
       "     Cod_Actual_1  Venta UMB\n",
       "0         1000147        132\n",
       "1         1000148        528\n",
       "2         1000149        565\n",
       "3         1000150        800\n",
       "4         1000151        116\n",
       "...           ...        ...\n",
       "9177       750797          1\n",
       "9178       750803          1\n",
       "9179       750816          7\n",
       "9180       752466         15\n",
       "9181       762562          2\n",
       "\n",
       "[9182 rows x 2 columns]"
      ]
     },
     "execution_count": 103,
     "metadata": {},
     "output_type": "execute_result"
    }
   ],
   "source": [
    "ventas_suma"
   ]
  },
  {
   "cell_type": "code",
   "execution_count": 104,
   "metadata": {},
   "outputs": [
    {
     "data": {
      "text/plain": [
       "2071310.0"
      ]
     },
     "execution_count": 104,
     "metadata": {},
     "output_type": "execute_result"
    }
   ],
   "source": [
    "ventas_v_stock['Venta UMB'].sum()"
   ]
  },
  {
   "cell_type": "code",
   "execution_count": 105,
   "metadata": {},
   "outputs": [],
   "source": [
    "vigencia = pd.read_excel(f\"C:/Users/{nombre_usuario}.DERCOPARTS/DERCO CHILE REPUESTOS SpA/Planificación y abastecimiento - Documentos/Planificación y Compras Maestros/Vigencias/{hoy[:7]} Vigencia Demanda AFM.xlsx\", usecols=['UE','Segmentacion Aftermarket','Categoria ClaCom','CES 01','Mayorista','Sodimac','Easy','Walmart','SMU','Tottus','Retail (AP-AG)', 'Agrupacion ClaCom','Subagrupacion ClaCom',\t'Categoria ClaCom',\t'Subcategoria ClaCom'])\n",
    "#return cadena_de_reemplazo\n",
    "#print(a)\n",
    "\n",
    "\n",
    "\n",
    "vigencia['Segmentacion Aftermarket'] = vigencia['Segmentacion Aftermarket'].replace('SIN SEGMENTACION', 0)\n",
    "vigencia['Segmentacion Aftermarket'] = vigencia['Segmentacion Aftermarket'].replace('NO APLICA', 0)\n",
    "\n",
    "\n",
    "vigencia['Segmentacion Aftermarket'] = vigencia['Segmentacion Aftermarket'].fillna(0)\n",
    "vigencia['Segmentacion Aftermarket'] = vigencia['Segmentacion Aftermarket'].astype(int)\n",
    "\n",
    "\n",
    "def custom_max_zero(column):\n",
    "    if (column == 0).all():\n",
    "        return 0\n",
    "    else:\n",
    "        return column.max()\n",
    "\n",
    "vigencia_agrupada = vigencia.groupby(['UE']).agg({\n",
    "'Segmentacion Aftermarket': custom_max_zero,\n",
    "'CES 01': 'sum',\n",
    "\n",
    "'Mayorista': 'sum',\n",
    "'Sodimac': 'sum',\n",
    "'Easy': 'sum',\n",
    "'Walmart': 'sum',\n",
    "'SMU': 'sum',\n",
    "'Tottus': 'sum',\n",
    "'Retail (AP-AG)': 'sum',\n",
    "'Agrupacion ClaCom': 'first',\n",
    "'Subagrupacion ClaCom': 'first',\n",
    "'Categoria ClaCom': 'first',\n",
    "'Subcategoria ClaCom': 'first'}).reset_index()\n",
    "\n",
    "vigencia_agrupada['Segmentacion Aftermarket'] = vigencia_agrupada['Segmentacion Aftermarket'].replace(0, 'SIN SEGMENTACION')\n",
    "vigencia_agrupada.to_excel(f'C:/Users/{nombre_usuario}.DERCOPARTS/DERCO CHILE REPUESTOS SpA/Planificación y abastecimiento - Documentos/KPI/Instock Semanal/Bases Vigencias' + f'/BASE VIGENCIAS {nombre_mes} SEM {numero_semana}.xlsx')\n",
    "\n"
   ]
  },
  {
   "cell_type": "code",
   "execution_count": 106,
   "metadata": {},
   "outputs": [],
   "source": [
    "# ventas_v_stock_2['Libre utilización'].sum()"
   ]
  },
  {
   "cell_type": "code",
   "execution_count": 107,
   "metadata": {},
   "outputs": [],
   "source": [
    "# ventas_v_stock_2[ventas_v_stock_2['Nombre Sector']=='Accesorios-Car Care']['Libre utilización'].sum()\n",
    "# # rango aprox = 1750786"
   ]
  }
 ],
 "metadata": {
  "kernelspec": {
   "display_name": "Python 3",
   "language": "python",
   "name": "python3"
  },
  "language_info": {
   "codemirror_mode": {
    "name": "ipython",
    "version": 3
   },
   "file_extension": ".py",
   "mimetype": "text/x-python",
   "name": "python",
   "nbconvert_exporter": "python",
   "pygments_lexer": "ipython3",
   "version": "3.12.4"
  }
 },
 "nbformat": 4,
 "nbformat_minor": 2
}
