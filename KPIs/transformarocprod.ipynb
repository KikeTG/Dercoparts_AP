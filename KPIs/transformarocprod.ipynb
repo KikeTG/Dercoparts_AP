{
 "cells": [
  {
   "cell_type": "code",
   "execution_count": 1,
   "metadata": {},
   "outputs": [],
   "source": [
    "import pandas as pd\n",
    "import os\n",
    "import re\n",
    "from datetime import datetime"
   ]
  },
  {
   "cell_type": "code",
   "execution_count": 2,
   "metadata": {},
   "outputs": [
    {
     "name": "stderr",
     "output_type": "stream",
     "text": [
      "C:\\Users\\etorres.DERCOPARTS\\AppData\\Local\\Temp\\ipykernel_5716\\3926783638.py:13: FutureWarning: DataFrame.applymap has been deprecated. Use DataFrame.map instead.\n",
      "  maestra_prov = maestra_prov.applymap(lambda x: str(x) if isinstance(x, int) else x)\n",
      "C:\\Users\\etorres.DERCOPARTS\\AppData\\Local\\Temp\\ipykernel_5716\\3926783638.py:14: FutureWarning: DataFrame.applymap has been deprecated. Use DataFrame.map instead.\n",
      "  sku_especiales = sku_especiales.applymap(lambda x: str(x) if isinstance(x, int) else x)\n",
      "C:\\Users\\etorres.DERCOPARTS\\AppData\\Local\\Temp\\ipykernel_5716\\3926783638.py:15: FutureWarning: DataFrame.applymap has been deprecated. Use DataFrame.map instead.\n",
      "  df_ME = df_ME.applymap(lambda x: str(x) if isinstance(x, int) else x)\n",
      "c:\\Users\\etorres.DERCOPARTS\\AppData\\Local\\Programs\\Python\\Python312\\Lib\\site-packages\\pandas\\io\\parquet.py:190: UserWarning: The DataFrame has column names of mixed type. They will be converted to strings and not roundtrip correctly.\n",
      "  table = self.api.Table.from_pandas(df, **from_pandas_kwargs)\n"
     ]
    }
   ],
   "source": [
    "user_dir = os.path.expanduser(\"~\")\n",
    "base_dir = os.path.join(user_dir, \"DERCO CHILE REPUESTOS SpA\", \"Planificación y abastecimiento - Documentos\", \"KPI\", \"Data Science\", \"OC_PROD\", \"Base\")\n",
    "files = os.listdir(base_dir)\n",
    "date_pattern = re.compile(r'\\d{8}\\.xlsx$')\n",
    "filtered_files = [f for f in files if date_pattern.search(f)]\n",
    "filtered_files.sort(key=lambda x: datetime.strptime(x[-13:-5], '%d%m%Y'), reverse=True)\n",
    "latest_file = filtered_files[0]\n",
    "file_path = os.path.join(base_dir, latest_file)\n",
    "df_ME = pd.read_excel(file_path, sheet_name='ME2L')\n",
    "df_MP = pd.read_excel(file_path, sheet_name='Maestra Prov')\n",
    "maestra_prov = df_MP.iloc[:, 0:7]\n",
    "sku_especiales = df_MP.iloc[:, 16:19]\n",
    "maestra_prov = maestra_prov.applymap(lambda x: str(x) if isinstance(x, int) else x)\n",
    "sku_especiales = sku_especiales.applymap(lambda x: str(x) if isinstance(x, int) else x)\n",
    "df_ME = df_ME.applymap(lambda x: str(x) if isinstance(x, int) else x)\n",
    "parquet_file_base = latest_file.replace('.xlsx', '.parquet')\n",
    "# maestra_prov.to_parquet(os.path.join(base_dir, f'maestra_prov'))\n",
    "# sku_especiales.to_parquet(os.path.join(base_dir, f'sku_especiales'))\n",
    "df_ME.to_parquet(os.path.join(base_dir, f'{parquet_file_base}'))"
   ]
  },
  {
   "cell_type": "markdown",
   "metadata": {},
   "source": [
    "#Si quisiera Guardar la maestra prov denuevo y los sku especiales ejecutar el siguiente código\n",
    "\n",
    "maestra_prov.to_parquet(os.path.join(base_dir, f'maestra_prov'))\n",
    "\n",
    "sku_especiales.to_parquet(os.path.join(base_dir, f'sku_especiales'))"
   ]
  },
  {
   "cell_type": "markdown",
   "metadata": {},
   "source": [
    "# LEER PAGOS "
   ]
  },
  {
   "cell_type": "code",
   "execution_count": null,
   "metadata": {},
   "outputs": [],
   "source": []
  },
  {
   "cell_type": "markdown",
   "metadata": {},
   "source": [
    "Maestra a parquet"
   ]
  }
 ],
 "metadata": {
  "kernelspec": {
   "display_name": "Python 3",
   "language": "python",
   "name": "python3"
  },
  "language_info": {
   "codemirror_mode": {
    "name": "ipython",
    "version": 3
   },
   "file_extension": ".py",
   "mimetype": "text/x-python",
   "name": "python",
   "nbconvert_exporter": "python",
   "pygments_lexer": "ipython3",
   "version": "3.12.4"
  }
 },
 "nbformat": 4,
 "nbformat_minor": 2
}
