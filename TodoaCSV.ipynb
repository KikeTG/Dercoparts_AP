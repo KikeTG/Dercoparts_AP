{
 "cells": [
  {
   "cell_type": "code",
   "execution_count": 5,
   "metadata": {},
   "outputs": [],
   "source": [
    "import os\n",
    "import pandas as pd\n",
    "\n",
    "# Ruta del directorio donde se encuentran los archivos Excel\n",
    "# directorio = r\"C:\\Users\\Etorres\\Desktop\\Codigos Demanda\\Stock Histórico\\1.Histórico Stock Semanal (EXCEL)\"\n",
    "directorio = r\"C:\\Users\\Etorres\\Desktop\\Codigos Demanda\\Stock Histórico\\Nueva carpeta\"\n",
    "# Lista todos los archivos en el directorio que terminen en '.xlsx'\n",
    "archivos_excel = [archivo for archivo in os.listdir(directorio) if archivo.endswith('.xlsx')]\n",
    "\n",
    "# Procesa cada archivo Excel encontrado\n",
    "for archivo in archivos_excel:\n",
    "    # Construye la ruta completa al archivo Excel\n",
    "    ruta_completa_excel = os.path.join(directorio, archivo)\n",
    "    \n",
    "    try:\n",
    "        # Lee solo la hoja que se llama 'Sheet1' del archivo Excel\n",
    "        df = pd.read_excel(ruta_completa_excel, sheet_name='Sheet1', decimal=',')\n",
    "        \n",
    "        # Construye la ruta del archivo CSV (mismo nombre, diferente extensión)\n",
    "        ruta_completa_csv = ruta_completa_excel.replace('.xlsx', '.csv')\n",
    "        \n",
    "        # Guarda el DataFrame como CSV, delimitado por ';', asegurando el formato correcto\n",
    "        df.to_csv(ruta_completa_csv, sep=';', index=False, decimal=',')\n",
    "\n",
    "        print(f\"Archivo {archivo} convertido a CSV con formato correcto para las columnas decimales.\")\n",
    "    except ValueError as e:\n",
    "        # Este error se lanza si no existe una hoja llamada 'Sheet1' o si hay otros problemas al leer el archivo\n",
    "        print(f\"Error en {archivo}: {e}. No se realizó la conversión.\")\n"
   ]
  },
  {
   "cell_type": "markdown",
   "metadata": {},
   "source": [
    "STOCK A CSV"
   ]
  },
  {
   "cell_type": "code",
   "execution_count": 1,
   "metadata": {},
   "outputs": [
    {
     "name": "stdout",
     "output_type": "stream",
     "text": [
      "Se encontraron 1 archivos Excel para procesar.\n",
      "Archivo 2024-04-29 - Stock S4.xlsx convertido a CSV con formato correcto para las columnas decimales.\n"
     ]
    }
   ],
   "source": [
    "import os\n",
    "import pandas as pd\n",
    "\n",
    "# Ruta del directorio donde se encuentran los archivos Excel\n",
    "directorio = r\"C:\\Users\\Etorres\\Desktop\\Codigos Demanda\\Stock Histórico\\convertir stocks nuevos\"\n",
    "\n",
    "# Verificar si el directorio existe\n",
    "if not os.path.exists(directorio):\n",
    "    print(f\"El directorio {directorio} no existe.\")\n",
    "else:\n",
    "    # Lista todos los archivos en el directorio que terminen en '.xlsx' de manera insensible a mayúsculas\n",
    "    archivos_excel = [archivo for archivo in os.listdir(directorio) if archivo.lower().endswith('.xlsx')]\n",
    "    \n",
    "    # Imprime la cantidad de archivos encontrados\n",
    "    if not archivos_excel:\n",
    "        print(f\"No se encontraron archivos .xlsx en el directorio {directorio}.\")\n",
    "    else:\n",
    "        print(f\"Se encontraron {len(archivos_excel)} archivos Excel para procesar.\")\n",
    "\n",
    "    # Procesa cada archivo Excel encontrado\n",
    "    for archivo in archivos_excel:\n",
    "        # Construye la ruta completa al archivo Excel\n",
    "        ruta_completa_excel = os.path.join(directorio, archivo)\n",
    "        \n",
    "        try:\n",
    "            # Lee solo la hoja que se llama 'Sheet1' del archivo Excel\n",
    "            df = pd.read_excel(ruta_completa_excel, sheet_name='Sheet1', decimal=',')\n",
    "            \n",
    "            # Construye la ruta del archivo CSV (mismo nombre, diferente extensión)\n",
    "            ruta_completa_csv = ruta_completa_excel.replace('.xlsx', '.csv').replace('.XLSX', '.csv')\n",
    "            \n",
    "            # Guarda el DataFrame como CSV, delimitado por ';', asegurando el formato correcto\n",
    "            df.to_csv(ruta_completa_csv, sep=';', index=False, decimal=',')\n",
    "\n",
    "            print(f\"Archivo {archivo} convertido a CSV con formato correcto para las columnas decimales.\")\n",
    "        except Exception as e:\n",
    "            # Imprime cualquier error que ocurra durante el proceso\n",
    "            print(f\"Error al procesar {archivo}: {e}\")\n"
   ]
  },
  {
   "cell_type": "code",
   "execution_count": null,
   "metadata": {},
   "outputs": [],
   "source": [
    "\"C:\\Users\\Etorres\\Desktop\\Codigos Demanda\\Stock Histórico\\Nueva carpeta\\2022-11-14 - Stock.XLSX\""
   ]
  },
  {
   "cell_type": "code",
   "execution_count": 7,
   "metadata": {},
   "outputs": [
    {
     "data": {
      "text/plain": [
       "'C:\\\\Users\\\\Etorres\\\\Desktop\\\\Codigos Demanda\\\\Stock Histórico\\\\Nueva carpeta\\\\2023-05-29 - Stock.xlsx'"
      ]
     },
     "execution_count": 7,
     "metadata": {},
     "output_type": "execute_result"
    }
   ],
   "source": [
    "ruta_completa_excel"
   ]
  },
  {
   "cell_type": "code",
   "execution_count": 2,
   "metadata": {},
   "outputs": [
    {
     "data": {
      "text/plain": [
       "[]"
      ]
     },
     "execution_count": 2,
     "metadata": {},
     "output_type": "execute_result"
    }
   ],
   "source": [
    "archivos_excel"
   ]
  },
  {
   "cell_type": "code",
   "execution_count": 10,
   "metadata": {},
   "outputs": [
    {
     "name": "stdout",
     "output_type": "stream",
     "text": [
      "Archivo 2024-06-11 Stock S4.XLSX convertido a CSV con formato específico en 'Venta UMB'.\n"
     ]
    }
   ],
   "source": [
    "import os\n",
    "import pandas as pd\n",
    "\n",
    "# Ruta del directorio donde se encuentran los archivos Excel\n",
    "directorio = r\"C:\\Users\\Etorres\\Desktop\\Codigos Demanda\\Stock Histórico\\convertir stocks nuevos\"\n",
    "\n",
    "# Lista todos los archivos en el directorio que terminen en '.xlsx'\n",
    "archivos_excel = [archivo for archivo in os.listdir(directorio) if archivo.endswith('.XLSX')]\n",
    "\n",
    "# Procesa cada archivo Excel encontrado\n",
    "for archivo in archivos_excel:\n",
    "    # Construye la ruta completa al archivo Excel\n",
    "    ruta_completa_excel = os.path.join(directorio, archivo)\n",
    "    \n",
    "    try:\n",
    "        # Lee solo la hoja que se llama 'Sheet1' del archivo Excel\n",
    "        df = pd.read_excel(ruta_completa_excel, sheet_name='Sheet1')\n",
    "        \n",
    "        # # Formatea la columna 'Venta UMB' para dos decimales\n",
    "        # if 'Venta UMB' in df.columns:\n",
    "        #     df['Venta UMB'] = df['Venta UMB'].astype(float).round(2).map('{:.2f}'.format)\n",
    "\n",
    "        # Construye la ruta del archivo CSV (mismo nombre, diferente extensión)\n",
    "        ruta_completa_csv = ruta_completa_excel.replace('.XLSX', '.csv')\n",
    "        \n",
    "        # Guarda el DataFrame como CSV, delimitado por ';'\n",
    "        df.to_csv(ruta_completa_csv, sep=';', index=False)\n",
    "        \n",
    "        print(f\"Archivo {archivo} convertido a CSV con formato específico en 'Venta UMB'.\")\n",
    "    except ValueError as e:\n",
    "        # Este error se lanza si no existe una hoja llamada 'Sheet1' o si hay otros problemas al leer el archivo\n",
    "        print(f\"Error en {archivo}: {e}. No se realizó la conversión.\")\n"
   ]
  },
  {
   "cell_type": "code",
   "execution_count": 9,
   "metadata": {},
   "outputs": [
    {
     "data": {
      "text/plain": [
       "'C:\\\\Users\\\\Etorres\\\\Desktop\\\\Codigos Demanda\\\\Stock Histórico\\\\convertir stocks nuevos\\\\2024-06-11 Stock S4.XLSX'"
      ]
     },
     "execution_count": 9,
     "metadata": {},
     "output_type": "execute_result"
    }
   ],
   "source": [
    "ruta_completa_csv"
   ]
  },
  {
   "cell_type": "code",
   "execution_count": 7,
   "metadata": {},
   "outputs": [
    {
     "data": {
      "text/plain": [
       "[]"
      ]
     },
     "execution_count": 7,
     "metadata": {},
     "output_type": "execute_result"
    }
   ],
   "source": [
    "archivos_excel"
   ]
  },
  {
   "cell_type": "markdown",
   "metadata": {},
   "source": [
    "INSTOCK A CSV"
   ]
  },
  {
   "cell_type": "code",
   "execution_count": null,
   "metadata": {},
   "outputs": [],
   "source": [
    "import os\n",
    "import pandas as pd\n",
    "\n",
    "# Ruta del directorio donde se encuentran los archivos Excel\n",
    "directorio = r\"C:\\Users\\Etorres\\Desktop\\Codigos Demanda\\Stock Histórico\\Nueva carpeta\"\n",
    "\n",
    "# Lista todos los archivos en el directorio que terminen en '.xlsx'\n",
    "archivos_excel = [archivo for archivo in os.listdir(directorio) if archivo.endswith('.xlsx')]\n",
    "\n",
    "# Procesa cada archivo Excel encontrado\n",
    "for archivo in archivos_excel:\n",
    "    # Construye la ruta completa al archivo Excel\n",
    "    ruta_completa_excel = os.path.join(directorio, archivo)\n",
    "    \n",
    "    try:\n",
    "        # Lee solo la hoja que se llama 'Sheet1' del archivo Excel\n",
    "        df = pd.read_excel(ruta_completa_excel, sheet_name='Sheet1')\n",
    "        \n",
    "        # Formatea la columna 'Venta UMB' para dos decimales\n",
    "        if 'Venta UMB' in df.columns:\n",
    "            df['Venta UMB'] = df['Venta UMB'].astype(float).round(2).map('{:.2f}'.format)\n",
    "\n",
    "        # Construye la ruta del archivo CSV (mismo nombre, diferente extensión)\n",
    "        ruta_completa_csv = ruta_completa_excel.replace('.xlsx', '.csv')\n",
    "        \n",
    "        # Guarda el DataFrame como CSV, delimitado por ';'\n",
    "        df.to_csv(ruta_completa_csv, sep=';', index=False)\n",
    "        \n",
    "        print(f\"Archivo {archivo} convertido a CSV con formato específico en 'Venta UMB'.\")\n",
    "    except ValueError as e:\n",
    "        # Este error se lanza si no existe una hoja llamada 'Sheet1' o si hay otros problemas al leer el archivo\n",
    "        print(f\"Error en {archivo}: {e}. No se realizó la conversión.\")\n"
   ]
  },
  {
   "cell_type": "markdown",
   "metadata": {},
   "source": [
    "SELLIN A CSV"
   ]
  },
  {
   "cell_type": "code",
   "execution_count": 1,
   "metadata": {},
   "outputs": [
    {
     "name": "stdout",
     "output_type": "stream",
     "text": [
      "Archivo guardado: C:\\Users\\Etorres\\Desktop\\Codigos Demanda\\Nueva carpeta\\2024-05-20 Semana 20 Venta Sell In.csv\n",
      "Archivo guardado: C:\\Users\\Etorres\\Desktop\\Codigos Demanda\\Nueva carpeta\\2024-05-27 Semana 21 Venta Sell In.csv\n",
      "Archivo guardado: C:\\Users\\Etorres\\Desktop\\Codigos Demanda\\Nueva carpeta\\2024-06-03 - Semana 23 Venta Sell In.csv\n",
      "Archivo guardado: C:\\Users\\Etorres\\Desktop\\Codigos Demanda\\Nueva carpeta\\2024.06.10 - Semana 24 Venta Sell In.csv\n",
      "Archivo guardado: C:\\Users\\Etorres\\Desktop\\Codigos Demanda\\Nueva carpeta\\2024.06.10 - Semana 25 Venta Sell In.csv\n"
     ]
    }
   ],
   "source": [
    "import os\n",
    "import pandas as pd\n",
    "\n",
    "# Ruta donde están los archivos .xlsx\n",
    "ruta_directorio = r\"C:\\Users\\Etorres\\Desktop\\Codigos Demanda\\Nueva carpeta\"\n",
    "\n",
    "# Columnas deseadas en el archivo final\n",
    "columnas_deseadas = ['nuevo canal', 'sector', 'venta umb', 'material', 'centro', 'clase de movimiento', 'fe.contabilización', 'semana iso']\n",
    "\n",
    "# Diccionario para estandarizar nombres de columnas\n",
    "columnas_variaciones = {\n",
    "    'nuevo canal': ['nuevo canal', 'Canal 2'],\n",
    "    'sector': ['sector', 'Nombre Sector'],\n",
    "    'venta umb': ['venta umb', 'Venta UMB'],\n",
    "    'material': ['material', 'Material'],\n",
    "    'centro': ['centro', 'Ce.'],\n",
    "    'clase de movimiento': ['clase de movimiento', 'CMv'],\n",
    "    'fe.contabilización': ['fe.contabilización', 'Fe.contab.'],\n",
    "    'semana iso': ['semana iso', 'semana', 'Semana ISO']    \n",
    "}\n",
    "\n",
    "# Función para normalizar y mapear nombres de columnas\n",
    "def normalizar_nombres_columnas(df, columnas_variaciones):\n",
    "    columnas_df = df.columns\n",
    "    columnas_normalizadas = {}\n",
    "    for col in columnas_df:\n",
    "        for key, values in columnas_variaciones.items():\n",
    "            if col.lower().strip() in [v.lower().strip() for v in values]:\n",
    "                columnas_normalizadas[col] = key\n",
    "                break\n",
    "    df.rename(columns=columnas_normalizadas, inplace=True)\n",
    "\n",
    "# Función para limpiar y convertir las cifras en la columna \"Venta UMB\"\n",
    "def limpiar_cifras(valor):\n",
    "    if isinstance(valor, str):\n",
    "        valor = valor.replace('.', '')  # Eliminar puntos de miles\n",
    "        valor = valor.replace(',', '.')  # Cambiar coma de decimales a punto\n",
    "    return valor\n",
    "\n",
    "# Procesar cada archivo en el directorio\n",
    "for archivo in os.listdir(ruta_directorio):\n",
    "    if archivo.endswith(('.xlsx', '.XLSX')):\n",
    "        ruta_completa = os.path.join(ruta_directorio, archivo)\n",
    "        try:\n",
    "            df = pd.read_excel(ruta_completa, sheet_name='Sheet1', engine='openpyxl')\n",
    "            df.columns = [col.strip().lower() for col in df.columns]\n",
    "            normalizar_nombres_columnas(df, columnas_variaciones)\n",
    "            \n",
    "            if not all(col in df.columns for col in columnas_deseadas):\n",
    "                faltantes = [col for col in columnas_deseadas if col not in df.columns]\n",
    "                print(f\"Al archivo {archivo} le faltan las siguientes columnas: {', '.join(faltantes)}\")\n",
    "                continue\n",
    "            \n",
    "            df = df[columnas_deseadas]\n",
    "            df['venta umb'] = df['venta umb'].apply(limpiar_cifras)\n",
    "            df['venta umb'] = pd.to_numeric(df['venta umb'], errors='coerce')\n",
    "            \n",
    "            nombre_csv = os.path.splitext(archivo)[0] + '.csv'\n",
    "            ruta_csv = os.path.join(ruta_directorio, nombre_csv)\n",
    "            df.to_csv(ruta_csv, sep=';', index=False)\n",
    "            print(f'Archivo guardado: {ruta_csv}')\n",
    "        except Exception as e:\n",
    "            print(f\"Error procesando el archivo {archivo}: {e}\")\n"
   ]
  }
 ],
 "metadata": {
  "kernelspec": {
   "display_name": "Python 3",
   "language": "python",
   "name": "python3"
  },
  "language_info": {
   "codemirror_mode": {
    "name": "ipython",
    "version": 3
   },
   "file_extension": ".py",
   "mimetype": "text/x-python",
   "name": "python",
   "nbconvert_exporter": "python",
   "pygments_lexer": "ipython3",
   "version": "3.12.0"
  }
 },
 "nbformat": 4,
 "nbformat_minor": 2
}
