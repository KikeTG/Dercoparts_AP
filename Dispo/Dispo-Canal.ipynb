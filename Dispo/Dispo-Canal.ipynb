{
 "cells": [
  {
   "cell_type": "markdown",
   "metadata": {},
   "source": [
    "# Leer Excels FORECAST INBOUND más recientes según semana\n",
    "\n",
    "Este código:\n",
    "- Identifica carpetas con formato `YYYY-MM` y las ordena por fecha.\n",
    "- Según la variable `semana`:\n",
    "  - **Semana 1 o 2**: Lee el Excel más reciente de la carpeta más reciente.\n",
    "  - **Semana 3 o 4**: Lee el Excel más reciente de la carpeta más reciente (`df1`) y el de la penúltima carpeta más reciente (`df2`)."
   ]
  },
  {
   "cell_type": "code",
   "execution_count": 89,
   "metadata": {},
   "outputs": [
    {
     "name": "stdout",
     "output_type": "stream",
     "text": [
      "Carpeta más reciente para semana 3: C:\\Users\\etorres.DERCOPARTS\\DERCO CHILE REPUESTOS SpA\\Planificación y abastecimiento - Documentos\\Planificación y Compras AFM\\Forecast Inbound\\2024-11 Noviembre\n",
      "Archivo más reciente: C:\\Users\\etorres.DERCOPARTS\\DERCO CHILE REPUESTOS SpA\\Planificación y abastecimiento - Documentos\\Planificación y Compras AFM\\Forecast Inbound\\2024-11 Noviembre\\11.2024 S&OP Demanda Sin restricciones Inbound Ciclo Diciembre 24_Inbound.xlsx\n",
      "Penúltima carpeta: C:\\Users\\etorres.DERCOPARTS\\DERCO CHILE REPUESTOS SpA\\Planificación y abastecimiento - Documentos\\Planificación y Compras AFM\\Forecast Inbound\\2024-10 Octubre\n",
      "Archivo más reciente de la penúltima carpeta: C:\\Users\\etorres.DERCOPARTS\\DERCO CHILE REPUESTOS SpA\\Planificación y abastecimiento - Documentos\\Planificación y Compras AFM\\Forecast Inbound\\2024-10 Octubre\\10.2024 S&OP Demanda Sin restricciones Inbound Ciclo Noviembre 24_Inbound.xlsx\n"
     ]
    }
   ],
   "source": [
    "import os\n",
    "import polars as pl\n",
    "from datetime import datetime\n",
    "\n",
    "ruta = os.path.expanduser(r\"~\\DERCO CHILE REPUESTOS SpA\\Planificación y abastecimiento - Documentos\\Planificación y Compras AFM\\Forecast Inbound\")\n",
    "\n",
    "semana = 3\n",
    "tienda = 0\n",
    "faltan = 1\n",
    "\n",
    "carpetas = [carpeta for carpeta in os.listdir(ruta) if os.path.isdir(os.path.join(ruta, carpeta)) and len(carpeta) >= 7 and carpeta[:4].isdigit() and carpeta[5:7].isdigit()]\n",
    "carpetas.sort(reverse=True, key=lambda x: datetime.strptime(x[:7], \"%Y-%m\"))\n",
    "\n",
    "def obtener_excel_mas_reciente(carpeta_path):\n",
    "    archivos = [f for f in os.listdir(carpeta_path) if f.lower().endswith('.xlsx')]\n",
    "    archivos.sort(reverse=True, key=lambda x: os.path.getmtime(os.path.join(carpeta_path, x)))\n",
    "    return os.path.join(carpeta_path, archivos[0]) if archivos else None\n",
    "\n",
    "def leer_excel_desde_fila_4(ruta_archivo, hoja):\n",
    "    df = pl.read_excel(\n",
    "        ruta_archivo, \n",
    "        sheet_name=hoja, \n",
    "        read_options={\"skip_rows\": 1}\n",
    "    )\n",
    "    return df\n",
    "\n",
    "df1 = None\n",
    "if semana in [1, 2]:\n",
    "    carpeta_mas_reciente = os.path.join(ruta, carpetas[0])\n",
    "    print(f\"Carpeta más reciente para semana {semana}: {carpeta_mas_reciente}\")\n",
    "    archivo_reciente = obtener_excel_mas_reciente(carpeta_mas_reciente)\n",
    "    print(f\"Archivo más reciente: {archivo_reciente}\")\n",
    "    if archivo_reciente:\n",
    "        df1 = leer_excel_desde_fila_4(archivo_reciente, hoja=\"BASE\")\n",
    "elif semana in [3, 4]:\n",
    "    carpeta_mas_reciente = os.path.join(ruta, carpetas[0])\n",
    "    print(f\"Carpeta más reciente para semana {semana}: {carpeta_mas_reciente}\")\n",
    "    archivo_reciente = obtener_excel_mas_reciente(carpeta_mas_reciente)\n",
    "    print(f\"Archivo más reciente: {archivo_reciente}\")\n",
    "    if archivo_reciente:\n",
    "        df1 = leer_excel_desde_fila_4(archivo_reciente, hoja=\"BASE\")\n",
    "    carpeta_penultima = os.path.join(ruta, carpetas[1])\n",
    "    print(f\"Penúltima carpeta: {carpeta_penultima}\")\n",
    "    archivo_penultimo = obtener_excel_mas_reciente(carpeta_penultima)\n",
    "    print(f\"Archivo más reciente de la penúltima carpeta: {archivo_penultimo}\")\n",
    "    if archivo_penultimo:\n",
    "        df2 = leer_excel_desde_fila_4(archivo_penultimo, hoja=\"BASE\")\n"
   ]
  },
  {
   "cell_type": "markdown",
   "metadata": {},
   "source": [
    "### Descripción del Código\n",
    "\n",
    "El código busca dinámicamente una fila donde la primera columna sea \"ID\" en los DataFrames `df1` y `df2`. Una vez encontrada:\n",
    "1. Usa esa fila como encabezados de las columnas.\n",
    "2. Elimina la fila utilizada como encabezado del DataFrame.\n",
    "3. Renombra columnas duplicadas añadiendo sufijos únicos (`_1`, `_2`, etc.).\n",
    "\n",
    "Esto asegura que los DataFrames tengan columnas únicas y estén listos para análisis.\n"
   ]
  },
  {
   "cell_type": "code",
   "execution_count": 90,
   "metadata": {},
   "outputs": [],
   "source": [
    "if 'df1' in locals() and df1 is not None:\n",
    "    for i, row in enumerate(df1.iter_rows(named=False)):\n",
    "        if row[0] == \"ID\":\n",
    "            nuevos_nombres = [str(col) for col in row]\n",
    "            seen = {}\n",
    "            for idx, col in enumerate(nuevos_nombres):\n",
    "                if col in seen:\n",
    "                    seen[col] += 1\n",
    "                    nuevos_nombres[idx] = f\"{col}_{seen[col]}\"\n",
    "                else:\n",
    "                    seen[col] = 0\n",
    "            df1 = df1.slice(i + 1)\n",
    "            df1 = df1.rename({df1.columns[j]: nuevos_nombres[j] for j in range(len(nuevos_nombres))})\n",
    "            break\n",
    "\n",
    "if 'df2' in locals() and df2 is not None:\n",
    "    for i, row in enumerate(df2.iter_rows(named=False)):\n",
    "        if row[0] == \"ID\":\n",
    "            nuevos_nombres = [str(col) for col in row]\n",
    "            seen = {}\n",
    "            for idx, col in enumerate(nuevos_nombres):\n",
    "                if col in seen:\n",
    "                    seen[col] += 1\n",
    "                    nuevos_nombres[idx] = f\"{col}_{seen[col]}\"\n",
    "                else:\n",
    "                    seen[col] = 0\n",
    "            df2 = df2.slice(i + 1)\n",
    "            df2 = df2.rename({df2.columns[j]: nuevos_nombres[j] for j in range(len(nuevos_nombres))})\n",
    "            break"
   ]
  },
  {
   "cell_type": "markdown",
   "metadata": {},
   "source": [
    "# AISLAR FORECAST FINAL"
   ]
  },
  {
   "cell_type": "code",
   "execution_count": 91,
   "metadata": {},
   "outputs": [],
   "source": [
    "df_final_1 = None\n",
    "df_final_2 = None\n",
    "\n",
    "if 'df1' in locals() and df1 is not None:\n",
    "    columnas_seleccionadas = [0, 1] + list(range(170, 182))\n",
    "    df_final_1 = df1.select([df1.columns[i] for i in columnas_seleccionadas])\n",
    "\n",
    "if 'df2' in locals() and df2 is not None:\n",
    "    columnas_seleccionadas = [0, 1] + list(range(170, 182))\n",
    "    df_final_2 = df2.select([df2.columns[i] for i in columnas_seleccionadas])"
   ]
  },
  {
   "cell_type": "markdown",
   "metadata": {},
   "source": [
    "### DF FORECAST FINAL\n",
    "\n",
    "El código realiza lo siguiente:\n",
    "\n",
    "1. Si `df_final_1` o `df_final_2` existen:\n",
    "   - Mantiene las primeras dos columnas.\n",
    "   - Realiza un `melt` en las demás columnas para convertirlas en formato largo.\n",
    "   - Trunca los valores de la columna `variable` (generada por el `melt`) a los primeros 10 caracteres.\n",
    "\n",
    "2. Resultado:\n",
    "   - `df_melt_1`: Versión procesada de `df_final_1`.\n",
    "   - `df_melt_2`: Versión procesada de `df_final_2`.\n"
   ]
  },
  {
   "cell_type": "code",
   "execution_count": 92,
   "metadata": {},
   "outputs": [],
   "source": [
    "df_melt_1 = None\n",
    "df_melt_2 = None\n",
    "\n",
    "if 'df_final_1' in locals() and df_final_1 is not None:\n",
    "    df_melt_1 = df_final_1.unpivot(\n",
    "        index=df_final_1.columns[:2],\n",
    "        on=df_final_1.columns[2:]\n",
    "    )\n",
    "    df_melt_1 = df_melt_1.with_columns(\n",
    "        df_melt_1['variable'].str.slice(0, 10).alias('variable')\n",
    "    )\n",
    "\n",
    "if 'df_final_2' in locals() and df_final_2 is not None:\n",
    "    df_melt_2 = df_final_2.unpivot(\n",
    "        index=df_final_2.columns[:2],\n",
    "        on=df_final_2.columns[2:]\n",
    "    )\n",
    "    df_melt_2 = df_melt_2.with_columns(\n",
    "        df_melt_2['variable'].str.slice(0, 10).alias('variable')\n",
    "    )\n"
   ]
  },
  {
   "cell_type": "markdown",
   "metadata": {},
   "source": [
    "pasara variable a formato fecha"
   ]
  },
  {
   "cell_type": "code",
   "execution_count": 93,
   "metadata": {},
   "outputs": [],
   "source": [
    "if 'df_melt_1' in locals() and df_melt_1 is not None:\n",
    "    df_melt_1 = df_melt_1.with_columns(\n",
    "        pl.col('variable').str.strptime(pl.Date, \"%Y-%m-%d\").alias('variable')\n",
    "    )\n",
    "\n",
    "if 'df_melt_2' in locals() and df_melt_2 is not None:\n",
    "    df_melt_2 = df_melt_2.with_columns(\n",
    "        pl.col('variable').str.strptime(pl.Date, \"%Y-%m-%d\").alias('variable')\n",
    "    )\n"
   ]
  },
  {
   "cell_type": "markdown",
   "metadata": {},
   "source": [
    "crear columna fc semanal que es = a FC / 4,33"
   ]
  },
  {
   "cell_type": "code",
   "execution_count": 94,
   "metadata": {},
   "outputs": [],
   "source": [
    "if 'df_melt_1' in locals() and df_melt_1 is not None:\n",
    "    df_melt_1 = df_melt_1.with_columns(\n",
    "        pl.col('value').cast(pl.Float64).alias('value')\n",
    "    ).with_columns(\n",
    "        (pl.col('value') / 4.33).alias('Fc Semanal')\n",
    "    )\n",
    "\n",
    "if 'df_melt_2' in locals() and df_melt_2 is not None:\n",
    "    df_melt_2 = df_melt_2.with_columns(\n",
    "        pl.col('value').cast(pl.Float64).alias('value')\n",
    "    ).with_columns(\n",
    "        (pl.col('value') / 4.33).alias('Fc Semanal')\n",
    "    )\n"
   ]
  },
  {
   "cell_type": "markdown",
   "metadata": {},
   "source": [
    "## SI ES SEMANA 1 Y 2 NO JUNTAR FC PERO SI ES SEMANA 3 O 4 ENTONCES SI JUNTARLOS"
   ]
  },
  {
   "cell_type": "markdown",
   "metadata": {},
   "source": [
    "### Filtrar `df_melt_2` por la fecha más antigua en la columna \"variable\"\n",
    "\n",
    "El siguiente bloque de código verifica si `df_melt_2` existe y no es `None`. Si cumple con estas condiciones, filtra el dataframe dejando solo los registros correspondientes a la fecha más antigua en la columna `variable`:"
   ]
  },
  {
   "cell_type": "code",
   "execution_count": 95,
   "metadata": {},
   "outputs": [],
   "source": [
    "if 'df_melt_2' in locals() and df_melt_2 is not None:\n",
    "    df_melt_2 = df_melt_2.filter(\n",
    "        pl.col('variable') == df_melt_2.select(pl.col('variable').min())[0, 0]\n",
    "    )"
   ]
  },
  {
   "cell_type": "markdown",
   "metadata": {},
   "source": [
    "### Anexar `df_melt_2` a `df_melt_1` y ordenar por la columna \"variable\"\n",
    "\n",
    "Este bloque de código verifica si `df_melt_2` existe y no es `None`. Si cumple con estas condiciones, agrega los datos de `df_melt_2` a `df_melt_1` y luego ordena el dataframe resultante por la columna `variable` en orden ascendente:"
   ]
  },
  {
   "cell_type": "code",
   "execution_count": 96,
   "metadata": {},
   "outputs": [
    {
     "name": "stdout",
     "output_type": "stream",
     "text": [
      "shape: (1, 5)\n",
      "┌──────────────────┬──────────────┬────────────┬───────┬────────────┐\n",
      "│ ID               ┆ Ult. Eslabón ┆ variable   ┆ value ┆ Fc Semanal │\n",
      "│ ---              ┆ ---          ┆ ---        ┆ ---   ┆ ---        │\n",
      "│ str              ┆ str          ┆ date       ┆ f64   ┆ f64        │\n",
      "╞══════════════════╪══════════════╪════════════╪═══════╪════════════╡\n",
      "│ 1171331CL RETAIL ┆ 1171331      ┆ 2024-12-01 ┆ 810.0 ┆ 187.066975 │\n",
      "└──────────────────┴──────────────┴────────────┴───────┴────────────┘\n"
     ]
    }
   ],
   "source": [
    "print(df_melt_1[0])"
   ]
  },
  {
   "cell_type": "code",
   "execution_count": 97,
   "metadata": {},
   "outputs": [
    {
     "name": "stdout",
     "output_type": "stream",
     "text": [
      "shape: (1, 5)\n",
      "┌──────────────────┬──────────────┬────────────┬───────┬────────────┐\n",
      "│ ID               ┆ Ult. Eslabón ┆ variable   ┆ value ┆ Fc Semanal │\n",
      "│ ---              ┆ ---          ┆ ---        ┆ ---   ┆ ---        │\n",
      "│ str              ┆ str          ┆ date       ┆ f64   ┆ f64        │\n",
      "╞══════════════════╪══════════════╪════════════╪═══════╪════════════╡\n",
      "│ 1171331CL RETAIL ┆ 1171331      ┆ 2024-12-01 ┆ 810.0 ┆ 187.066975 │\n",
      "└──────────────────┴──────────────┴────────────┴───────┴────────────┘\n"
     ]
    }
   ],
   "source": [
    "print(df_melt_1[0])"
   ]
  },
  {
   "cell_type": "code",
   "execution_count": 98,
   "metadata": {},
   "outputs": [
    {
     "name": "stdout",
     "output_type": "stream",
     "text": [
      "shape: (1, 5)\n",
      "┌──────────────────┬──────────────┬────────────┬───────┬────────────┐\n",
      "│ ID               ┆ Ult. Eslabón ┆ variable   ┆ value ┆ Fc Semanal │\n",
      "│ ---              ┆ ---          ┆ ---        ┆ ---   ┆ ---        │\n",
      "│ str              ┆ str          ┆ date       ┆ f64   ┆ f64        │\n",
      "╞══════════════════╪══════════════╪════════════╪═══════╪════════════╡\n",
      "│ 1000078CL RETAIL ┆ 1000078      ┆ 2024-11-01 ┆ 0.0   ┆ 0.0        │\n",
      "└──────────────────┴──────────────┴────────────┴───────┴────────────┘\n"
     ]
    }
   ],
   "source": [
    "if 'df_melt_2' in locals() and df_melt_2 is not None:\n",
    "    df_melt_1 = df_melt_1.vstack(df_melt_2).sort('variable')\n",
    "print(df_melt_1[0])\n"
   ]
  },
  {
   "cell_type": "markdown",
   "metadata": {},
   "source": [
    "### LECTURA DEL TUBO\n",
    "\n",
    "1. Filtra carpetas que contengan `-` en su nombre y evalúa si tienen fechas en formato `YYYY-MM-DD`.\n",
    "2. Selecciona la carpeta con la fecha más reciente.\n",
    "3. Dentro de esa carpeta:\n",
    "   - Busca el archivo `.xlsx` que contenga `stock` y `s4`.\n",
    "   - Busca el archivo `.xlsx` que contenga `stock` y `tiendas`.\n",
    "   - Busca el archivo `.xlsx` que contenga `tr final s4 consolidado`.\n",
    "4. Carga los archivos como DataFrames (`df_stock`, `df_tiendas`, `df_transito`) considerando solo la hoja `Sheet1`.\n"
   ]
  },
  {
   "cell_type": "code",
   "execution_count": 99,
   "metadata": {},
   "outputs": [
    {
     "name": "stdout",
     "output_type": "stream",
     "text": [
      "Carpeta más reciente: C:\\Users\\etorres.DERCOPARTS\\DERCO CHILE REPUESTOS SpA\\Planificación y abastecimiento - Documentos\\KPI\\Tubo Semanal\\2024-11-18\n",
      "Archivo Stock S4: C:\\Users\\etorres.DERCOPARTS\\DERCO CHILE REPUESTOS SpA\\Planificación y abastecimiento - Documentos\\KPI\\Tubo Semanal\\2024-11-18\\2024-11-18 Stock S4.XLSX\n",
      "Archivo Stock Tiendas: C:\\Users\\etorres.DERCOPARTS\\DERCO CHILE REPUESTOS SpA\\Planificación y abastecimiento - Documentos\\KPI\\Tubo Semanal\\2024-11-18\\2024-11-18 Stock Tiendas.XLSX\n",
      "Archivo TR Final S4: C:\\Users\\etorres.DERCOPARTS\\DERCO CHILE REPUESTOS SpA\\Planificación y abastecimiento - Documentos\\KPI\\Tubo Semanal\\2024-11-18\\2024-11-18 TR FINAL S4 Consolidado.xlsx\n"
     ]
    }
   ],
   "source": [
    "import os\n",
    "import polars as pl\n",
    "from datetime import datetime\n",
    "\n",
    "ruta_principal = os.path.expanduser(r\"~\\DERCO CHILE REPUESTOS SpA\\Planificación y abastecimiento - Documentos\\KPI\\Tubo Semanal\")\n",
    "\n",
    "\n",
    "carpetas = [\n",
    "    carpeta for carpeta in os.listdir(ruta_principal)\n",
    "    if '-' in carpeta and carpeta[:10].replace('-', '').isdigit()\n",
    "]\n",
    "\n",
    "fechas_carpetas = [\n",
    "    (carpeta, datetime.strptime(carpeta[:10], \"%Y-%m-%d\"))\n",
    "    for carpeta in carpetas\n",
    "]\n",
    "\n",
    "if fechas_carpetas:\n",
    "    carpeta_reciente = max(fechas_carpetas, key=lambda x: x[1])[0]\n",
    "    ruta_carpeta_reciente = os.path.join(ruta_principal, carpeta_reciente)\n",
    "\n",
    "    archivos = [\n",
    "        archivo for archivo in os.listdir(ruta_carpeta_reciente)\n",
    "        if archivo.lower().endswith('.xlsx')\n",
    "    ]\n",
    "\n",
    "    archivo_stock_s4 = next(\n",
    "        (os.path.join(ruta_carpeta_reciente, archivo)\n",
    "         for archivo in archivos if 'stock' in archivo.lower() and 's4' in archivo.lower()), None\n",
    "    )\n",
    "    archivo_stock_tiendas = next(\n",
    "        (os.path.join(ruta_carpeta_reciente, archivo)\n",
    "         for archivo in archivos if 'stock' in archivo.lower() and 'tiendas' in archivo.lower()), None\n",
    "    )\n",
    "    archivo_tr_final_s4 = next(\n",
    "        (os.path.join(ruta_carpeta_reciente, archivo)\n",
    "         for archivo in archivos if 'tr final s4 consolidado' in archivo.lower()), None\n",
    "    )\n",
    "\n",
    "    df_stock = pl.read_excel(archivo_stock_s4, sheet_name=\"Sheet1\") if archivo_stock_s4 else None\n",
    "    df_tiendas = pl.read_excel(archivo_stock_tiendas, sheet_name=\"Sheet1\") if archivo_stock_tiendas else None\n",
    "    df_transito = pl.read_excel(archivo_tr_final_s4, sheet_name=\"Sheet1\") if archivo_tr_final_s4 else None\n",
    "\n",
    "    print(\"Carpeta más reciente:\", ruta_carpeta_reciente)\n",
    "    print(\"Archivo Stock S4:\", archivo_stock_s4)\n",
    "    print(\"Archivo Stock Tiendas:\", archivo_stock_tiendas)\n",
    "    print(\"Archivo TR Final S4:\", archivo_tr_final_s4)\n",
    "else:\n",
    "    print(\"No se encontraron carpetas válidas.\")\n"
   ]
  },
  {
   "cell_type": "markdown",
   "metadata": {},
   "source": [
    "# LIMPIEZA DE STOCK SEPARACION 711 DE LOS DEMAS, SUMA DE CONTROL\n",
    "\n",
    "Este script organiza y agrupa datos de inventario de materiales en un DataFrame usando Polars. \n",
    "\n",
    "### Pasos Principales:\n",
    "\n",
    "1. **Agrupación Inicial (`df_stock_agrupado`)**  \n",
    "   Agrupa los datos por las columnas: `Material`, `Centro`, `Texto breve de material` y `Ult Eslabon`. Calcula la suma de las cantidades en las columnas:\n",
    "   - `Libre utilización`\n",
    "   - `Trans./Trasl.`\n",
    "   - `Inspecc.de calidad`\n",
    "   - `Bloqueado`\n",
    "\n",
    "   Luego, se crea una nueva columna `Control`, que suma las columnas `Trans./Trasl.`, `Inspecc.de calidad` y `Bloqueado`.\n",
    "\n",
    "2. **Separación por Centro (`711` y Otros)**  \n",
    "   - Se filtra y elimina la columna `Centro` para generar dos DataFrames: \n",
    "     - `df_711`: Contiene solo datos del centro `711`.\n",
    "     - `df_stock`: Contiene los demás centros.\n",
    "\n",
    "3. **Reagrupación Final**  \n",
    "   - `df_711`: Se reagrupan los datos por `Material`, `Texto breve de material` y `Ult Eslabon`, recalculando las sumas de las mismas columnas originales.\n",
    "   - `df_stock`: Se reagrupa con las mismas columnas que `df_711`, pero incluyendo la suma de la columna adicional `Control`.\n",
    "\n",
    "### Resultado:\n",
    "Dos DataFrames (`df_711` y `df_stock`) organizados y listos para análisis, con las cantidades agregadas por material y eslabón. \n"
   ]
  },
  {
   "cell_type": "code",
   "execution_count": 100,
   "metadata": {},
   "outputs": [],
   "source": [
    "df_stock_agrupado = df_stock.group_by(['Material', 'Centro', 'Texto breve de material', 'Ult. Eslabon']).agg(\n",
    "    [\n",
    "        pl.col('Libre utilización').sum().alias('Libre utilización'),\n",
    "        pl.col('Trans./Trasl.').sum().alias('Trans./Trasl.'),\n",
    "        pl.col('Inspecc.de calidad').sum().alias('Inspecc.de calidad'),\n",
    "        pl.col('Bloqueado').sum().alias('Bloqueado'),\n",
    "    ]\n",
    ")\n",
    "df_stock_agrupado = df_stock_agrupado.with_columns(\n",
    "    (\n",
    "        pl.col('Trans./Trasl.') + pl.col('Inspecc.de calidad') + pl.col('Bloqueado')\n",
    "    ).alias('Control')\n",
    ")\n",
    "df_711 = df_stock_agrupado.filter(pl.col('Centro').str.contains('711')).drop('Centro')\n",
    "df_stock = df_stock_agrupado.filter(~pl.col('Centro').str.contains('711')).drop('Centro')\n",
    "\n",
    "df_711 = df_711.group_by(['Material', 'Texto breve de material', 'Ult. Eslabon']).agg(\n",
    "    [\n",
    "        pl.col('Libre utilización').sum().alias('Libre utilización'),\n",
    "        pl.col('Trans./Trasl.').sum().alias('Trans./Trasl.'),\n",
    "        pl.col('Inspecc.de calidad').sum().alias('Inspecc.de calidad'),\n",
    "        pl.col('Bloqueado').sum().alias('Bloqueado'),\n",
    "    ]\n",
    ")\n",
    "\n",
    "df_stock = df_stock.group_by(['Material', 'Texto breve de material', 'Ult. Eslabon']).agg(\n",
    "    [\n",
    "        pl.col('Libre utilización').sum().alias('Libre utilización'),\n",
    "        pl.col('Control').sum().alias('Control'),\n",
    "        pl.col('Trans./Trasl.').sum().alias('Trans./Trasl.'),\n",
    "        pl.col('Inspecc.de calidad').sum().alias('Inspecc.de calidad'),\n",
    "        pl.col('Bloqueado').sum().alias('Bloqueado'),\n",
    "    ]\n",
    ")"
   ]
  },
  {
   "cell_type": "code",
   "execution_count": 101,
   "metadata": {},
   "outputs": [
    {
     "name": "stdout",
     "output_type": "stream",
     "text": [
      "shape: (1, 7)\n",
      "┌──────────┬───────────────────────┬────────┬─────────────┬───────────────┬────────────┬───────────┐\n",
      "│ Material ┆ Texto breve de        ┆ UE     ┆ Libre       ┆ Trans./Trasl. ┆ Inspecc.de ┆ Bloqueado │\n",
      "│ ---      ┆ material              ┆ ---    ┆ utilización ┆ ---           ┆ calidad    ┆ ---       │\n",
      "│ str      ┆ ---                   ┆ str    ┆ ---         ┆ i64           ┆ ---        ┆ f64       │\n",
      "│          ┆ str                   ┆        ┆ f64         ┆               ┆ i64        ┆           │\n",
      "╞══════════╪═══════════════════════╪════════╪═════════════╪═══════════════╪════════════╪═══════════╡\n",
      "│ 130730   ┆ FILTRO AIRE INT. NH   ┆ 130730 ┆ 6.0         ┆ 0             ┆ 0          ┆ 0.0       │\n",
      "└──────────┴───────────────────────┴────────┴─────────────┴───────────────┴────────────┴───────────┘\n"
     ]
    }
   ],
   "source": [
    "df_711 = df_711.rename({col: 'UE' for col in df_711.columns if 'labon' in col})\n",
    "print(df_711[0])"
   ]
  },
  {
   "cell_type": "code",
   "execution_count": 102,
   "metadata": {},
   "outputs": [
    {
     "name": "stdout",
     "output_type": "stream",
     "text": [
      "shape: (1, 8)\n",
      "┌──────────┬──────────────┬────────┬─────────────┬─────────┬─────────────┬─────────────┬───────────┐\n",
      "│ Material ┆ Texto breve  ┆ UE     ┆ Libre       ┆ Control ┆ Trans./Tras ┆ Inspecc.de  ┆ Bloqueado │\n",
      "│ ---      ┆ de material  ┆ ---    ┆ utilización ┆ ---     ┆ l.          ┆ calidad     ┆ ---       │\n",
      "│ str      ┆ ---          ┆ str    ┆ ---         ┆ f64     ┆ ---         ┆ ---         ┆ f64       │\n",
      "│          ┆ str          ┆        ┆ f64         ┆         ┆ i64         ┆ i64         ┆           │\n",
      "╞══════════╪══════════════╪════════╪═════════════╪═════════╪═════════════╪═════════════╪═══════════╡\n",
      "│ 122238   ┆ ROTULA SUP   ┆ 122238 ┆ 209.0       ┆ 0.0     ┆ 0           ┆ 0           ┆ 0.0       │\n",
      "│          ┆ AMB DGP      ┆        ┆             ┆         ┆             ┆             ┆           │\n",
      "│          ┆ TOYOTA HILU… ┆        ┆             ┆         ┆             ┆             ┆           │\n",
      "└──────────┴──────────────┴────────┴─────────────┴─────────┴─────────────┴─────────────┴───────────┘\n"
     ]
    }
   ],
   "source": [
    "df_stock = df_stock.rename({col: 'UE' for col in df_stock.columns if 'labon' in col})\n",
    "print(df_stock[0])"
   ]
  },
  {
   "cell_type": "markdown",
   "metadata": {},
   "source": [
    "# Stock_Tiendas trabajado\n",
    "\n",
    "1. **Agrupar por `Ult Eslabon`**:\n",
    "   - Se suman las columnas `'Libre utilización'`, `'Trans./Trasl.'`, e `'Inspecc.de calidad'`.\n",
    "\n",
    "2. **Crear columna `Stock Tiendas`**:\n",
    "   - Se calcula la suma total de las tres columnas anteriores.\n",
    "\n",
    "3. **Seleccionar columnas**:\n",
    "   - Se seleccionan solo las columnas `Ult Eslabon` y `Stock Tiendas`.\n",
    "\n",
    "4. **Renombrar columnas**:\n",
    "   - Si alguna columna contiene `labon`, se renombra a `UE`.\n",
    "\n",
    "5. **Resultado**:\n",
    "   - El DataFrame final, `df_tiendas`, contiene solo `Ult Eslabon` y `Stock Tiendas`.\n",
    "\n",
    "Este código agrupa, calcula y filtra las columnas necesarias para crear el DataFrame final.\n"
   ]
  },
  {
   "cell_type": "code",
   "execution_count": 103,
   "metadata": {},
   "outputs": [
    {
     "name": "stdout",
     "output_type": "stream",
     "text": [
      "shape: (1, 2)\n",
      "┌────────┬───────────────┐\n",
      "│ UE     ┆ Stock Tiendas │\n",
      "│ ---    ┆ ---           │\n",
      "│ str    ┆ f64           │\n",
      "╞════════╪═══════════════╡\n",
      "│ 117688 ┆ 8.0           │\n",
      "└────────┴───────────────┘\n"
     ]
    }
   ],
   "source": [
    "df_tiendas_agrupado = df_tiendas.group_by('Ult Eslabon').agg(\n",
    "    pl.col('Libre utilización').cast(pl.Float64).sum().alias('Suma Libre utilización'),\n",
    "    pl.col('Trans./Trasl.').cast(pl.Float64).sum().alias('Suma Trans./Trasl.'),\n",
    "    pl.col('Inspecc.de calidad').cast(pl.Float64).sum().alias('Suma Inspecc.de calidad')\n",
    ")\n",
    "stock_tiendas = df_tiendas_agrupado.with_columns(\n",
    "    (pl.col('Suma Libre utilización') + pl.col('Suma Trans./Trasl.') + pl.col('Suma Inspecc.de calidad')).alias('Stock Tiendas')\n",
    ")\n",
    "df_tiendas = stock_tiendas.select(['Ult Eslabon', 'Stock Tiendas'])\n",
    "df_tiendas = df_tiendas.rename({col: \"UE\" for col in df_tiendas.columns if \"labon\" in col.lower()})\n",
    "print(df_tiendas[0])"
   ]
  },
  {
   "cell_type": "markdown",
   "metadata": {},
   "source": [
    "## BUSCAR FALTANTES"
   ]
  },
  {
   "cell_type": "code",
   "execution_count": 104,
   "metadata": {},
   "outputs": [
    {
     "name": "stdout",
     "output_type": "stream",
     "text": [
      "Leyendo el archivo: C:\\Users\\etorres.DERCOPARTS\\DERCO CHILE REPUESTOS SpA\\Planificación y abastecimiento - Documentos\\KPI\\Faltantes y Sobrantes Retail\\Sobrantes y Faltantes AP - AGP\\Falt & Sobr AP Y AGP_18.11.24.xlsx\n",
      "Se leyó la hoja:  TB Python\n"
     ]
    }
   ],
   "source": [
    "import os\n",
    "import polars as pl\n",
    "from openpyxl import load_workbook\n",
    "\n",
    "ruta = os.path.expanduser(r\"~\\DERCO CHILE REPUESTOS SpA\\Planificación y abastecimiento - Documentos\\KPI\\Faltantes y Sobrantes Retail\\Sobrantes y Faltantes AP - AGP\")\n",
    "\n",
    "archivos = [f for f in os.listdir(ruta) if f.lower().endswith('.xlsx')]\n",
    "\n",
    "archivos.sort(reverse=True, key=lambda x: os.path.getmtime(os.path.join(ruta, x)))\n",
    "\n",
    "archivo_reciente = os.path.join(ruta, archivos[0]) if archivos else None\n",
    "\n",
    "if archivo_reciente:\n",
    "    print(f\"Leyendo el archivo: {archivo_reciente}\")\n",
    "    wb = load_workbook(archivo_reciente, read_only=True)\n",
    "    hojas = wb.sheetnames\n",
    "    \n",
    "    hoja_tb_python = next((hoja for hoja in hojas if 'tb python' in hoja.lower()), None)\n",
    "\n",
    "    if hoja_tb_python:\n",
    "        faltantes = pl.read_excel(archivo_reciente, sheet_name=hoja_tb_python)\n",
    "        print(f\"Se leyó la hoja: {hoja_tb_python}\")\n",
    "    else:\n",
    "        print(\"No se encontró una hoja que contenga 'tb python'.\")\n",
    "else:\n",
    "    print(\"No se encontraron archivos Excel en la ruta.\")\n"
   ]
  },
  {
   "cell_type": "code",
   "execution_count": 105,
   "metadata": {},
   "outputs": [
    {
     "name": "stdout",
     "output_type": "stream",
     "text": [
      "shape: (1, 5)\n",
      "┌─────┬─────────┬───────────┬──────────┬────────────────┐\n",
      "│ POG ┆ UE      ┆ Faltante  ┆ Sobrante ┆ Stock Objetivo │\n",
      "│ --- ┆ ---     ┆ ---       ┆ ---      ┆ ---            │\n",
      "│ str ┆ str     ┆ i64       ┆ f64      ┆ i64            │\n",
      "╞═════╪═════════╪═══════════╪══════════╪════════════════╡\n",
      "│ AP  ┆ 1000143 ┆ 57        ┆ 0.0      ┆ 65             │\n",
      "└─────┴─────────┴───────────┴──────────┴────────────────┘\n"
     ]
    }
   ],
   "source": [
    "faltantes = faltantes.rename({col: 'UE' for col in faltantes.columns if 'labon' in col})\n",
    "print(faltantes[0])"
   ]
  },
  {
   "cell_type": "markdown",
   "metadata": {},
   "source": [
    "## Limpieza transito"
   ]
  },
  {
   "cell_type": "code",
   "execution_count": 106,
   "metadata": {},
   "outputs": [
    {
     "data": {
      "text/html": [
       "<div><style>\n",
       ".dataframe > thead > tr,\n",
       ".dataframe > tbody > tr {\n",
       "  text-align: right;\n",
       "  white-space: pre-wrap;\n",
       "}\n",
       "</style>\n",
       "<small>shape: (1, 17)</small><table border=\"1\" class=\"dataframe\"><thead><tr><th>__UNNAMED__0</th><th>AUX</th><th>Status</th><th>Material</th><th>Texto breve</th><th>Cantidad</th><th>Centro</th><th>NomSector_actual</th><th>Origen</th><th>TIPO</th><th>Cl.documento compras</th><th>Fecha</th><th>Nombre de proveedor</th><th>Grupo de compras</th><th>Semana</th><th>Mes</th><th>Año</th></tr><tr><td>i64</td><td>str</td><td>str</td><td>str</td><td>str</td><td>i64</td><td>i64</td><td>str</td><td>str</td><td>str</td><td>str</td><td>datetime[ms]</td><td>str</td><td>str</td><td>i64</td><td>i64</td><td>i64</td></tr></thead><tbody><tr><td>0</td><td>&quot;470002295310&quot;</td><td>&quot;No&nbsp;Facturado&quot;</td><td>&quot;1067930&quot;</td><td>&quot;COOLANT&nbsp;AZUL&nbsp;-16&nbsp;TRP&nbsp;CJ&nbsp;6B&nbsp;1GL…</td><td>0</td><td>714</td><td>&quot;Lubricantes&quot;</td><td>&quot;NAC&quot;</td><td>&quot;AFM&quot;</td><td>&quot;ZSPT&quot;</td><td>2024-11-30&nbsp;00:00:00</td><td>&quot;11460&nbsp;&nbsp;&nbsp;&nbsp;&nbsp;&nbsp;COMERCIAL&nbsp;SURCHILE&nbsp;…</td><td>&quot;TT3&quot;</td><td>48</td><td>11</td><td>2024</td></tr></tbody></table></div>"
      ],
      "text/plain": [
       "shape: (1, 17)\n",
       "┌──────────────┬──────────────┬──────────────┬──────────┬───┬──────────┬────────┬─────┬──────┐\n",
       "│ __UNNAMED__0 ┆ AUX          ┆ Status       ┆ Material ┆ … ┆ Grupo de ┆ Semana ┆ Mes ┆ Año  │\n",
       "│ ---          ┆ ---          ┆ ---          ┆ ---      ┆   ┆ compras  ┆ ---    ┆ --- ┆ ---  │\n",
       "│ i64          ┆ str          ┆ str          ┆ str      ┆   ┆ ---      ┆ i64    ┆ i64 ┆ i64  │\n",
       "│              ┆              ┆              ┆          ┆   ┆ str      ┆        ┆     ┆      │\n",
       "╞══════════════╪══════════════╪══════════════╪══════════╪═══╪══════════╪════════╪═════╪══════╡\n",
       "│ 0            ┆ 470002295310 ┆ No Facturado ┆ 1067930  ┆ … ┆ TT3      ┆ 48     ┆ 11  ┆ 2024 │\n",
       "└──────────────┴──────────────┴──────────────┴──────────┴───┴──────────┴────────┴─────┴──────┘"
      ]
     },
     "execution_count": 106,
     "metadata": {},
     "output_type": "execute_result"
    }
   ],
   "source": [
    "df_transito[0]"
   ]
  },
  {
   "cell_type": "markdown",
   "metadata": {},
   "source": [
    "## Si la semana del transito es 1 y el mes es 12 entonces sumar +1 al Año"
   ]
  },
  {
   "cell_type": "code",
   "execution_count": 107,
   "metadata": {},
   "outputs": [
    {
     "name": "stdout",
     "output_type": "stream",
     "text": [
      "shape: (1, 17)\n",
      "┌──────────────┬──────────────┬──────────────┬──────────┬───┬──────────┬────────┬─────┬──────┐\n",
      "│ __UNNAMED__0 ┆ AUX          ┆ Status       ┆ Material ┆ … ┆ Grupo de ┆ Semana ┆ Mes ┆ Año  │\n",
      "│ ---          ┆ ---          ┆ ---          ┆ ---      ┆   ┆ compras  ┆ ---    ┆ --- ┆ ---  │\n",
      "│ i64          ┆ str          ┆ str          ┆ str      ┆   ┆ ---      ┆ i64    ┆ i64 ┆ i64  │\n",
      "│              ┆              ┆              ┆          ┆   ┆ str      ┆        ┆     ┆      │\n",
      "╞══════════════╪══════════════╪══════════════╪══════════╪═══╪══════════╪════════╪═════╪══════╡\n",
      "│ 0            ┆ 470002295310 ┆ No Facturado ┆ 1067930  ┆ … ┆ TT3      ┆ 48     ┆ 11  ┆ 2024 │\n",
      "└──────────────┴──────────────┴──────────────┴──────────┴───┴──────────┴────────┴─────┴──────┘\n"
     ]
    }
   ],
   "source": [
    "df_transito = df_transito.with_columns(\n",
    "    pl.when((pl.col(\"Semana\") == 1) & (pl.col(\"Mes\") == 12))\n",
    "    .then(pl.col(\"Año\") + 1)\n",
    "    .otherwise(pl.col(\"Año\"))\n",
    "    .alias(\"Año\")\n",
    ")\n",
    "print(df_transito[0])"
   ]
  },
  {
   "cell_type": "code",
   "execution_count": 108,
   "metadata": {},
   "outputs": [
    {
     "name": "stdout",
     "output_type": "stream",
     "text": [
      "shape: (1, 5)\n",
      "┌──────────┬─────────────────────────────────┬──────┬────────┬──────────┐\n",
      "│ Material ┆ Texto breve                     ┆ Año  ┆ Semana ┆ Cantidad │\n",
      "│ ---      ┆ ---                             ┆ ---  ┆ ---    ┆ ---      │\n",
      "│ str      ┆ str                             ┆ i64  ┆ i64    ┆ i64      │\n",
      "╞══════════╪═════════════════════════════════╪══════╪════════╪══════════╡\n",
      "│ 123126   ┆ BAT HK MF40B19FL 35 AH 330 CCA… ┆ 2024 ┆ 49     ┆ 0        │\n",
      "└──────────┴─────────────────────────────────┴──────┴────────┴──────────┘\n"
     ]
    }
   ],
   "source": [
    "df_transito = df_transito.group_by(['Material', 'Texto breve', 'Año','Semana']).agg(\n",
    "    pl.col('Cantidad').sum().alias('Cantidad')\n",
    ")\n",
    "print(df_transito[0])"
   ]
  },
  {
   "cell_type": "code",
   "execution_count": 109,
   "metadata": {},
   "outputs": [],
   "source": [
    "df_transito = df_transito.with_columns(\n",
    "    pl.col(\"Año\").cast(pl.Utf8).str.slice(-2, 2).alias(\"Año\")\n",
    ").with_columns(\n",
    "    (pl.lit(\"Sem \") + pl.col(\"Semana\").cast(pl.Utf8) + pl.lit(\" (\") + pl.col(\"Año\") + pl.lit(\")\")).alias(\"Sem\")\n",
    ")\n"
   ]
  },
  {
   "cell_type": "markdown",
   "metadata": {},
   "source": [
    "## TUBO Y FALTANTES LISTO > VOY AHORA CON EL SP"
   ]
  },
  {
   "cell_type": "markdown",
   "metadata": {},
   "source": [
    "### LEER SUPPLY PLAN\n",
    "\n",
    "Este código busca el archivo Excel más reciente que contenga \"SP\" en su nombre dentro de una carpeta correspondiente al año y mes, según la semana actual:\n",
    "\n",
    "1. **Semana 1 y 2**: Detecta el año y busca la carpeta del mes anterior.\n",
    "2. **Semana 3 y 4**: Detecta el año y busca la carpeta del mes actual.\n",
    "3. Dentro de la carpeta del mes, busca el archivo Excel más reciente con \"SP\" en el nombre y lo lee con Polars.\n"
   ]
  },
  {
   "cell_type": "code",
   "execution_count": 110,
   "metadata": {},
   "outputs": [
    {
     "name": "stdout",
     "output_type": "stream",
     "text": [
      "Ingresando a la carpeta: C:\\Users\\etorres.DERCOPARTS\\DERCO CHILE REPUESTOS SpA\\Planificación y abastecimiento - Documentos\\Planificación y Compras AFM\\Open to Buy_OTB\\2024\n",
      "Se leyó el archivo: C:\\Users\\etorres.DERCOPARTS\\DERCO CHILE REPUESTOS SpA\\Planificación y abastecimiento - Documentos\\Planificación y Compras AFM\\Open to Buy_OTB\\2024\\12. Diciembre 2024\\SP Diciembre 2024.xlsx, hoja: Base\n"
     ]
    }
   ],
   "source": [
    "import os\n",
    "import polars as pl\n",
    "from datetime import datetime\n",
    "from openpyxl import load_workbook\n",
    "\n",
    "ruta = os.path.expanduser(r\"~\\DERCO CHILE REPUESTOS SpA\\Planificación y abastecimiento - Documentos\\Planificación y Compras AFM\\Open to Buy_OTB\")\n",
    "\n",
    "meses_esp = {\n",
    "    1: \"enero\", 2: \"febrero\", 3: \"marzo\", 4: \"abril\", 5: \"mayo\", 6: \"junio\",\n",
    "    7: \"julio\", 8: \"agosto\", 9: \"septiembre\", 10: \"octubre\", 11: \"noviembre\", 12: \"diciembre\"\n",
    "}\n",
    "\n",
    "mes_actual = datetime.now().month\n",
    "anio_actual = datetime.now().year\n",
    "mes_siguiente = mes_actual + 1 if mes_actual < 12 else 1\n",
    "anio_mes = anio_actual if semana in [1, 2] else anio_actual if mes_siguiente > 1 else anio_actual + 1\n",
    "nombre_mes = meses_esp[mes_actual] if semana in [1, 2] else meses_esp[mes_siguiente]\n",
    "\n",
    "carpetas = [carpeta for carpeta in os.listdir(ruta) if os.path.isdir(os.path.join(ruta, carpeta)) and len(carpeta) == 4]\n",
    "\n",
    "carpeta_entrada = next(\n",
    "    (os.path.join(ruta, carpeta) for carpeta in carpetas if str(anio_mes) in carpeta), None\n",
    ")\n",
    "\n",
    "if carpeta_entrada:\n",
    "    print(f\"Ingresando a la carpeta: {carpeta_entrada}\")\n",
    "    carpetas_mes = [carpeta for carpeta in os.listdir(carpeta_entrada) if nombre_mes in carpeta.lower()]\n",
    "    \n",
    "    if carpetas_mes:\n",
    "        carpeta_mes = os.path.join(carpeta_entrada, carpetas_mes[0])\n",
    "        archivos = [f for f in os.listdir(carpeta_mes) if f.lower().endswith('.xlsx') and 'sp' in f.lower()]\n",
    "        \n",
    "        if archivos:\n",
    "            archivo_reciente = max(archivos, key=lambda x: os.path.getmtime(os.path.join(carpeta_mes, x)))\n",
    "            archivo_path = os.path.join(carpeta_mes, archivo_reciente)\n",
    "            \n",
    "            # Usar openpyxl para obtener los nombres de las hojas\n",
    "            wb = load_workbook(archivo_path, read_only=True)\n",
    "            hojas = wb.sheetnames\n",
    "\n",
    "            # Buscar la hoja que contenga 'base' en el nombre\n",
    "            hoja_base = next((hoja for hoja in hojas if 'base' in hoja.lower()), None)\n",
    "            \n",
    "            if hoja_base:\n",
    "                df_supply_plan = pl.read_excel(archivo_path, sheet_name=hoja_base)\n",
    "                print(f\"Se leyó el archivo: {archivo_path}, hoja: {hoja_base}\")\n",
    "            else:\n",
    "                print(\"No se encontró una hoja llamada 'base'.\")\n",
    "        else:\n",
    "            print(\"No se encontró archivo con 'SP' en el nombre.\")\n",
    "    else:\n",
    "        print(f\"No se encontró la carpeta del mes: {nombre_mes}\")\n",
    "else:\n",
    "    print(f\"No se encontró carpeta correspondiente al año {anio_mes}\")\n"
   ]
  },
  {
   "cell_type": "code",
   "execution_count": 111,
   "metadata": {},
   "outputs": [],
   "source": [
    "if 'df_supply_plan' in locals() and df_supply_plan is not None:\n",
    "    for i, row in enumerate(df_supply_plan.iter_rows(named=False)):\n",
    "        if row[0] == \"Material\":\n",
    "            nuevos_nombres = [str(col) for col in row]\n",
    "            seen = {}\n",
    "            for idx, col in enumerate(nuevos_nombres):\n",
    "                if col in seen:\n",
    "                    seen[col] += 1\n",
    "                    nuevos_nombres[idx] = f\"{col}_{seen[col]}\"\n",
    "                else:\n",
    "                    seen[col] = 0\n",
    "            df_supply_plan = df_supply_plan.slice(i + 1)\n",
    "            df_supply_plan = df_supply_plan.rename({df_supply_plan.columns[j]: nuevos_nombres[j] for j in range(len(nuevos_nombres))})\n",
    "            break\n"
   ]
  },
  {
   "cell_type": "markdown",
   "metadata": {},
   "source": [
    "# EMPEZAR A CREAR BASE DE DISPO Y TAMBIEN DF DE PONDERACION"
   ]
  },
  {
   "cell_type": "markdown",
   "metadata": {},
   "source": [
    "# Ponderación con FC PROM y %SKU FC\n",
    "\n",
    "1. **Join:** Combina `df1` con `df_supply_plan` para agregar columna `ORIGEN`.\n",
    "2. **Selección:** Extrae columnas clave y columnas adicionales (170 a 176) de `df1_con_origen`.\n",
    "3. **Conversión:** Convierte las columnas seleccionadas a tipo `float` y reemplaza valores nulos con `0`.\n",
    "4. **Cálculo de FC PROM:**\n",
    "   - Si `ORIGEN` es \"NAC\", calcula promedio de las primeras 3 columnas adicionales.\n",
    "   - De lo contrario, calcula promedio de las primeras 6 columnas adicionales.\n",
    "5. **Cálculo de %SKU FC:**\n",
    "   - Calcula el porcentaje de `FC PROM` sobre la suma de `FC PROM` dentro de cada `Ult. Eslabón`.\n",
    "   - Rellena con `0` si el denominador es `0`.\n",
    "6. **Resultado:** Genera el DataFrame `ponderacion` con columnas `FC PROM` y `%SKU FC`.\n"
   ]
  },
  {
   "cell_type": "code",
   "execution_count": 112,
   "metadata": {},
   "outputs": [
    {
     "name": "stdout",
     "output_type": "stream",
     "text": [
      "shape: (1, 15)\n",
      "┌──────────────┬─────────┬─────┬───────────┬───┬──────────────┬─────────────┬────────────┬─────────┐\n",
      "│ ID           ┆ Ult.    ┆ Vig ┆ Canal     ┆ … ┆ 2025-04-01   ┆ 2025-05-01  ┆ FC PROM    ┆ %SKU FC │\n",
      "│ ---          ┆ Eslabón ┆ --- ┆ ---       ┆   ┆ 00:00:00_6   ┆ 00:00:00_6  ┆ ---        ┆ ---     │\n",
      "│ str          ┆ ---     ┆ str ┆ str       ┆   ┆ ---          ┆ ---         ┆ f64        ┆ f64     │\n",
      "│              ┆ str     ┆     ┆           ┆   ┆ f64          ┆ f64         ┆            ┆         │\n",
      "╞══════════════╪═════════╪═════╪═══════════╪═══╪══════════════╪═════════════╪════════════╪═════════╡\n",
      "│ 1171331CL    ┆ 1171331 ┆ 1   ┆ CL RETAIL ┆ … ┆ 810.0        ┆ 810.0       ┆ 911.333333 ┆ 1.0     │\n",
      "│ RETAIL       ┆         ┆     ┆           ┆   ┆              ┆             ┆            ┆         │\n",
      "└──────────────┴─────────┴─────┴───────────┴───┴──────────────┴─────────────┴────────────┴─────────┘\n"
     ]
    }
   ],
   "source": [
    "df1_con_origen = df1.join(\n",
    "    df_supply_plan.select([\"Material\", \"ORIGEN\"]),\n",
    "    left_on=\"Ult. Eslabón\",\n",
    "    right_on=\"Material\",\n",
    "    how=\"left\"\n",
    ")\n",
    "\n",
    "ponderacion = df1_con_origen.select([\n",
    "    \"ID\", \n",
    "    \"Ult. Eslabón\",\n",
    "    \"Vig\", \n",
    "    \"Canal\",\n",
    "    \"VProm\",\n",
    "    \"Stock Pond\",\n",
    "    \"ORIGEN\"\n",
    "] + df1_con_origen.columns[170:176])\n",
    "\n",
    "ponderacion = ponderacion.with_columns(\n",
    "    [pl.col(df1_con_origen.columns[i]).cast(pl.Float64).fill_null(0) for i in range(170, 176)]\n",
    ")\n",
    "\n",
    "col_inicio = ponderacion.columns.index(\"ORIGEN\") + 1\n",
    "columnas_posteriores = ponderacion.columns[col_inicio:]\n",
    "\n",
    "ponderacion = ponderacion.with_columns(\n",
    "    pl.when(pl.col(\"ORIGEN\") == \"NAC\")\n",
    "    .then(\n",
    "        sum(pl.col(col) for col in columnas_posteriores[:3]) / len(columnas_posteriores[:3])\n",
    "    )\n",
    "    .otherwise(\n",
    "        sum(pl.col(col) for col in columnas_posteriores[:6]) / len(columnas_posteriores[:6])\n",
    "    )\n",
    "    .alias(\"FC PROM\")\n",
    ")\n",
    "\n",
    "ponderacion = ponderacion.with_columns(\n",
    "    (pl.col(\"FC PROM\") / \n",
    "     pl.col(\"FC PROM\").sum().over(\"Ult. Eslabón\"))\n",
    "    .fill_nan(0) \n",
    "    .alias(\"%SKU FC\")\n",
    ")\n",
    "print(ponderacion.head(1))\n"
   ]
  },
  {
   "cell_type": "code",
   "execution_count": 113,
   "metadata": {},
   "outputs": [
    {
     "data": {
      "text/plain": [
       "['2024-12-01 00:00:00_6',\n",
       " '2025-01-01 00:00:00_6',\n",
       " '2025-02-01 00:00:00_6',\n",
       " '2025-03-01 00:00:00_6',\n",
       " '2025-04-01 00:00:00_6',\n",
       " '2025-05-01 00:00:00_6']"
      ]
     },
     "execution_count": 113,
     "metadata": {},
     "output_type": "execute_result"
    }
   ],
   "source": [
    "df1.columns[170:176]"
   ]
  },
  {
   "cell_type": "markdown",
   "metadata": {},
   "source": [
    "OPCIONAL GUARDAR PONDERACION"
   ]
  },
  {
   "cell_type": "code",
   "execution_count": 114,
   "metadata": {},
   "outputs": [],
   "source": [
    "# # Ruta de guardado\n",
    "# ruta_guardado_csv = r\"C:\\Users\\etorres.DERCOPARTS\\OneDrive - DERCO CHILE REPUESTOS SpA\\Downloads\\ponderacion_modificado.csv\"\n",
    "\n",
    "# # Guardar como CSV con delimitador personalizado\n",
    "# ponderacion.write_csv(\n",
    "#     ruta_guardado_csv,\n",
    "#     separator=';',  # Delimitador por punto y coma\n",
    "#     float_precision=2,  # Controlar precisión decimal si es necesario\n",
    "# )\n",
    "\n",
    "# # Ajustar el separador decimal a ',' en los valores float\n",
    "# # Convertimos el archivo para reemplazar los puntos decimales con comas\n",
    "# with open(ruta_guardado_csv, 'r') as file:\n",
    "#     contenido = file.read().replace('.', ',')\n",
    "\n",
    "# # Guardar el contenido ajustado nuevamente\n",
    "# with open(ruta_guardado_csv, 'w') as file:\n",
    "#     file.write(contenido)\n",
    "\n",
    "# print(f\"Archivo CSV guardado con delimitador ';' y decimales ',' en: {ruta_guardado_csv}\")\n"
   ]
  },
  {
   "cell_type": "markdown",
   "metadata": {},
   "source": [
    "## calcular FC Ponderado"
   ]
  },
  {
   "cell_type": "code",
   "execution_count": 115,
   "metadata": {},
   "outputs": [
    {
     "data": {
      "text/plain": [
       "['ID',\n",
       " 'Ult. Eslabón',\n",
       " 'Vig',\n",
       " 'Canal',\n",
       " 'VProm',\n",
       " 'Stock Pond',\n",
       " 'ORIGEN',\n",
       " '2024-12-01 00:00:00_6',\n",
       " '2025-01-01 00:00:00_6',\n",
       " '2025-02-01 00:00:00_6',\n",
       " '2025-03-01 00:00:00_6',\n",
       " '2025-04-01 00:00:00_6',\n",
       " '2025-05-01 00:00:00_6',\n",
       " 'FC PROM',\n",
       " '%SKU FC']"
      ]
     },
     "execution_count": 115,
     "metadata": {},
     "output_type": "execute_result"
    }
   ],
   "source": [
    "ponderacion.columns"
   ]
  },
  {
   "cell_type": "markdown",
   "metadata": {},
   "source": [
    "# Base_Dispo\n",
    "\n",
    "1. **Selección:** Columnas clave de `df1`.\n",
    "2. **Join:** Combina con `ponderacion` para agregar `%SKU FC`.\n",
    "3. **Renombrar:** `%SKU FC` → `Ponderación por canal`.\n",
    "4. **Reorganización:** Ajuste de orden de columnas.\n",
    "5. **Transformación:** Crea `Canal Consolidado` con reglas específicas.\n",
    "6. **Validación:** Imprime valores únicos de `Canal Consolidado`.\n"
   ]
  },
  {
   "cell_type": "code",
   "execution_count": 116,
   "metadata": {},
   "outputs": [
    {
     "name": "stdout",
     "output_type": "stream",
     "text": [
      "shape: (3, 1)\n",
      "┌───────────────────┐\n",
      "│ Canal Consolidado │\n",
      "│ ---               │\n",
      "│ str               │\n",
      "╞═══════════════════╡\n",
      "│ MAY               │\n",
      "│ GT                │\n",
      "│ RETAIL            │\n",
      "└───────────────────┘\n"
     ]
    }
   ],
   "source": [
    "\n",
    "base_dispo = df1.select([\n",
    "    \"ID\",\n",
    "    \"Ult. Eslabón\",\n",
    "    \"Descripcion Material\",\n",
    "    \"Marca\",\n",
    "    \"Vig\",\n",
    "    \"Canal\"   \n",
    "])\n",
    "base_dispo = base_dispo.join(\n",
    "    ponderacion.select([\"Ult. Eslabón\", \"%SKU FC\"]),\n",
    "    left_on=\"Ult. Eslabón\",\n",
    "    right_on=\"Ult. Eslabón\",\n",
    "    how=\"inner\"\n",
    ")\n",
    "base_dispo = base_dispo.rename({\"%SKU FC\": \"Ponderación por canal\"})\n",
    "column_order = [\n",
    "    \"ID\",\n",
    "    \"Ult. Eslabón\",\n",
    "    \"Descripcion Material\",\n",
    "    \"Marca\",\n",
    "    \"Ponderación por canal\",\n",
    "    \"Vig\",\n",
    "    \"Canal\"\n",
    "]\n",
    "base_dispo = base_dispo.select(column_order)\n",
    "base_dispo = base_dispo.with_columns(\n",
    "   pl.col(\"Canal\").map_elements(lambda x:\n",
    "       \"RETAIL\" if x == \"CL RETAIL\" else\n",
    "       \"MAY\" if x in [\"CL MAYORISTA\", \"CL CES 01\"] else\n",
    "       \"GT\" if x in [\"CL EASY\", \"CL SODIMAC\", \"CL WALMART\", \"CL SMU\", \"CL TOTTUS\"] else\n",
    "       \"AGROPLANET\" if x == \"CL AGROPLANET\" else\n",
    "       \"0\",\n",
    "       return_dtype=pl.Utf8\n",
    "   ).alias(\"Canal Consolidado\")\n",
    ")\n",
    "print(base_dispo.select(\"Canal Consolidado\").unique())\n"
   ]
  },
  {
   "cell_type": "markdown",
   "metadata": {},
   "source": [
    "AYUDA PARA SABER QUE COLUMAS NO ESTA ENCONTRANDO (OPCIONAL)"
   ]
  },
  {
   "cell_type": "code",
   "execution_count": 117,
   "metadata": {},
   "outputs": [
    {
     "data": {
      "text/plain": [
       "[]"
      ]
     },
     "execution_count": 117,
     "metadata": {},
     "output_type": "execute_result"
    }
   ],
   "source": [
    "# Obtener las columnas disponibles en el DataFrame\n",
    "columnas_disponibles = df_supply_plan.columns\n",
    "\n",
    "# Lista de columnas que quieres seleccionar\n",
    "columnas_deseadas = [\n",
    "    \"Sector\",\n",
    "    \"Agrupación ClaCom\",\n",
    "    \"Categoría ClaCom\",\n",
    "    \"SubCategoría ClaCom\",\n",
    "    \"Bobinas/Implementos/Otros\",\n",
    "    \"COD. PROVEEDOR\",\n",
    "    \"PROVEEDOR\",\n",
    "    \"ORIGEN\",\n",
    "    \"LEAD TIME\",\n",
    "    \"Codigos Inquebrables\",\n",
    "    \"Comentario Sesión\",\n",
    "    \"Comentario Finales\",\n",
    "    \"OBS Retail\",\n",
    "    \"OBS DERCO\"\n",
    "]\n",
    "\n",
    "# Identificar columnas no encontradas\n",
    "columnas_no_encontradas = [col for col in columnas_deseadas if col not in columnas_disponibles]\n",
    "\n",
    "columnas_no_encontradas\n"
   ]
  },
  {
   "cell_type": "markdown",
   "metadata": {},
   "source": [
    "### Filtrado y Renombramiento Dinámico de Columnas en `df_supply_plan`\n",
    "\n",
    "Este script ajusta un DataFrame específico (`df_supply_plan`) para identificar, renombrar y filtrar columnas basadas en palabras clave.\n",
    "\n",
    "#### Objetivo:\n",
    "1. **Identificar columnas relevantes** según contenido parcial en sus nombres:\n",
    "   - `\"segmentaci\"` (sin incluir \"abcd\") → Renombrada como `\"Segmentacion AFM\"`.\n",
    "   - `\"6 meses\"` → Renombrada como `\"Prom Forecast 3-6-12\"`.\n",
    "   - `\"4 - 6 - 12\"` → Renombrada como `\"Prom Venta 3-6-12\"`.\n",
    "   - `\"Codigos Inquebrables\"` → Renombrada como `\"Codigos Transparentes\"`.\n",
    "\n",
    "2. **Filtrar columnas** seleccionadas:\n",
    "   - Fijas: `\"Sector\"`, `\"Agrupación ClaCom\"`, `\"Categoría ClaCom\"`, `\"SubCategoría ClaCom\"`, `\"Bobinas/Implementos/Otros\"`, `\"COD. PROVEEDOR\"`, `\"PROVEEDOR\"`, `\"ORIGEN\"`, `\"LEAD TIME\"`, `\"Comentario Sesión\"`, `\"Comentario Finales\"`, `\"OBS Retail\"`, `\"OBS DERCO\"`.\n",
    "   - Dinámicas: Agregadas automáticamente si fueron encontradas y renombradas.\n",
    "\n",
    "#### Resultado:\n",
    "Un DataFrame filtrado con columnas relevantes para análisis y reportes.\n"
   ]
  },
  {
   "cell_type": "code",
   "execution_count": 118,
   "metadata": {},
   "outputs": [],
   "source": [
    "renombramientos = {}\n",
    "\n",
    "columna_segmentacion = [col for col in df_supply_plan.columns if \"segmentaci\" in col.lower() and \"abcd\" not in col.lower()]\n",
    "if columna_segmentacion:\n",
    "    renombramientos[columna_segmentacion[0]] = \"Segmentacion AFM\"\n",
    "\n",
    "columna_forecast = [col for col in df_supply_plan.columns if \"6 meses\" in col.lower()]\n",
    "if columna_forecast:\n",
    "    renombramientos[columna_forecast[0]] = \"Prom Forecast 3-6-12\"\n",
    "\n",
    "columna_venta = [col for col in df_supply_plan.columns if \"4 - 6 - 12\" in col]\n",
    "if columna_venta:\n",
    "    renombramientos[columna_venta[0]] = \"Prom Venta 3-6-12\"\n",
    "\n",
    "columna_codigos = [col for col in df_supply_plan.columns if \"Codigos Inquebrables\" in col]\n",
    "if columna_codigos:\n",
    "    renombramientos[columna_codigos[0]] = \"Codigos Transparentes\"\n",
    "\n",
    "if renombramientos:\n",
    "    df_supply_plan = df_supply_plan.rename(renombramientos)\n",
    "\n",
    "columnas_seleccionadas = [\n",
    "    \"Material\",\n",
    "    \"Sector\",\n",
    "    \"Agrupación ClaCom\",\n",
    "    \"SubAgrupación ClaCom\",\n",
    "    \"Categoría ClaCom\",\n",
    "    \"SubCategoría ClaCom\",\n",
    "    \"Bobinas/Implementos/Otros\",\n",
    "    \"COD. PROVEEDOR\",\n",
    "    \"PROVEEDOR\",\n",
    "    \"ORIGEN\",\n",
    "    \"LEAD TIME\",\n",
    "    \"Codigos Transparentes\",\n",
    "    \"Comentario Sesión\",\n",
    "    \"Comentario Finales\",\n",
    "    \"OBS Retail\",\n",
    "    \"OBS DERCO\"\n",
    "]\n",
    "\n",
    "if \"Segmentacion AFM\" in renombramientos.values():\n",
    "    columnas_seleccionadas.append(\"Segmentacion AFM\")\n",
    "if \"Prom Forecast 3-6-12\" in renombramientos.values():\n",
    "    columnas_seleccionadas.append(\"Prom Forecast 3-6-12\")\n",
    "if \"Prom Venta 3-6-12\" in renombramientos.values():\n",
    "    columnas_seleccionadas.append(\"Prom Venta 3-6-12\")\n",
    "\n",
    "df_supply_plan_filtrado = df_supply_plan.select(columnas_seleccionadas)\n"
   ]
  },
  {
   "cell_type": "code",
   "execution_count": 119,
   "metadata": {},
   "outputs": [],
   "source": [
    "base_dispo = base_dispo.rename({\"Ult. Eslabón\": \"Material\"}).join(\n",
    "    df_supply_plan_filtrado, \n",
    "    on=\"Material\", \n",
    "    how=\"left\"\n",
    ").rename({\"Material\": \"Ult. Eslabón\"})\n"
   ]
  },
  {
   "cell_type": "code",
   "execution_count": 120,
   "metadata": {},
   "outputs": [
    {
     "data": {
      "text/html": [
       "<div><style>\n",
       ".dataframe > thead > tr,\n",
       ".dataframe > tbody > tr {\n",
       "  text-align: right;\n",
       "  white-space: pre-wrap;\n",
       "}\n",
       "</style>\n",
       "<small>shape: (1, 26)</small><table border=\"1\" class=\"dataframe\"><thead><tr><th>ID</th><th>Ult. Eslabón</th><th>Descripcion Material</th><th>Marca</th><th>Ponderación por canal</th><th>Vig</th><th>Canal</th><th>Canal Consolidado</th><th>Sector</th><th>Agrupación ClaCom</th><th>SubAgrupación ClaCom</th><th>Categoría ClaCom</th><th>SubCategoría ClaCom</th><th>Bobinas/Implementos/Otros</th><th>COD. PROVEEDOR</th><th>PROVEEDOR</th><th>ORIGEN</th><th>LEAD TIME</th><th>Codigos Transparentes</th><th>Comentario Sesión</th><th>Comentario Finales</th><th>OBS Retail</th><th>OBS DERCO</th><th>Segmentacion AFM</th><th>Prom Forecast 3-6-12</th><th>Prom Venta 3-6-12</th></tr><tr><td>str</td><td>str</td><td>str</td><td>str</td><td>f64</td><td>str</td><td>str</td><td>str</td><td>str</td><td>str</td><td>str</td><td>str</td><td>str</td><td>str</td><td>str</td><td>str</td><td>str</td><td>str</td><td>str</td><td>str</td><td>str</td><td>str</td><td>str</td><td>str</td><td>str</td><td>str</td></tr></thead><tbody><tr><td>&quot;1171331CL&nbsp;RETAIL&quot;</td><td>&quot;1171331&quot;</td><td>&quot;SCENT&nbsp;BOMB&nbsp;2&nbsp;PACK&nbsp;PAPER&nbsp;MAN&nbsp;TR…</td><td>&quot;SCENT&nbsp;BOMB&quot;</td><td>1.0</td><td>&quot;1&quot;</td><td>&quot;CL&nbsp;RETAIL&quot;</td><td>&quot;RETAIL&quot;</td><td>&quot;Accesorios-Car&nbsp;Care&quot;</td><td>&quot;ACCESORIOS&quot;</td><td>&quot;LIMPIEZA&nbsp;Y&nbsp;CUIDADO&quot;</td><td>&quot;AROMATIZANTES&quot;</td><td>&quot;COLGANTE&quot;</td><td>&quot;Otros&quot;</td><td>&quot;61111&quot;</td><td>&quot;Careco&nbsp;LLC&quot;</td><td>&quot;IMP&quot;</td><td>&quot;120&quot;</td><td>&quot;NO&quot;</td><td>&quot;No&nbsp;Comprar&quot;</td><td>null</td><td>&quot;0&quot;</td><td>&quot;0&quot;</td><td>&quot;SIN&nbsp;SEGMENTACION&quot;</td><td>&quot;911.333333333&quot;</td><td>&quot;0.25&quot;</td></tr></tbody></table></div>"
      ],
      "text/plain": [
       "shape: (1, 26)\n",
       "┌─────────────┬─────────┬─────────────┬───────┬───┬─────────────┬────────────┬────────────┬────────┐\n",
       "│ ID          ┆ Ult.    ┆ Descripcion ┆ Marca ┆ … ┆ OBS DERCO   ┆ Segmentaci ┆ Prom       ┆ Prom   │\n",
       "│ ---         ┆ Eslabón ┆ Material    ┆ ---   ┆   ┆ ---         ┆ on AFM     ┆ Forecast   ┆ Venta  │\n",
       "│ str         ┆ ---     ┆ ---         ┆ str   ┆   ┆ str         ┆ ---        ┆ 3-6-12     ┆ 3-6-12 │\n",
       "│             ┆ str     ┆ str         ┆       ┆   ┆             ┆ str        ┆ ---        ┆ ---    │\n",
       "│             ┆         ┆             ┆       ┆   ┆             ┆            ┆ str        ┆ str    │\n",
       "╞═════════════╪═════════╪═════════════╪═══════╪═══╪═════════════╪════════════╪════════════╪════════╡\n",
       "│ 1171331CL   ┆ 1171331 ┆ SCENT BOMB  ┆ SCENT ┆ … ┆ 0           ┆ SIN SEGMEN ┆ 911.333333 ┆ 0.25   │\n",
       "│ RETAIL      ┆         ┆ 2 PACK      ┆ BOMB  ┆   ┆             ┆ TACION     ┆ 333        ┆        │\n",
       "│             ┆         ┆ PAPER MAN   ┆       ┆   ┆             ┆            ┆            ┆        │\n",
       "│             ┆         ┆ TR…         ┆       ┆   ┆             ┆            ┆            ┆        │\n",
       "└─────────────┴─────────┴─────────────┴───────┴───┴─────────────┴────────────┴────────────┴────────┘"
      ]
     },
     "execution_count": 120,
     "metadata": {},
     "output_type": "execute_result"
    }
   ],
   "source": [
    "base_dispo.head(1)"
   ]
  },
  {
   "cell_type": "markdown",
   "metadata": {},
   "source": [
    "# Expansión, Filtrado y Agrupación de Datos con Polars\n",
    "\n",
    "Este código realiza las siguientes operaciones:\n",
    "1. Genera todas las semanas correspondientes a los meses de una columna `variable` que contiene fechas.\n",
    "2. Filtra filas según condiciones específicas: elimina semanas 1 en diciembre de los años 2024, 2025, 2026 y 2027.\n",
    "3. Agrupa los datos por columnas clave y calcula el promedio de `Fc Semanal`."
   ]
  },
  {
   "cell_type": "code",
   "execution_count": 121,
   "metadata": {},
   "outputs": [
    {
     "name": "stdout",
     "output_type": "stream",
     "text": [
      "shape: (1, 5)\n",
      "┌──────────────────┬──────────────┬──────┬─────────┬─────────────────────┐\n",
      "│ ID               ┆ Ult. Eslabón ┆ Año  ┆ Semanas ┆ Promedio Fc Semanal │\n",
      "│ ---              ┆ ---          ┆ ---  ┆ ---     ┆ ---                 │\n",
      "│ str              ┆ str          ┆ i32  ┆ i64     ┆ f64                 │\n",
      "╞══════════════════╪══════════════╪══════╪═════════╪═════════════════════╡\n",
      "│ 1069054CL RETAIL ┆ 1069054      ┆ 2025 ┆ 23      ┆ 0.0                 │\n",
      "└──────────────────┴──────────────┴──────┴─────────┴─────────────────────┘\n"
     ]
    }
   ],
   "source": [
    "import polars as pl\n",
    "from datetime import datetime, timedelta\n",
    "from calendar import monthrange\n",
    "\n",
    "def semanas_del_mes(fecha):\n",
    "    fecha_dt = datetime.strptime(fecha, \"%Y-%m-%d\")\n",
    "    _, dias_mes = monthrange(fecha_dt.year, fecha_dt.month)\n",
    "    inicio_mes = datetime(fecha_dt.year, fecha_dt.month, 1)\n",
    "    fin_mes = datetime(fecha_dt.year, fecha_dt.month, dias_mes)\n",
    "\n",
    "    semanas = []\n",
    "    fecha_actual = inicio_mes\n",
    "    while fecha_actual <= fin_mes:\n",
    "        semana_iso = fecha_actual.isocalendar().week\n",
    "        if semana_iso not in semanas:\n",
    "            semanas.append(semana_iso)\n",
    "        fecha_actual += timedelta(days=1)\n",
    "\n",
    "    return semanas\n",
    "\n",
    "def expandir_df(df):\n",
    "    df_pd = df.to_pandas()\n",
    "    df_expanded = df_pd.assign(Semanas=df_pd[\"variable\"].dt.strftime('%Y-%m-%d').apply(semanas_del_mes)).explode(\"Semanas\")\n",
    "    return pl.from_pandas(df_expanded)\n",
    "\n",
    "df_melt_1_expanded = expandir_df(df_melt_1)\n",
    "fc_sem = df_melt_1_expanded\n",
    "fc_sem = fc_sem.with_columns(\n",
    "    pl.col(\"variable\").dt.year().alias(\"Año\")\n",
    ")\n",
    "fc_sem = fc_sem.filter(~(\n",
    "    ((pl.col(\"Año\") == 2024) | (pl.col(\"Año\") == 2025) | (pl.col(\"Año\") == 2026) | (pl.col(\"Año\") == 2027)) &\n",
    "    (pl.col(\"Semanas\") == 1) &\n",
    "    (pl.col(\"variable\").dt.month() == 12)\n",
    "))\n",
    "fc_sem = fc_sem.with_columns(\n",
    "    pl.col(\"Fc Semanal\").fill_null(0)\n",
    ")\n",
    "fc_sem_agrupado = fc_sem.group_by(\n",
    "    [\"ID\", \"Ult. Eslabón\", \"Año\", \"Semanas\"]\n",
    ").agg(\n",
    "    pl.col(\"Fc Semanal\").mean().alias(\"Promedio Fc Semanal\")\n",
    ")\n",
    "\n",
    "print(fc_sem_agrupado[0])\n"
   ]
  },
  {
   "cell_type": "markdown",
   "metadata": {},
   "source": [
    "# Validar valores unicos del fc_sem"
   ]
  },
  {
   "cell_type": "code",
   "execution_count": 122,
   "metadata": {},
   "outputs": [],
   "source": [
    "# fc_sem_agrupado['variable'].unique()"
   ]
  },
  {
   "cell_type": "markdown",
   "metadata": {},
   "source": [
    "## Vrificar valores unicos de semanas según fecha"
   ]
  },
  {
   "cell_type": "code",
   "execution_count": 123,
   "metadata": {},
   "outputs": [],
   "source": [
    "# valores_unicos = fc_sem.filter(\n",
    "#     # (pl.col(\"variable\") == pl.datetime(2024, 12, 1)) |\n",
    "#     (pl.col(\"variable\") == pl.datetime(2024, 12, 1)) \n",
    "#     # (pl.col(\"variable\") == pl.datetime(2025, 1, 1))\n",
    "# ).select(\"Semanas\").unique()\n",
    "\n",
    "# print(valores_unicos)\n"
   ]
  },
  {
   "cell_type": "markdown",
   "metadata": {},
   "source": [
    "## VALIDACION FC_SEM Y AGRUPADO OPCIONAL A CSV GUARDAR"
   ]
  },
  {
   "cell_type": "code",
   "execution_count": 124,
   "metadata": {},
   "outputs": [],
   "source": [
    "# fc_sem.to_pandas().to_csv(\n",
    "#     r\"C:\\Users\\etorres.DERCOPARTS\\OneDrive - DERCO CHILE REPUESTOS SpA\\Downloads\\fc_sem.csv\",\n",
    "#     sep=';',\n",
    "#     decimal=',',\n",
    "#     index=False\n",
    "# )\n",
    "\n",
    "# fc_sem_agrupado.to_pandas().to_csv(\n",
    "#     r\"C:\\Users\\etorres.DERCOPARTS\\OneDrive - DERCO CHILE REPUESTOS SpA\\Downloads\\fc_sem_agrupado.csv\",\n",
    "#     sep=';',\n",
    "#     decimal=',',\n",
    "#     index=False\n",
    "# )\n"
   ]
  },
  {
   "cell_type": "code",
   "execution_count": 125,
   "metadata": {},
   "outputs": [
    {
     "data": {
      "text/html": [
       "<div><style>\n",
       ".dataframe > thead > tr,\n",
       ".dataframe > tbody > tr {\n",
       "  text-align: right;\n",
       "  white-space: pre-wrap;\n",
       "}\n",
       "</style>\n",
       "<small>shape: (1, 5)</small><table border=\"1\" class=\"dataframe\"><thead><tr><th>ID</th><th>Ult. Eslabón</th><th>Año</th><th>Semanas</th><th>Promedio Fc Semanal</th></tr><tr><td>str</td><td>str</td><td>i32</td><td>i64</td><td>f64</td></tr></thead><tbody><tr><td>&quot;1069054CL&nbsp;RETAIL&quot;</td><td>&quot;1069054&quot;</td><td>2025</td><td>23</td><td>0.0</td></tr></tbody></table></div>"
      ],
      "text/plain": [
       "shape: (1, 5)\n",
       "┌──────────────────┬──────────────┬──────┬─────────┬─────────────────────┐\n",
       "│ ID               ┆ Ult. Eslabón ┆ Año  ┆ Semanas ┆ Promedio Fc Semanal │\n",
       "│ ---              ┆ ---          ┆ ---  ┆ ---     ┆ ---                 │\n",
       "│ str              ┆ str          ┆ i32  ┆ i64     ┆ f64                 │\n",
       "╞══════════════════╪══════════════╪══════╪═════════╪═════════════════════╡\n",
       "│ 1069054CL RETAIL ┆ 1069054      ┆ 2025 ┆ 23      ┆ 0.0                 │\n",
       "└──────────────────┴──────────────┴──────┴─────────┴─────────────────────┘"
      ]
     },
     "execution_count": 125,
     "metadata": {},
     "output_type": "execute_result"
    }
   ],
   "source": [
    "fc_sem_agrupado.head(1)"
   ]
  },
  {
   "cell_type": "code",
   "execution_count": 126,
   "metadata": {},
   "outputs": [
    {
     "name": "stdout",
     "output_type": "stream",
     "text": [
      "shape: (1, 5)\n",
      "┌──────────────────┬──────────────┬──────┬─────────┬─────────────────────┐\n",
      "│ ID               ┆ Ult. Eslabón ┆ Año  ┆ Semanas ┆ Promedio Fc Semanal │\n",
      "│ ---              ┆ ---          ┆ ---  ┆ ---     ┆ ---                 │\n",
      "│ str              ┆ str          ┆ i32  ┆ i64     ┆ f64                 │\n",
      "╞══════════════════╪══════════════╪══════╪═════════╪═════════════════════╡\n",
      "│ 1000147CL RETAIL ┆ 1000147      ┆ 2024 ┆ 48      ┆ 12.01276            │\n",
      "└──────────────────┴──────────────┴──────┴─────────┴─────────────────────┘\n"
     ]
    }
   ],
   "source": [
    "print(\n",
    "    fc_sem_agrupado.filter(\n",
    "        (pl.col(\"ID\") == \"1000147CL RETAIL\") &\n",
    "        (pl.col(\"Semanas\") == 48) &\n",
    "        (pl.col(\"Año\") == 2024)\n",
    "    )\n",
    ")"
   ]
  },
  {
   "cell_type": "code",
   "execution_count": 127,
   "metadata": {},
   "outputs": [
    {
     "name": "stdout",
     "output_type": "stream",
     "text": [
      "shape: (1, 6)\n",
      "┌──────────────────┬──────────────┬─────┬─────────┬─────────────────────┬─────────────┐\n",
      "│ ID               ┆ Ult. Eslabón ┆ Año ┆ Semanas ┆ Promedio Fc Semanal ┆ Sem         │\n",
      "│ ---              ┆ ---          ┆ --- ┆ ---     ┆ ---                 ┆ ---         │\n",
      "│ str              ┆ str          ┆ str ┆ i64     ┆ f64                 ┆ str         │\n",
      "╞══════════════════╪══════════════╪═════╪═════════╪═════════════════════╪═════════════╡\n",
      "│ 1069054CL RETAIL ┆ 1069054      ┆ 25  ┆ 23      ┆ 0.0                 ┆ Sem 23 (25) │\n",
      "└──────────────────┴──────────────┴─────┴─────────┴─────────────────────┴─────────────┘\n"
     ]
    }
   ],
   "source": [
    "fc_sem_agrupado = fc_sem_agrupado.with_columns(\n",
    "    pl.col(\"Año\").cast(pl.Utf8).str.slice(-2, 2).alias(\"Año\")\n",
    ").with_columns(\n",
    "    (pl.lit(\"Sem \") + pl.col(\"Semanas\").cast(pl.Utf8) + pl.lit(\" (\") + pl.col(\"Año\") + pl.lit(\")\")).alias(\"Sem\")\n",
    ")\n",
    "print(fc_sem_agrupado[0])\n"
   ]
  },
  {
   "cell_type": "code",
   "execution_count": 128,
   "metadata": {},
   "outputs": [],
   "source": [
    "fc=fc_sem_agrupado\n",
    "# Cambiar el nombre de las columnas en 'fc' que contengan 'labon' en su nombre\n",
    "fc = fc.rename({col: \"UE\" for col in fc.columns if \"labón\" in col.lower()})\n",
    "\n",
    "# Cambiar el nombre de las columnas en 'df_transito' que contengan 'material' en su nombre\n",
    "df_transito = df_transito.rename({col: \"UE\" for col in df_transito.columns if \"Material\" in col.lower()})\n",
    "\n",
    "# Cambiar el nombre de las columnas en 'base_dispo' que contengan 'labón' en su nombre\n",
    "base_dispo = base_dispo.rename({col: \"UE\" for col in base_dispo.columns if \"labón\" in col.lower()})\n",
    "\n"
   ]
  },
  {
   "cell_type": "markdown",
   "metadata": {},
   "source": [
    "## PRINT TUBO Y FALTANTES Y FC"
   ]
  },
  {
   "cell_type": "code",
   "execution_count": 129,
   "metadata": {},
   "outputs": [
    {
     "name": "stdout",
     "output_type": "stream",
     "text": [
      "shape: (1, 7)\n",
      "┌──────────┬───────────────────────┬────────┬─────────────┬───────────────┬────────────┬───────────┐\n",
      "│ Material ┆ Texto breve de        ┆ UE     ┆ Libre       ┆ Trans./Trasl. ┆ Inspecc.de ┆ Bloqueado │\n",
      "│ ---      ┆ material              ┆ ---    ┆ utilización ┆ ---           ┆ calidad    ┆ ---       │\n",
      "│ str      ┆ ---                   ┆ str    ┆ ---         ┆ i64           ┆ ---        ┆ f64       │\n",
      "│          ┆ str                   ┆        ┆ f64         ┆               ┆ i64        ┆           │\n",
      "╞══════════╪═══════════════════════╪════════╪═════════════╪═══════════════╪════════════╪═══════════╡\n",
      "│ 130730   ┆ FILTRO AIRE INT. NH   ┆ 130730 ┆ 6.0         ┆ 0             ┆ 0          ┆ 0.0       │\n",
      "└──────────┴───────────────────────┴────────┴─────────────┴───────────────┴────────────┴───────────┘\n",
      "shape: (1, 8)\n",
      "┌──────────┬──────────────┬────────┬─────────────┬─────────┬─────────────┬─────────────┬───────────┐\n",
      "│ Material ┆ Texto breve  ┆ UE     ┆ Libre       ┆ Control ┆ Trans./Tras ┆ Inspecc.de  ┆ Bloqueado │\n",
      "│ ---      ┆ de material  ┆ ---    ┆ utilización ┆ ---     ┆ l.          ┆ calidad     ┆ ---       │\n",
      "│ str      ┆ ---          ┆ str    ┆ ---         ┆ f64     ┆ ---         ┆ ---         ┆ f64       │\n",
      "│          ┆ str          ┆        ┆ f64         ┆         ┆ i64         ┆ i64         ┆           │\n",
      "╞══════════╪══════════════╪════════╪═════════════╪═════════╪═════════════╪═════════════╪═══════════╡\n",
      "│ 122238   ┆ ROTULA SUP   ┆ 122238 ┆ 209.0       ┆ 0.0     ┆ 0           ┆ 0           ┆ 0.0       │\n",
      "│          ┆ AMB DGP      ┆        ┆             ┆         ┆             ┆             ┆           │\n",
      "│          ┆ TOYOTA HILU… ┆        ┆             ┆         ┆             ┆             ┆           │\n",
      "└──────────┴──────────────┴────────┴─────────────┴─────────┴─────────────┴─────────────┴───────────┘\n",
      "shape: (1, 5)\n",
      "┌─────┬─────────┬───────────┬──────────┬────────────────┐\n",
      "│ POG ┆ UE      ┆ Faltante  ┆ Sobrante ┆ Stock Objetivo │\n",
      "│ --- ┆ ---     ┆ ---       ┆ ---      ┆ ---            │\n",
      "│ str ┆ str     ┆ i64       ┆ f64      ┆ i64            │\n",
      "╞═════╪═════════╪═══════════╪══════════╪════════════════╡\n",
      "│ AP  ┆ 1000143 ┆ 57        ┆ 0.0      ┆ 65             │\n",
      "└─────┴─────────┴───────────┴──────────┴────────────────┘\n"
     ]
    }
   ],
   "source": [
    "print(df_711[0])\n",
    "print(df_stock[0])\n",
    "print(faltantes[0])"
   ]
  },
  {
   "cell_type": "code",
   "execution_count": 130,
   "metadata": {},
   "outputs": [
    {
     "name": "stdout",
     "output_type": "stream",
     "text": [
      "shape: (1, 6)\n",
      "┌──────────┬─────────────────────────────────┬─────┬────────┬──────────┬─────────────┐\n",
      "│ Material ┆ Texto breve                     ┆ Año ┆ Semana ┆ Cantidad ┆ Sem         │\n",
      "│ ---      ┆ ---                             ┆ --- ┆ ---    ┆ ---      ┆ ---         │\n",
      "│ str      ┆ str                             ┆ str ┆ i64    ┆ i64      ┆ str         │\n",
      "╞══════════╪═════════════════════════════════╪═════╪════════╪══════════╪═════════════╡\n",
      "│ 123126   ┆ BAT HK MF40B19FL 35 AH 330 CCA… ┆ 24  ┆ 49     ┆ 0        ┆ Sem 49 (24) │\n",
      "└──────────┴─────────────────────────────────┴─────┴────────┴──────────┴─────────────┘\n",
      "shape: (1, 6)\n",
      "┌──────────────────┬─────────┬─────┬─────────┬─────────────────────┬─────────────┐\n",
      "│ ID               ┆ UE      ┆ Año ┆ Semanas ┆ Promedio Fc Semanal ┆ Sem         │\n",
      "│ ---              ┆ ---     ┆ --- ┆ ---     ┆ ---                 ┆ ---         │\n",
      "│ str              ┆ str     ┆ str ┆ i64     ┆ f64                 ┆ str         │\n",
      "╞══════════════════╪═════════╪═════╪═════════╪═════════════════════╪═════════════╡\n",
      "│ 1069054CL RETAIL ┆ 1069054 ┆ 25  ┆ 23      ┆ 0.0                 ┆ Sem 23 (25) │\n",
      "└──────────────────┴─────────┴─────┴─────────┴─────────────────────┴─────────────┘\n",
      "shape: (1, 2)\n",
      "┌────────┬───────────────┐\n",
      "│ UE     ┆ Stock Tiendas │\n",
      "│ ---    ┆ ---           │\n",
      "│ str    ┆ f64           │\n",
      "╞════════╪═══════════════╡\n",
      "│ 117688 ┆ 8.0           │\n",
      "└────────┴───────────────┘\n"
     ]
    }
   ],
   "source": [
    "print(df_transito[0])\n",
    "print(fc[0])\n",
    "print(df_tiendas[0])"
   ]
  },
  {
   "cell_type": "markdown",
   "metadata": {},
   "source": [
    "# Explicación de cruces\n",
    "1. **Unión con `df_711`**:\n",
    "   - Se agrega la columna `Libre utilización` de `df_711` a `base_dispo`, renombrándola como `711` y reemplazando valores nulos por 0.\n",
    "\n",
    "2. **Unión con `df_stock`**:\n",
    "   - Se agregan las columnas `Libre utilización` (renombrada como `Stock CD`) y `Control` de `df_stock`.\n",
    "\n",
    "3. **Unión con `df_tiendas`**:\n",
    "   - Se agrega la columna `Stock Tiendas` de `df_tiendas`.\n",
    "\n",
    "4. **Limpieza de columnas en `faltantes`**:\n",
    "   - Se eliminan espacios al final de los nombres de las columnas en `faltantes`.\n",
    "\n",
    "5. **Unión con `faltantes`**:\n",
    "   - Se agregan las columnas `Faltante`, `Sobrante`, y `Stock Objetivo` de `faltantes`.\n",
    "\n",
    "6. **Reemplazo de `null` por 0**:\n",
    "   - Se reemplazan los valores `null` por `0` en las columnas especificadas: `711`, `Stock CD`, `Control`, `Stock Tiendas`, `Faltante`, `Sobrante`, y `Stock Objetivo`.\n",
    "\n",
    "Este código une varias tablas y limpia los valores nulos en las columnas clave de `base_dispo`.\n"
   ]
  },
  {
   "cell_type": "code",
   "execution_count": null,
   "metadata": {},
   "outputs": [
    {
     "name": "stdout",
     "output_type": "stream",
     "text": [
      "shape: (1, 33)\n",
      "┌───────────┬─────────┬─────────────────────┬───────┬───┬─────────┬──────────┬──────────┬──────────┐\n",
      "│ ID        ┆ UE      ┆ Descripcion         ┆ Marca ┆ … ┆ Stock   ┆ Faltante ┆ Sobrante ┆ Stock    │\n",
      "│ ---       ┆ ---     ┆ Material            ┆ ---   ┆   ┆ Tiendas ┆ ---      ┆ ---      ┆ Objetivo │\n",
      "│ str       ┆ str     ┆ ---                 ┆ str   ┆   ┆ ---     ┆ i64      ┆ f64      ┆ ---      │\n",
      "│           ┆         ┆ str                 ┆       ┆   ┆ f64     ┆          ┆          ┆ i64      │\n",
      "╞═══════════╪═════════╪═════════════════════╪═══════╪═══╪═════════╪══════════╪══════════╪══════════╡\n",
      "│ 1171331CL ┆ 1171331 ┆ SCENT BOMB 2 PACK   ┆ SCENT ┆ … ┆ 1446.0  ┆ 48       ┆ 1133.0   ┆ 292      │\n",
      "│ RETAIL    ┆         ┆ PAPER MAN TR…       ┆ BOMB  ┆   ┆         ┆          ┆          ┆          │\n",
      "└───────────┴─────────┴─────────────────────┴───────┴───┴─────────┴──────────┴──────────┴──────────┘\n"
     ]
    }
   ],
   "source": [
    "base_dispo = base_dispo.join(\n",
    "    df_711.select([\"UE\", \"Libre utilización\"]),\n",
    "    on=\"UE\",\n",
    "    how=\"left\"\n",
    ")\n",
    "\n",
    "base_dispo = base_dispo.rename({\"Libre utilización\": \"711\"})\n",
    "base_dispo = base_dispo.with_columns(\n",
    "    pl.col(\"711\").fill_null(0)\n",
    ")\n",
    "base_dispo = base_dispo.join(\n",
    "    df_stock.select([\"UE\", \"Libre utilización\", \"Control\"]),\n",
    "    on=\"UE\",\n",
    "    how=\"left\"\n",
    ")\n",
    "\n",
    "base_dispo = base_dispo.rename({\n",
    "    \"Libre utilización\": \"Stock CD\",\n",
    "    \"Control\": \"Control\"\n",
    "})\n",
    "base_dispo = base_dispo.with_columns(\n",
    "    pl.when(pl.col(\"Canal\") == \"CL RETAIL\")\n",
    "    .then(\n",
    "        base_dispo.join(\n",
    "            df_tiendas.select([\"UE\", \"Stock Tiendas\"]),\n",
    "            on=\"UE\",\n",
    "            how=\"left\"\n",
    "        )[\"Stock Tiendas\"]\n",
    "    )\n",
    "    .otherwise(pl.lit(None))\n",
    "    .alias(\"Stock Tiendas\")\n",
    ")\n",
    "\n",
    "\n",
    "faltantes.columns = [col.strip() for col in faltantes.columns]\n",
    "base_dispo = base_dispo.join(\n",
    "    faltantes.select([\"UE\", \"Faltante\", \"Sobrante\", \"Stock Objetivo\"]),\n",
    "    on=\"UE\",\n",
    "    how=\"left\"\n",
    ")\n",
    "base_dispo = base_dispo.with_columns([\n",
    "    pl.col(col).fill_null(0) for col in [\"711\", \"Stock CD\", \"Control\", \"Stock Tiendas\", \"Faltante\", \"Sobrante\", \"Stock Objetivo\"]\n",
    "])\n",
    "print(base_dispo[0])\n"
   ]
  },
  {
   "cell_type": "markdown",
   "metadata": {},
   "source": [
    "## ORDENAR TRANSITO"
   ]
  },
  {
   "cell_type": "code",
   "execution_count": 132,
   "metadata": {},
   "outputs": [
    {
     "name": "stdout",
     "output_type": "stream",
     "text": [
      "La menor semana del año 2024 es: 47\n"
     ]
    }
   ],
   "source": [
    "min_semana_2024 = df_transito.filter(pl.col(\"Año\") == \"24\").select(pl.col(\"Semana\").min()).to_numpy()\n",
    "\n",
    "print(f\"La menor semana del año 2024 es: {min_semana_2024[0][0]}\")\n"
   ]
  },
  {
   "cell_type": "code",
   "execution_count": 133,
   "metadata": {},
   "outputs": [
    {
     "name": "stdout",
     "output_type": "stream",
     "text": [
      "shape: (12_121, 6)\n",
      "┌──────────┬─────────────────────────────────┬─────┬────────┬──────────┬─────────────┐\n",
      "│ Material ┆ Texto breve                     ┆ Año ┆ Semana ┆ Cantidad ┆ Sem         │\n",
      "│ ---      ┆ ---                             ┆ --- ┆ ---    ┆ ---      ┆ ---         │\n",
      "│ str      ┆ str                             ┆ str ┆ i64    ┆ i64      ┆ str         │\n",
      "╞══════════╪═════════════════════════════════╪═════╪════════╪══════════╪═════════════╡\n",
      "│ 457595   ┆ BAT AUTOSTYLE   MF105D31R 780C… ┆ 25  ┆ 1      ┆ 588      ┆ Sem 1 (25)  │\n",
      "│ 120412   ┆ NEUM LTR FTN 245/75R16 111T FS… ┆ 25  ┆ 1      ┆ 0        ┆ Sem 1 (25)  │\n",
      "│ 130079   ┆ HORQUILLA EMBRAGUE              ┆ 25  ┆ 1      ┆ 0        ┆ Sem 1 (25)  │\n",
      "│ 1054081  ┆ ESPONJA DE MALLA MOMO           ┆ 25  ┆ 1      ┆ 300      ┆ Sem 1 (25)  │\n",
      "│ 121862   ┆ JGO PASTILLA FRENO DGP PRO DXP… ┆ 25  ┆ 1      ┆ 0        ┆ Sem 1 (25)  │\n",
      "│ …        ┆ …                               ┆ …   ┆ …      ┆ …        ┆ …           │\n",
      "│ 1163846  ┆ AROM SUPER ORGANIC BLACK CJ 6   ┆ 24  ┆ 52     ┆ 648      ┆ Sem 52 (24) │\n",
      "│ 128447   ┆ PINON REDUC.RUEDA DEL           ┆ 24  ┆ 52     ┆ 2        ┆ Sem 52 (24) │\n",
      "│ 126736   ┆ FLOTADOR ESTANQUE               ┆ 24  ┆ 52     ┆ 1        ┆ Sem 52 (24) │\n",
      "│ 129276   ┆ PERNO SEGURIDAD 3/8X2.1/8 C/T   ┆ 24  ┆ 52     ┆ 260      ┆ Sem 52 (24) │\n",
      "│ 1133796  ┆ FUSIBLE MINI 30A 1 CJ 24 UN     ┆ 24  ┆ 52     ┆ 1008     ┆ Sem 52 (24) │\n",
      "└──────────┴─────────────────────────────────┴─────┴────────┴──────────┴─────────────┘\n"
     ]
    }
   ],
   "source": [
    "df_transito = df_transito.sort(by=\"Semana\", descending=False)\n",
    "\n",
    "print(df_transito)\n"
   ]
  },
  {
   "cell_type": "code",
   "execution_count": 134,
   "metadata": {},
   "outputs": [
    {
     "data": {
      "text/html": [
       "<div><style>\n",
       ".dataframe > thead > tr,\n",
       ".dataframe > tbody > tr {\n",
       "  text-align: right;\n",
       "  white-space: pre-wrap;\n",
       "}\n",
       "</style>\n",
       "<small>shape: (1, 6)</small><table border=\"1\" class=\"dataframe\"><thead><tr><th>UE</th><th>Texto breve</th><th>Año</th><th>Semana</th><th>Cantidad</th><th>Sem</th></tr><tr><td>str</td><td>str</td><td>str</td><td>i64</td><td>i64</td><td>str</td></tr></thead><tbody><tr><td>&quot;457595&quot;</td><td>&quot;BAT&nbsp;AUTOSTYLE&nbsp;&nbsp;&nbsp;MF105D31R&nbsp;780C…</td><td>&quot;25&quot;</td><td>1</td><td>588</td><td>&quot;Sem&nbsp;1&nbsp;(25)&quot;</td></tr></tbody></table></div>"
      ],
      "text/plain": [
       "shape: (1, 6)\n",
       "┌────────┬─────────────────────────────────┬─────┬────────┬──────────┬────────────┐\n",
       "│ UE     ┆ Texto breve                     ┆ Año ┆ Semana ┆ Cantidad ┆ Sem        │\n",
       "│ ---    ┆ ---                             ┆ --- ┆ ---    ┆ ---      ┆ ---        │\n",
       "│ str    ┆ str                             ┆ str ┆ i64    ┆ i64      ┆ str        │\n",
       "╞════════╪═════════════════════════════════╪═════╪════════╪══════════╪════════════╡\n",
       "│ 457595 ┆ BAT AUTOSTYLE   MF105D31R 780C… ┆ 25  ┆ 1      ┆ 588      ┆ Sem 1 (25) │\n",
       "└────────┴─────────────────────────────────┴─────┴────────┴──────────┴────────────┘"
      ]
     },
     "execution_count": 134,
     "metadata": {},
     "output_type": "execute_result"
    }
   ],
   "source": [
    "df_transito = df_transito.rename({\"Material\": \"UE\"})\n",
    "df_transito[0]"
   ]
  },
  {
   "cell_type": "markdown",
   "metadata": {},
   "source": [
    "## FC PIVOT"
   ]
  },
  {
   "cell_type": "code",
   "execution_count": 135,
   "metadata": {},
   "outputs": [
    {
     "data": {
      "text/plain": [
       "['ID', 'UE', 'Año', 'Semanas', 'Promedio Fc Semanal', 'Sem']"
      ]
     },
     "execution_count": 135,
     "metadata": {},
     "output_type": "execute_result"
    }
   ],
   "source": [
    "fc.columns"
   ]
  },
  {
   "cell_type": "code",
   "execution_count": 136,
   "metadata": {},
   "outputs": [],
   "source": [
    "fc_pvt = fc.pivot(\n",
    "    values=\"Promedio Fc Semanal\",\n",
    "    index=[\"ID\"],\n",
    "    on=\"Sem\"\n",
    ")\n"
   ]
  },
  {
   "cell_type": "code",
   "execution_count": 137,
   "metadata": {},
   "outputs": [
    {
     "data": {
      "text/html": [
       "<div><style>\n",
       ".dataframe > thead > tr,\n",
       ".dataframe > tbody > tr {\n",
       "  text-align: right;\n",
       "  white-space: pre-wrap;\n",
       "}\n",
       "</style>\n",
       "<small>shape: (1, 58)</small><table border=\"1\" class=\"dataframe\"><thead><tr><th>ID</th><th>Sem 23 (25)_fc</th><th>Sem 52 (24)_fc</th><th>Sem 24 (25)_fc</th><th>Sem 47 (25)_fc</th><th>Sem 39 (25)_fc</th><th>Sem 17 (25)_fc</th><th>Sem 49 (24)_fc</th><th>Sem 37 (25)_fc</th><th>Sem 31 (25)_fc</th><th>Sem 26 (25)_fc</th><th>Sem 44 (25)_fc</th><th>Sem 46 (24)_fc</th><th>Sem 48 (24)_fc</th><th>Sem 28 (25)_fc</th><th>Sem 30 (25)_fc</th><th>Sem 4 (25)_fc</th><th>Sem 51 (24)_fc</th><th>Sem 42 (25)_fc</th><th>Sem 14 (25)_fc</th><th>Sem 46 (25)_fc</th><th>Sem 36 (25)_fc</th><th>Sem 6 (25)_fc</th><th>Sem 21 (25)_fc</th><th>Sem 20 (25)_fc</th><th>Sem 27 (25)_fc</th><th>Sem 33 (25)_fc</th><th>Sem 38 (25)_fc</th><th>Sem 32 (25)_fc</th><th>Sem 45 (24)_fc</th><th>Sem 18 (25)_fc</th><th>Sem 9 (25)_fc</th><th>Sem 11 (25)_fc</th><th>Sem 19 (25)_fc</th><th>Sem 5 (25)_fc</th><th>Sem 13 (25)_fc</th><th>Sem 43 (25)_fc</th><th>Sem 22 (25)_fc</th><th>Sem 44 (24)_fc</th><th>Sem 25 (25)_fc</th><th>Sem 50 (24)_fc</th><th>Sem 34 (25)_fc</th><th>Sem 40 (25)_fc</th><th>Sem 1 (25)_fc</th><th>Sem 7 (25)_fc</th><th>Sem 47 (24)_fc</th><th>Sem 12 (25)_fc</th><th>Sem 35 (25)_fc</th><th>Sem 41 (25)_fc</th><th>Sem 10 (25)_fc</th><th>Sem 48 (25)_fc</th><th>Sem 2 (25)_fc</th><th>Sem 15 (25)_fc</th><th>Sem 45 (25)_fc</th><th>Sem 3 (25)_fc</th><th>Sem 16 (25)_fc</th><th>Sem 29 (25)_fc</th><th>Sem 8 (25)_fc</th></tr><tr><td>str</td><td>f64</td><td>f64</td><td>f64</td><td>f64</td><td>f64</td><td>f64</td><td>f64</td><td>f64</td><td>f64</td><td>f64</td><td>f64</td><td>f64</td><td>f64</td><td>f64</td><td>f64</td><td>f64</td><td>f64</td><td>f64</td><td>f64</td><td>f64</td><td>f64</td><td>f64</td><td>f64</td><td>f64</td><td>f64</td><td>f64</td><td>f64</td><td>f64</td><td>f64</td><td>f64</td><td>f64</td><td>f64</td><td>f64</td><td>f64</td><td>f64</td><td>f64</td><td>f64</td><td>f64</td><td>f64</td><td>f64</td><td>f64</td><td>f64</td><td>f64</td><td>f64</td><td>f64</td><td>f64</td><td>f64</td><td>f64</td><td>f64</td><td>f64</td><td>f64</td><td>f64</td><td>f64</td><td>f64</td><td>f64</td><td>f64</td><td>f64</td></tr></thead><tbody><tr><td>&quot;1069054CL&nbsp;RETAIL&quot;</td><td>0.0</td><td>0.0</td><td>0.0</td><td>0.0</td><td>0.0</td><td>0.0</td><td>0.0</td><td>0.0</td><td>0.0</td><td>0.0</td><td>0.0</td><td>0.0</td><td>0.0</td><td>0.0</td><td>0.0</td><td>0.0</td><td>0.0</td><td>0.0</td><td>0.0</td><td>0.0</td><td>0.0</td><td>0.0</td><td>0.0</td><td>0.0</td><td>0.0</td><td>0.0</td><td>0.0</td><td>0.0</td><td>0.0</td><td>0.0</td><td>0.0</td><td>0.0</td><td>0.0</td><td>0.0</td><td>0.0</td><td>0.0</td><td>0.0</td><td>0.0</td><td>0.0</td><td>0.0</td><td>0.0</td><td>0.0</td><td>0.0</td><td>0.0</td><td>0.0</td><td>0.0</td><td>0.0</td><td>0.0</td><td>0.0</td><td>0.0</td><td>0.0</td><td>0.0</td><td>0.0</td><td>0.0</td><td>0.0</td><td>0.0</td><td>0.0</td></tr></tbody></table></div>"
      ],
      "text/plain": [
       "shape: (1, 58)\n",
       "┌───────────┬───────────┬───────────┬───────────┬───┬───────────┬───────────┬───────────┬──────────┐\n",
       "│ ID        ┆ Sem 23    ┆ Sem 52    ┆ Sem 24    ┆ … ┆ Sem 3     ┆ Sem 16    ┆ Sem 29    ┆ Sem 8    │\n",
       "│ ---       ┆ (25)_fc   ┆ (24)_fc   ┆ (25)_fc   ┆   ┆ (25)_fc   ┆ (25)_fc   ┆ (25)_fc   ┆ (25)_fc  │\n",
       "│ str       ┆ ---       ┆ ---       ┆ ---       ┆   ┆ ---       ┆ ---       ┆ ---       ┆ ---      │\n",
       "│           ┆ f64       ┆ f64       ┆ f64       ┆   ┆ f64       ┆ f64       ┆ f64       ┆ f64      │\n",
       "╞═══════════╪═══════════╪═══════════╪═══════════╪═══╪═══════════╪═══════════╪═══════════╪══════════╡\n",
       "│ 1069054CL ┆ 0.0       ┆ 0.0       ┆ 0.0       ┆ … ┆ 0.0       ┆ 0.0       ┆ 0.0       ┆ 0.0      │\n",
       "│ RETAIL    ┆           ┆           ┆           ┆   ┆           ┆           ┆           ┆          │\n",
       "└───────────┴───────────┴───────────┴───────────┴───┴───────────┴───────────┴───────────┴──────────┘"
      ]
     },
     "execution_count": 137,
     "metadata": {},
     "output_type": "execute_result"
    }
   ],
   "source": [
    "fc_pvt = fc_pvt.fill_null(0)\n",
    "fc_pvt = fc_pvt.rename({col: f\"{col}_fc\" for col in fc_pvt.columns if col.startswith(\"Sem\")})\n",
    "fc_pvt[0]"
   ]
  },
  {
   "cell_type": "markdown",
   "metadata": {},
   "source": [
    "## TRANSITO PIVOT"
   ]
  },
  {
   "cell_type": "code",
   "execution_count": 138,
   "metadata": {},
   "outputs": [
    {
     "name": "stdout",
     "output_type": "stream",
     "text": [
      "shape: (11_988, 3)\n",
      "┌─────────┬─────────────┬──────────┐\n",
      "│ UE      ┆ Sem         ┆ Cantidad │\n",
      "│ ---     ┆ ---         ┆ ---      │\n",
      "│ str     ┆ str         ┆ i64      │\n",
      "╞═════════╪═════════════╪══════════╡\n",
      "│ 527091  ┆ Sem 51 (24) ┆ 2        │\n",
      "│ 547524  ┆ Sem 51 (24) ┆ 1        │\n",
      "│ 141345  ┆ Sem 14 (25) ┆ 24       │\n",
      "│ 761652  ┆ Sem 51 (24) ┆ 1        │\n",
      "│ 1126335 ┆ Sem 4 (25)  ┆ 2400     │\n",
      "│ …       ┆ …           ┆ …        │\n",
      "│ 120933  ┆ Sem 8 (25)  ┆ 5100     │\n",
      "│ 121017  ┆ Sem 50 (24) ┆ 500      │\n",
      "│ 530946  ┆ Sem 51 (24) ┆ 1        │\n",
      "│ 143195  ┆ Sem 11 (25) ┆ 189      │\n",
      "│ 502835  ┆ Sem 51 (24) ┆ 1        │\n",
      "└─────────┴─────────────┴──────────┘\n"
     ]
    }
   ],
   "source": [
    "import polars as pl\n",
    "\n",
    "# Agrupar el DataFrame por 'UE' y 'Sem', y calcular la suma de 'Cantidad'\n",
    "df_transito_agrupado = (\n",
    "    df_transito.group_by(['UE', 'Sem'])\n",
    "    .agg(pl.col('Cantidad').sum().alias('Cantidad'))\n",
    ")\n",
    "\n",
    "# Mostrar el resultado\n",
    "print(df_transito_agrupado)\n",
    "df_transito=df_transito_agrupado\n"
   ]
  },
  {
   "cell_type": "code",
   "execution_count": 139,
   "metadata": {},
   "outputs": [],
   "source": [
    "df_transito=df_transito_agrupado"
   ]
  },
  {
   "cell_type": "code",
   "execution_count": 140,
   "metadata": {},
   "outputs": [],
   "source": [
    "df_transito_pivot = df_transito.pivot(\n",
    "    values=\"Cantidad\",\n",
    "    index=[\"UE\"],\n",
    "    on=\"Sem\"\n",
    ")\n",
    "transito_pvt = df_transito_pivot"
   ]
  },
  {
   "cell_type": "code",
   "execution_count": 141,
   "metadata": {},
   "outputs": [
    {
     "data": {
      "text/html": [
       "<div><style>\n",
       ".dataframe > thead > tr,\n",
       ".dataframe > tbody > tr {\n",
       "  text-align: right;\n",
       "  white-space: pre-wrap;\n",
       "}\n",
       "</style>\n",
       "<small>shape: (1, 29)</small><table border=\"1\" class=\"dataframe\"><thead><tr><th>UE</th><th>Sem 51 (24)_tr</th><th>Sem 14 (25)_tr</th><th>Sem 4 (25)_tr</th><th>Sem 5 (25)_tr</th><th>Sem 7 (25)_tr</th><th>Sem 2 (25)_tr</th><th>Sem 16 (25)_tr</th><th>Sem 12 (25)_tr</th><th>Sem 13 (25)_tr</th><th>Sem 15 (25)_tr</th><th>Sem 21 (25)_tr</th><th>Sem 8 (25)_tr</th><th>Sem 1 (25)_tr</th><th>Sem 49 (24)_tr</th><th>Sem 6 (25)_tr</th><th>Sem 52 (24)_tr</th><th>Sem 3 (25)_tr</th><th>Sem 11 (25)_tr</th><th>Sem 10 (25)_tr</th><th>Sem 9 (25)_tr</th><th>Sem 48 (24)_tr</th><th>Sem 17 (25)_tr</th><th>Sem 50 (24)_tr</th><th>Sem 47 (24)_tr</th><th>Sem 19 (25)_tr</th><th>Sem 18 (25)_tr</th><th>Sem 22 (25)_tr</th><th>Sem 20 (25)_tr</th></tr><tr><td>str</td><td>i64</td><td>i64</td><td>i64</td><td>i64</td><td>i64</td><td>i64</td><td>i64</td><td>i64</td><td>i64</td><td>i64</td><td>i64</td><td>i64</td><td>i64</td><td>i64</td><td>i64</td><td>i64</td><td>i64</td><td>i64</td><td>i64</td><td>i64</td><td>i64</td><td>i64</td><td>i64</td><td>i64</td><td>i64</td><td>i64</td><td>i64</td><td>i64</td></tr></thead><tbody><tr><td>&quot;527091&quot;</td><td>2</td><td>0</td><td>0</td><td>0</td><td>0</td><td>0</td><td>0</td><td>0</td><td>0</td><td>0</td><td>0</td><td>0</td><td>0</td><td>0</td><td>0</td><td>0</td><td>0</td><td>0</td><td>0</td><td>0</td><td>0</td><td>0</td><td>0</td><td>0</td><td>0</td><td>0</td><td>0</td><td>0</td></tr></tbody></table></div>"
      ],
      "text/plain": [
       "shape: (1, 29)\n",
       "┌────────┬────────────┬────────────┬───────────┬───┬───────────┬───────────┬───────────┬───────────┐\n",
       "│ UE     ┆ Sem 51     ┆ Sem 14     ┆ Sem 4     ┆ … ┆ Sem 19    ┆ Sem 18    ┆ Sem 22    ┆ Sem 20    │\n",
       "│ ---    ┆ (24)_tr    ┆ (25)_tr    ┆ (25)_tr   ┆   ┆ (25)_tr   ┆ (25)_tr   ┆ (25)_tr   ┆ (25)_tr   │\n",
       "│ str    ┆ ---        ┆ ---        ┆ ---       ┆   ┆ ---       ┆ ---       ┆ ---       ┆ ---       │\n",
       "│        ┆ i64        ┆ i64        ┆ i64       ┆   ┆ i64       ┆ i64       ┆ i64       ┆ i64       │\n",
       "╞════════╪════════════╪════════════╪═══════════╪═══╪═══════════╪═══════════╪═══════════╪═══════════╡\n",
       "│ 527091 ┆ 2          ┆ 0          ┆ 0         ┆ … ┆ 0         ┆ 0         ┆ 0         ┆ 0         │\n",
       "└────────┴────────────┴────────────┴───────────┴───┴───────────┴───────────┴───────────┴───────────┘"
      ]
     },
     "execution_count": 141,
     "metadata": {},
     "output_type": "execute_result"
    }
   ],
   "source": [
    "transito_pvt = transito_pvt.fill_null(0)\n",
    "transito_pvt = transito_pvt.rename({col: f\"{col}_tr\" for col in transito_pvt.columns if col.startswith(\"Sem\")})\n",
    "transito_pvt[0]"
   ]
  },
  {
   "cell_type": "markdown",
   "metadata": {},
   "source": [
    "# CREAR SEMANA 1 "
   ]
  },
  {
   "cell_type": "code",
   "execution_count": 142,
   "metadata": {},
   "outputs": [
    {
     "name": "stdout",
     "output_type": "stream",
     "text": [
      "La semana actual es: 47\n",
      "shape: (60_746, 34)\n",
      "┌─────────────┬─────────┬─────────────┬────────────┬───┬──────────┬──────────┬────────────┬────────┐\n",
      "│ ID          ┆ UE      ┆ Descripcion ┆ Marca      ┆ … ┆ Faltante ┆ Sobrante ┆ Stock      ┆ Sem 47 │\n",
      "│ ---         ┆ ---     ┆ Material    ┆ ---        ┆   ┆ ---      ┆ ---      ┆ Objetivo   ┆ (24)   │\n",
      "│ str         ┆ str     ┆ ---         ┆ str        ┆   ┆ i64      ┆ f64      ┆ ---        ┆ ---    │\n",
      "│             ┆         ┆ str         ┆            ┆   ┆          ┆          ┆ i64        ┆ f64    │\n",
      "╞═════════════╪═════════╪═════════════╪════════════╪═══╪══════════╪══════════╪════════════╪════════╡\n",
      "│ 1171331CL   ┆ 1171331 ┆ SCENT BOMB  ┆ SCENT BOMB ┆ … ┆ 48       ┆ 1133.0   ┆ 292        ┆ -48.0  │\n",
      "│ RETAIL      ┆         ┆ 2 PACK      ┆            ┆   ┆          ┆          ┆            ┆        │\n",
      "│             ┆         ┆ PAPER MAN   ┆            ┆   ┆          ┆          ┆            ┆        │\n",
      "│             ┆         ┆ TR…         ┆            ┆   ┆          ┆          ┆            ┆        │\n",
      "│ 1171332CL   ┆ 1171332 ┆ SCENT BOMB  ┆ SCENT BOMB ┆ … ┆ 144      ┆ 985.0    ┆ 292        ┆ -144.0 │\n",
      "│ RETAIL      ┆         ┆ 2 PACK      ┆            ┆   ┆          ┆          ┆            ┆        │\n",
      "│             ┆         ┆ PAPER HAWA  ┆            ┆   ┆          ┆          ┆            ┆        │\n",
      "│             ┆         ┆ B…          ┆            ┆   ┆          ┆          ┆            ┆        │\n",
      "│ 1171330CL   ┆ 1171330 ┆ SCENT BOMB  ┆ SCENT BOMB ┆ … ┆ 24       ┆ 1103.0   ┆ 292        ┆ -24.0  │\n",
      "│ RETAIL      ┆         ┆ 2 PACK      ┆            ┆   ┆          ┆          ┆            ┆        │\n",
      "│             ┆         ┆ PAPER B     ┆            ┆   ┆          ┆          ┆            ┆        │\n",
      "│             ┆         ┆ CHRY…       ┆            ┆   ┆          ┆          ┆            ┆        │\n",
      "│ 1171298CL   ┆ 1171298 ┆ SCENT BOMB  ┆ SCENT BOMB ┆ … ┆ 18       ┆ 167.998  ┆ 122        ┆ 204.0  │\n",
      "│ RETAIL      ┆         ┆ VENT CLIP   ┆            ┆   ┆          ┆          ┆            ┆        │\n",
      "│             ┆         ┆ MANG TROP…  ┆            ┆   ┆          ┆          ┆            ┆        │\n",
      "│ 1171325CL   ┆ 1171325 ┆ SCENT BOMB  ┆ SCENT BOMB ┆ … ┆ 18       ┆ 156.0    ┆ 141        ┆ 192.0  │\n",
      "│ RETAIL      ┆         ┆ VENT CLIP   ┆            ┆   ┆          ┆          ┆            ┆        │\n",
      "│             ┆         ┆ BLACK BOM…  ┆            ┆   ┆          ┆          ┆            ┆        │\n",
      "│ …           ┆ …       ┆ …           ┆ …          ┆ … ┆ …        ┆ …        ┆ …          ┆ …      │\n",
      "│ 1171967CL   ┆ 1171967 ┆ LIMP.ESPEJO ┆ MOTORLIFE  ┆ … ┆ 0        ┆ 0.0      ┆ 0          ┆ 0.0    │\n",
      "│ RETAIL      ┆         ┆ TELESCÓPICO ┆            ┆   ┆          ┆          ┆            ┆        │\n",
      "│             ┆         ┆ ML AP2…     ┆            ┆   ┆          ┆          ┆            ┆        │\n",
      "│ 151798CL    ┆ 151798  ┆ null        ┆ null       ┆ … ┆ 0        ┆ 0.0      ┆ 0          ┆ 0.0    │\n",
      "│ RETAIL      ┆         ┆             ┆            ┆   ┆          ┆          ┆            ┆        │\n",
      "│ 151799CL    ┆ 151799  ┆ null        ┆ null       ┆ … ┆ 0        ┆ 0.0      ┆ 0          ┆ 0.0    │\n",
      "│ RETAIL      ┆         ┆             ┆            ┆   ┆          ┆          ┆            ┆        │\n",
      "│ 140102CL    ┆ 140102  ┆ null        ┆ null       ┆ … ┆ 0        ┆ 0.0      ┆ 0          ┆ 0.0    │\n",
      "│ RETAIL      ┆         ┆             ┆            ┆   ┆          ┆          ┆            ┆        │\n",
      "│ 139062CL    ┆ 139062  ┆ null        ┆ null       ┆ … ┆ 0        ┆ 0.0      ┆ 0          ┆ 0.0    │\n",
      "│ RETAIL      ┆         ┆             ┆            ┆   ┆          ┆          ┆            ┆        │\n",
      "└─────────────┴─────────┴─────────────┴────────────┴───┴──────────┴──────────┴────────────┴────────┘\n"
     ]
    }
   ],
   "source": [
    "import datetime\n",
    "\n",
    "fecha_actual = datetime.date.today()\n",
    "semana_actual = fecha_actual.isocalendar()[1]\n",
    "\n",
    "print(f\"La semana actual es: {semana_actual}\")\n",
    "\n",
    "fecha_actual = datetime.date.today()\n",
    "semana_actual = fecha_actual.isocalendar()[1]\n",
    "año_actual = str(fecha_actual.year)[-2:]\n",
    "\n",
    "columna_nombre = f\"Sem {semana_actual} ({año_actual})\"\n",
    "\n",
    "base_dispo = base_dispo.with_columns(\n",
    "    pl.when(pl.col(\"Canal Consolidado\") == \"RETAIL\")\n",
    "    .then(\n",
    "        pl.col(\"Stock CD\") * pl.col(\"Ponderación por canal\") - \n",
    "        (pl.col(\"Faltante\") if faltan == 1 else pl.lit(0)) +\n",
    "        (pl.col(\"Stock Tiendas\") if tienda == 1 else pl.lit(0))\n",
    "    )\n",
    "    .otherwise(pl.col(\"Stock CD\") * pl.col(\"Ponderación por canal\"))\n",
    "    .alias(columna_nombre)\n",
    ")\n",
    "\n",
    "print(base_dispo)\n"
   ]
  },
  {
   "cell_type": "markdown",
   "metadata": {},
   "source": [
    "# CREAR SEMANA 2\n"
   ]
  },
  {
   "cell_type": "markdown",
   "metadata": {},
   "source": [
    "Este código realiza varias operaciones sobre un DataFrame llamado `base_dispo`, integrando datos de otros DataFrames (`transito_pvt` y `fc_pvt`), y ajustando las columnas de acuerdo a ciertos cálculos. A continuación se describe el flujo de operaciones:\n",
    "\n",
    "1. **Creación de nuevas columnas**: \n",
    "   Se definen los nombres de las nuevas columnas `columna_tr` y `columna_fc`, que son variantes de la columna `columna_nombre_siguiente`.\n",
    "\n",
    "2. **Unión de datos desde `transito_pvt`**:\n",
    "   Si la columna `columna_tr` existe en el DataFrame `transito_pvt`, se realiza una unión (left join) con `base_dispo` utilizando la columna `\"UE\"` como clave de unión. Si no se encuentra la columna, se imprime un mensaje de advertencia.\n",
    "\n",
    "3. **Unión de datos desde `fc_pvt`**:\n",
    "   Similar al paso anterior, si la columna `columna_fc` existe en `fc_pvt`, se realiza otra unión con `base_dispo`, pero en este caso usando la columna `\"ID\"` como clave de unión. Si la columna no se encuentra, se imprime otro mensaje de advertencia.\n",
    "\n",
    "4. **Condición para valores negativos**:\n",
    "   Se crea una nueva columna `columna_nombre_siguiente`, en la que los valores de `columna_nombre` mayores o iguales a 0 se mantienen, mientras que los valores negativos se reemplazan por `None`.\n",
    "\n",
    "5. **Suma con ponderaciones**:\n",
    "   Se actualiza `columna_nombre_siguiente` sumando:\n",
    "   - El valor actual de `columna_nombre_siguiente`.\n",
    "   - La multiplicación de `columna_tr` por la columna `\"Ponderación por canal\"`.\n",
    "   - Los valores de `columna_fc`, con los nulos reemplazados por 0.\n",
    "   - La multiplicación de la columna `\"Control\"` por la columna `\"Ponderación por canal\"`.\n",
    "   \n",
    "6. **Eliminación de columnas temporales**:\n",
    "   Se eliminan las columnas `columna_tr` y `columna_fc` del DataFrame después de realizar los cálculos.\n",
    "\n",
    "Este flujo de trabajo asegura que los datos de `transito_pvt` y `fc_pvt` sean correctamente integrados y que los cálculos sean realizados adecuadamente con las ponderaciones aplicadas."
   ]
  },
  {
   "cell_type": "code",
   "execution_count": 143,
   "metadata": {},
   "outputs": [
    {
     "data": {
      "text/html": [
       "<div><style>\n",
       ".dataframe > thead > tr,\n",
       ".dataframe > tbody > tr {\n",
       "  text-align: right;\n",
       "  white-space: pre-wrap;\n",
       "}\n",
       "</style>\n",
       "<small>shape: (60_746, 34)</small><table border=\"1\" class=\"dataframe\"><thead><tr><th>ID</th><th>UE</th><th>Descripcion Material</th><th>Marca</th><th>Ponderación por canal</th><th>Vig</th><th>Canal</th><th>Canal Consolidado</th><th>Sector</th><th>Agrupación ClaCom</th><th>SubAgrupación ClaCom</th><th>Categoría ClaCom</th><th>SubCategoría ClaCom</th><th>Bobinas/Implementos/Otros</th><th>COD. PROVEEDOR</th><th>PROVEEDOR</th><th>ORIGEN</th><th>LEAD TIME</th><th>Codigos Transparentes</th><th>Comentario Sesión</th><th>Comentario Finales</th><th>OBS Retail</th><th>OBS DERCO</th><th>Segmentacion AFM</th><th>Prom Forecast 3-6-12</th><th>Prom Venta 3-6-12</th><th>711</th><th>Stock CD</th><th>Control</th><th>Stock Tiendas</th><th>Faltante</th><th>Sobrante</th><th>Stock Objetivo</th><th>Sem 47 (24)</th></tr><tr><td>str</td><td>str</td><td>str</td><td>str</td><td>f64</td><td>str</td><td>str</td><td>str</td><td>str</td><td>str</td><td>str</td><td>str</td><td>str</td><td>str</td><td>str</td><td>str</td><td>str</td><td>str</td><td>str</td><td>str</td><td>str</td><td>str</td><td>str</td><td>str</td><td>str</td><td>str</td><td>f64</td><td>f64</td><td>f64</td><td>f64</td><td>i64</td><td>f64</td><td>i64</td><td>f64</td></tr></thead><tbody><tr><td>&quot;1171331CL&nbsp;RETAIL&quot;</td><td>&quot;1171331&quot;</td><td>&quot;SCENT&nbsp;BOMB&nbsp;2&nbsp;PACK&nbsp;PAPER&nbsp;MAN&nbsp;TR…</td><td>&quot;SCENT&nbsp;BOMB&quot;</td><td>1.0</td><td>&quot;1&quot;</td><td>&quot;CL&nbsp;RETAIL&quot;</td><td>&quot;RETAIL&quot;</td><td>&quot;Accesorios-Car&nbsp;Care&quot;</td><td>&quot;ACCESORIOS&quot;</td><td>&quot;LIMPIEZA&nbsp;Y&nbsp;CUIDADO&quot;</td><td>&quot;AROMATIZANTES&quot;</td><td>&quot;COLGANTE&quot;</td><td>&quot;Otros&quot;</td><td>&quot;61111&quot;</td><td>&quot;Careco&nbsp;LLC&quot;</td><td>&quot;IMP&quot;</td><td>&quot;120&quot;</td><td>&quot;NO&quot;</td><td>&quot;No&nbsp;Comprar&quot;</td><td>null</td><td>&quot;0&quot;</td><td>&quot;0&quot;</td><td>&quot;SIN&nbsp;SEGMENTACION&quot;</td><td>&quot;911.333333333&quot;</td><td>&quot;0.25&quot;</td><td>0.0</td><td>0.0</td><td>0.0</td><td>1446.0</td><td>48</td><td>1133.0</td><td>292</td><td>-48.0</td></tr><tr><td>&quot;1171332CL&nbsp;RETAIL&quot;</td><td>&quot;1171332&quot;</td><td>&quot;SCENT&nbsp;BOMB&nbsp;2&nbsp;PACK&nbsp;PAPER&nbsp;HAWA&nbsp;B…</td><td>&quot;SCENT&nbsp;BOMB&quot;</td><td>1.0</td><td>&quot;1&quot;</td><td>&quot;CL&nbsp;RETAIL&quot;</td><td>&quot;RETAIL&quot;</td><td>&quot;Accesorios-Car&nbsp;Care&quot;</td><td>&quot;ACCESORIOS&quot;</td><td>&quot;LIMPIEZA&nbsp;Y&nbsp;CUIDADO&quot;</td><td>&quot;AROMATIZANTES&quot;</td><td>&quot;COLGANTE&quot;</td><td>&quot;Otros&quot;</td><td>&quot;61111&quot;</td><td>&quot;Careco&nbsp;LLC&quot;</td><td>&quot;IMP&quot;</td><td>&quot;120&quot;</td><td>&quot;NO&quot;</td><td>&quot;No&nbsp;Comprar&quot;</td><td>null</td><td>&quot;0&quot;</td><td>&quot;0&quot;</td><td>&quot;SIN&nbsp;SEGMENTACION&quot;</td><td>&quot;911.333333333&quot;</td><td>&quot;0.5&quot;</td><td>0.0</td><td>0.0</td><td>0.0</td><td>1276.0</td><td>144</td><td>985.0</td><td>292</td><td>-144.0</td></tr><tr><td>&quot;1171330CL&nbsp;RETAIL&quot;</td><td>&quot;1171330&quot;</td><td>&quot;SCENT&nbsp;BOMB&nbsp;2&nbsp;PACK&nbsp;PAPER&nbsp;B&nbsp;CHRY…</td><td>&quot;SCENT&nbsp;BOMB&quot;</td><td>1.0</td><td>&quot;1&quot;</td><td>&quot;CL&nbsp;RETAIL&quot;</td><td>&quot;RETAIL&quot;</td><td>&quot;Accesorios-Car&nbsp;Care&quot;</td><td>&quot;ACCESORIOS&quot;</td><td>&quot;LIMPIEZA&nbsp;Y&nbsp;CUIDADO&quot;</td><td>&quot;AROMATIZANTES&quot;</td><td>&quot;COLGANTE&quot;</td><td>&quot;Otros&quot;</td><td>&quot;61111&quot;</td><td>&quot;Careco&nbsp;LLC&quot;</td><td>&quot;IMP&quot;</td><td>&quot;120&quot;</td><td>&quot;NO&quot;</td><td>&quot;No&nbsp;Comprar&quot;</td><td>null</td><td>&quot;0&quot;</td><td>&quot;0&quot;</td><td>&quot;SIN&nbsp;SEGMENTACION&quot;</td><td>&quot;911.333333333&quot;</td><td>&quot;1&quot;</td><td>0.0</td><td>0.0</td><td>0.0</td><td>1417.0</td><td>24</td><td>1103.0</td><td>292</td><td>-24.0</td></tr><tr><td>&quot;1171298CL&nbsp;RETAIL&quot;</td><td>&quot;1171298&quot;</td><td>&quot;SCENT&nbsp;BOMB&nbsp;VENT&nbsp;CLIP&nbsp;MANG&nbsp;TROP…</td><td>&quot;SCENT&nbsp;BOMB&quot;</td><td>1.0</td><td>&quot;1&quot;</td><td>&quot;CL&nbsp;RETAIL&quot;</td><td>&quot;RETAIL&quot;</td><td>&quot;Accesorios-Car&nbsp;Care&quot;</td><td>&quot;ACCESORIOS&quot;</td><td>&quot;LIMPIEZA&nbsp;Y&nbsp;CUIDADO&quot;</td><td>&quot;AROMATIZANTES&quot;</td><td>&quot;VENTILACION&quot;</td><td>&quot;Otros&quot;</td><td>&quot;61111&quot;</td><td>&quot;Careco&nbsp;LLC&quot;</td><td>&quot;IMP&quot;</td><td>&quot;120&quot;</td><td>&quot;NO&quot;</td><td>&quot;No&nbsp;Comprar&quot;</td><td>null</td><td>&quot;0&quot;</td><td>&quot;0&quot;</td><td>&quot;SIN&nbsp;SEGMENTACION&quot;</td><td>&quot;350&quot;</td><td>&quot;0.416666667&quot;</td><td>0.0</td><td>222.0</td><td>0.0</td><td>293.998</td><td>18</td><td>167.998</td><td>122</td><td>204.0</td></tr><tr><td>&quot;1171325CL&nbsp;RETAIL&quot;</td><td>&quot;1171325&quot;</td><td>&quot;SCENT&nbsp;BOMB&nbsp;VENT&nbsp;CLIP&nbsp;BLACK&nbsp;BOM…</td><td>&quot;SCENT&nbsp;BOMB&quot;</td><td>1.0</td><td>&quot;1&quot;</td><td>&quot;CL&nbsp;RETAIL&quot;</td><td>&quot;RETAIL&quot;</td><td>&quot;Accesorios-Car&nbsp;Care&quot;</td><td>&quot;ACCESORIOS&quot;</td><td>&quot;LIMPIEZA&nbsp;Y&nbsp;CUIDADO&quot;</td><td>&quot;AROMATIZANTES&quot;</td><td>&quot;VENTILACION&quot;</td><td>&quot;Otros&quot;</td><td>&quot;61111&quot;</td><td>&quot;Careco&nbsp;LLC&quot;</td><td>&quot;IMP&quot;</td><td>&quot;120&quot;</td><td>&quot;NO&quot;</td><td>&quot;No&nbsp;Comprar&quot;</td><td>null</td><td>&quot;0&quot;</td><td>&quot;0&quot;</td><td>&quot;SIN&nbsp;SEGMENTACION&quot;</td><td>&quot;450&quot;</td><td>&quot;0.416666667&quot;</td><td>0.0</td><td>210.0</td><td>0.0</td><td>303.0</td><td>18</td><td>156.0</td><td>141</td><td>192.0</td></tr><tr><td>&hellip;</td><td>&hellip;</td><td>&hellip;</td><td>&hellip;</td><td>&hellip;</td><td>&hellip;</td><td>&hellip;</td><td>&hellip;</td><td>&hellip;</td><td>&hellip;</td><td>&hellip;</td><td>&hellip;</td><td>&hellip;</td><td>&hellip;</td><td>&hellip;</td><td>&hellip;</td><td>&hellip;</td><td>&hellip;</td><td>&hellip;</td><td>&hellip;</td><td>&hellip;</td><td>&hellip;</td><td>&hellip;</td><td>&hellip;</td><td>&hellip;</td><td>&hellip;</td><td>&hellip;</td><td>&hellip;</td><td>&hellip;</td><td>&hellip;</td><td>&hellip;</td><td>&hellip;</td><td>&hellip;</td><td>&hellip;</td></tr><tr><td>&quot;1171967CL&nbsp;RETAIL&quot;</td><td>&quot;1171967&quot;</td><td>&quot;LIMP.ESPEJO&nbsp;TELESCÓPICO&nbsp;ML&nbsp;AP2…</td><td>&quot;MOTORLIFE&quot;</td><td>0.0</td><td>&quot;0&quot;</td><td>&quot;CL&nbsp;RETAIL&quot;</td><td>&quot;RETAIL&quot;</td><td>&quot;Accesorios-Car&nbsp;Care&quot;</td><td>&quot;ACCESORIOS&quot;</td><td>&quot;CUIDADO&nbsp;Y&nbsp;MANTENCION&quot;</td><td>&quot;PARABRISAS&nbsp;Y&nbsp;ACCESORIOS&quot;</td><td>&quot;PLUMILLAS&quot;</td><td>&quot;Otros&quot;</td><td>&quot;17968&quot;</td><td>&quot;WICO&nbsp;INTERNATION&nbsp;LIMITED&quot;</td><td>&quot;IMP&quot;</td><td>&quot;158&quot;</td><td>&quot;NO&quot;</td><td>&quot;Sin&nbsp;Necesidad&quot;</td><td>null</td><td>&quot;0&quot;</td><td>&quot;0&quot;</td><td>&quot;SIN&nbsp;SEGMENTACION&quot;</td><td>&quot;0&quot;</td><td>&quot;0&quot;</td><td>0.0</td><td>0.0</td><td>0.0</td><td>0.0</td><td>0</td><td>0.0</td><td>0</td><td>0.0</td></tr><tr><td>&quot;151798CL&nbsp;RETAIL&quot;</td><td>&quot;151798&quot;</td><td>null</td><td>null</td><td>0.0</td><td>&quot;1&quot;</td><td>&quot;CL&nbsp;RETAIL&quot;</td><td>&quot;RETAIL&quot;</td><td>&quot;Rep.Alter.Maquinaria&quot;</td><td>&quot;IMPLEMENTOS&quot;</td><td>&quot;POST&nbsp;COSECHA&quot;</td><td>&quot;TRITURADORES&quot;</td><td>&quot;MODELO&nbsp;DSP-1600&quot;</td><td>&quot;Implementos&quot;</td><td>&quot;7655&quot;</td><td>&quot;MINOS&nbsp;DIS&nbsp;TICARET&nbsp;LIMITED&quot;</td><td>&quot;IMP&quot;</td><td>&quot;150&quot;</td><td>&quot;NO&quot;</td><td>&quot;Sin&nbsp;Necesidad&quot;</td><td>null</td><td>&quot;0&quot;</td><td>&quot;0&quot;</td><td>&quot;SIN&nbsp;SEGMENTACION&quot;</td><td>&quot;0.166666667&quot;</td><td>&quot;0&quot;</td><td>0.0</td><td>0.0</td><td>0.0</td><td>0.0</td><td>0</td><td>0.0</td><td>0</td><td>0.0</td></tr><tr><td>&quot;151799CL&nbsp;RETAIL&quot;</td><td>&quot;151799&quot;</td><td>null</td><td>null</td><td>0.0</td><td>&quot;1&quot;</td><td>&quot;CL&nbsp;RETAIL&quot;</td><td>&quot;RETAIL&quot;</td><td>&quot;Rep.Alter.Maquinaria&quot;</td><td>&quot;IMPLEMENTOS&quot;</td><td>&quot;POST&nbsp;COSECHA&quot;</td><td>&quot;TRITURADORES&quot;</td><td>&quot;MODELO&nbsp;DSP-2400&quot;</td><td>&quot;Implementos&quot;</td><td>&quot;7655&quot;</td><td>&quot;MINOS&nbsp;DIS&nbsp;TICARET&nbsp;LIMITED&quot;</td><td>&quot;IMP&quot;</td><td>&quot;150&quot;</td><td>&quot;NO&quot;</td><td>&quot;Sin&nbsp;Necesidad&quot;</td><td>null</td><td>&quot;0&quot;</td><td>&quot;0&quot;</td><td>&quot;SIN&nbsp;SEGMENTACION&quot;</td><td>&quot;0.166666667&quot;</td><td>&quot;0&quot;</td><td>0.0</td><td>0.0</td><td>0.0</td><td>0.0</td><td>0</td><td>0.0</td><td>0</td><td>0.0</td></tr><tr><td>&quot;140102CL&nbsp;RETAIL&quot;</td><td>&quot;140102&quot;</td><td>null</td><td>null</td><td>0.0</td><td>&quot;1&quot;</td><td>&quot;CL&nbsp;RETAIL&quot;</td><td>&quot;RETAIL&quot;</td><td>&quot;Rep.Alter.Maquinaria&quot;</td><td>&quot;HP&nbsp;IMPLEMENTOS&quot;</td><td>&quot;LLANTAS&quot;</td><td>&quot;LLANTAS&nbsp;PARA&nbsp;IMPLEMENTO&quot;</td><td>&quot;LLANTA&nbsp;9.00-15.3&nbsp;6&nbsp;AGUJEROS&quot;</td><td>&quot;Otros&quot;</td><td>&quot;0&quot;</td><td>&quot;Sin&nbsp;proveedor&nbsp;regular&quot;</td><td>&quot;0&quot;</td><td>&quot;0&quot;</td><td>&quot;NO&quot;</td><td>&quot;Sin&nbsp;Necesidad&quot;</td><td>null</td><td>&quot;0&quot;</td><td>&quot;0&quot;</td><td>&quot;SIN&nbsp;SEGMENTACION&quot;</td><td>&quot;0&quot;</td><td>&quot;0&quot;</td><td>0.0</td><td>0.0</td><td>0.0</td><td>0.0</td><td>0</td><td>0.0</td><td>0</td><td>0.0</td></tr><tr><td>&quot;139062CL&nbsp;RETAIL&quot;</td><td>&quot;139062&quot;</td><td>null</td><td>null</td><td>0.0</td><td>&quot;1&quot;</td><td>&quot;CL&nbsp;RETAIL&quot;</td><td>&quot;RETAIL&quot;</td><td>&quot;Rep.Alter.Maquinaria&quot;</td><td>&quot;HP&nbsp;IMPLEMENTOS&quot;</td><td>&quot;LLANTAS&quot;</td><td>&quot;LLANTAS&nbsp;PARA&nbsp;IMPLEMENTO&quot;</td><td>&quot;LLANTA&nbsp;5.50-16&nbsp;5&nbsp;AGUJEROS&quot;</td><td>&quot;Otros&quot;</td><td>&quot;0&quot;</td><td>&quot;Sin&nbsp;proveedor&nbsp;regular&quot;</td><td>&quot;0&quot;</td><td>&quot;0&quot;</td><td>&quot;NO&quot;</td><td>&quot;Sin&nbsp;Necesidad&quot;</td><td>null</td><td>&quot;0&quot;</td><td>&quot;0&quot;</td><td>&quot;SIN&nbsp;SEGMENTACION&quot;</td><td>&quot;0&quot;</td><td>&quot;0&quot;</td><td>0.0</td><td>0.0</td><td>0.0</td><td>0.0</td><td>0</td><td>0.0</td><td>0</td><td>0.0</td></tr></tbody></table></div>"
      ],
      "text/plain": [
       "shape: (60_746, 34)\n",
       "┌─────────────┬─────────┬─────────────┬────────────┬───┬──────────┬──────────┬────────────┬────────┐\n",
       "│ ID          ┆ UE      ┆ Descripcion ┆ Marca      ┆ … ┆ Faltante ┆ Sobrante ┆ Stock      ┆ Sem 47 │\n",
       "│ ---         ┆ ---     ┆ Material    ┆ ---        ┆   ┆ ---      ┆ ---      ┆ Objetivo   ┆ (24)   │\n",
       "│ str         ┆ str     ┆ ---         ┆ str        ┆   ┆ i64      ┆ f64      ┆ ---        ┆ ---    │\n",
       "│             ┆         ┆ str         ┆            ┆   ┆          ┆          ┆ i64        ┆ f64    │\n",
       "╞═════════════╪═════════╪═════════════╪════════════╪═══╪══════════╪══════════╪════════════╪════════╡\n",
       "│ 1171331CL   ┆ 1171331 ┆ SCENT BOMB  ┆ SCENT BOMB ┆ … ┆ 48       ┆ 1133.0   ┆ 292        ┆ -48.0  │\n",
       "│ RETAIL      ┆         ┆ 2 PACK      ┆            ┆   ┆          ┆          ┆            ┆        │\n",
       "│             ┆         ┆ PAPER MAN   ┆            ┆   ┆          ┆          ┆            ┆        │\n",
       "│             ┆         ┆ TR…         ┆            ┆   ┆          ┆          ┆            ┆        │\n",
       "│ 1171332CL   ┆ 1171332 ┆ SCENT BOMB  ┆ SCENT BOMB ┆ … ┆ 144      ┆ 985.0    ┆ 292        ┆ -144.0 │\n",
       "│ RETAIL      ┆         ┆ 2 PACK      ┆            ┆   ┆          ┆          ┆            ┆        │\n",
       "│             ┆         ┆ PAPER HAWA  ┆            ┆   ┆          ┆          ┆            ┆        │\n",
       "│             ┆         ┆ B…          ┆            ┆   ┆          ┆          ┆            ┆        │\n",
       "│ 1171330CL   ┆ 1171330 ┆ SCENT BOMB  ┆ SCENT BOMB ┆ … ┆ 24       ┆ 1103.0   ┆ 292        ┆ -24.0  │\n",
       "│ RETAIL      ┆         ┆ 2 PACK      ┆            ┆   ┆          ┆          ┆            ┆        │\n",
       "│             ┆         ┆ PAPER B     ┆            ┆   ┆          ┆          ┆            ┆        │\n",
       "│             ┆         ┆ CHRY…       ┆            ┆   ┆          ┆          ┆            ┆        │\n",
       "│ 1171298CL   ┆ 1171298 ┆ SCENT BOMB  ┆ SCENT BOMB ┆ … ┆ 18       ┆ 167.998  ┆ 122        ┆ 204.0  │\n",
       "│ RETAIL      ┆         ┆ VENT CLIP   ┆            ┆   ┆          ┆          ┆            ┆        │\n",
       "│             ┆         ┆ MANG TROP…  ┆            ┆   ┆          ┆          ┆            ┆        │\n",
       "│ 1171325CL   ┆ 1171325 ┆ SCENT BOMB  ┆ SCENT BOMB ┆ … ┆ 18       ┆ 156.0    ┆ 141        ┆ 192.0  │\n",
       "│ RETAIL      ┆         ┆ VENT CLIP   ┆            ┆   ┆          ┆          ┆            ┆        │\n",
       "│             ┆         ┆ BLACK BOM…  ┆            ┆   ┆          ┆          ┆            ┆        │\n",
       "│ …           ┆ …       ┆ …           ┆ …          ┆ … ┆ …        ┆ …        ┆ …          ┆ …      │\n",
       "│ 1171967CL   ┆ 1171967 ┆ LIMP.ESPEJO ┆ MOTORLIFE  ┆ … ┆ 0        ┆ 0.0      ┆ 0          ┆ 0.0    │\n",
       "│ RETAIL      ┆         ┆ TELESCÓPICO ┆            ┆   ┆          ┆          ┆            ┆        │\n",
       "│             ┆         ┆ ML AP2…     ┆            ┆   ┆          ┆          ┆            ┆        │\n",
       "│ 151798CL    ┆ 151798  ┆ null        ┆ null       ┆ … ┆ 0        ┆ 0.0      ┆ 0          ┆ 0.0    │\n",
       "│ RETAIL      ┆         ┆             ┆            ┆   ┆          ┆          ┆            ┆        │\n",
       "│ 151799CL    ┆ 151799  ┆ null        ┆ null       ┆ … ┆ 0        ┆ 0.0      ┆ 0          ┆ 0.0    │\n",
       "│ RETAIL      ┆         ┆             ┆            ┆   ┆          ┆          ┆            ┆        │\n",
       "│ 140102CL    ┆ 140102  ┆ null        ┆ null       ┆ … ┆ 0        ┆ 0.0      ┆ 0          ┆ 0.0    │\n",
       "│ RETAIL      ┆         ┆             ┆            ┆   ┆          ┆          ┆            ┆        │\n",
       "│ 139062CL    ┆ 139062  ┆ null        ┆ null       ┆ … ┆ 0        ┆ 0.0      ┆ 0          ┆ 0.0    │\n",
       "│ RETAIL      ┆         ┆             ┆            ┆   ┆          ┆          ┆            ┆        │\n",
       "└─────────────┴─────────┴─────────────┴────────────┴───┴──────────┴──────────┴────────────┴────────┘"
      ]
     },
     "execution_count": 143,
     "metadata": {},
     "output_type": "execute_result"
    }
   ],
   "source": [
    "dix=base_dispo\n",
    "dix"
   ]
  },
  {
   "cell_type": "code",
   "execution_count": 144,
   "metadata": {},
   "outputs": [],
   "source": [
    "# Obtener el nombre de la nueva columna: 'Sem (semana actual + 1) (yy)'\n",
    "columna_nombre_siguiente = f\"Sem {semana_actual + 1} ({año_actual})\"\n",
    "columna_nombre_siguiente\n",
    "columna_tr = columna_nombre_siguiente + \"_tr\"\n",
    "columna_fc = columna_nombre_siguiente + \"_fc\"\n",
    "\n",
    "if columna_tr in transito_pvt.columns:\n",
    "    base_dispo = base_dispo.join(\n",
    "        transito_pvt.filter(\n",
    "            pl.col(\"UE\").is_in(base_dispo[\"UE\"])\n",
    "        ).select([pl.col(\"UE\"), pl.col(columna_tr).alias(columna_tr)]),\n",
    "        on=\"UE\",\n",
    "        how=\"left\"\n",
    "    )\n",
    "else:\n",
    "    print(f\"Columna {columna_tr} no encontrada en transito_pvt.\")"
   ]
  },
  {
   "cell_type": "code",
   "execution_count": 145,
   "metadata": {},
   "outputs": [
    {
     "data": {
      "text/html": [
       "<div><style>\n",
       ".dataframe > thead > tr,\n",
       ".dataframe > tbody > tr {\n",
       "  text-align: right;\n",
       "  white-space: pre-wrap;\n",
       "}\n",
       "</style>\n",
       "<small>shape: (60_746, 35)</small><table border=\"1\" class=\"dataframe\"><thead><tr><th>ID</th><th>UE</th><th>Descripcion Material</th><th>Marca</th><th>Ponderación por canal</th><th>Vig</th><th>Canal</th><th>Canal Consolidado</th><th>Sector</th><th>Agrupación ClaCom</th><th>SubAgrupación ClaCom</th><th>Categoría ClaCom</th><th>SubCategoría ClaCom</th><th>Bobinas/Implementos/Otros</th><th>COD. PROVEEDOR</th><th>PROVEEDOR</th><th>ORIGEN</th><th>LEAD TIME</th><th>Codigos Transparentes</th><th>Comentario Sesión</th><th>Comentario Finales</th><th>OBS Retail</th><th>OBS DERCO</th><th>Segmentacion AFM</th><th>Prom Forecast 3-6-12</th><th>Prom Venta 3-6-12</th><th>711</th><th>Stock CD</th><th>Control</th><th>Stock Tiendas</th><th>Faltante</th><th>Sobrante</th><th>Stock Objetivo</th><th>Sem 47 (24)</th><th>Sem 48 (24)_tr</th></tr><tr><td>str</td><td>str</td><td>str</td><td>str</td><td>f64</td><td>str</td><td>str</td><td>str</td><td>str</td><td>str</td><td>str</td><td>str</td><td>str</td><td>str</td><td>str</td><td>str</td><td>str</td><td>str</td><td>str</td><td>str</td><td>str</td><td>str</td><td>str</td><td>str</td><td>str</td><td>str</td><td>f64</td><td>f64</td><td>f64</td><td>f64</td><td>i64</td><td>f64</td><td>i64</td><td>f64</td><td>i64</td></tr></thead><tbody><tr><td>&quot;1171331CL&nbsp;RETAIL&quot;</td><td>&quot;1171331&quot;</td><td>&quot;SCENT&nbsp;BOMB&nbsp;2&nbsp;PACK&nbsp;PAPER&nbsp;MAN&nbsp;TR…</td><td>&quot;SCENT&nbsp;BOMB&quot;</td><td>1.0</td><td>&quot;1&quot;</td><td>&quot;CL&nbsp;RETAIL&quot;</td><td>&quot;RETAIL&quot;</td><td>&quot;Accesorios-Car&nbsp;Care&quot;</td><td>&quot;ACCESORIOS&quot;</td><td>&quot;LIMPIEZA&nbsp;Y&nbsp;CUIDADO&quot;</td><td>&quot;AROMATIZANTES&quot;</td><td>&quot;COLGANTE&quot;</td><td>&quot;Otros&quot;</td><td>&quot;61111&quot;</td><td>&quot;Careco&nbsp;LLC&quot;</td><td>&quot;IMP&quot;</td><td>&quot;120&quot;</td><td>&quot;NO&quot;</td><td>&quot;No&nbsp;Comprar&quot;</td><td>null</td><td>&quot;0&quot;</td><td>&quot;0&quot;</td><td>&quot;SIN&nbsp;SEGMENTACION&quot;</td><td>&quot;911.333333333&quot;</td><td>&quot;0.25&quot;</td><td>0.0</td><td>0.0</td><td>0.0</td><td>1446.0</td><td>48</td><td>1133.0</td><td>292</td><td>-48.0</td><td>0</td></tr><tr><td>&quot;1171332CL&nbsp;RETAIL&quot;</td><td>&quot;1171332&quot;</td><td>&quot;SCENT&nbsp;BOMB&nbsp;2&nbsp;PACK&nbsp;PAPER&nbsp;HAWA&nbsp;B…</td><td>&quot;SCENT&nbsp;BOMB&quot;</td><td>1.0</td><td>&quot;1&quot;</td><td>&quot;CL&nbsp;RETAIL&quot;</td><td>&quot;RETAIL&quot;</td><td>&quot;Accesorios-Car&nbsp;Care&quot;</td><td>&quot;ACCESORIOS&quot;</td><td>&quot;LIMPIEZA&nbsp;Y&nbsp;CUIDADO&quot;</td><td>&quot;AROMATIZANTES&quot;</td><td>&quot;COLGANTE&quot;</td><td>&quot;Otros&quot;</td><td>&quot;61111&quot;</td><td>&quot;Careco&nbsp;LLC&quot;</td><td>&quot;IMP&quot;</td><td>&quot;120&quot;</td><td>&quot;NO&quot;</td><td>&quot;No&nbsp;Comprar&quot;</td><td>null</td><td>&quot;0&quot;</td><td>&quot;0&quot;</td><td>&quot;SIN&nbsp;SEGMENTACION&quot;</td><td>&quot;911.333333333&quot;</td><td>&quot;0.5&quot;</td><td>0.0</td><td>0.0</td><td>0.0</td><td>1276.0</td><td>144</td><td>985.0</td><td>292</td><td>-144.0</td><td>0</td></tr><tr><td>&quot;1171330CL&nbsp;RETAIL&quot;</td><td>&quot;1171330&quot;</td><td>&quot;SCENT&nbsp;BOMB&nbsp;2&nbsp;PACK&nbsp;PAPER&nbsp;B&nbsp;CHRY…</td><td>&quot;SCENT&nbsp;BOMB&quot;</td><td>1.0</td><td>&quot;1&quot;</td><td>&quot;CL&nbsp;RETAIL&quot;</td><td>&quot;RETAIL&quot;</td><td>&quot;Accesorios-Car&nbsp;Care&quot;</td><td>&quot;ACCESORIOS&quot;</td><td>&quot;LIMPIEZA&nbsp;Y&nbsp;CUIDADO&quot;</td><td>&quot;AROMATIZANTES&quot;</td><td>&quot;COLGANTE&quot;</td><td>&quot;Otros&quot;</td><td>&quot;61111&quot;</td><td>&quot;Careco&nbsp;LLC&quot;</td><td>&quot;IMP&quot;</td><td>&quot;120&quot;</td><td>&quot;NO&quot;</td><td>&quot;No&nbsp;Comprar&quot;</td><td>null</td><td>&quot;0&quot;</td><td>&quot;0&quot;</td><td>&quot;SIN&nbsp;SEGMENTACION&quot;</td><td>&quot;911.333333333&quot;</td><td>&quot;1&quot;</td><td>0.0</td><td>0.0</td><td>0.0</td><td>1417.0</td><td>24</td><td>1103.0</td><td>292</td><td>-24.0</td><td>0</td></tr><tr><td>&quot;1171298CL&nbsp;RETAIL&quot;</td><td>&quot;1171298&quot;</td><td>&quot;SCENT&nbsp;BOMB&nbsp;VENT&nbsp;CLIP&nbsp;MANG&nbsp;TROP…</td><td>&quot;SCENT&nbsp;BOMB&quot;</td><td>1.0</td><td>&quot;1&quot;</td><td>&quot;CL&nbsp;RETAIL&quot;</td><td>&quot;RETAIL&quot;</td><td>&quot;Accesorios-Car&nbsp;Care&quot;</td><td>&quot;ACCESORIOS&quot;</td><td>&quot;LIMPIEZA&nbsp;Y&nbsp;CUIDADO&quot;</td><td>&quot;AROMATIZANTES&quot;</td><td>&quot;VENTILACION&quot;</td><td>&quot;Otros&quot;</td><td>&quot;61111&quot;</td><td>&quot;Careco&nbsp;LLC&quot;</td><td>&quot;IMP&quot;</td><td>&quot;120&quot;</td><td>&quot;NO&quot;</td><td>&quot;No&nbsp;Comprar&quot;</td><td>null</td><td>&quot;0&quot;</td><td>&quot;0&quot;</td><td>&quot;SIN&nbsp;SEGMENTACION&quot;</td><td>&quot;350&quot;</td><td>&quot;0.416666667&quot;</td><td>0.0</td><td>222.0</td><td>0.0</td><td>293.998</td><td>18</td><td>167.998</td><td>122</td><td>204.0</td><td>0</td></tr><tr><td>&quot;1171325CL&nbsp;RETAIL&quot;</td><td>&quot;1171325&quot;</td><td>&quot;SCENT&nbsp;BOMB&nbsp;VENT&nbsp;CLIP&nbsp;BLACK&nbsp;BOM…</td><td>&quot;SCENT&nbsp;BOMB&quot;</td><td>1.0</td><td>&quot;1&quot;</td><td>&quot;CL&nbsp;RETAIL&quot;</td><td>&quot;RETAIL&quot;</td><td>&quot;Accesorios-Car&nbsp;Care&quot;</td><td>&quot;ACCESORIOS&quot;</td><td>&quot;LIMPIEZA&nbsp;Y&nbsp;CUIDADO&quot;</td><td>&quot;AROMATIZANTES&quot;</td><td>&quot;VENTILACION&quot;</td><td>&quot;Otros&quot;</td><td>&quot;61111&quot;</td><td>&quot;Careco&nbsp;LLC&quot;</td><td>&quot;IMP&quot;</td><td>&quot;120&quot;</td><td>&quot;NO&quot;</td><td>&quot;No&nbsp;Comprar&quot;</td><td>null</td><td>&quot;0&quot;</td><td>&quot;0&quot;</td><td>&quot;SIN&nbsp;SEGMENTACION&quot;</td><td>&quot;450&quot;</td><td>&quot;0.416666667&quot;</td><td>0.0</td><td>210.0</td><td>0.0</td><td>303.0</td><td>18</td><td>156.0</td><td>141</td><td>192.0</td><td>0</td></tr><tr><td>&hellip;</td><td>&hellip;</td><td>&hellip;</td><td>&hellip;</td><td>&hellip;</td><td>&hellip;</td><td>&hellip;</td><td>&hellip;</td><td>&hellip;</td><td>&hellip;</td><td>&hellip;</td><td>&hellip;</td><td>&hellip;</td><td>&hellip;</td><td>&hellip;</td><td>&hellip;</td><td>&hellip;</td><td>&hellip;</td><td>&hellip;</td><td>&hellip;</td><td>&hellip;</td><td>&hellip;</td><td>&hellip;</td><td>&hellip;</td><td>&hellip;</td><td>&hellip;</td><td>&hellip;</td><td>&hellip;</td><td>&hellip;</td><td>&hellip;</td><td>&hellip;</td><td>&hellip;</td><td>&hellip;</td><td>&hellip;</td><td>&hellip;</td></tr><tr><td>&quot;1171967CL&nbsp;RETAIL&quot;</td><td>&quot;1171967&quot;</td><td>&quot;LIMP.ESPEJO&nbsp;TELESCÓPICO&nbsp;ML&nbsp;AP2…</td><td>&quot;MOTORLIFE&quot;</td><td>0.0</td><td>&quot;0&quot;</td><td>&quot;CL&nbsp;RETAIL&quot;</td><td>&quot;RETAIL&quot;</td><td>&quot;Accesorios-Car&nbsp;Care&quot;</td><td>&quot;ACCESORIOS&quot;</td><td>&quot;CUIDADO&nbsp;Y&nbsp;MANTENCION&quot;</td><td>&quot;PARABRISAS&nbsp;Y&nbsp;ACCESORIOS&quot;</td><td>&quot;PLUMILLAS&quot;</td><td>&quot;Otros&quot;</td><td>&quot;17968&quot;</td><td>&quot;WICO&nbsp;INTERNATION&nbsp;LIMITED&quot;</td><td>&quot;IMP&quot;</td><td>&quot;158&quot;</td><td>&quot;NO&quot;</td><td>&quot;Sin&nbsp;Necesidad&quot;</td><td>null</td><td>&quot;0&quot;</td><td>&quot;0&quot;</td><td>&quot;SIN&nbsp;SEGMENTACION&quot;</td><td>&quot;0&quot;</td><td>&quot;0&quot;</td><td>0.0</td><td>0.0</td><td>0.0</td><td>0.0</td><td>0</td><td>0.0</td><td>0</td><td>0.0</td><td>null</td></tr><tr><td>&quot;151798CL&nbsp;RETAIL&quot;</td><td>&quot;151798&quot;</td><td>null</td><td>null</td><td>0.0</td><td>&quot;1&quot;</td><td>&quot;CL&nbsp;RETAIL&quot;</td><td>&quot;RETAIL&quot;</td><td>&quot;Rep.Alter.Maquinaria&quot;</td><td>&quot;IMPLEMENTOS&quot;</td><td>&quot;POST&nbsp;COSECHA&quot;</td><td>&quot;TRITURADORES&quot;</td><td>&quot;MODELO&nbsp;DSP-1600&quot;</td><td>&quot;Implementos&quot;</td><td>&quot;7655&quot;</td><td>&quot;MINOS&nbsp;DIS&nbsp;TICARET&nbsp;LIMITED&quot;</td><td>&quot;IMP&quot;</td><td>&quot;150&quot;</td><td>&quot;NO&quot;</td><td>&quot;Sin&nbsp;Necesidad&quot;</td><td>null</td><td>&quot;0&quot;</td><td>&quot;0&quot;</td><td>&quot;SIN&nbsp;SEGMENTACION&quot;</td><td>&quot;0.166666667&quot;</td><td>&quot;0&quot;</td><td>0.0</td><td>0.0</td><td>0.0</td><td>0.0</td><td>0</td><td>0.0</td><td>0</td><td>0.0</td><td>null</td></tr><tr><td>&quot;151799CL&nbsp;RETAIL&quot;</td><td>&quot;151799&quot;</td><td>null</td><td>null</td><td>0.0</td><td>&quot;1&quot;</td><td>&quot;CL&nbsp;RETAIL&quot;</td><td>&quot;RETAIL&quot;</td><td>&quot;Rep.Alter.Maquinaria&quot;</td><td>&quot;IMPLEMENTOS&quot;</td><td>&quot;POST&nbsp;COSECHA&quot;</td><td>&quot;TRITURADORES&quot;</td><td>&quot;MODELO&nbsp;DSP-2400&quot;</td><td>&quot;Implementos&quot;</td><td>&quot;7655&quot;</td><td>&quot;MINOS&nbsp;DIS&nbsp;TICARET&nbsp;LIMITED&quot;</td><td>&quot;IMP&quot;</td><td>&quot;150&quot;</td><td>&quot;NO&quot;</td><td>&quot;Sin&nbsp;Necesidad&quot;</td><td>null</td><td>&quot;0&quot;</td><td>&quot;0&quot;</td><td>&quot;SIN&nbsp;SEGMENTACION&quot;</td><td>&quot;0.166666667&quot;</td><td>&quot;0&quot;</td><td>0.0</td><td>0.0</td><td>0.0</td><td>0.0</td><td>0</td><td>0.0</td><td>0</td><td>0.0</td><td>null</td></tr><tr><td>&quot;140102CL&nbsp;RETAIL&quot;</td><td>&quot;140102&quot;</td><td>null</td><td>null</td><td>0.0</td><td>&quot;1&quot;</td><td>&quot;CL&nbsp;RETAIL&quot;</td><td>&quot;RETAIL&quot;</td><td>&quot;Rep.Alter.Maquinaria&quot;</td><td>&quot;HP&nbsp;IMPLEMENTOS&quot;</td><td>&quot;LLANTAS&quot;</td><td>&quot;LLANTAS&nbsp;PARA&nbsp;IMPLEMENTO&quot;</td><td>&quot;LLANTA&nbsp;9.00-15.3&nbsp;6&nbsp;AGUJEROS&quot;</td><td>&quot;Otros&quot;</td><td>&quot;0&quot;</td><td>&quot;Sin&nbsp;proveedor&nbsp;regular&quot;</td><td>&quot;0&quot;</td><td>&quot;0&quot;</td><td>&quot;NO&quot;</td><td>&quot;Sin&nbsp;Necesidad&quot;</td><td>null</td><td>&quot;0&quot;</td><td>&quot;0&quot;</td><td>&quot;SIN&nbsp;SEGMENTACION&quot;</td><td>&quot;0&quot;</td><td>&quot;0&quot;</td><td>0.0</td><td>0.0</td><td>0.0</td><td>0.0</td><td>0</td><td>0.0</td><td>0</td><td>0.0</td><td>null</td></tr><tr><td>&quot;139062CL&nbsp;RETAIL&quot;</td><td>&quot;139062&quot;</td><td>null</td><td>null</td><td>0.0</td><td>&quot;1&quot;</td><td>&quot;CL&nbsp;RETAIL&quot;</td><td>&quot;RETAIL&quot;</td><td>&quot;Rep.Alter.Maquinaria&quot;</td><td>&quot;HP&nbsp;IMPLEMENTOS&quot;</td><td>&quot;LLANTAS&quot;</td><td>&quot;LLANTAS&nbsp;PARA&nbsp;IMPLEMENTO&quot;</td><td>&quot;LLANTA&nbsp;5.50-16&nbsp;5&nbsp;AGUJEROS&quot;</td><td>&quot;Otros&quot;</td><td>&quot;0&quot;</td><td>&quot;Sin&nbsp;proveedor&nbsp;regular&quot;</td><td>&quot;0&quot;</td><td>&quot;0&quot;</td><td>&quot;NO&quot;</td><td>&quot;Sin&nbsp;Necesidad&quot;</td><td>null</td><td>&quot;0&quot;</td><td>&quot;0&quot;</td><td>&quot;SIN&nbsp;SEGMENTACION&quot;</td><td>&quot;0&quot;</td><td>&quot;0&quot;</td><td>0.0</td><td>0.0</td><td>0.0</td><td>0.0</td><td>0</td><td>0.0</td><td>0</td><td>0.0</td><td>null</td></tr></tbody></table></div>"
      ],
      "text/plain": [
       "shape: (60_746, 35)\n",
       "┌─────────────┬─────────┬─────────────┬─────────────┬───┬──────────┬────────────┬────────┬─────────┐\n",
       "│ ID          ┆ UE      ┆ Descripcion ┆ Marca       ┆ … ┆ Sobrante ┆ Stock      ┆ Sem 47 ┆ Sem 48  │\n",
       "│ ---         ┆ ---     ┆ Material    ┆ ---         ┆   ┆ ---      ┆ Objetivo   ┆ (24)   ┆ (24)_tr │\n",
       "│ str         ┆ str     ┆ ---         ┆ str         ┆   ┆ f64      ┆ ---        ┆ ---    ┆ ---     │\n",
       "│             ┆         ┆ str         ┆             ┆   ┆          ┆ i64        ┆ f64    ┆ i64     │\n",
       "╞═════════════╪═════════╪═════════════╪═════════════╪═══╪══════════╪════════════╪════════╪═════════╡\n",
       "│ 1171331CL   ┆ 1171331 ┆ SCENT BOMB  ┆ SCENT BOMB  ┆ … ┆ 1133.0   ┆ 292        ┆ -48.0  ┆ 0       │\n",
       "│ RETAIL      ┆         ┆ 2 PACK      ┆             ┆   ┆          ┆            ┆        ┆         │\n",
       "│             ┆         ┆ PAPER MAN   ┆             ┆   ┆          ┆            ┆        ┆         │\n",
       "│             ┆         ┆ TR…         ┆             ┆   ┆          ┆            ┆        ┆         │\n",
       "│ 1171332CL   ┆ 1171332 ┆ SCENT BOMB  ┆ SCENT BOMB  ┆ … ┆ 985.0    ┆ 292        ┆ -144.0 ┆ 0       │\n",
       "│ RETAIL      ┆         ┆ 2 PACK      ┆             ┆   ┆          ┆            ┆        ┆         │\n",
       "│             ┆         ┆ PAPER HAWA  ┆             ┆   ┆          ┆            ┆        ┆         │\n",
       "│             ┆         ┆ B…          ┆             ┆   ┆          ┆            ┆        ┆         │\n",
       "│ 1171330CL   ┆ 1171330 ┆ SCENT BOMB  ┆ SCENT BOMB  ┆ … ┆ 1103.0   ┆ 292        ┆ -24.0  ┆ 0       │\n",
       "│ RETAIL      ┆         ┆ 2 PACK      ┆             ┆   ┆          ┆            ┆        ┆         │\n",
       "│             ┆         ┆ PAPER B     ┆             ┆   ┆          ┆            ┆        ┆         │\n",
       "│             ┆         ┆ CHRY…       ┆             ┆   ┆          ┆            ┆        ┆         │\n",
       "│ 1171298CL   ┆ 1171298 ┆ SCENT BOMB  ┆ SCENT BOMB  ┆ … ┆ 167.998  ┆ 122        ┆ 204.0  ┆ 0       │\n",
       "│ RETAIL      ┆         ┆ VENT CLIP   ┆             ┆   ┆          ┆            ┆        ┆         │\n",
       "│             ┆         ┆ MANG TROP…  ┆             ┆   ┆          ┆            ┆        ┆         │\n",
       "│ 1171325CL   ┆ 1171325 ┆ SCENT BOMB  ┆ SCENT BOMB  ┆ … ┆ 156.0    ┆ 141        ┆ 192.0  ┆ 0       │\n",
       "│ RETAIL      ┆         ┆ VENT CLIP   ┆             ┆   ┆          ┆            ┆        ┆         │\n",
       "│             ┆         ┆ BLACK BOM…  ┆             ┆   ┆          ┆            ┆        ┆         │\n",
       "│ …           ┆ …       ┆ …           ┆ …           ┆ … ┆ …        ┆ …          ┆ …      ┆ …       │\n",
       "│ 1171967CL   ┆ 1171967 ┆ LIMP.ESPEJO ┆ MOTORLIFE   ┆ … ┆ 0.0      ┆ 0          ┆ 0.0    ┆ null    │\n",
       "│ RETAIL      ┆         ┆ TELESCÓPICO ┆             ┆   ┆          ┆            ┆        ┆         │\n",
       "│             ┆         ┆ ML AP2…     ┆             ┆   ┆          ┆            ┆        ┆         │\n",
       "│ 151798CL    ┆ 151798  ┆ null        ┆ null        ┆ … ┆ 0.0      ┆ 0          ┆ 0.0    ┆ null    │\n",
       "│ RETAIL      ┆         ┆             ┆             ┆   ┆          ┆            ┆        ┆         │\n",
       "│ 151799CL    ┆ 151799  ┆ null        ┆ null        ┆ … ┆ 0.0      ┆ 0          ┆ 0.0    ┆ null    │\n",
       "│ RETAIL      ┆         ┆             ┆             ┆   ┆          ┆            ┆        ┆         │\n",
       "│ 140102CL    ┆ 140102  ┆ null        ┆ null        ┆ … ┆ 0.0      ┆ 0          ┆ 0.0    ┆ null    │\n",
       "│ RETAIL      ┆         ┆             ┆             ┆   ┆          ┆            ┆        ┆         │\n",
       "│ 139062CL    ┆ 139062  ┆ null        ┆ null        ┆ … ┆ 0.0      ┆ 0          ┆ 0.0    ┆ null    │\n",
       "│ RETAIL      ┆         ┆             ┆             ┆   ┆          ┆            ┆        ┆         │\n",
       "└─────────────┴─────────┴─────────────┴─────────────┴───┴──────────┴────────────┴────────┴─────────┘"
      ]
     },
     "execution_count": 145,
     "metadata": {},
     "output_type": "execute_result"
    }
   ],
   "source": [
    "base_dispo"
   ]
  },
  {
   "cell_type": "code",
   "execution_count": 146,
   "metadata": {},
   "outputs": [],
   "source": [
    "\n",
    "\n",
    "if columna_fc in fc_pvt.columns:\n",
    "    base_dispo = base_dispo.join(\n",
    "        fc_pvt.filter(\n",
    "            pl.col(\"ID\").is_in(base_dispo[\"ID\"])\n",
    "        ).select([pl.col(\"ID\"), pl.col(columna_fc).alias(columna_fc)]),\n",
    "        on=\"ID\",\n",
    "        how=\"left\"\n",
    "    )\n",
    "else:\n",
    "    print(f\"Columna {columna_fc} no encontrada en fc_pvt.\")"
   ]
  },
  {
   "cell_type": "code",
   "execution_count": 147,
   "metadata": {},
   "outputs": [
    {
     "data": {
      "text/html": [
       "<div><style>\n",
       ".dataframe > thead > tr,\n",
       ".dataframe > tbody > tr {\n",
       "  text-align: right;\n",
       "  white-space: pre-wrap;\n",
       "}\n",
       "</style>\n",
       "<small>shape: (60_746, 36)</small><table border=\"1\" class=\"dataframe\"><thead><tr><th>ID</th><th>UE</th><th>Descripcion Material</th><th>Marca</th><th>Ponderación por canal</th><th>Vig</th><th>Canal</th><th>Canal Consolidado</th><th>Sector</th><th>Agrupación ClaCom</th><th>SubAgrupación ClaCom</th><th>Categoría ClaCom</th><th>SubCategoría ClaCom</th><th>Bobinas/Implementos/Otros</th><th>COD. PROVEEDOR</th><th>PROVEEDOR</th><th>ORIGEN</th><th>LEAD TIME</th><th>Codigos Transparentes</th><th>Comentario Sesión</th><th>Comentario Finales</th><th>OBS Retail</th><th>OBS DERCO</th><th>Segmentacion AFM</th><th>Prom Forecast 3-6-12</th><th>Prom Venta 3-6-12</th><th>711</th><th>Stock CD</th><th>Control</th><th>Stock Tiendas</th><th>Faltante</th><th>Sobrante</th><th>Stock Objetivo</th><th>Sem 47 (24)</th><th>Sem 48 (24)_tr</th><th>Sem 48 (24)_fc</th></tr><tr><td>str</td><td>str</td><td>str</td><td>str</td><td>f64</td><td>str</td><td>str</td><td>str</td><td>str</td><td>str</td><td>str</td><td>str</td><td>str</td><td>str</td><td>str</td><td>str</td><td>str</td><td>str</td><td>str</td><td>str</td><td>str</td><td>str</td><td>str</td><td>str</td><td>str</td><td>str</td><td>f64</td><td>f64</td><td>f64</td><td>f64</td><td>i64</td><td>f64</td><td>i64</td><td>f64</td><td>i64</td><td>f64</td></tr></thead><tbody><tr><td>&quot;1171331CL&nbsp;RETAIL&quot;</td><td>&quot;1171331&quot;</td><td>&quot;SCENT&nbsp;BOMB&nbsp;2&nbsp;PACK&nbsp;PAPER&nbsp;MAN&nbsp;TR…</td><td>&quot;SCENT&nbsp;BOMB&quot;</td><td>1.0</td><td>&quot;1&quot;</td><td>&quot;CL&nbsp;RETAIL&quot;</td><td>&quot;RETAIL&quot;</td><td>&quot;Accesorios-Car&nbsp;Care&quot;</td><td>&quot;ACCESORIOS&quot;</td><td>&quot;LIMPIEZA&nbsp;Y&nbsp;CUIDADO&quot;</td><td>&quot;AROMATIZANTES&quot;</td><td>&quot;COLGANTE&quot;</td><td>&quot;Otros&quot;</td><td>&quot;61111&quot;</td><td>&quot;Careco&nbsp;LLC&quot;</td><td>&quot;IMP&quot;</td><td>&quot;120&quot;</td><td>&quot;NO&quot;</td><td>&quot;No&nbsp;Comprar&quot;</td><td>null</td><td>&quot;0&quot;</td><td>&quot;0&quot;</td><td>&quot;SIN&nbsp;SEGMENTACION&quot;</td><td>&quot;911.333333333&quot;</td><td>&quot;0.25&quot;</td><td>0.0</td><td>0.0</td><td>0.0</td><td>1446.0</td><td>48</td><td>1133.0</td><td>292</td><td>-48.0</td><td>0</td><td>187.066975</td></tr><tr><td>&quot;1171332CL&nbsp;RETAIL&quot;</td><td>&quot;1171332&quot;</td><td>&quot;SCENT&nbsp;BOMB&nbsp;2&nbsp;PACK&nbsp;PAPER&nbsp;HAWA&nbsp;B…</td><td>&quot;SCENT&nbsp;BOMB&quot;</td><td>1.0</td><td>&quot;1&quot;</td><td>&quot;CL&nbsp;RETAIL&quot;</td><td>&quot;RETAIL&quot;</td><td>&quot;Accesorios-Car&nbsp;Care&quot;</td><td>&quot;ACCESORIOS&quot;</td><td>&quot;LIMPIEZA&nbsp;Y&nbsp;CUIDADO&quot;</td><td>&quot;AROMATIZANTES&quot;</td><td>&quot;COLGANTE&quot;</td><td>&quot;Otros&quot;</td><td>&quot;61111&quot;</td><td>&quot;Careco&nbsp;LLC&quot;</td><td>&quot;IMP&quot;</td><td>&quot;120&quot;</td><td>&quot;NO&quot;</td><td>&quot;No&nbsp;Comprar&quot;</td><td>null</td><td>&quot;0&quot;</td><td>&quot;0&quot;</td><td>&quot;SIN&nbsp;SEGMENTACION&quot;</td><td>&quot;911.333333333&quot;</td><td>&quot;0.5&quot;</td><td>0.0</td><td>0.0</td><td>0.0</td><td>1276.0</td><td>144</td><td>985.0</td><td>292</td><td>-144.0</td><td>0</td><td>187.066975</td></tr><tr><td>&quot;1171330CL&nbsp;RETAIL&quot;</td><td>&quot;1171330&quot;</td><td>&quot;SCENT&nbsp;BOMB&nbsp;2&nbsp;PACK&nbsp;PAPER&nbsp;B&nbsp;CHRY…</td><td>&quot;SCENT&nbsp;BOMB&quot;</td><td>1.0</td><td>&quot;1&quot;</td><td>&quot;CL&nbsp;RETAIL&quot;</td><td>&quot;RETAIL&quot;</td><td>&quot;Accesorios-Car&nbsp;Care&quot;</td><td>&quot;ACCESORIOS&quot;</td><td>&quot;LIMPIEZA&nbsp;Y&nbsp;CUIDADO&quot;</td><td>&quot;AROMATIZANTES&quot;</td><td>&quot;COLGANTE&quot;</td><td>&quot;Otros&quot;</td><td>&quot;61111&quot;</td><td>&quot;Careco&nbsp;LLC&quot;</td><td>&quot;IMP&quot;</td><td>&quot;120&quot;</td><td>&quot;NO&quot;</td><td>&quot;No&nbsp;Comprar&quot;</td><td>null</td><td>&quot;0&quot;</td><td>&quot;0&quot;</td><td>&quot;SIN&nbsp;SEGMENTACION&quot;</td><td>&quot;911.333333333&quot;</td><td>&quot;1&quot;</td><td>0.0</td><td>0.0</td><td>0.0</td><td>1417.0</td><td>24</td><td>1103.0</td><td>292</td><td>-24.0</td><td>0</td><td>187.066975</td></tr><tr><td>&quot;1171298CL&nbsp;RETAIL&quot;</td><td>&quot;1171298&quot;</td><td>&quot;SCENT&nbsp;BOMB&nbsp;VENT&nbsp;CLIP&nbsp;MANG&nbsp;TROP…</td><td>&quot;SCENT&nbsp;BOMB&quot;</td><td>1.0</td><td>&quot;1&quot;</td><td>&quot;CL&nbsp;RETAIL&quot;</td><td>&quot;RETAIL&quot;</td><td>&quot;Accesorios-Car&nbsp;Care&quot;</td><td>&quot;ACCESORIOS&quot;</td><td>&quot;LIMPIEZA&nbsp;Y&nbsp;CUIDADO&quot;</td><td>&quot;AROMATIZANTES&quot;</td><td>&quot;VENTILACION&quot;</td><td>&quot;Otros&quot;</td><td>&quot;61111&quot;</td><td>&quot;Careco&nbsp;LLC&quot;</td><td>&quot;IMP&quot;</td><td>&quot;120&quot;</td><td>&quot;NO&quot;</td><td>&quot;No&nbsp;Comprar&quot;</td><td>null</td><td>&quot;0&quot;</td><td>&quot;0&quot;</td><td>&quot;SIN&nbsp;SEGMENTACION&quot;</td><td>&quot;350&quot;</td><td>&quot;0.416666667&quot;</td><td>0.0</td><td>222.0</td><td>0.0</td><td>293.998</td><td>18</td><td>167.998</td><td>122</td><td>204.0</td><td>0</td><td>69.284065</td></tr><tr><td>&quot;1171325CL&nbsp;RETAIL&quot;</td><td>&quot;1171325&quot;</td><td>&quot;SCENT&nbsp;BOMB&nbsp;VENT&nbsp;CLIP&nbsp;BLACK&nbsp;BOM…</td><td>&quot;SCENT&nbsp;BOMB&quot;</td><td>1.0</td><td>&quot;1&quot;</td><td>&quot;CL&nbsp;RETAIL&quot;</td><td>&quot;RETAIL&quot;</td><td>&quot;Accesorios-Car&nbsp;Care&quot;</td><td>&quot;ACCESORIOS&quot;</td><td>&quot;LIMPIEZA&nbsp;Y&nbsp;CUIDADO&quot;</td><td>&quot;AROMATIZANTES&quot;</td><td>&quot;VENTILACION&quot;</td><td>&quot;Otros&quot;</td><td>&quot;61111&quot;</td><td>&quot;Careco&nbsp;LLC&quot;</td><td>&quot;IMP&quot;</td><td>&quot;120&quot;</td><td>&quot;NO&quot;</td><td>&quot;No&nbsp;Comprar&quot;</td><td>null</td><td>&quot;0&quot;</td><td>&quot;0&quot;</td><td>&quot;SIN&nbsp;SEGMENTACION&quot;</td><td>&quot;450&quot;</td><td>&quot;0.416666667&quot;</td><td>0.0</td><td>210.0</td><td>0.0</td><td>303.0</td><td>18</td><td>156.0</td><td>141</td><td>192.0</td><td>0</td><td>92.378753</td></tr><tr><td>&hellip;</td><td>&hellip;</td><td>&hellip;</td><td>&hellip;</td><td>&hellip;</td><td>&hellip;</td><td>&hellip;</td><td>&hellip;</td><td>&hellip;</td><td>&hellip;</td><td>&hellip;</td><td>&hellip;</td><td>&hellip;</td><td>&hellip;</td><td>&hellip;</td><td>&hellip;</td><td>&hellip;</td><td>&hellip;</td><td>&hellip;</td><td>&hellip;</td><td>&hellip;</td><td>&hellip;</td><td>&hellip;</td><td>&hellip;</td><td>&hellip;</td><td>&hellip;</td><td>&hellip;</td><td>&hellip;</td><td>&hellip;</td><td>&hellip;</td><td>&hellip;</td><td>&hellip;</td><td>&hellip;</td><td>&hellip;</td><td>&hellip;</td><td>&hellip;</td></tr><tr><td>&quot;1171967CL&nbsp;RETAIL&quot;</td><td>&quot;1171967&quot;</td><td>&quot;LIMP.ESPEJO&nbsp;TELESCÓPICO&nbsp;ML&nbsp;AP2…</td><td>&quot;MOTORLIFE&quot;</td><td>0.0</td><td>&quot;0&quot;</td><td>&quot;CL&nbsp;RETAIL&quot;</td><td>&quot;RETAIL&quot;</td><td>&quot;Accesorios-Car&nbsp;Care&quot;</td><td>&quot;ACCESORIOS&quot;</td><td>&quot;CUIDADO&nbsp;Y&nbsp;MANTENCION&quot;</td><td>&quot;PARABRISAS&nbsp;Y&nbsp;ACCESORIOS&quot;</td><td>&quot;PLUMILLAS&quot;</td><td>&quot;Otros&quot;</td><td>&quot;17968&quot;</td><td>&quot;WICO&nbsp;INTERNATION&nbsp;LIMITED&quot;</td><td>&quot;IMP&quot;</td><td>&quot;158&quot;</td><td>&quot;NO&quot;</td><td>&quot;Sin&nbsp;Necesidad&quot;</td><td>null</td><td>&quot;0&quot;</td><td>&quot;0&quot;</td><td>&quot;SIN&nbsp;SEGMENTACION&quot;</td><td>&quot;0&quot;</td><td>&quot;0&quot;</td><td>0.0</td><td>0.0</td><td>0.0</td><td>0.0</td><td>0</td><td>0.0</td><td>0</td><td>0.0</td><td>null</td><td>0.0</td></tr><tr><td>&quot;151798CL&nbsp;RETAIL&quot;</td><td>&quot;151798&quot;</td><td>null</td><td>null</td><td>0.0</td><td>&quot;1&quot;</td><td>&quot;CL&nbsp;RETAIL&quot;</td><td>&quot;RETAIL&quot;</td><td>&quot;Rep.Alter.Maquinaria&quot;</td><td>&quot;IMPLEMENTOS&quot;</td><td>&quot;POST&nbsp;COSECHA&quot;</td><td>&quot;TRITURADORES&quot;</td><td>&quot;MODELO&nbsp;DSP-1600&quot;</td><td>&quot;Implementos&quot;</td><td>&quot;7655&quot;</td><td>&quot;MINOS&nbsp;DIS&nbsp;TICARET&nbsp;LIMITED&quot;</td><td>&quot;IMP&quot;</td><td>&quot;150&quot;</td><td>&quot;NO&quot;</td><td>&quot;Sin&nbsp;Necesidad&quot;</td><td>null</td><td>&quot;0&quot;</td><td>&quot;0&quot;</td><td>&quot;SIN&nbsp;SEGMENTACION&quot;</td><td>&quot;0.166666667&quot;</td><td>&quot;0&quot;</td><td>0.0</td><td>0.0</td><td>0.0</td><td>0.0</td><td>0</td><td>0.0</td><td>0</td><td>0.0</td><td>null</td><td>0.0</td></tr><tr><td>&quot;151799CL&nbsp;RETAIL&quot;</td><td>&quot;151799&quot;</td><td>null</td><td>null</td><td>0.0</td><td>&quot;1&quot;</td><td>&quot;CL&nbsp;RETAIL&quot;</td><td>&quot;RETAIL&quot;</td><td>&quot;Rep.Alter.Maquinaria&quot;</td><td>&quot;IMPLEMENTOS&quot;</td><td>&quot;POST&nbsp;COSECHA&quot;</td><td>&quot;TRITURADORES&quot;</td><td>&quot;MODELO&nbsp;DSP-2400&quot;</td><td>&quot;Implementos&quot;</td><td>&quot;7655&quot;</td><td>&quot;MINOS&nbsp;DIS&nbsp;TICARET&nbsp;LIMITED&quot;</td><td>&quot;IMP&quot;</td><td>&quot;150&quot;</td><td>&quot;NO&quot;</td><td>&quot;Sin&nbsp;Necesidad&quot;</td><td>null</td><td>&quot;0&quot;</td><td>&quot;0&quot;</td><td>&quot;SIN&nbsp;SEGMENTACION&quot;</td><td>&quot;0.166666667&quot;</td><td>&quot;0&quot;</td><td>0.0</td><td>0.0</td><td>0.0</td><td>0.0</td><td>0</td><td>0.0</td><td>0</td><td>0.0</td><td>null</td><td>0.0</td></tr><tr><td>&quot;140102CL&nbsp;RETAIL&quot;</td><td>&quot;140102&quot;</td><td>null</td><td>null</td><td>0.0</td><td>&quot;1&quot;</td><td>&quot;CL&nbsp;RETAIL&quot;</td><td>&quot;RETAIL&quot;</td><td>&quot;Rep.Alter.Maquinaria&quot;</td><td>&quot;HP&nbsp;IMPLEMENTOS&quot;</td><td>&quot;LLANTAS&quot;</td><td>&quot;LLANTAS&nbsp;PARA&nbsp;IMPLEMENTO&quot;</td><td>&quot;LLANTA&nbsp;9.00-15.3&nbsp;6&nbsp;AGUJEROS&quot;</td><td>&quot;Otros&quot;</td><td>&quot;0&quot;</td><td>&quot;Sin&nbsp;proveedor&nbsp;regular&quot;</td><td>&quot;0&quot;</td><td>&quot;0&quot;</td><td>&quot;NO&quot;</td><td>&quot;Sin&nbsp;Necesidad&quot;</td><td>null</td><td>&quot;0&quot;</td><td>&quot;0&quot;</td><td>&quot;SIN&nbsp;SEGMENTACION&quot;</td><td>&quot;0&quot;</td><td>&quot;0&quot;</td><td>0.0</td><td>0.0</td><td>0.0</td><td>0.0</td><td>0</td><td>0.0</td><td>0</td><td>0.0</td><td>null</td><td>0.0</td></tr><tr><td>&quot;139062CL&nbsp;RETAIL&quot;</td><td>&quot;139062&quot;</td><td>null</td><td>null</td><td>0.0</td><td>&quot;1&quot;</td><td>&quot;CL&nbsp;RETAIL&quot;</td><td>&quot;RETAIL&quot;</td><td>&quot;Rep.Alter.Maquinaria&quot;</td><td>&quot;HP&nbsp;IMPLEMENTOS&quot;</td><td>&quot;LLANTAS&quot;</td><td>&quot;LLANTAS&nbsp;PARA&nbsp;IMPLEMENTO&quot;</td><td>&quot;LLANTA&nbsp;5.50-16&nbsp;5&nbsp;AGUJEROS&quot;</td><td>&quot;Otros&quot;</td><td>&quot;0&quot;</td><td>&quot;Sin&nbsp;proveedor&nbsp;regular&quot;</td><td>&quot;0&quot;</td><td>&quot;0&quot;</td><td>&quot;NO&quot;</td><td>&quot;Sin&nbsp;Necesidad&quot;</td><td>null</td><td>&quot;0&quot;</td><td>&quot;0&quot;</td><td>&quot;SIN&nbsp;SEGMENTACION&quot;</td><td>&quot;0&quot;</td><td>&quot;0&quot;</td><td>0.0</td><td>0.0</td><td>0.0</td><td>0.0</td><td>0</td><td>0.0</td><td>0</td><td>0.0</td><td>null</td><td>0.0</td></tr></tbody></table></div>"
      ],
      "text/plain": [
       "shape: (60_746, 36)\n",
       "┌────────────┬─────────┬────────────┬────────────┬───┬────────────┬────────┬───────────┬───────────┐\n",
       "│ ID         ┆ UE      ┆ Descripcio ┆ Marca      ┆ … ┆ Stock      ┆ Sem 47 ┆ Sem 48    ┆ Sem 48    │\n",
       "│ ---        ┆ ---     ┆ n Material ┆ ---        ┆   ┆ Objetivo   ┆ (24)   ┆ (24)_tr   ┆ (24)_fc   │\n",
       "│ str        ┆ str     ┆ ---        ┆ str        ┆   ┆ ---        ┆ ---    ┆ ---       ┆ ---       │\n",
       "│            ┆         ┆ str        ┆            ┆   ┆ i64        ┆ f64    ┆ i64       ┆ f64       │\n",
       "╞════════════╪═════════╪════════════╪════════════╪═══╪════════════╪════════╪═══════════╪═══════════╡\n",
       "│ 1171331CL  ┆ 1171331 ┆ SCENT BOMB ┆ SCENT BOMB ┆ … ┆ 292        ┆ -48.0  ┆ 0         ┆ 187.06697 │\n",
       "│ RETAIL     ┆         ┆ 2 PACK     ┆            ┆   ┆            ┆        ┆           ┆ 5         │\n",
       "│            ┆         ┆ PAPER MAN  ┆            ┆   ┆            ┆        ┆           ┆           │\n",
       "│            ┆         ┆ TR…        ┆            ┆   ┆            ┆        ┆           ┆           │\n",
       "│ 1171332CL  ┆ 1171332 ┆ SCENT BOMB ┆ SCENT BOMB ┆ … ┆ 292        ┆ -144.0 ┆ 0         ┆ 187.06697 │\n",
       "│ RETAIL     ┆         ┆ 2 PACK     ┆            ┆   ┆            ┆        ┆           ┆ 5         │\n",
       "│            ┆         ┆ PAPER HAWA ┆            ┆   ┆            ┆        ┆           ┆           │\n",
       "│            ┆         ┆ B…         ┆            ┆   ┆            ┆        ┆           ┆           │\n",
       "│ 1171330CL  ┆ 1171330 ┆ SCENT BOMB ┆ SCENT BOMB ┆ … ┆ 292        ┆ -24.0  ┆ 0         ┆ 187.06697 │\n",
       "│ RETAIL     ┆         ┆ 2 PACK     ┆            ┆   ┆            ┆        ┆           ┆ 5         │\n",
       "│            ┆         ┆ PAPER B    ┆            ┆   ┆            ┆        ┆           ┆           │\n",
       "│            ┆         ┆ CHRY…      ┆            ┆   ┆            ┆        ┆           ┆           │\n",
       "│ 1171298CL  ┆ 1171298 ┆ SCENT BOMB ┆ SCENT BOMB ┆ … ┆ 122        ┆ 204.0  ┆ 0         ┆ 69.284065 │\n",
       "│ RETAIL     ┆         ┆ VENT CLIP  ┆            ┆   ┆            ┆        ┆           ┆           │\n",
       "│            ┆         ┆ MANG TROP… ┆            ┆   ┆            ┆        ┆           ┆           │\n",
       "│ 1171325CL  ┆ 1171325 ┆ SCENT BOMB ┆ SCENT BOMB ┆ … ┆ 141        ┆ 192.0  ┆ 0         ┆ 92.378753 │\n",
       "│ RETAIL     ┆         ┆ VENT CLIP  ┆            ┆   ┆            ┆        ┆           ┆           │\n",
       "│            ┆         ┆ BLACK BOM… ┆            ┆   ┆            ┆        ┆           ┆           │\n",
       "│ …          ┆ …       ┆ …          ┆ …          ┆ … ┆ …          ┆ …      ┆ …         ┆ …         │\n",
       "│ 1171967CL  ┆ 1171967 ┆ LIMP.ESPEJ ┆ MOTORLIFE  ┆ … ┆ 0          ┆ 0.0    ┆ null      ┆ 0.0       │\n",
       "│ RETAIL     ┆         ┆ O TELESCÓP ┆            ┆   ┆            ┆        ┆           ┆           │\n",
       "│            ┆         ┆ ICO ML     ┆            ┆   ┆            ┆        ┆           ┆           │\n",
       "│            ┆         ┆ AP2…       ┆            ┆   ┆            ┆        ┆           ┆           │\n",
       "│ 151798CL   ┆ 151798  ┆ null       ┆ null       ┆ … ┆ 0          ┆ 0.0    ┆ null      ┆ 0.0       │\n",
       "│ RETAIL     ┆         ┆            ┆            ┆   ┆            ┆        ┆           ┆           │\n",
       "│ 151799CL   ┆ 151799  ┆ null       ┆ null       ┆ … ┆ 0          ┆ 0.0    ┆ null      ┆ 0.0       │\n",
       "│ RETAIL     ┆         ┆            ┆            ┆   ┆            ┆        ┆           ┆           │\n",
       "│ 140102CL   ┆ 140102  ┆ null       ┆ null       ┆ … ┆ 0          ┆ 0.0    ┆ null      ┆ 0.0       │\n",
       "│ RETAIL     ┆         ┆            ┆            ┆   ┆            ┆        ┆           ┆           │\n",
       "│ 139062CL   ┆ 139062  ┆ null       ┆ null       ┆ … ┆ 0          ┆ 0.0    ┆ null      ┆ 0.0       │\n",
       "│ RETAIL     ┆         ┆            ┆            ┆   ┆            ┆        ┆           ┆           │\n",
       "└────────────┴─────────┴────────────┴────────────┴───┴────────────┴────────┴───────────┴───────────┘"
      ]
     },
     "execution_count": 147,
     "metadata": {},
     "output_type": "execute_result"
    }
   ],
   "source": [
    "base_dispo"
   ]
  },
  {
   "cell_type": "code",
   "execution_count": 148,
   "metadata": {},
   "outputs": [],
   "source": [
    "\n",
    "\n",
    "\n",
    "base_dispo = base_dispo.with_columns(\n",
    "    pl.col(columna_nombre).alias(columna_nombre_siguiente)\n",
    ")\n",
    "\n",
    "\n",
    "base_dispo = base_dispo.with_columns(\n",
    "    (\n",
    "        pl.when(\n",
    "            (pl.col(columna_nombre_siguiente) +\n",
    "             (pl.col(columna_tr).fill_null(0) * pl.col(\"Ponderación por canal\").fill_null(1)) +\n",
    "             (pl.col(\"Control\").fill_null(0) * pl.col(\"Ponderación por canal\").fill_null(1))\n",
    "            ) > 0\n",
    "        )\n",
    "        .then(\n",
    "            pl.col(columna_nombre_siguiente) +\n",
    "            (pl.col(columna_tr).fill_null(0) * pl.col(\"Ponderación por canal\").fill_null(1)) +\n",
    "            (pl.col(\"Control\").fill_null(0) * pl.col(\"Ponderación por canal\").fill_null(1)) -\n",
    "            pl.col(columna_fc).fill_null(0)\n",
    "        )\n",
    "        .otherwise(\n",
    "            pl.col(columna_nombre_siguiente) +\n",
    "            (pl.col(columna_tr).fill_null(0) * pl.col(\"Ponderación por canal\").fill_null(1)) +\n",
    "            (pl.col(\"Control\").fill_null(0) * pl.col(\"Ponderación por canal\").fill_null(1))\n",
    "        )\n",
    "        .alias(columna_nombre_siguiente)\n",
    "    )\n",
    ")\n",
    "\n",
    "\n",
    "base_dispo = base_dispo.drop([columna_tr, columna_fc])\n"
   ]
  },
  {
   "cell_type": "code",
   "execution_count": 149,
   "metadata": {},
   "outputs": [
    {
     "data": {
      "text/html": [
       "<div><style>\n",
       ".dataframe > thead > tr,\n",
       ".dataframe > tbody > tr {\n",
       "  text-align: right;\n",
       "  white-space: pre-wrap;\n",
       "}\n",
       "</style>\n",
       "<small>shape: (1, 35)</small><table border=\"1\" class=\"dataframe\"><thead><tr><th>ID</th><th>UE</th><th>Descripcion Material</th><th>Marca</th><th>Ponderación por canal</th><th>Vig</th><th>Canal</th><th>Canal Consolidado</th><th>Sector</th><th>Agrupación ClaCom</th><th>SubAgrupación ClaCom</th><th>Categoría ClaCom</th><th>SubCategoría ClaCom</th><th>Bobinas/Implementos/Otros</th><th>COD. PROVEEDOR</th><th>PROVEEDOR</th><th>ORIGEN</th><th>LEAD TIME</th><th>Codigos Transparentes</th><th>Comentario Sesión</th><th>Comentario Finales</th><th>OBS Retail</th><th>OBS DERCO</th><th>Segmentacion AFM</th><th>Prom Forecast 3-6-12</th><th>Prom Venta 3-6-12</th><th>711</th><th>Stock CD</th><th>Control</th><th>Stock Tiendas</th><th>Faltante</th><th>Sobrante</th><th>Stock Objetivo</th><th>Sem 47 (24)</th><th>Sem 48 (24)</th></tr><tr><td>str</td><td>str</td><td>str</td><td>str</td><td>f64</td><td>str</td><td>str</td><td>str</td><td>str</td><td>str</td><td>str</td><td>str</td><td>str</td><td>str</td><td>str</td><td>str</td><td>str</td><td>str</td><td>str</td><td>str</td><td>str</td><td>str</td><td>str</td><td>str</td><td>str</td><td>str</td><td>f64</td><td>f64</td><td>f64</td><td>f64</td><td>i64</td><td>f64</td><td>i64</td><td>f64</td><td>f64</td></tr></thead><tbody><tr><td>&quot;1171331CL&nbsp;RETAIL&quot;</td><td>&quot;1171331&quot;</td><td>&quot;SCENT&nbsp;BOMB&nbsp;2&nbsp;PACK&nbsp;PAPER&nbsp;MAN&nbsp;TR…</td><td>&quot;SCENT&nbsp;BOMB&quot;</td><td>1.0</td><td>&quot;1&quot;</td><td>&quot;CL&nbsp;RETAIL&quot;</td><td>&quot;RETAIL&quot;</td><td>&quot;Accesorios-Car&nbsp;Care&quot;</td><td>&quot;ACCESORIOS&quot;</td><td>&quot;LIMPIEZA&nbsp;Y&nbsp;CUIDADO&quot;</td><td>&quot;AROMATIZANTES&quot;</td><td>&quot;COLGANTE&quot;</td><td>&quot;Otros&quot;</td><td>&quot;61111&quot;</td><td>&quot;Careco&nbsp;LLC&quot;</td><td>&quot;IMP&quot;</td><td>&quot;120&quot;</td><td>&quot;NO&quot;</td><td>&quot;No&nbsp;Comprar&quot;</td><td>null</td><td>&quot;0&quot;</td><td>&quot;0&quot;</td><td>&quot;SIN&nbsp;SEGMENTACION&quot;</td><td>&quot;911.333333333&quot;</td><td>&quot;0.25&quot;</td><td>0.0</td><td>0.0</td><td>0.0</td><td>1446.0</td><td>48</td><td>1133.0</td><td>292</td><td>-48.0</td><td>-48.0</td></tr></tbody></table></div>"
      ],
      "text/plain": [
       "shape: (1, 35)\n",
       "┌───────────┬─────────┬───────────────────┬───────┬───┬──────────┬──────────┬────────┬─────────────┐\n",
       "│ ID        ┆ UE      ┆ Descripcion       ┆ Marca ┆ … ┆ Sobrante ┆ Stock    ┆ Sem 47 ┆ Sem 48 (24) │\n",
       "│ ---       ┆ ---     ┆ Material          ┆ ---   ┆   ┆ ---      ┆ Objetivo ┆ (24)   ┆ ---         │\n",
       "│ str       ┆ str     ┆ ---               ┆ str   ┆   ┆ f64      ┆ ---      ┆ ---    ┆ f64         │\n",
       "│           ┆         ┆ str               ┆       ┆   ┆          ┆ i64      ┆ f64    ┆             │\n",
       "╞═══════════╪═════════╪═══════════════════╪═══════╪═══╪══════════╪══════════╪════════╪═════════════╡\n",
       "│ 1171331CL ┆ 1171331 ┆ SCENT BOMB 2 PACK ┆ SCENT ┆ … ┆ 1133.0   ┆ 292      ┆ -48.0  ┆ -48.0       │\n",
       "│ RETAIL    ┆         ┆ PAPER MAN TR…     ┆ BOMB  ┆   ┆          ┆          ┆        ┆             │\n",
       "└───────────┴─────────┴───────────────────┴───────┴───┴──────────┴──────────┴────────┴─────────────┘"
      ]
     },
     "execution_count": 149,
     "metadata": {},
     "output_type": "execute_result"
    }
   ],
   "source": [
    "base_dispo[0]"
   ]
  },
  {
   "cell_type": "markdown",
   "metadata": {},
   "source": [
    "# CREAR SEMANA 3"
   ]
  },
  {
   "cell_type": "code",
   "execution_count": 150,
   "metadata": {},
   "outputs": [
    {
     "data": {
      "text/plain": [
       "'Sem 49 (24)'"
      ]
     },
     "execution_count": 150,
     "metadata": {},
     "output_type": "execute_result"
    }
   ],
   "source": [
    "sem_tres = f\"Sem {semana_actual + 2} ({año_actual})\"\n",
    "sem_tres"
   ]
  },
  {
   "cell_type": "code",
   "execution_count": 151,
   "metadata": {},
   "outputs": [
    {
     "data": {
      "text/plain": [
       "'Sem 48 (24)'"
      ]
     },
     "execution_count": 151,
     "metadata": {},
     "output_type": "execute_result"
    }
   ],
   "source": [
    "sem_dos = f\"Sem {semana_actual + 1} ({año_actual})\"\n",
    "sem_dos"
   ]
  },
  {
   "cell_type": "code",
   "execution_count": 152,
   "metadata": {},
   "outputs": [],
   "source": [
    "columna_tr = sem_tres + \"_tr\"\n",
    "columna_fc = sem_tres + \"_fc\""
   ]
  },
  {
   "cell_type": "markdown",
   "metadata": {},
   "source": [
    "## Traer transito sem3"
   ]
  },
  {
   "cell_type": "code",
   "execution_count": 153,
   "metadata": {},
   "outputs": [],
   "source": [
    "if columna_tr in transito_pvt.columns:\n",
    "    base_dispo = base_dispo.join(\n",
    "        transito_pvt.filter(\n",
    "            pl.col(\"UE\").is_in(base_dispo[\"UE\"])\n",
    "        ).select([pl.col(\"UE\"), pl.col(columna_tr).alias(columna_tr)]),\n",
    "        on=\"UE\",\n",
    "        how=\"left\"\n",
    "    )\n",
    "else:\n",
    "    print(f\"Columna {columna_tr} no encontrada en transito_pvt.\")\n",
    "\n"
   ]
  },
  {
   "cell_type": "code",
   "execution_count": 154,
   "metadata": {},
   "outputs": [
    {
     "data": {
      "text/html": [
       "<div><style>\n",
       ".dataframe > thead > tr,\n",
       ".dataframe > tbody > tr {\n",
       "  text-align: right;\n",
       "  white-space: pre-wrap;\n",
       "}\n",
       "</style>\n",
       "<small>shape: (60_746, 36)</small><table border=\"1\" class=\"dataframe\"><thead><tr><th>ID</th><th>UE</th><th>Descripcion Material</th><th>Marca</th><th>Ponderación por canal</th><th>Vig</th><th>Canal</th><th>Canal Consolidado</th><th>Sector</th><th>Agrupación ClaCom</th><th>SubAgrupación ClaCom</th><th>Categoría ClaCom</th><th>SubCategoría ClaCom</th><th>Bobinas/Implementos/Otros</th><th>COD. PROVEEDOR</th><th>PROVEEDOR</th><th>ORIGEN</th><th>LEAD TIME</th><th>Codigos Transparentes</th><th>Comentario Sesión</th><th>Comentario Finales</th><th>OBS Retail</th><th>OBS DERCO</th><th>Segmentacion AFM</th><th>Prom Forecast 3-6-12</th><th>Prom Venta 3-6-12</th><th>711</th><th>Stock CD</th><th>Control</th><th>Stock Tiendas</th><th>Faltante</th><th>Sobrante</th><th>Stock Objetivo</th><th>Sem 47 (24)</th><th>Sem 48 (24)</th><th>Sem 49 (24)_tr</th></tr><tr><td>str</td><td>str</td><td>str</td><td>str</td><td>f64</td><td>str</td><td>str</td><td>str</td><td>str</td><td>str</td><td>str</td><td>str</td><td>str</td><td>str</td><td>str</td><td>str</td><td>str</td><td>str</td><td>str</td><td>str</td><td>str</td><td>str</td><td>str</td><td>str</td><td>str</td><td>str</td><td>f64</td><td>f64</td><td>f64</td><td>f64</td><td>i64</td><td>f64</td><td>i64</td><td>f64</td><td>f64</td><td>i64</td></tr></thead><tbody><tr><td>&quot;1171331CL&nbsp;RETAIL&quot;</td><td>&quot;1171331&quot;</td><td>&quot;SCENT&nbsp;BOMB&nbsp;2&nbsp;PACK&nbsp;PAPER&nbsp;MAN&nbsp;TR…</td><td>&quot;SCENT&nbsp;BOMB&quot;</td><td>1.0</td><td>&quot;1&quot;</td><td>&quot;CL&nbsp;RETAIL&quot;</td><td>&quot;RETAIL&quot;</td><td>&quot;Accesorios-Car&nbsp;Care&quot;</td><td>&quot;ACCESORIOS&quot;</td><td>&quot;LIMPIEZA&nbsp;Y&nbsp;CUIDADO&quot;</td><td>&quot;AROMATIZANTES&quot;</td><td>&quot;COLGANTE&quot;</td><td>&quot;Otros&quot;</td><td>&quot;61111&quot;</td><td>&quot;Careco&nbsp;LLC&quot;</td><td>&quot;IMP&quot;</td><td>&quot;120&quot;</td><td>&quot;NO&quot;</td><td>&quot;No&nbsp;Comprar&quot;</td><td>null</td><td>&quot;0&quot;</td><td>&quot;0&quot;</td><td>&quot;SIN&nbsp;SEGMENTACION&quot;</td><td>&quot;911.333333333&quot;</td><td>&quot;0.25&quot;</td><td>0.0</td><td>0.0</td><td>0.0</td><td>1446.0</td><td>48</td><td>1133.0</td><td>292</td><td>-48.0</td><td>-48.0</td><td>2592</td></tr><tr><td>&quot;1171332CL&nbsp;RETAIL&quot;</td><td>&quot;1171332&quot;</td><td>&quot;SCENT&nbsp;BOMB&nbsp;2&nbsp;PACK&nbsp;PAPER&nbsp;HAWA&nbsp;B…</td><td>&quot;SCENT&nbsp;BOMB&quot;</td><td>1.0</td><td>&quot;1&quot;</td><td>&quot;CL&nbsp;RETAIL&quot;</td><td>&quot;RETAIL&quot;</td><td>&quot;Accesorios-Car&nbsp;Care&quot;</td><td>&quot;ACCESORIOS&quot;</td><td>&quot;LIMPIEZA&nbsp;Y&nbsp;CUIDADO&quot;</td><td>&quot;AROMATIZANTES&quot;</td><td>&quot;COLGANTE&quot;</td><td>&quot;Otros&quot;</td><td>&quot;61111&quot;</td><td>&quot;Careco&nbsp;LLC&quot;</td><td>&quot;IMP&quot;</td><td>&quot;120&quot;</td><td>&quot;NO&quot;</td><td>&quot;No&nbsp;Comprar&quot;</td><td>null</td><td>&quot;0&quot;</td><td>&quot;0&quot;</td><td>&quot;SIN&nbsp;SEGMENTACION&quot;</td><td>&quot;911.333333333&quot;</td><td>&quot;0.5&quot;</td><td>0.0</td><td>0.0</td><td>0.0</td><td>1276.0</td><td>144</td><td>985.0</td><td>292</td><td>-144.0</td><td>-144.0</td><td>2592</td></tr><tr><td>&quot;1171330CL&nbsp;RETAIL&quot;</td><td>&quot;1171330&quot;</td><td>&quot;SCENT&nbsp;BOMB&nbsp;2&nbsp;PACK&nbsp;PAPER&nbsp;B&nbsp;CHRY…</td><td>&quot;SCENT&nbsp;BOMB&quot;</td><td>1.0</td><td>&quot;1&quot;</td><td>&quot;CL&nbsp;RETAIL&quot;</td><td>&quot;RETAIL&quot;</td><td>&quot;Accesorios-Car&nbsp;Care&quot;</td><td>&quot;ACCESORIOS&quot;</td><td>&quot;LIMPIEZA&nbsp;Y&nbsp;CUIDADO&quot;</td><td>&quot;AROMATIZANTES&quot;</td><td>&quot;COLGANTE&quot;</td><td>&quot;Otros&quot;</td><td>&quot;61111&quot;</td><td>&quot;Careco&nbsp;LLC&quot;</td><td>&quot;IMP&quot;</td><td>&quot;120&quot;</td><td>&quot;NO&quot;</td><td>&quot;No&nbsp;Comprar&quot;</td><td>null</td><td>&quot;0&quot;</td><td>&quot;0&quot;</td><td>&quot;SIN&nbsp;SEGMENTACION&quot;</td><td>&quot;911.333333333&quot;</td><td>&quot;1&quot;</td><td>0.0</td><td>0.0</td><td>0.0</td><td>1417.0</td><td>24</td><td>1103.0</td><td>292</td><td>-24.0</td><td>-24.0</td><td>2592</td></tr><tr><td>&quot;1171298CL&nbsp;RETAIL&quot;</td><td>&quot;1171298&quot;</td><td>&quot;SCENT&nbsp;BOMB&nbsp;VENT&nbsp;CLIP&nbsp;MANG&nbsp;TROP…</td><td>&quot;SCENT&nbsp;BOMB&quot;</td><td>1.0</td><td>&quot;1&quot;</td><td>&quot;CL&nbsp;RETAIL&quot;</td><td>&quot;RETAIL&quot;</td><td>&quot;Accesorios-Car&nbsp;Care&quot;</td><td>&quot;ACCESORIOS&quot;</td><td>&quot;LIMPIEZA&nbsp;Y&nbsp;CUIDADO&quot;</td><td>&quot;AROMATIZANTES&quot;</td><td>&quot;VENTILACION&quot;</td><td>&quot;Otros&quot;</td><td>&quot;61111&quot;</td><td>&quot;Careco&nbsp;LLC&quot;</td><td>&quot;IMP&quot;</td><td>&quot;120&quot;</td><td>&quot;NO&quot;</td><td>&quot;No&nbsp;Comprar&quot;</td><td>null</td><td>&quot;0&quot;</td><td>&quot;0&quot;</td><td>&quot;SIN&nbsp;SEGMENTACION&quot;</td><td>&quot;350&quot;</td><td>&quot;0.416666667&quot;</td><td>0.0</td><td>222.0</td><td>0.0</td><td>293.998</td><td>18</td><td>167.998</td><td>122</td><td>204.0</td><td>134.715935</td><td>768</td></tr><tr><td>&quot;1171325CL&nbsp;RETAIL&quot;</td><td>&quot;1171325&quot;</td><td>&quot;SCENT&nbsp;BOMB&nbsp;VENT&nbsp;CLIP&nbsp;BLACK&nbsp;BOM…</td><td>&quot;SCENT&nbsp;BOMB&quot;</td><td>1.0</td><td>&quot;1&quot;</td><td>&quot;CL&nbsp;RETAIL&quot;</td><td>&quot;RETAIL&quot;</td><td>&quot;Accesorios-Car&nbsp;Care&quot;</td><td>&quot;ACCESORIOS&quot;</td><td>&quot;LIMPIEZA&nbsp;Y&nbsp;CUIDADO&quot;</td><td>&quot;AROMATIZANTES&quot;</td><td>&quot;VENTILACION&quot;</td><td>&quot;Otros&quot;</td><td>&quot;61111&quot;</td><td>&quot;Careco&nbsp;LLC&quot;</td><td>&quot;IMP&quot;</td><td>&quot;120&quot;</td><td>&quot;NO&quot;</td><td>&quot;No&nbsp;Comprar&quot;</td><td>null</td><td>&quot;0&quot;</td><td>&quot;0&quot;</td><td>&quot;SIN&nbsp;SEGMENTACION&quot;</td><td>&quot;450&quot;</td><td>&quot;0.416666667&quot;</td><td>0.0</td><td>210.0</td><td>0.0</td><td>303.0</td><td>18</td><td>156.0</td><td>141</td><td>192.0</td><td>99.621247</td><td>768</td></tr><tr><td>&hellip;</td><td>&hellip;</td><td>&hellip;</td><td>&hellip;</td><td>&hellip;</td><td>&hellip;</td><td>&hellip;</td><td>&hellip;</td><td>&hellip;</td><td>&hellip;</td><td>&hellip;</td><td>&hellip;</td><td>&hellip;</td><td>&hellip;</td><td>&hellip;</td><td>&hellip;</td><td>&hellip;</td><td>&hellip;</td><td>&hellip;</td><td>&hellip;</td><td>&hellip;</td><td>&hellip;</td><td>&hellip;</td><td>&hellip;</td><td>&hellip;</td><td>&hellip;</td><td>&hellip;</td><td>&hellip;</td><td>&hellip;</td><td>&hellip;</td><td>&hellip;</td><td>&hellip;</td><td>&hellip;</td><td>&hellip;</td><td>&hellip;</td><td>&hellip;</td></tr><tr><td>&quot;1171967CL&nbsp;RETAIL&quot;</td><td>&quot;1171967&quot;</td><td>&quot;LIMP.ESPEJO&nbsp;TELESCÓPICO&nbsp;ML&nbsp;AP2…</td><td>&quot;MOTORLIFE&quot;</td><td>0.0</td><td>&quot;0&quot;</td><td>&quot;CL&nbsp;RETAIL&quot;</td><td>&quot;RETAIL&quot;</td><td>&quot;Accesorios-Car&nbsp;Care&quot;</td><td>&quot;ACCESORIOS&quot;</td><td>&quot;CUIDADO&nbsp;Y&nbsp;MANTENCION&quot;</td><td>&quot;PARABRISAS&nbsp;Y&nbsp;ACCESORIOS&quot;</td><td>&quot;PLUMILLAS&quot;</td><td>&quot;Otros&quot;</td><td>&quot;17968&quot;</td><td>&quot;WICO&nbsp;INTERNATION&nbsp;LIMITED&quot;</td><td>&quot;IMP&quot;</td><td>&quot;158&quot;</td><td>&quot;NO&quot;</td><td>&quot;Sin&nbsp;Necesidad&quot;</td><td>null</td><td>&quot;0&quot;</td><td>&quot;0&quot;</td><td>&quot;SIN&nbsp;SEGMENTACION&quot;</td><td>&quot;0&quot;</td><td>&quot;0&quot;</td><td>0.0</td><td>0.0</td><td>0.0</td><td>0.0</td><td>0</td><td>0.0</td><td>0</td><td>0.0</td><td>0.0</td><td>null</td></tr><tr><td>&quot;151798CL&nbsp;RETAIL&quot;</td><td>&quot;151798&quot;</td><td>null</td><td>null</td><td>0.0</td><td>&quot;1&quot;</td><td>&quot;CL&nbsp;RETAIL&quot;</td><td>&quot;RETAIL&quot;</td><td>&quot;Rep.Alter.Maquinaria&quot;</td><td>&quot;IMPLEMENTOS&quot;</td><td>&quot;POST&nbsp;COSECHA&quot;</td><td>&quot;TRITURADORES&quot;</td><td>&quot;MODELO&nbsp;DSP-1600&quot;</td><td>&quot;Implementos&quot;</td><td>&quot;7655&quot;</td><td>&quot;MINOS&nbsp;DIS&nbsp;TICARET&nbsp;LIMITED&quot;</td><td>&quot;IMP&quot;</td><td>&quot;150&quot;</td><td>&quot;NO&quot;</td><td>&quot;Sin&nbsp;Necesidad&quot;</td><td>null</td><td>&quot;0&quot;</td><td>&quot;0&quot;</td><td>&quot;SIN&nbsp;SEGMENTACION&quot;</td><td>&quot;0.166666667&quot;</td><td>&quot;0&quot;</td><td>0.0</td><td>0.0</td><td>0.0</td><td>0.0</td><td>0</td><td>0.0</td><td>0</td><td>0.0</td><td>0.0</td><td>null</td></tr><tr><td>&quot;151799CL&nbsp;RETAIL&quot;</td><td>&quot;151799&quot;</td><td>null</td><td>null</td><td>0.0</td><td>&quot;1&quot;</td><td>&quot;CL&nbsp;RETAIL&quot;</td><td>&quot;RETAIL&quot;</td><td>&quot;Rep.Alter.Maquinaria&quot;</td><td>&quot;IMPLEMENTOS&quot;</td><td>&quot;POST&nbsp;COSECHA&quot;</td><td>&quot;TRITURADORES&quot;</td><td>&quot;MODELO&nbsp;DSP-2400&quot;</td><td>&quot;Implementos&quot;</td><td>&quot;7655&quot;</td><td>&quot;MINOS&nbsp;DIS&nbsp;TICARET&nbsp;LIMITED&quot;</td><td>&quot;IMP&quot;</td><td>&quot;150&quot;</td><td>&quot;NO&quot;</td><td>&quot;Sin&nbsp;Necesidad&quot;</td><td>null</td><td>&quot;0&quot;</td><td>&quot;0&quot;</td><td>&quot;SIN&nbsp;SEGMENTACION&quot;</td><td>&quot;0.166666667&quot;</td><td>&quot;0&quot;</td><td>0.0</td><td>0.0</td><td>0.0</td><td>0.0</td><td>0</td><td>0.0</td><td>0</td><td>0.0</td><td>0.0</td><td>null</td></tr><tr><td>&quot;140102CL&nbsp;RETAIL&quot;</td><td>&quot;140102&quot;</td><td>null</td><td>null</td><td>0.0</td><td>&quot;1&quot;</td><td>&quot;CL&nbsp;RETAIL&quot;</td><td>&quot;RETAIL&quot;</td><td>&quot;Rep.Alter.Maquinaria&quot;</td><td>&quot;HP&nbsp;IMPLEMENTOS&quot;</td><td>&quot;LLANTAS&quot;</td><td>&quot;LLANTAS&nbsp;PARA&nbsp;IMPLEMENTO&quot;</td><td>&quot;LLANTA&nbsp;9.00-15.3&nbsp;6&nbsp;AGUJEROS&quot;</td><td>&quot;Otros&quot;</td><td>&quot;0&quot;</td><td>&quot;Sin&nbsp;proveedor&nbsp;regular&quot;</td><td>&quot;0&quot;</td><td>&quot;0&quot;</td><td>&quot;NO&quot;</td><td>&quot;Sin&nbsp;Necesidad&quot;</td><td>null</td><td>&quot;0&quot;</td><td>&quot;0&quot;</td><td>&quot;SIN&nbsp;SEGMENTACION&quot;</td><td>&quot;0&quot;</td><td>&quot;0&quot;</td><td>0.0</td><td>0.0</td><td>0.0</td><td>0.0</td><td>0</td><td>0.0</td><td>0</td><td>0.0</td><td>0.0</td><td>null</td></tr><tr><td>&quot;139062CL&nbsp;RETAIL&quot;</td><td>&quot;139062&quot;</td><td>null</td><td>null</td><td>0.0</td><td>&quot;1&quot;</td><td>&quot;CL&nbsp;RETAIL&quot;</td><td>&quot;RETAIL&quot;</td><td>&quot;Rep.Alter.Maquinaria&quot;</td><td>&quot;HP&nbsp;IMPLEMENTOS&quot;</td><td>&quot;LLANTAS&quot;</td><td>&quot;LLANTAS&nbsp;PARA&nbsp;IMPLEMENTO&quot;</td><td>&quot;LLANTA&nbsp;5.50-16&nbsp;5&nbsp;AGUJEROS&quot;</td><td>&quot;Otros&quot;</td><td>&quot;0&quot;</td><td>&quot;Sin&nbsp;proveedor&nbsp;regular&quot;</td><td>&quot;0&quot;</td><td>&quot;0&quot;</td><td>&quot;NO&quot;</td><td>&quot;Sin&nbsp;Necesidad&quot;</td><td>null</td><td>&quot;0&quot;</td><td>&quot;0&quot;</td><td>&quot;SIN&nbsp;SEGMENTACION&quot;</td><td>&quot;0&quot;</td><td>&quot;0&quot;</td><td>0.0</td><td>0.0</td><td>0.0</td><td>0.0</td><td>0</td><td>0.0</td><td>0</td><td>0.0</td><td>0.0</td><td>null</td></tr></tbody></table></div>"
      ],
      "text/plain": [
       "shape: (60_746, 36)\n",
       "┌────────────┬─────────┬────────────┬────────────┬───┬────────────┬────────┬───────────┬───────────┐\n",
       "│ ID         ┆ UE      ┆ Descripcio ┆ Marca      ┆ … ┆ Stock      ┆ Sem 47 ┆ Sem 48    ┆ Sem 49    │\n",
       "│ ---        ┆ ---     ┆ n Material ┆ ---        ┆   ┆ Objetivo   ┆ (24)   ┆ (24)      ┆ (24)_tr   │\n",
       "│ str        ┆ str     ┆ ---        ┆ str        ┆   ┆ ---        ┆ ---    ┆ ---       ┆ ---       │\n",
       "│            ┆         ┆ str        ┆            ┆   ┆ i64        ┆ f64    ┆ f64       ┆ i64       │\n",
       "╞════════════╪═════════╪════════════╪════════════╪═══╪════════════╪════════╪═══════════╪═══════════╡\n",
       "│ 1171331CL  ┆ 1171331 ┆ SCENT BOMB ┆ SCENT BOMB ┆ … ┆ 292        ┆ -48.0  ┆ -48.0     ┆ 2592      │\n",
       "│ RETAIL     ┆         ┆ 2 PACK     ┆            ┆   ┆            ┆        ┆           ┆           │\n",
       "│            ┆         ┆ PAPER MAN  ┆            ┆   ┆            ┆        ┆           ┆           │\n",
       "│            ┆         ┆ TR…        ┆            ┆   ┆            ┆        ┆           ┆           │\n",
       "│ 1171332CL  ┆ 1171332 ┆ SCENT BOMB ┆ SCENT BOMB ┆ … ┆ 292        ┆ -144.0 ┆ -144.0    ┆ 2592      │\n",
       "│ RETAIL     ┆         ┆ 2 PACK     ┆            ┆   ┆            ┆        ┆           ┆           │\n",
       "│            ┆         ┆ PAPER HAWA ┆            ┆   ┆            ┆        ┆           ┆           │\n",
       "│            ┆         ┆ B…         ┆            ┆   ┆            ┆        ┆           ┆           │\n",
       "│ 1171330CL  ┆ 1171330 ┆ SCENT BOMB ┆ SCENT BOMB ┆ … ┆ 292        ┆ -24.0  ┆ -24.0     ┆ 2592      │\n",
       "│ RETAIL     ┆         ┆ 2 PACK     ┆            ┆   ┆            ┆        ┆           ┆           │\n",
       "│            ┆         ┆ PAPER B    ┆            ┆   ┆            ┆        ┆           ┆           │\n",
       "│            ┆         ┆ CHRY…      ┆            ┆   ┆            ┆        ┆           ┆           │\n",
       "│ 1171298CL  ┆ 1171298 ┆ SCENT BOMB ┆ SCENT BOMB ┆ … ┆ 122        ┆ 204.0  ┆ 134.71593 ┆ 768       │\n",
       "│ RETAIL     ┆         ┆ VENT CLIP  ┆            ┆   ┆            ┆        ┆ 5         ┆           │\n",
       "│            ┆         ┆ MANG TROP… ┆            ┆   ┆            ┆        ┆           ┆           │\n",
       "│ 1171325CL  ┆ 1171325 ┆ SCENT BOMB ┆ SCENT BOMB ┆ … ┆ 141        ┆ 192.0  ┆ 99.621247 ┆ 768       │\n",
       "│ RETAIL     ┆         ┆ VENT CLIP  ┆            ┆   ┆            ┆        ┆           ┆           │\n",
       "│            ┆         ┆ BLACK BOM… ┆            ┆   ┆            ┆        ┆           ┆           │\n",
       "│ …          ┆ …       ┆ …          ┆ …          ┆ … ┆ …          ┆ …      ┆ …         ┆ …         │\n",
       "│ 1171967CL  ┆ 1171967 ┆ LIMP.ESPEJ ┆ MOTORLIFE  ┆ … ┆ 0          ┆ 0.0    ┆ 0.0       ┆ null      │\n",
       "│ RETAIL     ┆         ┆ O TELESCÓP ┆            ┆   ┆            ┆        ┆           ┆           │\n",
       "│            ┆         ┆ ICO ML     ┆            ┆   ┆            ┆        ┆           ┆           │\n",
       "│            ┆         ┆ AP2…       ┆            ┆   ┆            ┆        ┆           ┆           │\n",
       "│ 151798CL   ┆ 151798  ┆ null       ┆ null       ┆ … ┆ 0          ┆ 0.0    ┆ 0.0       ┆ null      │\n",
       "│ RETAIL     ┆         ┆            ┆            ┆   ┆            ┆        ┆           ┆           │\n",
       "│ 151799CL   ┆ 151799  ┆ null       ┆ null       ┆ … ┆ 0          ┆ 0.0    ┆ 0.0       ┆ null      │\n",
       "│ RETAIL     ┆         ┆            ┆            ┆   ┆            ┆        ┆           ┆           │\n",
       "│ 140102CL   ┆ 140102  ┆ null       ┆ null       ┆ … ┆ 0          ┆ 0.0    ┆ 0.0       ┆ null      │\n",
       "│ RETAIL     ┆         ┆            ┆            ┆   ┆            ┆        ┆           ┆           │\n",
       "│ 139062CL   ┆ 139062  ┆ null       ┆ null       ┆ … ┆ 0          ┆ 0.0    ┆ 0.0       ┆ null      │\n",
       "│ RETAIL     ┆         ┆            ┆            ┆   ┆            ┆        ┆           ┆           │\n",
       "└────────────┴─────────┴────────────┴────────────┴───┴────────────┴────────┴───────────┴───────────┘"
      ]
     },
     "execution_count": 154,
     "metadata": {},
     "output_type": "execute_result"
    }
   ],
   "source": [
    "base_dispo"
   ]
  },
  {
   "cell_type": "markdown",
   "metadata": {},
   "source": [
    "## Traer FC Sem 3"
   ]
  },
  {
   "cell_type": "code",
   "execution_count": 155,
   "metadata": {},
   "outputs": [],
   "source": [
    "if columna_fc in fc_pvt.columns:\n",
    "    base_dispo = base_dispo.join(\n",
    "        fc_pvt.filter(\n",
    "            pl.col(\"ID\").is_in(base_dispo[\"ID\"])\n",
    "        ).select([pl.col(\"ID\"), pl.col(columna_fc).alias(columna_fc)]),\n",
    "        on=\"ID\",\n",
    "        how=\"left\"\n",
    "    )\n",
    "else:\n",
    "    print(f\"Columna {columna_fc} no encontrada en fc_pvt.\")"
   ]
  },
  {
   "cell_type": "code",
   "execution_count": 156,
   "metadata": {},
   "outputs": [
    {
     "data": {
      "text/html": [
       "<div><style>\n",
       ".dataframe > thead > tr,\n",
       ".dataframe > tbody > tr {\n",
       "  text-align: right;\n",
       "  white-space: pre-wrap;\n",
       "}\n",
       "</style>\n",
       "<small>shape: (60_746, 37)</small><table border=\"1\" class=\"dataframe\"><thead><tr><th>ID</th><th>UE</th><th>Descripcion Material</th><th>Marca</th><th>Ponderación por canal</th><th>Vig</th><th>Canal</th><th>Canal Consolidado</th><th>Sector</th><th>Agrupación ClaCom</th><th>SubAgrupación ClaCom</th><th>Categoría ClaCom</th><th>SubCategoría ClaCom</th><th>Bobinas/Implementos/Otros</th><th>COD. PROVEEDOR</th><th>PROVEEDOR</th><th>ORIGEN</th><th>LEAD TIME</th><th>Codigos Transparentes</th><th>Comentario Sesión</th><th>Comentario Finales</th><th>OBS Retail</th><th>OBS DERCO</th><th>Segmentacion AFM</th><th>Prom Forecast 3-6-12</th><th>Prom Venta 3-6-12</th><th>711</th><th>Stock CD</th><th>Control</th><th>Stock Tiendas</th><th>Faltante</th><th>Sobrante</th><th>Stock Objetivo</th><th>Sem 47 (24)</th><th>Sem 48 (24)</th><th>Sem 49 (24)_tr</th><th>Sem 49 (24)_fc</th></tr><tr><td>str</td><td>str</td><td>str</td><td>str</td><td>f64</td><td>str</td><td>str</td><td>str</td><td>str</td><td>str</td><td>str</td><td>str</td><td>str</td><td>str</td><td>str</td><td>str</td><td>str</td><td>str</td><td>str</td><td>str</td><td>str</td><td>str</td><td>str</td><td>str</td><td>str</td><td>str</td><td>f64</td><td>f64</td><td>f64</td><td>f64</td><td>i64</td><td>f64</td><td>i64</td><td>f64</td><td>f64</td><td>i64</td><td>f64</td></tr></thead><tbody><tr><td>&quot;1171331CL&nbsp;RETAIL&quot;</td><td>&quot;1171331&quot;</td><td>&quot;SCENT&nbsp;BOMB&nbsp;2&nbsp;PACK&nbsp;PAPER&nbsp;MAN&nbsp;TR…</td><td>&quot;SCENT&nbsp;BOMB&quot;</td><td>1.0</td><td>&quot;1&quot;</td><td>&quot;CL&nbsp;RETAIL&quot;</td><td>&quot;RETAIL&quot;</td><td>&quot;Accesorios-Car&nbsp;Care&quot;</td><td>&quot;ACCESORIOS&quot;</td><td>&quot;LIMPIEZA&nbsp;Y&nbsp;CUIDADO&quot;</td><td>&quot;AROMATIZANTES&quot;</td><td>&quot;COLGANTE&quot;</td><td>&quot;Otros&quot;</td><td>&quot;61111&quot;</td><td>&quot;Careco&nbsp;LLC&quot;</td><td>&quot;IMP&quot;</td><td>&quot;120&quot;</td><td>&quot;NO&quot;</td><td>&quot;No&nbsp;Comprar&quot;</td><td>null</td><td>&quot;0&quot;</td><td>&quot;0&quot;</td><td>&quot;SIN&nbsp;SEGMENTACION&quot;</td><td>&quot;911.333333333&quot;</td><td>&quot;0.25&quot;</td><td>0.0</td><td>0.0</td><td>0.0</td><td>1446.0</td><td>48</td><td>1133.0</td><td>292</td><td>-48.0</td><td>-48.0</td><td>2592</td><td>187.066975</td></tr><tr><td>&quot;1171332CL&nbsp;RETAIL&quot;</td><td>&quot;1171332&quot;</td><td>&quot;SCENT&nbsp;BOMB&nbsp;2&nbsp;PACK&nbsp;PAPER&nbsp;HAWA&nbsp;B…</td><td>&quot;SCENT&nbsp;BOMB&quot;</td><td>1.0</td><td>&quot;1&quot;</td><td>&quot;CL&nbsp;RETAIL&quot;</td><td>&quot;RETAIL&quot;</td><td>&quot;Accesorios-Car&nbsp;Care&quot;</td><td>&quot;ACCESORIOS&quot;</td><td>&quot;LIMPIEZA&nbsp;Y&nbsp;CUIDADO&quot;</td><td>&quot;AROMATIZANTES&quot;</td><td>&quot;COLGANTE&quot;</td><td>&quot;Otros&quot;</td><td>&quot;61111&quot;</td><td>&quot;Careco&nbsp;LLC&quot;</td><td>&quot;IMP&quot;</td><td>&quot;120&quot;</td><td>&quot;NO&quot;</td><td>&quot;No&nbsp;Comprar&quot;</td><td>null</td><td>&quot;0&quot;</td><td>&quot;0&quot;</td><td>&quot;SIN&nbsp;SEGMENTACION&quot;</td><td>&quot;911.333333333&quot;</td><td>&quot;0.5&quot;</td><td>0.0</td><td>0.0</td><td>0.0</td><td>1276.0</td><td>144</td><td>985.0</td><td>292</td><td>-144.0</td><td>-144.0</td><td>2592</td><td>187.066975</td></tr><tr><td>&quot;1171330CL&nbsp;RETAIL&quot;</td><td>&quot;1171330&quot;</td><td>&quot;SCENT&nbsp;BOMB&nbsp;2&nbsp;PACK&nbsp;PAPER&nbsp;B&nbsp;CHRY…</td><td>&quot;SCENT&nbsp;BOMB&quot;</td><td>1.0</td><td>&quot;1&quot;</td><td>&quot;CL&nbsp;RETAIL&quot;</td><td>&quot;RETAIL&quot;</td><td>&quot;Accesorios-Car&nbsp;Care&quot;</td><td>&quot;ACCESORIOS&quot;</td><td>&quot;LIMPIEZA&nbsp;Y&nbsp;CUIDADO&quot;</td><td>&quot;AROMATIZANTES&quot;</td><td>&quot;COLGANTE&quot;</td><td>&quot;Otros&quot;</td><td>&quot;61111&quot;</td><td>&quot;Careco&nbsp;LLC&quot;</td><td>&quot;IMP&quot;</td><td>&quot;120&quot;</td><td>&quot;NO&quot;</td><td>&quot;No&nbsp;Comprar&quot;</td><td>null</td><td>&quot;0&quot;</td><td>&quot;0&quot;</td><td>&quot;SIN&nbsp;SEGMENTACION&quot;</td><td>&quot;911.333333333&quot;</td><td>&quot;1&quot;</td><td>0.0</td><td>0.0</td><td>0.0</td><td>1417.0</td><td>24</td><td>1103.0</td><td>292</td><td>-24.0</td><td>-24.0</td><td>2592</td><td>187.066975</td></tr><tr><td>&quot;1171298CL&nbsp;RETAIL&quot;</td><td>&quot;1171298&quot;</td><td>&quot;SCENT&nbsp;BOMB&nbsp;VENT&nbsp;CLIP&nbsp;MANG&nbsp;TROP…</td><td>&quot;SCENT&nbsp;BOMB&quot;</td><td>1.0</td><td>&quot;1&quot;</td><td>&quot;CL&nbsp;RETAIL&quot;</td><td>&quot;RETAIL&quot;</td><td>&quot;Accesorios-Car&nbsp;Care&quot;</td><td>&quot;ACCESORIOS&quot;</td><td>&quot;LIMPIEZA&nbsp;Y&nbsp;CUIDADO&quot;</td><td>&quot;AROMATIZANTES&quot;</td><td>&quot;VENTILACION&quot;</td><td>&quot;Otros&quot;</td><td>&quot;61111&quot;</td><td>&quot;Careco&nbsp;LLC&quot;</td><td>&quot;IMP&quot;</td><td>&quot;120&quot;</td><td>&quot;NO&quot;</td><td>&quot;No&nbsp;Comprar&quot;</td><td>null</td><td>&quot;0&quot;</td><td>&quot;0&quot;</td><td>&quot;SIN&nbsp;SEGMENTACION&quot;</td><td>&quot;350&quot;</td><td>&quot;0.416666667&quot;</td><td>0.0</td><td>222.0</td><td>0.0</td><td>293.998</td><td>18</td><td>167.998</td><td>122</td><td>204.0</td><td>134.715935</td><td>768</td><td>69.284065</td></tr><tr><td>&quot;1171325CL&nbsp;RETAIL&quot;</td><td>&quot;1171325&quot;</td><td>&quot;SCENT&nbsp;BOMB&nbsp;VENT&nbsp;CLIP&nbsp;BLACK&nbsp;BOM…</td><td>&quot;SCENT&nbsp;BOMB&quot;</td><td>1.0</td><td>&quot;1&quot;</td><td>&quot;CL&nbsp;RETAIL&quot;</td><td>&quot;RETAIL&quot;</td><td>&quot;Accesorios-Car&nbsp;Care&quot;</td><td>&quot;ACCESORIOS&quot;</td><td>&quot;LIMPIEZA&nbsp;Y&nbsp;CUIDADO&quot;</td><td>&quot;AROMATIZANTES&quot;</td><td>&quot;VENTILACION&quot;</td><td>&quot;Otros&quot;</td><td>&quot;61111&quot;</td><td>&quot;Careco&nbsp;LLC&quot;</td><td>&quot;IMP&quot;</td><td>&quot;120&quot;</td><td>&quot;NO&quot;</td><td>&quot;No&nbsp;Comprar&quot;</td><td>null</td><td>&quot;0&quot;</td><td>&quot;0&quot;</td><td>&quot;SIN&nbsp;SEGMENTACION&quot;</td><td>&quot;450&quot;</td><td>&quot;0.416666667&quot;</td><td>0.0</td><td>210.0</td><td>0.0</td><td>303.0</td><td>18</td><td>156.0</td><td>141</td><td>192.0</td><td>99.621247</td><td>768</td><td>92.378753</td></tr><tr><td>&hellip;</td><td>&hellip;</td><td>&hellip;</td><td>&hellip;</td><td>&hellip;</td><td>&hellip;</td><td>&hellip;</td><td>&hellip;</td><td>&hellip;</td><td>&hellip;</td><td>&hellip;</td><td>&hellip;</td><td>&hellip;</td><td>&hellip;</td><td>&hellip;</td><td>&hellip;</td><td>&hellip;</td><td>&hellip;</td><td>&hellip;</td><td>&hellip;</td><td>&hellip;</td><td>&hellip;</td><td>&hellip;</td><td>&hellip;</td><td>&hellip;</td><td>&hellip;</td><td>&hellip;</td><td>&hellip;</td><td>&hellip;</td><td>&hellip;</td><td>&hellip;</td><td>&hellip;</td><td>&hellip;</td><td>&hellip;</td><td>&hellip;</td><td>&hellip;</td><td>&hellip;</td></tr><tr><td>&quot;1171967CL&nbsp;RETAIL&quot;</td><td>&quot;1171967&quot;</td><td>&quot;LIMP.ESPEJO&nbsp;TELESCÓPICO&nbsp;ML&nbsp;AP2…</td><td>&quot;MOTORLIFE&quot;</td><td>0.0</td><td>&quot;0&quot;</td><td>&quot;CL&nbsp;RETAIL&quot;</td><td>&quot;RETAIL&quot;</td><td>&quot;Accesorios-Car&nbsp;Care&quot;</td><td>&quot;ACCESORIOS&quot;</td><td>&quot;CUIDADO&nbsp;Y&nbsp;MANTENCION&quot;</td><td>&quot;PARABRISAS&nbsp;Y&nbsp;ACCESORIOS&quot;</td><td>&quot;PLUMILLAS&quot;</td><td>&quot;Otros&quot;</td><td>&quot;17968&quot;</td><td>&quot;WICO&nbsp;INTERNATION&nbsp;LIMITED&quot;</td><td>&quot;IMP&quot;</td><td>&quot;158&quot;</td><td>&quot;NO&quot;</td><td>&quot;Sin&nbsp;Necesidad&quot;</td><td>null</td><td>&quot;0&quot;</td><td>&quot;0&quot;</td><td>&quot;SIN&nbsp;SEGMENTACION&quot;</td><td>&quot;0&quot;</td><td>&quot;0&quot;</td><td>0.0</td><td>0.0</td><td>0.0</td><td>0.0</td><td>0</td><td>0.0</td><td>0</td><td>0.0</td><td>0.0</td><td>null</td><td>0.0</td></tr><tr><td>&quot;151798CL&nbsp;RETAIL&quot;</td><td>&quot;151798&quot;</td><td>null</td><td>null</td><td>0.0</td><td>&quot;1&quot;</td><td>&quot;CL&nbsp;RETAIL&quot;</td><td>&quot;RETAIL&quot;</td><td>&quot;Rep.Alter.Maquinaria&quot;</td><td>&quot;IMPLEMENTOS&quot;</td><td>&quot;POST&nbsp;COSECHA&quot;</td><td>&quot;TRITURADORES&quot;</td><td>&quot;MODELO&nbsp;DSP-1600&quot;</td><td>&quot;Implementos&quot;</td><td>&quot;7655&quot;</td><td>&quot;MINOS&nbsp;DIS&nbsp;TICARET&nbsp;LIMITED&quot;</td><td>&quot;IMP&quot;</td><td>&quot;150&quot;</td><td>&quot;NO&quot;</td><td>&quot;Sin&nbsp;Necesidad&quot;</td><td>null</td><td>&quot;0&quot;</td><td>&quot;0&quot;</td><td>&quot;SIN&nbsp;SEGMENTACION&quot;</td><td>&quot;0.166666667&quot;</td><td>&quot;0&quot;</td><td>0.0</td><td>0.0</td><td>0.0</td><td>0.0</td><td>0</td><td>0.0</td><td>0</td><td>0.0</td><td>0.0</td><td>null</td><td>0.0</td></tr><tr><td>&quot;151799CL&nbsp;RETAIL&quot;</td><td>&quot;151799&quot;</td><td>null</td><td>null</td><td>0.0</td><td>&quot;1&quot;</td><td>&quot;CL&nbsp;RETAIL&quot;</td><td>&quot;RETAIL&quot;</td><td>&quot;Rep.Alter.Maquinaria&quot;</td><td>&quot;IMPLEMENTOS&quot;</td><td>&quot;POST&nbsp;COSECHA&quot;</td><td>&quot;TRITURADORES&quot;</td><td>&quot;MODELO&nbsp;DSP-2400&quot;</td><td>&quot;Implementos&quot;</td><td>&quot;7655&quot;</td><td>&quot;MINOS&nbsp;DIS&nbsp;TICARET&nbsp;LIMITED&quot;</td><td>&quot;IMP&quot;</td><td>&quot;150&quot;</td><td>&quot;NO&quot;</td><td>&quot;Sin&nbsp;Necesidad&quot;</td><td>null</td><td>&quot;0&quot;</td><td>&quot;0&quot;</td><td>&quot;SIN&nbsp;SEGMENTACION&quot;</td><td>&quot;0.166666667&quot;</td><td>&quot;0&quot;</td><td>0.0</td><td>0.0</td><td>0.0</td><td>0.0</td><td>0</td><td>0.0</td><td>0</td><td>0.0</td><td>0.0</td><td>null</td><td>0.0</td></tr><tr><td>&quot;140102CL&nbsp;RETAIL&quot;</td><td>&quot;140102&quot;</td><td>null</td><td>null</td><td>0.0</td><td>&quot;1&quot;</td><td>&quot;CL&nbsp;RETAIL&quot;</td><td>&quot;RETAIL&quot;</td><td>&quot;Rep.Alter.Maquinaria&quot;</td><td>&quot;HP&nbsp;IMPLEMENTOS&quot;</td><td>&quot;LLANTAS&quot;</td><td>&quot;LLANTAS&nbsp;PARA&nbsp;IMPLEMENTO&quot;</td><td>&quot;LLANTA&nbsp;9.00-15.3&nbsp;6&nbsp;AGUJEROS&quot;</td><td>&quot;Otros&quot;</td><td>&quot;0&quot;</td><td>&quot;Sin&nbsp;proveedor&nbsp;regular&quot;</td><td>&quot;0&quot;</td><td>&quot;0&quot;</td><td>&quot;NO&quot;</td><td>&quot;Sin&nbsp;Necesidad&quot;</td><td>null</td><td>&quot;0&quot;</td><td>&quot;0&quot;</td><td>&quot;SIN&nbsp;SEGMENTACION&quot;</td><td>&quot;0&quot;</td><td>&quot;0&quot;</td><td>0.0</td><td>0.0</td><td>0.0</td><td>0.0</td><td>0</td><td>0.0</td><td>0</td><td>0.0</td><td>0.0</td><td>null</td><td>0.0</td></tr><tr><td>&quot;139062CL&nbsp;RETAIL&quot;</td><td>&quot;139062&quot;</td><td>null</td><td>null</td><td>0.0</td><td>&quot;1&quot;</td><td>&quot;CL&nbsp;RETAIL&quot;</td><td>&quot;RETAIL&quot;</td><td>&quot;Rep.Alter.Maquinaria&quot;</td><td>&quot;HP&nbsp;IMPLEMENTOS&quot;</td><td>&quot;LLANTAS&quot;</td><td>&quot;LLANTAS&nbsp;PARA&nbsp;IMPLEMENTO&quot;</td><td>&quot;LLANTA&nbsp;5.50-16&nbsp;5&nbsp;AGUJEROS&quot;</td><td>&quot;Otros&quot;</td><td>&quot;0&quot;</td><td>&quot;Sin&nbsp;proveedor&nbsp;regular&quot;</td><td>&quot;0&quot;</td><td>&quot;0&quot;</td><td>&quot;NO&quot;</td><td>&quot;Sin&nbsp;Necesidad&quot;</td><td>null</td><td>&quot;0&quot;</td><td>&quot;0&quot;</td><td>&quot;SIN&nbsp;SEGMENTACION&quot;</td><td>&quot;0&quot;</td><td>&quot;0&quot;</td><td>0.0</td><td>0.0</td><td>0.0</td><td>0.0</td><td>0</td><td>0.0</td><td>0</td><td>0.0</td><td>0.0</td><td>null</td><td>0.0</td></tr></tbody></table></div>"
      ],
      "text/plain": [
       "shape: (60_746, 37)\n",
       "┌────────────┬─────────┬────────────┬────────────┬───┬────────┬────────────┬───────────┬───────────┐\n",
       "│ ID         ┆ UE      ┆ Descripcio ┆ Marca      ┆ … ┆ Sem 47 ┆ Sem 48     ┆ Sem 49    ┆ Sem 49    │\n",
       "│ ---        ┆ ---     ┆ n Material ┆ ---        ┆   ┆ (24)   ┆ (24)       ┆ (24)_tr   ┆ (24)_fc   │\n",
       "│ str        ┆ str     ┆ ---        ┆ str        ┆   ┆ ---    ┆ ---        ┆ ---       ┆ ---       │\n",
       "│            ┆         ┆ str        ┆            ┆   ┆ f64    ┆ f64        ┆ i64       ┆ f64       │\n",
       "╞════════════╪═════════╪════════════╪════════════╪═══╪════════╪════════════╪═══════════╪═══════════╡\n",
       "│ 1171331CL  ┆ 1171331 ┆ SCENT BOMB ┆ SCENT BOMB ┆ … ┆ -48.0  ┆ -48.0      ┆ 2592      ┆ 187.06697 │\n",
       "│ RETAIL     ┆         ┆ 2 PACK     ┆            ┆   ┆        ┆            ┆           ┆ 5         │\n",
       "│            ┆         ┆ PAPER MAN  ┆            ┆   ┆        ┆            ┆           ┆           │\n",
       "│            ┆         ┆ TR…        ┆            ┆   ┆        ┆            ┆           ┆           │\n",
       "│ 1171332CL  ┆ 1171332 ┆ SCENT BOMB ┆ SCENT BOMB ┆ … ┆ -144.0 ┆ -144.0     ┆ 2592      ┆ 187.06697 │\n",
       "│ RETAIL     ┆         ┆ 2 PACK     ┆            ┆   ┆        ┆            ┆           ┆ 5         │\n",
       "│            ┆         ┆ PAPER HAWA ┆            ┆   ┆        ┆            ┆           ┆           │\n",
       "│            ┆         ┆ B…         ┆            ┆   ┆        ┆            ┆           ┆           │\n",
       "│ 1171330CL  ┆ 1171330 ┆ SCENT BOMB ┆ SCENT BOMB ┆ … ┆ -24.0  ┆ -24.0      ┆ 2592      ┆ 187.06697 │\n",
       "│ RETAIL     ┆         ┆ 2 PACK     ┆            ┆   ┆        ┆            ┆           ┆ 5         │\n",
       "│            ┆         ┆ PAPER B    ┆            ┆   ┆        ┆            ┆           ┆           │\n",
       "│            ┆         ┆ CHRY…      ┆            ┆   ┆        ┆            ┆           ┆           │\n",
       "│ 1171298CL  ┆ 1171298 ┆ SCENT BOMB ┆ SCENT BOMB ┆ … ┆ 204.0  ┆ 134.715935 ┆ 768       ┆ 69.284065 │\n",
       "│ RETAIL     ┆         ┆ VENT CLIP  ┆            ┆   ┆        ┆            ┆           ┆           │\n",
       "│            ┆         ┆ MANG TROP… ┆            ┆   ┆        ┆            ┆           ┆           │\n",
       "│ 1171325CL  ┆ 1171325 ┆ SCENT BOMB ┆ SCENT BOMB ┆ … ┆ 192.0  ┆ 99.621247  ┆ 768       ┆ 92.378753 │\n",
       "│ RETAIL     ┆         ┆ VENT CLIP  ┆            ┆   ┆        ┆            ┆           ┆           │\n",
       "│            ┆         ┆ BLACK BOM… ┆            ┆   ┆        ┆            ┆           ┆           │\n",
       "│ …          ┆ …       ┆ …          ┆ …          ┆ … ┆ …      ┆ …          ┆ …         ┆ …         │\n",
       "│ 1171967CL  ┆ 1171967 ┆ LIMP.ESPEJ ┆ MOTORLIFE  ┆ … ┆ 0.0    ┆ 0.0        ┆ null      ┆ 0.0       │\n",
       "│ RETAIL     ┆         ┆ O TELESCÓP ┆            ┆   ┆        ┆            ┆           ┆           │\n",
       "│            ┆         ┆ ICO ML     ┆            ┆   ┆        ┆            ┆           ┆           │\n",
       "│            ┆         ┆ AP2…       ┆            ┆   ┆        ┆            ┆           ┆           │\n",
       "│ 151798CL   ┆ 151798  ┆ null       ┆ null       ┆ … ┆ 0.0    ┆ 0.0        ┆ null      ┆ 0.0       │\n",
       "│ RETAIL     ┆         ┆            ┆            ┆   ┆        ┆            ┆           ┆           │\n",
       "│ 151799CL   ┆ 151799  ┆ null       ┆ null       ┆ … ┆ 0.0    ┆ 0.0        ┆ null      ┆ 0.0       │\n",
       "│ RETAIL     ┆         ┆            ┆            ┆   ┆        ┆            ┆           ┆           │\n",
       "│ 140102CL   ┆ 140102  ┆ null       ┆ null       ┆ … ┆ 0.0    ┆ 0.0        ┆ null      ┆ 0.0       │\n",
       "│ RETAIL     ┆         ┆            ┆            ┆   ┆        ┆            ┆           ┆           │\n",
       "│ 139062CL   ┆ 139062  ┆ null       ┆ null       ┆ … ┆ 0.0    ┆ 0.0        ┆ null      ┆ 0.0       │\n",
       "│ RETAIL     ┆         ┆            ┆            ┆   ┆        ┆            ┆           ┆           │\n",
       "└────────────┴─────────┴────────────┴────────────┴───┴────────┴────────────┴───────────┴───────────┘"
      ]
     },
     "execution_count": 156,
     "metadata": {},
     "output_type": "execute_result"
    }
   ],
   "source": [
    "base_dispo"
   ]
  },
  {
   "cell_type": "code",
   "execution_count": 157,
   "metadata": {},
   "outputs": [
    {
     "data": {
      "text/plain": [
       "'Sem 48 (24)'"
      ]
     },
     "execution_count": 157,
     "metadata": {},
     "output_type": "execute_result"
    }
   ],
   "source": [
    "columna_nombre_siguiente"
   ]
  },
  {
   "cell_type": "markdown",
   "metadata": {},
   "source": [
    "## Creando Sem3 \n",
    "1. **Crea una nueva columna** llamada `Sem {semana_actual + 2} ({año_actual})` y la inicializa con valores `None` (nulos).\n",
    "2. **Sobrescribe esa columna** con los valores de `columna_nombre_siguiente`, copiando todos los valores (positivos, negativos y nulos) sin aplicar filtros ni modificaciones.\n"
   ]
  },
  {
   "cell_type": "code",
   "execution_count": 158,
   "metadata": {},
   "outputs": [],
   "source": [
    "base_dispo = base_dispo.with_columns(\n",
    "    pl.lit(None).alias(f\"Sem {semana_actual + 2} ({año_actual})\")\n",
    ")\n",
    "\n",
    "base_dispo = base_dispo.with_columns(\n",
    "    pl.col(columna_nombre_siguiente).alias(f\"Sem {semana_actual + 2} ({año_actual})\")\n",
    ")\n"
   ]
  },
  {
   "cell_type": "code",
   "execution_count": 159,
   "metadata": {},
   "outputs": [
    {
     "data": {
      "text/html": [
       "<div><style>\n",
       ".dataframe > thead > tr,\n",
       ".dataframe > tbody > tr {\n",
       "  text-align: right;\n",
       "  white-space: pre-wrap;\n",
       "}\n",
       "</style>\n",
       "<small>shape: (60_746, 38)</small><table border=\"1\" class=\"dataframe\"><thead><tr><th>ID</th><th>UE</th><th>Descripcion Material</th><th>Marca</th><th>Ponderación por canal</th><th>Vig</th><th>Canal</th><th>Canal Consolidado</th><th>Sector</th><th>Agrupación ClaCom</th><th>SubAgrupación ClaCom</th><th>Categoría ClaCom</th><th>SubCategoría ClaCom</th><th>Bobinas/Implementos/Otros</th><th>COD. PROVEEDOR</th><th>PROVEEDOR</th><th>ORIGEN</th><th>LEAD TIME</th><th>Codigos Transparentes</th><th>Comentario Sesión</th><th>Comentario Finales</th><th>OBS Retail</th><th>OBS DERCO</th><th>Segmentacion AFM</th><th>Prom Forecast 3-6-12</th><th>Prom Venta 3-6-12</th><th>711</th><th>Stock CD</th><th>Control</th><th>Stock Tiendas</th><th>Faltante</th><th>Sobrante</th><th>Stock Objetivo</th><th>Sem 47 (24)</th><th>Sem 48 (24)</th><th>Sem 49 (24)_tr</th><th>Sem 49 (24)_fc</th><th>Sem 49 (24)</th></tr><tr><td>str</td><td>str</td><td>str</td><td>str</td><td>f64</td><td>str</td><td>str</td><td>str</td><td>str</td><td>str</td><td>str</td><td>str</td><td>str</td><td>str</td><td>str</td><td>str</td><td>str</td><td>str</td><td>str</td><td>str</td><td>str</td><td>str</td><td>str</td><td>str</td><td>str</td><td>str</td><td>f64</td><td>f64</td><td>f64</td><td>f64</td><td>i64</td><td>f64</td><td>i64</td><td>f64</td><td>f64</td><td>i64</td><td>f64</td><td>f64</td></tr></thead><tbody><tr><td>&quot;1171331CL&nbsp;RETAIL&quot;</td><td>&quot;1171331&quot;</td><td>&quot;SCENT&nbsp;BOMB&nbsp;2&nbsp;PACK&nbsp;PAPER&nbsp;MAN&nbsp;TR…</td><td>&quot;SCENT&nbsp;BOMB&quot;</td><td>1.0</td><td>&quot;1&quot;</td><td>&quot;CL&nbsp;RETAIL&quot;</td><td>&quot;RETAIL&quot;</td><td>&quot;Accesorios-Car&nbsp;Care&quot;</td><td>&quot;ACCESORIOS&quot;</td><td>&quot;LIMPIEZA&nbsp;Y&nbsp;CUIDADO&quot;</td><td>&quot;AROMATIZANTES&quot;</td><td>&quot;COLGANTE&quot;</td><td>&quot;Otros&quot;</td><td>&quot;61111&quot;</td><td>&quot;Careco&nbsp;LLC&quot;</td><td>&quot;IMP&quot;</td><td>&quot;120&quot;</td><td>&quot;NO&quot;</td><td>&quot;No&nbsp;Comprar&quot;</td><td>null</td><td>&quot;0&quot;</td><td>&quot;0&quot;</td><td>&quot;SIN&nbsp;SEGMENTACION&quot;</td><td>&quot;911.333333333&quot;</td><td>&quot;0.25&quot;</td><td>0.0</td><td>0.0</td><td>0.0</td><td>1446.0</td><td>48</td><td>1133.0</td><td>292</td><td>-48.0</td><td>-48.0</td><td>2592</td><td>187.066975</td><td>-48.0</td></tr><tr><td>&quot;1171332CL&nbsp;RETAIL&quot;</td><td>&quot;1171332&quot;</td><td>&quot;SCENT&nbsp;BOMB&nbsp;2&nbsp;PACK&nbsp;PAPER&nbsp;HAWA&nbsp;B…</td><td>&quot;SCENT&nbsp;BOMB&quot;</td><td>1.0</td><td>&quot;1&quot;</td><td>&quot;CL&nbsp;RETAIL&quot;</td><td>&quot;RETAIL&quot;</td><td>&quot;Accesorios-Car&nbsp;Care&quot;</td><td>&quot;ACCESORIOS&quot;</td><td>&quot;LIMPIEZA&nbsp;Y&nbsp;CUIDADO&quot;</td><td>&quot;AROMATIZANTES&quot;</td><td>&quot;COLGANTE&quot;</td><td>&quot;Otros&quot;</td><td>&quot;61111&quot;</td><td>&quot;Careco&nbsp;LLC&quot;</td><td>&quot;IMP&quot;</td><td>&quot;120&quot;</td><td>&quot;NO&quot;</td><td>&quot;No&nbsp;Comprar&quot;</td><td>null</td><td>&quot;0&quot;</td><td>&quot;0&quot;</td><td>&quot;SIN&nbsp;SEGMENTACION&quot;</td><td>&quot;911.333333333&quot;</td><td>&quot;0.5&quot;</td><td>0.0</td><td>0.0</td><td>0.0</td><td>1276.0</td><td>144</td><td>985.0</td><td>292</td><td>-144.0</td><td>-144.0</td><td>2592</td><td>187.066975</td><td>-144.0</td></tr><tr><td>&quot;1171330CL&nbsp;RETAIL&quot;</td><td>&quot;1171330&quot;</td><td>&quot;SCENT&nbsp;BOMB&nbsp;2&nbsp;PACK&nbsp;PAPER&nbsp;B&nbsp;CHRY…</td><td>&quot;SCENT&nbsp;BOMB&quot;</td><td>1.0</td><td>&quot;1&quot;</td><td>&quot;CL&nbsp;RETAIL&quot;</td><td>&quot;RETAIL&quot;</td><td>&quot;Accesorios-Car&nbsp;Care&quot;</td><td>&quot;ACCESORIOS&quot;</td><td>&quot;LIMPIEZA&nbsp;Y&nbsp;CUIDADO&quot;</td><td>&quot;AROMATIZANTES&quot;</td><td>&quot;COLGANTE&quot;</td><td>&quot;Otros&quot;</td><td>&quot;61111&quot;</td><td>&quot;Careco&nbsp;LLC&quot;</td><td>&quot;IMP&quot;</td><td>&quot;120&quot;</td><td>&quot;NO&quot;</td><td>&quot;No&nbsp;Comprar&quot;</td><td>null</td><td>&quot;0&quot;</td><td>&quot;0&quot;</td><td>&quot;SIN&nbsp;SEGMENTACION&quot;</td><td>&quot;911.333333333&quot;</td><td>&quot;1&quot;</td><td>0.0</td><td>0.0</td><td>0.0</td><td>1417.0</td><td>24</td><td>1103.0</td><td>292</td><td>-24.0</td><td>-24.0</td><td>2592</td><td>187.066975</td><td>-24.0</td></tr><tr><td>&quot;1171298CL&nbsp;RETAIL&quot;</td><td>&quot;1171298&quot;</td><td>&quot;SCENT&nbsp;BOMB&nbsp;VENT&nbsp;CLIP&nbsp;MANG&nbsp;TROP…</td><td>&quot;SCENT&nbsp;BOMB&quot;</td><td>1.0</td><td>&quot;1&quot;</td><td>&quot;CL&nbsp;RETAIL&quot;</td><td>&quot;RETAIL&quot;</td><td>&quot;Accesorios-Car&nbsp;Care&quot;</td><td>&quot;ACCESORIOS&quot;</td><td>&quot;LIMPIEZA&nbsp;Y&nbsp;CUIDADO&quot;</td><td>&quot;AROMATIZANTES&quot;</td><td>&quot;VENTILACION&quot;</td><td>&quot;Otros&quot;</td><td>&quot;61111&quot;</td><td>&quot;Careco&nbsp;LLC&quot;</td><td>&quot;IMP&quot;</td><td>&quot;120&quot;</td><td>&quot;NO&quot;</td><td>&quot;No&nbsp;Comprar&quot;</td><td>null</td><td>&quot;0&quot;</td><td>&quot;0&quot;</td><td>&quot;SIN&nbsp;SEGMENTACION&quot;</td><td>&quot;350&quot;</td><td>&quot;0.416666667&quot;</td><td>0.0</td><td>222.0</td><td>0.0</td><td>293.998</td><td>18</td><td>167.998</td><td>122</td><td>204.0</td><td>134.715935</td><td>768</td><td>69.284065</td><td>134.715935</td></tr><tr><td>&quot;1171325CL&nbsp;RETAIL&quot;</td><td>&quot;1171325&quot;</td><td>&quot;SCENT&nbsp;BOMB&nbsp;VENT&nbsp;CLIP&nbsp;BLACK&nbsp;BOM…</td><td>&quot;SCENT&nbsp;BOMB&quot;</td><td>1.0</td><td>&quot;1&quot;</td><td>&quot;CL&nbsp;RETAIL&quot;</td><td>&quot;RETAIL&quot;</td><td>&quot;Accesorios-Car&nbsp;Care&quot;</td><td>&quot;ACCESORIOS&quot;</td><td>&quot;LIMPIEZA&nbsp;Y&nbsp;CUIDADO&quot;</td><td>&quot;AROMATIZANTES&quot;</td><td>&quot;VENTILACION&quot;</td><td>&quot;Otros&quot;</td><td>&quot;61111&quot;</td><td>&quot;Careco&nbsp;LLC&quot;</td><td>&quot;IMP&quot;</td><td>&quot;120&quot;</td><td>&quot;NO&quot;</td><td>&quot;No&nbsp;Comprar&quot;</td><td>null</td><td>&quot;0&quot;</td><td>&quot;0&quot;</td><td>&quot;SIN&nbsp;SEGMENTACION&quot;</td><td>&quot;450&quot;</td><td>&quot;0.416666667&quot;</td><td>0.0</td><td>210.0</td><td>0.0</td><td>303.0</td><td>18</td><td>156.0</td><td>141</td><td>192.0</td><td>99.621247</td><td>768</td><td>92.378753</td><td>99.621247</td></tr><tr><td>&hellip;</td><td>&hellip;</td><td>&hellip;</td><td>&hellip;</td><td>&hellip;</td><td>&hellip;</td><td>&hellip;</td><td>&hellip;</td><td>&hellip;</td><td>&hellip;</td><td>&hellip;</td><td>&hellip;</td><td>&hellip;</td><td>&hellip;</td><td>&hellip;</td><td>&hellip;</td><td>&hellip;</td><td>&hellip;</td><td>&hellip;</td><td>&hellip;</td><td>&hellip;</td><td>&hellip;</td><td>&hellip;</td><td>&hellip;</td><td>&hellip;</td><td>&hellip;</td><td>&hellip;</td><td>&hellip;</td><td>&hellip;</td><td>&hellip;</td><td>&hellip;</td><td>&hellip;</td><td>&hellip;</td><td>&hellip;</td><td>&hellip;</td><td>&hellip;</td><td>&hellip;</td><td>&hellip;</td></tr><tr><td>&quot;1171967CL&nbsp;RETAIL&quot;</td><td>&quot;1171967&quot;</td><td>&quot;LIMP.ESPEJO&nbsp;TELESCÓPICO&nbsp;ML&nbsp;AP2…</td><td>&quot;MOTORLIFE&quot;</td><td>0.0</td><td>&quot;0&quot;</td><td>&quot;CL&nbsp;RETAIL&quot;</td><td>&quot;RETAIL&quot;</td><td>&quot;Accesorios-Car&nbsp;Care&quot;</td><td>&quot;ACCESORIOS&quot;</td><td>&quot;CUIDADO&nbsp;Y&nbsp;MANTENCION&quot;</td><td>&quot;PARABRISAS&nbsp;Y&nbsp;ACCESORIOS&quot;</td><td>&quot;PLUMILLAS&quot;</td><td>&quot;Otros&quot;</td><td>&quot;17968&quot;</td><td>&quot;WICO&nbsp;INTERNATION&nbsp;LIMITED&quot;</td><td>&quot;IMP&quot;</td><td>&quot;158&quot;</td><td>&quot;NO&quot;</td><td>&quot;Sin&nbsp;Necesidad&quot;</td><td>null</td><td>&quot;0&quot;</td><td>&quot;0&quot;</td><td>&quot;SIN&nbsp;SEGMENTACION&quot;</td><td>&quot;0&quot;</td><td>&quot;0&quot;</td><td>0.0</td><td>0.0</td><td>0.0</td><td>0.0</td><td>0</td><td>0.0</td><td>0</td><td>0.0</td><td>0.0</td><td>null</td><td>0.0</td><td>0.0</td></tr><tr><td>&quot;151798CL&nbsp;RETAIL&quot;</td><td>&quot;151798&quot;</td><td>null</td><td>null</td><td>0.0</td><td>&quot;1&quot;</td><td>&quot;CL&nbsp;RETAIL&quot;</td><td>&quot;RETAIL&quot;</td><td>&quot;Rep.Alter.Maquinaria&quot;</td><td>&quot;IMPLEMENTOS&quot;</td><td>&quot;POST&nbsp;COSECHA&quot;</td><td>&quot;TRITURADORES&quot;</td><td>&quot;MODELO&nbsp;DSP-1600&quot;</td><td>&quot;Implementos&quot;</td><td>&quot;7655&quot;</td><td>&quot;MINOS&nbsp;DIS&nbsp;TICARET&nbsp;LIMITED&quot;</td><td>&quot;IMP&quot;</td><td>&quot;150&quot;</td><td>&quot;NO&quot;</td><td>&quot;Sin&nbsp;Necesidad&quot;</td><td>null</td><td>&quot;0&quot;</td><td>&quot;0&quot;</td><td>&quot;SIN&nbsp;SEGMENTACION&quot;</td><td>&quot;0.166666667&quot;</td><td>&quot;0&quot;</td><td>0.0</td><td>0.0</td><td>0.0</td><td>0.0</td><td>0</td><td>0.0</td><td>0</td><td>0.0</td><td>0.0</td><td>null</td><td>0.0</td><td>0.0</td></tr><tr><td>&quot;151799CL&nbsp;RETAIL&quot;</td><td>&quot;151799&quot;</td><td>null</td><td>null</td><td>0.0</td><td>&quot;1&quot;</td><td>&quot;CL&nbsp;RETAIL&quot;</td><td>&quot;RETAIL&quot;</td><td>&quot;Rep.Alter.Maquinaria&quot;</td><td>&quot;IMPLEMENTOS&quot;</td><td>&quot;POST&nbsp;COSECHA&quot;</td><td>&quot;TRITURADORES&quot;</td><td>&quot;MODELO&nbsp;DSP-2400&quot;</td><td>&quot;Implementos&quot;</td><td>&quot;7655&quot;</td><td>&quot;MINOS&nbsp;DIS&nbsp;TICARET&nbsp;LIMITED&quot;</td><td>&quot;IMP&quot;</td><td>&quot;150&quot;</td><td>&quot;NO&quot;</td><td>&quot;Sin&nbsp;Necesidad&quot;</td><td>null</td><td>&quot;0&quot;</td><td>&quot;0&quot;</td><td>&quot;SIN&nbsp;SEGMENTACION&quot;</td><td>&quot;0.166666667&quot;</td><td>&quot;0&quot;</td><td>0.0</td><td>0.0</td><td>0.0</td><td>0.0</td><td>0</td><td>0.0</td><td>0</td><td>0.0</td><td>0.0</td><td>null</td><td>0.0</td><td>0.0</td></tr><tr><td>&quot;140102CL&nbsp;RETAIL&quot;</td><td>&quot;140102&quot;</td><td>null</td><td>null</td><td>0.0</td><td>&quot;1&quot;</td><td>&quot;CL&nbsp;RETAIL&quot;</td><td>&quot;RETAIL&quot;</td><td>&quot;Rep.Alter.Maquinaria&quot;</td><td>&quot;HP&nbsp;IMPLEMENTOS&quot;</td><td>&quot;LLANTAS&quot;</td><td>&quot;LLANTAS&nbsp;PARA&nbsp;IMPLEMENTO&quot;</td><td>&quot;LLANTA&nbsp;9.00-15.3&nbsp;6&nbsp;AGUJEROS&quot;</td><td>&quot;Otros&quot;</td><td>&quot;0&quot;</td><td>&quot;Sin&nbsp;proveedor&nbsp;regular&quot;</td><td>&quot;0&quot;</td><td>&quot;0&quot;</td><td>&quot;NO&quot;</td><td>&quot;Sin&nbsp;Necesidad&quot;</td><td>null</td><td>&quot;0&quot;</td><td>&quot;0&quot;</td><td>&quot;SIN&nbsp;SEGMENTACION&quot;</td><td>&quot;0&quot;</td><td>&quot;0&quot;</td><td>0.0</td><td>0.0</td><td>0.0</td><td>0.0</td><td>0</td><td>0.0</td><td>0</td><td>0.0</td><td>0.0</td><td>null</td><td>0.0</td><td>0.0</td></tr><tr><td>&quot;139062CL&nbsp;RETAIL&quot;</td><td>&quot;139062&quot;</td><td>null</td><td>null</td><td>0.0</td><td>&quot;1&quot;</td><td>&quot;CL&nbsp;RETAIL&quot;</td><td>&quot;RETAIL&quot;</td><td>&quot;Rep.Alter.Maquinaria&quot;</td><td>&quot;HP&nbsp;IMPLEMENTOS&quot;</td><td>&quot;LLANTAS&quot;</td><td>&quot;LLANTAS&nbsp;PARA&nbsp;IMPLEMENTO&quot;</td><td>&quot;LLANTA&nbsp;5.50-16&nbsp;5&nbsp;AGUJEROS&quot;</td><td>&quot;Otros&quot;</td><td>&quot;0&quot;</td><td>&quot;Sin&nbsp;proveedor&nbsp;regular&quot;</td><td>&quot;0&quot;</td><td>&quot;0&quot;</td><td>&quot;NO&quot;</td><td>&quot;Sin&nbsp;Necesidad&quot;</td><td>null</td><td>&quot;0&quot;</td><td>&quot;0&quot;</td><td>&quot;SIN&nbsp;SEGMENTACION&quot;</td><td>&quot;0&quot;</td><td>&quot;0&quot;</td><td>0.0</td><td>0.0</td><td>0.0</td><td>0.0</td><td>0</td><td>0.0</td><td>0</td><td>0.0</td><td>0.0</td><td>null</td><td>0.0</td><td>0.0</td></tr></tbody></table></div>"
      ],
      "text/plain": [
       "shape: (60_746, 38)\n",
       "┌────────────┬─────────┬───────────┬───────────┬───┬───────────┬───────────┬───────────┬───────────┐\n",
       "│ ID         ┆ UE      ┆ Descripci ┆ Marca     ┆ … ┆ Sem 48    ┆ Sem 49    ┆ Sem 49    ┆ Sem 49    │\n",
       "│ ---        ┆ ---     ┆ on        ┆ ---       ┆   ┆ (24)      ┆ (24)_tr   ┆ (24)_fc   ┆ (24)      │\n",
       "│ str        ┆ str     ┆ Material  ┆ str       ┆   ┆ ---       ┆ ---       ┆ ---       ┆ ---       │\n",
       "│            ┆         ┆ ---       ┆           ┆   ┆ f64       ┆ i64       ┆ f64       ┆ f64       │\n",
       "│            ┆         ┆ str       ┆           ┆   ┆           ┆           ┆           ┆           │\n",
       "╞════════════╪═════════╪═══════════╪═══════════╪═══╪═══════════╪═══════════╪═══════════╪═══════════╡\n",
       "│ 1171331CL  ┆ 1171331 ┆ SCENT     ┆ SCENT     ┆ … ┆ -48.0     ┆ 2592      ┆ 187.06697 ┆ -48.0     │\n",
       "│ RETAIL     ┆         ┆ BOMB 2    ┆ BOMB      ┆   ┆           ┆           ┆ 5         ┆           │\n",
       "│            ┆         ┆ PACK      ┆           ┆   ┆           ┆           ┆           ┆           │\n",
       "│            ┆         ┆ PAPER MAN ┆           ┆   ┆           ┆           ┆           ┆           │\n",
       "│            ┆         ┆ TR…       ┆           ┆   ┆           ┆           ┆           ┆           │\n",
       "│ 1171332CL  ┆ 1171332 ┆ SCENT     ┆ SCENT     ┆ … ┆ -144.0    ┆ 2592      ┆ 187.06697 ┆ -144.0    │\n",
       "│ RETAIL     ┆         ┆ BOMB 2    ┆ BOMB      ┆   ┆           ┆           ┆ 5         ┆           │\n",
       "│            ┆         ┆ PACK      ┆           ┆   ┆           ┆           ┆           ┆           │\n",
       "│            ┆         ┆ PAPER     ┆           ┆   ┆           ┆           ┆           ┆           │\n",
       "│            ┆         ┆ HAWA B…   ┆           ┆   ┆           ┆           ┆           ┆           │\n",
       "│ 1171330CL  ┆ 1171330 ┆ SCENT     ┆ SCENT     ┆ … ┆ -24.0     ┆ 2592      ┆ 187.06697 ┆ -24.0     │\n",
       "│ RETAIL     ┆         ┆ BOMB 2    ┆ BOMB      ┆   ┆           ┆           ┆ 5         ┆           │\n",
       "│            ┆         ┆ PACK      ┆           ┆   ┆           ┆           ┆           ┆           │\n",
       "│            ┆         ┆ PAPER B   ┆           ┆   ┆           ┆           ┆           ┆           │\n",
       "│            ┆         ┆ CHRY…     ┆           ┆   ┆           ┆           ┆           ┆           │\n",
       "│ 1171298CL  ┆ 1171298 ┆ SCENT     ┆ SCENT     ┆ … ┆ 134.71593 ┆ 768       ┆ 69.284065 ┆ 134.71593 │\n",
       "│ RETAIL     ┆         ┆ BOMB VENT ┆ BOMB      ┆   ┆ 5         ┆           ┆           ┆ 5         │\n",
       "│            ┆         ┆ CLIP MANG ┆           ┆   ┆           ┆           ┆           ┆           │\n",
       "│            ┆         ┆ TROP…     ┆           ┆   ┆           ┆           ┆           ┆           │\n",
       "│ 1171325CL  ┆ 1171325 ┆ SCENT     ┆ SCENT     ┆ … ┆ 99.621247 ┆ 768       ┆ 92.378753 ┆ 99.621247 │\n",
       "│ RETAIL     ┆         ┆ BOMB VENT ┆ BOMB      ┆   ┆           ┆           ┆           ┆           │\n",
       "│            ┆         ┆ CLIP      ┆           ┆   ┆           ┆           ┆           ┆           │\n",
       "│            ┆         ┆ BLACK     ┆           ┆   ┆           ┆           ┆           ┆           │\n",
       "│            ┆         ┆ BOM…      ┆           ┆   ┆           ┆           ┆           ┆           │\n",
       "│ …          ┆ …       ┆ …         ┆ …         ┆ … ┆ …         ┆ …         ┆ …         ┆ …         │\n",
       "│ 1171967CL  ┆ 1171967 ┆ LIMP.ESPE ┆ MOTORLIFE ┆ … ┆ 0.0       ┆ null      ┆ 0.0       ┆ 0.0       │\n",
       "│ RETAIL     ┆         ┆ JO TELESC ┆           ┆   ┆           ┆           ┆           ┆           │\n",
       "│            ┆         ┆ ÓPICO ML  ┆           ┆   ┆           ┆           ┆           ┆           │\n",
       "│            ┆         ┆ AP2…      ┆           ┆   ┆           ┆           ┆           ┆           │\n",
       "│ 151798CL   ┆ 151798  ┆ null      ┆ null      ┆ … ┆ 0.0       ┆ null      ┆ 0.0       ┆ 0.0       │\n",
       "│ RETAIL     ┆         ┆           ┆           ┆   ┆           ┆           ┆           ┆           │\n",
       "│ 151799CL   ┆ 151799  ┆ null      ┆ null      ┆ … ┆ 0.0       ┆ null      ┆ 0.0       ┆ 0.0       │\n",
       "│ RETAIL     ┆         ┆           ┆           ┆   ┆           ┆           ┆           ┆           │\n",
       "│ 140102CL   ┆ 140102  ┆ null      ┆ null      ┆ … ┆ 0.0       ┆ null      ┆ 0.0       ┆ 0.0       │\n",
       "│ RETAIL     ┆         ┆           ┆           ┆   ┆           ┆           ┆           ┆           │\n",
       "│ 139062CL   ┆ 139062  ┆ null      ┆ null      ┆ … ┆ 0.0       ┆ null      ┆ 0.0       ┆ 0.0       │\n",
       "│ RETAIL     ┆         ┆           ┆           ┆   ┆           ┆           ┆           ┆           │\n",
       "└────────────┴─────────┴───────────┴───────────┴───┴───────────┴───────────┴───────────┴───────────┘"
      ]
     },
     "execution_count": 159,
     "metadata": {},
     "output_type": "execute_result"
    }
   ],
   "source": [
    "base_dispo"
   ]
  },
  {
   "cell_type": "markdown",
   "metadata": {},
   "source": [
    "## Calculo fundamental de Sem3 \n",
    "1. **Suma Inicial:**\n",
    "   - Actualiza la columna `sem_tres` sumando:\n",
    "     - Su valor original.\n",
    "     - El producto ponderado de `f\"{sem_tres}_tr\"`.\n",
    "     - El producto ponderado de la columna `\"711\"`.\n",
    "   - Maneja valores nulos reemplazándolos con 0.\n",
    "\n",
    "2. **Evaluación y Ajuste:**\n",
    "   - Si el valor actualizado de `sem_tres` es mayor a 0:\n",
    "     - Se resta el valor de `f\"{sem_tres}_fc`.\n",
    "     - Si el resultado es positivo o cero, se conserva.\n",
    "     - Si el resultado es negativo, se asigna 0.\n",
    "   - Si el valor de `sem_tres` no es mayor a 0, se deja sin modificar, conservando la suma inicial.\n"
   ]
  },
  {
   "cell_type": "code",
   "execution_count": 160,
   "metadata": {},
   "outputs": [],
   "source": [
    "# Suma inicial de sem_tres, tr ponderado y \"711\" ponderado\n",
    "base_dispo = base_dispo.with_columns(\n",
    "    (\n",
    "        pl.col(sem_tres) + \n",
    "        (pl.col(f\"{sem_tres}_tr\") * pl.col(\"Ponderación por canal\")).fill_null(0) + \n",
    "        (pl.col(\"711\") * pl.col(\"Ponderación por canal\")).fill_null(0)\n",
    "    )\n",
    "    .alias(sem_tres)\n",
    ")\n",
    "\n",
    "# Evaluación y ajuste de sem_tres\n",
    "base_dispo = base_dispo.with_columns(\n",
    "    pl.when(\n",
    "        pl.col(sem_tres) > 0  # Verifica si el resultado es mayor a 0\n",
    "    )\n",
    "    .then(\n",
    "        pl.when(\n",
    "            (pl.col(sem_tres) - pl.col(f\"{sem_tres}_fc\").fill_null(0)) >= 0  # Si la resta no es negativa\n",
    "        )\n",
    "        .then(\n",
    "            pl.col(sem_tres) - pl.col(f\"{sem_tres}_fc\").fill_null(0)  # Mantiene el resultado de la resta\n",
    "        )\n",
    "        .otherwise(0)  # Si la resta es negativa, asigna 0\n",
    "    )\n",
    "    .otherwise(pl.col(sem_tres))  # Si la condición no se cumple, deja solo la suma inicial\n",
    ")\n",
    "base_dispo = base_dispo.drop([columna_tr, columna_fc])\n"
   ]
  },
  {
   "cell_type": "code",
   "execution_count": 161,
   "metadata": {},
   "outputs": [
    {
     "data": {
      "text/html": [
       "<div><style>\n",
       ".dataframe > thead > tr,\n",
       ".dataframe > tbody > tr {\n",
       "  text-align: right;\n",
       "  white-space: pre-wrap;\n",
       "}\n",
       "</style>\n",
       "<small>shape: (60_746, 36)</small><table border=\"1\" class=\"dataframe\"><thead><tr><th>ID</th><th>UE</th><th>Descripcion Material</th><th>Marca</th><th>Ponderación por canal</th><th>Vig</th><th>Canal</th><th>Canal Consolidado</th><th>Sector</th><th>Agrupación ClaCom</th><th>SubAgrupación ClaCom</th><th>Categoría ClaCom</th><th>SubCategoría ClaCom</th><th>Bobinas/Implementos/Otros</th><th>COD. PROVEEDOR</th><th>PROVEEDOR</th><th>ORIGEN</th><th>LEAD TIME</th><th>Codigos Transparentes</th><th>Comentario Sesión</th><th>Comentario Finales</th><th>OBS Retail</th><th>OBS DERCO</th><th>Segmentacion AFM</th><th>Prom Forecast 3-6-12</th><th>Prom Venta 3-6-12</th><th>711</th><th>Stock CD</th><th>Control</th><th>Stock Tiendas</th><th>Faltante</th><th>Sobrante</th><th>Stock Objetivo</th><th>Sem 47 (24)</th><th>Sem 48 (24)</th><th>Sem 49 (24)</th></tr><tr><td>str</td><td>str</td><td>str</td><td>str</td><td>f64</td><td>str</td><td>str</td><td>str</td><td>str</td><td>str</td><td>str</td><td>str</td><td>str</td><td>str</td><td>str</td><td>str</td><td>str</td><td>str</td><td>str</td><td>str</td><td>str</td><td>str</td><td>str</td><td>str</td><td>str</td><td>str</td><td>f64</td><td>f64</td><td>f64</td><td>f64</td><td>i64</td><td>f64</td><td>i64</td><td>f64</td><td>f64</td><td>f64</td></tr></thead><tbody><tr><td>&quot;1171331CL&nbsp;RETAIL&quot;</td><td>&quot;1171331&quot;</td><td>&quot;SCENT&nbsp;BOMB&nbsp;2&nbsp;PACK&nbsp;PAPER&nbsp;MAN&nbsp;TR…</td><td>&quot;SCENT&nbsp;BOMB&quot;</td><td>1.0</td><td>&quot;1&quot;</td><td>&quot;CL&nbsp;RETAIL&quot;</td><td>&quot;RETAIL&quot;</td><td>&quot;Accesorios-Car&nbsp;Care&quot;</td><td>&quot;ACCESORIOS&quot;</td><td>&quot;LIMPIEZA&nbsp;Y&nbsp;CUIDADO&quot;</td><td>&quot;AROMATIZANTES&quot;</td><td>&quot;COLGANTE&quot;</td><td>&quot;Otros&quot;</td><td>&quot;61111&quot;</td><td>&quot;Careco&nbsp;LLC&quot;</td><td>&quot;IMP&quot;</td><td>&quot;120&quot;</td><td>&quot;NO&quot;</td><td>&quot;No&nbsp;Comprar&quot;</td><td>null</td><td>&quot;0&quot;</td><td>&quot;0&quot;</td><td>&quot;SIN&nbsp;SEGMENTACION&quot;</td><td>&quot;911.333333333&quot;</td><td>&quot;0.25&quot;</td><td>0.0</td><td>0.0</td><td>0.0</td><td>1446.0</td><td>48</td><td>1133.0</td><td>292</td><td>-48.0</td><td>-48.0</td><td>2356.933025</td></tr><tr><td>&quot;1171332CL&nbsp;RETAIL&quot;</td><td>&quot;1171332&quot;</td><td>&quot;SCENT&nbsp;BOMB&nbsp;2&nbsp;PACK&nbsp;PAPER&nbsp;HAWA&nbsp;B…</td><td>&quot;SCENT&nbsp;BOMB&quot;</td><td>1.0</td><td>&quot;1&quot;</td><td>&quot;CL&nbsp;RETAIL&quot;</td><td>&quot;RETAIL&quot;</td><td>&quot;Accesorios-Car&nbsp;Care&quot;</td><td>&quot;ACCESORIOS&quot;</td><td>&quot;LIMPIEZA&nbsp;Y&nbsp;CUIDADO&quot;</td><td>&quot;AROMATIZANTES&quot;</td><td>&quot;COLGANTE&quot;</td><td>&quot;Otros&quot;</td><td>&quot;61111&quot;</td><td>&quot;Careco&nbsp;LLC&quot;</td><td>&quot;IMP&quot;</td><td>&quot;120&quot;</td><td>&quot;NO&quot;</td><td>&quot;No&nbsp;Comprar&quot;</td><td>null</td><td>&quot;0&quot;</td><td>&quot;0&quot;</td><td>&quot;SIN&nbsp;SEGMENTACION&quot;</td><td>&quot;911.333333333&quot;</td><td>&quot;0.5&quot;</td><td>0.0</td><td>0.0</td><td>0.0</td><td>1276.0</td><td>144</td><td>985.0</td><td>292</td><td>-144.0</td><td>-144.0</td><td>2260.933025</td></tr><tr><td>&quot;1171330CL&nbsp;RETAIL&quot;</td><td>&quot;1171330&quot;</td><td>&quot;SCENT&nbsp;BOMB&nbsp;2&nbsp;PACK&nbsp;PAPER&nbsp;B&nbsp;CHRY…</td><td>&quot;SCENT&nbsp;BOMB&quot;</td><td>1.0</td><td>&quot;1&quot;</td><td>&quot;CL&nbsp;RETAIL&quot;</td><td>&quot;RETAIL&quot;</td><td>&quot;Accesorios-Car&nbsp;Care&quot;</td><td>&quot;ACCESORIOS&quot;</td><td>&quot;LIMPIEZA&nbsp;Y&nbsp;CUIDADO&quot;</td><td>&quot;AROMATIZANTES&quot;</td><td>&quot;COLGANTE&quot;</td><td>&quot;Otros&quot;</td><td>&quot;61111&quot;</td><td>&quot;Careco&nbsp;LLC&quot;</td><td>&quot;IMP&quot;</td><td>&quot;120&quot;</td><td>&quot;NO&quot;</td><td>&quot;No&nbsp;Comprar&quot;</td><td>null</td><td>&quot;0&quot;</td><td>&quot;0&quot;</td><td>&quot;SIN&nbsp;SEGMENTACION&quot;</td><td>&quot;911.333333333&quot;</td><td>&quot;1&quot;</td><td>0.0</td><td>0.0</td><td>0.0</td><td>1417.0</td><td>24</td><td>1103.0</td><td>292</td><td>-24.0</td><td>-24.0</td><td>2380.933025</td></tr><tr><td>&quot;1171298CL&nbsp;RETAIL&quot;</td><td>&quot;1171298&quot;</td><td>&quot;SCENT&nbsp;BOMB&nbsp;VENT&nbsp;CLIP&nbsp;MANG&nbsp;TROP…</td><td>&quot;SCENT&nbsp;BOMB&quot;</td><td>1.0</td><td>&quot;1&quot;</td><td>&quot;CL&nbsp;RETAIL&quot;</td><td>&quot;RETAIL&quot;</td><td>&quot;Accesorios-Car&nbsp;Care&quot;</td><td>&quot;ACCESORIOS&quot;</td><td>&quot;LIMPIEZA&nbsp;Y&nbsp;CUIDADO&quot;</td><td>&quot;AROMATIZANTES&quot;</td><td>&quot;VENTILACION&quot;</td><td>&quot;Otros&quot;</td><td>&quot;61111&quot;</td><td>&quot;Careco&nbsp;LLC&quot;</td><td>&quot;IMP&quot;</td><td>&quot;120&quot;</td><td>&quot;NO&quot;</td><td>&quot;No&nbsp;Comprar&quot;</td><td>null</td><td>&quot;0&quot;</td><td>&quot;0&quot;</td><td>&quot;SIN&nbsp;SEGMENTACION&quot;</td><td>&quot;350&quot;</td><td>&quot;0.416666667&quot;</td><td>0.0</td><td>222.0</td><td>0.0</td><td>293.998</td><td>18</td><td>167.998</td><td>122</td><td>204.0</td><td>134.715935</td><td>833.431871</td></tr><tr><td>&quot;1171325CL&nbsp;RETAIL&quot;</td><td>&quot;1171325&quot;</td><td>&quot;SCENT&nbsp;BOMB&nbsp;VENT&nbsp;CLIP&nbsp;BLACK&nbsp;BOM…</td><td>&quot;SCENT&nbsp;BOMB&quot;</td><td>1.0</td><td>&quot;1&quot;</td><td>&quot;CL&nbsp;RETAIL&quot;</td><td>&quot;RETAIL&quot;</td><td>&quot;Accesorios-Car&nbsp;Care&quot;</td><td>&quot;ACCESORIOS&quot;</td><td>&quot;LIMPIEZA&nbsp;Y&nbsp;CUIDADO&quot;</td><td>&quot;AROMATIZANTES&quot;</td><td>&quot;VENTILACION&quot;</td><td>&quot;Otros&quot;</td><td>&quot;61111&quot;</td><td>&quot;Careco&nbsp;LLC&quot;</td><td>&quot;IMP&quot;</td><td>&quot;120&quot;</td><td>&quot;NO&quot;</td><td>&quot;No&nbsp;Comprar&quot;</td><td>null</td><td>&quot;0&quot;</td><td>&quot;0&quot;</td><td>&quot;SIN&nbsp;SEGMENTACION&quot;</td><td>&quot;450&quot;</td><td>&quot;0.416666667&quot;</td><td>0.0</td><td>210.0</td><td>0.0</td><td>303.0</td><td>18</td><td>156.0</td><td>141</td><td>192.0</td><td>99.621247</td><td>775.242494</td></tr><tr><td>&hellip;</td><td>&hellip;</td><td>&hellip;</td><td>&hellip;</td><td>&hellip;</td><td>&hellip;</td><td>&hellip;</td><td>&hellip;</td><td>&hellip;</td><td>&hellip;</td><td>&hellip;</td><td>&hellip;</td><td>&hellip;</td><td>&hellip;</td><td>&hellip;</td><td>&hellip;</td><td>&hellip;</td><td>&hellip;</td><td>&hellip;</td><td>&hellip;</td><td>&hellip;</td><td>&hellip;</td><td>&hellip;</td><td>&hellip;</td><td>&hellip;</td><td>&hellip;</td><td>&hellip;</td><td>&hellip;</td><td>&hellip;</td><td>&hellip;</td><td>&hellip;</td><td>&hellip;</td><td>&hellip;</td><td>&hellip;</td><td>&hellip;</td><td>&hellip;</td></tr><tr><td>&quot;1171967CL&nbsp;RETAIL&quot;</td><td>&quot;1171967&quot;</td><td>&quot;LIMP.ESPEJO&nbsp;TELESCÓPICO&nbsp;ML&nbsp;AP2…</td><td>&quot;MOTORLIFE&quot;</td><td>0.0</td><td>&quot;0&quot;</td><td>&quot;CL&nbsp;RETAIL&quot;</td><td>&quot;RETAIL&quot;</td><td>&quot;Accesorios-Car&nbsp;Care&quot;</td><td>&quot;ACCESORIOS&quot;</td><td>&quot;CUIDADO&nbsp;Y&nbsp;MANTENCION&quot;</td><td>&quot;PARABRISAS&nbsp;Y&nbsp;ACCESORIOS&quot;</td><td>&quot;PLUMILLAS&quot;</td><td>&quot;Otros&quot;</td><td>&quot;17968&quot;</td><td>&quot;WICO&nbsp;INTERNATION&nbsp;LIMITED&quot;</td><td>&quot;IMP&quot;</td><td>&quot;158&quot;</td><td>&quot;NO&quot;</td><td>&quot;Sin&nbsp;Necesidad&quot;</td><td>null</td><td>&quot;0&quot;</td><td>&quot;0&quot;</td><td>&quot;SIN&nbsp;SEGMENTACION&quot;</td><td>&quot;0&quot;</td><td>&quot;0&quot;</td><td>0.0</td><td>0.0</td><td>0.0</td><td>0.0</td><td>0</td><td>0.0</td><td>0</td><td>0.0</td><td>0.0</td><td>0.0</td></tr><tr><td>&quot;151798CL&nbsp;RETAIL&quot;</td><td>&quot;151798&quot;</td><td>null</td><td>null</td><td>0.0</td><td>&quot;1&quot;</td><td>&quot;CL&nbsp;RETAIL&quot;</td><td>&quot;RETAIL&quot;</td><td>&quot;Rep.Alter.Maquinaria&quot;</td><td>&quot;IMPLEMENTOS&quot;</td><td>&quot;POST&nbsp;COSECHA&quot;</td><td>&quot;TRITURADORES&quot;</td><td>&quot;MODELO&nbsp;DSP-1600&quot;</td><td>&quot;Implementos&quot;</td><td>&quot;7655&quot;</td><td>&quot;MINOS&nbsp;DIS&nbsp;TICARET&nbsp;LIMITED&quot;</td><td>&quot;IMP&quot;</td><td>&quot;150&quot;</td><td>&quot;NO&quot;</td><td>&quot;Sin&nbsp;Necesidad&quot;</td><td>null</td><td>&quot;0&quot;</td><td>&quot;0&quot;</td><td>&quot;SIN&nbsp;SEGMENTACION&quot;</td><td>&quot;0.166666667&quot;</td><td>&quot;0&quot;</td><td>0.0</td><td>0.0</td><td>0.0</td><td>0.0</td><td>0</td><td>0.0</td><td>0</td><td>0.0</td><td>0.0</td><td>0.0</td></tr><tr><td>&quot;151799CL&nbsp;RETAIL&quot;</td><td>&quot;151799&quot;</td><td>null</td><td>null</td><td>0.0</td><td>&quot;1&quot;</td><td>&quot;CL&nbsp;RETAIL&quot;</td><td>&quot;RETAIL&quot;</td><td>&quot;Rep.Alter.Maquinaria&quot;</td><td>&quot;IMPLEMENTOS&quot;</td><td>&quot;POST&nbsp;COSECHA&quot;</td><td>&quot;TRITURADORES&quot;</td><td>&quot;MODELO&nbsp;DSP-2400&quot;</td><td>&quot;Implementos&quot;</td><td>&quot;7655&quot;</td><td>&quot;MINOS&nbsp;DIS&nbsp;TICARET&nbsp;LIMITED&quot;</td><td>&quot;IMP&quot;</td><td>&quot;150&quot;</td><td>&quot;NO&quot;</td><td>&quot;Sin&nbsp;Necesidad&quot;</td><td>null</td><td>&quot;0&quot;</td><td>&quot;0&quot;</td><td>&quot;SIN&nbsp;SEGMENTACION&quot;</td><td>&quot;0.166666667&quot;</td><td>&quot;0&quot;</td><td>0.0</td><td>0.0</td><td>0.0</td><td>0.0</td><td>0</td><td>0.0</td><td>0</td><td>0.0</td><td>0.0</td><td>0.0</td></tr><tr><td>&quot;140102CL&nbsp;RETAIL&quot;</td><td>&quot;140102&quot;</td><td>null</td><td>null</td><td>0.0</td><td>&quot;1&quot;</td><td>&quot;CL&nbsp;RETAIL&quot;</td><td>&quot;RETAIL&quot;</td><td>&quot;Rep.Alter.Maquinaria&quot;</td><td>&quot;HP&nbsp;IMPLEMENTOS&quot;</td><td>&quot;LLANTAS&quot;</td><td>&quot;LLANTAS&nbsp;PARA&nbsp;IMPLEMENTO&quot;</td><td>&quot;LLANTA&nbsp;9.00-15.3&nbsp;6&nbsp;AGUJEROS&quot;</td><td>&quot;Otros&quot;</td><td>&quot;0&quot;</td><td>&quot;Sin&nbsp;proveedor&nbsp;regular&quot;</td><td>&quot;0&quot;</td><td>&quot;0&quot;</td><td>&quot;NO&quot;</td><td>&quot;Sin&nbsp;Necesidad&quot;</td><td>null</td><td>&quot;0&quot;</td><td>&quot;0&quot;</td><td>&quot;SIN&nbsp;SEGMENTACION&quot;</td><td>&quot;0&quot;</td><td>&quot;0&quot;</td><td>0.0</td><td>0.0</td><td>0.0</td><td>0.0</td><td>0</td><td>0.0</td><td>0</td><td>0.0</td><td>0.0</td><td>0.0</td></tr><tr><td>&quot;139062CL&nbsp;RETAIL&quot;</td><td>&quot;139062&quot;</td><td>null</td><td>null</td><td>0.0</td><td>&quot;1&quot;</td><td>&quot;CL&nbsp;RETAIL&quot;</td><td>&quot;RETAIL&quot;</td><td>&quot;Rep.Alter.Maquinaria&quot;</td><td>&quot;HP&nbsp;IMPLEMENTOS&quot;</td><td>&quot;LLANTAS&quot;</td><td>&quot;LLANTAS&nbsp;PARA&nbsp;IMPLEMENTO&quot;</td><td>&quot;LLANTA&nbsp;5.50-16&nbsp;5&nbsp;AGUJEROS&quot;</td><td>&quot;Otros&quot;</td><td>&quot;0&quot;</td><td>&quot;Sin&nbsp;proveedor&nbsp;regular&quot;</td><td>&quot;0&quot;</td><td>&quot;0&quot;</td><td>&quot;NO&quot;</td><td>&quot;Sin&nbsp;Necesidad&quot;</td><td>null</td><td>&quot;0&quot;</td><td>&quot;0&quot;</td><td>&quot;SIN&nbsp;SEGMENTACION&quot;</td><td>&quot;0&quot;</td><td>&quot;0&quot;</td><td>0.0</td><td>0.0</td><td>0.0</td><td>0.0</td><td>0</td><td>0.0</td><td>0</td><td>0.0</td><td>0.0</td><td>0.0</td></tr></tbody></table></div>"
      ],
      "text/plain": [
       "shape: (60_746, 36)\n",
       "┌────────────┬─────────┬────────────┬────────────┬───┬────────────┬────────┬───────────┬───────────┐\n",
       "│ ID         ┆ UE      ┆ Descripcio ┆ Marca      ┆ … ┆ Stock      ┆ Sem 47 ┆ Sem 48    ┆ Sem 49    │\n",
       "│ ---        ┆ ---     ┆ n Material ┆ ---        ┆   ┆ Objetivo   ┆ (24)   ┆ (24)      ┆ (24)      │\n",
       "│ str        ┆ str     ┆ ---        ┆ str        ┆   ┆ ---        ┆ ---    ┆ ---       ┆ ---       │\n",
       "│            ┆         ┆ str        ┆            ┆   ┆ i64        ┆ f64    ┆ f64       ┆ f64       │\n",
       "╞════════════╪═════════╪════════════╪════════════╪═══╪════════════╪════════╪═══════════╪═══════════╡\n",
       "│ 1171331CL  ┆ 1171331 ┆ SCENT BOMB ┆ SCENT BOMB ┆ … ┆ 292        ┆ -48.0  ┆ -48.0     ┆ 2356.9330 │\n",
       "│ RETAIL     ┆         ┆ 2 PACK     ┆            ┆   ┆            ┆        ┆           ┆ 25        │\n",
       "│            ┆         ┆ PAPER MAN  ┆            ┆   ┆            ┆        ┆           ┆           │\n",
       "│            ┆         ┆ TR…        ┆            ┆   ┆            ┆        ┆           ┆           │\n",
       "│ 1171332CL  ┆ 1171332 ┆ SCENT BOMB ┆ SCENT BOMB ┆ … ┆ 292        ┆ -144.0 ┆ -144.0    ┆ 2260.9330 │\n",
       "│ RETAIL     ┆         ┆ 2 PACK     ┆            ┆   ┆            ┆        ┆           ┆ 25        │\n",
       "│            ┆         ┆ PAPER HAWA ┆            ┆   ┆            ┆        ┆           ┆           │\n",
       "│            ┆         ┆ B…         ┆            ┆   ┆            ┆        ┆           ┆           │\n",
       "│ 1171330CL  ┆ 1171330 ┆ SCENT BOMB ┆ SCENT BOMB ┆ … ┆ 292        ┆ -24.0  ┆ -24.0     ┆ 2380.9330 │\n",
       "│ RETAIL     ┆         ┆ 2 PACK     ┆            ┆   ┆            ┆        ┆           ┆ 25        │\n",
       "│            ┆         ┆ PAPER B    ┆            ┆   ┆            ┆        ┆           ┆           │\n",
       "│            ┆         ┆ CHRY…      ┆            ┆   ┆            ┆        ┆           ┆           │\n",
       "│ 1171298CL  ┆ 1171298 ┆ SCENT BOMB ┆ SCENT BOMB ┆ … ┆ 122        ┆ 204.0  ┆ 134.71593 ┆ 833.43187 │\n",
       "│ RETAIL     ┆         ┆ VENT CLIP  ┆            ┆   ┆            ┆        ┆ 5         ┆ 1         │\n",
       "│            ┆         ┆ MANG TROP… ┆            ┆   ┆            ┆        ┆           ┆           │\n",
       "│ 1171325CL  ┆ 1171325 ┆ SCENT BOMB ┆ SCENT BOMB ┆ … ┆ 141        ┆ 192.0  ┆ 99.621247 ┆ 775.24249 │\n",
       "│ RETAIL     ┆         ┆ VENT CLIP  ┆            ┆   ┆            ┆        ┆           ┆ 4         │\n",
       "│            ┆         ┆ BLACK BOM… ┆            ┆   ┆            ┆        ┆           ┆           │\n",
       "│ …          ┆ …       ┆ …          ┆ …          ┆ … ┆ …          ┆ …      ┆ …         ┆ …         │\n",
       "│ 1171967CL  ┆ 1171967 ┆ LIMP.ESPEJ ┆ MOTORLIFE  ┆ … ┆ 0          ┆ 0.0    ┆ 0.0       ┆ 0.0       │\n",
       "│ RETAIL     ┆         ┆ O TELESCÓP ┆            ┆   ┆            ┆        ┆           ┆           │\n",
       "│            ┆         ┆ ICO ML     ┆            ┆   ┆            ┆        ┆           ┆           │\n",
       "│            ┆         ┆ AP2…       ┆            ┆   ┆            ┆        ┆           ┆           │\n",
       "│ 151798CL   ┆ 151798  ┆ null       ┆ null       ┆ … ┆ 0          ┆ 0.0    ┆ 0.0       ┆ 0.0       │\n",
       "│ RETAIL     ┆         ┆            ┆            ┆   ┆            ┆        ┆           ┆           │\n",
       "│ 151799CL   ┆ 151799  ┆ null       ┆ null       ┆ … ┆ 0          ┆ 0.0    ┆ 0.0       ┆ 0.0       │\n",
       "│ RETAIL     ┆         ┆            ┆            ┆   ┆            ┆        ┆           ┆           │\n",
       "│ 140102CL   ┆ 140102  ┆ null       ┆ null       ┆ … ┆ 0          ┆ 0.0    ┆ 0.0       ┆ 0.0       │\n",
       "│ RETAIL     ┆         ┆            ┆            ┆   ┆            ┆        ┆           ┆           │\n",
       "│ 139062CL   ┆ 139062  ┆ null       ┆ null       ┆ … ┆ 0          ┆ 0.0    ┆ 0.0       ┆ 0.0       │\n",
       "│ RETAIL     ┆         ┆            ┆            ┆   ┆            ┆        ┆           ┆           │\n",
       "└────────────┴─────────┴────────────┴────────────┴───┴────────────┴────────┴───────────┴───────────┘"
      ]
     },
     "execution_count": 161,
     "metadata": {},
     "output_type": "execute_result"
    }
   ],
   "source": [
    "base_dispo"
   ]
  },
  {
   "cell_type": "code",
   "execution_count": 162,
   "metadata": {},
   "outputs": [],
   "source": [
    "base_dispo2=base_dispo"
   ]
  },
  {
   "cell_type": "code",
   "execution_count": 163,
   "metadata": {},
   "outputs": [],
   "source": [
    "base_dispo=base_dispo2"
   ]
  },
  {
   "cell_type": "code",
   "execution_count": 164,
   "metadata": {},
   "outputs": [
    {
     "name": "stdout",
     "output_type": "stream",
     "text": [
      "shape: (1, 36)\n",
      "┌─────────────┬─────────┬─────────────┬───────┬───┬─────────────┬────────┬────────────┬────────────┐\n",
      "│ ID          ┆ UE      ┆ Descripcion ┆ Marca ┆ … ┆ Stock       ┆ Sem 47 ┆ Sem 48     ┆ Sem 49     │\n",
      "│ ---         ┆ ---     ┆ Material    ┆ ---   ┆   ┆ Objetivo    ┆ (24)   ┆ (24)       ┆ (24)       │\n",
      "│ str         ┆ str     ┆ ---         ┆ str   ┆   ┆ ---         ┆ ---    ┆ ---        ┆ ---        │\n",
      "│             ┆         ┆ str         ┆       ┆   ┆ i64         ┆ f64    ┆ f64        ┆ f64        │\n",
      "╞═════════════╪═════════╪═════════════╪═══════╪═══╪═════════════╪════════╪════════════╪════════════╡\n",
      "│ 1171298CL   ┆ 1171298 ┆ SCENT BOMB  ┆ SCENT ┆ … ┆ 122         ┆ 204.0  ┆ 134.715935 ┆ 833.431871 │\n",
      "│ RETAIL      ┆         ┆ VENT CLIP   ┆ BOMB  ┆   ┆             ┆        ┆            ┆            │\n",
      "│             ┆         ┆ MANG TROP…  ┆       ┆   ┆             ┆        ┆            ┆            │\n",
      "└─────────────┴─────────┴─────────────┴───────┴───┴─────────────┴────────┴────────────┴────────────┘\n"
     ]
    }
   ],
   "source": [
    "print(base_dispo[3])"
   ]
  },
  {
   "cell_type": "markdown",
   "metadata": {},
   "source": [
    "## BUCLE DESDE LA CUARTA SEMANA :D\n",
    "\n",
    "1. **Obtención de la fecha y semana actual**: \n",
    "   - Se determina la semana actual y se ajusta para considerar el cambio de año cuando sea necesario.\n",
    "\n",
    "2. **Iteración por semanas futuras**: \n",
    "   - Se proyectan las próximas 50 semanas, calculando los nombres de las semanas actuales y anteriores.\n",
    "\n",
    "3. **Verificación y unión de datos**: \n",
    "   - Se verifica la existencia de columnas en los datos externos (`transito_pvt` y `fc_pvt`).\n",
    "   - Si las columnas no existen, se crean con valores predeterminados (0).\n",
    "\n",
    "4. **Cálculo de valores por semana**: \n",
    "   - Usa datos de semanas anteriores, factores de ponderación y valores de forecast para calcular los valores proyectados de la semana actual.\n",
    "\n",
    "5. **Limpieza de columnas temporales**: \n",
    "   - Se eliminan las columnas usadas para el cálculo, manteniendo solo las necesarias.\n",
    "\n",
    "6. **Gestión de errores**: \n",
    "   - Se implementa un manejo de errores por iteración, registrando cualquier problema.\n"
   ]
  },
  {
   "cell_type": "code",
   "execution_count": 165,
   "metadata": {},
   "outputs": [
    {
     "name": "stdout",
     "output_type": "stream",
     "text": [
      "Iteración Sem 48 (24): Se usaron columnas: Sem 48 (24)_tr, Sem 48 (24)_fc\n",
      "Iteración Sem 49 (24): Se usaron columnas: Sem 49 (24)_tr, Sem 49 (24)_fc\n",
      "Iteración Sem 50 (24): Se usaron columnas: Sem 50 (24)_tr, Sem 50 (24)_fc\n",
      "Iteración Sem 51 (24): Se usaron columnas: Sem 51 (24)_tr, Sem 51 (24)_fc\n",
      "Iteración Sem 52 (24): Se usaron columnas: Sem 52 (24)_tr, Sem 52 (24)_fc\n",
      "Iteración Sem 1 (25): Se usaron columnas: Sem 1 (25)_tr, Sem 1 (25)_fc\n",
      "Iteración Sem 2 (25): Se usaron columnas: Sem 2 (25)_tr, Sem 2 (25)_fc\n",
      "Iteración Sem 3 (25): Se usaron columnas: Sem 3 (25)_tr, Sem 3 (25)_fc\n",
      "Iteración Sem 4 (25): Se usaron columnas: Sem 4 (25)_tr, Sem 4 (25)_fc\n",
      "Iteración Sem 5 (25): Se usaron columnas: Sem 5 (25)_tr, Sem 5 (25)_fc\n",
      "Iteración Sem 6 (25): Se usaron columnas: Sem 6 (25)_tr, Sem 6 (25)_fc\n",
      "Iteración Sem 7 (25): Se usaron columnas: Sem 7 (25)_tr, Sem 7 (25)_fc\n",
      "Iteración Sem 8 (25): Se usaron columnas: Sem 8 (25)_tr, Sem 8 (25)_fc\n",
      "Iteración Sem 9 (25): Se usaron columnas: Sem 9 (25)_tr, Sem 9 (25)_fc\n",
      "Iteración Sem 10 (25): Se usaron columnas: Sem 10 (25)_tr, Sem 10 (25)_fc\n",
      "Iteración Sem 11 (25): Se usaron columnas: Sem 11 (25)_tr, Sem 11 (25)_fc\n",
      "Iteración Sem 12 (25): Se usaron columnas: Sem 12 (25)_tr, Sem 12 (25)_fc\n",
      "Iteración Sem 13 (25): Se usaron columnas: Sem 13 (25)_tr, Sem 13 (25)_fc\n",
      "Iteración Sem 14 (25): Se usaron columnas: Sem 14 (25)_tr, Sem 14 (25)_fc\n",
      "Iteración Sem 15 (25): Se usaron columnas: Sem 15 (25)_tr, Sem 15 (25)_fc\n",
      "Iteración Sem 16 (25): Se usaron columnas: Sem 16 (25)_tr, Sem 16 (25)_fc\n",
      "Iteración Sem 17 (25): Se usaron columnas: Sem 17 (25)_tr, Sem 17 (25)_fc\n",
      "Iteración Sem 18 (25): Se usaron columnas: Sem 18 (25)_tr, Sem 18 (25)_fc\n",
      "Iteración Sem 19 (25): Se usaron columnas: Sem 19 (25)_tr, Sem 19 (25)_fc\n",
      "Iteración Sem 20 (25): Se usaron columnas: Sem 20 (25)_tr, Sem 20 (25)_fc\n",
      "Iteración Sem 21 (25): Se usaron columnas: Sem 21 (25)_tr, Sem 21 (25)_fc\n",
      "Iteración Sem 22 (25): Se usaron columnas: Sem 22 (25)_tr, Sem 22 (25)_fc\n",
      "Iteración Sem 23 (25): Se usaron columnas: Sem 23 (25)_tr (asignado 0), Sem 23 (25)_fc\n",
      "Iteración Sem 24 (25): Se usaron columnas: Sem 24 (25)_tr (asignado 0), Sem 24 (25)_fc\n",
      "Iteración Sem 25 (25): Se usaron columnas: Sem 25 (25)_tr (asignado 0), Sem 25 (25)_fc\n",
      "Iteración Sem 26 (25): Se usaron columnas: Sem 26 (25)_tr (asignado 0), Sem 26 (25)_fc\n",
      "Iteración Sem 27 (25): Se usaron columnas: Sem 27 (25)_tr (asignado 0), Sem 27 (25)_fc\n",
      "Iteración Sem 28 (25): Se usaron columnas: Sem 28 (25)_tr (asignado 0), Sem 28 (25)_fc\n",
      "Iteración Sem 29 (25): Se usaron columnas: Sem 29 (25)_tr (asignado 0), Sem 29 (25)_fc\n",
      "Iteración Sem 30 (25): Se usaron columnas: Sem 30 (25)_tr (asignado 0), Sem 30 (25)_fc\n",
      "Iteración Sem 31 (25): Se usaron columnas: Sem 31 (25)_tr (asignado 0), Sem 31 (25)_fc\n",
      "Iteración Sem 32 (25): Se usaron columnas: Sem 32 (25)_tr (asignado 0), Sem 32 (25)_fc\n",
      "Iteración Sem 33 (25): Se usaron columnas: Sem 33 (25)_tr (asignado 0), Sem 33 (25)_fc\n",
      "Iteración Sem 34 (25): Se usaron columnas: Sem 34 (25)_tr (asignado 0), Sem 34 (25)_fc\n",
      "Iteración Sem 35 (25): Se usaron columnas: Sem 35 (25)_tr (asignado 0), Sem 35 (25)_fc\n",
      "Iteración Sem 36 (25): Se usaron columnas: Sem 36 (25)_tr (asignado 0), Sem 36 (25)_fc\n",
      "Iteración Sem 37 (25): Se usaron columnas: Sem 37 (25)_tr (asignado 0), Sem 37 (25)_fc\n",
      "Iteración Sem 38 (25): Se usaron columnas: Sem 38 (25)_tr (asignado 0), Sem 38 (25)_fc\n",
      "Iteración Sem 39 (25): Se usaron columnas: Sem 39 (25)_tr (asignado 0), Sem 39 (25)_fc\n",
      "Iteración Sem 40 (25): Se usaron columnas: Sem 40 (25)_tr (asignado 0), Sem 40 (25)_fc\n",
      "Iteración Sem 41 (25): Se usaron columnas: Sem 41 (25)_tr (asignado 0), Sem 41 (25)_fc\n",
      "Iteración Sem 42 (25): Se usaron columnas: Sem 42 (25)_tr (asignado 0), Sem 42 (25)_fc\n",
      "Iteración Sem 43 (25): Se usaron columnas: Sem 43 (25)_tr (asignado 0), Sem 43 (25)_fc\n",
      "Iteración Sem 44 (25): Se usaron columnas: Sem 44 (25)_tr (asignado 0), Sem 44 (25)_fc\n",
      "Iteración Sem 45 (25): Se usaron columnas: Sem 45 (25)_tr (asignado 0), Sem 45 (25)_fc\n"
     ]
    }
   ],
   "source": [
    "import datetime\n",
    "import polars as pl\n",
    "\n",
    "# Obtener la semana y año actual\n",
    "fecha_actual = datetime.date.today()\n",
    "semana_actual = fecha_actual.isocalendar()[1]\n",
    "año_actual = int(str(fecha_actual.year)[-2:])\n",
    "\n",
    "# Número total de semanas en un año ISO\n",
    "SEMANAS_POR_AÑO = 52\n",
    "\n",
    "# Iterar por 50 semanas ajustando el cruce de años\n",
    "for i in range(1, 51):  # 50 semanas a partir de la actual\n",
    "    try:\n",
    "        semana_iteracion = semana_actual + i\n",
    "        if semana_iteracion > SEMANAS_POR_AÑO:\n",
    "            semana_iteracion -= SEMANAS_POR_AÑO\n",
    "            año_iteracion = str(año_actual + 1).zfill(2)\n",
    "        else:\n",
    "            año_iteracion = str(año_actual).zfill(2)\n",
    "\n",
    "        # Calcular el nombre de la semana anterior\n",
    "        if semana_iteracion == 1:  # Primera semana del nuevo año\n",
    "            semana_anterior = f\"Sem {SEMANAS_POR_AÑO} ({str(int(año_iteracion) - 1).zfill(2)})\"\n",
    "        else:\n",
    "            semana_anterior = f\"Sem {semana_iteracion - 1} ({año_iteracion})\"\n",
    "\n",
    "        # Nombres de las columnas para la semana actual\n",
    "        semana_actual_nombre = f\"Sem {semana_iteracion} ({año_iteracion})\"\n",
    "        columna_tr = f\"{semana_actual_nombre}_tr\"\n",
    "        columna_fc = f\"{semana_actual_nombre}_fc\"\n",
    "\n",
    "        # Inicializar las columnas que serán usadas\n",
    "        columnas_usadas = []\n",
    "\n",
    "        # Verificar y agregar columna desde `transito_pvt` si existe\n",
    "        if columna_tr in transito_pvt.columns:\n",
    "            base_dispo = base_dispo.join(\n",
    "                transito_pvt.filter(\n",
    "                    pl.col(\"UE\").is_in(base_dispo[\"UE\"])\n",
    "                ).select([pl.col(\"UE\"), pl.col(columna_tr).alias(columna_tr)]),\n",
    "                on=\"UE\",\n",
    "                how=\"left\"\n",
    "            )\n",
    "            columnas_usadas.append(columna_tr)\n",
    "        else:\n",
    "            base_dispo = base_dispo.with_columns(\n",
    "                pl.lit(0).alias(columna_tr)  # Crear columna con valor 0 si no existe\n",
    "            )\n",
    "            columnas_usadas.append(f\"{columna_tr} (asignado 0)\")\n",
    "\n",
    "        # Verificar y agregar columna desde `fc_pvt` si existe\n",
    "        if columna_fc in fc_pvt.columns:\n",
    "            base_dispo = base_dispo.join(\n",
    "                fc_pvt.filter(\n",
    "                    pl.col(\"ID\").is_in(base_dispo[\"ID\"])\n",
    "                ).select([pl.col(\"ID\"), pl.col(columna_fc).alias(columna_fc)]),\n",
    "                on=\"ID\",\n",
    "                how=\"left\"\n",
    "            )\n",
    "            columnas_usadas.append(columna_fc)\n",
    "        else:\n",
    "            base_dispo = base_dispo.with_columns(\n",
    "                pl.lit(0).alias(columna_fc)  # Crear columna con valor 0 si no existe\n",
    "            )\n",
    "            columnas_usadas.append(f\"{columna_fc} (asignado 0)\")\n",
    "\n",
    "        # Calcular los valores para la semana actual con manejo de nulos\n",
    "        base_dispo = base_dispo.with_columns(\n",
    "            pl.when(\n",
    "                (pl.col(semana_anterior).fill_null(0) +\n",
    "                 (pl.col(columna_tr).fill_null(0) * pl.col(\"Ponderación por canal\").fill_null(1))) > 0\n",
    "            )\n",
    "            .then(\n",
    "                (pl.col(semana_anterior).fill_null(0) +\n",
    "                 (pl.col(columna_tr).fill_null(0) * pl.col(\"Ponderación por canal\").fill_null(1)) -\n",
    "                 pl.col(columna_fc).fill_null(0))\n",
    "            )\n",
    "            .otherwise(\n",
    "                pl.col(semana_anterior).fill_null(0) +\n",
    "                (pl.col(columna_tr).fill_null(0) * pl.col(\"Ponderación por canal\").fill_null(1))\n",
    "            )\n",
    "            .alias(semana_actual_nombre)\n",
    "        )\n",
    "\n",
    "        # Eliminar columnas temporales\n",
    "        base_dispo = base_dispo.drop([columna_tr, columna_fc])\n",
    "\n",
    "        # Mostrar qué columnas fueron usadas en esta iteración\n",
    "        print(f\"Iteración {semana_actual_nombre}: Se usaron columnas: {', '.join(columnas_usadas)}\")\n",
    "\n",
    "    except Exception as e:\n",
    "        print(f\"Error en la iteración {semana_actual_nombre}: {e}\")\n"
   ]
  },
  {
   "cell_type": "markdown",
   "metadata": {},
   "source": [
    "# Proceso de Cálculo de Nuevas Columnas para saber el % de Dispo :D!\n",
    "\n",
    "1. **Filtrado de Columnas:**\n",
    "   - Seleccionar columnas que:\n",
    "     - Comienzan con `\"Sem\"`.\n",
    "     - Contienen `\"(\"` en su nombre.\n",
    "     - No contienen `\"D\"` en su nombre.\n",
    "\n",
    "2. **Nuevas Columnas:**\n",
    "   - Crear una nueva columna con el mismo nombre que la base, añadiendo `\"D\"` al final.\n",
    "\n",
    "3. **Reglas de Cálculo:**\n",
    "   - **Regla 1:** Si el valor es negativo → Asignar `0`.\n",
    "   - **Regla 2:** Si el valor es `0` y forecast (`columna_fc`) > 0 → Asignar `0`.\n",
    "   - **Regla 3:** Si el valor es `0` y forecast no existe o es `0` → Asignar `1`.\n",
    "   - **Regla 4:** Si el valor es mayor que `0` y forecast no existe o es `0` → Asignar `1`.\n",
    "   - **Regla 5:** Si el valor es mayor que `0` y forecast existe:\n",
    "     - Calcular valor / forecast.\n",
    "     - Si el resultado > 1 → Asignar `1`.\n",
    "     - Si el resultado ≤ 1 → Asignar el resultado.\n"
   ]
  },
  {
   "cell_type": "code",
   "execution_count": null,
   "metadata": {},
   "outputs": [],
   "source": [
    "for columna in base_dispo.columns:\n",
    "    if columna.startswith(\"Sem\") and \"(\" in columna and \"D\" not in columna:\n",
    "        columna_fc = f\"{columna}_fc\"  # Nombre de la columna_fc correspondiente\n",
    "        nueva_columna = f\"{columna}D\"  # Nombre de la nueva columna\n",
    "\n",
    "        # Verificar y agregar columna_fc desde `fc_pvt` si existe\n",
    "        if columna_fc in fc_pvt.columns:\n",
    "            base_dispo = base_dispo.join(\n",
    "                fc_pvt.filter(\n",
    "                    pl.col(\"ID\").is_in(base_dispo[\"ID\"])\n",
    "                ).select([pl.col(\"ID\"), pl.col(columna_fc).alias(columna_fc)]),\n",
    "                on=\"ID\",\n",
    "                how=\"left\"\n",
    "            )\n",
    "        else:\n",
    "            # Crear columna_fc con valor 0 si no existe\n",
    "            base_dispo = base_dispo.with_columns(\n",
    "                pl.lit(0).alias(columna_fc)\n",
    "            )\n",
    "\n",
    "        # Crear la nueva columna basada en las condiciones especificadas\n",
    "        base_dispo = base_dispo.with_columns(\n",
    "            (\n",
    "                pl.when(pl.col(columna) < 0)  # Condición inicial: Sem < 0\n",
    "                .then(0)\n",
    "                .when((pl.col(columna) == 0) & (pl.col(columna_fc) > 0))  # Segunda condición\n",
    "                .then(0)\n",
    "                .when((pl.col(columna) == 0) & ((pl.col(columna_fc) == 0) | pl.col(columna_fc).is_null()))  # Tercera condición\n",
    "                .then(1)\n",
    "                .when((pl.col(columna) > 0) & ((pl.col(columna_fc) == 0) | pl.col(columna_fc).is_null()))  # Cuarta condición\n",
    "                .then(1)\n",
    "                .when((pl.col(columna) > 0) & (pl.col(columna_fc) > 0))  # Quinta condición\n",
    "                .then(\n",
    "                    pl.when(pl.col(columna) / pl.col(columna_fc) > 1)\n",
    "                    .then(1)\n",
    "                    .otherwise(pl.col(columna) / pl.col(columna_fc))\n",
    "                )\n",
    "                * 100  # Multiplicar todos los resultados por 100\n",
    "            ).alias(nueva_columna)\n",
    "        )\n",
    "\n",
    "        # Eliminar la columna_fc después de la iteración\n",
    "        base_dispo = base_dispo.drop(columna_fc)\n"
   ]
  },
  {
   "cell_type": "code",
   "execution_count": 167,
   "metadata": {},
   "outputs": [
    {
     "data": {
      "text/html": [
       "<div><style>\n",
       ".dataframe > thead > tr,\n",
       ".dataframe > tbody > tr {\n",
       "  text-align: right;\n",
       "  white-space: pre-wrap;\n",
       "}\n",
       "</style>\n",
       "<small>shape: (60_746, 135)</small><table border=\"1\" class=\"dataframe\"><thead><tr><th>ID</th><th>UE</th><th>Descripcion Material</th><th>Marca</th><th>Ponderación por canal</th><th>Vig</th><th>Canal</th><th>Canal Consolidado</th><th>Sector</th><th>Agrupación ClaCom</th><th>SubAgrupación ClaCom</th><th>Categoría ClaCom</th><th>SubCategoría ClaCom</th><th>Bobinas/Implementos/Otros</th><th>COD. PROVEEDOR</th><th>PROVEEDOR</th><th>ORIGEN</th><th>LEAD TIME</th><th>Codigos Transparentes</th><th>Comentario Sesión</th><th>Comentario Finales</th><th>OBS Retail</th><th>OBS DERCO</th><th>Segmentacion AFM</th><th>Prom Forecast 3-6-12</th><th>Prom Venta 3-6-12</th><th>711</th><th>Stock CD</th><th>Control</th><th>Stock Tiendas</th><th>Faltante</th><th>Sobrante</th><th>Stock Objetivo</th><th>Sem 47 (24)</th><th>Sem 48 (24)</th><th>Sem 49 (24)</th><th>Sem 50 (24)</th><th>&hellip;</th><th>Sem 9 (25)D</th><th>Sem 10 (25)D</th><th>Sem 11 (25)D</th><th>Sem 12 (25)D</th><th>Sem 13 (25)D</th><th>Sem 14 (25)D</th><th>Sem 15 (25)D</th><th>Sem 16 (25)D</th><th>Sem 17 (25)D</th><th>Sem 18 (25)D</th><th>Sem 19 (25)D</th><th>Sem 20 (25)D</th><th>Sem 21 (25)D</th><th>Sem 22 (25)D</th><th>Sem 23 (25)D</th><th>Sem 24 (25)D</th><th>Sem 25 (25)D</th><th>Sem 26 (25)D</th><th>Sem 27 (25)D</th><th>Sem 28 (25)D</th><th>Sem 29 (25)D</th><th>Sem 30 (25)D</th><th>Sem 31 (25)D</th><th>Sem 32 (25)D</th><th>Sem 33 (25)D</th><th>Sem 34 (25)D</th><th>Sem 35 (25)D</th><th>Sem 36 (25)D</th><th>Sem 37 (25)D</th><th>Sem 38 (25)D</th><th>Sem 39 (25)D</th><th>Sem 40 (25)D</th><th>Sem 41 (25)D</th><th>Sem 42 (25)D</th><th>Sem 43 (25)D</th><th>Sem 44 (25)D</th><th>Sem 45 (25)D</th></tr><tr><td>str</td><td>str</td><td>str</td><td>str</td><td>f64</td><td>str</td><td>str</td><td>str</td><td>str</td><td>str</td><td>str</td><td>str</td><td>str</td><td>str</td><td>str</td><td>str</td><td>str</td><td>str</td><td>str</td><td>str</td><td>str</td><td>str</td><td>str</td><td>str</td><td>str</td><td>str</td><td>f64</td><td>f64</td><td>f64</td><td>f64</td><td>i64</td><td>f64</td><td>i64</td><td>f64</td><td>f64</td><td>f64</td><td>f64</td><td>&hellip;</td><td>f64</td><td>f64</td><td>f64</td><td>f64</td><td>f64</td><td>f64</td><td>f64</td><td>f64</td><td>f64</td><td>f64</td><td>f64</td><td>f64</td><td>f64</td><td>f64</td><td>f64</td><td>f64</td><td>f64</td><td>f64</td><td>f64</td><td>f64</td><td>f64</td><td>f64</td><td>f64</td><td>f64</td><td>f64</td><td>f64</td><td>f64</td><td>f64</td><td>f64</td><td>f64</td><td>f64</td><td>f64</td><td>f64</td><td>f64</td><td>f64</td><td>f64</td><td>f64</td></tr></thead><tbody><tr><td>&quot;1171331CL&nbsp;RETAIL&quot;</td><td>&quot;1171331&quot;</td><td>&quot;SCENT&nbsp;BOMB&nbsp;2&nbsp;PACK&nbsp;PAPER&nbsp;MAN&nbsp;TR…</td><td>&quot;SCENT&nbsp;BOMB&quot;</td><td>1.0</td><td>&quot;1&quot;</td><td>&quot;CL&nbsp;RETAIL&quot;</td><td>&quot;RETAIL&quot;</td><td>&quot;Accesorios-Car&nbsp;Care&quot;</td><td>&quot;ACCESORIOS&quot;</td><td>&quot;LIMPIEZA&nbsp;Y&nbsp;CUIDADO&quot;</td><td>&quot;AROMATIZANTES&quot;</td><td>&quot;COLGANTE&quot;</td><td>&quot;Otros&quot;</td><td>&quot;61111&quot;</td><td>&quot;Careco&nbsp;LLC&quot;</td><td>&quot;IMP&quot;</td><td>&quot;120&quot;</td><td>&quot;NO&quot;</td><td>&quot;No&nbsp;Comprar&quot;</td><td>null</td><td>&quot;0&quot;</td><td>&quot;0&quot;</td><td>&quot;SIN&nbsp;SEGMENTACION&quot;</td><td>&quot;911.333333333&quot;</td><td>&quot;0.25&quot;</td><td>0.0</td><td>0.0</td><td>0.0</td><td>1446.0</td><td>48</td><td>1133.0</td><td>292</td><td>-48.0</td><td>-48.0</td><td>2356.933025</td><td>2169.866051</td><td>&hellip;</td><td>1.0</td><td>1.0</td><td>1.0</td><td>1.0</td><td>1.0</td><td>1.0</td><td>1.0</td><td>1.0</td><td>1.0</td><td>1.0</td><td>0.307852</td><td>0.0</td><td>0.0</td><td>0.0</td><td>0.0</td><td>0.0</td><td>0.0</td><td>0.0</td><td>0.0</td><td>0.0</td><td>0.0</td><td>0.0</td><td>0.0</td><td>0.0</td><td>0.0</td><td>0.0</td><td>0.0</td><td>0.0</td><td>0.0</td><td>0.0</td><td>0.0</td><td>0.0</td><td>0.0</td><td>0.0</td><td>0.0</td><td>0.0</td><td>0.0</td></tr><tr><td>&quot;1171332CL&nbsp;RETAIL&quot;</td><td>&quot;1171332&quot;</td><td>&quot;SCENT&nbsp;BOMB&nbsp;2&nbsp;PACK&nbsp;PAPER&nbsp;HAWA&nbsp;B…</td><td>&quot;SCENT&nbsp;BOMB&quot;</td><td>1.0</td><td>&quot;1&quot;</td><td>&quot;CL&nbsp;RETAIL&quot;</td><td>&quot;RETAIL&quot;</td><td>&quot;Accesorios-Car&nbsp;Care&quot;</td><td>&quot;ACCESORIOS&quot;</td><td>&quot;LIMPIEZA&nbsp;Y&nbsp;CUIDADO&quot;</td><td>&quot;AROMATIZANTES&quot;</td><td>&quot;COLGANTE&quot;</td><td>&quot;Otros&quot;</td><td>&quot;61111&quot;</td><td>&quot;Careco&nbsp;LLC&quot;</td><td>&quot;IMP&quot;</td><td>&quot;120&quot;</td><td>&quot;NO&quot;</td><td>&quot;No&nbsp;Comprar&quot;</td><td>null</td><td>&quot;0&quot;</td><td>&quot;0&quot;</td><td>&quot;SIN&nbsp;SEGMENTACION&quot;</td><td>&quot;911.333333333&quot;</td><td>&quot;0.5&quot;</td><td>0.0</td><td>0.0</td><td>0.0</td><td>1276.0</td><td>144</td><td>985.0</td><td>292</td><td>-144.0</td><td>-144.0</td><td>2260.933025</td><td>2073.866051</td><td>&hellip;</td><td>1.0</td><td>1.0</td><td>1.0</td><td>1.0</td><td>1.0</td><td>1.0</td><td>1.0</td><td>1.0</td><td>1.0</td><td>0.794667</td><td>0.0</td><td>0.0</td><td>0.0</td><td>0.0</td><td>0.0</td><td>0.0</td><td>0.0</td><td>0.0</td><td>0.0</td><td>0.0</td><td>0.0</td><td>0.0</td><td>0.0</td><td>0.0</td><td>0.0</td><td>0.0</td><td>0.0</td><td>0.0</td><td>0.0</td><td>0.0</td><td>0.0</td><td>0.0</td><td>0.0</td><td>0.0</td><td>0.0</td><td>0.0</td><td>0.0</td></tr><tr><td>&quot;1171330CL&nbsp;RETAIL&quot;</td><td>&quot;1171330&quot;</td><td>&quot;SCENT&nbsp;BOMB&nbsp;2&nbsp;PACK&nbsp;PAPER&nbsp;B&nbsp;CHRY…</td><td>&quot;SCENT&nbsp;BOMB&quot;</td><td>1.0</td><td>&quot;1&quot;</td><td>&quot;CL&nbsp;RETAIL&quot;</td><td>&quot;RETAIL&quot;</td><td>&quot;Accesorios-Car&nbsp;Care&quot;</td><td>&quot;ACCESORIOS&quot;</td><td>&quot;LIMPIEZA&nbsp;Y&nbsp;CUIDADO&quot;</td><td>&quot;AROMATIZANTES&quot;</td><td>&quot;COLGANTE&quot;</td><td>&quot;Otros&quot;</td><td>&quot;61111&quot;</td><td>&quot;Careco&nbsp;LLC&quot;</td><td>&quot;IMP&quot;</td><td>&quot;120&quot;</td><td>&quot;NO&quot;</td><td>&quot;No&nbsp;Comprar&quot;</td><td>null</td><td>&quot;0&quot;</td><td>&quot;0&quot;</td><td>&quot;SIN&nbsp;SEGMENTACION&quot;</td><td>&quot;911.333333333&quot;</td><td>&quot;1&quot;</td><td>0.0</td><td>0.0</td><td>0.0</td><td>1417.0</td><td>24</td><td>1103.0</td><td>292</td><td>-24.0</td><td>-24.0</td><td>2380.933025</td><td>2193.866051</td><td>&hellip;</td><td>1.0</td><td>1.0</td><td>1.0</td><td>1.0</td><td>1.0</td><td>1.0</td><td>1.0</td><td>1.0</td><td>1.0</td><td>1.0</td><td>0.436148</td><td>0.0</td><td>0.0</td><td>0.0</td><td>0.0</td><td>0.0</td><td>0.0</td><td>0.0</td><td>0.0</td><td>0.0</td><td>0.0</td><td>0.0</td><td>0.0</td><td>0.0</td><td>0.0</td><td>0.0</td><td>0.0</td><td>0.0</td><td>0.0</td><td>0.0</td><td>0.0</td><td>0.0</td><td>0.0</td><td>0.0</td><td>0.0</td><td>0.0</td><td>0.0</td></tr><tr><td>&quot;1171298CL&nbsp;RETAIL&quot;</td><td>&quot;1171298&quot;</td><td>&quot;SCENT&nbsp;BOMB&nbsp;VENT&nbsp;CLIP&nbsp;MANG&nbsp;TROP…</td><td>&quot;SCENT&nbsp;BOMB&quot;</td><td>1.0</td><td>&quot;1&quot;</td><td>&quot;CL&nbsp;RETAIL&quot;</td><td>&quot;RETAIL&quot;</td><td>&quot;Accesorios-Car&nbsp;Care&quot;</td><td>&quot;ACCESORIOS&quot;</td><td>&quot;LIMPIEZA&nbsp;Y&nbsp;CUIDADO&quot;</td><td>&quot;AROMATIZANTES&quot;</td><td>&quot;VENTILACION&quot;</td><td>&quot;Otros&quot;</td><td>&quot;61111&quot;</td><td>&quot;Careco&nbsp;LLC&quot;</td><td>&quot;IMP&quot;</td><td>&quot;120&quot;</td><td>&quot;NO&quot;</td><td>&quot;No&nbsp;Comprar&quot;</td><td>null</td><td>&quot;0&quot;</td><td>&quot;0&quot;</td><td>&quot;SIN&nbsp;SEGMENTACION&quot;</td><td>&quot;350&quot;</td><td>&quot;0.416666667&quot;</td><td>0.0</td><td>222.0</td><td>0.0</td><td>293.998</td><td>18</td><td>167.998</td><td>122</td><td>204.0</td><td>134.715935</td><td>833.431871</td><td>764.147806</td><td>&hellip;</td><td>1.0</td><td>1.0</td><td>1.0</td><td>1.0</td><td>1.0</td><td>1.0</td><td>1.0</td><td>1.0</td><td>1.0</td><td>0.7316</td><td>0.0</td><td>0.0</td><td>0.0</td><td>0.0</td><td>0.0</td><td>0.0</td><td>0.0</td><td>0.0</td><td>0.0</td><td>0.0</td><td>0.0</td><td>0.0</td><td>0.0</td><td>0.0</td><td>0.0</td><td>0.0</td><td>0.0</td><td>0.0</td><td>0.0</td><td>0.0</td><td>0.0</td><td>0.0</td><td>0.0</td><td>0.0</td><td>0.0</td><td>0.0</td><td>0.0</td></tr><tr><td>&quot;1171325CL&nbsp;RETAIL&quot;</td><td>&quot;1171325&quot;</td><td>&quot;SCENT&nbsp;BOMB&nbsp;VENT&nbsp;CLIP&nbsp;BLACK&nbsp;BOM…</td><td>&quot;SCENT&nbsp;BOMB&quot;</td><td>1.0</td><td>&quot;1&quot;</td><td>&quot;CL&nbsp;RETAIL&quot;</td><td>&quot;RETAIL&quot;</td><td>&quot;Accesorios-Car&nbsp;Care&quot;</td><td>&quot;ACCESORIOS&quot;</td><td>&quot;LIMPIEZA&nbsp;Y&nbsp;CUIDADO&quot;</td><td>&quot;AROMATIZANTES&quot;</td><td>&quot;VENTILACION&quot;</td><td>&quot;Otros&quot;</td><td>&quot;61111&quot;</td><td>&quot;Careco&nbsp;LLC&quot;</td><td>&quot;IMP&quot;</td><td>&quot;120&quot;</td><td>&quot;NO&quot;</td><td>&quot;No&nbsp;Comprar&quot;</td><td>null</td><td>&quot;0&quot;</td><td>&quot;0&quot;</td><td>&quot;SIN&nbsp;SEGMENTACION&quot;</td><td>&quot;450&quot;</td><td>&quot;0.416666667&quot;</td><td>0.0</td><td>210.0</td><td>0.0</td><td>303.0</td><td>18</td><td>156.0</td><td>141</td><td>192.0</td><td>99.621247</td><td>775.242494</td><td>682.863741</td><td>&hellip;</td><td>0.0</td><td>0.0</td><td>1.0</td><td>1.0</td><td>1.0</td><td>1.0</td><td>1.0</td><td>1.0</td><td>1.0</td><td>1.0</td><td>1.0</td><td>1.0</td><td>0.9824</td><td>0.0</td><td>0.0</td><td>0.0</td><td>0.0</td><td>0.0</td><td>0.0</td><td>0.0</td><td>0.0</td><td>0.0</td><td>0.0</td><td>0.0</td><td>0.0</td><td>0.0</td><td>0.0</td><td>0.0</td><td>0.0</td><td>0.0</td><td>0.0</td><td>0.0</td><td>0.0</td><td>0.0</td><td>0.0</td><td>0.0</td><td>0.0</td></tr><tr><td>&hellip;</td><td>&hellip;</td><td>&hellip;</td><td>&hellip;</td><td>&hellip;</td><td>&hellip;</td><td>&hellip;</td><td>&hellip;</td><td>&hellip;</td><td>&hellip;</td><td>&hellip;</td><td>&hellip;</td><td>&hellip;</td><td>&hellip;</td><td>&hellip;</td><td>&hellip;</td><td>&hellip;</td><td>&hellip;</td><td>&hellip;</td><td>&hellip;</td><td>&hellip;</td><td>&hellip;</td><td>&hellip;</td><td>&hellip;</td><td>&hellip;</td><td>&hellip;</td><td>&hellip;</td><td>&hellip;</td><td>&hellip;</td><td>&hellip;</td><td>&hellip;</td><td>&hellip;</td><td>&hellip;</td><td>&hellip;</td><td>&hellip;</td><td>&hellip;</td><td>&hellip;</td><td>&hellip;</td><td>&hellip;</td><td>&hellip;</td><td>&hellip;</td><td>&hellip;</td><td>&hellip;</td><td>&hellip;</td><td>&hellip;</td><td>&hellip;</td><td>&hellip;</td><td>&hellip;</td><td>&hellip;</td><td>&hellip;</td><td>&hellip;</td><td>&hellip;</td><td>&hellip;</td><td>&hellip;</td><td>&hellip;</td><td>&hellip;</td><td>&hellip;</td><td>&hellip;</td><td>&hellip;</td><td>&hellip;</td><td>&hellip;</td><td>&hellip;</td><td>&hellip;</td><td>&hellip;</td><td>&hellip;</td><td>&hellip;</td><td>&hellip;</td><td>&hellip;</td><td>&hellip;</td><td>&hellip;</td><td>&hellip;</td><td>&hellip;</td><td>&hellip;</td><td>&hellip;</td><td>&hellip;</td></tr><tr><td>&quot;1171967CL&nbsp;RETAIL&quot;</td><td>&quot;1171967&quot;</td><td>&quot;LIMP.ESPEJO&nbsp;TELESCÓPICO&nbsp;ML&nbsp;AP2…</td><td>&quot;MOTORLIFE&quot;</td><td>0.0</td><td>&quot;0&quot;</td><td>&quot;CL&nbsp;RETAIL&quot;</td><td>&quot;RETAIL&quot;</td><td>&quot;Accesorios-Car&nbsp;Care&quot;</td><td>&quot;ACCESORIOS&quot;</td><td>&quot;CUIDADO&nbsp;Y&nbsp;MANTENCION&quot;</td><td>&quot;PARABRISAS&nbsp;Y&nbsp;ACCESORIOS&quot;</td><td>&quot;PLUMILLAS&quot;</td><td>&quot;Otros&quot;</td><td>&quot;17968&quot;</td><td>&quot;WICO&nbsp;INTERNATION&nbsp;LIMITED&quot;</td><td>&quot;IMP&quot;</td><td>&quot;158&quot;</td><td>&quot;NO&quot;</td><td>&quot;Sin&nbsp;Necesidad&quot;</td><td>null</td><td>&quot;0&quot;</td><td>&quot;0&quot;</td><td>&quot;SIN&nbsp;SEGMENTACION&quot;</td><td>&quot;0&quot;</td><td>&quot;0&quot;</td><td>0.0</td><td>0.0</td><td>0.0</td><td>0.0</td><td>0</td><td>0.0</td><td>0</td><td>0.0</td><td>0.0</td><td>0.0</td><td>0.0</td><td>&hellip;</td><td>1.0</td><td>1.0</td><td>1.0</td><td>1.0</td><td>1.0</td><td>1.0</td><td>1.0</td><td>1.0</td><td>1.0</td><td>1.0</td><td>1.0</td><td>1.0</td><td>1.0</td><td>1.0</td><td>1.0</td><td>1.0</td><td>1.0</td><td>1.0</td><td>1.0</td><td>1.0</td><td>1.0</td><td>1.0</td><td>1.0</td><td>1.0</td><td>1.0</td><td>1.0</td><td>1.0</td><td>1.0</td><td>1.0</td><td>1.0</td><td>1.0</td><td>1.0</td><td>1.0</td><td>1.0</td><td>1.0</td><td>1.0</td><td>1.0</td></tr><tr><td>&quot;151798CL&nbsp;RETAIL&quot;</td><td>&quot;151798&quot;</td><td>null</td><td>null</td><td>0.0</td><td>&quot;1&quot;</td><td>&quot;CL&nbsp;RETAIL&quot;</td><td>&quot;RETAIL&quot;</td><td>&quot;Rep.Alter.Maquinaria&quot;</td><td>&quot;IMPLEMENTOS&quot;</td><td>&quot;POST&nbsp;COSECHA&quot;</td><td>&quot;TRITURADORES&quot;</td><td>&quot;MODELO&nbsp;DSP-1600&quot;</td><td>&quot;Implementos&quot;</td><td>&quot;7655&quot;</td><td>&quot;MINOS&nbsp;DIS&nbsp;TICARET&nbsp;LIMITED&quot;</td><td>&quot;IMP&quot;</td><td>&quot;150&quot;</td><td>&quot;NO&quot;</td><td>&quot;Sin&nbsp;Necesidad&quot;</td><td>null</td><td>&quot;0&quot;</td><td>&quot;0&quot;</td><td>&quot;SIN&nbsp;SEGMENTACION&quot;</td><td>&quot;0.166666667&quot;</td><td>&quot;0&quot;</td><td>0.0</td><td>0.0</td><td>0.0</td><td>0.0</td><td>0</td><td>0.0</td><td>0</td><td>0.0</td><td>0.0</td><td>0.0</td><td>0.0</td><td>&hellip;</td><td>1.0</td><td>1.0</td><td>1.0</td><td>1.0</td><td>1.0</td><td>1.0</td><td>1.0</td><td>1.0</td><td>1.0</td><td>1.0</td><td>1.0</td><td>1.0</td><td>1.0</td><td>1.0</td><td>1.0</td><td>1.0</td><td>1.0</td><td>1.0</td><td>1.0</td><td>1.0</td><td>1.0</td><td>1.0</td><td>1.0</td><td>1.0</td><td>1.0</td><td>1.0</td><td>1.0</td><td>1.0</td><td>1.0</td><td>1.0</td><td>1.0</td><td>1.0</td><td>1.0</td><td>1.0</td><td>1.0</td><td>1.0</td><td>1.0</td></tr><tr><td>&quot;151799CL&nbsp;RETAIL&quot;</td><td>&quot;151799&quot;</td><td>null</td><td>null</td><td>0.0</td><td>&quot;1&quot;</td><td>&quot;CL&nbsp;RETAIL&quot;</td><td>&quot;RETAIL&quot;</td><td>&quot;Rep.Alter.Maquinaria&quot;</td><td>&quot;IMPLEMENTOS&quot;</td><td>&quot;POST&nbsp;COSECHA&quot;</td><td>&quot;TRITURADORES&quot;</td><td>&quot;MODELO&nbsp;DSP-2400&quot;</td><td>&quot;Implementos&quot;</td><td>&quot;7655&quot;</td><td>&quot;MINOS&nbsp;DIS&nbsp;TICARET&nbsp;LIMITED&quot;</td><td>&quot;IMP&quot;</td><td>&quot;150&quot;</td><td>&quot;NO&quot;</td><td>&quot;Sin&nbsp;Necesidad&quot;</td><td>null</td><td>&quot;0&quot;</td><td>&quot;0&quot;</td><td>&quot;SIN&nbsp;SEGMENTACION&quot;</td><td>&quot;0.166666667&quot;</td><td>&quot;0&quot;</td><td>0.0</td><td>0.0</td><td>0.0</td><td>0.0</td><td>0</td><td>0.0</td><td>0</td><td>0.0</td><td>0.0</td><td>0.0</td><td>0.0</td><td>&hellip;</td><td>1.0</td><td>1.0</td><td>1.0</td><td>1.0</td><td>1.0</td><td>1.0</td><td>1.0</td><td>1.0</td><td>1.0</td><td>1.0</td><td>1.0</td><td>1.0</td><td>1.0</td><td>1.0</td><td>1.0</td><td>1.0</td><td>1.0</td><td>1.0</td><td>1.0</td><td>1.0</td><td>1.0</td><td>1.0</td><td>1.0</td><td>1.0</td><td>1.0</td><td>1.0</td><td>1.0</td><td>1.0</td><td>1.0</td><td>1.0</td><td>1.0</td><td>1.0</td><td>1.0</td><td>1.0</td><td>1.0</td><td>1.0</td><td>1.0</td></tr><tr><td>&quot;140102CL&nbsp;RETAIL&quot;</td><td>&quot;140102&quot;</td><td>null</td><td>null</td><td>0.0</td><td>&quot;1&quot;</td><td>&quot;CL&nbsp;RETAIL&quot;</td><td>&quot;RETAIL&quot;</td><td>&quot;Rep.Alter.Maquinaria&quot;</td><td>&quot;HP&nbsp;IMPLEMENTOS&quot;</td><td>&quot;LLANTAS&quot;</td><td>&quot;LLANTAS&nbsp;PARA&nbsp;IMPLEMENTO&quot;</td><td>&quot;LLANTA&nbsp;9.00-15.3&nbsp;6&nbsp;AGUJEROS&quot;</td><td>&quot;Otros&quot;</td><td>&quot;0&quot;</td><td>&quot;Sin&nbsp;proveedor&nbsp;regular&quot;</td><td>&quot;0&quot;</td><td>&quot;0&quot;</td><td>&quot;NO&quot;</td><td>&quot;Sin&nbsp;Necesidad&quot;</td><td>null</td><td>&quot;0&quot;</td><td>&quot;0&quot;</td><td>&quot;SIN&nbsp;SEGMENTACION&quot;</td><td>&quot;0&quot;</td><td>&quot;0&quot;</td><td>0.0</td><td>0.0</td><td>0.0</td><td>0.0</td><td>0</td><td>0.0</td><td>0</td><td>0.0</td><td>0.0</td><td>0.0</td><td>0.0</td><td>&hellip;</td><td>1.0</td><td>1.0</td><td>1.0</td><td>1.0</td><td>1.0</td><td>1.0</td><td>1.0</td><td>1.0</td><td>1.0</td><td>1.0</td><td>1.0</td><td>1.0</td><td>1.0</td><td>1.0</td><td>1.0</td><td>1.0</td><td>1.0</td><td>1.0</td><td>1.0</td><td>1.0</td><td>1.0</td><td>1.0</td><td>1.0</td><td>1.0</td><td>1.0</td><td>1.0</td><td>1.0</td><td>1.0</td><td>1.0</td><td>1.0</td><td>1.0</td><td>1.0</td><td>1.0</td><td>1.0</td><td>1.0</td><td>1.0</td><td>1.0</td></tr><tr><td>&quot;139062CL&nbsp;RETAIL&quot;</td><td>&quot;139062&quot;</td><td>null</td><td>null</td><td>0.0</td><td>&quot;1&quot;</td><td>&quot;CL&nbsp;RETAIL&quot;</td><td>&quot;RETAIL&quot;</td><td>&quot;Rep.Alter.Maquinaria&quot;</td><td>&quot;HP&nbsp;IMPLEMENTOS&quot;</td><td>&quot;LLANTAS&quot;</td><td>&quot;LLANTAS&nbsp;PARA&nbsp;IMPLEMENTO&quot;</td><td>&quot;LLANTA&nbsp;5.50-16&nbsp;5&nbsp;AGUJEROS&quot;</td><td>&quot;Otros&quot;</td><td>&quot;0&quot;</td><td>&quot;Sin&nbsp;proveedor&nbsp;regular&quot;</td><td>&quot;0&quot;</td><td>&quot;0&quot;</td><td>&quot;NO&quot;</td><td>&quot;Sin&nbsp;Necesidad&quot;</td><td>null</td><td>&quot;0&quot;</td><td>&quot;0&quot;</td><td>&quot;SIN&nbsp;SEGMENTACION&quot;</td><td>&quot;0&quot;</td><td>&quot;0&quot;</td><td>0.0</td><td>0.0</td><td>0.0</td><td>0.0</td><td>0</td><td>0.0</td><td>0</td><td>0.0</td><td>0.0</td><td>0.0</td><td>0.0</td><td>&hellip;</td><td>1.0</td><td>1.0</td><td>1.0</td><td>1.0</td><td>1.0</td><td>1.0</td><td>1.0</td><td>1.0</td><td>1.0</td><td>1.0</td><td>1.0</td><td>1.0</td><td>1.0</td><td>1.0</td><td>1.0</td><td>1.0</td><td>1.0</td><td>1.0</td><td>1.0</td><td>1.0</td><td>1.0</td><td>1.0</td><td>1.0</td><td>1.0</td><td>1.0</td><td>1.0</td><td>1.0</td><td>1.0</td><td>1.0</td><td>1.0</td><td>1.0</td><td>1.0</td><td>1.0</td><td>1.0</td><td>1.0</td><td>1.0</td><td>1.0</td></tr></tbody></table></div>"
      ],
      "text/plain": [
       "shape: (60_746, 135)\n",
       "┌───────────┬─────────┬───────────────────────┬────────────┬───┬────────┬────────┬────────┬────────┐\n",
       "│ ID        ┆ UE      ┆ Descripcion Material  ┆ Marca      ┆ … ┆ Sem 42 ┆ Sem 43 ┆ Sem 44 ┆ Sem 45 │\n",
       "│ ---       ┆ ---     ┆ ---                   ┆ ---        ┆   ┆ (25)D  ┆ (25)D  ┆ (25)D  ┆ (25)D  │\n",
       "│ str       ┆ str     ┆ str                   ┆ str        ┆   ┆ ---    ┆ ---    ┆ ---    ┆ ---    │\n",
       "│           ┆         ┆                       ┆            ┆   ┆ f64    ┆ f64    ┆ f64    ┆ f64    │\n",
       "╞═══════════╪═════════╪═══════════════════════╪════════════╪═══╪════════╪════════╪════════╪════════╡\n",
       "│ 1171331CL ┆ 1171331 ┆ SCENT BOMB 2 PACK     ┆ SCENT BOMB ┆ … ┆ 0.0    ┆ 0.0    ┆ 0.0    ┆ 0.0    │\n",
       "│ RETAIL    ┆         ┆ PAPER MAN TR…         ┆            ┆   ┆        ┆        ┆        ┆        │\n",
       "│ 1171332CL ┆ 1171332 ┆ SCENT BOMB 2 PACK     ┆ SCENT BOMB ┆ … ┆ 0.0    ┆ 0.0    ┆ 0.0    ┆ 0.0    │\n",
       "│ RETAIL    ┆         ┆ PAPER HAWA B…         ┆            ┆   ┆        ┆        ┆        ┆        │\n",
       "│ 1171330CL ┆ 1171330 ┆ SCENT BOMB 2 PACK     ┆ SCENT BOMB ┆ … ┆ 0.0    ┆ 0.0    ┆ 0.0    ┆ 0.0    │\n",
       "│ RETAIL    ┆         ┆ PAPER B CHRY…         ┆            ┆   ┆        ┆        ┆        ┆        │\n",
       "│ 1171298CL ┆ 1171298 ┆ SCENT BOMB VENT CLIP  ┆ SCENT BOMB ┆ … ┆ 0.0    ┆ 0.0    ┆ 0.0    ┆ 0.0    │\n",
       "│ RETAIL    ┆         ┆ MANG TROP…            ┆            ┆   ┆        ┆        ┆        ┆        │\n",
       "│ 1171325CL ┆ 1171325 ┆ SCENT BOMB VENT CLIP  ┆ SCENT BOMB ┆ … ┆ 0.0    ┆ 0.0    ┆ 0.0    ┆ 0.0    │\n",
       "│ RETAIL    ┆         ┆ BLACK BOM…            ┆            ┆   ┆        ┆        ┆        ┆        │\n",
       "│ …         ┆ …       ┆ …                     ┆ …          ┆ … ┆ …      ┆ …      ┆ …      ┆ …      │\n",
       "│ 1171967CL ┆ 1171967 ┆ LIMP.ESPEJO           ┆ MOTORLIFE  ┆ … ┆ 1.0    ┆ 1.0    ┆ 1.0    ┆ 1.0    │\n",
       "│ RETAIL    ┆         ┆ TELESCÓPICO ML AP2…   ┆            ┆   ┆        ┆        ┆        ┆        │\n",
       "│ 151798CL  ┆ 151798  ┆ null                  ┆ null       ┆ … ┆ 1.0    ┆ 1.0    ┆ 1.0    ┆ 1.0    │\n",
       "│ RETAIL    ┆         ┆                       ┆            ┆   ┆        ┆        ┆        ┆        │\n",
       "│ 151799CL  ┆ 151799  ┆ null                  ┆ null       ┆ … ┆ 1.0    ┆ 1.0    ┆ 1.0    ┆ 1.0    │\n",
       "│ RETAIL    ┆         ┆                       ┆            ┆   ┆        ┆        ┆        ┆        │\n",
       "│ 140102CL  ┆ 140102  ┆ null                  ┆ null       ┆ … ┆ 1.0    ┆ 1.0    ┆ 1.0    ┆ 1.0    │\n",
       "│ RETAIL    ┆         ┆                       ┆            ┆   ┆        ┆        ┆        ┆        │\n",
       "│ 139062CL  ┆ 139062  ┆ null                  ┆ null       ┆ … ┆ 1.0    ┆ 1.0    ┆ 1.0    ┆ 1.0    │\n",
       "│ RETAIL    ┆         ┆                       ┆            ┆   ┆        ┆        ┆        ┆        │\n",
       "└───────────┴─────────┴───────────────────────┴────────────┴───┴────────┴────────┴────────┴────────┘"
      ]
     },
     "execution_count": 167,
     "metadata": {},
     "output_type": "execute_result"
    }
   ],
   "source": [
    "base_dispo"
   ]
  },
  {
   "cell_type": "markdown",
   "metadata": {},
   "source": [
    "Guardar archivo :DDD"
   ]
  },
  {
   "cell_type": "code",
   "execution_count": 168,
   "metadata": {},
   "outputs": [
    {
     "name": "stdout",
     "output_type": "stream",
     "text": [
      "Archivos guardados exitosamente en la carpeta: C:\\Users\\etorres.DERCOPARTS\\DERCO CHILE REPUESTOS SpA\\Planificación y abastecimiento - Documentos\\KPI\\Disponibilidad Futura\\Dispo_Canales\\2024\\Sem 47\n"
     ]
    }
   ],
   "source": [
    "import os\n",
    "from datetime import datetime\n",
    "import polars as pl\n",
    "\n",
    "# Definir la ruta base\n",
    "ruta_base = os.path.expanduser(r\"~\\DERCO CHILE REPUESTOS SpA\\Planificación y abastecimiento - Documentos\\KPI\\Disponibilidad Futura\\Dispo_Canales\")\n",
    "\n",
    "# Obtener el año y semana actual\n",
    "anio_actual = datetime.now().year\n",
    "semana_actual = datetime.now().isocalendar()[1]\n",
    "\n",
    "# Crear la carpeta del año actual si no existe\n",
    "ruta_anio = os.path.join(ruta_base, str(anio_actual))\n",
    "os.makedirs(ruta_anio, exist_ok=True)\n",
    "\n",
    "# Crear la carpeta de la semana actual dentro de la carpeta del año\n",
    "ruta_semana = os.path.join(ruta_anio, f\"Sem {semana_actual}\")\n",
    "os.makedirs(ruta_semana, exist_ok=True)\n",
    "\n",
    "# Rutas para guardar los archivos\n",
    "ruta_base_dispo = os.path.join(ruta_semana, \"base_dispo.xlsx\")\n",
    "ruta_fc_pvt = os.path.join(ruta_semana, \"fc_pvt.xlsx\")\n",
    "ruta_transito_pvt = os.path.join(ruta_semana, \"transito_pvt.xlsx\")\n",
    "\n",
    "# Guardar los DataFrames en Excel sin aplicar formato\n",
    "base_dispo.write_excel(ruta_base_dispo)\n",
    "fc_pvt.write_excel(ruta_fc_pvt)\n",
    "transito_pvt.write_excel(ruta_transito_pvt)\n",
    "\n",
    "# Mensaje de confirmación\n",
    "print(f\"Archivos guardados exitosamente en la carpeta: {ruta_semana}\")\n"
   ]
  }
 ],
 "metadata": {
  "kernelspec": {
   "display_name": "Python 3",
   "language": "python",
   "name": "python3"
  },
  "language_info": {
   "codemirror_mode": {
    "name": "ipython",
    "version": 3
   },
   "file_extension": ".py",
   "mimetype": "text/x-python",
   "name": "python",
   "nbconvert_exporter": "python",
   "pygments_lexer": "ipython3",
   "version": "3.12.4"
  }
 },
 "nbformat": 4,
 "nbformat_minor": 2
}
