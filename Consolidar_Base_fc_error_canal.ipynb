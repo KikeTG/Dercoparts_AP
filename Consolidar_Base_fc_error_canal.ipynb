{
 "cells": [
  {
   "cell_type": "code",
   "execution_count": 1,
   "metadata": {},
   "outputs": [
    {
     "name": "stdout",
     "output_type": "stream",
     "text": [
      "Archivo Excel concatenado guardado en: C:\\Users\\etorres.DERCOPARTS\\DERCO CHILE REPUESTOS SpA\\Planificación y abastecimiento - Documentos\\KPI\\Forecast Error (Python)\\AFM\\Base x Canal\\BASE_FC_ERROR_CANAL_CONCATENADO.xlsx\n"
     ]
    }
   ],
   "source": [
    "import pandas as pd\n",
    "import os\n",
    "\n",
    "# Lista de archivos Excel\n",
    "archivos_excel = [\n",
    "    r\"C:\\Users\\etorres.DERCOPARTS\\DERCO CHILE REPUESTOS SpA\\Planificación y abastecimiento - Documentos\\KPI\\Forecast Error (Python)\\AFM\\Base x Canal\\BASE FC ERROR CANAL Abril.xlsx\",\n",
    "    r\"C:\\Users\\etorres.DERCOPARTS\\DERCO CHILE REPUESTOS SpA\\Planificación y abastecimiento - Documentos\\KPI\\Forecast Error (Python)\\AFM\\Base x Canal\\BASE FC ERROR CANAL Agosto.xlsx\",\n",
    "    r\"C:\\Users\\etorres.DERCOPARTS\\DERCO CHILE REPUESTOS SpA\\Planificación y abastecimiento - Documentos\\KPI\\Forecast Error (Python)\\AFM\\Base x Canal\\BASE FC ERROR CANAL Diciembre.xlsx\",\n",
    "    r\"C:\\Users\\etorres.DERCOPARTS\\DERCO CHILE REPUESTOS SpA\\Planificación y abastecimiento - Documentos\\KPI\\Forecast Error (Python)\\AFM\\Base x Canal\\BASE FC ERROR CANAL Enero.xlsx\",\n",
    "    r\"C:\\Users\\etorres.DERCOPARTS\\DERCO CHILE REPUESTOS SpA\\Planificación y abastecimiento - Documentos\\KPI\\Forecast Error (Python)\\AFM\\Base x Canal\\BASE FC ERROR CANAL Febrero.xlsx\",\n",
    "    r\"C:\\Users\\etorres.DERCOPARTS\\DERCO CHILE REPUESTOS SpA\\Planificación y abastecimiento - Documentos\\KPI\\Forecast Error (Python)\\AFM\\Base x Canal\\BASE FC ERROR CANAL Julio.xlsx\",\n",
    "    r\"C:\\Users\\etorres.DERCOPARTS\\DERCO CHILE REPUESTOS SpA\\Planificación y abastecimiento - Documentos\\KPI\\Forecast Error (Python)\\AFM\\Base x Canal\\BASE FC ERROR CANAL Junio.xlsx\",\n",
    "    r\"C:\\Users\\etorres.DERCOPARTS\\DERCO CHILE REPUESTOS SpA\\Planificación y abastecimiento - Documentos\\KPI\\Forecast Error (Python)\\AFM\\Base x Canal\\BASE FC ERROR CANAL Marzo.xlsx\",\n",
    "    r\"C:\\Users\\etorres.DERCOPARTS\\DERCO CHILE REPUESTOS SpA\\Planificación y abastecimiento - Documentos\\KPI\\Forecast Error (Python)\\AFM\\Base x Canal\\BASE FC ERROR CANAL Mayo.xlsx\",\n",
    "    r\"C:\\Users\\etorres.DERCOPARTS\\DERCO CHILE REPUESTOS SpA\\Planificación y abastecimiento - Documentos\\KPI\\Forecast Error (Python)\\AFM\\Base x Canal\\BASE FC ERROR CANAL Noviembre.xlsx\"\n",
    "]\n",
    "\n",
    "# Lista para almacenar los DataFrames\n",
    "dfs = []\n",
    "\n",
    "for archivo in archivos_excel:\n",
    "    # Leer el archivo Excel\n",
    "    df_temp = pd.read_excel(archivo)\n",
    "    \n",
    "    # Extraer el mes del nombre del archivo\n",
    "    mes = os.path.basename(archivo).split()[-1].replace('.xlsx', '')\n",
    "    \n",
    "    # Crear la columna Fecha_Concat\n",
    "    df_temp['Fecha_Concat'] = f'CANAL {mes}'\n",
    "    \n",
    "    # Añadir el DataFrame a la lista\n",
    "    dfs.append(df_temp)\n",
    "\n",
    "# Concatenar todos los DataFrames en uno solo\n",
    "df_concatenado = pd.concat(dfs, ignore_index=True)\n",
    "\n",
    "# Guardar el DataFrame concatenado en un nuevo archivo Excel\n",
    "ruta_guardado = r\"C:\\Users\\etorres.DERCOPARTS\\DERCO CHILE REPUESTOS SpA\\Planificación y abastecimiento - Documentos\\KPI\\Forecast Error (Python)\\AFM\\Base x Canal\\BASE_FC_ERROR_CANAL_CONCATENADO.xlsx\"\n",
    "df_concatenado.to_excel(ruta_guardado, index=False)\n",
    "\n",
    "# Mostrar la ruta donde se guardó el archivo\n",
    "print(f\"Archivo Excel concatenado guardado en: {ruta_guardado}\")\n"
   ]
  }
 ],
 "metadata": {
  "kernelspec": {
   "display_name": "Python 3",
   "language": "python",
   "name": "python3"
  },
  "language_info": {
   "codemirror_mode": {
    "name": "ipython",
    "version": 3
   },
   "file_extension": ".py",
   "mimetype": "text/x-python",
   "name": "python",
   "nbconvert_exporter": "python",
   "pygments_lexer": "ipython3",
   "version": "3.12.4"
  }
 },
 "nbformat": 4,
 "nbformat_minor": 2
}
