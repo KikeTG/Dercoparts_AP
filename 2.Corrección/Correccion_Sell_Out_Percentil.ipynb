{
 "cells": [
  {
   "cell_type": "code",
   "execution_count": 1,
   "metadata": {},
   "outputs": [
    {
     "name": "stdout",
     "output_type": "stream",
     "text": [
      "(1400061, 10)\n",
      "Mes               datetime64[ns]\n",
      "Material                  object\n",
      "Canal                     object\n",
      "Venta UMB                float64\n",
      "Fuente                    object\n",
      "Ultimo Eslabón            object\n",
      "Tipo                      object\n",
      "Canal 2                   object\n",
      "Nombre Sector             object\n",
      "Canal 3                   object\n",
      "dtype: object\n"
     ]
    }
   ],
   "source": [
    "import os\n",
    "from datetime import datetime\n",
    "import pandas as pd\n",
    "\n",
    "usuario = os.getlogin()\n",
    "\n",
    "ruta_manual = os.path.join(\n",
    "    os.path.expanduser('~'),\n",
    "    'DERCO CHILE REPUESTOS SpA',\n",
    "    'Planificación y abastecimiento - Documentos',\n",
    "    'Planificación y Compras AFM',\n",
    "    'S&OP Demanda',\n",
    "    'Codigos Demanda',\n",
    "    'Parquets',\n",
    "    'Historia_Sell_Out.parquet'\n",
    ")\n",
    "\n",
    "two_months_ago = (datetime.now() - pd.DateOffset(months=2)).strftime('%Y-%m')\n",
    "\n",
    "ruta_automatica = os.path.join(\n",
    "    os.path.expanduser('~'),\n",
    "    'DERCO CHILE REPUESTOS SpA',\n",
    "    'Planificación y abastecimiento - Documentos',\n",
    "    'Planificación y Compras AFM',\n",
    "    'S&OP Demanda',\n",
    "    'Codigos Demanda',\n",
    "    'Parquets',\n",
    "    f'Historia_Sell_Out ({two_months_ago}).parquet'\n",
    ")\n",
    "\n",
    "sellout_concat = pd.read_parquet(ruta_automatica)\n",
    "\n",
    "print(sellout_concat.shape)\n",
    "print(sellout_concat.dtypes)\n",
    "# (1349525, 11) SHAPE\n",
    "# Canal                     object\n",
    "# Material                  object\n",
    "# Venta UMB                float64\n",
    "# Mes               datetime64[ns]\n",
    "# SI/SO                     object\n",
    "# Ultimo Eslabón            object\n",
    "# Tipo                      object\n",
    "# Fuente                    object\n",
    "# Canal 2                   object\n",
    "# Canal 3                   object\n",
    "# Canal 2                   object\n",
    "# dtype: object"
   ]
  },
  {
   "cell_type": "code",
   "execution_count": 2,
   "metadata": {},
   "outputs": [
    {
     "data": {
      "text/html": [
       "<div>\n",
       "<style scoped>\n",
       "    .dataframe tbody tr th:only-of-type {\n",
       "        vertical-align: middle;\n",
       "    }\n",
       "\n",
       "    .dataframe tbody tr th {\n",
       "        vertical-align: top;\n",
       "    }\n",
       "\n",
       "    .dataframe thead th {\n",
       "        text-align: right;\n",
       "    }\n",
       "</style>\n",
       "<table border=\"1\" class=\"dataframe\">\n",
       "  <thead>\n",
       "    <tr style=\"text-align: right;\">\n",
       "      <th></th>\n",
       "      <th>Mes</th>\n",
       "      <th>Material</th>\n",
       "      <th>Canal</th>\n",
       "      <th>Venta UMB</th>\n",
       "      <th>Fuente</th>\n",
       "      <th>Ultimo Eslabón</th>\n",
       "      <th>Tipo</th>\n",
       "      <th>Canal 2</th>\n",
       "      <th>Nombre Sector</th>\n",
       "      <th>Canal 3</th>\n",
       "    </tr>\n",
       "  </thead>\n",
       "  <tbody>\n",
       "    <tr>\n",
       "      <th>0</th>\n",
       "      <td>2021-06-01</td>\n",
       "      <td>1000147</td>\n",
       "      <td>AP</td>\n",
       "      <td>52.0</td>\n",
       "      <td>Sell Out MB51 - SISO</td>\n",
       "      <td>1000147</td>\n",
       "      <td>ACC</td>\n",
       "      <td>Retail</td>\n",
       "      <td>ACC</td>\n",
       "      <td>CL RETAIL</td>\n",
       "    </tr>\n",
       "    <tr>\n",
       "      <th>1</th>\n",
       "      <td>2021-05-01</td>\n",
       "      <td>1000147</td>\n",
       "      <td>AP</td>\n",
       "      <td>40.0</td>\n",
       "      <td>Sell Out MB51 - SISO</td>\n",
       "      <td>1000147</td>\n",
       "      <td>ACC</td>\n",
       "      <td>Retail</td>\n",
       "      <td>ACC</td>\n",
       "      <td>CL RETAIL</td>\n",
       "    </tr>\n",
       "    <tr>\n",
       "      <th>2</th>\n",
       "      <td>2021-04-01</td>\n",
       "      <td>1000147</td>\n",
       "      <td>AP</td>\n",
       "      <td>18.0</td>\n",
       "      <td>Sell Out MB51 - SISO</td>\n",
       "      <td>1000147</td>\n",
       "      <td>ACC</td>\n",
       "      <td>Retail</td>\n",
       "      <td>ACC</td>\n",
       "      <td>CL RETAIL</td>\n",
       "    </tr>\n",
       "    <tr>\n",
       "      <th>3</th>\n",
       "      <td>2021-03-01</td>\n",
       "      <td>1000147</td>\n",
       "      <td>AP</td>\n",
       "      <td>34.0</td>\n",
       "      <td>Sell Out MB51 - SISO</td>\n",
       "      <td>1000147</td>\n",
       "      <td>ACC</td>\n",
       "      <td>Retail</td>\n",
       "      <td>ACC</td>\n",
       "      <td>CL RETAIL</td>\n",
       "    </tr>\n",
       "    <tr>\n",
       "      <th>4</th>\n",
       "      <td>2021-02-01</td>\n",
       "      <td>1000147</td>\n",
       "      <td>AP</td>\n",
       "      <td>41.0</td>\n",
       "      <td>Sell Out MB51 - SISO</td>\n",
       "      <td>1000147</td>\n",
       "      <td>ACC</td>\n",
       "      <td>Retail</td>\n",
       "      <td>ACC</td>\n",
       "      <td>CL RETAIL</td>\n",
       "    </tr>\n",
       "    <tr>\n",
       "      <th>...</th>\n",
       "      <td>...</td>\n",
       "      <td>...</td>\n",
       "      <td>...</td>\n",
       "      <td>...</td>\n",
       "      <td>...</td>\n",
       "      <td>...</td>\n",
       "      <td>...</td>\n",
       "      <td>...</td>\n",
       "      <td>...</td>\n",
       "      <td>...</td>\n",
       "    </tr>\n",
       "    <tr>\n",
       "      <th>1400056</th>\n",
       "      <td>2024-08-01</td>\n",
       "      <td>638773</td>\n",
       "      <td>Retail</td>\n",
       "      <td>2.0</td>\n",
       "      <td>Sell Out RTL Ago-24</td>\n",
       "      <td>638772</td>\n",
       "      <td>None</td>\n",
       "      <td>Retail</td>\n",
       "      <td>Suzuki</td>\n",
       "      <td>CL RETAIL</td>\n",
       "    </tr>\n",
       "    <tr>\n",
       "      <th>1400057</th>\n",
       "      <td>2024-08-01</td>\n",
       "      <td>645539</td>\n",
       "      <td>Retail</td>\n",
       "      <td>1.0</td>\n",
       "      <td>Sell Out RTL Ago-24</td>\n",
       "      <td>645539</td>\n",
       "      <td>None</td>\n",
       "      <td>Retail</td>\n",
       "      <td>Suzuki</td>\n",
       "      <td>CL RETAIL</td>\n",
       "    </tr>\n",
       "    <tr>\n",
       "      <th>1400058</th>\n",
       "      <td>2024-08-01</td>\n",
       "      <td>646167</td>\n",
       "      <td>Retail</td>\n",
       "      <td>2.0</td>\n",
       "      <td>Sell Out RTL Ago-24</td>\n",
       "      <td>1070275</td>\n",
       "      <td>None</td>\n",
       "      <td>Retail</td>\n",
       "      <td>Renault</td>\n",
       "      <td>CL RETAIL</td>\n",
       "    </tr>\n",
       "    <tr>\n",
       "      <th>1400059</th>\n",
       "      <td>2024-08-01</td>\n",
       "      <td>654150</td>\n",
       "      <td>Retail</td>\n",
       "      <td>2.0</td>\n",
       "      <td>Sell Out RTL Ago-24</td>\n",
       "      <td>654150</td>\n",
       "      <td>None</td>\n",
       "      <td>Retail</td>\n",
       "      <td>Suzuki</td>\n",
       "      <td>CL RETAIL</td>\n",
       "    </tr>\n",
       "    <tr>\n",
       "      <th>1400060</th>\n",
       "      <td>2024-08-01</td>\n",
       "      <td>656348</td>\n",
       "      <td>Retail</td>\n",
       "      <td>2.0</td>\n",
       "      <td>Sell Out RTL Ago-24</td>\n",
       "      <td>656348</td>\n",
       "      <td>None</td>\n",
       "      <td>Retail</td>\n",
       "      <td>Suzuki</td>\n",
       "      <td>CL RETAIL</td>\n",
       "    </tr>\n",
       "  </tbody>\n",
       "</table>\n",
       "<p>1400061 rows × 10 columns</p>\n",
       "</div>"
      ],
      "text/plain": [
       "               Mes Material   Canal  Venta UMB                Fuente  \\\n",
       "0       2021-06-01  1000147      AP       52.0  Sell Out MB51 - SISO   \n",
       "1       2021-05-01  1000147      AP       40.0  Sell Out MB51 - SISO   \n",
       "2       2021-04-01  1000147      AP       18.0  Sell Out MB51 - SISO   \n",
       "3       2021-03-01  1000147      AP       34.0  Sell Out MB51 - SISO   \n",
       "4       2021-02-01  1000147      AP       41.0  Sell Out MB51 - SISO   \n",
       "...            ...      ...     ...        ...                   ...   \n",
       "1400056 2024-08-01   638773  Retail        2.0   Sell Out RTL Ago-24   \n",
       "1400057 2024-08-01   645539  Retail        1.0   Sell Out RTL Ago-24   \n",
       "1400058 2024-08-01   646167  Retail        2.0   Sell Out RTL Ago-24   \n",
       "1400059 2024-08-01   654150  Retail        2.0   Sell Out RTL Ago-24   \n",
       "1400060 2024-08-01   656348  Retail        2.0   Sell Out RTL Ago-24   \n",
       "\n",
       "        Ultimo Eslabón  Tipo Canal 2 Nombre Sector    Canal 3  \n",
       "0              1000147   ACC  Retail           ACC  CL RETAIL  \n",
       "1              1000147   ACC  Retail           ACC  CL RETAIL  \n",
       "2              1000147   ACC  Retail           ACC  CL RETAIL  \n",
       "3              1000147   ACC  Retail           ACC  CL RETAIL  \n",
       "4              1000147   ACC  Retail           ACC  CL RETAIL  \n",
       "...                ...   ...     ...           ...        ...  \n",
       "1400056         638772  None  Retail        Suzuki  CL RETAIL  \n",
       "1400057         645539  None  Retail        Suzuki  CL RETAIL  \n",
       "1400058        1070275  None  Retail       Renault  CL RETAIL  \n",
       "1400059         654150  None  Retail        Suzuki  CL RETAIL  \n",
       "1400060         656348  None  Retail        Suzuki  CL RETAIL  \n",
       "\n",
       "[1400061 rows x 10 columns]"
      ]
     },
     "execution_count": 2,
     "metadata": {},
     "output_type": "execute_result"
    }
   ],
   "source": [
    "sellout_concat"
   ]
  },
  {
   "cell_type": "markdown",
   "metadata": {},
   "source": [
    "Historia Terminada, agregando SellOUT GT y luego Sellout"
   ]
  },
  {
   "cell_type": "code",
   "execution_count": 3,
   "metadata": {},
   "outputs": [
    {
     "name": "stdout",
     "output_type": "stream",
     "text": [
      "Se leyó el archivo de Sell Out: C:\\Users\\etorres.DERCOPARTS\\DERCO CHILE REPUESTOS SpA\\Planificación y abastecimiento - Documentos\\Planificación y Compras Ventas\\Venta Historica Mensual\\2024\\2024-10\\2024.10 Sell Out GT Histórico Sept-24.xlsx\n"
     ]
    }
   ],
   "source": [
    "import os\n",
    "import pandas as pd\n",
    "import datetime as datetime\n",
    "# Obtener el año y mes actual en el formato YYYY y MM\n",
    "fecha_actual = pd.Timestamp.now()\n",
    "año_actual = fecha_actual.year\n",
    "mes_actual = fecha_actual.strftime(\"%m\")\n",
    "\n",
    "# Construir la ruta completa al directorio que contiene los archivos\n",
    "ruta_base_usuario = os.path.expanduser(\"~\")\n",
    "ruta_directorio_base = os.path.join(ruta_base_usuario, \"DERCO CHILE REPUESTOS SpA\", \"Planificación y abastecimiento - Documentos\", \"Planificación y Compras Ventas\", \"Venta Historica Mensual\")\n",
    "ruta_directorio = os.path.join(ruta_directorio_base, str(año_actual), f\"{año_actual}-{mes_actual}\")\n",
    "\n",
    "# Verificar si el directorio existe\n",
    "if os.path.exists(ruta_directorio):\n",
    "    archivo_selloutGT = None\n",
    "    for archivoGT in os.listdir(ruta_directorio):\n",
    "        if \"Sell Out\" in archivoGT and \"GT\" in archivoGT:\n",
    "            archivo_selloutGT = archivoGT\n",
    "            break\n",
    "\n",
    "    if archivo_selloutGT:\n",
    "        ruta_archivo_selloutGT = os.path.join(ruta_directorio, archivo_selloutGT)\n",
    "        try:\n",
    "            # Leer el archivo de Excel desde la tercera fila como encabezado\n",
    "            selloutGT = pd.read_excel(ruta_archivo_selloutGT, sheet_name=\"Sell Out GT\", header=2)\n",
    "            print(\"Se leyó el archivo de Sell Out:\", ruta_archivo_selloutGT)\n",
    "        except Exception as e:\n",
    "            print(\"Error al leer el archivo de Excel:\", e)\n",
    "    else:\n",
    "        print(\"No se encontró ningún archivo con 'Sell Out' en su nombre.\")\n",
    "else:\n",
    "    print(f\"El directorio {ruta_directorio} no existe.\")\n"
   ]
  },
  {
   "cell_type": "code",
   "execution_count": 4,
   "metadata": {},
   "outputs": [
    {
     "data": {
      "text/plain": [
       "61703156.08033333"
      ]
     },
     "execution_count": 4,
     "metadata": {},
     "output_type": "execute_result"
    }
   ],
   "source": [
    "sumaconcat = sellout_concat['Venta UMB'].sum()\n",
    "sumaconcat\n",
    "#58.554.466\n",
    "#61703156.08033333 oct"
   ]
  },
  {
   "cell_type": "code",
   "execution_count": 5,
   "metadata": {},
   "outputs": [
    {
     "data": {
      "text/html": [
       "<div>\n",
       "<style scoped>\n",
       "    .dataframe tbody tr th:only-of-type {\n",
       "        vertical-align: middle;\n",
       "    }\n",
       "\n",
       "    .dataframe tbody tr th {\n",
       "        vertical-align: top;\n",
       "    }\n",
       "\n",
       "    .dataframe thead th {\n",
       "        text-align: right;\n",
       "    }\n",
       "</style>\n",
       "<table border=\"1\" class=\"dataframe\">\n",
       "  <thead>\n",
       "    <tr style=\"text-align: right;\">\n",
       "      <th></th>\n",
       "      <th>Material S4</th>\n",
       "      <th>Cliente</th>\n",
       "      <th>SO Nov-22</th>\n",
       "      <th>SO Dic-22</th>\n",
       "      <th>SO Ene-23</th>\n",
       "      <th>SO Feb-23</th>\n",
       "      <th>SO Mar-23</th>\n",
       "      <th>SO Abr-23</th>\n",
       "      <th>SO May-23</th>\n",
       "      <th>SO JUN-23</th>\n",
       "      <th>...</th>\n",
       "      <th>SO ENE-24</th>\n",
       "      <th>SO FEB-24</th>\n",
       "      <th>SO MAR-24</th>\n",
       "      <th>SO ABR-24</th>\n",
       "      <th>SO MAY-24</th>\n",
       "      <th>SO JUN-24</th>\n",
       "      <th>SO JUL-24</th>\n",
       "      <th>SO AGO-24</th>\n",
       "      <th>SO SEPT-24</th>\n",
       "      <th>ID</th>\n",
       "    </tr>\n",
       "  </thead>\n",
       "  <tbody>\n",
       "    <tr>\n",
       "      <th>0</th>\n",
       "      <td>1001562</td>\n",
       "      <td>Walmart</td>\n",
       "      <td>0.0</td>\n",
       "      <td>0.0</td>\n",
       "      <td>0.0</td>\n",
       "      <td>0.0</td>\n",
       "      <td>0.0</td>\n",
       "      <td>0.0</td>\n",
       "      <td>0.0</td>\n",
       "      <td>0.0</td>\n",
       "      <td>...</td>\n",
       "      <td>0.0</td>\n",
       "      <td>0.0</td>\n",
       "      <td>0.0</td>\n",
       "      <td>0.0</td>\n",
       "      <td>0.0</td>\n",
       "      <td>0.0</td>\n",
       "      <td>0.0</td>\n",
       "      <td>0.0</td>\n",
       "      <td>0</td>\n",
       "      <td>1001562Walmart</td>\n",
       "    </tr>\n",
       "  </tbody>\n",
       "</table>\n",
       "<p>1 rows × 26 columns</p>\n",
       "</div>"
      ],
      "text/plain": [
       "  Material S4  Cliente  SO Nov-22  SO Dic-22  SO Ene-23  SO Feb-23  SO Mar-23  \\\n",
       "0     1001562  Walmart        0.0        0.0        0.0        0.0        0.0   \n",
       "\n",
       "   SO Abr-23  SO May-23  SO JUN-23  ...  SO ENE-24  SO FEB-24  SO MAR-24  \\\n",
       "0        0.0        0.0        0.0  ...        0.0        0.0        0.0   \n",
       "\n",
       "   SO ABR-24  SO MAY-24  SO JUN-24  SO JUL-24  SO AGO-24  SO SEPT-24  \\\n",
       "0        0.0        0.0        0.0        0.0        0.0           0   \n",
       "\n",
       "               ID  \n",
       "0  1001562Walmart  \n",
       "\n",
       "[1 rows x 26 columns]"
      ]
     },
     "execution_count": 5,
     "metadata": {},
     "output_type": "execute_result"
    }
   ],
   "source": [
    "selloutGT.head(1)"
   ]
  },
  {
   "cell_type": "code",
   "execution_count": 6,
   "metadata": {},
   "outputs": [
    {
     "data": {
      "text/html": [
       "<div>\n",
       "<style scoped>\n",
       "    .dataframe tbody tr th:only-of-type {\n",
       "        vertical-align: middle;\n",
       "    }\n",
       "\n",
       "    .dataframe tbody tr th {\n",
       "        vertical-align: top;\n",
       "    }\n",
       "\n",
       "    .dataframe thead th {\n",
       "        text-align: right;\n",
       "    }\n",
       "</style>\n",
       "<table border=\"1\" class=\"dataframe\">\n",
       "  <thead>\n",
       "    <tr style=\"text-align: right;\">\n",
       "      <th></th>\n",
       "      <th>SO SEPT-24</th>\n",
       "      <th>ID</th>\n",
       "      <th>Material S4</th>\n",
       "      <th>Cliente</th>\n",
       "    </tr>\n",
       "  </thead>\n",
       "  <tbody>\n",
       "    <tr>\n",
       "      <th>0</th>\n",
       "      <td>0</td>\n",
       "      <td>1001562Walmart</td>\n",
       "      <td>1001562</td>\n",
       "      <td>Walmart</td>\n",
       "    </tr>\n",
       "  </tbody>\n",
       "</table>\n",
       "</div>"
      ],
      "text/plain": [
       "   SO SEPT-24              ID Material S4  Cliente\n",
       "0           0  1001562Walmart     1001562  Walmart"
      ]
     },
     "execution_count": 6,
     "metadata": {},
     "output_type": "execute_result"
    }
   ],
   "source": [
    "# Asumiendo que selloutGT ya ha sido leído correctamente en el DataFrame\n",
    "\n",
    "# Reordenar las columnas para que la penúltima, última, primera y segunda sean las únicas que permanezcan\n",
    "columnas_a_mantener = [selloutGT.columns[-2], selloutGT.columns[-1], selloutGT.columns[0], selloutGT.columns[1]]\n",
    "selloutGT1 = selloutGT[columnas_a_mantener]\n",
    "selloutGT1.head(1)"
   ]
  },
  {
   "cell_type": "code",
   "execution_count": 7,
   "metadata": {},
   "outputs": [
    {
     "name": "stdout",
     "output_type": "stream",
     "text": [
      "Muestra del DataFrame:\n",
      "   Venta           ID Material S4 Cliente\n",
      "5    207  1004224Easy     1004224    Easy\n",
      "\n",
      "Suma de la columna 'Venta': 136282\n"
     ]
    }
   ],
   "source": [
    "# Renombrar la primera columna a 'Venta' y convertirla a tipo int\n",
    "selloutGT1 = selloutGT1.rename(columns={selloutGT1.columns[0]: 'Venta'})\n",
    "selloutGT1.loc[:, 'Venta'] = selloutGT1['Venta'].astype(int)\n",
    "\n",
    "# Filtrar solo los valores mayores a 0\n",
    "selloutGT1 = selloutGT1[selloutGT1['Venta'] > 0].copy()\n",
    "\n",
    "# Mostrar una muestra del DataFrame y la suma de la columna 'Venta'\n",
    "muestra = selloutGT1.head(1)  # Muestra de los primeros 5 registros\n",
    "suma_ventas = selloutGT1['Venta'].sum()\n",
    "\n",
    "print(\"Muestra del DataFrame:\")\n",
    "print(muestra)\n",
    "print(f\"\\nSuma de la columna 'Venta': {suma_ventas}\")"
   ]
  },
  {
   "cell_type": "code",
   "execution_count": 8,
   "metadata": {},
   "outputs": [
    {
     "name": "stdout",
     "output_type": "stream",
     "text": [
      "Muestra del DataFrame:\n",
      "   Venta           ID Material S4 Cliente\n",
      "5    207  1004224Easy     1004224    Easy\n",
      "\n",
      "Suma de la columna 'Venta': 68141\n"
     ]
    }
   ],
   "source": [
    "selloutGT1 = selloutGT1[~selloutGT1['Material S4'].str.contains('Total', case=False, na=False)]\n",
    "# Mostrar el DataFrame resultante\n",
    "suma_ventas = selloutGT1['Venta'].sum()\n",
    "\n",
    "print(\"Muestra del DataFrame:\")\n",
    "print(muestra)\n",
    "print(f\"\\nSuma de la columna 'Venta': {suma_ventas}\")"
   ]
  },
  {
   "cell_type": "code",
   "execution_count": 9,
   "metadata": {},
   "outputs": [
    {
     "data": {
      "text/plain": [
       "(269, 4)"
      ]
     },
     "execution_count": 9,
     "metadata": {},
     "output_type": "execute_result"
    }
   ],
   "source": [
    "selloutGT1.shape"
   ]
  },
  {
   "cell_type": "code",
   "execution_count": 10,
   "metadata": {},
   "outputs": [
    {
     "data": {
      "text/html": [
       "<div>\n",
       "<style scoped>\n",
       "    .dataframe tbody tr th:only-of-type {\n",
       "        vertical-align: middle;\n",
       "    }\n",
       "\n",
       "    .dataframe tbody tr th {\n",
       "        vertical-align: top;\n",
       "    }\n",
       "\n",
       "    .dataframe thead th {\n",
       "        text-align: right;\n",
       "    }\n",
       "</style>\n",
       "<table border=\"1\" class=\"dataframe\">\n",
       "  <thead>\n",
       "    <tr style=\"text-align: right;\">\n",
       "      <th></th>\n",
       "      <th>Venta</th>\n",
       "      <th>ID</th>\n",
       "      <th>Material S4</th>\n",
       "      <th>Cliente</th>\n",
       "      <th>Fuente</th>\n",
       "      <th>SI/SO</th>\n",
       "      <th>Mes</th>\n",
       "    </tr>\n",
       "  </thead>\n",
       "  <tbody>\n",
       "    <tr>\n",
       "      <th>5</th>\n",
       "      <td>207</td>\n",
       "      <td>1004224Easy</td>\n",
       "      <td>1004224</td>\n",
       "      <td>Easy</td>\n",
       "      <td>Sell Out MB51 - SISO</td>\n",
       "      <td>SO</td>\n",
       "      <td>2024-09-01</td>\n",
       "    </tr>\n",
       "  </tbody>\n",
       "</table>\n",
       "</div>"
      ],
      "text/plain": [
       "   Venta           ID Material S4 Cliente                Fuente SI/SO  \\\n",
       "5    207  1004224Easy     1004224    Easy  Sell Out MB51 - SISO    SO   \n",
       "\n",
       "          Mes  \n",
       "5  2024-09-01  "
      ]
     },
     "execution_count": 10,
     "metadata": {},
     "output_type": "execute_result"
    }
   ],
   "source": [
    "import pandas as pd\n",
    "from datetime import datetime, timedelta\n",
    "# Agregar las nuevas columnas utilizando .loc para evitar SettingWithCopyWarning\n",
    "selloutGT1.loc[:, 'Fuente'] = 'Sell Out MB51 - SISO'\n",
    "selloutGT1.loc[:, 'SI/SO'] = 'SO'\n",
    "\n",
    "# Calcular el primer día del mes anterior\n",
    "primer_dia_mes_anterior = (fecha_actual.replace(day=1) - timedelta(days=1)).replace(day=1)\n",
    "\n",
    "# Crear una columna 'Mes' con el formato especificado\n",
    "selloutGT1.loc[:, 'Mes'] = primer_dia_mes_anterior.strftime('%Y-%m-%d')\n",
    "selloutGT1.head(1)"
   ]
  },
  {
   "cell_type": "code",
   "execution_count": 11,
   "metadata": {},
   "outputs": [
    {
     "data": {
      "text/plain": [
       "Venta           int64\n",
       "ID             object\n",
       "Material S4    object\n",
       "Cliente        object\n",
       "Fuente         object\n",
       "SI/SO          object\n",
       "Mes            object\n",
       "dtype: object"
      ]
     },
     "execution_count": 11,
     "metadata": {},
     "output_type": "execute_result"
    }
   ],
   "source": [
    "selloutGT1.dtypes"
   ]
  },
  {
   "cell_type": "code",
   "execution_count": 12,
   "metadata": {},
   "outputs": [
    {
     "data": {
      "text/html": [
       "<div>\n",
       "<style scoped>\n",
       "    .dataframe tbody tr th:only-of-type {\n",
       "        vertical-align: middle;\n",
       "    }\n",
       "\n",
       "    .dataframe tbody tr th {\n",
       "        vertical-align: top;\n",
       "    }\n",
       "\n",
       "    .dataframe thead th {\n",
       "        text-align: right;\n",
       "    }\n",
       "</style>\n",
       "<table border=\"1\" class=\"dataframe\">\n",
       "  <thead>\n",
       "    <tr style=\"text-align: right;\">\n",
       "      <th></th>\n",
       "      <th>Mes</th>\n",
       "      <th>Material</th>\n",
       "      <th>Canal</th>\n",
       "      <th>Venta UMB</th>\n",
       "      <th>Fuente</th>\n",
       "      <th>Ultimo Eslabón</th>\n",
       "      <th>Tipo</th>\n",
       "      <th>Canal 2</th>\n",
       "      <th>Nombre Sector</th>\n",
       "      <th>Canal 3</th>\n",
       "    </tr>\n",
       "  </thead>\n",
       "  <tbody>\n",
       "    <tr>\n",
       "      <th>1400060</th>\n",
       "      <td>2024-08-01</td>\n",
       "      <td>656348</td>\n",
       "      <td>Retail</td>\n",
       "      <td>2.0</td>\n",
       "      <td>Sell Out RTL Ago-24</td>\n",
       "      <td>656348</td>\n",
       "      <td>None</td>\n",
       "      <td>Retail</td>\n",
       "      <td>Suzuki</td>\n",
       "      <td>CL RETAIL</td>\n",
       "    </tr>\n",
       "  </tbody>\n",
       "</table>\n",
       "</div>"
      ],
      "text/plain": [
       "               Mes Material   Canal  Venta UMB               Fuente  \\\n",
       "1400060 2024-08-01   656348  Retail        2.0  Sell Out RTL Ago-24   \n",
       "\n",
       "        Ultimo Eslabón  Tipo Canal 2 Nombre Sector    Canal 3  \n",
       "1400060         656348  None  Retail        Suzuki  CL RETAIL  "
      ]
     },
     "execution_count": 12,
     "metadata": {},
     "output_type": "execute_result"
    }
   ],
   "source": [
    "sellout_concat.tail(1)"
   ]
  },
  {
   "cell_type": "code",
   "execution_count": 13,
   "metadata": {},
   "outputs": [
    {
     "data": {
      "text/plain": [
       "68141"
      ]
     },
     "execution_count": 13,
     "metadata": {},
     "output_type": "execute_result"
    }
   ],
   "source": [
    "v1 = selloutGT1['Venta'].sum()\n",
    "v1"
   ]
  },
  {
   "cell_type": "code",
   "execution_count": 14,
   "metadata": {},
   "outputs": [
    {
     "data": {
      "text/plain": [
       "Index(['Mes', 'Material', 'Canal', 'Venta UMB', 'Fuente', 'Ultimo Eslabón',\n",
       "       'Tipo', 'Canal 2', 'Nombre Sector', 'Canal 3'],\n",
       "      dtype='object')"
      ]
     },
     "execution_count": 14,
     "metadata": {},
     "output_type": "execute_result"
    }
   ],
   "source": [
    "sellout_concat.columns"
   ]
  },
  {
   "cell_type": "code",
   "execution_count": 15,
   "metadata": {},
   "outputs": [
    {
     "data": {
      "text/plain": [
       "Index(['Venta', 'ID', 'Material S4', 'Cliente', 'Fuente', 'SI/SO', 'Mes'], dtype='object')"
      ]
     },
     "execution_count": 15,
     "metadata": {},
     "output_type": "execute_result"
    }
   ],
   "source": [
    "selloutGT1.columns"
   ]
  },
  {
   "cell_type": "code",
   "execution_count": 16,
   "metadata": {},
   "outputs": [
    {
     "data": {
      "text/plain": [
       "61703156.08033333"
      ]
     },
     "execution_count": 16,
     "metadata": {},
     "output_type": "execute_result"
    }
   ],
   "source": [
    "v1 = sellout_concat['Venta UMB'].sum()\n",
    "v1"
   ]
  },
  {
   "cell_type": "code",
   "execution_count": 17,
   "metadata": {},
   "outputs": [],
   "source": [
    "\n",
    "selloutGT1.rename(columns={'Material S4': 'Material', 'Venta': 'Venta UMB', 'Cliente': 'Canal'}, inplace=True)\n",
    "\n",
    "# Seleccionar todas las columnas de selloutGT1 que coincidan con las de sellout_concat\n",
    "columnas_comunes = [col for col in selloutGT1.columns if col in sellout_concat.columns]\n",
    "selloutGT1 = selloutGT1[columnas_comunes]"
   ]
  },
  {
   "cell_type": "code",
   "execution_count": 18,
   "metadata": {},
   "outputs": [
    {
     "data": {
      "text/plain": [
       "['Venta UMB', 'Material', 'Canal', 'Fuente', 'Mes']"
      ]
     },
     "execution_count": 18,
     "metadata": {},
     "output_type": "execute_result"
    }
   ],
   "source": [
    "columnas_comunes"
   ]
  },
  {
   "cell_type": "code",
   "execution_count": 19,
   "metadata": {},
   "outputs": [
    {
     "name": "stdout",
     "output_type": "stream",
     "text": [
      "DataFrame concatenado:\n",
      "         Mes Material Canal  Venta UMB                Fuente Ultimo Eslabón  \\\n",
      "0 2021-06-01  1000147    AP       52.0  Sell Out MB51 - SISO        1000147   \n",
      "\n",
      "  Tipo Canal 2 Nombre Sector    Canal 3  \n",
      "0  ACC  Retail           ACC  CL RETAIL  \n",
      "\n",
      "Suma de la columna 'Venta UMB': 61703156.08033333\n"
     ]
    }
   ],
   "source": [
    "\n",
    "suma_ventas = sellout_concat['Venta UMB'].sum()\n",
    "\n",
    "# Mostrar el DataFrame resultante y la suma de la columna 'Venta UMB'\n",
    "print(\"DataFrame concatenado:\")\n",
    "print(sellout_concat.head(1))\n",
    "print(f\"\\nSuma de la columna 'Venta UMB': {suma_ventas}\")\n"
   ]
  },
  {
   "cell_type": "code",
   "execution_count": 20,
   "metadata": {},
   "outputs": [
    {
     "data": {
      "text/plain": [
       "61703156.08033333"
      ]
     },
     "execution_count": 20,
     "metadata": {},
     "output_type": "execute_result"
    }
   ],
   "source": [
    "v3 = sellout_concat['Venta UMB'].sum()\n",
    "v3\n",
    "#58624420.08033333\n",
    "#59807395.08033334"
   ]
  },
  {
   "cell_type": "code",
   "execution_count": 21,
   "metadata": {},
   "outputs": [
    {
     "data": {
      "text/html": [
       "<div>\n",
       "<style scoped>\n",
       "    .dataframe tbody tr th:only-of-type {\n",
       "        vertical-align: middle;\n",
       "    }\n",
       "\n",
       "    .dataframe tbody tr th {\n",
       "        vertical-align: top;\n",
       "    }\n",
       "\n",
       "    .dataframe thead th {\n",
       "        text-align: right;\n",
       "    }\n",
       "</style>\n",
       "<table border=\"1\" class=\"dataframe\">\n",
       "  <thead>\n",
       "    <tr style=\"text-align: right;\">\n",
       "      <th></th>\n",
       "      <th>Mes</th>\n",
       "      <th>Material</th>\n",
       "      <th>Canal</th>\n",
       "      <th>Venta UMB</th>\n",
       "      <th>Fuente</th>\n",
       "      <th>Ultimo Eslabón</th>\n",
       "      <th>Tipo</th>\n",
       "      <th>Canal 2</th>\n",
       "      <th>Nombre Sector</th>\n",
       "      <th>Canal 3</th>\n",
       "    </tr>\n",
       "  </thead>\n",
       "  <tbody>\n",
       "    <tr>\n",
       "      <th>0</th>\n",
       "      <td>2021-06-01</td>\n",
       "      <td>1000147</td>\n",
       "      <td>AP</td>\n",
       "      <td>52.0</td>\n",
       "      <td>Sell Out MB51 - SISO</td>\n",
       "      <td>1000147</td>\n",
       "      <td>ACC</td>\n",
       "      <td>Retail</td>\n",
       "      <td>ACC</td>\n",
       "      <td>CL RETAIL</td>\n",
       "    </tr>\n",
       "    <tr>\n",
       "      <th>1</th>\n",
       "      <td>2021-05-01</td>\n",
       "      <td>1000147</td>\n",
       "      <td>AP</td>\n",
       "      <td>40.0</td>\n",
       "      <td>Sell Out MB51 - SISO</td>\n",
       "      <td>1000147</td>\n",
       "      <td>ACC</td>\n",
       "      <td>Retail</td>\n",
       "      <td>ACC</td>\n",
       "      <td>CL RETAIL</td>\n",
       "    </tr>\n",
       "  </tbody>\n",
       "</table>\n",
       "</div>"
      ],
      "text/plain": [
       "         Mes Material Canal  Venta UMB                Fuente Ultimo Eslabón  \\\n",
       "0 2021-06-01  1000147    AP       52.0  Sell Out MB51 - SISO        1000147   \n",
       "1 2021-05-01  1000147    AP       40.0  Sell Out MB51 - SISO        1000147   \n",
       "\n",
       "  Tipo Canal 2 Nombre Sector    Canal 3  \n",
       "0  ACC  Retail           ACC  CL RETAIL  \n",
       "1  ACC  Retail           ACC  CL RETAIL  "
      ]
     },
     "execution_count": 21,
     "metadata": {},
     "output_type": "execute_result"
    }
   ],
   "source": [
    "sellout_concat.head(2)"
   ]
  },
  {
   "cell_type": "code",
   "execution_count": 22,
   "metadata": {},
   "outputs": [
    {
     "data": {
      "text/html": [
       "<div>\n",
       "<style scoped>\n",
       "    .dataframe tbody tr th:only-of-type {\n",
       "        vertical-align: middle;\n",
       "    }\n",
       "\n",
       "    .dataframe tbody tr th {\n",
       "        vertical-align: top;\n",
       "    }\n",
       "\n",
       "    .dataframe thead th {\n",
       "        text-align: right;\n",
       "    }\n",
       "</style>\n",
       "<table border=\"1\" class=\"dataframe\">\n",
       "  <thead>\n",
       "    <tr style=\"text-align: right;\">\n",
       "      <th></th>\n",
       "      <th>Mes</th>\n",
       "      <th>Material</th>\n",
       "      <th>Canal</th>\n",
       "      <th>Venta UMB</th>\n",
       "      <th>Fuente</th>\n",
       "      <th>Ultimo Eslabón</th>\n",
       "      <th>Tipo</th>\n",
       "      <th>Canal 2</th>\n",
       "      <th>Nombre Sector</th>\n",
       "      <th>Canal 3</th>\n",
       "    </tr>\n",
       "  </thead>\n",
       "  <tbody>\n",
       "    <tr>\n",
       "      <th>1400059</th>\n",
       "      <td>2024-08-01</td>\n",
       "      <td>654150</td>\n",
       "      <td>Retail</td>\n",
       "      <td>2.0</td>\n",
       "      <td>Sell Out RTL Ago-24</td>\n",
       "      <td>654150</td>\n",
       "      <td>None</td>\n",
       "      <td>Retail</td>\n",
       "      <td>Suzuki</td>\n",
       "      <td>CL RETAIL</td>\n",
       "    </tr>\n",
       "    <tr>\n",
       "      <th>1400060</th>\n",
       "      <td>2024-08-01</td>\n",
       "      <td>656348</td>\n",
       "      <td>Retail</td>\n",
       "      <td>2.0</td>\n",
       "      <td>Sell Out RTL Ago-24</td>\n",
       "      <td>656348</td>\n",
       "      <td>None</td>\n",
       "      <td>Retail</td>\n",
       "      <td>Suzuki</td>\n",
       "      <td>CL RETAIL</td>\n",
       "    </tr>\n",
       "  </tbody>\n",
       "</table>\n",
       "</div>"
      ],
      "text/plain": [
       "               Mes Material   Canal  Venta UMB               Fuente  \\\n",
       "1400059 2024-08-01   654150  Retail        2.0  Sell Out RTL Ago-24   \n",
       "1400060 2024-08-01   656348  Retail        2.0  Sell Out RTL Ago-24   \n",
       "\n",
       "        Ultimo Eslabón  Tipo Canal 2 Nombre Sector    Canal 3  \n",
       "1400059         654150  None  Retail        Suzuki  CL RETAIL  \n",
       "1400060         656348  None  Retail        Suzuki  CL RETAIL  "
      ]
     },
     "execution_count": 22,
     "metadata": {},
     "output_type": "execute_result"
    }
   ],
   "source": [
    "sellout_concat.tail(2)"
   ]
  },
  {
   "cell_type": "markdown",
   "metadata": {},
   "source": [
    "leer solo sellout"
   ]
  },
  {
   "cell_type": "code",
   "execution_count": 23,
   "metadata": {},
   "outputs": [
    {
     "name": "stdout",
     "output_type": "stream",
     "text": [
      "Se leyó el archivo de Sell Out: C:\\Users\\etorres.DERCOPARTS\\DERCO CHILE REPUESTOS SpA\\Planificación y abastecimiento - Documentos\\Planificación y Compras Ventas\\Venta Historica Mensual\\2024\\2024-10\\2024.10 Sell Out MB51 RTL Septiembre S4.xlsx\n"
     ]
    }
   ],
   "source": [
    "# Obtener el año y mes actual en el formato YYYY y MM\n",
    "fecha_actual = pd.Timestamp.now()\n",
    "año_actual = fecha_actual.year\n",
    "mes_actual = fecha_actual.strftime(\"%m\")\n",
    "\n",
    "# Construir la ruta completa al directorio que contiene los archivos\n",
    "ruta_base_usuario = os.path.expanduser(\"~\")\n",
    "ruta_directorio_base = os.path.join(ruta_base_usuario, \"DERCO CHILE REPUESTOS SpA\", \"Planificación y abastecimiento - Documentos\", \"Planificación y Compras Ventas\", \"Venta Historica Mensual\")\n",
    "ruta_directorio = os.path.join(ruta_directorio_base, str(año_actual), f\"{año_actual}-{mes_actual}\")\n",
    "archivo_sellout = None\n",
    "for archivo in os.listdir(ruta_directorio):\n",
    "    if \"Sell Out\" in archivo and \"GT\" not in archivo:\n",
    "        archivo_sellout = archivo\n",
    "        break\n",
    "\n",
    "if archivo_sellout:\n",
    "    ruta_archivo_sellout = os.path.join(ruta_directorio, archivo_sellout)\n",
    "    sellout = pd.read_excel(ruta_archivo_sellout, sheet_name=\"Sheet1\")  # Leer la hoja \"Sheet1\"\n",
    "    print(\"Se leyó el archivo de Sell Out:\", ruta_archivo_sellout)\n",
    "else:\n",
    "    print(\"No se encontró ningún archivo con 'Sell Out' en su nombre.\")"
   ]
  },
  {
   "cell_type": "code",
   "execution_count": 24,
   "metadata": {},
   "outputs": [
    {
     "data": {
      "text/plain": [
       "Index(['Unnamed: 0', 'Unnamed: 1', 'Ce.', 'Material',\n",
       "       'Texto breve de material', 'CMv', 'Doc.mat.', 'Fe.contab.',\n",
       "       '   Ctd.en UME', 'UME', '     Importe ML', 'Mon.', 'Cantidad', 'Ctd.en',\n",
       "       'Ctd.UMPP', 'Pedido', 'Txt clase-mov.', 'UMP', 'UMB', 'UMP.1',\n",
       "       'Cliente', 'Ult.Eslabón', 'Nombre Sector', 'Sector_MU', 'Canal', 'Tipo',\n",
       "       'Forecast AFM', 'Forecast OEM', 'Venta UMB', 'Semana', 'Canal 2', 'ID'],\n",
       "      dtype='object')"
      ]
     },
     "execution_count": 24,
     "metadata": {},
     "output_type": "execute_result"
    }
   ],
   "source": [
    "sellout.columns"
   ]
  },
  {
   "cell_type": "code",
   "execution_count": 25,
   "metadata": {},
   "outputs": [
    {
     "data": {
      "text/plain": [
       "(355205, 32)"
      ]
     },
     "execution_count": 25,
     "metadata": {},
     "output_type": "execute_result"
    }
   ],
   "source": [
    "sellout.shape"
   ]
  },
  {
   "cell_type": "code",
   "execution_count": 26,
   "metadata": {},
   "outputs": [],
   "source": [
    "sellin = sellout"
   ]
  },
  {
   "cell_type": "code",
   "execution_count": 27,
   "metadata": {},
   "outputs": [
    {
     "data": {
      "text/plain": [
       "Index(['Unnamed: 0', 'Unnamed: 1', 'Ce.', 'Material',\n",
       "       'Texto breve de material', 'CMv', 'Doc.mat.', 'Fe.contab.',\n",
       "       '   Ctd.en UME', 'UME', '     Importe ML', 'Mon.', 'Cantidad', 'Ctd.en',\n",
       "       'Ctd.UMPP', 'Pedido', 'Txt clase-mov.', 'UMP', 'UMB', 'UMP.1',\n",
       "       'Cliente', 'Ult.Eslabón', 'Nombre Sector', 'Sector_MU', 'Canal', 'Tipo',\n",
       "       'Forecast AFM', 'Forecast OEM', 'Venta UMB', 'Semana', 'Canal 2', 'ID'],\n",
       "      dtype='object')"
      ]
     },
     "execution_count": 27,
     "metadata": {},
     "output_type": "execute_result"
    }
   ],
   "source": [
    "sellin.columns"
   ]
  },
  {
   "cell_type": "markdown",
   "metadata": {},
   "source": [
    "Achicar Sellin & SellOut"
   ]
  },
  {
   "cell_type": "code",
   "execution_count": 28,
   "metadata": {
    "metadata": {}
   },
   "outputs": [],
   "source": [
    "# sellout = sellout[['Ce.', 'Material', 'Texto breve de material', 'Fe.contab.', 'Cliente', 'Ult.EslabÃ³n', 'Nombre Sector', 'Canal', 'Tipo', 'Forecast AFM', 'Venta UMB', 'Semana ISO', 'Canal 2', 'ID']]\n",
    "sellin = sellin[['Ce.', 'Material', 'Texto breve de material', 'Fe.contab.', 'Cliente', 'Ult.Eslabón', 'Nombre Sector', 'Canal', 'Tipo', 'Forecast AFM', 'Venta UMB', 'Semana', 'Canal 2', 'ID']]"
   ]
  },
  {
   "cell_type": "code",
   "execution_count": 29,
   "metadata": {},
   "outputs": [],
   "source": [
    "# sellin_filtrado = sellin[sellin['Venta UMB'] >= 0]\n",
    "# sellin_filtrado.head(10)"
   ]
  },
  {
   "cell_type": "code",
   "execution_count": 30,
   "metadata": {
    "metadata": {}
   },
   "outputs": [],
   "source": [
    "df_sellin=sellin"
   ]
  },
  {
   "cell_type": "code",
   "execution_count": 31,
   "metadata": {},
   "outputs": [],
   "source": [
    "df_sellin = df_sellin.copy()\n",
    "df_sellin.rename(columns={'Ult.EslabÃ³n': 'Ult.Eslabón'}, inplace=True)"
   ]
  },
  {
   "cell_type": "code",
   "execution_count": 32,
   "metadata": {
    "metadata": {}
   },
   "outputs": [
    {
     "data": {
      "text/plain": [
       "Index(['Ce.', 'Material', 'Texto breve de material', 'Fe.contab.', 'Cliente',\n",
       "       'Ult.Eslabón', 'Nombre Sector', 'Canal', 'Tipo', 'Forecast AFM',\n",
       "       'Venta UMB', 'Semana', 'Canal 2', 'ID'],\n",
       "      dtype='object')"
      ]
     },
     "execution_count": 32,
     "metadata": {},
     "output_type": "execute_result"
    }
   ],
   "source": [
    "df_sellin.columns"
   ]
  },
  {
   "cell_type": "markdown",
   "metadata": {},
   "source": [
    "Esto hay que cambiarlo ya que el sellin semanal ya viene con Nuevo Canal como columna y el mensual igual debería "
   ]
  },
  {
   "cell_type": "code",
   "execution_count": 33,
   "metadata": {
    "metadata": {}
   },
   "outputs": [],
   "source": [
    "df_sellin = df_sellin.copy()\n",
    "# df_sellin.rename(columns={'Canal 2': 'Nuevo Canal'}, inplace=True)"
   ]
  },
  {
   "cell_type": "markdown",
   "metadata": {},
   "source": [
    "EVALUAR SI SE MODIFICA Y SE SACA EL FORECAST AFM = SI YA QUE MAS ADELANTES NOS QUEDAMOS CON LOS CANALES\""
   ]
  },
  {
   "cell_type": "code",
   "execution_count": 34,
   "metadata": {},
   "outputs": [
    {
     "data": {
      "text/html": [
       "<div>\n",
       "<style scoped>\n",
       "    .dataframe tbody tr th:only-of-type {\n",
       "        vertical-align: middle;\n",
       "    }\n",
       "\n",
       "    .dataframe tbody tr th {\n",
       "        vertical-align: top;\n",
       "    }\n",
       "\n",
       "    .dataframe thead th {\n",
       "        text-align: right;\n",
       "    }\n",
       "</style>\n",
       "<table border=\"1\" class=\"dataframe\">\n",
       "  <thead>\n",
       "    <tr style=\"text-align: right;\">\n",
       "      <th></th>\n",
       "      <th>Ce.</th>\n",
       "      <th>Material</th>\n",
       "      <th>Texto breve de material</th>\n",
       "      <th>Fe.contab.</th>\n",
       "      <th>Cliente</th>\n",
       "      <th>Ult.Eslabón</th>\n",
       "      <th>Nombre Sector</th>\n",
       "      <th>Canal</th>\n",
       "      <th>Tipo</th>\n",
       "      <th>Forecast AFM</th>\n",
       "      <th>Venta UMB</th>\n",
       "      <th>Semana</th>\n",
       "      <th>Canal 2</th>\n",
       "      <th>ID</th>\n",
       "    </tr>\n",
       "  </thead>\n",
       "  <tbody>\n",
       "    <tr>\n",
       "      <th>0</th>\n",
       "      <td>0478</td>\n",
       "      <td>100481</td>\n",
       "      <td>HUAIPE HILACHA COLOR 1KG</td>\n",
       "      <td>01.09.2024</td>\n",
       "      <td>TI0478</td>\n",
       "      <td>100481</td>\n",
       "      <td>ACC</td>\n",
       "      <td>Retail</td>\n",
       "      <td>AFM</td>\n",
       "      <td>SI</td>\n",
       "      <td>1</td>\n",
       "      <td>35</td>\n",
       "      <td>CL RETAIL</td>\n",
       "      <td>100481CL RETAIL</td>\n",
       "    </tr>\n",
       "  </tbody>\n",
       "</table>\n",
       "</div>"
      ],
      "text/plain": [
       "    Ce.  Material   Texto breve de material  Fe.contab. Cliente  Ult.Eslabón  \\\n",
       "0  0478    100481  HUAIPE HILACHA COLOR 1KG  01.09.2024  TI0478       100481   \n",
       "\n",
       "  Nombre Sector   Canal Tipo Forecast AFM  Venta UMB  Semana    Canal 2  \\\n",
       "0           ACC  Retail  AFM           SI          1      35  CL RETAIL   \n",
       "\n",
       "                ID  \n",
       "0  100481CL RETAIL  "
      ]
     },
     "execution_count": 34,
     "metadata": {},
     "output_type": "execute_result"
    }
   ],
   "source": [
    "sellin.head(1)"
   ]
  },
  {
   "cell_type": "code",
   "execution_count": 35,
   "metadata": {},
   "outputs": [
    {
     "name": "stdout",
     "output_type": "stream",
     "text": [
      "La suma de la última columna (Venta UMB) es: 539730\n"
     ]
    }
   ],
   "source": [
    "last_column = sellin.columns[-4]\n",
    "\n",
    "# Calcular la suma de la última columna\n",
    "sum_last_column = sellin[last_column].sum()\n",
    "\n",
    "# Mostrar la suma\n",
    "print(f\"La suma de la última columna ({last_column}) es: {sum_last_column}\")"
   ]
  },
  {
   "cell_type": "code",
   "execution_count": 36,
   "metadata": {},
   "outputs": [
    {
     "data": {
      "text/plain": [
       "539730"
      ]
     },
     "execution_count": 36,
     "metadata": {},
     "output_type": "execute_result"
    }
   ],
   "source": [
    "sum_last_column"
   ]
  },
  {
   "cell_type": "code",
   "execution_count": 37,
   "metadata": {
    "metadata": {}
   },
   "outputs": [],
   "source": [
    "# df_sellin_filtered = df_sellin[df_sellin['Forecast AFM'].str.lower() == 'si']\n",
    "df_sellin_filtered = df_sellin\n",
    "\n",
    "\n",
    "# EVALUAR SI SE MODIFICA ESTA PARTE!!!!!!!!!!!!!!!!"
   ]
  },
  {
   "cell_type": "code",
   "execution_count": 38,
   "metadata": {},
   "outputs": [
    {
     "data": {
      "text/plain": [
       "(355205, 14)"
      ]
     },
     "execution_count": 38,
     "metadata": {},
     "output_type": "execute_result"
    }
   ],
   "source": [
    "df_sellin_filtered.shape"
   ]
  },
  {
   "cell_type": "code",
   "execution_count": 39,
   "metadata": {},
   "outputs": [
    {
     "data": {
      "text/html": [
       "<div>\n",
       "<style scoped>\n",
       "    .dataframe tbody tr th:only-of-type {\n",
       "        vertical-align: middle;\n",
       "    }\n",
       "\n",
       "    .dataframe tbody tr th {\n",
       "        vertical-align: top;\n",
       "    }\n",
       "\n",
       "    .dataframe thead th {\n",
       "        text-align: right;\n",
       "    }\n",
       "</style>\n",
       "<table border=\"1\" class=\"dataframe\">\n",
       "  <thead>\n",
       "    <tr style=\"text-align: right;\">\n",
       "      <th></th>\n",
       "      <th>Ce.</th>\n",
       "      <th>Material</th>\n",
       "      <th>Texto breve de material</th>\n",
       "      <th>Fe.contab.</th>\n",
       "      <th>Cliente</th>\n",
       "      <th>Ult.Eslabón</th>\n",
       "      <th>Nombre Sector</th>\n",
       "      <th>Canal</th>\n",
       "      <th>Tipo</th>\n",
       "      <th>Forecast AFM</th>\n",
       "      <th>Venta UMB</th>\n",
       "      <th>Semana</th>\n",
       "      <th>Canal 2</th>\n",
       "      <th>ID</th>\n",
       "    </tr>\n",
       "  </thead>\n",
       "  <tbody>\n",
       "    <tr>\n",
       "      <th>0</th>\n",
       "      <td>0478</td>\n",
       "      <td>100481</td>\n",
       "      <td>HUAIPE HILACHA COLOR 1KG</td>\n",
       "      <td>01.09.2024</td>\n",
       "      <td>TI0478</td>\n",
       "      <td>100481</td>\n",
       "      <td>ACC</td>\n",
       "      <td>Retail</td>\n",
       "      <td>AFM</td>\n",
       "      <td>SI</td>\n",
       "      <td>1</td>\n",
       "      <td>35</td>\n",
       "      <td>CL RETAIL</td>\n",
       "      <td>100481CL RETAIL</td>\n",
       "    </tr>\n",
       "    <tr>\n",
       "      <th>1</th>\n",
       "      <td>0412</td>\n",
       "      <td>100483</td>\n",
       "      <td>W818/8 F.AC.MANN</td>\n",
       "      <td>01.09.2024</td>\n",
       "      <td>TI0412</td>\n",
       "      <td>100483</td>\n",
       "      <td>RALT</td>\n",
       "      <td>Retail</td>\n",
       "      <td>AFM</td>\n",
       "      <td>SI</td>\n",
       "      <td>1</td>\n",
       "      <td>35</td>\n",
       "      <td>CL RETAIL</td>\n",
       "      <td>100483CL RETAIL</td>\n",
       "    </tr>\n",
       "    <tr>\n",
       "      <th>2</th>\n",
       "      <td>0444</td>\n",
       "      <td>100492</td>\n",
       "      <td>W818/4 F.AC.MANN</td>\n",
       "      <td>01.09.2024</td>\n",
       "      <td>TI0444</td>\n",
       "      <td>100492</td>\n",
       "      <td>RALT</td>\n",
       "      <td>Retail</td>\n",
       "      <td>AFM</td>\n",
       "      <td>SI</td>\n",
       "      <td>1</td>\n",
       "      <td>35</td>\n",
       "      <td>CL RETAIL</td>\n",
       "      <td>100492CL RETAIL</td>\n",
       "    </tr>\n",
       "    <tr>\n",
       "      <th>3</th>\n",
       "      <td>0454</td>\n",
       "      <td>100504</td>\n",
       "      <td>HU711/51X F.AC.MANN</td>\n",
       "      <td>01.09.2024</td>\n",
       "      <td>TI0454</td>\n",
       "      <td>100504</td>\n",
       "      <td>RALT</td>\n",
       "      <td>Retail</td>\n",
       "      <td>AFM</td>\n",
       "      <td>SI</td>\n",
       "      <td>1</td>\n",
       "      <td>35</td>\n",
       "      <td>CL RETAIL</td>\n",
       "      <td>100504CL RETAIL</td>\n",
       "    </tr>\n",
       "    <tr>\n",
       "      <th>4</th>\n",
       "      <td>0428</td>\n",
       "      <td>101066</td>\n",
       "      <td>FILTRO.COMB MANN FILTER WK613</td>\n",
       "      <td>01.09.2024</td>\n",
       "      <td>TI0428</td>\n",
       "      <td>101066</td>\n",
       "      <td>RALT</td>\n",
       "      <td>Retail</td>\n",
       "      <td>AFM</td>\n",
       "      <td>SI</td>\n",
       "      <td>1</td>\n",
       "      <td>35</td>\n",
       "      <td>CL RETAIL</td>\n",
       "      <td>101066CL RETAIL</td>\n",
       "    </tr>\n",
       "    <tr>\n",
       "      <th>...</th>\n",
       "      <td>...</td>\n",
       "      <td>...</td>\n",
       "      <td>...</td>\n",
       "      <td>...</td>\n",
       "      <td>...</td>\n",
       "      <td>...</td>\n",
       "      <td>...</td>\n",
       "      <td>...</td>\n",
       "      <td>...</td>\n",
       "      <td>...</td>\n",
       "      <td>...</td>\n",
       "      <td>...</td>\n",
       "      <td>...</td>\n",
       "      <td>...</td>\n",
       "    </tr>\n",
       "    <tr>\n",
       "      <th>95</th>\n",
       "      <td>0415</td>\n",
       "      <td>110447</td>\n",
       "      <td>BAT DGP MF55457 55AH 420CCA</td>\n",
       "      <td>01.09.2024</td>\n",
       "      <td>TI0415</td>\n",
       "      <td>110447</td>\n",
       "      <td>BAT</td>\n",
       "      <td>Retail</td>\n",
       "      <td>AFM</td>\n",
       "      <td>SI</td>\n",
       "      <td>2</td>\n",
       "      <td>35</td>\n",
       "      <td>CL RETAIL</td>\n",
       "      <td>110447CL RETAIL</td>\n",
       "    </tr>\n",
       "    <tr>\n",
       "      <th>96</th>\n",
       "      <td>0416</td>\n",
       "      <td>110447</td>\n",
       "      <td>BAT DGP MF55457 55AH 420CCA</td>\n",
       "      <td>01.09.2024</td>\n",
       "      <td>TI0416</td>\n",
       "      <td>110447</td>\n",
       "      <td>BAT</td>\n",
       "      <td>Retail</td>\n",
       "      <td>AFM</td>\n",
       "      <td>SI</td>\n",
       "      <td>1</td>\n",
       "      <td>35</td>\n",
       "      <td>CL RETAIL</td>\n",
       "      <td>110447CL RETAIL</td>\n",
       "    </tr>\n",
       "    <tr>\n",
       "      <th>97</th>\n",
       "      <td>0424</td>\n",
       "      <td>110447</td>\n",
       "      <td>BAT DGP MF55457 55AH 420CCA</td>\n",
       "      <td>01.09.2024</td>\n",
       "      <td>TI0424</td>\n",
       "      <td>110447</td>\n",
       "      <td>BAT</td>\n",
       "      <td>Retail</td>\n",
       "      <td>AFM</td>\n",
       "      <td>SI</td>\n",
       "      <td>3</td>\n",
       "      <td>35</td>\n",
       "      <td>CL RETAIL</td>\n",
       "      <td>110447CL RETAIL</td>\n",
       "    </tr>\n",
       "    <tr>\n",
       "      <th>98</th>\n",
       "      <td>0426</td>\n",
       "      <td>110447</td>\n",
       "      <td>BAT DGP MF55457 55AH 420CCA</td>\n",
       "      <td>01.09.2024</td>\n",
       "      <td>TI0426</td>\n",
       "      <td>110447</td>\n",
       "      <td>BAT</td>\n",
       "      <td>Retail</td>\n",
       "      <td>AFM</td>\n",
       "      <td>SI</td>\n",
       "      <td>2</td>\n",
       "      <td>35</td>\n",
       "      <td>CL RETAIL</td>\n",
       "      <td>110447CL RETAIL</td>\n",
       "    </tr>\n",
       "    <tr>\n",
       "      <th>99</th>\n",
       "      <td>0427</td>\n",
       "      <td>110447</td>\n",
       "      <td>BAT DGP MF55457 55AH 420CCA</td>\n",
       "      <td>01.09.2024</td>\n",
       "      <td>TI0427</td>\n",
       "      <td>110447</td>\n",
       "      <td>BAT</td>\n",
       "      <td>Retail</td>\n",
       "      <td>AFM</td>\n",
       "      <td>SI</td>\n",
       "      <td>-1</td>\n",
       "      <td>35</td>\n",
       "      <td>CL RETAIL</td>\n",
       "      <td>110447CL RETAIL</td>\n",
       "    </tr>\n",
       "  </tbody>\n",
       "</table>\n",
       "<p>100 rows × 14 columns</p>\n",
       "</div>"
      ],
      "text/plain": [
       "     Ce.  Material        Texto breve de material  Fe.contab. Cliente  \\\n",
       "0   0478    100481       HUAIPE HILACHA COLOR 1KG  01.09.2024  TI0478   \n",
       "1   0412    100483               W818/8 F.AC.MANN  01.09.2024  TI0412   \n",
       "2   0444    100492               W818/4 F.AC.MANN  01.09.2024  TI0444   \n",
       "3   0454    100504            HU711/51X F.AC.MANN  01.09.2024  TI0454   \n",
       "4   0428    101066  FILTRO.COMB MANN FILTER WK613  01.09.2024  TI0428   \n",
       "..   ...       ...                            ...         ...     ...   \n",
       "95  0415    110447    BAT DGP MF55457 55AH 420CCA  01.09.2024  TI0415   \n",
       "96  0416    110447    BAT DGP MF55457 55AH 420CCA  01.09.2024  TI0416   \n",
       "97  0424    110447    BAT DGP MF55457 55AH 420CCA  01.09.2024  TI0424   \n",
       "98  0426    110447    BAT DGP MF55457 55AH 420CCA  01.09.2024  TI0426   \n",
       "99  0427    110447    BAT DGP MF55457 55AH 420CCA  01.09.2024  TI0427   \n",
       "\n",
       "    Ult.Eslabón Nombre Sector   Canal Tipo Forecast AFM  Venta UMB  Semana  \\\n",
       "0        100481           ACC  Retail  AFM           SI          1      35   \n",
       "1        100483          RALT  Retail  AFM           SI          1      35   \n",
       "2        100492          RALT  Retail  AFM           SI          1      35   \n",
       "3        100504          RALT  Retail  AFM           SI          1      35   \n",
       "4        101066          RALT  Retail  AFM           SI          1      35   \n",
       "..          ...           ...     ...  ...          ...        ...     ...   \n",
       "95       110447           BAT  Retail  AFM           SI          2      35   \n",
       "96       110447           BAT  Retail  AFM           SI          1      35   \n",
       "97       110447           BAT  Retail  AFM           SI          3      35   \n",
       "98       110447           BAT  Retail  AFM           SI          2      35   \n",
       "99       110447           BAT  Retail  AFM           SI         -1      35   \n",
       "\n",
       "      Canal 2               ID  \n",
       "0   CL RETAIL  100481CL RETAIL  \n",
       "1   CL RETAIL  100483CL RETAIL  \n",
       "2   CL RETAIL  100492CL RETAIL  \n",
       "3   CL RETAIL  100504CL RETAIL  \n",
       "4   CL RETAIL  101066CL RETAIL  \n",
       "..        ...              ...  \n",
       "95  CL RETAIL  110447CL RETAIL  \n",
       "96  CL RETAIL  110447CL RETAIL  \n",
       "97  CL RETAIL  110447CL RETAIL  \n",
       "98  CL RETAIL  110447CL RETAIL  \n",
       "99  CL RETAIL  110447CL RETAIL  \n",
       "\n",
       "[100 rows x 14 columns]"
      ]
     },
     "execution_count": 39,
     "metadata": {},
     "output_type": "execute_result"
    }
   ],
   "source": [
    "df_sellin_filtered.head(100)"
   ]
  },
  {
   "cell_type": "code",
   "execution_count": 40,
   "metadata": {},
   "outputs": [],
   "source": [
    "df_sellin_filtered['Material'] = df_sellin_filtered['Material'].astype(str).str.replace('.0', '', regex=False)"
   ]
  },
  {
   "cell_type": "code",
   "execution_count": 41,
   "metadata": {},
   "outputs": [
    {
     "data": {
      "text/html": [
       "<div>\n",
       "<style scoped>\n",
       "    .dataframe tbody tr th:only-of-type {\n",
       "        vertical-align: middle;\n",
       "    }\n",
       "\n",
       "    .dataframe tbody tr th {\n",
       "        vertical-align: top;\n",
       "    }\n",
       "\n",
       "    .dataframe thead th {\n",
       "        text-align: right;\n",
       "    }\n",
       "</style>\n",
       "<table border=\"1\" class=\"dataframe\">\n",
       "  <thead>\n",
       "    <tr style=\"text-align: right;\">\n",
       "      <th></th>\n",
       "      <th>Material</th>\n",
       "      <th>Canal</th>\n",
       "      <th>Venta UMB</th>\n",
       "    </tr>\n",
       "  </thead>\n",
       "  <tbody>\n",
       "    <tr>\n",
       "      <th>0</th>\n",
       "      <td>1000147</td>\n",
       "      <td>Retail</td>\n",
       "      <td>56</td>\n",
       "    </tr>\n",
       "  </tbody>\n",
       "</table>\n",
       "</div>"
      ],
      "text/plain": [
       "  Material   Canal  Venta UMB\n",
       "0  1000147  Retail         56"
      ]
     },
     "execution_count": 41,
     "metadata": {},
     "output_type": "execute_result"
    }
   ],
   "source": [
    "td_sellin = df_sellin_filtered.groupby(['Material', 'Canal'])['Venta UMB'].sum().reset_index()\n",
    "# Asegurarse de que la columna 'Venta' es numérica\n",
    "\n",
    "td_sellin.head(1)\n"
   ]
  },
  {
   "cell_type": "code",
   "execution_count": 42,
   "metadata": {},
   "outputs": [
    {
     "data": {
      "text/plain": [
       "Material     object\n",
       "Canal        object\n",
       "Venta UMB     int64\n",
       "dtype: object"
      ]
     },
     "execution_count": 42,
     "metadata": {},
     "output_type": "execute_result"
    }
   ],
   "source": [
    "td_sellin.dtypes"
   ]
  },
  {
   "cell_type": "code",
   "execution_count": 43,
   "metadata": {},
   "outputs": [],
   "source": [
    "td_sellin['Material'] = td_sellin['Material'].astype(str)\n",
    "td_sellin['Venta UMB'] = td_sellin['Venta UMB'].astype(int)"
   ]
  },
  {
   "cell_type": "code",
   "execution_count": 44,
   "metadata": {},
   "outputs": [],
   "source": [
    "td_sellin=td_sellin.copy()"
   ]
  },
  {
   "cell_type": "code",
   "execution_count": 45,
   "metadata": {},
   "outputs": [],
   "source": [
    "td_sellin['Venta UMB'] = pd.to_numeric(td_sellin['Venta UMB'], errors='coerce')"
   ]
  },
  {
   "cell_type": "code",
   "execution_count": 46,
   "metadata": {},
   "outputs": [
    {
     "data": {
      "text/plain": [
       "Material     object\n",
       "Canal        object\n",
       "Venta UMB     int32\n",
       "dtype: object"
      ]
     },
     "execution_count": 46,
     "metadata": {},
     "output_type": "execute_result"
    }
   ],
   "source": [
    "td_sellin.dtypes"
   ]
  },
  {
   "cell_type": "code",
   "execution_count": 47,
   "metadata": {},
   "outputs": [],
   "source": [
    "td_filtered = td_sellin.loc[td_sellin['Venta UMB'] > 0]"
   ]
  },
  {
   "cell_type": "code",
   "execution_count": 48,
   "metadata": {},
   "outputs": [],
   "source": [
    "td_sellin=td_filtered"
   ]
  },
  {
   "cell_type": "code",
   "execution_count": 49,
   "metadata": {
    "metadata": {}
   },
   "outputs": [
    {
     "data": {
      "text/plain": [
       "(9103, 3)"
      ]
     },
     "execution_count": 49,
     "metadata": {},
     "output_type": "execute_result"
    }
   ],
   "source": [
    "td_sellin.shape"
   ]
  },
  {
   "cell_type": "code",
   "execution_count": 50,
   "metadata": {},
   "outputs": [
    {
     "name": "stdout",
     "output_type": "stream",
     "text": [
      "La suma de la última columna (Venta UMB) es: 541292\n"
     ]
    }
   ],
   "source": [
    "last_column = td_sellin.columns[-1]\n",
    "\n",
    "# Calcular la suma de la última columna\n",
    "sum_last_column = td_sellin[last_column].sum()\n",
    "\n",
    "# Mostrar la suma\n",
    "print(f\"La suma de la última columna ({last_column}) es: {sum_last_column}\")"
   ]
  },
  {
   "cell_type": "markdown",
   "metadata": {},
   "source": [
    "CORREGIR PARA QUE LA USE CUALQUIER USUARIO"
   ]
  },
  {
   "cell_type": "code",
   "execution_count": 51,
   "metadata": {},
   "outputs": [
    {
     "data": {
      "text/plain": [
       "Index(['Material', 'Canal', 'Venta UMB'], dtype='object')"
      ]
     },
     "execution_count": 51,
     "metadata": {},
     "output_type": "execute_result"
    }
   ],
   "source": [
    "td_sellin.columns"
   ]
  },
  {
   "cell_type": "code",
   "execution_count": 52,
   "metadata": {},
   "outputs": [
    {
     "name": "stdout",
     "output_type": "stream",
     "text": [
      "Valores únicos en la columna 'Canal':\n",
      "['Retail']\n"
     ]
    }
   ],
   "source": [
    "valores_unicos_nuevo_canal = td_sellin['Canal'].unique()\n",
    "print(\"Valores únicos en la columna 'Canal':\")\n",
    "print(valores_unicos_nuevo_canal)\n"
   ]
  },
  {
   "cell_type": "markdown",
   "metadata": {},
   "source": [
    "EVALUAR SI SE SACA ESTE BLOQUE"
   ]
  },
  {
   "cell_type": "code",
   "execution_count": 53,
   "metadata": {},
   "outputs": [
    {
     "data": {
      "text/html": [
       "<div>\n",
       "<style scoped>\n",
       "    .dataframe tbody tr th:only-of-type {\n",
       "        vertical-align: middle;\n",
       "    }\n",
       "\n",
       "    .dataframe tbody tr th {\n",
       "        vertical-align: top;\n",
       "    }\n",
       "\n",
       "    .dataframe thead th {\n",
       "        text-align: right;\n",
       "    }\n",
       "</style>\n",
       "<table border=\"1\" class=\"dataframe\">\n",
       "  <thead>\n",
       "    <tr style=\"text-align: right;\">\n",
       "      <th></th>\n",
       "      <th>Material</th>\n",
       "      <th>Canal</th>\n",
       "      <th>Venta UMB</th>\n",
       "    </tr>\n",
       "  </thead>\n",
       "  <tbody>\n",
       "    <tr>\n",
       "      <th>0</th>\n",
       "      <td>1000147</td>\n",
       "      <td>Retail</td>\n",
       "      <td>56</td>\n",
       "    </tr>\n",
       "    <tr>\n",
       "      <th>1</th>\n",
       "      <td>1000148</td>\n",
       "      <td>Retail</td>\n",
       "      <td>102</td>\n",
       "    </tr>\n",
       "  </tbody>\n",
       "</table>\n",
       "</div>"
      ],
      "text/plain": [
       "  Material   Canal  Venta UMB\n",
       "0  1000147  Retail         56\n",
       "1  1000148  Retail        102"
      ]
     },
     "execution_count": 53,
     "metadata": {},
     "output_type": "execute_result"
    }
   ],
   "source": [
    "# valores_deseados = ['CES 01', 'Mayorista']\n",
    "# td_sellin = td_sellin[td_sellin['Nuevo Canal'].isin(valores_deseados)]\n",
    "td_sellin.head(2)\n",
    "#evaluar si sacar este bloque!!!!!!!!!!!!!!!!!!!!!!!!!!!!!!!!!!!!!!!!!!!!!!!!!"
   ]
  },
  {
   "cell_type": "markdown",
   "metadata": {},
   "source": [
    "Sellout_concat es la historia en Parquet, y le cambiamos el nombre a df_combinado para seguir con el código"
   ]
  },
  {
   "cell_type": "code",
   "execution_count": 54,
   "metadata": {},
   "outputs": [],
   "source": [
    "df_combinado = sellout_concat"
   ]
  },
  {
   "cell_type": "code",
   "execution_count": 55,
   "metadata": {},
   "outputs": [
    {
     "data": {
      "text/plain": [
       "(1400061, 10)"
      ]
     },
     "execution_count": 55,
     "metadata": {},
     "output_type": "execute_result"
    }
   ],
   "source": [
    "df_combinado.shape"
   ]
  },
  {
   "cell_type": "code",
   "execution_count": 56,
   "metadata": {},
   "outputs": [],
   "source": [
    "canal_mapping = {\n",
    "    'AP': 'Retail',\n",
    "    'Sergo': 'Retail',\n",
    "    'Easy': 'Easy',\n",
    "    'TOTTUS': 'TOTTUS',\n",
    "    'Walmart': 'Walmart',\n",
    "    'Sodimac': 'Sodimac',\n",
    "    'SMU': 'SMU',\n",
    "    'Retail': 'Retail'\n",
    "}\n",
    "\n",
    "# Aplicar el mapeo a la columna Canal 2\n",
    "df_combinado['Canal 2'] = df_combinado['Canal'].map(canal_mapping)"
   ]
  },
  {
   "cell_type": "code",
   "execution_count": 57,
   "metadata": {},
   "outputs": [
    {
     "name": "stdout",
     "output_type": "stream",
     "text": [
      "Valores únicos en la columna 'Nuevo Canal':\n",
      "['Retail' 'Sodimac' 'Easy' 'Walmart' 'SMU' 'TOTTUS']\n"
     ]
    }
   ],
   "source": [
    "valores_unicos_nuevo_canal = df_combinado['Canal 2'].unique()\n",
    "print(\"Valores únicos en la columna 'Nuevo Canal':\")\n",
    "print(valores_unicos_nuevo_canal)"
   ]
  },
  {
   "cell_type": "code",
   "execution_count": 58,
   "metadata": {},
   "outputs": [
    {
     "data": {
      "text/plain": [
       "(9103, 3)"
      ]
     },
     "execution_count": 58,
     "metadata": {},
     "output_type": "execute_result"
    }
   ],
   "source": [
    "td_sellin.shape"
   ]
  },
  {
   "cell_type": "code",
   "execution_count": 59,
   "metadata": {},
   "outputs": [
    {
     "name": "stdout",
     "output_type": "stream",
     "text": [
      "La suma de la columna 'venta_umb' es: 541292\n"
     ]
    }
   ],
   "source": [
    "suma_venta_umb = td_sellin['Venta UMB'].sum()\n",
    "print(\"La suma de la columna 'venta_umb' es:\", suma_venta_umb)\n",
    "# La suma de la columna 'venta_umb' es: 86635289 es: 569188"
   ]
  },
  {
   "cell_type": "code",
   "execution_count": 60,
   "metadata": {},
   "outputs": [
    {
     "data": {
      "text/plain": [
       "Index(['Mes', 'Material', 'Canal', 'Venta UMB', 'Fuente', 'Ultimo Eslabón',\n",
       "       'Tipo', 'Canal 2', 'Nombre Sector', 'Canal 3'],\n",
       "      dtype='object')"
      ]
     },
     "execution_count": 60,
     "metadata": {},
     "output_type": "execute_result"
    }
   ],
   "source": [
    "df_combinado.columns"
   ]
  },
  {
   "cell_type": "code",
   "execution_count": 61,
   "metadata": {},
   "outputs": [
    {
     "data": {
      "text/html": [
       "<div>\n",
       "<style scoped>\n",
       "    .dataframe tbody tr th:only-of-type {\n",
       "        vertical-align: middle;\n",
       "    }\n",
       "\n",
       "    .dataframe tbody tr th {\n",
       "        vertical-align: top;\n",
       "    }\n",
       "\n",
       "    .dataframe thead th {\n",
       "        text-align: right;\n",
       "    }\n",
       "</style>\n",
       "<table border=\"1\" class=\"dataframe\">\n",
       "  <thead>\n",
       "    <tr style=\"text-align: right;\">\n",
       "      <th></th>\n",
       "      <th>Mes</th>\n",
       "      <th>Material</th>\n",
       "      <th>Canal</th>\n",
       "      <th>Venta UMB</th>\n",
       "      <th>Fuente</th>\n",
       "      <th>Ultimo Eslabón</th>\n",
       "      <th>Tipo</th>\n",
       "      <th>Canal 2</th>\n",
       "      <th>Nombre Sector</th>\n",
       "      <th>Canal 3</th>\n",
       "    </tr>\n",
       "  </thead>\n",
       "  <tbody>\n",
       "    <tr>\n",
       "      <th>0</th>\n",
       "      <td>2021-06-01</td>\n",
       "      <td>1000147</td>\n",
       "      <td>AP</td>\n",
       "      <td>52.0</td>\n",
       "      <td>Sell Out MB51 - SISO</td>\n",
       "      <td>1000147</td>\n",
       "      <td>ACC</td>\n",
       "      <td>Retail</td>\n",
       "      <td>ACC</td>\n",
       "      <td>CL RETAIL</td>\n",
       "    </tr>\n",
       "    <tr>\n",
       "      <th>1</th>\n",
       "      <td>2021-05-01</td>\n",
       "      <td>1000147</td>\n",
       "      <td>AP</td>\n",
       "      <td>40.0</td>\n",
       "      <td>Sell Out MB51 - SISO</td>\n",
       "      <td>1000147</td>\n",
       "      <td>ACC</td>\n",
       "      <td>Retail</td>\n",
       "      <td>ACC</td>\n",
       "      <td>CL RETAIL</td>\n",
       "    </tr>\n",
       "  </tbody>\n",
       "</table>\n",
       "</div>"
      ],
      "text/plain": [
       "         Mes Material Canal  Venta UMB                Fuente Ultimo Eslabón  \\\n",
       "0 2021-06-01  1000147    AP       52.0  Sell Out MB51 - SISO        1000147   \n",
       "1 2021-05-01  1000147    AP       40.0  Sell Out MB51 - SISO        1000147   \n",
       "\n",
       "  Tipo Canal 2 Nombre Sector    Canal 3  \n",
       "0  ACC  Retail           ACC  CL RETAIL  \n",
       "1  ACC  Retail           ACC  CL RETAIL  "
      ]
     },
     "execution_count": 61,
     "metadata": {},
     "output_type": "execute_result"
    }
   ],
   "source": [
    "df_combinado.head(2)"
   ]
  },
  {
   "cell_type": "code",
   "execution_count": 62,
   "metadata": {},
   "outputs": [
    {
     "data": {
      "text/html": [
       "<div>\n",
       "<style scoped>\n",
       "    .dataframe tbody tr th:only-of-type {\n",
       "        vertical-align: middle;\n",
       "    }\n",
       "\n",
       "    .dataframe tbody tr th {\n",
       "        vertical-align: top;\n",
       "    }\n",
       "\n",
       "    .dataframe thead th {\n",
       "        text-align: right;\n",
       "    }\n",
       "</style>\n",
       "<table border=\"1\" class=\"dataframe\">\n",
       "  <thead>\n",
       "    <tr style=\"text-align: right;\">\n",
       "      <th></th>\n",
       "      <th>Mes</th>\n",
       "      <th>Material</th>\n",
       "      <th>Canal</th>\n",
       "      <th>Venta UMB</th>\n",
       "      <th>Fuente</th>\n",
       "      <th>Ultimo Eslabón</th>\n",
       "      <th>Tipo</th>\n",
       "      <th>Canal 2</th>\n",
       "      <th>Nombre Sector</th>\n",
       "      <th>Canal 3</th>\n",
       "    </tr>\n",
       "  </thead>\n",
       "  <tbody>\n",
       "    <tr>\n",
       "      <th>1400059</th>\n",
       "      <td>2024-08-01</td>\n",
       "      <td>654150</td>\n",
       "      <td>Retail</td>\n",
       "      <td>2.0</td>\n",
       "      <td>Sell Out RTL Ago-24</td>\n",
       "      <td>654150</td>\n",
       "      <td>None</td>\n",
       "      <td>Retail</td>\n",
       "      <td>Suzuki</td>\n",
       "      <td>CL RETAIL</td>\n",
       "    </tr>\n",
       "    <tr>\n",
       "      <th>1400060</th>\n",
       "      <td>2024-08-01</td>\n",
       "      <td>656348</td>\n",
       "      <td>Retail</td>\n",
       "      <td>2.0</td>\n",
       "      <td>Sell Out RTL Ago-24</td>\n",
       "      <td>656348</td>\n",
       "      <td>None</td>\n",
       "      <td>Retail</td>\n",
       "      <td>Suzuki</td>\n",
       "      <td>CL RETAIL</td>\n",
       "    </tr>\n",
       "  </tbody>\n",
       "</table>\n",
       "</div>"
      ],
      "text/plain": [
       "               Mes Material   Canal  Venta UMB               Fuente  \\\n",
       "1400059 2024-08-01   654150  Retail        2.0  Sell Out RTL Ago-24   \n",
       "1400060 2024-08-01   656348  Retail        2.0  Sell Out RTL Ago-24   \n",
       "\n",
       "        Ultimo Eslabón  Tipo Canal 2 Nombre Sector    Canal 3  \n",
       "1400059         654150  None  Retail        Suzuki  CL RETAIL  \n",
       "1400060         656348  None  Retail        Suzuki  CL RETAIL  "
      ]
     },
     "execution_count": 62,
     "metadata": {},
     "output_type": "execute_result"
    }
   ],
   "source": [
    "df_combinado.tail(2)"
   ]
  },
  {
   "cell_type": "markdown",
   "metadata": {},
   "source": [
    "Buscar Cod_Actual del año y mes actual EN EXCEL"
   ]
  },
  {
   "cell_type": "markdown",
   "metadata": {},
   "source": [
    "Buscar Cod_Actual del año y mes actual EN CSV"
   ]
  },
  {
   "cell_type": "code",
   "execution_count": 63,
   "metadata": {},
   "outputs": [
    {
     "name": "stdout",
     "output_type": "stream",
     "text": [
      "Archivo leído: C:\\Users\\etorres.DERCOPARTS\\DERCO CHILE REPUESTOS SpA\\Planificación y abastecimiento - Documentos\\Planificación y Compras Maestros\\2024\\2024-10\\MaestrosCSV\\COD_ACTUAL_S4_20241001.csv\n",
      "  Material Cod_Actual_1\n",
      "0   102288       582655\n",
      "1   501216       582655\n"
     ]
    }
   ],
   "source": [
    "import glob\n",
    "import os\n",
    "import pandas as pd\n",
    "from datetime import datetime\n",
    "\n",
    "# Obtener el directorio del usuario\n",
    "user_dir = os.path.expanduser(\"~\")\n",
    "user_name = os.getlogin()\n",
    "now = datetime.now()\n",
    "year_month = now.strftime('%Y-%m')\n",
    "\n",
    "# Construir la ruta base utilizando el directorio del usuario\n",
    "base_path = os.path.join(user_dir, 'DERCO CHILE REPUESTOS SpA', 'Planificación y abastecimiento - Documentos', \n",
    "                         'Planificación y Compras Maestros', str(now.year), year_month, 'MaestrosCSV')\n",
    "\n",
    "# Patrón de búsqueda para los archivos\n",
    "pattern = os.path.join(base_path, '*COD_ACTUAL*.csv')\n",
    "\n",
    "# Obtener la lista de archivos que coinciden con el patrón, excluyendo los que contienen 'R3'\n",
    "files = [f for f in glob.glob(pattern) if 'R3' not in os.path.basename(f)]\n",
    "\n",
    "if not files:\n",
    "    raise FileNotFoundError(\"No se encontraron archivos.\")\n",
    "\n",
    "# Encontrar el archivo más reciente basado en la fecha de modificación\n",
    "latest_file = max(files, key=os.path.getmtime)\n",
    "\n",
    "# Leer el archivo CSV\n",
    "df = pd.read_csv(latest_file, delimiter=';', decimal=',', low_memory=False, dtype=str)\n",
    "print(f\"Archivo leído: {latest_file}\")\n",
    "\n",
    "# Seleccionar las columnas y renombrar\n",
    "eslabon = df[['Nro_pieza_fabricante_1', 'Cod_Actual_1']].copy()\n",
    "eslabon.rename(columns={'Nro_pieza_fabricante_1': 'Material'}, inplace=True)\n",
    "\n",
    "# Mostrar las primeras filas del DataFrame resultante\n",
    "print(eslabon.head(2))\n"
   ]
  },
  {
   "cell_type": "code",
   "execution_count": 64,
   "metadata": {},
   "outputs": [],
   "source": [
    "eslabon['Material'] = eslabon['Material'].astype(str)\n",
    "td_sellin['Material'] = td_sellin['Material'].astype(str)"
   ]
  },
  {
   "cell_type": "code",
   "execution_count": 65,
   "metadata": {},
   "outputs": [],
   "source": [
    "# td_sellin = pd.merge(td_sellin, eslabon, on='Material', how='left')\n",
    "# # Si hay valores que no coinciden, rellenarlos con el valor original de \"Material\"\n",
    "# td_sellin['Cod_Actual_1'].fillna(td_sellin['Material'], inplace=True)"
   ]
  },
  {
   "cell_type": "code",
   "execution_count": 66,
   "metadata": {},
   "outputs": [],
   "source": [
    "# # Dropear la columna \"Material\" original\n",
    "# td_sellin.drop('Material', axis=1, inplace=True)"
   ]
  },
  {
   "cell_type": "code",
   "execution_count": 67,
   "metadata": {},
   "outputs": [],
   "source": [
    "# # Renombrar la columna resultante como \"Material\"\n",
    "# td_sellin.rename(columns={'Cod_Actual_1': 'Material'}, inplace=True)\n",
    "# td_sellin.head(2)"
   ]
  },
  {
   "cell_type": "code",
   "execution_count": 68,
   "metadata": {},
   "outputs": [
    {
     "data": {
      "text/plain": [
       "(9103, 3)"
      ]
     },
     "execution_count": 68,
     "metadata": {},
     "output_type": "execute_result"
    }
   ],
   "source": [
    "td_sellin.shape"
   ]
  },
  {
   "cell_type": "code",
   "execution_count": 69,
   "metadata": {},
   "outputs": [
    {
     "data": {
      "text/html": [
       "<div>\n",
       "<style scoped>\n",
       "    .dataframe tbody tr th:only-of-type {\n",
       "        vertical-align: middle;\n",
       "    }\n",
       "\n",
       "    .dataframe tbody tr th {\n",
       "        vertical-align: top;\n",
       "    }\n",
       "\n",
       "    .dataframe thead th {\n",
       "        text-align: right;\n",
       "    }\n",
       "</style>\n",
       "<table border=\"1\" class=\"dataframe\">\n",
       "  <thead>\n",
       "    <tr style=\"text-align: right;\">\n",
       "      <th></th>\n",
       "      <th>Material</th>\n",
       "      <th>Canal</th>\n",
       "      <th>Venta UMB</th>\n",
       "    </tr>\n",
       "  </thead>\n",
       "  <tbody>\n",
       "    <tr>\n",
       "      <th>0</th>\n",
       "      <td>1000147</td>\n",
       "      <td>Retail</td>\n",
       "      <td>56</td>\n",
       "    </tr>\n",
       "  </tbody>\n",
       "</table>\n",
       "</div>"
      ],
      "text/plain": [
       "  Material   Canal  Venta UMB\n",
       "0  1000147  Retail         56"
      ]
     },
     "execution_count": 69,
     "metadata": {},
     "output_type": "execute_result"
    }
   ],
   "source": [
    "td_sellin.head(1)"
   ]
  },
  {
   "cell_type": "code",
   "execution_count": 70,
   "metadata": {},
   "outputs": [],
   "source": [
    "td_sellin['Material'] = td_sellin['Material'].astype(str).str.replace('.0', '', regex=False)"
   ]
  },
  {
   "cell_type": "code",
   "execution_count": 71,
   "metadata": {},
   "outputs": [],
   "source": [
    "td_sellin = td_sellin.groupby(['Material', 'Canal']).agg({'Venta UMB': 'sum'}).reset_index()"
   ]
  },
  {
   "cell_type": "code",
   "execution_count": 72,
   "metadata": {},
   "outputs": [
    {
     "data": {
      "text/html": [
       "<div>\n",
       "<style scoped>\n",
       "    .dataframe tbody tr th:only-of-type {\n",
       "        vertical-align: middle;\n",
       "    }\n",
       "\n",
       "    .dataframe tbody tr th {\n",
       "        vertical-align: top;\n",
       "    }\n",
       "\n",
       "    .dataframe thead th {\n",
       "        text-align: right;\n",
       "    }\n",
       "</style>\n",
       "<table border=\"1\" class=\"dataframe\">\n",
       "  <thead>\n",
       "    <tr style=\"text-align: right;\">\n",
       "      <th></th>\n",
       "      <th>Material</th>\n",
       "      <th>Canal</th>\n",
       "      <th>Venta UMB</th>\n",
       "    </tr>\n",
       "  </thead>\n",
       "  <tbody>\n",
       "    <tr>\n",
       "      <th>0</th>\n",
       "      <td>1000147</td>\n",
       "      <td>Retail</td>\n",
       "      <td>56</td>\n",
       "    </tr>\n",
       "  </tbody>\n",
       "</table>\n",
       "</div>"
      ],
      "text/plain": [
       "  Material   Canal  Venta UMB\n",
       "0  1000147  Retail         56"
      ]
     },
     "execution_count": 72,
     "metadata": {},
     "output_type": "execute_result"
    }
   ],
   "source": [
    "td_sellin.head(1)"
   ]
  },
  {
   "cell_type": "code",
   "execution_count": 73,
   "metadata": {},
   "outputs": [
    {
     "data": {
      "text/plain": [
       "(9103, 3)"
      ]
     },
     "execution_count": 73,
     "metadata": {},
     "output_type": "execute_result"
    }
   ],
   "source": [
    "td_sellin.shape"
   ]
  },
  {
   "cell_type": "markdown",
   "metadata": {},
   "source": [
    "Agregando Sellin AÑO/MES ACTUAL a la historia y poniendo que tipo de venta es"
   ]
  },
  {
   "cell_type": "code",
   "execution_count": 74,
   "metadata": {},
   "outputs": [
    {
     "data": {
      "text/html": [
       "<div>\n",
       "<style scoped>\n",
       "    .dataframe tbody tr th:only-of-type {\n",
       "        vertical-align: middle;\n",
       "    }\n",
       "\n",
       "    .dataframe tbody tr th {\n",
       "        vertical-align: top;\n",
       "    }\n",
       "\n",
       "    .dataframe thead th {\n",
       "        text-align: right;\n",
       "    }\n",
       "</style>\n",
       "<table border=\"1\" class=\"dataframe\">\n",
       "  <thead>\n",
       "    <tr style=\"text-align: right;\">\n",
       "      <th></th>\n",
       "      <th>Mes</th>\n",
       "      <th>Material</th>\n",
       "      <th>Canal</th>\n",
       "      <th>Venta UMB</th>\n",
       "      <th>Fuente</th>\n",
       "      <th>Ultimo Eslabón</th>\n",
       "      <th>Tipo</th>\n",
       "      <th>Canal 2</th>\n",
       "      <th>Nombre Sector</th>\n",
       "      <th>Canal 3</th>\n",
       "    </tr>\n",
       "  </thead>\n",
       "  <tbody>\n",
       "    <tr>\n",
       "      <th>1400059</th>\n",
       "      <td>2024-08-01</td>\n",
       "      <td>654150</td>\n",
       "      <td>Retail</td>\n",
       "      <td>2.0</td>\n",
       "      <td>Sell Out RTL Ago-24</td>\n",
       "      <td>654150</td>\n",
       "      <td>None</td>\n",
       "      <td>Retail</td>\n",
       "      <td>Suzuki</td>\n",
       "      <td>CL RETAIL</td>\n",
       "    </tr>\n",
       "    <tr>\n",
       "      <th>1400060</th>\n",
       "      <td>2024-08-01</td>\n",
       "      <td>656348</td>\n",
       "      <td>Retail</td>\n",
       "      <td>2.0</td>\n",
       "      <td>Sell Out RTL Ago-24</td>\n",
       "      <td>656348</td>\n",
       "      <td>None</td>\n",
       "      <td>Retail</td>\n",
       "      <td>Suzuki</td>\n",
       "      <td>CL RETAIL</td>\n",
       "    </tr>\n",
       "  </tbody>\n",
       "</table>\n",
       "</div>"
      ],
      "text/plain": [
       "               Mes Material   Canal  Venta UMB               Fuente  \\\n",
       "1400059 2024-08-01   654150  Retail        2.0  Sell Out RTL Ago-24   \n",
       "1400060 2024-08-01   656348  Retail        2.0  Sell Out RTL Ago-24   \n",
       "\n",
       "        Ultimo Eslabón  Tipo Canal 2 Nombre Sector    Canal 3  \n",
       "1400059         654150  None  Retail        Suzuki  CL RETAIL  \n",
       "1400060         656348  None  Retail        Suzuki  CL RETAIL  "
      ]
     },
     "execution_count": 74,
     "metadata": {},
     "output_type": "execute_result"
    }
   ],
   "source": [
    "df_combinado.tail(2)"
   ]
  },
  {
   "cell_type": "code",
   "execution_count": 75,
   "metadata": {},
   "outputs": [
    {
     "data": {
      "text/html": [
       "<div>\n",
       "<style scoped>\n",
       "    .dataframe tbody tr th:only-of-type {\n",
       "        vertical-align: middle;\n",
       "    }\n",
       "\n",
       "    .dataframe tbody tr th {\n",
       "        vertical-align: top;\n",
       "    }\n",
       "\n",
       "    .dataframe thead th {\n",
       "        text-align: right;\n",
       "    }\n",
       "</style>\n",
       "<table border=\"1\" class=\"dataframe\">\n",
       "  <thead>\n",
       "    <tr style=\"text-align: right;\">\n",
       "      <th></th>\n",
       "      <th>Material</th>\n",
       "      <th>Canal</th>\n",
       "      <th>Venta UMB</th>\n",
       "    </tr>\n",
       "  </thead>\n",
       "  <tbody>\n",
       "    <tr>\n",
       "      <th>0</th>\n",
       "      <td>1000147</td>\n",
       "      <td>Retail</td>\n",
       "      <td>56</td>\n",
       "    </tr>\n",
       "    <tr>\n",
       "      <th>1</th>\n",
       "      <td>1000148</td>\n",
       "      <td>Retail</td>\n",
       "      <td>102</td>\n",
       "    </tr>\n",
       "  </tbody>\n",
       "</table>\n",
       "</div>"
      ],
      "text/plain": [
       "  Material   Canal  Venta UMB\n",
       "0  1000147  Retail         56\n",
       "1  1000148  Retail        102"
      ]
     },
     "execution_count": 75,
     "metadata": {},
     "output_type": "execute_result"
    }
   ],
   "source": [
    "td_sellin.head(2)"
   ]
  },
  {
   "cell_type": "code",
   "execution_count": 76,
   "metadata": {},
   "outputs": [
    {
     "data": {
      "text/plain": [
       "(1400061, 10)"
      ]
     },
     "execution_count": 76,
     "metadata": {},
     "output_type": "execute_result"
    }
   ],
   "source": [
    "df_combinado.shape"
   ]
  },
  {
   "cell_type": "code",
   "execution_count": 77,
   "metadata": {},
   "outputs": [],
   "source": [
    "from datetime import datetime, timedelta\n",
    "\n",
    "# Diccionario de meses abreviados en español\n",
    "meses_abreviados = {\n",
    "    1: 'Ene', 2: 'Feb', 3: 'Mar', 4: 'Abr', 5: 'May', 6: 'Jun',\n",
    "    7: 'Jul', 8: 'Ago', 9: 'Sept', 10: 'Oct', 11: 'Nov', 12: 'Dic'\n",
    "}\n",
    "\n",
    "nuevas_filas = td_sellin.copy()\n",
    "\n",
    "\n",
    "# Obtener las fechas relevantes\n",
    "fecha_actual = datetime.now().replace(day=1)  # Primer día del mes actual\n",
    "fecha_mes_anterior = fecha_actual - timedelta(days=1)  # Retrocede un día para llegar al mes anterior\n",
    "fecha_mes_anterior = fecha_mes_anterior.replace(day=1)  # Primer día del mes anterior\n",
    "\n",
    "# Formatear fechas para columnas específicas\n",
    "fecha_mes_anterior_str = fecha_mes_anterior.strftime('%d-%m-%Y')\n",
    "mes_numero = fecha_mes_anterior.month  # Obtiene el número del mes anterior\n",
    "mes_abreviado = meses_abreviados[mes_numero]  # Usa el diccionario para obtener la abreviatura en español\n",
    "ano_actual_yy = fecha_mes_anterior.strftime('%y')  # Año actual en formato YY\n",
    "\n",
    "\n",
    "# Añadir la columna 'Fuente' con el formato requerido\n",
    "nuevas_filas['Fuente'] = f\"Sell Out RTL {mes_abreviado}-{ano_actual_yy}\"\n",
    "\n",
    "# Asegurar que todas las columnas de df_combinado estén en nuevas_filas\n",
    "for col in df_combinado.columns:\n",
    "    if col not in nuevas_filas:\n",
    "        nuevas_filas[col] = None  # Añade columnas faltantes como None o un valor por defecto\n",
    "\n",
    "\n"
   ]
  },
  {
   "cell_type": "code",
   "execution_count": 78,
   "metadata": {},
   "outputs": [
    {
     "data": {
      "text/html": [
       "<div>\n",
       "<style scoped>\n",
       "    .dataframe tbody tr th:only-of-type {\n",
       "        vertical-align: middle;\n",
       "    }\n",
       "\n",
       "    .dataframe tbody tr th {\n",
       "        vertical-align: top;\n",
       "    }\n",
       "\n",
       "    .dataframe thead th {\n",
       "        text-align: right;\n",
       "    }\n",
       "</style>\n",
       "<table border=\"1\" class=\"dataframe\">\n",
       "  <thead>\n",
       "    <tr style=\"text-align: right;\">\n",
       "      <th></th>\n",
       "      <th>Mes</th>\n",
       "      <th>Material</th>\n",
       "      <th>Canal</th>\n",
       "      <th>Venta UMB</th>\n",
       "      <th>Fuente</th>\n",
       "      <th>Ultimo Eslabón</th>\n",
       "      <th>Tipo</th>\n",
       "      <th>Canal 2</th>\n",
       "      <th>Nombre Sector</th>\n",
       "      <th>Canal 3</th>\n",
       "    </tr>\n",
       "  </thead>\n",
       "  <tbody>\n",
       "    <tr>\n",
       "      <th>1400051</th>\n",
       "      <td>2024-08-01</td>\n",
       "      <td>538395</td>\n",
       "      <td>Retail</td>\n",
       "      <td>5.0</td>\n",
       "      <td>Sell Out RTL Ago-24</td>\n",
       "      <td>538395</td>\n",
       "      <td>None</td>\n",
       "      <td>Retail</td>\n",
       "      <td>Suzuki</td>\n",
       "      <td>CL RETAIL</td>\n",
       "    </tr>\n",
       "    <tr>\n",
       "      <th>1400052</th>\n",
       "      <td>2024-08-01</td>\n",
       "      <td>550060</td>\n",
       "      <td>Retail</td>\n",
       "      <td>1.0</td>\n",
       "      <td>Sell Out RTL Ago-24</td>\n",
       "      <td>550060</td>\n",
       "      <td>None</td>\n",
       "      <td>Retail</td>\n",
       "      <td>Suzuki</td>\n",
       "      <td>CL RETAIL</td>\n",
       "    </tr>\n",
       "    <tr>\n",
       "      <th>1400053</th>\n",
       "      <td>2024-08-01</td>\n",
       "      <td>550991</td>\n",
       "      <td>Retail</td>\n",
       "      <td>1.0</td>\n",
       "      <td>Sell Out RTL Ago-24</td>\n",
       "      <td>550991</td>\n",
       "      <td>None</td>\n",
       "      <td>Retail</td>\n",
       "      <td>JAC Cars</td>\n",
       "      <td>CL RETAIL</td>\n",
       "    </tr>\n",
       "    <tr>\n",
       "      <th>1400054</th>\n",
       "      <td>2024-08-01</td>\n",
       "      <td>556685</td>\n",
       "      <td>Retail</td>\n",
       "      <td>4.0</td>\n",
       "      <td>Sell Out RTL Ago-24</td>\n",
       "      <td>556685</td>\n",
       "      <td>None</td>\n",
       "      <td>Retail</td>\n",
       "      <td>Suzuki</td>\n",
       "      <td>CL RETAIL</td>\n",
       "    </tr>\n",
       "    <tr>\n",
       "      <th>1400055</th>\n",
       "      <td>2024-08-01</td>\n",
       "      <td>557013</td>\n",
       "      <td>Retail</td>\n",
       "      <td>4.0</td>\n",
       "      <td>Sell Out RTL Ago-24</td>\n",
       "      <td>557013</td>\n",
       "      <td>None</td>\n",
       "      <td>Retail</td>\n",
       "      <td>JAC Truck</td>\n",
       "      <td>CL RETAIL</td>\n",
       "    </tr>\n",
       "    <tr>\n",
       "      <th>1400056</th>\n",
       "      <td>2024-08-01</td>\n",
       "      <td>638773</td>\n",
       "      <td>Retail</td>\n",
       "      <td>2.0</td>\n",
       "      <td>Sell Out RTL Ago-24</td>\n",
       "      <td>638772</td>\n",
       "      <td>None</td>\n",
       "      <td>Retail</td>\n",
       "      <td>Suzuki</td>\n",
       "      <td>CL RETAIL</td>\n",
       "    </tr>\n",
       "    <tr>\n",
       "      <th>1400057</th>\n",
       "      <td>2024-08-01</td>\n",
       "      <td>645539</td>\n",
       "      <td>Retail</td>\n",
       "      <td>1.0</td>\n",
       "      <td>Sell Out RTL Ago-24</td>\n",
       "      <td>645539</td>\n",
       "      <td>None</td>\n",
       "      <td>Retail</td>\n",
       "      <td>Suzuki</td>\n",
       "      <td>CL RETAIL</td>\n",
       "    </tr>\n",
       "    <tr>\n",
       "      <th>1400058</th>\n",
       "      <td>2024-08-01</td>\n",
       "      <td>646167</td>\n",
       "      <td>Retail</td>\n",
       "      <td>2.0</td>\n",
       "      <td>Sell Out RTL Ago-24</td>\n",
       "      <td>1070275</td>\n",
       "      <td>None</td>\n",
       "      <td>Retail</td>\n",
       "      <td>Renault</td>\n",
       "      <td>CL RETAIL</td>\n",
       "    </tr>\n",
       "    <tr>\n",
       "      <th>1400059</th>\n",
       "      <td>2024-08-01</td>\n",
       "      <td>654150</td>\n",
       "      <td>Retail</td>\n",
       "      <td>2.0</td>\n",
       "      <td>Sell Out RTL Ago-24</td>\n",
       "      <td>654150</td>\n",
       "      <td>None</td>\n",
       "      <td>Retail</td>\n",
       "      <td>Suzuki</td>\n",
       "      <td>CL RETAIL</td>\n",
       "    </tr>\n",
       "    <tr>\n",
       "      <th>1400060</th>\n",
       "      <td>2024-08-01</td>\n",
       "      <td>656348</td>\n",
       "      <td>Retail</td>\n",
       "      <td>2.0</td>\n",
       "      <td>Sell Out RTL Ago-24</td>\n",
       "      <td>656348</td>\n",
       "      <td>None</td>\n",
       "      <td>Retail</td>\n",
       "      <td>Suzuki</td>\n",
       "      <td>CL RETAIL</td>\n",
       "    </tr>\n",
       "  </tbody>\n",
       "</table>\n",
       "</div>"
      ],
      "text/plain": [
       "               Mes Material   Canal  Venta UMB               Fuente  \\\n",
       "1400051 2024-08-01   538395  Retail        5.0  Sell Out RTL Ago-24   \n",
       "1400052 2024-08-01   550060  Retail        1.0  Sell Out RTL Ago-24   \n",
       "1400053 2024-08-01   550991  Retail        1.0  Sell Out RTL Ago-24   \n",
       "1400054 2024-08-01   556685  Retail        4.0  Sell Out RTL Ago-24   \n",
       "1400055 2024-08-01   557013  Retail        4.0  Sell Out RTL Ago-24   \n",
       "1400056 2024-08-01   638773  Retail        2.0  Sell Out RTL Ago-24   \n",
       "1400057 2024-08-01   645539  Retail        1.0  Sell Out RTL Ago-24   \n",
       "1400058 2024-08-01   646167  Retail        2.0  Sell Out RTL Ago-24   \n",
       "1400059 2024-08-01   654150  Retail        2.0  Sell Out RTL Ago-24   \n",
       "1400060 2024-08-01   656348  Retail        2.0  Sell Out RTL Ago-24   \n",
       "\n",
       "        Ultimo Eslabón  Tipo Canal 2 Nombre Sector    Canal 3  \n",
       "1400051         538395  None  Retail        Suzuki  CL RETAIL  \n",
       "1400052         550060  None  Retail        Suzuki  CL RETAIL  \n",
       "1400053         550991  None  Retail      JAC Cars  CL RETAIL  \n",
       "1400054         556685  None  Retail        Suzuki  CL RETAIL  \n",
       "1400055         557013  None  Retail     JAC Truck  CL RETAIL  \n",
       "1400056         638772  None  Retail        Suzuki  CL RETAIL  \n",
       "1400057         645539  None  Retail        Suzuki  CL RETAIL  \n",
       "1400058        1070275  None  Retail       Renault  CL RETAIL  \n",
       "1400059         654150  None  Retail        Suzuki  CL RETAIL  \n",
       "1400060         656348  None  Retail        Suzuki  CL RETAIL  "
      ]
     },
     "execution_count": 78,
     "metadata": {},
     "output_type": "execute_result"
    }
   ],
   "source": [
    "df_combinado.tail(10)"
   ]
  },
  {
   "cell_type": "code",
   "execution_count": 79,
   "metadata": {},
   "outputs": [
    {
     "data": {
      "text/html": [
       "<div>\n",
       "<style scoped>\n",
       "    .dataframe tbody tr th:only-of-type {\n",
       "        vertical-align: middle;\n",
       "    }\n",
       "\n",
       "    .dataframe tbody tr th {\n",
       "        vertical-align: top;\n",
       "    }\n",
       "\n",
       "    .dataframe thead th {\n",
       "        text-align: right;\n",
       "    }\n",
       "</style>\n",
       "<table border=\"1\" class=\"dataframe\">\n",
       "  <thead>\n",
       "    <tr style=\"text-align: right;\">\n",
       "      <th></th>\n",
       "      <th>Material</th>\n",
       "      <th>Canal</th>\n",
       "      <th>Venta UMB</th>\n",
       "      <th>Fuente</th>\n",
       "      <th>Mes</th>\n",
       "      <th>Ultimo Eslabón</th>\n",
       "      <th>Tipo</th>\n",
       "      <th>Canal 2</th>\n",
       "      <th>Nombre Sector</th>\n",
       "      <th>Canal 3</th>\n",
       "    </tr>\n",
       "  </thead>\n",
       "  <tbody>\n",
       "    <tr>\n",
       "      <th>0</th>\n",
       "      <td>1000147</td>\n",
       "      <td>Retail</td>\n",
       "      <td>56</td>\n",
       "      <td>Sell Out RTL Sept-24</td>\n",
       "      <td>None</td>\n",
       "      <td>None</td>\n",
       "      <td>None</td>\n",
       "      <td>None</td>\n",
       "      <td>None</td>\n",
       "      <td>None</td>\n",
       "    </tr>\n",
       "  </tbody>\n",
       "</table>\n",
       "</div>"
      ],
      "text/plain": [
       "  Material   Canal  Venta UMB                Fuente   Mes Ultimo Eslabón  \\\n",
       "0  1000147  Retail         56  Sell Out RTL Sept-24  None           None   \n",
       "\n",
       "   Tipo Canal 2 Nombre Sector Canal 3  \n",
       "0  None    None          None    None  "
      ]
     },
     "execution_count": 79,
     "metadata": {},
     "output_type": "execute_result"
    }
   ],
   "source": [
    "nuevas_filas.head(1)"
   ]
  },
  {
   "cell_type": "code",
   "execution_count": 80,
   "metadata": {},
   "outputs": [
    {
     "data": {
      "text/plain": [
       "(9103, 10)"
      ]
     },
     "execution_count": 80,
     "metadata": {},
     "output_type": "execute_result"
    }
   ],
   "source": [
    "nuevas_filas.shape"
   ]
  },
  {
   "cell_type": "code",
   "execution_count": 81,
   "metadata": {},
   "outputs": [
    {
     "data": {
      "text/plain": [
       "541292"
      ]
     },
     "execution_count": 81,
     "metadata": {},
     "output_type": "execute_result"
    }
   ],
   "source": [
    "sumafilas=nuevas_filas['Venta UMB'].sum()\n",
    "sumafilas"
   ]
  },
  {
   "cell_type": "code",
   "execution_count": 82,
   "metadata": {},
   "outputs": [
    {
     "data": {
      "text/plain": [
       "Index(['Mes', 'Material', 'Canal', 'Venta UMB', 'Fuente', 'Ultimo Eslabón',\n",
       "       'Tipo', 'Canal 2', 'Nombre Sector', 'Canal 3'],\n",
       "      dtype='object')"
      ]
     },
     "execution_count": 82,
     "metadata": {},
     "output_type": "execute_result"
    }
   ],
   "source": [
    "df_combinado.columns"
   ]
  },
  {
   "cell_type": "code",
   "execution_count": 83,
   "metadata": {},
   "outputs": [
    {
     "data": {
      "text/plain": [
       "Index(['Material', 'Canal', 'Venta UMB', 'Fuente', 'Mes', 'Ultimo Eslabón',\n",
       "       'Tipo', 'Canal 2', 'Nombre Sector', 'Canal 3'],\n",
       "      dtype='object')"
      ]
     },
     "execution_count": 83,
     "metadata": {},
     "output_type": "execute_result"
    }
   ],
   "source": [
    "nuevas_filas.columns"
   ]
  },
  {
   "cell_type": "code",
   "execution_count": 84,
   "metadata": {},
   "outputs": [],
   "source": [
    "# Reordenar las columnas de nuevas_filas para que coincidan con df_combinado\n",
    "nuevas_filas = nuevas_filas[['Canal', 'Material', 'Venta UMB', 'Mes', 'Ultimo Eslabón',\n",
    "                             'Tipo', 'Fuente', 'Canal 2', 'Canal 3']]\n",
    "\n"
   ]
  },
  {
   "cell_type": "code",
   "execution_count": 85,
   "metadata": {},
   "outputs": [
    {
     "data": {
      "text/html": [
       "<div>\n",
       "<style scoped>\n",
       "    .dataframe tbody tr th:only-of-type {\n",
       "        vertical-align: middle;\n",
       "    }\n",
       "\n",
       "    .dataframe tbody tr th {\n",
       "        vertical-align: top;\n",
       "    }\n",
       "\n",
       "    .dataframe thead th {\n",
       "        text-align: right;\n",
       "    }\n",
       "</style>\n",
       "<table border=\"1\" class=\"dataframe\">\n",
       "  <thead>\n",
       "    <tr style=\"text-align: right;\">\n",
       "      <th></th>\n",
       "      <th>Canal</th>\n",
       "      <th>Material</th>\n",
       "      <th>Venta UMB</th>\n",
       "      <th>Mes</th>\n",
       "      <th>Ultimo Eslabón</th>\n",
       "      <th>Tipo</th>\n",
       "      <th>Fuente</th>\n",
       "      <th>Canal 2</th>\n",
       "      <th>Canal 3</th>\n",
       "    </tr>\n",
       "  </thead>\n",
       "  <tbody>\n",
       "    <tr>\n",
       "      <th>0</th>\n",
       "      <td>Retail</td>\n",
       "      <td>1000147</td>\n",
       "      <td>56</td>\n",
       "      <td>None</td>\n",
       "      <td>None</td>\n",
       "      <td>None</td>\n",
       "      <td>Sell Out RTL Sept-24</td>\n",
       "      <td>None</td>\n",
       "      <td>None</td>\n",
       "    </tr>\n",
       "    <tr>\n",
       "      <th>1</th>\n",
       "      <td>Retail</td>\n",
       "      <td>1000148</td>\n",
       "      <td>102</td>\n",
       "      <td>None</td>\n",
       "      <td>None</td>\n",
       "      <td>None</td>\n",
       "      <td>Sell Out RTL Sept-24</td>\n",
       "      <td>None</td>\n",
       "      <td>None</td>\n",
       "    </tr>\n",
       "  </tbody>\n",
       "</table>\n",
       "</div>"
      ],
      "text/plain": [
       "    Canal Material  Venta UMB   Mes Ultimo Eslabón  Tipo  \\\n",
       "0  Retail  1000147         56  None           None  None   \n",
       "1  Retail  1000148        102  None           None  None   \n",
       "\n",
       "                 Fuente Canal 2 Canal 3  \n",
       "0  Sell Out RTL Sept-24    None    None  \n",
       "1  Sell Out RTL Sept-24    None    None  "
      ]
     },
     "execution_count": 85,
     "metadata": {},
     "output_type": "execute_result"
    }
   ],
   "source": [
    "nuevas_filas.head(2)"
   ]
  },
  {
   "cell_type": "code",
   "execution_count": 86,
   "metadata": {},
   "outputs": [
    {
     "data": {
      "text/html": [
       "<div>\n",
       "<style scoped>\n",
       "    .dataframe tbody tr th:only-of-type {\n",
       "        vertical-align: middle;\n",
       "    }\n",
       "\n",
       "    .dataframe tbody tr th {\n",
       "        vertical-align: top;\n",
       "    }\n",
       "\n",
       "    .dataframe thead th {\n",
       "        text-align: right;\n",
       "    }\n",
       "</style>\n",
       "<table border=\"1\" class=\"dataframe\">\n",
       "  <thead>\n",
       "    <tr style=\"text-align: right;\">\n",
       "      <th></th>\n",
       "      <th>Canal</th>\n",
       "      <th>Material</th>\n",
       "      <th>Venta UMB</th>\n",
       "      <th>Mes</th>\n",
       "      <th>Ultimo Eslabón</th>\n",
       "      <th>Tipo</th>\n",
       "      <th>Fuente</th>\n",
       "      <th>Canal 2</th>\n",
       "      <th>Canal 3</th>\n",
       "      <th>SI/SO</th>\n",
       "    </tr>\n",
       "  </thead>\n",
       "  <tbody>\n",
       "    <tr>\n",
       "      <th>0</th>\n",
       "      <td>Retail</td>\n",
       "      <td>1000147</td>\n",
       "      <td>56</td>\n",
       "      <td>2024-09-01</td>\n",
       "      <td>None</td>\n",
       "      <td>None</td>\n",
       "      <td>Sell Out RTL Sept-24</td>\n",
       "      <td>Retail</td>\n",
       "      <td>None</td>\n",
       "      <td>SO</td>\n",
       "    </tr>\n",
       "  </tbody>\n",
       "</table>\n",
       "</div>"
      ],
      "text/plain": [
       "    Canal Material  Venta UMB         Mes Ultimo Eslabón  Tipo  \\\n",
       "0  Retail  1000147         56  2024-09-01           None  None   \n",
       "\n",
       "                 Fuente Canal 2 Canal 3 SI/SO  \n",
       "0  Sell Out RTL Sept-24  Retail    None    SO  "
      ]
     },
     "execution_count": 86,
     "metadata": {},
     "output_type": "execute_result"
    }
   ],
   "source": [
    "import pandas as pd\n",
    "from datetime import datetime, timedelta\n",
    "nuevas_filas['SI/SO'] = 'SO'\n",
    "nuevas_filas['Canal'] = 'Retail'\n",
    "nuevas_filas['Canal 2'] = 'Retail'\n",
    "\n",
    "\n",
    "primer_dia_mes_anterior = (fecha_actual.replace(day=1) - timedelta(days=1)).replace(day=1)\n",
    "\n",
    "# Crear una columna 'Mes' con el formato especificado\n",
    "nuevas_filas['Mes'] = primer_dia_mes_anterior.strftime('%Y-%m-%d')\n",
    "nuevas_filas.head(1)"
   ]
  },
  {
   "cell_type": "code",
   "execution_count": 87,
   "metadata": {},
   "outputs": [
    {
     "data": {
      "text/plain": [
       "541292"
      ]
     },
     "execution_count": 87,
     "metadata": {},
     "output_type": "execute_result"
    }
   ],
   "source": [
    "sumanf=nuevas_filas['Venta UMB'].sum()\n",
    "sumanf"
   ]
  },
  {
   "cell_type": "code",
   "execution_count": 88,
   "metadata": {},
   "outputs": [
    {
     "data": {
      "text/plain": [
       "61703156.08033333"
      ]
     },
     "execution_count": 88,
     "metadata": {},
     "output_type": "execute_result"
    }
   ],
   "source": [
    "sumadca2=df_combinado['Venta UMB'].sum()\n",
    "sumadca2"
   ]
  },
  {
   "cell_type": "code",
   "execution_count": 89,
   "metadata": {},
   "outputs": [
    {
     "data": {
      "text/plain": [
       "(9103, 10)"
      ]
     },
     "execution_count": 89,
     "metadata": {},
     "output_type": "execute_result"
    }
   ],
   "source": [
    "nuevas_filas.shape"
   ]
  },
  {
   "cell_type": "code",
   "execution_count": 90,
   "metadata": {},
   "outputs": [
    {
     "data": {
      "text/plain": [
       "(1400061, 10)"
      ]
     },
     "execution_count": 90,
     "metadata": {},
     "output_type": "execute_result"
    }
   ],
   "source": [
    "df_combinado.shape"
   ]
  },
  {
   "cell_type": "code",
   "execution_count": 91,
   "metadata": {},
   "outputs": [
    {
     "data": {
      "text/plain": [
       "61703156.08033333"
      ]
     },
     "execution_count": 91,
     "metadata": {},
     "output_type": "execute_result"
    }
   ],
   "source": [
    "sumadfcombinado = df_combinado['Venta UMB'].sum()\n",
    "sumadfcombinado"
   ]
  },
  {
   "cell_type": "code",
   "execution_count": 92,
   "metadata": {},
   "outputs": [],
   "source": [
    "# Concatenar el DataFrame original con las nuevas filas\n",
    "df_combinado_actualizado2 = pd.concat([df_combinado, nuevas_filas], ignore_index=True)"
   ]
  },
  {
   "cell_type": "code",
   "execution_count": 93,
   "metadata": {},
   "outputs": [
    {
     "data": {
      "text/plain": [
       "62244448.08033333"
      ]
     },
     "execution_count": 93,
     "metadata": {},
     "output_type": "execute_result"
    }
   ],
   "source": [
    "sumadfcombinado = df_combinado_actualizado2['Venta UMB'].sum()\n",
    "sumadfcombinado"
   ]
  },
  {
   "cell_type": "code",
   "execution_count": 94,
   "metadata": {},
   "outputs": [
    {
     "data": {
      "text/html": [
       "<div>\n",
       "<style scoped>\n",
       "    .dataframe tbody tr th:only-of-type {\n",
       "        vertical-align: middle;\n",
       "    }\n",
       "\n",
       "    .dataframe tbody tr th {\n",
       "        vertical-align: top;\n",
       "    }\n",
       "\n",
       "    .dataframe thead th {\n",
       "        text-align: right;\n",
       "    }\n",
       "</style>\n",
       "<table border=\"1\" class=\"dataframe\">\n",
       "  <thead>\n",
       "    <tr style=\"text-align: right;\">\n",
       "      <th></th>\n",
       "      <th>Mes</th>\n",
       "      <th>Material</th>\n",
       "      <th>Canal</th>\n",
       "      <th>Venta UMB</th>\n",
       "      <th>Fuente</th>\n",
       "      <th>Ultimo Eslabón</th>\n",
       "      <th>Tipo</th>\n",
       "      <th>Canal 2</th>\n",
       "      <th>Nombre Sector</th>\n",
       "      <th>Canal 3</th>\n",
       "      <th>SI/SO</th>\n",
       "    </tr>\n",
       "  </thead>\n",
       "  <tbody>\n",
       "    <tr>\n",
       "      <th>1409162</th>\n",
       "      <td>2024-09-01</td>\n",
       "      <td>750797</td>\n",
       "      <td>Retail</td>\n",
       "      <td>3.0</td>\n",
       "      <td>Sell Out RTL Sept-24</td>\n",
       "      <td>None</td>\n",
       "      <td>None</td>\n",
       "      <td>Retail</td>\n",
       "      <td>NaN</td>\n",
       "      <td>None</td>\n",
       "      <td>SO</td>\n",
       "    </tr>\n",
       "    <tr>\n",
       "      <th>1409163</th>\n",
       "      <td>2024-09-01</td>\n",
       "      <td>752466</td>\n",
       "      <td>Retail</td>\n",
       "      <td>1.0</td>\n",
       "      <td>Sell Out RTL Sept-24</td>\n",
       "      <td>None</td>\n",
       "      <td>None</td>\n",
       "      <td>Retail</td>\n",
       "      <td>NaN</td>\n",
       "      <td>None</td>\n",
       "      <td>SO</td>\n",
       "    </tr>\n",
       "  </tbody>\n",
       "</table>\n",
       "</div>"
      ],
      "text/plain": [
       "                Mes Material   Canal  Venta UMB                Fuente  \\\n",
       "1409162  2024-09-01   750797  Retail        3.0  Sell Out RTL Sept-24   \n",
       "1409163  2024-09-01   752466  Retail        1.0  Sell Out RTL Sept-24   \n",
       "\n",
       "        Ultimo Eslabón  Tipo Canal 2 Nombre Sector Canal 3 SI/SO  \n",
       "1409162           None  None  Retail           NaN    None    SO  \n",
       "1409163           None  None  Retail           NaN    None    SO  "
      ]
     },
     "execution_count": 94,
     "metadata": {},
     "output_type": "execute_result"
    }
   ],
   "source": [
    "df_combinado_actualizado2.tail(2)"
   ]
  },
  {
   "cell_type": "code",
   "execution_count": 95,
   "metadata": {},
   "outputs": [],
   "source": [
    "df_combinado_actualizado2['Material'] = df_combinado_actualizado2['Material'].astype(str).str.replace('.0', '', regex=False)"
   ]
  },
  {
   "cell_type": "code",
   "execution_count": 96,
   "metadata": {},
   "outputs": [
    {
     "data": {
      "text/html": [
       "<div>\n",
       "<style scoped>\n",
       "    .dataframe tbody tr th:only-of-type {\n",
       "        vertical-align: middle;\n",
       "    }\n",
       "\n",
       "    .dataframe tbody tr th {\n",
       "        vertical-align: top;\n",
       "    }\n",
       "\n",
       "    .dataframe thead th {\n",
       "        text-align: right;\n",
       "    }\n",
       "</style>\n",
       "<table border=\"1\" class=\"dataframe\">\n",
       "  <thead>\n",
       "    <tr style=\"text-align: right;\">\n",
       "      <th></th>\n",
       "      <th>Mes</th>\n",
       "      <th>Material</th>\n",
       "      <th>Canal</th>\n",
       "      <th>Venta UMB</th>\n",
       "      <th>Fuente</th>\n",
       "      <th>Ultimo Eslabón</th>\n",
       "      <th>Tipo</th>\n",
       "      <th>Canal 2</th>\n",
       "      <th>Nombre Sector</th>\n",
       "      <th>Canal 3</th>\n",
       "      <th>SI/SO</th>\n",
       "    </tr>\n",
       "  </thead>\n",
       "  <tbody>\n",
       "    <tr>\n",
       "      <th>0</th>\n",
       "      <td>2021-06-01 00:00:00</td>\n",
       "      <td>1000147</td>\n",
       "      <td>AP</td>\n",
       "      <td>52.0</td>\n",
       "      <td>Sell Out MB51 - SISO</td>\n",
       "      <td>1000147</td>\n",
       "      <td>ACC</td>\n",
       "      <td>Retail</td>\n",
       "      <td>ACC</td>\n",
       "      <td>CL RETAIL</td>\n",
       "      <td>NaN</td>\n",
       "    </tr>\n",
       "    <tr>\n",
       "      <th>1</th>\n",
       "      <td>2021-05-01 00:00:00</td>\n",
       "      <td>1000147</td>\n",
       "      <td>AP</td>\n",
       "      <td>40.0</td>\n",
       "      <td>Sell Out MB51 - SISO</td>\n",
       "      <td>1000147</td>\n",
       "      <td>ACC</td>\n",
       "      <td>Retail</td>\n",
       "      <td>ACC</td>\n",
       "      <td>CL RETAIL</td>\n",
       "      <td>NaN</td>\n",
       "    </tr>\n",
       "    <tr>\n",
       "      <th>2</th>\n",
       "      <td>2021-04-01 00:00:00</td>\n",
       "      <td>1000147</td>\n",
       "      <td>AP</td>\n",
       "      <td>18.0</td>\n",
       "      <td>Sell Out MB51 - SISO</td>\n",
       "      <td>1000147</td>\n",
       "      <td>ACC</td>\n",
       "      <td>Retail</td>\n",
       "      <td>ACC</td>\n",
       "      <td>CL RETAIL</td>\n",
       "      <td>NaN</td>\n",
       "    </tr>\n",
       "    <tr>\n",
       "      <th>3</th>\n",
       "      <td>2021-03-01 00:00:00</td>\n",
       "      <td>1000147</td>\n",
       "      <td>AP</td>\n",
       "      <td>34.0</td>\n",
       "      <td>Sell Out MB51 - SISO</td>\n",
       "      <td>1000147</td>\n",
       "      <td>ACC</td>\n",
       "      <td>Retail</td>\n",
       "      <td>ACC</td>\n",
       "      <td>CL RETAIL</td>\n",
       "      <td>NaN</td>\n",
       "    </tr>\n",
       "    <tr>\n",
       "      <th>4</th>\n",
       "      <td>2021-02-01 00:00:00</td>\n",
       "      <td>1000147</td>\n",
       "      <td>AP</td>\n",
       "      <td>41.0</td>\n",
       "      <td>Sell Out MB51 - SISO</td>\n",
       "      <td>1000147</td>\n",
       "      <td>ACC</td>\n",
       "      <td>Retail</td>\n",
       "      <td>ACC</td>\n",
       "      <td>CL RETAIL</td>\n",
       "      <td>NaN</td>\n",
       "    </tr>\n",
       "    <tr>\n",
       "      <th>...</th>\n",
       "      <td>...</td>\n",
       "      <td>...</td>\n",
       "      <td>...</td>\n",
       "      <td>...</td>\n",
       "      <td>...</td>\n",
       "      <td>...</td>\n",
       "      <td>...</td>\n",
       "      <td>...</td>\n",
       "      <td>...</td>\n",
       "      <td>...</td>\n",
       "      <td>...</td>\n",
       "    </tr>\n",
       "    <tr>\n",
       "      <th>1409159</th>\n",
       "      <td>2024-09-01</td>\n",
       "      <td>746561</td>\n",
       "      <td>Retail</td>\n",
       "      <td>4.0</td>\n",
       "      <td>Sell Out RTL Sept-24</td>\n",
       "      <td>None</td>\n",
       "      <td>None</td>\n",
       "      <td>Retail</td>\n",
       "      <td>NaN</td>\n",
       "      <td>None</td>\n",
       "      <td>SO</td>\n",
       "    </tr>\n",
       "    <tr>\n",
       "      <th>1409160</th>\n",
       "      <td>2024-09-01</td>\n",
       "      <td>750405</td>\n",
       "      <td>Retail</td>\n",
       "      <td>23.0</td>\n",
       "      <td>Sell Out RTL Sept-24</td>\n",
       "      <td>None</td>\n",
       "      <td>None</td>\n",
       "      <td>Retail</td>\n",
       "      <td>NaN</td>\n",
       "      <td>None</td>\n",
       "      <td>SO</td>\n",
       "    </tr>\n",
       "    <tr>\n",
       "      <th>1409161</th>\n",
       "      <td>2024-09-01</td>\n",
       "      <td>750791</td>\n",
       "      <td>Retail</td>\n",
       "      <td>5.0</td>\n",
       "      <td>Sell Out RTL Sept-24</td>\n",
       "      <td>None</td>\n",
       "      <td>None</td>\n",
       "      <td>Retail</td>\n",
       "      <td>NaN</td>\n",
       "      <td>None</td>\n",
       "      <td>SO</td>\n",
       "    </tr>\n",
       "    <tr>\n",
       "      <th>1409162</th>\n",
       "      <td>2024-09-01</td>\n",
       "      <td>750797</td>\n",
       "      <td>Retail</td>\n",
       "      <td>3.0</td>\n",
       "      <td>Sell Out RTL Sept-24</td>\n",
       "      <td>None</td>\n",
       "      <td>None</td>\n",
       "      <td>Retail</td>\n",
       "      <td>NaN</td>\n",
       "      <td>None</td>\n",
       "      <td>SO</td>\n",
       "    </tr>\n",
       "    <tr>\n",
       "      <th>1409163</th>\n",
       "      <td>2024-09-01</td>\n",
       "      <td>752466</td>\n",
       "      <td>Retail</td>\n",
       "      <td>1.0</td>\n",
       "      <td>Sell Out RTL Sept-24</td>\n",
       "      <td>None</td>\n",
       "      <td>None</td>\n",
       "      <td>Retail</td>\n",
       "      <td>NaN</td>\n",
       "      <td>None</td>\n",
       "      <td>SO</td>\n",
       "    </tr>\n",
       "  </tbody>\n",
       "</table>\n",
       "<p>1409164 rows × 11 columns</p>\n",
       "</div>"
      ],
      "text/plain": [
       "                         Mes Material   Canal  Venta UMB  \\\n",
       "0        2021-06-01 00:00:00  1000147      AP       52.0   \n",
       "1        2021-05-01 00:00:00  1000147      AP       40.0   \n",
       "2        2021-04-01 00:00:00  1000147      AP       18.0   \n",
       "3        2021-03-01 00:00:00  1000147      AP       34.0   \n",
       "4        2021-02-01 00:00:00  1000147      AP       41.0   \n",
       "...                      ...      ...     ...        ...   \n",
       "1409159           2024-09-01   746561  Retail        4.0   \n",
       "1409160           2024-09-01   750405  Retail       23.0   \n",
       "1409161           2024-09-01   750791  Retail        5.0   \n",
       "1409162           2024-09-01   750797  Retail        3.0   \n",
       "1409163           2024-09-01   752466  Retail        1.0   \n",
       "\n",
       "                       Fuente Ultimo Eslabón  Tipo Canal 2 Nombre Sector  \\\n",
       "0        Sell Out MB51 - SISO        1000147   ACC  Retail           ACC   \n",
       "1        Sell Out MB51 - SISO        1000147   ACC  Retail           ACC   \n",
       "2        Sell Out MB51 - SISO        1000147   ACC  Retail           ACC   \n",
       "3        Sell Out MB51 - SISO        1000147   ACC  Retail           ACC   \n",
       "4        Sell Out MB51 - SISO        1000147   ACC  Retail           ACC   \n",
       "...                       ...            ...   ...     ...           ...   \n",
       "1409159  Sell Out RTL Sept-24           None  None  Retail           NaN   \n",
       "1409160  Sell Out RTL Sept-24           None  None  Retail           NaN   \n",
       "1409161  Sell Out RTL Sept-24           None  None  Retail           NaN   \n",
       "1409162  Sell Out RTL Sept-24           None  None  Retail           NaN   \n",
       "1409163  Sell Out RTL Sept-24           None  None  Retail           NaN   \n",
       "\n",
       "           Canal 3 SI/SO  \n",
       "0        CL RETAIL   NaN  \n",
       "1        CL RETAIL   NaN  \n",
       "2        CL RETAIL   NaN  \n",
       "3        CL RETAIL   NaN  \n",
       "4        CL RETAIL   NaN  \n",
       "...            ...   ...  \n",
       "1409159       None    SO  \n",
       "1409160       None    SO  \n",
       "1409161       None    SO  \n",
       "1409162       None    SO  \n",
       "1409163       None    SO  \n",
       "\n",
       "[1409164 rows x 11 columns]"
      ]
     },
     "execution_count": 96,
     "metadata": {},
     "output_type": "execute_result"
    }
   ],
   "source": [
    "df_combinado_actualizado2"
   ]
  },
  {
   "cell_type": "code",
   "execution_count": 97,
   "metadata": {},
   "outputs": [
    {
     "data": {
      "text/plain": [
       "array([Timestamp('2021-06-01 00:00:00'), Timestamp('2021-05-01 00:00:00'),\n",
       "       Timestamp('2021-04-01 00:00:00'), Timestamp('2021-03-01 00:00:00'),\n",
       "       Timestamp('2021-02-01 00:00:00'), Timestamp('2021-01-01 00:00:00'),\n",
       "       Timestamp('2020-12-01 00:00:00'), Timestamp('2020-11-01 00:00:00'),\n",
       "       Timestamp('2020-10-01 00:00:00'), Timestamp('2020-08-01 00:00:00'),\n",
       "       Timestamp('2020-07-01 00:00:00'), Timestamp('2020-06-01 00:00:00'),\n",
       "       Timestamp('2020-05-01 00:00:00'), Timestamp('2020-04-01 00:00:00'),\n",
       "       Timestamp('2020-03-01 00:00:00'), Timestamp('2020-02-01 00:00:00'),\n",
       "       Timestamp('2020-01-01 00:00:00'), Timestamp('2020-09-01 00:00:00'),\n",
       "       Timestamp('2021-08-01 00:00:00'), Timestamp('2021-07-01 00:00:00'),\n",
       "       Timestamp('2021-09-01 00:00:00'), Timestamp('2021-10-01 00:00:00'),\n",
       "       Timestamp('2021-11-01 00:00:00'), Timestamp('2021-12-01 00:00:00'),\n",
       "       Timestamp('2022-01-01 00:00:00'), Timestamp('2022-02-01 00:00:00'),\n",
       "       Timestamp('2022-03-01 00:00:00'), Timestamp('2022-04-01 00:00:00'),\n",
       "       Timestamp('2022-05-01 00:00:00'), Timestamp('2022-06-01 00:00:00'),\n",
       "       Timestamp('2022-07-01 00:00:00'), Timestamp('2022-08-01 00:00:00'),\n",
       "       Timestamp('2022-09-01 00:00:00'), Timestamp('2022-10-01 00:00:00'),\n",
       "       Timestamp('2022-11-01 00:00:00'), Timestamp('2022-12-01 00:00:00'),\n",
       "       Timestamp('2023-01-01 00:00:00'), Timestamp('2023-02-01 00:00:00'),\n",
       "       Timestamp('2023-03-01 00:00:00'), Timestamp('2023-04-01 00:00:00'),\n",
       "       Timestamp('2023-05-01 00:00:00'), Timestamp('2023-06-01 00:00:00'),\n",
       "       Timestamp('2023-07-01 00:00:00'), Timestamp('2023-08-01 00:00:00'),\n",
       "       Timestamp('2023-09-01 00:00:00'), Timestamp('2023-10-01 00:00:00'),\n",
       "       Timestamp('2023-11-01 00:00:00'), Timestamp('2023-12-01 00:00:00'),\n",
       "       Timestamp('2024-01-01 00:00:00'), Timestamp('2024-02-01 00:00:00'),\n",
       "       Timestamp('2024-03-01 00:00:00'), Timestamp('2024-04-01 00:00:00'),\n",
       "       Timestamp('2024-05-01 00:00:00'), Timestamp('2024-06-01 00:00:00'),\n",
       "       Timestamp('2024-07-01 00:00:00'), Timestamp('2024-08-01 00:00:00'),\n",
       "       Timestamp('2019-09-01 00:00:00'), Timestamp('2019-07-01 00:00:00'),\n",
       "       Timestamp('2019-08-01 00:00:00'), Timestamp('2019-10-01 00:00:00'),\n",
       "       Timestamp('2019-11-01 00:00:00'), Timestamp('2019-12-01 00:00:00'),\n",
       "       Timestamp('2019-04-01 00:00:00'), Timestamp('2019-05-01 00:00:00'),\n",
       "       Timestamp('2019-06-01 00:00:00'), Timestamp('2018-04-01 00:00:00'),\n",
       "       Timestamp('2018-01-01 00:00:00'), Timestamp('2018-02-01 00:00:00'),\n",
       "       Timestamp('2018-05-01 00:00:00'), Timestamp('2018-06-01 00:00:00'),\n",
       "       Timestamp('2018-07-01 00:00:00'), Timestamp('2019-02-01 00:00:00'),\n",
       "       Timestamp('2018-03-01 00:00:00'), Timestamp('2018-08-01 00:00:00'),\n",
       "       Timestamp('2018-09-01 00:00:00'), Timestamp('2018-10-01 00:00:00'),\n",
       "       Timestamp('2018-12-01 00:00:00'), Timestamp('2019-03-01 00:00:00'),\n",
       "       Timestamp('2018-11-01 00:00:00'), Timestamp('2019-01-01 00:00:00'),\n",
       "       '2024-09-01'], dtype=object)"
      ]
     },
     "execution_count": 97,
     "metadata": {},
     "output_type": "execute_result"
    }
   ],
   "source": [
    "df_combinado_actualizado2['Material'] = df_combinado_actualizado2['Material'].astype(str)\n",
    "ax = df_combinado_actualizado2['Mes'].unique()\n",
    "ax"
   ]
  },
  {
   "cell_type": "code",
   "execution_count": 98,
   "metadata": {},
   "outputs": [
    {
     "data": {
      "text/plain": [
       "10813"
      ]
     },
     "execution_count": 98,
     "metadata": {},
     "output_type": "execute_result"
    }
   ],
   "source": [
    "# Asegurarse de que la columna 'Mes' sea del tipo datetime\n",
    "df_combinado_actualizado2['Mes'] = pd.to_datetime(df_combinado_actualizado2['Mes'])\n",
    "\n",
    "# Contar las filas que tienen 'Mes' igual a \"2024-04-01\"\n",
    "lineas_con_mes_abril = df_combinado_actualizado2[df_combinado_actualizado2['Mes'] == \"2024-04-01\"].shape[0]\n",
    "\n",
    "lineas_con_mes_abril\n"
   ]
  },
  {
   "cell_type": "code",
   "execution_count": 99,
   "metadata": {},
   "outputs": [
    {
     "data": {
      "text/plain": [
       "0"
      ]
     },
     "execution_count": 99,
     "metadata": {},
     "output_type": "execute_result"
    }
   ],
   "source": [
    "# Contar las filas que contienen \"Abr-24\" en la columna 'Fuente'\n",
    "lineas_con_abr_24 = df_combinado_actualizado2[df_combinado_actualizado2['Fuente'].str.contains(\"Abr-24\", na=False)].shape[0]\n",
    "\n",
    "lineas_con_abr_24"
   ]
  },
  {
   "cell_type": "code",
   "execution_count": 100,
   "metadata": {},
   "outputs": [
    {
     "data": {
      "text/plain": [
       "62244448.08033333"
      ]
     },
     "execution_count": 100,
     "metadata": {},
     "output_type": "execute_result"
    }
   ],
   "source": [
    "sumadca23=df_combinado_actualizado2['Venta UMB'].sum()\n",
    "sumadca23"
   ]
  },
  {
   "cell_type": "code",
   "execution_count": 101,
   "metadata": {},
   "outputs": [],
   "source": [
    "\n",
    "# df_filtrado = df_combinado_actualizado2[df_combinado_actualizado2['Fuente'] == 'Sell In Abr-24']\n",
    "\n",
    "# # Verificar si hay filas filtradas\n",
    "# if not df_filtrado.empty:\n",
    "#     # Guardar el DataFrame filtrado en un archivo CSV\n",
    "#     ruta_archivo = r'C:\\Users\\etorres\\Desktop\\df_filtrado.csv'\n",
    "#     df_filtrado.to_csv(ruta_archivo, sep=';', decimal=',', index=False)\n",
    "#     print(f\"Se ha guardado el DataFrame filtrado en '{ruta_archivo}'\")\n",
    "# else:\n",
    "#     print(\"No hay filas que cumplan con el criterio de filtrado.\")\n"
   ]
  },
  {
   "cell_type": "code",
   "execution_count": 102,
   "metadata": {},
   "outputs": [
    {
     "data": {
      "text/html": [
       "<div>\n",
       "<style scoped>\n",
       "    .dataframe tbody tr th:only-of-type {\n",
       "        vertical-align: middle;\n",
       "    }\n",
       "\n",
       "    .dataframe tbody tr th {\n",
       "        vertical-align: top;\n",
       "    }\n",
       "\n",
       "    .dataframe thead th {\n",
       "        text-align: right;\n",
       "    }\n",
       "</style>\n",
       "<table border=\"1\" class=\"dataframe\">\n",
       "  <thead>\n",
       "    <tr style=\"text-align: right;\">\n",
       "      <th></th>\n",
       "      <th>Mes</th>\n",
       "      <th>Material</th>\n",
       "      <th>Canal</th>\n",
       "      <th>Venta UMB</th>\n",
       "      <th>Fuente</th>\n",
       "      <th>Ultimo Eslabón</th>\n",
       "      <th>Tipo</th>\n",
       "      <th>Canal 2</th>\n",
       "      <th>Nombre Sector</th>\n",
       "      <th>Canal 3</th>\n",
       "      <th>SI/SO</th>\n",
       "    </tr>\n",
       "  </thead>\n",
       "  <tbody>\n",
       "    <tr>\n",
       "      <th>1409162</th>\n",
       "      <td>2024-09-01</td>\n",
       "      <td>750797</td>\n",
       "      <td>Retail</td>\n",
       "      <td>3.0</td>\n",
       "      <td>Sell Out RTL Sept-24</td>\n",
       "      <td>None</td>\n",
       "      <td>None</td>\n",
       "      <td>Retail</td>\n",
       "      <td>NaN</td>\n",
       "      <td>None</td>\n",
       "      <td>SO</td>\n",
       "    </tr>\n",
       "    <tr>\n",
       "      <th>1409163</th>\n",
       "      <td>2024-09-01</td>\n",
       "      <td>752466</td>\n",
       "      <td>Retail</td>\n",
       "      <td>1.0</td>\n",
       "      <td>Sell Out RTL Sept-24</td>\n",
       "      <td>None</td>\n",
       "      <td>None</td>\n",
       "      <td>Retail</td>\n",
       "      <td>NaN</td>\n",
       "      <td>None</td>\n",
       "      <td>SO</td>\n",
       "    </tr>\n",
       "  </tbody>\n",
       "</table>\n",
       "</div>"
      ],
      "text/plain": [
       "               Mes Material   Canal  Venta UMB                Fuente  \\\n",
       "1409162 2024-09-01   750797  Retail        3.0  Sell Out RTL Sept-24   \n",
       "1409163 2024-09-01   752466  Retail        1.0  Sell Out RTL Sept-24   \n",
       "\n",
       "        Ultimo Eslabón  Tipo Canal 2 Nombre Sector Canal 3 SI/SO  \n",
       "1409162           None  None  Retail           NaN    None    SO  \n",
       "1409163           None  None  Retail           NaN    None    SO  "
      ]
     },
     "execution_count": 102,
     "metadata": {},
     "output_type": "execute_result"
    }
   ],
   "source": [
    "df_combinado_actualizado2.tail(2)"
   ]
  },
  {
   "cell_type": "markdown",
   "metadata": {},
   "source": []
  },
  {
   "cell_type": "code",
   "execution_count": 103,
   "metadata": {},
   "outputs": [
    {
     "data": {
      "text/html": [
       "<div>\n",
       "<style scoped>\n",
       "    .dataframe tbody tr th:only-of-type {\n",
       "        vertical-align: middle;\n",
       "    }\n",
       "\n",
       "    .dataframe tbody tr th {\n",
       "        vertical-align: top;\n",
       "    }\n",
       "\n",
       "    .dataframe thead th {\n",
       "        text-align: right;\n",
       "    }\n",
       "</style>\n",
       "<table border=\"1\" class=\"dataframe\">\n",
       "  <thead>\n",
       "    <tr style=\"text-align: right;\">\n",
       "      <th></th>\n",
       "      <th>Mes</th>\n",
       "      <th>Material</th>\n",
       "      <th>Canal</th>\n",
       "      <th>Venta UMB</th>\n",
       "      <th>Fuente</th>\n",
       "      <th>Ultimo Eslabón</th>\n",
       "      <th>Tipo</th>\n",
       "      <th>Canal 2</th>\n",
       "      <th>Nombre Sector</th>\n",
       "      <th>Canal 3</th>\n",
       "      <th>SI/SO</th>\n",
       "    </tr>\n",
       "  </thead>\n",
       "  <tbody>\n",
       "    <tr>\n",
       "      <th>0</th>\n",
       "      <td>2021-06-01</td>\n",
       "      <td>1000147</td>\n",
       "      <td>AP</td>\n",
       "      <td>52.0</td>\n",
       "      <td>Sell Out MB51 - SISO</td>\n",
       "      <td>1000147</td>\n",
       "      <td>ACC</td>\n",
       "      <td>Retail</td>\n",
       "      <td>ACC</td>\n",
       "      <td>CL RETAIL</td>\n",
       "      <td>NaN</td>\n",
       "    </tr>\n",
       "    <tr>\n",
       "      <th>1</th>\n",
       "      <td>2021-05-01</td>\n",
       "      <td>1000147</td>\n",
       "      <td>AP</td>\n",
       "      <td>40.0</td>\n",
       "      <td>Sell Out MB51 - SISO</td>\n",
       "      <td>1000147</td>\n",
       "      <td>ACC</td>\n",
       "      <td>Retail</td>\n",
       "      <td>ACC</td>\n",
       "      <td>CL RETAIL</td>\n",
       "      <td>NaN</td>\n",
       "    </tr>\n",
       "    <tr>\n",
       "      <th>2</th>\n",
       "      <td>2021-04-01</td>\n",
       "      <td>1000147</td>\n",
       "      <td>AP</td>\n",
       "      <td>18.0</td>\n",
       "      <td>Sell Out MB51 - SISO</td>\n",
       "      <td>1000147</td>\n",
       "      <td>ACC</td>\n",
       "      <td>Retail</td>\n",
       "      <td>ACC</td>\n",
       "      <td>CL RETAIL</td>\n",
       "      <td>NaN</td>\n",
       "    </tr>\n",
       "    <tr>\n",
       "      <th>3</th>\n",
       "      <td>2021-03-01</td>\n",
       "      <td>1000147</td>\n",
       "      <td>AP</td>\n",
       "      <td>34.0</td>\n",
       "      <td>Sell Out MB51 - SISO</td>\n",
       "      <td>1000147</td>\n",
       "      <td>ACC</td>\n",
       "      <td>Retail</td>\n",
       "      <td>ACC</td>\n",
       "      <td>CL RETAIL</td>\n",
       "      <td>NaN</td>\n",
       "    </tr>\n",
       "    <tr>\n",
       "      <th>4</th>\n",
       "      <td>2021-02-01</td>\n",
       "      <td>1000147</td>\n",
       "      <td>AP</td>\n",
       "      <td>41.0</td>\n",
       "      <td>Sell Out MB51 - SISO</td>\n",
       "      <td>1000147</td>\n",
       "      <td>ACC</td>\n",
       "      <td>Retail</td>\n",
       "      <td>ACC</td>\n",
       "      <td>CL RETAIL</td>\n",
       "      <td>NaN</td>\n",
       "    </tr>\n",
       "    <tr>\n",
       "      <th>...</th>\n",
       "      <td>...</td>\n",
       "      <td>...</td>\n",
       "      <td>...</td>\n",
       "      <td>...</td>\n",
       "      <td>...</td>\n",
       "      <td>...</td>\n",
       "      <td>...</td>\n",
       "      <td>...</td>\n",
       "      <td>...</td>\n",
       "      <td>...</td>\n",
       "      <td>...</td>\n",
       "    </tr>\n",
       "    <tr>\n",
       "      <th>1409159</th>\n",
       "      <td>2024-09-01</td>\n",
       "      <td>746561</td>\n",
       "      <td>Retail</td>\n",
       "      <td>4.0</td>\n",
       "      <td>Sell Out RTL Sept-24</td>\n",
       "      <td>None</td>\n",
       "      <td>None</td>\n",
       "      <td>Retail</td>\n",
       "      <td>NaN</td>\n",
       "      <td>None</td>\n",
       "      <td>SO</td>\n",
       "    </tr>\n",
       "    <tr>\n",
       "      <th>1409160</th>\n",
       "      <td>2024-09-01</td>\n",
       "      <td>750405</td>\n",
       "      <td>Retail</td>\n",
       "      <td>23.0</td>\n",
       "      <td>Sell Out RTL Sept-24</td>\n",
       "      <td>None</td>\n",
       "      <td>None</td>\n",
       "      <td>Retail</td>\n",
       "      <td>NaN</td>\n",
       "      <td>None</td>\n",
       "      <td>SO</td>\n",
       "    </tr>\n",
       "    <tr>\n",
       "      <th>1409161</th>\n",
       "      <td>2024-09-01</td>\n",
       "      <td>750791</td>\n",
       "      <td>Retail</td>\n",
       "      <td>5.0</td>\n",
       "      <td>Sell Out RTL Sept-24</td>\n",
       "      <td>None</td>\n",
       "      <td>None</td>\n",
       "      <td>Retail</td>\n",
       "      <td>NaN</td>\n",
       "      <td>None</td>\n",
       "      <td>SO</td>\n",
       "    </tr>\n",
       "    <tr>\n",
       "      <th>1409162</th>\n",
       "      <td>2024-09-01</td>\n",
       "      <td>750797</td>\n",
       "      <td>Retail</td>\n",
       "      <td>3.0</td>\n",
       "      <td>Sell Out RTL Sept-24</td>\n",
       "      <td>None</td>\n",
       "      <td>None</td>\n",
       "      <td>Retail</td>\n",
       "      <td>NaN</td>\n",
       "      <td>None</td>\n",
       "      <td>SO</td>\n",
       "    </tr>\n",
       "    <tr>\n",
       "      <th>1409163</th>\n",
       "      <td>2024-09-01</td>\n",
       "      <td>752466</td>\n",
       "      <td>Retail</td>\n",
       "      <td>1.0</td>\n",
       "      <td>Sell Out RTL Sept-24</td>\n",
       "      <td>None</td>\n",
       "      <td>None</td>\n",
       "      <td>Retail</td>\n",
       "      <td>NaN</td>\n",
       "      <td>None</td>\n",
       "      <td>SO</td>\n",
       "    </tr>\n",
       "  </tbody>\n",
       "</table>\n",
       "<p>1409164 rows × 11 columns</p>\n",
       "</div>"
      ],
      "text/plain": [
       "               Mes Material   Canal  Venta UMB                Fuente  \\\n",
       "0       2021-06-01  1000147      AP       52.0  Sell Out MB51 - SISO   \n",
       "1       2021-05-01  1000147      AP       40.0  Sell Out MB51 - SISO   \n",
       "2       2021-04-01  1000147      AP       18.0  Sell Out MB51 - SISO   \n",
       "3       2021-03-01  1000147      AP       34.0  Sell Out MB51 - SISO   \n",
       "4       2021-02-01  1000147      AP       41.0  Sell Out MB51 - SISO   \n",
       "...            ...      ...     ...        ...                   ...   \n",
       "1409159 2024-09-01   746561  Retail        4.0  Sell Out RTL Sept-24   \n",
       "1409160 2024-09-01   750405  Retail       23.0  Sell Out RTL Sept-24   \n",
       "1409161 2024-09-01   750791  Retail        5.0  Sell Out RTL Sept-24   \n",
       "1409162 2024-09-01   750797  Retail        3.0  Sell Out RTL Sept-24   \n",
       "1409163 2024-09-01   752466  Retail        1.0  Sell Out RTL Sept-24   \n",
       "\n",
       "        Ultimo Eslabón  Tipo Canal 2 Nombre Sector    Canal 3 SI/SO  \n",
       "0              1000147   ACC  Retail           ACC  CL RETAIL   NaN  \n",
       "1              1000147   ACC  Retail           ACC  CL RETAIL   NaN  \n",
       "2              1000147   ACC  Retail           ACC  CL RETAIL   NaN  \n",
       "3              1000147   ACC  Retail           ACC  CL RETAIL   NaN  \n",
       "4              1000147   ACC  Retail           ACC  CL RETAIL   NaN  \n",
       "...                ...   ...     ...           ...        ...   ...  \n",
       "1409159           None  None  Retail           NaN       None    SO  \n",
       "1409160           None  None  Retail           NaN       None    SO  \n",
       "1409161           None  None  Retail           NaN       None    SO  \n",
       "1409162           None  None  Retail           NaN       None    SO  \n",
       "1409163           None  None  Retail           NaN       None    SO  \n",
       "\n",
       "[1409164 rows x 11 columns]"
      ]
     },
     "execution_count": 103,
     "metadata": {},
     "output_type": "execute_result"
    }
   ],
   "source": [
    "df_combinado_actualizado2"
   ]
  },
  {
   "cell_type": "markdown",
   "metadata": {},
   "source": [
    "PONIENDOLE EL CANAL 3 CORREPSONDIENTE"
   ]
  },
  {
   "cell_type": "code",
   "execution_count": 104,
   "metadata": {},
   "outputs": [
    {
     "data": {
      "text/html": [
       "<div>\n",
       "<style scoped>\n",
       "    .dataframe tbody tr th:only-of-type {\n",
       "        vertical-align: middle;\n",
       "    }\n",
       "\n",
       "    .dataframe tbody tr th {\n",
       "        vertical-align: top;\n",
       "    }\n",
       "\n",
       "    .dataframe thead th {\n",
       "        text-align: right;\n",
       "    }\n",
       "</style>\n",
       "<table border=\"1\" class=\"dataframe\">\n",
       "  <thead>\n",
       "    <tr style=\"text-align: right;\">\n",
       "      <th></th>\n",
       "      <th>Mes</th>\n",
       "      <th>Material</th>\n",
       "      <th>Canal</th>\n",
       "      <th>Venta UMB</th>\n",
       "      <th>Fuente</th>\n",
       "      <th>Ultimo Eslabón</th>\n",
       "      <th>Tipo</th>\n",
       "      <th>Canal 2</th>\n",
       "      <th>Nombre Sector</th>\n",
       "      <th>Canal 3</th>\n",
       "      <th>SI/SO</th>\n",
       "    </tr>\n",
       "  </thead>\n",
       "  <tbody>\n",
       "    <tr>\n",
       "      <th>1409162</th>\n",
       "      <td>2024-09-01</td>\n",
       "      <td>750797</td>\n",
       "      <td>Retail</td>\n",
       "      <td>3.0</td>\n",
       "      <td>Sell Out RTL Sept-24</td>\n",
       "      <td>None</td>\n",
       "      <td>None</td>\n",
       "      <td>Retail</td>\n",
       "      <td>NaN</td>\n",
       "      <td>None</td>\n",
       "      <td>SO</td>\n",
       "    </tr>\n",
       "    <tr>\n",
       "      <th>1409163</th>\n",
       "      <td>2024-09-01</td>\n",
       "      <td>752466</td>\n",
       "      <td>Retail</td>\n",
       "      <td>1.0</td>\n",
       "      <td>Sell Out RTL Sept-24</td>\n",
       "      <td>None</td>\n",
       "      <td>None</td>\n",
       "      <td>Retail</td>\n",
       "      <td>NaN</td>\n",
       "      <td>None</td>\n",
       "      <td>SO</td>\n",
       "    </tr>\n",
       "  </tbody>\n",
       "</table>\n",
       "</div>"
      ],
      "text/plain": [
       "               Mes Material   Canal  Venta UMB                Fuente  \\\n",
       "1409162 2024-09-01   750797  Retail        3.0  Sell Out RTL Sept-24   \n",
       "1409163 2024-09-01   752466  Retail        1.0  Sell Out RTL Sept-24   \n",
       "\n",
       "        Ultimo Eslabón  Tipo Canal 2 Nombre Sector Canal 3 SI/SO  \n",
       "1409162           None  None  Retail           NaN    None    SO  \n",
       "1409163           None  None  Retail           NaN    None    SO  "
      ]
     },
     "execution_count": 104,
     "metadata": {},
     "output_type": "execute_result"
    }
   ],
   "source": [
    "df_combinado_actualizado2.tail(2)"
   ]
  },
  {
   "cell_type": "code",
   "execution_count": 105,
   "metadata": {},
   "outputs": [],
   "source": [
    "# merged_df2 = pd.merge(totalsellin, canales, left_on='Canal', right_on='Nuevo Canal', how='left')\n",
    "# totalsellin['Nuevo Canal'] = merged_df2['Canal SAP']"
   ]
  },
  {
   "cell_type": "code",
   "execution_count": 106,
   "metadata": {},
   "outputs": [
    {
     "name": "stdout",
     "output_type": "stream",
     "text": [
      "<DatetimeArray>\n",
      "['2021-06-01 00:00:00', '2021-05-01 00:00:00', '2021-04-01 00:00:00',\n",
      " '2021-03-01 00:00:00', '2021-02-01 00:00:00', '2021-01-01 00:00:00',\n",
      " '2020-12-01 00:00:00', '2020-11-01 00:00:00', '2020-10-01 00:00:00',\n",
      " '2020-08-01 00:00:00', '2020-07-01 00:00:00', '2020-06-01 00:00:00',\n",
      " '2020-05-01 00:00:00', '2020-04-01 00:00:00', '2020-03-01 00:00:00',\n",
      " '2020-02-01 00:00:00', '2020-01-01 00:00:00', '2020-09-01 00:00:00',\n",
      " '2021-08-01 00:00:00', '2021-07-01 00:00:00', '2021-09-01 00:00:00',\n",
      " '2021-10-01 00:00:00', '2021-11-01 00:00:00', '2021-12-01 00:00:00',\n",
      " '2022-01-01 00:00:00', '2022-02-01 00:00:00', '2022-03-01 00:00:00',\n",
      " '2022-04-01 00:00:00', '2022-05-01 00:00:00', '2022-06-01 00:00:00',\n",
      " '2022-07-01 00:00:00', '2022-08-01 00:00:00', '2022-09-01 00:00:00',\n",
      " '2022-10-01 00:00:00', '2022-11-01 00:00:00', '2022-12-01 00:00:00',\n",
      " '2023-01-01 00:00:00', '2023-02-01 00:00:00', '2023-03-01 00:00:00',\n",
      " '2023-04-01 00:00:00', '2023-05-01 00:00:00', '2023-06-01 00:00:00',\n",
      " '2023-07-01 00:00:00', '2023-08-01 00:00:00', '2023-09-01 00:00:00',\n",
      " '2023-10-01 00:00:00', '2023-11-01 00:00:00', '2023-12-01 00:00:00',\n",
      " '2024-01-01 00:00:00', '2024-02-01 00:00:00', '2024-03-01 00:00:00',\n",
      " '2024-04-01 00:00:00', '2024-05-01 00:00:00', '2024-06-01 00:00:00',\n",
      " '2024-07-01 00:00:00', '2024-08-01 00:00:00', '2019-09-01 00:00:00',\n",
      " '2019-07-01 00:00:00', '2019-08-01 00:00:00', '2019-10-01 00:00:00',\n",
      " '2019-11-01 00:00:00', '2019-12-01 00:00:00', '2019-04-01 00:00:00',\n",
      " '2019-05-01 00:00:00', '2019-06-01 00:00:00', '2018-04-01 00:00:00',\n",
      " '2018-01-01 00:00:00', '2018-02-01 00:00:00', '2018-05-01 00:00:00',\n",
      " '2018-06-01 00:00:00', '2018-07-01 00:00:00', '2019-02-01 00:00:00',\n",
      " '2018-03-01 00:00:00', '2018-08-01 00:00:00', '2018-09-01 00:00:00',\n",
      " '2018-10-01 00:00:00', '2018-12-01 00:00:00', '2019-03-01 00:00:00',\n",
      " '2018-11-01 00:00:00', '2019-01-01 00:00:00', '2024-09-01 00:00:00']\n",
      "Length: 81, dtype: datetime64[ns]\n"
     ]
    }
   ],
   "source": [
    "# Asegurar que todos los valores en la columna 'Mes' de df_combinado_actualizado2 sean del tipo datetime\n",
    "df_combinado_actualizado2['Mes'] = pd.to_datetime(df_combinado_actualizado2['Mes'], errors='coerce')\n",
    "\n",
    "# Obtener los valores únicos de la columna 'Mes'\n",
    "valores_unicos_actualizado2 = df_combinado_actualizado2['Mes'].unique()\n",
    "\n",
    "# Imprimir los valores únicos de la columna 'Mes'\n",
    "print(valores_unicos_actualizado2)\n"
   ]
  },
  {
   "cell_type": "code",
   "execution_count": 107,
   "metadata": {},
   "outputs": [],
   "source": [
    "# df_combinado_actualizado2.tail(2)"
   ]
  },
  {
   "cell_type": "markdown",
   "metadata": {},
   "source": [
    "Eliminar y Cruzar ultimo eslabón"
   ]
  },
  {
   "cell_type": "code",
   "execution_count": 108,
   "metadata": {},
   "outputs": [],
   "source": [
    "consolidado = df_combinado_actualizado2"
   ]
  },
  {
   "cell_type": "code",
   "execution_count": 109,
   "metadata": {},
   "outputs": [
    {
     "data": {
      "text/plain": [
       "Index(['Mes', 'Material', 'Canal', 'Venta UMB', 'Fuente', 'Ultimo Eslabón',\n",
       "       'Tipo', 'Canal 2', 'Nombre Sector', 'Canal 3', 'SI/SO'],\n",
       "      dtype='object')"
      ]
     },
     "execution_count": 109,
     "metadata": {},
     "output_type": "execute_result"
    }
   ],
   "source": [
    "consolidado.columns"
   ]
  },
  {
   "cell_type": "code",
   "execution_count": 110,
   "metadata": {},
   "outputs": [],
   "source": [
    "# eslabon.columns"
   ]
  },
  {
   "cell_type": "code",
   "execution_count": 111,
   "metadata": {},
   "outputs": [
    {
     "data": {
      "text/html": [
       "<div>\n",
       "<style scoped>\n",
       "    .dataframe tbody tr th:only-of-type {\n",
       "        vertical-align: middle;\n",
       "    }\n",
       "\n",
       "    .dataframe tbody tr th {\n",
       "        vertical-align: top;\n",
       "    }\n",
       "\n",
       "    .dataframe thead th {\n",
       "        text-align: right;\n",
       "    }\n",
       "</style>\n",
       "<table border=\"1\" class=\"dataframe\">\n",
       "  <thead>\n",
       "    <tr style=\"text-align: right;\">\n",
       "      <th></th>\n",
       "      <th>Mes</th>\n",
       "      <th>Material</th>\n",
       "      <th>Canal</th>\n",
       "      <th>Venta UMB</th>\n",
       "      <th>Fuente</th>\n",
       "      <th>Ultimo Eslabón</th>\n",
       "      <th>Tipo</th>\n",
       "      <th>Canal 2</th>\n",
       "      <th>Nombre Sector</th>\n",
       "      <th>Canal 3</th>\n",
       "      <th>SI/SO</th>\n",
       "    </tr>\n",
       "  </thead>\n",
       "  <tbody>\n",
       "    <tr>\n",
       "      <th>0</th>\n",
       "      <td>2021-06-01</td>\n",
       "      <td>1000147</td>\n",
       "      <td>AP</td>\n",
       "      <td>52.0</td>\n",
       "      <td>Sell Out MB51 - SISO</td>\n",
       "      <td>1000147</td>\n",
       "      <td>ACC</td>\n",
       "      <td>Retail</td>\n",
       "      <td>ACC</td>\n",
       "      <td>CL RETAIL</td>\n",
       "      <td>NaN</td>\n",
       "    </tr>\n",
       "  </tbody>\n",
       "</table>\n",
       "</div>"
      ],
      "text/plain": [
       "         Mes Material Canal  Venta UMB                Fuente Ultimo Eslabón  \\\n",
       "0 2021-06-01  1000147    AP       52.0  Sell Out MB51 - SISO        1000147   \n",
       "\n",
       "  Tipo Canal 2 Nombre Sector    Canal 3 SI/SO  \n",
       "0  ACC  Retail           ACC  CL RETAIL   NaN  "
      ]
     },
     "execution_count": 111,
     "metadata": {},
     "output_type": "execute_result"
    }
   ],
   "source": [
    "consolidado.head(1)\n"
   ]
  },
  {
   "cell_type": "markdown",
   "metadata": {},
   "source": [
    "Eliminar cruce de UE para ponerlo despues de GT"
   ]
  },
  {
   "cell_type": "code",
   "execution_count": 112,
   "metadata": {},
   "outputs": [],
   "source": [
    "consolidado['Ultimo Eslabón'] = None\n",
    "merged_df = pd.merge(consolidado, eslabon, on='Material', how='left')\n",
    "merged_df['Ultimo Eslabón'] = merged_df['Cod_Actual_1'].fillna(merged_df['Material'])\n",
    "merged_df = merged_df[consolidado.columns]"
   ]
  },
  {
   "cell_type": "code",
   "execution_count": 113,
   "metadata": {},
   "outputs": [
    {
     "data": {
      "text/plain": [
       "(1409164, 11)"
      ]
     },
     "execution_count": 113,
     "metadata": {},
     "output_type": "execute_result"
    }
   ],
   "source": [
    "merged_df.shape"
   ]
  },
  {
   "cell_type": "code",
   "execution_count": 114,
   "metadata": {},
   "outputs": [
    {
     "data": {
      "text/plain": [
       "Index(['Mes', 'Material', 'Canal', 'Venta UMB', 'Fuente', 'Ultimo Eslabón',\n",
       "       'Tipo', 'Canal 2', 'Nombre Sector', 'Canal 3', 'SI/SO'],\n",
       "      dtype='object')"
      ]
     },
     "execution_count": 114,
     "metadata": {},
     "output_type": "execute_result"
    }
   ],
   "source": [
    "totalsellin = merged_df\n",
    "merged_df.columns"
   ]
  },
  {
   "cell_type": "markdown",
   "metadata": {},
   "source": [
    "Validar descargando un CSV con el año especifico en este caso el 2024 para ver si el sellin que se agregó está correcto"
   ]
  },
  {
   "cell_type": "code",
   "execution_count": 115,
   "metadata": {},
   "outputs": [],
   "source": [
    "# filtered_totalsellin = totalsellin[totalsellin['Año/Mes natural'].astype(str).str.contains(r'\\b2024\\b', case=False, regex=True)]\n",
    "\n",
    "# # Definir la ruta de guardado\n",
    "# path = r\"C:\\Users\\Etorres\\Desktop\\Codigos Demanda\\Corrección VTA\\totalsellin_2024.csv\"\n",
    "\n",
    "# # Guardar el DataFrame filtrado como CSV en la ruta especificada, con punto y coma como separador y coma para los decimales\n",
    "# filtered_totalsellin.to_csv(path, sep=';', decimal=',', index=False)\n",
    "\n",
    "# # Imprimir mensaje de confirmación\n",
    "# print(\"Archivo CSV guardado con éxito en:\", path)\n"
   ]
  },
  {
   "cell_type": "markdown",
   "metadata": {},
   "source": [
    "------------------------------------"
   ]
  },
  {
   "cell_type": "code",
   "execution_count": 116,
   "metadata": {},
   "outputs": [
    {
     "data": {
      "text/plain": [
       "Index(['Mes', 'Material', 'Canal', 'Venta UMB', 'Fuente', 'Ultimo Eslabón',\n",
       "       'Tipo', 'Canal 2', 'Nombre Sector', 'Canal 3', 'SI/SO'],\n",
       "      dtype='object')"
      ]
     },
     "execution_count": 116,
     "metadata": {},
     "output_type": "execute_result"
    }
   ],
   "source": [
    "totalsellin.columns"
   ]
  },
  {
   "cell_type": "code",
   "execution_count": 117,
   "metadata": {},
   "outputs": [
    {
     "data": {
      "text/html": [
       "<div>\n",
       "<style scoped>\n",
       "    .dataframe tbody tr th:only-of-type {\n",
       "        vertical-align: middle;\n",
       "    }\n",
       "\n",
       "    .dataframe tbody tr th {\n",
       "        vertical-align: top;\n",
       "    }\n",
       "\n",
       "    .dataframe thead th {\n",
       "        text-align: right;\n",
       "    }\n",
       "</style>\n",
       "<table border=\"1\" class=\"dataframe\">\n",
       "  <thead>\n",
       "    <tr style=\"text-align: right;\">\n",
       "      <th></th>\n",
       "      <th>Mes</th>\n",
       "      <th>Material</th>\n",
       "      <th>Canal</th>\n",
       "      <th>Venta UMB</th>\n",
       "      <th>Fuente</th>\n",
       "      <th>Ultimo Eslabón</th>\n",
       "      <th>Tipo</th>\n",
       "      <th>Canal 2</th>\n",
       "      <th>Nombre Sector</th>\n",
       "      <th>Canal 3</th>\n",
       "      <th>SI/SO</th>\n",
       "    </tr>\n",
       "  </thead>\n",
       "  <tbody>\n",
       "    <tr>\n",
       "      <th>1409162</th>\n",
       "      <td>2024-09-01</td>\n",
       "      <td>750797</td>\n",
       "      <td>Retail</td>\n",
       "      <td>3.0</td>\n",
       "      <td>Sell Out RTL Sept-24</td>\n",
       "      <td>750797</td>\n",
       "      <td>None</td>\n",
       "      <td>Retail</td>\n",
       "      <td>NaN</td>\n",
       "      <td>None</td>\n",
       "      <td>SO</td>\n",
       "    </tr>\n",
       "    <tr>\n",
       "      <th>1409163</th>\n",
       "      <td>2024-09-01</td>\n",
       "      <td>752466</td>\n",
       "      <td>Retail</td>\n",
       "      <td>1.0</td>\n",
       "      <td>Sell Out RTL Sept-24</td>\n",
       "      <td>752466</td>\n",
       "      <td>None</td>\n",
       "      <td>Retail</td>\n",
       "      <td>NaN</td>\n",
       "      <td>None</td>\n",
       "      <td>SO</td>\n",
       "    </tr>\n",
       "  </tbody>\n",
       "</table>\n",
       "</div>"
      ],
      "text/plain": [
       "               Mes Material   Canal  Venta UMB                Fuente  \\\n",
       "1409162 2024-09-01   750797  Retail        3.0  Sell Out RTL Sept-24   \n",
       "1409163 2024-09-01   752466  Retail        1.0  Sell Out RTL Sept-24   \n",
       "\n",
       "        Ultimo Eslabón  Tipo Canal 2 Nombre Sector Canal 3 SI/SO  \n",
       "1409162         750797  None  Retail           NaN    None    SO  \n",
       "1409163         752466  None  Retail           NaN    None    SO  "
      ]
     },
     "execution_count": 117,
     "metadata": {},
     "output_type": "execute_result"
    }
   ],
   "source": [
    "totalsellin.tail(2)"
   ]
  },
  {
   "cell_type": "code",
   "execution_count": 118,
   "metadata": {},
   "outputs": [
    {
     "data": {
      "text/plain": [
       "Index(['Mes', 'Material', 'Canal', 'Venta UMB', 'Fuente', 'Ultimo Eslabón',\n",
       "       'Tipo', 'Canal 2', 'Nombre Sector', 'Canal 3', 'SI/SO'],\n",
       "      dtype='object')"
      ]
     },
     "execution_count": 118,
     "metadata": {},
     "output_type": "execute_result"
    }
   ],
   "source": [
    "totalsellin.columns"
   ]
  },
  {
   "cell_type": "markdown",
   "metadata": {},
   "source": [
    "cruzar gt"
   ]
  },
  {
   "cell_type": "code",
   "execution_count": 119,
   "metadata": {},
   "outputs": [
    {
     "data": {
      "text/plain": [
       "68141"
      ]
     },
     "execution_count": 119,
     "metadata": {},
     "output_type": "execute_result"
    }
   ],
   "source": [
    "asd=selloutGT1['Venta UMB'].sum()\n",
    "asd"
   ]
  },
  {
   "cell_type": "code",
   "execution_count": 120,
   "metadata": {},
   "outputs": [
    {
     "data": {
      "text/plain": [
       "Index(['Venta UMB', 'Material', 'Canal', 'Fuente', 'Mes'], dtype='object')"
      ]
     },
     "execution_count": 120,
     "metadata": {},
     "output_type": "execute_result"
    }
   ],
   "source": [
    "selloutGT1.columns"
   ]
  },
  {
   "cell_type": "code",
   "execution_count": 121,
   "metadata": {},
   "outputs": [
    {
     "data": {
      "text/html": [
       "<div>\n",
       "<style scoped>\n",
       "    .dataframe tbody tr th:only-of-type {\n",
       "        vertical-align: middle;\n",
       "    }\n",
       "\n",
       "    .dataframe tbody tr th {\n",
       "        vertical-align: top;\n",
       "    }\n",
       "\n",
       "    .dataframe thead th {\n",
       "        text-align: right;\n",
       "    }\n",
       "</style>\n",
       "<table border=\"1\" class=\"dataframe\">\n",
       "  <thead>\n",
       "    <tr style=\"text-align: right;\">\n",
       "      <th></th>\n",
       "      <th>Venta UMB</th>\n",
       "      <th>Material</th>\n",
       "      <th>Canal</th>\n",
       "      <th>Fuente</th>\n",
       "      <th>Mes</th>\n",
       "    </tr>\n",
       "  </thead>\n",
       "  <tbody>\n",
       "    <tr>\n",
       "      <th>5</th>\n",
       "      <td>207</td>\n",
       "      <td>1004224</td>\n",
       "      <td>Easy</td>\n",
       "      <td>Sell Out MB51 - SISO</td>\n",
       "      <td>2024-09-01</td>\n",
       "    </tr>\n",
       "  </tbody>\n",
       "</table>\n",
       "</div>"
      ],
      "text/plain": [
       "   Venta UMB Material Canal                Fuente         Mes\n",
       "5        207  1004224  Easy  Sell Out MB51 - SISO  2024-09-01"
      ]
     },
     "execution_count": 121,
     "metadata": {},
     "output_type": "execute_result"
    }
   ],
   "source": [
    "selloutGT1.head(1)"
   ]
  },
  {
   "cell_type": "code",
   "execution_count": 122,
   "metadata": {},
   "outputs": [],
   "source": [
    "selloutGT1['Mes'] = pd.to_datetime(selloutGT1['Mes'])"
   ]
  },
  {
   "cell_type": "code",
   "execution_count": 123,
   "metadata": {},
   "outputs": [
    {
     "data": {
      "text/html": [
       "<div>\n",
       "<style scoped>\n",
       "    .dataframe tbody tr th:only-of-type {\n",
       "        vertical-align: middle;\n",
       "    }\n",
       "\n",
       "    .dataframe tbody tr th {\n",
       "        vertical-align: top;\n",
       "    }\n",
       "\n",
       "    .dataframe thead th {\n",
       "        text-align: right;\n",
       "    }\n",
       "</style>\n",
       "<table border=\"1\" class=\"dataframe\">\n",
       "  <thead>\n",
       "    <tr style=\"text-align: right;\">\n",
       "      <th></th>\n",
       "      <th>Mes</th>\n",
       "      <th>Material</th>\n",
       "      <th>Canal</th>\n",
       "      <th>Venta UMB</th>\n",
       "      <th>Fuente</th>\n",
       "      <th>Ultimo Eslabón</th>\n",
       "      <th>Tipo</th>\n",
       "      <th>Canal 2</th>\n",
       "      <th>Nombre Sector</th>\n",
       "      <th>Canal 3</th>\n",
       "      <th>SI/SO</th>\n",
       "    </tr>\n",
       "  </thead>\n",
       "  <tbody>\n",
       "    <tr>\n",
       "      <th>0</th>\n",
       "      <td>2021-06-01</td>\n",
       "      <td>1000147</td>\n",
       "      <td>AP</td>\n",
       "      <td>52.0</td>\n",
       "      <td>Sell Out MB51 - SISO</td>\n",
       "      <td>1000147</td>\n",
       "      <td>ACC</td>\n",
       "      <td>Retail</td>\n",
       "      <td>ACC</td>\n",
       "      <td>CL RETAIL</td>\n",
       "      <td>NaN</td>\n",
       "    </tr>\n",
       "  </tbody>\n",
       "</table>\n",
       "</div>"
      ],
      "text/plain": [
       "         Mes Material Canal  Venta UMB                Fuente Ultimo Eslabón  \\\n",
       "0 2021-06-01  1000147    AP       52.0  Sell Out MB51 - SISO        1000147   \n",
       "\n",
       "  Tipo Canal 2 Nombre Sector    Canal 3 SI/SO  \n",
       "0  ACC  Retail           ACC  CL RETAIL   NaN  "
      ]
     },
     "execution_count": 123,
     "metadata": {},
     "output_type": "execute_result"
    }
   ],
   "source": [
    "totalsellin.head(1)"
   ]
  },
  {
   "cell_type": "markdown",
   "metadata": {},
   "source": [
    "CONCATENACION"
   ]
  },
  {
   "cell_type": "code",
   "execution_count": 124,
   "metadata": {},
   "outputs": [
    {
     "data": {
      "text/html": [
       "<div>\n",
       "<style scoped>\n",
       "    .dataframe tbody tr th:only-of-type {\n",
       "        vertical-align: middle;\n",
       "    }\n",
       "\n",
       "    .dataframe tbody tr th {\n",
       "        vertical-align: top;\n",
       "    }\n",
       "\n",
       "    .dataframe thead th {\n",
       "        text-align: right;\n",
       "    }\n",
       "</style>\n",
       "<table border=\"1\" class=\"dataframe\">\n",
       "  <thead>\n",
       "    <tr style=\"text-align: right;\">\n",
       "      <th></th>\n",
       "      <th>Mes</th>\n",
       "      <th>Material</th>\n",
       "      <th>Canal</th>\n",
       "      <th>Venta UMB</th>\n",
       "      <th>Fuente</th>\n",
       "      <th>Ultimo Eslabón</th>\n",
       "      <th>Tipo</th>\n",
       "      <th>Canal 2</th>\n",
       "      <th>Nombre Sector</th>\n",
       "      <th>Canal 3</th>\n",
       "      <th>SI/SO</th>\n",
       "    </tr>\n",
       "  </thead>\n",
       "  <tbody>\n",
       "    <tr>\n",
       "      <th>0</th>\n",
       "      <td>2021-06-01</td>\n",
       "      <td>1000147</td>\n",
       "      <td>AP</td>\n",
       "      <td>52.0</td>\n",
       "      <td>Sell Out MB51 - SISO</td>\n",
       "      <td>1000147</td>\n",
       "      <td>ACC</td>\n",
       "      <td>Retail</td>\n",
       "      <td>ACC</td>\n",
       "      <td>CL RETAIL</td>\n",
       "      <td>NaN</td>\n",
       "    </tr>\n",
       "    <tr>\n",
       "      <th>1</th>\n",
       "      <td>2021-05-01</td>\n",
       "      <td>1000147</td>\n",
       "      <td>AP</td>\n",
       "      <td>40.0</td>\n",
       "      <td>Sell Out MB51 - SISO</td>\n",
       "      <td>1000147</td>\n",
       "      <td>ACC</td>\n",
       "      <td>Retail</td>\n",
       "      <td>ACC</td>\n",
       "      <td>CL RETAIL</td>\n",
       "      <td>NaN</td>\n",
       "    </tr>\n",
       "    <tr>\n",
       "      <th>2</th>\n",
       "      <td>2021-04-01</td>\n",
       "      <td>1000147</td>\n",
       "      <td>AP</td>\n",
       "      <td>18.0</td>\n",
       "      <td>Sell Out MB51 - SISO</td>\n",
       "      <td>1000147</td>\n",
       "      <td>ACC</td>\n",
       "      <td>Retail</td>\n",
       "      <td>ACC</td>\n",
       "      <td>CL RETAIL</td>\n",
       "      <td>NaN</td>\n",
       "    </tr>\n",
       "    <tr>\n",
       "      <th>3</th>\n",
       "      <td>2021-03-01</td>\n",
       "      <td>1000147</td>\n",
       "      <td>AP</td>\n",
       "      <td>34.0</td>\n",
       "      <td>Sell Out MB51 - SISO</td>\n",
       "      <td>1000147</td>\n",
       "      <td>ACC</td>\n",
       "      <td>Retail</td>\n",
       "      <td>ACC</td>\n",
       "      <td>CL RETAIL</td>\n",
       "      <td>NaN</td>\n",
       "    </tr>\n",
       "    <tr>\n",
       "      <th>4</th>\n",
       "      <td>2021-02-01</td>\n",
       "      <td>1000147</td>\n",
       "      <td>AP</td>\n",
       "      <td>41.0</td>\n",
       "      <td>Sell Out MB51 - SISO</td>\n",
       "      <td>1000147</td>\n",
       "      <td>ACC</td>\n",
       "      <td>Retail</td>\n",
       "      <td>ACC</td>\n",
       "      <td>CL RETAIL</td>\n",
       "      <td>NaN</td>\n",
       "    </tr>\n",
       "    <tr>\n",
       "      <th>...</th>\n",
       "      <td>...</td>\n",
       "      <td>...</td>\n",
       "      <td>...</td>\n",
       "      <td>...</td>\n",
       "      <td>...</td>\n",
       "      <td>...</td>\n",
       "      <td>...</td>\n",
       "      <td>...</td>\n",
       "      <td>...</td>\n",
       "      <td>...</td>\n",
       "      <td>...</td>\n",
       "    </tr>\n",
       "    <tr>\n",
       "      <th>1409428</th>\n",
       "      <td>2024-09-01</td>\n",
       "      <td>124236</td>\n",
       "      <td>Sodimac</td>\n",
       "      <td>248.0</td>\n",
       "      <td>Sell Out MB51 - SISO</td>\n",
       "      <td>NaN</td>\n",
       "      <td>NaN</td>\n",
       "      <td>NaN</td>\n",
       "      <td>NaN</td>\n",
       "      <td>NaN</td>\n",
       "      <td>NaN</td>\n",
       "    </tr>\n",
       "    <tr>\n",
       "      <th>1409429</th>\n",
       "      <td>2024-09-01</td>\n",
       "      <td>1143391</td>\n",
       "      <td>Walmart</td>\n",
       "      <td>392.0</td>\n",
       "      <td>Sell Out MB51 - SISO</td>\n",
       "      <td>NaN</td>\n",
       "      <td>NaN</td>\n",
       "      <td>NaN</td>\n",
       "      <td>NaN</td>\n",
       "      <td>NaN</td>\n",
       "      <td>NaN</td>\n",
       "    </tr>\n",
       "    <tr>\n",
       "      <th>1409430</th>\n",
       "      <td>2024-09-01</td>\n",
       "      <td>360795</td>\n",
       "      <td>Easy</td>\n",
       "      <td>1.0</td>\n",
       "      <td>Sell Out MB51 - SISO</td>\n",
       "      <td>NaN</td>\n",
       "      <td>NaN</td>\n",
       "      <td>NaN</td>\n",
       "      <td>NaN</td>\n",
       "      <td>NaN</td>\n",
       "      <td>NaN</td>\n",
       "    </tr>\n",
       "    <tr>\n",
       "      <th>1409431</th>\n",
       "      <td>2024-09-01</td>\n",
       "      <td>360795</td>\n",
       "      <td>Walmart</td>\n",
       "      <td>29.0</td>\n",
       "      <td>Sell Out MB51 - SISO</td>\n",
       "      <td>NaN</td>\n",
       "      <td>NaN</td>\n",
       "      <td>NaN</td>\n",
       "      <td>NaN</td>\n",
       "      <td>NaN</td>\n",
       "      <td>NaN</td>\n",
       "    </tr>\n",
       "    <tr>\n",
       "      <th>1409432</th>\n",
       "      <td>2024-09-01</td>\n",
       "      <td>360783</td>\n",
       "      <td>Easy</td>\n",
       "      <td>4.0</td>\n",
       "      <td>Sell Out MB51 - SISO</td>\n",
       "      <td>NaN</td>\n",
       "      <td>NaN</td>\n",
       "      <td>NaN</td>\n",
       "      <td>NaN</td>\n",
       "      <td>NaN</td>\n",
       "      <td>NaN</td>\n",
       "    </tr>\n",
       "  </tbody>\n",
       "</table>\n",
       "<p>1409433 rows × 11 columns</p>\n",
       "</div>"
      ],
      "text/plain": [
       "               Mes Material    Canal  Venta UMB                Fuente  \\\n",
       "0       2021-06-01  1000147       AP       52.0  Sell Out MB51 - SISO   \n",
       "1       2021-05-01  1000147       AP       40.0  Sell Out MB51 - SISO   \n",
       "2       2021-04-01  1000147       AP       18.0  Sell Out MB51 - SISO   \n",
       "3       2021-03-01  1000147       AP       34.0  Sell Out MB51 - SISO   \n",
       "4       2021-02-01  1000147       AP       41.0  Sell Out MB51 - SISO   \n",
       "...            ...      ...      ...        ...                   ...   \n",
       "1409428 2024-09-01   124236  Sodimac      248.0  Sell Out MB51 - SISO   \n",
       "1409429 2024-09-01  1143391  Walmart      392.0  Sell Out MB51 - SISO   \n",
       "1409430 2024-09-01   360795     Easy        1.0  Sell Out MB51 - SISO   \n",
       "1409431 2024-09-01   360795  Walmart       29.0  Sell Out MB51 - SISO   \n",
       "1409432 2024-09-01   360783     Easy        4.0  Sell Out MB51 - SISO   \n",
       "\n",
       "        Ultimo Eslabón Tipo Canal 2 Nombre Sector    Canal 3 SI/SO  \n",
       "0              1000147  ACC  Retail           ACC  CL RETAIL   NaN  \n",
       "1              1000147  ACC  Retail           ACC  CL RETAIL   NaN  \n",
       "2              1000147  ACC  Retail           ACC  CL RETAIL   NaN  \n",
       "3              1000147  ACC  Retail           ACC  CL RETAIL   NaN  \n",
       "4              1000147  ACC  Retail           ACC  CL RETAIL   NaN  \n",
       "...                ...  ...     ...           ...        ...   ...  \n",
       "1409428            NaN  NaN     NaN           NaN        NaN   NaN  \n",
       "1409429            NaN  NaN     NaN           NaN        NaN   NaN  \n",
       "1409430            NaN  NaN     NaN           NaN        NaN   NaN  \n",
       "1409431            NaN  NaN     NaN           NaN        NaN   NaN  \n",
       "1409432            NaN  NaN     NaN           NaN        NaN   NaN  \n",
       "\n",
       "[1409433 rows x 11 columns]"
      ]
     },
     "execution_count": 124,
     "metadata": {},
     "output_type": "execute_result"
    }
   ],
   "source": [
    "import pandas as pd\n",
    "\n",
    "# Supongamos que ya tienes tus DataFrames `totalsellin` y `selloutGT1`\n",
    "\n",
    "# Realizamos la concatenación\n",
    "concatenated_df = pd.concat([totalsellin, selloutGT1], ignore_index=True)\n",
    "concatenated_df\n"
   ]
  },
  {
   "cell_type": "code",
   "execution_count": 125,
   "metadata": {},
   "outputs": [
    {
     "data": {
      "text/html": [
       "<div>\n",
       "<style scoped>\n",
       "    .dataframe tbody tr th:only-of-type {\n",
       "        vertical-align: middle;\n",
       "    }\n",
       "\n",
       "    .dataframe tbody tr th {\n",
       "        vertical-align: top;\n",
       "    }\n",
       "\n",
       "    .dataframe thead th {\n",
       "        text-align: right;\n",
       "    }\n",
       "</style>\n",
       "<table border=\"1\" class=\"dataframe\">\n",
       "  <thead>\n",
       "    <tr style=\"text-align: right;\">\n",
       "      <th></th>\n",
       "      <th>Mes</th>\n",
       "      <th>Material</th>\n",
       "      <th>Canal</th>\n",
       "      <th>Venta UMB</th>\n",
       "      <th>Fuente</th>\n",
       "      <th>Ultimo Eslabón</th>\n",
       "      <th>Tipo</th>\n",
       "      <th>Canal 2</th>\n",
       "      <th>Nombre Sector</th>\n",
       "      <th>Canal 3</th>\n",
       "      <th>SI/SO</th>\n",
       "    </tr>\n",
       "  </thead>\n",
       "  <tbody>\n",
       "    <tr>\n",
       "      <th>0</th>\n",
       "      <td>2021-06-01</td>\n",
       "      <td>1000147</td>\n",
       "      <td>AP</td>\n",
       "      <td>52.0</td>\n",
       "      <td>Sell Out MB51 - SISO</td>\n",
       "      <td>1000147</td>\n",
       "      <td>ACC</td>\n",
       "      <td>Retail</td>\n",
       "      <td>ACC</td>\n",
       "      <td>CL RETAIL</td>\n",
       "      <td>NaN</td>\n",
       "    </tr>\n",
       "    <tr>\n",
       "      <th>1</th>\n",
       "      <td>2021-05-01</td>\n",
       "      <td>1000147</td>\n",
       "      <td>AP</td>\n",
       "      <td>40.0</td>\n",
       "      <td>Sell Out MB51 - SISO</td>\n",
       "      <td>1000147</td>\n",
       "      <td>ACC</td>\n",
       "      <td>Retail</td>\n",
       "      <td>ACC</td>\n",
       "      <td>CL RETAIL</td>\n",
       "      <td>NaN</td>\n",
       "    </tr>\n",
       "    <tr>\n",
       "      <th>2</th>\n",
       "      <td>2021-04-01</td>\n",
       "      <td>1000147</td>\n",
       "      <td>AP</td>\n",
       "      <td>18.0</td>\n",
       "      <td>Sell Out MB51 - SISO</td>\n",
       "      <td>1000147</td>\n",
       "      <td>ACC</td>\n",
       "      <td>Retail</td>\n",
       "      <td>ACC</td>\n",
       "      <td>CL RETAIL</td>\n",
       "      <td>NaN</td>\n",
       "    </tr>\n",
       "    <tr>\n",
       "      <th>3</th>\n",
       "      <td>2021-03-01</td>\n",
       "      <td>1000147</td>\n",
       "      <td>AP</td>\n",
       "      <td>34.0</td>\n",
       "      <td>Sell Out MB51 - SISO</td>\n",
       "      <td>1000147</td>\n",
       "      <td>ACC</td>\n",
       "      <td>Retail</td>\n",
       "      <td>ACC</td>\n",
       "      <td>CL RETAIL</td>\n",
       "      <td>NaN</td>\n",
       "    </tr>\n",
       "    <tr>\n",
       "      <th>4</th>\n",
       "      <td>2021-02-01</td>\n",
       "      <td>1000147</td>\n",
       "      <td>AP</td>\n",
       "      <td>41.0</td>\n",
       "      <td>Sell Out MB51 - SISO</td>\n",
       "      <td>1000147</td>\n",
       "      <td>ACC</td>\n",
       "      <td>Retail</td>\n",
       "      <td>ACC</td>\n",
       "      <td>CL RETAIL</td>\n",
       "      <td>NaN</td>\n",
       "    </tr>\n",
       "    <tr>\n",
       "      <th>...</th>\n",
       "      <td>...</td>\n",
       "      <td>...</td>\n",
       "      <td>...</td>\n",
       "      <td>...</td>\n",
       "      <td>...</td>\n",
       "      <td>...</td>\n",
       "      <td>...</td>\n",
       "      <td>...</td>\n",
       "      <td>...</td>\n",
       "      <td>...</td>\n",
       "      <td>...</td>\n",
       "    </tr>\n",
       "    <tr>\n",
       "      <th>1409428</th>\n",
       "      <td>2024-09-01</td>\n",
       "      <td>124236</td>\n",
       "      <td>Sodimac</td>\n",
       "      <td>248.0</td>\n",
       "      <td>Sell Out MB51 - SISO</td>\n",
       "      <td>NaN</td>\n",
       "      <td>NaN</td>\n",
       "      <td>NaN</td>\n",
       "      <td>NaN</td>\n",
       "      <td>NaN</td>\n",
       "      <td>NaN</td>\n",
       "    </tr>\n",
       "    <tr>\n",
       "      <th>1409429</th>\n",
       "      <td>2024-09-01</td>\n",
       "      <td>1143391</td>\n",
       "      <td>Walmart</td>\n",
       "      <td>392.0</td>\n",
       "      <td>Sell Out MB51 - SISO</td>\n",
       "      <td>NaN</td>\n",
       "      <td>NaN</td>\n",
       "      <td>NaN</td>\n",
       "      <td>NaN</td>\n",
       "      <td>NaN</td>\n",
       "      <td>NaN</td>\n",
       "    </tr>\n",
       "    <tr>\n",
       "      <th>1409430</th>\n",
       "      <td>2024-09-01</td>\n",
       "      <td>360795</td>\n",
       "      <td>Easy</td>\n",
       "      <td>1.0</td>\n",
       "      <td>Sell Out MB51 - SISO</td>\n",
       "      <td>NaN</td>\n",
       "      <td>NaN</td>\n",
       "      <td>NaN</td>\n",
       "      <td>NaN</td>\n",
       "      <td>NaN</td>\n",
       "      <td>NaN</td>\n",
       "    </tr>\n",
       "    <tr>\n",
       "      <th>1409431</th>\n",
       "      <td>2024-09-01</td>\n",
       "      <td>360795</td>\n",
       "      <td>Walmart</td>\n",
       "      <td>29.0</td>\n",
       "      <td>Sell Out MB51 - SISO</td>\n",
       "      <td>NaN</td>\n",
       "      <td>NaN</td>\n",
       "      <td>NaN</td>\n",
       "      <td>NaN</td>\n",
       "      <td>NaN</td>\n",
       "      <td>NaN</td>\n",
       "    </tr>\n",
       "    <tr>\n",
       "      <th>1409432</th>\n",
       "      <td>2024-09-01</td>\n",
       "      <td>360783</td>\n",
       "      <td>Easy</td>\n",
       "      <td>4.0</td>\n",
       "      <td>Sell Out MB51 - SISO</td>\n",
       "      <td>NaN</td>\n",
       "      <td>NaN</td>\n",
       "      <td>NaN</td>\n",
       "      <td>NaN</td>\n",
       "      <td>NaN</td>\n",
       "      <td>NaN</td>\n",
       "    </tr>\n",
       "  </tbody>\n",
       "</table>\n",
       "<p>1409433 rows × 11 columns</p>\n",
       "</div>"
      ],
      "text/plain": [
       "               Mes Material    Canal  Venta UMB                Fuente  \\\n",
       "0       2021-06-01  1000147       AP       52.0  Sell Out MB51 - SISO   \n",
       "1       2021-05-01  1000147       AP       40.0  Sell Out MB51 - SISO   \n",
       "2       2021-04-01  1000147       AP       18.0  Sell Out MB51 - SISO   \n",
       "3       2021-03-01  1000147       AP       34.0  Sell Out MB51 - SISO   \n",
       "4       2021-02-01  1000147       AP       41.0  Sell Out MB51 - SISO   \n",
       "...            ...      ...      ...        ...                   ...   \n",
       "1409428 2024-09-01   124236  Sodimac      248.0  Sell Out MB51 - SISO   \n",
       "1409429 2024-09-01  1143391  Walmart      392.0  Sell Out MB51 - SISO   \n",
       "1409430 2024-09-01   360795     Easy        1.0  Sell Out MB51 - SISO   \n",
       "1409431 2024-09-01   360795  Walmart       29.0  Sell Out MB51 - SISO   \n",
       "1409432 2024-09-01   360783     Easy        4.0  Sell Out MB51 - SISO   \n",
       "\n",
       "        Ultimo Eslabón Tipo Canal 2 Nombre Sector    Canal 3 SI/SO  \n",
       "0              1000147  ACC  Retail           ACC  CL RETAIL   NaN  \n",
       "1              1000147  ACC  Retail           ACC  CL RETAIL   NaN  \n",
       "2              1000147  ACC  Retail           ACC  CL RETAIL   NaN  \n",
       "3              1000147  ACC  Retail           ACC  CL RETAIL   NaN  \n",
       "4              1000147  ACC  Retail           ACC  CL RETAIL   NaN  \n",
       "...                ...  ...     ...           ...        ...   ...  \n",
       "1409428            NaN  NaN     NaN           NaN        NaN   NaN  \n",
       "1409429            NaN  NaN     NaN           NaN        NaN   NaN  \n",
       "1409430            NaN  NaN     NaN           NaN        NaN   NaN  \n",
       "1409431            NaN  NaN     NaN           NaN        NaN   NaN  \n",
       "1409432            NaN  NaN     NaN           NaN        NaN   NaN  \n",
       "\n",
       "[1409433 rows x 11 columns]"
      ]
     },
     "execution_count": 125,
     "metadata": {},
     "output_type": "execute_result"
    }
   ],
   "source": [
    "totalsellin = concatenated_df.copy()\n",
    "totalsellin"
   ]
  },
  {
   "cell_type": "markdown",
   "metadata": {},
   "source": [
    "ENCONTRAR Y LEER MARA EN LOS PROXIMOS BLOQUES PARA LUEGO CRUZAR LOS SECTORES, Y ADEMAS EN ESTA PARTE CRUZAMOS LA MAESTRA CANALES PARA SABER LOS CANALES ANASTASIA"
   ]
  },
  {
   "cell_type": "code",
   "execution_count": 126,
   "metadata": {},
   "outputs": [
    {
     "name": "stdout",
     "output_type": "stream",
     "text": [
      "La ruta construida es: C:\\Users\\etorres.DERCOPARTS\\DERCO CHILE REPUESTOS SpA\\Planificación y abastecimiento - Documentos\\Planificación y Compras Maestros\\2024\\2024-10\\MaestrosCSV\n"
     ]
    }
   ],
   "source": [
    "import os\n",
    "from datetime import datetime\n",
    "\n",
    "# Obtener el directorio del usuario\n",
    "usuario_dir = os.path.expanduser(\"~\")\n",
    "\n",
    "# Obtener el año y mes actuales\n",
    "año_actual = datetime.now().year\n",
    "mes_actual = datetime.now().strftime('%m')\n",
    "\n",
    "# Construir la ruta de archivo\n",
    "ruta = os.path.join(\n",
    "    usuario_dir,\n",
    "    \"DERCO CHILE REPUESTOS SpA\",\n",
    "    \"Planificación y abastecimiento - Documentos\",\n",
    "    \"Planificación y Compras Maestros\",\n",
    "    str(año_actual),\n",
    "    f\"{año_actual}-{mes_actual}\",\n",
    "    \"MaestrosCSV\"\n",
    ")\n",
    "\n",
    "# Inicializar variables\n",
    "archivo_mara = None\n",
    "fecha_modificacion = None\n",
    "\n",
    "# Imprimir la ruta para verificar\n",
    "print(f\"La ruta construida es: {ruta}\")\n"
   ]
  },
  {
   "cell_type": "code",
   "execution_count": 127,
   "metadata": {},
   "outputs": [
    {
     "data": {
      "text/plain": [
       "'C:\\\\Users\\\\etorres.DERCOPARTS\\\\DERCO CHILE REPUESTOS SpA\\\\Planificación y abastecimiento - Documentos\\\\Planificación y Compras Maestros\\\\2024\\\\2024-10\\\\MaestrosCSV'"
      ]
     },
     "execution_count": 127,
     "metadata": {},
     "output_type": "execute_result"
    }
   ],
   "source": [
    "ruta"
   ]
  },
  {
   "cell_type": "markdown",
   "metadata": {},
   "source": [
    "LEER MARA NE EXCEL"
   ]
  },
  {
   "cell_type": "code",
   "execution_count": 128,
   "metadata": {},
   "outputs": [],
   "source": [
    "# for archivo in os.listdir(ruta):\n",
    "#     if 'MARA' in archivo and 'S4' in archivo and archivo.endswith('.xlsx'):\n",
    "#         ruta_completa = os.path.join(ruta, archivo)\n",
    "#         modificacion_actual = os.path.getmtime(ruta_completa)\n",
    "#         if fecha_modificacion is None or modificacion_actual > fecha_modificacion:\n",
    "#             archivo_mara = ruta_completa\n",
    "#             fecha_modificacion = modificacion_actual\n",
    "# if archivo_mara:\n",
    "#     dfmara = pd.read_excel(archivo_mara)\n",
    "#     print(\"Archivo cargado correctamente.\")\n",
    "# else:\n",
    "#     print(\"No se encontró un archivo que contenga 'MARA' y 'S4' en su nombre.\")"
   ]
  },
  {
   "cell_type": "markdown",
   "metadata": {},
   "source": [
    "leer mara en CSV"
   ]
  },
  {
   "cell_type": "code",
   "execution_count": 129,
   "metadata": {},
   "outputs": [
    {
     "name": "stdout",
     "output_type": "stream",
     "text": [
      "Archivo cargado correctamente.\n"
     ]
    }
   ],
   "source": [
    "for archivo in os.listdir(ruta):\n",
    "    if 'MARA' in archivo and 'S4' in archivo and archivo.endswith('.csv'):\n",
    "        ruta_completa = os.path.join(ruta, archivo)\n",
    "        modificacion_actual = os.path.getmtime(ruta_completa)\n",
    "        if fecha_modificacion is None or modificacion_actual > fecha_modificacion:\n",
    "            archivo_mara = ruta_completa\n",
    "            fecha_modificacion = modificacion_actual\n",
    "if archivo_mara:\n",
    "    dfmara = pd.read_csv(archivo_mara, delimiter=';', decimal=',', low_memory=False, dtype=str)\n",
    "    print(\"Archivo cargado correctamente.\")\n",
    "else:\n",
    "    print(\"No se encontró un archivo que contenga 'MARA' y 'S4' en su nombre.\")\n"
   ]
  },
  {
   "cell_type": "code",
   "execution_count": 130,
   "metadata": {},
   "outputs": [
    {
     "data": {
      "text/html": [
       "<div>\n",
       "<style scoped>\n",
       "    .dataframe tbody tr th:only-of-type {\n",
       "        vertical-align: middle;\n",
       "    }\n",
       "\n",
       "    .dataframe tbody tr th {\n",
       "        vertical-align: top;\n",
       "    }\n",
       "\n",
       "    .dataframe thead th {\n",
       "        text-align: right;\n",
       "    }\n",
       "</style>\n",
       "<table border=\"1\" class=\"dataframe\">\n",
       "  <thead>\n",
       "    <tr style=\"text-align: right;\">\n",
       "      <th></th>\n",
       "      <th>Material_S4</th>\n",
       "      <th>Material_dsc</th>\n",
       "      <th>Tipo_material</th>\n",
       "      <th>Grupo_articulos</th>\n",
       "      <th>Material_R3</th>\n",
       "      <th>UM_base</th>\n",
       "      <th>Sector_MU</th>\n",
       "      <th>Nombre Sector</th>\n",
       "      <th>Tipo_material_mu</th>\n",
       "      <th>Part_number</th>\n",
       "      <th>...</th>\n",
       "      <th>Jquia_prod_MU</th>\n",
       "      <th>Jquia_prod</th>\n",
       "      <th>Art_familia</th>\n",
       "      <th>Art_subfamilia</th>\n",
       "      <th>Art_categoria</th>\n",
       "      <th>Art_subcategoria</th>\n",
       "      <th>GpoArt_grupo</th>\n",
       "      <th>L</th>\n",
       "      <th>GpoArt_subcategoria</th>\n",
       "      <th>GpoArt_partype</th>\n",
       "    </tr>\n",
       "  </thead>\n",
       "  <tbody>\n",
       "    <tr>\n",
       "      <th>0</th>\n",
       "      <td>165571</td>\n",
       "      <td>CABLE MINI AUDIO EXTREME 3,5MM  6FT AZUL</td>\n",
       "      <td>ZART</td>\n",
       "      <td>10101001</td>\n",
       "      <td>50901</td>\n",
       "      <td>UN</td>\n",
       "      <td>48</td>\n",
       "      <td>ACC</td>\n",
       "      <td>ZREP</td>\n",
       "      <td>[#]50901</td>\n",
       "      <td>...</td>\n",
       "      <td>3E+16</td>\n",
       "      <td>NaN</td>\n",
       "      <td>NaN</td>\n",
       "      <td>NaN</td>\n",
       "      <td>NaN</td>\n",
       "      <td>NaN</td>\n",
       "      <td>ACCESORIOS</td>\n",
       "      <td>ACCESORIOS</td>\n",
       "      <td>ACCESORIOS ELECTRONICOS</td>\n",
       "      <td>ADAPTADOR CARGADOR DE CELULAR</td>\n",
       "    </tr>\n",
       "    <tr>\n",
       "      <th>1</th>\n",
       "      <td>672246</td>\n",
       "      <td>CODIGO MALO</td>\n",
       "      <td>ZART</td>\n",
       "      <td>10101001</td>\n",
       "      <td>CODIGO MALO 672246</td>\n",
       "      <td>UN</td>\n",
       "      <td>48</td>\n",
       "      <td>ACC</td>\n",
       "      <td>ZREP</td>\n",
       "      <td>[#]PARTNUMBER MALO  672246</td>\n",
       "      <td>...</td>\n",
       "      <td>CODIGO MALO</td>\n",
       "      <td>NaN</td>\n",
       "      <td>NaN</td>\n",
       "      <td>NaN</td>\n",
       "      <td>NaN</td>\n",
       "      <td>NaN</td>\n",
       "      <td>ACCESORIOS</td>\n",
       "      <td>ACCESORIOS</td>\n",
       "      <td>ACCESORIOS ELECTRONICOS</td>\n",
       "      <td>ADAPTADOR CARGADOR DE CELULAR</td>\n",
       "    </tr>\n",
       "    <tr>\n",
       "      <th>2</th>\n",
       "      <td>672252</td>\n",
       "      <td>CODIGO MALO</td>\n",
       "      <td>ZART</td>\n",
       "      <td>10101001</td>\n",
       "      <td>CODIGO MALO 672252</td>\n",
       "      <td>UN</td>\n",
       "      <td>48</td>\n",
       "      <td>ACC</td>\n",
       "      <td>ZREP</td>\n",
       "      <td>[#]PARTNUMBER MALO  672252</td>\n",
       "      <td>...</td>\n",
       "      <td>CODIGO MALO</td>\n",
       "      <td>NaN</td>\n",
       "      <td>NaN</td>\n",
       "      <td>NaN</td>\n",
       "      <td>NaN</td>\n",
       "      <td>NaN</td>\n",
       "      <td>ACCESORIOS</td>\n",
       "      <td>ACCESORIOS</td>\n",
       "      <td>ACCESORIOS ELECTRONICOS</td>\n",
       "      <td>ADAPTADOR CARGADOR DE CELULAR</td>\n",
       "    </tr>\n",
       "    <tr>\n",
       "      <th>3</th>\n",
       "      <td>672253</td>\n",
       "      <td>CODIGO MALO</td>\n",
       "      <td>ZART</td>\n",
       "      <td>10101001</td>\n",
       "      <td>CODIGO MALO 672253</td>\n",
       "      <td>UN</td>\n",
       "      <td>48</td>\n",
       "      <td>ACC</td>\n",
       "      <td>ZREP</td>\n",
       "      <td>[#]PARTNUMBER MALO  672253</td>\n",
       "      <td>...</td>\n",
       "      <td>CODIGO MALO</td>\n",
       "      <td>NaN</td>\n",
       "      <td>NaN</td>\n",
       "      <td>NaN</td>\n",
       "      <td>NaN</td>\n",
       "      <td>NaN</td>\n",
       "      <td>ACCESORIOS</td>\n",
       "      <td>ACCESORIOS</td>\n",
       "      <td>ACCESORIOS ELECTRONICOS</td>\n",
       "      <td>ADAPTADOR CARGADOR DE CELULAR</td>\n",
       "    </tr>\n",
       "    <tr>\n",
       "      <th>4</th>\n",
       "      <td>672543</td>\n",
       "      <td>CODIGO MALO</td>\n",
       "      <td>ZART</td>\n",
       "      <td>10101001</td>\n",
       "      <td>CODIGO MALO 672543</td>\n",
       "      <td>UN</td>\n",
       "      <td>48</td>\n",
       "      <td>ACC</td>\n",
       "      <td>ZREP</td>\n",
       "      <td>[#]PARTNUMBER MALO  672543</td>\n",
       "      <td>...</td>\n",
       "      <td>CODIGO MALO</td>\n",
       "      <td>NaN</td>\n",
       "      <td>NaN</td>\n",
       "      <td>NaN</td>\n",
       "      <td>NaN</td>\n",
       "      <td>NaN</td>\n",
       "      <td>ACCESORIOS</td>\n",
       "      <td>ACCESORIOS</td>\n",
       "      <td>ACCESORIOS ELECTRONICOS</td>\n",
       "      <td>ADAPTADOR CARGADOR DE CELULAR</td>\n",
       "    </tr>\n",
       "    <tr>\n",
       "      <th>...</th>\n",
       "      <td>...</td>\n",
       "      <td>...</td>\n",
       "      <td>...</td>\n",
       "      <td>...</td>\n",
       "      <td>...</td>\n",
       "      <td>...</td>\n",
       "      <td>...</td>\n",
       "      <td>...</td>\n",
       "      <td>...</td>\n",
       "      <td>...</td>\n",
       "      <td>...</td>\n",
       "      <td>...</td>\n",
       "      <td>...</td>\n",
       "      <td>...</td>\n",
       "      <td>...</td>\n",
       "      <td>...</td>\n",
       "      <td>...</td>\n",
       "      <td>...</td>\n",
       "      <td>...</td>\n",
       "      <td>...</td>\n",
       "      <td>...</td>\n",
       "    </tr>\n",
       "    <tr>\n",
       "      <th>451590</th>\n",
       "      <td>4000191</td>\n",
       "      <td>ALIANZA GASCO</td>\n",
       "      <td>ZSEV</td>\n",
       "      <td>SERVICIOS</td>\n",
       "      <td>ALIANZA_GASCO</td>\n",
       "      <td>UN</td>\n",
       "      <td>SV</td>\n",
       "      <td>Sin Info</td>\n",
       "      <td>NaN</td>\n",
       "      <td>[#]ALIANZA_GASCO</td>\n",
       "      <td>...</td>\n",
       "      <td>NaN</td>\n",
       "      <td>NaN</td>\n",
       "      <td>INSUMOS Y SERVICIOS</td>\n",
       "      <td>SERVICIOS</td>\n",
       "      <td>SERVICIOS DE VENTA</td>\n",
       "      <td>GIF CARD</td>\n",
       "      <td>NaN</td>\n",
       "      <td>NaN</td>\n",
       "      <td>NaN</td>\n",
       "      <td>NaN</td>\n",
       "    </tr>\n",
       "    <tr>\n",
       "      <th>451591</th>\n",
       "      <td>4000192</td>\n",
       "      <td>VENTA MERCADOLIBRE</td>\n",
       "      <td>ZSEV</td>\n",
       "      <td>SERVICIOS</td>\n",
       "      <td>VENTA_MERCADOLIBRE</td>\n",
       "      <td>UN</td>\n",
       "      <td>SV</td>\n",
       "      <td>Sin Info</td>\n",
       "      <td>NaN</td>\n",
       "      <td>[#]VENTA_MERCADOLIBRE</td>\n",
       "      <td>...</td>\n",
       "      <td>NaN</td>\n",
       "      <td>NaN</td>\n",
       "      <td>INSUMOS Y SERVICIOS</td>\n",
       "      <td>SERVICIOS</td>\n",
       "      <td>SERVICIOS DE VENTA</td>\n",
       "      <td>GIF CARD</td>\n",
       "      <td>NaN</td>\n",
       "      <td>NaN</td>\n",
       "      <td>NaN</td>\n",
       "      <td>NaN</td>\n",
       "    </tr>\n",
       "    <tr>\n",
       "      <th>451592</th>\n",
       "      <td>4000163</td>\n",
       "      <td>INSTALACION DE PLUMILLAS TIENDAS</td>\n",
       "      <td>ZSEV</td>\n",
       "      <td>SERVICIOS</td>\n",
       "      <td>INST_PLUM_TIENDA</td>\n",
       "      <td>UN</td>\n",
       "      <td>0</td>\n",
       "      <td>Sector Comun</td>\n",
       "      <td>NaN</td>\n",
       "      <td>[#]INST_PLUM_TIENDA</td>\n",
       "      <td>...</td>\n",
       "      <td>NaN</td>\n",
       "      <td>NaN</td>\n",
       "      <td>INSUMOS Y SERVICIOS</td>\n",
       "      <td>SERVICIOS</td>\n",
       "      <td>SERVICIO TALLER</td>\n",
       "      <td>INSTALACION DE PLUMILLAS</td>\n",
       "      <td>NaN</td>\n",
       "      <td>NaN</td>\n",
       "      <td>NaN</td>\n",
       "      <td>NaN</td>\n",
       "    </tr>\n",
       "    <tr>\n",
       "      <th>451593</th>\n",
       "      <td>4000164</td>\n",
       "      <td>INSTALACION DE AMPOLLETAS TIENDAS</td>\n",
       "      <td>ZSEV</td>\n",
       "      <td>SERVICIOS</td>\n",
       "      <td>INST_AMP_TIENDA</td>\n",
       "      <td>UN</td>\n",
       "      <td>SV</td>\n",
       "      <td>Sin Info</td>\n",
       "      <td>NaN</td>\n",
       "      <td>[#]INST_AMP_TIENDA</td>\n",
       "      <td>...</td>\n",
       "      <td>NaN</td>\n",
       "      <td>NaN</td>\n",
       "      <td>INSUMOS Y SERVICIOS</td>\n",
       "      <td>SERVICIOS</td>\n",
       "      <td>SERVICIO TALLER</td>\n",
       "      <td>INSTALACION DE AMPOLLETAS</td>\n",
       "      <td>NaN</td>\n",
       "      <td>NaN</td>\n",
       "      <td>NaN</td>\n",
       "      <td>NaN</td>\n",
       "    </tr>\n",
       "    <tr>\n",
       "      <th>451594</th>\n",
       "      <td>4000140</td>\n",
       "      <td>AJUSTE POR PROMOCION</td>\n",
       "      <td>ZSEV</td>\n",
       "      <td>SERVICIOS</td>\n",
       "      <td>AJUSTEPORPROMOCION</td>\n",
       "      <td>UN</td>\n",
       "      <td>0</td>\n",
       "      <td>Sector Comun</td>\n",
       "      <td>ZSEV</td>\n",
       "      <td>[#]432170</td>\n",
       "      <td>...</td>\n",
       "      <td>432170</td>\n",
       "      <td>NaN</td>\n",
       "      <td>INSUMOS Y SERVICIOS</td>\n",
       "      <td>INSUMOS</td>\n",
       "      <td>INSUMOS VARIOS</td>\n",
       "      <td>INSUMOS VARIOS</td>\n",
       "      <td>NaN</td>\n",
       "      <td>NaN</td>\n",
       "      <td>NaN</td>\n",
       "      <td>NaN</td>\n",
       "    </tr>\n",
       "  </tbody>\n",
       "</table>\n",
       "<p>451595 rows × 25 columns</p>\n",
       "</div>"
      ],
      "text/plain": [
       "       Material_S4                              Material_dsc Tipo_material  \\\n",
       "0           165571  CABLE MINI AUDIO EXTREME 3,5MM  6FT AZUL          ZART   \n",
       "1           672246                               CODIGO MALO          ZART   \n",
       "2           672252                               CODIGO MALO          ZART   \n",
       "3           672253                               CODIGO MALO          ZART   \n",
       "4           672543                               CODIGO MALO          ZART   \n",
       "...            ...                                       ...           ...   \n",
       "451590     4000191                             ALIANZA GASCO          ZSEV   \n",
       "451591     4000192                        VENTA MERCADOLIBRE          ZSEV   \n",
       "451592     4000163          INSTALACION DE PLUMILLAS TIENDAS          ZSEV   \n",
       "451593     4000164         INSTALACION DE AMPOLLETAS TIENDAS          ZSEV   \n",
       "451594     4000140                      AJUSTE POR PROMOCION          ZSEV   \n",
       "\n",
       "       Grupo_articulos         Material_R3 UM_base Sector_MU Nombre Sector  \\\n",
       "0             10101001               50901      UN        48           ACC   \n",
       "1             10101001  CODIGO MALO 672246      UN        48           ACC   \n",
       "2             10101001  CODIGO MALO 672252      UN        48           ACC   \n",
       "3             10101001  CODIGO MALO 672253      UN        48           ACC   \n",
       "4             10101001  CODIGO MALO 672543      UN        48           ACC   \n",
       "...                ...                 ...     ...       ...           ...   \n",
       "451590       SERVICIOS       ALIANZA_GASCO      UN        SV      Sin Info   \n",
       "451591       SERVICIOS  VENTA_MERCADOLIBRE      UN        SV      Sin Info   \n",
       "451592       SERVICIOS    INST_PLUM_TIENDA      UN         0  Sector Comun   \n",
       "451593       SERVICIOS     INST_AMP_TIENDA      UN        SV      Sin Info   \n",
       "451594       SERVICIOS  AJUSTEPORPROMOCION      UN         0  Sector Comun   \n",
       "\n",
       "       Tipo_material_mu                 Part_number  ... Jquia_prod_MU  \\\n",
       "0                  ZREP                    [#]50901  ...         3E+16   \n",
       "1                  ZREP  [#]PARTNUMBER MALO  672246  ...   CODIGO MALO   \n",
       "2                  ZREP  [#]PARTNUMBER MALO  672252  ...   CODIGO MALO   \n",
       "3                  ZREP  [#]PARTNUMBER MALO  672253  ...   CODIGO MALO   \n",
       "4                  ZREP  [#]PARTNUMBER MALO  672543  ...   CODIGO MALO   \n",
       "...                 ...                         ...  ...           ...   \n",
       "451590              NaN            [#]ALIANZA_GASCO  ...           NaN   \n",
       "451591              NaN       [#]VENTA_MERCADOLIBRE  ...           NaN   \n",
       "451592              NaN         [#]INST_PLUM_TIENDA  ...           NaN   \n",
       "451593              NaN          [#]INST_AMP_TIENDA  ...           NaN   \n",
       "451594             ZSEV                   [#]432170  ...        432170   \n",
       "\n",
       "       Jquia_prod          Art_familia Art_subfamilia       Art_categoria  \\\n",
       "0             NaN                  NaN            NaN                 NaN   \n",
       "1             NaN                  NaN            NaN                 NaN   \n",
       "2             NaN                  NaN            NaN                 NaN   \n",
       "3             NaN                  NaN            NaN                 NaN   \n",
       "4             NaN                  NaN            NaN                 NaN   \n",
       "...           ...                  ...            ...                 ...   \n",
       "451590        NaN  INSUMOS Y SERVICIOS      SERVICIOS  SERVICIOS DE VENTA   \n",
       "451591        NaN  INSUMOS Y SERVICIOS      SERVICIOS  SERVICIOS DE VENTA   \n",
       "451592        NaN  INSUMOS Y SERVICIOS      SERVICIOS     SERVICIO TALLER   \n",
       "451593        NaN  INSUMOS Y SERVICIOS      SERVICIOS     SERVICIO TALLER   \n",
       "451594        NaN  INSUMOS Y SERVICIOS        INSUMOS      INSUMOS VARIOS   \n",
       "\n",
       "                 Art_subcategoria GpoArt_grupo           L  \\\n",
       "0                             NaN   ACCESORIOS  ACCESORIOS   \n",
       "1                             NaN   ACCESORIOS  ACCESORIOS   \n",
       "2                             NaN   ACCESORIOS  ACCESORIOS   \n",
       "3                             NaN   ACCESORIOS  ACCESORIOS   \n",
       "4                             NaN   ACCESORIOS  ACCESORIOS   \n",
       "...                           ...          ...         ...   \n",
       "451590                   GIF CARD          NaN         NaN   \n",
       "451591                   GIF CARD          NaN         NaN   \n",
       "451592   INSTALACION DE PLUMILLAS          NaN         NaN   \n",
       "451593  INSTALACION DE AMPOLLETAS          NaN         NaN   \n",
       "451594             INSUMOS VARIOS          NaN         NaN   \n",
       "\n",
       "            GpoArt_subcategoria                 GpoArt_partype  \n",
       "0       ACCESORIOS ELECTRONICOS  ADAPTADOR CARGADOR DE CELULAR  \n",
       "1       ACCESORIOS ELECTRONICOS  ADAPTADOR CARGADOR DE CELULAR  \n",
       "2       ACCESORIOS ELECTRONICOS  ADAPTADOR CARGADOR DE CELULAR  \n",
       "3       ACCESORIOS ELECTRONICOS  ADAPTADOR CARGADOR DE CELULAR  \n",
       "4       ACCESORIOS ELECTRONICOS  ADAPTADOR CARGADOR DE CELULAR  \n",
       "...                         ...                            ...  \n",
       "451590                      NaN                            NaN  \n",
       "451591                      NaN                            NaN  \n",
       "451592                      NaN                            NaN  \n",
       "451593                      NaN                            NaN  \n",
       "451594                      NaN                            NaN  \n",
       "\n",
       "[451595 rows x 25 columns]"
      ]
     },
     "execution_count": 130,
     "metadata": {},
     "output_type": "execute_result"
    }
   ],
   "source": [
    "dfmara"
   ]
  },
  {
   "cell_type": "code",
   "execution_count": 131,
   "metadata": {},
   "outputs": [],
   "source": [
    "# dfmara = dfmara.rename(columns={'Nombre_Sector': 'Nombre Sector'})\n",
    "dfmara['Material_S4'] = dfmara['Material_S4'].astype(str)\n",
    "mara_reducido = dfmara[['Material_S4', 'Nombre Sector', 'Sector_MU']]"
   ]
  },
  {
   "cell_type": "code",
   "execution_count": 132,
   "metadata": {},
   "outputs": [
    {
     "data": {
      "text/plain": [
       "Index(['Material_S4', 'Nombre Sector', 'Sector_MU'], dtype='object')"
      ]
     },
     "execution_count": 132,
     "metadata": {},
     "output_type": "execute_result"
    }
   ],
   "source": [
    "mara_reducido.columns"
   ]
  },
  {
   "cell_type": "code",
   "execution_count": 133,
   "metadata": {},
   "outputs": [
    {
     "data": {
      "text/html": [
       "<div>\n",
       "<style scoped>\n",
       "    .dataframe tbody tr th:only-of-type {\n",
       "        vertical-align: middle;\n",
       "    }\n",
       "\n",
       "    .dataframe tbody tr th {\n",
       "        vertical-align: top;\n",
       "    }\n",
       "\n",
       "    .dataframe thead th {\n",
       "        text-align: right;\n",
       "    }\n",
       "</style>\n",
       "<table border=\"1\" class=\"dataframe\">\n",
       "  <thead>\n",
       "    <tr style=\"text-align: right;\">\n",
       "      <th></th>\n",
       "      <th>Mes</th>\n",
       "      <th>Material</th>\n",
       "      <th>Canal</th>\n",
       "      <th>Venta UMB</th>\n",
       "      <th>Fuente</th>\n",
       "      <th>Ultimo Eslabón</th>\n",
       "      <th>Tipo</th>\n",
       "      <th>Canal 2</th>\n",
       "      <th>Nombre Sector</th>\n",
       "      <th>Canal 3</th>\n",
       "      <th>SI/SO</th>\n",
       "    </tr>\n",
       "  </thead>\n",
       "  <tbody>\n",
       "    <tr>\n",
       "      <th>0</th>\n",
       "      <td>2021-06-01</td>\n",
       "      <td>1000147</td>\n",
       "      <td>AP</td>\n",
       "      <td>52.0</td>\n",
       "      <td>Sell Out MB51 - SISO</td>\n",
       "      <td>1000147</td>\n",
       "      <td>ACC</td>\n",
       "      <td>Retail</td>\n",
       "      <td>ACC</td>\n",
       "      <td>CL RETAIL</td>\n",
       "      <td>NaN</td>\n",
       "    </tr>\n",
       "  </tbody>\n",
       "</table>\n",
       "</div>"
      ],
      "text/plain": [
       "         Mes Material Canal  Venta UMB                Fuente Ultimo Eslabón  \\\n",
       "0 2021-06-01  1000147    AP       52.0  Sell Out MB51 - SISO        1000147   \n",
       "\n",
       "  Tipo Canal 2 Nombre Sector    Canal 3 SI/SO  \n",
       "0  ACC  Retail           ACC  CL RETAIL   NaN  "
      ]
     },
     "execution_count": 133,
     "metadata": {},
     "output_type": "execute_result"
    }
   ],
   "source": [
    "totalsellin.head(1)"
   ]
  },
  {
   "cell_type": "code",
   "execution_count": 134,
   "metadata": {},
   "outputs": [
    {
     "name": "stdout",
     "output_type": "stream",
     "text": [
      "634656.0\n"
     ]
    }
   ],
   "source": [
    "\n",
    "import pandas as pd\n",
    "\n",
    "# Suponiendo que el DataFrame se llama merged_df1 y ya está cargado\n",
    "fecha_objetivo = '2024-08-01'\n",
    "suma_venta_umb = totalsellin[totalsellin['Mes'] == fecha_objetivo]['Venta UMB'].sum()\n",
    "\n",
    "print(suma_venta_umb)\n"
   ]
  },
  {
   "cell_type": "markdown",
   "metadata": {},
   "source": [
    "REPASAR UE antes de Cruzar Mara"
   ]
  },
  {
   "cell_type": "code",
   "execution_count": 135,
   "metadata": {},
   "outputs": [
    {
     "data": {
      "text/html": [
       "<div>\n",
       "<style scoped>\n",
       "    .dataframe tbody tr th:only-of-type {\n",
       "        vertical-align: middle;\n",
       "    }\n",
       "\n",
       "    .dataframe tbody tr th {\n",
       "        vertical-align: top;\n",
       "    }\n",
       "\n",
       "    .dataframe thead th {\n",
       "        text-align: right;\n",
       "    }\n",
       "</style>\n",
       "<table border=\"1\" class=\"dataframe\">\n",
       "  <thead>\n",
       "    <tr style=\"text-align: right;\">\n",
       "      <th></th>\n",
       "      <th>Material</th>\n",
       "      <th>Cod_Actual_1</th>\n",
       "    </tr>\n",
       "  </thead>\n",
       "  <tbody>\n",
       "    <tr>\n",
       "      <th>0</th>\n",
       "      <td>102288</td>\n",
       "      <td>582655</td>\n",
       "    </tr>\n",
       "    <tr>\n",
       "      <th>1</th>\n",
       "      <td>501216</td>\n",
       "      <td>582655</td>\n",
       "    </tr>\n",
       "    <tr>\n",
       "      <th>2</th>\n",
       "      <td>582655</td>\n",
       "      <td>582655</td>\n",
       "    </tr>\n",
       "    <tr>\n",
       "      <th>3</th>\n",
       "      <td>167639</td>\n",
       "      <td>580659</td>\n",
       "    </tr>\n",
       "    <tr>\n",
       "      <th>4</th>\n",
       "      <td>580659</td>\n",
       "      <td>580659</td>\n",
       "    </tr>\n",
       "    <tr>\n",
       "      <th>...</th>\n",
       "      <td>...</td>\n",
       "      <td>...</td>\n",
       "    </tr>\n",
       "    <tr>\n",
       "      <th>93412</th>\n",
       "      <td>1171603</td>\n",
       "      <td>1171603</td>\n",
       "    </tr>\n",
       "    <tr>\n",
       "      <th>93413</th>\n",
       "      <td>120398</td>\n",
       "      <td>1171609</td>\n",
       "    </tr>\n",
       "    <tr>\n",
       "      <th>93414</th>\n",
       "      <td>1171609</td>\n",
       "      <td>1171609</td>\n",
       "    </tr>\n",
       "    <tr>\n",
       "      <th>93415</th>\n",
       "      <td>1006570</td>\n",
       "      <td>1171610</td>\n",
       "    </tr>\n",
       "    <tr>\n",
       "      <th>93416</th>\n",
       "      <td>1171610</td>\n",
       "      <td>1171610</td>\n",
       "    </tr>\n",
       "  </tbody>\n",
       "</table>\n",
       "<p>93417 rows × 2 columns</p>\n",
       "</div>"
      ],
      "text/plain": [
       "      Material Cod_Actual_1\n",
       "0       102288       582655\n",
       "1       501216       582655\n",
       "2       582655       582655\n",
       "3       167639       580659\n",
       "4       580659       580659\n",
       "...        ...          ...\n",
       "93412  1171603      1171603\n",
       "93413   120398      1171609\n",
       "93414  1171609      1171609\n",
       "93415  1006570      1171610\n",
       "93416  1171610      1171610\n",
       "\n",
       "[93417 rows x 2 columns]"
      ]
     },
     "execution_count": 135,
     "metadata": {},
     "output_type": "execute_result"
    }
   ],
   "source": [
    "eslabon"
   ]
  },
  {
   "cell_type": "code",
   "execution_count": 136,
   "metadata": {},
   "outputs": [
    {
     "data": {
      "text/html": [
       "<div>\n",
       "<style scoped>\n",
       "    .dataframe tbody tr th:only-of-type {\n",
       "        vertical-align: middle;\n",
       "    }\n",
       "\n",
       "    .dataframe tbody tr th {\n",
       "        vertical-align: top;\n",
       "    }\n",
       "\n",
       "    .dataframe thead th {\n",
       "        text-align: right;\n",
       "    }\n",
       "</style>\n",
       "<table border=\"1\" class=\"dataframe\">\n",
       "  <thead>\n",
       "    <tr style=\"text-align: right;\">\n",
       "      <th></th>\n",
       "      <th>Mes</th>\n",
       "      <th>Material</th>\n",
       "      <th>Canal</th>\n",
       "      <th>Venta UMB</th>\n",
       "      <th>Fuente</th>\n",
       "      <th>Tipo</th>\n",
       "      <th>Canal 2</th>\n",
       "      <th>Nombre Sector</th>\n",
       "      <th>Canal 3</th>\n",
       "      <th>SI/SO</th>\n",
       "      <th>Ultimo Eslabón</th>\n",
       "    </tr>\n",
       "  </thead>\n",
       "  <tbody>\n",
       "    <tr>\n",
       "      <th>0</th>\n",
       "      <td>2021-06-01</td>\n",
       "      <td>1000147</td>\n",
       "      <td>AP</td>\n",
       "      <td>52.0</td>\n",
       "      <td>Sell Out MB51 - SISO</td>\n",
       "      <td>ACC</td>\n",
       "      <td>Retail</td>\n",
       "      <td>ACC</td>\n",
       "      <td>CL RETAIL</td>\n",
       "      <td>NaN</td>\n",
       "      <td>1000147</td>\n",
       "    </tr>\n",
       "    <tr>\n",
       "      <th>1</th>\n",
       "      <td>2021-05-01</td>\n",
       "      <td>1000147</td>\n",
       "      <td>AP</td>\n",
       "      <td>40.0</td>\n",
       "      <td>Sell Out MB51 - SISO</td>\n",
       "      <td>ACC</td>\n",
       "      <td>Retail</td>\n",
       "      <td>ACC</td>\n",
       "      <td>CL RETAIL</td>\n",
       "      <td>NaN</td>\n",
       "      <td>1000147</td>\n",
       "    </tr>\n",
       "  </tbody>\n",
       "</table>\n",
       "</div>"
      ],
      "text/plain": [
       "         Mes Material Canal  Venta UMB                Fuente Tipo Canal 2  \\\n",
       "0 2021-06-01  1000147    AP       52.0  Sell Out MB51 - SISO  ACC  Retail   \n",
       "1 2021-05-01  1000147    AP       40.0  Sell Out MB51 - SISO  ACC  Retail   \n",
       "\n",
       "  Nombre Sector    Canal 3 SI/SO Ultimo Eslabón  \n",
       "0           ACC  CL RETAIL   NaN        1000147  \n",
       "1           ACC  CL RETAIL   NaN        1000147  "
      ]
     },
     "execution_count": 136,
     "metadata": {},
     "output_type": "execute_result"
    }
   ],
   "source": [
    "totalsellin = totalsellin.drop(columns=['Ultimo Eslabón'])\n",
    "totalsellin = totalsellin.merge(eslabon, on='Material', how='left')\n",
    "totalsellin['Cod_Actual_1'] = totalsellin['Cod_Actual_1'].fillna(totalsellin['Material'])\n",
    "totalsellin = totalsellin.rename(columns={'Cod_Actual_1': 'Ultimo Eslabón'})\n",
    "totalsellin.head(2)\n"
   ]
  },
  {
   "cell_type": "code",
   "execution_count": 137,
   "metadata": {},
   "outputs": [],
   "source": [
    "totalsellin.drop('Nombre Sector', axis=1, inplace=True)"
   ]
  },
  {
   "cell_type": "code",
   "execution_count": 138,
   "metadata": {},
   "outputs": [
    {
     "data": {
      "text/plain": [
       "(1409433, 10)"
      ]
     },
     "execution_count": 138,
     "metadata": {},
     "output_type": "execute_result"
    }
   ],
   "source": [
    "totalsellin.shape"
   ]
  },
  {
   "cell_type": "code",
   "execution_count": 139,
   "metadata": {},
   "outputs": [],
   "source": [
    "totalsellin['Ultimo Eslabón'] = totalsellin['Ultimo Eslabón'].astype(str)\n",
    "mara_reducido.loc[:, 'Material_S4'] = mara_reducido['Material_S4'].astype(str)"
   ]
  },
  {
   "cell_type": "code",
   "execution_count": 140,
   "metadata": {},
   "outputs": [
    {
     "data": {
      "text/html": [
       "<div>\n",
       "<style scoped>\n",
       "    .dataframe tbody tr th:only-of-type {\n",
       "        vertical-align: middle;\n",
       "    }\n",
       "\n",
       "    .dataframe tbody tr th {\n",
       "        vertical-align: top;\n",
       "    }\n",
       "\n",
       "    .dataframe thead th {\n",
       "        text-align: right;\n",
       "    }\n",
       "</style>\n",
       "<table border=\"1\" class=\"dataframe\">\n",
       "  <thead>\n",
       "    <tr style=\"text-align: right;\">\n",
       "      <th></th>\n",
       "      <th>Material_S4</th>\n",
       "      <th>Material_dsc</th>\n",
       "      <th>Tipo_material</th>\n",
       "      <th>Grupo_articulos</th>\n",
       "      <th>Material_R3</th>\n",
       "      <th>UM_base</th>\n",
       "      <th>Sector_MU</th>\n",
       "      <th>Nombre Sector</th>\n",
       "      <th>Tipo_material_mu</th>\n",
       "      <th>Part_number</th>\n",
       "      <th>...</th>\n",
       "      <th>Jquia_prod_MU</th>\n",
       "      <th>Jquia_prod</th>\n",
       "      <th>Art_familia</th>\n",
       "      <th>Art_subfamilia</th>\n",
       "      <th>Art_categoria</th>\n",
       "      <th>Art_subcategoria</th>\n",
       "      <th>GpoArt_grupo</th>\n",
       "      <th>L</th>\n",
       "      <th>GpoArt_subcategoria</th>\n",
       "      <th>GpoArt_partype</th>\n",
       "    </tr>\n",
       "  </thead>\n",
       "  <tbody>\n",
       "    <tr>\n",
       "      <th>0</th>\n",
       "      <td>165571</td>\n",
       "      <td>CABLE MINI AUDIO EXTREME 3,5MM  6FT AZUL</td>\n",
       "      <td>ZART</td>\n",
       "      <td>10101001</td>\n",
       "      <td>50901</td>\n",
       "      <td>UN</td>\n",
       "      <td>48</td>\n",
       "      <td>ACC</td>\n",
       "      <td>ZREP</td>\n",
       "      <td>[#]50901</td>\n",
       "      <td>...</td>\n",
       "      <td>3E+16</td>\n",
       "      <td>NaN</td>\n",
       "      <td>NaN</td>\n",
       "      <td>NaN</td>\n",
       "      <td>NaN</td>\n",
       "      <td>NaN</td>\n",
       "      <td>ACCESORIOS</td>\n",
       "      <td>ACCESORIOS</td>\n",
       "      <td>ACCESORIOS ELECTRONICOS</td>\n",
       "      <td>ADAPTADOR CARGADOR DE CELULAR</td>\n",
       "    </tr>\n",
       "    <tr>\n",
       "      <th>1</th>\n",
       "      <td>672246</td>\n",
       "      <td>CODIGO MALO</td>\n",
       "      <td>ZART</td>\n",
       "      <td>10101001</td>\n",
       "      <td>CODIGO MALO 672246</td>\n",
       "      <td>UN</td>\n",
       "      <td>48</td>\n",
       "      <td>ACC</td>\n",
       "      <td>ZREP</td>\n",
       "      <td>[#]PARTNUMBER MALO  672246</td>\n",
       "      <td>...</td>\n",
       "      <td>CODIGO MALO</td>\n",
       "      <td>NaN</td>\n",
       "      <td>NaN</td>\n",
       "      <td>NaN</td>\n",
       "      <td>NaN</td>\n",
       "      <td>NaN</td>\n",
       "      <td>ACCESORIOS</td>\n",
       "      <td>ACCESORIOS</td>\n",
       "      <td>ACCESORIOS ELECTRONICOS</td>\n",
       "      <td>ADAPTADOR CARGADOR DE CELULAR</td>\n",
       "    </tr>\n",
       "    <tr>\n",
       "      <th>2</th>\n",
       "      <td>672252</td>\n",
       "      <td>CODIGO MALO</td>\n",
       "      <td>ZART</td>\n",
       "      <td>10101001</td>\n",
       "      <td>CODIGO MALO 672252</td>\n",
       "      <td>UN</td>\n",
       "      <td>48</td>\n",
       "      <td>ACC</td>\n",
       "      <td>ZREP</td>\n",
       "      <td>[#]PARTNUMBER MALO  672252</td>\n",
       "      <td>...</td>\n",
       "      <td>CODIGO MALO</td>\n",
       "      <td>NaN</td>\n",
       "      <td>NaN</td>\n",
       "      <td>NaN</td>\n",
       "      <td>NaN</td>\n",
       "      <td>NaN</td>\n",
       "      <td>ACCESORIOS</td>\n",
       "      <td>ACCESORIOS</td>\n",
       "      <td>ACCESORIOS ELECTRONICOS</td>\n",
       "      <td>ADAPTADOR CARGADOR DE CELULAR</td>\n",
       "    </tr>\n",
       "    <tr>\n",
       "      <th>3</th>\n",
       "      <td>672253</td>\n",
       "      <td>CODIGO MALO</td>\n",
       "      <td>ZART</td>\n",
       "      <td>10101001</td>\n",
       "      <td>CODIGO MALO 672253</td>\n",
       "      <td>UN</td>\n",
       "      <td>48</td>\n",
       "      <td>ACC</td>\n",
       "      <td>ZREP</td>\n",
       "      <td>[#]PARTNUMBER MALO  672253</td>\n",
       "      <td>...</td>\n",
       "      <td>CODIGO MALO</td>\n",
       "      <td>NaN</td>\n",
       "      <td>NaN</td>\n",
       "      <td>NaN</td>\n",
       "      <td>NaN</td>\n",
       "      <td>NaN</td>\n",
       "      <td>ACCESORIOS</td>\n",
       "      <td>ACCESORIOS</td>\n",
       "      <td>ACCESORIOS ELECTRONICOS</td>\n",
       "      <td>ADAPTADOR CARGADOR DE CELULAR</td>\n",
       "    </tr>\n",
       "    <tr>\n",
       "      <th>4</th>\n",
       "      <td>672543</td>\n",
       "      <td>CODIGO MALO</td>\n",
       "      <td>ZART</td>\n",
       "      <td>10101001</td>\n",
       "      <td>CODIGO MALO 672543</td>\n",
       "      <td>UN</td>\n",
       "      <td>48</td>\n",
       "      <td>ACC</td>\n",
       "      <td>ZREP</td>\n",
       "      <td>[#]PARTNUMBER MALO  672543</td>\n",
       "      <td>...</td>\n",
       "      <td>CODIGO MALO</td>\n",
       "      <td>NaN</td>\n",
       "      <td>NaN</td>\n",
       "      <td>NaN</td>\n",
       "      <td>NaN</td>\n",
       "      <td>NaN</td>\n",
       "      <td>ACCESORIOS</td>\n",
       "      <td>ACCESORIOS</td>\n",
       "      <td>ACCESORIOS ELECTRONICOS</td>\n",
       "      <td>ADAPTADOR CARGADOR DE CELULAR</td>\n",
       "    </tr>\n",
       "    <tr>\n",
       "      <th>...</th>\n",
       "      <td>...</td>\n",
       "      <td>...</td>\n",
       "      <td>...</td>\n",
       "      <td>...</td>\n",
       "      <td>...</td>\n",
       "      <td>...</td>\n",
       "      <td>...</td>\n",
       "      <td>...</td>\n",
       "      <td>...</td>\n",
       "      <td>...</td>\n",
       "      <td>...</td>\n",
       "      <td>...</td>\n",
       "      <td>...</td>\n",
       "      <td>...</td>\n",
       "      <td>...</td>\n",
       "      <td>...</td>\n",
       "      <td>...</td>\n",
       "      <td>...</td>\n",
       "      <td>...</td>\n",
       "      <td>...</td>\n",
       "      <td>...</td>\n",
       "    </tr>\n",
       "    <tr>\n",
       "      <th>451590</th>\n",
       "      <td>4000191</td>\n",
       "      <td>ALIANZA GASCO</td>\n",
       "      <td>ZSEV</td>\n",
       "      <td>SERVICIOS</td>\n",
       "      <td>ALIANZA_GASCO</td>\n",
       "      <td>UN</td>\n",
       "      <td>SV</td>\n",
       "      <td>Sin Info</td>\n",
       "      <td>NaN</td>\n",
       "      <td>[#]ALIANZA_GASCO</td>\n",
       "      <td>...</td>\n",
       "      <td>NaN</td>\n",
       "      <td>NaN</td>\n",
       "      <td>INSUMOS Y SERVICIOS</td>\n",
       "      <td>SERVICIOS</td>\n",
       "      <td>SERVICIOS DE VENTA</td>\n",
       "      <td>GIF CARD</td>\n",
       "      <td>NaN</td>\n",
       "      <td>NaN</td>\n",
       "      <td>NaN</td>\n",
       "      <td>NaN</td>\n",
       "    </tr>\n",
       "    <tr>\n",
       "      <th>451591</th>\n",
       "      <td>4000192</td>\n",
       "      <td>VENTA MERCADOLIBRE</td>\n",
       "      <td>ZSEV</td>\n",
       "      <td>SERVICIOS</td>\n",
       "      <td>VENTA_MERCADOLIBRE</td>\n",
       "      <td>UN</td>\n",
       "      <td>SV</td>\n",
       "      <td>Sin Info</td>\n",
       "      <td>NaN</td>\n",
       "      <td>[#]VENTA_MERCADOLIBRE</td>\n",
       "      <td>...</td>\n",
       "      <td>NaN</td>\n",
       "      <td>NaN</td>\n",
       "      <td>INSUMOS Y SERVICIOS</td>\n",
       "      <td>SERVICIOS</td>\n",
       "      <td>SERVICIOS DE VENTA</td>\n",
       "      <td>GIF CARD</td>\n",
       "      <td>NaN</td>\n",
       "      <td>NaN</td>\n",
       "      <td>NaN</td>\n",
       "      <td>NaN</td>\n",
       "    </tr>\n",
       "    <tr>\n",
       "      <th>451592</th>\n",
       "      <td>4000163</td>\n",
       "      <td>INSTALACION DE PLUMILLAS TIENDAS</td>\n",
       "      <td>ZSEV</td>\n",
       "      <td>SERVICIOS</td>\n",
       "      <td>INST_PLUM_TIENDA</td>\n",
       "      <td>UN</td>\n",
       "      <td>0</td>\n",
       "      <td>Sector Comun</td>\n",
       "      <td>NaN</td>\n",
       "      <td>[#]INST_PLUM_TIENDA</td>\n",
       "      <td>...</td>\n",
       "      <td>NaN</td>\n",
       "      <td>NaN</td>\n",
       "      <td>INSUMOS Y SERVICIOS</td>\n",
       "      <td>SERVICIOS</td>\n",
       "      <td>SERVICIO TALLER</td>\n",
       "      <td>INSTALACION DE PLUMILLAS</td>\n",
       "      <td>NaN</td>\n",
       "      <td>NaN</td>\n",
       "      <td>NaN</td>\n",
       "      <td>NaN</td>\n",
       "    </tr>\n",
       "    <tr>\n",
       "      <th>451593</th>\n",
       "      <td>4000164</td>\n",
       "      <td>INSTALACION DE AMPOLLETAS TIENDAS</td>\n",
       "      <td>ZSEV</td>\n",
       "      <td>SERVICIOS</td>\n",
       "      <td>INST_AMP_TIENDA</td>\n",
       "      <td>UN</td>\n",
       "      <td>SV</td>\n",
       "      <td>Sin Info</td>\n",
       "      <td>NaN</td>\n",
       "      <td>[#]INST_AMP_TIENDA</td>\n",
       "      <td>...</td>\n",
       "      <td>NaN</td>\n",
       "      <td>NaN</td>\n",
       "      <td>INSUMOS Y SERVICIOS</td>\n",
       "      <td>SERVICIOS</td>\n",
       "      <td>SERVICIO TALLER</td>\n",
       "      <td>INSTALACION DE AMPOLLETAS</td>\n",
       "      <td>NaN</td>\n",
       "      <td>NaN</td>\n",
       "      <td>NaN</td>\n",
       "      <td>NaN</td>\n",
       "    </tr>\n",
       "    <tr>\n",
       "      <th>451594</th>\n",
       "      <td>4000140</td>\n",
       "      <td>AJUSTE POR PROMOCION</td>\n",
       "      <td>ZSEV</td>\n",
       "      <td>SERVICIOS</td>\n",
       "      <td>AJUSTEPORPROMOCION</td>\n",
       "      <td>UN</td>\n",
       "      <td>0</td>\n",
       "      <td>Sector Comun</td>\n",
       "      <td>ZSEV</td>\n",
       "      <td>[#]432170</td>\n",
       "      <td>...</td>\n",
       "      <td>432170</td>\n",
       "      <td>NaN</td>\n",
       "      <td>INSUMOS Y SERVICIOS</td>\n",
       "      <td>INSUMOS</td>\n",
       "      <td>INSUMOS VARIOS</td>\n",
       "      <td>INSUMOS VARIOS</td>\n",
       "      <td>NaN</td>\n",
       "      <td>NaN</td>\n",
       "      <td>NaN</td>\n",
       "      <td>NaN</td>\n",
       "    </tr>\n",
       "  </tbody>\n",
       "</table>\n",
       "<p>451595 rows × 25 columns</p>\n",
       "</div>"
      ],
      "text/plain": [
       "       Material_S4                              Material_dsc Tipo_material  \\\n",
       "0           165571  CABLE MINI AUDIO EXTREME 3,5MM  6FT AZUL          ZART   \n",
       "1           672246                               CODIGO MALO          ZART   \n",
       "2           672252                               CODIGO MALO          ZART   \n",
       "3           672253                               CODIGO MALO          ZART   \n",
       "4           672543                               CODIGO MALO          ZART   \n",
       "...            ...                                       ...           ...   \n",
       "451590     4000191                             ALIANZA GASCO          ZSEV   \n",
       "451591     4000192                        VENTA MERCADOLIBRE          ZSEV   \n",
       "451592     4000163          INSTALACION DE PLUMILLAS TIENDAS          ZSEV   \n",
       "451593     4000164         INSTALACION DE AMPOLLETAS TIENDAS          ZSEV   \n",
       "451594     4000140                      AJUSTE POR PROMOCION          ZSEV   \n",
       "\n",
       "       Grupo_articulos         Material_R3 UM_base Sector_MU Nombre Sector  \\\n",
       "0             10101001               50901      UN        48           ACC   \n",
       "1             10101001  CODIGO MALO 672246      UN        48           ACC   \n",
       "2             10101001  CODIGO MALO 672252      UN        48           ACC   \n",
       "3             10101001  CODIGO MALO 672253      UN        48           ACC   \n",
       "4             10101001  CODIGO MALO 672543      UN        48           ACC   \n",
       "...                ...                 ...     ...       ...           ...   \n",
       "451590       SERVICIOS       ALIANZA_GASCO      UN        SV      Sin Info   \n",
       "451591       SERVICIOS  VENTA_MERCADOLIBRE      UN        SV      Sin Info   \n",
       "451592       SERVICIOS    INST_PLUM_TIENDA      UN         0  Sector Comun   \n",
       "451593       SERVICIOS     INST_AMP_TIENDA      UN        SV      Sin Info   \n",
       "451594       SERVICIOS  AJUSTEPORPROMOCION      UN         0  Sector Comun   \n",
       "\n",
       "       Tipo_material_mu                 Part_number  ... Jquia_prod_MU  \\\n",
       "0                  ZREP                    [#]50901  ...         3E+16   \n",
       "1                  ZREP  [#]PARTNUMBER MALO  672246  ...   CODIGO MALO   \n",
       "2                  ZREP  [#]PARTNUMBER MALO  672252  ...   CODIGO MALO   \n",
       "3                  ZREP  [#]PARTNUMBER MALO  672253  ...   CODIGO MALO   \n",
       "4                  ZREP  [#]PARTNUMBER MALO  672543  ...   CODIGO MALO   \n",
       "...                 ...                         ...  ...           ...   \n",
       "451590              NaN            [#]ALIANZA_GASCO  ...           NaN   \n",
       "451591              NaN       [#]VENTA_MERCADOLIBRE  ...           NaN   \n",
       "451592              NaN         [#]INST_PLUM_TIENDA  ...           NaN   \n",
       "451593              NaN          [#]INST_AMP_TIENDA  ...           NaN   \n",
       "451594             ZSEV                   [#]432170  ...        432170   \n",
       "\n",
       "       Jquia_prod          Art_familia Art_subfamilia       Art_categoria  \\\n",
       "0             NaN                  NaN            NaN                 NaN   \n",
       "1             NaN                  NaN            NaN                 NaN   \n",
       "2             NaN                  NaN            NaN                 NaN   \n",
       "3             NaN                  NaN            NaN                 NaN   \n",
       "4             NaN                  NaN            NaN                 NaN   \n",
       "...           ...                  ...            ...                 ...   \n",
       "451590        NaN  INSUMOS Y SERVICIOS      SERVICIOS  SERVICIOS DE VENTA   \n",
       "451591        NaN  INSUMOS Y SERVICIOS      SERVICIOS  SERVICIOS DE VENTA   \n",
       "451592        NaN  INSUMOS Y SERVICIOS      SERVICIOS     SERVICIO TALLER   \n",
       "451593        NaN  INSUMOS Y SERVICIOS      SERVICIOS     SERVICIO TALLER   \n",
       "451594        NaN  INSUMOS Y SERVICIOS        INSUMOS      INSUMOS VARIOS   \n",
       "\n",
       "                 Art_subcategoria GpoArt_grupo           L  \\\n",
       "0                             NaN   ACCESORIOS  ACCESORIOS   \n",
       "1                             NaN   ACCESORIOS  ACCESORIOS   \n",
       "2                             NaN   ACCESORIOS  ACCESORIOS   \n",
       "3                             NaN   ACCESORIOS  ACCESORIOS   \n",
       "4                             NaN   ACCESORIOS  ACCESORIOS   \n",
       "...                           ...          ...         ...   \n",
       "451590                   GIF CARD          NaN         NaN   \n",
       "451591                   GIF CARD          NaN         NaN   \n",
       "451592   INSTALACION DE PLUMILLAS          NaN         NaN   \n",
       "451593  INSTALACION DE AMPOLLETAS          NaN         NaN   \n",
       "451594             INSUMOS VARIOS          NaN         NaN   \n",
       "\n",
       "            GpoArt_subcategoria                 GpoArt_partype  \n",
       "0       ACCESORIOS ELECTRONICOS  ADAPTADOR CARGADOR DE CELULAR  \n",
       "1       ACCESORIOS ELECTRONICOS  ADAPTADOR CARGADOR DE CELULAR  \n",
       "2       ACCESORIOS ELECTRONICOS  ADAPTADOR CARGADOR DE CELULAR  \n",
       "3       ACCESORIOS ELECTRONICOS  ADAPTADOR CARGADOR DE CELULAR  \n",
       "4       ACCESORIOS ELECTRONICOS  ADAPTADOR CARGADOR DE CELULAR  \n",
       "...                         ...                            ...  \n",
       "451590                      NaN                            NaN  \n",
       "451591                      NaN                            NaN  \n",
       "451592                      NaN                            NaN  \n",
       "451593                      NaN                            NaN  \n",
       "451594                      NaN                            NaN  \n",
       "\n",
       "[451595 rows x 25 columns]"
      ]
     },
     "execution_count": 140,
     "metadata": {},
     "output_type": "execute_result"
    }
   ],
   "source": [
    "dfmara"
   ]
  },
  {
   "cell_type": "code",
   "execution_count": 141,
   "metadata": {},
   "outputs": [
    {
     "name": "stdout",
     "output_type": "stream",
     "text": [
      "634656.0\n"
     ]
    }
   ],
   "source": [
    "import pandas as pd\n",
    "\n",
    "# Suponiendo que el DataFrame se llama merged_df1 y ya está cargado\n",
    "fecha_objetivo = '2024-08-01'\n",
    "suma_venta_umb = totalsellin[totalsellin['Mes'] == fecha_objetivo]['Venta UMB'].sum()\n",
    "\n",
    "print(suma_venta_umb)\n"
   ]
  },
  {
   "cell_type": "code",
   "execution_count": 142,
   "metadata": {},
   "outputs": [
    {
     "data": {
      "text/html": [
       "<div>\n",
       "<style scoped>\n",
       "    .dataframe tbody tr th:only-of-type {\n",
       "        vertical-align: middle;\n",
       "    }\n",
       "\n",
       "    .dataframe tbody tr th {\n",
       "        vertical-align: top;\n",
       "    }\n",
       "\n",
       "    .dataframe thead th {\n",
       "        text-align: right;\n",
       "    }\n",
       "</style>\n",
       "<table border=\"1\" class=\"dataframe\">\n",
       "  <thead>\n",
       "    <tr style=\"text-align: right;\">\n",
       "      <th></th>\n",
       "      <th>Mes</th>\n",
       "      <th>Material</th>\n",
       "      <th>Canal</th>\n",
       "      <th>Venta UMB</th>\n",
       "      <th>Fuente</th>\n",
       "      <th>Tipo</th>\n",
       "      <th>Canal 2</th>\n",
       "      <th>Canal 3</th>\n",
       "      <th>SI/SO</th>\n",
       "      <th>Ultimo Eslabón</th>\n",
       "    </tr>\n",
       "  </thead>\n",
       "  <tbody>\n",
       "    <tr>\n",
       "      <th>0</th>\n",
       "      <td>2021-06-01</td>\n",
       "      <td>1000147</td>\n",
       "      <td>AP</td>\n",
       "      <td>52.0</td>\n",
       "      <td>Sell Out MB51 - SISO</td>\n",
       "      <td>ACC</td>\n",
       "      <td>Retail</td>\n",
       "      <td>CL RETAIL</td>\n",
       "      <td>NaN</td>\n",
       "      <td>1000147</td>\n",
       "    </tr>\n",
       "    <tr>\n",
       "      <th>1</th>\n",
       "      <td>2021-05-01</td>\n",
       "      <td>1000147</td>\n",
       "      <td>AP</td>\n",
       "      <td>40.0</td>\n",
       "      <td>Sell Out MB51 - SISO</td>\n",
       "      <td>ACC</td>\n",
       "      <td>Retail</td>\n",
       "      <td>CL RETAIL</td>\n",
       "      <td>NaN</td>\n",
       "      <td>1000147</td>\n",
       "    </tr>\n",
       "    <tr>\n",
       "      <th>2</th>\n",
       "      <td>2021-04-01</td>\n",
       "      <td>1000147</td>\n",
       "      <td>AP</td>\n",
       "      <td>18.0</td>\n",
       "      <td>Sell Out MB51 - SISO</td>\n",
       "      <td>ACC</td>\n",
       "      <td>Retail</td>\n",
       "      <td>CL RETAIL</td>\n",
       "      <td>NaN</td>\n",
       "      <td>1000147</td>\n",
       "    </tr>\n",
       "    <tr>\n",
       "      <th>3</th>\n",
       "      <td>2021-03-01</td>\n",
       "      <td>1000147</td>\n",
       "      <td>AP</td>\n",
       "      <td>34.0</td>\n",
       "      <td>Sell Out MB51 - SISO</td>\n",
       "      <td>ACC</td>\n",
       "      <td>Retail</td>\n",
       "      <td>CL RETAIL</td>\n",
       "      <td>NaN</td>\n",
       "      <td>1000147</td>\n",
       "    </tr>\n",
       "    <tr>\n",
       "      <th>4</th>\n",
       "      <td>2021-02-01</td>\n",
       "      <td>1000147</td>\n",
       "      <td>AP</td>\n",
       "      <td>41.0</td>\n",
       "      <td>Sell Out MB51 - SISO</td>\n",
       "      <td>ACC</td>\n",
       "      <td>Retail</td>\n",
       "      <td>CL RETAIL</td>\n",
       "      <td>NaN</td>\n",
       "      <td>1000147</td>\n",
       "    </tr>\n",
       "    <tr>\n",
       "      <th>...</th>\n",
       "      <td>...</td>\n",
       "      <td>...</td>\n",
       "      <td>...</td>\n",
       "      <td>...</td>\n",
       "      <td>...</td>\n",
       "      <td>...</td>\n",
       "      <td>...</td>\n",
       "      <td>...</td>\n",
       "      <td>...</td>\n",
       "      <td>...</td>\n",
       "    </tr>\n",
       "    <tr>\n",
       "      <th>1409428</th>\n",
       "      <td>2024-09-01</td>\n",
       "      <td>124236</td>\n",
       "      <td>Sodimac</td>\n",
       "      <td>248.0</td>\n",
       "      <td>Sell Out MB51 - SISO</td>\n",
       "      <td>NaN</td>\n",
       "      <td>NaN</td>\n",
       "      <td>NaN</td>\n",
       "      <td>NaN</td>\n",
       "      <td>124236</td>\n",
       "    </tr>\n",
       "    <tr>\n",
       "      <th>1409429</th>\n",
       "      <td>2024-09-01</td>\n",
       "      <td>1143391</td>\n",
       "      <td>Walmart</td>\n",
       "      <td>392.0</td>\n",
       "      <td>Sell Out MB51 - SISO</td>\n",
       "      <td>NaN</td>\n",
       "      <td>NaN</td>\n",
       "      <td>NaN</td>\n",
       "      <td>NaN</td>\n",
       "      <td>1143391</td>\n",
       "    </tr>\n",
       "    <tr>\n",
       "      <th>1409430</th>\n",
       "      <td>2024-09-01</td>\n",
       "      <td>360795</td>\n",
       "      <td>Easy</td>\n",
       "      <td>1.0</td>\n",
       "      <td>Sell Out MB51 - SISO</td>\n",
       "      <td>NaN</td>\n",
       "      <td>NaN</td>\n",
       "      <td>NaN</td>\n",
       "      <td>NaN</td>\n",
       "      <td>360795</td>\n",
       "    </tr>\n",
       "    <tr>\n",
       "      <th>1409431</th>\n",
       "      <td>2024-09-01</td>\n",
       "      <td>360795</td>\n",
       "      <td>Walmart</td>\n",
       "      <td>29.0</td>\n",
       "      <td>Sell Out MB51 - SISO</td>\n",
       "      <td>NaN</td>\n",
       "      <td>NaN</td>\n",
       "      <td>NaN</td>\n",
       "      <td>NaN</td>\n",
       "      <td>360795</td>\n",
       "    </tr>\n",
       "    <tr>\n",
       "      <th>1409432</th>\n",
       "      <td>2024-09-01</td>\n",
       "      <td>360783</td>\n",
       "      <td>Easy</td>\n",
       "      <td>4.0</td>\n",
       "      <td>Sell Out MB51 - SISO</td>\n",
       "      <td>NaN</td>\n",
       "      <td>NaN</td>\n",
       "      <td>NaN</td>\n",
       "      <td>NaN</td>\n",
       "      <td>360783</td>\n",
       "    </tr>\n",
       "  </tbody>\n",
       "</table>\n",
       "<p>1409433 rows × 10 columns</p>\n",
       "</div>"
      ],
      "text/plain": [
       "               Mes Material    Canal  Venta UMB                Fuente Tipo  \\\n",
       "0       2021-06-01  1000147       AP       52.0  Sell Out MB51 - SISO  ACC   \n",
       "1       2021-05-01  1000147       AP       40.0  Sell Out MB51 - SISO  ACC   \n",
       "2       2021-04-01  1000147       AP       18.0  Sell Out MB51 - SISO  ACC   \n",
       "3       2021-03-01  1000147       AP       34.0  Sell Out MB51 - SISO  ACC   \n",
       "4       2021-02-01  1000147       AP       41.0  Sell Out MB51 - SISO  ACC   \n",
       "...            ...      ...      ...        ...                   ...  ...   \n",
       "1409428 2024-09-01   124236  Sodimac      248.0  Sell Out MB51 - SISO  NaN   \n",
       "1409429 2024-09-01  1143391  Walmart      392.0  Sell Out MB51 - SISO  NaN   \n",
       "1409430 2024-09-01   360795     Easy        1.0  Sell Out MB51 - SISO  NaN   \n",
       "1409431 2024-09-01   360795  Walmart       29.0  Sell Out MB51 - SISO  NaN   \n",
       "1409432 2024-09-01   360783     Easy        4.0  Sell Out MB51 - SISO  NaN   \n",
       "\n",
       "        Canal 2    Canal 3 SI/SO Ultimo Eslabón  \n",
       "0        Retail  CL RETAIL   NaN        1000147  \n",
       "1        Retail  CL RETAIL   NaN        1000147  \n",
       "2        Retail  CL RETAIL   NaN        1000147  \n",
       "3        Retail  CL RETAIL   NaN        1000147  \n",
       "4        Retail  CL RETAIL   NaN        1000147  \n",
       "...         ...        ...   ...            ...  \n",
       "1409428     NaN        NaN   NaN         124236  \n",
       "1409429     NaN        NaN   NaN        1143391  \n",
       "1409430     NaN        NaN   NaN         360795  \n",
       "1409431     NaN        NaN   NaN         360795  \n",
       "1409432     NaN        NaN   NaN         360783  \n",
       "\n",
       "[1409433 rows x 10 columns]"
      ]
     },
     "execution_count": 142,
     "metadata": {},
     "output_type": "execute_result"
    }
   ],
   "source": [
    "totalsellin"
   ]
  },
  {
   "cell_type": "code",
   "execution_count": 143,
   "metadata": {},
   "outputs": [
    {
     "data": {
      "text/html": [
       "<div>\n",
       "<style scoped>\n",
       "    .dataframe tbody tr th:only-of-type {\n",
       "        vertical-align: middle;\n",
       "    }\n",
       "\n",
       "    .dataframe tbody tr th {\n",
       "        vertical-align: top;\n",
       "    }\n",
       "\n",
       "    .dataframe thead th {\n",
       "        text-align: right;\n",
       "    }\n",
       "</style>\n",
       "<table border=\"1\" class=\"dataframe\">\n",
       "  <thead>\n",
       "    <tr style=\"text-align: right;\">\n",
       "      <th></th>\n",
       "      <th>Material_S4</th>\n",
       "      <th>Nombre Sector</th>\n",
       "      <th>Sector_MU</th>\n",
       "    </tr>\n",
       "  </thead>\n",
       "  <tbody>\n",
       "    <tr>\n",
       "      <th>0</th>\n",
       "      <td>165571</td>\n",
       "      <td>ACC</td>\n",
       "      <td>48</td>\n",
       "    </tr>\n",
       "  </tbody>\n",
       "</table>\n",
       "</div>"
      ],
      "text/plain": [
       "  Material_S4 Nombre Sector Sector_MU\n",
       "0      165571           ACC        48"
      ]
     },
     "execution_count": 143,
     "metadata": {},
     "output_type": "execute_result"
    }
   ],
   "source": [
    "mara_reducido.head(1)"
   ]
  },
  {
   "cell_type": "code",
   "execution_count": 144,
   "metadata": {},
   "outputs": [],
   "source": [
    "merged_df4 = pd.merge(totalsellin, mara_reducido, left_on='Ultimo Eslabón', right_on='Material_S4')\n"
   ]
  },
  {
   "cell_type": "code",
   "execution_count": 145,
   "metadata": {},
   "outputs": [
    {
     "name": "stdout",
     "output_type": "stream",
     "text": [
      "634656.0\n"
     ]
    }
   ],
   "source": [
    "merged_df4\n",
    "import pandas as pd\n",
    "\n",
    "# Suponiendo que el DataFrame se llama merged_df1 y ya está cargado\n",
    "fecha_objetivo = '2024-08-01'\n",
    "suma_venta_umb = merged_df4[merged_df4['Mes'] == fecha_objetivo]['Venta UMB'].sum()\n",
    "\n",
    "print(suma_venta_umb)\n"
   ]
  },
  {
   "cell_type": "code",
   "execution_count": 146,
   "metadata": {},
   "outputs": [
    {
     "data": {
      "text/html": [
       "<div>\n",
       "<style scoped>\n",
       "    .dataframe tbody tr th:only-of-type {\n",
       "        vertical-align: middle;\n",
       "    }\n",
       "\n",
       "    .dataframe tbody tr th {\n",
       "        vertical-align: top;\n",
       "    }\n",
       "\n",
       "    .dataframe thead th {\n",
       "        text-align: right;\n",
       "    }\n",
       "</style>\n",
       "<table border=\"1\" class=\"dataframe\">\n",
       "  <thead>\n",
       "    <tr style=\"text-align: right;\">\n",
       "      <th></th>\n",
       "      <th>Mes</th>\n",
       "      <th>Material</th>\n",
       "      <th>Canal</th>\n",
       "      <th>Venta UMB</th>\n",
       "      <th>Fuente</th>\n",
       "      <th>Tipo</th>\n",
       "      <th>Canal 2</th>\n",
       "      <th>Canal 3</th>\n",
       "      <th>SI/SO</th>\n",
       "      <th>Ultimo Eslabón</th>\n",
       "      <th>Material_S4</th>\n",
       "      <th>Nombre Sector</th>\n",
       "      <th>Sector_MU</th>\n",
       "    </tr>\n",
       "  </thead>\n",
       "  <tbody>\n",
       "    <tr>\n",
       "      <th>1409431</th>\n",
       "      <td>2024-09-01</td>\n",
       "      <td>117196</td>\n",
       "      <td>Retail</td>\n",
       "      <td>1.0</td>\n",
       "      <td>Sell Out RTL Sept-24</td>\n",
       "      <td>None</td>\n",
       "      <td>Retail</td>\n",
       "      <td>None</td>\n",
       "      <td>SO</td>\n",
       "      <td>117196</td>\n",
       "      <td>117196</td>\n",
       "      <td>ACC</td>\n",
       "      <td>48</td>\n",
       "    </tr>\n",
       "    <tr>\n",
       "      <th>1409432</th>\n",
       "      <td>2024-09-01</td>\n",
       "      <td>170794</td>\n",
       "      <td>Retail</td>\n",
       "      <td>1.0</td>\n",
       "      <td>Sell Out RTL Sept-24</td>\n",
       "      <td>None</td>\n",
       "      <td>Retail</td>\n",
       "      <td>None</td>\n",
       "      <td>SO</td>\n",
       "      <td>170794</td>\n",
       "      <td>170794</td>\n",
       "      <td>RALT</td>\n",
       "      <td>29</td>\n",
       "    </tr>\n",
       "  </tbody>\n",
       "</table>\n",
       "</div>"
      ],
      "text/plain": [
       "               Mes Material   Canal  Venta UMB                Fuente  Tipo  \\\n",
       "1409431 2024-09-01   117196  Retail        1.0  Sell Out RTL Sept-24  None   \n",
       "1409432 2024-09-01   170794  Retail        1.0  Sell Out RTL Sept-24  None   \n",
       "\n",
       "        Canal 2 Canal 3 SI/SO Ultimo Eslabón Material_S4 Nombre Sector  \\\n",
       "1409431  Retail    None    SO         117196      117196           ACC   \n",
       "1409432  Retail    None    SO         170794      170794          RALT   \n",
       "\n",
       "        Sector_MU  \n",
       "1409431        48  \n",
       "1409432        29  "
      ]
     },
     "execution_count": 146,
     "metadata": {},
     "output_type": "execute_result"
    }
   ],
   "source": [
    "merged_df4.tail(2)"
   ]
  },
  {
   "cell_type": "code",
   "execution_count": 147,
   "metadata": {},
   "outputs": [
    {
     "name": "stdout",
     "output_type": "stream",
     "text": [
      "634656.0\n"
     ]
    }
   ],
   "source": [
    "merged_df4\n",
    "import pandas as pd\n",
    "\n",
    "# Suponiendo que el DataFrame se llama merged_df1 y ya está cargado\n",
    "fecha_objetivo = '2024-08-01'\n",
    "suma_venta_umb = merged_df4[merged_df4['Mes'] == fecha_objetivo]['Venta UMB'].sum()\n",
    "\n",
    "print(suma_venta_umb)\n"
   ]
  },
  {
   "cell_type": "markdown",
   "metadata": {},
   "source": [
    "ACA PODRÍA GUARDAR LA HISTORIA ----------------------------"
   ]
  },
  {
   "cell_type": "code",
   "execution_count": 148,
   "metadata": {},
   "outputs": [
    {
     "data": {
      "text/html": [
       "<div>\n",
       "<style scoped>\n",
       "    .dataframe tbody tr th:only-of-type {\n",
       "        vertical-align: middle;\n",
       "    }\n",
       "\n",
       "    .dataframe tbody tr th {\n",
       "        vertical-align: top;\n",
       "    }\n",
       "\n",
       "    .dataframe thead th {\n",
       "        text-align: right;\n",
       "    }\n",
       "</style>\n",
       "<table border=\"1\" class=\"dataframe\">\n",
       "  <thead>\n",
       "    <tr style=\"text-align: right;\">\n",
       "      <th></th>\n",
       "      <th>Mes</th>\n",
       "      <th>Material</th>\n",
       "      <th>Canal</th>\n",
       "      <th>Venta UMB</th>\n",
       "      <th>Fuente</th>\n",
       "      <th>Ultimo Eslabón</th>\n",
       "      <th>Tipo</th>\n",
       "      <th>Canal 2</th>\n",
       "      <th>Nombre Sector</th>\n",
       "      <th>Canal 3</th>\n",
       "    </tr>\n",
       "  </thead>\n",
       "  <tbody>\n",
       "    <tr>\n",
       "      <th>0</th>\n",
       "      <td>2021-06-01</td>\n",
       "      <td>1000147</td>\n",
       "      <td>AP</td>\n",
       "      <td>52.0</td>\n",
       "      <td>Sell Out MB51 - SISO</td>\n",
       "      <td>1000147</td>\n",
       "      <td>ACC</td>\n",
       "      <td>Retail</td>\n",
       "      <td>ACC</td>\n",
       "      <td>CL RETAIL</td>\n",
       "    </tr>\n",
       "  </tbody>\n",
       "</table>\n",
       "</div>"
      ],
      "text/plain": [
       "         Mes Material Canal  Venta UMB                Fuente Ultimo Eslabón  \\\n",
       "0 2021-06-01  1000147    AP       52.0  Sell Out MB51 - SISO        1000147   \n",
       "\n",
       "  Tipo Canal 2 Nombre Sector    Canal 3  \n",
       "0  ACC  Retail           ACC  CL RETAIL  "
      ]
     },
     "execution_count": 148,
     "metadata": {},
     "output_type": "execute_result"
    }
   ],
   "source": [
    "final_df = merged_df4[['Mes', 'Material', 'Canal', 'Venta UMB', 'Fuente', 'Ultimo Eslabón', 'Tipo', 'Canal 2', 'Nombre Sector', 'Canal 3']]\n",
    "final_df.head(1)"
   ]
  },
  {
   "cell_type": "code",
   "execution_count": 149,
   "metadata": {},
   "outputs": [
    {
     "data": {
      "text/html": [
       "<div>\n",
       "<style scoped>\n",
       "    .dataframe tbody tr th:only-of-type {\n",
       "        vertical-align: middle;\n",
       "    }\n",
       "\n",
       "    .dataframe tbody tr th {\n",
       "        vertical-align: top;\n",
       "    }\n",
       "\n",
       "    .dataframe thead th {\n",
       "        text-align: right;\n",
       "    }\n",
       "</style>\n",
       "<table border=\"1\" class=\"dataframe\">\n",
       "  <thead>\n",
       "    <tr style=\"text-align: right;\">\n",
       "      <th></th>\n",
       "      <th>Mes</th>\n",
       "      <th>Material</th>\n",
       "      <th>Canal</th>\n",
       "      <th>Venta UMB</th>\n",
       "      <th>Fuente</th>\n",
       "      <th>Ultimo Eslabón</th>\n",
       "      <th>Tipo</th>\n",
       "      <th>Canal 2</th>\n",
       "      <th>Nombre Sector</th>\n",
       "      <th>Canal 3</th>\n",
       "    </tr>\n",
       "  </thead>\n",
       "  <tbody>\n",
       "    <tr>\n",
       "      <th>0</th>\n",
       "      <td>2021-06-01</td>\n",
       "      <td>1000147</td>\n",
       "      <td>AP</td>\n",
       "      <td>52.0</td>\n",
       "      <td>Sell Out MB51 - SISO</td>\n",
       "      <td>1000147</td>\n",
       "      <td>ACC</td>\n",
       "      <td>Retail</td>\n",
       "      <td>ACC</td>\n",
       "      <td>CL RETAIL</td>\n",
       "    </tr>\n",
       "    <tr>\n",
       "      <th>1</th>\n",
       "      <td>2021-05-01</td>\n",
       "      <td>1000147</td>\n",
       "      <td>AP</td>\n",
       "      <td>40.0</td>\n",
       "      <td>Sell Out MB51 - SISO</td>\n",
       "      <td>1000147</td>\n",
       "      <td>ACC</td>\n",
       "      <td>Retail</td>\n",
       "      <td>ACC</td>\n",
       "      <td>CL RETAIL</td>\n",
       "    </tr>\n",
       "  </tbody>\n",
       "</table>\n",
       "</div>"
      ],
      "text/plain": [
       "         Mes Material Canal  Venta UMB                Fuente Ultimo Eslabón  \\\n",
       "0 2021-06-01  1000147    AP       52.0  Sell Out MB51 - SISO        1000147   \n",
       "1 2021-05-01  1000147    AP       40.0  Sell Out MB51 - SISO        1000147   \n",
       "\n",
       "  Tipo Canal 2 Nombre Sector    Canal 3  \n",
       "0  ACC  Retail           ACC  CL RETAIL  \n",
       "1  ACC  Retail           ACC  CL RETAIL  "
      ]
     },
     "execution_count": 149,
     "metadata": {},
     "output_type": "execute_result"
    }
   ],
   "source": [
    "# Inicializar 'Canal 3' con None para borrar cualquier valor existente\n",
    "final_df.loc[:, 'Canal 3'] = None\n",
    "\n",
    "# Definir el diccionario de mapeo incluyendo las nuevas condiciones\n",
    "mapa_canal_3 = {\n",
    "    'AP': 'CL RETAIL',\n",
    "    'Sergo': 'CL RETAIL',\n",
    "    'Easy': 'CL EASY',\n",
    "    'SMU': 'CL SMU',\n",
    "    'TOTTUS': 'CL TOTTUS',\n",
    "    'Walmart': 'CL WALMART',\n",
    "    'Sodimac': 'CL SODIMAC',\n",
    "    'Retail': 'CL RETAIL',\n",
    "    'RETAIL': 'CL RETAIL'\n",
    "}\n",
    "\n",
    "# Asignar valores a 'Canal 3' usando el diccionario de mapeo\n",
    "final_df.loc[:, 'Canal 3'] = final_df['Canal'].map(mapa_canal_3).fillna(final_df['Canal 3'])\n",
    "\n",
    "# Imprimir las primeras filas del DataFrame actualizado para verificar los cambios\n",
    "final_df.head(2)\n"
   ]
  },
  {
   "cell_type": "code",
   "execution_count": 150,
   "metadata": {},
   "outputs": [
    {
     "name": "stdout",
     "output_type": "stream",
     "text": [
      "Hay 0 filas con NaN en la columna 'Canal 3'.\n"
     ]
    }
   ],
   "source": [
    "# Contar las filas con NaN en la columna 'Canal 3'\n",
    "filas_con_nan = final_df['Canal 3'].isna().sum()\n",
    "\n",
    "# Imprimir el resultado\n",
    "print(f\"Hay {filas_con_nan} filas con NaN en la columna 'Canal 3'.\")\n"
   ]
  },
  {
   "cell_type": "code",
   "execution_count": 151,
   "metadata": {},
   "outputs": [
    {
     "name": "stdout",
     "output_type": "stream",
     "text": [
      "Valores únicos en la columna 'Canal' cuando 'Canal 3' es NaN:\n",
      "[]\n"
     ]
    }
   ],
   "source": [
    "# Filtrar las filas donde 'Canal 3' es NaN\n",
    "filas_con_nan_en_canal_3 = final_df[final_df['Canal 3'].isna()]\n",
    "\n",
    "# Obtener los valores únicos en la columna 'Canal' para estas filas\n",
    "valores_unicos_canal = filas_con_nan_en_canal_3['Canal'].unique()\n",
    "\n",
    "# Imprimir los valores únicos\n",
    "print(\"Valores únicos en la columna 'Canal' cuando 'Canal 3' es NaN:\")\n",
    "print(valores_unicos_canal)\n"
   ]
  },
  {
   "cell_type": "code",
   "execution_count": 152,
   "metadata": {},
   "outputs": [
    {
     "data": {
      "text/plain": [
       "array(['AP', 'Retail', 'Sergo', 'Sodimac', 'Easy', 'Walmart', 'SMU',\n",
       "       'TOTTUS'], dtype=object)"
      ]
     },
     "execution_count": 152,
     "metadata": {},
     "output_type": "execute_result"
    }
   ],
   "source": [
    "canalesf = final_df['Canal'].unique()\n",
    "canalesf"
   ]
  },
  {
   "cell_type": "code",
   "execution_count": 153,
   "metadata": {},
   "outputs": [
    {
     "data": {
      "text/plain": [
       "(1409433, 10)"
      ]
     },
     "execution_count": 153,
     "metadata": {},
     "output_type": "execute_result"
    }
   ],
   "source": [
    "final_df.shape"
   ]
  },
  {
   "cell_type": "code",
   "execution_count": 154,
   "metadata": {},
   "outputs": [
    {
     "data": {
      "text/html": [
       "<div>\n",
       "<style scoped>\n",
       "    .dataframe tbody tr th:only-of-type {\n",
       "        vertical-align: middle;\n",
       "    }\n",
       "\n",
       "    .dataframe tbody tr th {\n",
       "        vertical-align: top;\n",
       "    }\n",
       "\n",
       "    .dataframe thead th {\n",
       "        text-align: right;\n",
       "    }\n",
       "</style>\n",
       "<table border=\"1\" class=\"dataframe\">\n",
       "  <thead>\n",
       "    <tr style=\"text-align: right;\">\n",
       "      <th></th>\n",
       "      <th>Mes</th>\n",
       "      <th>Material</th>\n",
       "      <th>Canal</th>\n",
       "      <th>Venta UMB</th>\n",
       "      <th>Fuente</th>\n",
       "      <th>Ultimo Eslabón</th>\n",
       "      <th>Tipo</th>\n",
       "      <th>Canal 2</th>\n",
       "      <th>Nombre Sector</th>\n",
       "      <th>Canal 3</th>\n",
       "    </tr>\n",
       "  </thead>\n",
       "  <tbody>\n",
       "    <tr>\n",
       "      <th>1409431</th>\n",
       "      <td>2024-09-01</td>\n",
       "      <td>117196</td>\n",
       "      <td>Retail</td>\n",
       "      <td>1.0</td>\n",
       "      <td>Sell Out RTL Sept-24</td>\n",
       "      <td>117196</td>\n",
       "      <td>None</td>\n",
       "      <td>Retail</td>\n",
       "      <td>ACC</td>\n",
       "      <td>CL RETAIL</td>\n",
       "    </tr>\n",
       "    <tr>\n",
       "      <th>1409432</th>\n",
       "      <td>2024-09-01</td>\n",
       "      <td>170794</td>\n",
       "      <td>Retail</td>\n",
       "      <td>1.0</td>\n",
       "      <td>Sell Out RTL Sept-24</td>\n",
       "      <td>170794</td>\n",
       "      <td>None</td>\n",
       "      <td>Retail</td>\n",
       "      <td>RALT</td>\n",
       "      <td>CL RETAIL</td>\n",
       "    </tr>\n",
       "  </tbody>\n",
       "</table>\n",
       "</div>"
      ],
      "text/plain": [
       "               Mes Material   Canal  Venta UMB                Fuente  \\\n",
       "1409431 2024-09-01   117196  Retail        1.0  Sell Out RTL Sept-24   \n",
       "1409432 2024-09-01   170794  Retail        1.0  Sell Out RTL Sept-24   \n",
       "\n",
       "        Ultimo Eslabón  Tipo Canal 2 Nombre Sector    Canal 3  \n",
       "1409431         117196  None  Retail           ACC  CL RETAIL  \n",
       "1409432         170794  None  Retail          RALT  CL RETAIL  "
      ]
     },
     "execution_count": 154,
     "metadata": {},
     "output_type": "execute_result"
    }
   ],
   "source": [
    "final_df.tail(2)"
   ]
  },
  {
   "cell_type": "code",
   "execution_count": 155,
   "metadata": {},
   "outputs": [
    {
     "data": {
      "text/plain": [
       "array(['ACC', 'BAT', 'NEU', 'Suzuki', 'Mazda', 'RALT', 'LUB', 'Renault',\n",
       "       'JAC Cars', 'RMAQ', 'AXS', 'Changan', 'Great Wall', 'Sector Comun',\n",
       "       'JAC Truck', 'Samsung', 'Implemento Agrícola', 'Geely', '0',\n",
       "       'Otras Marcas', 'Valtra', 'Still', 'Landini', 'Hangcha', 'JCB'],\n",
       "      dtype=object)"
      ]
     },
     "execution_count": 155,
     "metadata": {},
     "output_type": "execute_result"
    }
   ],
   "source": [
    "sectores = final_df['Nombre Sector'].unique()\n",
    "canalesf = final_df['Canal 3'].unique()\n",
    "sectores"
   ]
  },
  {
   "cell_type": "code",
   "execution_count": 156,
   "metadata": {},
   "outputs": [
    {
     "data": {
      "text/html": [
       "<div>\n",
       "<style scoped>\n",
       "    .dataframe tbody tr th:only-of-type {\n",
       "        vertical-align: middle;\n",
       "    }\n",
       "\n",
       "    .dataframe tbody tr th {\n",
       "        vertical-align: top;\n",
       "    }\n",
       "\n",
       "    .dataframe thead th {\n",
       "        text-align: right;\n",
       "    }\n",
       "</style>\n",
       "<table border=\"1\" class=\"dataframe\">\n",
       "  <thead>\n",
       "    <tr style=\"text-align: right;\">\n",
       "      <th></th>\n",
       "      <th>Mes</th>\n",
       "      <th>Material</th>\n",
       "      <th>Canal</th>\n",
       "      <th>Venta UMB</th>\n",
       "      <th>Fuente</th>\n",
       "      <th>Ultimo Eslabón</th>\n",
       "      <th>Tipo</th>\n",
       "      <th>Canal 2</th>\n",
       "      <th>Nombre Sector</th>\n",
       "      <th>Canal 3</th>\n",
       "    </tr>\n",
       "  </thead>\n",
       "  <tbody>\n",
       "    <tr>\n",
       "      <th>0</th>\n",
       "      <td>2021-06-01</td>\n",
       "      <td>1000147</td>\n",
       "      <td>AP</td>\n",
       "      <td>52.0</td>\n",
       "      <td>Sell Out MB51 - SISO</td>\n",
       "      <td>1000147</td>\n",
       "      <td>ACC</td>\n",
       "      <td>Retail</td>\n",
       "      <td>ACC</td>\n",
       "      <td>CL RETAIL</td>\n",
       "    </tr>\n",
       "    <tr>\n",
       "      <th>1</th>\n",
       "      <td>2021-05-01</td>\n",
       "      <td>1000147</td>\n",
       "      <td>AP</td>\n",
       "      <td>40.0</td>\n",
       "      <td>Sell Out MB51 - SISO</td>\n",
       "      <td>1000147</td>\n",
       "      <td>ACC</td>\n",
       "      <td>Retail</td>\n",
       "      <td>ACC</td>\n",
       "      <td>CL RETAIL</td>\n",
       "    </tr>\n",
       "    <tr>\n",
       "      <th>2</th>\n",
       "      <td>2021-04-01</td>\n",
       "      <td>1000147</td>\n",
       "      <td>AP</td>\n",
       "      <td>18.0</td>\n",
       "      <td>Sell Out MB51 - SISO</td>\n",
       "      <td>1000147</td>\n",
       "      <td>ACC</td>\n",
       "      <td>Retail</td>\n",
       "      <td>ACC</td>\n",
       "      <td>CL RETAIL</td>\n",
       "    </tr>\n",
       "    <tr>\n",
       "      <th>3</th>\n",
       "      <td>2021-03-01</td>\n",
       "      <td>1000147</td>\n",
       "      <td>AP</td>\n",
       "      <td>34.0</td>\n",
       "      <td>Sell Out MB51 - SISO</td>\n",
       "      <td>1000147</td>\n",
       "      <td>ACC</td>\n",
       "      <td>Retail</td>\n",
       "      <td>ACC</td>\n",
       "      <td>CL RETAIL</td>\n",
       "    </tr>\n",
       "    <tr>\n",
       "      <th>4</th>\n",
       "      <td>2021-02-01</td>\n",
       "      <td>1000147</td>\n",
       "      <td>AP</td>\n",
       "      <td>41.0</td>\n",
       "      <td>Sell Out MB51 - SISO</td>\n",
       "      <td>1000147</td>\n",
       "      <td>ACC</td>\n",
       "      <td>Retail</td>\n",
       "      <td>ACC</td>\n",
       "      <td>CL RETAIL</td>\n",
       "    </tr>\n",
       "    <tr>\n",
       "      <th>...</th>\n",
       "      <td>...</td>\n",
       "      <td>...</td>\n",
       "      <td>...</td>\n",
       "      <td>...</td>\n",
       "      <td>...</td>\n",
       "      <td>...</td>\n",
       "      <td>...</td>\n",
       "      <td>...</td>\n",
       "      <td>...</td>\n",
       "      <td>...</td>\n",
       "    </tr>\n",
       "    <tr>\n",
       "      <th>1409428</th>\n",
       "      <td>2024-09-01</td>\n",
       "      <td>1171874</td>\n",
       "      <td>Retail</td>\n",
       "      <td>4.0</td>\n",
       "      <td>Sell Out RTL Sept-24</td>\n",
       "      <td>1171874</td>\n",
       "      <td>None</td>\n",
       "      <td>Retail</td>\n",
       "      <td>ACC</td>\n",
       "      <td>CL RETAIL</td>\n",
       "    </tr>\n",
       "    <tr>\n",
       "      <th>1409429</th>\n",
       "      <td>2024-09-01</td>\n",
       "      <td>1171878</td>\n",
       "      <td>Retail</td>\n",
       "      <td>3.0</td>\n",
       "      <td>Sell Out RTL Sept-24</td>\n",
       "      <td>1171878</td>\n",
       "      <td>None</td>\n",
       "      <td>Retail</td>\n",
       "      <td>ACC</td>\n",
       "      <td>CL RETAIL</td>\n",
       "    </tr>\n",
       "    <tr>\n",
       "      <th>1409430</th>\n",
       "      <td>2024-09-01</td>\n",
       "      <td>1171881</td>\n",
       "      <td>Retail</td>\n",
       "      <td>8.0</td>\n",
       "      <td>Sell Out RTL Sept-24</td>\n",
       "      <td>1171881</td>\n",
       "      <td>None</td>\n",
       "      <td>Retail</td>\n",
       "      <td>ACC</td>\n",
       "      <td>CL RETAIL</td>\n",
       "    </tr>\n",
       "    <tr>\n",
       "      <th>1409431</th>\n",
       "      <td>2024-09-01</td>\n",
       "      <td>117196</td>\n",
       "      <td>Retail</td>\n",
       "      <td>1.0</td>\n",
       "      <td>Sell Out RTL Sept-24</td>\n",
       "      <td>117196</td>\n",
       "      <td>None</td>\n",
       "      <td>Retail</td>\n",
       "      <td>ACC</td>\n",
       "      <td>CL RETAIL</td>\n",
       "    </tr>\n",
       "    <tr>\n",
       "      <th>1409432</th>\n",
       "      <td>2024-09-01</td>\n",
       "      <td>170794</td>\n",
       "      <td>Retail</td>\n",
       "      <td>1.0</td>\n",
       "      <td>Sell Out RTL Sept-24</td>\n",
       "      <td>170794</td>\n",
       "      <td>None</td>\n",
       "      <td>Retail</td>\n",
       "      <td>RALT</td>\n",
       "      <td>CL RETAIL</td>\n",
       "    </tr>\n",
       "  </tbody>\n",
       "</table>\n",
       "<p>1409433 rows × 10 columns</p>\n",
       "</div>"
      ],
      "text/plain": [
       "               Mes Material   Canal  Venta UMB                Fuente  \\\n",
       "0       2021-06-01  1000147      AP       52.0  Sell Out MB51 - SISO   \n",
       "1       2021-05-01  1000147      AP       40.0  Sell Out MB51 - SISO   \n",
       "2       2021-04-01  1000147      AP       18.0  Sell Out MB51 - SISO   \n",
       "3       2021-03-01  1000147      AP       34.0  Sell Out MB51 - SISO   \n",
       "4       2021-02-01  1000147      AP       41.0  Sell Out MB51 - SISO   \n",
       "...            ...      ...     ...        ...                   ...   \n",
       "1409428 2024-09-01  1171874  Retail        4.0  Sell Out RTL Sept-24   \n",
       "1409429 2024-09-01  1171878  Retail        3.0  Sell Out RTL Sept-24   \n",
       "1409430 2024-09-01  1171881  Retail        8.0  Sell Out RTL Sept-24   \n",
       "1409431 2024-09-01   117196  Retail        1.0  Sell Out RTL Sept-24   \n",
       "1409432 2024-09-01   170794  Retail        1.0  Sell Out RTL Sept-24   \n",
       "\n",
       "        Ultimo Eslabón  Tipo Canal 2 Nombre Sector    Canal 3  \n",
       "0              1000147   ACC  Retail           ACC  CL RETAIL  \n",
       "1              1000147   ACC  Retail           ACC  CL RETAIL  \n",
       "2              1000147   ACC  Retail           ACC  CL RETAIL  \n",
       "3              1000147   ACC  Retail           ACC  CL RETAIL  \n",
       "4              1000147   ACC  Retail           ACC  CL RETAIL  \n",
       "...                ...   ...     ...           ...        ...  \n",
       "1409428        1171874  None  Retail           ACC  CL RETAIL  \n",
       "1409429        1171878  None  Retail           ACC  CL RETAIL  \n",
       "1409430        1171881  None  Retail           ACC  CL RETAIL  \n",
       "1409431         117196  None  Retail           ACC  CL RETAIL  \n",
       "1409432         170794  None  Retail          RALT  CL RETAIL  \n",
       "\n",
       "[1409433 rows x 10 columns]"
      ]
     },
     "execution_count": 156,
     "metadata": {},
     "output_type": "execute_result"
    }
   ],
   "source": [
    "final_df"
   ]
  },
  {
   "cell_type": "markdown",
   "metadata": {},
   "source": [
    "AHORA EVALUAR SI GUARDAR NUEVO PARQUET"
   ]
  },
  {
   "cell_type": "code",
   "execution_count": 157,
   "metadata": {},
   "outputs": [
    {
     "name": "stderr",
     "output_type": "stream",
     "text": [
      "C:\\Users\\etorres.DERCOPARTS\\AppData\\Local\\Temp\\ipykernel_33148\\358599988.py:1: SettingWithCopyWarning: \n",
      "A value is trying to be set on a copy of a slice from a DataFrame.\n",
      "Try using .loc[row_indexer,col_indexer] = value instead\n",
      "\n",
      "See the caveats in the documentation: https://pandas.pydata.org/pandas-docs/stable/user_guide/indexing.html#returning-a-view-versus-a-copy\n",
      "  final_df['Nombre Sector'] = final_df['Nombre Sector'].astype(str)\n"
     ]
    },
    {
     "data": {
      "text/plain": [
       "Mes               datetime64[ns]\n",
       "Material                  object\n",
       "Canal                     object\n",
       "Venta UMB                float64\n",
       "Fuente                    object\n",
       "Ultimo Eslabón            object\n",
       "Tipo                      object\n",
       "Canal 2                   object\n",
       "Nombre Sector             object\n",
       "Canal 3                   object\n",
       "dtype: object"
      ]
     },
     "execution_count": 157,
     "metadata": {},
     "output_type": "execute_result"
    }
   ],
   "source": [
    "final_df['Nombre Sector'] = final_df['Nombre Sector'].astype(str)\n",
    "# mara_reducido.loc[:, 'Material_S4'] = mara_reducido['Material_S4'].astype(str)\n",
    "final_df.dtypes"
   ]
  },
  {
   "cell_type": "code",
   "execution_count": 158,
   "metadata": {},
   "outputs": [
    {
     "name": "stdout",
     "output_type": "stream",
     "text": [
      "El archivo se ha guardado en: C:\\Users\\etorres.DERCOPARTS\\DERCO CHILE REPUESTOS SpA\\Planificación y abastecimiento - Documentos\\Planificación y Compras AFM\\S&OP Demanda\\Codigos Demanda\\Parquets\\Historia_Sell_Out (2024-09).parquet\n"
     ]
    }
   ],
   "source": [
    "import pandas as pd\n",
    "import os\n",
    "from datetime import datetime, timedelta\n",
    "\n",
    "# Obtener el directorio del usuario\n",
    "usuario_dir = os.path.expanduser(\"~\")\n",
    "\n",
    "# Obtener la fecha de hoy\n",
    "hoy = datetime.today()\n",
    "\n",
    "# Obtener el primer día del mes actual\n",
    "primer_dia_mes_actual = hoy.replace(day=1)\n",
    "\n",
    "# Obtener el último día del mes pasado\n",
    "mes_pasado = primer_dia_mes_actual - timedelta(days=1)\n",
    "mes_pasado_str = mes_pasado.strftime(\"%Y-%m\")\n",
    "\n",
    "# Construir la ruta de archivo\n",
    "ruta = os.path.join(\n",
    "    usuario_dir,\n",
    "    \"DERCO CHILE REPUESTOS SpA\",\n",
    "    \"Planificación y abastecimiento - Documentos\",\n",
    "    \"Planificación y Compras AFM\",\n",
    "    \"S&OP Demanda\",\n",
    "    \"Codigos Demanda\",\n",
    "    \"Parquets\",\n",
    "    f\"Historia_Sell_Out ({mes_pasado_str}).parquet\"\n",
    ")\n",
    "\n",
    "# Guardar el DataFrame en formato Parquet\n",
    "final_df.to_parquet(ruta)\n",
    "\n",
    "# Imprimir la ruta para verificar\n",
    "print(f\"El archivo se ha guardado en: {ruta}\")\n"
   ]
  },
  {
   "cell_type": "code",
   "execution_count": 159,
   "metadata": {},
   "outputs": [
    {
     "data": {
      "text/plain": [
       "array(['CL RETAIL', 'CL SODIMAC', 'CL EASY', 'CL WALMART', 'CL SMU',\n",
       "       'CL TOTTUS'], dtype=object)"
      ]
     },
     "execution_count": 159,
     "metadata": {},
     "output_type": "execute_result"
    }
   ],
   "source": [
    "canalesf"
   ]
  },
  {
   "cell_type": "code",
   "execution_count": 160,
   "metadata": {},
   "outputs": [
    {
     "data": {
      "text/plain": [
       "(1409433, 10)"
      ]
     },
     "execution_count": 160,
     "metadata": {},
     "output_type": "execute_result"
    }
   ],
   "source": [
    "final_df.shape"
   ]
  },
  {
   "cell_type": "code",
   "execution_count": 161,
   "metadata": {},
   "outputs": [
    {
     "data": {
      "text/html": [
       "<div>\n",
       "<style scoped>\n",
       "    .dataframe tbody tr th:only-of-type {\n",
       "        vertical-align: middle;\n",
       "    }\n",
       "\n",
       "    .dataframe tbody tr th {\n",
       "        vertical-align: top;\n",
       "    }\n",
       "\n",
       "    .dataframe thead th {\n",
       "        text-align: right;\n",
       "    }\n",
       "</style>\n",
       "<table border=\"1\" class=\"dataframe\">\n",
       "  <thead>\n",
       "    <tr style=\"text-align: right;\">\n",
       "      <th></th>\n",
       "      <th>Mes</th>\n",
       "      <th>Material</th>\n",
       "      <th>Canal</th>\n",
       "      <th>Venta UMB</th>\n",
       "      <th>Fuente</th>\n",
       "      <th>Ultimo Eslabón</th>\n",
       "      <th>Tipo</th>\n",
       "      <th>Canal 2</th>\n",
       "      <th>Nombre Sector</th>\n",
       "      <th>Canal 3</th>\n",
       "    </tr>\n",
       "  </thead>\n",
       "  <tbody>\n",
       "    <tr>\n",
       "      <th>0</th>\n",
       "      <td>2021-06-01</td>\n",
       "      <td>1000147</td>\n",
       "      <td>AP</td>\n",
       "      <td>52.0</td>\n",
       "      <td>Sell Out MB51 - SISO</td>\n",
       "      <td>1000147</td>\n",
       "      <td>ACC</td>\n",
       "      <td>Retail</td>\n",
       "      <td>ACC</td>\n",
       "      <td>CL RETAIL</td>\n",
       "    </tr>\n",
       "    <tr>\n",
       "      <th>1</th>\n",
       "      <td>2021-05-01</td>\n",
       "      <td>1000147</td>\n",
       "      <td>AP</td>\n",
       "      <td>40.0</td>\n",
       "      <td>Sell Out MB51 - SISO</td>\n",
       "      <td>1000147</td>\n",
       "      <td>ACC</td>\n",
       "      <td>Retail</td>\n",
       "      <td>ACC</td>\n",
       "      <td>CL RETAIL</td>\n",
       "    </tr>\n",
       "  </tbody>\n",
       "</table>\n",
       "</div>"
      ],
      "text/plain": [
       "         Mes Material Canal  Venta UMB                Fuente Ultimo Eslabón  \\\n",
       "0 2021-06-01  1000147    AP       52.0  Sell Out MB51 - SISO        1000147   \n",
       "1 2021-05-01  1000147    AP       40.0  Sell Out MB51 - SISO        1000147   \n",
       "\n",
       "  Tipo Canal 2 Nombre Sector    Canal 3  \n",
       "0  ACC  Retail           ACC  CL RETAIL  \n",
       "1  ACC  Retail           ACC  CL RETAIL  "
      ]
     },
     "execution_count": 161,
     "metadata": {},
     "output_type": "execute_result"
    }
   ],
   "source": [
    "final_df.head(2)"
   ]
  },
  {
   "cell_type": "code",
   "execution_count": null,
   "metadata": {},
   "outputs": [],
   "source": []
  },
  {
   "cell_type": "code",
   "execution_count": null,
   "metadata": {},
   "outputs": [],
   "source": []
  },
  {
   "cell_type": "code",
   "execution_count": 162,
   "metadata": {},
   "outputs": [
    {
     "data": {
      "text/html": [
       "<div>\n",
       "<style scoped>\n",
       "    .dataframe tbody tr th:only-of-type {\n",
       "        vertical-align: middle;\n",
       "    }\n",
       "\n",
       "    .dataframe tbody tr th {\n",
       "        vertical-align: top;\n",
       "    }\n",
       "\n",
       "    .dataframe thead th {\n",
       "        text-align: right;\n",
       "    }\n",
       "</style>\n",
       "<table border=\"1\" class=\"dataframe\">\n",
       "  <thead>\n",
       "    <tr style=\"text-align: right;\">\n",
       "      <th></th>\n",
       "      <th>Mes</th>\n",
       "      <th>Material</th>\n",
       "      <th>Canal</th>\n",
       "      <th>Venta UMB</th>\n",
       "      <th>Fuente</th>\n",
       "      <th>Ultimo Eslabón</th>\n",
       "      <th>Tipo</th>\n",
       "      <th>Canal 2</th>\n",
       "      <th>Nombre Sector</th>\n",
       "      <th>Canal 3</th>\n",
       "    </tr>\n",
       "  </thead>\n",
       "  <tbody>\n",
       "    <tr>\n",
       "      <th>0</th>\n",
       "      <td>2021-06-01</td>\n",
       "      <td>1000147</td>\n",
       "      <td>AP</td>\n",
       "      <td>52.0</td>\n",
       "      <td>Sell Out MB51 - SISO</td>\n",
       "      <td>1000147</td>\n",
       "      <td>ACC</td>\n",
       "      <td>Retail</td>\n",
       "      <td>ACC</td>\n",
       "      <td>CL RETAIL</td>\n",
       "    </tr>\n",
       "    <tr>\n",
       "      <th>1</th>\n",
       "      <td>2021-05-01</td>\n",
       "      <td>1000147</td>\n",
       "      <td>AP</td>\n",
       "      <td>40.0</td>\n",
       "      <td>Sell Out MB51 - SISO</td>\n",
       "      <td>1000147</td>\n",
       "      <td>ACC</td>\n",
       "      <td>Retail</td>\n",
       "      <td>ACC</td>\n",
       "      <td>CL RETAIL</td>\n",
       "    </tr>\n",
       "  </tbody>\n",
       "</table>\n",
       "</div>"
      ],
      "text/plain": [
       "         Mes Material Canal  Venta UMB                Fuente Ultimo Eslabón  \\\n",
       "0 2021-06-01  1000147    AP       52.0  Sell Out MB51 - SISO        1000147   \n",
       "1 2021-05-01  1000147    AP       40.0  Sell Out MB51 - SISO        1000147   \n",
       "\n",
       "  Tipo Canal 2 Nombre Sector    Canal 3  \n",
       "0  ACC  Retail           ACC  CL RETAIL  \n",
       "1  ACC  Retail           ACC  CL RETAIL  "
      ]
     },
     "execution_count": 162,
     "metadata": {},
     "output_type": "execute_result"
    }
   ],
   "source": [
    "\n",
    "sectores_deseados = ['ACC', 'BAT', 'NEU', 'LUB', 'RALT', 'RMAQ']\n",
    "\n",
    "final_df = final_df.loc[\n",
    "       (final_df['Nombre Sector'].isin(sectores_deseados))\n",
    "]\n",
    "final_df.head(2)\n"
   ]
  },
  {
   "cell_type": "code",
   "execution_count": 163,
   "metadata": {},
   "outputs": [
    {
     "data": {
      "text/plain": [
       "(1392166, 10)"
      ]
     },
     "execution_count": 163,
     "metadata": {},
     "output_type": "execute_result"
    }
   ],
   "source": [
    "final_df.shape"
   ]
  },
  {
   "cell_type": "code",
   "execution_count": 164,
   "metadata": {},
   "outputs": [
    {
     "name": "stdout",
     "output_type": "stream",
     "text": [
      "630185.0\n"
     ]
    }
   ],
   "source": [
    "import pandas as pd\n",
    "\n",
    "# Suponiendo que el DataFrame se llama merged_df1 y ya está cargado\n",
    "fecha_objetivo = '2024-08-01'\n",
    "suma_venta_umb = final_df[final_df['Mes'] == fecha_objetivo]['Venta UMB'].sum()\n",
    "\n",
    "print(suma_venta_umb)\n"
   ]
  },
  {
   "cell_type": "markdown",
   "metadata": {},
   "source": [
    "Descargar el 2024 en csv para validar si va todo OK"
   ]
  },
  {
   "cell_type": "code",
   "execution_count": 165,
   "metadata": {},
   "outputs": [
    {
     "data": {
      "text/plain": [
       "Index(['Mes', 'Material', 'Canal', 'Venta UMB', 'Fuente', 'Ultimo Eslabón',\n",
       "       'Tipo', 'Canal 2', 'Nombre Sector', 'Canal 3'],\n",
       "      dtype='object')"
      ]
     },
     "execution_count": 165,
     "metadata": {},
     "output_type": "execute_result"
    }
   ],
   "source": [
    "final_df.columns"
   ]
  },
  {
   "cell_type": "code",
   "execution_count": 166,
   "metadata": {},
   "outputs": [
    {
     "data": {
      "text/html": [
       "<div>\n",
       "<style scoped>\n",
       "    .dataframe tbody tr th:only-of-type {\n",
       "        vertical-align: middle;\n",
       "    }\n",
       "\n",
       "    .dataframe tbody tr th {\n",
       "        vertical-align: top;\n",
       "    }\n",
       "\n",
       "    .dataframe thead th {\n",
       "        text-align: right;\n",
       "    }\n",
       "</style>\n",
       "<table border=\"1\" class=\"dataframe\">\n",
       "  <thead>\n",
       "    <tr style=\"text-align: right;\">\n",
       "      <th></th>\n",
       "      <th>Material</th>\n",
       "      <th>Cod_Actual_1</th>\n",
       "    </tr>\n",
       "  </thead>\n",
       "  <tbody>\n",
       "    <tr>\n",
       "      <th>0</th>\n",
       "      <td>102288</td>\n",
       "      <td>582655</td>\n",
       "    </tr>\n",
       "    <tr>\n",
       "      <th>1</th>\n",
       "      <td>501216</td>\n",
       "      <td>582655</td>\n",
       "    </tr>\n",
       "    <tr>\n",
       "      <th>2</th>\n",
       "      <td>582655</td>\n",
       "      <td>582655</td>\n",
       "    </tr>\n",
       "    <tr>\n",
       "      <th>3</th>\n",
       "      <td>167639</td>\n",
       "      <td>580659</td>\n",
       "    </tr>\n",
       "    <tr>\n",
       "      <th>4</th>\n",
       "      <td>580659</td>\n",
       "      <td>580659</td>\n",
       "    </tr>\n",
       "    <tr>\n",
       "      <th>...</th>\n",
       "      <td>...</td>\n",
       "      <td>...</td>\n",
       "    </tr>\n",
       "    <tr>\n",
       "      <th>93412</th>\n",
       "      <td>1171603</td>\n",
       "      <td>1171603</td>\n",
       "    </tr>\n",
       "    <tr>\n",
       "      <th>93413</th>\n",
       "      <td>120398</td>\n",
       "      <td>1171609</td>\n",
       "    </tr>\n",
       "    <tr>\n",
       "      <th>93414</th>\n",
       "      <td>1171609</td>\n",
       "      <td>1171609</td>\n",
       "    </tr>\n",
       "    <tr>\n",
       "      <th>93415</th>\n",
       "      <td>1006570</td>\n",
       "      <td>1171610</td>\n",
       "    </tr>\n",
       "    <tr>\n",
       "      <th>93416</th>\n",
       "      <td>1171610</td>\n",
       "      <td>1171610</td>\n",
       "    </tr>\n",
       "  </tbody>\n",
       "</table>\n",
       "<p>93417 rows × 2 columns</p>\n",
       "</div>"
      ],
      "text/plain": [
       "      Material Cod_Actual_1\n",
       "0       102288       582655\n",
       "1       501216       582655\n",
       "2       582655       582655\n",
       "3       167639       580659\n",
       "4       580659       580659\n",
       "...        ...          ...\n",
       "93412  1171603      1171603\n",
       "93413   120398      1171609\n",
       "93414  1171609      1171609\n",
       "93415  1006570      1171610\n",
       "93416  1171610      1171610\n",
       "\n",
       "[93417 rows x 2 columns]"
      ]
     },
     "execution_count": 166,
     "metadata": {},
     "output_type": "execute_result"
    }
   ],
   "source": [
    "eslabon"
   ]
  },
  {
   "cell_type": "markdown",
   "metadata": {},
   "source": [
    "Repasar Ult Eslabon"
   ]
  },
  {
   "cell_type": "code",
   "execution_count": 167,
   "metadata": {},
   "outputs": [
    {
     "data": {
      "text/html": [
       "<div>\n",
       "<style scoped>\n",
       "    .dataframe tbody tr th:only-of-type {\n",
       "        vertical-align: middle;\n",
       "    }\n",
       "\n",
       "    .dataframe tbody tr th {\n",
       "        vertical-align: top;\n",
       "    }\n",
       "\n",
       "    .dataframe thead th {\n",
       "        text-align: right;\n",
       "    }\n",
       "</style>\n",
       "<table border=\"1\" class=\"dataframe\">\n",
       "  <thead>\n",
       "    <tr style=\"text-align: right;\">\n",
       "      <th></th>\n",
       "      <th>Mes</th>\n",
       "      <th>Material</th>\n",
       "      <th>Canal</th>\n",
       "      <th>Venta UMB</th>\n",
       "      <th>Fuente</th>\n",
       "      <th>Tipo</th>\n",
       "      <th>Canal 2</th>\n",
       "      <th>Nombre Sector</th>\n",
       "      <th>Canal 3</th>\n",
       "      <th>Ultimo Eslabón</th>\n",
       "    </tr>\n",
       "  </thead>\n",
       "  <tbody>\n",
       "    <tr>\n",
       "      <th>0</th>\n",
       "      <td>2021-06-01</td>\n",
       "      <td>1000147</td>\n",
       "      <td>AP</td>\n",
       "      <td>52.0</td>\n",
       "      <td>Sell Out MB51 - SISO</td>\n",
       "      <td>ACC</td>\n",
       "      <td>Retail</td>\n",
       "      <td>ACC</td>\n",
       "      <td>CL RETAIL</td>\n",
       "      <td>1000147</td>\n",
       "    </tr>\n",
       "    <tr>\n",
       "      <th>1</th>\n",
       "      <td>2021-05-01</td>\n",
       "      <td>1000147</td>\n",
       "      <td>AP</td>\n",
       "      <td>40.0</td>\n",
       "      <td>Sell Out MB51 - SISO</td>\n",
       "      <td>ACC</td>\n",
       "      <td>Retail</td>\n",
       "      <td>ACC</td>\n",
       "      <td>CL RETAIL</td>\n",
       "      <td>1000147</td>\n",
       "    </tr>\n",
       "  </tbody>\n",
       "</table>\n",
       "</div>"
      ],
      "text/plain": [
       "         Mes Material Canal  Venta UMB                Fuente Tipo Canal 2  \\\n",
       "0 2021-06-01  1000147    AP       52.0  Sell Out MB51 - SISO  ACC  Retail   \n",
       "1 2021-05-01  1000147    AP       40.0  Sell Out MB51 - SISO  ACC  Retail   \n",
       "\n",
       "  Nombre Sector    Canal 3 Ultimo Eslabón  \n",
       "0           ACC  CL RETAIL        1000147  \n",
       "1           ACC  CL RETAIL        1000147  "
      ]
     },
     "execution_count": 167,
     "metadata": {},
     "output_type": "execute_result"
    }
   ],
   "source": [
    "final_df = final_df.drop(columns=['Ultimo Eslabón'])\n",
    "final_df = final_df.merge(eslabon, on='Material', how='left')\n",
    "final_df['Cod_Actual_1'] = final_df['Cod_Actual_1'].fillna(final_df['Material'])\n",
    "final_df = final_df.rename(columns={'Cod_Actual_1': 'Ultimo Eslabón'})\n",
    "final_df.head(2)\n"
   ]
  },
  {
   "cell_type": "markdown",
   "metadata": {},
   "source": [
    "Trabajamos con UE"
   ]
  },
  {
   "cell_type": "code",
   "execution_count": 168,
   "metadata": {},
   "outputs": [],
   "source": [
    "sellinreducido = final_df[['Mes', 'Ultimo Eslabón', 'Canal 3', 'Venta UMB']]"
   ]
  },
  {
   "cell_type": "code",
   "execution_count": 169,
   "metadata": {},
   "outputs": [
    {
     "data": {
      "text/plain": [
       "Mes               datetime64[ns]\n",
       "Ultimo Eslabón            object\n",
       "Canal 3                   object\n",
       "Venta UMB                float64\n",
       "dtype: object"
      ]
     },
     "execution_count": 169,
     "metadata": {},
     "output_type": "execute_result"
    }
   ],
   "source": [
    "sellinreducido.dtypes"
   ]
  },
  {
   "cell_type": "code",
   "execution_count": 170,
   "metadata": {},
   "outputs": [
    {
     "name": "stdout",
     "output_type": "stream",
     "text": [
      "630185.0\n"
     ]
    }
   ],
   "source": [
    "import pandas as pd\n",
    "\n",
    "# Suponiendo que el DataFrame se llama merged_df1 y ya está cargado\n",
    "fecha_objetivo = '2024-08-01'\n",
    "suma_venta_umb = sellinreducido[sellinreducido['Mes'] == fecha_objetivo]['Venta UMB'].sum()\n",
    "\n",
    "print(suma_venta_umb)\n"
   ]
  },
  {
   "cell_type": "code",
   "execution_count": 171,
   "metadata": {},
   "outputs": [],
   "source": [
    "# Crear una copia del DataFrame original\n",
    "sellinreducido_ = sellinreducido.copy()\n",
    "\n",
    "# Renombrar una columna para claridad\n",
    "sellinreducido_.rename(columns={'Mes': 'Fecha'}, inplace=True)"
   ]
  },
  {
   "cell_type": "code",
   "execution_count": 172,
   "metadata": {},
   "outputs": [
    {
     "data": {
      "text/html": [
       "<div>\n",
       "<style scoped>\n",
       "    .dataframe tbody tr th:only-of-type {\n",
       "        vertical-align: middle;\n",
       "    }\n",
       "\n",
       "    .dataframe tbody tr th {\n",
       "        vertical-align: top;\n",
       "    }\n",
       "\n",
       "    .dataframe thead th {\n",
       "        text-align: right;\n",
       "    }\n",
       "</style>\n",
       "<table border=\"1\" class=\"dataframe\">\n",
       "  <thead>\n",
       "    <tr style=\"text-align: right;\">\n",
       "      <th></th>\n",
       "      <th>Fecha</th>\n",
       "      <th>Ultimo Eslabón</th>\n",
       "      <th>Canal 3</th>\n",
       "      <th>Venta UMB</th>\n",
       "    </tr>\n",
       "  </thead>\n",
       "  <tbody>\n",
       "    <tr>\n",
       "      <th>0</th>\n",
       "      <td>2021-06-01</td>\n",
       "      <td>1000147</td>\n",
       "      <td>CL RETAIL</td>\n",
       "      <td>52.0</td>\n",
       "    </tr>\n",
       "    <tr>\n",
       "      <th>1</th>\n",
       "      <td>2021-05-01</td>\n",
       "      <td>1000147</td>\n",
       "      <td>CL RETAIL</td>\n",
       "      <td>40.0</td>\n",
       "    </tr>\n",
       "    <tr>\n",
       "      <th>2</th>\n",
       "      <td>2021-04-01</td>\n",
       "      <td>1000147</td>\n",
       "      <td>CL RETAIL</td>\n",
       "      <td>18.0</td>\n",
       "    </tr>\n",
       "    <tr>\n",
       "      <th>3</th>\n",
       "      <td>2021-03-01</td>\n",
       "      <td>1000147</td>\n",
       "      <td>CL RETAIL</td>\n",
       "      <td>34.0</td>\n",
       "    </tr>\n",
       "    <tr>\n",
       "      <th>4</th>\n",
       "      <td>2021-02-01</td>\n",
       "      <td>1000147</td>\n",
       "      <td>CL RETAIL</td>\n",
       "      <td>41.0</td>\n",
       "    </tr>\n",
       "    <tr>\n",
       "      <th>...</th>\n",
       "      <td>...</td>\n",
       "      <td>...</td>\n",
       "      <td>...</td>\n",
       "      <td>...</td>\n",
       "    </tr>\n",
       "    <tr>\n",
       "      <th>1392161</th>\n",
       "      <td>2024-09-01</td>\n",
       "      <td>1171874</td>\n",
       "      <td>CL RETAIL</td>\n",
       "      <td>4.0</td>\n",
       "    </tr>\n",
       "    <tr>\n",
       "      <th>1392162</th>\n",
       "      <td>2024-09-01</td>\n",
       "      <td>1171878</td>\n",
       "      <td>CL RETAIL</td>\n",
       "      <td>3.0</td>\n",
       "    </tr>\n",
       "    <tr>\n",
       "      <th>1392163</th>\n",
       "      <td>2024-09-01</td>\n",
       "      <td>1171881</td>\n",
       "      <td>CL RETAIL</td>\n",
       "      <td>8.0</td>\n",
       "    </tr>\n",
       "    <tr>\n",
       "      <th>1392164</th>\n",
       "      <td>2024-09-01</td>\n",
       "      <td>117196</td>\n",
       "      <td>CL RETAIL</td>\n",
       "      <td>1.0</td>\n",
       "    </tr>\n",
       "    <tr>\n",
       "      <th>1392165</th>\n",
       "      <td>2024-09-01</td>\n",
       "      <td>170794</td>\n",
       "      <td>CL RETAIL</td>\n",
       "      <td>1.0</td>\n",
       "    </tr>\n",
       "  </tbody>\n",
       "</table>\n",
       "<p>1392166 rows × 4 columns</p>\n",
       "</div>"
      ],
      "text/plain": [
       "             Fecha Ultimo Eslabón    Canal 3  Venta UMB\n",
       "0       2021-06-01        1000147  CL RETAIL       52.0\n",
       "1       2021-05-01        1000147  CL RETAIL       40.0\n",
       "2       2021-04-01        1000147  CL RETAIL       18.0\n",
       "3       2021-03-01        1000147  CL RETAIL       34.0\n",
       "4       2021-02-01        1000147  CL RETAIL       41.0\n",
       "...            ...            ...        ...        ...\n",
       "1392161 2024-09-01        1171874  CL RETAIL        4.0\n",
       "1392162 2024-09-01        1171878  CL RETAIL        3.0\n",
       "1392163 2024-09-01        1171881  CL RETAIL        8.0\n",
       "1392164 2024-09-01         117196  CL RETAIL        1.0\n",
       "1392165 2024-09-01         170794  CL RETAIL        1.0\n",
       "\n",
       "[1392166 rows x 4 columns]"
      ]
     },
     "execution_count": 172,
     "metadata": {},
     "output_type": "execute_result"
    }
   ],
   "source": [
    "sellinreducido_"
   ]
  },
  {
   "cell_type": "code",
   "execution_count": 173,
   "metadata": {},
   "outputs": [],
   "source": [
    "# Asegurarse de que la columna 'Venta' es numérica\n",
    "sellinreducido_['Venta UMB'] = pd.to_numeric(sellinreducido_['Venta UMB'], errors='coerce')"
   ]
  },
  {
   "cell_type": "code",
   "execution_count": null,
   "metadata": {},
   "outputs": [],
   "source": []
  },
  {
   "cell_type": "code",
   "execution_count": 174,
   "metadata": {},
   "outputs": [
    {
     "data": {
      "text/plain": [
       "Index(['Mes', 'Material', 'Canal', 'Venta UMB', 'Fuente', 'Ultimo Eslabón',\n",
       "       'Tipo', 'Canal 2', 'Nombre Sector', 'Canal 3', 'SI/SO'],\n",
       "      dtype='object')"
      ]
     },
     "execution_count": 174,
     "metadata": {},
     "output_type": "execute_result"
    }
   ],
   "source": [
    "merged_df.columns"
   ]
  },
  {
   "cell_type": "markdown",
   "metadata": {},
   "source": [
    "BORRAR EL RENAME DESPUES Y EL SEGUNDO Q VIENE IGUAL"
   ]
  },
  {
   "cell_type": "code",
   "execution_count": 175,
   "metadata": {},
   "outputs": [],
   "source": [
    "sellinreducido_.rename(columns={'Ultimo Eslabón': 'Material'}, inplace=True)"
   ]
  },
  {
   "cell_type": "code",
   "execution_count": 176,
   "metadata": {},
   "outputs": [
    {
     "data": {
      "text/plain": [
       "Index(['Material', 'Cod_Actual_1'], dtype='object')"
      ]
     },
     "execution_count": 176,
     "metadata": {},
     "output_type": "execute_result"
    }
   ],
   "source": [
    "eslabon.columns"
   ]
  },
  {
   "cell_type": "code",
   "execution_count": 177,
   "metadata": {},
   "outputs": [
    {
     "data": {
      "text/plain": [
       "(1392166, 4)"
      ]
     },
     "execution_count": 177,
     "metadata": {},
     "output_type": "execute_result"
    }
   ],
   "source": [
    "sellinreducido_.shape"
   ]
  },
  {
   "cell_type": "markdown",
   "metadata": {},
   "source": [
    "REVISAAA"
   ]
  },
  {
   "cell_type": "code",
   "execution_count": 178,
   "metadata": {},
   "outputs": [],
   "source": [
    "merged_df1=sellinreducido_"
   ]
  },
  {
   "cell_type": "code",
   "execution_count": 179,
   "metadata": {},
   "outputs": [
    {
     "data": {
      "text/html": [
       "<div>\n",
       "<style scoped>\n",
       "    .dataframe tbody tr th:only-of-type {\n",
       "        vertical-align: middle;\n",
       "    }\n",
       "\n",
       "    .dataframe tbody tr th {\n",
       "        vertical-align: top;\n",
       "    }\n",
       "\n",
       "    .dataframe thead th {\n",
       "        text-align: right;\n",
       "    }\n",
       "</style>\n",
       "<table border=\"1\" class=\"dataframe\">\n",
       "  <thead>\n",
       "    <tr style=\"text-align: right;\">\n",
       "      <th></th>\n",
       "      <th>Fecha</th>\n",
       "      <th>Material</th>\n",
       "      <th>Canal 3</th>\n",
       "      <th>Venta UMB</th>\n",
       "    </tr>\n",
       "  </thead>\n",
       "  <tbody>\n",
       "    <tr>\n",
       "      <th>0</th>\n",
       "      <td>2021-06-01</td>\n",
       "      <td>1000147</td>\n",
       "      <td>CL RETAIL</td>\n",
       "      <td>52.0</td>\n",
       "    </tr>\n",
       "    <tr>\n",
       "      <th>1</th>\n",
       "      <td>2021-05-01</td>\n",
       "      <td>1000147</td>\n",
       "      <td>CL RETAIL</td>\n",
       "      <td>40.0</td>\n",
       "    </tr>\n",
       "  </tbody>\n",
       "</table>\n",
       "</div>"
      ],
      "text/plain": [
       "       Fecha Material    Canal 3  Venta UMB\n",
       "0 2021-06-01  1000147  CL RETAIL       52.0\n",
       "1 2021-05-01  1000147  CL RETAIL       40.0"
      ]
     },
     "execution_count": 179,
     "metadata": {},
     "output_type": "execute_result"
    }
   ],
   "source": [
    "merged_df1.head(2)"
   ]
  },
  {
   "cell_type": "code",
   "execution_count": 180,
   "metadata": {},
   "outputs": [
    {
     "name": "stdout",
     "output_type": "stream",
     "text": [
      "630185.0\n"
     ]
    }
   ],
   "source": [
    "import pandas as pd\n",
    "\n",
    "# Suponiendo que el DataFrame se llama merged_df1 y ya está cargado\n",
    "fecha_objetivo = '2024-08-01'\n",
    "suma_venta_umb = merged_df1[merged_df1['Fecha'] == fecha_objetivo]['Venta UMB'].sum()\n",
    "\n",
    "print(suma_venta_umb)\n"
   ]
  },
  {
   "cell_type": "code",
   "execution_count": 181,
   "metadata": {},
   "outputs": [],
   "source": [
    "sellinreducido1=merged_df1"
   ]
  },
  {
   "cell_type": "code",
   "execution_count": 182,
   "metadata": {},
   "outputs": [
    {
     "data": {
      "text/plain": [
       "(1392166, 4)"
      ]
     },
     "execution_count": 182,
     "metadata": {},
     "output_type": "execute_result"
    }
   ],
   "source": [
    "sellinreducido1.shape"
   ]
  },
  {
   "cell_type": "code",
   "execution_count": 183,
   "metadata": {},
   "outputs": [],
   "source": [
    "sellinreducido1.rename(columns={'Material': 'Ultimo Eslabón'}, inplace=True)"
   ]
  },
  {
   "cell_type": "code",
   "execution_count": 184,
   "metadata": {},
   "outputs": [],
   "source": [
    "# Crear un pivot table\n",
    "pivot_df = sellinreducido1.pivot_table(index=['Ultimo Eslabón', 'Canal 3'], \n",
    "                                       columns='Fecha', values='Venta UMB', \n",
    "                                       aggfunc='sum').reset_index()"
   ]
  },
  {
   "cell_type": "code",
   "execution_count": 185,
   "metadata": {},
   "outputs": [
    {
     "data": {
      "text/plain": [
       "(87152, 83)"
      ]
     },
     "execution_count": 185,
     "metadata": {},
     "output_type": "execute_result"
    }
   ],
   "source": [
    "pivot_df.shape"
   ]
  },
  {
   "cell_type": "markdown",
   "metadata": {},
   "source": [
    "\n",
    "Reemplazar los NaN por 0 y los valores negativos por 0"
   ]
  },
  {
   "cell_type": "code",
   "execution_count": 186,
   "metadata": {},
   "outputs": [],
   "source": [
    "pivot_df.fillna(0, inplace=True)\n"
   ]
  },
  {
   "cell_type": "code",
   "execution_count": 187,
   "metadata": {},
   "outputs": [
    {
     "data": {
      "text/html": [
       "<div>\n",
       "<style scoped>\n",
       "    .dataframe tbody tr th:only-of-type {\n",
       "        vertical-align: middle;\n",
       "    }\n",
       "\n",
       "    .dataframe tbody tr th {\n",
       "        vertical-align: top;\n",
       "    }\n",
       "\n",
       "    .dataframe thead th {\n",
       "        text-align: right;\n",
       "    }\n",
       "</style>\n",
       "<table border=\"1\" class=\"dataframe\">\n",
       "  <thead>\n",
       "    <tr style=\"text-align: right;\">\n",
       "      <th>Fecha</th>\n",
       "      <th>Ultimo Eslabón</th>\n",
       "      <th>Canal 3</th>\n",
       "      <th>2018-01-01 00:00:00</th>\n",
       "      <th>2018-02-01 00:00:00</th>\n",
       "      <th>2018-03-01 00:00:00</th>\n",
       "      <th>2018-04-01 00:00:00</th>\n",
       "      <th>2018-05-01 00:00:00</th>\n",
       "      <th>2018-06-01 00:00:00</th>\n",
       "      <th>2018-07-01 00:00:00</th>\n",
       "      <th>2018-08-01 00:00:00</th>\n",
       "      <th>...</th>\n",
       "      <th>2023-12-01 00:00:00</th>\n",
       "      <th>2024-01-01 00:00:00</th>\n",
       "      <th>2024-02-01 00:00:00</th>\n",
       "      <th>2024-03-01 00:00:00</th>\n",
       "      <th>2024-04-01 00:00:00</th>\n",
       "      <th>2024-05-01 00:00:00</th>\n",
       "      <th>2024-06-01 00:00:00</th>\n",
       "      <th>2024-07-01 00:00:00</th>\n",
       "      <th>2024-08-01 00:00:00</th>\n",
       "      <th>2024-09-01 00:00:00</th>\n",
       "    </tr>\n",
       "  </thead>\n",
       "  <tbody>\n",
       "    <tr>\n",
       "      <th>0</th>\n",
       "      <td>1000078</td>\n",
       "      <td>CL RETAIL</td>\n",
       "      <td>0.0</td>\n",
       "      <td>0.0</td>\n",
       "      <td>0.0</td>\n",
       "      <td>0.0</td>\n",
       "      <td>0.0</td>\n",
       "      <td>0.0</td>\n",
       "      <td>0.0</td>\n",
       "      <td>0.0</td>\n",
       "      <td>...</td>\n",
       "      <td>0.0</td>\n",
       "      <td>1.0</td>\n",
       "      <td>0.0</td>\n",
       "      <td>0.0</td>\n",
       "      <td>0.0</td>\n",
       "      <td>0.0</td>\n",
       "      <td>0.0</td>\n",
       "      <td>0.0</td>\n",
       "      <td>0.0</td>\n",
       "      <td>0.0</td>\n",
       "    </tr>\n",
       "    <tr>\n",
       "      <th>1</th>\n",
       "      <td>1000144</td>\n",
       "      <td>CL RETAIL</td>\n",
       "      <td>0.0</td>\n",
       "      <td>0.0</td>\n",
       "      <td>0.0</td>\n",
       "      <td>0.0</td>\n",
       "      <td>0.0</td>\n",
       "      <td>0.0</td>\n",
       "      <td>0.0</td>\n",
       "      <td>0.0</td>\n",
       "      <td>...</td>\n",
       "      <td>2.0</td>\n",
       "      <td>1.0</td>\n",
       "      <td>1.0</td>\n",
       "      <td>1.0</td>\n",
       "      <td>0.0</td>\n",
       "      <td>0.0</td>\n",
       "      <td>0.0</td>\n",
       "      <td>0.0</td>\n",
       "      <td>0.0</td>\n",
       "      <td>0.0</td>\n",
       "    </tr>\n",
       "  </tbody>\n",
       "</table>\n",
       "<p>2 rows × 83 columns</p>\n",
       "</div>"
      ],
      "text/plain": [
       "Fecha Ultimo Eslabón    Canal 3  2018-01-01 00:00:00  2018-02-01 00:00:00  \\\n",
       "0            1000078  CL RETAIL                  0.0                  0.0   \n",
       "1            1000144  CL RETAIL                  0.0                  0.0   \n",
       "\n",
       "Fecha  2018-03-01 00:00:00  2018-04-01 00:00:00  2018-05-01 00:00:00  \\\n",
       "0                      0.0                  0.0                  0.0   \n",
       "1                      0.0                  0.0                  0.0   \n",
       "\n",
       "Fecha  2018-06-01 00:00:00  2018-07-01 00:00:00  2018-08-01 00:00:00  ...  \\\n",
       "0                      0.0                  0.0                  0.0  ...   \n",
       "1                      0.0                  0.0                  0.0  ...   \n",
       "\n",
       "Fecha  2023-12-01 00:00:00  2024-01-01 00:00:00  2024-02-01 00:00:00  \\\n",
       "0                      0.0                  1.0                  0.0   \n",
       "1                      2.0                  1.0                  1.0   \n",
       "\n",
       "Fecha  2024-03-01 00:00:00  2024-04-01 00:00:00  2024-05-01 00:00:00  \\\n",
       "0                      0.0                  0.0                  0.0   \n",
       "1                      1.0                  0.0                  0.0   \n",
       "\n",
       "Fecha  2024-06-01 00:00:00  2024-07-01 00:00:00  2024-08-01 00:00:00  \\\n",
       "0                      0.0                  0.0                  0.0   \n",
       "1                      0.0                  0.0                  0.0   \n",
       "\n",
       "Fecha  2024-09-01 00:00:00  \n",
       "0                      0.0  \n",
       "1                      0.0  \n",
       "\n",
       "[2 rows x 83 columns]"
      ]
     },
     "execution_count": 187,
     "metadata": {},
     "output_type": "execute_result"
    }
   ],
   "source": [
    "pivot_df.head(2)"
   ]
  },
  {
   "cell_type": "code",
   "execution_count": 188,
   "metadata": {},
   "outputs": [
    {
     "data": {
      "text/html": [
       "<div>\n",
       "<style scoped>\n",
       "    .dataframe tbody tr th:only-of-type {\n",
       "        vertical-align: middle;\n",
       "    }\n",
       "\n",
       "    .dataframe tbody tr th {\n",
       "        vertical-align: top;\n",
       "    }\n",
       "\n",
       "    .dataframe thead th {\n",
       "        text-align: right;\n",
       "    }\n",
       "</style>\n",
       "<table border=\"1\" class=\"dataframe\">\n",
       "  <thead>\n",
       "    <tr style=\"text-align: right;\">\n",
       "      <th>Fecha</th>\n",
       "      <th>Ultimo Eslabón</th>\n",
       "      <th>Canal 3</th>\n",
       "      <th>2018-01-01 00:00:00</th>\n",
       "      <th>2018-02-01 00:00:00</th>\n",
       "      <th>2018-03-01 00:00:00</th>\n",
       "      <th>2018-04-01 00:00:00</th>\n",
       "      <th>2018-05-01 00:00:00</th>\n",
       "      <th>2018-06-01 00:00:00</th>\n",
       "      <th>2018-07-01 00:00:00</th>\n",
       "      <th>2018-08-01 00:00:00</th>\n",
       "      <th>...</th>\n",
       "      <th>2023-12-01 00:00:00</th>\n",
       "      <th>2024-01-01 00:00:00</th>\n",
       "      <th>2024-02-01 00:00:00</th>\n",
       "      <th>2024-03-01 00:00:00</th>\n",
       "      <th>2024-04-01 00:00:00</th>\n",
       "      <th>2024-05-01 00:00:00</th>\n",
       "      <th>2024-06-01 00:00:00</th>\n",
       "      <th>2024-07-01 00:00:00</th>\n",
       "      <th>2024-08-01 00:00:00</th>\n",
       "      <th>2024-09-01 00:00:00</th>\n",
       "    </tr>\n",
       "  </thead>\n",
       "  <tbody>\n",
       "    <tr>\n",
       "      <th>0</th>\n",
       "      <td>1000078</td>\n",
       "      <td>CL RETAIL</td>\n",
       "      <td>0.0</td>\n",
       "      <td>0.0</td>\n",
       "      <td>0.0</td>\n",
       "      <td>0.0</td>\n",
       "      <td>0.0</td>\n",
       "      <td>0.0</td>\n",
       "      <td>0.0</td>\n",
       "      <td>0.0</td>\n",
       "      <td>...</td>\n",
       "      <td>0.0</td>\n",
       "      <td>1.0</td>\n",
       "      <td>0.0</td>\n",
       "      <td>0.0</td>\n",
       "      <td>0.0</td>\n",
       "      <td>0.0</td>\n",
       "      <td>0.0</td>\n",
       "      <td>0.0</td>\n",
       "      <td>0.0</td>\n",
       "      <td>0.0</td>\n",
       "    </tr>\n",
       "    <tr>\n",
       "      <th>1</th>\n",
       "      <td>1000144</td>\n",
       "      <td>CL RETAIL</td>\n",
       "      <td>0.0</td>\n",
       "      <td>0.0</td>\n",
       "      <td>0.0</td>\n",
       "      <td>0.0</td>\n",
       "      <td>0.0</td>\n",
       "      <td>0.0</td>\n",
       "      <td>0.0</td>\n",
       "      <td>0.0</td>\n",
       "      <td>...</td>\n",
       "      <td>2.0</td>\n",
       "      <td>1.0</td>\n",
       "      <td>1.0</td>\n",
       "      <td>1.0</td>\n",
       "      <td>0.0</td>\n",
       "      <td>0.0</td>\n",
       "      <td>0.0</td>\n",
       "      <td>0.0</td>\n",
       "      <td>0.0</td>\n",
       "      <td>0.0</td>\n",
       "    </tr>\n",
       "  </tbody>\n",
       "</table>\n",
       "<p>2 rows × 83 columns</p>\n",
       "</div>"
      ],
      "text/plain": [
       "Fecha Ultimo Eslabón    Canal 3  2018-01-01 00:00:00  2018-02-01 00:00:00  \\\n",
       "0            1000078  CL RETAIL                  0.0                  0.0   \n",
       "1            1000144  CL RETAIL                  0.0                  0.0   \n",
       "\n",
       "Fecha  2018-03-01 00:00:00  2018-04-01 00:00:00  2018-05-01 00:00:00  \\\n",
       "0                      0.0                  0.0                  0.0   \n",
       "1                      0.0                  0.0                  0.0   \n",
       "\n",
       "Fecha  2018-06-01 00:00:00  2018-07-01 00:00:00  2018-08-01 00:00:00  ...  \\\n",
       "0                      0.0                  0.0                  0.0  ...   \n",
       "1                      0.0                  0.0                  0.0  ...   \n",
       "\n",
       "Fecha  2023-12-01 00:00:00  2024-01-01 00:00:00  2024-02-01 00:00:00  \\\n",
       "0                      0.0                  1.0                  0.0   \n",
       "1                      2.0                  1.0                  1.0   \n",
       "\n",
       "Fecha  2024-03-01 00:00:00  2024-04-01 00:00:00  2024-05-01 00:00:00  \\\n",
       "0                      0.0                  0.0                  0.0   \n",
       "1                      1.0                  0.0                  0.0   \n",
       "\n",
       "Fecha  2024-06-01 00:00:00  2024-07-01 00:00:00  2024-08-01 00:00:00  \\\n",
       "0                      0.0                  0.0                  0.0   \n",
       "1                      0.0                  0.0                  0.0   \n",
       "\n",
       "Fecha  2024-09-01 00:00:00  \n",
       "0                      0.0  \n",
       "1                      0.0  \n",
       "\n",
       "[2 rows x 83 columns]"
      ]
     },
     "execution_count": 188,
     "metadata": {},
     "output_type": "execute_result"
    }
   ],
   "source": [
    "import pandas as pd\n",
    "\n",
    "cols = pivot_df.columns.drop(['Ultimo Eslabón', 'Canal 3'])  # Excluye las columnas de índices\n",
    "\n",
    "# Asegurarse de que los valores son numéricos\n",
    "pivot_df[cols] = pivot_df[cols].apply(pd.to_numeric, errors='coerce')\n",
    "\n",
    "# Reemplaza los NaNs por 0 si es necesario\n",
    "pivot_df[cols] = pivot_df[cols].fillna(0)\n",
    "\n",
    "# Ahora aplica clip para establecer los valores menores a 0 como 0\n",
    "pivot_df[cols] = pivot_df[cols].clip(lower=0)\n",
    "pivot_df.head(2)\n"
   ]
  },
  {
   "cell_type": "code",
   "execution_count": 189,
   "metadata": {},
   "outputs": [
    {
     "data": {
      "text/html": [
       "<div>\n",
       "<style scoped>\n",
       "    .dataframe tbody tr th:only-of-type {\n",
       "        vertical-align: middle;\n",
       "    }\n",
       "\n",
       "    .dataframe tbody tr th {\n",
       "        vertical-align: top;\n",
       "    }\n",
       "\n",
       "    .dataframe thead th {\n",
       "        text-align: right;\n",
       "    }\n",
       "</style>\n",
       "<table border=\"1\" class=\"dataframe\">\n",
       "  <thead>\n",
       "    <tr style=\"text-align: right;\">\n",
       "      <th>Fecha</th>\n",
       "      <th>Ultimo Eslabón</th>\n",
       "      <th>Canal 3</th>\n",
       "      <th>2018-01-01 00:00:00</th>\n",
       "      <th>2018-02-01 00:00:00</th>\n",
       "      <th>2018-03-01 00:00:00</th>\n",
       "      <th>2018-04-01 00:00:00</th>\n",
       "      <th>2018-05-01 00:00:00</th>\n",
       "      <th>2018-06-01 00:00:00</th>\n",
       "      <th>2018-07-01 00:00:00</th>\n",
       "      <th>2018-08-01 00:00:00</th>\n",
       "      <th>...</th>\n",
       "      <th>2023-12-01 00:00:00</th>\n",
       "      <th>2024-01-01 00:00:00</th>\n",
       "      <th>2024-02-01 00:00:00</th>\n",
       "      <th>2024-03-01 00:00:00</th>\n",
       "      <th>2024-04-01 00:00:00</th>\n",
       "      <th>2024-05-01 00:00:00</th>\n",
       "      <th>2024-06-01 00:00:00</th>\n",
       "      <th>2024-07-01 00:00:00</th>\n",
       "      <th>2024-08-01 00:00:00</th>\n",
       "      <th>2024-09-01 00:00:00</th>\n",
       "    </tr>\n",
       "  </thead>\n",
       "  <tbody>\n",
       "    <tr>\n",
       "      <th>0</th>\n",
       "      <td>1000078</td>\n",
       "      <td>CL RETAIL</td>\n",
       "      <td>0.0</td>\n",
       "      <td>0.0</td>\n",
       "      <td>0.0</td>\n",
       "      <td>0.0</td>\n",
       "      <td>0.0</td>\n",
       "      <td>0.0</td>\n",
       "      <td>0.0</td>\n",
       "      <td>0.0</td>\n",
       "      <td>...</td>\n",
       "      <td>0.0</td>\n",
       "      <td>1.0</td>\n",
       "      <td>0.0</td>\n",
       "      <td>0.0</td>\n",
       "      <td>0.0</td>\n",
       "      <td>0.0</td>\n",
       "      <td>0.0</td>\n",
       "      <td>0.0</td>\n",
       "      <td>0.0</td>\n",
       "      <td>0.0</td>\n",
       "    </tr>\n",
       "    <tr>\n",
       "      <th>1</th>\n",
       "      <td>1000144</td>\n",
       "      <td>CL RETAIL</td>\n",
       "      <td>0.0</td>\n",
       "      <td>0.0</td>\n",
       "      <td>0.0</td>\n",
       "      <td>0.0</td>\n",
       "      <td>0.0</td>\n",
       "      <td>0.0</td>\n",
       "      <td>0.0</td>\n",
       "      <td>0.0</td>\n",
       "      <td>...</td>\n",
       "      <td>2.0</td>\n",
       "      <td>1.0</td>\n",
       "      <td>1.0</td>\n",
       "      <td>1.0</td>\n",
       "      <td>0.0</td>\n",
       "      <td>0.0</td>\n",
       "      <td>0.0</td>\n",
       "      <td>0.0</td>\n",
       "      <td>0.0</td>\n",
       "      <td>0.0</td>\n",
       "    </tr>\n",
       "    <tr>\n",
       "      <th>2</th>\n",
       "      <td>1000147</td>\n",
       "      <td>CL RETAIL</td>\n",
       "      <td>0.0</td>\n",
       "      <td>0.0</td>\n",
       "      <td>0.0</td>\n",
       "      <td>0.0</td>\n",
       "      <td>0.0</td>\n",
       "      <td>0.0</td>\n",
       "      <td>0.0</td>\n",
       "      <td>0.0</td>\n",
       "      <td>...</td>\n",
       "      <td>46.0</td>\n",
       "      <td>45.0</td>\n",
       "      <td>51.0</td>\n",
       "      <td>64.0</td>\n",
       "      <td>36.0</td>\n",
       "      <td>28.0</td>\n",
       "      <td>30.0</td>\n",
       "      <td>30.0</td>\n",
       "      <td>46.0</td>\n",
       "      <td>56.0</td>\n",
       "    </tr>\n",
       "    <tr>\n",
       "      <th>3</th>\n",
       "      <td>1000148</td>\n",
       "      <td>CL RETAIL</td>\n",
       "      <td>0.0</td>\n",
       "      <td>0.0</td>\n",
       "      <td>0.0</td>\n",
       "      <td>0.0</td>\n",
       "      <td>0.0</td>\n",
       "      <td>0.0</td>\n",
       "      <td>0.0</td>\n",
       "      <td>0.0</td>\n",
       "      <td>...</td>\n",
       "      <td>67.0</td>\n",
       "      <td>120.0</td>\n",
       "      <td>76.0</td>\n",
       "      <td>75.0</td>\n",
       "      <td>64.0</td>\n",
       "      <td>37.0</td>\n",
       "      <td>73.0</td>\n",
       "      <td>82.0</td>\n",
       "      <td>70.0</td>\n",
       "      <td>102.0</td>\n",
       "    </tr>\n",
       "    <tr>\n",
       "      <th>4</th>\n",
       "      <td>1000149</td>\n",
       "      <td>CL RETAIL</td>\n",
       "      <td>0.0</td>\n",
       "      <td>0.0</td>\n",
       "      <td>0.0</td>\n",
       "      <td>0.0</td>\n",
       "      <td>0.0</td>\n",
       "      <td>0.0</td>\n",
       "      <td>0.0</td>\n",
       "      <td>0.0</td>\n",
       "      <td>...</td>\n",
       "      <td>104.0</td>\n",
       "      <td>172.0</td>\n",
       "      <td>125.0</td>\n",
       "      <td>168.0</td>\n",
       "      <td>188.0</td>\n",
       "      <td>159.0</td>\n",
       "      <td>170.0</td>\n",
       "      <td>178.0</td>\n",
       "      <td>170.0</td>\n",
       "      <td>202.0</td>\n",
       "    </tr>\n",
       "  </tbody>\n",
       "</table>\n",
       "<p>5 rows × 83 columns</p>\n",
       "</div>"
      ],
      "text/plain": [
       "Fecha Ultimo Eslabón    Canal 3  2018-01-01 00:00:00  2018-02-01 00:00:00  \\\n",
       "0            1000078  CL RETAIL                  0.0                  0.0   \n",
       "1            1000144  CL RETAIL                  0.0                  0.0   \n",
       "2            1000147  CL RETAIL                  0.0                  0.0   \n",
       "3            1000148  CL RETAIL                  0.0                  0.0   \n",
       "4            1000149  CL RETAIL                  0.0                  0.0   \n",
       "\n",
       "Fecha  2018-03-01 00:00:00  2018-04-01 00:00:00  2018-05-01 00:00:00  \\\n",
       "0                      0.0                  0.0                  0.0   \n",
       "1                      0.0                  0.0                  0.0   \n",
       "2                      0.0                  0.0                  0.0   \n",
       "3                      0.0                  0.0                  0.0   \n",
       "4                      0.0                  0.0                  0.0   \n",
       "\n",
       "Fecha  2018-06-01 00:00:00  2018-07-01 00:00:00  2018-08-01 00:00:00  ...  \\\n",
       "0                      0.0                  0.0                  0.0  ...   \n",
       "1                      0.0                  0.0                  0.0  ...   \n",
       "2                      0.0                  0.0                  0.0  ...   \n",
       "3                      0.0                  0.0                  0.0  ...   \n",
       "4                      0.0                  0.0                  0.0  ...   \n",
       "\n",
       "Fecha  2023-12-01 00:00:00  2024-01-01 00:00:00  2024-02-01 00:00:00  \\\n",
       "0                      0.0                  1.0                  0.0   \n",
       "1                      2.0                  1.0                  1.0   \n",
       "2                     46.0                 45.0                 51.0   \n",
       "3                     67.0                120.0                 76.0   \n",
       "4                    104.0                172.0                125.0   \n",
       "\n",
       "Fecha  2024-03-01 00:00:00  2024-04-01 00:00:00  2024-05-01 00:00:00  \\\n",
       "0                      0.0                  0.0                  0.0   \n",
       "1                      1.0                  0.0                  0.0   \n",
       "2                     64.0                 36.0                 28.0   \n",
       "3                     75.0                 64.0                 37.0   \n",
       "4                    168.0                188.0                159.0   \n",
       "\n",
       "Fecha  2024-06-01 00:00:00  2024-07-01 00:00:00  2024-08-01 00:00:00  \\\n",
       "0                      0.0                  0.0                  0.0   \n",
       "1                      0.0                  0.0                  0.0   \n",
       "2                     30.0                 30.0                 46.0   \n",
       "3                     73.0                 82.0                 70.0   \n",
       "4                    170.0                178.0                170.0   \n",
       "\n",
       "Fecha  2024-09-01 00:00:00  \n",
       "0                      0.0  \n",
       "1                      0.0  \n",
       "2                     56.0  \n",
       "3                    102.0  \n",
       "4                    202.0  \n",
       "\n",
       "[5 rows x 83 columns]"
      ]
     },
     "execution_count": 189,
     "metadata": {},
     "output_type": "execute_result"
    }
   ],
   "source": [
    "pivot_df.head()"
   ]
  },
  {
   "cell_type": "code",
   "execution_count": 190,
   "metadata": {},
   "outputs": [
    {
     "data": {
      "text/plain": [
       "(87152, 83)"
      ]
     },
     "execution_count": 190,
     "metadata": {},
     "output_type": "execute_result"
    }
   ],
   "source": [
    "pivot_df.shape"
   ]
  },
  {
   "cell_type": "code",
   "execution_count": 191,
   "metadata": {},
   "outputs": [
    {
     "data": {
      "text/plain": [
       "Fecha\n",
       "Ultimo Eslabón          object\n",
       "Canal 3                 object\n",
       "2018-01-01 00:00:00    float64\n",
       "2018-02-01 00:00:00    float64\n",
       "2018-03-01 00:00:00    float64\n",
       "                        ...   \n",
       "2024-05-01 00:00:00    float64\n",
       "2024-06-01 00:00:00    float64\n",
       "2024-07-01 00:00:00    float64\n",
       "2024-08-01 00:00:00    float64\n",
       "2024-09-01 00:00:00    float64\n",
       "Length: 83, dtype: object"
      ]
     },
     "execution_count": 191,
     "metadata": {},
     "output_type": "execute_result"
    }
   ],
   "source": [
    "pivot_df.dtypes"
   ]
  },
  {
   "cell_type": "code",
   "execution_count": 192,
   "metadata": {},
   "outputs": [
    {
     "data": {
      "text/plain": [
       "Index([   'Ultimo Eslabón',           'Canal 3', 2018-01-01 00:00:00,\n",
       "       2018-02-01 00:00:00, 2018-03-01 00:00:00, 2018-04-01 00:00:00,\n",
       "       2018-05-01 00:00:00, 2018-06-01 00:00:00, 2018-07-01 00:00:00,\n",
       "       2018-08-01 00:00:00, 2018-09-01 00:00:00, 2018-10-01 00:00:00,\n",
       "       2018-11-01 00:00:00, 2018-12-01 00:00:00, 2019-01-01 00:00:00,\n",
       "       2019-02-01 00:00:00, 2019-03-01 00:00:00, 2019-04-01 00:00:00,\n",
       "       2019-05-01 00:00:00, 2019-06-01 00:00:00, 2019-07-01 00:00:00,\n",
       "       2019-08-01 00:00:00, 2019-09-01 00:00:00, 2019-10-01 00:00:00,\n",
       "       2019-11-01 00:00:00, 2019-12-01 00:00:00, 2020-01-01 00:00:00,\n",
       "       2020-02-01 00:00:00, 2020-03-01 00:00:00, 2020-04-01 00:00:00,\n",
       "       2020-05-01 00:00:00, 2020-06-01 00:00:00, 2020-07-01 00:00:00,\n",
       "       2020-08-01 00:00:00, 2020-09-01 00:00:00, 2020-10-01 00:00:00,\n",
       "       2020-11-01 00:00:00, 2020-12-01 00:00:00, 2021-01-01 00:00:00,\n",
       "       2021-02-01 00:00:00, 2021-03-01 00:00:00, 2021-04-01 00:00:00,\n",
       "       2021-05-01 00:00:00, 2021-06-01 00:00:00, 2021-07-01 00:00:00,\n",
       "       2021-08-01 00:00:00, 2021-09-01 00:00:00, 2021-10-01 00:00:00,\n",
       "       2021-11-01 00:00:00, 2021-12-01 00:00:00, 2022-01-01 00:00:00,\n",
       "       2022-02-01 00:00:00, 2022-03-01 00:00:00, 2022-04-01 00:00:00,\n",
       "       2022-05-01 00:00:00, 2022-06-01 00:00:00, 2022-07-01 00:00:00,\n",
       "       2022-08-01 00:00:00, 2022-09-01 00:00:00, 2022-10-01 00:00:00,\n",
       "       2022-11-01 00:00:00, 2022-12-01 00:00:00, 2023-01-01 00:00:00,\n",
       "       2023-02-01 00:00:00, 2023-03-01 00:00:00, 2023-04-01 00:00:00,\n",
       "       2023-05-01 00:00:00, 2023-06-01 00:00:00, 2023-07-01 00:00:00,\n",
       "       2023-08-01 00:00:00, 2023-09-01 00:00:00, 2023-10-01 00:00:00,\n",
       "       2023-11-01 00:00:00, 2023-12-01 00:00:00, 2024-01-01 00:00:00,\n",
       "       2024-02-01 00:00:00, 2024-03-01 00:00:00, 2024-04-01 00:00:00,\n",
       "       2024-05-01 00:00:00, 2024-06-01 00:00:00, 2024-07-01 00:00:00,\n",
       "       2024-08-01 00:00:00, 2024-09-01 00:00:00],\n",
       "      dtype='object', name='Fecha')"
      ]
     },
     "execution_count": 192,
     "metadata": {},
     "output_type": "execute_result"
    }
   ],
   "source": [
    "pivot_df.columns"
   ]
  },
  {
   "cell_type": "markdown",
   "metadata": {},
   "source": [
    "Guardar como CSV"
   ]
  },
  {
   "cell_type": "code",
   "execution_count": 193,
   "metadata": {},
   "outputs": [
    {
     "name": "stdout",
     "output_type": "stream",
     "text": [
      "Archivos guardados correctamente en: C:\\Users\\etorres.DERCOPARTS\\DERCO CHILE REPUESTOS SpA\\Planificación y abastecimiento - Documentos\\Planificación y Compras Anastasia\\Carga Historia de Venta\\2024-10 Ciclo Nov-24\\AFM\\SELL OUT\n"
     ]
    }
   ],
   "source": [
    "import os\n",
    "import pandas as pd\n",
    "from datetime import datetime\n",
    "\n",
    "# Columnas que no son fechas\n",
    "non_date_cols = ['Ultimo Eslabón', 'Canal 3']\n",
    "\n",
    "# Extraer columnas que son fechas\n",
    "date_cols = [col for col in pivot_df.columns if col not in non_date_cols]\n",
    "\n",
    "# Convertir las columnas de fecha a tipo datetime para poder ordenarlas\n",
    "date_cols_sorted = sorted(date_cols, key=lambda x: pd.to_datetime(x, format='mixed'))\n",
    "\n",
    "# Crear un nuevo orden de columnas\n",
    "new_order = non_date_cols + date_cols_sorted\n",
    "\n",
    "# Reordenar el DataFrame\n",
    "pivot_df = pivot_df[new_order]\n",
    "\n",
    "# Filtrar las columnas que no contienen los años 2015, 2016 o 2017\n",
    "columns_to_keep = [col for col in pivot_df.columns if not any(year in str(col) for year in ['2015', '2016', '2017'])]\n",
    "pivot_df = pivot_df[columns_to_keep]\n",
    "\n",
    "# Obtener el directorio del usuario\n",
    "user_dir = os.path.expanduser('~')\n",
    "\n",
    "# Obtener la fecha actual y formatear las partes necesarias\n",
    "now = datetime.now()\n",
    "current_year = now.strftime('%Y')\n",
    "current_month = now.strftime('%m')\n",
    "previous_month = (now.replace(day=1) - pd.DateOffset(months=1)).strftime('%B-%y')\n",
    "cycle_month = (now + pd.DateOffset(months=1)).strftime('%b-%y')\n",
    "\n",
    "# Construir la ruta base\n",
    "base_path = os.path.join(user_dir, 'DERCO CHILE REPUESTOS SpA', 'Planificación y abastecimiento - Documentos', \n",
    "                         'Planificación y Compras Anastasia', 'Carga Historia de Venta', \n",
    "                         f'{current_year}-{current_month} Ciclo {cycle_month}', 'AFM', 'SELL OUT')\n",
    "os.makedirs(base_path, exist_ok=True)\n",
    "\n",
    "# Construir las rutas de los archivos CSV y Excel\n",
    "csv_path = os.path.join(base_path, f'{current_month}.{current_year} Sell_Out {previous_month} Corregido.csv')\n",
    "excel_path = os.path.join(base_path, f'{current_month}.{current_year} Sell_Out {previous_month} Corregido.xlsx')\n",
    "\n",
    "# Guardar el DataFrame en formato CSV\n",
    "# pivot_df.to_csv(csv_path, index=False)\n",
    "\n",
    "# # Guardar el DataFrame en formato Excel\n",
    "# pivot_df.to_excel(excel_path, index=False)\n",
    "\n",
    "print(\"Archivos guardados correctamente en:\", base_path)\n"
   ]
  },
  {
   "cell_type": "code",
   "execution_count": 194,
   "metadata": {},
   "outputs": [
    {
     "data": {
      "text/plain": [
       "Index([   'Ultimo Eslabón',           'Canal 3', 2018-01-01 00:00:00,\n",
       "       2018-02-01 00:00:00, 2018-03-01 00:00:00, 2018-04-01 00:00:00,\n",
       "       2018-05-01 00:00:00, 2018-06-01 00:00:00, 2018-07-01 00:00:00,\n",
       "       2018-08-01 00:00:00, 2018-09-01 00:00:00, 2018-10-01 00:00:00,\n",
       "       2018-11-01 00:00:00, 2018-12-01 00:00:00, 2019-01-01 00:00:00,\n",
       "       2019-02-01 00:00:00, 2019-03-01 00:00:00, 2019-04-01 00:00:00,\n",
       "       2019-05-01 00:00:00, 2019-06-01 00:00:00, 2019-07-01 00:00:00,\n",
       "       2019-08-01 00:00:00, 2019-09-01 00:00:00, 2019-10-01 00:00:00,\n",
       "       2019-11-01 00:00:00, 2019-12-01 00:00:00, 2020-01-01 00:00:00,\n",
       "       2020-02-01 00:00:00, 2020-03-01 00:00:00, 2020-04-01 00:00:00,\n",
       "       2020-05-01 00:00:00, 2020-06-01 00:00:00, 2020-07-01 00:00:00,\n",
       "       2020-08-01 00:00:00, 2020-09-01 00:00:00, 2020-10-01 00:00:00,\n",
       "       2020-11-01 00:00:00, 2020-12-01 00:00:00, 2021-01-01 00:00:00,\n",
       "       2021-02-01 00:00:00, 2021-03-01 00:00:00, 2021-04-01 00:00:00,\n",
       "       2021-05-01 00:00:00, 2021-06-01 00:00:00, 2021-07-01 00:00:00,\n",
       "       2021-08-01 00:00:00, 2021-09-01 00:00:00, 2021-10-01 00:00:00,\n",
       "       2021-11-01 00:00:00, 2021-12-01 00:00:00, 2022-01-01 00:00:00,\n",
       "       2022-02-01 00:00:00, 2022-03-01 00:00:00, 2022-04-01 00:00:00,\n",
       "       2022-05-01 00:00:00, 2022-06-01 00:00:00, 2022-07-01 00:00:00,\n",
       "       2022-08-01 00:00:00, 2022-09-01 00:00:00, 2022-10-01 00:00:00,\n",
       "       2022-11-01 00:00:00, 2022-12-01 00:00:00, 2023-01-01 00:00:00,\n",
       "       2023-02-01 00:00:00, 2023-03-01 00:00:00, 2023-04-01 00:00:00,\n",
       "       2023-05-01 00:00:00, 2023-06-01 00:00:00, 2023-07-01 00:00:00,\n",
       "       2023-08-01 00:00:00, 2023-09-01 00:00:00, 2023-10-01 00:00:00,\n",
       "       2023-11-01 00:00:00, 2023-12-01 00:00:00, 2024-01-01 00:00:00,\n",
       "       2024-02-01 00:00:00, 2024-03-01 00:00:00, 2024-04-01 00:00:00,\n",
       "       2024-05-01 00:00:00, 2024-06-01 00:00:00, 2024-07-01 00:00:00,\n",
       "       2024-08-01 00:00:00, 2024-09-01 00:00:00],\n",
       "      dtype='object', name='Fecha')"
      ]
     },
     "execution_count": 194,
     "metadata": {},
     "output_type": "execute_result"
    }
   ],
   "source": [
    "pivot_df.columns"
   ]
  },
  {
   "cell_type": "markdown",
   "metadata": {},
   "source": [
    "{{{{{{{{{{{{{{{{{{{{{{{}}}}}}}}}}}}}}}}}}}}}}}"
   ]
  },
  {
   "cell_type": "code",
   "execution_count": 195,
   "metadata": {},
   "outputs": [
    {
     "data": {
      "text/html": [
       "<div>\n",
       "<style scoped>\n",
       "    .dataframe tbody tr th:only-of-type {\n",
       "        vertical-align: middle;\n",
       "    }\n",
       "\n",
       "    .dataframe tbody tr th {\n",
       "        vertical-align: top;\n",
       "    }\n",
       "\n",
       "    .dataframe thead th {\n",
       "        text-align: right;\n",
       "    }\n",
       "</style>\n",
       "<table border=\"1\" class=\"dataframe\">\n",
       "  <thead>\n",
       "    <tr style=\"text-align: right;\">\n",
       "      <th>Fecha</th>\n",
       "      <th>Ultimo Eslabón</th>\n",
       "      <th>Canal 3</th>\n",
       "      <th>2018-01-01 00:00:00</th>\n",
       "      <th>2018-02-01 00:00:00</th>\n",
       "      <th>2018-03-01 00:00:00</th>\n",
       "      <th>2018-04-01 00:00:00</th>\n",
       "      <th>2018-05-01 00:00:00</th>\n",
       "      <th>2018-06-01 00:00:00</th>\n",
       "      <th>2018-07-01 00:00:00</th>\n",
       "      <th>2018-08-01 00:00:00</th>\n",
       "      <th>...</th>\n",
       "      <th>2023-12-01 00:00:00</th>\n",
       "      <th>2024-01-01 00:00:00</th>\n",
       "      <th>2024-02-01 00:00:00</th>\n",
       "      <th>2024-03-01 00:00:00</th>\n",
       "      <th>2024-04-01 00:00:00</th>\n",
       "      <th>2024-05-01 00:00:00</th>\n",
       "      <th>2024-06-01 00:00:00</th>\n",
       "      <th>2024-07-01 00:00:00</th>\n",
       "      <th>2024-08-01 00:00:00</th>\n",
       "      <th>2024-09-01 00:00:00</th>\n",
       "    </tr>\n",
       "  </thead>\n",
       "  <tbody>\n",
       "    <tr>\n",
       "      <th>0</th>\n",
       "      <td>1000078</td>\n",
       "      <td>CL RETAIL</td>\n",
       "      <td>0.0</td>\n",
       "      <td>0.0</td>\n",
       "      <td>0.0</td>\n",
       "      <td>0.0</td>\n",
       "      <td>0.0</td>\n",
       "      <td>0.0</td>\n",
       "      <td>0.0</td>\n",
       "      <td>0.0</td>\n",
       "      <td>...</td>\n",
       "      <td>0.0</td>\n",
       "      <td>1.0</td>\n",
       "      <td>0.0</td>\n",
       "      <td>0.0</td>\n",
       "      <td>0.0</td>\n",
       "      <td>0.0</td>\n",
       "      <td>0.0</td>\n",
       "      <td>0.0</td>\n",
       "      <td>0.0</td>\n",
       "      <td>0.0</td>\n",
       "    </tr>\n",
       "    <tr>\n",
       "      <th>1</th>\n",
       "      <td>1000144</td>\n",
       "      <td>CL RETAIL</td>\n",
       "      <td>0.0</td>\n",
       "      <td>0.0</td>\n",
       "      <td>0.0</td>\n",
       "      <td>0.0</td>\n",
       "      <td>0.0</td>\n",
       "      <td>0.0</td>\n",
       "      <td>0.0</td>\n",
       "      <td>0.0</td>\n",
       "      <td>...</td>\n",
       "      <td>2.0</td>\n",
       "      <td>1.0</td>\n",
       "      <td>1.0</td>\n",
       "      <td>1.0</td>\n",
       "      <td>0.0</td>\n",
       "      <td>0.0</td>\n",
       "      <td>0.0</td>\n",
       "      <td>0.0</td>\n",
       "      <td>0.0</td>\n",
       "      <td>0.0</td>\n",
       "    </tr>\n",
       "    <tr>\n",
       "      <th>2</th>\n",
       "      <td>1000147</td>\n",
       "      <td>CL RETAIL</td>\n",
       "      <td>0.0</td>\n",
       "      <td>0.0</td>\n",
       "      <td>0.0</td>\n",
       "      <td>0.0</td>\n",
       "      <td>0.0</td>\n",
       "      <td>0.0</td>\n",
       "      <td>0.0</td>\n",
       "      <td>0.0</td>\n",
       "      <td>...</td>\n",
       "      <td>46.0</td>\n",
       "      <td>45.0</td>\n",
       "      <td>51.0</td>\n",
       "      <td>64.0</td>\n",
       "      <td>36.0</td>\n",
       "      <td>28.0</td>\n",
       "      <td>30.0</td>\n",
       "      <td>30.0</td>\n",
       "      <td>46.0</td>\n",
       "      <td>56.0</td>\n",
       "    </tr>\n",
       "    <tr>\n",
       "      <th>3</th>\n",
       "      <td>1000148</td>\n",
       "      <td>CL RETAIL</td>\n",
       "      <td>0.0</td>\n",
       "      <td>0.0</td>\n",
       "      <td>0.0</td>\n",
       "      <td>0.0</td>\n",
       "      <td>0.0</td>\n",
       "      <td>0.0</td>\n",
       "      <td>0.0</td>\n",
       "      <td>0.0</td>\n",
       "      <td>...</td>\n",
       "      <td>67.0</td>\n",
       "      <td>120.0</td>\n",
       "      <td>76.0</td>\n",
       "      <td>75.0</td>\n",
       "      <td>64.0</td>\n",
       "      <td>37.0</td>\n",
       "      <td>73.0</td>\n",
       "      <td>82.0</td>\n",
       "      <td>70.0</td>\n",
       "      <td>102.0</td>\n",
       "    </tr>\n",
       "    <tr>\n",
       "      <th>4</th>\n",
       "      <td>1000149</td>\n",
       "      <td>CL RETAIL</td>\n",
       "      <td>0.0</td>\n",
       "      <td>0.0</td>\n",
       "      <td>0.0</td>\n",
       "      <td>0.0</td>\n",
       "      <td>0.0</td>\n",
       "      <td>0.0</td>\n",
       "      <td>0.0</td>\n",
       "      <td>0.0</td>\n",
       "      <td>...</td>\n",
       "      <td>104.0</td>\n",
       "      <td>172.0</td>\n",
       "      <td>125.0</td>\n",
       "      <td>168.0</td>\n",
       "      <td>188.0</td>\n",
       "      <td>159.0</td>\n",
       "      <td>170.0</td>\n",
       "      <td>178.0</td>\n",
       "      <td>170.0</td>\n",
       "      <td>202.0</td>\n",
       "    </tr>\n",
       "  </tbody>\n",
       "</table>\n",
       "<p>5 rows × 83 columns</p>\n",
       "</div>"
      ],
      "text/plain": [
       "Fecha Ultimo Eslabón    Canal 3  2018-01-01 00:00:00  2018-02-01 00:00:00  \\\n",
       "0            1000078  CL RETAIL                  0.0                  0.0   \n",
       "1            1000144  CL RETAIL                  0.0                  0.0   \n",
       "2            1000147  CL RETAIL                  0.0                  0.0   \n",
       "3            1000148  CL RETAIL                  0.0                  0.0   \n",
       "4            1000149  CL RETAIL                  0.0                  0.0   \n",
       "\n",
       "Fecha  2018-03-01 00:00:00  2018-04-01 00:00:00  2018-05-01 00:00:00  \\\n",
       "0                      0.0                  0.0                  0.0   \n",
       "1                      0.0                  0.0                  0.0   \n",
       "2                      0.0                  0.0                  0.0   \n",
       "3                      0.0                  0.0                  0.0   \n",
       "4                      0.0                  0.0                  0.0   \n",
       "\n",
       "Fecha  2018-06-01 00:00:00  2018-07-01 00:00:00  2018-08-01 00:00:00  ...  \\\n",
       "0                      0.0                  0.0                  0.0  ...   \n",
       "1                      0.0                  0.0                  0.0  ...   \n",
       "2                      0.0                  0.0                  0.0  ...   \n",
       "3                      0.0                  0.0                  0.0  ...   \n",
       "4                      0.0                  0.0                  0.0  ...   \n",
       "\n",
       "Fecha  2023-12-01 00:00:00  2024-01-01 00:00:00  2024-02-01 00:00:00  \\\n",
       "0                      0.0                  1.0                  0.0   \n",
       "1                      2.0                  1.0                  1.0   \n",
       "2                     46.0                 45.0                 51.0   \n",
       "3                     67.0                120.0                 76.0   \n",
       "4                    104.0                172.0                125.0   \n",
       "\n",
       "Fecha  2024-03-01 00:00:00  2024-04-01 00:00:00  2024-05-01 00:00:00  \\\n",
       "0                      0.0                  0.0                  0.0   \n",
       "1                      1.0                  0.0                  0.0   \n",
       "2                     64.0                 36.0                 28.0   \n",
       "3                     75.0                 64.0                 37.0   \n",
       "4                    168.0                188.0                159.0   \n",
       "\n",
       "Fecha  2024-06-01 00:00:00  2024-07-01 00:00:00  2024-08-01 00:00:00  \\\n",
       "0                      0.0                  0.0                  0.0   \n",
       "1                      0.0                  0.0                  0.0   \n",
       "2                     30.0                 30.0                 46.0   \n",
       "3                     73.0                 82.0                 70.0   \n",
       "4                    170.0                178.0                170.0   \n",
       "\n",
       "Fecha  2024-09-01 00:00:00  \n",
       "0                      0.0  \n",
       "1                      0.0  \n",
       "2                     56.0  \n",
       "3                    102.0  \n",
       "4                    202.0  \n",
       "\n",
       "[5 rows x 83 columns]"
      ]
     },
     "execution_count": 195,
     "metadata": {},
     "output_type": "execute_result"
    }
   ],
   "source": [
    "# Crear la columna con la suma de las filas excluyendo 'Ultimo Eslabón' y 'Canal 3'\n",
    "pivot_df['Suma'] = pivot_df.drop(columns=['Ultimo Eslabón', 'Canal 3']).sum(axis=1)\n",
    "\n",
    "# Filtrar filas donde la suma es diferente de 0\n",
    "pivot_df = pivot_df[pivot_df['Suma'] != 0]\n",
    "\n",
    "# Eliminar la columna 'Suma'\n",
    "pivot_df = pivot_df.drop(columns=['Suma'])\n",
    "\n",
    "# Mostrar el DataFrame resultante\n",
    "pivot_df.head()"
   ]
  },
  {
   "cell_type": "code",
   "execution_count": 196,
   "metadata": {},
   "outputs": [
    {
     "data": {
      "text/plain": [
       "(48001, 83)"
      ]
     },
     "execution_count": 196,
     "metadata": {},
     "output_type": "execute_result"
    }
   ],
   "source": [
    "pivot_df.shape"
   ]
  },
  {
   "cell_type": "code",
   "execution_count": 197,
   "metadata": {},
   "outputs": [
    {
     "data": {
      "text/plain": [
       "607997.0"
      ]
     },
     "execution_count": 197,
     "metadata": {},
     "output_type": "execute_result"
    }
   ],
   "source": [
    "# Identificar la penúltima columna\n",
    "penultima_columna = pivot_df.columns[-1]\n",
    "\n",
    "# Calcular la suma de la penúltima columna\n",
    "suma_penultima_columna = pivot_df[penultima_columna].sum()\n",
    "suma_penultima_columna\n"
   ]
  },
  {
   "cell_type": "code",
   "execution_count": 198,
   "metadata": {},
   "outputs": [
    {
     "data": {
      "text/plain": [
       "(48001, 83)"
      ]
     },
     "execution_count": 198,
     "metadata": {},
     "output_type": "execute_result"
    }
   ],
   "source": [
    "pivot_df.shape"
   ]
  },
  {
   "cell_type": "markdown",
   "metadata": {},
   "source": [
    "A CSV"
   ]
  },
  {
   "cell_type": "code",
   "execution_count": 199,
   "metadata": {},
   "outputs": [],
   "source": [
    "# pivot_df.to_csv(csv_path, sep=';', decimal=',', index=False)\n",
    "# print(f\"Archivo CSV guardado en: {csv_path}\")"
   ]
  },
  {
   "cell_type": "markdown",
   "metadata": {},
   "source": [
    "A EXCEL"
   ]
  },
  {
   "cell_type": "code",
   "execution_count": 200,
   "metadata": {},
   "outputs": [],
   "source": [
    "# pivot_df.to_excel(excel_path, index=False)\n",
    "# print(f\"Archivo Excel guardado en: {excel_path}\")"
   ]
  },
  {
   "cell_type": "markdown",
   "metadata": {},
   "source": [
    "agregar las columnas \"Clasificación\", \"PROMEDIO\", \"DESV EST\", \"Z\", \"LIM SUP\", \"LIM INF\", \"FRECUENCIA\", \"Outliers SUP\", \"Outliers INF\" y \"Suma Outliers\""
   ]
  },
  {
   "cell_type": "code",
   "execution_count": 201,
   "metadata": {},
   "outputs": [],
   "source": [
    "import pandas as pd\n",
    "import numpy as np\n",
    "import scipy.stats as stats\n"
   ]
  },
  {
   "cell_type": "code",
   "execution_count": 202,
   "metadata": {},
   "outputs": [],
   "source": [
    "# Bloque 1: Creación de nuevas columnas\n",
    "nuevas_columnas = ['Clasificación', 'PROMEDIO', 'DESV EST', 'Z', 'LIM SUP', 'LIM INF', 'FRECUENCIA', \n",
    "                   'Outliers SUP', 'Outliers INF', 'Suma Outliers', 'PERCENTIL', 'Clustering', 'ADI', \n",
    "                   'CV2', 'MEDIANA', 'PROM_CV2', 'Desv_CV2', 'LIM SUP MED', 'LIM INF FINAL', \n",
    "                   'LIM INF ANT', 'LIM INF MEDIANA']\n",
    "\n",
    "new_columns_df = pd.DataFrame(index=pivot_df.index, columns=[col for col in nuevas_columnas if col not in pivot_df.columns])\n",
    "pivot_df = pd.concat([pivot_df, new_columns_df], axis=1)\n"
   ]
  },
  {
   "cell_type": "code",
   "execution_count": 203,
   "metadata": {},
   "outputs": [
    {
     "name": "stdout",
     "output_type": "stream",
     "text": [
      "Suma de PROMEDIO: 671581.2777777778\n"
     ]
    }
   ],
   "source": [
    "# Bloque 2: Cálculo del promedio\n",
    "index_clasificacion = pivot_df.columns.get_loc('Clasificación')\n",
    "columnas_conteo = pivot_df.columns[index_clasificacion-18:index_clasificacion]\n",
    "pivot_df['PROMEDIO'] = pivot_df[columnas_conteo].mean(axis=1)\n",
    "promedio_sum = pivot_df['PROMEDIO'].sum()\n",
    "print(f\"Suma de PROMEDIO: {promedio_sum}\")\n"
   ]
  },
  {
   "cell_type": "code",
   "execution_count": 204,
   "metadata": {},
   "outputs": [
    {
     "name": "stdout",
     "output_type": "stream",
     "text": [
      "Total de registros en ADI: 48001\n",
      "Suma de ADI: 236856.43018882224\n"
     ]
    }
   ],
   "source": [
    "# Bloque 3: Cálculo del ADI (Average Demand Interval)\n",
    "num_cols = 24\n",
    "col_pos = pivot_df.columns.get_loc('Clasificación')\n",
    "cols_for_adi = pivot_df.iloc[:, col_pos - num_cols:col_pos]\n",
    "pivot_df['ADI'] = np.where(cols_for_adi.gt(0).sum(axis=1) > 0, \n",
    "                           24 / cols_for_adi.gt(0).sum(axis=1), 0)\n",
    "adi_count = pivot_df['ADI'].count()\n",
    "print(f\"Total de registros en ADI: {adi_count}\")\n",
    "adi_sum = pivot_df['ADI'].sum()\n",
    "print(f\"Suma de ADI: {adi_sum}\")\n",
    "\n"
   ]
  },
  {
   "cell_type": "code",
   "execution_count": 205,
   "metadata": {},
   "outputs": [
    {
     "name": "stdout",
     "output_type": "stream",
     "text": [
      "Suma de PROM_CV2: 788785.9159958931\n"
     ]
    }
   ],
   "source": [
    "# Bloque 4: Cálculo del promedio CV2 (Coefficient of Variation squared)\n",
    "cols_for_avg = pivot_df.iloc[:, col_pos - num_cols:col_pos]\n",
    "pivot_df['PROM_CV2'] = cols_for_avg.replace(0, np.nan).mean(axis=1)\n",
    "prom_cv2_sum = pivot_df['PROM_CV2'].sum()\n",
    "print(f\"Suma de PROM_CV2: {prom_cv2_sum}\")\n"
   ]
  },
  {
   "cell_type": "code",
   "execution_count": 206,
   "metadata": {},
   "outputs": [
    {
     "name": "stdout",
     "output_type": "stream",
     "text": [
      "Suma de Desv_CV2: 441893.0469181087\n"
     ]
    }
   ],
   "source": [
    "# Bloque 5: Cálculo de la desviación estándar CV2\n",
    "cols_for_std = pivot_df.iloc[:, col_pos - num_cols:col_pos]\n",
    "pivot_df['Desv_CV2'] = cols_for_std.replace(0, np.nan).std(axis=1)\n",
    "desv_cv2_sum = pivot_df['Desv_CV2'].sum()\n",
    "print(f\"Suma de Desv_CV2: {desv_cv2_sum}\")\n"
   ]
  },
  {
   "cell_type": "code",
   "execution_count": 207,
   "metadata": {},
   "outputs": [
    {
     "name": "stdout",
     "output_type": "stream",
     "text": [
      "Suma de MEDIANA: 605321.5\n"
     ]
    }
   ],
   "source": [
    "# Bloque 6: Cálculo de la mediana\n",
    "num_cols_median = 18\n",
    "cols_for_median = pivot_df.iloc[:, col_pos - num_cols_median:col_pos]\n",
    "pivot_df['MEDIANA'] = cols_for_median.median(axis=1)\n",
    "mediana_sum = pivot_df['MEDIANA'].sum()\n",
    "print(f\"Suma de MEDIANA: {mediana_sum}\")\n"
   ]
  },
  {
   "cell_type": "code",
   "execution_count": 208,
   "metadata": {},
   "outputs": [
    {
     "name": "stdout",
     "output_type": "stream",
     "text": [
      "Suma de CV2: 10873.676342889088\n"
     ]
    }
   ],
   "source": [
    "# Bloque 7: Cálculo del CV2 (Coefficient of Variation squared)\n",
    "pivot_df['CV2'] = np.where(pivot_df['PROM_CV2'].fillna(0) != 0, \n",
    "                           (pivot_df['Desv_CV2'].fillna(0) / pivot_df['PROM_CV2'].fillna(0))**2, 0)\n",
    "pivot_df['CV2'] = pivot_df['CV2'].fillna(0)\n",
    "cv2_sum = pivot_df['CV2'].sum()\n",
    "print(f\"Suma de CV2: {cv2_sum}\")\n"
   ]
  },
  {
   "cell_type": "code",
   "execution_count": 209,
   "metadata": {},
   "outputs": [
    {
     "name": "stdout",
     "output_type": "stream",
     "text": [
      "Cantidad de registros por Clustering:\n",
      "Clustering\n",
      "SMOOTH          24971\n",
      "INTERMITTENT    16535\n",
      "LUMPY            4413\n",
      "ERRATIC          2082\n",
      "Name: count, dtype: int64\n"
     ]
    }
   ],
   "source": [
    "# Bloque 8: Clustering basado en ADI y CV2\n",
    "pivot_df['Clustering'] = np.where((pivot_df['ADI'] < 1.32) & (pivot_df['CV2'] < 0.49), \"SMOOTH\",\n",
    "                         np.where((pivot_df['ADI'] >= 1.32) & (pivot_df['CV2'] < 0.49), \"INTERMITTENT\",\n",
    "                         np.where((pivot_df['ADI'] < 1.32) & (pivot_df['CV2'] >= 0.49), \"ERRATIC\",\n",
    "                         np.where((pivot_df['ADI'] >= 1.32) & (pivot_df['CV2'] >= 0.49), \"LUMPY\", 0))))\n",
    "clustering_counts = pivot_df['Clustering'].value_counts()\n",
    "print(\"Cantidad de registros por Clustering:\")\n",
    "print(clustering_counts)\n"
   ]
  },
  {
   "cell_type": "code",
   "execution_count": 210,
   "metadata": {},
   "outputs": [],
   "source": [
    "import numpy as np\n",
    "\n",
    "pivot_df['PERCENTIL'] = pivot_df.apply(lambda row: \n",
    "                                       np.percentile(row.iloc[58:82].values, \n",
    "                                                     10, \n",
    "                                                     method='weibull')  # Usamos 'method' en lugar de 'interpolation'\n",
    "                                       if row['Clustering'] in ['ERRATIC', 'LUMPY'] \n",
    "                                       else np.percentile(row.iloc[58:82], \n",
    "                                                         10, \n",
    "                                                         method='linear'), \n",
    "                                       axis=1)\n"
   ]
  },
  {
   "cell_type": "code",
   "execution_count": 211,
   "metadata": {},
   "outputs": [
    {
     "name": "stdout",
     "output_type": "stream",
     "text": [
      "Index([2022-09-01 00:00:00, 2022-10-01 00:00:00, 2022-11-01 00:00:00,\n",
      "       2022-12-01 00:00:00, 2023-01-01 00:00:00, 2023-02-01 00:00:00,\n",
      "       2023-03-01 00:00:00, 2023-04-01 00:00:00, 2023-05-01 00:00:00,\n",
      "       2023-06-01 00:00:00, 2023-07-01 00:00:00, 2023-08-01 00:00:00,\n",
      "       2023-09-01 00:00:00, 2023-10-01 00:00:00, 2023-11-01 00:00:00,\n",
      "       2023-12-01 00:00:00, 2024-01-01 00:00:00, 2024-02-01 00:00:00,\n",
      "       2024-03-01 00:00:00, 2024-04-01 00:00:00, 2024-05-01 00:00:00,\n",
      "       2024-06-01 00:00:00, 2024-07-01 00:00:00, 2024-08-01 00:00:00],\n",
      "      dtype='object')\n"
     ]
    }
   ],
   "source": [
    "columnas_usadas = pivot_df.columns[58:82]\n",
    "print(columnas_usadas)\n"
   ]
  },
  {
   "cell_type": "code",
   "execution_count": 212,
   "metadata": {},
   "outputs": [
    {
     "data": {
      "text/plain": [
       "307747.60000000003"
      ]
     },
     "execution_count": 212,
     "metadata": {},
     "output_type": "execute_result"
    }
   ],
   "source": [
    "ae=pivot_df['PERCENTIL'].sum()\n",
    "ae"
   ]
  },
  {
   "cell_type": "code",
   "execution_count": 213,
   "metadata": {},
   "outputs": [
    {
     "name": "stdout",
     "output_type": "stream",
     "text": [
      "Primera columna utilizada para el cálculo del percentil: 2022-10-01 00:00:00\n",
      "Última columna utilizada para el cálculo del percentil: 2024-09-01 00:00:00\n"
     ]
    }
   ],
   "source": [
    "# Bloque para identificar la primera y la última columna utilizadas en el cálculo del percentil\n",
    "num_cols_percentil = 24\n",
    "col_pos = pivot_df.columns.get_loc('Clasificación')\n",
    "\n",
    "# Columnas utilizadas para el cálculo del percentil\n",
    "cols_for_percentil = pivot_df.iloc[:, col_pos - num_cols_percentil:col_pos]\n",
    "\n",
    "# Obtener la primera y última columna\n",
    "primera_columna = cols_for_percentil.columns[0]\n",
    "ultima_columna = cols_for_percentil.columns[-1]\n",
    "\n",
    "print(f\"Primera columna utilizada para el cálculo del percentil: {primera_columna}\")\n",
    "print(f\"Última columna utilizada para el cálculo del percentil: {ultima_columna}\")\n"
   ]
  },
  {
   "cell_type": "code",
   "execution_count": 214,
   "metadata": {},
   "outputs": [
    {
     "data": {
      "text/html": [
       "<div>\n",
       "<style scoped>\n",
       "    .dataframe tbody tr th:only-of-type {\n",
       "        vertical-align: middle;\n",
       "    }\n",
       "\n",
       "    .dataframe tbody tr th {\n",
       "        vertical-align: top;\n",
       "    }\n",
       "\n",
       "    .dataframe thead th {\n",
       "        text-align: right;\n",
       "    }\n",
       "</style>\n",
       "<table border=\"1\" class=\"dataframe\">\n",
       "  <thead>\n",
       "    <tr style=\"text-align: right;\">\n",
       "      <th></th>\n",
       "      <th>Ultimo Eslabón</th>\n",
       "      <th>Canal 3</th>\n",
       "      <th>2018-01-01 00:00:00</th>\n",
       "      <th>2018-02-01 00:00:00</th>\n",
       "      <th>2018-03-01 00:00:00</th>\n",
       "      <th>2018-04-01 00:00:00</th>\n",
       "      <th>2018-05-01 00:00:00</th>\n",
       "      <th>2018-06-01 00:00:00</th>\n",
       "      <th>2018-07-01 00:00:00</th>\n",
       "      <th>2018-08-01 00:00:00</th>\n",
       "      <th>...</th>\n",
       "      <th>Clustering</th>\n",
       "      <th>ADI</th>\n",
       "      <th>CV2</th>\n",
       "      <th>MEDIANA</th>\n",
       "      <th>PROM_CV2</th>\n",
       "      <th>Desv_CV2</th>\n",
       "      <th>LIM SUP MED</th>\n",
       "      <th>LIM INF FINAL</th>\n",
       "      <th>LIM INF ANT</th>\n",
       "      <th>LIM INF MEDIANA</th>\n",
       "    </tr>\n",
       "  </thead>\n",
       "  <tbody>\n",
       "    <tr>\n",
       "      <th>0</th>\n",
       "      <td>1000078</td>\n",
       "      <td>CL RETAIL</td>\n",
       "      <td>0.0</td>\n",
       "      <td>0.0</td>\n",
       "      <td>0.0</td>\n",
       "      <td>0.0</td>\n",
       "      <td>0.0</td>\n",
       "      <td>0.0</td>\n",
       "      <td>0.0</td>\n",
       "      <td>0.0</td>\n",
       "      <td>...</td>\n",
       "      <td>INTERMITTENT</td>\n",
       "      <td>24.0</td>\n",
       "      <td>0.000000</td>\n",
       "      <td>0.0</td>\n",
       "      <td>1.000</td>\n",
       "      <td>NaN</td>\n",
       "      <td>NaN</td>\n",
       "      <td>NaN</td>\n",
       "      <td>NaN</td>\n",
       "      <td>NaN</td>\n",
       "    </tr>\n",
       "    <tr>\n",
       "      <th>1</th>\n",
       "      <td>1000144</td>\n",
       "      <td>CL RETAIL</td>\n",
       "      <td>0.0</td>\n",
       "      <td>0.0</td>\n",
       "      <td>0.0</td>\n",
       "      <td>0.0</td>\n",
       "      <td>0.0</td>\n",
       "      <td>0.0</td>\n",
       "      <td>0.0</td>\n",
       "      <td>0.0</td>\n",
       "      <td>...</td>\n",
       "      <td>LUMPY</td>\n",
       "      <td>1.5</td>\n",
       "      <td>1.482836</td>\n",
       "      <td>1.0</td>\n",
       "      <td>22.625</td>\n",
       "      <td>27.550862</td>\n",
       "      <td>NaN</td>\n",
       "      <td>NaN</td>\n",
       "      <td>NaN</td>\n",
       "      <td>NaN</td>\n",
       "    </tr>\n",
       "  </tbody>\n",
       "</table>\n",
       "<p>2 rows × 104 columns</p>\n",
       "</div>"
      ],
      "text/plain": [
       "  Ultimo Eslabón    Canal 3  2018-01-01 00:00:00  2018-02-01 00:00:00  \\\n",
       "0        1000078  CL RETAIL                  0.0                  0.0   \n",
       "1        1000144  CL RETAIL                  0.0                  0.0   \n",
       "\n",
       "   2018-03-01 00:00:00  2018-04-01 00:00:00  2018-05-01 00:00:00  \\\n",
       "0                  0.0                  0.0                  0.0   \n",
       "1                  0.0                  0.0                  0.0   \n",
       "\n",
       "   2018-06-01 00:00:00  2018-07-01 00:00:00  2018-08-01 00:00:00  ...  \\\n",
       "0                  0.0                  0.0                  0.0  ...   \n",
       "1                  0.0                  0.0                  0.0  ...   \n",
       "\n",
       "     Clustering   ADI       CV2  MEDIANA  PROM_CV2   Desv_CV2  LIM SUP MED  \\\n",
       "0  INTERMITTENT  24.0  0.000000      0.0     1.000        NaN          NaN   \n",
       "1         LUMPY   1.5  1.482836      1.0    22.625  27.550862          NaN   \n",
       "\n",
       "   LIM INF FINAL  LIM INF ANT  LIM INF MEDIANA  \n",
       "0            NaN          NaN              NaN  \n",
       "1            NaN          NaN              NaN  \n",
       "\n",
       "[2 rows x 104 columns]"
      ]
     },
     "execution_count": 214,
     "metadata": {},
     "output_type": "execute_result"
    }
   ],
   "source": [
    "pivot_df.head(2)"
   ]
  },
  {
   "cell_type": "code",
   "execution_count": 215,
   "metadata": {},
   "outputs": [
    {
     "name": "stdout",
     "output_type": "stream",
     "text": [
      "Las 24 columnas antes de 'Clasificación' son:\n",
      "Index([2022-10-01 00:00:00, 2022-11-01 00:00:00, 2022-12-01 00:00:00,\n",
      "       2023-01-01 00:00:00, 2023-02-01 00:00:00, 2023-03-01 00:00:00,\n",
      "       2023-04-01 00:00:00, 2023-05-01 00:00:00, 2023-06-01 00:00:00,\n",
      "       2023-07-01 00:00:00, 2023-08-01 00:00:00, 2023-09-01 00:00:00,\n",
      "       2023-10-01 00:00:00, 2023-11-01 00:00:00, 2023-12-01 00:00:00,\n",
      "       2024-01-01 00:00:00, 2024-02-01 00:00:00, 2024-03-01 00:00:00,\n",
      "       2024-04-01 00:00:00, 2024-05-01 00:00:00, 2024-06-01 00:00:00,\n",
      "       2024-07-01 00:00:00, 2024-08-01 00:00:00, 2024-09-01 00:00:00],\n",
      "      dtype='object')\n"
     ]
    }
   ],
   "source": [
    "# Obtener las 24 columnas antes de 'Clasificación'\n",
    "num_cols = 24\n",
    "col_pos = pivot_df.columns.get_loc('Clasificación')\n",
    "\n",
    "# Seleccionar las 24 columnas anteriores a 'Clasificación'\n",
    "cols_for_percentil = pivot_df.columns[col_pos - num_cols:col_pos]\n",
    "\n",
    "# Imprimir las columnas seleccionadas\n",
    "print(\"Las 24 columnas antes de 'Clasificación' son:\")\n",
    "print(cols_for_percentil)\n"
   ]
  },
  {
   "cell_type": "code",
   "execution_count": 216,
   "metadata": {},
   "outputs": [
    {
     "name": "stdout",
     "output_type": "stream",
     "text": [
      "La suma de la columna PERCENTIL es: ['INTERMITTENT' 'LUMPY' 'SMOOTH' 'ERRATIC']\n"
     ]
    }
   ],
   "source": [
    "# Calcular la suma de la columna PERCENTIL\n",
    "suma_percentil = pivot_df['Clustering'].unique()\n",
    "\n",
    "# Mostrar la suma calculada\n",
    "print(f\"La suma de la columna PERCENTIL es: {suma_percentil}\")\n"
   ]
  },
  {
   "cell_type": "markdown",
   "metadata": {},
   "source": [
    "FRECUENCIA"
   ]
  },
  {
   "cell_type": "code",
   "execution_count": 217,
   "metadata": {},
   "outputs": [],
   "source": [
    "# Obtener el índice de la columna 'Clasificación'\n",
    "index_clasificacion = pivot_df.columns.get_loc('Clasificación')\n",
    "\n",
    "# Obtener las 18 columnas antes de 'Clasificación'\n",
    "columnas_conteo = pivot_df.columns[index_clasificacion-24:index_clasificacion]\n",
    "\n",
    "# Contar cuántas veces los valores en las columnas especificadas son mayores a 0\n",
    "pivot_df['FRECUENCIA'] = (pivot_df[columnas_conteo] > 0).sum(axis=1)"
   ]
  },
  {
   "cell_type": "markdown",
   "metadata": {},
   "source": [
    "PROMEDIO"
   ]
  },
  {
   "cell_type": "markdown",
   "metadata": {},
   "source": [
    "'DESV EST'"
   ]
  },
  {
   "cell_type": "code",
   "execution_count": 218,
   "metadata": {},
   "outputs": [],
   "source": [
    "# Obtener el índice de la columna 'Clasificación'\n",
    "index_clasificacion = pivot_df.columns.get_loc('Clasificación')\n",
    "\n",
    "# Obtener las 18 columnas antes de 'Clasificación'\n",
    "columnas_conteo = pivot_df.columns[index_clasificacion-24:index_clasificacion]\n",
    "\n",
    "# Calcular la desviación estándar de los valores en las columnas especificadas\n",
    "pivot_df['DESV EST'] = pivot_df[columnas_conteo].std(ddof=1, axis=1)\n"
   ]
  },
  {
   "cell_type": "code",
   "execution_count": 219,
   "metadata": {},
   "outputs": [],
   "source": [
    "def clasificar_frecuencia(frecuencia):\n",
    "    if frecuencia == 0:\n",
    "        return \"Sin Venta\"\n",
    "    elif 0 < frecuencia <= 6:\n",
    "        return \"Muy Baja\"\n",
    "    elif 6 < frecuencia <= 9:\n",
    "        return \"Baja\"\n",
    "    elif 9 < frecuencia <= 13:\n",
    "        return \"Media\"\n",
    "    elif 13 < frecuencia <= 18:\n",
    "        return \"Alta\"\n",
    "    elif 18 < frecuencia <= 24:\n",
    "        return \"Muy Alta\"\n",
    "\n",
    "pivot_df['Clasificación'] = pivot_df['FRECUENCIA'].apply(clasificar_frecuencia)\n"
   ]
  },
  {
   "cell_type": "code",
   "execution_count": 220,
   "metadata": {},
   "outputs": [
    {
     "data": {
      "text/plain": [
       "array(['Muy Baja', 'Alta', 'Muy Alta', 'Sin Venta', 'Baja', 'Media'],\n",
       "      dtype=object)"
      ]
     },
     "execution_count": 220,
     "metadata": {},
     "output_type": "execute_result"
    }
   ],
   "source": [
    "ae=pivot_df['Clasificación'].unique()\n",
    "ae"
   ]
  },
  {
   "cell_type": "markdown",
   "metadata": {},
   "source": [
    "Z"
   ]
  },
  {
   "cell_type": "code",
   "execution_count": 221,
   "metadata": {},
   "outputs": [],
   "source": [
    "\n",
    "# Definir la función personalizada\n",
    "def calcular_z(clasificacion):\n",
    "    if clasificacion == \"Muy Alta\":\n",
    "        return 1.96\n",
    "    elif clasificacion == \"Alta\":\n",
    "        return 1.28\n",
    "    elif clasificacion in [\"Baja\", \"Muy Baja\"]:\n",
    "        return 0.67\n",
    "    else:\n",
    "        return 0.84\n",
    "\n",
    "# Aplicar la función a la columna 'Clasificación' y crear una nueva columna 'Z'\n",
    "pivot_df['Z'] = pivot_df['Clasificación'].apply(calcular_z)\n"
   ]
  },
  {
   "cell_type": "markdown",
   "metadata": {},
   "source": [
    "LIM SUP"
   ]
  },
  {
   "cell_type": "code",
   "execution_count": 222,
   "metadata": {},
   "outputs": [],
   "source": [
    "\n",
    "# Calcular la columna LIM SUP\n",
    "pivot_df['LIM SUP'] = pivot_df['PROMEDIO'] + pivot_df['Z'] * pivot_df['DESV EST']\n"
   ]
  },
  {
   "cell_type": "markdown",
   "metadata": {},
   "source": [
    "LIM INF"
   ]
  },
  {
   "cell_type": "code",
   "execution_count": 223,
   "metadata": {},
   "outputs": [],
   "source": [
    "def calcular_lim_inf(row):\n",
    "    promedio = row['PROMEDIO']\n",
    "    z = row['Z']\n",
    "    desv_est = row['DESV EST']\n",
    "    percentil = row['PERCENTIL']\n",
    "    \n",
    "    resultado = promedio - z * desv_est\n",
    "    return max(resultado, percentil)\n",
    "\n",
    "pivot_df['LIM INF'] = pivot_df.apply(calcular_lim_inf, axis=1)\n"
   ]
  },
  {
   "cell_type": "markdown",
   "metadata": {},
   "source": [
    "OUT SUP"
   ]
  },
  {
   "cell_type": "code",
   "execution_count": 224,
   "metadata": {},
   "outputs": [],
   "source": [
    "\n",
    "index_clasificacion = pivot_df.columns.get_loc('Clasificación')\n",
    "\n",
    "# Obtener las 18 columnas antes de 'Clasificación'\n",
    "columnas_conteo = pivot_df.columns[index_clasificacion-18:index_clasificacion]\n",
    "\n",
    "# Definir la función personalizada para calcular Outliers SUP\n",
    "def calcular_outliers_sup(row):\n",
    "    lim_sup = row['LIM SUP']\n",
    "    return (row[columnas_conteo] > lim_sup).sum()\n",
    "\n",
    "# Aplicar la función a cada fila del DataFrame y crear una nueva columna 'Outliers SUP'\n",
    "pivot_df['Outliers SUP'] = pivot_df.apply(calcular_outliers_sup, axis=1)\n"
   ]
  },
  {
   "cell_type": "markdown",
   "metadata": {},
   "source": [
    "lim inf"
   ]
  },
  {
   "cell_type": "code",
   "execution_count": 225,
   "metadata": {},
   "outputs": [],
   "source": [
    "# Obtener el índice de la columna 'Clasificación'\n",
    "index_clasificacion = pivot_df.columns.get_loc('Clasificación')\n",
    "\n",
    "# Obtener las 18 columnas antes de 'Clasificación'\n",
    "columnas_conteo = pivot_df.columns[index_clasificacion-18:index_clasificacion]\n",
    "\n",
    "# Definir la función personalizada para calcular Outliers INF\n",
    "def calcular_outliers_inf(row):\n",
    "    lim_inf = row['LIM INF']\n",
    "    return (row[columnas_conteo] < lim_inf).sum()\n",
    "\n",
    "# Aplicar la función a cada fila del DataFrame y crear una nueva columna 'Outliers INF'\n",
    "pivot_df['Outliers INF'] = pivot_df.apply(calcular_outliers_inf, axis=1)"
   ]
  },
  {
   "cell_type": "markdown",
   "metadata": {},
   "source": [
    "SUM OUTLIERS"
   ]
  },
  {
   "cell_type": "code",
   "execution_count": 226,
   "metadata": {},
   "outputs": [],
   "source": [
    "pivot_df['Suma Outliers'] = pivot_df['Outliers INF'] + pivot_df['Outliers SUP']"
   ]
  },
  {
   "cell_type": "markdown",
   "metadata": {},
   "source": [
    "COPIAR LAS VENTAS ALFINAL"
   ]
  },
  {
   "cell_type": "code",
   "execution_count": 227,
   "metadata": {},
   "outputs": [
    {
     "data": {
      "text/html": [
       "<div>\n",
       "<style scoped>\n",
       "    .dataframe tbody tr th:only-of-type {\n",
       "        vertical-align: middle;\n",
       "    }\n",
       "\n",
       "    .dataframe tbody tr th {\n",
       "        vertical-align: top;\n",
       "    }\n",
       "\n",
       "    .dataframe thead th {\n",
       "        text-align: right;\n",
       "    }\n",
       "</style>\n",
       "<table border=\"1\" class=\"dataframe\">\n",
       "  <thead>\n",
       "    <tr style=\"text-align: right;\">\n",
       "      <th></th>\n",
       "      <th>Ultimo Eslabón</th>\n",
       "      <th>Canal 3</th>\n",
       "      <th>2018-01-01 00:00:00</th>\n",
       "      <th>2018-02-01 00:00:00</th>\n",
       "      <th>2018-03-01 00:00:00</th>\n",
       "      <th>2018-04-01 00:00:00</th>\n",
       "      <th>2018-05-01 00:00:00</th>\n",
       "      <th>2018-06-01 00:00:00</th>\n",
       "      <th>2018-07-01 00:00:00</th>\n",
       "      <th>2018-08-01 00:00:00</th>\n",
       "      <th>...</th>\n",
       "      <th>2023-12-01 00:00:00_copy</th>\n",
       "      <th>2024-01-01 00:00:00_copy</th>\n",
       "      <th>2024-02-01 00:00:00_copy</th>\n",
       "      <th>2024-03-01 00:00:00_copy</th>\n",
       "      <th>2024-04-01 00:00:00_copy</th>\n",
       "      <th>2024-05-01 00:00:00_copy</th>\n",
       "      <th>2024-06-01 00:00:00_copy</th>\n",
       "      <th>2024-07-01 00:00:00_copy</th>\n",
       "      <th>2024-08-01 00:00:00_copy</th>\n",
       "      <th>2024-09-01 00:00:00_copy</th>\n",
       "    </tr>\n",
       "  </thead>\n",
       "  <tbody>\n",
       "    <tr>\n",
       "      <th>0</th>\n",
       "      <td>1000078</td>\n",
       "      <td>CL RETAIL</td>\n",
       "      <td>0.0</td>\n",
       "      <td>0.0</td>\n",
       "      <td>0.0</td>\n",
       "      <td>0.0</td>\n",
       "      <td>0.0</td>\n",
       "      <td>0.0</td>\n",
       "      <td>0.0</td>\n",
       "      <td>0.0</td>\n",
       "      <td>...</td>\n",
       "      <td>0.0</td>\n",
       "      <td>1.0</td>\n",
       "      <td>0.0</td>\n",
       "      <td>0.0</td>\n",
       "      <td>0.0</td>\n",
       "      <td>0.0</td>\n",
       "      <td>0.0</td>\n",
       "      <td>0.0</td>\n",
       "      <td>0.0</td>\n",
       "      <td>0.0</td>\n",
       "    </tr>\n",
       "    <tr>\n",
       "      <th>1</th>\n",
       "      <td>1000144</td>\n",
       "      <td>CL RETAIL</td>\n",
       "      <td>0.0</td>\n",
       "      <td>0.0</td>\n",
       "      <td>0.0</td>\n",
       "      <td>0.0</td>\n",
       "      <td>0.0</td>\n",
       "      <td>0.0</td>\n",
       "      <td>0.0</td>\n",
       "      <td>0.0</td>\n",
       "      <td>...</td>\n",
       "      <td>2.0</td>\n",
       "      <td>1.0</td>\n",
       "      <td>1.0</td>\n",
       "      <td>1.0</td>\n",
       "      <td>0.0</td>\n",
       "      <td>0.0</td>\n",
       "      <td>0.0</td>\n",
       "      <td>0.0</td>\n",
       "      <td>0.0</td>\n",
       "      <td>0.0</td>\n",
       "    </tr>\n",
       "    <tr>\n",
       "      <th>2</th>\n",
       "      <td>1000147</td>\n",
       "      <td>CL RETAIL</td>\n",
       "      <td>0.0</td>\n",
       "      <td>0.0</td>\n",
       "      <td>0.0</td>\n",
       "      <td>0.0</td>\n",
       "      <td>0.0</td>\n",
       "      <td>0.0</td>\n",
       "      <td>0.0</td>\n",
       "      <td>0.0</td>\n",
       "      <td>...</td>\n",
       "      <td>46.0</td>\n",
       "      <td>45.0</td>\n",
       "      <td>51.0</td>\n",
       "      <td>64.0</td>\n",
       "      <td>36.0</td>\n",
       "      <td>28.0</td>\n",
       "      <td>30.0</td>\n",
       "      <td>30.0</td>\n",
       "      <td>46.0</td>\n",
       "      <td>56.0</td>\n",
       "    </tr>\n",
       "    <tr>\n",
       "      <th>3</th>\n",
       "      <td>1000148</td>\n",
       "      <td>CL RETAIL</td>\n",
       "      <td>0.0</td>\n",
       "      <td>0.0</td>\n",
       "      <td>0.0</td>\n",
       "      <td>0.0</td>\n",
       "      <td>0.0</td>\n",
       "      <td>0.0</td>\n",
       "      <td>0.0</td>\n",
       "      <td>0.0</td>\n",
       "      <td>...</td>\n",
       "      <td>67.0</td>\n",
       "      <td>120.0</td>\n",
       "      <td>76.0</td>\n",
       "      <td>75.0</td>\n",
       "      <td>64.0</td>\n",
       "      <td>37.0</td>\n",
       "      <td>73.0</td>\n",
       "      <td>82.0</td>\n",
       "      <td>70.0</td>\n",
       "      <td>102.0</td>\n",
       "    </tr>\n",
       "    <tr>\n",
       "      <th>4</th>\n",
       "      <td>1000149</td>\n",
       "      <td>CL RETAIL</td>\n",
       "      <td>0.0</td>\n",
       "      <td>0.0</td>\n",
       "      <td>0.0</td>\n",
       "      <td>0.0</td>\n",
       "      <td>0.0</td>\n",
       "      <td>0.0</td>\n",
       "      <td>0.0</td>\n",
       "      <td>0.0</td>\n",
       "      <td>...</td>\n",
       "      <td>104.0</td>\n",
       "      <td>172.0</td>\n",
       "      <td>125.0</td>\n",
       "      <td>168.0</td>\n",
       "      <td>188.0</td>\n",
       "      <td>159.0</td>\n",
       "      <td>170.0</td>\n",
       "      <td>178.0</td>\n",
       "      <td>170.0</td>\n",
       "      <td>202.0</td>\n",
       "    </tr>\n",
       "    <tr>\n",
       "      <th>...</th>\n",
       "      <td>...</td>\n",
       "      <td>...</td>\n",
       "      <td>...</td>\n",
       "      <td>...</td>\n",
       "      <td>...</td>\n",
       "      <td>...</td>\n",
       "      <td>...</td>\n",
       "      <td>...</td>\n",
       "      <td>...</td>\n",
       "      <td>...</td>\n",
       "      <td>...</td>\n",
       "      <td>...</td>\n",
       "      <td>...</td>\n",
       "      <td>...</td>\n",
       "      <td>...</td>\n",
       "      <td>...</td>\n",
       "      <td>...</td>\n",
       "      <td>...</td>\n",
       "      <td>...</td>\n",
       "      <td>...</td>\n",
       "      <td>...</td>\n",
       "    </tr>\n",
       "    <tr>\n",
       "      <th>87146</th>\n",
       "      <td>750797</td>\n",
       "      <td>CL RETAIL</td>\n",
       "      <td>0.0</td>\n",
       "      <td>0.0</td>\n",
       "      <td>0.0</td>\n",
       "      <td>0.0</td>\n",
       "      <td>0.0</td>\n",
       "      <td>0.0</td>\n",
       "      <td>0.0</td>\n",
       "      <td>0.0</td>\n",
       "      <td>...</td>\n",
       "      <td>0.0</td>\n",
       "      <td>0.0</td>\n",
       "      <td>0.0</td>\n",
       "      <td>1.0</td>\n",
       "      <td>1.0</td>\n",
       "      <td>3.0</td>\n",
       "      <td>2.0</td>\n",
       "      <td>1.0</td>\n",
       "      <td>1.0</td>\n",
       "      <td>3.0</td>\n",
       "    </tr>\n",
       "    <tr>\n",
       "      <th>87147</th>\n",
       "      <td>750803</td>\n",
       "      <td>CL RETAIL</td>\n",
       "      <td>0.0</td>\n",
       "      <td>0.0</td>\n",
       "      <td>0.0</td>\n",
       "      <td>0.0</td>\n",
       "      <td>0.0</td>\n",
       "      <td>0.0</td>\n",
       "      <td>0.0</td>\n",
       "      <td>0.0</td>\n",
       "      <td>...</td>\n",
       "      <td>7.0</td>\n",
       "      <td>3.0</td>\n",
       "      <td>0.0</td>\n",
       "      <td>3.0</td>\n",
       "      <td>5.0</td>\n",
       "      <td>1.0</td>\n",
       "      <td>1.0</td>\n",
       "      <td>12.0</td>\n",
       "      <td>4.0</td>\n",
       "      <td>0.0</td>\n",
       "    </tr>\n",
       "    <tr>\n",
       "      <th>87148</th>\n",
       "      <td>750809</td>\n",
       "      <td>CL RETAIL</td>\n",
       "      <td>0.0</td>\n",
       "      <td>0.0</td>\n",
       "      <td>0.0</td>\n",
       "      <td>0.0</td>\n",
       "      <td>0.0</td>\n",
       "      <td>0.0</td>\n",
       "      <td>0.0</td>\n",
       "      <td>0.0</td>\n",
       "      <td>...</td>\n",
       "      <td>0.0</td>\n",
       "      <td>2.0</td>\n",
       "      <td>0.0</td>\n",
       "      <td>0.0</td>\n",
       "      <td>0.0</td>\n",
       "      <td>0.0</td>\n",
       "      <td>1.0</td>\n",
       "      <td>3.0</td>\n",
       "      <td>0.0</td>\n",
       "      <td>0.0</td>\n",
       "    </tr>\n",
       "    <tr>\n",
       "      <th>87149</th>\n",
       "      <td>750816</td>\n",
       "      <td>CL RETAIL</td>\n",
       "      <td>0.0</td>\n",
       "      <td>0.0</td>\n",
       "      <td>0.0</td>\n",
       "      <td>0.0</td>\n",
       "      <td>0.0</td>\n",
       "      <td>0.0</td>\n",
       "      <td>0.0</td>\n",
       "      <td>0.0</td>\n",
       "      <td>...</td>\n",
       "      <td>0.0</td>\n",
       "      <td>2.0</td>\n",
       "      <td>0.0</td>\n",
       "      <td>0.0</td>\n",
       "      <td>2.0</td>\n",
       "      <td>0.0</td>\n",
       "      <td>0.0</td>\n",
       "      <td>4.0</td>\n",
       "      <td>7.0</td>\n",
       "      <td>0.0</td>\n",
       "    </tr>\n",
       "    <tr>\n",
       "      <th>87151</th>\n",
       "      <td>752466</td>\n",
       "      <td>CL RETAIL</td>\n",
       "      <td>7.0</td>\n",
       "      <td>1.0</td>\n",
       "      <td>2.0</td>\n",
       "      <td>1.0</td>\n",
       "      <td>11.0</td>\n",
       "      <td>1.0</td>\n",
       "      <td>1.0</td>\n",
       "      <td>9.0</td>\n",
       "      <td>...</td>\n",
       "      <td>3.0</td>\n",
       "      <td>0.0</td>\n",
       "      <td>1.0</td>\n",
       "      <td>3.0</td>\n",
       "      <td>3.0</td>\n",
       "      <td>3.0</td>\n",
       "      <td>10.0</td>\n",
       "      <td>4.0</td>\n",
       "      <td>2.0</td>\n",
       "      <td>1.0</td>\n",
       "    </tr>\n",
       "  </tbody>\n",
       "</table>\n",
       "<p>48001 rows × 187 columns</p>\n",
       "</div>"
      ],
      "text/plain": [
       "      Ultimo Eslabón    Canal 3  2018-01-01 00:00:00  2018-02-01 00:00:00  \\\n",
       "0            1000078  CL RETAIL                  0.0                  0.0   \n",
       "1            1000144  CL RETAIL                  0.0                  0.0   \n",
       "2            1000147  CL RETAIL                  0.0                  0.0   \n",
       "3            1000148  CL RETAIL                  0.0                  0.0   \n",
       "4            1000149  CL RETAIL                  0.0                  0.0   \n",
       "...              ...        ...                  ...                  ...   \n",
       "87146         750797  CL RETAIL                  0.0                  0.0   \n",
       "87147         750803  CL RETAIL                  0.0                  0.0   \n",
       "87148         750809  CL RETAIL                  0.0                  0.0   \n",
       "87149         750816  CL RETAIL                  0.0                  0.0   \n",
       "87151         752466  CL RETAIL                  7.0                  1.0   \n",
       "\n",
       "       2018-03-01 00:00:00  2018-04-01 00:00:00  2018-05-01 00:00:00  \\\n",
       "0                      0.0                  0.0                  0.0   \n",
       "1                      0.0                  0.0                  0.0   \n",
       "2                      0.0                  0.0                  0.0   \n",
       "3                      0.0                  0.0                  0.0   \n",
       "4                      0.0                  0.0                  0.0   \n",
       "...                    ...                  ...                  ...   \n",
       "87146                  0.0                  0.0                  0.0   \n",
       "87147                  0.0                  0.0                  0.0   \n",
       "87148                  0.0                  0.0                  0.0   \n",
       "87149                  0.0                  0.0                  0.0   \n",
       "87151                  2.0                  1.0                 11.0   \n",
       "\n",
       "       2018-06-01 00:00:00  2018-07-01 00:00:00  2018-08-01 00:00:00  ...  \\\n",
       "0                      0.0                  0.0                  0.0  ...   \n",
       "1                      0.0                  0.0                  0.0  ...   \n",
       "2                      0.0                  0.0                  0.0  ...   \n",
       "3                      0.0                  0.0                  0.0  ...   \n",
       "4                      0.0                  0.0                  0.0  ...   \n",
       "...                    ...                  ...                  ...  ...   \n",
       "87146                  0.0                  0.0                  0.0  ...   \n",
       "87147                  0.0                  0.0                  0.0  ...   \n",
       "87148                  0.0                  0.0                  0.0  ...   \n",
       "87149                  0.0                  0.0                  0.0  ...   \n",
       "87151                  1.0                  1.0                  9.0  ...   \n",
       "\n",
       "       2023-12-01 00:00:00_copy  2024-01-01 00:00:00_copy  \\\n",
       "0                           0.0                       1.0   \n",
       "1                           2.0                       1.0   \n",
       "2                          46.0                      45.0   \n",
       "3                          67.0                     120.0   \n",
       "4                         104.0                     172.0   \n",
       "...                         ...                       ...   \n",
       "87146                       0.0                       0.0   \n",
       "87147                       7.0                       3.0   \n",
       "87148                       0.0                       2.0   \n",
       "87149                       0.0                       2.0   \n",
       "87151                       3.0                       0.0   \n",
       "\n",
       "       2024-02-01 00:00:00_copy  2024-03-01 00:00:00_copy  \\\n",
       "0                           0.0                       0.0   \n",
       "1                           1.0                       1.0   \n",
       "2                          51.0                      64.0   \n",
       "3                          76.0                      75.0   \n",
       "4                         125.0                     168.0   \n",
       "...                         ...                       ...   \n",
       "87146                       0.0                       1.0   \n",
       "87147                       0.0                       3.0   \n",
       "87148                       0.0                       0.0   \n",
       "87149                       0.0                       0.0   \n",
       "87151                       1.0                       3.0   \n",
       "\n",
       "       2024-04-01 00:00:00_copy  2024-05-01 00:00:00_copy  \\\n",
       "0                           0.0                       0.0   \n",
       "1                           0.0                       0.0   \n",
       "2                          36.0                      28.0   \n",
       "3                          64.0                      37.0   \n",
       "4                         188.0                     159.0   \n",
       "...                         ...                       ...   \n",
       "87146                       1.0                       3.0   \n",
       "87147                       5.0                       1.0   \n",
       "87148                       0.0                       0.0   \n",
       "87149                       2.0                       0.0   \n",
       "87151                       3.0                       3.0   \n",
       "\n",
       "       2024-06-01 00:00:00_copy  2024-07-01 00:00:00_copy  \\\n",
       "0                           0.0                       0.0   \n",
       "1                           0.0                       0.0   \n",
       "2                          30.0                      30.0   \n",
       "3                          73.0                      82.0   \n",
       "4                         170.0                     178.0   \n",
       "...                         ...                       ...   \n",
       "87146                       2.0                       1.0   \n",
       "87147                       1.0                      12.0   \n",
       "87148                       1.0                       3.0   \n",
       "87149                       0.0                       4.0   \n",
       "87151                      10.0                       4.0   \n",
       "\n",
       "       2024-08-01 00:00:00_copy  2024-09-01 00:00:00_copy  \n",
       "0                           0.0                       0.0  \n",
       "1                           0.0                       0.0  \n",
       "2                          46.0                      56.0  \n",
       "3                          70.0                     102.0  \n",
       "4                         170.0                     202.0  \n",
       "...                         ...                       ...  \n",
       "87146                       1.0                       3.0  \n",
       "87147                       4.0                       0.0  \n",
       "87148                       0.0                       0.0  \n",
       "87149                       7.0                       0.0  \n",
       "87151                       2.0                       1.0  \n",
       "\n",
       "[48001 rows x 187 columns]"
      ]
     },
     "execution_count": 227,
     "metadata": {},
     "output_type": "execute_result"
    }
   ],
   "source": [
    "# # Encontrar la posición de la columna \"Clasificación\"\n",
    "# clasificacion_index = pivot_df.columns.get_loc(\"Clasificación\")\n",
    "\n",
    "# # Seleccionar todas las columnas antes de \"Clasificación\" excepto \"idSKU\" y \"Canal\"\n",
    "# columns_to_copy = [col for col in pivot_df.columns[:clasificacion_index] if col not in [\"idSKU\", \"Canal\"]]\n",
    "\n",
    "# # Copiar las columnas seleccionadas al final\n",
    "# for col in columns_to_copy:\n",
    "#     pivot_df[f'{col}_copy'] = pivot_df[col]\n",
    "\n",
    "# pivot_df\n",
    "\n",
    "clasificacion_index = pivot_df.columns.get_loc(\"Clasificación\")\n",
    "columns_to_copy = [col for col in pivot_df.columns[:clasificacion_index] if col not in [\"idSKU\", \"Canal\"]]\n",
    "copied_columns = pivot_df[columns_to_copy].copy()\n",
    "copied_columns.columns = [f'{col}_copy' for col in copied_columns.columns]\n",
    "pivot_df = pd.concat([pivot_df, copied_columns], axis=1)\n",
    "pivot_df\n"
   ]
  },
  {
   "cell_type": "markdown",
   "metadata": {},
   "source": [
    "CORREGIR OUTLIERS PARA LAS ULTIMAS 18 COLUMNAS"
   ]
  },
  {
   "cell_type": "code",
   "execution_count": 228,
   "metadata": {},
   "outputs": [
    {
     "data": {
      "text/html": [
       "<div>\n",
       "<style scoped>\n",
       "    .dataframe tbody tr th:only-of-type {\n",
       "        vertical-align: middle;\n",
       "    }\n",
       "\n",
       "    .dataframe tbody tr th {\n",
       "        vertical-align: top;\n",
       "    }\n",
       "\n",
       "    .dataframe thead th {\n",
       "        text-align: right;\n",
       "    }\n",
       "</style>\n",
       "<table border=\"1\" class=\"dataframe\">\n",
       "  <thead>\n",
       "    <tr style=\"text-align: right;\">\n",
       "      <th></th>\n",
       "      <th>Ultimo Eslabón</th>\n",
       "      <th>Canal 3</th>\n",
       "      <th>2018-01-01 00:00:00</th>\n",
       "      <th>2018-02-01 00:00:00</th>\n",
       "      <th>2018-03-01 00:00:00</th>\n",
       "      <th>2018-04-01 00:00:00</th>\n",
       "      <th>2018-05-01 00:00:00</th>\n",
       "      <th>2018-06-01 00:00:00</th>\n",
       "      <th>2018-07-01 00:00:00</th>\n",
       "      <th>2018-08-01 00:00:00</th>\n",
       "      <th>...</th>\n",
       "      <th>2023-12-01 00:00:00_copy</th>\n",
       "      <th>2024-01-01 00:00:00_copy</th>\n",
       "      <th>2024-02-01 00:00:00_copy</th>\n",
       "      <th>2024-03-01 00:00:00_copy</th>\n",
       "      <th>2024-04-01 00:00:00_copy</th>\n",
       "      <th>2024-05-01 00:00:00_copy</th>\n",
       "      <th>2024-06-01 00:00:00_copy</th>\n",
       "      <th>2024-07-01 00:00:00_copy</th>\n",
       "      <th>2024-08-01 00:00:00_copy</th>\n",
       "      <th>2024-09-01 00:00:00_copy</th>\n",
       "    </tr>\n",
       "  </thead>\n",
       "  <tbody>\n",
       "    <tr>\n",
       "      <th>0</th>\n",
       "      <td>1000078</td>\n",
       "      <td>CL RETAIL</td>\n",
       "      <td>0.0</td>\n",
       "      <td>0.0</td>\n",
       "      <td>0.0</td>\n",
       "      <td>0.0</td>\n",
       "      <td>0.0</td>\n",
       "      <td>0.0</td>\n",
       "      <td>0.0</td>\n",
       "      <td>0.0</td>\n",
       "      <td>...</td>\n",
       "      <td>0.0</td>\n",
       "      <td>0.055556</td>\n",
       "      <td>0.0</td>\n",
       "      <td>0.0</td>\n",
       "      <td>0.0</td>\n",
       "      <td>0.0</td>\n",
       "      <td>0.0</td>\n",
       "      <td>0.0</td>\n",
       "      <td>0.0</td>\n",
       "      <td>0.0</td>\n",
       "    </tr>\n",
       "    <tr>\n",
       "      <th>1</th>\n",
       "      <td>1000144</td>\n",
       "      <td>CL RETAIL</td>\n",
       "      <td>0.0</td>\n",
       "      <td>0.0</td>\n",
       "      <td>0.0</td>\n",
       "      <td>0.0</td>\n",
       "      <td>0.0</td>\n",
       "      <td>0.0</td>\n",
       "      <td>0.0</td>\n",
       "      <td>0.0</td>\n",
       "      <td>...</td>\n",
       "      <td>2.0</td>\n",
       "      <td>1.000000</td>\n",
       "      <td>1.0</td>\n",
       "      <td>1.0</td>\n",
       "      <td>0.0</td>\n",
       "      <td>0.0</td>\n",
       "      <td>0.0</td>\n",
       "      <td>0.0</td>\n",
       "      <td>0.0</td>\n",
       "      <td>0.0</td>\n",
       "    </tr>\n",
       "  </tbody>\n",
       "</table>\n",
       "<p>2 rows × 187 columns</p>\n",
       "</div>"
      ],
      "text/plain": [
       "  Ultimo Eslabón    Canal 3  2018-01-01 00:00:00  2018-02-01 00:00:00  \\\n",
       "0        1000078  CL RETAIL                  0.0                  0.0   \n",
       "1        1000144  CL RETAIL                  0.0                  0.0   \n",
       "\n",
       "   2018-03-01 00:00:00  2018-04-01 00:00:00  2018-05-01 00:00:00  \\\n",
       "0                  0.0                  0.0                  0.0   \n",
       "1                  0.0                  0.0                  0.0   \n",
       "\n",
       "   2018-06-01 00:00:00  2018-07-01 00:00:00  2018-08-01 00:00:00  ...  \\\n",
       "0                  0.0                  0.0                  0.0  ...   \n",
       "1                  0.0                  0.0                  0.0  ...   \n",
       "\n",
       "   2023-12-01 00:00:00_copy  2024-01-01 00:00:00_copy  \\\n",
       "0                       0.0                  0.055556   \n",
       "1                       2.0                  1.000000   \n",
       "\n",
       "   2024-02-01 00:00:00_copy  2024-03-01 00:00:00_copy  \\\n",
       "0                       0.0                       0.0   \n",
       "1                       1.0                       1.0   \n",
       "\n",
       "   2024-04-01 00:00:00_copy  2024-05-01 00:00:00_copy  \\\n",
       "0                       0.0                       0.0   \n",
       "1                       0.0                       0.0   \n",
       "\n",
       "   2024-06-01 00:00:00_copy  2024-07-01 00:00:00_copy  \\\n",
       "0                       0.0                       0.0   \n",
       "1                       0.0                       0.0   \n",
       "\n",
       "   2024-08-01 00:00:00_copy  2024-09-01 00:00:00_copy  \n",
       "0                       0.0                       0.0  \n",
       "1                       0.0                       0.0  \n",
       "\n",
       "[2 rows x 187 columns]"
      ]
     },
     "execution_count": 228,
     "metadata": {},
     "output_type": "execute_result"
    }
   ],
   "source": [
    "# Obtener los nombres de las últimas 18 columnas\n",
    "last_18_columns = pivot_df.columns[-18:]\n",
    "\n",
    "# Aplicar las condiciones a las últimas 18 columnas\n",
    "for col in last_18_columns:\n",
    "    pivot_df[col] = pivot_df.apply(\n",
    "        lambda row: row['PROMEDIO'] if row[col] > row['LIM SUP'] or row[col] < row['LIM INF'] else row[col],\n",
    "        axis=1\n",
    "    )\n",
    "\n",
    "# Mostrar el DataFrame resultante\n",
    "pivot_df.head(2)"
   ]
  },
  {
   "cell_type": "code",
   "execution_count": 229,
   "metadata": {},
   "outputs": [
    {
     "name": "stdout",
     "output_type": "stream",
     "text": [
      "La suma de la última columna (2024-09-01 00:00:00_copy) es: 635134.0555555555\n"
     ]
    }
   ],
   "source": [
    "last_column = pivot_df.columns[-1]\n",
    "\n",
    "# Calcular la suma de la última columna\n",
    "sum_last_column = pivot_df[last_column].sum()\n",
    "\n",
    "# Mostrar la suma\n",
    "print(f\"La suma de la última columna ({last_column}) es: {sum_last_column}\")"
   ]
  },
  {
   "cell_type": "code",
   "execution_count": 230,
   "metadata": {},
   "outputs": [],
   "source": [
    "# pivot_df.to_csv(csv_path, sep=';', decimal=',', index=False)\n",
    "# print(f\"Archivo CSV guardado en: {csv_path}\")"
   ]
  },
  {
   "cell_type": "code",
   "execution_count": 231,
   "metadata": {},
   "outputs": [
    {
     "data": {
      "text/html": [
       "<div>\n",
       "<style scoped>\n",
       "    .dataframe tbody tr th:only-of-type {\n",
       "        vertical-align: middle;\n",
       "    }\n",
       "\n",
       "    .dataframe tbody tr th {\n",
       "        vertical-align: top;\n",
       "    }\n",
       "\n",
       "    .dataframe thead th {\n",
       "        text-align: right;\n",
       "    }\n",
       "</style>\n",
       "<table border=\"1\" class=\"dataframe\">\n",
       "  <thead>\n",
       "    <tr style=\"text-align: right;\">\n",
       "      <th></th>\n",
       "      <th>Ultimo Eslabón</th>\n",
       "      <th>Canal 3</th>\n",
       "      <th>2018-01-01 00:00:00</th>\n",
       "      <th>2018-02-01 00:00:00</th>\n",
       "      <th>2018-03-01 00:00:00</th>\n",
       "      <th>2018-04-01 00:00:00</th>\n",
       "      <th>2018-05-01 00:00:00</th>\n",
       "      <th>2018-06-01 00:00:00</th>\n",
       "      <th>2018-07-01 00:00:00</th>\n",
       "      <th>2018-08-01 00:00:00</th>\n",
       "      <th>...</th>\n",
       "      <th>2023-12-01 00:00:00_copy</th>\n",
       "      <th>2024-01-01 00:00:00_copy</th>\n",
       "      <th>2024-02-01 00:00:00_copy</th>\n",
       "      <th>2024-03-01 00:00:00_copy</th>\n",
       "      <th>2024-04-01 00:00:00_copy</th>\n",
       "      <th>2024-05-01 00:00:00_copy</th>\n",
       "      <th>2024-06-01 00:00:00_copy</th>\n",
       "      <th>2024-07-01 00:00:00_copy</th>\n",
       "      <th>2024-08-01 00:00:00_copy</th>\n",
       "      <th>2024-09-01 00:00:00_copy</th>\n",
       "    </tr>\n",
       "  </thead>\n",
       "  <tbody>\n",
       "    <tr>\n",
       "      <th>87136</th>\n",
       "      <td>750324</td>\n",
       "      <td>CL RETAIL</td>\n",
       "      <td>0.0</td>\n",
       "      <td>0.0</td>\n",
       "      <td>0.0</td>\n",
       "      <td>0.0</td>\n",
       "      <td>0.0</td>\n",
       "      <td>0.0</td>\n",
       "      <td>0.0</td>\n",
       "      <td>0.0</td>\n",
       "      <td>...</td>\n",
       "      <td>0.0</td>\n",
       "      <td>1.000000</td>\n",
       "      <td>0.000000</td>\n",
       "      <td>0.0</td>\n",
       "      <td>1.0</td>\n",
       "      <td>0.555556</td>\n",
       "      <td>1.000000</td>\n",
       "      <td>0.000000</td>\n",
       "      <td>1.000000</td>\n",
       "      <td>0.000000</td>\n",
       "    </tr>\n",
       "    <tr>\n",
       "      <th>87139</th>\n",
       "      <td>750403</td>\n",
       "      <td>CL RETAIL</td>\n",
       "      <td>2.0</td>\n",
       "      <td>6.0</td>\n",
       "      <td>4.0</td>\n",
       "      <td>8.0</td>\n",
       "      <td>0.0</td>\n",
       "      <td>4.0</td>\n",
       "      <td>0.0</td>\n",
       "      <td>0.0</td>\n",
       "      <td>...</td>\n",
       "      <td>0.0</td>\n",
       "      <td>0.000000</td>\n",
       "      <td>0.000000</td>\n",
       "      <td>0.0</td>\n",
       "      <td>0.0</td>\n",
       "      <td>0.000000</td>\n",
       "      <td>0.000000</td>\n",
       "      <td>0.000000</td>\n",
       "      <td>0.000000</td>\n",
       "      <td>0.000000</td>\n",
       "    </tr>\n",
       "    <tr>\n",
       "      <th>87142</th>\n",
       "      <td>750406</td>\n",
       "      <td>CL RETAIL</td>\n",
       "      <td>0.0</td>\n",
       "      <td>0.0</td>\n",
       "      <td>0.0</td>\n",
       "      <td>0.0</td>\n",
       "      <td>0.0</td>\n",
       "      <td>0.0</td>\n",
       "      <td>0.0</td>\n",
       "      <td>0.0</td>\n",
       "      <td>...</td>\n",
       "      <td>0.0</td>\n",
       "      <td>0.000000</td>\n",
       "      <td>0.000000</td>\n",
       "      <td>0.0</td>\n",
       "      <td>0.0</td>\n",
       "      <td>0.000000</td>\n",
       "      <td>0.000000</td>\n",
       "      <td>0.000000</td>\n",
       "      <td>0.000000</td>\n",
       "      <td>0.000000</td>\n",
       "    </tr>\n",
       "    <tr>\n",
       "      <th>87143</th>\n",
       "      <td>750406</td>\n",
       "      <td>CL SODIMAC</td>\n",
       "      <td>0.0</td>\n",
       "      <td>0.0</td>\n",
       "      <td>0.0</td>\n",
       "      <td>0.0</td>\n",
       "      <td>0.0</td>\n",
       "      <td>0.0</td>\n",
       "      <td>0.0</td>\n",
       "      <td>0.0</td>\n",
       "      <td>...</td>\n",
       "      <td>0.0</td>\n",
       "      <td>0.000000</td>\n",
       "      <td>0.000000</td>\n",
       "      <td>0.0</td>\n",
       "      <td>0.0</td>\n",
       "      <td>0.000000</td>\n",
       "      <td>0.000000</td>\n",
       "      <td>0.000000</td>\n",
       "      <td>0.000000</td>\n",
       "      <td>0.000000</td>\n",
       "    </tr>\n",
       "    <tr>\n",
       "      <th>87145</th>\n",
       "      <td>750791</td>\n",
       "      <td>CL RETAIL</td>\n",
       "      <td>0.0</td>\n",
       "      <td>0.0</td>\n",
       "      <td>0.0</td>\n",
       "      <td>0.0</td>\n",
       "      <td>0.0</td>\n",
       "      <td>0.0</td>\n",
       "      <td>0.0</td>\n",
       "      <td>0.0</td>\n",
       "      <td>...</td>\n",
       "      <td>2.0</td>\n",
       "      <td>6.000000</td>\n",
       "      <td>2.000000</td>\n",
       "      <td>1.0</td>\n",
       "      <td>3.0</td>\n",
       "      <td>1.000000</td>\n",
       "      <td>0.000000</td>\n",
       "      <td>5.888889</td>\n",
       "      <td>0.000000</td>\n",
       "      <td>5.000000</td>\n",
       "    </tr>\n",
       "    <tr>\n",
       "      <th>87146</th>\n",
       "      <td>750797</td>\n",
       "      <td>CL RETAIL</td>\n",
       "      <td>0.0</td>\n",
       "      <td>0.0</td>\n",
       "      <td>0.0</td>\n",
       "      <td>0.0</td>\n",
       "      <td>0.0</td>\n",
       "      <td>0.0</td>\n",
       "      <td>0.0</td>\n",
       "      <td>0.0</td>\n",
       "      <td>...</td>\n",
       "      <td>0.0</td>\n",
       "      <td>0.000000</td>\n",
       "      <td>0.000000</td>\n",
       "      <td>1.0</td>\n",
       "      <td>1.0</td>\n",
       "      <td>0.888889</td>\n",
       "      <td>2.000000</td>\n",
       "      <td>1.000000</td>\n",
       "      <td>1.000000</td>\n",
       "      <td>0.888889</td>\n",
       "    </tr>\n",
       "    <tr>\n",
       "      <th>87147</th>\n",
       "      <td>750803</td>\n",
       "      <td>CL RETAIL</td>\n",
       "      <td>0.0</td>\n",
       "      <td>0.0</td>\n",
       "      <td>0.0</td>\n",
       "      <td>0.0</td>\n",
       "      <td>0.0</td>\n",
       "      <td>0.0</td>\n",
       "      <td>0.0</td>\n",
       "      <td>0.0</td>\n",
       "      <td>...</td>\n",
       "      <td>7.0</td>\n",
       "      <td>3.000000</td>\n",
       "      <td>3.055556</td>\n",
       "      <td>3.0</td>\n",
       "      <td>5.0</td>\n",
       "      <td>1.000000</td>\n",
       "      <td>1.000000</td>\n",
       "      <td>3.055556</td>\n",
       "      <td>4.000000</td>\n",
       "      <td>3.055556</td>\n",
       "    </tr>\n",
       "    <tr>\n",
       "      <th>87148</th>\n",
       "      <td>750809</td>\n",
       "      <td>CL RETAIL</td>\n",
       "      <td>0.0</td>\n",
       "      <td>0.0</td>\n",
       "      <td>0.0</td>\n",
       "      <td>0.0</td>\n",
       "      <td>0.0</td>\n",
       "      <td>0.0</td>\n",
       "      <td>0.0</td>\n",
       "      <td>0.0</td>\n",
       "      <td>...</td>\n",
       "      <td>0.0</td>\n",
       "      <td>2.000000</td>\n",
       "      <td>0.000000</td>\n",
       "      <td>0.0</td>\n",
       "      <td>0.0</td>\n",
       "      <td>0.000000</td>\n",
       "      <td>1.000000</td>\n",
       "      <td>3.000000</td>\n",
       "      <td>0.000000</td>\n",
       "      <td>0.000000</td>\n",
       "    </tr>\n",
       "    <tr>\n",
       "      <th>87149</th>\n",
       "      <td>750816</td>\n",
       "      <td>CL RETAIL</td>\n",
       "      <td>0.0</td>\n",
       "      <td>0.0</td>\n",
       "      <td>0.0</td>\n",
       "      <td>0.0</td>\n",
       "      <td>0.0</td>\n",
       "      <td>0.0</td>\n",
       "      <td>0.0</td>\n",
       "      <td>0.0</td>\n",
       "      <td>...</td>\n",
       "      <td>0.0</td>\n",
       "      <td>2.000000</td>\n",
       "      <td>0.000000</td>\n",
       "      <td>0.0</td>\n",
       "      <td>2.0</td>\n",
       "      <td>0.000000</td>\n",
       "      <td>0.000000</td>\n",
       "      <td>4.000000</td>\n",
       "      <td>1.833333</td>\n",
       "      <td>0.000000</td>\n",
       "    </tr>\n",
       "    <tr>\n",
       "      <th>87151</th>\n",
       "      <td>752466</td>\n",
       "      <td>CL RETAIL</td>\n",
       "      <td>7.0</td>\n",
       "      <td>1.0</td>\n",
       "      <td>2.0</td>\n",
       "      <td>1.0</td>\n",
       "      <td>11.0</td>\n",
       "      <td>1.0</td>\n",
       "      <td>1.0</td>\n",
       "      <td>9.0</td>\n",
       "      <td>...</td>\n",
       "      <td>3.0</td>\n",
       "      <td>3.166667</td>\n",
       "      <td>1.000000</td>\n",
       "      <td>3.0</td>\n",
       "      <td>3.0</td>\n",
       "      <td>3.000000</td>\n",
       "      <td>3.166667</td>\n",
       "      <td>4.000000</td>\n",
       "      <td>2.000000</td>\n",
       "      <td>1.000000</td>\n",
       "    </tr>\n",
       "  </tbody>\n",
       "</table>\n",
       "<p>10 rows × 187 columns</p>\n",
       "</div>"
      ],
      "text/plain": [
       "      Ultimo Eslabón     Canal 3  2018-01-01 00:00:00  2018-02-01 00:00:00  \\\n",
       "87136         750324   CL RETAIL                  0.0                  0.0   \n",
       "87139         750403   CL RETAIL                  2.0                  6.0   \n",
       "87142         750406   CL RETAIL                  0.0                  0.0   \n",
       "87143         750406  CL SODIMAC                  0.0                  0.0   \n",
       "87145         750791   CL RETAIL                  0.0                  0.0   \n",
       "87146         750797   CL RETAIL                  0.0                  0.0   \n",
       "87147         750803   CL RETAIL                  0.0                  0.0   \n",
       "87148         750809   CL RETAIL                  0.0                  0.0   \n",
       "87149         750816   CL RETAIL                  0.0                  0.0   \n",
       "87151         752466   CL RETAIL                  7.0                  1.0   \n",
       "\n",
       "       2018-03-01 00:00:00  2018-04-01 00:00:00  2018-05-01 00:00:00  \\\n",
       "87136                  0.0                  0.0                  0.0   \n",
       "87139                  4.0                  8.0                  0.0   \n",
       "87142                  0.0                  0.0                  0.0   \n",
       "87143                  0.0                  0.0                  0.0   \n",
       "87145                  0.0                  0.0                  0.0   \n",
       "87146                  0.0                  0.0                  0.0   \n",
       "87147                  0.0                  0.0                  0.0   \n",
       "87148                  0.0                  0.0                  0.0   \n",
       "87149                  0.0                  0.0                  0.0   \n",
       "87151                  2.0                  1.0                 11.0   \n",
       "\n",
       "       2018-06-01 00:00:00  2018-07-01 00:00:00  2018-08-01 00:00:00  ...  \\\n",
       "87136                  0.0                  0.0                  0.0  ...   \n",
       "87139                  4.0                  0.0                  0.0  ...   \n",
       "87142                  0.0                  0.0                  0.0  ...   \n",
       "87143                  0.0                  0.0                  0.0  ...   \n",
       "87145                  0.0                  0.0                  0.0  ...   \n",
       "87146                  0.0                  0.0                  0.0  ...   \n",
       "87147                  0.0                  0.0                  0.0  ...   \n",
       "87148                  0.0                  0.0                  0.0  ...   \n",
       "87149                  0.0                  0.0                  0.0  ...   \n",
       "87151                  1.0                  1.0                  9.0  ...   \n",
       "\n",
       "       2023-12-01 00:00:00_copy  2024-01-01 00:00:00_copy  \\\n",
       "87136                       0.0                  1.000000   \n",
       "87139                       0.0                  0.000000   \n",
       "87142                       0.0                  0.000000   \n",
       "87143                       0.0                  0.000000   \n",
       "87145                       2.0                  6.000000   \n",
       "87146                       0.0                  0.000000   \n",
       "87147                       7.0                  3.000000   \n",
       "87148                       0.0                  2.000000   \n",
       "87149                       0.0                  2.000000   \n",
       "87151                       3.0                  3.166667   \n",
       "\n",
       "       2024-02-01 00:00:00_copy  2024-03-01 00:00:00_copy  \\\n",
       "87136                  0.000000                       0.0   \n",
       "87139                  0.000000                       0.0   \n",
       "87142                  0.000000                       0.0   \n",
       "87143                  0.000000                       0.0   \n",
       "87145                  2.000000                       1.0   \n",
       "87146                  0.000000                       1.0   \n",
       "87147                  3.055556                       3.0   \n",
       "87148                  0.000000                       0.0   \n",
       "87149                  0.000000                       0.0   \n",
       "87151                  1.000000                       3.0   \n",
       "\n",
       "       2024-04-01 00:00:00_copy  2024-05-01 00:00:00_copy  \\\n",
       "87136                       1.0                  0.555556   \n",
       "87139                       0.0                  0.000000   \n",
       "87142                       0.0                  0.000000   \n",
       "87143                       0.0                  0.000000   \n",
       "87145                       3.0                  1.000000   \n",
       "87146                       1.0                  0.888889   \n",
       "87147                       5.0                  1.000000   \n",
       "87148                       0.0                  0.000000   \n",
       "87149                       2.0                  0.000000   \n",
       "87151                       3.0                  3.000000   \n",
       "\n",
       "       2024-06-01 00:00:00_copy  2024-07-01 00:00:00_copy  \\\n",
       "87136                  1.000000                  0.000000   \n",
       "87139                  0.000000                  0.000000   \n",
       "87142                  0.000000                  0.000000   \n",
       "87143                  0.000000                  0.000000   \n",
       "87145                  0.000000                  5.888889   \n",
       "87146                  2.000000                  1.000000   \n",
       "87147                  1.000000                  3.055556   \n",
       "87148                  1.000000                  3.000000   \n",
       "87149                  0.000000                  4.000000   \n",
       "87151                  3.166667                  4.000000   \n",
       "\n",
       "       2024-08-01 00:00:00_copy  2024-09-01 00:00:00_copy  \n",
       "87136                  1.000000                  0.000000  \n",
       "87139                  0.000000                  0.000000  \n",
       "87142                  0.000000                  0.000000  \n",
       "87143                  0.000000                  0.000000  \n",
       "87145                  0.000000                  5.000000  \n",
       "87146                  1.000000                  0.888889  \n",
       "87147                  4.000000                  3.055556  \n",
       "87148                  0.000000                  0.000000  \n",
       "87149                  1.833333                  0.000000  \n",
       "87151                  2.000000                  1.000000  \n",
       "\n",
       "[10 rows x 187 columns]"
      ]
     },
     "execution_count": 231,
     "metadata": {},
     "output_type": "execute_result"
    }
   ],
   "source": [
    "pivot_df.tail(10)"
   ]
  },
  {
   "cell_type": "code",
   "execution_count": 232,
   "metadata": {},
   "outputs": [
    {
     "data": {
      "text/html": [
       "<div>\n",
       "<style scoped>\n",
       "    .dataframe tbody tr th:only-of-type {\n",
       "        vertical-align: middle;\n",
       "    }\n",
       "\n",
       "    .dataframe tbody tr th {\n",
       "        vertical-align: top;\n",
       "    }\n",
       "\n",
       "    .dataframe thead th {\n",
       "        text-align: right;\n",
       "    }\n",
       "</style>\n",
       "<table border=\"1\" class=\"dataframe\">\n",
       "  <thead>\n",
       "    <tr style=\"text-align: right;\">\n",
       "      <th></th>\n",
       "      <th>Ultimo Eslabón</th>\n",
       "      <th>Canal 3</th>\n",
       "      <th>2018-01-01 00:00:00</th>\n",
       "      <th>2018-02-01 00:00:00</th>\n",
       "      <th>2018-03-01 00:00:00</th>\n",
       "      <th>2018-04-01 00:00:00</th>\n",
       "      <th>2018-05-01 00:00:00</th>\n",
       "      <th>2018-06-01 00:00:00</th>\n",
       "      <th>2018-07-01 00:00:00</th>\n",
       "      <th>2018-08-01 00:00:00</th>\n",
       "      <th>...</th>\n",
       "      <th>2023-12-01 00:00:00</th>\n",
       "      <th>2024-01-01 00:00:00</th>\n",
       "      <th>2024-02-01 00:00:00</th>\n",
       "      <th>2024-03-01 00:00:00</th>\n",
       "      <th>2024-04-01 00:00:00</th>\n",
       "      <th>2024-05-01 00:00:00</th>\n",
       "      <th>2024-06-01 00:00:00</th>\n",
       "      <th>2024-07-01 00:00:00</th>\n",
       "      <th>2024-08-01 00:00:00</th>\n",
       "      <th>2024-09-01 00:00:00</th>\n",
       "    </tr>\n",
       "  </thead>\n",
       "  <tbody>\n",
       "    <tr>\n",
       "      <th>0</th>\n",
       "      <td>1000078</td>\n",
       "      <td>CL RETAIL</td>\n",
       "      <td>0.0</td>\n",
       "      <td>0.0</td>\n",
       "      <td>0.0</td>\n",
       "      <td>0.0</td>\n",
       "      <td>0.0</td>\n",
       "      <td>0.0</td>\n",
       "      <td>0.0</td>\n",
       "      <td>0.0</td>\n",
       "      <td>...</td>\n",
       "      <td>0.0</td>\n",
       "      <td>0.055556</td>\n",
       "      <td>0.0</td>\n",
       "      <td>0.0</td>\n",
       "      <td>0.0</td>\n",
       "      <td>0.0</td>\n",
       "      <td>0.0</td>\n",
       "      <td>0.0</td>\n",
       "      <td>0.0</td>\n",
       "      <td>0.0</td>\n",
       "    </tr>\n",
       "  </tbody>\n",
       "</table>\n",
       "<p>1 rows × 185 columns</p>\n",
       "</div>"
      ],
      "text/plain": [
       "  Ultimo Eslabón    Canal 3  2018-01-01 00:00:00  2018-02-01 00:00:00  \\\n",
       "0        1000078  CL RETAIL                  0.0                  0.0   \n",
       "\n",
       "   2018-03-01 00:00:00  2018-04-01 00:00:00  2018-05-01 00:00:00  \\\n",
       "0                  0.0                  0.0                  0.0   \n",
       "\n",
       "   2018-06-01 00:00:00  2018-07-01 00:00:00  2018-08-01 00:00:00  ...  \\\n",
       "0                  0.0                  0.0                  0.0  ...   \n",
       "\n",
       "   2023-12-01 00:00:00  2024-01-01 00:00:00  2024-02-01 00:00:00  \\\n",
       "0                  0.0             0.055556                  0.0   \n",
       "\n",
       "   2024-03-01 00:00:00  2024-04-01 00:00:00  2024-05-01 00:00:00  \\\n",
       "0                  0.0                  0.0                  0.0   \n",
       "\n",
       "   2024-06-01 00:00:00  2024-07-01 00:00:00  2024-08-01 00:00:00  \\\n",
       "0                  0.0                  0.0                  0.0   \n",
       "\n",
       "   2024-09-01 00:00:00  \n",
       "0                  0.0  \n",
       "\n",
       "[1 rows x 185 columns]"
      ]
     },
     "execution_count": 232,
     "metadata": {},
     "output_type": "execute_result"
    }
   ],
   "source": [
    "index_suma_outliers = pivot_df.columns.get_loc(\"Suma Outliers\")\n",
    "\n",
    "# Detectar y eliminar columnas que empiezan con \"Ul\" o \"Ca\" después de \"Suma Outliers\"\n",
    "cols_to_drop = [col for col in pivot_df.columns[index_suma_outliers+1:] if col.startswith(\"Ul\") or col.startswith(\"Ca\")]\n",
    "pivot_df.drop(columns=cols_to_drop, inplace=True)\n",
    "\n",
    "# Renombrar columnas que terminan en \"_copy\" adyacentes a \"Suma Outliers\"\n",
    "new_columns = pivot_df.columns.tolist()\n",
    "for i in range(index_suma_outliers + 1, len(new_columns)):\n",
    "    if new_columns[i].endswith(\"_copy\"):\n",
    "        new_columns[i] = new_columns[i].replace(\"_copy\", \"\")\n",
    "\n",
    "pivot_df.columns = new_columns\n",
    "\n",
    "# Mostrar el DataFrame modificado\n",
    "pivot_df.head(1)"
   ]
  },
  {
   "cell_type": "code",
   "execution_count": 233,
   "metadata": {},
   "outputs": [
    {
     "data": {
      "text/plain": [
       "(48001, 185)"
      ]
     },
     "execution_count": 233,
     "metadata": {},
     "output_type": "execute_result"
    }
   ],
   "source": [
    "pivot_df.shape"
   ]
  },
  {
   "cell_type": "code",
   "execution_count": 234,
   "metadata": {},
   "outputs": [
    {
     "name": "stdout",
     "output_type": "stream",
     "text": [
      "Archivo CSV guardado en: C:\\Users\\etorres.DERCOPARTS\\DERCO CHILE REPUESTOS SpA\\Planificación y abastecimiento - Documentos\\Planificación y Compras Anastasia\\Carga Historia de Venta\\2024-10 Ciclo Nov-24\\AFM\\SELL OUT\\10.2024 Sell_Out September-24 Corregido.csv\n",
      "Archivo Excel guardado en: C:\\Users\\etorres.DERCOPARTS\\DERCO CHILE REPUESTOS SpA\\Planificación y abastecimiento - Documentos\\Planificación y Compras Anastasia\\Carga Historia de Venta\\2024-10 Ciclo Nov-24\\AFM\\SELL OUT\\10.2024 Sell_Out September-24 Corregido.xlsx\n"
     ]
    }
   ],
   "source": [
    "pivot_df.to_csv(csv_path, sep=';', decimal=',', index=False)\n",
    "print(f\"Archivo CSV guardado en: {csv_path}\")\n",
    "pivot_df.to_excel(excel_path, index=False)\n",
    "print(f\"Archivo Excel guardado en: {excel_path}\")"
   ]
  },
  {
   "cell_type": "markdown",
   "metadata": {},
   "source": [
    "GUARDAR NUEVA HISTORIA"
   ]
  },
  {
   "cell_type": "code",
   "execution_count": 235,
   "metadata": {},
   "outputs": [],
   "source": [
    "# import os\n",
    "# import datetime\n",
    "\n",
    "# # Obtener el usuario automáticamente\n",
    "# user = os.getlogin()\n",
    "\n",
    "# # Definir la ruta base y agregar la fecha actual\n",
    "# ruta_base = f\"C:\\\\Users\\\\{user}\\\\Inchcape\\\\Planificación y abastecimiento AFM - Documentos\\\\Planificación y Compras Anastasia\\\\Carga Historia de Venta\"\n",
    "# fecha_actual = datetime.datetime.now().strftime(\"%Y-%m-%d\")\n",
    "# nombre_archivo = f\"Historia_Sell_In\"\n",
    "\n",
    "# # Definir las rutas completas para cada formato\n",
    "# ruta_csv = os.path.join(ruta_base, f\"{nombre_archivo}.csv\")\n",
    "# ruta_parquet = os.path.join(ruta_base, f\"{nombre_archivo}.parquet\")\n",
    "# ruta_feather = os.path.join(ruta_base, f\"{nombre_archivo}.feather\")\n",
    "\n",
    "# # Guardar el DataFrame en cada formato\n",
    "## df_combinado_actualizado2.to_csv(ruta_csv, sep=';', decimal=',', index=False)\n",
    "# df_combinado_actualizado2.to_parquet(ruta_parquet)\n",
    "## df_combinado_actualizado2.to_feather(ruta_feather)"
   ]
  }
 ],
 "metadata": {
  "kernelspec": {
   "display_name": "Python 3",
   "language": "python",
   "name": "python3"
  },
  "language_info": {
   "codemirror_mode": {
    "name": "ipython",
    "version": 3
   },
   "file_extension": ".py",
   "mimetype": "text/x-python",
   "name": "python",
   "nbconvert_exporter": "python",
   "pygments_lexer": "ipython3",
   "version": "3.12.4"
  }
 },
 "nbformat": 4,
 "nbformat_minor": 2
}
