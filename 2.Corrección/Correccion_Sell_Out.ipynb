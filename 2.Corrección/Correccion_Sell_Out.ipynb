{
 "cells": [
  {
   "cell_type": "code",
   "execution_count": 15,
   "metadata": {},
   "outputs": [
    {
     "name": "stdout",
     "output_type": "stream",
     "text": [
      "(1380003, 10)\n",
      "Mes               datetime64[ns]\n",
      "Material                  object\n",
      "Canal                     object\n",
      "Venta UMB                float64\n",
      "Fuente                    object\n",
      "Ultimo Eslabón            object\n",
      "Tipo                      object\n",
      "Canal 2                   object\n",
      "Nombre Sector             object\n",
      "Canal 3                   object\n",
      "dtype: object\n"
     ]
    }
   ],
   "source": [
    "import os\n",
    "from datetime import datetime\n",
    "import pandas as pd\n",
    "\n",
    "usuario = os.getlogin()\n",
    "\n",
    "ruta_manual = os.path.join(\n",
    "    os.path.expanduser('~'),\n",
    "    'DERCO CHILE REPUESTOS SpA',\n",
    "    'Planificación y abastecimiento - Documentos',\n",
    "    'Planificación y Compras AFM',\n",
    "    'S&OP Demanda',\n",
    "    'Codigos Demanda',\n",
    "    'Parquets',\n",
    "    'Historia_Sell_Out.parquet'\n",
    ")\n",
    "\n",
    "two_months_ago = (datetime.now() - pd.DateOffset(months=2)).strftime('%Y-%m')\n",
    "\n",
    "ruta_automatica = os.path.join(\n",
    "    os.path.expanduser('~'),\n",
    "    'DERCO CHILE REPUESTOS SpA',\n",
    "    'Planificación y abastecimiento - Documentos',\n",
    "    'Planificación y Compras AFM',\n",
    "    'S&OP Demanda',\n",
    "    'Codigos Demanda',\n",
    "    'Parquets',\n",
    "    f'Historia_Sell_Out ({two_months_ago}).parquet'\n",
    ")\n",
    "\n",
    "sellout_concat = pd.read_parquet(ruta_automatica)\n",
    "\n",
    "print(sellout_concat.shape)\n",
    "print(sellout_concat.dtypes)\n",
    "# (1349525, 11) SHAPE\n",
    "# Canal                     object\n",
    "# Material                  object\n",
    "# Venta UMB                float64\n",
    "# Mes               datetime64[ns]\n",
    "# SI/SO                     object\n",
    "# Ultimo Eslabón            object\n",
    "# Tipo                      object\n",
    "# Fuente                    object\n",
    "# Canal 2                   object\n",
    "# Canal 3                   object\n",
    "# Canal 2                   object\n",
    "# dtype: object"
   ]
  },
  {
   "cell_type": "code",
   "execution_count": 16,
   "metadata": {},
   "outputs": [
    {
     "data": {
      "text/html": [
       "<div>\n",
       "<style scoped>\n",
       "    .dataframe tbody tr th:only-of-type {\n",
       "        vertical-align: middle;\n",
       "    }\n",
       "\n",
       "    .dataframe tbody tr th {\n",
       "        vertical-align: top;\n",
       "    }\n",
       "\n",
       "    .dataframe thead th {\n",
       "        text-align: right;\n",
       "    }\n",
       "</style>\n",
       "<table border=\"1\" class=\"dataframe\">\n",
       "  <thead>\n",
       "    <tr style=\"text-align: right;\">\n",
       "      <th></th>\n",
       "      <th>Mes</th>\n",
       "      <th>Material</th>\n",
       "      <th>Canal</th>\n",
       "      <th>Venta UMB</th>\n",
       "      <th>Fuente</th>\n",
       "      <th>Ultimo Eslabón</th>\n",
       "      <th>Tipo</th>\n",
       "      <th>Canal 2</th>\n",
       "      <th>Nombre Sector</th>\n",
       "      <th>Canal 3</th>\n",
       "    </tr>\n",
       "  </thead>\n",
       "  <tbody>\n",
       "    <tr>\n",
       "      <th>0</th>\n",
       "      <td>2021-06-01</td>\n",
       "      <td>1000147</td>\n",
       "      <td>AP</td>\n",
       "      <td>52.0</td>\n",
       "      <td>Sell Out MB51 - SISO</td>\n",
       "      <td>1000147</td>\n",
       "      <td>ACC</td>\n",
       "      <td>Retail</td>\n",
       "      <td>ACC</td>\n",
       "      <td>CL RETAIL</td>\n",
       "    </tr>\n",
       "    <tr>\n",
       "      <th>1</th>\n",
       "      <td>2021-05-01</td>\n",
       "      <td>1000147</td>\n",
       "      <td>AP</td>\n",
       "      <td>40.0</td>\n",
       "      <td>Sell Out MB51 - SISO</td>\n",
       "      <td>1000147</td>\n",
       "      <td>ACC</td>\n",
       "      <td>Retail</td>\n",
       "      <td>ACC</td>\n",
       "      <td>CL RETAIL</td>\n",
       "    </tr>\n",
       "    <tr>\n",
       "      <th>2</th>\n",
       "      <td>2021-04-01</td>\n",
       "      <td>1000147</td>\n",
       "      <td>AP</td>\n",
       "      <td>18.0</td>\n",
       "      <td>Sell Out MB51 - SISO</td>\n",
       "      <td>1000147</td>\n",
       "      <td>ACC</td>\n",
       "      <td>Retail</td>\n",
       "      <td>ACC</td>\n",
       "      <td>CL RETAIL</td>\n",
       "    </tr>\n",
       "    <tr>\n",
       "      <th>3</th>\n",
       "      <td>2021-03-01</td>\n",
       "      <td>1000147</td>\n",
       "      <td>AP</td>\n",
       "      <td>34.0</td>\n",
       "      <td>Sell Out MB51 - SISO</td>\n",
       "      <td>1000147</td>\n",
       "      <td>ACC</td>\n",
       "      <td>Retail</td>\n",
       "      <td>ACC</td>\n",
       "      <td>CL RETAIL</td>\n",
       "    </tr>\n",
       "    <tr>\n",
       "      <th>4</th>\n",
       "      <td>2021-02-01</td>\n",
       "      <td>1000147</td>\n",
       "      <td>AP</td>\n",
       "      <td>41.0</td>\n",
       "      <td>Sell Out MB51 - SISO</td>\n",
       "      <td>1000147</td>\n",
       "      <td>ACC</td>\n",
       "      <td>Retail</td>\n",
       "      <td>ACC</td>\n",
       "      <td>CL RETAIL</td>\n",
       "    </tr>\n",
       "    <tr>\n",
       "      <th>...</th>\n",
       "      <td>...</td>\n",
       "      <td>...</td>\n",
       "      <td>...</td>\n",
       "      <td>...</td>\n",
       "      <td>...</td>\n",
       "      <td>...</td>\n",
       "      <td>...</td>\n",
       "      <td>...</td>\n",
       "      <td>...</td>\n",
       "      <td>...</td>\n",
       "    </tr>\n",
       "    <tr>\n",
       "      <th>1379998</th>\n",
       "      <td>2024-06-01</td>\n",
       "      <td>1171486</td>\n",
       "      <td>Retail</td>\n",
       "      <td>3.0</td>\n",
       "      <td>Sell Out RTL Jun-24</td>\n",
       "      <td>1171486</td>\n",
       "      <td>None</td>\n",
       "      <td>Retail</td>\n",
       "      <td>BAT</td>\n",
       "      <td>CL RETAIL</td>\n",
       "    </tr>\n",
       "    <tr>\n",
       "      <th>1379999</th>\n",
       "      <td>2024-06-01</td>\n",
       "      <td>118236</td>\n",
       "      <td>Retail</td>\n",
       "      <td>1.0</td>\n",
       "      <td>Sell Out RTL Jun-24</td>\n",
       "      <td>118236</td>\n",
       "      <td>None</td>\n",
       "      <td>Retail</td>\n",
       "      <td>ACC</td>\n",
       "      <td>CL RETAIL</td>\n",
       "    </tr>\n",
       "    <tr>\n",
       "      <th>1380000</th>\n",
       "      <td>2024-06-01</td>\n",
       "      <td>367092</td>\n",
       "      <td>Retail</td>\n",
       "      <td>1.0</td>\n",
       "      <td>Sell Out RTL Jun-24</td>\n",
       "      <td>367092</td>\n",
       "      <td>None</td>\n",
       "      <td>Retail</td>\n",
       "      <td>BAT</td>\n",
       "      <td>CL RETAIL</td>\n",
       "    </tr>\n",
       "    <tr>\n",
       "      <th>1380001</th>\n",
       "      <td>2024-06-01</td>\n",
       "      <td>488676</td>\n",
       "      <td>Retail</td>\n",
       "      <td>1.0</td>\n",
       "      <td>Sell Out RTL Jun-24</td>\n",
       "      <td>488676</td>\n",
       "      <td>None</td>\n",
       "      <td>Retail</td>\n",
       "      <td>RMAQ</td>\n",
       "      <td>CL RETAIL</td>\n",
       "    </tr>\n",
       "    <tr>\n",
       "      <th>1380002</th>\n",
       "      <td>2024-06-01</td>\n",
       "      <td>625127</td>\n",
       "      <td>Retail</td>\n",
       "      <td>1.0</td>\n",
       "      <td>Sell Out RTL Jun-24</td>\n",
       "      <td>625127</td>\n",
       "      <td>None</td>\n",
       "      <td>Retail</td>\n",
       "      <td>JCB</td>\n",
       "      <td>CL RETAIL</td>\n",
       "    </tr>\n",
       "  </tbody>\n",
       "</table>\n",
       "<p>1380003 rows × 10 columns</p>\n",
       "</div>"
      ],
      "text/plain": [
       "               Mes Material   Canal  Venta UMB                Fuente  \\\n",
       "0       2021-06-01  1000147      AP       52.0  Sell Out MB51 - SISO   \n",
       "1       2021-05-01  1000147      AP       40.0  Sell Out MB51 - SISO   \n",
       "2       2021-04-01  1000147      AP       18.0  Sell Out MB51 - SISO   \n",
       "3       2021-03-01  1000147      AP       34.0  Sell Out MB51 - SISO   \n",
       "4       2021-02-01  1000147      AP       41.0  Sell Out MB51 - SISO   \n",
       "...            ...      ...     ...        ...                   ...   \n",
       "1379998 2024-06-01  1171486  Retail        3.0   Sell Out RTL Jun-24   \n",
       "1379999 2024-06-01   118236  Retail        1.0   Sell Out RTL Jun-24   \n",
       "1380000 2024-06-01   367092  Retail        1.0   Sell Out RTL Jun-24   \n",
       "1380001 2024-06-01   488676  Retail        1.0   Sell Out RTL Jun-24   \n",
       "1380002 2024-06-01   625127  Retail        1.0   Sell Out RTL Jun-24   \n",
       "\n",
       "        Ultimo Eslabón  Tipo Canal 2 Nombre Sector    Canal 3  \n",
       "0              1000147   ACC  Retail           ACC  CL RETAIL  \n",
       "1              1000147   ACC  Retail           ACC  CL RETAIL  \n",
       "2              1000147   ACC  Retail           ACC  CL RETAIL  \n",
       "3              1000147   ACC  Retail           ACC  CL RETAIL  \n",
       "4              1000147   ACC  Retail           ACC  CL RETAIL  \n",
       "...                ...   ...     ...           ...        ...  \n",
       "1379998        1171486  None  Retail           BAT  CL RETAIL  \n",
       "1379999         118236  None  Retail           ACC  CL RETAIL  \n",
       "1380000         367092  None  Retail           BAT  CL RETAIL  \n",
       "1380001         488676  None  Retail          RMAQ  CL RETAIL  \n",
       "1380002         625127  None  Retail           JCB  CL RETAIL  \n",
       "\n",
       "[1380003 rows x 10 columns]"
      ]
     },
     "execution_count": 16,
     "metadata": {},
     "output_type": "execute_result"
    }
   ],
   "source": [
    "sellout_concat"
   ]
  },
  {
   "cell_type": "markdown",
   "metadata": {},
   "source": [
    "Historia Terminada, agregando SellOUT GT y luego Sellout"
   ]
  },
  {
   "cell_type": "code",
   "execution_count": 17,
   "metadata": {},
   "outputs": [
    {
     "name": "stdout",
     "output_type": "stream",
     "text": [
      "Se leyó el archivo de Sell Out: C:\\Users\\etorres.DERCOPARTS\\DERCO CHILE REPUESTOS SpA\\Planificación y abastecimiento - Documentos\\Planificación y Compras Ventas\\Venta Historica Mensual\\2024\\2024-08\\2024.08 Sell Out GT Histórico Jul-24.xlsx\n"
     ]
    }
   ],
   "source": [
    "import os\n",
    "import pandas as pd\n",
    "import datetime as datetime\n",
    "# Obtener el año y mes actual en el formato YYYY y MM\n",
    "fecha_actual = pd.Timestamp.now()\n",
    "año_actual = fecha_actual.year\n",
    "mes_actual = fecha_actual.strftime(\"%m\")\n",
    "\n",
    "# Construir la ruta completa al directorio que contiene los archivos\n",
    "ruta_base_usuario = os.path.expanduser(\"~\")\n",
    "ruta_directorio_base = os.path.join(ruta_base_usuario, \"DERCO CHILE REPUESTOS SpA\", \"Planificación y abastecimiento - Documentos\", \"Planificación y Compras Ventas\", \"Venta Historica Mensual\")\n",
    "ruta_directorio = os.path.join(ruta_directorio_base, str(año_actual), f\"{año_actual}-{mes_actual}\")\n",
    "\n",
    "# Verificar si el directorio existe\n",
    "if os.path.exists(ruta_directorio):\n",
    "    archivo_selloutGT = None\n",
    "    for archivoGT in os.listdir(ruta_directorio):\n",
    "        if \"Sell Out\" in archivoGT and \"GT\" in archivoGT:\n",
    "            archivo_selloutGT = archivoGT\n",
    "            break\n",
    "\n",
    "    if archivo_selloutGT:\n",
    "        ruta_archivo_selloutGT = os.path.join(ruta_directorio, archivo_selloutGT)\n",
    "        try:\n",
    "            # Leer el archivo de Excel desde la tercera fila como encabezado\n",
    "            selloutGT = pd.read_excel(ruta_archivo_selloutGT, sheet_name=\"Sell Out GT\", header=2)\n",
    "            print(\"Se leyó el archivo de Sell Out:\", ruta_archivo_selloutGT)\n",
    "        except Exception as e:\n",
    "            print(\"Error al leer el archivo de Excel:\", e)\n",
    "    else:\n",
    "        print(\"No se encontró ningún archivo con 'Sell Out' en su nombre.\")\n",
    "else:\n",
    "    print(f\"El directorio {ruta_directorio} no existe.\")\n"
   ]
  },
  {
   "cell_type": "code",
   "execution_count": 18,
   "metadata": {},
   "outputs": [
    {
     "data": {
      "text/plain": [
       "60456084.08033332"
      ]
     },
     "execution_count": 18,
     "metadata": {},
     "output_type": "execute_result"
    }
   ],
   "source": [
    "sumaconcat = sellout_concat['Venta UMB'].sum()\n",
    "sumaconcat\n",
    "#58.554.466"
   ]
  },
  {
   "cell_type": "code",
   "execution_count": 19,
   "metadata": {},
   "outputs": [
    {
     "data": {
      "text/html": [
       "<div>\n",
       "<style scoped>\n",
       "    .dataframe tbody tr th:only-of-type {\n",
       "        vertical-align: middle;\n",
       "    }\n",
       "\n",
       "    .dataframe tbody tr th {\n",
       "        vertical-align: top;\n",
       "    }\n",
       "\n",
       "    .dataframe thead th {\n",
       "        text-align: right;\n",
       "    }\n",
       "</style>\n",
       "<table border=\"1\" class=\"dataframe\">\n",
       "  <thead>\n",
       "    <tr style=\"text-align: right;\">\n",
       "      <th></th>\n",
       "      <th>Material S4</th>\n",
       "      <th>Cliente</th>\n",
       "      <th>SO Sep-22</th>\n",
       "      <th>SO Oct-22</th>\n",
       "      <th>SO Nov-22</th>\n",
       "      <th>SO Dic-22</th>\n",
       "      <th>SO Ene-23</th>\n",
       "      <th>SO Feb-23</th>\n",
       "      <th>SO Mar-23</th>\n",
       "      <th>SO Abr-23</th>\n",
       "      <th>...</th>\n",
       "      <th>SO NOV-23</th>\n",
       "      <th>SO DIC-23</th>\n",
       "      <th>SO ENE-24</th>\n",
       "      <th>SO FEB-24</th>\n",
       "      <th>SO MAR-24</th>\n",
       "      <th>SO ABR-24</th>\n",
       "      <th>SO MAY-24</th>\n",
       "      <th>SO JUN-24</th>\n",
       "      <th>SO JUL-24</th>\n",
       "      <th>ID</th>\n",
       "    </tr>\n",
       "  </thead>\n",
       "  <tbody>\n",
       "    <tr>\n",
       "      <th>0</th>\n",
       "      <td>1001562</td>\n",
       "      <td>Walmart</td>\n",
       "      <td>0</td>\n",
       "      <td>0</td>\n",
       "      <td>0</td>\n",
       "      <td>0</td>\n",
       "      <td>0</td>\n",
       "      <td>0</td>\n",
       "      <td>0</td>\n",
       "      <td>0</td>\n",
       "      <td>...</td>\n",
       "      <td>0</td>\n",
       "      <td>0</td>\n",
       "      <td>0</td>\n",
       "      <td>0</td>\n",
       "      <td>0</td>\n",
       "      <td>0</td>\n",
       "      <td>0</td>\n",
       "      <td>0</td>\n",
       "      <td>0</td>\n",
       "      <td>1001562Walmart</td>\n",
       "    </tr>\n",
       "  </tbody>\n",
       "</table>\n",
       "<p>1 rows × 26 columns</p>\n",
       "</div>"
      ],
      "text/plain": [
       "  Material S4  Cliente  SO Sep-22  SO Oct-22  SO Nov-22  SO Dic-22  SO Ene-23  \\\n",
       "0     1001562  Walmart          0          0          0          0          0   \n",
       "\n",
       "   SO Feb-23  SO Mar-23  SO Abr-23  ...  SO NOV-23  SO DIC-23  SO ENE-24  \\\n",
       "0          0          0          0  ...          0          0          0   \n",
       "\n",
       "   SO FEB-24  SO MAR-24  SO ABR-24  SO MAY-24  SO JUN-24  SO JUL-24  \\\n",
       "0          0          0          0          0          0          0   \n",
       "\n",
       "               ID  \n",
       "0  1001562Walmart  \n",
       "\n",
       "[1 rows x 26 columns]"
      ]
     },
     "execution_count": 19,
     "metadata": {},
     "output_type": "execute_result"
    }
   ],
   "source": [
    "selloutGT.head(1)"
   ]
  },
  {
   "cell_type": "code",
   "execution_count": 20,
   "metadata": {},
   "outputs": [
    {
     "data": {
      "text/html": [
       "<div>\n",
       "<style scoped>\n",
       "    .dataframe tbody tr th:only-of-type {\n",
       "        vertical-align: middle;\n",
       "    }\n",
       "\n",
       "    .dataframe tbody tr th {\n",
       "        vertical-align: top;\n",
       "    }\n",
       "\n",
       "    .dataframe thead th {\n",
       "        text-align: right;\n",
       "    }\n",
       "</style>\n",
       "<table border=\"1\" class=\"dataframe\">\n",
       "  <thead>\n",
       "    <tr style=\"text-align: right;\">\n",
       "      <th></th>\n",
       "      <th>SO JUL-24</th>\n",
       "      <th>ID</th>\n",
       "      <th>Material S4</th>\n",
       "      <th>Cliente</th>\n",
       "    </tr>\n",
       "  </thead>\n",
       "  <tbody>\n",
       "    <tr>\n",
       "      <th>0</th>\n",
       "      <td>0</td>\n",
       "      <td>1001562Walmart</td>\n",
       "      <td>1001562</td>\n",
       "      <td>Walmart</td>\n",
       "    </tr>\n",
       "  </tbody>\n",
       "</table>\n",
       "</div>"
      ],
      "text/plain": [
       "   SO JUL-24              ID Material S4  Cliente\n",
       "0          0  1001562Walmart     1001562  Walmart"
      ]
     },
     "execution_count": 20,
     "metadata": {},
     "output_type": "execute_result"
    }
   ],
   "source": [
    "# Asumiendo que selloutGT ya ha sido leído correctamente en el DataFrame\n",
    "\n",
    "# Reordenar las columnas para que la penúltima, última, primera y segunda sean las únicas que permanezcan\n",
    "columnas_a_mantener = [selloutGT.columns[-2], selloutGT.columns[-1], selloutGT.columns[0], selloutGT.columns[1]]\n",
    "selloutGT1 = selloutGT[columnas_a_mantener]\n",
    "selloutGT1.head(1)"
   ]
  },
  {
   "cell_type": "code",
   "execution_count": 21,
   "metadata": {},
   "outputs": [
    {
     "name": "stdout",
     "output_type": "stream",
     "text": [
      "Muestra del DataFrame:\n",
      "   Venta           ID Material S4 Cliente\n",
      "5    208  1004224Easy     1004224    Easy\n",
      "\n",
      "Suma de la columna 'Venta': 127220\n"
     ]
    }
   ],
   "source": [
    "# Renombrar la primera columna a 'Venta' y convertirla a tipo int\n",
    "selloutGT1 = selloutGT1.rename(columns={selloutGT1.columns[0]: 'Venta'})\n",
    "selloutGT1.loc[:, 'Venta'] = selloutGT1['Venta'].astype(int)\n",
    "\n",
    "# Filtrar solo los valores mayores a 0\n",
    "selloutGT1 = selloutGT1[selloutGT1['Venta'] > 0].copy()\n",
    "\n",
    "# Mostrar una muestra del DataFrame y la suma de la columna 'Venta'\n",
    "muestra = selloutGT1.head(1)  # Muestra de los primeros 5 registros\n",
    "suma_ventas = selloutGT1['Venta'].sum()\n",
    "\n",
    "print(\"Muestra del DataFrame:\")\n",
    "print(muestra)\n",
    "print(f\"\\nSuma de la columna 'Venta': {suma_ventas}\")"
   ]
  },
  {
   "cell_type": "code",
   "execution_count": 22,
   "metadata": {},
   "outputs": [
    {
     "name": "stdout",
     "output_type": "stream",
     "text": [
      "Muestra del DataFrame:\n",
      "   Venta           ID Material S4 Cliente\n",
      "5    208  1004224Easy     1004224    Easy\n",
      "\n",
      "Suma de la columna 'Venta': 63610\n"
     ]
    }
   ],
   "source": [
    "selloutGT1 = selloutGT1[~selloutGT1['Material S4'].str.contains('Total', case=False, na=False)]\n",
    "# Mostrar el DataFrame resultante\n",
    "suma_ventas = selloutGT1['Venta'].sum()\n",
    "\n",
    "print(\"Muestra del DataFrame:\")\n",
    "print(muestra)\n",
    "print(f\"\\nSuma de la columna 'Venta': {suma_ventas}\")"
   ]
  },
  {
   "cell_type": "code",
   "execution_count": 23,
   "metadata": {},
   "outputs": [
    {
     "data": {
      "text/plain": [
       "(302, 4)"
      ]
     },
     "execution_count": 23,
     "metadata": {},
     "output_type": "execute_result"
    }
   ],
   "source": [
    "selloutGT1.shape"
   ]
  },
  {
   "cell_type": "code",
   "execution_count": 24,
   "metadata": {},
   "outputs": [
    {
     "data": {
      "text/html": [
       "<div>\n",
       "<style scoped>\n",
       "    .dataframe tbody tr th:only-of-type {\n",
       "        vertical-align: middle;\n",
       "    }\n",
       "\n",
       "    .dataframe tbody tr th {\n",
       "        vertical-align: top;\n",
       "    }\n",
       "\n",
       "    .dataframe thead th {\n",
       "        text-align: right;\n",
       "    }\n",
       "</style>\n",
       "<table border=\"1\" class=\"dataframe\">\n",
       "  <thead>\n",
       "    <tr style=\"text-align: right;\">\n",
       "      <th></th>\n",
       "      <th>Venta</th>\n",
       "      <th>ID</th>\n",
       "      <th>Material S4</th>\n",
       "      <th>Cliente</th>\n",
       "      <th>Fuente</th>\n",
       "      <th>SI/SO</th>\n",
       "      <th>Mes</th>\n",
       "    </tr>\n",
       "  </thead>\n",
       "  <tbody>\n",
       "    <tr>\n",
       "      <th>5</th>\n",
       "      <td>208</td>\n",
       "      <td>1004224Easy</td>\n",
       "      <td>1004224</td>\n",
       "      <td>Easy</td>\n",
       "      <td>Sell Out MB51 - SISO</td>\n",
       "      <td>SO</td>\n",
       "      <td>2024-07-01</td>\n",
       "    </tr>\n",
       "  </tbody>\n",
       "</table>\n",
       "</div>"
      ],
      "text/plain": [
       "   Venta           ID Material S4 Cliente                Fuente SI/SO  \\\n",
       "5    208  1004224Easy     1004224    Easy  Sell Out MB51 - SISO    SO   \n",
       "\n",
       "          Mes  \n",
       "5  2024-07-01  "
      ]
     },
     "execution_count": 24,
     "metadata": {},
     "output_type": "execute_result"
    }
   ],
   "source": [
    "import pandas as pd\n",
    "from datetime import datetime, timedelta\n",
    "# Agregar las nuevas columnas utilizando .loc para evitar SettingWithCopyWarning\n",
    "selloutGT1.loc[:, 'Fuente'] = 'Sell Out MB51 - SISO'\n",
    "selloutGT1.loc[:, 'SI/SO'] = 'SO'\n",
    "\n",
    "# Calcular el primer día del mes anterior\n",
    "primer_dia_mes_anterior = (fecha_actual.replace(day=1) - timedelta(days=1)).replace(day=1)\n",
    "\n",
    "# Crear una columna 'Mes' con el formato especificado\n",
    "selloutGT1.loc[:, 'Mes'] = primer_dia_mes_anterior.strftime('%Y-%m-%d')\n",
    "selloutGT1.head(1)"
   ]
  },
  {
   "cell_type": "code",
   "execution_count": 25,
   "metadata": {},
   "outputs": [
    {
     "data": {
      "text/plain": [
       "Venta           int64\n",
       "ID             object\n",
       "Material S4    object\n",
       "Cliente        object\n",
       "Fuente         object\n",
       "SI/SO          object\n",
       "Mes            object\n",
       "dtype: object"
      ]
     },
     "execution_count": 25,
     "metadata": {},
     "output_type": "execute_result"
    }
   ],
   "source": [
    "selloutGT1.dtypes"
   ]
  },
  {
   "cell_type": "code",
   "execution_count": 26,
   "metadata": {},
   "outputs": [
    {
     "data": {
      "text/html": [
       "<div>\n",
       "<style scoped>\n",
       "    .dataframe tbody tr th:only-of-type {\n",
       "        vertical-align: middle;\n",
       "    }\n",
       "\n",
       "    .dataframe tbody tr th {\n",
       "        vertical-align: top;\n",
       "    }\n",
       "\n",
       "    .dataframe thead th {\n",
       "        text-align: right;\n",
       "    }\n",
       "</style>\n",
       "<table border=\"1\" class=\"dataframe\">\n",
       "  <thead>\n",
       "    <tr style=\"text-align: right;\">\n",
       "      <th></th>\n",
       "      <th>Mes</th>\n",
       "      <th>Material</th>\n",
       "      <th>Canal</th>\n",
       "      <th>Venta UMB</th>\n",
       "      <th>Fuente</th>\n",
       "      <th>Ultimo Eslabón</th>\n",
       "      <th>Tipo</th>\n",
       "      <th>Canal 2</th>\n",
       "      <th>Nombre Sector</th>\n",
       "      <th>Canal 3</th>\n",
       "    </tr>\n",
       "  </thead>\n",
       "  <tbody>\n",
       "    <tr>\n",
       "      <th>1380002</th>\n",
       "      <td>2024-06-01</td>\n",
       "      <td>625127</td>\n",
       "      <td>Retail</td>\n",
       "      <td>1.0</td>\n",
       "      <td>Sell Out RTL Jun-24</td>\n",
       "      <td>625127</td>\n",
       "      <td>None</td>\n",
       "      <td>Retail</td>\n",
       "      <td>JCB</td>\n",
       "      <td>CL RETAIL</td>\n",
       "    </tr>\n",
       "  </tbody>\n",
       "</table>\n",
       "</div>"
      ],
      "text/plain": [
       "               Mes Material   Canal  Venta UMB               Fuente  \\\n",
       "1380002 2024-06-01   625127  Retail        1.0  Sell Out RTL Jun-24   \n",
       "\n",
       "        Ultimo Eslabón  Tipo Canal 2 Nombre Sector    Canal 3  \n",
       "1380002         625127  None  Retail           JCB  CL RETAIL  "
      ]
     },
     "execution_count": 26,
     "metadata": {},
     "output_type": "execute_result"
    }
   ],
   "source": [
    "sellout_concat.tail(1)"
   ]
  },
  {
   "cell_type": "code",
   "execution_count": 27,
   "metadata": {},
   "outputs": [
    {
     "data": {
      "text/plain": [
       "63610"
      ]
     },
     "execution_count": 27,
     "metadata": {},
     "output_type": "execute_result"
    }
   ],
   "source": [
    "v1 = selloutGT1['Venta'].sum()\n",
    "v1"
   ]
  },
  {
   "cell_type": "code",
   "execution_count": 28,
   "metadata": {},
   "outputs": [
    {
     "data": {
      "text/plain": [
       "Index(['Mes', 'Material', 'Canal', 'Venta UMB', 'Fuente', 'Ultimo Eslabón',\n",
       "       'Tipo', 'Canal 2', 'Nombre Sector', 'Canal 3'],\n",
       "      dtype='object')"
      ]
     },
     "execution_count": 28,
     "metadata": {},
     "output_type": "execute_result"
    }
   ],
   "source": [
    "sellout_concat.columns"
   ]
  },
  {
   "cell_type": "code",
   "execution_count": 29,
   "metadata": {},
   "outputs": [
    {
     "data": {
      "text/plain": [
       "Index(['Venta', 'ID', 'Material S4', 'Cliente', 'Fuente', 'SI/SO', 'Mes'], dtype='object')"
      ]
     },
     "execution_count": 29,
     "metadata": {},
     "output_type": "execute_result"
    }
   ],
   "source": [
    "selloutGT1.columns"
   ]
  },
  {
   "cell_type": "code",
   "execution_count": 30,
   "metadata": {},
   "outputs": [
    {
     "data": {
      "text/plain": [
       "60456084.08033332"
      ]
     },
     "execution_count": 30,
     "metadata": {},
     "output_type": "execute_result"
    }
   ],
   "source": [
    "v1 = sellout_concat['Venta UMB'].sum()\n",
    "v1"
   ]
  },
  {
   "cell_type": "code",
   "execution_count": 31,
   "metadata": {},
   "outputs": [],
   "source": [
    "\n",
    "selloutGT1.rename(columns={'Material S4': 'Material', 'Venta': 'Venta UMB', 'Cliente': 'Canal'}, inplace=True)\n",
    "\n",
    "# Seleccionar todas las columnas de selloutGT1 que coincidan con las de sellout_concat\n",
    "columnas_comunes = [col for col in selloutGT1.columns if col in sellout_concat.columns]\n",
    "selloutGT1 = selloutGT1[columnas_comunes]"
   ]
  },
  {
   "cell_type": "code",
   "execution_count": 32,
   "metadata": {},
   "outputs": [
    {
     "data": {
      "text/plain": [
       "['Venta UMB', 'Material', 'Canal', 'Fuente', 'Mes']"
      ]
     },
     "execution_count": 32,
     "metadata": {},
     "output_type": "execute_result"
    }
   ],
   "source": [
    "columnas_comunes"
   ]
  },
  {
   "cell_type": "code",
   "execution_count": 33,
   "metadata": {},
   "outputs": [
    {
     "name": "stdout",
     "output_type": "stream",
     "text": [
      "DataFrame concatenado:\n",
      "         Mes Material Canal  Venta UMB                Fuente Ultimo Eslabón  \\\n",
      "0 2021-06-01  1000147    AP       52.0  Sell Out MB51 - SISO        1000147   \n",
      "\n",
      "  Tipo Canal 2 Nombre Sector    Canal 3  \n",
      "0  ACC  Retail           ACC  CL RETAIL  \n",
      "\n",
      "Suma de la columna 'Venta UMB': 60456084.08033332\n"
     ]
    }
   ],
   "source": [
    "\n",
    "suma_ventas = sellout_concat['Venta UMB'].sum()\n",
    "\n",
    "# Mostrar el DataFrame resultante y la suma de la columna 'Venta UMB'\n",
    "print(\"DataFrame concatenado:\")\n",
    "print(sellout_concat.head(1))\n",
    "print(f\"\\nSuma de la columna 'Venta UMB': {suma_ventas}\")\n"
   ]
  },
  {
   "cell_type": "code",
   "execution_count": 34,
   "metadata": {},
   "outputs": [
    {
     "data": {
      "text/plain": [
       "60456084.08033332"
      ]
     },
     "execution_count": 34,
     "metadata": {},
     "output_type": "execute_result"
    }
   ],
   "source": [
    "v3 = sellout_concat['Venta UMB'].sum()\n",
    "v3\n",
    "#58624420.08033333\n",
    "#59807395.08033334"
   ]
  },
  {
   "cell_type": "code",
   "execution_count": 35,
   "metadata": {},
   "outputs": [
    {
     "data": {
      "text/html": [
       "<div>\n",
       "<style scoped>\n",
       "    .dataframe tbody tr th:only-of-type {\n",
       "        vertical-align: middle;\n",
       "    }\n",
       "\n",
       "    .dataframe tbody tr th {\n",
       "        vertical-align: top;\n",
       "    }\n",
       "\n",
       "    .dataframe thead th {\n",
       "        text-align: right;\n",
       "    }\n",
       "</style>\n",
       "<table border=\"1\" class=\"dataframe\">\n",
       "  <thead>\n",
       "    <tr style=\"text-align: right;\">\n",
       "      <th></th>\n",
       "      <th>Mes</th>\n",
       "      <th>Material</th>\n",
       "      <th>Canal</th>\n",
       "      <th>Venta UMB</th>\n",
       "      <th>Fuente</th>\n",
       "      <th>Ultimo Eslabón</th>\n",
       "      <th>Tipo</th>\n",
       "      <th>Canal 2</th>\n",
       "      <th>Nombre Sector</th>\n",
       "      <th>Canal 3</th>\n",
       "    </tr>\n",
       "  </thead>\n",
       "  <tbody>\n",
       "    <tr>\n",
       "      <th>0</th>\n",
       "      <td>2021-06-01</td>\n",
       "      <td>1000147</td>\n",
       "      <td>AP</td>\n",
       "      <td>52.0</td>\n",
       "      <td>Sell Out MB51 - SISO</td>\n",
       "      <td>1000147</td>\n",
       "      <td>ACC</td>\n",
       "      <td>Retail</td>\n",
       "      <td>ACC</td>\n",
       "      <td>CL RETAIL</td>\n",
       "    </tr>\n",
       "    <tr>\n",
       "      <th>1</th>\n",
       "      <td>2021-05-01</td>\n",
       "      <td>1000147</td>\n",
       "      <td>AP</td>\n",
       "      <td>40.0</td>\n",
       "      <td>Sell Out MB51 - SISO</td>\n",
       "      <td>1000147</td>\n",
       "      <td>ACC</td>\n",
       "      <td>Retail</td>\n",
       "      <td>ACC</td>\n",
       "      <td>CL RETAIL</td>\n",
       "    </tr>\n",
       "  </tbody>\n",
       "</table>\n",
       "</div>"
      ],
      "text/plain": [
       "         Mes Material Canal  Venta UMB                Fuente Ultimo Eslabón  \\\n",
       "0 2021-06-01  1000147    AP       52.0  Sell Out MB51 - SISO        1000147   \n",
       "1 2021-05-01  1000147    AP       40.0  Sell Out MB51 - SISO        1000147   \n",
       "\n",
       "  Tipo Canal 2 Nombre Sector    Canal 3  \n",
       "0  ACC  Retail           ACC  CL RETAIL  \n",
       "1  ACC  Retail           ACC  CL RETAIL  "
      ]
     },
     "execution_count": 35,
     "metadata": {},
     "output_type": "execute_result"
    }
   ],
   "source": [
    "sellout_concat.head(2)"
   ]
  },
  {
   "cell_type": "code",
   "execution_count": 36,
   "metadata": {},
   "outputs": [
    {
     "data": {
      "text/html": [
       "<div>\n",
       "<style scoped>\n",
       "    .dataframe tbody tr th:only-of-type {\n",
       "        vertical-align: middle;\n",
       "    }\n",
       "\n",
       "    .dataframe tbody tr th {\n",
       "        vertical-align: top;\n",
       "    }\n",
       "\n",
       "    .dataframe thead th {\n",
       "        text-align: right;\n",
       "    }\n",
       "</style>\n",
       "<table border=\"1\" class=\"dataframe\">\n",
       "  <thead>\n",
       "    <tr style=\"text-align: right;\">\n",
       "      <th></th>\n",
       "      <th>Mes</th>\n",
       "      <th>Material</th>\n",
       "      <th>Canal</th>\n",
       "      <th>Venta UMB</th>\n",
       "      <th>Fuente</th>\n",
       "      <th>Ultimo Eslabón</th>\n",
       "      <th>Tipo</th>\n",
       "      <th>Canal 2</th>\n",
       "      <th>Nombre Sector</th>\n",
       "      <th>Canal 3</th>\n",
       "    </tr>\n",
       "  </thead>\n",
       "  <tbody>\n",
       "    <tr>\n",
       "      <th>1380001</th>\n",
       "      <td>2024-06-01</td>\n",
       "      <td>488676</td>\n",
       "      <td>Retail</td>\n",
       "      <td>1.0</td>\n",
       "      <td>Sell Out RTL Jun-24</td>\n",
       "      <td>488676</td>\n",
       "      <td>None</td>\n",
       "      <td>Retail</td>\n",
       "      <td>RMAQ</td>\n",
       "      <td>CL RETAIL</td>\n",
       "    </tr>\n",
       "    <tr>\n",
       "      <th>1380002</th>\n",
       "      <td>2024-06-01</td>\n",
       "      <td>625127</td>\n",
       "      <td>Retail</td>\n",
       "      <td>1.0</td>\n",
       "      <td>Sell Out RTL Jun-24</td>\n",
       "      <td>625127</td>\n",
       "      <td>None</td>\n",
       "      <td>Retail</td>\n",
       "      <td>JCB</td>\n",
       "      <td>CL RETAIL</td>\n",
       "    </tr>\n",
       "  </tbody>\n",
       "</table>\n",
       "</div>"
      ],
      "text/plain": [
       "               Mes Material   Canal  Venta UMB               Fuente  \\\n",
       "1380001 2024-06-01   488676  Retail        1.0  Sell Out RTL Jun-24   \n",
       "1380002 2024-06-01   625127  Retail        1.0  Sell Out RTL Jun-24   \n",
       "\n",
       "        Ultimo Eslabón  Tipo Canal 2 Nombre Sector    Canal 3  \n",
       "1380001         488676  None  Retail          RMAQ  CL RETAIL  \n",
       "1380002         625127  None  Retail           JCB  CL RETAIL  "
      ]
     },
     "execution_count": 36,
     "metadata": {},
     "output_type": "execute_result"
    }
   ],
   "source": [
    "sellout_concat.tail(2)"
   ]
  },
  {
   "cell_type": "markdown",
   "metadata": {},
   "source": [
    "leer solo sellout"
   ]
  },
  {
   "cell_type": "code",
   "execution_count": 37,
   "metadata": {},
   "outputs": [
    {
     "name": "stdout",
     "output_type": "stream",
     "text": [
      "Se leyó el archivo de Sell Out: C:\\Users\\etorres.DERCOPARTS\\DERCO CHILE REPUESTOS SpA\\Planificación y abastecimiento - Documentos\\Planificación y Compras Ventas\\Venta Historica Mensual\\2024\\2024-08\\2024.08 Sell Out MB51 RTL Julio S4.xlsx\n"
     ]
    }
   ],
   "source": [
    "# Obtener el año y mes actual en el formato YYYY y MM\n",
    "fecha_actual = pd.Timestamp.now()\n",
    "año_actual = fecha_actual.year\n",
    "mes_actual = fecha_actual.strftime(\"%m\")\n",
    "\n",
    "# Construir la ruta completa al directorio que contiene los archivos\n",
    "ruta_base_usuario = os.path.expanduser(\"~\")\n",
    "ruta_directorio_base = os.path.join(ruta_base_usuario, \"DERCO CHILE REPUESTOS SpA\", \"Planificación y abastecimiento - Documentos\", \"Planificación y Compras Ventas\", \"Venta Historica Mensual\")\n",
    "ruta_directorio = os.path.join(ruta_directorio_base, str(año_actual), f\"{año_actual}-{mes_actual}\")\n",
    "archivo_sellout = None\n",
    "for archivo in os.listdir(ruta_directorio):\n",
    "    if \"Sell Out\" in archivo and \"GT\" not in archivo:\n",
    "        archivo_sellout = archivo\n",
    "        break\n",
    "\n",
    "if archivo_sellout:\n",
    "    ruta_archivo_sellout = os.path.join(ruta_directorio, archivo_sellout)\n",
    "    sellout = pd.read_excel(ruta_archivo_sellout, sheet_name=\"Sheet1\")  # Leer la hoja \"Sheet1\"\n",
    "    print(\"Se leyó el archivo de Sell Out:\", ruta_archivo_sellout)\n",
    "else:\n",
    "    print(\"No se encontró ningún archivo con 'Sell Out' en su nombre.\")"
   ]
  },
  {
   "cell_type": "code",
   "execution_count": 38,
   "metadata": {},
   "outputs": [
    {
     "data": {
      "text/plain": [
       "Index(['Ce.', 'Material', 'Texto breve de material', 'CMv', 'Doc.mat.',\n",
       "       'Fe.contab.', '   Ctd.en UME', 'UME', '     Importe ML', 'Mon.',\n",
       "       'Cantidad', 'Ctd.en', 'Ctd.UMPP', 'Pedido', 'Txt clase-mov.', 'UMP',\n",
       "       'UMB', 'UMP.1', 'Cliente', 'Ult.Eslabón', 'Nombre Sector', 'Sector_MU',\n",
       "       'Canal', 'Tipo', 'Forecast AFM', 'Forecast OEM', 'Venta UMB', 'Semana',\n",
       "       'Canal 2', 'ID'],\n",
       "      dtype='object')"
      ]
     },
     "execution_count": 38,
     "metadata": {},
     "output_type": "execute_result"
    }
   ],
   "source": [
    "sellout.columns"
   ]
  },
  {
   "cell_type": "code",
   "execution_count": 39,
   "metadata": {},
   "outputs": [
    {
     "data": {
      "text/plain": [
       "(363850, 30)"
      ]
     },
     "execution_count": 39,
     "metadata": {},
     "output_type": "execute_result"
    }
   ],
   "source": [
    "sellout.shape"
   ]
  },
  {
   "cell_type": "code",
   "execution_count": 40,
   "metadata": {},
   "outputs": [],
   "source": [
    "sellin = sellout"
   ]
  },
  {
   "cell_type": "code",
   "execution_count": 41,
   "metadata": {},
   "outputs": [
    {
     "data": {
      "text/plain": [
       "Index(['Ce.', 'Material', 'Texto breve de material', 'CMv', 'Doc.mat.',\n",
       "       'Fe.contab.', '   Ctd.en UME', 'UME', '     Importe ML', 'Mon.',\n",
       "       'Cantidad', 'Ctd.en', 'Ctd.UMPP', 'Pedido', 'Txt clase-mov.', 'UMP',\n",
       "       'UMB', 'UMP.1', 'Cliente', 'Ult.Eslabón', 'Nombre Sector', 'Sector_MU',\n",
       "       'Canal', 'Tipo', 'Forecast AFM', 'Forecast OEM', 'Venta UMB', 'Semana',\n",
       "       'Canal 2', 'ID'],\n",
       "      dtype='object')"
      ]
     },
     "execution_count": 41,
     "metadata": {},
     "output_type": "execute_result"
    }
   ],
   "source": [
    "sellin.columns"
   ]
  },
  {
   "cell_type": "markdown",
   "metadata": {},
   "source": [
    "Achicar Sellin & SellOut"
   ]
  },
  {
   "cell_type": "code",
   "execution_count": 42,
   "metadata": {
    "metadata": {}
   },
   "outputs": [],
   "source": [
    "# sellout = sellout[['Ce.', 'Material', 'Texto breve de material', 'Fe.contab.', 'Cliente', 'Ult.EslabÃ³n', 'Nombre Sector', 'Canal', 'Tipo', 'Forecast AFM', 'Venta UMB', 'Semana ISO', 'Canal 2', 'ID']]\n",
    "sellin = sellin[['Ce.', 'Material', 'Texto breve de material', 'Fe.contab.', 'Cliente', 'Ult.Eslabón', 'Nombre Sector', 'Canal', 'Tipo', 'Forecast AFM', 'Venta UMB', 'Semana', 'Canal 2', 'ID']]"
   ]
  },
  {
   "cell_type": "code",
   "execution_count": 43,
   "metadata": {},
   "outputs": [],
   "source": [
    "# sellin_filtrado = sellin[sellin['Venta UMB'] >= 0]\n",
    "# sellin_filtrado.head(10)"
   ]
  },
  {
   "cell_type": "code",
   "execution_count": 44,
   "metadata": {
    "metadata": {}
   },
   "outputs": [],
   "source": [
    "df_sellin=sellin"
   ]
  },
  {
   "cell_type": "code",
   "execution_count": 45,
   "metadata": {},
   "outputs": [],
   "source": [
    "df_sellin = df_sellin.copy()\n",
    "df_sellin.rename(columns={'Ult.EslabÃ³n': 'Ult.Eslabón'}, inplace=True)"
   ]
  },
  {
   "cell_type": "code",
   "execution_count": 46,
   "metadata": {
    "metadata": {}
   },
   "outputs": [
    {
     "data": {
      "text/plain": [
       "Index(['Ce.', 'Material', 'Texto breve de material', 'Fe.contab.', 'Cliente',\n",
       "       'Ult.Eslabón', 'Nombre Sector', 'Canal', 'Tipo', 'Forecast AFM',\n",
       "       'Venta UMB', 'Semana', 'Canal 2', 'ID'],\n",
       "      dtype='object')"
      ]
     },
     "execution_count": 46,
     "metadata": {},
     "output_type": "execute_result"
    }
   ],
   "source": [
    "df_sellin.columns"
   ]
  },
  {
   "cell_type": "markdown",
   "metadata": {},
   "source": [
    "Esto hay que cambiarlo ya que el sellin semanal ya viene con Nuevo Canal como columna y el mensual igual debería "
   ]
  },
  {
   "cell_type": "code",
   "execution_count": 47,
   "metadata": {
    "metadata": {}
   },
   "outputs": [],
   "source": [
    "df_sellin = df_sellin.copy()\n",
    "# df_sellin.rename(columns={'Canal 2': 'Nuevo Canal'}, inplace=True)"
   ]
  },
  {
   "cell_type": "markdown",
   "metadata": {},
   "source": [
    "EVALUAR SI SE MODIFICA Y SE SACA EL FORECAST AFM = SI YA QUE MAS ADELANTES NOS QUEDAMOS CON LOS CANALES\""
   ]
  },
  {
   "cell_type": "code",
   "execution_count": 48,
   "metadata": {},
   "outputs": [
    {
     "data": {
      "text/html": [
       "<div>\n",
       "<style scoped>\n",
       "    .dataframe tbody tr th:only-of-type {\n",
       "        vertical-align: middle;\n",
       "    }\n",
       "\n",
       "    .dataframe tbody tr th {\n",
       "        vertical-align: top;\n",
       "    }\n",
       "\n",
       "    .dataframe thead th {\n",
       "        text-align: right;\n",
       "    }\n",
       "</style>\n",
       "<table border=\"1\" class=\"dataframe\">\n",
       "  <thead>\n",
       "    <tr style=\"text-align: right;\">\n",
       "      <th></th>\n",
       "      <th>Ce.</th>\n",
       "      <th>Material</th>\n",
       "      <th>Texto breve de material</th>\n",
       "      <th>Fe.contab.</th>\n",
       "      <th>Cliente</th>\n",
       "      <th>Ult.Eslabón</th>\n",
       "      <th>Nombre Sector</th>\n",
       "      <th>Canal</th>\n",
       "      <th>Tipo</th>\n",
       "      <th>Forecast AFM</th>\n",
       "      <th>Venta UMB</th>\n",
       "      <th>Semana</th>\n",
       "      <th>Canal 2</th>\n",
       "      <th>ID</th>\n",
       "    </tr>\n",
       "  </thead>\n",
       "  <tbody>\n",
       "    <tr>\n",
       "      <th>0</th>\n",
       "      <td>466</td>\n",
       "      <td>434664</td>\n",
       "      <td>LBY SOPORTE DE CUELLO BEBE</td>\n",
       "      <td>08.07.2024</td>\n",
       "      <td>TI0466</td>\n",
       "      <td>434664</td>\n",
       "      <td>ACC</td>\n",
       "      <td>Retail</td>\n",
       "      <td>AFM</td>\n",
       "      <td>SI</td>\n",
       "      <td>-4782</td>\n",
       "      <td>28</td>\n",
       "      <td>CL RETAIL</td>\n",
       "      <td>434664CL RETAIL</td>\n",
       "    </tr>\n",
       "  </tbody>\n",
       "</table>\n",
       "</div>"
      ],
      "text/plain": [
       "   Ce.  Material     Texto breve de material  Fe.contab. Cliente  Ult.Eslabón  \\\n",
       "0  466    434664  LBY SOPORTE DE CUELLO BEBE  08.07.2024  TI0466       434664   \n",
       "\n",
       "  Nombre Sector   Canal Tipo Forecast AFM  Venta UMB  Semana    Canal 2  \\\n",
       "0           ACC  Retail  AFM           SI      -4782      28  CL RETAIL   \n",
       "\n",
       "                ID  \n",
       "0  434664CL RETAIL  "
      ]
     },
     "execution_count": 48,
     "metadata": {},
     "output_type": "execute_result"
    }
   ],
   "source": [
    "sellin.head(1)"
   ]
  },
  {
   "cell_type": "code",
   "execution_count": 49,
   "metadata": {},
   "outputs": [
    {
     "name": "stdout",
     "output_type": "stream",
     "text": [
      "La suma de la última columna (Venta UMB) es: 548623\n"
     ]
    }
   ],
   "source": [
    "last_column = sellin.columns[-4]\n",
    "\n",
    "# Calcular la suma de la última columna\n",
    "sum_last_column = sellin[last_column].sum()\n",
    "\n",
    "# Mostrar la suma\n",
    "print(f\"La suma de la última columna ({last_column}) es: {sum_last_column}\")"
   ]
  },
  {
   "cell_type": "code",
   "execution_count": 50,
   "metadata": {
    "metadata": {}
   },
   "outputs": [],
   "source": [
    "# df_sellin_filtered = df_sellin[df_sellin['Forecast AFM'].str.lower() == 'si']\n",
    "df_sellin_filtered = df_sellin\n",
    "\n",
    "\n",
    "# EVALUAR SI SE MODIFICA ESTA PARTE!!!!!!!!!!!!!!!!"
   ]
  },
  {
   "cell_type": "code",
   "execution_count": 51,
   "metadata": {},
   "outputs": [
    {
     "data": {
      "text/plain": [
       "(363850, 14)"
      ]
     },
     "execution_count": 51,
     "metadata": {},
     "output_type": "execute_result"
    }
   ],
   "source": [
    "df_sellin_filtered.shape"
   ]
  },
  {
   "cell_type": "code",
   "execution_count": 52,
   "metadata": {},
   "outputs": [
    {
     "data": {
      "text/html": [
       "<div>\n",
       "<style scoped>\n",
       "    .dataframe tbody tr th:only-of-type {\n",
       "        vertical-align: middle;\n",
       "    }\n",
       "\n",
       "    .dataframe tbody tr th {\n",
       "        vertical-align: top;\n",
       "    }\n",
       "\n",
       "    .dataframe thead th {\n",
       "        text-align: right;\n",
       "    }\n",
       "</style>\n",
       "<table border=\"1\" class=\"dataframe\">\n",
       "  <thead>\n",
       "    <tr style=\"text-align: right;\">\n",
       "      <th></th>\n",
       "      <th>Ce.</th>\n",
       "      <th>Material</th>\n",
       "      <th>Texto breve de material</th>\n",
       "      <th>Fe.contab.</th>\n",
       "      <th>Cliente</th>\n",
       "      <th>Ult.Eslabón</th>\n",
       "      <th>Nombre Sector</th>\n",
       "      <th>Canal</th>\n",
       "      <th>Tipo</th>\n",
       "      <th>Forecast AFM</th>\n",
       "      <th>Venta UMB</th>\n",
       "      <th>Semana</th>\n",
       "      <th>Canal 2</th>\n",
       "      <th>ID</th>\n",
       "    </tr>\n",
       "  </thead>\n",
       "  <tbody>\n",
       "    <tr>\n",
       "      <th>0</th>\n",
       "      <td>466</td>\n",
       "      <td>434664</td>\n",
       "      <td>LBY SOPORTE DE CUELLO BEBE</td>\n",
       "      <td>08.07.2024</td>\n",
       "      <td>TI0466</td>\n",
       "      <td>434664</td>\n",
       "      <td>ACC</td>\n",
       "      <td>Retail</td>\n",
       "      <td>AFM</td>\n",
       "      <td>SI</td>\n",
       "      <td>-4782</td>\n",
       "      <td>28</td>\n",
       "      <td>CL RETAIL</td>\n",
       "      <td>434664CL RETAIL</td>\n",
       "    </tr>\n",
       "    <tr>\n",
       "      <th>1</th>\n",
       "      <td>466</td>\n",
       "      <td>434664</td>\n",
       "      <td>LBY SOPORTE DE CUELLO BEBE</td>\n",
       "      <td>04.07.2024</td>\n",
       "      <td>TI0466</td>\n",
       "      <td>434664</td>\n",
       "      <td>ACC</td>\n",
       "      <td>Retail</td>\n",
       "      <td>AFM</td>\n",
       "      <td>SI</td>\n",
       "      <td>-4125</td>\n",
       "      <td>27</td>\n",
       "      <td>CL RETAIL</td>\n",
       "      <td>434664CL RETAIL</td>\n",
       "    </tr>\n",
       "    <tr>\n",
       "      <th>2</th>\n",
       "      <td>466</td>\n",
       "      <td>434664</td>\n",
       "      <td>LBY SOPORTE DE CUELLO BEBE</td>\n",
       "      <td>03.07.2024</td>\n",
       "      <td>TI0466</td>\n",
       "      <td>434664</td>\n",
       "      <td>ACC</td>\n",
       "      <td>Retail</td>\n",
       "      <td>AFM</td>\n",
       "      <td>SI</td>\n",
       "      <td>-3018</td>\n",
       "      <td>27</td>\n",
       "      <td>CL RETAIL</td>\n",
       "      <td>434664CL RETAIL</td>\n",
       "    </tr>\n",
       "    <tr>\n",
       "      <th>3</th>\n",
       "      <td>466</td>\n",
       "      <td>434664</td>\n",
       "      <td>LBY SOPORTE DE CUELLO BEBE</td>\n",
       "      <td>18.07.2024</td>\n",
       "      <td>TI0466</td>\n",
       "      <td>434664</td>\n",
       "      <td>ACC</td>\n",
       "      <td>Retail</td>\n",
       "      <td>AFM</td>\n",
       "      <td>SI</td>\n",
       "      <td>-1583</td>\n",
       "      <td>29</td>\n",
       "      <td>CL RETAIL</td>\n",
       "      <td>434664CL RETAIL</td>\n",
       "    </tr>\n",
       "    <tr>\n",
       "      <th>4</th>\n",
       "      <td>466</td>\n",
       "      <td>434664</td>\n",
       "      <td>LBY SOPORTE DE CUELLO BEBE</td>\n",
       "      <td>01.07.2024</td>\n",
       "      <td>TI0466</td>\n",
       "      <td>434664</td>\n",
       "      <td>ACC</td>\n",
       "      <td>Retail</td>\n",
       "      <td>AFM</td>\n",
       "      <td>SI</td>\n",
       "      <td>-1143</td>\n",
       "      <td>27</td>\n",
       "      <td>CL RETAIL</td>\n",
       "      <td>434664CL RETAIL</td>\n",
       "    </tr>\n",
       "    <tr>\n",
       "      <th>...</th>\n",
       "      <td>...</td>\n",
       "      <td>...</td>\n",
       "      <td>...</td>\n",
       "      <td>...</td>\n",
       "      <td>...</td>\n",
       "      <td>...</td>\n",
       "      <td>...</td>\n",
       "      <td>...</td>\n",
       "      <td>...</td>\n",
       "      <td>...</td>\n",
       "      <td>...</td>\n",
       "      <td>...</td>\n",
       "      <td>...</td>\n",
       "      <td>...</td>\n",
       "    </tr>\n",
       "    <tr>\n",
       "      <th>95</th>\n",
       "      <td>466</td>\n",
       "      <td>1125613</td>\n",
       "      <td>NEMESIS ALARMA CONNECT+ 401</td>\n",
       "      <td>08.07.2024</td>\n",
       "      <td>TI0466</td>\n",
       "      <td>1125613</td>\n",
       "      <td>ACC</td>\n",
       "      <td>Retail</td>\n",
       "      <td>AFM</td>\n",
       "      <td>SI</td>\n",
       "      <td>-24</td>\n",
       "      <td>28</td>\n",
       "      <td>CL RETAIL</td>\n",
       "      <td>1125613CL RETAIL</td>\n",
       "    </tr>\n",
       "    <tr>\n",
       "      <th>96</th>\n",
       "      <td>491</td>\n",
       "      <td>127954</td>\n",
       "      <td>PERNO BIELA</td>\n",
       "      <td>17.07.2024</td>\n",
       "      <td>19971</td>\n",
       "      <td>127954</td>\n",
       "      <td>RMAQ</td>\n",
       "      <td>Retail</td>\n",
       "      <td>AFM</td>\n",
       "      <td>SI</td>\n",
       "      <td>-24</td>\n",
       "      <td>29</td>\n",
       "      <td>CL RETAIL</td>\n",
       "      <td>127954CL RETAIL</td>\n",
       "    </tr>\n",
       "    <tr>\n",
       "      <th>97</th>\n",
       "      <td>466</td>\n",
       "      <td>433417</td>\n",
       "      <td>SACO DE TRANSPORTE PARA BEBE LUCKIBUY</td>\n",
       "      <td>08.07.2024</td>\n",
       "      <td>TI0466</td>\n",
       "      <td>433417</td>\n",
       "      <td>ACC</td>\n",
       "      <td>Retail</td>\n",
       "      <td>AFM</td>\n",
       "      <td>SI</td>\n",
       "      <td>-23</td>\n",
       "      <td>28</td>\n",
       "      <td>CL RETAIL</td>\n",
       "      <td>433417CL RETAIL</td>\n",
       "    </tr>\n",
       "    <tr>\n",
       "      <th>98</th>\n",
       "      <td>472</td>\n",
       "      <td>111967</td>\n",
       "      <td>ENVASE BATERIA PUNTO VERDE</td>\n",
       "      <td>24.07.2024</td>\n",
       "      <td>NaN</td>\n",
       "      <td>111967</td>\n",
       "      <td>Sector Comun</td>\n",
       "      <td>Retail</td>\n",
       "      <td>Otros</td>\n",
       "      <td>NO</td>\n",
       "      <td>-23</td>\n",
       "      <td>30</td>\n",
       "      <td>CL RETAIL</td>\n",
       "      <td>111967CL RETAIL</td>\n",
       "    </tr>\n",
       "    <tr>\n",
       "      <th>99</th>\n",
       "      <td>415</td>\n",
       "      <td>111967</td>\n",
       "      <td>ENVASE BATERIA PUNTO VERDE</td>\n",
       "      <td>16.07.2024</td>\n",
       "      <td>NaN</td>\n",
       "      <td>111967</td>\n",
       "      <td>Sector Comun</td>\n",
       "      <td>Retail</td>\n",
       "      <td>Otros</td>\n",
       "      <td>NO</td>\n",
       "      <td>-22</td>\n",
       "      <td>29</td>\n",
       "      <td>CL RETAIL</td>\n",
       "      <td>111967CL RETAIL</td>\n",
       "    </tr>\n",
       "  </tbody>\n",
       "</table>\n",
       "<p>100 rows × 14 columns</p>\n",
       "</div>"
      ],
      "text/plain": [
       "    Ce.  Material                Texto breve de material  Fe.contab. Cliente  \\\n",
       "0   466    434664             LBY SOPORTE DE CUELLO BEBE  08.07.2024  TI0466   \n",
       "1   466    434664             LBY SOPORTE DE CUELLO BEBE  04.07.2024  TI0466   \n",
       "2   466    434664             LBY SOPORTE DE CUELLO BEBE  03.07.2024  TI0466   \n",
       "3   466    434664             LBY SOPORTE DE CUELLO BEBE  18.07.2024  TI0466   \n",
       "4   466    434664             LBY SOPORTE DE CUELLO BEBE  01.07.2024  TI0466   \n",
       "..  ...       ...                                    ...         ...     ...   \n",
       "95  466   1125613            NEMESIS ALARMA CONNECT+ 401  08.07.2024  TI0466   \n",
       "96  491    127954                            PERNO BIELA  17.07.2024   19971   \n",
       "97  466    433417  SACO DE TRANSPORTE PARA BEBE LUCKIBUY  08.07.2024  TI0466   \n",
       "98  472    111967             ENVASE BATERIA PUNTO VERDE  24.07.2024     NaN   \n",
       "99  415    111967             ENVASE BATERIA PUNTO VERDE  16.07.2024     NaN   \n",
       "\n",
       "    Ult.Eslabón Nombre Sector   Canal   Tipo Forecast AFM  Venta UMB  Semana  \\\n",
       "0        434664           ACC  Retail    AFM           SI      -4782      28   \n",
       "1        434664           ACC  Retail    AFM           SI      -4125      27   \n",
       "2        434664           ACC  Retail    AFM           SI      -3018      27   \n",
       "3        434664           ACC  Retail    AFM           SI      -1583      29   \n",
       "4        434664           ACC  Retail    AFM           SI      -1143      27   \n",
       "..          ...           ...     ...    ...          ...        ...     ...   \n",
       "95      1125613           ACC  Retail    AFM           SI        -24      28   \n",
       "96       127954          RMAQ  Retail    AFM           SI        -24      29   \n",
       "97       433417           ACC  Retail    AFM           SI        -23      28   \n",
       "98       111967  Sector Comun  Retail  Otros           NO        -23      30   \n",
       "99       111967  Sector Comun  Retail  Otros           NO        -22      29   \n",
       "\n",
       "      Canal 2                ID  \n",
       "0   CL RETAIL   434664CL RETAIL  \n",
       "1   CL RETAIL   434664CL RETAIL  \n",
       "2   CL RETAIL   434664CL RETAIL  \n",
       "3   CL RETAIL   434664CL RETAIL  \n",
       "4   CL RETAIL   434664CL RETAIL  \n",
       "..        ...               ...  \n",
       "95  CL RETAIL  1125613CL RETAIL  \n",
       "96  CL RETAIL   127954CL RETAIL  \n",
       "97  CL RETAIL   433417CL RETAIL  \n",
       "98  CL RETAIL   111967CL RETAIL  \n",
       "99  CL RETAIL   111967CL RETAIL  \n",
       "\n",
       "[100 rows x 14 columns]"
      ]
     },
     "execution_count": 52,
     "metadata": {},
     "output_type": "execute_result"
    }
   ],
   "source": [
    "df_sellin_filtered.head(100)"
   ]
  },
  {
   "cell_type": "code",
   "execution_count": 53,
   "metadata": {},
   "outputs": [],
   "source": [
    "df_sellin_filtered['Material'] = df_sellin_filtered['Material'].astype(str).str.replace('.0', '', regex=False)"
   ]
  },
  {
   "cell_type": "code",
   "execution_count": 54,
   "metadata": {},
   "outputs": [
    {
     "data": {
      "text/html": [
       "<div>\n",
       "<style scoped>\n",
       "    .dataframe tbody tr th:only-of-type {\n",
       "        vertical-align: middle;\n",
       "    }\n",
       "\n",
       "    .dataframe tbody tr th {\n",
       "        vertical-align: top;\n",
       "    }\n",
       "\n",
       "    .dataframe thead th {\n",
       "        text-align: right;\n",
       "    }\n",
       "</style>\n",
       "<table border=\"1\" class=\"dataframe\">\n",
       "  <thead>\n",
       "    <tr style=\"text-align: right;\">\n",
       "      <th></th>\n",
       "      <th>Material</th>\n",
       "      <th>Canal</th>\n",
       "      <th>Venta UMB</th>\n",
       "    </tr>\n",
       "  </thead>\n",
       "  <tbody>\n",
       "    <tr>\n",
       "      <th>0</th>\n",
       "      <td>1000147</td>\n",
       "      <td>Retail</td>\n",
       "      <td>30</td>\n",
       "    </tr>\n",
       "  </tbody>\n",
       "</table>\n",
       "</div>"
      ],
      "text/plain": [
       "  Material   Canal  Venta UMB\n",
       "0  1000147  Retail         30"
      ]
     },
     "execution_count": 54,
     "metadata": {},
     "output_type": "execute_result"
    }
   ],
   "source": [
    "td_sellin = df_sellin_filtered.groupby(['Material', 'Canal'])['Venta UMB'].sum().reset_index()\n",
    "# Asegurarse de que la columna 'Venta' es numérica\n",
    "\n",
    "td_sellin.head(1)\n"
   ]
  },
  {
   "cell_type": "code",
   "execution_count": 55,
   "metadata": {},
   "outputs": [
    {
     "data": {
      "text/plain": [
       "Material     object\n",
       "Canal        object\n",
       "Venta UMB     int64\n",
       "dtype: object"
      ]
     },
     "execution_count": 55,
     "metadata": {},
     "output_type": "execute_result"
    }
   ],
   "source": [
    "td_sellin.dtypes"
   ]
  },
  {
   "cell_type": "code",
   "execution_count": 56,
   "metadata": {},
   "outputs": [],
   "source": [
    "td_sellin['Material'] = td_sellin['Material'].astype(str)\n",
    "td_sellin['Venta UMB'] = td_sellin['Venta UMB'].astype(int)"
   ]
  },
  {
   "cell_type": "code",
   "execution_count": 57,
   "metadata": {},
   "outputs": [],
   "source": [
    "td_sellin=td_sellin.copy()"
   ]
  },
  {
   "cell_type": "code",
   "execution_count": 58,
   "metadata": {},
   "outputs": [],
   "source": [
    "td_sellin['Venta UMB'] = pd.to_numeric(td_sellin['Venta UMB'], errors='coerce')\n"
   ]
  },
  {
   "cell_type": "code",
   "execution_count": 59,
   "metadata": {},
   "outputs": [
    {
     "data": {
      "text/plain": [
       "Material     object\n",
       "Canal        object\n",
       "Venta UMB     int32\n",
       "dtype: object"
      ]
     },
     "execution_count": 59,
     "metadata": {},
     "output_type": "execute_result"
    }
   ],
   "source": [
    "td_sellin.dtypes"
   ]
  },
  {
   "cell_type": "code",
   "execution_count": 60,
   "metadata": {},
   "outputs": [],
   "source": [
    "td_filtered = td_sellin.loc[td_sellin['Venta UMB'] > 0]\n"
   ]
  },
  {
   "cell_type": "code",
   "execution_count": 61,
   "metadata": {},
   "outputs": [],
   "source": [
    "td_sellin=td_filtered"
   ]
  },
  {
   "cell_type": "code",
   "execution_count": 62,
   "metadata": {
    "metadata": {}
   },
   "outputs": [
    {
     "data": {
      "text/plain": [
       "(9399, 3)"
      ]
     },
     "execution_count": 62,
     "metadata": {},
     "output_type": "execute_result"
    }
   ],
   "source": [
    "td_sellin.shape"
   ]
  },
  {
   "cell_type": "code",
   "execution_count": 63,
   "metadata": {},
   "outputs": [
    {
     "name": "stdout",
     "output_type": "stream",
     "text": [
      "La suma de la última columna (Venta UMB) es: 548806\n"
     ]
    }
   ],
   "source": [
    "last_column = td_sellin.columns[-1]\n",
    "\n",
    "# Calcular la suma de la última columna\n",
    "sum_last_column = td_sellin[last_column].sum()\n",
    "\n",
    "# Mostrar la suma\n",
    "print(f\"La suma de la última columna ({last_column}) es: {sum_last_column}\")"
   ]
  },
  {
   "cell_type": "markdown",
   "metadata": {},
   "source": [
    "CORREGIR PARA QUE LA USE CUALQUIER USUARIO"
   ]
  },
  {
   "cell_type": "code",
   "execution_count": 64,
   "metadata": {},
   "outputs": [
    {
     "data": {
      "text/plain": [
       "Index(['Material', 'Canal', 'Venta UMB'], dtype='object')"
      ]
     },
     "execution_count": 64,
     "metadata": {},
     "output_type": "execute_result"
    }
   ],
   "source": [
    "td_sellin.columns"
   ]
  },
  {
   "cell_type": "code",
   "execution_count": 65,
   "metadata": {},
   "outputs": [
    {
     "name": "stdout",
     "output_type": "stream",
     "text": [
      "Valores únicos en la columna 'Canal':\n",
      "['Retail']\n"
     ]
    }
   ],
   "source": [
    "valores_unicos_nuevo_canal = td_sellin['Canal'].unique()\n",
    "print(\"Valores únicos en la columna 'Canal':\")\n",
    "print(valores_unicos_nuevo_canal)\n"
   ]
  },
  {
   "cell_type": "markdown",
   "metadata": {},
   "source": [
    "EVALUAR SI SE SACA ESTE BLOQUE"
   ]
  },
  {
   "cell_type": "code",
   "execution_count": 66,
   "metadata": {},
   "outputs": [
    {
     "data": {
      "text/html": [
       "<div>\n",
       "<style scoped>\n",
       "    .dataframe tbody tr th:only-of-type {\n",
       "        vertical-align: middle;\n",
       "    }\n",
       "\n",
       "    .dataframe tbody tr th {\n",
       "        vertical-align: top;\n",
       "    }\n",
       "\n",
       "    .dataframe thead th {\n",
       "        text-align: right;\n",
       "    }\n",
       "</style>\n",
       "<table border=\"1\" class=\"dataframe\">\n",
       "  <thead>\n",
       "    <tr style=\"text-align: right;\">\n",
       "      <th></th>\n",
       "      <th>Material</th>\n",
       "      <th>Canal</th>\n",
       "      <th>Venta UMB</th>\n",
       "    </tr>\n",
       "  </thead>\n",
       "  <tbody>\n",
       "    <tr>\n",
       "      <th>0</th>\n",
       "      <td>1000147</td>\n",
       "      <td>Retail</td>\n",
       "      <td>30</td>\n",
       "    </tr>\n",
       "    <tr>\n",
       "      <th>1</th>\n",
       "      <td>1000148</td>\n",
       "      <td>Retail</td>\n",
       "      <td>82</td>\n",
       "    </tr>\n",
       "  </tbody>\n",
       "</table>\n",
       "</div>"
      ],
      "text/plain": [
       "  Material   Canal  Venta UMB\n",
       "0  1000147  Retail         30\n",
       "1  1000148  Retail         82"
      ]
     },
     "execution_count": 66,
     "metadata": {},
     "output_type": "execute_result"
    }
   ],
   "source": [
    "# valores_deseados = ['CES 01', 'Mayorista']\n",
    "# td_sellin = td_sellin[td_sellin['Nuevo Canal'].isin(valores_deseados)]\n",
    "td_sellin.head(2)\n",
    "#evaluar si sacar este bloque!!!!!!!!!!!!!!!!!!!!!!!!!!!!!!!!!!!!!!!!!!!!!!!!!"
   ]
  },
  {
   "cell_type": "markdown",
   "metadata": {},
   "source": [
    "Sellout_concat es la historia en Parquet, y le cambiamos el nombre a df_combinado para seguir con el código"
   ]
  },
  {
   "cell_type": "code",
   "execution_count": 67,
   "metadata": {},
   "outputs": [],
   "source": [
    "df_combinado = sellout_concat"
   ]
  },
  {
   "cell_type": "code",
   "execution_count": 68,
   "metadata": {},
   "outputs": [
    {
     "data": {
      "text/plain": [
       "(1380003, 10)"
      ]
     },
     "execution_count": 68,
     "metadata": {},
     "output_type": "execute_result"
    }
   ],
   "source": [
    "df_combinado.shape"
   ]
  },
  {
   "cell_type": "code",
   "execution_count": 69,
   "metadata": {},
   "outputs": [],
   "source": [
    "canal_mapping = {\n",
    "    'AP': 'Retail',\n",
    "    'Sergo': 'Retail',\n",
    "    'Easy': 'Easy',\n",
    "    'TOTTUS': 'TOTTUS',\n",
    "    'Walmart': 'Walmart',\n",
    "    'Sodimac': 'Sodimac',\n",
    "    'SMU': 'SMU',\n",
    "    'Retail': 'Retail'\n",
    "}\n",
    "\n",
    "# Aplicar el mapeo a la columna Canal 2\n",
    "df_combinado['Canal 2'] = df_combinado['Canal'].map(canal_mapping)"
   ]
  },
  {
   "cell_type": "code",
   "execution_count": 70,
   "metadata": {},
   "outputs": [
    {
     "name": "stdout",
     "output_type": "stream",
     "text": [
      "Valores únicos en la columna 'Nuevo Canal':\n",
      "['Retail' 'Sodimac' 'Easy' 'Walmart' 'SMU' 'TOTTUS']\n"
     ]
    }
   ],
   "source": [
    "valores_unicos_nuevo_canal = df_combinado['Canal 2'].unique()\n",
    "print(\"Valores únicos en la columna 'Nuevo Canal':\")\n",
    "print(valores_unicos_nuevo_canal)"
   ]
  },
  {
   "cell_type": "code",
   "execution_count": 71,
   "metadata": {},
   "outputs": [
    {
     "data": {
      "text/plain": [
       "(9399, 3)"
      ]
     },
     "execution_count": 71,
     "metadata": {},
     "output_type": "execute_result"
    }
   ],
   "source": [
    "td_sellin.shape"
   ]
  },
  {
   "cell_type": "code",
   "execution_count": 72,
   "metadata": {},
   "outputs": [
    {
     "name": "stdout",
     "output_type": "stream",
     "text": [
      "La suma de la columna 'venta_umb' es: 548806\n"
     ]
    }
   ],
   "source": [
    "suma_venta_umb = td_sellin['Venta UMB'].sum()\n",
    "print(\"La suma de la columna 'venta_umb' es:\", suma_venta_umb)\n",
    "# La suma de la columna 'venta_umb' es: 86635289 es: 569188"
   ]
  },
  {
   "cell_type": "code",
   "execution_count": 73,
   "metadata": {},
   "outputs": [
    {
     "data": {
      "text/plain": [
       "Index(['Mes', 'Material', 'Canal', 'Venta UMB', 'Fuente', 'Ultimo Eslabón',\n",
       "       'Tipo', 'Canal 2', 'Nombre Sector', 'Canal 3'],\n",
       "      dtype='object')"
      ]
     },
     "execution_count": 73,
     "metadata": {},
     "output_type": "execute_result"
    }
   ],
   "source": [
    "df_combinado.columns"
   ]
  },
  {
   "cell_type": "code",
   "execution_count": 74,
   "metadata": {},
   "outputs": [
    {
     "data": {
      "text/html": [
       "<div>\n",
       "<style scoped>\n",
       "    .dataframe tbody tr th:only-of-type {\n",
       "        vertical-align: middle;\n",
       "    }\n",
       "\n",
       "    .dataframe tbody tr th {\n",
       "        vertical-align: top;\n",
       "    }\n",
       "\n",
       "    .dataframe thead th {\n",
       "        text-align: right;\n",
       "    }\n",
       "</style>\n",
       "<table border=\"1\" class=\"dataframe\">\n",
       "  <thead>\n",
       "    <tr style=\"text-align: right;\">\n",
       "      <th></th>\n",
       "      <th>Mes</th>\n",
       "      <th>Material</th>\n",
       "      <th>Canal</th>\n",
       "      <th>Venta UMB</th>\n",
       "      <th>Fuente</th>\n",
       "      <th>Ultimo Eslabón</th>\n",
       "      <th>Tipo</th>\n",
       "      <th>Canal 2</th>\n",
       "      <th>Nombre Sector</th>\n",
       "      <th>Canal 3</th>\n",
       "    </tr>\n",
       "  </thead>\n",
       "  <tbody>\n",
       "    <tr>\n",
       "      <th>0</th>\n",
       "      <td>2021-06-01</td>\n",
       "      <td>1000147</td>\n",
       "      <td>AP</td>\n",
       "      <td>52.0</td>\n",
       "      <td>Sell Out MB51 - SISO</td>\n",
       "      <td>1000147</td>\n",
       "      <td>ACC</td>\n",
       "      <td>Retail</td>\n",
       "      <td>ACC</td>\n",
       "      <td>CL RETAIL</td>\n",
       "    </tr>\n",
       "    <tr>\n",
       "      <th>1</th>\n",
       "      <td>2021-05-01</td>\n",
       "      <td>1000147</td>\n",
       "      <td>AP</td>\n",
       "      <td>40.0</td>\n",
       "      <td>Sell Out MB51 - SISO</td>\n",
       "      <td>1000147</td>\n",
       "      <td>ACC</td>\n",
       "      <td>Retail</td>\n",
       "      <td>ACC</td>\n",
       "      <td>CL RETAIL</td>\n",
       "    </tr>\n",
       "  </tbody>\n",
       "</table>\n",
       "</div>"
      ],
      "text/plain": [
       "         Mes Material Canal  Venta UMB                Fuente Ultimo Eslabón  \\\n",
       "0 2021-06-01  1000147    AP       52.0  Sell Out MB51 - SISO        1000147   \n",
       "1 2021-05-01  1000147    AP       40.0  Sell Out MB51 - SISO        1000147   \n",
       "\n",
       "  Tipo Canal 2 Nombre Sector    Canal 3  \n",
       "0  ACC  Retail           ACC  CL RETAIL  \n",
       "1  ACC  Retail           ACC  CL RETAIL  "
      ]
     },
     "execution_count": 74,
     "metadata": {},
     "output_type": "execute_result"
    }
   ],
   "source": [
    "df_combinado.head(2)"
   ]
  },
  {
   "cell_type": "code",
   "execution_count": 75,
   "metadata": {},
   "outputs": [
    {
     "data": {
      "text/html": [
       "<div>\n",
       "<style scoped>\n",
       "    .dataframe tbody tr th:only-of-type {\n",
       "        vertical-align: middle;\n",
       "    }\n",
       "\n",
       "    .dataframe tbody tr th {\n",
       "        vertical-align: top;\n",
       "    }\n",
       "\n",
       "    .dataframe thead th {\n",
       "        text-align: right;\n",
       "    }\n",
       "</style>\n",
       "<table border=\"1\" class=\"dataframe\">\n",
       "  <thead>\n",
       "    <tr style=\"text-align: right;\">\n",
       "      <th></th>\n",
       "      <th>Mes</th>\n",
       "      <th>Material</th>\n",
       "      <th>Canal</th>\n",
       "      <th>Venta UMB</th>\n",
       "      <th>Fuente</th>\n",
       "      <th>Ultimo Eslabón</th>\n",
       "      <th>Tipo</th>\n",
       "      <th>Canal 2</th>\n",
       "      <th>Nombre Sector</th>\n",
       "      <th>Canal 3</th>\n",
       "    </tr>\n",
       "  </thead>\n",
       "  <tbody>\n",
       "    <tr>\n",
       "      <th>1380001</th>\n",
       "      <td>2024-06-01</td>\n",
       "      <td>488676</td>\n",
       "      <td>Retail</td>\n",
       "      <td>1.0</td>\n",
       "      <td>Sell Out RTL Jun-24</td>\n",
       "      <td>488676</td>\n",
       "      <td>None</td>\n",
       "      <td>Retail</td>\n",
       "      <td>RMAQ</td>\n",
       "      <td>CL RETAIL</td>\n",
       "    </tr>\n",
       "    <tr>\n",
       "      <th>1380002</th>\n",
       "      <td>2024-06-01</td>\n",
       "      <td>625127</td>\n",
       "      <td>Retail</td>\n",
       "      <td>1.0</td>\n",
       "      <td>Sell Out RTL Jun-24</td>\n",
       "      <td>625127</td>\n",
       "      <td>None</td>\n",
       "      <td>Retail</td>\n",
       "      <td>JCB</td>\n",
       "      <td>CL RETAIL</td>\n",
       "    </tr>\n",
       "  </tbody>\n",
       "</table>\n",
       "</div>"
      ],
      "text/plain": [
       "               Mes Material   Canal  Venta UMB               Fuente  \\\n",
       "1380001 2024-06-01   488676  Retail        1.0  Sell Out RTL Jun-24   \n",
       "1380002 2024-06-01   625127  Retail        1.0  Sell Out RTL Jun-24   \n",
       "\n",
       "        Ultimo Eslabón  Tipo Canal 2 Nombre Sector    Canal 3  \n",
       "1380001         488676  None  Retail          RMAQ  CL RETAIL  \n",
       "1380002         625127  None  Retail           JCB  CL RETAIL  "
      ]
     },
     "execution_count": 75,
     "metadata": {},
     "output_type": "execute_result"
    }
   ],
   "source": [
    "df_combinado.tail(2)"
   ]
  },
  {
   "cell_type": "markdown",
   "metadata": {},
   "source": [
    "Buscar Cod_Actual del año y mes actual EN EXCEL"
   ]
  },
  {
   "cell_type": "markdown",
   "metadata": {},
   "source": [
    "Buscar Cod_Actual del año y mes actual EN CSV"
   ]
  },
  {
   "cell_type": "code",
   "execution_count": 76,
   "metadata": {},
   "outputs": [
    {
     "name": "stdout",
     "output_type": "stream",
     "text": [
      "Archivo leído: C:\\Users\\etorres.DERCOPARTS\\DERCO CHILE REPUESTOS SpA\\Planificación y abastecimiento - Documentos\\Planificación y Compras Maestros\\2024\\2024-08\\MaestrosCSV\\COD_ACTUAL_S4_20240801.csv\n",
      "  Material Cod_Actual_1\n",
      "0   102288       582655\n",
      "1   501216       582655\n"
     ]
    }
   ],
   "source": [
    "import glob\n",
    "import os\n",
    "import pandas as pd\n",
    "from datetime import datetime\n",
    "\n",
    "# Obtener el directorio del usuario\n",
    "user_dir = os.path.expanduser(\"~\")\n",
    "user_name = os.getlogin()\n",
    "now = datetime.now()\n",
    "year_month = now.strftime('%Y-%m')\n",
    "\n",
    "# Construir la ruta base utilizando el directorio del usuario\n",
    "base_path = os.path.join(user_dir, 'DERCO CHILE REPUESTOS SpA', 'Planificación y abastecimiento - Documentos', \n",
    "                         'Planificación y Compras Maestros', str(now.year), year_month, 'MaestrosCSV')\n",
    "\n",
    "# Patrón de búsqueda para los archivos\n",
    "pattern = os.path.join(base_path, '*COD_ACTUAL*.csv')\n",
    "\n",
    "# Obtener la lista de archivos que coinciden con el patrón, excluyendo los que contienen 'R3'\n",
    "files = [f for f in glob.glob(pattern) if 'R3' not in os.path.basename(f)]\n",
    "\n",
    "if not files:\n",
    "    raise FileNotFoundError(\"No se encontraron archivos.\")\n",
    "\n",
    "# Encontrar el archivo más reciente basado en la fecha de modificación\n",
    "latest_file = max(files, key=os.path.getmtime)\n",
    "\n",
    "# Leer el archivo CSV\n",
    "df = pd.read_csv(latest_file, delimiter=',', decimal=',', low_memory=False, dtype=str)\n",
    "print(f\"Archivo leído: {latest_file}\")\n",
    "\n",
    "# Seleccionar las columnas y renombrar\n",
    "eslabon = df[['Nro_pieza_fabricante_1', 'Cod_Actual_1']].copy()\n",
    "eslabon.rename(columns={'Nro_pieza_fabricante_1': 'Material'}, inplace=True)\n",
    "\n",
    "# Mostrar las primeras filas del DataFrame resultante\n",
    "print(eslabon.head(2))\n"
   ]
  },
  {
   "cell_type": "code",
   "execution_count": 77,
   "metadata": {},
   "outputs": [],
   "source": [
    "eslabon['Material'] = eslabon['Material'].astype(str)\n",
    "td_sellin['Material'] = td_sellin['Material'].astype(str)"
   ]
  },
  {
   "cell_type": "code",
   "execution_count": 78,
   "metadata": {},
   "outputs": [],
   "source": [
    "# td_sellin = pd.merge(td_sellin, eslabon, on='Material', how='left')\n",
    "# # Si hay valores que no coinciden, rellenarlos con el valor original de \"Material\"\n",
    "# td_sellin['Cod_Actual_1'].fillna(td_sellin['Material'], inplace=True)"
   ]
  },
  {
   "cell_type": "code",
   "execution_count": 79,
   "metadata": {},
   "outputs": [],
   "source": [
    "# # Dropear la columna \"Material\" original\n",
    "# td_sellin.drop('Material', axis=1, inplace=True)"
   ]
  },
  {
   "cell_type": "code",
   "execution_count": 80,
   "metadata": {},
   "outputs": [],
   "source": [
    "# # Renombrar la columna resultante como \"Material\"\n",
    "# td_sellin.rename(columns={'Cod_Actual_1': 'Material'}, inplace=True)\n",
    "# td_sellin.head(2)"
   ]
  },
  {
   "cell_type": "code",
   "execution_count": 81,
   "metadata": {},
   "outputs": [
    {
     "data": {
      "text/plain": [
       "(9399, 3)"
      ]
     },
     "execution_count": 81,
     "metadata": {},
     "output_type": "execute_result"
    }
   ],
   "source": [
    "td_sellin.shape"
   ]
  },
  {
   "cell_type": "code",
   "execution_count": 82,
   "metadata": {},
   "outputs": [
    {
     "data": {
      "text/html": [
       "<div>\n",
       "<style scoped>\n",
       "    .dataframe tbody tr th:only-of-type {\n",
       "        vertical-align: middle;\n",
       "    }\n",
       "\n",
       "    .dataframe tbody tr th {\n",
       "        vertical-align: top;\n",
       "    }\n",
       "\n",
       "    .dataframe thead th {\n",
       "        text-align: right;\n",
       "    }\n",
       "</style>\n",
       "<table border=\"1\" class=\"dataframe\">\n",
       "  <thead>\n",
       "    <tr style=\"text-align: right;\">\n",
       "      <th></th>\n",
       "      <th>Material</th>\n",
       "      <th>Canal</th>\n",
       "      <th>Venta UMB</th>\n",
       "    </tr>\n",
       "  </thead>\n",
       "  <tbody>\n",
       "    <tr>\n",
       "      <th>0</th>\n",
       "      <td>1000147</td>\n",
       "      <td>Retail</td>\n",
       "      <td>30</td>\n",
       "    </tr>\n",
       "  </tbody>\n",
       "</table>\n",
       "</div>"
      ],
      "text/plain": [
       "  Material   Canal  Venta UMB\n",
       "0  1000147  Retail         30"
      ]
     },
     "execution_count": 82,
     "metadata": {},
     "output_type": "execute_result"
    }
   ],
   "source": [
    "td_sellin.head(1)"
   ]
  },
  {
   "cell_type": "code",
   "execution_count": 83,
   "metadata": {},
   "outputs": [],
   "source": [
    "td_sellin['Material'] = td_sellin['Material'].astype(str).str.replace('.0', '', regex=False)"
   ]
  },
  {
   "cell_type": "code",
   "execution_count": 84,
   "metadata": {},
   "outputs": [],
   "source": [
    "td_sellin = td_sellin.groupby(['Material', 'Canal']).agg({'Venta UMB': 'sum'}).reset_index()"
   ]
  },
  {
   "cell_type": "code",
   "execution_count": 85,
   "metadata": {},
   "outputs": [
    {
     "data": {
      "text/html": [
       "<div>\n",
       "<style scoped>\n",
       "    .dataframe tbody tr th:only-of-type {\n",
       "        vertical-align: middle;\n",
       "    }\n",
       "\n",
       "    .dataframe tbody tr th {\n",
       "        vertical-align: top;\n",
       "    }\n",
       "\n",
       "    .dataframe thead th {\n",
       "        text-align: right;\n",
       "    }\n",
       "</style>\n",
       "<table border=\"1\" class=\"dataframe\">\n",
       "  <thead>\n",
       "    <tr style=\"text-align: right;\">\n",
       "      <th></th>\n",
       "      <th>Material</th>\n",
       "      <th>Canal</th>\n",
       "      <th>Venta UMB</th>\n",
       "    </tr>\n",
       "  </thead>\n",
       "  <tbody>\n",
       "    <tr>\n",
       "      <th>0</th>\n",
       "      <td>1000147</td>\n",
       "      <td>Retail</td>\n",
       "      <td>30</td>\n",
       "    </tr>\n",
       "  </tbody>\n",
       "</table>\n",
       "</div>"
      ],
      "text/plain": [
       "  Material   Canal  Venta UMB\n",
       "0  1000147  Retail         30"
      ]
     },
     "execution_count": 85,
     "metadata": {},
     "output_type": "execute_result"
    }
   ],
   "source": [
    "td_sellin.head(1)"
   ]
  },
  {
   "cell_type": "code",
   "execution_count": 86,
   "metadata": {},
   "outputs": [
    {
     "data": {
      "text/plain": [
       "(9399, 3)"
      ]
     },
     "execution_count": 86,
     "metadata": {},
     "output_type": "execute_result"
    }
   ],
   "source": [
    "td_sellin.shape"
   ]
  },
  {
   "cell_type": "markdown",
   "metadata": {},
   "source": [
    "Agregando Sellin AÑO/MES ACTUAL a la historia y poniendo que tipo de venta es"
   ]
  },
  {
   "cell_type": "code",
   "execution_count": 87,
   "metadata": {},
   "outputs": [
    {
     "data": {
      "text/html": [
       "<div>\n",
       "<style scoped>\n",
       "    .dataframe tbody tr th:only-of-type {\n",
       "        vertical-align: middle;\n",
       "    }\n",
       "\n",
       "    .dataframe tbody tr th {\n",
       "        vertical-align: top;\n",
       "    }\n",
       "\n",
       "    .dataframe thead th {\n",
       "        text-align: right;\n",
       "    }\n",
       "</style>\n",
       "<table border=\"1\" class=\"dataframe\">\n",
       "  <thead>\n",
       "    <tr style=\"text-align: right;\">\n",
       "      <th></th>\n",
       "      <th>Mes</th>\n",
       "      <th>Material</th>\n",
       "      <th>Canal</th>\n",
       "      <th>Venta UMB</th>\n",
       "      <th>Fuente</th>\n",
       "      <th>Ultimo Eslabón</th>\n",
       "      <th>Tipo</th>\n",
       "      <th>Canal 2</th>\n",
       "      <th>Nombre Sector</th>\n",
       "      <th>Canal 3</th>\n",
       "    </tr>\n",
       "  </thead>\n",
       "  <tbody>\n",
       "    <tr>\n",
       "      <th>1380001</th>\n",
       "      <td>2024-06-01</td>\n",
       "      <td>488676</td>\n",
       "      <td>Retail</td>\n",
       "      <td>1.0</td>\n",
       "      <td>Sell Out RTL Jun-24</td>\n",
       "      <td>488676</td>\n",
       "      <td>None</td>\n",
       "      <td>Retail</td>\n",
       "      <td>RMAQ</td>\n",
       "      <td>CL RETAIL</td>\n",
       "    </tr>\n",
       "    <tr>\n",
       "      <th>1380002</th>\n",
       "      <td>2024-06-01</td>\n",
       "      <td>625127</td>\n",
       "      <td>Retail</td>\n",
       "      <td>1.0</td>\n",
       "      <td>Sell Out RTL Jun-24</td>\n",
       "      <td>625127</td>\n",
       "      <td>None</td>\n",
       "      <td>Retail</td>\n",
       "      <td>JCB</td>\n",
       "      <td>CL RETAIL</td>\n",
       "    </tr>\n",
       "  </tbody>\n",
       "</table>\n",
       "</div>"
      ],
      "text/plain": [
       "               Mes Material   Canal  Venta UMB               Fuente  \\\n",
       "1380001 2024-06-01   488676  Retail        1.0  Sell Out RTL Jun-24   \n",
       "1380002 2024-06-01   625127  Retail        1.0  Sell Out RTL Jun-24   \n",
       "\n",
       "        Ultimo Eslabón  Tipo Canal 2 Nombre Sector    Canal 3  \n",
       "1380001         488676  None  Retail          RMAQ  CL RETAIL  \n",
       "1380002         625127  None  Retail           JCB  CL RETAIL  "
      ]
     },
     "execution_count": 87,
     "metadata": {},
     "output_type": "execute_result"
    }
   ],
   "source": [
    "df_combinado.tail(2)"
   ]
  },
  {
   "cell_type": "code",
   "execution_count": 88,
   "metadata": {},
   "outputs": [
    {
     "data": {
      "text/html": [
       "<div>\n",
       "<style scoped>\n",
       "    .dataframe tbody tr th:only-of-type {\n",
       "        vertical-align: middle;\n",
       "    }\n",
       "\n",
       "    .dataframe tbody tr th {\n",
       "        vertical-align: top;\n",
       "    }\n",
       "\n",
       "    .dataframe thead th {\n",
       "        text-align: right;\n",
       "    }\n",
       "</style>\n",
       "<table border=\"1\" class=\"dataframe\">\n",
       "  <thead>\n",
       "    <tr style=\"text-align: right;\">\n",
       "      <th></th>\n",
       "      <th>Material</th>\n",
       "      <th>Canal</th>\n",
       "      <th>Venta UMB</th>\n",
       "    </tr>\n",
       "  </thead>\n",
       "  <tbody>\n",
       "    <tr>\n",
       "      <th>0</th>\n",
       "      <td>1000147</td>\n",
       "      <td>Retail</td>\n",
       "      <td>30</td>\n",
       "    </tr>\n",
       "    <tr>\n",
       "      <th>1</th>\n",
       "      <td>1000148</td>\n",
       "      <td>Retail</td>\n",
       "      <td>82</td>\n",
       "    </tr>\n",
       "  </tbody>\n",
       "</table>\n",
       "</div>"
      ],
      "text/plain": [
       "  Material   Canal  Venta UMB\n",
       "0  1000147  Retail         30\n",
       "1  1000148  Retail         82"
      ]
     },
     "execution_count": 88,
     "metadata": {},
     "output_type": "execute_result"
    }
   ],
   "source": [
    "td_sellin.head(2)"
   ]
  },
  {
   "cell_type": "code",
   "execution_count": 89,
   "metadata": {},
   "outputs": [
    {
     "data": {
      "text/plain": [
       "(1380003, 10)"
      ]
     },
     "execution_count": 89,
     "metadata": {},
     "output_type": "execute_result"
    }
   ],
   "source": [
    "df_combinado.shape"
   ]
  },
  {
   "cell_type": "code",
   "execution_count": 90,
   "metadata": {},
   "outputs": [],
   "source": [
    "from datetime import datetime, timedelta\n",
    "\n",
    "# Diccionario de meses abreviados en español\n",
    "meses_abreviados = {\n",
    "    1: 'Ene', 2: 'Feb', 3: 'Mar', 4: 'Abr', 5: 'May', 6: 'Jun',\n",
    "    7: 'Jul', 8: 'Ago', 9: 'Sept', 10: 'Oct', 11: 'Nov', 12: 'Dic'\n",
    "}\n",
    "\n",
    "nuevas_filas = td_sellin.copy()\n",
    "\n",
    "\n",
    "# Obtener las fechas relevantes\n",
    "fecha_actual = datetime.now().replace(day=1)  # Primer día del mes actual\n",
    "fecha_mes_anterior = fecha_actual - timedelta(days=1)  # Retrocede un día para llegar al mes anterior\n",
    "fecha_mes_anterior = fecha_mes_anterior.replace(day=1)  # Primer día del mes anterior\n",
    "\n",
    "# Formatear fechas para columnas específicas\n",
    "fecha_mes_anterior_str = fecha_mes_anterior.strftime('%d-%m-%Y')\n",
    "mes_numero = fecha_mes_anterior.month  # Obtiene el número del mes anterior\n",
    "mes_abreviado = meses_abreviados[mes_numero]  # Usa el diccionario para obtener la abreviatura en español\n",
    "ano_actual_yy = fecha_mes_anterior.strftime('%y')  # Año actual en formato YY\n",
    "\n",
    "\n",
    "# Añadir la columna 'Fuente' con el formato requerido\n",
    "nuevas_filas['Fuente'] = f\"Sell Out RTL {mes_abreviado}-{ano_actual_yy}\"\n",
    "\n",
    "# Asegurar que todas las columnas de df_combinado estén en nuevas_filas\n",
    "for col in df_combinado.columns:\n",
    "    if col not in nuevas_filas:\n",
    "        nuevas_filas[col] = None  # Añade columnas faltantes como None o un valor por defecto\n",
    "\n",
    "\n"
   ]
  },
  {
   "cell_type": "code",
   "execution_count": 91,
   "metadata": {},
   "outputs": [
    {
     "data": {
      "text/html": [
       "<div>\n",
       "<style scoped>\n",
       "    .dataframe tbody tr th:only-of-type {\n",
       "        vertical-align: middle;\n",
       "    }\n",
       "\n",
       "    .dataframe tbody tr th {\n",
       "        vertical-align: top;\n",
       "    }\n",
       "\n",
       "    .dataframe thead th {\n",
       "        text-align: right;\n",
       "    }\n",
       "</style>\n",
       "<table border=\"1\" class=\"dataframe\">\n",
       "  <thead>\n",
       "    <tr style=\"text-align: right;\">\n",
       "      <th></th>\n",
       "      <th>Mes</th>\n",
       "      <th>Material</th>\n",
       "      <th>Canal</th>\n",
       "      <th>Venta UMB</th>\n",
       "      <th>Fuente</th>\n",
       "      <th>Ultimo Eslabón</th>\n",
       "      <th>Tipo</th>\n",
       "      <th>Canal 2</th>\n",
       "      <th>Nombre Sector</th>\n",
       "      <th>Canal 3</th>\n",
       "    </tr>\n",
       "  </thead>\n",
       "  <tbody>\n",
       "    <tr>\n",
       "      <th>1379993</th>\n",
       "      <td>2024-06-01</td>\n",
       "      <td>1171477</td>\n",
       "      <td>Retail</td>\n",
       "      <td>4.0</td>\n",
       "      <td>Sell Out RTL Jun-24</td>\n",
       "      <td>1171477</td>\n",
       "      <td>None</td>\n",
       "      <td>Retail</td>\n",
       "      <td>BAT</td>\n",
       "      <td>CL RETAIL</td>\n",
       "    </tr>\n",
       "    <tr>\n",
       "      <th>1379994</th>\n",
       "      <td>2024-06-01</td>\n",
       "      <td>1171478</td>\n",
       "      <td>Retail</td>\n",
       "      <td>122.0</td>\n",
       "      <td>Sell Out RTL Jun-24</td>\n",
       "      <td>1171478</td>\n",
       "      <td>None</td>\n",
       "      <td>Retail</td>\n",
       "      <td>BAT</td>\n",
       "      <td>CL RETAIL</td>\n",
       "    </tr>\n",
       "    <tr>\n",
       "      <th>1379995</th>\n",
       "      <td>2024-06-01</td>\n",
       "      <td>1171481</td>\n",
       "      <td>Retail</td>\n",
       "      <td>12.0</td>\n",
       "      <td>Sell Out RTL Jun-24</td>\n",
       "      <td>1171481</td>\n",
       "      <td>None</td>\n",
       "      <td>Retail</td>\n",
       "      <td>BAT</td>\n",
       "      <td>CL RETAIL</td>\n",
       "    </tr>\n",
       "    <tr>\n",
       "      <th>1379996</th>\n",
       "      <td>2024-06-01</td>\n",
       "      <td>1171484</td>\n",
       "      <td>Retail</td>\n",
       "      <td>6.0</td>\n",
       "      <td>Sell Out RTL Jun-24</td>\n",
       "      <td>1171484</td>\n",
       "      <td>None</td>\n",
       "      <td>Retail</td>\n",
       "      <td>BAT</td>\n",
       "      <td>CL RETAIL</td>\n",
       "    </tr>\n",
       "    <tr>\n",
       "      <th>1379997</th>\n",
       "      <td>2024-06-01</td>\n",
       "      <td>1171485</td>\n",
       "      <td>Retail</td>\n",
       "      <td>1.0</td>\n",
       "      <td>Sell Out RTL Jun-24</td>\n",
       "      <td>1171485</td>\n",
       "      <td>None</td>\n",
       "      <td>Retail</td>\n",
       "      <td>BAT</td>\n",
       "      <td>CL RETAIL</td>\n",
       "    </tr>\n",
       "    <tr>\n",
       "      <th>1379998</th>\n",
       "      <td>2024-06-01</td>\n",
       "      <td>1171486</td>\n",
       "      <td>Retail</td>\n",
       "      <td>3.0</td>\n",
       "      <td>Sell Out RTL Jun-24</td>\n",
       "      <td>1171486</td>\n",
       "      <td>None</td>\n",
       "      <td>Retail</td>\n",
       "      <td>BAT</td>\n",
       "      <td>CL RETAIL</td>\n",
       "    </tr>\n",
       "    <tr>\n",
       "      <th>1379999</th>\n",
       "      <td>2024-06-01</td>\n",
       "      <td>118236</td>\n",
       "      <td>Retail</td>\n",
       "      <td>1.0</td>\n",
       "      <td>Sell Out RTL Jun-24</td>\n",
       "      <td>118236</td>\n",
       "      <td>None</td>\n",
       "      <td>Retail</td>\n",
       "      <td>ACC</td>\n",
       "      <td>CL RETAIL</td>\n",
       "    </tr>\n",
       "    <tr>\n",
       "      <th>1380000</th>\n",
       "      <td>2024-06-01</td>\n",
       "      <td>367092</td>\n",
       "      <td>Retail</td>\n",
       "      <td>1.0</td>\n",
       "      <td>Sell Out RTL Jun-24</td>\n",
       "      <td>367092</td>\n",
       "      <td>None</td>\n",
       "      <td>Retail</td>\n",
       "      <td>BAT</td>\n",
       "      <td>CL RETAIL</td>\n",
       "    </tr>\n",
       "    <tr>\n",
       "      <th>1380001</th>\n",
       "      <td>2024-06-01</td>\n",
       "      <td>488676</td>\n",
       "      <td>Retail</td>\n",
       "      <td>1.0</td>\n",
       "      <td>Sell Out RTL Jun-24</td>\n",
       "      <td>488676</td>\n",
       "      <td>None</td>\n",
       "      <td>Retail</td>\n",
       "      <td>RMAQ</td>\n",
       "      <td>CL RETAIL</td>\n",
       "    </tr>\n",
       "    <tr>\n",
       "      <th>1380002</th>\n",
       "      <td>2024-06-01</td>\n",
       "      <td>625127</td>\n",
       "      <td>Retail</td>\n",
       "      <td>1.0</td>\n",
       "      <td>Sell Out RTL Jun-24</td>\n",
       "      <td>625127</td>\n",
       "      <td>None</td>\n",
       "      <td>Retail</td>\n",
       "      <td>JCB</td>\n",
       "      <td>CL RETAIL</td>\n",
       "    </tr>\n",
       "  </tbody>\n",
       "</table>\n",
       "</div>"
      ],
      "text/plain": [
       "               Mes Material   Canal  Venta UMB               Fuente  \\\n",
       "1379993 2024-06-01  1171477  Retail        4.0  Sell Out RTL Jun-24   \n",
       "1379994 2024-06-01  1171478  Retail      122.0  Sell Out RTL Jun-24   \n",
       "1379995 2024-06-01  1171481  Retail       12.0  Sell Out RTL Jun-24   \n",
       "1379996 2024-06-01  1171484  Retail        6.0  Sell Out RTL Jun-24   \n",
       "1379997 2024-06-01  1171485  Retail        1.0  Sell Out RTL Jun-24   \n",
       "1379998 2024-06-01  1171486  Retail        3.0  Sell Out RTL Jun-24   \n",
       "1379999 2024-06-01   118236  Retail        1.0  Sell Out RTL Jun-24   \n",
       "1380000 2024-06-01   367092  Retail        1.0  Sell Out RTL Jun-24   \n",
       "1380001 2024-06-01   488676  Retail        1.0  Sell Out RTL Jun-24   \n",
       "1380002 2024-06-01   625127  Retail        1.0  Sell Out RTL Jun-24   \n",
       "\n",
       "        Ultimo Eslabón  Tipo Canal 2 Nombre Sector    Canal 3  \n",
       "1379993        1171477  None  Retail           BAT  CL RETAIL  \n",
       "1379994        1171478  None  Retail           BAT  CL RETAIL  \n",
       "1379995        1171481  None  Retail           BAT  CL RETAIL  \n",
       "1379996        1171484  None  Retail           BAT  CL RETAIL  \n",
       "1379997        1171485  None  Retail           BAT  CL RETAIL  \n",
       "1379998        1171486  None  Retail           BAT  CL RETAIL  \n",
       "1379999         118236  None  Retail           ACC  CL RETAIL  \n",
       "1380000         367092  None  Retail           BAT  CL RETAIL  \n",
       "1380001         488676  None  Retail          RMAQ  CL RETAIL  \n",
       "1380002         625127  None  Retail           JCB  CL RETAIL  "
      ]
     },
     "execution_count": 91,
     "metadata": {},
     "output_type": "execute_result"
    }
   ],
   "source": [
    "df_combinado.tail(10)"
   ]
  },
  {
   "cell_type": "code",
   "execution_count": 92,
   "metadata": {},
   "outputs": [
    {
     "data": {
      "text/html": [
       "<div>\n",
       "<style scoped>\n",
       "    .dataframe tbody tr th:only-of-type {\n",
       "        vertical-align: middle;\n",
       "    }\n",
       "\n",
       "    .dataframe tbody tr th {\n",
       "        vertical-align: top;\n",
       "    }\n",
       "\n",
       "    .dataframe thead th {\n",
       "        text-align: right;\n",
       "    }\n",
       "</style>\n",
       "<table border=\"1\" class=\"dataframe\">\n",
       "  <thead>\n",
       "    <tr style=\"text-align: right;\">\n",
       "      <th></th>\n",
       "      <th>Material</th>\n",
       "      <th>Canal</th>\n",
       "      <th>Venta UMB</th>\n",
       "      <th>Fuente</th>\n",
       "      <th>Mes</th>\n",
       "      <th>Ultimo Eslabón</th>\n",
       "      <th>Tipo</th>\n",
       "      <th>Canal 2</th>\n",
       "      <th>Nombre Sector</th>\n",
       "      <th>Canal 3</th>\n",
       "    </tr>\n",
       "  </thead>\n",
       "  <tbody>\n",
       "    <tr>\n",
       "      <th>0</th>\n",
       "      <td>1000147</td>\n",
       "      <td>Retail</td>\n",
       "      <td>30</td>\n",
       "      <td>Sell Out RTL Jul-24</td>\n",
       "      <td>None</td>\n",
       "      <td>None</td>\n",
       "      <td>None</td>\n",
       "      <td>None</td>\n",
       "      <td>None</td>\n",
       "      <td>None</td>\n",
       "    </tr>\n",
       "  </tbody>\n",
       "</table>\n",
       "</div>"
      ],
      "text/plain": [
       "  Material   Canal  Venta UMB               Fuente   Mes Ultimo Eslabón  Tipo  \\\n",
       "0  1000147  Retail         30  Sell Out RTL Jul-24  None           None  None   \n",
       "\n",
       "  Canal 2 Nombre Sector Canal 3  \n",
       "0    None          None    None  "
      ]
     },
     "execution_count": 92,
     "metadata": {},
     "output_type": "execute_result"
    }
   ],
   "source": [
    "nuevas_filas.head(1)"
   ]
  },
  {
   "cell_type": "code",
   "execution_count": 93,
   "metadata": {},
   "outputs": [
    {
     "data": {
      "text/plain": [
       "(9399, 10)"
      ]
     },
     "execution_count": 93,
     "metadata": {},
     "output_type": "execute_result"
    }
   ],
   "source": [
    "nuevas_filas.shape"
   ]
  },
  {
   "cell_type": "code",
   "execution_count": 94,
   "metadata": {},
   "outputs": [
    {
     "data": {
      "text/plain": [
       "548806"
      ]
     },
     "execution_count": 94,
     "metadata": {},
     "output_type": "execute_result"
    }
   ],
   "source": [
    "sumafilas=nuevas_filas['Venta UMB'].sum()\n",
    "sumafilas"
   ]
  },
  {
   "cell_type": "code",
   "execution_count": 95,
   "metadata": {},
   "outputs": [
    {
     "data": {
      "text/plain": [
       "Index(['Mes', 'Material', 'Canal', 'Venta UMB', 'Fuente', 'Ultimo Eslabón',\n",
       "       'Tipo', 'Canal 2', 'Nombre Sector', 'Canal 3'],\n",
       "      dtype='object')"
      ]
     },
     "execution_count": 95,
     "metadata": {},
     "output_type": "execute_result"
    }
   ],
   "source": [
    "df_combinado.columns"
   ]
  },
  {
   "cell_type": "code",
   "execution_count": 96,
   "metadata": {},
   "outputs": [
    {
     "data": {
      "text/plain": [
       "Index(['Material', 'Canal', 'Venta UMB', 'Fuente', 'Mes', 'Ultimo Eslabón',\n",
       "       'Tipo', 'Canal 2', 'Nombre Sector', 'Canal 3'],\n",
       "      dtype='object')"
      ]
     },
     "execution_count": 96,
     "metadata": {},
     "output_type": "execute_result"
    }
   ],
   "source": [
    "nuevas_filas.columns"
   ]
  },
  {
   "cell_type": "code",
   "execution_count": 97,
   "metadata": {},
   "outputs": [],
   "source": [
    "# Reordenar las columnas de nuevas_filas para que coincidan con df_combinado\n",
    "nuevas_filas = nuevas_filas[['Canal', 'Material', 'Venta UMB', 'Mes', 'Ultimo Eslabón',\n",
    "                             'Tipo', 'Fuente', 'Canal 2', 'Canal 3']]\n",
    "\n"
   ]
  },
  {
   "cell_type": "code",
   "execution_count": 98,
   "metadata": {},
   "outputs": [
    {
     "data": {
      "text/html": [
       "<div>\n",
       "<style scoped>\n",
       "    .dataframe tbody tr th:only-of-type {\n",
       "        vertical-align: middle;\n",
       "    }\n",
       "\n",
       "    .dataframe tbody tr th {\n",
       "        vertical-align: top;\n",
       "    }\n",
       "\n",
       "    .dataframe thead th {\n",
       "        text-align: right;\n",
       "    }\n",
       "</style>\n",
       "<table border=\"1\" class=\"dataframe\">\n",
       "  <thead>\n",
       "    <tr style=\"text-align: right;\">\n",
       "      <th></th>\n",
       "      <th>Canal</th>\n",
       "      <th>Material</th>\n",
       "      <th>Venta UMB</th>\n",
       "      <th>Mes</th>\n",
       "      <th>Ultimo Eslabón</th>\n",
       "      <th>Tipo</th>\n",
       "      <th>Fuente</th>\n",
       "      <th>Canal 2</th>\n",
       "      <th>Canal 3</th>\n",
       "    </tr>\n",
       "  </thead>\n",
       "  <tbody>\n",
       "    <tr>\n",
       "      <th>0</th>\n",
       "      <td>Retail</td>\n",
       "      <td>1000147</td>\n",
       "      <td>30</td>\n",
       "      <td>None</td>\n",
       "      <td>None</td>\n",
       "      <td>None</td>\n",
       "      <td>Sell Out RTL Jul-24</td>\n",
       "      <td>None</td>\n",
       "      <td>None</td>\n",
       "    </tr>\n",
       "    <tr>\n",
       "      <th>1</th>\n",
       "      <td>Retail</td>\n",
       "      <td>1000148</td>\n",
       "      <td>82</td>\n",
       "      <td>None</td>\n",
       "      <td>None</td>\n",
       "      <td>None</td>\n",
       "      <td>Sell Out RTL Jul-24</td>\n",
       "      <td>None</td>\n",
       "      <td>None</td>\n",
       "    </tr>\n",
       "  </tbody>\n",
       "</table>\n",
       "</div>"
      ],
      "text/plain": [
       "    Canal Material  Venta UMB   Mes Ultimo Eslabón  Tipo               Fuente  \\\n",
       "0  Retail  1000147         30  None           None  None  Sell Out RTL Jul-24   \n",
       "1  Retail  1000148         82  None           None  None  Sell Out RTL Jul-24   \n",
       "\n",
       "  Canal 2 Canal 3  \n",
       "0    None    None  \n",
       "1    None    None  "
      ]
     },
     "execution_count": 98,
     "metadata": {},
     "output_type": "execute_result"
    }
   ],
   "source": [
    "nuevas_filas.head(2)"
   ]
  },
  {
   "cell_type": "code",
   "execution_count": 99,
   "metadata": {},
   "outputs": [
    {
     "data": {
      "text/html": [
       "<div>\n",
       "<style scoped>\n",
       "    .dataframe tbody tr th:only-of-type {\n",
       "        vertical-align: middle;\n",
       "    }\n",
       "\n",
       "    .dataframe tbody tr th {\n",
       "        vertical-align: top;\n",
       "    }\n",
       "\n",
       "    .dataframe thead th {\n",
       "        text-align: right;\n",
       "    }\n",
       "</style>\n",
       "<table border=\"1\" class=\"dataframe\">\n",
       "  <thead>\n",
       "    <tr style=\"text-align: right;\">\n",
       "      <th></th>\n",
       "      <th>Canal</th>\n",
       "      <th>Material</th>\n",
       "      <th>Venta UMB</th>\n",
       "      <th>Mes</th>\n",
       "      <th>Ultimo Eslabón</th>\n",
       "      <th>Tipo</th>\n",
       "      <th>Fuente</th>\n",
       "      <th>Canal 2</th>\n",
       "      <th>Canal 3</th>\n",
       "      <th>SI/SO</th>\n",
       "    </tr>\n",
       "  </thead>\n",
       "  <tbody>\n",
       "    <tr>\n",
       "      <th>0</th>\n",
       "      <td>Retail</td>\n",
       "      <td>1000147</td>\n",
       "      <td>30</td>\n",
       "      <td>2024-07-01</td>\n",
       "      <td>None</td>\n",
       "      <td>None</td>\n",
       "      <td>Sell Out RTL Jul-24</td>\n",
       "      <td>Retail</td>\n",
       "      <td>None</td>\n",
       "      <td>SO</td>\n",
       "    </tr>\n",
       "  </tbody>\n",
       "</table>\n",
       "</div>"
      ],
      "text/plain": [
       "    Canal Material  Venta UMB         Mes Ultimo Eslabón  Tipo  \\\n",
       "0  Retail  1000147         30  2024-07-01           None  None   \n",
       "\n",
       "                Fuente Canal 2 Canal 3 SI/SO  \n",
       "0  Sell Out RTL Jul-24  Retail    None    SO  "
      ]
     },
     "execution_count": 99,
     "metadata": {},
     "output_type": "execute_result"
    }
   ],
   "source": [
    "import pandas as pd\n",
    "from datetime import datetime, timedelta\n",
    "nuevas_filas['SI/SO'] = 'SO'\n",
    "nuevas_filas['Canal'] = 'Retail'\n",
    "nuevas_filas['Canal 2'] = 'Retail'\n",
    "\n",
    "\n",
    "primer_dia_mes_anterior = (fecha_actual.replace(day=1) - timedelta(days=1)).replace(day=1)\n",
    "\n",
    "# Crear una columna 'Mes' con el formato especificado\n",
    "nuevas_filas['Mes'] = primer_dia_mes_anterior.strftime('%Y-%m-%d')\n",
    "nuevas_filas.head(1)"
   ]
  },
  {
   "cell_type": "code",
   "execution_count": 100,
   "metadata": {},
   "outputs": [
    {
     "data": {
      "text/plain": [
       "548806"
      ]
     },
     "execution_count": 100,
     "metadata": {},
     "output_type": "execute_result"
    }
   ],
   "source": [
    "sumanf=nuevas_filas['Venta UMB'].sum()\n",
    "sumanf"
   ]
  },
  {
   "cell_type": "code",
   "execution_count": 101,
   "metadata": {},
   "outputs": [
    {
     "data": {
      "text/plain": [
       "60456084.08033332"
      ]
     },
     "execution_count": 101,
     "metadata": {},
     "output_type": "execute_result"
    }
   ],
   "source": [
    "sumadca2=df_combinado['Venta UMB'].sum()\n",
    "sumadca2"
   ]
  },
  {
   "cell_type": "code",
   "execution_count": 102,
   "metadata": {},
   "outputs": [
    {
     "data": {
      "text/plain": [
       "(9399, 10)"
      ]
     },
     "execution_count": 102,
     "metadata": {},
     "output_type": "execute_result"
    }
   ],
   "source": [
    "nuevas_filas.shape"
   ]
  },
  {
   "cell_type": "code",
   "execution_count": 103,
   "metadata": {},
   "outputs": [
    {
     "data": {
      "text/plain": [
       "(1380003, 10)"
      ]
     },
     "execution_count": 103,
     "metadata": {},
     "output_type": "execute_result"
    }
   ],
   "source": [
    "df_combinado.shape"
   ]
  },
  {
   "cell_type": "code",
   "execution_count": 104,
   "metadata": {},
   "outputs": [
    {
     "data": {
      "text/plain": [
       "60456084.08033332"
      ]
     },
     "execution_count": 104,
     "metadata": {},
     "output_type": "execute_result"
    }
   ],
   "source": [
    "sumadfcombinado = df_combinado['Venta UMB'].sum()\n",
    "sumadfcombinado"
   ]
  },
  {
   "cell_type": "code",
   "execution_count": 105,
   "metadata": {},
   "outputs": [],
   "source": [
    "# Concatenar el DataFrame original con las nuevas filas\n",
    "df_combinado_actualizado2 = pd.concat([df_combinado, nuevas_filas], ignore_index=True)"
   ]
  },
  {
   "cell_type": "code",
   "execution_count": 106,
   "metadata": {},
   "outputs": [
    {
     "data": {
      "text/plain": [
       "61004890.08033332"
      ]
     },
     "execution_count": 106,
     "metadata": {},
     "output_type": "execute_result"
    }
   ],
   "source": [
    "sumadfcombinado = df_combinado_actualizado2['Venta UMB'].sum()\n",
    "sumadfcombinado"
   ]
  },
  {
   "cell_type": "code",
   "execution_count": 107,
   "metadata": {},
   "outputs": [
    {
     "data": {
      "text/html": [
       "<div>\n",
       "<style scoped>\n",
       "    .dataframe tbody tr th:only-of-type {\n",
       "        vertical-align: middle;\n",
       "    }\n",
       "\n",
       "    .dataframe tbody tr th {\n",
       "        vertical-align: top;\n",
       "    }\n",
       "\n",
       "    .dataframe thead th {\n",
       "        text-align: right;\n",
       "    }\n",
       "</style>\n",
       "<table border=\"1\" class=\"dataframe\">\n",
       "  <thead>\n",
       "    <tr style=\"text-align: right;\">\n",
       "      <th></th>\n",
       "      <th>Mes</th>\n",
       "      <th>Material</th>\n",
       "      <th>Canal</th>\n",
       "      <th>Venta UMB</th>\n",
       "      <th>Fuente</th>\n",
       "      <th>Ultimo Eslabón</th>\n",
       "      <th>Tipo</th>\n",
       "      <th>Canal 2</th>\n",
       "      <th>Nombre Sector</th>\n",
       "      <th>Canal 3</th>\n",
       "      <th>SI/SO</th>\n",
       "    </tr>\n",
       "  </thead>\n",
       "  <tbody>\n",
       "    <tr>\n",
       "      <th>1389400</th>\n",
       "      <td>2024-07-01</td>\n",
       "      <td>750816</td>\n",
       "      <td>Retail</td>\n",
       "      <td>4.0</td>\n",
       "      <td>Sell Out RTL Jul-24</td>\n",
       "      <td>None</td>\n",
       "      <td>None</td>\n",
       "      <td>Retail</td>\n",
       "      <td>NaN</td>\n",
       "      <td>None</td>\n",
       "      <td>SO</td>\n",
       "    </tr>\n",
       "    <tr>\n",
       "      <th>1389401</th>\n",
       "      <td>2024-07-01</td>\n",
       "      <td>752466</td>\n",
       "      <td>Retail</td>\n",
       "      <td>1.0</td>\n",
       "      <td>Sell Out RTL Jul-24</td>\n",
       "      <td>None</td>\n",
       "      <td>None</td>\n",
       "      <td>Retail</td>\n",
       "      <td>NaN</td>\n",
       "      <td>None</td>\n",
       "      <td>SO</td>\n",
       "    </tr>\n",
       "  </tbody>\n",
       "</table>\n",
       "</div>"
      ],
      "text/plain": [
       "                Mes Material   Canal  Venta UMB               Fuente  \\\n",
       "1389400  2024-07-01   750816  Retail        4.0  Sell Out RTL Jul-24   \n",
       "1389401  2024-07-01   752466  Retail        1.0  Sell Out RTL Jul-24   \n",
       "\n",
       "        Ultimo Eslabón  Tipo Canal 2 Nombre Sector Canal 3 SI/SO  \n",
       "1389400           None  None  Retail           NaN    None    SO  \n",
       "1389401           None  None  Retail           NaN    None    SO  "
      ]
     },
     "execution_count": 107,
     "metadata": {},
     "output_type": "execute_result"
    }
   ],
   "source": [
    "df_combinado_actualizado2.tail(2)"
   ]
  },
  {
   "cell_type": "code",
   "execution_count": 108,
   "metadata": {},
   "outputs": [],
   "source": [
    "df_combinado_actualizado2['Material'] = df_combinado_actualizado2['Material'].astype(str).str.replace('.0', '', regex=False)"
   ]
  },
  {
   "cell_type": "code",
   "execution_count": 109,
   "metadata": {},
   "outputs": [
    {
     "data": {
      "text/html": [
       "<div>\n",
       "<style scoped>\n",
       "    .dataframe tbody tr th:only-of-type {\n",
       "        vertical-align: middle;\n",
       "    }\n",
       "\n",
       "    .dataframe tbody tr th {\n",
       "        vertical-align: top;\n",
       "    }\n",
       "\n",
       "    .dataframe thead th {\n",
       "        text-align: right;\n",
       "    }\n",
       "</style>\n",
       "<table border=\"1\" class=\"dataframe\">\n",
       "  <thead>\n",
       "    <tr style=\"text-align: right;\">\n",
       "      <th></th>\n",
       "      <th>Mes</th>\n",
       "      <th>Material</th>\n",
       "      <th>Canal</th>\n",
       "      <th>Venta UMB</th>\n",
       "      <th>Fuente</th>\n",
       "      <th>Ultimo Eslabón</th>\n",
       "      <th>Tipo</th>\n",
       "      <th>Canal 2</th>\n",
       "      <th>Nombre Sector</th>\n",
       "      <th>Canal 3</th>\n",
       "      <th>SI/SO</th>\n",
       "    </tr>\n",
       "  </thead>\n",
       "  <tbody>\n",
       "    <tr>\n",
       "      <th>0</th>\n",
       "      <td>2021-06-01 00:00:00</td>\n",
       "      <td>1000147</td>\n",
       "      <td>AP</td>\n",
       "      <td>52.0</td>\n",
       "      <td>Sell Out MB51 - SISO</td>\n",
       "      <td>1000147</td>\n",
       "      <td>ACC</td>\n",
       "      <td>Retail</td>\n",
       "      <td>ACC</td>\n",
       "      <td>CL RETAIL</td>\n",
       "      <td>NaN</td>\n",
       "    </tr>\n",
       "    <tr>\n",
       "      <th>1</th>\n",
       "      <td>2021-05-01 00:00:00</td>\n",
       "      <td>1000147</td>\n",
       "      <td>AP</td>\n",
       "      <td>40.0</td>\n",
       "      <td>Sell Out MB51 - SISO</td>\n",
       "      <td>1000147</td>\n",
       "      <td>ACC</td>\n",
       "      <td>Retail</td>\n",
       "      <td>ACC</td>\n",
       "      <td>CL RETAIL</td>\n",
       "      <td>NaN</td>\n",
       "    </tr>\n",
       "    <tr>\n",
       "      <th>2</th>\n",
       "      <td>2021-04-01 00:00:00</td>\n",
       "      <td>1000147</td>\n",
       "      <td>AP</td>\n",
       "      <td>18.0</td>\n",
       "      <td>Sell Out MB51 - SISO</td>\n",
       "      <td>1000147</td>\n",
       "      <td>ACC</td>\n",
       "      <td>Retail</td>\n",
       "      <td>ACC</td>\n",
       "      <td>CL RETAIL</td>\n",
       "      <td>NaN</td>\n",
       "    </tr>\n",
       "    <tr>\n",
       "      <th>3</th>\n",
       "      <td>2021-03-01 00:00:00</td>\n",
       "      <td>1000147</td>\n",
       "      <td>AP</td>\n",
       "      <td>34.0</td>\n",
       "      <td>Sell Out MB51 - SISO</td>\n",
       "      <td>1000147</td>\n",
       "      <td>ACC</td>\n",
       "      <td>Retail</td>\n",
       "      <td>ACC</td>\n",
       "      <td>CL RETAIL</td>\n",
       "      <td>NaN</td>\n",
       "    </tr>\n",
       "    <tr>\n",
       "      <th>4</th>\n",
       "      <td>2021-02-01 00:00:00</td>\n",
       "      <td>1000147</td>\n",
       "      <td>AP</td>\n",
       "      <td>41.0</td>\n",
       "      <td>Sell Out MB51 - SISO</td>\n",
       "      <td>1000147</td>\n",
       "      <td>ACC</td>\n",
       "      <td>Retail</td>\n",
       "      <td>ACC</td>\n",
       "      <td>CL RETAIL</td>\n",
       "      <td>NaN</td>\n",
       "    </tr>\n",
       "    <tr>\n",
       "      <th>...</th>\n",
       "      <td>...</td>\n",
       "      <td>...</td>\n",
       "      <td>...</td>\n",
       "      <td>...</td>\n",
       "      <td>...</td>\n",
       "      <td>...</td>\n",
       "      <td>...</td>\n",
       "      <td>...</td>\n",
       "      <td>...</td>\n",
       "      <td>...</td>\n",
       "      <td>...</td>\n",
       "    </tr>\n",
       "    <tr>\n",
       "      <th>1389397</th>\n",
       "      <td>2024-07-01</td>\n",
       "      <td>750797</td>\n",
       "      <td>Retail</td>\n",
       "      <td>1.0</td>\n",
       "      <td>Sell Out RTL Jul-24</td>\n",
       "      <td>None</td>\n",
       "      <td>None</td>\n",
       "      <td>Retail</td>\n",
       "      <td>NaN</td>\n",
       "      <td>None</td>\n",
       "      <td>SO</td>\n",
       "    </tr>\n",
       "    <tr>\n",
       "      <th>1389398</th>\n",
       "      <td>2024-07-01</td>\n",
       "      <td>750803</td>\n",
       "      <td>Retail</td>\n",
       "      <td>12.0</td>\n",
       "      <td>Sell Out RTL Jul-24</td>\n",
       "      <td>None</td>\n",
       "      <td>None</td>\n",
       "      <td>Retail</td>\n",
       "      <td>NaN</td>\n",
       "      <td>None</td>\n",
       "      <td>SO</td>\n",
       "    </tr>\n",
       "    <tr>\n",
       "      <th>1389399</th>\n",
       "      <td>2024-07-01</td>\n",
       "      <td>750809</td>\n",
       "      <td>Retail</td>\n",
       "      <td>3.0</td>\n",
       "      <td>Sell Out RTL Jul-24</td>\n",
       "      <td>None</td>\n",
       "      <td>None</td>\n",
       "      <td>Retail</td>\n",
       "      <td>NaN</td>\n",
       "      <td>None</td>\n",
       "      <td>SO</td>\n",
       "    </tr>\n",
       "    <tr>\n",
       "      <th>1389400</th>\n",
       "      <td>2024-07-01</td>\n",
       "      <td>750816</td>\n",
       "      <td>Retail</td>\n",
       "      <td>4.0</td>\n",
       "      <td>Sell Out RTL Jul-24</td>\n",
       "      <td>None</td>\n",
       "      <td>None</td>\n",
       "      <td>Retail</td>\n",
       "      <td>NaN</td>\n",
       "      <td>None</td>\n",
       "      <td>SO</td>\n",
       "    </tr>\n",
       "    <tr>\n",
       "      <th>1389401</th>\n",
       "      <td>2024-07-01</td>\n",
       "      <td>752466</td>\n",
       "      <td>Retail</td>\n",
       "      <td>1.0</td>\n",
       "      <td>Sell Out RTL Jul-24</td>\n",
       "      <td>None</td>\n",
       "      <td>None</td>\n",
       "      <td>Retail</td>\n",
       "      <td>NaN</td>\n",
       "      <td>None</td>\n",
       "      <td>SO</td>\n",
       "    </tr>\n",
       "  </tbody>\n",
       "</table>\n",
       "<p>1389402 rows × 11 columns</p>\n",
       "</div>"
      ],
      "text/plain": [
       "                         Mes Material   Canal  Venta UMB  \\\n",
       "0        2021-06-01 00:00:00  1000147      AP       52.0   \n",
       "1        2021-05-01 00:00:00  1000147      AP       40.0   \n",
       "2        2021-04-01 00:00:00  1000147      AP       18.0   \n",
       "3        2021-03-01 00:00:00  1000147      AP       34.0   \n",
       "4        2021-02-01 00:00:00  1000147      AP       41.0   \n",
       "...                      ...      ...     ...        ...   \n",
       "1389397           2024-07-01   750797  Retail        1.0   \n",
       "1389398           2024-07-01   750803  Retail       12.0   \n",
       "1389399           2024-07-01   750809  Retail        3.0   \n",
       "1389400           2024-07-01   750816  Retail        4.0   \n",
       "1389401           2024-07-01   752466  Retail        1.0   \n",
       "\n",
       "                       Fuente Ultimo Eslabón  Tipo Canal 2 Nombre Sector  \\\n",
       "0        Sell Out MB51 - SISO        1000147   ACC  Retail           ACC   \n",
       "1        Sell Out MB51 - SISO        1000147   ACC  Retail           ACC   \n",
       "2        Sell Out MB51 - SISO        1000147   ACC  Retail           ACC   \n",
       "3        Sell Out MB51 - SISO        1000147   ACC  Retail           ACC   \n",
       "4        Sell Out MB51 - SISO        1000147   ACC  Retail           ACC   \n",
       "...                       ...            ...   ...     ...           ...   \n",
       "1389397   Sell Out RTL Jul-24           None  None  Retail           NaN   \n",
       "1389398   Sell Out RTL Jul-24           None  None  Retail           NaN   \n",
       "1389399   Sell Out RTL Jul-24           None  None  Retail           NaN   \n",
       "1389400   Sell Out RTL Jul-24           None  None  Retail           NaN   \n",
       "1389401   Sell Out RTL Jul-24           None  None  Retail           NaN   \n",
       "\n",
       "           Canal 3 SI/SO  \n",
       "0        CL RETAIL   NaN  \n",
       "1        CL RETAIL   NaN  \n",
       "2        CL RETAIL   NaN  \n",
       "3        CL RETAIL   NaN  \n",
       "4        CL RETAIL   NaN  \n",
       "...            ...   ...  \n",
       "1389397       None    SO  \n",
       "1389398       None    SO  \n",
       "1389399       None    SO  \n",
       "1389400       None    SO  \n",
       "1389401       None    SO  \n",
       "\n",
       "[1389402 rows x 11 columns]"
      ]
     },
     "execution_count": 109,
     "metadata": {},
     "output_type": "execute_result"
    }
   ],
   "source": [
    "df_combinado_actualizado2"
   ]
  },
  {
   "cell_type": "code",
   "execution_count": 110,
   "metadata": {},
   "outputs": [
    {
     "data": {
      "text/plain": [
       "array([Timestamp('2021-06-01 00:00:00'), Timestamp('2021-05-01 00:00:00'),\n",
       "       Timestamp('2021-04-01 00:00:00'), Timestamp('2021-03-01 00:00:00'),\n",
       "       Timestamp('2021-02-01 00:00:00'), Timestamp('2021-01-01 00:00:00'),\n",
       "       Timestamp('2020-12-01 00:00:00'), Timestamp('2020-11-01 00:00:00'),\n",
       "       Timestamp('2020-10-01 00:00:00'), Timestamp('2020-08-01 00:00:00'),\n",
       "       Timestamp('2020-07-01 00:00:00'), Timestamp('2020-06-01 00:00:00'),\n",
       "       Timestamp('2020-05-01 00:00:00'), Timestamp('2020-04-01 00:00:00'),\n",
       "       Timestamp('2020-03-01 00:00:00'), Timestamp('2020-02-01 00:00:00'),\n",
       "       Timestamp('2020-01-01 00:00:00'), Timestamp('2020-09-01 00:00:00'),\n",
       "       Timestamp('2021-08-01 00:00:00'), Timestamp('2021-07-01 00:00:00'),\n",
       "       Timestamp('2021-09-01 00:00:00'), Timestamp('2021-10-01 00:00:00'),\n",
       "       Timestamp('2021-11-01 00:00:00'), Timestamp('2021-12-01 00:00:00'),\n",
       "       Timestamp('2022-01-01 00:00:00'), Timestamp('2022-02-01 00:00:00'),\n",
       "       Timestamp('2022-03-01 00:00:00'), Timestamp('2022-04-01 00:00:00'),\n",
       "       Timestamp('2022-05-01 00:00:00'), Timestamp('2022-06-01 00:00:00'),\n",
       "       Timestamp('2022-07-01 00:00:00'), Timestamp('2022-08-01 00:00:00'),\n",
       "       Timestamp('2022-09-01 00:00:00'), Timestamp('2022-10-01 00:00:00'),\n",
       "       Timestamp('2022-11-01 00:00:00'), Timestamp('2022-12-01 00:00:00'),\n",
       "       Timestamp('2023-01-01 00:00:00'), Timestamp('2023-02-01 00:00:00'),\n",
       "       Timestamp('2023-03-01 00:00:00'), Timestamp('2023-04-01 00:00:00'),\n",
       "       Timestamp('2023-05-01 00:00:00'), Timestamp('2023-06-01 00:00:00'),\n",
       "       Timestamp('2023-07-01 00:00:00'), Timestamp('2023-08-01 00:00:00'),\n",
       "       Timestamp('2023-09-01 00:00:00'), Timestamp('2023-10-01 00:00:00'),\n",
       "       Timestamp('2023-11-01 00:00:00'), Timestamp('2023-12-01 00:00:00'),\n",
       "       Timestamp('2024-01-01 00:00:00'), Timestamp('2024-02-01 00:00:00'),\n",
       "       Timestamp('2024-03-01 00:00:00'), Timestamp('2024-04-01 00:00:00'),\n",
       "       Timestamp('2024-05-01 00:00:00'), Timestamp('2024-06-01 00:00:00'),\n",
       "       Timestamp('2019-09-01 00:00:00'), Timestamp('2019-07-01 00:00:00'),\n",
       "       Timestamp('2019-08-01 00:00:00'), Timestamp('2019-10-01 00:00:00'),\n",
       "       Timestamp('2019-11-01 00:00:00'), Timestamp('2019-12-01 00:00:00'),\n",
       "       Timestamp('2019-04-01 00:00:00'), Timestamp('2019-05-01 00:00:00'),\n",
       "       Timestamp('2019-06-01 00:00:00'), Timestamp('2018-04-01 00:00:00'),\n",
       "       Timestamp('2018-01-01 00:00:00'), Timestamp('2018-02-01 00:00:00'),\n",
       "       Timestamp('2018-05-01 00:00:00'), Timestamp('2018-06-01 00:00:00'),\n",
       "       Timestamp('2018-07-01 00:00:00'), Timestamp('2019-02-01 00:00:00'),\n",
       "       Timestamp('2018-03-01 00:00:00'), Timestamp('2018-08-01 00:00:00'),\n",
       "       Timestamp('2018-09-01 00:00:00'), Timestamp('2018-10-01 00:00:00'),\n",
       "       Timestamp('2018-12-01 00:00:00'), Timestamp('2019-03-01 00:00:00'),\n",
       "       Timestamp('2018-11-01 00:00:00'), Timestamp('2019-01-01 00:00:00'),\n",
       "       '2024-07-01'], dtype=object)"
      ]
     },
     "execution_count": 110,
     "metadata": {},
     "output_type": "execute_result"
    }
   ],
   "source": [
    "df_combinado_actualizado2['Material'] = df_combinado_actualizado2['Material'].astype(str)\n",
    "ax = df_combinado_actualizado2['Mes'].unique()\n",
    "ax"
   ]
  },
  {
   "cell_type": "code",
   "execution_count": 111,
   "metadata": {},
   "outputs": [
    {
     "data": {
      "text/plain": [
       "10813"
      ]
     },
     "execution_count": 111,
     "metadata": {},
     "output_type": "execute_result"
    }
   ],
   "source": [
    "# Asegurarse de que la columna 'Mes' sea del tipo datetime\n",
    "df_combinado_actualizado2['Mes'] = pd.to_datetime(df_combinado_actualizado2['Mes'])\n",
    "\n",
    "# Contar las filas que tienen 'Mes' igual a \"2024-04-01\"\n",
    "lineas_con_mes_abril = df_combinado_actualizado2[df_combinado_actualizado2['Mes'] == \"2024-04-01\"].shape[0]\n",
    "\n",
    "lineas_con_mes_abril\n"
   ]
  },
  {
   "cell_type": "code",
   "execution_count": 112,
   "metadata": {},
   "outputs": [
    {
     "data": {
      "text/plain": [
       "0"
      ]
     },
     "execution_count": 112,
     "metadata": {},
     "output_type": "execute_result"
    }
   ],
   "source": [
    "# Contar las filas que contienen \"Abr-24\" en la columna 'Fuente'\n",
    "lineas_con_abr_24 = df_combinado_actualizado2[df_combinado_actualizado2['Fuente'].str.contains(\"Abr-24\", na=False)].shape[0]\n",
    "\n",
    "lineas_con_abr_24"
   ]
  },
  {
   "cell_type": "code",
   "execution_count": 113,
   "metadata": {},
   "outputs": [
    {
     "data": {
      "text/plain": [
       "61004890.08033332"
      ]
     },
     "execution_count": 113,
     "metadata": {},
     "output_type": "execute_result"
    }
   ],
   "source": [
    "sumadca23=df_combinado_actualizado2['Venta UMB'].sum()\n",
    "sumadca23"
   ]
  },
  {
   "cell_type": "code",
   "execution_count": 114,
   "metadata": {},
   "outputs": [],
   "source": [
    "\n",
    "# df_filtrado = df_combinado_actualizado2[df_combinado_actualizado2['Fuente'] == 'Sell In Abr-24']\n",
    "\n",
    "# # Verificar si hay filas filtradas\n",
    "# if not df_filtrado.empty:\n",
    "#     # Guardar el DataFrame filtrado en un archivo CSV\n",
    "#     ruta_archivo = r'C:\\Users\\etorres\\Desktop\\df_filtrado.csv'\n",
    "#     df_filtrado.to_csv(ruta_archivo, sep=';', decimal=',', index=False)\n",
    "#     print(f\"Se ha guardado el DataFrame filtrado en '{ruta_archivo}'\")\n",
    "# else:\n",
    "#     print(\"No hay filas que cumplan con el criterio de filtrado.\")\n"
   ]
  },
  {
   "cell_type": "code",
   "execution_count": 115,
   "metadata": {},
   "outputs": [
    {
     "data": {
      "text/html": [
       "<div>\n",
       "<style scoped>\n",
       "    .dataframe tbody tr th:only-of-type {\n",
       "        vertical-align: middle;\n",
       "    }\n",
       "\n",
       "    .dataframe tbody tr th {\n",
       "        vertical-align: top;\n",
       "    }\n",
       "\n",
       "    .dataframe thead th {\n",
       "        text-align: right;\n",
       "    }\n",
       "</style>\n",
       "<table border=\"1\" class=\"dataframe\">\n",
       "  <thead>\n",
       "    <tr style=\"text-align: right;\">\n",
       "      <th></th>\n",
       "      <th>Mes</th>\n",
       "      <th>Material</th>\n",
       "      <th>Canal</th>\n",
       "      <th>Venta UMB</th>\n",
       "      <th>Fuente</th>\n",
       "      <th>Ultimo Eslabón</th>\n",
       "      <th>Tipo</th>\n",
       "      <th>Canal 2</th>\n",
       "      <th>Nombre Sector</th>\n",
       "      <th>Canal 3</th>\n",
       "      <th>SI/SO</th>\n",
       "    </tr>\n",
       "  </thead>\n",
       "  <tbody>\n",
       "    <tr>\n",
       "      <th>1389400</th>\n",
       "      <td>2024-07-01</td>\n",
       "      <td>750816</td>\n",
       "      <td>Retail</td>\n",
       "      <td>4.0</td>\n",
       "      <td>Sell Out RTL Jul-24</td>\n",
       "      <td>None</td>\n",
       "      <td>None</td>\n",
       "      <td>Retail</td>\n",
       "      <td>NaN</td>\n",
       "      <td>None</td>\n",
       "      <td>SO</td>\n",
       "    </tr>\n",
       "    <tr>\n",
       "      <th>1389401</th>\n",
       "      <td>2024-07-01</td>\n",
       "      <td>752466</td>\n",
       "      <td>Retail</td>\n",
       "      <td>1.0</td>\n",
       "      <td>Sell Out RTL Jul-24</td>\n",
       "      <td>None</td>\n",
       "      <td>None</td>\n",
       "      <td>Retail</td>\n",
       "      <td>NaN</td>\n",
       "      <td>None</td>\n",
       "      <td>SO</td>\n",
       "    </tr>\n",
       "  </tbody>\n",
       "</table>\n",
       "</div>"
      ],
      "text/plain": [
       "               Mes Material   Canal  Venta UMB               Fuente  \\\n",
       "1389400 2024-07-01   750816  Retail        4.0  Sell Out RTL Jul-24   \n",
       "1389401 2024-07-01   752466  Retail        1.0  Sell Out RTL Jul-24   \n",
       "\n",
       "        Ultimo Eslabón  Tipo Canal 2 Nombre Sector Canal 3 SI/SO  \n",
       "1389400           None  None  Retail           NaN    None    SO  \n",
       "1389401           None  None  Retail           NaN    None    SO  "
      ]
     },
     "execution_count": 115,
     "metadata": {},
     "output_type": "execute_result"
    }
   ],
   "source": [
    "df_combinado_actualizado2.tail(2)"
   ]
  },
  {
   "cell_type": "markdown",
   "metadata": {},
   "source": []
  },
  {
   "cell_type": "code",
   "execution_count": 116,
   "metadata": {},
   "outputs": [
    {
     "data": {
      "text/html": [
       "<div>\n",
       "<style scoped>\n",
       "    .dataframe tbody tr th:only-of-type {\n",
       "        vertical-align: middle;\n",
       "    }\n",
       "\n",
       "    .dataframe tbody tr th {\n",
       "        vertical-align: top;\n",
       "    }\n",
       "\n",
       "    .dataframe thead th {\n",
       "        text-align: right;\n",
       "    }\n",
       "</style>\n",
       "<table border=\"1\" class=\"dataframe\">\n",
       "  <thead>\n",
       "    <tr style=\"text-align: right;\">\n",
       "      <th></th>\n",
       "      <th>Mes</th>\n",
       "      <th>Material</th>\n",
       "      <th>Canal</th>\n",
       "      <th>Venta UMB</th>\n",
       "      <th>Fuente</th>\n",
       "      <th>Ultimo Eslabón</th>\n",
       "      <th>Tipo</th>\n",
       "      <th>Canal 2</th>\n",
       "      <th>Nombre Sector</th>\n",
       "      <th>Canal 3</th>\n",
       "      <th>SI/SO</th>\n",
       "    </tr>\n",
       "  </thead>\n",
       "  <tbody>\n",
       "    <tr>\n",
       "      <th>0</th>\n",
       "      <td>2021-06-01</td>\n",
       "      <td>1000147</td>\n",
       "      <td>AP</td>\n",
       "      <td>52.0</td>\n",
       "      <td>Sell Out MB51 - SISO</td>\n",
       "      <td>1000147</td>\n",
       "      <td>ACC</td>\n",
       "      <td>Retail</td>\n",
       "      <td>ACC</td>\n",
       "      <td>CL RETAIL</td>\n",
       "      <td>NaN</td>\n",
       "    </tr>\n",
       "    <tr>\n",
       "      <th>1</th>\n",
       "      <td>2021-05-01</td>\n",
       "      <td>1000147</td>\n",
       "      <td>AP</td>\n",
       "      <td>40.0</td>\n",
       "      <td>Sell Out MB51 - SISO</td>\n",
       "      <td>1000147</td>\n",
       "      <td>ACC</td>\n",
       "      <td>Retail</td>\n",
       "      <td>ACC</td>\n",
       "      <td>CL RETAIL</td>\n",
       "      <td>NaN</td>\n",
       "    </tr>\n",
       "    <tr>\n",
       "      <th>2</th>\n",
       "      <td>2021-04-01</td>\n",
       "      <td>1000147</td>\n",
       "      <td>AP</td>\n",
       "      <td>18.0</td>\n",
       "      <td>Sell Out MB51 - SISO</td>\n",
       "      <td>1000147</td>\n",
       "      <td>ACC</td>\n",
       "      <td>Retail</td>\n",
       "      <td>ACC</td>\n",
       "      <td>CL RETAIL</td>\n",
       "      <td>NaN</td>\n",
       "    </tr>\n",
       "    <tr>\n",
       "      <th>3</th>\n",
       "      <td>2021-03-01</td>\n",
       "      <td>1000147</td>\n",
       "      <td>AP</td>\n",
       "      <td>34.0</td>\n",
       "      <td>Sell Out MB51 - SISO</td>\n",
       "      <td>1000147</td>\n",
       "      <td>ACC</td>\n",
       "      <td>Retail</td>\n",
       "      <td>ACC</td>\n",
       "      <td>CL RETAIL</td>\n",
       "      <td>NaN</td>\n",
       "    </tr>\n",
       "    <tr>\n",
       "      <th>4</th>\n",
       "      <td>2021-02-01</td>\n",
       "      <td>1000147</td>\n",
       "      <td>AP</td>\n",
       "      <td>41.0</td>\n",
       "      <td>Sell Out MB51 - SISO</td>\n",
       "      <td>1000147</td>\n",
       "      <td>ACC</td>\n",
       "      <td>Retail</td>\n",
       "      <td>ACC</td>\n",
       "      <td>CL RETAIL</td>\n",
       "      <td>NaN</td>\n",
       "    </tr>\n",
       "    <tr>\n",
       "      <th>...</th>\n",
       "      <td>...</td>\n",
       "      <td>...</td>\n",
       "      <td>...</td>\n",
       "      <td>...</td>\n",
       "      <td>...</td>\n",
       "      <td>...</td>\n",
       "      <td>...</td>\n",
       "      <td>...</td>\n",
       "      <td>...</td>\n",
       "      <td>...</td>\n",
       "      <td>...</td>\n",
       "    </tr>\n",
       "    <tr>\n",
       "      <th>1389397</th>\n",
       "      <td>2024-07-01</td>\n",
       "      <td>750797</td>\n",
       "      <td>Retail</td>\n",
       "      <td>1.0</td>\n",
       "      <td>Sell Out RTL Jul-24</td>\n",
       "      <td>None</td>\n",
       "      <td>None</td>\n",
       "      <td>Retail</td>\n",
       "      <td>NaN</td>\n",
       "      <td>None</td>\n",
       "      <td>SO</td>\n",
       "    </tr>\n",
       "    <tr>\n",
       "      <th>1389398</th>\n",
       "      <td>2024-07-01</td>\n",
       "      <td>750803</td>\n",
       "      <td>Retail</td>\n",
       "      <td>12.0</td>\n",
       "      <td>Sell Out RTL Jul-24</td>\n",
       "      <td>None</td>\n",
       "      <td>None</td>\n",
       "      <td>Retail</td>\n",
       "      <td>NaN</td>\n",
       "      <td>None</td>\n",
       "      <td>SO</td>\n",
       "    </tr>\n",
       "    <tr>\n",
       "      <th>1389399</th>\n",
       "      <td>2024-07-01</td>\n",
       "      <td>750809</td>\n",
       "      <td>Retail</td>\n",
       "      <td>3.0</td>\n",
       "      <td>Sell Out RTL Jul-24</td>\n",
       "      <td>None</td>\n",
       "      <td>None</td>\n",
       "      <td>Retail</td>\n",
       "      <td>NaN</td>\n",
       "      <td>None</td>\n",
       "      <td>SO</td>\n",
       "    </tr>\n",
       "    <tr>\n",
       "      <th>1389400</th>\n",
       "      <td>2024-07-01</td>\n",
       "      <td>750816</td>\n",
       "      <td>Retail</td>\n",
       "      <td>4.0</td>\n",
       "      <td>Sell Out RTL Jul-24</td>\n",
       "      <td>None</td>\n",
       "      <td>None</td>\n",
       "      <td>Retail</td>\n",
       "      <td>NaN</td>\n",
       "      <td>None</td>\n",
       "      <td>SO</td>\n",
       "    </tr>\n",
       "    <tr>\n",
       "      <th>1389401</th>\n",
       "      <td>2024-07-01</td>\n",
       "      <td>752466</td>\n",
       "      <td>Retail</td>\n",
       "      <td>1.0</td>\n",
       "      <td>Sell Out RTL Jul-24</td>\n",
       "      <td>None</td>\n",
       "      <td>None</td>\n",
       "      <td>Retail</td>\n",
       "      <td>NaN</td>\n",
       "      <td>None</td>\n",
       "      <td>SO</td>\n",
       "    </tr>\n",
       "  </tbody>\n",
       "</table>\n",
       "<p>1389402 rows × 11 columns</p>\n",
       "</div>"
      ],
      "text/plain": [
       "               Mes Material   Canal  Venta UMB                Fuente  \\\n",
       "0       2021-06-01  1000147      AP       52.0  Sell Out MB51 - SISO   \n",
       "1       2021-05-01  1000147      AP       40.0  Sell Out MB51 - SISO   \n",
       "2       2021-04-01  1000147      AP       18.0  Sell Out MB51 - SISO   \n",
       "3       2021-03-01  1000147      AP       34.0  Sell Out MB51 - SISO   \n",
       "4       2021-02-01  1000147      AP       41.0  Sell Out MB51 - SISO   \n",
       "...            ...      ...     ...        ...                   ...   \n",
       "1389397 2024-07-01   750797  Retail        1.0   Sell Out RTL Jul-24   \n",
       "1389398 2024-07-01   750803  Retail       12.0   Sell Out RTL Jul-24   \n",
       "1389399 2024-07-01   750809  Retail        3.0   Sell Out RTL Jul-24   \n",
       "1389400 2024-07-01   750816  Retail        4.0   Sell Out RTL Jul-24   \n",
       "1389401 2024-07-01   752466  Retail        1.0   Sell Out RTL Jul-24   \n",
       "\n",
       "        Ultimo Eslabón  Tipo Canal 2 Nombre Sector    Canal 3 SI/SO  \n",
       "0              1000147   ACC  Retail           ACC  CL RETAIL   NaN  \n",
       "1              1000147   ACC  Retail           ACC  CL RETAIL   NaN  \n",
       "2              1000147   ACC  Retail           ACC  CL RETAIL   NaN  \n",
       "3              1000147   ACC  Retail           ACC  CL RETAIL   NaN  \n",
       "4              1000147   ACC  Retail           ACC  CL RETAIL   NaN  \n",
       "...                ...   ...     ...           ...        ...   ...  \n",
       "1389397           None  None  Retail           NaN       None    SO  \n",
       "1389398           None  None  Retail           NaN       None    SO  \n",
       "1389399           None  None  Retail           NaN       None    SO  \n",
       "1389400           None  None  Retail           NaN       None    SO  \n",
       "1389401           None  None  Retail           NaN       None    SO  \n",
       "\n",
       "[1389402 rows x 11 columns]"
      ]
     },
     "execution_count": 116,
     "metadata": {},
     "output_type": "execute_result"
    }
   ],
   "source": [
    "df_combinado_actualizado2"
   ]
  },
  {
   "cell_type": "markdown",
   "metadata": {},
   "source": [
    "PONIENDOLE EL CANAL 3 CORREPSONDIENTE"
   ]
  },
  {
   "cell_type": "code",
   "execution_count": 117,
   "metadata": {},
   "outputs": [
    {
     "data": {
      "text/html": [
       "<div>\n",
       "<style scoped>\n",
       "    .dataframe tbody tr th:only-of-type {\n",
       "        vertical-align: middle;\n",
       "    }\n",
       "\n",
       "    .dataframe tbody tr th {\n",
       "        vertical-align: top;\n",
       "    }\n",
       "\n",
       "    .dataframe thead th {\n",
       "        text-align: right;\n",
       "    }\n",
       "</style>\n",
       "<table border=\"1\" class=\"dataframe\">\n",
       "  <thead>\n",
       "    <tr style=\"text-align: right;\">\n",
       "      <th></th>\n",
       "      <th>Mes</th>\n",
       "      <th>Material</th>\n",
       "      <th>Canal</th>\n",
       "      <th>Venta UMB</th>\n",
       "      <th>Fuente</th>\n",
       "      <th>Ultimo Eslabón</th>\n",
       "      <th>Tipo</th>\n",
       "      <th>Canal 2</th>\n",
       "      <th>Nombre Sector</th>\n",
       "      <th>Canal 3</th>\n",
       "      <th>SI/SO</th>\n",
       "    </tr>\n",
       "  </thead>\n",
       "  <tbody>\n",
       "    <tr>\n",
       "      <th>1389400</th>\n",
       "      <td>2024-07-01</td>\n",
       "      <td>750816</td>\n",
       "      <td>Retail</td>\n",
       "      <td>4.0</td>\n",
       "      <td>Sell Out RTL Jul-24</td>\n",
       "      <td>None</td>\n",
       "      <td>None</td>\n",
       "      <td>Retail</td>\n",
       "      <td>NaN</td>\n",
       "      <td>None</td>\n",
       "      <td>SO</td>\n",
       "    </tr>\n",
       "    <tr>\n",
       "      <th>1389401</th>\n",
       "      <td>2024-07-01</td>\n",
       "      <td>752466</td>\n",
       "      <td>Retail</td>\n",
       "      <td>1.0</td>\n",
       "      <td>Sell Out RTL Jul-24</td>\n",
       "      <td>None</td>\n",
       "      <td>None</td>\n",
       "      <td>Retail</td>\n",
       "      <td>NaN</td>\n",
       "      <td>None</td>\n",
       "      <td>SO</td>\n",
       "    </tr>\n",
       "  </tbody>\n",
       "</table>\n",
       "</div>"
      ],
      "text/plain": [
       "               Mes Material   Canal  Venta UMB               Fuente  \\\n",
       "1389400 2024-07-01   750816  Retail        4.0  Sell Out RTL Jul-24   \n",
       "1389401 2024-07-01   752466  Retail        1.0  Sell Out RTL Jul-24   \n",
       "\n",
       "        Ultimo Eslabón  Tipo Canal 2 Nombre Sector Canal 3 SI/SO  \n",
       "1389400           None  None  Retail           NaN    None    SO  \n",
       "1389401           None  None  Retail           NaN    None    SO  "
      ]
     },
     "execution_count": 117,
     "metadata": {},
     "output_type": "execute_result"
    }
   ],
   "source": [
    "df_combinado_actualizado2.tail(2)"
   ]
  },
  {
   "cell_type": "code",
   "execution_count": 118,
   "metadata": {},
   "outputs": [],
   "source": [
    "# merged_df2 = pd.merge(totalsellin, canales, left_on='Canal', right_on='Nuevo Canal', how='left')\n",
    "# totalsellin['Nuevo Canal'] = merged_df2['Canal SAP']"
   ]
  },
  {
   "cell_type": "code",
   "execution_count": 119,
   "metadata": {},
   "outputs": [
    {
     "name": "stdout",
     "output_type": "stream",
     "text": [
      "<DatetimeArray>\n",
      "['2021-06-01 00:00:00', '2021-05-01 00:00:00', '2021-04-01 00:00:00',\n",
      " '2021-03-01 00:00:00', '2021-02-01 00:00:00', '2021-01-01 00:00:00',\n",
      " '2020-12-01 00:00:00', '2020-11-01 00:00:00', '2020-10-01 00:00:00',\n",
      " '2020-08-01 00:00:00', '2020-07-01 00:00:00', '2020-06-01 00:00:00',\n",
      " '2020-05-01 00:00:00', '2020-04-01 00:00:00', '2020-03-01 00:00:00',\n",
      " '2020-02-01 00:00:00', '2020-01-01 00:00:00', '2020-09-01 00:00:00',\n",
      " '2021-08-01 00:00:00', '2021-07-01 00:00:00', '2021-09-01 00:00:00',\n",
      " '2021-10-01 00:00:00', '2021-11-01 00:00:00', '2021-12-01 00:00:00',\n",
      " '2022-01-01 00:00:00', '2022-02-01 00:00:00', '2022-03-01 00:00:00',\n",
      " '2022-04-01 00:00:00', '2022-05-01 00:00:00', '2022-06-01 00:00:00',\n",
      " '2022-07-01 00:00:00', '2022-08-01 00:00:00', '2022-09-01 00:00:00',\n",
      " '2022-10-01 00:00:00', '2022-11-01 00:00:00', '2022-12-01 00:00:00',\n",
      " '2023-01-01 00:00:00', '2023-02-01 00:00:00', '2023-03-01 00:00:00',\n",
      " '2023-04-01 00:00:00', '2023-05-01 00:00:00', '2023-06-01 00:00:00',\n",
      " '2023-07-01 00:00:00', '2023-08-01 00:00:00', '2023-09-01 00:00:00',\n",
      " '2023-10-01 00:00:00', '2023-11-01 00:00:00', '2023-12-01 00:00:00',\n",
      " '2024-01-01 00:00:00', '2024-02-01 00:00:00', '2024-03-01 00:00:00',\n",
      " '2024-04-01 00:00:00', '2024-05-01 00:00:00', '2024-06-01 00:00:00',\n",
      " '2019-09-01 00:00:00', '2019-07-01 00:00:00', '2019-08-01 00:00:00',\n",
      " '2019-10-01 00:00:00', '2019-11-01 00:00:00', '2019-12-01 00:00:00',\n",
      " '2019-04-01 00:00:00', '2019-05-01 00:00:00', '2019-06-01 00:00:00',\n",
      " '2018-04-01 00:00:00', '2018-01-01 00:00:00', '2018-02-01 00:00:00',\n",
      " '2018-05-01 00:00:00', '2018-06-01 00:00:00', '2018-07-01 00:00:00',\n",
      " '2019-02-01 00:00:00', '2018-03-01 00:00:00', '2018-08-01 00:00:00',\n",
      " '2018-09-01 00:00:00', '2018-10-01 00:00:00', '2018-12-01 00:00:00',\n",
      " '2019-03-01 00:00:00', '2018-11-01 00:00:00', '2019-01-01 00:00:00',\n",
      " '2024-07-01 00:00:00']\n",
      "Length: 79, dtype: datetime64[ns]\n"
     ]
    }
   ],
   "source": [
    "# Asegurar que todos los valores en la columna 'Mes' de df_combinado_actualizado2 sean del tipo datetime\n",
    "df_combinado_actualizado2['Mes'] = pd.to_datetime(df_combinado_actualizado2['Mes'], errors='coerce')\n",
    "\n",
    "# Obtener los valores únicos de la columna 'Mes'\n",
    "valores_unicos_actualizado2 = df_combinado_actualizado2['Mes'].unique()\n",
    "\n",
    "# Imprimir los valores únicos de la columna 'Mes'\n",
    "print(valores_unicos_actualizado2)\n"
   ]
  },
  {
   "cell_type": "code",
   "execution_count": 120,
   "metadata": {},
   "outputs": [],
   "source": [
    "# df_combinado_actualizado2.tail(2)"
   ]
  },
  {
   "cell_type": "markdown",
   "metadata": {},
   "source": [
    "Eliminar y Cruzar ultimo eslabón"
   ]
  },
  {
   "cell_type": "code",
   "execution_count": 121,
   "metadata": {},
   "outputs": [],
   "source": [
    "consolidado = df_combinado_actualizado2"
   ]
  },
  {
   "cell_type": "code",
   "execution_count": 122,
   "metadata": {},
   "outputs": [
    {
     "data": {
      "text/plain": [
       "Index(['Mes', 'Material', 'Canal', 'Venta UMB', 'Fuente', 'Ultimo Eslabón',\n",
       "       'Tipo', 'Canal 2', 'Nombre Sector', 'Canal 3', 'SI/SO'],\n",
       "      dtype='object')"
      ]
     },
     "execution_count": 122,
     "metadata": {},
     "output_type": "execute_result"
    }
   ],
   "source": [
    "consolidado.columns"
   ]
  },
  {
   "cell_type": "code",
   "execution_count": 123,
   "metadata": {},
   "outputs": [],
   "source": [
    "# eslabon.columns"
   ]
  },
  {
   "cell_type": "code",
   "execution_count": 124,
   "metadata": {},
   "outputs": [
    {
     "data": {
      "text/html": [
       "<div>\n",
       "<style scoped>\n",
       "    .dataframe tbody tr th:only-of-type {\n",
       "        vertical-align: middle;\n",
       "    }\n",
       "\n",
       "    .dataframe tbody tr th {\n",
       "        vertical-align: top;\n",
       "    }\n",
       "\n",
       "    .dataframe thead th {\n",
       "        text-align: right;\n",
       "    }\n",
       "</style>\n",
       "<table border=\"1\" class=\"dataframe\">\n",
       "  <thead>\n",
       "    <tr style=\"text-align: right;\">\n",
       "      <th></th>\n",
       "      <th>Mes</th>\n",
       "      <th>Material</th>\n",
       "      <th>Canal</th>\n",
       "      <th>Venta UMB</th>\n",
       "      <th>Fuente</th>\n",
       "      <th>Ultimo Eslabón</th>\n",
       "      <th>Tipo</th>\n",
       "      <th>Canal 2</th>\n",
       "      <th>Nombre Sector</th>\n",
       "      <th>Canal 3</th>\n",
       "      <th>SI/SO</th>\n",
       "    </tr>\n",
       "  </thead>\n",
       "  <tbody>\n",
       "    <tr>\n",
       "      <th>0</th>\n",
       "      <td>2021-06-01</td>\n",
       "      <td>1000147</td>\n",
       "      <td>AP</td>\n",
       "      <td>52.0</td>\n",
       "      <td>Sell Out MB51 - SISO</td>\n",
       "      <td>1000147</td>\n",
       "      <td>ACC</td>\n",
       "      <td>Retail</td>\n",
       "      <td>ACC</td>\n",
       "      <td>CL RETAIL</td>\n",
       "      <td>NaN</td>\n",
       "    </tr>\n",
       "  </tbody>\n",
       "</table>\n",
       "</div>"
      ],
      "text/plain": [
       "         Mes Material Canal  Venta UMB                Fuente Ultimo Eslabón  \\\n",
       "0 2021-06-01  1000147    AP       52.0  Sell Out MB51 - SISO        1000147   \n",
       "\n",
       "  Tipo Canal 2 Nombre Sector    Canal 3 SI/SO  \n",
       "0  ACC  Retail           ACC  CL RETAIL   NaN  "
      ]
     },
     "execution_count": 124,
     "metadata": {},
     "output_type": "execute_result"
    }
   ],
   "source": [
    "consolidado.head(1)\n"
   ]
  },
  {
   "cell_type": "markdown",
   "metadata": {},
   "source": [
    "Eliminar cruce de UE para ponerlo despues de GT"
   ]
  },
  {
   "cell_type": "code",
   "execution_count": 125,
   "metadata": {},
   "outputs": [],
   "source": [
    "consolidado['Ultimo Eslabón'] = None\n",
    "merged_df = pd.merge(consolidado, eslabon, on='Material', how='left')\n",
    "merged_df['Ultimo Eslabón'] = merged_df['Cod_Actual_1'].fillna(merged_df['Material'])\n",
    "merged_df = merged_df[consolidado.columns]"
   ]
  },
  {
   "cell_type": "code",
   "execution_count": 126,
   "metadata": {},
   "outputs": [
    {
     "data": {
      "text/plain": [
       "(1389402, 11)"
      ]
     },
     "execution_count": 126,
     "metadata": {},
     "output_type": "execute_result"
    }
   ],
   "source": [
    "merged_df.shape"
   ]
  },
  {
   "cell_type": "code",
   "execution_count": 127,
   "metadata": {},
   "outputs": [
    {
     "data": {
      "text/plain": [
       "Index(['Mes', 'Material', 'Canal', 'Venta UMB', 'Fuente', 'Ultimo Eslabón',\n",
       "       'Tipo', 'Canal 2', 'Nombre Sector', 'Canal 3', 'SI/SO'],\n",
       "      dtype='object')"
      ]
     },
     "execution_count": 127,
     "metadata": {},
     "output_type": "execute_result"
    }
   ],
   "source": [
    "totalsellin = merged_df\n",
    "merged_df.columns"
   ]
  },
  {
   "cell_type": "markdown",
   "metadata": {},
   "source": [
    "Validar descargando un CSV con el año especifico en este caso el 2024 para ver si el sellin que se agregó está correcto"
   ]
  },
  {
   "cell_type": "code",
   "execution_count": 128,
   "metadata": {},
   "outputs": [],
   "source": [
    "# filtered_totalsellin = totalsellin[totalsellin['Año/Mes natural'].astype(str).str.contains(r'\\b2024\\b', case=False, regex=True)]\n",
    "\n",
    "# # Definir la ruta de guardado\n",
    "# path = r\"C:\\Users\\Etorres\\Desktop\\Codigos Demanda\\Corrección VTA\\totalsellin_2024.csv\"\n",
    "\n",
    "# # Guardar el DataFrame filtrado como CSV en la ruta especificada, con punto y coma como separador y coma para los decimales\n",
    "# filtered_totalsellin.to_csv(path, sep=';', decimal=',', index=False)\n",
    "\n",
    "# # Imprimir mensaje de confirmación\n",
    "# print(\"Archivo CSV guardado con éxito en:\", path)\n"
   ]
  },
  {
   "cell_type": "markdown",
   "metadata": {},
   "source": [
    "------------------------------------"
   ]
  },
  {
   "cell_type": "code",
   "execution_count": 129,
   "metadata": {},
   "outputs": [
    {
     "data": {
      "text/plain": [
       "Index(['Mes', 'Material', 'Canal', 'Venta UMB', 'Fuente', 'Ultimo Eslabón',\n",
       "       'Tipo', 'Canal 2', 'Nombre Sector', 'Canal 3', 'SI/SO'],\n",
       "      dtype='object')"
      ]
     },
     "execution_count": 129,
     "metadata": {},
     "output_type": "execute_result"
    }
   ],
   "source": [
    "totalsellin.columns"
   ]
  },
  {
   "cell_type": "code",
   "execution_count": 130,
   "metadata": {},
   "outputs": [
    {
     "data": {
      "text/html": [
       "<div>\n",
       "<style scoped>\n",
       "    .dataframe tbody tr th:only-of-type {\n",
       "        vertical-align: middle;\n",
       "    }\n",
       "\n",
       "    .dataframe tbody tr th {\n",
       "        vertical-align: top;\n",
       "    }\n",
       "\n",
       "    .dataframe thead th {\n",
       "        text-align: right;\n",
       "    }\n",
       "</style>\n",
       "<table border=\"1\" class=\"dataframe\">\n",
       "  <thead>\n",
       "    <tr style=\"text-align: right;\">\n",
       "      <th></th>\n",
       "      <th>Mes</th>\n",
       "      <th>Material</th>\n",
       "      <th>Canal</th>\n",
       "      <th>Venta UMB</th>\n",
       "      <th>Fuente</th>\n",
       "      <th>Ultimo Eslabón</th>\n",
       "      <th>Tipo</th>\n",
       "      <th>Canal 2</th>\n",
       "      <th>Nombre Sector</th>\n",
       "      <th>Canal 3</th>\n",
       "      <th>SI/SO</th>\n",
       "    </tr>\n",
       "  </thead>\n",
       "  <tbody>\n",
       "    <tr>\n",
       "      <th>1389400</th>\n",
       "      <td>2024-07-01</td>\n",
       "      <td>750816</td>\n",
       "      <td>Retail</td>\n",
       "      <td>4.0</td>\n",
       "      <td>Sell Out RTL Jul-24</td>\n",
       "      <td>750816</td>\n",
       "      <td>None</td>\n",
       "      <td>Retail</td>\n",
       "      <td>NaN</td>\n",
       "      <td>None</td>\n",
       "      <td>SO</td>\n",
       "    </tr>\n",
       "    <tr>\n",
       "      <th>1389401</th>\n",
       "      <td>2024-07-01</td>\n",
       "      <td>752466</td>\n",
       "      <td>Retail</td>\n",
       "      <td>1.0</td>\n",
       "      <td>Sell Out RTL Jul-24</td>\n",
       "      <td>752466</td>\n",
       "      <td>None</td>\n",
       "      <td>Retail</td>\n",
       "      <td>NaN</td>\n",
       "      <td>None</td>\n",
       "      <td>SO</td>\n",
       "    </tr>\n",
       "  </tbody>\n",
       "</table>\n",
       "</div>"
      ],
      "text/plain": [
       "               Mes Material   Canal  Venta UMB               Fuente  \\\n",
       "1389400 2024-07-01   750816  Retail        4.0  Sell Out RTL Jul-24   \n",
       "1389401 2024-07-01   752466  Retail        1.0  Sell Out RTL Jul-24   \n",
       "\n",
       "        Ultimo Eslabón  Tipo Canal 2 Nombre Sector Canal 3 SI/SO  \n",
       "1389400         750816  None  Retail           NaN    None    SO  \n",
       "1389401         752466  None  Retail           NaN    None    SO  "
      ]
     },
     "execution_count": 130,
     "metadata": {},
     "output_type": "execute_result"
    }
   ],
   "source": [
    "totalsellin.tail(2)"
   ]
  },
  {
   "cell_type": "code",
   "execution_count": 131,
   "metadata": {},
   "outputs": [
    {
     "data": {
      "text/plain": [
       "Index(['Mes', 'Material', 'Canal', 'Venta UMB', 'Fuente', 'Ultimo Eslabón',\n",
       "       'Tipo', 'Canal 2', 'Nombre Sector', 'Canal 3', 'SI/SO'],\n",
       "      dtype='object')"
      ]
     },
     "execution_count": 131,
     "metadata": {},
     "output_type": "execute_result"
    }
   ],
   "source": [
    "totalsellin.columns"
   ]
  },
  {
   "cell_type": "markdown",
   "metadata": {},
   "source": [
    "cruzar gt"
   ]
  },
  {
   "cell_type": "code",
   "execution_count": 132,
   "metadata": {},
   "outputs": [
    {
     "data": {
      "text/plain": [
       "63610"
      ]
     },
     "execution_count": 132,
     "metadata": {},
     "output_type": "execute_result"
    }
   ],
   "source": [
    "asd=selloutGT1['Venta UMB'].sum()\n",
    "asd"
   ]
  },
  {
   "cell_type": "code",
   "execution_count": 133,
   "metadata": {},
   "outputs": [
    {
     "data": {
      "text/plain": [
       "Index(['Venta UMB', 'Material', 'Canal', 'Fuente', 'Mes'], dtype='object')"
      ]
     },
     "execution_count": 133,
     "metadata": {},
     "output_type": "execute_result"
    }
   ],
   "source": [
    "selloutGT1.columns"
   ]
  },
  {
   "cell_type": "code",
   "execution_count": 134,
   "metadata": {},
   "outputs": [
    {
     "data": {
      "text/html": [
       "<div>\n",
       "<style scoped>\n",
       "    .dataframe tbody tr th:only-of-type {\n",
       "        vertical-align: middle;\n",
       "    }\n",
       "\n",
       "    .dataframe tbody tr th {\n",
       "        vertical-align: top;\n",
       "    }\n",
       "\n",
       "    .dataframe thead th {\n",
       "        text-align: right;\n",
       "    }\n",
       "</style>\n",
       "<table border=\"1\" class=\"dataframe\">\n",
       "  <thead>\n",
       "    <tr style=\"text-align: right;\">\n",
       "      <th></th>\n",
       "      <th>Venta UMB</th>\n",
       "      <th>Material</th>\n",
       "      <th>Canal</th>\n",
       "      <th>Fuente</th>\n",
       "      <th>Mes</th>\n",
       "    </tr>\n",
       "  </thead>\n",
       "  <tbody>\n",
       "    <tr>\n",
       "      <th>5</th>\n",
       "      <td>208</td>\n",
       "      <td>1004224</td>\n",
       "      <td>Easy</td>\n",
       "      <td>Sell Out MB51 - SISO</td>\n",
       "      <td>2024-07-01</td>\n",
       "    </tr>\n",
       "  </tbody>\n",
       "</table>\n",
       "</div>"
      ],
      "text/plain": [
       "   Venta UMB Material Canal                Fuente         Mes\n",
       "5        208  1004224  Easy  Sell Out MB51 - SISO  2024-07-01"
      ]
     },
     "execution_count": 134,
     "metadata": {},
     "output_type": "execute_result"
    }
   ],
   "source": [
    "selloutGT1.head(1)"
   ]
  },
  {
   "cell_type": "code",
   "execution_count": 135,
   "metadata": {},
   "outputs": [],
   "source": [
    "selloutGT1['Mes'] = pd.to_datetime(selloutGT1['Mes'])"
   ]
  },
  {
   "cell_type": "code",
   "execution_count": 136,
   "metadata": {},
   "outputs": [
    {
     "data": {
      "text/html": [
       "<div>\n",
       "<style scoped>\n",
       "    .dataframe tbody tr th:only-of-type {\n",
       "        vertical-align: middle;\n",
       "    }\n",
       "\n",
       "    .dataframe tbody tr th {\n",
       "        vertical-align: top;\n",
       "    }\n",
       "\n",
       "    .dataframe thead th {\n",
       "        text-align: right;\n",
       "    }\n",
       "</style>\n",
       "<table border=\"1\" class=\"dataframe\">\n",
       "  <thead>\n",
       "    <tr style=\"text-align: right;\">\n",
       "      <th></th>\n",
       "      <th>Mes</th>\n",
       "      <th>Material</th>\n",
       "      <th>Canal</th>\n",
       "      <th>Venta UMB</th>\n",
       "      <th>Fuente</th>\n",
       "      <th>Ultimo Eslabón</th>\n",
       "      <th>Tipo</th>\n",
       "      <th>Canal 2</th>\n",
       "      <th>Nombre Sector</th>\n",
       "      <th>Canal 3</th>\n",
       "      <th>SI/SO</th>\n",
       "    </tr>\n",
       "  </thead>\n",
       "  <tbody>\n",
       "    <tr>\n",
       "      <th>0</th>\n",
       "      <td>2021-06-01</td>\n",
       "      <td>1000147</td>\n",
       "      <td>AP</td>\n",
       "      <td>52.0</td>\n",
       "      <td>Sell Out MB51 - SISO</td>\n",
       "      <td>1000147</td>\n",
       "      <td>ACC</td>\n",
       "      <td>Retail</td>\n",
       "      <td>ACC</td>\n",
       "      <td>CL RETAIL</td>\n",
       "      <td>NaN</td>\n",
       "    </tr>\n",
       "  </tbody>\n",
       "</table>\n",
       "</div>"
      ],
      "text/plain": [
       "         Mes Material Canal  Venta UMB                Fuente Ultimo Eslabón  \\\n",
       "0 2021-06-01  1000147    AP       52.0  Sell Out MB51 - SISO        1000147   \n",
       "\n",
       "  Tipo Canal 2 Nombre Sector    Canal 3 SI/SO  \n",
       "0  ACC  Retail           ACC  CL RETAIL   NaN  "
      ]
     },
     "execution_count": 136,
     "metadata": {},
     "output_type": "execute_result"
    }
   ],
   "source": [
    "totalsellin.head(1)"
   ]
  },
  {
   "cell_type": "markdown",
   "metadata": {},
   "source": [
    "CONCATENACION"
   ]
  },
  {
   "cell_type": "code",
   "execution_count": 137,
   "metadata": {},
   "outputs": [
    {
     "data": {
      "text/html": [
       "<div>\n",
       "<style scoped>\n",
       "    .dataframe tbody tr th:only-of-type {\n",
       "        vertical-align: middle;\n",
       "    }\n",
       "\n",
       "    .dataframe tbody tr th {\n",
       "        vertical-align: top;\n",
       "    }\n",
       "\n",
       "    .dataframe thead th {\n",
       "        text-align: right;\n",
       "    }\n",
       "</style>\n",
       "<table border=\"1\" class=\"dataframe\">\n",
       "  <thead>\n",
       "    <tr style=\"text-align: right;\">\n",
       "      <th></th>\n",
       "      <th>Mes</th>\n",
       "      <th>Material</th>\n",
       "      <th>Canal</th>\n",
       "      <th>Venta UMB</th>\n",
       "      <th>Fuente</th>\n",
       "      <th>Ultimo Eslabón</th>\n",
       "      <th>Tipo</th>\n",
       "      <th>Canal 2</th>\n",
       "      <th>Nombre Sector</th>\n",
       "      <th>Canal 3</th>\n",
       "      <th>SI/SO</th>\n",
       "    </tr>\n",
       "  </thead>\n",
       "  <tbody>\n",
       "    <tr>\n",
       "      <th>0</th>\n",
       "      <td>2021-06-01</td>\n",
       "      <td>1000147</td>\n",
       "      <td>AP</td>\n",
       "      <td>52.0</td>\n",
       "      <td>Sell Out MB51 - SISO</td>\n",
       "      <td>1000147</td>\n",
       "      <td>ACC</td>\n",
       "      <td>Retail</td>\n",
       "      <td>ACC</td>\n",
       "      <td>CL RETAIL</td>\n",
       "      <td>NaN</td>\n",
       "    </tr>\n",
       "    <tr>\n",
       "      <th>1</th>\n",
       "      <td>2021-05-01</td>\n",
       "      <td>1000147</td>\n",
       "      <td>AP</td>\n",
       "      <td>40.0</td>\n",
       "      <td>Sell Out MB51 - SISO</td>\n",
       "      <td>1000147</td>\n",
       "      <td>ACC</td>\n",
       "      <td>Retail</td>\n",
       "      <td>ACC</td>\n",
       "      <td>CL RETAIL</td>\n",
       "      <td>NaN</td>\n",
       "    </tr>\n",
       "    <tr>\n",
       "      <th>2</th>\n",
       "      <td>2021-04-01</td>\n",
       "      <td>1000147</td>\n",
       "      <td>AP</td>\n",
       "      <td>18.0</td>\n",
       "      <td>Sell Out MB51 - SISO</td>\n",
       "      <td>1000147</td>\n",
       "      <td>ACC</td>\n",
       "      <td>Retail</td>\n",
       "      <td>ACC</td>\n",
       "      <td>CL RETAIL</td>\n",
       "      <td>NaN</td>\n",
       "    </tr>\n",
       "    <tr>\n",
       "      <th>3</th>\n",
       "      <td>2021-03-01</td>\n",
       "      <td>1000147</td>\n",
       "      <td>AP</td>\n",
       "      <td>34.0</td>\n",
       "      <td>Sell Out MB51 - SISO</td>\n",
       "      <td>1000147</td>\n",
       "      <td>ACC</td>\n",
       "      <td>Retail</td>\n",
       "      <td>ACC</td>\n",
       "      <td>CL RETAIL</td>\n",
       "      <td>NaN</td>\n",
       "    </tr>\n",
       "    <tr>\n",
       "      <th>4</th>\n",
       "      <td>2021-02-01</td>\n",
       "      <td>1000147</td>\n",
       "      <td>AP</td>\n",
       "      <td>41.0</td>\n",
       "      <td>Sell Out MB51 - SISO</td>\n",
       "      <td>1000147</td>\n",
       "      <td>ACC</td>\n",
       "      <td>Retail</td>\n",
       "      <td>ACC</td>\n",
       "      <td>CL RETAIL</td>\n",
       "      <td>NaN</td>\n",
       "    </tr>\n",
       "    <tr>\n",
       "      <th>...</th>\n",
       "      <td>...</td>\n",
       "      <td>...</td>\n",
       "      <td>...</td>\n",
       "      <td>...</td>\n",
       "      <td>...</td>\n",
       "      <td>...</td>\n",
       "      <td>...</td>\n",
       "      <td>...</td>\n",
       "      <td>...</td>\n",
       "      <td>...</td>\n",
       "      <td>...</td>\n",
       "    </tr>\n",
       "    <tr>\n",
       "      <th>1389699</th>\n",
       "      <td>2024-07-01</td>\n",
       "      <td>454487</td>\n",
       "      <td>Sodimac</td>\n",
       "      <td>41.0</td>\n",
       "      <td>Sell Out MB51 - SISO</td>\n",
       "      <td>NaN</td>\n",
       "      <td>NaN</td>\n",
       "      <td>NaN</td>\n",
       "      <td>NaN</td>\n",
       "      <td>NaN</td>\n",
       "      <td>NaN</td>\n",
       "    </tr>\n",
       "    <tr>\n",
       "      <th>1389700</th>\n",
       "      <td>2024-07-01</td>\n",
       "      <td>124236</td>\n",
       "      <td>Sodimac</td>\n",
       "      <td>192.0</td>\n",
       "      <td>Sell Out MB51 - SISO</td>\n",
       "      <td>NaN</td>\n",
       "      <td>NaN</td>\n",
       "      <td>NaN</td>\n",
       "      <td>NaN</td>\n",
       "      <td>NaN</td>\n",
       "      <td>NaN</td>\n",
       "    </tr>\n",
       "    <tr>\n",
       "      <th>1389701</th>\n",
       "      <td>2024-07-01</td>\n",
       "      <td>1143391</td>\n",
       "      <td>Walmart</td>\n",
       "      <td>880.0</td>\n",
       "      <td>Sell Out MB51 - SISO</td>\n",
       "      <td>NaN</td>\n",
       "      <td>NaN</td>\n",
       "      <td>NaN</td>\n",
       "      <td>NaN</td>\n",
       "      <td>NaN</td>\n",
       "      <td>NaN</td>\n",
       "    </tr>\n",
       "    <tr>\n",
       "      <th>1389702</th>\n",
       "      <td>2024-07-01</td>\n",
       "      <td>360795</td>\n",
       "      <td>Walmart</td>\n",
       "      <td>182.0</td>\n",
       "      <td>Sell Out MB51 - SISO</td>\n",
       "      <td>NaN</td>\n",
       "      <td>NaN</td>\n",
       "      <td>NaN</td>\n",
       "      <td>NaN</td>\n",
       "      <td>NaN</td>\n",
       "      <td>NaN</td>\n",
       "    </tr>\n",
       "    <tr>\n",
       "      <th>1389703</th>\n",
       "      <td>2024-07-01</td>\n",
       "      <td>360783</td>\n",
       "      <td>Easy</td>\n",
       "      <td>2.0</td>\n",
       "      <td>Sell Out MB51 - SISO</td>\n",
       "      <td>NaN</td>\n",
       "      <td>NaN</td>\n",
       "      <td>NaN</td>\n",
       "      <td>NaN</td>\n",
       "      <td>NaN</td>\n",
       "      <td>NaN</td>\n",
       "    </tr>\n",
       "  </tbody>\n",
       "</table>\n",
       "<p>1389704 rows × 11 columns</p>\n",
       "</div>"
      ],
      "text/plain": [
       "               Mes Material    Canal  Venta UMB                Fuente  \\\n",
       "0       2021-06-01  1000147       AP       52.0  Sell Out MB51 - SISO   \n",
       "1       2021-05-01  1000147       AP       40.0  Sell Out MB51 - SISO   \n",
       "2       2021-04-01  1000147       AP       18.0  Sell Out MB51 - SISO   \n",
       "3       2021-03-01  1000147       AP       34.0  Sell Out MB51 - SISO   \n",
       "4       2021-02-01  1000147       AP       41.0  Sell Out MB51 - SISO   \n",
       "...            ...      ...      ...        ...                   ...   \n",
       "1389699 2024-07-01   454487  Sodimac       41.0  Sell Out MB51 - SISO   \n",
       "1389700 2024-07-01   124236  Sodimac      192.0  Sell Out MB51 - SISO   \n",
       "1389701 2024-07-01  1143391  Walmart      880.0  Sell Out MB51 - SISO   \n",
       "1389702 2024-07-01   360795  Walmart      182.0  Sell Out MB51 - SISO   \n",
       "1389703 2024-07-01   360783     Easy        2.0  Sell Out MB51 - SISO   \n",
       "\n",
       "        Ultimo Eslabón Tipo Canal 2 Nombre Sector    Canal 3 SI/SO  \n",
       "0              1000147  ACC  Retail           ACC  CL RETAIL   NaN  \n",
       "1              1000147  ACC  Retail           ACC  CL RETAIL   NaN  \n",
       "2              1000147  ACC  Retail           ACC  CL RETAIL   NaN  \n",
       "3              1000147  ACC  Retail           ACC  CL RETAIL   NaN  \n",
       "4              1000147  ACC  Retail           ACC  CL RETAIL   NaN  \n",
       "...                ...  ...     ...           ...        ...   ...  \n",
       "1389699            NaN  NaN     NaN           NaN        NaN   NaN  \n",
       "1389700            NaN  NaN     NaN           NaN        NaN   NaN  \n",
       "1389701            NaN  NaN     NaN           NaN        NaN   NaN  \n",
       "1389702            NaN  NaN     NaN           NaN        NaN   NaN  \n",
       "1389703            NaN  NaN     NaN           NaN        NaN   NaN  \n",
       "\n",
       "[1389704 rows x 11 columns]"
      ]
     },
     "execution_count": 137,
     "metadata": {},
     "output_type": "execute_result"
    }
   ],
   "source": [
    "import pandas as pd\n",
    "\n",
    "# Supongamos que ya tienes tus DataFrames `totalsellin` y `selloutGT1`\n",
    "\n",
    "# Realizamos la concatenación\n",
    "concatenated_df = pd.concat([totalsellin, selloutGT1], ignore_index=True)\n",
    "concatenated_df\n"
   ]
  },
  {
   "cell_type": "code",
   "execution_count": 138,
   "metadata": {},
   "outputs": [
    {
     "data": {
      "text/html": [
       "<div>\n",
       "<style scoped>\n",
       "    .dataframe tbody tr th:only-of-type {\n",
       "        vertical-align: middle;\n",
       "    }\n",
       "\n",
       "    .dataframe tbody tr th {\n",
       "        vertical-align: top;\n",
       "    }\n",
       "\n",
       "    .dataframe thead th {\n",
       "        text-align: right;\n",
       "    }\n",
       "</style>\n",
       "<table border=\"1\" class=\"dataframe\">\n",
       "  <thead>\n",
       "    <tr style=\"text-align: right;\">\n",
       "      <th></th>\n",
       "      <th>Mes</th>\n",
       "      <th>Material</th>\n",
       "      <th>Canal</th>\n",
       "      <th>Venta UMB</th>\n",
       "      <th>Fuente</th>\n",
       "      <th>Ultimo Eslabón</th>\n",
       "      <th>Tipo</th>\n",
       "      <th>Canal 2</th>\n",
       "      <th>Nombre Sector</th>\n",
       "      <th>Canal 3</th>\n",
       "      <th>SI/SO</th>\n",
       "    </tr>\n",
       "  </thead>\n",
       "  <tbody>\n",
       "    <tr>\n",
       "      <th>0</th>\n",
       "      <td>2021-06-01</td>\n",
       "      <td>1000147</td>\n",
       "      <td>AP</td>\n",
       "      <td>52.0</td>\n",
       "      <td>Sell Out MB51 - SISO</td>\n",
       "      <td>1000147</td>\n",
       "      <td>ACC</td>\n",
       "      <td>Retail</td>\n",
       "      <td>ACC</td>\n",
       "      <td>CL RETAIL</td>\n",
       "      <td>NaN</td>\n",
       "    </tr>\n",
       "    <tr>\n",
       "      <th>1</th>\n",
       "      <td>2021-05-01</td>\n",
       "      <td>1000147</td>\n",
       "      <td>AP</td>\n",
       "      <td>40.0</td>\n",
       "      <td>Sell Out MB51 - SISO</td>\n",
       "      <td>1000147</td>\n",
       "      <td>ACC</td>\n",
       "      <td>Retail</td>\n",
       "      <td>ACC</td>\n",
       "      <td>CL RETAIL</td>\n",
       "      <td>NaN</td>\n",
       "    </tr>\n",
       "    <tr>\n",
       "      <th>2</th>\n",
       "      <td>2021-04-01</td>\n",
       "      <td>1000147</td>\n",
       "      <td>AP</td>\n",
       "      <td>18.0</td>\n",
       "      <td>Sell Out MB51 - SISO</td>\n",
       "      <td>1000147</td>\n",
       "      <td>ACC</td>\n",
       "      <td>Retail</td>\n",
       "      <td>ACC</td>\n",
       "      <td>CL RETAIL</td>\n",
       "      <td>NaN</td>\n",
       "    </tr>\n",
       "    <tr>\n",
       "      <th>3</th>\n",
       "      <td>2021-03-01</td>\n",
       "      <td>1000147</td>\n",
       "      <td>AP</td>\n",
       "      <td>34.0</td>\n",
       "      <td>Sell Out MB51 - SISO</td>\n",
       "      <td>1000147</td>\n",
       "      <td>ACC</td>\n",
       "      <td>Retail</td>\n",
       "      <td>ACC</td>\n",
       "      <td>CL RETAIL</td>\n",
       "      <td>NaN</td>\n",
       "    </tr>\n",
       "    <tr>\n",
       "      <th>4</th>\n",
       "      <td>2021-02-01</td>\n",
       "      <td>1000147</td>\n",
       "      <td>AP</td>\n",
       "      <td>41.0</td>\n",
       "      <td>Sell Out MB51 - SISO</td>\n",
       "      <td>1000147</td>\n",
       "      <td>ACC</td>\n",
       "      <td>Retail</td>\n",
       "      <td>ACC</td>\n",
       "      <td>CL RETAIL</td>\n",
       "      <td>NaN</td>\n",
       "    </tr>\n",
       "    <tr>\n",
       "      <th>...</th>\n",
       "      <td>...</td>\n",
       "      <td>...</td>\n",
       "      <td>...</td>\n",
       "      <td>...</td>\n",
       "      <td>...</td>\n",
       "      <td>...</td>\n",
       "      <td>...</td>\n",
       "      <td>...</td>\n",
       "      <td>...</td>\n",
       "      <td>...</td>\n",
       "      <td>...</td>\n",
       "    </tr>\n",
       "    <tr>\n",
       "      <th>1389699</th>\n",
       "      <td>2024-07-01</td>\n",
       "      <td>454487</td>\n",
       "      <td>Sodimac</td>\n",
       "      <td>41.0</td>\n",
       "      <td>Sell Out MB51 - SISO</td>\n",
       "      <td>NaN</td>\n",
       "      <td>NaN</td>\n",
       "      <td>NaN</td>\n",
       "      <td>NaN</td>\n",
       "      <td>NaN</td>\n",
       "      <td>NaN</td>\n",
       "    </tr>\n",
       "    <tr>\n",
       "      <th>1389700</th>\n",
       "      <td>2024-07-01</td>\n",
       "      <td>124236</td>\n",
       "      <td>Sodimac</td>\n",
       "      <td>192.0</td>\n",
       "      <td>Sell Out MB51 - SISO</td>\n",
       "      <td>NaN</td>\n",
       "      <td>NaN</td>\n",
       "      <td>NaN</td>\n",
       "      <td>NaN</td>\n",
       "      <td>NaN</td>\n",
       "      <td>NaN</td>\n",
       "    </tr>\n",
       "    <tr>\n",
       "      <th>1389701</th>\n",
       "      <td>2024-07-01</td>\n",
       "      <td>1143391</td>\n",
       "      <td>Walmart</td>\n",
       "      <td>880.0</td>\n",
       "      <td>Sell Out MB51 - SISO</td>\n",
       "      <td>NaN</td>\n",
       "      <td>NaN</td>\n",
       "      <td>NaN</td>\n",
       "      <td>NaN</td>\n",
       "      <td>NaN</td>\n",
       "      <td>NaN</td>\n",
       "    </tr>\n",
       "    <tr>\n",
       "      <th>1389702</th>\n",
       "      <td>2024-07-01</td>\n",
       "      <td>360795</td>\n",
       "      <td>Walmart</td>\n",
       "      <td>182.0</td>\n",
       "      <td>Sell Out MB51 - SISO</td>\n",
       "      <td>NaN</td>\n",
       "      <td>NaN</td>\n",
       "      <td>NaN</td>\n",
       "      <td>NaN</td>\n",
       "      <td>NaN</td>\n",
       "      <td>NaN</td>\n",
       "    </tr>\n",
       "    <tr>\n",
       "      <th>1389703</th>\n",
       "      <td>2024-07-01</td>\n",
       "      <td>360783</td>\n",
       "      <td>Easy</td>\n",
       "      <td>2.0</td>\n",
       "      <td>Sell Out MB51 - SISO</td>\n",
       "      <td>NaN</td>\n",
       "      <td>NaN</td>\n",
       "      <td>NaN</td>\n",
       "      <td>NaN</td>\n",
       "      <td>NaN</td>\n",
       "      <td>NaN</td>\n",
       "    </tr>\n",
       "  </tbody>\n",
       "</table>\n",
       "<p>1389704 rows × 11 columns</p>\n",
       "</div>"
      ],
      "text/plain": [
       "               Mes Material    Canal  Venta UMB                Fuente  \\\n",
       "0       2021-06-01  1000147       AP       52.0  Sell Out MB51 - SISO   \n",
       "1       2021-05-01  1000147       AP       40.0  Sell Out MB51 - SISO   \n",
       "2       2021-04-01  1000147       AP       18.0  Sell Out MB51 - SISO   \n",
       "3       2021-03-01  1000147       AP       34.0  Sell Out MB51 - SISO   \n",
       "4       2021-02-01  1000147       AP       41.0  Sell Out MB51 - SISO   \n",
       "...            ...      ...      ...        ...                   ...   \n",
       "1389699 2024-07-01   454487  Sodimac       41.0  Sell Out MB51 - SISO   \n",
       "1389700 2024-07-01   124236  Sodimac      192.0  Sell Out MB51 - SISO   \n",
       "1389701 2024-07-01  1143391  Walmart      880.0  Sell Out MB51 - SISO   \n",
       "1389702 2024-07-01   360795  Walmart      182.0  Sell Out MB51 - SISO   \n",
       "1389703 2024-07-01   360783     Easy        2.0  Sell Out MB51 - SISO   \n",
       "\n",
       "        Ultimo Eslabón Tipo Canal 2 Nombre Sector    Canal 3 SI/SO  \n",
       "0              1000147  ACC  Retail           ACC  CL RETAIL   NaN  \n",
       "1              1000147  ACC  Retail           ACC  CL RETAIL   NaN  \n",
       "2              1000147  ACC  Retail           ACC  CL RETAIL   NaN  \n",
       "3              1000147  ACC  Retail           ACC  CL RETAIL   NaN  \n",
       "4              1000147  ACC  Retail           ACC  CL RETAIL   NaN  \n",
       "...                ...  ...     ...           ...        ...   ...  \n",
       "1389699            NaN  NaN     NaN           NaN        NaN   NaN  \n",
       "1389700            NaN  NaN     NaN           NaN        NaN   NaN  \n",
       "1389701            NaN  NaN     NaN           NaN        NaN   NaN  \n",
       "1389702            NaN  NaN     NaN           NaN        NaN   NaN  \n",
       "1389703            NaN  NaN     NaN           NaN        NaN   NaN  \n",
       "\n",
       "[1389704 rows x 11 columns]"
      ]
     },
     "execution_count": 138,
     "metadata": {},
     "output_type": "execute_result"
    }
   ],
   "source": [
    "totalsellin = concatenated_df.copy()\n",
    "totalsellin"
   ]
  },
  {
   "cell_type": "markdown",
   "metadata": {},
   "source": [
    "ENCONTRAR Y LEER MARA EN LOS PROXIMOS BLOQUES PARA LUEGO CRUZAR LOS SECTORES, Y ADEMAS EN ESTA PARTE CRUZAMOS LA MAESTRA CANALES PARA SABER LOS CANALES ANASTASIA"
   ]
  },
  {
   "cell_type": "code",
   "execution_count": 139,
   "metadata": {},
   "outputs": [
    {
     "name": "stdout",
     "output_type": "stream",
     "text": [
      "La ruta construida es: C:\\Users\\etorres.DERCOPARTS\\DERCO CHILE REPUESTOS SpA\\Planificación y abastecimiento - Documentos\\Planificación y Compras Maestros\\2024\\2024-08\\MaestrosCSV\n"
     ]
    }
   ],
   "source": [
    "import os\n",
    "from datetime import datetime\n",
    "\n",
    "# Obtener el directorio del usuario\n",
    "usuario_dir = os.path.expanduser(\"~\")\n",
    "\n",
    "# Obtener el año y mes actuales\n",
    "año_actual = datetime.now().year\n",
    "mes_actual = datetime.now().strftime('%m')\n",
    "\n",
    "# Construir la ruta de archivo\n",
    "ruta = os.path.join(\n",
    "    usuario_dir,\n",
    "    \"DERCO CHILE REPUESTOS SpA\",\n",
    "    \"Planificación y abastecimiento - Documentos\",\n",
    "    \"Planificación y Compras Maestros\",\n",
    "    str(año_actual),\n",
    "    f\"{año_actual}-{mes_actual}\",\n",
    "    \"MaestrosCSV\"\n",
    ")\n",
    "\n",
    "# Inicializar variables\n",
    "archivo_mara = None\n",
    "fecha_modificacion = None\n",
    "\n",
    "# Imprimir la ruta para verificar\n",
    "print(f\"La ruta construida es: {ruta}\")\n"
   ]
  },
  {
   "cell_type": "code",
   "execution_count": 140,
   "metadata": {},
   "outputs": [
    {
     "data": {
      "text/plain": [
       "'C:\\\\Users\\\\etorres.DERCOPARTS\\\\DERCO CHILE REPUESTOS SpA\\\\Planificación y abastecimiento - Documentos\\\\Planificación y Compras Maestros\\\\2024\\\\2024-08\\\\MaestrosCSV'"
      ]
     },
     "execution_count": 140,
     "metadata": {},
     "output_type": "execute_result"
    }
   ],
   "source": [
    "ruta"
   ]
  },
  {
   "cell_type": "markdown",
   "metadata": {},
   "source": [
    "LEER MARA NE EXCEL"
   ]
  },
  {
   "cell_type": "code",
   "execution_count": 141,
   "metadata": {},
   "outputs": [],
   "source": [
    "# for archivo in os.listdir(ruta):\n",
    "#     if 'MARA' in archivo and 'S4' in archivo and archivo.endswith('.xlsx'):\n",
    "#         ruta_completa = os.path.join(ruta, archivo)\n",
    "#         modificacion_actual = os.path.getmtime(ruta_completa)\n",
    "#         if fecha_modificacion is None or modificacion_actual > fecha_modificacion:\n",
    "#             archivo_mara = ruta_completa\n",
    "#             fecha_modificacion = modificacion_actual\n",
    "# if archivo_mara:\n",
    "#     dfmara = pd.read_excel(archivo_mara)\n",
    "#     print(\"Archivo cargado correctamente.\")\n",
    "# else:\n",
    "#     print(\"No se encontró un archivo que contenga 'MARA' y 'S4' en su nombre.\")"
   ]
  },
  {
   "cell_type": "markdown",
   "metadata": {},
   "source": [
    "leer mara en CSV"
   ]
  },
  {
   "cell_type": "code",
   "execution_count": 142,
   "metadata": {},
   "outputs": [
    {
     "name": "stdout",
     "output_type": "stream",
     "text": [
      "Archivo cargado correctamente.\n"
     ]
    }
   ],
   "source": [
    "for archivo in os.listdir(ruta):\n",
    "    if 'MARA' in archivo and 'S4' in archivo and archivo.endswith('.csv'):\n",
    "        ruta_completa = os.path.join(ruta, archivo)\n",
    "        modificacion_actual = os.path.getmtime(ruta_completa)\n",
    "        if fecha_modificacion is None or modificacion_actual > fecha_modificacion:\n",
    "            archivo_mara = ruta_completa\n",
    "            fecha_modificacion = modificacion_actual\n",
    "if archivo_mara:\n",
    "    dfmara = pd.read_csv(archivo_mara, delimiter=',', decimal=',', low_memory=False, dtype=str)\n",
    "    print(\"Archivo cargado correctamente.\")\n",
    "else:\n",
    "    print(\"No se encontró un archivo que contenga 'MARA' y 'S4' en su nombre.\")\n"
   ]
  },
  {
   "cell_type": "code",
   "execution_count": 143,
   "metadata": {},
   "outputs": [],
   "source": [
    "dfmara['Material_S4'] = dfmara['Material_S4'].astype(str)\n",
    "mara_reducido = dfmara[['Material_S4', 'Nombre Sector', 'Sector_MU']]"
   ]
  },
  {
   "cell_type": "code",
   "execution_count": 144,
   "metadata": {},
   "outputs": [
    {
     "data": {
      "text/plain": [
       "Index(['Material_S4', 'Nombre Sector', 'Sector_MU'], dtype='object')"
      ]
     },
     "execution_count": 144,
     "metadata": {},
     "output_type": "execute_result"
    }
   ],
   "source": [
    "mara_reducido.columns"
   ]
  },
  {
   "cell_type": "code",
   "execution_count": 145,
   "metadata": {},
   "outputs": [
    {
     "data": {
      "text/html": [
       "<div>\n",
       "<style scoped>\n",
       "    .dataframe tbody tr th:only-of-type {\n",
       "        vertical-align: middle;\n",
       "    }\n",
       "\n",
       "    .dataframe tbody tr th {\n",
       "        vertical-align: top;\n",
       "    }\n",
       "\n",
       "    .dataframe thead th {\n",
       "        text-align: right;\n",
       "    }\n",
       "</style>\n",
       "<table border=\"1\" class=\"dataframe\">\n",
       "  <thead>\n",
       "    <tr style=\"text-align: right;\">\n",
       "      <th></th>\n",
       "      <th>Mes</th>\n",
       "      <th>Material</th>\n",
       "      <th>Canal</th>\n",
       "      <th>Venta UMB</th>\n",
       "      <th>Fuente</th>\n",
       "      <th>Ultimo Eslabón</th>\n",
       "      <th>Tipo</th>\n",
       "      <th>Canal 2</th>\n",
       "      <th>Nombre Sector</th>\n",
       "      <th>Canal 3</th>\n",
       "      <th>SI/SO</th>\n",
       "    </tr>\n",
       "  </thead>\n",
       "  <tbody>\n",
       "    <tr>\n",
       "      <th>0</th>\n",
       "      <td>2021-06-01</td>\n",
       "      <td>1000147</td>\n",
       "      <td>AP</td>\n",
       "      <td>52.0</td>\n",
       "      <td>Sell Out MB51 - SISO</td>\n",
       "      <td>1000147</td>\n",
       "      <td>ACC</td>\n",
       "      <td>Retail</td>\n",
       "      <td>ACC</td>\n",
       "      <td>CL RETAIL</td>\n",
       "      <td>NaN</td>\n",
       "    </tr>\n",
       "  </tbody>\n",
       "</table>\n",
       "</div>"
      ],
      "text/plain": [
       "         Mes Material Canal  Venta UMB                Fuente Ultimo Eslabón  \\\n",
       "0 2021-06-01  1000147    AP       52.0  Sell Out MB51 - SISO        1000147   \n",
       "\n",
       "  Tipo Canal 2 Nombre Sector    Canal 3 SI/SO  \n",
       "0  ACC  Retail           ACC  CL RETAIL   NaN  "
      ]
     },
     "execution_count": 145,
     "metadata": {},
     "output_type": "execute_result"
    }
   ],
   "source": [
    "totalsellin.head(1)"
   ]
  },
  {
   "cell_type": "markdown",
   "metadata": {},
   "source": [
    "REPASAR UE antes de Cruzar Mara"
   ]
  },
  {
   "cell_type": "code",
   "execution_count": 146,
   "metadata": {},
   "outputs": [
    {
     "data": {
      "text/html": [
       "<div>\n",
       "<style scoped>\n",
       "    .dataframe tbody tr th:only-of-type {\n",
       "        vertical-align: middle;\n",
       "    }\n",
       "\n",
       "    .dataframe tbody tr th {\n",
       "        vertical-align: top;\n",
       "    }\n",
       "\n",
       "    .dataframe thead th {\n",
       "        text-align: right;\n",
       "    }\n",
       "</style>\n",
       "<table border=\"1\" class=\"dataframe\">\n",
       "  <thead>\n",
       "    <tr style=\"text-align: right;\">\n",
       "      <th></th>\n",
       "      <th>Mes</th>\n",
       "      <th>Material</th>\n",
       "      <th>Canal</th>\n",
       "      <th>Venta UMB</th>\n",
       "      <th>Fuente</th>\n",
       "      <th>Tipo</th>\n",
       "      <th>Canal 2</th>\n",
       "      <th>Nombre Sector</th>\n",
       "      <th>Canal 3</th>\n",
       "      <th>SI/SO</th>\n",
       "      <th>Ultimo Eslabón</th>\n",
       "    </tr>\n",
       "  </thead>\n",
       "  <tbody>\n",
       "    <tr>\n",
       "      <th>0</th>\n",
       "      <td>2021-06-01</td>\n",
       "      <td>1000147</td>\n",
       "      <td>AP</td>\n",
       "      <td>52.0</td>\n",
       "      <td>Sell Out MB51 - SISO</td>\n",
       "      <td>ACC</td>\n",
       "      <td>Retail</td>\n",
       "      <td>ACC</td>\n",
       "      <td>CL RETAIL</td>\n",
       "      <td>NaN</td>\n",
       "      <td>1000147</td>\n",
       "    </tr>\n",
       "    <tr>\n",
       "      <th>1</th>\n",
       "      <td>2021-05-01</td>\n",
       "      <td>1000147</td>\n",
       "      <td>AP</td>\n",
       "      <td>40.0</td>\n",
       "      <td>Sell Out MB51 - SISO</td>\n",
       "      <td>ACC</td>\n",
       "      <td>Retail</td>\n",
       "      <td>ACC</td>\n",
       "      <td>CL RETAIL</td>\n",
       "      <td>NaN</td>\n",
       "      <td>1000147</td>\n",
       "    </tr>\n",
       "  </tbody>\n",
       "</table>\n",
       "</div>"
      ],
      "text/plain": [
       "         Mes Material Canal  Venta UMB                Fuente Tipo Canal 2  \\\n",
       "0 2021-06-01  1000147    AP       52.0  Sell Out MB51 - SISO  ACC  Retail   \n",
       "1 2021-05-01  1000147    AP       40.0  Sell Out MB51 - SISO  ACC  Retail   \n",
       "\n",
       "  Nombre Sector    Canal 3 SI/SO Ultimo Eslabón  \n",
       "0           ACC  CL RETAIL   NaN        1000147  \n",
       "1           ACC  CL RETAIL   NaN        1000147  "
      ]
     },
     "execution_count": 146,
     "metadata": {},
     "output_type": "execute_result"
    }
   ],
   "source": [
    "totalsellin = totalsellin.drop(columns=['Ultimo Eslabón'])\n",
    "totalsellin = totalsellin.merge(eslabon, on='Material', how='left')\n",
    "totalsellin['Cod_Actual_1'] = totalsellin['Cod_Actual_1'].fillna(totalsellin['Material'])\n",
    "totalsellin = totalsellin.rename(columns={'Cod_Actual_1': 'Ultimo Eslabón'})\n",
    "totalsellin.head(2)\n"
   ]
  },
  {
   "cell_type": "code",
   "execution_count": 147,
   "metadata": {},
   "outputs": [],
   "source": [
    "totalsellin.drop('Nombre Sector', axis=1, inplace=True)"
   ]
  },
  {
   "cell_type": "code",
   "execution_count": 148,
   "metadata": {},
   "outputs": [
    {
     "data": {
      "text/plain": [
       "(1389704, 10)"
      ]
     },
     "execution_count": 148,
     "metadata": {},
     "output_type": "execute_result"
    }
   ],
   "source": [
    "totalsellin.shape"
   ]
  },
  {
   "cell_type": "code",
   "execution_count": 149,
   "metadata": {},
   "outputs": [],
   "source": [
    "totalsellin['Ultimo Eslabón'] = totalsellin['Ultimo Eslabón'].astype(str)\n",
    "mara_reducido.loc[:, 'Material_S4'] = mara_reducido['Material_S4'].astype(str)"
   ]
  },
  {
   "cell_type": "code",
   "execution_count": 150,
   "metadata": {},
   "outputs": [
    {
     "data": {
      "text/html": [
       "<div>\n",
       "<style scoped>\n",
       "    .dataframe tbody tr th:only-of-type {\n",
       "        vertical-align: middle;\n",
       "    }\n",
       "\n",
       "    .dataframe tbody tr th {\n",
       "        vertical-align: top;\n",
       "    }\n",
       "\n",
       "    .dataframe thead th {\n",
       "        text-align: right;\n",
       "    }\n",
       "</style>\n",
       "<table border=\"1\" class=\"dataframe\">\n",
       "  <thead>\n",
       "    <tr style=\"text-align: right;\">\n",
       "      <th></th>\n",
       "      <th>Mes</th>\n",
       "      <th>Material</th>\n",
       "      <th>Canal</th>\n",
       "      <th>Venta UMB</th>\n",
       "      <th>Fuente</th>\n",
       "      <th>Tipo</th>\n",
       "      <th>Canal 2</th>\n",
       "      <th>Canal 3</th>\n",
       "      <th>SI/SO</th>\n",
       "      <th>Ultimo Eslabón</th>\n",
       "    </tr>\n",
       "  </thead>\n",
       "  <tbody>\n",
       "    <tr>\n",
       "      <th>0</th>\n",
       "      <td>2021-06-01</td>\n",
       "      <td>1000147</td>\n",
       "      <td>AP</td>\n",
       "      <td>52.0</td>\n",
       "      <td>Sell Out MB51 - SISO</td>\n",
       "      <td>ACC</td>\n",
       "      <td>Retail</td>\n",
       "      <td>CL RETAIL</td>\n",
       "      <td>NaN</td>\n",
       "      <td>1000147</td>\n",
       "    </tr>\n",
       "    <tr>\n",
       "      <th>1</th>\n",
       "      <td>2021-05-01</td>\n",
       "      <td>1000147</td>\n",
       "      <td>AP</td>\n",
       "      <td>40.0</td>\n",
       "      <td>Sell Out MB51 - SISO</td>\n",
       "      <td>ACC</td>\n",
       "      <td>Retail</td>\n",
       "      <td>CL RETAIL</td>\n",
       "      <td>NaN</td>\n",
       "      <td>1000147</td>\n",
       "    </tr>\n",
       "    <tr>\n",
       "      <th>2</th>\n",
       "      <td>2021-04-01</td>\n",
       "      <td>1000147</td>\n",
       "      <td>AP</td>\n",
       "      <td>18.0</td>\n",
       "      <td>Sell Out MB51 - SISO</td>\n",
       "      <td>ACC</td>\n",
       "      <td>Retail</td>\n",
       "      <td>CL RETAIL</td>\n",
       "      <td>NaN</td>\n",
       "      <td>1000147</td>\n",
       "    </tr>\n",
       "    <tr>\n",
       "      <th>3</th>\n",
       "      <td>2021-03-01</td>\n",
       "      <td>1000147</td>\n",
       "      <td>AP</td>\n",
       "      <td>34.0</td>\n",
       "      <td>Sell Out MB51 - SISO</td>\n",
       "      <td>ACC</td>\n",
       "      <td>Retail</td>\n",
       "      <td>CL RETAIL</td>\n",
       "      <td>NaN</td>\n",
       "      <td>1000147</td>\n",
       "    </tr>\n",
       "    <tr>\n",
       "      <th>4</th>\n",
       "      <td>2021-02-01</td>\n",
       "      <td>1000147</td>\n",
       "      <td>AP</td>\n",
       "      <td>41.0</td>\n",
       "      <td>Sell Out MB51 - SISO</td>\n",
       "      <td>ACC</td>\n",
       "      <td>Retail</td>\n",
       "      <td>CL RETAIL</td>\n",
       "      <td>NaN</td>\n",
       "      <td>1000147</td>\n",
       "    </tr>\n",
       "    <tr>\n",
       "      <th>...</th>\n",
       "      <td>...</td>\n",
       "      <td>...</td>\n",
       "      <td>...</td>\n",
       "      <td>...</td>\n",
       "      <td>...</td>\n",
       "      <td>...</td>\n",
       "      <td>...</td>\n",
       "      <td>...</td>\n",
       "      <td>...</td>\n",
       "      <td>...</td>\n",
       "    </tr>\n",
       "    <tr>\n",
       "      <th>1389699</th>\n",
       "      <td>2024-07-01</td>\n",
       "      <td>454487</td>\n",
       "      <td>Sodimac</td>\n",
       "      <td>41.0</td>\n",
       "      <td>Sell Out MB51 - SISO</td>\n",
       "      <td>NaN</td>\n",
       "      <td>NaN</td>\n",
       "      <td>NaN</td>\n",
       "      <td>NaN</td>\n",
       "      <td>454487</td>\n",
       "    </tr>\n",
       "    <tr>\n",
       "      <th>1389700</th>\n",
       "      <td>2024-07-01</td>\n",
       "      <td>124236</td>\n",
       "      <td>Sodimac</td>\n",
       "      <td>192.0</td>\n",
       "      <td>Sell Out MB51 - SISO</td>\n",
       "      <td>NaN</td>\n",
       "      <td>NaN</td>\n",
       "      <td>NaN</td>\n",
       "      <td>NaN</td>\n",
       "      <td>124236</td>\n",
       "    </tr>\n",
       "    <tr>\n",
       "      <th>1389701</th>\n",
       "      <td>2024-07-01</td>\n",
       "      <td>1143391</td>\n",
       "      <td>Walmart</td>\n",
       "      <td>880.0</td>\n",
       "      <td>Sell Out MB51 - SISO</td>\n",
       "      <td>NaN</td>\n",
       "      <td>NaN</td>\n",
       "      <td>NaN</td>\n",
       "      <td>NaN</td>\n",
       "      <td>165731</td>\n",
       "    </tr>\n",
       "    <tr>\n",
       "      <th>1389702</th>\n",
       "      <td>2024-07-01</td>\n",
       "      <td>360795</td>\n",
       "      <td>Walmart</td>\n",
       "      <td>182.0</td>\n",
       "      <td>Sell Out MB51 - SISO</td>\n",
       "      <td>NaN</td>\n",
       "      <td>NaN</td>\n",
       "      <td>NaN</td>\n",
       "      <td>NaN</td>\n",
       "      <td>360795</td>\n",
       "    </tr>\n",
       "    <tr>\n",
       "      <th>1389703</th>\n",
       "      <td>2024-07-01</td>\n",
       "      <td>360783</td>\n",
       "      <td>Easy</td>\n",
       "      <td>2.0</td>\n",
       "      <td>Sell Out MB51 - SISO</td>\n",
       "      <td>NaN</td>\n",
       "      <td>NaN</td>\n",
       "      <td>NaN</td>\n",
       "      <td>NaN</td>\n",
       "      <td>360783</td>\n",
       "    </tr>\n",
       "  </tbody>\n",
       "</table>\n",
       "<p>1389704 rows × 10 columns</p>\n",
       "</div>"
      ],
      "text/plain": [
       "               Mes Material    Canal  Venta UMB                Fuente Tipo  \\\n",
       "0       2021-06-01  1000147       AP       52.0  Sell Out MB51 - SISO  ACC   \n",
       "1       2021-05-01  1000147       AP       40.0  Sell Out MB51 - SISO  ACC   \n",
       "2       2021-04-01  1000147       AP       18.0  Sell Out MB51 - SISO  ACC   \n",
       "3       2021-03-01  1000147       AP       34.0  Sell Out MB51 - SISO  ACC   \n",
       "4       2021-02-01  1000147       AP       41.0  Sell Out MB51 - SISO  ACC   \n",
       "...            ...      ...      ...        ...                   ...  ...   \n",
       "1389699 2024-07-01   454487  Sodimac       41.0  Sell Out MB51 - SISO  NaN   \n",
       "1389700 2024-07-01   124236  Sodimac      192.0  Sell Out MB51 - SISO  NaN   \n",
       "1389701 2024-07-01  1143391  Walmart      880.0  Sell Out MB51 - SISO  NaN   \n",
       "1389702 2024-07-01   360795  Walmart      182.0  Sell Out MB51 - SISO  NaN   \n",
       "1389703 2024-07-01   360783     Easy        2.0  Sell Out MB51 - SISO  NaN   \n",
       "\n",
       "        Canal 2    Canal 3 SI/SO Ultimo Eslabón  \n",
       "0        Retail  CL RETAIL   NaN        1000147  \n",
       "1        Retail  CL RETAIL   NaN        1000147  \n",
       "2        Retail  CL RETAIL   NaN        1000147  \n",
       "3        Retail  CL RETAIL   NaN        1000147  \n",
       "4        Retail  CL RETAIL   NaN        1000147  \n",
       "...         ...        ...   ...            ...  \n",
       "1389699     NaN        NaN   NaN         454487  \n",
       "1389700     NaN        NaN   NaN         124236  \n",
       "1389701     NaN        NaN   NaN         165731  \n",
       "1389702     NaN        NaN   NaN         360795  \n",
       "1389703     NaN        NaN   NaN         360783  \n",
       "\n",
       "[1389704 rows x 10 columns]"
      ]
     },
     "execution_count": 150,
     "metadata": {},
     "output_type": "execute_result"
    }
   ],
   "source": [
    "totalsellin"
   ]
  },
  {
   "cell_type": "code",
   "execution_count": 151,
   "metadata": {},
   "outputs": [],
   "source": [
    "merged_df4 = pd.merge(totalsellin, mara_reducido, left_on='Ultimo Eslabón', right_on='Material_S4')\n"
   ]
  },
  {
   "cell_type": "code",
   "execution_count": 152,
   "metadata": {},
   "outputs": [
    {
     "data": {
      "text/html": [
       "<div>\n",
       "<style scoped>\n",
       "    .dataframe tbody tr th:only-of-type {\n",
       "        vertical-align: middle;\n",
       "    }\n",
       "\n",
       "    .dataframe tbody tr th {\n",
       "        vertical-align: top;\n",
       "    }\n",
       "\n",
       "    .dataframe thead th {\n",
       "        text-align: right;\n",
       "    }\n",
       "</style>\n",
       "<table border=\"1\" class=\"dataframe\">\n",
       "  <thead>\n",
       "    <tr style=\"text-align: right;\">\n",
       "      <th></th>\n",
       "      <th>Mes</th>\n",
       "      <th>Material</th>\n",
       "      <th>Canal</th>\n",
       "      <th>Venta UMB</th>\n",
       "      <th>Fuente</th>\n",
       "      <th>Tipo</th>\n",
       "      <th>Canal 2</th>\n",
       "      <th>Canal 3</th>\n",
       "      <th>SI/SO</th>\n",
       "      <th>Ultimo Eslabón</th>\n",
       "      <th>Material_S4</th>\n",
       "      <th>Nombre Sector</th>\n",
       "      <th>Sector_MU</th>\n",
       "    </tr>\n",
       "  </thead>\n",
       "  <tbody>\n",
       "    <tr>\n",
       "      <th>1389702</th>\n",
       "      <td>2024-07-01</td>\n",
       "      <td>360795</td>\n",
       "      <td>Walmart</td>\n",
       "      <td>182.0</td>\n",
       "      <td>Sell Out MB51 - SISO</td>\n",
       "      <td>NaN</td>\n",
       "      <td>NaN</td>\n",
       "      <td>NaN</td>\n",
       "      <td>NaN</td>\n",
       "      <td>360795</td>\n",
       "      <td>360795</td>\n",
       "      <td>ACC</td>\n",
       "      <td>48</td>\n",
       "    </tr>\n",
       "    <tr>\n",
       "      <th>1389703</th>\n",
       "      <td>2024-07-01</td>\n",
       "      <td>360783</td>\n",
       "      <td>Easy</td>\n",
       "      <td>2.0</td>\n",
       "      <td>Sell Out MB51 - SISO</td>\n",
       "      <td>NaN</td>\n",
       "      <td>NaN</td>\n",
       "      <td>NaN</td>\n",
       "      <td>NaN</td>\n",
       "      <td>360783</td>\n",
       "      <td>360783</td>\n",
       "      <td>ACC</td>\n",
       "      <td>48</td>\n",
       "    </tr>\n",
       "  </tbody>\n",
       "</table>\n",
       "</div>"
      ],
      "text/plain": [
       "               Mes Material    Canal  Venta UMB                Fuente Tipo  \\\n",
       "1389702 2024-07-01   360795  Walmart      182.0  Sell Out MB51 - SISO  NaN   \n",
       "1389703 2024-07-01   360783     Easy        2.0  Sell Out MB51 - SISO  NaN   \n",
       "\n",
       "        Canal 2 Canal 3 SI/SO Ultimo Eslabón Material_S4 Nombre Sector  \\\n",
       "1389702     NaN     NaN   NaN         360795      360795           ACC   \n",
       "1389703     NaN     NaN   NaN         360783      360783           ACC   \n",
       "\n",
       "        Sector_MU  \n",
       "1389702        48  \n",
       "1389703        48  "
      ]
     },
     "execution_count": 152,
     "metadata": {},
     "output_type": "execute_result"
    }
   ],
   "source": [
    "merged_df4.tail(2)"
   ]
  },
  {
   "cell_type": "markdown",
   "metadata": {},
   "source": [
    "ACA PODRÍA GUARDAR LA HISTORIA ----------------------------"
   ]
  },
  {
   "cell_type": "code",
   "execution_count": 153,
   "metadata": {},
   "outputs": [
    {
     "data": {
      "text/html": [
       "<div>\n",
       "<style scoped>\n",
       "    .dataframe tbody tr th:only-of-type {\n",
       "        vertical-align: middle;\n",
       "    }\n",
       "\n",
       "    .dataframe tbody tr th {\n",
       "        vertical-align: top;\n",
       "    }\n",
       "\n",
       "    .dataframe thead th {\n",
       "        text-align: right;\n",
       "    }\n",
       "</style>\n",
       "<table border=\"1\" class=\"dataframe\">\n",
       "  <thead>\n",
       "    <tr style=\"text-align: right;\">\n",
       "      <th></th>\n",
       "      <th>Mes</th>\n",
       "      <th>Material</th>\n",
       "      <th>Canal</th>\n",
       "      <th>Venta UMB</th>\n",
       "      <th>Fuente</th>\n",
       "      <th>Ultimo Eslabón</th>\n",
       "      <th>Tipo</th>\n",
       "      <th>Canal 2</th>\n",
       "      <th>Nombre Sector</th>\n",
       "      <th>Canal 3</th>\n",
       "    </tr>\n",
       "  </thead>\n",
       "  <tbody>\n",
       "    <tr>\n",
       "      <th>0</th>\n",
       "      <td>2021-06-01</td>\n",
       "      <td>1000147</td>\n",
       "      <td>AP</td>\n",
       "      <td>52.0</td>\n",
       "      <td>Sell Out MB51 - SISO</td>\n",
       "      <td>1000147</td>\n",
       "      <td>ACC</td>\n",
       "      <td>Retail</td>\n",
       "      <td>ACC</td>\n",
       "      <td>CL RETAIL</td>\n",
       "    </tr>\n",
       "  </tbody>\n",
       "</table>\n",
       "</div>"
      ],
      "text/plain": [
       "         Mes Material Canal  Venta UMB                Fuente Ultimo Eslabón  \\\n",
       "0 2021-06-01  1000147    AP       52.0  Sell Out MB51 - SISO        1000147   \n",
       "\n",
       "  Tipo Canal 2 Nombre Sector    Canal 3  \n",
       "0  ACC  Retail           ACC  CL RETAIL  "
      ]
     },
     "execution_count": 153,
     "metadata": {},
     "output_type": "execute_result"
    }
   ],
   "source": [
    "final_df = merged_df4[['Mes', 'Material', 'Canal', 'Venta UMB', 'Fuente', 'Ultimo Eslabón', 'Tipo', 'Canal 2', 'Nombre Sector', 'Canal 3']]\n",
    "final_df.head(1)"
   ]
  },
  {
   "cell_type": "code",
   "execution_count": 154,
   "metadata": {},
   "outputs": [
    {
     "data": {
      "text/html": [
       "<div>\n",
       "<style scoped>\n",
       "    .dataframe tbody tr th:only-of-type {\n",
       "        vertical-align: middle;\n",
       "    }\n",
       "\n",
       "    .dataframe tbody tr th {\n",
       "        vertical-align: top;\n",
       "    }\n",
       "\n",
       "    .dataframe thead th {\n",
       "        text-align: right;\n",
       "    }\n",
       "</style>\n",
       "<table border=\"1\" class=\"dataframe\">\n",
       "  <thead>\n",
       "    <tr style=\"text-align: right;\">\n",
       "      <th></th>\n",
       "      <th>Mes</th>\n",
       "      <th>Material</th>\n",
       "      <th>Canal</th>\n",
       "      <th>Venta UMB</th>\n",
       "      <th>Fuente</th>\n",
       "      <th>Ultimo Eslabón</th>\n",
       "      <th>Tipo</th>\n",
       "      <th>Canal 2</th>\n",
       "      <th>Nombre Sector</th>\n",
       "      <th>Canal 3</th>\n",
       "    </tr>\n",
       "  </thead>\n",
       "  <tbody>\n",
       "    <tr>\n",
       "      <th>0</th>\n",
       "      <td>2021-06-01</td>\n",
       "      <td>1000147</td>\n",
       "      <td>AP</td>\n",
       "      <td>52.0</td>\n",
       "      <td>Sell Out MB51 - SISO</td>\n",
       "      <td>1000147</td>\n",
       "      <td>ACC</td>\n",
       "      <td>Retail</td>\n",
       "      <td>ACC</td>\n",
       "      <td>CL RETAIL</td>\n",
       "    </tr>\n",
       "    <tr>\n",
       "      <th>1</th>\n",
       "      <td>2021-05-01</td>\n",
       "      <td>1000147</td>\n",
       "      <td>AP</td>\n",
       "      <td>40.0</td>\n",
       "      <td>Sell Out MB51 - SISO</td>\n",
       "      <td>1000147</td>\n",
       "      <td>ACC</td>\n",
       "      <td>Retail</td>\n",
       "      <td>ACC</td>\n",
       "      <td>CL RETAIL</td>\n",
       "    </tr>\n",
       "  </tbody>\n",
       "</table>\n",
       "</div>"
      ],
      "text/plain": [
       "         Mes Material Canal  Venta UMB                Fuente Ultimo Eslabón  \\\n",
       "0 2021-06-01  1000147    AP       52.0  Sell Out MB51 - SISO        1000147   \n",
       "1 2021-05-01  1000147    AP       40.0  Sell Out MB51 - SISO        1000147   \n",
       "\n",
       "  Tipo Canal 2 Nombre Sector    Canal 3  \n",
       "0  ACC  Retail           ACC  CL RETAIL  \n",
       "1  ACC  Retail           ACC  CL RETAIL  "
      ]
     },
     "execution_count": 154,
     "metadata": {},
     "output_type": "execute_result"
    }
   ],
   "source": [
    "# Inicializar 'Canal 3' con None para borrar cualquier valor existente\n",
    "final_df.loc[:, 'Canal 3'] = None\n",
    "\n",
    "# Definir el diccionario de mapeo incluyendo las nuevas condiciones\n",
    "mapa_canal_3 = {\n",
    "    'AP': 'CL RETAIL',\n",
    "    'Sergo': 'CL RETAIL',\n",
    "    'Easy': 'CL EASY',\n",
    "    'SMU': 'CL SMU',\n",
    "    'TOTTUS': 'CL TOTTUS',\n",
    "    'Walmart': 'CL WALMART',\n",
    "    'Sodimac': 'CL SODIMAC',\n",
    "    'Retail': 'CL RETAIL',\n",
    "    'RETAIL': 'CL RETAIL'\n",
    "}\n",
    "\n",
    "# Asignar valores a 'Canal 3' usando el diccionario de mapeo\n",
    "final_df.loc[:, 'Canal 3'] = final_df['Canal'].map(mapa_canal_3).fillna(final_df['Canal 3'])\n",
    "\n",
    "# Imprimir las primeras filas del DataFrame actualizado para verificar los cambios\n",
    "final_df.head(2)\n"
   ]
  },
  {
   "cell_type": "code",
   "execution_count": 155,
   "metadata": {},
   "outputs": [
    {
     "name": "stdout",
     "output_type": "stream",
     "text": [
      "Hay 0 filas con NaN en la columna 'Canal 3'.\n"
     ]
    }
   ],
   "source": [
    "# Contar las filas con NaN en la columna 'Canal 3'\n",
    "filas_con_nan = final_df['Canal 3'].isna().sum()\n",
    "\n",
    "# Imprimir el resultado\n",
    "print(f\"Hay {filas_con_nan} filas con NaN en la columna 'Canal 3'.\")\n"
   ]
  },
  {
   "cell_type": "code",
   "execution_count": 156,
   "metadata": {},
   "outputs": [
    {
     "name": "stdout",
     "output_type": "stream",
     "text": [
      "Valores únicos en la columna 'Canal' cuando 'Canal 3' es NaN:\n",
      "[]\n"
     ]
    }
   ],
   "source": [
    "# Filtrar las filas donde 'Canal 3' es NaN\n",
    "filas_con_nan_en_canal_3 = final_df[final_df['Canal 3'].isna()]\n",
    "\n",
    "# Obtener los valores únicos en la columna 'Canal' para estas filas\n",
    "valores_unicos_canal = filas_con_nan_en_canal_3['Canal'].unique()\n",
    "\n",
    "# Imprimir los valores únicos\n",
    "print(\"Valores únicos en la columna 'Canal' cuando 'Canal 3' es NaN:\")\n",
    "print(valores_unicos_canal)\n"
   ]
  },
  {
   "cell_type": "code",
   "execution_count": 157,
   "metadata": {},
   "outputs": [
    {
     "data": {
      "text/plain": [
       "array(['AP', 'Retail', 'Sergo', 'Sodimac', 'Easy', 'Walmart', 'SMU',\n",
       "       'TOTTUS'], dtype=object)"
      ]
     },
     "execution_count": 157,
     "metadata": {},
     "output_type": "execute_result"
    }
   ],
   "source": [
    "canalesf = final_df['Canal'].unique()\n",
    "canalesf"
   ]
  },
  {
   "cell_type": "code",
   "execution_count": 158,
   "metadata": {},
   "outputs": [
    {
     "data": {
      "text/plain": [
       "(1389704, 10)"
      ]
     },
     "execution_count": 158,
     "metadata": {},
     "output_type": "execute_result"
    }
   ],
   "source": [
    "final_df.shape"
   ]
  },
  {
   "cell_type": "code",
   "execution_count": 159,
   "metadata": {},
   "outputs": [
    {
     "data": {
      "text/html": [
       "<div>\n",
       "<style scoped>\n",
       "    .dataframe tbody tr th:only-of-type {\n",
       "        vertical-align: middle;\n",
       "    }\n",
       "\n",
       "    .dataframe tbody tr th {\n",
       "        vertical-align: top;\n",
       "    }\n",
       "\n",
       "    .dataframe thead th {\n",
       "        text-align: right;\n",
       "    }\n",
       "</style>\n",
       "<table border=\"1\" class=\"dataframe\">\n",
       "  <thead>\n",
       "    <tr style=\"text-align: right;\">\n",
       "      <th></th>\n",
       "      <th>Mes</th>\n",
       "      <th>Material</th>\n",
       "      <th>Canal</th>\n",
       "      <th>Venta UMB</th>\n",
       "      <th>Fuente</th>\n",
       "      <th>Ultimo Eslabón</th>\n",
       "      <th>Tipo</th>\n",
       "      <th>Canal 2</th>\n",
       "      <th>Nombre Sector</th>\n",
       "      <th>Canal 3</th>\n",
       "    </tr>\n",
       "  </thead>\n",
       "  <tbody>\n",
       "    <tr>\n",
       "      <th>1389702</th>\n",
       "      <td>2024-07-01</td>\n",
       "      <td>360795</td>\n",
       "      <td>Walmart</td>\n",
       "      <td>182.0</td>\n",
       "      <td>Sell Out MB51 - SISO</td>\n",
       "      <td>360795</td>\n",
       "      <td>NaN</td>\n",
       "      <td>NaN</td>\n",
       "      <td>ACC</td>\n",
       "      <td>CL WALMART</td>\n",
       "    </tr>\n",
       "    <tr>\n",
       "      <th>1389703</th>\n",
       "      <td>2024-07-01</td>\n",
       "      <td>360783</td>\n",
       "      <td>Easy</td>\n",
       "      <td>2.0</td>\n",
       "      <td>Sell Out MB51 - SISO</td>\n",
       "      <td>360783</td>\n",
       "      <td>NaN</td>\n",
       "      <td>NaN</td>\n",
       "      <td>ACC</td>\n",
       "      <td>CL EASY</td>\n",
       "    </tr>\n",
       "  </tbody>\n",
       "</table>\n",
       "</div>"
      ],
      "text/plain": [
       "               Mes Material    Canal  Venta UMB                Fuente  \\\n",
       "1389702 2024-07-01   360795  Walmart      182.0  Sell Out MB51 - SISO   \n",
       "1389703 2024-07-01   360783     Easy        2.0  Sell Out MB51 - SISO   \n",
       "\n",
       "        Ultimo Eslabón Tipo Canal 2 Nombre Sector     Canal 3  \n",
       "1389702         360795  NaN     NaN           ACC  CL WALMART  \n",
       "1389703         360783  NaN     NaN           ACC     CL EASY  "
      ]
     },
     "execution_count": 159,
     "metadata": {},
     "output_type": "execute_result"
    }
   ],
   "source": [
    "final_df.tail(2)"
   ]
  },
  {
   "cell_type": "code",
   "execution_count": 160,
   "metadata": {},
   "outputs": [
    {
     "data": {
      "text/plain": [
       "array(['ACC', 'BAT', 'NEU', 'Suzuki', 'Mazda', 'RALT', 'LUB', 'Renault',\n",
       "       'JAC Cars', 'RMAQ', 'AXS', 'Changan', 'Great Wall', 'Sector Comun',\n",
       "       'JAC Truck', 'Samsung', 'Implemento Agrícola', 'Geely', '0',\n",
       "       'Otras Marcas', 'Valtra', 'Still', 'Landini', 'Hangcha', 'JCB'],\n",
       "      dtype=object)"
      ]
     },
     "execution_count": 160,
     "metadata": {},
     "output_type": "execute_result"
    }
   ],
   "source": [
    "sectores = final_df['Nombre Sector'].unique()\n",
    "canalesf = final_df['Canal 3'].unique()\n",
    "sectores"
   ]
  },
  {
   "cell_type": "code",
   "execution_count": 161,
   "metadata": {},
   "outputs": [
    {
     "data": {
      "text/html": [
       "<div>\n",
       "<style scoped>\n",
       "    .dataframe tbody tr th:only-of-type {\n",
       "        vertical-align: middle;\n",
       "    }\n",
       "\n",
       "    .dataframe tbody tr th {\n",
       "        vertical-align: top;\n",
       "    }\n",
       "\n",
       "    .dataframe thead th {\n",
       "        text-align: right;\n",
       "    }\n",
       "</style>\n",
       "<table border=\"1\" class=\"dataframe\">\n",
       "  <thead>\n",
       "    <tr style=\"text-align: right;\">\n",
       "      <th></th>\n",
       "      <th>Mes</th>\n",
       "      <th>Material</th>\n",
       "      <th>Canal</th>\n",
       "      <th>Venta UMB</th>\n",
       "      <th>Fuente</th>\n",
       "      <th>Ultimo Eslabón</th>\n",
       "      <th>Tipo</th>\n",
       "      <th>Canal 2</th>\n",
       "      <th>Nombre Sector</th>\n",
       "      <th>Canal 3</th>\n",
       "    </tr>\n",
       "  </thead>\n",
       "  <tbody>\n",
       "    <tr>\n",
       "      <th>0</th>\n",
       "      <td>2021-06-01</td>\n",
       "      <td>1000147</td>\n",
       "      <td>AP</td>\n",
       "      <td>52.0</td>\n",
       "      <td>Sell Out MB51 - SISO</td>\n",
       "      <td>1000147</td>\n",
       "      <td>ACC</td>\n",
       "      <td>Retail</td>\n",
       "      <td>ACC</td>\n",
       "      <td>CL RETAIL</td>\n",
       "    </tr>\n",
       "    <tr>\n",
       "      <th>1</th>\n",
       "      <td>2021-05-01</td>\n",
       "      <td>1000147</td>\n",
       "      <td>AP</td>\n",
       "      <td>40.0</td>\n",
       "      <td>Sell Out MB51 - SISO</td>\n",
       "      <td>1000147</td>\n",
       "      <td>ACC</td>\n",
       "      <td>Retail</td>\n",
       "      <td>ACC</td>\n",
       "      <td>CL RETAIL</td>\n",
       "    </tr>\n",
       "    <tr>\n",
       "      <th>2</th>\n",
       "      <td>2021-04-01</td>\n",
       "      <td>1000147</td>\n",
       "      <td>AP</td>\n",
       "      <td>18.0</td>\n",
       "      <td>Sell Out MB51 - SISO</td>\n",
       "      <td>1000147</td>\n",
       "      <td>ACC</td>\n",
       "      <td>Retail</td>\n",
       "      <td>ACC</td>\n",
       "      <td>CL RETAIL</td>\n",
       "    </tr>\n",
       "    <tr>\n",
       "      <th>3</th>\n",
       "      <td>2021-03-01</td>\n",
       "      <td>1000147</td>\n",
       "      <td>AP</td>\n",
       "      <td>34.0</td>\n",
       "      <td>Sell Out MB51 - SISO</td>\n",
       "      <td>1000147</td>\n",
       "      <td>ACC</td>\n",
       "      <td>Retail</td>\n",
       "      <td>ACC</td>\n",
       "      <td>CL RETAIL</td>\n",
       "    </tr>\n",
       "    <tr>\n",
       "      <th>4</th>\n",
       "      <td>2021-02-01</td>\n",
       "      <td>1000147</td>\n",
       "      <td>AP</td>\n",
       "      <td>41.0</td>\n",
       "      <td>Sell Out MB51 - SISO</td>\n",
       "      <td>1000147</td>\n",
       "      <td>ACC</td>\n",
       "      <td>Retail</td>\n",
       "      <td>ACC</td>\n",
       "      <td>CL RETAIL</td>\n",
       "    </tr>\n",
       "    <tr>\n",
       "      <th>...</th>\n",
       "      <td>...</td>\n",
       "      <td>...</td>\n",
       "      <td>...</td>\n",
       "      <td>...</td>\n",
       "      <td>...</td>\n",
       "      <td>...</td>\n",
       "      <td>...</td>\n",
       "      <td>...</td>\n",
       "      <td>...</td>\n",
       "      <td>...</td>\n",
       "    </tr>\n",
       "    <tr>\n",
       "      <th>1389699</th>\n",
       "      <td>2024-07-01</td>\n",
       "      <td>454487</td>\n",
       "      <td>Sodimac</td>\n",
       "      <td>41.0</td>\n",
       "      <td>Sell Out MB51 - SISO</td>\n",
       "      <td>454487</td>\n",
       "      <td>NaN</td>\n",
       "      <td>NaN</td>\n",
       "      <td>LUB</td>\n",
       "      <td>CL SODIMAC</td>\n",
       "    </tr>\n",
       "    <tr>\n",
       "      <th>1389700</th>\n",
       "      <td>2024-07-01</td>\n",
       "      <td>124236</td>\n",
       "      <td>Sodimac</td>\n",
       "      <td>192.0</td>\n",
       "      <td>Sell Out MB51 - SISO</td>\n",
       "      <td>124236</td>\n",
       "      <td>NaN</td>\n",
       "      <td>NaN</td>\n",
       "      <td>LUB</td>\n",
       "      <td>CL SODIMAC</td>\n",
       "    </tr>\n",
       "    <tr>\n",
       "      <th>1389701</th>\n",
       "      <td>2024-07-01</td>\n",
       "      <td>1143391</td>\n",
       "      <td>Walmart</td>\n",
       "      <td>880.0</td>\n",
       "      <td>Sell Out MB51 - SISO</td>\n",
       "      <td>165731</td>\n",
       "      <td>NaN</td>\n",
       "      <td>NaN</td>\n",
       "      <td>LUB</td>\n",
       "      <td>CL WALMART</td>\n",
       "    </tr>\n",
       "    <tr>\n",
       "      <th>1389702</th>\n",
       "      <td>2024-07-01</td>\n",
       "      <td>360795</td>\n",
       "      <td>Walmart</td>\n",
       "      <td>182.0</td>\n",
       "      <td>Sell Out MB51 - SISO</td>\n",
       "      <td>360795</td>\n",
       "      <td>NaN</td>\n",
       "      <td>NaN</td>\n",
       "      <td>ACC</td>\n",
       "      <td>CL WALMART</td>\n",
       "    </tr>\n",
       "    <tr>\n",
       "      <th>1389703</th>\n",
       "      <td>2024-07-01</td>\n",
       "      <td>360783</td>\n",
       "      <td>Easy</td>\n",
       "      <td>2.0</td>\n",
       "      <td>Sell Out MB51 - SISO</td>\n",
       "      <td>360783</td>\n",
       "      <td>NaN</td>\n",
       "      <td>NaN</td>\n",
       "      <td>ACC</td>\n",
       "      <td>CL EASY</td>\n",
       "    </tr>\n",
       "  </tbody>\n",
       "</table>\n",
       "<p>1389704 rows × 10 columns</p>\n",
       "</div>"
      ],
      "text/plain": [
       "               Mes Material    Canal  Venta UMB                Fuente  \\\n",
       "0       2021-06-01  1000147       AP       52.0  Sell Out MB51 - SISO   \n",
       "1       2021-05-01  1000147       AP       40.0  Sell Out MB51 - SISO   \n",
       "2       2021-04-01  1000147       AP       18.0  Sell Out MB51 - SISO   \n",
       "3       2021-03-01  1000147       AP       34.0  Sell Out MB51 - SISO   \n",
       "4       2021-02-01  1000147       AP       41.0  Sell Out MB51 - SISO   \n",
       "...            ...      ...      ...        ...                   ...   \n",
       "1389699 2024-07-01   454487  Sodimac       41.0  Sell Out MB51 - SISO   \n",
       "1389700 2024-07-01   124236  Sodimac      192.0  Sell Out MB51 - SISO   \n",
       "1389701 2024-07-01  1143391  Walmart      880.0  Sell Out MB51 - SISO   \n",
       "1389702 2024-07-01   360795  Walmart      182.0  Sell Out MB51 - SISO   \n",
       "1389703 2024-07-01   360783     Easy        2.0  Sell Out MB51 - SISO   \n",
       "\n",
       "        Ultimo Eslabón Tipo Canal 2 Nombre Sector     Canal 3  \n",
       "0              1000147  ACC  Retail           ACC   CL RETAIL  \n",
       "1              1000147  ACC  Retail           ACC   CL RETAIL  \n",
       "2              1000147  ACC  Retail           ACC   CL RETAIL  \n",
       "3              1000147  ACC  Retail           ACC   CL RETAIL  \n",
       "4              1000147  ACC  Retail           ACC   CL RETAIL  \n",
       "...                ...  ...     ...           ...         ...  \n",
       "1389699         454487  NaN     NaN           LUB  CL SODIMAC  \n",
       "1389700         124236  NaN     NaN           LUB  CL SODIMAC  \n",
       "1389701         165731  NaN     NaN           LUB  CL WALMART  \n",
       "1389702         360795  NaN     NaN           ACC  CL WALMART  \n",
       "1389703         360783  NaN     NaN           ACC     CL EASY  \n",
       "\n",
       "[1389704 rows x 10 columns]"
      ]
     },
     "execution_count": 161,
     "metadata": {},
     "output_type": "execute_result"
    }
   ],
   "source": [
    "final_df"
   ]
  },
  {
   "cell_type": "markdown",
   "metadata": {},
   "source": [
    "AHORA EVALUAR SI GUARDAR NUEVO PARQUET"
   ]
  },
  {
   "cell_type": "code",
   "execution_count": 162,
   "metadata": {},
   "outputs": [
    {
     "name": "stderr",
     "output_type": "stream",
     "text": [
      "C:\\Users\\etorres.DERCOPARTS\\AppData\\Local\\Temp\\ipykernel_21088\\358599988.py:1: SettingWithCopyWarning: \n",
      "A value is trying to be set on a copy of a slice from a DataFrame.\n",
      "Try using .loc[row_indexer,col_indexer] = value instead\n",
      "\n",
      "See the caveats in the documentation: https://pandas.pydata.org/pandas-docs/stable/user_guide/indexing.html#returning-a-view-versus-a-copy\n",
      "  final_df['Nombre Sector'] = final_df['Nombre Sector'].astype(str)\n"
     ]
    },
    {
     "data": {
      "text/plain": [
       "Mes               datetime64[ns]\n",
       "Material                  object\n",
       "Canal                     object\n",
       "Venta UMB                float64\n",
       "Fuente                    object\n",
       "Ultimo Eslabón            object\n",
       "Tipo                      object\n",
       "Canal 2                   object\n",
       "Nombre Sector             object\n",
       "Canal 3                   object\n",
       "dtype: object"
      ]
     },
     "execution_count": 162,
     "metadata": {},
     "output_type": "execute_result"
    }
   ],
   "source": [
    "final_df['Nombre Sector'] = final_df['Nombre Sector'].astype(str)\n",
    "# mara_reducido.loc[:, 'Material_S4'] = mara_reducido['Material_S4'].astype(str)\n",
    "final_df.dtypes"
   ]
  },
  {
   "cell_type": "code",
   "execution_count": 163,
   "metadata": {},
   "outputs": [
    {
     "name": "stdout",
     "output_type": "stream",
     "text": [
      "El archivo se ha guardado en: C:\\Users\\etorres.DERCOPARTS\\DERCO CHILE REPUESTOS SpA\\Planificación y abastecimiento - Documentos\\Planificación y Compras AFM\\S&OP Demanda\\Codigos Demanda\\Parquets\\Historia_Sell_Out (2024-07).parquet\n"
     ]
    }
   ],
   "source": [
    "import pandas as pd\n",
    "import os\n",
    "from datetime import datetime, timedelta\n",
    "\n",
    "# Obtener el directorio del usuario\n",
    "usuario_dir = os.path.expanduser(\"~\")\n",
    "\n",
    "# Obtener la fecha de hoy\n",
    "hoy = datetime.today()\n",
    "\n",
    "# Obtener el primer día del mes actual\n",
    "primer_dia_mes_actual = hoy.replace(day=1)\n",
    "\n",
    "# Obtener el último día del mes pasado\n",
    "mes_pasado = primer_dia_mes_actual - timedelta(days=1)\n",
    "mes_pasado_str = mes_pasado.strftime(\"%Y-%m\")\n",
    "\n",
    "# Construir la ruta de archivo\n",
    "ruta = os.path.join(\n",
    "    usuario_dir,\n",
    "    \"DERCO CHILE REPUESTOS SpA\",\n",
    "    \"Planificación y abastecimiento - Documentos\",\n",
    "    \"Planificación y Compras AFM\",\n",
    "    \"S&OP Demanda\",\n",
    "    \"Codigos Demanda\",\n",
    "    \"Parquets\",\n",
    "    f\"Historia_Sell_Out ({mes_pasado_str}).parquet\"\n",
    ")\n",
    "\n",
    "# Guardar el DataFrame en formato Parquet\n",
    "final_df.to_parquet(ruta)\n",
    "\n",
    "# Imprimir la ruta para verificar\n",
    "print(f\"El archivo se ha guardado en: {ruta}\")\n"
   ]
  },
  {
   "cell_type": "code",
   "execution_count": 164,
   "metadata": {},
   "outputs": [
    {
     "data": {
      "text/plain": [
       "array(['CL RETAIL', 'CL SODIMAC', 'CL EASY', 'CL WALMART', 'CL SMU',\n",
       "       'CL TOTTUS'], dtype=object)"
      ]
     },
     "execution_count": 164,
     "metadata": {},
     "output_type": "execute_result"
    }
   ],
   "source": [
    "canalesf"
   ]
  },
  {
   "cell_type": "code",
   "execution_count": 165,
   "metadata": {},
   "outputs": [
    {
     "data": {
      "text/plain": [
       "(1389704, 10)"
      ]
     },
     "execution_count": 165,
     "metadata": {},
     "output_type": "execute_result"
    }
   ],
   "source": [
    "final_df.shape"
   ]
  },
  {
   "cell_type": "code",
   "execution_count": 166,
   "metadata": {},
   "outputs": [
    {
     "data": {
      "text/html": [
       "<div>\n",
       "<style scoped>\n",
       "    .dataframe tbody tr th:only-of-type {\n",
       "        vertical-align: middle;\n",
       "    }\n",
       "\n",
       "    .dataframe tbody tr th {\n",
       "        vertical-align: top;\n",
       "    }\n",
       "\n",
       "    .dataframe thead th {\n",
       "        text-align: right;\n",
       "    }\n",
       "</style>\n",
       "<table border=\"1\" class=\"dataframe\">\n",
       "  <thead>\n",
       "    <tr style=\"text-align: right;\">\n",
       "      <th></th>\n",
       "      <th>Mes</th>\n",
       "      <th>Material</th>\n",
       "      <th>Canal</th>\n",
       "      <th>Venta UMB</th>\n",
       "      <th>Fuente</th>\n",
       "      <th>Ultimo Eslabón</th>\n",
       "      <th>Tipo</th>\n",
       "      <th>Canal 2</th>\n",
       "      <th>Nombre Sector</th>\n",
       "      <th>Canal 3</th>\n",
       "    </tr>\n",
       "  </thead>\n",
       "  <tbody>\n",
       "    <tr>\n",
       "      <th>0</th>\n",
       "      <td>2021-06-01</td>\n",
       "      <td>1000147</td>\n",
       "      <td>AP</td>\n",
       "      <td>52.0</td>\n",
       "      <td>Sell Out MB51 - SISO</td>\n",
       "      <td>1000147</td>\n",
       "      <td>ACC</td>\n",
       "      <td>Retail</td>\n",
       "      <td>ACC</td>\n",
       "      <td>CL RETAIL</td>\n",
       "    </tr>\n",
       "    <tr>\n",
       "      <th>1</th>\n",
       "      <td>2021-05-01</td>\n",
       "      <td>1000147</td>\n",
       "      <td>AP</td>\n",
       "      <td>40.0</td>\n",
       "      <td>Sell Out MB51 - SISO</td>\n",
       "      <td>1000147</td>\n",
       "      <td>ACC</td>\n",
       "      <td>Retail</td>\n",
       "      <td>ACC</td>\n",
       "      <td>CL RETAIL</td>\n",
       "    </tr>\n",
       "  </tbody>\n",
       "</table>\n",
       "</div>"
      ],
      "text/plain": [
       "         Mes Material Canal  Venta UMB                Fuente Ultimo Eslabón  \\\n",
       "0 2021-06-01  1000147    AP       52.0  Sell Out MB51 - SISO        1000147   \n",
       "1 2021-05-01  1000147    AP       40.0  Sell Out MB51 - SISO        1000147   \n",
       "\n",
       "  Tipo Canal 2 Nombre Sector    Canal 3  \n",
       "0  ACC  Retail           ACC  CL RETAIL  \n",
       "1  ACC  Retail           ACC  CL RETAIL  "
      ]
     },
     "execution_count": 166,
     "metadata": {},
     "output_type": "execute_result"
    }
   ],
   "source": [
    "final_df.head(2)"
   ]
  },
  {
   "cell_type": "code",
   "execution_count": 167,
   "metadata": {},
   "outputs": [
    {
     "data": {
      "text/html": [
       "<div>\n",
       "<style scoped>\n",
       "    .dataframe tbody tr th:only-of-type {\n",
       "        vertical-align: middle;\n",
       "    }\n",
       "\n",
       "    .dataframe tbody tr th {\n",
       "        vertical-align: top;\n",
       "    }\n",
       "\n",
       "    .dataframe thead th {\n",
       "        text-align: right;\n",
       "    }\n",
       "</style>\n",
       "<table border=\"1\" class=\"dataframe\">\n",
       "  <thead>\n",
       "    <tr style=\"text-align: right;\">\n",
       "      <th></th>\n",
       "      <th>Mes</th>\n",
       "      <th>Material</th>\n",
       "      <th>Canal</th>\n",
       "      <th>Venta UMB</th>\n",
       "      <th>Fuente</th>\n",
       "      <th>Ultimo Eslabón</th>\n",
       "      <th>Tipo</th>\n",
       "      <th>Canal 2</th>\n",
       "      <th>Nombre Sector</th>\n",
       "      <th>Canal 3</th>\n",
       "    </tr>\n",
       "  </thead>\n",
       "  <tbody>\n",
       "    <tr>\n",
       "      <th>0</th>\n",
       "      <td>2021-06-01</td>\n",
       "      <td>1000147</td>\n",
       "      <td>AP</td>\n",
       "      <td>52.0</td>\n",
       "      <td>Sell Out MB51 - SISO</td>\n",
       "      <td>1000147</td>\n",
       "      <td>ACC</td>\n",
       "      <td>Retail</td>\n",
       "      <td>ACC</td>\n",
       "      <td>CL RETAIL</td>\n",
       "    </tr>\n",
       "    <tr>\n",
       "      <th>1</th>\n",
       "      <td>2021-05-01</td>\n",
       "      <td>1000147</td>\n",
       "      <td>AP</td>\n",
       "      <td>40.0</td>\n",
       "      <td>Sell Out MB51 - SISO</td>\n",
       "      <td>1000147</td>\n",
       "      <td>ACC</td>\n",
       "      <td>Retail</td>\n",
       "      <td>ACC</td>\n",
       "      <td>CL RETAIL</td>\n",
       "    </tr>\n",
       "  </tbody>\n",
       "</table>\n",
       "</div>"
      ],
      "text/plain": [
       "         Mes Material Canal  Venta UMB                Fuente Ultimo Eslabón  \\\n",
       "0 2021-06-01  1000147    AP       52.0  Sell Out MB51 - SISO        1000147   \n",
       "1 2021-05-01  1000147    AP       40.0  Sell Out MB51 - SISO        1000147   \n",
       "\n",
       "  Tipo Canal 2 Nombre Sector    Canal 3  \n",
       "0  ACC  Retail           ACC  CL RETAIL  \n",
       "1  ACC  Retail           ACC  CL RETAIL  "
      ]
     },
     "execution_count": 167,
     "metadata": {},
     "output_type": "execute_result"
    }
   ],
   "source": [
    "\n",
    "sectores_deseados = ['ACC', 'BAT', 'NEU', 'LUB', 'RALT', 'RMAQ']\n",
    "\n",
    "final_df = final_df.loc[\n",
    "       (final_df['Nombre Sector'].isin(sectores_deseados))\n",
    "]\n",
    "final_df.head(2)\n"
   ]
  },
  {
   "cell_type": "code",
   "execution_count": 168,
   "metadata": {},
   "outputs": [
    {
     "data": {
      "text/plain": [
       "(1372752, 10)"
      ]
     },
     "execution_count": 168,
     "metadata": {},
     "output_type": "execute_result"
    }
   ],
   "source": [
    "final_df.shape"
   ]
  },
  {
   "cell_type": "markdown",
   "metadata": {},
   "source": [
    "Descargar el 2024 en csv para validar si va todo OK"
   ]
  },
  {
   "cell_type": "code",
   "execution_count": 169,
   "metadata": {},
   "outputs": [
    {
     "data": {
      "text/plain": [
       "Index(['Mes', 'Material', 'Canal', 'Venta UMB', 'Fuente', 'Ultimo Eslabón',\n",
       "       'Tipo', 'Canal 2', 'Nombre Sector', 'Canal 3'],\n",
       "      dtype='object')"
      ]
     },
     "execution_count": 169,
     "metadata": {},
     "output_type": "execute_result"
    }
   ],
   "source": [
    "final_df.columns"
   ]
  },
  {
   "cell_type": "code",
   "execution_count": 170,
   "metadata": {},
   "outputs": [
    {
     "data": {
      "text/html": [
       "<div>\n",
       "<style scoped>\n",
       "    .dataframe tbody tr th:only-of-type {\n",
       "        vertical-align: middle;\n",
       "    }\n",
       "\n",
       "    .dataframe tbody tr th {\n",
       "        vertical-align: top;\n",
       "    }\n",
       "\n",
       "    .dataframe thead th {\n",
       "        text-align: right;\n",
       "    }\n",
       "</style>\n",
       "<table border=\"1\" class=\"dataframe\">\n",
       "  <thead>\n",
       "    <tr style=\"text-align: right;\">\n",
       "      <th></th>\n",
       "      <th>Material</th>\n",
       "      <th>Cod_Actual_1</th>\n",
       "    </tr>\n",
       "  </thead>\n",
       "  <tbody>\n",
       "    <tr>\n",
       "      <th>0</th>\n",
       "      <td>102288</td>\n",
       "      <td>582655</td>\n",
       "    </tr>\n",
       "    <tr>\n",
       "      <th>1</th>\n",
       "      <td>501216</td>\n",
       "      <td>582655</td>\n",
       "    </tr>\n",
       "    <tr>\n",
       "      <th>2</th>\n",
       "      <td>582655</td>\n",
       "      <td>582655</td>\n",
       "    </tr>\n",
       "    <tr>\n",
       "      <th>3</th>\n",
       "      <td>167639</td>\n",
       "      <td>580659</td>\n",
       "    </tr>\n",
       "    <tr>\n",
       "      <th>4</th>\n",
       "      <td>580659</td>\n",
       "      <td>580659</td>\n",
       "    </tr>\n",
       "    <tr>\n",
       "      <th>...</th>\n",
       "      <td>...</td>\n",
       "      <td>...</td>\n",
       "    </tr>\n",
       "    <tr>\n",
       "      <th>93351</th>\n",
       "      <td>1171254</td>\n",
       "      <td>1171254</td>\n",
       "    </tr>\n",
       "    <tr>\n",
       "      <th>93352</th>\n",
       "      <td>135321</td>\n",
       "      <td>1171220</td>\n",
       "    </tr>\n",
       "    <tr>\n",
       "      <th>93353</th>\n",
       "      <td>1171220</td>\n",
       "      <td>1171220</td>\n",
       "    </tr>\n",
       "    <tr>\n",
       "      <th>93354</th>\n",
       "      <td>127515</td>\n",
       "      <td>1038018</td>\n",
       "    </tr>\n",
       "    <tr>\n",
       "      <th>93355</th>\n",
       "      <td>1038018</td>\n",
       "      <td>1038018</td>\n",
       "    </tr>\n",
       "  </tbody>\n",
       "</table>\n",
       "<p>93356 rows × 2 columns</p>\n",
       "</div>"
      ],
      "text/plain": [
       "      Material Cod_Actual_1\n",
       "0       102288       582655\n",
       "1       501216       582655\n",
       "2       582655       582655\n",
       "3       167639       580659\n",
       "4       580659       580659\n",
       "...        ...          ...\n",
       "93351  1171254      1171254\n",
       "93352   135321      1171220\n",
       "93353  1171220      1171220\n",
       "93354   127515      1038018\n",
       "93355  1038018      1038018\n",
       "\n",
       "[93356 rows x 2 columns]"
      ]
     },
     "execution_count": 170,
     "metadata": {},
     "output_type": "execute_result"
    }
   ],
   "source": [
    "eslabon"
   ]
  },
  {
   "cell_type": "markdown",
   "metadata": {},
   "source": [
    "Repasar Ult Eslabon"
   ]
  },
  {
   "cell_type": "code",
   "execution_count": 171,
   "metadata": {},
   "outputs": [
    {
     "data": {
      "text/html": [
       "<div>\n",
       "<style scoped>\n",
       "    .dataframe tbody tr th:only-of-type {\n",
       "        vertical-align: middle;\n",
       "    }\n",
       "\n",
       "    .dataframe tbody tr th {\n",
       "        vertical-align: top;\n",
       "    }\n",
       "\n",
       "    .dataframe thead th {\n",
       "        text-align: right;\n",
       "    }\n",
       "</style>\n",
       "<table border=\"1\" class=\"dataframe\">\n",
       "  <thead>\n",
       "    <tr style=\"text-align: right;\">\n",
       "      <th></th>\n",
       "      <th>Mes</th>\n",
       "      <th>Material</th>\n",
       "      <th>Canal</th>\n",
       "      <th>Venta UMB</th>\n",
       "      <th>Fuente</th>\n",
       "      <th>Tipo</th>\n",
       "      <th>Canal 2</th>\n",
       "      <th>Nombre Sector</th>\n",
       "      <th>Canal 3</th>\n",
       "      <th>Ultimo Eslabón</th>\n",
       "    </tr>\n",
       "  </thead>\n",
       "  <tbody>\n",
       "    <tr>\n",
       "      <th>0</th>\n",
       "      <td>2021-06-01</td>\n",
       "      <td>1000147</td>\n",
       "      <td>AP</td>\n",
       "      <td>52.0</td>\n",
       "      <td>Sell Out MB51 - SISO</td>\n",
       "      <td>ACC</td>\n",
       "      <td>Retail</td>\n",
       "      <td>ACC</td>\n",
       "      <td>CL RETAIL</td>\n",
       "      <td>1000147</td>\n",
       "    </tr>\n",
       "    <tr>\n",
       "      <th>1</th>\n",
       "      <td>2021-05-01</td>\n",
       "      <td>1000147</td>\n",
       "      <td>AP</td>\n",
       "      <td>40.0</td>\n",
       "      <td>Sell Out MB51 - SISO</td>\n",
       "      <td>ACC</td>\n",
       "      <td>Retail</td>\n",
       "      <td>ACC</td>\n",
       "      <td>CL RETAIL</td>\n",
       "      <td>1000147</td>\n",
       "    </tr>\n",
       "  </tbody>\n",
       "</table>\n",
       "</div>"
      ],
      "text/plain": [
       "         Mes Material Canal  Venta UMB                Fuente Tipo Canal 2  \\\n",
       "0 2021-06-01  1000147    AP       52.0  Sell Out MB51 - SISO  ACC  Retail   \n",
       "1 2021-05-01  1000147    AP       40.0  Sell Out MB51 - SISO  ACC  Retail   \n",
       "\n",
       "  Nombre Sector    Canal 3 Ultimo Eslabón  \n",
       "0           ACC  CL RETAIL        1000147  \n",
       "1           ACC  CL RETAIL        1000147  "
      ]
     },
     "execution_count": 171,
     "metadata": {},
     "output_type": "execute_result"
    }
   ],
   "source": [
    "final_df = final_df.drop(columns=['Ultimo Eslabón'])\n",
    "final_df = final_df.merge(eslabon, on='Material', how='left')\n",
    "final_df['Cod_Actual_1'] = final_df['Cod_Actual_1'].fillna(final_df['Material'])\n",
    "final_df = final_df.rename(columns={'Cod_Actual_1': 'Ultimo Eslabón'})\n",
    "final_df.head(2)\n"
   ]
  },
  {
   "cell_type": "markdown",
   "metadata": {},
   "source": [
    "Trabajamos con UE"
   ]
  },
  {
   "cell_type": "code",
   "execution_count": 172,
   "metadata": {},
   "outputs": [],
   "source": [
    "sellinreducido = final_df[['Mes', 'Ultimo Eslabón', 'Canal 3', 'Venta UMB']]"
   ]
  },
  {
   "cell_type": "code",
   "execution_count": 173,
   "metadata": {},
   "outputs": [
    {
     "data": {
      "text/plain": [
       "Mes               datetime64[ns]\n",
       "Ultimo Eslabón            object\n",
       "Canal 3                   object\n",
       "Venta UMB                float64\n",
       "dtype: object"
      ]
     },
     "execution_count": 173,
     "metadata": {},
     "output_type": "execute_result"
    }
   ],
   "source": [
    "sellinreducido.dtypes"
   ]
  },
  {
   "cell_type": "code",
   "execution_count": 174,
   "metadata": {},
   "outputs": [],
   "source": [
    "# Crear una copia del DataFrame original\n",
    "sellinreducido_ = sellinreducido.copy()\n",
    "\n",
    "# Renombrar una columna para claridad\n",
    "sellinreducido_.rename(columns={'Mes': 'Fecha'}, inplace=True)"
   ]
  },
  {
   "cell_type": "code",
   "execution_count": 175,
   "metadata": {},
   "outputs": [
    {
     "data": {
      "text/html": [
       "<div>\n",
       "<style scoped>\n",
       "    .dataframe tbody tr th:only-of-type {\n",
       "        vertical-align: middle;\n",
       "    }\n",
       "\n",
       "    .dataframe tbody tr th {\n",
       "        vertical-align: top;\n",
       "    }\n",
       "\n",
       "    .dataframe thead th {\n",
       "        text-align: right;\n",
       "    }\n",
       "</style>\n",
       "<table border=\"1\" class=\"dataframe\">\n",
       "  <thead>\n",
       "    <tr style=\"text-align: right;\">\n",
       "      <th></th>\n",
       "      <th>Fecha</th>\n",
       "      <th>Ultimo Eslabón</th>\n",
       "      <th>Canal 3</th>\n",
       "      <th>Venta UMB</th>\n",
       "    </tr>\n",
       "  </thead>\n",
       "  <tbody>\n",
       "    <tr>\n",
       "      <th>0</th>\n",
       "      <td>2021-06-01</td>\n",
       "      <td>1000147</td>\n",
       "      <td>CL RETAIL</td>\n",
       "      <td>52.0</td>\n",
       "    </tr>\n",
       "    <tr>\n",
       "      <th>1</th>\n",
       "      <td>2021-05-01</td>\n",
       "      <td>1000147</td>\n",
       "      <td>CL RETAIL</td>\n",
       "      <td>40.0</td>\n",
       "    </tr>\n",
       "    <tr>\n",
       "      <th>2</th>\n",
       "      <td>2021-04-01</td>\n",
       "      <td>1000147</td>\n",
       "      <td>CL RETAIL</td>\n",
       "      <td>18.0</td>\n",
       "    </tr>\n",
       "    <tr>\n",
       "      <th>3</th>\n",
       "      <td>2021-03-01</td>\n",
       "      <td>1000147</td>\n",
       "      <td>CL RETAIL</td>\n",
       "      <td>34.0</td>\n",
       "    </tr>\n",
       "    <tr>\n",
       "      <th>4</th>\n",
       "      <td>2021-02-01</td>\n",
       "      <td>1000147</td>\n",
       "      <td>CL RETAIL</td>\n",
       "      <td>41.0</td>\n",
       "    </tr>\n",
       "    <tr>\n",
       "      <th>...</th>\n",
       "      <td>...</td>\n",
       "      <td>...</td>\n",
       "      <td>...</td>\n",
       "      <td>...</td>\n",
       "    </tr>\n",
       "    <tr>\n",
       "      <th>1372747</th>\n",
       "      <td>2024-07-01</td>\n",
       "      <td>454487</td>\n",
       "      <td>CL SODIMAC</td>\n",
       "      <td>41.0</td>\n",
       "    </tr>\n",
       "    <tr>\n",
       "      <th>1372748</th>\n",
       "      <td>2024-07-01</td>\n",
       "      <td>124236</td>\n",
       "      <td>CL SODIMAC</td>\n",
       "      <td>192.0</td>\n",
       "    </tr>\n",
       "    <tr>\n",
       "      <th>1372749</th>\n",
       "      <td>2024-07-01</td>\n",
       "      <td>165731</td>\n",
       "      <td>CL WALMART</td>\n",
       "      <td>880.0</td>\n",
       "    </tr>\n",
       "    <tr>\n",
       "      <th>1372750</th>\n",
       "      <td>2024-07-01</td>\n",
       "      <td>360795</td>\n",
       "      <td>CL WALMART</td>\n",
       "      <td>182.0</td>\n",
       "    </tr>\n",
       "    <tr>\n",
       "      <th>1372751</th>\n",
       "      <td>2024-07-01</td>\n",
       "      <td>360783</td>\n",
       "      <td>CL EASY</td>\n",
       "      <td>2.0</td>\n",
       "    </tr>\n",
       "  </tbody>\n",
       "</table>\n",
       "<p>1372752 rows × 4 columns</p>\n",
       "</div>"
      ],
      "text/plain": [
       "             Fecha Ultimo Eslabón     Canal 3  Venta UMB\n",
       "0       2021-06-01        1000147   CL RETAIL       52.0\n",
       "1       2021-05-01        1000147   CL RETAIL       40.0\n",
       "2       2021-04-01        1000147   CL RETAIL       18.0\n",
       "3       2021-03-01        1000147   CL RETAIL       34.0\n",
       "4       2021-02-01        1000147   CL RETAIL       41.0\n",
       "...            ...            ...         ...        ...\n",
       "1372747 2024-07-01         454487  CL SODIMAC       41.0\n",
       "1372748 2024-07-01         124236  CL SODIMAC      192.0\n",
       "1372749 2024-07-01         165731  CL WALMART      880.0\n",
       "1372750 2024-07-01         360795  CL WALMART      182.0\n",
       "1372751 2024-07-01         360783     CL EASY        2.0\n",
       "\n",
       "[1372752 rows x 4 columns]"
      ]
     },
     "execution_count": 175,
     "metadata": {},
     "output_type": "execute_result"
    }
   ],
   "source": [
    "sellinreducido_"
   ]
  },
  {
   "cell_type": "code",
   "execution_count": 176,
   "metadata": {},
   "outputs": [],
   "source": [
    "# Asegurarse de que la columna 'Venta' es numérica\n",
    "sellinreducido_['Venta UMB'] = pd.to_numeric(sellinreducido_['Venta UMB'], errors='coerce')"
   ]
  },
  {
   "cell_type": "code",
   "execution_count": null,
   "metadata": {},
   "outputs": [],
   "source": []
  },
  {
   "cell_type": "code",
   "execution_count": 177,
   "metadata": {},
   "outputs": [
    {
     "data": {
      "text/plain": [
       "Index(['Mes', 'Material', 'Canal', 'Venta UMB', 'Fuente', 'Ultimo Eslabón',\n",
       "       'Tipo', 'Canal 2', 'Nombre Sector', 'Canal 3', 'SI/SO'],\n",
       "      dtype='object')"
      ]
     },
     "execution_count": 177,
     "metadata": {},
     "output_type": "execute_result"
    }
   ],
   "source": [
    "merged_df.columns"
   ]
  },
  {
   "cell_type": "markdown",
   "metadata": {},
   "source": [
    "BORRAR EL RENAME DESPUES Y EL SEGUNDO Q VIENE IGUAL"
   ]
  },
  {
   "cell_type": "code",
   "execution_count": 178,
   "metadata": {},
   "outputs": [],
   "source": [
    "sellinreducido_.rename(columns={'Ultimo Eslabón': 'Material'}, inplace=True)"
   ]
  },
  {
   "cell_type": "code",
   "execution_count": 179,
   "metadata": {},
   "outputs": [
    {
     "data": {
      "text/plain": [
       "Index(['Material', 'Cod_Actual_1'], dtype='object')"
      ]
     },
     "execution_count": 179,
     "metadata": {},
     "output_type": "execute_result"
    }
   ],
   "source": [
    "eslabon.columns"
   ]
  },
  {
   "cell_type": "code",
   "execution_count": 180,
   "metadata": {},
   "outputs": [
    {
     "data": {
      "text/plain": [
       "(1372752, 4)"
      ]
     },
     "execution_count": 180,
     "metadata": {},
     "output_type": "execute_result"
    }
   ],
   "source": [
    "sellinreducido_.shape"
   ]
  },
  {
   "cell_type": "markdown",
   "metadata": {},
   "source": [
    "REVISAAA"
   ]
  },
  {
   "cell_type": "code",
   "execution_count": 181,
   "metadata": {},
   "outputs": [],
   "source": [
    "merged_df1=sellinreducido_"
   ]
  },
  {
   "cell_type": "code",
   "execution_count": 182,
   "metadata": {},
   "outputs": [
    {
     "data": {
      "text/html": [
       "<div>\n",
       "<style scoped>\n",
       "    .dataframe tbody tr th:only-of-type {\n",
       "        vertical-align: middle;\n",
       "    }\n",
       "\n",
       "    .dataframe tbody tr th {\n",
       "        vertical-align: top;\n",
       "    }\n",
       "\n",
       "    .dataframe thead th {\n",
       "        text-align: right;\n",
       "    }\n",
       "</style>\n",
       "<table border=\"1\" class=\"dataframe\">\n",
       "  <thead>\n",
       "    <tr style=\"text-align: right;\">\n",
       "      <th></th>\n",
       "      <th>Fecha</th>\n",
       "      <th>Material</th>\n",
       "      <th>Canal 3</th>\n",
       "      <th>Venta UMB</th>\n",
       "    </tr>\n",
       "  </thead>\n",
       "  <tbody>\n",
       "    <tr>\n",
       "      <th>0</th>\n",
       "      <td>2021-06-01</td>\n",
       "      <td>1000147</td>\n",
       "      <td>CL RETAIL</td>\n",
       "      <td>52.0</td>\n",
       "    </tr>\n",
       "    <tr>\n",
       "      <th>1</th>\n",
       "      <td>2021-05-01</td>\n",
       "      <td>1000147</td>\n",
       "      <td>CL RETAIL</td>\n",
       "      <td>40.0</td>\n",
       "    </tr>\n",
       "  </tbody>\n",
       "</table>\n",
       "</div>"
      ],
      "text/plain": [
       "       Fecha Material    Canal 3  Venta UMB\n",
       "0 2021-06-01  1000147  CL RETAIL       52.0\n",
       "1 2021-05-01  1000147  CL RETAIL       40.0"
      ]
     },
     "execution_count": 182,
     "metadata": {},
     "output_type": "execute_result"
    }
   ],
   "source": [
    "merged_df1.head(2)"
   ]
  },
  {
   "cell_type": "code",
   "execution_count": 183,
   "metadata": {},
   "outputs": [],
   "source": [
    "sellinreducido1=merged_df1"
   ]
  },
  {
   "cell_type": "code",
   "execution_count": 184,
   "metadata": {},
   "outputs": [
    {
     "data": {
      "text/plain": [
       "(1372752, 4)"
      ]
     },
     "execution_count": 184,
     "metadata": {},
     "output_type": "execute_result"
    }
   ],
   "source": [
    "sellinreducido1.shape"
   ]
  },
  {
   "cell_type": "code",
   "execution_count": 185,
   "metadata": {},
   "outputs": [],
   "source": [
    "sellinreducido1.rename(columns={'Material': 'Ultimo Eslabón'}, inplace=True)"
   ]
  },
  {
   "cell_type": "code",
   "execution_count": 186,
   "metadata": {},
   "outputs": [],
   "source": [
    "# Crear un pivot table\n",
    "pivot_df = sellinreducido1.pivot_table(index=['Ultimo Eslabón', 'Canal 3'], \n",
    "                                       columns='Fecha', values='Venta UMB', \n",
    "                                       aggfunc='sum').reset_index()"
   ]
  },
  {
   "cell_type": "code",
   "execution_count": 187,
   "metadata": {},
   "outputs": [
    {
     "data": {
      "text/plain": [
       "(87027, 81)"
      ]
     },
     "execution_count": 187,
     "metadata": {},
     "output_type": "execute_result"
    }
   ],
   "source": [
    "pivot_df.shape"
   ]
  },
  {
   "cell_type": "markdown",
   "metadata": {},
   "source": [
    "\n",
    "Reemplazar los NaN por 0 y los valores negativos por 0"
   ]
  },
  {
   "cell_type": "code",
   "execution_count": 188,
   "metadata": {},
   "outputs": [],
   "source": [
    "pivot_df.fillna(0, inplace=True)\n"
   ]
  },
  {
   "cell_type": "code",
   "execution_count": 189,
   "metadata": {},
   "outputs": [
    {
     "data": {
      "text/html": [
       "<div>\n",
       "<style scoped>\n",
       "    .dataframe tbody tr th:only-of-type {\n",
       "        vertical-align: middle;\n",
       "    }\n",
       "\n",
       "    .dataframe tbody tr th {\n",
       "        vertical-align: top;\n",
       "    }\n",
       "\n",
       "    .dataframe thead th {\n",
       "        text-align: right;\n",
       "    }\n",
       "</style>\n",
       "<table border=\"1\" class=\"dataframe\">\n",
       "  <thead>\n",
       "    <tr style=\"text-align: right;\">\n",
       "      <th>Fecha</th>\n",
       "      <th>Ultimo Eslabón</th>\n",
       "      <th>Canal 3</th>\n",
       "      <th>2018-01-01 00:00:00</th>\n",
       "      <th>2018-02-01 00:00:00</th>\n",
       "      <th>2018-03-01 00:00:00</th>\n",
       "      <th>2018-04-01 00:00:00</th>\n",
       "      <th>2018-05-01 00:00:00</th>\n",
       "      <th>2018-06-01 00:00:00</th>\n",
       "      <th>2018-07-01 00:00:00</th>\n",
       "      <th>2018-08-01 00:00:00</th>\n",
       "      <th>...</th>\n",
       "      <th>2023-10-01 00:00:00</th>\n",
       "      <th>2023-11-01 00:00:00</th>\n",
       "      <th>2023-12-01 00:00:00</th>\n",
       "      <th>2024-01-01 00:00:00</th>\n",
       "      <th>2024-02-01 00:00:00</th>\n",
       "      <th>2024-03-01 00:00:00</th>\n",
       "      <th>2024-04-01 00:00:00</th>\n",
       "      <th>2024-05-01 00:00:00</th>\n",
       "      <th>2024-06-01 00:00:00</th>\n",
       "      <th>2024-07-01 00:00:00</th>\n",
       "    </tr>\n",
       "  </thead>\n",
       "  <tbody>\n",
       "    <tr>\n",
       "      <th>0</th>\n",
       "      <td>1000078</td>\n",
       "      <td>CL RETAIL</td>\n",
       "      <td>0.0</td>\n",
       "      <td>0.0</td>\n",
       "      <td>0.0</td>\n",
       "      <td>0.0</td>\n",
       "      <td>0.0</td>\n",
       "      <td>0.0</td>\n",
       "      <td>0.0</td>\n",
       "      <td>0.0</td>\n",
       "      <td>...</td>\n",
       "      <td>0.0</td>\n",
       "      <td>0.0</td>\n",
       "      <td>0.0</td>\n",
       "      <td>1.0</td>\n",
       "      <td>0.0</td>\n",
       "      <td>0.0</td>\n",
       "      <td>0.0</td>\n",
       "      <td>0.0</td>\n",
       "      <td>0.0</td>\n",
       "      <td>0.0</td>\n",
       "    </tr>\n",
       "    <tr>\n",
       "      <th>1</th>\n",
       "      <td>1000144</td>\n",
       "      <td>CL RETAIL</td>\n",
       "      <td>0.0</td>\n",
       "      <td>0.0</td>\n",
       "      <td>0.0</td>\n",
       "      <td>0.0</td>\n",
       "      <td>0.0</td>\n",
       "      <td>0.0</td>\n",
       "      <td>0.0</td>\n",
       "      <td>0.0</td>\n",
       "      <td>...</td>\n",
       "      <td>3.0</td>\n",
       "      <td>3.0</td>\n",
       "      <td>2.0</td>\n",
       "      <td>1.0</td>\n",
       "      <td>1.0</td>\n",
       "      <td>1.0</td>\n",
       "      <td>0.0</td>\n",
       "      <td>0.0</td>\n",
       "      <td>0.0</td>\n",
       "      <td>0.0</td>\n",
       "    </tr>\n",
       "  </tbody>\n",
       "</table>\n",
       "<p>2 rows × 81 columns</p>\n",
       "</div>"
      ],
      "text/plain": [
       "Fecha Ultimo Eslabón    Canal 3  2018-01-01 00:00:00  2018-02-01 00:00:00  \\\n",
       "0            1000078  CL RETAIL                  0.0                  0.0   \n",
       "1            1000144  CL RETAIL                  0.0                  0.0   \n",
       "\n",
       "Fecha  2018-03-01 00:00:00  2018-04-01 00:00:00  2018-05-01 00:00:00  \\\n",
       "0                      0.0                  0.0                  0.0   \n",
       "1                      0.0                  0.0                  0.0   \n",
       "\n",
       "Fecha  2018-06-01 00:00:00  2018-07-01 00:00:00  2018-08-01 00:00:00  ...  \\\n",
       "0                      0.0                  0.0                  0.0  ...   \n",
       "1                      0.0                  0.0                  0.0  ...   \n",
       "\n",
       "Fecha  2023-10-01 00:00:00  2023-11-01 00:00:00  2023-12-01 00:00:00  \\\n",
       "0                      0.0                  0.0                  0.0   \n",
       "1                      3.0                  3.0                  2.0   \n",
       "\n",
       "Fecha  2024-01-01 00:00:00  2024-02-01 00:00:00  2024-03-01 00:00:00  \\\n",
       "0                      1.0                  0.0                  0.0   \n",
       "1                      1.0                  1.0                  1.0   \n",
       "\n",
       "Fecha  2024-04-01 00:00:00  2024-05-01 00:00:00  2024-06-01 00:00:00  \\\n",
       "0                      0.0                  0.0                  0.0   \n",
       "1                      0.0                  0.0                  0.0   \n",
       "\n",
       "Fecha  2024-07-01 00:00:00  \n",
       "0                      0.0  \n",
       "1                      0.0  \n",
       "\n",
       "[2 rows x 81 columns]"
      ]
     },
     "execution_count": 189,
     "metadata": {},
     "output_type": "execute_result"
    }
   ],
   "source": [
    "pivot_df.head(2)"
   ]
  },
  {
   "cell_type": "code",
   "execution_count": 190,
   "metadata": {},
   "outputs": [
    {
     "data": {
      "text/html": [
       "<div>\n",
       "<style scoped>\n",
       "    .dataframe tbody tr th:only-of-type {\n",
       "        vertical-align: middle;\n",
       "    }\n",
       "\n",
       "    .dataframe tbody tr th {\n",
       "        vertical-align: top;\n",
       "    }\n",
       "\n",
       "    .dataframe thead th {\n",
       "        text-align: right;\n",
       "    }\n",
       "</style>\n",
       "<table border=\"1\" class=\"dataframe\">\n",
       "  <thead>\n",
       "    <tr style=\"text-align: right;\">\n",
       "      <th>Fecha</th>\n",
       "      <th>Ultimo Eslabón</th>\n",
       "      <th>Canal 3</th>\n",
       "      <th>2018-01-01 00:00:00</th>\n",
       "      <th>2018-02-01 00:00:00</th>\n",
       "      <th>2018-03-01 00:00:00</th>\n",
       "      <th>2018-04-01 00:00:00</th>\n",
       "      <th>2018-05-01 00:00:00</th>\n",
       "      <th>2018-06-01 00:00:00</th>\n",
       "      <th>2018-07-01 00:00:00</th>\n",
       "      <th>2018-08-01 00:00:00</th>\n",
       "      <th>...</th>\n",
       "      <th>2023-10-01 00:00:00</th>\n",
       "      <th>2023-11-01 00:00:00</th>\n",
       "      <th>2023-12-01 00:00:00</th>\n",
       "      <th>2024-01-01 00:00:00</th>\n",
       "      <th>2024-02-01 00:00:00</th>\n",
       "      <th>2024-03-01 00:00:00</th>\n",
       "      <th>2024-04-01 00:00:00</th>\n",
       "      <th>2024-05-01 00:00:00</th>\n",
       "      <th>2024-06-01 00:00:00</th>\n",
       "      <th>2024-07-01 00:00:00</th>\n",
       "    </tr>\n",
       "  </thead>\n",
       "  <tbody>\n",
       "    <tr>\n",
       "      <th>0</th>\n",
       "      <td>1000078</td>\n",
       "      <td>CL RETAIL</td>\n",
       "      <td>0.0</td>\n",
       "      <td>0.0</td>\n",
       "      <td>0.0</td>\n",
       "      <td>0.0</td>\n",
       "      <td>0.0</td>\n",
       "      <td>0.0</td>\n",
       "      <td>0.0</td>\n",
       "      <td>0.0</td>\n",
       "      <td>...</td>\n",
       "      <td>0.0</td>\n",
       "      <td>0.0</td>\n",
       "      <td>0.0</td>\n",
       "      <td>1.0</td>\n",
       "      <td>0.0</td>\n",
       "      <td>0.0</td>\n",
       "      <td>0.0</td>\n",
       "      <td>0.0</td>\n",
       "      <td>0.0</td>\n",
       "      <td>0.0</td>\n",
       "    </tr>\n",
       "    <tr>\n",
       "      <th>1</th>\n",
       "      <td>1000144</td>\n",
       "      <td>CL RETAIL</td>\n",
       "      <td>0.0</td>\n",
       "      <td>0.0</td>\n",
       "      <td>0.0</td>\n",
       "      <td>0.0</td>\n",
       "      <td>0.0</td>\n",
       "      <td>0.0</td>\n",
       "      <td>0.0</td>\n",
       "      <td>0.0</td>\n",
       "      <td>...</td>\n",
       "      <td>3.0</td>\n",
       "      <td>3.0</td>\n",
       "      <td>2.0</td>\n",
       "      <td>1.0</td>\n",
       "      <td>1.0</td>\n",
       "      <td>1.0</td>\n",
       "      <td>0.0</td>\n",
       "      <td>0.0</td>\n",
       "      <td>0.0</td>\n",
       "      <td>0.0</td>\n",
       "    </tr>\n",
       "  </tbody>\n",
       "</table>\n",
       "<p>2 rows × 81 columns</p>\n",
       "</div>"
      ],
      "text/plain": [
       "Fecha Ultimo Eslabón    Canal 3  2018-01-01 00:00:00  2018-02-01 00:00:00  \\\n",
       "0            1000078  CL RETAIL                  0.0                  0.0   \n",
       "1            1000144  CL RETAIL                  0.0                  0.0   \n",
       "\n",
       "Fecha  2018-03-01 00:00:00  2018-04-01 00:00:00  2018-05-01 00:00:00  \\\n",
       "0                      0.0                  0.0                  0.0   \n",
       "1                      0.0                  0.0                  0.0   \n",
       "\n",
       "Fecha  2018-06-01 00:00:00  2018-07-01 00:00:00  2018-08-01 00:00:00  ...  \\\n",
       "0                      0.0                  0.0                  0.0  ...   \n",
       "1                      0.0                  0.0                  0.0  ...   \n",
       "\n",
       "Fecha  2023-10-01 00:00:00  2023-11-01 00:00:00  2023-12-01 00:00:00  \\\n",
       "0                      0.0                  0.0                  0.0   \n",
       "1                      3.0                  3.0                  2.0   \n",
       "\n",
       "Fecha  2024-01-01 00:00:00  2024-02-01 00:00:00  2024-03-01 00:00:00  \\\n",
       "0                      1.0                  0.0                  0.0   \n",
       "1                      1.0                  1.0                  1.0   \n",
       "\n",
       "Fecha  2024-04-01 00:00:00  2024-05-01 00:00:00  2024-06-01 00:00:00  \\\n",
       "0                      0.0                  0.0                  0.0   \n",
       "1                      0.0                  0.0                  0.0   \n",
       "\n",
       "Fecha  2024-07-01 00:00:00  \n",
       "0                      0.0  \n",
       "1                      0.0  \n",
       "\n",
       "[2 rows x 81 columns]"
      ]
     },
     "execution_count": 190,
     "metadata": {},
     "output_type": "execute_result"
    }
   ],
   "source": [
    "import pandas as pd\n",
    "\n",
    "cols = pivot_df.columns.drop(['Ultimo Eslabón', 'Canal 3'])  # Excluye las columnas de índices\n",
    "\n",
    "# Asegurarse de que los valores son numéricos\n",
    "pivot_df[cols] = pivot_df[cols].apply(pd.to_numeric, errors='coerce')\n",
    "\n",
    "# Reemplaza los NaNs por 0 si es necesario\n",
    "pivot_df[cols] = pivot_df[cols].fillna(0)\n",
    "\n",
    "# Ahora aplica clip para establecer los valores menores a 0 como 0\n",
    "pivot_df[cols] = pivot_df[cols].clip(lower=0)\n",
    "pivot_df.head(2)\n"
   ]
  },
  {
   "cell_type": "code",
   "execution_count": 191,
   "metadata": {},
   "outputs": [
    {
     "data": {
      "text/html": [
       "<div>\n",
       "<style scoped>\n",
       "    .dataframe tbody tr th:only-of-type {\n",
       "        vertical-align: middle;\n",
       "    }\n",
       "\n",
       "    .dataframe tbody tr th {\n",
       "        vertical-align: top;\n",
       "    }\n",
       "\n",
       "    .dataframe thead th {\n",
       "        text-align: right;\n",
       "    }\n",
       "</style>\n",
       "<table border=\"1\" class=\"dataframe\">\n",
       "  <thead>\n",
       "    <tr style=\"text-align: right;\">\n",
       "      <th>Fecha</th>\n",
       "      <th>Ultimo Eslabón</th>\n",
       "      <th>Canal 3</th>\n",
       "      <th>2018-01-01 00:00:00</th>\n",
       "      <th>2018-02-01 00:00:00</th>\n",
       "      <th>2018-03-01 00:00:00</th>\n",
       "      <th>2018-04-01 00:00:00</th>\n",
       "      <th>2018-05-01 00:00:00</th>\n",
       "      <th>2018-06-01 00:00:00</th>\n",
       "      <th>2018-07-01 00:00:00</th>\n",
       "      <th>2018-08-01 00:00:00</th>\n",
       "      <th>...</th>\n",
       "      <th>2023-10-01 00:00:00</th>\n",
       "      <th>2023-11-01 00:00:00</th>\n",
       "      <th>2023-12-01 00:00:00</th>\n",
       "      <th>2024-01-01 00:00:00</th>\n",
       "      <th>2024-02-01 00:00:00</th>\n",
       "      <th>2024-03-01 00:00:00</th>\n",
       "      <th>2024-04-01 00:00:00</th>\n",
       "      <th>2024-05-01 00:00:00</th>\n",
       "      <th>2024-06-01 00:00:00</th>\n",
       "      <th>2024-07-01 00:00:00</th>\n",
       "    </tr>\n",
       "  </thead>\n",
       "  <tbody>\n",
       "    <tr>\n",
       "      <th>0</th>\n",
       "      <td>1000078</td>\n",
       "      <td>CL RETAIL</td>\n",
       "      <td>0.0</td>\n",
       "      <td>0.0</td>\n",
       "      <td>0.0</td>\n",
       "      <td>0.0</td>\n",
       "      <td>0.0</td>\n",
       "      <td>0.0</td>\n",
       "      <td>0.0</td>\n",
       "      <td>0.0</td>\n",
       "      <td>...</td>\n",
       "      <td>0.0</td>\n",
       "      <td>0.0</td>\n",
       "      <td>0.0</td>\n",
       "      <td>1.0</td>\n",
       "      <td>0.0</td>\n",
       "      <td>0.0</td>\n",
       "      <td>0.0</td>\n",
       "      <td>0.0</td>\n",
       "      <td>0.0</td>\n",
       "      <td>0.0</td>\n",
       "    </tr>\n",
       "    <tr>\n",
       "      <th>1</th>\n",
       "      <td>1000144</td>\n",
       "      <td>CL RETAIL</td>\n",
       "      <td>0.0</td>\n",
       "      <td>0.0</td>\n",
       "      <td>0.0</td>\n",
       "      <td>0.0</td>\n",
       "      <td>0.0</td>\n",
       "      <td>0.0</td>\n",
       "      <td>0.0</td>\n",
       "      <td>0.0</td>\n",
       "      <td>...</td>\n",
       "      <td>3.0</td>\n",
       "      <td>3.0</td>\n",
       "      <td>2.0</td>\n",
       "      <td>1.0</td>\n",
       "      <td>1.0</td>\n",
       "      <td>1.0</td>\n",
       "      <td>0.0</td>\n",
       "      <td>0.0</td>\n",
       "      <td>0.0</td>\n",
       "      <td>0.0</td>\n",
       "    </tr>\n",
       "    <tr>\n",
       "      <th>2</th>\n",
       "      <td>1000147</td>\n",
       "      <td>CL RETAIL</td>\n",
       "      <td>0.0</td>\n",
       "      <td>0.0</td>\n",
       "      <td>0.0</td>\n",
       "      <td>0.0</td>\n",
       "      <td>0.0</td>\n",
       "      <td>0.0</td>\n",
       "      <td>0.0</td>\n",
       "      <td>0.0</td>\n",
       "      <td>...</td>\n",
       "      <td>53.0</td>\n",
       "      <td>64.0</td>\n",
       "      <td>46.0</td>\n",
       "      <td>45.0</td>\n",
       "      <td>51.0</td>\n",
       "      <td>64.0</td>\n",
       "      <td>36.0</td>\n",
       "      <td>28.0</td>\n",
       "      <td>30.0</td>\n",
       "      <td>30.0</td>\n",
       "    </tr>\n",
       "    <tr>\n",
       "      <th>3</th>\n",
       "      <td>1000148</td>\n",
       "      <td>CL RETAIL</td>\n",
       "      <td>0.0</td>\n",
       "      <td>0.0</td>\n",
       "      <td>0.0</td>\n",
       "      <td>0.0</td>\n",
       "      <td>0.0</td>\n",
       "      <td>0.0</td>\n",
       "      <td>0.0</td>\n",
       "      <td>0.0</td>\n",
       "      <td>...</td>\n",
       "      <td>75.0</td>\n",
       "      <td>50.0</td>\n",
       "      <td>67.0</td>\n",
       "      <td>120.0</td>\n",
       "      <td>76.0</td>\n",
       "      <td>75.0</td>\n",
       "      <td>64.0</td>\n",
       "      <td>37.0</td>\n",
       "      <td>73.0</td>\n",
       "      <td>82.0</td>\n",
       "    </tr>\n",
       "    <tr>\n",
       "      <th>4</th>\n",
       "      <td>1000149</td>\n",
       "      <td>CL RETAIL</td>\n",
       "      <td>0.0</td>\n",
       "      <td>0.0</td>\n",
       "      <td>0.0</td>\n",
       "      <td>0.0</td>\n",
       "      <td>0.0</td>\n",
       "      <td>0.0</td>\n",
       "      <td>0.0</td>\n",
       "      <td>0.0</td>\n",
       "      <td>...</td>\n",
       "      <td>184.0</td>\n",
       "      <td>117.0</td>\n",
       "      <td>104.0</td>\n",
       "      <td>172.0</td>\n",
       "      <td>125.0</td>\n",
       "      <td>168.0</td>\n",
       "      <td>188.0</td>\n",
       "      <td>159.0</td>\n",
       "      <td>170.0</td>\n",
       "      <td>178.0</td>\n",
       "    </tr>\n",
       "  </tbody>\n",
       "</table>\n",
       "<p>5 rows × 81 columns</p>\n",
       "</div>"
      ],
      "text/plain": [
       "Fecha Ultimo Eslabón    Canal 3  2018-01-01 00:00:00  2018-02-01 00:00:00  \\\n",
       "0            1000078  CL RETAIL                  0.0                  0.0   \n",
       "1            1000144  CL RETAIL                  0.0                  0.0   \n",
       "2            1000147  CL RETAIL                  0.0                  0.0   \n",
       "3            1000148  CL RETAIL                  0.0                  0.0   \n",
       "4            1000149  CL RETAIL                  0.0                  0.0   \n",
       "\n",
       "Fecha  2018-03-01 00:00:00  2018-04-01 00:00:00  2018-05-01 00:00:00  \\\n",
       "0                      0.0                  0.0                  0.0   \n",
       "1                      0.0                  0.0                  0.0   \n",
       "2                      0.0                  0.0                  0.0   \n",
       "3                      0.0                  0.0                  0.0   \n",
       "4                      0.0                  0.0                  0.0   \n",
       "\n",
       "Fecha  2018-06-01 00:00:00  2018-07-01 00:00:00  2018-08-01 00:00:00  ...  \\\n",
       "0                      0.0                  0.0                  0.0  ...   \n",
       "1                      0.0                  0.0                  0.0  ...   \n",
       "2                      0.0                  0.0                  0.0  ...   \n",
       "3                      0.0                  0.0                  0.0  ...   \n",
       "4                      0.0                  0.0                  0.0  ...   \n",
       "\n",
       "Fecha  2023-10-01 00:00:00  2023-11-01 00:00:00  2023-12-01 00:00:00  \\\n",
       "0                      0.0                  0.0                  0.0   \n",
       "1                      3.0                  3.0                  2.0   \n",
       "2                     53.0                 64.0                 46.0   \n",
       "3                     75.0                 50.0                 67.0   \n",
       "4                    184.0                117.0                104.0   \n",
       "\n",
       "Fecha  2024-01-01 00:00:00  2024-02-01 00:00:00  2024-03-01 00:00:00  \\\n",
       "0                      1.0                  0.0                  0.0   \n",
       "1                      1.0                  1.0                  1.0   \n",
       "2                     45.0                 51.0                 64.0   \n",
       "3                    120.0                 76.0                 75.0   \n",
       "4                    172.0                125.0                168.0   \n",
       "\n",
       "Fecha  2024-04-01 00:00:00  2024-05-01 00:00:00  2024-06-01 00:00:00  \\\n",
       "0                      0.0                  0.0                  0.0   \n",
       "1                      0.0                  0.0                  0.0   \n",
       "2                     36.0                 28.0                 30.0   \n",
       "3                     64.0                 37.0                 73.0   \n",
       "4                    188.0                159.0                170.0   \n",
       "\n",
       "Fecha  2024-07-01 00:00:00  \n",
       "0                      0.0  \n",
       "1                      0.0  \n",
       "2                     30.0  \n",
       "3                     82.0  \n",
       "4                    178.0  \n",
       "\n",
       "[5 rows x 81 columns]"
      ]
     },
     "execution_count": 191,
     "metadata": {},
     "output_type": "execute_result"
    }
   ],
   "source": [
    "pivot_df.head()"
   ]
  },
  {
   "cell_type": "code",
   "execution_count": 192,
   "metadata": {},
   "outputs": [
    {
     "data": {
      "text/plain": [
       "(87027, 81)"
      ]
     },
     "execution_count": 192,
     "metadata": {},
     "output_type": "execute_result"
    }
   ],
   "source": [
    "pivot_df.shape"
   ]
  },
  {
   "cell_type": "code",
   "execution_count": 193,
   "metadata": {},
   "outputs": [
    {
     "data": {
      "text/plain": [
       "Fecha\n",
       "Ultimo Eslabón          object\n",
       "Canal 3                 object\n",
       "2018-01-01 00:00:00    float64\n",
       "2018-02-01 00:00:00    float64\n",
       "2018-03-01 00:00:00    float64\n",
       "                        ...   \n",
       "2024-03-01 00:00:00    float64\n",
       "2024-04-01 00:00:00    float64\n",
       "2024-05-01 00:00:00    float64\n",
       "2024-06-01 00:00:00    float64\n",
       "2024-07-01 00:00:00    float64\n",
       "Length: 81, dtype: object"
      ]
     },
     "execution_count": 193,
     "metadata": {},
     "output_type": "execute_result"
    }
   ],
   "source": [
    "pivot_df.dtypes"
   ]
  },
  {
   "cell_type": "code",
   "execution_count": 194,
   "metadata": {},
   "outputs": [
    {
     "data": {
      "text/plain": [
       "Index([   'Ultimo Eslabón',           'Canal 3', 2018-01-01 00:00:00,\n",
       "       2018-02-01 00:00:00, 2018-03-01 00:00:00, 2018-04-01 00:00:00,\n",
       "       2018-05-01 00:00:00, 2018-06-01 00:00:00, 2018-07-01 00:00:00,\n",
       "       2018-08-01 00:00:00, 2018-09-01 00:00:00, 2018-10-01 00:00:00,\n",
       "       2018-11-01 00:00:00, 2018-12-01 00:00:00, 2019-01-01 00:00:00,\n",
       "       2019-02-01 00:00:00, 2019-03-01 00:00:00, 2019-04-01 00:00:00,\n",
       "       2019-05-01 00:00:00, 2019-06-01 00:00:00, 2019-07-01 00:00:00,\n",
       "       2019-08-01 00:00:00, 2019-09-01 00:00:00, 2019-10-01 00:00:00,\n",
       "       2019-11-01 00:00:00, 2019-12-01 00:00:00, 2020-01-01 00:00:00,\n",
       "       2020-02-01 00:00:00, 2020-03-01 00:00:00, 2020-04-01 00:00:00,\n",
       "       2020-05-01 00:00:00, 2020-06-01 00:00:00, 2020-07-01 00:00:00,\n",
       "       2020-08-01 00:00:00, 2020-09-01 00:00:00, 2020-10-01 00:00:00,\n",
       "       2020-11-01 00:00:00, 2020-12-01 00:00:00, 2021-01-01 00:00:00,\n",
       "       2021-02-01 00:00:00, 2021-03-01 00:00:00, 2021-04-01 00:00:00,\n",
       "       2021-05-01 00:00:00, 2021-06-01 00:00:00, 2021-07-01 00:00:00,\n",
       "       2021-08-01 00:00:00, 2021-09-01 00:00:00, 2021-10-01 00:00:00,\n",
       "       2021-11-01 00:00:00, 2021-12-01 00:00:00, 2022-01-01 00:00:00,\n",
       "       2022-02-01 00:00:00, 2022-03-01 00:00:00, 2022-04-01 00:00:00,\n",
       "       2022-05-01 00:00:00, 2022-06-01 00:00:00, 2022-07-01 00:00:00,\n",
       "       2022-08-01 00:00:00, 2022-09-01 00:00:00, 2022-10-01 00:00:00,\n",
       "       2022-11-01 00:00:00, 2022-12-01 00:00:00, 2023-01-01 00:00:00,\n",
       "       2023-02-01 00:00:00, 2023-03-01 00:00:00, 2023-04-01 00:00:00,\n",
       "       2023-05-01 00:00:00, 2023-06-01 00:00:00, 2023-07-01 00:00:00,\n",
       "       2023-08-01 00:00:00, 2023-09-01 00:00:00, 2023-10-01 00:00:00,\n",
       "       2023-11-01 00:00:00, 2023-12-01 00:00:00, 2024-01-01 00:00:00,\n",
       "       2024-02-01 00:00:00, 2024-03-01 00:00:00, 2024-04-01 00:00:00,\n",
       "       2024-05-01 00:00:00, 2024-06-01 00:00:00, 2024-07-01 00:00:00],\n",
       "      dtype='object', name='Fecha')"
      ]
     },
     "execution_count": 194,
     "metadata": {},
     "output_type": "execute_result"
    }
   ],
   "source": [
    "pivot_df.columns"
   ]
  },
  {
   "cell_type": "markdown",
   "metadata": {},
   "source": [
    "Guardar como CSV"
   ]
  },
  {
   "cell_type": "code",
   "execution_count": 195,
   "metadata": {},
   "outputs": [
    {
     "name": "stdout",
     "output_type": "stream",
     "text": [
      "Archivos guardados correctamente en: C:\\Users\\etorres.DERCOPARTS\\DERCO CHILE REPUESTOS SpA\\Planificación y abastecimiento - Documentos\\Planificación y Compras Anastasia\\Carga Historia de Venta\\2024-08 Ciclo Sep-24\\AFM\\SELL OUT\n"
     ]
    }
   ],
   "source": [
    "import os\n",
    "import pandas as pd\n",
    "from datetime import datetime\n",
    "\n",
    "# Columnas que no son fechas\n",
    "non_date_cols = ['Ultimo Eslabón', 'Canal 3']\n",
    "\n",
    "# Extraer columnas que son fechas\n",
    "date_cols = [col for col in pivot_df.columns if col not in non_date_cols]\n",
    "\n",
    "# Convertir las columnas de fecha a tipo datetime para poder ordenarlas\n",
    "date_cols_sorted = sorted(date_cols, key=lambda x: pd.to_datetime(x, format='mixed'))\n",
    "\n",
    "# Crear un nuevo orden de columnas\n",
    "new_order = non_date_cols + date_cols_sorted\n",
    "\n",
    "# Reordenar el DataFrame\n",
    "pivot_df = pivot_df[new_order]\n",
    "\n",
    "# Filtrar las columnas que no contienen los años 2015, 2016 o 2017\n",
    "columns_to_keep = [col for col in pivot_df.columns if not any(year in str(col) for year in ['2015', '2016', '2017'])]\n",
    "pivot_df = pivot_df[columns_to_keep]\n",
    "\n",
    "# Obtener el directorio del usuario\n",
    "user_dir = os.path.expanduser('~')\n",
    "\n",
    "# Obtener la fecha actual y formatear las partes necesarias\n",
    "now = datetime.now()\n",
    "current_year = now.strftime('%Y')\n",
    "current_month = now.strftime('%m')\n",
    "previous_month = (now.replace(day=1) - pd.DateOffset(months=1)).strftime('%B-%y')\n",
    "cycle_month = (now + pd.DateOffset(months=1)).strftime('%b-%y')\n",
    "\n",
    "# Construir la ruta base\n",
    "base_path = os.path.join(user_dir, 'DERCO CHILE REPUESTOS SpA', 'Planificación y abastecimiento - Documentos', \n",
    "                         'Planificación y Compras Anastasia', 'Carga Historia de Venta', \n",
    "                         f'{current_year}-{current_month} Ciclo {cycle_month}', 'AFM', 'SELL OUT')\n",
    "os.makedirs(base_path, exist_ok=True)\n",
    "\n",
    "# Construir las rutas de los archivos CSV y Excel\n",
    "csv_path = os.path.join(base_path, f'{current_month}.{current_year} Sell_Out {previous_month} Corregido.csv')\n",
    "excel_path = os.path.join(base_path, f'{current_month}.{current_year} Sell_Out {previous_month} Corregido.xlsx')\n",
    "\n",
    "# Guardar el DataFrame en formato CSV\n",
    "pivot_df.to_csv(csv_path, index=False)\n",
    "\n",
    "# Guardar el DataFrame en formato Excel\n",
    "pivot_df.to_excel(excel_path, index=False)\n",
    "\n",
    "print(\"Archivos guardados correctamente en:\", base_path)\n"
   ]
  },
  {
   "cell_type": "code",
   "execution_count": 196,
   "metadata": {},
   "outputs": [
    {
     "data": {
      "text/plain": [
       "Index([   'Ultimo Eslabón',           'Canal 3', 2018-01-01 00:00:00,\n",
       "       2018-02-01 00:00:00, 2018-03-01 00:00:00, 2018-04-01 00:00:00,\n",
       "       2018-05-01 00:00:00, 2018-06-01 00:00:00, 2018-07-01 00:00:00,\n",
       "       2018-08-01 00:00:00, 2018-09-01 00:00:00, 2018-10-01 00:00:00,\n",
       "       2018-11-01 00:00:00, 2018-12-01 00:00:00, 2019-01-01 00:00:00,\n",
       "       2019-02-01 00:00:00, 2019-03-01 00:00:00, 2019-04-01 00:00:00,\n",
       "       2019-05-01 00:00:00, 2019-06-01 00:00:00, 2019-07-01 00:00:00,\n",
       "       2019-08-01 00:00:00, 2019-09-01 00:00:00, 2019-10-01 00:00:00,\n",
       "       2019-11-01 00:00:00, 2019-12-01 00:00:00, 2020-01-01 00:00:00,\n",
       "       2020-02-01 00:00:00, 2020-03-01 00:00:00, 2020-04-01 00:00:00,\n",
       "       2020-05-01 00:00:00, 2020-06-01 00:00:00, 2020-07-01 00:00:00,\n",
       "       2020-08-01 00:00:00, 2020-09-01 00:00:00, 2020-10-01 00:00:00,\n",
       "       2020-11-01 00:00:00, 2020-12-01 00:00:00, 2021-01-01 00:00:00,\n",
       "       2021-02-01 00:00:00, 2021-03-01 00:00:00, 2021-04-01 00:00:00,\n",
       "       2021-05-01 00:00:00, 2021-06-01 00:00:00, 2021-07-01 00:00:00,\n",
       "       2021-08-01 00:00:00, 2021-09-01 00:00:00, 2021-10-01 00:00:00,\n",
       "       2021-11-01 00:00:00, 2021-12-01 00:00:00, 2022-01-01 00:00:00,\n",
       "       2022-02-01 00:00:00, 2022-03-01 00:00:00, 2022-04-01 00:00:00,\n",
       "       2022-05-01 00:00:00, 2022-06-01 00:00:00, 2022-07-01 00:00:00,\n",
       "       2022-08-01 00:00:00, 2022-09-01 00:00:00, 2022-10-01 00:00:00,\n",
       "       2022-11-01 00:00:00, 2022-12-01 00:00:00, 2023-01-01 00:00:00,\n",
       "       2023-02-01 00:00:00, 2023-03-01 00:00:00, 2023-04-01 00:00:00,\n",
       "       2023-05-01 00:00:00, 2023-06-01 00:00:00, 2023-07-01 00:00:00,\n",
       "       2023-08-01 00:00:00, 2023-09-01 00:00:00, 2023-10-01 00:00:00,\n",
       "       2023-11-01 00:00:00, 2023-12-01 00:00:00, 2024-01-01 00:00:00,\n",
       "       2024-02-01 00:00:00, 2024-03-01 00:00:00, 2024-04-01 00:00:00,\n",
       "       2024-05-01 00:00:00, 2024-06-01 00:00:00, 2024-07-01 00:00:00],\n",
       "      dtype='object', name='Fecha')"
      ]
     },
     "execution_count": 196,
     "metadata": {},
     "output_type": "execute_result"
    }
   ],
   "source": [
    "pivot_df.columns"
   ]
  },
  {
   "cell_type": "markdown",
   "metadata": {},
   "source": [
    "{{{{{{{{{{{{{{{{{{{{{{{}}}}}}}}}}}}}}}}}}}}}}}"
   ]
  },
  {
   "cell_type": "code",
   "execution_count": 197,
   "metadata": {},
   "outputs": [
    {
     "data": {
      "text/html": [
       "<div>\n",
       "<style scoped>\n",
       "    .dataframe tbody tr th:only-of-type {\n",
       "        vertical-align: middle;\n",
       "    }\n",
       "\n",
       "    .dataframe tbody tr th {\n",
       "        vertical-align: top;\n",
       "    }\n",
       "\n",
       "    .dataframe thead th {\n",
       "        text-align: right;\n",
       "    }\n",
       "</style>\n",
       "<table border=\"1\" class=\"dataframe\">\n",
       "  <thead>\n",
       "    <tr style=\"text-align: right;\">\n",
       "      <th>Fecha</th>\n",
       "      <th>Ultimo Eslabón</th>\n",
       "      <th>Canal 3</th>\n",
       "      <th>2018-01-01 00:00:00</th>\n",
       "      <th>2018-02-01 00:00:00</th>\n",
       "      <th>2018-03-01 00:00:00</th>\n",
       "      <th>2018-04-01 00:00:00</th>\n",
       "      <th>2018-05-01 00:00:00</th>\n",
       "      <th>2018-06-01 00:00:00</th>\n",
       "      <th>2018-07-01 00:00:00</th>\n",
       "      <th>2018-08-01 00:00:00</th>\n",
       "      <th>...</th>\n",
       "      <th>2023-10-01 00:00:00</th>\n",
       "      <th>2023-11-01 00:00:00</th>\n",
       "      <th>2023-12-01 00:00:00</th>\n",
       "      <th>2024-01-01 00:00:00</th>\n",
       "      <th>2024-02-01 00:00:00</th>\n",
       "      <th>2024-03-01 00:00:00</th>\n",
       "      <th>2024-04-01 00:00:00</th>\n",
       "      <th>2024-05-01 00:00:00</th>\n",
       "      <th>2024-06-01 00:00:00</th>\n",
       "      <th>2024-07-01 00:00:00</th>\n",
       "    </tr>\n",
       "  </thead>\n",
       "  <tbody>\n",
       "    <tr>\n",
       "      <th>0</th>\n",
       "      <td>1000078</td>\n",
       "      <td>CL RETAIL</td>\n",
       "      <td>0.0</td>\n",
       "      <td>0.0</td>\n",
       "      <td>0.0</td>\n",
       "      <td>0.0</td>\n",
       "      <td>0.0</td>\n",
       "      <td>0.0</td>\n",
       "      <td>0.0</td>\n",
       "      <td>0.0</td>\n",
       "      <td>...</td>\n",
       "      <td>0.0</td>\n",
       "      <td>0.0</td>\n",
       "      <td>0.0</td>\n",
       "      <td>1.0</td>\n",
       "      <td>0.0</td>\n",
       "      <td>0.0</td>\n",
       "      <td>0.0</td>\n",
       "      <td>0.0</td>\n",
       "      <td>0.0</td>\n",
       "      <td>0.0</td>\n",
       "    </tr>\n",
       "    <tr>\n",
       "      <th>1</th>\n",
       "      <td>1000144</td>\n",
       "      <td>CL RETAIL</td>\n",
       "      <td>0.0</td>\n",
       "      <td>0.0</td>\n",
       "      <td>0.0</td>\n",
       "      <td>0.0</td>\n",
       "      <td>0.0</td>\n",
       "      <td>0.0</td>\n",
       "      <td>0.0</td>\n",
       "      <td>0.0</td>\n",
       "      <td>...</td>\n",
       "      <td>3.0</td>\n",
       "      <td>3.0</td>\n",
       "      <td>2.0</td>\n",
       "      <td>1.0</td>\n",
       "      <td>1.0</td>\n",
       "      <td>1.0</td>\n",
       "      <td>0.0</td>\n",
       "      <td>0.0</td>\n",
       "      <td>0.0</td>\n",
       "      <td>0.0</td>\n",
       "    </tr>\n",
       "    <tr>\n",
       "      <th>2</th>\n",
       "      <td>1000147</td>\n",
       "      <td>CL RETAIL</td>\n",
       "      <td>0.0</td>\n",
       "      <td>0.0</td>\n",
       "      <td>0.0</td>\n",
       "      <td>0.0</td>\n",
       "      <td>0.0</td>\n",
       "      <td>0.0</td>\n",
       "      <td>0.0</td>\n",
       "      <td>0.0</td>\n",
       "      <td>...</td>\n",
       "      <td>53.0</td>\n",
       "      <td>64.0</td>\n",
       "      <td>46.0</td>\n",
       "      <td>45.0</td>\n",
       "      <td>51.0</td>\n",
       "      <td>64.0</td>\n",
       "      <td>36.0</td>\n",
       "      <td>28.0</td>\n",
       "      <td>30.0</td>\n",
       "      <td>30.0</td>\n",
       "    </tr>\n",
       "    <tr>\n",
       "      <th>3</th>\n",
       "      <td>1000148</td>\n",
       "      <td>CL RETAIL</td>\n",
       "      <td>0.0</td>\n",
       "      <td>0.0</td>\n",
       "      <td>0.0</td>\n",
       "      <td>0.0</td>\n",
       "      <td>0.0</td>\n",
       "      <td>0.0</td>\n",
       "      <td>0.0</td>\n",
       "      <td>0.0</td>\n",
       "      <td>...</td>\n",
       "      <td>75.0</td>\n",
       "      <td>50.0</td>\n",
       "      <td>67.0</td>\n",
       "      <td>120.0</td>\n",
       "      <td>76.0</td>\n",
       "      <td>75.0</td>\n",
       "      <td>64.0</td>\n",
       "      <td>37.0</td>\n",
       "      <td>73.0</td>\n",
       "      <td>82.0</td>\n",
       "    </tr>\n",
       "    <tr>\n",
       "      <th>4</th>\n",
       "      <td>1000149</td>\n",
       "      <td>CL RETAIL</td>\n",
       "      <td>0.0</td>\n",
       "      <td>0.0</td>\n",
       "      <td>0.0</td>\n",
       "      <td>0.0</td>\n",
       "      <td>0.0</td>\n",
       "      <td>0.0</td>\n",
       "      <td>0.0</td>\n",
       "      <td>0.0</td>\n",
       "      <td>...</td>\n",
       "      <td>184.0</td>\n",
       "      <td>117.0</td>\n",
       "      <td>104.0</td>\n",
       "      <td>172.0</td>\n",
       "      <td>125.0</td>\n",
       "      <td>168.0</td>\n",
       "      <td>188.0</td>\n",
       "      <td>159.0</td>\n",
       "      <td>170.0</td>\n",
       "      <td>178.0</td>\n",
       "    </tr>\n",
       "  </tbody>\n",
       "</table>\n",
       "<p>5 rows × 81 columns</p>\n",
       "</div>"
      ],
      "text/plain": [
       "Fecha Ultimo Eslabón    Canal 3  2018-01-01 00:00:00  2018-02-01 00:00:00  \\\n",
       "0            1000078  CL RETAIL                  0.0                  0.0   \n",
       "1            1000144  CL RETAIL                  0.0                  0.0   \n",
       "2            1000147  CL RETAIL                  0.0                  0.0   \n",
       "3            1000148  CL RETAIL                  0.0                  0.0   \n",
       "4            1000149  CL RETAIL                  0.0                  0.0   \n",
       "\n",
       "Fecha  2018-03-01 00:00:00  2018-04-01 00:00:00  2018-05-01 00:00:00  \\\n",
       "0                      0.0                  0.0                  0.0   \n",
       "1                      0.0                  0.0                  0.0   \n",
       "2                      0.0                  0.0                  0.0   \n",
       "3                      0.0                  0.0                  0.0   \n",
       "4                      0.0                  0.0                  0.0   \n",
       "\n",
       "Fecha  2018-06-01 00:00:00  2018-07-01 00:00:00  2018-08-01 00:00:00  ...  \\\n",
       "0                      0.0                  0.0                  0.0  ...   \n",
       "1                      0.0                  0.0                  0.0  ...   \n",
       "2                      0.0                  0.0                  0.0  ...   \n",
       "3                      0.0                  0.0                  0.0  ...   \n",
       "4                      0.0                  0.0                  0.0  ...   \n",
       "\n",
       "Fecha  2023-10-01 00:00:00  2023-11-01 00:00:00  2023-12-01 00:00:00  \\\n",
       "0                      0.0                  0.0                  0.0   \n",
       "1                      3.0                  3.0                  2.0   \n",
       "2                     53.0                 64.0                 46.0   \n",
       "3                     75.0                 50.0                 67.0   \n",
       "4                    184.0                117.0                104.0   \n",
       "\n",
       "Fecha  2024-01-01 00:00:00  2024-02-01 00:00:00  2024-03-01 00:00:00  \\\n",
       "0                      1.0                  0.0                  0.0   \n",
       "1                      1.0                  1.0                  1.0   \n",
       "2                     45.0                 51.0                 64.0   \n",
       "3                    120.0                 76.0                 75.0   \n",
       "4                    172.0                125.0                168.0   \n",
       "\n",
       "Fecha  2024-04-01 00:00:00  2024-05-01 00:00:00  2024-06-01 00:00:00  \\\n",
       "0                      0.0                  0.0                  0.0   \n",
       "1                      0.0                  0.0                  0.0   \n",
       "2                     36.0                 28.0                 30.0   \n",
       "3                     64.0                 37.0                 73.0   \n",
       "4                    188.0                159.0                170.0   \n",
       "\n",
       "Fecha  2024-07-01 00:00:00  \n",
       "0                      0.0  \n",
       "1                      0.0  \n",
       "2                     30.0  \n",
       "3                     82.0  \n",
       "4                    178.0  \n",
       "\n",
       "[5 rows x 81 columns]"
      ]
     },
     "execution_count": 197,
     "metadata": {},
     "output_type": "execute_result"
    }
   ],
   "source": [
    "# Crear la columna con la suma de las filas excluyendo 'Ultimo Eslabón' y 'Canal 3'\n",
    "pivot_df['Suma'] = pivot_df.drop(columns=['Ultimo Eslabón', 'Canal 3']).sum(axis=1)\n",
    "\n",
    "# Filtrar filas donde la suma es diferente de 0\n",
    "pivot_df = pivot_df[pivot_df['Suma'] != 0]\n",
    "\n",
    "# Eliminar la columna 'Suma'\n",
    "pivot_df = pivot_df.drop(columns=['Suma'])\n",
    "\n",
    "# Mostrar el DataFrame resultante\n",
    "pivot_df.head()"
   ]
  },
  {
   "cell_type": "code",
   "execution_count": 198,
   "metadata": {},
   "outputs": [
    {
     "data": {
      "text/plain": [
       "(47771, 81)"
      ]
     },
     "execution_count": 198,
     "metadata": {},
     "output_type": "execute_result"
    }
   ],
   "source": [
    "pivot_df.shape"
   ]
  },
  {
   "cell_type": "code",
   "execution_count": 199,
   "metadata": {},
   "outputs": [
    {
     "data": {
      "text/plain": [
       "608331.0"
      ]
     },
     "execution_count": 199,
     "metadata": {},
     "output_type": "execute_result"
    }
   ],
   "source": [
    "# Identificar la penúltima columna\n",
    "penultima_columna = pivot_df.columns[-1]\n",
    "\n",
    "# Calcular la suma de la penúltima columna\n",
    "suma_penultima_columna = pivot_df[penultima_columna].sum()\n",
    "suma_penultima_columna\n"
   ]
  },
  {
   "cell_type": "code",
   "execution_count": 200,
   "metadata": {},
   "outputs": [
    {
     "data": {
      "text/plain": [
       "(47771, 81)"
      ]
     },
     "execution_count": 200,
     "metadata": {},
     "output_type": "execute_result"
    }
   ],
   "source": [
    "pivot_df.shape"
   ]
  },
  {
   "cell_type": "markdown",
   "metadata": {},
   "source": [
    "A CSV"
   ]
  },
  {
   "cell_type": "code",
   "execution_count": 201,
   "metadata": {},
   "outputs": [],
   "source": [
    "# pivot_df.to_csv(csv_path, sep=';', decimal=',', index=False)\n",
    "# print(f\"Archivo CSV guardado en: {csv_path}\")"
   ]
  },
  {
   "cell_type": "markdown",
   "metadata": {},
   "source": [
    "A EXCEL"
   ]
  },
  {
   "cell_type": "code",
   "execution_count": 202,
   "metadata": {},
   "outputs": [],
   "source": [
    "# pivot_df.to_excel(excel_path, index=False)\n",
    "# print(f\"Archivo Excel guardado en: {excel_path}\")"
   ]
  },
  {
   "cell_type": "markdown",
   "metadata": {},
   "source": [
    "agregar las columnas \"Clasificación\", \"PROMEDIO\", \"DESV EST\", \"Z\", \"LIM SUP\", \"LIM INF\", \"FRECUENCIA\", \"Outliers SUP\", \"Outliers INF\" y \"Suma Outliers\""
   ]
  },
  {
   "cell_type": "code",
   "execution_count": 203,
   "metadata": {},
   "outputs": [
    {
     "data": {
      "text/plain": [
       "Index([   'Ultimo Eslabón',           'Canal 3', 2018-01-01 00:00:00,\n",
       "       2018-02-01 00:00:00, 2018-03-01 00:00:00, 2018-04-01 00:00:00,\n",
       "       2018-05-01 00:00:00, 2018-06-01 00:00:00, 2018-07-01 00:00:00,\n",
       "       2018-08-01 00:00:00, 2018-09-01 00:00:00, 2018-10-01 00:00:00,\n",
       "       2018-11-01 00:00:00, 2018-12-01 00:00:00, 2019-01-01 00:00:00,\n",
       "       2019-02-01 00:00:00, 2019-03-01 00:00:00, 2019-04-01 00:00:00,\n",
       "       2019-05-01 00:00:00, 2019-06-01 00:00:00, 2019-07-01 00:00:00,\n",
       "       2019-08-01 00:00:00, 2019-09-01 00:00:00, 2019-10-01 00:00:00,\n",
       "       2019-11-01 00:00:00, 2019-12-01 00:00:00, 2020-01-01 00:00:00,\n",
       "       2020-02-01 00:00:00, 2020-03-01 00:00:00, 2020-04-01 00:00:00,\n",
       "       2020-05-01 00:00:00, 2020-06-01 00:00:00, 2020-07-01 00:00:00,\n",
       "       2020-08-01 00:00:00, 2020-09-01 00:00:00, 2020-10-01 00:00:00,\n",
       "       2020-11-01 00:00:00, 2020-12-01 00:00:00, 2021-01-01 00:00:00,\n",
       "       2021-02-01 00:00:00, 2021-03-01 00:00:00, 2021-04-01 00:00:00,\n",
       "       2021-05-01 00:00:00, 2021-06-01 00:00:00, 2021-07-01 00:00:00,\n",
       "       2021-08-01 00:00:00, 2021-09-01 00:00:00, 2021-10-01 00:00:00,\n",
       "       2021-11-01 00:00:00, 2021-12-01 00:00:00, 2022-01-01 00:00:00,\n",
       "       2022-02-01 00:00:00, 2022-03-01 00:00:00, 2022-04-01 00:00:00,\n",
       "       2022-05-01 00:00:00, 2022-06-01 00:00:00, 2022-07-01 00:00:00,\n",
       "       2022-08-01 00:00:00, 2022-09-01 00:00:00, 2022-10-01 00:00:00,\n",
       "       2022-11-01 00:00:00, 2022-12-01 00:00:00, 2023-01-01 00:00:00,\n",
       "       2023-02-01 00:00:00, 2023-03-01 00:00:00, 2023-04-01 00:00:00,\n",
       "       2023-05-01 00:00:00, 2023-06-01 00:00:00, 2023-07-01 00:00:00,\n",
       "       2023-08-01 00:00:00, 2023-09-01 00:00:00, 2023-10-01 00:00:00,\n",
       "       2023-11-01 00:00:00, 2023-12-01 00:00:00, 2024-01-01 00:00:00,\n",
       "       2024-02-01 00:00:00, 2024-03-01 00:00:00, 2024-04-01 00:00:00,\n",
       "       2024-05-01 00:00:00, 2024-06-01 00:00:00, 2024-07-01 00:00:00,\n",
       "           'Clasificación',          'PROMEDIO',          'DESV EST',\n",
       "                       'Z',           'LIM SUP',           'LIM INF',\n",
       "              'FRECUENCIA',      'Outliers SUP',      'Outliers INF',\n",
       "           'Suma Outliers'],\n",
       "      dtype='object', name='Fecha')"
      ]
     },
     "execution_count": 203,
     "metadata": {},
     "output_type": "execute_result"
    }
   ],
   "source": [
    "import pandas as pd\n",
    "import numpy as np\n",
    "\n",
    "# Crear nuevas columnas con valores iniciales (pueden ser NaN o ceros, según lo que necesites)\n",
    "nuevas_columnas = ['Clasificación', 'PROMEDIO', 'DESV EST', 'Z', 'LIM SUP', 'LIM INF', 'FRECUENCIA', 'Outliers SUP', 'Outliers INF', 'Suma Outliers']\n",
    "\n",
    "for col in nuevas_columnas:\n",
    "    pivot_df[col] = np.nan  # O usa 0 en lugar de np.nan si prefieres\n",
    "\n",
    "# Mostrar el DataFrame con las nuevas columnas añadidas\n",
    "pivot_df.columns"
   ]
  },
  {
   "cell_type": "markdown",
   "metadata": {},
   "source": [
    "FRECUENCIA"
   ]
  },
  {
   "cell_type": "code",
   "execution_count": 204,
   "metadata": {},
   "outputs": [],
   "source": [
    "# Obtener el índice de la columna 'Clasificación'\n",
    "index_clasificacion = pivot_df.columns.get_loc('Clasificación')\n",
    "\n",
    "# Obtener las 18 columnas antes de 'Clasificación'\n",
    "columnas_conteo = pivot_df.columns[index_clasificacion-18:index_clasificacion]\n",
    "\n",
    "# Contar cuántas veces los valores en las columnas especificadas son mayores a 0\n",
    "pivot_df['FRECUENCIA'] = (pivot_df[columnas_conteo] > 0).sum(axis=1)"
   ]
  },
  {
   "cell_type": "markdown",
   "metadata": {},
   "source": [
    "PROMEDIO"
   ]
  },
  {
   "cell_type": "code",
   "execution_count": 205,
   "metadata": {},
   "outputs": [],
   "source": [
    "# Obtener el índice de la columna 'Clasificación'\n",
    "index_clasificacion = pivot_df.columns.get_loc('Clasificación')\n",
    "\n",
    "# Obtener las 18 columnas antes de 'Clasificación'\n",
    "columnas_conteo = pivot_df.columns[index_clasificacion-18:index_clasificacion]\n",
    "\n",
    "# Calcular el promedio de los valores en las columnas especificadas\n",
    "pivot_df['PROMEDIO'] = pivot_df[columnas_conteo].mean(axis=1)"
   ]
  },
  {
   "cell_type": "markdown",
   "metadata": {},
   "source": [
    "'DESV EST'"
   ]
  },
  {
   "cell_type": "code",
   "execution_count": 206,
   "metadata": {},
   "outputs": [],
   "source": [
    "# Obtener el índice de la columna 'Clasificación'\n",
    "index_clasificacion = pivot_df.columns.get_loc('Clasificación')\n",
    "\n",
    "# Obtener las 18 columnas antes de 'Clasificación'\n",
    "columnas_conteo = pivot_df.columns[index_clasificacion-18:index_clasificacion]\n",
    "\n",
    "# Calcular la desviación estándar de los valores en las columnas especificadas\n",
    "pivot_df['DESV EST'] = pivot_df[columnas_conteo].std(ddof=1, axis=1)\n"
   ]
  },
  {
   "cell_type": "code",
   "execution_count": 207,
   "metadata": {},
   "outputs": [],
   "source": [
    "\n",
    "# Definir la función personalizada\n",
    "def clasificar_frecuencia(frecuencia):\n",
    "    if frecuencia == 0:\n",
    "        return \"Sin Venta\"\n",
    "    elif 0 < frecuencia <= 3:\n",
    "        return \"Muy Baja\"\n",
    "    elif 3 < frecuencia <= 6:\n",
    "        return \"Baja\"\n",
    "    elif 6 < frecuencia <= 12:\n",
    "        return \"Media\"\n",
    "    elif 12 < frecuencia <= 15:\n",
    "        return \"Alta\"\n",
    "    elif 15 < frecuencia <= 18:\n",
    "        return \"Muy Alta\"\n",
    "    else:\n",
    "        return \"Fuera de Rango\"  # Por si acaso hay algún valor fuera del rango esperado\n",
    "\n",
    "# Aplicar la función a la columna 'FRECUENCIA' y crear una nueva columna 'Clasificación'\n",
    "pivot_df['Clasificación'] = pivot_df['FRECUENCIA'].apply(clasificar_frecuencia)\n"
   ]
  },
  {
   "cell_type": "markdown",
   "metadata": {},
   "source": [
    "Z"
   ]
  },
  {
   "cell_type": "code",
   "execution_count": 208,
   "metadata": {},
   "outputs": [],
   "source": [
    "\n",
    "# Definir la función personalizada\n",
    "def calcular_z(clasificacion):\n",
    "    if clasificacion == \"Muy Alta\":\n",
    "        return 1.96\n",
    "    elif clasificacion == \"Alta\":\n",
    "        return 1.28\n",
    "    elif clasificacion in [\"Baja\", \"Muy Baja\"]:\n",
    "        return 0.67\n",
    "    else:\n",
    "        return 0.84\n",
    "\n",
    "# Aplicar la función a la columna 'Clasificación' y crear una nueva columna 'Z'\n",
    "pivot_df['Z'] = pivot_df['Clasificación'].apply(calcular_z)\n"
   ]
  },
  {
   "cell_type": "markdown",
   "metadata": {},
   "source": [
    "LIM SUP"
   ]
  },
  {
   "cell_type": "code",
   "execution_count": 209,
   "metadata": {},
   "outputs": [],
   "source": [
    "\n",
    "# Calcular la columna LIM SUP\n",
    "pivot_df['LIM SUP'] = pivot_df['PROMEDIO'] + pivot_df['Z'] * pivot_df['DESV EST']\n"
   ]
  },
  {
   "cell_type": "markdown",
   "metadata": {},
   "source": [
    "LIM INF"
   ]
  },
  {
   "cell_type": "code",
   "execution_count": 210,
   "metadata": {},
   "outputs": [],
   "source": [
    "def calcular_lim_inf(row):\n",
    "    clasificacion = row['Clasificación']\n",
    "    promedio = row['PROMEDIO']\n",
    "    z = row['Z']\n",
    "    desv_est = row['DESV EST']\n",
    "    \n",
    "    if clasificacion in [\"Alta\", \"Muy Alta\"]:\n",
    "        resultado = promedio - z * desv_est\n",
    "        return max(resultado, 0.01)\n",
    "    else:\n",
    "        return promedio - z * desv_est\n",
    "\n",
    "# Aplicar la función a cada fila del DataFrame y crear una nueva columna 'LIM INF'\n",
    "pivot_df['LIM INF'] = pivot_df.apply(calcular_lim_inf, axis=1)"
   ]
  },
  {
   "cell_type": "markdown",
   "metadata": {},
   "source": [
    "OUT SUP"
   ]
  },
  {
   "cell_type": "code",
   "execution_count": 211,
   "metadata": {},
   "outputs": [],
   "source": [
    "\n",
    "index_clasificacion = pivot_df.columns.get_loc('Clasificación')\n",
    "\n",
    "# Obtener las 18 columnas antes de 'Clasificación'\n",
    "columnas_conteo = pivot_df.columns[index_clasificacion-18:index_clasificacion]\n",
    "\n",
    "# Definir la función personalizada para calcular Outliers SUP\n",
    "def calcular_outliers_sup(row):\n",
    "    lim_sup = row['LIM SUP']\n",
    "    return (row[columnas_conteo] > lim_sup).sum()\n",
    "\n",
    "# Aplicar la función a cada fila del DataFrame y crear una nueva columna 'Outliers SUP'\n",
    "pivot_df['Outliers SUP'] = pivot_df.apply(calcular_outliers_sup, axis=1)\n"
   ]
  },
  {
   "cell_type": "markdown",
   "metadata": {},
   "source": [
    "lim inf"
   ]
  },
  {
   "cell_type": "code",
   "execution_count": 212,
   "metadata": {},
   "outputs": [],
   "source": [
    "# Obtener el índice de la columna 'Clasificación'\n",
    "index_clasificacion = pivot_df.columns.get_loc('Clasificación')\n",
    "\n",
    "# Obtener las 18 columnas antes de 'Clasificación'\n",
    "columnas_conteo = pivot_df.columns[index_clasificacion-18:index_clasificacion]\n",
    "\n",
    "# Definir la función personalizada para calcular Outliers INF\n",
    "def calcular_outliers_inf(row):\n",
    "    lim_inf = row['LIM INF']\n",
    "    return (row[columnas_conteo] < lim_inf).sum()\n",
    "\n",
    "# Aplicar la función a cada fila del DataFrame y crear una nueva columna 'Outliers INF'\n",
    "pivot_df['Outliers INF'] = pivot_df.apply(calcular_outliers_inf, axis=1)"
   ]
  },
  {
   "cell_type": "markdown",
   "metadata": {},
   "source": [
    "SUM OUTLIERS"
   ]
  },
  {
   "cell_type": "code",
   "execution_count": 213,
   "metadata": {},
   "outputs": [],
   "source": [
    "pivot_df['Suma Outliers'] = pivot_df['Outliers INF'] + pivot_df['Outliers SUP']"
   ]
  },
  {
   "cell_type": "markdown",
   "metadata": {},
   "source": [
    "COPIAR LAS VENTAS ALFINAL"
   ]
  },
  {
   "cell_type": "code",
   "execution_count": 214,
   "metadata": {},
   "outputs": [
    {
     "data": {
      "text/html": [
       "<div>\n",
       "<style scoped>\n",
       "    .dataframe tbody tr th:only-of-type {\n",
       "        vertical-align: middle;\n",
       "    }\n",
       "\n",
       "    .dataframe tbody tr th {\n",
       "        vertical-align: top;\n",
       "    }\n",
       "\n",
       "    .dataframe thead th {\n",
       "        text-align: right;\n",
       "    }\n",
       "</style>\n",
       "<table border=\"1\" class=\"dataframe\">\n",
       "  <thead>\n",
       "    <tr style=\"text-align: right;\">\n",
       "      <th></th>\n",
       "      <th>Ultimo Eslabón</th>\n",
       "      <th>Canal 3</th>\n",
       "      <th>2018-01-01 00:00:00</th>\n",
       "      <th>2018-02-01 00:00:00</th>\n",
       "      <th>2018-03-01 00:00:00</th>\n",
       "      <th>2018-04-01 00:00:00</th>\n",
       "      <th>2018-05-01 00:00:00</th>\n",
       "      <th>2018-06-01 00:00:00</th>\n",
       "      <th>2018-07-01 00:00:00</th>\n",
       "      <th>2018-08-01 00:00:00</th>\n",
       "      <th>...</th>\n",
       "      <th>2023-10-01 00:00:00_copy</th>\n",
       "      <th>2023-11-01 00:00:00_copy</th>\n",
       "      <th>2023-12-01 00:00:00_copy</th>\n",
       "      <th>2024-01-01 00:00:00_copy</th>\n",
       "      <th>2024-02-01 00:00:00_copy</th>\n",
       "      <th>2024-03-01 00:00:00_copy</th>\n",
       "      <th>2024-04-01 00:00:00_copy</th>\n",
       "      <th>2024-05-01 00:00:00_copy</th>\n",
       "      <th>2024-06-01 00:00:00_copy</th>\n",
       "      <th>2024-07-01 00:00:00_copy</th>\n",
       "    </tr>\n",
       "  </thead>\n",
       "  <tbody>\n",
       "    <tr>\n",
       "      <th>0</th>\n",
       "      <td>1000078</td>\n",
       "      <td>CL RETAIL</td>\n",
       "      <td>0.0</td>\n",
       "      <td>0.0</td>\n",
       "      <td>0.0</td>\n",
       "      <td>0.0</td>\n",
       "      <td>0.0</td>\n",
       "      <td>0.0</td>\n",
       "      <td>0.0</td>\n",
       "      <td>0.0</td>\n",
       "      <td>...</td>\n",
       "      <td>0.0</td>\n",
       "      <td>0.0</td>\n",
       "      <td>0.0</td>\n",
       "      <td>1.0</td>\n",
       "      <td>0.0</td>\n",
       "      <td>0.0</td>\n",
       "      <td>0.0</td>\n",
       "      <td>0.0</td>\n",
       "      <td>0.0</td>\n",
       "      <td>0.0</td>\n",
       "    </tr>\n",
       "    <tr>\n",
       "      <th>1</th>\n",
       "      <td>1000144</td>\n",
       "      <td>CL RETAIL</td>\n",
       "      <td>0.0</td>\n",
       "      <td>0.0</td>\n",
       "      <td>0.0</td>\n",
       "      <td>0.0</td>\n",
       "      <td>0.0</td>\n",
       "      <td>0.0</td>\n",
       "      <td>0.0</td>\n",
       "      <td>0.0</td>\n",
       "      <td>...</td>\n",
       "      <td>3.0</td>\n",
       "      <td>3.0</td>\n",
       "      <td>2.0</td>\n",
       "      <td>1.0</td>\n",
       "      <td>1.0</td>\n",
       "      <td>1.0</td>\n",
       "      <td>0.0</td>\n",
       "      <td>0.0</td>\n",
       "      <td>0.0</td>\n",
       "      <td>0.0</td>\n",
       "    </tr>\n",
       "    <tr>\n",
       "      <th>2</th>\n",
       "      <td>1000147</td>\n",
       "      <td>CL RETAIL</td>\n",
       "      <td>0.0</td>\n",
       "      <td>0.0</td>\n",
       "      <td>0.0</td>\n",
       "      <td>0.0</td>\n",
       "      <td>0.0</td>\n",
       "      <td>0.0</td>\n",
       "      <td>0.0</td>\n",
       "      <td>0.0</td>\n",
       "      <td>...</td>\n",
       "      <td>53.0</td>\n",
       "      <td>64.0</td>\n",
       "      <td>46.0</td>\n",
       "      <td>45.0</td>\n",
       "      <td>51.0</td>\n",
       "      <td>64.0</td>\n",
       "      <td>36.0</td>\n",
       "      <td>28.0</td>\n",
       "      <td>30.0</td>\n",
       "      <td>30.0</td>\n",
       "    </tr>\n",
       "    <tr>\n",
       "      <th>3</th>\n",
       "      <td>1000148</td>\n",
       "      <td>CL RETAIL</td>\n",
       "      <td>0.0</td>\n",
       "      <td>0.0</td>\n",
       "      <td>0.0</td>\n",
       "      <td>0.0</td>\n",
       "      <td>0.0</td>\n",
       "      <td>0.0</td>\n",
       "      <td>0.0</td>\n",
       "      <td>0.0</td>\n",
       "      <td>...</td>\n",
       "      <td>75.0</td>\n",
       "      <td>50.0</td>\n",
       "      <td>67.0</td>\n",
       "      <td>120.0</td>\n",
       "      <td>76.0</td>\n",
       "      <td>75.0</td>\n",
       "      <td>64.0</td>\n",
       "      <td>37.0</td>\n",
       "      <td>73.0</td>\n",
       "      <td>82.0</td>\n",
       "    </tr>\n",
       "    <tr>\n",
       "      <th>4</th>\n",
       "      <td>1000149</td>\n",
       "      <td>CL RETAIL</td>\n",
       "      <td>0.0</td>\n",
       "      <td>0.0</td>\n",
       "      <td>0.0</td>\n",
       "      <td>0.0</td>\n",
       "      <td>0.0</td>\n",
       "      <td>0.0</td>\n",
       "      <td>0.0</td>\n",
       "      <td>0.0</td>\n",
       "      <td>...</td>\n",
       "      <td>184.0</td>\n",
       "      <td>117.0</td>\n",
       "      <td>104.0</td>\n",
       "      <td>172.0</td>\n",
       "      <td>125.0</td>\n",
       "      <td>168.0</td>\n",
       "      <td>188.0</td>\n",
       "      <td>159.0</td>\n",
       "      <td>170.0</td>\n",
       "      <td>178.0</td>\n",
       "    </tr>\n",
       "    <tr>\n",
       "      <th>...</th>\n",
       "      <td>...</td>\n",
       "      <td>...</td>\n",
       "      <td>...</td>\n",
       "      <td>...</td>\n",
       "      <td>...</td>\n",
       "      <td>...</td>\n",
       "      <td>...</td>\n",
       "      <td>...</td>\n",
       "      <td>...</td>\n",
       "      <td>...</td>\n",
       "      <td>...</td>\n",
       "      <td>...</td>\n",
       "      <td>...</td>\n",
       "      <td>...</td>\n",
       "      <td>...</td>\n",
       "      <td>...</td>\n",
       "      <td>...</td>\n",
       "      <td>...</td>\n",
       "      <td>...</td>\n",
       "      <td>...</td>\n",
       "      <td>...</td>\n",
       "    </tr>\n",
       "    <tr>\n",
       "      <th>87021</th>\n",
       "      <td>750797</td>\n",
       "      <td>CL RETAIL</td>\n",
       "      <td>0.0</td>\n",
       "      <td>0.0</td>\n",
       "      <td>0.0</td>\n",
       "      <td>0.0</td>\n",
       "      <td>0.0</td>\n",
       "      <td>0.0</td>\n",
       "      <td>0.0</td>\n",
       "      <td>0.0</td>\n",
       "      <td>...</td>\n",
       "      <td>0.0</td>\n",
       "      <td>3.0</td>\n",
       "      <td>0.0</td>\n",
       "      <td>0.0</td>\n",
       "      <td>0.0</td>\n",
       "      <td>1.0</td>\n",
       "      <td>1.0</td>\n",
       "      <td>3.0</td>\n",
       "      <td>2.0</td>\n",
       "      <td>1.0</td>\n",
       "    </tr>\n",
       "    <tr>\n",
       "      <th>87022</th>\n",
       "      <td>750803</td>\n",
       "      <td>CL RETAIL</td>\n",
       "      <td>0.0</td>\n",
       "      <td>0.0</td>\n",
       "      <td>0.0</td>\n",
       "      <td>0.0</td>\n",
       "      <td>0.0</td>\n",
       "      <td>0.0</td>\n",
       "      <td>0.0</td>\n",
       "      <td>0.0</td>\n",
       "      <td>...</td>\n",
       "      <td>3.0</td>\n",
       "      <td>3.0</td>\n",
       "      <td>7.0</td>\n",
       "      <td>3.0</td>\n",
       "      <td>0.0</td>\n",
       "      <td>3.0</td>\n",
       "      <td>5.0</td>\n",
       "      <td>1.0</td>\n",
       "      <td>1.0</td>\n",
       "      <td>12.0</td>\n",
       "    </tr>\n",
       "    <tr>\n",
       "      <th>87023</th>\n",
       "      <td>750809</td>\n",
       "      <td>CL RETAIL</td>\n",
       "      <td>0.0</td>\n",
       "      <td>0.0</td>\n",
       "      <td>0.0</td>\n",
       "      <td>0.0</td>\n",
       "      <td>0.0</td>\n",
       "      <td>0.0</td>\n",
       "      <td>0.0</td>\n",
       "      <td>0.0</td>\n",
       "      <td>...</td>\n",
       "      <td>26.0</td>\n",
       "      <td>4.0</td>\n",
       "      <td>0.0</td>\n",
       "      <td>2.0</td>\n",
       "      <td>0.0</td>\n",
       "      <td>0.0</td>\n",
       "      <td>0.0</td>\n",
       "      <td>0.0</td>\n",
       "      <td>1.0</td>\n",
       "      <td>3.0</td>\n",
       "    </tr>\n",
       "    <tr>\n",
       "      <th>87024</th>\n",
       "      <td>750816</td>\n",
       "      <td>CL RETAIL</td>\n",
       "      <td>0.0</td>\n",
       "      <td>0.0</td>\n",
       "      <td>0.0</td>\n",
       "      <td>0.0</td>\n",
       "      <td>0.0</td>\n",
       "      <td>0.0</td>\n",
       "      <td>0.0</td>\n",
       "      <td>0.0</td>\n",
       "      <td>...</td>\n",
       "      <td>9.0</td>\n",
       "      <td>3.0</td>\n",
       "      <td>0.0</td>\n",
       "      <td>2.0</td>\n",
       "      <td>0.0</td>\n",
       "      <td>0.0</td>\n",
       "      <td>2.0</td>\n",
       "      <td>0.0</td>\n",
       "      <td>0.0</td>\n",
       "      <td>4.0</td>\n",
       "    </tr>\n",
       "    <tr>\n",
       "      <th>87026</th>\n",
       "      <td>752466</td>\n",
       "      <td>CL RETAIL</td>\n",
       "      <td>7.0</td>\n",
       "      <td>1.0</td>\n",
       "      <td>2.0</td>\n",
       "      <td>1.0</td>\n",
       "      <td>11.0</td>\n",
       "      <td>1.0</td>\n",
       "      <td>1.0</td>\n",
       "      <td>9.0</td>\n",
       "      <td>...</td>\n",
       "      <td>2.0</td>\n",
       "      <td>4.0</td>\n",
       "      <td>3.0</td>\n",
       "      <td>0.0</td>\n",
       "      <td>1.0</td>\n",
       "      <td>3.0</td>\n",
       "      <td>3.0</td>\n",
       "      <td>3.0</td>\n",
       "      <td>10.0</td>\n",
       "      <td>4.0</td>\n",
       "    </tr>\n",
       "  </tbody>\n",
       "</table>\n",
       "<p>47771 rows × 172 columns</p>\n",
       "</div>"
      ],
      "text/plain": [
       "      Ultimo Eslabón    Canal 3  2018-01-01 00:00:00  2018-02-01 00:00:00  \\\n",
       "0            1000078  CL RETAIL                  0.0                  0.0   \n",
       "1            1000144  CL RETAIL                  0.0                  0.0   \n",
       "2            1000147  CL RETAIL                  0.0                  0.0   \n",
       "3            1000148  CL RETAIL                  0.0                  0.0   \n",
       "4            1000149  CL RETAIL                  0.0                  0.0   \n",
       "...              ...        ...                  ...                  ...   \n",
       "87021         750797  CL RETAIL                  0.0                  0.0   \n",
       "87022         750803  CL RETAIL                  0.0                  0.0   \n",
       "87023         750809  CL RETAIL                  0.0                  0.0   \n",
       "87024         750816  CL RETAIL                  0.0                  0.0   \n",
       "87026         752466  CL RETAIL                  7.0                  1.0   \n",
       "\n",
       "       2018-03-01 00:00:00  2018-04-01 00:00:00  2018-05-01 00:00:00  \\\n",
       "0                      0.0                  0.0                  0.0   \n",
       "1                      0.0                  0.0                  0.0   \n",
       "2                      0.0                  0.0                  0.0   \n",
       "3                      0.0                  0.0                  0.0   \n",
       "4                      0.0                  0.0                  0.0   \n",
       "...                    ...                  ...                  ...   \n",
       "87021                  0.0                  0.0                  0.0   \n",
       "87022                  0.0                  0.0                  0.0   \n",
       "87023                  0.0                  0.0                  0.0   \n",
       "87024                  0.0                  0.0                  0.0   \n",
       "87026                  2.0                  1.0                 11.0   \n",
       "\n",
       "       2018-06-01 00:00:00  2018-07-01 00:00:00  2018-08-01 00:00:00  ...  \\\n",
       "0                      0.0                  0.0                  0.0  ...   \n",
       "1                      0.0                  0.0                  0.0  ...   \n",
       "2                      0.0                  0.0                  0.0  ...   \n",
       "3                      0.0                  0.0                  0.0  ...   \n",
       "4                      0.0                  0.0                  0.0  ...   \n",
       "...                    ...                  ...                  ...  ...   \n",
       "87021                  0.0                  0.0                  0.0  ...   \n",
       "87022                  0.0                  0.0                  0.0  ...   \n",
       "87023                  0.0                  0.0                  0.0  ...   \n",
       "87024                  0.0                  0.0                  0.0  ...   \n",
       "87026                  1.0                  1.0                  9.0  ...   \n",
       "\n",
       "       2023-10-01 00:00:00_copy  2023-11-01 00:00:00_copy  \\\n",
       "0                           0.0                       0.0   \n",
       "1                           3.0                       3.0   \n",
       "2                          53.0                      64.0   \n",
       "3                          75.0                      50.0   \n",
       "4                         184.0                     117.0   \n",
       "...                         ...                       ...   \n",
       "87021                       0.0                       3.0   \n",
       "87022                       3.0                       3.0   \n",
       "87023                      26.0                       4.0   \n",
       "87024                       9.0                       3.0   \n",
       "87026                       2.0                       4.0   \n",
       "\n",
       "       2023-12-01 00:00:00_copy  2024-01-01 00:00:00_copy  \\\n",
       "0                           0.0                       1.0   \n",
       "1                           2.0                       1.0   \n",
       "2                          46.0                      45.0   \n",
       "3                          67.0                     120.0   \n",
       "4                         104.0                     172.0   \n",
       "...                         ...                       ...   \n",
       "87021                       0.0                       0.0   \n",
       "87022                       7.0                       3.0   \n",
       "87023                       0.0                       2.0   \n",
       "87024                       0.0                       2.0   \n",
       "87026                       3.0                       0.0   \n",
       "\n",
       "       2024-02-01 00:00:00_copy  2024-03-01 00:00:00_copy  \\\n",
       "0                           0.0                       0.0   \n",
       "1                           1.0                       1.0   \n",
       "2                          51.0                      64.0   \n",
       "3                          76.0                      75.0   \n",
       "4                         125.0                     168.0   \n",
       "...                         ...                       ...   \n",
       "87021                       0.0                       1.0   \n",
       "87022                       0.0                       3.0   \n",
       "87023                       0.0                       0.0   \n",
       "87024                       0.0                       0.0   \n",
       "87026                       1.0                       3.0   \n",
       "\n",
       "       2024-04-01 00:00:00_copy  2024-05-01 00:00:00_copy  \\\n",
       "0                           0.0                       0.0   \n",
       "1                           0.0                       0.0   \n",
       "2                          36.0                      28.0   \n",
       "3                          64.0                      37.0   \n",
       "4                         188.0                     159.0   \n",
       "...                         ...                       ...   \n",
       "87021                       1.0                       3.0   \n",
       "87022                       5.0                       1.0   \n",
       "87023                       0.0                       0.0   \n",
       "87024                       2.0                       0.0   \n",
       "87026                       3.0                       3.0   \n",
       "\n",
       "       2024-06-01 00:00:00_copy  2024-07-01 00:00:00_copy  \n",
       "0                           0.0                       0.0  \n",
       "1                           0.0                       0.0  \n",
       "2                          30.0                      30.0  \n",
       "3                          73.0                      82.0  \n",
       "4                         170.0                     178.0  \n",
       "...                         ...                       ...  \n",
       "87021                       2.0                       1.0  \n",
       "87022                       1.0                      12.0  \n",
       "87023                       1.0                       3.0  \n",
       "87024                       0.0                       4.0  \n",
       "87026                      10.0                       4.0  \n",
       "\n",
       "[47771 rows x 172 columns]"
      ]
     },
     "execution_count": 214,
     "metadata": {},
     "output_type": "execute_result"
    }
   ],
   "source": [
    "# # Encontrar la posición de la columna \"Clasificación\"\n",
    "# clasificacion_index = pivot_df.columns.get_loc(\"Clasificación\")\n",
    "\n",
    "# # Seleccionar todas las columnas antes de \"Clasificación\" excepto \"idSKU\" y \"Canal\"\n",
    "# columns_to_copy = [col for col in pivot_df.columns[:clasificacion_index] if col not in [\"idSKU\", \"Canal\"]]\n",
    "\n",
    "# # Copiar las columnas seleccionadas al final\n",
    "# for col in columns_to_copy:\n",
    "#     pivot_df[f'{col}_copy'] = pivot_df[col]\n",
    "\n",
    "# pivot_df\n",
    "\n",
    "clasificacion_index = pivot_df.columns.get_loc(\"Clasificación\")\n",
    "columns_to_copy = [col for col in pivot_df.columns[:clasificacion_index] if col not in [\"idSKU\", \"Canal\"]]\n",
    "copied_columns = pivot_df[columns_to_copy].copy()\n",
    "copied_columns.columns = [f'{col}_copy' for col in copied_columns.columns]\n",
    "pivot_df = pd.concat([pivot_df, copied_columns], axis=1)\n",
    "pivot_df\n"
   ]
  },
  {
   "cell_type": "markdown",
   "metadata": {},
   "source": [
    "CORREGIR OUTLIERS PARA LAS ULTIMAS 18 COLUMNAS"
   ]
  },
  {
   "cell_type": "code",
   "execution_count": 215,
   "metadata": {},
   "outputs": [
    {
     "data": {
      "text/html": [
       "<div>\n",
       "<style scoped>\n",
       "    .dataframe tbody tr th:only-of-type {\n",
       "        vertical-align: middle;\n",
       "    }\n",
       "\n",
       "    .dataframe tbody tr th {\n",
       "        vertical-align: top;\n",
       "    }\n",
       "\n",
       "    .dataframe thead th {\n",
       "        text-align: right;\n",
       "    }\n",
       "</style>\n",
       "<table border=\"1\" class=\"dataframe\">\n",
       "  <thead>\n",
       "    <tr style=\"text-align: right;\">\n",
       "      <th></th>\n",
       "      <th>Ultimo Eslabón</th>\n",
       "      <th>Canal 3</th>\n",
       "      <th>2018-01-01 00:00:00</th>\n",
       "      <th>2018-02-01 00:00:00</th>\n",
       "      <th>2018-03-01 00:00:00</th>\n",
       "      <th>2018-04-01 00:00:00</th>\n",
       "      <th>2018-05-01 00:00:00</th>\n",
       "      <th>2018-06-01 00:00:00</th>\n",
       "      <th>2018-07-01 00:00:00</th>\n",
       "      <th>2018-08-01 00:00:00</th>\n",
       "      <th>...</th>\n",
       "      <th>2023-10-01 00:00:00_copy</th>\n",
       "      <th>2023-11-01 00:00:00_copy</th>\n",
       "      <th>2023-12-01 00:00:00_copy</th>\n",
       "      <th>2024-01-01 00:00:00_copy</th>\n",
       "      <th>2024-02-01 00:00:00_copy</th>\n",
       "      <th>2024-03-01 00:00:00_copy</th>\n",
       "      <th>2024-04-01 00:00:00_copy</th>\n",
       "      <th>2024-05-01 00:00:00_copy</th>\n",
       "      <th>2024-06-01 00:00:00_copy</th>\n",
       "      <th>2024-07-01 00:00:00_copy</th>\n",
       "    </tr>\n",
       "  </thead>\n",
       "  <tbody>\n",
       "    <tr>\n",
       "      <th>0</th>\n",
       "      <td>1000078</td>\n",
       "      <td>CL RETAIL</td>\n",
       "      <td>0.0</td>\n",
       "      <td>0.0</td>\n",
       "      <td>0.0</td>\n",
       "      <td>0.0</td>\n",
       "      <td>0.0</td>\n",
       "      <td>0.0</td>\n",
       "      <td>0.0</td>\n",
       "      <td>0.0</td>\n",
       "      <td>...</td>\n",
       "      <td>0.0</td>\n",
       "      <td>0.0</td>\n",
       "      <td>0.0</td>\n",
       "      <td>0.055556</td>\n",
       "      <td>0.0</td>\n",
       "      <td>0.0</td>\n",
       "      <td>0.0</td>\n",
       "      <td>0.0</td>\n",
       "      <td>0.0</td>\n",
       "      <td>0.0</td>\n",
       "    </tr>\n",
       "    <tr>\n",
       "      <th>1</th>\n",
       "      <td>1000144</td>\n",
       "      <td>CL RETAIL</td>\n",
       "      <td>0.0</td>\n",
       "      <td>0.0</td>\n",
       "      <td>0.0</td>\n",
       "      <td>0.0</td>\n",
       "      <td>0.0</td>\n",
       "      <td>0.0</td>\n",
       "      <td>0.0</td>\n",
       "      <td>0.0</td>\n",
       "      <td>...</td>\n",
       "      <td>3.0</td>\n",
       "      <td>3.0</td>\n",
       "      <td>2.0</td>\n",
       "      <td>1.000000</td>\n",
       "      <td>1.0</td>\n",
       "      <td>1.0</td>\n",
       "      <td>0.0</td>\n",
       "      <td>0.0</td>\n",
       "      <td>0.0</td>\n",
       "      <td>0.0</td>\n",
       "    </tr>\n",
       "  </tbody>\n",
       "</table>\n",
       "<p>2 rows × 172 columns</p>\n",
       "</div>"
      ],
      "text/plain": [
       "  Ultimo Eslabón    Canal 3  2018-01-01 00:00:00  2018-02-01 00:00:00  \\\n",
       "0        1000078  CL RETAIL                  0.0                  0.0   \n",
       "1        1000144  CL RETAIL                  0.0                  0.0   \n",
       "\n",
       "   2018-03-01 00:00:00  2018-04-01 00:00:00  2018-05-01 00:00:00  \\\n",
       "0                  0.0                  0.0                  0.0   \n",
       "1                  0.0                  0.0                  0.0   \n",
       "\n",
       "   2018-06-01 00:00:00  2018-07-01 00:00:00  2018-08-01 00:00:00  ...  \\\n",
       "0                  0.0                  0.0                  0.0  ...   \n",
       "1                  0.0                  0.0                  0.0  ...   \n",
       "\n",
       "   2023-10-01 00:00:00_copy  2023-11-01 00:00:00_copy  \\\n",
       "0                       0.0                       0.0   \n",
       "1                       3.0                       3.0   \n",
       "\n",
       "   2023-12-01 00:00:00_copy  2024-01-01 00:00:00_copy  \\\n",
       "0                       0.0                  0.055556   \n",
       "1                       2.0                  1.000000   \n",
       "\n",
       "   2024-02-01 00:00:00_copy  2024-03-01 00:00:00_copy  \\\n",
       "0                       0.0                       0.0   \n",
       "1                       1.0                       1.0   \n",
       "\n",
       "   2024-04-01 00:00:00_copy  2024-05-01 00:00:00_copy  \\\n",
       "0                       0.0                       0.0   \n",
       "1                       0.0                       0.0   \n",
       "\n",
       "   2024-06-01 00:00:00_copy  2024-07-01 00:00:00_copy  \n",
       "0                       0.0                       0.0  \n",
       "1                       0.0                       0.0  \n",
       "\n",
       "[2 rows x 172 columns]"
      ]
     },
     "execution_count": 215,
     "metadata": {},
     "output_type": "execute_result"
    }
   ],
   "source": [
    "# Obtener los nombres de las últimas 18 columnas\n",
    "last_18_columns = pivot_df.columns[-18:]\n",
    "\n",
    "# Aplicar las condiciones a las últimas 18 columnas\n",
    "for col in last_18_columns:\n",
    "    pivot_df[col] = pivot_df.apply(\n",
    "        lambda row: row['PROMEDIO'] if row[col] > row['LIM SUP'] or row[col] < row['LIM INF'] else row[col],\n",
    "        axis=1\n",
    "    )\n",
    "\n",
    "# Mostrar el DataFrame resultante\n",
    "pivot_df.head(2)"
   ]
  },
  {
   "cell_type": "code",
   "execution_count": 216,
   "metadata": {},
   "outputs": [
    {
     "name": "stdout",
     "output_type": "stream",
     "text": [
      "La suma de la última columna (2024-07-01 00:00:00_copy) es: 584170.3888888889\n"
     ]
    }
   ],
   "source": [
    "last_column = pivot_df.columns[-1]\n",
    "\n",
    "# Calcular la suma de la última columna\n",
    "sum_last_column = pivot_df[last_column].sum()\n",
    "\n",
    "# Mostrar la suma\n",
    "print(f\"La suma de la última columna ({last_column}) es: {sum_last_column}\")"
   ]
  },
  {
   "cell_type": "code",
   "execution_count": 217,
   "metadata": {},
   "outputs": [],
   "source": [
    "# pivot_df.to_csv(csv_path, sep=';', decimal=',', index=False)\n",
    "# print(f\"Archivo CSV guardado en: {csv_path}\")"
   ]
  },
  {
   "cell_type": "code",
   "execution_count": 218,
   "metadata": {},
   "outputs": [
    {
     "data": {
      "text/html": [
       "<div>\n",
       "<style scoped>\n",
       "    .dataframe tbody tr th:only-of-type {\n",
       "        vertical-align: middle;\n",
       "    }\n",
       "\n",
       "    .dataframe tbody tr th {\n",
       "        vertical-align: top;\n",
       "    }\n",
       "\n",
       "    .dataframe thead th {\n",
       "        text-align: right;\n",
       "    }\n",
       "</style>\n",
       "<table border=\"1\" class=\"dataframe\">\n",
       "  <thead>\n",
       "    <tr style=\"text-align: right;\">\n",
       "      <th></th>\n",
       "      <th>Ultimo Eslabón</th>\n",
       "      <th>Canal 3</th>\n",
       "      <th>2018-01-01 00:00:00</th>\n",
       "      <th>2018-02-01 00:00:00</th>\n",
       "      <th>2018-03-01 00:00:00</th>\n",
       "      <th>2018-04-01 00:00:00</th>\n",
       "      <th>2018-05-01 00:00:00</th>\n",
       "      <th>2018-06-01 00:00:00</th>\n",
       "      <th>2018-07-01 00:00:00</th>\n",
       "      <th>2018-08-01 00:00:00</th>\n",
       "      <th>...</th>\n",
       "      <th>2023-10-01 00:00:00_copy</th>\n",
       "      <th>2023-11-01 00:00:00_copy</th>\n",
       "      <th>2023-12-01 00:00:00_copy</th>\n",
       "      <th>2024-01-01 00:00:00_copy</th>\n",
       "      <th>2024-02-01 00:00:00_copy</th>\n",
       "      <th>2024-03-01 00:00:00_copy</th>\n",
       "      <th>2024-04-01 00:00:00_copy</th>\n",
       "      <th>2024-05-01 00:00:00_copy</th>\n",
       "      <th>2024-06-01 00:00:00_copy</th>\n",
       "      <th>2024-07-01 00:00:00_copy</th>\n",
       "    </tr>\n",
       "  </thead>\n",
       "  <tbody>\n",
       "    <tr>\n",
       "      <th>87011</th>\n",
       "      <td>750324</td>\n",
       "      <td>CL RETAIL</td>\n",
       "      <td>0.0</td>\n",
       "      <td>0.0</td>\n",
       "      <td>0.0</td>\n",
       "      <td>0.0</td>\n",
       "      <td>0.0</td>\n",
       "      <td>0.0</td>\n",
       "      <td>0.0</td>\n",
       "      <td>0.0</td>\n",
       "      <td>...</td>\n",
       "      <td>0.666667</td>\n",
       "      <td>0.000000</td>\n",
       "      <td>0.0</td>\n",
       "      <td>1.0</td>\n",
       "      <td>0.000000</td>\n",
       "      <td>0.0</td>\n",
       "      <td>1.0</td>\n",
       "      <td>0.666667</td>\n",
       "      <td>1.000000</td>\n",
       "      <td>0.000000</td>\n",
       "    </tr>\n",
       "    <tr>\n",
       "      <th>87014</th>\n",
       "      <td>750403</td>\n",
       "      <td>CL RETAIL</td>\n",
       "      <td>2.0</td>\n",
       "      <td>6.0</td>\n",
       "      <td>4.0</td>\n",
       "      <td>8.0</td>\n",
       "      <td>0.0</td>\n",
       "      <td>4.0</td>\n",
       "      <td>0.0</td>\n",
       "      <td>0.0</td>\n",
       "      <td>...</td>\n",
       "      <td>0.000000</td>\n",
       "      <td>0.000000</td>\n",
       "      <td>0.0</td>\n",
       "      <td>0.0</td>\n",
       "      <td>0.000000</td>\n",
       "      <td>0.0</td>\n",
       "      <td>0.0</td>\n",
       "      <td>0.000000</td>\n",
       "      <td>0.000000</td>\n",
       "      <td>0.000000</td>\n",
       "    </tr>\n",
       "    <tr>\n",
       "      <th>87017</th>\n",
       "      <td>750406</td>\n",
       "      <td>CL RETAIL</td>\n",
       "      <td>0.0</td>\n",
       "      <td>0.0</td>\n",
       "      <td>0.0</td>\n",
       "      <td>0.0</td>\n",
       "      <td>0.0</td>\n",
       "      <td>0.0</td>\n",
       "      <td>0.0</td>\n",
       "      <td>0.0</td>\n",
       "      <td>...</td>\n",
       "      <td>0.000000</td>\n",
       "      <td>0.000000</td>\n",
       "      <td>0.0</td>\n",
       "      <td>0.0</td>\n",
       "      <td>0.000000</td>\n",
       "      <td>0.0</td>\n",
       "      <td>0.0</td>\n",
       "      <td>0.000000</td>\n",
       "      <td>0.000000</td>\n",
       "      <td>0.000000</td>\n",
       "    </tr>\n",
       "    <tr>\n",
       "      <th>87018</th>\n",
       "      <td>750406</td>\n",
       "      <td>CL SODIMAC</td>\n",
       "      <td>0.0</td>\n",
       "      <td>0.0</td>\n",
       "      <td>0.0</td>\n",
       "      <td>0.0</td>\n",
       "      <td>0.0</td>\n",
       "      <td>0.0</td>\n",
       "      <td>0.0</td>\n",
       "      <td>0.0</td>\n",
       "      <td>...</td>\n",
       "      <td>0.000000</td>\n",
       "      <td>0.000000</td>\n",
       "      <td>0.0</td>\n",
       "      <td>0.0</td>\n",
       "      <td>0.000000</td>\n",
       "      <td>0.0</td>\n",
       "      <td>0.0</td>\n",
       "      <td>0.000000</td>\n",
       "      <td>0.000000</td>\n",
       "      <td>0.000000</td>\n",
       "    </tr>\n",
       "    <tr>\n",
       "      <th>87020</th>\n",
       "      <td>750791</td>\n",
       "      <td>CL RETAIL</td>\n",
       "      <td>0.0</td>\n",
       "      <td>0.0</td>\n",
       "      <td>0.0</td>\n",
       "      <td>0.0</td>\n",
       "      <td>0.0</td>\n",
       "      <td>0.0</td>\n",
       "      <td>0.0</td>\n",
       "      <td>0.0</td>\n",
       "      <td>...</td>\n",
       "      <td>5.000000</td>\n",
       "      <td>2.000000</td>\n",
       "      <td>2.0</td>\n",
       "      <td>6.0</td>\n",
       "      <td>2.000000</td>\n",
       "      <td>1.0</td>\n",
       "      <td>3.0</td>\n",
       "      <td>1.000000</td>\n",
       "      <td>7.555556</td>\n",
       "      <td>7.555556</td>\n",
       "    </tr>\n",
       "    <tr>\n",
       "      <th>87021</th>\n",
       "      <td>750797</td>\n",
       "      <td>CL RETAIL</td>\n",
       "      <td>0.0</td>\n",
       "      <td>0.0</td>\n",
       "      <td>0.0</td>\n",
       "      <td>0.0</td>\n",
       "      <td>0.0</td>\n",
       "      <td>0.0</td>\n",
       "      <td>0.0</td>\n",
       "      <td>0.0</td>\n",
       "      <td>...</td>\n",
       "      <td>0.000000</td>\n",
       "      <td>0.833333</td>\n",
       "      <td>0.0</td>\n",
       "      <td>0.0</td>\n",
       "      <td>0.000000</td>\n",
       "      <td>1.0</td>\n",
       "      <td>1.0</td>\n",
       "      <td>0.833333</td>\n",
       "      <td>0.833333</td>\n",
       "      <td>1.000000</td>\n",
       "    </tr>\n",
       "    <tr>\n",
       "      <th>87022</th>\n",
       "      <td>750803</td>\n",
       "      <td>CL RETAIL</td>\n",
       "      <td>0.0</td>\n",
       "      <td>0.0</td>\n",
       "      <td>0.0</td>\n",
       "      <td>0.0</td>\n",
       "      <td>0.0</td>\n",
       "      <td>0.0</td>\n",
       "      <td>0.0</td>\n",
       "      <td>0.0</td>\n",
       "      <td>...</td>\n",
       "      <td>3.000000</td>\n",
       "      <td>3.000000</td>\n",
       "      <td>7.0</td>\n",
       "      <td>3.0</td>\n",
       "      <td>3.722222</td>\n",
       "      <td>3.0</td>\n",
       "      <td>5.0</td>\n",
       "      <td>1.000000</td>\n",
       "      <td>1.000000</td>\n",
       "      <td>3.722222</td>\n",
       "    </tr>\n",
       "    <tr>\n",
       "      <th>87023</th>\n",
       "      <td>750809</td>\n",
       "      <td>CL RETAIL</td>\n",
       "      <td>0.0</td>\n",
       "      <td>0.0</td>\n",
       "      <td>0.0</td>\n",
       "      <td>0.0</td>\n",
       "      <td>0.0</td>\n",
       "      <td>0.0</td>\n",
       "      <td>0.0</td>\n",
       "      <td>0.0</td>\n",
       "      <td>...</td>\n",
       "      <td>2.500000</td>\n",
       "      <td>4.000000</td>\n",
       "      <td>0.0</td>\n",
       "      <td>2.0</td>\n",
       "      <td>0.000000</td>\n",
       "      <td>0.0</td>\n",
       "      <td>0.0</td>\n",
       "      <td>0.000000</td>\n",
       "      <td>1.000000</td>\n",
       "      <td>3.000000</td>\n",
       "    </tr>\n",
       "    <tr>\n",
       "      <th>87024</th>\n",
       "      <td>750816</td>\n",
       "      <td>CL RETAIL</td>\n",
       "      <td>0.0</td>\n",
       "      <td>0.0</td>\n",
       "      <td>0.0</td>\n",
       "      <td>0.0</td>\n",
       "      <td>0.0</td>\n",
       "      <td>0.0</td>\n",
       "      <td>0.0</td>\n",
       "      <td>0.0</td>\n",
       "      <td>...</td>\n",
       "      <td>1.888889</td>\n",
       "      <td>3.000000</td>\n",
       "      <td>0.0</td>\n",
       "      <td>2.0</td>\n",
       "      <td>0.000000</td>\n",
       "      <td>0.0</td>\n",
       "      <td>2.0</td>\n",
       "      <td>0.000000</td>\n",
       "      <td>0.000000</td>\n",
       "      <td>4.000000</td>\n",
       "    </tr>\n",
       "    <tr>\n",
       "      <th>87026</th>\n",
       "      <td>752466</td>\n",
       "      <td>CL RETAIL</td>\n",
       "      <td>7.0</td>\n",
       "      <td>1.0</td>\n",
       "      <td>2.0</td>\n",
       "      <td>1.0</td>\n",
       "      <td>11.0</td>\n",
       "      <td>1.0</td>\n",
       "      <td>1.0</td>\n",
       "      <td>9.0</td>\n",
       "      <td>...</td>\n",
       "      <td>2.000000</td>\n",
       "      <td>4.000000</td>\n",
       "      <td>3.0</td>\n",
       "      <td>3.5</td>\n",
       "      <td>1.000000</td>\n",
       "      <td>3.0</td>\n",
       "      <td>3.0</td>\n",
       "      <td>3.000000</td>\n",
       "      <td>3.500000</td>\n",
       "      <td>4.000000</td>\n",
       "    </tr>\n",
       "  </tbody>\n",
       "</table>\n",
       "<p>10 rows × 172 columns</p>\n",
       "</div>"
      ],
      "text/plain": [
       "      Ultimo Eslabón     Canal 3  2018-01-01 00:00:00  2018-02-01 00:00:00  \\\n",
       "87011         750324   CL RETAIL                  0.0                  0.0   \n",
       "87014         750403   CL RETAIL                  2.0                  6.0   \n",
       "87017         750406   CL RETAIL                  0.0                  0.0   \n",
       "87018         750406  CL SODIMAC                  0.0                  0.0   \n",
       "87020         750791   CL RETAIL                  0.0                  0.0   \n",
       "87021         750797   CL RETAIL                  0.0                  0.0   \n",
       "87022         750803   CL RETAIL                  0.0                  0.0   \n",
       "87023         750809   CL RETAIL                  0.0                  0.0   \n",
       "87024         750816   CL RETAIL                  0.0                  0.0   \n",
       "87026         752466   CL RETAIL                  7.0                  1.0   \n",
       "\n",
       "       2018-03-01 00:00:00  2018-04-01 00:00:00  2018-05-01 00:00:00  \\\n",
       "87011                  0.0                  0.0                  0.0   \n",
       "87014                  4.0                  8.0                  0.0   \n",
       "87017                  0.0                  0.0                  0.0   \n",
       "87018                  0.0                  0.0                  0.0   \n",
       "87020                  0.0                  0.0                  0.0   \n",
       "87021                  0.0                  0.0                  0.0   \n",
       "87022                  0.0                  0.0                  0.0   \n",
       "87023                  0.0                  0.0                  0.0   \n",
       "87024                  0.0                  0.0                  0.0   \n",
       "87026                  2.0                  1.0                 11.0   \n",
       "\n",
       "       2018-06-01 00:00:00  2018-07-01 00:00:00  2018-08-01 00:00:00  ...  \\\n",
       "87011                  0.0                  0.0                  0.0  ...   \n",
       "87014                  4.0                  0.0                  0.0  ...   \n",
       "87017                  0.0                  0.0                  0.0  ...   \n",
       "87018                  0.0                  0.0                  0.0  ...   \n",
       "87020                  0.0                  0.0                  0.0  ...   \n",
       "87021                  0.0                  0.0                  0.0  ...   \n",
       "87022                  0.0                  0.0                  0.0  ...   \n",
       "87023                  0.0                  0.0                  0.0  ...   \n",
       "87024                  0.0                  0.0                  0.0  ...   \n",
       "87026                  1.0                  1.0                  9.0  ...   \n",
       "\n",
       "       2023-10-01 00:00:00_copy  2023-11-01 00:00:00_copy  \\\n",
       "87011                  0.666667                  0.000000   \n",
       "87014                  0.000000                  0.000000   \n",
       "87017                  0.000000                  0.000000   \n",
       "87018                  0.000000                  0.000000   \n",
       "87020                  5.000000                  2.000000   \n",
       "87021                  0.000000                  0.833333   \n",
       "87022                  3.000000                  3.000000   \n",
       "87023                  2.500000                  4.000000   \n",
       "87024                  1.888889                  3.000000   \n",
       "87026                  2.000000                  4.000000   \n",
       "\n",
       "       2023-12-01 00:00:00_copy  2024-01-01 00:00:00_copy  \\\n",
       "87011                       0.0                       1.0   \n",
       "87014                       0.0                       0.0   \n",
       "87017                       0.0                       0.0   \n",
       "87018                       0.0                       0.0   \n",
       "87020                       2.0                       6.0   \n",
       "87021                       0.0                       0.0   \n",
       "87022                       7.0                       3.0   \n",
       "87023                       0.0                       2.0   \n",
       "87024                       0.0                       2.0   \n",
       "87026                       3.0                       3.5   \n",
       "\n",
       "       2024-02-01 00:00:00_copy  2024-03-01 00:00:00_copy  \\\n",
       "87011                  0.000000                       0.0   \n",
       "87014                  0.000000                       0.0   \n",
       "87017                  0.000000                       0.0   \n",
       "87018                  0.000000                       0.0   \n",
       "87020                  2.000000                       1.0   \n",
       "87021                  0.000000                       1.0   \n",
       "87022                  3.722222                       3.0   \n",
       "87023                  0.000000                       0.0   \n",
       "87024                  0.000000                       0.0   \n",
       "87026                  1.000000                       3.0   \n",
       "\n",
       "       2024-04-01 00:00:00_copy  2024-05-01 00:00:00_copy  \\\n",
       "87011                       1.0                  0.666667   \n",
       "87014                       0.0                  0.000000   \n",
       "87017                       0.0                  0.000000   \n",
       "87018                       0.0                  0.000000   \n",
       "87020                       3.0                  1.000000   \n",
       "87021                       1.0                  0.833333   \n",
       "87022                       5.0                  1.000000   \n",
       "87023                       0.0                  0.000000   \n",
       "87024                       2.0                  0.000000   \n",
       "87026                       3.0                  3.000000   \n",
       "\n",
       "       2024-06-01 00:00:00_copy  2024-07-01 00:00:00_copy  \n",
       "87011                  1.000000                  0.000000  \n",
       "87014                  0.000000                  0.000000  \n",
       "87017                  0.000000                  0.000000  \n",
       "87018                  0.000000                  0.000000  \n",
       "87020                  7.555556                  7.555556  \n",
       "87021                  0.833333                  1.000000  \n",
       "87022                  1.000000                  3.722222  \n",
       "87023                  1.000000                  3.000000  \n",
       "87024                  0.000000                  4.000000  \n",
       "87026                  3.500000                  4.000000  \n",
       "\n",
       "[10 rows x 172 columns]"
      ]
     },
     "execution_count": 218,
     "metadata": {},
     "output_type": "execute_result"
    }
   ],
   "source": [
    "pivot_df.tail(10)"
   ]
  },
  {
   "cell_type": "code",
   "execution_count": 219,
   "metadata": {},
   "outputs": [
    {
     "data": {
      "text/html": [
       "<div>\n",
       "<style scoped>\n",
       "    .dataframe tbody tr th:only-of-type {\n",
       "        vertical-align: middle;\n",
       "    }\n",
       "\n",
       "    .dataframe tbody tr th {\n",
       "        vertical-align: top;\n",
       "    }\n",
       "\n",
       "    .dataframe thead th {\n",
       "        text-align: right;\n",
       "    }\n",
       "</style>\n",
       "<table border=\"1\" class=\"dataframe\">\n",
       "  <thead>\n",
       "    <tr style=\"text-align: right;\">\n",
       "      <th></th>\n",
       "      <th>Ultimo Eslabón</th>\n",
       "      <th>Canal 3</th>\n",
       "      <th>2018-01-01 00:00:00</th>\n",
       "      <th>2018-02-01 00:00:00</th>\n",
       "      <th>2018-03-01 00:00:00</th>\n",
       "      <th>2018-04-01 00:00:00</th>\n",
       "      <th>2018-05-01 00:00:00</th>\n",
       "      <th>2018-06-01 00:00:00</th>\n",
       "      <th>2018-07-01 00:00:00</th>\n",
       "      <th>2018-08-01 00:00:00</th>\n",
       "      <th>...</th>\n",
       "      <th>2023-10-01 00:00:00</th>\n",
       "      <th>2023-11-01 00:00:00</th>\n",
       "      <th>2023-12-01 00:00:00</th>\n",
       "      <th>2024-01-01 00:00:00</th>\n",
       "      <th>2024-02-01 00:00:00</th>\n",
       "      <th>2024-03-01 00:00:00</th>\n",
       "      <th>2024-04-01 00:00:00</th>\n",
       "      <th>2024-05-01 00:00:00</th>\n",
       "      <th>2024-06-01 00:00:00</th>\n",
       "      <th>2024-07-01 00:00:00</th>\n",
       "    </tr>\n",
       "  </thead>\n",
       "  <tbody>\n",
       "    <tr>\n",
       "      <th>0</th>\n",
       "      <td>1000078</td>\n",
       "      <td>CL RETAIL</td>\n",
       "      <td>0.0</td>\n",
       "      <td>0.0</td>\n",
       "      <td>0.0</td>\n",
       "      <td>0.0</td>\n",
       "      <td>0.0</td>\n",
       "      <td>0.0</td>\n",
       "      <td>0.0</td>\n",
       "      <td>0.0</td>\n",
       "      <td>...</td>\n",
       "      <td>0.0</td>\n",
       "      <td>0.0</td>\n",
       "      <td>0.0</td>\n",
       "      <td>0.055556</td>\n",
       "      <td>0.0</td>\n",
       "      <td>0.0</td>\n",
       "      <td>0.0</td>\n",
       "      <td>0.0</td>\n",
       "      <td>0.0</td>\n",
       "      <td>0.0</td>\n",
       "    </tr>\n",
       "  </tbody>\n",
       "</table>\n",
       "<p>1 rows × 170 columns</p>\n",
       "</div>"
      ],
      "text/plain": [
       "  Ultimo Eslabón    Canal 3  2018-01-01 00:00:00  2018-02-01 00:00:00  \\\n",
       "0        1000078  CL RETAIL                  0.0                  0.0   \n",
       "\n",
       "   2018-03-01 00:00:00  2018-04-01 00:00:00  2018-05-01 00:00:00  \\\n",
       "0                  0.0                  0.0                  0.0   \n",
       "\n",
       "   2018-06-01 00:00:00  2018-07-01 00:00:00  2018-08-01 00:00:00  ...  \\\n",
       "0                  0.0                  0.0                  0.0  ...   \n",
       "\n",
       "   2023-10-01 00:00:00  2023-11-01 00:00:00  2023-12-01 00:00:00  \\\n",
       "0                  0.0                  0.0                  0.0   \n",
       "\n",
       "   2024-01-01 00:00:00  2024-02-01 00:00:00  2024-03-01 00:00:00  \\\n",
       "0             0.055556                  0.0                  0.0   \n",
       "\n",
       "   2024-04-01 00:00:00  2024-05-01 00:00:00  2024-06-01 00:00:00  \\\n",
       "0                  0.0                  0.0                  0.0   \n",
       "\n",
       "   2024-07-01 00:00:00  \n",
       "0                  0.0  \n",
       "\n",
       "[1 rows x 170 columns]"
      ]
     },
     "execution_count": 219,
     "metadata": {},
     "output_type": "execute_result"
    }
   ],
   "source": [
    "index_suma_outliers = pivot_df.columns.get_loc(\"Suma Outliers\")\n",
    "\n",
    "# Detectar y eliminar columnas que empiezan con \"Ul\" o \"Ca\" después de \"Suma Outliers\"\n",
    "cols_to_drop = [col for col in pivot_df.columns[index_suma_outliers+1:] if col.startswith(\"Ul\") or col.startswith(\"Ca\")]\n",
    "pivot_df.drop(columns=cols_to_drop, inplace=True)\n",
    "\n",
    "# Renombrar columnas que terminan en \"_copy\" adyacentes a \"Suma Outliers\"\n",
    "new_columns = pivot_df.columns.tolist()\n",
    "for i in range(index_suma_outliers + 1, len(new_columns)):\n",
    "    if new_columns[i].endswith(\"_copy\"):\n",
    "        new_columns[i] = new_columns[i].replace(\"_copy\", \"\")\n",
    "\n",
    "pivot_df.columns = new_columns\n",
    "\n",
    "# Mostrar el DataFrame modificado\n",
    "pivot_df.head(1)"
   ]
  },
  {
   "cell_type": "code",
   "execution_count": 220,
   "metadata": {},
   "outputs": [
    {
     "data": {
      "text/plain": [
       "(47771, 170)"
      ]
     },
     "execution_count": 220,
     "metadata": {},
     "output_type": "execute_result"
    }
   ],
   "source": [
    "pivot_df.shape"
   ]
  },
  {
   "cell_type": "code",
   "execution_count": 221,
   "metadata": {},
   "outputs": [
    {
     "name": "stdout",
     "output_type": "stream",
     "text": [
      "Archivo CSV guardado en: C:\\Users\\etorres.DERCOPARTS\\DERCO CHILE REPUESTOS SpA\\Planificación y abastecimiento - Documentos\\Planificación y Compras Anastasia\\Carga Historia de Venta\\2024-08 Ciclo Sep-24\\AFM\\SELL OUT\\08.2024 Sell_Out July-24 Corregido.csv\n",
      "Archivo Excel guardado en: C:\\Users\\etorres.DERCOPARTS\\DERCO CHILE REPUESTOS SpA\\Planificación y abastecimiento - Documentos\\Planificación y Compras Anastasia\\Carga Historia de Venta\\2024-08 Ciclo Sep-24\\AFM\\SELL OUT\\08.2024 Sell_Out July-24 Corregido.xlsx\n"
     ]
    }
   ],
   "source": [
    "pivot_df.to_csv(csv_path, sep=';', decimal=',', index=False)\n",
    "print(f\"Archivo CSV guardado en: {csv_path}\")\n",
    "pivot_df.to_excel(excel_path, index=False)\n",
    "print(f\"Archivo Excel guardado en: {excel_path}\")"
   ]
  },
  {
   "cell_type": "markdown",
   "metadata": {},
   "source": [
    "GUARDAR NUEVA HISTORIA"
   ]
  },
  {
   "cell_type": "code",
   "execution_count": 222,
   "metadata": {},
   "outputs": [],
   "source": [
    "# import os\n",
    "# import datetime\n",
    "\n",
    "# # Obtener el usuario automáticamente\n",
    "# user = os.getlogin()\n",
    "\n",
    "# # Definir la ruta base y agregar la fecha actual\n",
    "# ruta_base = f\"C:\\\\Users\\\\{user}\\\\Inchcape\\\\Planificación y abastecimiento AFM - Documentos\\\\Planificación y Compras Anastasia\\\\Carga Historia de Venta\"\n",
    "# fecha_actual = datetime.datetime.now().strftime(\"%Y-%m-%d\")\n",
    "# nombre_archivo = f\"Historia_Sell_In\"\n",
    "\n",
    "# # Definir las rutas completas para cada formato\n",
    "# ruta_csv = os.path.join(ruta_base, f\"{nombre_archivo}.csv\")\n",
    "# ruta_parquet = os.path.join(ruta_base, f\"{nombre_archivo}.parquet\")\n",
    "# ruta_feather = os.path.join(ruta_base, f\"{nombre_archivo}.feather\")\n",
    "\n",
    "# # Guardar el DataFrame en cada formato\n",
    "## df_combinado_actualizado2.to_csv(ruta_csv, sep=';', decimal=',', index=False)\n",
    "# df_combinado_actualizado2.to_parquet(ruta_parquet)\n",
    "## df_combinado_actualizado2.to_feather(ruta_feather)"
   ]
  }
 ],
 "metadata": {
  "kernelspec": {
   "display_name": "Python 3",
   "language": "python",
   "name": "python3"
  },
  "language_info": {
   "codemirror_mode": {
    "name": "ipython",
    "version": 3
   },
   "file_extension": ".py",
   "mimetype": "text/x-python",
   "name": "python",
   "nbconvert_exporter": "python",
   "pygments_lexer": "ipython3",
   "version": "3.12.4"
  }
 },
 "nbformat": 4,
 "nbformat_minor": 2
}
