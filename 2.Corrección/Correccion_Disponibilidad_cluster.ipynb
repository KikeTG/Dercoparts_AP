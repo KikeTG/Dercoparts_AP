{
 "cells": [
  {
   "cell_type": "markdown",
   "metadata": {},
   "source": [
    "Buscar SI y SO corregidos por Outliers para Iniciar la corrección por Disponibilidad"
   ]
  },
  {
   "cell_type": "code",
   "execution_count": 30,
   "metadata": {},
   "outputs": [],
   "source": [
    "import os\n",
    "import pandas as pd\n",
    "from datetime import datetime\n",
    "import glob\n",
    "import numpy as np\n",
    "import locale\n",
    "\n",
    "locale.setlocale(locale.LC_TIME, 'es_ES.UTF-8')\n",
    "\n",
    "usuario = os.path.expanduser('~')\n",
    "fecha_actual = datetime.now().strftime('%Y-%m')\n",
    "\n",
    "ruta_base = os.path.join(usuario, 'derco chile repuestos spa', 'Planificación y abastecimiento - Documentos', 'Planificación y Compras Anastasia', 'Carga Historia de Venta')\n",
    "carpeta_año_mes = glob.glob(os.path.join(ruta_base, f'{fecha_actual}*'))\n",
    "if carpeta_año_mes:\n",
    "    ruta_afm = os.path.join(carpeta_año_mes[0], 'AFM')\n",
    "    ruta_sell_in = os.path.join(ruta_afm, 'SELL IN')\n",
    "    archivos_sell_in = glob.glob(os.path.join(ruta_sell_in, '*Sell_In*.csv'))\n",
    "    if archivos_sell_in:\n",
    "        archivo_sell_in = archivos_sell_in[0]\n",
    "        df_sell_in = pd.read_csv(archivo_sell_in, delimiter=';', decimal=',')\n",
    "        \n",
    "    else:\n",
    "        print(\"No se encontró el archivo Sell_In.\")\n",
    "\n",
    "    ruta_sell_out = os.path.join(ruta_afm, 'SELL OUT')\n",
    "    archivos_sell_out = glob.glob(os.path.join(ruta_sell_out, '*Sell_Out*.csv'))\n",
    "    if archivos_sell_out:\n",
    "        archivo_sell_out = archivos_sell_out[0]\n",
    "        df_sell_out = pd.read_csv(archivo_sell_out, delimiter=';', decimal=',')\n",
    "      \n",
    "    else:\n",
    "        print(\"No se encontró el archivo Sell_Out.\")\n",
    "else:\n",
    "    print(\"No se encontró la carpeta del año y mes actual.\")\n"
   ]
  },
  {
   "cell_type": "code",
   "execution_count": 31,
   "metadata": {},
   "outputs": [
    {
     "data": {
      "text/plain": [
       "'C:\\\\Users\\\\etorres.DERCOPARTS\\\\derco chile repuestos spa\\\\Planificación y abastecimiento - Documentos\\\\Planificación y Compras Anastasia\\\\Carga Historia de Venta\\\\2024-08 Ciclo Sep-24\\\\AFM\\\\SELL OUT\\\\08.2024 Sell_Out July-24 Corregido_CLUSTER.csv'"
      ]
     },
     "execution_count": 31,
     "metadata": {},
     "output_type": "execute_result"
    }
   ],
   "source": [
    "archivo_sell_out"
   ]
  },
  {
   "cell_type": "code",
   "execution_count": 32,
   "metadata": {},
   "outputs": [
    {
     "data": {
      "text/plain": [
       "'C:\\\\Users\\\\etorres.DERCOPARTS\\\\derco chile repuestos spa\\\\Planificación y abastecimiento - Documentos\\\\Planificación y Compras Anastasia\\\\Carga Historia de Venta\\\\2024-08 Ciclo Sep-24\\\\AFM\\\\SELL IN\\\\08.2024 Sell_In July-24 Corregido_CLUSTER.csv'"
      ]
     },
     "execution_count": 32,
     "metadata": {},
     "output_type": "execute_result"
    }
   ],
   "source": [
    "archivo_sell_in"
   ]
  },
  {
   "cell_type": "code",
   "execution_count": 33,
   "metadata": {},
   "outputs": [
    {
     "data": {
      "text/plain": [
       "'C:\\\\Users\\\\etorres.DERCOPARTS\\\\derco chile repuestos spa\\\\Planificación y abastecimiento - Documentos\\\\Planificación y Compras Anastasia\\\\Carga Historia de Venta\\\\2024-08 Ciclo Sep-24\\\\AFM\\\\SELL IN'"
      ]
     },
     "execution_count": 33,
     "metadata": {},
     "output_type": "execute_result"
    }
   ],
   "source": [
    "ruta_sell_in"
   ]
  },
  {
   "cell_type": "code",
   "execution_count": 34,
   "metadata": {},
   "outputs": [
    {
     "data": {
      "text/plain": [
       "['C:\\\\Users\\\\etorres.DERCOPARTS\\\\derco chile repuestos spa\\\\Planificación y abastecimiento - Documentos\\\\Planificación y Compras Anastasia\\\\Carga Historia de Venta\\\\2024-08 Ciclo Sep-24']"
      ]
     },
     "execution_count": 34,
     "metadata": {},
     "output_type": "execute_result"
    }
   ],
   "source": [
    "carpeta_año_mes"
   ]
  },
  {
   "cell_type": "code",
   "execution_count": 35,
   "metadata": {},
   "outputs": [
    {
     "data": {
      "text/plain": [
       "Ultimo Eslabón      int64\n",
       "Canal 3            object\n",
       "01-01-2018          int64\n",
       "01-02-2018          int64\n",
       "01-03-2018          int64\n",
       "                   ...   \n",
       "01-03-2024.1      float64\n",
       "01-04-2024.1      float64\n",
       "01-05-2024.1      float64\n",
       "01-06-2024.1      float64\n",
       "01-07-2024.1      float64\n",
       "Length: 170, dtype: object"
      ]
     },
     "execution_count": 35,
     "metadata": {},
     "output_type": "execute_result"
    }
   ],
   "source": [
    "df_sell_in.dtypes"
   ]
  },
  {
   "cell_type": "code",
   "execution_count": 36,
   "metadata": {},
   "outputs": [
    {
     "data": {
      "text/plain": [
       "Ultimo Eslabón         int64\n",
       "Canal 3               object\n",
       "01-01-2018 0:00      float64\n",
       "01-02-2018 0:00      float64\n",
       "01-03-2018 0:00      float64\n",
       "                      ...   \n",
       "01-03-2024 0:00.1    float64\n",
       "01-04-2024 0:00.1    float64\n",
       "01-05-2024 0:00.1    float64\n",
       "01-06-2024 0:00.1    float64\n",
       "01-07-2024 0:00.1    float64\n",
       "Length: 170, dtype: object"
      ]
     },
     "execution_count": 36,
     "metadata": {},
     "output_type": "execute_result"
    }
   ],
   "source": [
    "df_sell_out.dtypes"
   ]
  },
  {
   "cell_type": "code",
   "execution_count": 37,
   "metadata": {},
   "outputs": [
    {
     "data": {
      "text/plain": [
       "Ultimo Eslabón         int64\n",
       "Canal 3               object\n",
       "01-01-2018 0:00      float64\n",
       "01-02-2018 0:00      float64\n",
       "01-03-2018 0:00      float64\n",
       "                      ...   \n",
       "01-03-2024 0:00.1    float64\n",
       "01-04-2024 0:00.1    float64\n",
       "01-05-2024 0:00.1    float64\n",
       "01-06-2024 0:00.1    float64\n",
       "01-07-2024 0:00.1    float64\n",
       "Length: 170, dtype: object"
      ]
     },
     "execution_count": 37,
     "metadata": {},
     "output_type": "execute_result"
    }
   ],
   "source": [
    "df_sell_out.dtypes"
   ]
  },
  {
   "cell_type": "code",
   "execution_count": null,
   "metadata": {},
   "outputs": [],
   "source": []
  },
  {
   "cell_type": "code",
   "execution_count": 38,
   "metadata": {},
   "outputs": [
    {
     "data": {
      "text/plain": [
       "(82999.722222192, 656688.555555096, 739688.277777288)"
      ]
     },
     "execution_count": 38,
     "metadata": {},
     "output_type": "execute_result"
    }
   ],
   "source": [
    "suma_sell_in = df_sell_in.iloc[:, -2].sum()\n",
    "suma_sell_out = df_sell_out.iloc[:, -2].sum()\n",
    "suma_total = suma_sell_in + suma_sell_out\n",
    "suma_sell_in, suma_sell_out, suma_total\n"
   ]
  },
  {
   "cell_type": "code",
   "execution_count": 39,
   "metadata": {},
   "outputs": [
    {
     "data": {
      "text/plain": [
       "Ultimo Eslabón      int64\n",
       "Canal 3            object\n",
       "01-01-2018          int64\n",
       "01-02-2018          int64\n",
       "01-03-2018          int64\n",
       "                   ...   \n",
       "01-03-2024.1      float64\n",
       "01-04-2024.1      float64\n",
       "01-05-2024.1      float64\n",
       "01-06-2024.1      float64\n",
       "01-07-2024.1      float64\n",
       "Length: 170, dtype: object"
      ]
     },
     "execution_count": 39,
     "metadata": {},
     "output_type": "execute_result"
    }
   ],
   "source": [
    "df_sell_in.dtypes"
   ]
  },
  {
   "cell_type": "code",
   "execution_count": 40,
   "metadata": {},
   "outputs": [
    {
     "data": {
      "text/plain": [
       "(13647, 171)"
      ]
     },
     "execution_count": 40,
     "metadata": {},
     "output_type": "execute_result"
    }
   ],
   "source": [
    "df_sell_in['SI/SO'] = 'SI'\n",
    "df_sell_out['SI/SO'] = 'SO'\n",
    "df_sell_in.shape"
   ]
  },
  {
   "cell_type": "code",
   "execution_count": 41,
   "metadata": {},
   "outputs": [
    {
     "data": {
      "text/plain": [
       "(47771, 171)"
      ]
     },
     "execution_count": 41,
     "metadata": {},
     "output_type": "execute_result"
    }
   ],
   "source": [
    "df_sell_out.shape"
   ]
  },
  {
   "cell_type": "code",
   "execution_count": 42,
   "metadata": {},
   "outputs": [
    {
     "data": {
      "text/plain": [
       "84599"
      ]
     },
     "execution_count": 42,
     "metadata": {},
     "output_type": "execute_result"
    }
   ],
   "source": [
    "a = 47548 + 37051\n",
    "a"
   ]
  },
  {
   "cell_type": "code",
   "execution_count": 43,
   "metadata": {},
   "outputs": [
    {
     "name": "stdout",
     "output_type": "stream",
     "text": [
      "Ultimo Eslabón\n",
      "Canal 3\n",
      "01-01-2018 0:00\n",
      "01-02-2018 0:00\n",
      "01-03-2018 0:00\n",
      "01-04-2018 0:00\n",
      "01-05-2018 0:00\n",
      "01-06-2018 0:00\n",
      "01-07-2018 0:00\n",
      "01-08-2018 0:00\n",
      "01-09-2018 0:00\n",
      "01-10-2018 0:00\n",
      "01-11-2018 0:00\n",
      "01-12-2018 0:00\n",
      "01-01-2019 0:00\n",
      "01-02-2019 0:00\n",
      "01-03-2019 0:00\n",
      "01-04-2019 0:00\n",
      "01-05-2019 0:00\n",
      "01-06-2019 0:00\n",
      "01-07-2019 0:00\n",
      "01-08-2019 0:00\n",
      "01-09-2019 0:00\n",
      "01-10-2019 0:00\n",
      "01-11-2019 0:00\n",
      "01-12-2019 0:00\n",
      "01-01-2020 0:00\n",
      "01-02-2020 0:00\n",
      "01-03-2020 0:00\n",
      "01-04-2020 0:00\n",
      "01-05-2020 0:00\n",
      "01-06-2020 0:00\n",
      "01-07-2020 0:00\n",
      "01-08-2020 0:00\n",
      "01-09-2020 0:00\n",
      "01-10-2020 0:00\n",
      "01-11-2020 0:00\n",
      "01-12-2020 0:00\n",
      "01-01-2021 0:00\n",
      "01-02-2021 0:00\n",
      "01-03-2021 0:00\n",
      "01-04-2021 0:00\n",
      "01-05-2021 0:00\n",
      "01-06-2021 0:00\n",
      "01-07-2021 0:00\n",
      "01-08-2021 0:00\n",
      "01-09-2021 0:00\n",
      "01-10-2021 0:00\n",
      "01-11-2021 0:00\n",
      "01-12-2021 0:00\n",
      "01-01-2022 0:00\n",
      "01-02-2022 0:00\n",
      "01-03-2022 0:00\n",
      "01-04-2022 0:00\n",
      "01-05-2022 0:00\n",
      "01-06-2022 0:00\n",
      "01-07-2022 0:00\n",
      "01-08-2022 0:00\n",
      "01-09-2022 0:00\n",
      "01-10-2022 0:00\n",
      "01-11-2022 0:00\n",
      "01-12-2022 0:00\n",
      "01-01-2023 0:00\n",
      "01-02-2023 0:00\n",
      "01-03-2023 0:00\n",
      "01-04-2023 0:00\n",
      "01-05-2023 0:00\n",
      "01-06-2023 0:00\n",
      "01-07-2023 0:00\n",
      "01-08-2023 0:00\n",
      "01-09-2023 0:00\n",
      "01-10-2023 0:00\n",
      "01-11-2023 0:00\n",
      "01-12-2023 0:00\n",
      "01-01-2024 0:00\n",
      "01-02-2024 0:00\n",
      "01-03-2024 0:00\n",
      "01-04-2024 0:00\n",
      "01-05-2024 0:00\n",
      "01-06-2024 0:00\n",
      "01-07-2024 0:00\n",
      "Clasificación\n",
      "PROMEDIO\n",
      "DESV EST\n",
      "Z\n",
      "LIM SUP\n",
      "LIM INF\n",
      "FRECUENCIA\n",
      "Outliers SUP\n",
      "Outliers INF\n",
      "Suma Outliers\n",
      "01-01-2018 0:00.1\n",
      "01-02-2018 0:00.1\n",
      "01-03-2018 0:00.1\n",
      "01-04-2018 0:00.1\n",
      "01-05-2018 0:00.1\n",
      "01-06-2018 0:00.1\n",
      "01-07-2018 0:00.1\n",
      "01-08-2018 0:00.1\n",
      "01-09-2018 0:00.1\n",
      "01-10-2018 0:00.1\n",
      "01-11-2018 0:00.1\n",
      "01-12-2018 0:00.1\n",
      "01-01-2019 0:00.1\n",
      "01-02-2019 0:00.1\n",
      "01-03-2019 0:00.1\n",
      "01-04-2019 0:00.1\n",
      "01-05-2019 0:00.1\n",
      "01-06-2019 0:00.1\n",
      "01-07-2019 0:00.1\n",
      "01-08-2019 0:00.1\n",
      "01-09-2019 0:00.1\n",
      "01-10-2019 0:00.1\n",
      "01-11-2019 0:00.1\n",
      "01-12-2019 0:00.1\n",
      "01-01-2020 0:00.1\n",
      "01-02-2020 0:00.1\n",
      "01-03-2020 0:00.1\n",
      "01-04-2020 0:00.1\n",
      "01-05-2020 0:00.1\n",
      "01-06-2020 0:00.1\n",
      "01-07-2020 0:00.1\n",
      "01-08-2020 0:00.1\n",
      "01-09-2020 0:00.1\n",
      "01-10-2020 0:00.1\n",
      "01-11-2020 0:00.1\n",
      "01-12-2020 0:00.1\n",
      "01-01-2021 0:00.1\n",
      "01-02-2021 0:00.1\n",
      "01-03-2021 0:00.1\n",
      "01-04-2021 0:00.1\n",
      "01-05-2021 0:00.1\n",
      "01-06-2021 0:00.1\n",
      "01-07-2021 0:00.1\n",
      "01-08-2021 0:00.1\n",
      "01-09-2021 0:00.1\n",
      "01-10-2021 0:00.1\n",
      "01-11-2021 0:00.1\n",
      "01-12-2021 0:00.1\n",
      "01-01-2022 0:00.1\n",
      "01-02-2022 0:00.1\n",
      "01-03-2022 0:00.1\n",
      "01-04-2022 0:00.1\n",
      "01-05-2022 0:00.1\n",
      "01-06-2022 0:00.1\n",
      "01-07-2022 0:00.1\n",
      "01-08-2022 0:00.1\n",
      "01-09-2022 0:00.1\n",
      "01-10-2022 0:00.1\n",
      "01-11-2022 0:00.1\n",
      "01-12-2022 0:00.1\n",
      "01-01-2023 0:00.1\n",
      "01-02-2023 0:00.1\n",
      "01-03-2023 0:00.1\n",
      "01-04-2023 0:00.1\n",
      "01-05-2023 0:00.1\n",
      "01-06-2023 0:00.1\n",
      "01-07-2023 0:00.1\n",
      "01-08-2023 0:00.1\n",
      "01-09-2023 0:00.1\n",
      "01-10-2023 0:00.1\n",
      "01-11-2023 0:00.1\n",
      "01-12-2023 0:00.1\n",
      "01-01-2024 0:00.1\n",
      "01-02-2024 0:00.1\n",
      "01-03-2024 0:00.1\n",
      "01-04-2024 0:00.1\n",
      "01-05-2024 0:00.1\n",
      "01-06-2024 0:00.1\n",
      "01-07-2024 0:00.1\n",
      "SI/SO\n"
     ]
    }
   ],
   "source": [
    "columnas = df_sell_out.columns.tolist()\n",
    "for columna in columnas:\n",
    "    print(columna)"
   ]
  },
  {
   "cell_type": "code",
   "execution_count": 44,
   "metadata": {},
   "outputs": [],
   "source": [
    "cols = df_sell_out.columns.tolist()\n",
    "cols.append(cols.pop(cols.index('Ultimo Eslabón')))\n",
    "cols.append(cols.pop(cols.index('Canal 3')))\n",
    "df_sell_out = df_sell_out[cols]\n",
    "df_sell_out = df_sell_out.loc[:, 'Suma Outliers':]\n",
    "cols = df_sell_out.columns.tolist()\n",
    "cols.insert(0, cols.pop(cols.index('Ultimo Eslabón')))\n",
    "cols.insert(1, cols.pop(cols.index('Canal 3')))\n",
    "df_sell_out = df_sell_out[cols]\n",
    "df_sell_out = df_sell_out.drop(columns=['Suma Outliers'])"
   ]
  },
  {
   "cell_type": "code",
   "execution_count": 45,
   "metadata": {},
   "outputs": [
    {
     "data": {
      "text/plain": [
       "['01-02-2024 0:00.1',\n",
       " '01-03-2024 0:00.1',\n",
       " '01-04-2024 0:00.1',\n",
       " '01-05-2024 0:00.1',\n",
       " '01-06-2024 0:00.1',\n",
       " '01-07-2024 0:00.1']"
      ]
     },
     "execution_count": 45,
     "metadata": {},
     "output_type": "execute_result"
    }
   ],
   "source": [
    "columnas = df_sell_out.columns.tolist()\n",
    "columnas[75:81]"
   ]
  },
  {
   "cell_type": "code",
   "execution_count": 46,
   "metadata": {},
   "outputs": [],
   "source": [
    "cols = df_sell_in.columns.tolist()\n",
    "cols.append(cols.pop(cols.index('Ultimo Eslabón')))\n",
    "cols.append(cols.pop(cols.index('Canal 3')))\n",
    "df_sell_in = df_sell_in[cols]\n",
    "df_sell_in = df_sell_in.loc[:, 'Suma Outliers':]\n",
    "cols = df_sell_in.columns.tolist()\n",
    "cols.insert(0, cols.pop(cols.index('Ultimo Eslabón')))\n",
    "cols.insert(1, cols.pop(cols.index('Canal 3')))\n",
    "df_sell_in = df_sell_in[cols]\n",
    "df_sell_in = df_sell_in.drop(columns=['Suma Outliers'])"
   ]
  },
  {
   "cell_type": "code",
   "execution_count": 47,
   "metadata": {},
   "outputs": [
    {
     "data": {
      "text/plain": [
       "['01-02-2024.1', '01-03-2024.1', '01-04-2024.1', '01-05-2024.1']"
      ]
     },
     "execution_count": 47,
     "metadata": {},
     "output_type": "execute_result"
    }
   ],
   "source": [
    "columnas = df_sell_in.columns.tolist()\n",
    "columnas[75:79]"
   ]
  },
  {
   "cell_type": "markdown",
   "metadata": {},
   "source": [
    "Juntando SI y SO (pd.concat)"
   ]
  },
  {
   "cell_type": "code",
   "execution_count": 48,
   "metadata": {},
   "outputs": [
    {
     "data": {
      "text/plain": [
       "741876.166668586"
      ]
     },
     "execution_count": 48,
     "metadata": {},
     "output_type": "execute_result"
    }
   ],
   "source": [
    "df_sell_in.columns = df_sell_out.columns\n",
    "df_concat = pd.concat([df_sell_in, df_sell_out])\n",
    "suma_concat = df_concat.iloc[:, -2].sum()\n",
    "suma_concat"
   ]
  },
  {
   "cell_type": "code",
   "execution_count": 49,
   "metadata": {},
   "outputs": [],
   "source": [
    "df_concat['ALERTA'] = 'Fin_Correc_Outliers'\n"
   ]
  },
  {
   "cell_type": "code",
   "execution_count": 50,
   "metadata": {},
   "outputs": [
    {
     "data": {
      "text/plain": [
       "(61418, 83)"
      ]
     },
     "execution_count": 50,
     "metadata": {},
     "output_type": "execute_result"
    }
   ],
   "source": [
    "df_concat.shape"
   ]
  },
  {
   "cell_type": "code",
   "execution_count": 51,
   "metadata": {},
   "outputs": [
    {
     "data": {
      "text/plain": [
       "(61418, 83)"
      ]
     },
     "execution_count": 51,
     "metadata": {},
     "output_type": "execute_result"
    }
   ],
   "source": [
    "df_concat.shape"
   ]
  },
  {
   "cell_type": "code",
   "execution_count": 52,
   "metadata": {},
   "outputs": [],
   "source": [
    "usuario = os.getlogin()\n",
    "ruta = r\"C:\\Users\\etorres.DERCOPARTS\\DERCO CHILE REPUESTOS SpA\\Planificación y abastecimiento - Documentos\\Planificación y Compras Ventas\\Stock Historico Query2.xlsx\"\n",
    "df_stock = pd.read_excel(ruta, sheet_name='Stock Query')"
   ]
  },
  {
   "cell_type": "code",
   "execution_count": 53,
   "metadata": {},
   "outputs": [
    {
     "data": {
      "text/plain": [
       "<DatetimeArray>\n",
       "['2022-03-01 00:00:00', '2022-04-01 00:00:00', '2022-05-01 00:00:00',\n",
       " '2022-06-01 00:00:00', '2022-07-01 00:00:00', '2022-08-01 00:00:00',\n",
       " '2022-09-01 00:00:00', '2022-10-01 00:00:00', '2022-11-01 00:00:00',\n",
       " '2022-12-01 00:00:00', '2023-01-01 00:00:00', '2023-02-01 00:00:00',\n",
       " '2023-03-01 00:00:00', '2023-04-01 00:00:00', '2023-05-01 00:00:00',\n",
       " '2023-06-01 00:00:00', '2023-07-01 00:00:00', '2023-08-01 00:00:00',\n",
       " '2023-09-01 00:00:00', '2023-10-01 00:00:00', '2023-11-01 00:00:00',\n",
       " '2023-12-01 00:00:00', '2024-01-01 00:00:00', '2024-02-01 00:00:00',\n",
       " '2024-03-01 00:00:00', '2024-04-01 00:00:00', '2024-05-01 00:00:00',\n",
       " '2024-06-01 00:00:00', '2024-07-01 00:00:00']\n",
       "Length: 29, dtype: datetime64[ns]"
      ]
     },
     "execution_count": 53,
     "metadata": {},
     "output_type": "execute_result"
    }
   ],
   "source": [
    "x=df_stock['Fecha'].unique()\n",
    "x"
   ]
  },
  {
   "cell_type": "markdown",
   "metadata": {},
   "source": [
    "SAKANDO EL MES ACTUAL DE STOCK PARA CORREGIR"
   ]
  },
  {
   "cell_type": "code",
   "execution_count": 54,
   "metadata": {},
   "outputs": [],
   "source": [
    "# # Filtra el DataFrame para excluir las filas de julio de 2024\n",
    "# df_stock_filtrado = df_stock[~((df_stock['Fecha'].dt.month == 7) & (df_stock['Fecha'].dt.year == 2024))]\n",
    "# df_stock = df_stock_filtrado\n",
    "# df_stock"
   ]
  },
  {
   "cell_type": "code",
   "execution_count": 55,
   "metadata": {},
   "outputs": [
    {
     "data": {
      "text/plain": [
       "Ultimo Eslabón            object\n",
       "Fecha             datetime64[ns]\n",
       "Stock                    float64\n",
       "dtype: object"
      ]
     },
     "execution_count": 55,
     "metadata": {},
     "output_type": "execute_result"
    }
   ],
   "source": [
    "df_stock['Ultimo Eslabón']=df_stock['Ultimo Eslabón'].astype(str)\n",
    "df_stock.dtypes"
   ]
  },
  {
   "cell_type": "code",
   "execution_count": 56,
   "metadata": {},
   "outputs": [
    {
     "data": {
      "text/plain": [
       "149990058.64999998"
      ]
     },
     "execution_count": 56,
     "metadata": {},
     "output_type": "execute_result"
    }
   ],
   "source": [
    "sumastock=df_stock['Stock'].sum()\n",
    "sumastock"
   ]
  },
  {
   "cell_type": "code",
   "execution_count": 57,
   "metadata": {},
   "outputs": [
    {
     "data": {
      "text/plain": [
       "Index(['Ultimo Eslabón', 'Fecha', 'Stock'], dtype='object')"
      ]
     },
     "execution_count": 57,
     "metadata": {},
     "output_type": "execute_result"
    }
   ],
   "source": [
    "df_stock.columns"
   ]
  },
  {
   "cell_type": "code",
   "execution_count": 58,
   "metadata": {},
   "outputs": [
    {
     "data": {
      "text/html": [
       "<div>\n",
       "<style scoped>\n",
       "    .dataframe tbody tr th:only-of-type {\n",
       "        vertical-align: middle;\n",
       "    }\n",
       "\n",
       "    .dataframe tbody tr th {\n",
       "        vertical-align: top;\n",
       "    }\n",
       "\n",
       "    .dataframe thead th {\n",
       "        text-align: right;\n",
       "    }\n",
       "</style>\n",
       "<table border=\"1\" class=\"dataframe\">\n",
       "  <thead>\n",
       "    <tr style=\"text-align: right;\">\n",
       "      <th></th>\n",
       "      <th>Ultimo Eslabón</th>\n",
       "      <th>Canal 3</th>\n",
       "      <th>01-01-2018 0:00.1</th>\n",
       "      <th>01-02-2018 0:00.1</th>\n",
       "      <th>01-03-2018 0:00.1</th>\n",
       "      <th>01-04-2018 0:00.1</th>\n",
       "      <th>01-05-2018 0:00.1</th>\n",
       "      <th>01-06-2018 0:00.1</th>\n",
       "      <th>01-07-2018 0:00.1</th>\n",
       "      <th>01-08-2018 0:00.1</th>\n",
       "      <th>...</th>\n",
       "      <th>01-12-2023 0:00.1</th>\n",
       "      <th>01-01-2024 0:00.1</th>\n",
       "      <th>01-02-2024 0:00.1</th>\n",
       "      <th>01-03-2024 0:00.1</th>\n",
       "      <th>01-04-2024 0:00.1</th>\n",
       "      <th>01-05-2024 0:00.1</th>\n",
       "      <th>01-06-2024 0:00.1</th>\n",
       "      <th>01-07-2024 0:00.1</th>\n",
       "      <th>SI/SO</th>\n",
       "      <th>ALERTA</th>\n",
       "    </tr>\n",
       "  </thead>\n",
       "  <tbody>\n",
       "    <tr>\n",
       "      <th>0</th>\n",
       "      <td>1000078</td>\n",
       "      <td>CL MAYORISTA</td>\n",
       "      <td>0.0</td>\n",
       "      <td>0.0</td>\n",
       "      <td>0.0</td>\n",
       "      <td>0.0</td>\n",
       "      <td>0.0</td>\n",
       "      <td>0</td>\n",
       "      <td>0</td>\n",
       "      <td>0</td>\n",
       "      <td>...</td>\n",
       "      <td>0.0</td>\n",
       "      <td>0.0</td>\n",
       "      <td>0.0</td>\n",
       "      <td>0.0</td>\n",
       "      <td>0.0</td>\n",
       "      <td>0.0</td>\n",
       "      <td>0.0</td>\n",
       "      <td>0.0</td>\n",
       "      <td>SI</td>\n",
       "      <td>Fin_Correc_Outliers</td>\n",
       "    </tr>\n",
       "  </tbody>\n",
       "</table>\n",
       "<p>1 rows × 83 columns</p>\n",
       "</div>"
      ],
      "text/plain": [
       "  Ultimo Eslabón       Canal 3  01-01-2018 0:00.1  01-02-2018 0:00.1  \\\n",
       "0        1000078  CL MAYORISTA                0.0                0.0   \n",
       "\n",
       "   01-03-2018 0:00.1  01-04-2018 0:00.1  01-05-2018 0:00.1  01-06-2018 0:00.1  \\\n",
       "0                0.0                0.0                0.0                  0   \n",
       "\n",
       "   01-07-2018 0:00.1  01-08-2018 0:00.1  ...  01-12-2023 0:00.1  \\\n",
       "0                  0                  0  ...                0.0   \n",
       "\n",
       "   01-01-2024 0:00.1  01-02-2024 0:00.1  01-03-2024 0:00.1  01-04-2024 0:00.1  \\\n",
       "0                0.0                0.0                0.0                0.0   \n",
       "\n",
       "   01-05-2024 0:00.1  01-06-2024 0:00.1  01-07-2024 0:00.1  SI/SO  \\\n",
       "0                0.0                0.0                0.0     SI   \n",
       "\n",
       "                ALERTA  \n",
       "0  Fin_Correc_Outliers  \n",
       "\n",
       "[1 rows x 83 columns]"
      ]
     },
     "execution_count": 58,
     "metadata": {},
     "output_type": "execute_result"
    }
   ],
   "source": [
    "df_siso = df_concat \n",
    "df_siso['Ultimo Eslabón']=df_siso['Ultimo Eslabón'].astype(str)\n",
    "df_siso.head(1)"
   ]
  },
  {
   "cell_type": "markdown",
   "metadata": {},
   "source": [
    "Agregar columna Total suma 18 meses anterior a columna SI/SO y ALERTA."
   ]
  },
  {
   "cell_type": "code",
   "execution_count": 59,
   "metadata": {},
   "outputs": [],
   "source": [
    "columnas_sumar = df_siso.columns[-20:-2]\n",
    "df_siso['Total'] = df_siso[columnas_sumar].sum(axis=1)"
   ]
  },
  {
   "cell_type": "code",
   "execution_count": 60,
   "metadata": {},
   "outputs": [
    {
     "data": {
      "text/plain": [
       "Index(['01-02-2023 0:00.1', '01-03-2023 0:00.1', '01-04-2023 0:00.1',\n",
       "       '01-05-2023 0:00.1', '01-06-2023 0:00.1', '01-07-2023 0:00.1',\n",
       "       '01-08-2023 0:00.1', '01-09-2023 0:00.1', '01-10-2023 0:00.1',\n",
       "       '01-11-2023 0:00.1', '01-12-2023 0:00.1', '01-01-2024 0:00.1',\n",
       "       '01-02-2024 0:00.1', '01-03-2024 0:00.1', '01-04-2024 0:00.1',\n",
       "       '01-05-2024 0:00.1', '01-06-2024 0:00.1', '01-07-2024 0:00.1'],\n",
       "      dtype='object')"
      ]
     },
     "execution_count": 60,
     "metadata": {},
     "output_type": "execute_result"
    }
   ],
   "source": [
    "columnas_sumar"
   ]
  },
  {
   "cell_type": "markdown",
   "metadata": {},
   "source": [
    "Crea \"Venta Sku\" la cual lleva el Total de Venta del Ultimo Eslabón. "
   ]
  },
  {
   "cell_type": "code",
   "execution_count": 61,
   "metadata": {},
   "outputs": [],
   "source": [
    "df_siso['Venta Sku'] = df_siso.groupby('Ultimo Eslabón')['Total'].transform('sum')"
   ]
  },
  {
   "cell_type": "markdown",
   "metadata": {},
   "source": [
    "agrega columna \"%\" la cual trae columna \"Total\" dividida en columna \"Venta Sku\" si el resultado es distinto de 0, deja ese valor sino 1."
   ]
  },
  {
   "cell_type": "code",
   "execution_count": 62,
   "metadata": {},
   "outputs": [],
   "source": [
    "df_siso['%'] = df_siso.apply(lambda row: row['Total'] / row['Venta Sku'] if row['Venta Sku'] != 0 else 1, axis=1)"
   ]
  },
  {
   "cell_type": "code",
   "execution_count": 63,
   "metadata": {},
   "outputs": [
    {
     "data": {
      "text/html": [
       "<div>\n",
       "<style scoped>\n",
       "    .dataframe tbody tr th:only-of-type {\n",
       "        vertical-align: middle;\n",
       "    }\n",
       "\n",
       "    .dataframe tbody tr th {\n",
       "        vertical-align: top;\n",
       "    }\n",
       "\n",
       "    .dataframe thead th {\n",
       "        text-align: right;\n",
       "    }\n",
       "</style>\n",
       "<table border=\"1\" class=\"dataframe\">\n",
       "  <thead>\n",
       "    <tr style=\"text-align: right;\">\n",
       "      <th></th>\n",
       "      <th>Ultimo Eslabón</th>\n",
       "      <th>Fecha</th>\n",
       "      <th>Stock</th>\n",
       "    </tr>\n",
       "  </thead>\n",
       "  <tbody>\n",
       "    <tr>\n",
       "      <th>0</th>\n",
       "      <td>1114922</td>\n",
       "      <td>2022-03-01</td>\n",
       "      <td>1.0</td>\n",
       "    </tr>\n",
       "    <tr>\n",
       "      <th>1</th>\n",
       "      <td>152949</td>\n",
       "      <td>2022-03-01</td>\n",
       "      <td>44.0</td>\n",
       "    </tr>\n",
       "    <tr>\n",
       "      <th>2</th>\n",
       "      <td>121475</td>\n",
       "      <td>2022-03-01</td>\n",
       "      <td>211.0</td>\n",
       "    </tr>\n",
       "    <tr>\n",
       "      <th>3</th>\n",
       "      <td>1046392</td>\n",
       "      <td>2022-03-01</td>\n",
       "      <td>12.0</td>\n",
       "    </tr>\n",
       "    <tr>\n",
       "      <th>4</th>\n",
       "      <td>152951</td>\n",
       "      <td>2022-03-01</td>\n",
       "      <td>13.0</td>\n",
       "    </tr>\n",
       "  </tbody>\n",
       "</table>\n",
       "</div>"
      ],
      "text/plain": [
       "  Ultimo Eslabón      Fecha  Stock\n",
       "0        1114922 2022-03-01    1.0\n",
       "1         152949 2022-03-01   44.0\n",
       "2         121475 2022-03-01  211.0\n",
       "3        1046392 2022-03-01   12.0\n",
       "4         152951 2022-03-01   13.0"
      ]
     },
     "execution_count": 63,
     "metadata": {},
     "output_type": "execute_result"
    }
   ],
   "source": [
    "df_stock.head()"
   ]
  },
  {
   "cell_type": "code",
   "execution_count": 64,
   "metadata": {},
   "outputs": [
    {
     "data": {
      "text/plain": [
       "Ultimo Eslabón            object\n",
       "Fecha             datetime64[ns]\n",
       "Stock                    float64\n",
       "dtype: object"
      ]
     },
     "execution_count": 64,
     "metadata": {},
     "output_type": "execute_result"
    }
   ],
   "source": [
    "df_stock.dtypes"
   ]
  },
  {
   "cell_type": "code",
   "execution_count": 65,
   "metadata": {},
   "outputs": [
    {
     "data": {
      "text/plain": [
       "3388869.883333334"
      ]
     },
     "execution_count": 65,
     "metadata": {},
     "output_type": "execute_result"
    }
   ],
   "source": [
    "suma_stock = df_stock[df_stock['Fecha'] == '2024-07-01']['Stock'].sum()\n",
    "suma_stock\n"
   ]
  },
  {
   "cell_type": "markdown",
   "metadata": {},
   "source": [
    "Eliminar este bloque de borrar la fecha de mayo del stock, es solo para hacer el ejemplo de la corrección Mayo Ciclo Junio, donde solo se debería tener el stock de Abril."
   ]
  },
  {
   "cell_type": "code",
   "execution_count": 66,
   "metadata": {},
   "outputs": [],
   "source": [
    "# df_stock = df_stock[~df_stock['Fecha'].astype(str).str.contains('2024-05-01')]"
   ]
  },
  {
   "cell_type": "code",
   "execution_count": 67,
   "metadata": {},
   "outputs": [],
   "source": [
    "df_stock['Fecha'] = pd.to_datetime(df_stock['Fecha'])\n",
    "ultimas_24_fechas = df_stock['Fecha'].drop_duplicates().nlargest(24)\n",
    "df_stock = df_stock[df_stock['Fecha'].isin(ultimas_24_fechas)]\n"
   ]
  },
  {
   "cell_type": "code",
   "execution_count": 68,
   "metadata": {},
   "outputs": [
    {
     "name": "stdout",
     "output_type": "stream",
     "text": [
      "Cantidad de valores únicos en la columna Fecha: 24\n",
      "Valores únicos de las últimas 24 fechas: [Timestamp('2024-07-01 00:00:00'), Timestamp('2024-06-01 00:00:00'), Timestamp('2024-05-01 00:00:00'), Timestamp('2024-04-01 00:00:00'), Timestamp('2024-03-01 00:00:00'), Timestamp('2024-02-01 00:00:00'), Timestamp('2024-01-01 00:00:00'), Timestamp('2023-12-01 00:00:00'), Timestamp('2023-11-01 00:00:00'), Timestamp('2023-10-01 00:00:00'), Timestamp('2023-09-01 00:00:00'), Timestamp('2023-08-01 00:00:00'), Timestamp('2023-07-01 00:00:00'), Timestamp('2023-06-01 00:00:00'), Timestamp('2023-05-01 00:00:00'), Timestamp('2023-04-01 00:00:00'), Timestamp('2023-03-01 00:00:00'), Timestamp('2023-02-01 00:00:00'), Timestamp('2023-01-01 00:00:00'), Timestamp('2022-12-01 00:00:00'), Timestamp('2022-11-01 00:00:00'), Timestamp('2022-10-01 00:00:00'), Timestamp('2022-09-01 00:00:00'), Timestamp('2022-08-01 00:00:00')]\n"
     ]
    }
   ],
   "source": [
    "unique_dates_count = df_stock['Fecha'].nunique()\n",
    "print(\"Cantidad de valores únicos en la columna Fecha:\", unique_dates_count)\n",
    "valores_unicos = ultimas_24_fechas.sort_values(ascending=False).tolist()\n",
    "print(\"Valores únicos de las últimas 24 fechas:\", valores_unicos)"
   ]
  },
  {
   "cell_type": "markdown",
   "metadata": {},
   "source": [
    "Cruzar Stock y multiplicar por el \"%\""
   ]
  },
  {
   "cell_type": "code",
   "execution_count": 69,
   "metadata": {},
   "outputs": [],
   "source": [
    "df_stock_pivot = df_stock.pivot(index='Ultimo Eslabón', columns='Fecha', values='Stock').reset_index()\n",
    "df_stock_pivot.columns = df_stock_pivot.columns.map(str)\n",
    "df_stock_pivot.columns = ['Ultimo Eslabón'] + [str(col)[:10] + '_stock' for col in df_stock_pivot.columns[1:]]\n",
    "df_siso_combined = df_siso.merge(df_stock_pivot, on='Ultimo Eslabón', how='left')\n",
    "df_siso_combined = df_siso_combined.fillna(0)\n",
    "\n",
    "for column in df_stock_pivot.columns[1:]:\n",
    "    df_siso_combined[column] = df_siso_combined[column] * df_siso_combined['%']\n"
   ]
  },
  {
   "cell_type": "code",
   "execution_count": 70,
   "metadata": {},
   "outputs": [
    {
     "name": "stdout",
     "output_type": "stream",
     "text": [
      "Ultimo Eslabón\n",
      "Canal 3\n",
      "01-01-2018 0:00.1\n",
      "01-02-2018 0:00.1\n",
      "01-03-2018 0:00.1\n",
      "01-04-2018 0:00.1\n",
      "01-05-2018 0:00.1\n",
      "01-06-2018 0:00.1\n",
      "01-07-2018 0:00.1\n",
      "01-08-2018 0:00.1\n",
      "01-09-2018 0:00.1\n",
      "01-10-2018 0:00.1\n",
      "01-11-2018 0:00.1\n",
      "01-12-2018 0:00.1\n",
      "01-01-2019 0:00.1\n",
      "01-02-2019 0:00.1\n",
      "01-03-2019 0:00.1\n",
      "01-04-2019 0:00.1\n",
      "01-05-2019 0:00.1\n",
      "01-06-2019 0:00.1\n",
      "01-07-2019 0:00.1\n",
      "01-08-2019 0:00.1\n",
      "01-09-2019 0:00.1\n",
      "01-10-2019 0:00.1\n",
      "01-11-2019 0:00.1\n",
      "01-12-2019 0:00.1\n",
      "01-01-2020 0:00.1\n",
      "01-02-2020 0:00.1\n",
      "01-03-2020 0:00.1\n",
      "01-04-2020 0:00.1\n",
      "01-05-2020 0:00.1\n",
      "01-06-2020 0:00.1\n",
      "01-07-2020 0:00.1\n",
      "01-08-2020 0:00.1\n",
      "01-09-2020 0:00.1\n",
      "01-10-2020 0:00.1\n",
      "01-11-2020 0:00.1\n",
      "01-12-2020 0:00.1\n",
      "01-01-2021 0:00.1\n",
      "01-02-2021 0:00.1\n",
      "01-03-2021 0:00.1\n",
      "01-04-2021 0:00.1\n",
      "01-05-2021 0:00.1\n",
      "01-06-2021 0:00.1\n",
      "01-07-2021 0:00.1\n",
      "01-08-2021 0:00.1\n",
      "01-09-2021 0:00.1\n",
      "01-10-2021 0:00.1\n",
      "01-11-2021 0:00.1\n",
      "01-12-2021 0:00.1\n",
      "01-01-2022 0:00.1\n",
      "01-02-2022 0:00.1\n",
      "01-03-2022 0:00.1\n",
      "01-04-2022 0:00.1\n",
      "01-05-2022 0:00.1\n",
      "01-06-2022 0:00.1\n",
      "01-07-2022 0:00.1\n",
      "01-08-2022 0:00.1\n",
      "01-09-2022 0:00.1\n",
      "01-10-2022 0:00.1\n",
      "01-11-2022 0:00.1\n",
      "01-12-2022 0:00.1\n",
      "01-01-2023 0:00.1\n",
      "01-02-2023 0:00.1\n",
      "01-03-2023 0:00.1\n",
      "01-04-2023 0:00.1\n",
      "01-05-2023 0:00.1\n",
      "01-06-2023 0:00.1\n",
      "01-07-2023 0:00.1\n",
      "01-08-2023 0:00.1\n",
      "01-09-2023 0:00.1\n",
      "01-10-2023 0:00.1\n",
      "01-11-2023 0:00.1\n",
      "01-12-2023 0:00.1\n",
      "01-01-2024 0:00.1\n",
      "01-02-2024 0:00.1\n",
      "01-03-2024 0:00.1\n",
      "01-04-2024 0:00.1\n",
      "01-05-2024 0:00.1\n",
      "01-06-2024 0:00.1\n",
      "01-07-2024 0:00.1\n",
      "SI/SO\n",
      "ALERTA\n",
      "Total\n",
      "Venta Sku\n",
      "%\n",
      "2022-08-01_stock\n",
      "2022-09-01_stock\n",
      "2022-10-01_stock\n",
      "2022-11-01_stock\n",
      "2022-12-01_stock\n",
      "2023-01-01_stock\n",
      "2023-02-01_stock\n",
      "2023-03-01_stock\n",
      "2023-04-01_stock\n",
      "2023-05-01_stock\n",
      "2023-06-01_stock\n",
      "2023-07-01_stock\n",
      "2023-08-01_stock\n",
      "2023-09-01_stock\n",
      "2023-10-01_stock\n",
      "2023-11-01_stock\n",
      "2023-12-01_stock\n",
      "2024-01-01_stock\n",
      "2024-02-01_stock\n",
      "2024-03-01_stock\n",
      "2024-04-01_stock\n",
      "2024-05-01_stock\n",
      "2024-06-01_stock\n",
      "2024-07-01_stock\n"
     ]
    }
   ],
   "source": [
    "columnas = df_siso_combined.columns.tolist()\n",
    "for columna in columnas:\n",
    "    print(columna)"
   ]
  },
  {
   "cell_type": "code",
   "execution_count": 71,
   "metadata": {},
   "outputs": [],
   "source": [
    "col_start = df_siso_combined.columns.get_loc('Canal 3') + 1\n",
    "col_end = df_siso_combined.columns.get_loc('SI/SO')\n",
    "num_columns = col_end - col_start\n",
    "\n",
    "df_siso_combined['ALERTA 2'] = 'Fin_Cruce_Stock'\n",
    "\n",
    "cols_to_copy = df_siso_combined.columns[col_start:col_end]\n",
    "new_column_names = [col[:10] + '_Correc_Outliers' for col in cols_to_copy]\n",
    "new_columns = df_siso_combined[cols_to_copy].copy()\n",
    "new_columns.columns = new_column_names\n",
    "\n",
    "df_siso_combined = pd.concat([df_siso_combined, new_columns], axis=1)\n"
   ]
  },
  {
   "cell_type": "code",
   "execution_count": 72,
   "metadata": {},
   "outputs": [
    {
     "data": {
      "text/plain": [
       "['01-01-2018_Correc_Outliers',\n",
       " '01-02-2018_Correc_Outliers',\n",
       " '01-03-2018_Correc_Outliers',\n",
       " '01-04-2018_Correc_Outliers',\n",
       " '01-05-2018_Correc_Outliers',\n",
       " '01-06-2018_Correc_Outliers',\n",
       " '01-07-2018_Correc_Outliers',\n",
       " '01-08-2018_Correc_Outliers',\n",
       " '01-09-2018_Correc_Outliers',\n",
       " '01-10-2018_Correc_Outliers',\n",
       " '01-11-2018_Correc_Outliers',\n",
       " '01-12-2018_Correc_Outliers',\n",
       " '01-01-2019_Correc_Outliers',\n",
       " '01-02-2019_Correc_Outliers',\n",
       " '01-03-2019_Correc_Outliers',\n",
       " '01-04-2019_Correc_Outliers',\n",
       " '01-05-2019_Correc_Outliers',\n",
       " '01-06-2019_Correc_Outliers',\n",
       " '01-07-2019_Correc_Outliers',\n",
       " '01-08-2019_Correc_Outliers',\n",
       " '01-09-2019_Correc_Outliers',\n",
       " '01-10-2019_Correc_Outliers',\n",
       " '01-11-2019_Correc_Outliers',\n",
       " '01-12-2019_Correc_Outliers',\n",
       " '01-01-2020_Correc_Outliers',\n",
       " '01-02-2020_Correc_Outliers',\n",
       " '01-03-2020_Correc_Outliers',\n",
       " '01-04-2020_Correc_Outliers',\n",
       " '01-05-2020_Correc_Outliers',\n",
       " '01-06-2020_Correc_Outliers',\n",
       " '01-07-2020_Correc_Outliers',\n",
       " '01-08-2020_Correc_Outliers',\n",
       " '01-09-2020_Correc_Outliers',\n",
       " '01-10-2020_Correc_Outliers',\n",
       " '01-11-2020_Correc_Outliers',\n",
       " '01-12-2020_Correc_Outliers',\n",
       " '01-01-2021_Correc_Outliers',\n",
       " '01-02-2021_Correc_Outliers',\n",
       " '01-03-2021_Correc_Outliers',\n",
       " '01-04-2021_Correc_Outliers',\n",
       " '01-05-2021_Correc_Outliers',\n",
       " '01-06-2021_Correc_Outliers',\n",
       " '01-07-2021_Correc_Outliers',\n",
       " '01-08-2021_Correc_Outliers',\n",
       " '01-09-2021_Correc_Outliers',\n",
       " '01-10-2021_Correc_Outliers',\n",
       " '01-11-2021_Correc_Outliers',\n",
       " '01-12-2021_Correc_Outliers',\n",
       " '01-01-2022_Correc_Outliers',\n",
       " '01-02-2022_Correc_Outliers',\n",
       " '01-03-2022_Correc_Outliers',\n",
       " '01-04-2022_Correc_Outliers',\n",
       " '01-05-2022_Correc_Outliers',\n",
       " '01-06-2022_Correc_Outliers',\n",
       " '01-07-2022_Correc_Outliers',\n",
       " '01-08-2022_Correc_Outliers',\n",
       " '01-09-2022_Correc_Outliers',\n",
       " '01-10-2022_Correc_Outliers',\n",
       " '01-11-2022_Correc_Outliers',\n",
       " '01-12-2022_Correc_Outliers',\n",
       " '01-01-2023_Correc_Outliers',\n",
       " '01-02-2023_Correc_Outliers',\n",
       " '01-03-2023_Correc_Outliers',\n",
       " '01-04-2023_Correc_Outliers',\n",
       " '01-05-2023_Correc_Outliers',\n",
       " '01-06-2023_Correc_Outliers',\n",
       " '01-07-2023_Correc_Outliers',\n",
       " '01-08-2023_Correc_Outliers',\n",
       " '01-09-2023_Correc_Outliers',\n",
       " '01-10-2023_Correc_Outliers',\n",
       " '01-11-2023_Correc_Outliers',\n",
       " '01-12-2023_Correc_Outliers',\n",
       " '01-01-2024_Correc_Outliers',\n",
       " '01-02-2024_Correc_Outliers',\n",
       " '01-03-2024_Correc_Outliers',\n",
       " '01-04-2024_Correc_Outliers',\n",
       " '01-05-2024_Correc_Outliers',\n",
       " '01-06-2024_Correc_Outliers',\n",
       " '01-07-2024_Correc_Outliers']"
      ]
     },
     "execution_count": 72,
     "metadata": {},
     "output_type": "execute_result"
    }
   ],
   "source": [
    "new_column_names"
   ]
  },
  {
   "cell_type": "code",
   "execution_count": 73,
   "metadata": {},
   "outputs": [
    {
     "name": "stdout",
     "output_type": "stream",
     "text": [
      "Columnas utilizadas para el promedio: Index(['01-02-2023 0:00.1', '01-03-2023 0:00.1', '01-04-2023 0:00.1',\n",
      "       '01-05-2023 0:00.1', '01-06-2023 0:00.1', '01-07-2023 0:00.1',\n",
      "       '01-08-2023 0:00.1', '01-09-2023 0:00.1', '01-10-2023 0:00.1',\n",
      "       '01-11-2023 0:00.1', '01-12-2023 0:00.1', '01-01-2024 0:00.1',\n",
      "       '01-02-2024 0:00.1', '01-03-2024 0:00.1', '01-04-2024 0:00.1',\n",
      "       '01-05-2024 0:00.1', '01-06-2024 0:00.1', '01-07-2024 0:00.1'],\n",
      "      dtype='object')\n"
     ]
    }
   ],
   "source": [
    "# Añadir la columna 'ALERTA 3' con el dato 'INI_CORRECCIÓN_DISPO'\n",
    "df_siso_combined['ALERTA 3'] = 'INI_CORRECCIÓN_DISPO'\n",
    "\n",
    "# Seleccionar las columnas que terminan en _stock y _Correc_Outliers\n",
    "stock_cols = [col for col in df_siso_combined.columns if col.endswith('_stock')]\n",
    "correc_outliers_cols = [col for col in df_siso_combined.columns if col.endswith('_Correc_Outliers')]\n",
    "\n",
    "# Determinar el rango de columnas para el cálculo del promedio (18 columnas antes de 'SI/SO')\n",
    "index_siso = df_siso_combined.columns.get_loc('SI/SO')\n",
    "cols_promedio = df_siso_combined.columns[index_siso-18:index_siso]\n",
    "\n",
    "# Calcular el promedio una sola vez para todas las filas\n",
    "promedios = df_siso_combined[cols_promedio].mean(axis=1)\n",
    "\n",
    "# Mostrar las columnas utilizadas para el promedio\n",
    "print(\"Columnas utilizadas para el promedio:\", cols_promedio)\n"
   ]
  },
  {
   "cell_type": "code",
   "execution_count": 74,
   "metadata": {},
   "outputs": [],
   "source": [
    "# Iterar sobre cada par de columnas _stock y _Correc_Outliers\n",
    "result_cols = []\n",
    "for stock_col in stock_cols:\n",
    "    # Encontrar la columna correspondiente de _Correc_Outliers\n",
    "    correc_outliers_col = stock_col.replace('_stock', '_Correc_Outliers')\n",
    "    \n",
    "    if correc_outliers_col in correc_outliers_cols:\n",
    "        # Crear una nueva columna con el resultado de la fórmula\n",
    "        nueva_columna = stock_col.replace('_stock', '_result')\n",
    "        result_cols.append(nueva_columna)\n",
    "        df_siso_combined[nueva_columna] = df_siso_combined.apply(\n",
    "            lambda row: promedios[row.name] if row[stock_col] < promedios[row.name] and row[correc_outliers_col] < promedios[row.name] else row[correc_outliers_col],\n",
    "            axis=1\n",
    "        )"
   ]
  },
  {
   "cell_type": "code",
   "execution_count": 75,
   "metadata": {},
   "outputs": [
    {
     "data": {
      "text/plain": [
       "Index(['Ultimo Eslabón', 'Canal 3', '01-01-2018 0:00.1', '01-02-2018 0:00.1',\n",
       "       '01-03-2018 0:00.1', '01-04-2018 0:00.1', '01-05-2018 0:00.1',\n",
       "       '01-06-2018 0:00.1', '01-07-2018 0:00.1', '01-08-2018 0:00.1',\n",
       "       ...\n",
       "       '01-11-2023_Correc_Outliers', '01-12-2023_Correc_Outliers',\n",
       "       '01-01-2024_Correc_Outliers', '01-02-2024_Correc_Outliers',\n",
       "       '01-03-2024_Correc_Outliers', '01-04-2024_Correc_Outliers',\n",
       "       '01-05-2024_Correc_Outliers', '01-06-2024_Correc_Outliers',\n",
       "       '01-07-2024_Correc_Outliers', 'ALERTA 3'],\n",
       "      dtype='object', length=191)"
      ]
     },
     "execution_count": 75,
     "metadata": {},
     "output_type": "execute_result"
    }
   ],
   "source": [
    "df_siso_combined.columns"
   ]
  },
  {
   "cell_type": "code",
   "execution_count": 76,
   "metadata": {},
   "outputs": [
    {
     "name": "stdout",
     "output_type": "stream",
     "text": [
      "Columnas creadas con _result: ['2022-08-01_result', '2022-09-01_result', '2022-10-01_result', '2022-11-01_result', '2022-12-01_result', '2023-01-01_result', '2023-02-01_result', '2023-03-01_result', '2023-04-01_result', '2023-05-01_result', '2023-06-01_result', '2023-07-01_result', '2023-08-01_result', '2023-09-01_result', '2023-10-01_result', '2023-11-01_result', '2023-12-01_result', '2024-01-01_result', '2024-02-01_result', '2024-03-01_result', '2024-04-01_result', '2024-05-01_result', '2024-06-01_result', '2024-07-01_result']\n",
      "Columnas eliminadas: ['01-08-2022_Correc_Outliers', '01-09-2022_Correc_Outliers', '01-10-2022_Correc_Outliers', '01-11-2022_Correc_Outliers', '01-12-2022_Correc_Outliers', '01-01-2023_Correc_Outliers', '01-02-2023_Correc_Outliers', '01-03-2023_Correc_Outliers', '01-04-2023_Correc_Outliers', '01-05-2023_Correc_Outliers', '01-06-2023_Correc_Outliers', '01-07-2023_Correc_Outliers', '01-08-2023_Correc_Outliers', '01-09-2023_Correc_Outliers', '01-10-2023_Correc_Outliers', '01-11-2023_Correc_Outliers', '01-12-2023_Correc_Outliers', '01-01-2024_Correc_Outliers', '01-02-2024_Correc_Outliers', '01-03-2024_Correc_Outliers', '01-04-2024_Correc_Outliers', '01-05-2024_Correc_Outliers', '01-06-2024_Correc_Outliers', '01-07-2024_Correc_Outliers']\n"
     ]
    }
   ],
   "source": [
    "# Crear un diccionario que mapea cada columna _stock a su correspondiente columna _Correc_Outliers\n",
    "column_mapping = {\n",
    "    '2022-08-01_stock': '01-08-2022_Correc_Outliers',\n",
    "    '2022-09-01_stock': '01-09-2022_Correc_Outliers',\n",
    "    '2022-10-01_stock': '01-10-2022_Correc_Outliers',\n",
    "    '2022-11-01_stock': '01-11-2022_Correc_Outliers',\n",
    "    '2022-12-01_stock': '01-12-2022_Correc_Outliers',\n",
    "    '2023-01-01_stock': '01-01-2023_Correc_Outliers',\n",
    "    '2023-02-01_stock': '01-02-2023_Correc_Outliers',\n",
    "    '2023-03-01_stock': '01-03-2023_Correc_Outliers',\n",
    "    '2023-04-01_stock': '01-04-2023_Correc_Outliers',\n",
    "    '2023-05-01_stock': '01-05-2023_Correc_Outliers',\n",
    "    '2023-06-01_stock': '01-06-2023_Correc_Outliers',\n",
    "    '2023-07-01_stock': '01-07-2023_Correc_Outliers',\n",
    "    '2023-08-01_stock': '01-08-2023_Correc_Outliers',\n",
    "    '2023-09-01_stock': '01-09-2023_Correc_Outliers',\n",
    "    '2023-10-01_stock': '01-10-2023_Correc_Outliers',\n",
    "    '2023-11-01_stock': '01-11-2023_Correc_Outliers',\n",
    "    '2023-12-01_stock': '01-12-2023_Correc_Outliers',\n",
    "    '2024-01-01_stock': '01-01-2024_Correc_Outliers',\n",
    "    '2024-02-01_stock': '01-02-2024_Correc_Outliers',\n",
    "    '2024-03-01_stock': '01-03-2024_Correc_Outliers',\n",
    "    '2024-04-01_stock': '01-04-2024_Correc_Outliers',\n",
    "    '2024-05-01_stock': '01-05-2024_Correc_Outliers',\n",
    "    '2024-06-01_stock': '01-06-2024_Correc_Outliers',\n",
    "    '2024-07-01_stock': '01-07-2024_Correc_Outliers'\n",
    "}\n",
    "\n",
    "result_cols = []\n",
    "for stock_col, correc_outliers_col in column_mapping.items():\n",
    "    if correc_outliers_col in df_siso_combined.columns:\n",
    "        # Crear una nueva columna con el resultado de la fórmula\n",
    "        nueva_columna = stock_col.replace('_stock', '_result')\n",
    "        result_cols.append(nueva_columna)\n",
    "        df_siso_combined[nueva_columna] = df_siso_combined.apply(\n",
    "            lambda row: promedios[row.name] if row[stock_col] < promedios[row.name] and row[correc_outliers_col] < promedios[row.name] else row[correc_outliers_col],\n",
    "            axis=1\n",
    "        )\n",
    "    else:\n",
    "        print(f\"Columna no encontrada para {stock_col}: {correc_outliers_col}\")\n",
    "\n",
    "# Mostrar las columnas creadas con _result\n",
    "print(\"Columnas creadas con _result:\", result_cols)\n",
    "\n",
    "# Eliminar las últimas 24 columnas que contienen _Correc_Outliers\n",
    "cols_to_drop = list(column_mapping.values())[-24:]\n",
    "df_siso_combined.drop(columns=cols_to_drop, inplace=True)\n",
    "\n",
    "# Mostrar las columnas eliminadas\n",
    "print(\"Columnas eliminadas:\", cols_to_drop)\n"
   ]
  },
  {
   "cell_type": "code",
   "execution_count": 77,
   "metadata": {},
   "outputs": [
    {
     "data": {
      "text/plain": [
       "Index(['Ultimo Eslabón', 'Canal 3', '01-01-2018 0:00.1', '01-02-2018 0:00.1',\n",
       "       '01-03-2018 0:00.1', '01-04-2018 0:00.1', '01-05-2018 0:00.1',\n",
       "       '01-06-2018 0:00.1', '01-07-2018 0:00.1', '01-08-2018 0:00.1',\n",
       "       ...\n",
       "       '2023-10-01_result', '2023-11-01_result', '2023-12-01_result',\n",
       "       '2024-01-01_result', '2024-02-01_result', '2024-03-01_result',\n",
       "       '2024-04-01_result', '2024-05-01_result', '2024-06-01_result',\n",
       "       '2024-07-01_result'],\n",
       "      dtype='object', length=191)"
      ]
     },
     "execution_count": 77,
     "metadata": {},
     "output_type": "execute_result"
    }
   ],
   "source": [
    "df_siso_combined.columns"
   ]
  },
  {
   "cell_type": "code",
   "execution_count": 78,
   "metadata": {},
   "outputs": [
    {
     "name": "stdout",
     "output_type": "stream",
     "text": [
      "Columnas eliminadas:\n",
      "[]\n",
      "\n",
      "Columnas que quedaron:\n",
      "['Ultimo Eslabón', 'Canal 3', '01-01-2018 0:00.1', '01-02-2018 0:00.1', '01-03-2018 0:00.1', '01-04-2018 0:00.1', '01-05-2018 0:00.1', '01-06-2018 0:00.1', '01-07-2018 0:00.1', '01-08-2018 0:00.1', '01-09-2018 0:00.1', '01-10-2018 0:00.1', '01-11-2018 0:00.1', '01-12-2018 0:00.1', '01-01-2019 0:00.1', '01-02-2019 0:00.1', '01-03-2019 0:00.1', '01-04-2019 0:00.1', '01-05-2019 0:00.1', '01-06-2019 0:00.1', '01-07-2019 0:00.1', '01-08-2019 0:00.1', '01-09-2019 0:00.1', '01-10-2019 0:00.1', '01-11-2019 0:00.1', '01-12-2019 0:00.1', '01-01-2020 0:00.1', '01-02-2020 0:00.1', '01-03-2020 0:00.1', '01-04-2020 0:00.1', '01-05-2020 0:00.1', '01-06-2020 0:00.1', '01-07-2020 0:00.1', '01-08-2020 0:00.1', '01-09-2020 0:00.1', '01-10-2020 0:00.1', '01-11-2020 0:00.1', '01-12-2020 0:00.1', '01-01-2021 0:00.1', '01-02-2021 0:00.1', '01-03-2021 0:00.1', '01-04-2021 0:00.1', '01-05-2021 0:00.1', '01-06-2021 0:00.1', '01-07-2021 0:00.1', '01-08-2021 0:00.1', '01-09-2021 0:00.1', '01-10-2021 0:00.1', '01-11-2021 0:00.1', '01-12-2021 0:00.1', '01-01-2022 0:00.1', '01-02-2022 0:00.1', '01-03-2022 0:00.1', '01-04-2022 0:00.1', '01-05-2022 0:00.1', '01-06-2022 0:00.1', '01-07-2022 0:00.1', '01-08-2022 0:00.1', '01-09-2022 0:00.1', '01-10-2022 0:00.1', '01-11-2022 0:00.1', '01-12-2022 0:00.1', '01-01-2023 0:00.1', '01-02-2023 0:00.1', '01-03-2023 0:00.1', '01-04-2023 0:00.1', '01-05-2023 0:00.1', '01-06-2023 0:00.1', '01-07-2023 0:00.1', '01-08-2023 0:00.1', '01-09-2023 0:00.1', '01-10-2023 0:00.1', '01-11-2023 0:00.1', '01-12-2023 0:00.1', '01-01-2024 0:00.1', '01-02-2024 0:00.1', '01-03-2024 0:00.1', '01-04-2024 0:00.1', '01-05-2024 0:00.1', '01-06-2024 0:00.1', '01-07-2024 0:00.1', 'SI/SO', 'ALERTA', 'Total', 'Venta Sku', '%', '2022-08-01_stock', '2022-09-01_stock', '2022-10-01_stock', '2022-11-01_stock', '2022-12-01_stock', '2023-01-01_stock', '2023-02-01_stock', '2023-03-01_stock', '2023-04-01_stock', '2023-05-01_stock', '2023-06-01_stock', '2023-07-01_stock', '2023-08-01_stock', '2023-09-01_stock', '2023-10-01_stock', '2023-11-01_stock', '2023-12-01_stock', '2024-01-01_stock', '2024-02-01_stock', '2024-03-01_stock', '2024-04-01_stock', '2024-05-01_stock', '2024-06-01_stock', '2024-07-01_stock', 'ALERTA 2', '01-01-2018_Correc_Outliers', '01-02-2018_Correc_Outliers', '01-03-2018_Correc_Outliers', '01-04-2018_Correc_Outliers', '01-05-2018_Correc_Outliers', '01-06-2018_Correc_Outliers', '01-07-2018_Correc_Outliers', '01-08-2018_Correc_Outliers', '01-09-2018_Correc_Outliers', '01-10-2018_Correc_Outliers', '01-11-2018_Correc_Outliers', '01-12-2018_Correc_Outliers', '01-01-2019_Correc_Outliers', '01-02-2019_Correc_Outliers', '01-03-2019_Correc_Outliers', '01-04-2019_Correc_Outliers', '01-05-2019_Correc_Outliers', '01-06-2019_Correc_Outliers', '01-07-2019_Correc_Outliers', '01-08-2019_Correc_Outliers', '01-09-2019_Correc_Outliers', '01-10-2019_Correc_Outliers', '01-11-2019_Correc_Outliers', '01-12-2019_Correc_Outliers', '01-01-2020_Correc_Outliers', '01-02-2020_Correc_Outliers', '01-03-2020_Correc_Outliers', '01-04-2020_Correc_Outliers', '01-05-2020_Correc_Outliers', '01-06-2020_Correc_Outliers', '01-07-2020_Correc_Outliers', '01-08-2020_Correc_Outliers', '01-09-2020_Correc_Outliers', '01-10-2020_Correc_Outliers', '01-11-2020_Correc_Outliers', '01-12-2020_Correc_Outliers', '01-01-2021_Correc_Outliers', '01-02-2021_Correc_Outliers', '01-03-2021_Correc_Outliers', '01-04-2021_Correc_Outliers', '01-05-2021_Correc_Outliers', '01-06-2021_Correc_Outliers', '01-07-2021_Correc_Outliers', '01-08-2021_Correc_Outliers', '01-09-2021_Correc_Outliers', '01-10-2021_Correc_Outliers', '01-11-2021_Correc_Outliers', '01-12-2021_Correc_Outliers', '01-01-2022_Correc_Outliers', '01-02-2022_Correc_Outliers', '01-03-2022_Correc_Outliers', '01-04-2022_Correc_Outliers', '01-05-2022_Correc_Outliers', '01-06-2022_Correc_Outliers', '01-07-2022_Correc_Outliers', 'ALERTA 3', '2022-08-01_result', '2022-09-01_result', '2022-10-01_result', '2022-11-01_result', '2022-12-01_result', '2023-01-01_result', '2023-02-01_result', '2023-03-01_result', '2023-04-01_result', '2023-05-01_result', '2023-06-01_result', '2023-07-01_result', '2023-08-01_result', '2023-09-01_result', '2023-10-01_result', '2023-11-01_result', '2023-12-01_result', '2024-01-01_result', '2024-02-01_result', '2024-03-01_result', '2024-04-01_result', '2024-05-01_result', '2024-06-01_result', '2024-07-01_result']\n"
     ]
    }
   ],
   "source": [
    "import pandas as pd\n",
    "\n",
    "# Suponiendo que tienes el DataFrame original antes de eliminar las columnas\n",
    "df_original = df_siso_combined.copy()\n",
    "\n",
    "# Aquí va tu código de procesamiento y eliminación de columnas\n",
    "# ...\n",
    "\n",
    "# Lista de columnas después de eliminar\n",
    "columnas_despues = df_siso_combined.columns.tolist()\n",
    "\n",
    "# Lista de columnas antes de eliminar\n",
    "columnas_antes = df_original.columns.tolist()\n",
    "\n",
    "# Columnas eliminadas\n",
    "columnas_eliminadas = [col for col in columnas_antes if col not in columnas_despues]\n",
    "\n",
    "# Columnas que quedaron\n",
    "columnas_quedaron = [col for col in columnas_despues if col in columnas_antes]\n",
    "\n",
    "# Mostrar las columnas eliminadas y las que quedaron\n",
    "print(\"Columnas eliminadas:\")\n",
    "print(columnas_eliminadas)\n",
    "\n",
    "print(\"\\nColumnas que quedaron:\")\n",
    "print(columnas_quedaron)\n"
   ]
  },
  {
   "cell_type": "markdown",
   "metadata": {},
   "source": [
    "YYYY-MM Correccion Disponibilidad MM-YY"
   ]
  },
  {
   "cell_type": "markdown",
   "metadata": {},
   "source": [
    "Guarda en CSV con rutas que detectan fechas"
   ]
  },
  {
   "cell_type": "code",
   "execution_count": 79,
   "metadata": {},
   "outputs": [],
   "source": [
    "import os\n",
    "import pandas as pd\n",
    "from datetime import datetime, timedelta\n",
    "\n",
    "meses_espanol_abreviado = {1: 'Ene', 2: 'Feb', 3: 'Mar', 4: 'Abr', 5: 'May', 6: 'Jun', 7: 'Jul', 8: 'Ago', 9: 'Sep', 10: 'Oct', 11: 'Nov', 12: 'Dic'}\n",
    "meses_espanol_completo = {1: 'Enero', 2: 'Febrero', 3: 'Marzo', 4: 'Abril', 5: 'Mayo', 6: 'Junio', 7: 'Julio', 8: 'Agosto', 9: 'Septiembre', 10: 'Octubre', 11: 'Noviembre', 12: 'Diciembre'}\n",
    "\n",
    "usuario = os.getlogin()\n",
    "fecha_actual = datetime.now()\n",
    "fecha_siguiente = fecha_actual + timedelta(days=30)\n",
    "fecha_anterior = fecha_actual - timedelta(days=30)\n",
    "\n",
    "mes_siguiente = fecha_siguiente.month\n",
    "mes_anterior = fecha_anterior.month\n",
    "\n",
    "anio_mes_guardar = fecha_actual.strftime(f\"%Y-%m Ciclo {meses_espanol_abreviado[mes_siguiente]}-%y\")\n",
    "nombre_archivo = fecha_actual.strftime(f\"%Y.%m Correccion Disponibilidad {meses_espanol_completo[mes_anterior]}-%y\")\n",
    "\n",
    "ruta_guardar_csv = f\"C:\\\\Users\\\\{usuario}.dercoparts\\\\derco chile repuestos spa\\\\Planificación y abastecimiento - Documentos\\\\Planificación y Compras Anastasia\\\\Carga Historia de Venta\\\\{anio_mes_guardar}\\\\AFM\\\\Correccion Dispo\\\\Python_Correcion\\\\{nombre_archivo}.csv\"\n",
    "\n",
    "os.makedirs(os.path.dirname(ruta_guardar_csv), exist_ok=True)\n",
    "df_siso_combined.to_csv(ruta_guardar_csv, sep=';', decimal=',', index=False)\n"
   ]
  },
  {
   "cell_type": "code",
   "execution_count": 80,
   "metadata": {},
   "outputs": [
    {
     "data": {
      "text/plain": [
       "'C:\\\\Users\\\\etorres.dercoparts\\\\derco chile repuestos spa\\\\Planificación y abastecimiento - Documentos\\\\Planificación y Compras Anastasia\\\\Carga Historia de Venta\\\\2024-08 Ciclo Sep-24\\\\AFM\\\\Correccion Dispo\\\\Python_Correcion\\\\2024.08 Correccion Disponibilidad Julio-24.csv'"
      ]
     },
     "execution_count": 80,
     "metadata": {},
     "output_type": "execute_result"
    }
   ],
   "source": [
    "ruta_guardar_csv"
   ]
  },
  {
   "cell_type": "markdown",
   "metadata": {},
   "source": [
    "Guarda en PARQUET con rutas que detectan fechas"
   ]
  },
  {
   "cell_type": "code",
   "execution_count": 81,
   "metadata": {},
   "outputs": [],
   "source": [
    "import os\n",
    "import pandas as pd\n",
    "from datetime import datetime, timedelta\n",
    "\n",
    "meses_espanol_abreviado = {1: 'Ene', 2: 'Feb', 3: 'Mar', 4: 'Abr', 5: 'May', 6: 'Jun', 7: 'Jul', 8: 'Ago', 9: 'Sep', 10: 'Oct', 11: 'Nov', 12: 'Dic'}\n",
    "meses_espanol_completo = {1: 'Enero', 2: 'Febrero', 3: 'Marzo', 4: 'Abril', 5: 'Mayo', 6: 'Junio', 7: 'Julio', 8: 'Agosto', 9: 'Septiembre', 10: 'Octubre', 11: 'Noviembre', 12: 'Diciembre'}\n",
    "\n",
    "usuario = os.getlogin()\n",
    "fecha_actual = datetime.now()\n",
    "fecha_siguiente = fecha_actual + timedelta(days=30)\n",
    "fecha_anterior = fecha_actual - timedelta(days=30)\n",
    "\n",
    "mes_siguiente = fecha_siguiente.month\n",
    "mes_anterior = fecha_anterior.month\n",
    "\n",
    "anio_mes_guardar = fecha_actual.strftime(f\"%Y-%m Ciclo {meses_espanol_abreviado[mes_siguiente]}-%y\")\n",
    "nombre_archivo = fecha_actual.strftime(f\"%Y.%m Correccion Disponibilidad {meses_espanol_completo[mes_anterior]}-%y\")\n",
    "\n",
    "ruta_guardar = f\"C:\\\\Users\\\\{usuario}.dercoparts\\\\derco chile repuestos spa\\\\Planificación y abastecimiento - Documentos\\\\Planificación y Compras Anastasia\\\\Carga Historia de Venta\\\\{anio_mes_guardar}\\\\AFM\\\\Correccion Dispo\\\\Python_Correcion\\\\CLUSTERING{nombre_archivo}.parquet\"\n",
    "\n",
    "os.makedirs(os.path.dirname(ruta_guardar), exist_ok=True)\n",
    "df_siso_combined.to_parquet(ruta_guardar, index=False)\n"
   ]
  },
  {
   "cell_type": "code",
   "execution_count": 82,
   "metadata": {},
   "outputs": [
    {
     "data": {
      "text/plain": [
       "['01-01-2022 0:00.1',\n",
       " '01-02-2022 0:00.1',\n",
       " '01-03-2022 0:00.1',\n",
       " '01-04-2022 0:00.1',\n",
       " '01-05-2022 0:00.1',\n",
       " '01-06-2022 0:00.1',\n",
       " '01-07-2022 0:00.1',\n",
       " '01-08-2022 0:00.1',\n",
       " '01-09-2022 0:00.1',\n",
       " '01-10-2022 0:00.1',\n",
       " '01-11-2022 0:00.1',\n",
       " '01-12-2022 0:00.1',\n",
       " '01-01-2023 0:00.1',\n",
       " '01-02-2023 0:00.1',\n",
       " '01-03-2023 0:00.1',\n",
       " '01-04-2023 0:00.1',\n",
       " '01-05-2023 0:00.1',\n",
       " '01-06-2023 0:00.1',\n",
       " '01-07-2023 0:00.1',\n",
       " '01-08-2023 0:00.1',\n",
       " '01-09-2023 0:00.1',\n",
       " '01-10-2023 0:00.1',\n",
       " '01-11-2023 0:00.1',\n",
       " '01-12-2023 0:00.1',\n",
       " '01-01-2024 0:00.1',\n",
       " '01-02-2024 0:00.1',\n",
       " '01-03-2024 0:00.1',\n",
       " '01-04-2024 0:00.1',\n",
       " '01-05-2024 0:00.1',\n",
       " '01-06-2024 0:00.1']"
      ]
     },
     "execution_count": 82,
     "metadata": {},
     "output_type": "execute_result"
    }
   ],
   "source": [
    "columnas = df_siso_combined.columns.tolist()\n",
    "columnas[50:80]"
   ]
  },
  {
   "cell_type": "markdown",
   "metadata": {},
   "source": [
    "Incio formato ANASTASIA DESDE PARQUET"
   ]
  },
  {
   "cell_type": "code",
   "execution_count": 83,
   "metadata": {},
   "outputs": [],
   "source": [
    "import os\n",
    "import pandas as pd\n",
    "from datetime import datetime, timedelta\n",
    "\n",
    "meses_espanol_abreviado = {1: 'Ene', 2: 'Feb', 3: 'Mar', 4: 'Abr', 5: 'May', 6: 'Jun', 7: 'Jul', 8: 'Ago', 9: 'Sep', 10: 'Oct', 11: 'Nov', 12: 'Dic'}\n",
    "meses_espanol_completo = {1: 'Enero', 2: 'Febrero', 3: 'Marzo', 4: 'Abril', 5: 'Mayo', 6: 'Junio', 7: 'Julio', 8: 'Agosto', 9: 'Septiembre', 10: 'Octubre', 11: 'Noviembre', 12: 'Diciembre'}\n",
    "\n",
    "usuario = os.getlogin()\n",
    "fecha_actual = datetime.now()\n",
    "fecha_siguiente = fecha_actual + timedelta(days=30)\n",
    "fecha_anterior = fecha_actual - timedelta(days=30)\n",
    "\n",
    "mes_siguiente = fecha_siguiente.month\n",
    "mes_anterior = fecha_anterior.month\n",
    "\n",
    "anio_mes_leer = fecha_actual.strftime(f\"%Y-%m Ciclo {meses_espanol_abreviado[mes_siguiente]}-%y\")\n",
    "nombre_archivo = fecha_actual.strftime(f\"%Y.%m Correccion Disponibilidad {meses_espanol_completo[mes_anterior]}-%y\")\n",
    "\n",
    "ruta_leer = f\"C:\\\\Users\\\\{usuario}.dercoparts\\\\derco chile repuestos spa\\\\Planificación y abastecimiento - Documentos\\\\Planificación y Compras Anastasia\\\\Carga Historia de Venta\\\\{anio_mes_leer}\\\\AFM\\\\Correccion Dispo\\\\Python_Correcion\\\\CLUSTERING{nombre_archivo}.parquet\"\n",
    "\n",
    "df_siso_combined = pd.read_parquet(ruta_leer)\n"
   ]
  },
  {
   "cell_type": "code",
   "execution_count": 84,
   "metadata": {},
   "outputs": [
    {
     "data": {
      "text/plain": [
       "'C:\\\\Users\\\\etorres.dercoparts\\\\derco chile repuestos spa\\\\Planificación y abastecimiento - Documentos\\\\Planificación y Compras Anastasia\\\\Carga Historia de Venta\\\\2024-08 Ciclo Sep-24\\\\AFM\\\\Correccion Dispo\\\\Python_Correcion\\\\CLUSTERING2024.08 Correccion Disponibilidad Julio-24.parquet'"
      ]
     },
     "execution_count": 84,
     "metadata": {},
     "output_type": "execute_result"
    }
   ],
   "source": [
    "ruta_leer"
   ]
  },
  {
   "cell_type": "markdown",
   "metadata": {},
   "source": [
    "Inicio formato ANASTASIA DESDE CSV"
   ]
  },
  {
   "cell_type": "code",
   "execution_count": 85,
   "metadata": {},
   "outputs": [],
   "source": [
    "# import os\n",
    "# import pandas as pd\n",
    "# from datetime import datetime, timedelta\n",
    "\n",
    "# meses_espanol_abreviado = {1: 'Ene', 2: 'Feb', 3: 'Mar', 4: 'Abr', 5: 'May', 6: 'Jun', 7: 'Jul', 8: 'Ago', 9: 'Sep', 10: 'Oct', 11: 'Nov', 12: 'Dic'}\n",
    "# meses_espanol_completo = {1: 'Enero', 2: 'Febrero', 3: 'Marzo', 4: 'Abril', 5: 'Mayo', 6: 'Junio', 7: 'Julio', 8: 'Agosto', 9: 'Septiembre', 10: 'Octubre', 11: 'Noviembre', 12: 'Diciembre'}\n",
    "\n",
    "# usuario = os.getlogin()\n",
    "# fecha_actual = datetime.now()\n",
    "# fecha_siguiente = fecha_actual + timedelta(days=30)\n",
    "# fecha_anterior = fecha_actual - timedelta(days=30)\n",
    "\n",
    "# mes_siguiente = fecha_siguiente.month\n",
    "# mes_anterior = fecha_anterior.month\n",
    "\n",
    "# anio_mes_leer = fecha_actual.strftime(f\"%Y-%m Ciclo {meses_espanol_abreviado[mes_siguiente]}-%y\")\n",
    "# nombre_archivo = fecha_actual.strftime(f\"%Y.%m Correccion Disponibilidad {meses_espanol_completo[mes_anterior]}-%y\")\n",
    "\n",
    "# ruta_leer_csv = f\"C:\\\\Users\\\\{usuario}\\\\Inchcape\\\\Planificación y abastecimiento AFM - Documentos\\\\Planificación y Compras Anastasia\\\\Carga Historia de Venta\\\\{anio_mes_leer}\\\\AFM\\\\Correccion Dispo\\\\{nombre_archivo}.csv\"\n",
    "\n",
    "# df_siso_combined = pd.read_csv(ruta_leer_csv, sep=';', decimal=',')\n"
   ]
  },
  {
   "cell_type": "code",
   "execution_count": 86,
   "metadata": {},
   "outputs": [
    {
     "data": {
      "text/plain": [
       "Ultimo Eslabón        object\n",
       "Canal 3               object\n",
       "01-01-2018 0:00.1    float64\n",
       "01-02-2018 0:00.1    float64\n",
       "01-03-2018 0:00.1    float64\n",
       "                      ...   \n",
       "2024-03-01_result    float64\n",
       "2024-04-01_result    float64\n",
       "2024-05-01_result    float64\n",
       "2024-06-01_result    float64\n",
       "2024-07-01_result    float64\n",
       "Length: 191, dtype: object"
      ]
     },
     "execution_count": 86,
     "metadata": {},
     "output_type": "execute_result"
    }
   ],
   "source": [
    "df_siso_combined.dtypes"
   ]
  },
  {
   "cell_type": "markdown",
   "metadata": {},
   "source": [
    "Achicar DF solo a las columnas corregidas por Disponibilidad para dar Formato Anastasia"
   ]
  },
  {
   "cell_type": "code",
   "execution_count": 87,
   "metadata": {},
   "outputs": [],
   "source": [
    "import pandas as pd\n",
    "\n",
    "alerta2_index = df_siso_combined.columns.get_loc('ALERTA 2')\n",
    "selected_columns = df_siso_combined.columns[:2].tolist() + df_siso_combined.columns[alerta2_index+1:].tolist()\n",
    "df_filtered = df_siso_combined.loc[:, selected_columns]\n",
    "\n",
    "if 'ALERTA 3' in df_filtered.columns:\n",
    "    df_filtered = df_filtered.drop(columns=['ALERTA 3'])\n"
   ]
  },
  {
   "cell_type": "code",
   "execution_count": 88,
   "metadata": {},
   "outputs": [],
   "source": [
    "df_melted = pd.melt(df_filtered, id_vars=df_filtered.columns[:2], var_name='Fecha', value_name='Venta')\n",
    "df_melted['Fecha'] = df_melted['Fecha'].str.replace('_Correc_Outliers', '').str.replace('_result', '')"
   ]
  },
  {
   "cell_type": "code",
   "execution_count": 89,
   "metadata": {},
   "outputs": [
    {
     "data": {
      "text/plain": [
       "75961851.3488622"
      ]
     },
     "execution_count": 89,
     "metadata": {},
     "output_type": "execute_result"
    }
   ],
   "source": [
    "suma = df_melted['Venta'].sum()\n",
    "suma"
   ]
  },
  {
   "cell_type": "code",
   "execution_count": 90,
   "metadata": {},
   "outputs": [],
   "source": [
    "df_melted['ID transacción'] = ['TR' + str(i) for i in range(1, len(df_melted) + 1)]\n",
    "df_melted['idSKU_R3'] = ['SKU' + str(i) for i in range(1, len(df_melted) + 1)]\n",
    "cols = df_melted.columns.tolist()\n",
    "cols.insert(cols.index('Fecha') + 1, cols.pop(cols.index('ID transacción')))\n",
    "cols.insert(cols.index('Fecha') + 2, cols.pop(cols.index('idSKU_R3')))\n",
    "df_melted = df_melted[cols]\n",
    "df_melted.rename(columns={'Ultimo Eslabón': 'idSKU'}, inplace=True)\n",
    "df_melted.rename(columns={'Canal 3': 'Canal'}, inplace=True)\n",
    "df_melted.rename(columns={'Venta': 'Cantidad'}, inplace=True)\n",
    "df_melted['Unidad Medida'] = 'UN'\n",
    "df_melted['Pais'] = 'CL'\n",
    "df_melted['valor_trn'] = 0\n",
    "\n",
    "condiciones = [\n",
    "    df_melted['Canal'].isin(['CL WALMART', 'CL EASY', 'CL SMU', 'CL TOTTUS', 'CL SODIMAC']),\n",
    "    df_melted['Canal'].isin(['CL MAYORISTA', 'CL CES 01']),\n",
    "    df_melted['Canal'] == 'CL RETAIL'\n",
    "]\n",
    "\n",
    "\n",
    "resultados = ['SO', 'SI', 'SO']\n",
    "df_melted['Tipo_Venta'] = np.select(condiciones, resultados, default=np.nan)\n",
    "#REDONDEAR CANTIDAD\n",
    "df_melted['Cantidad'] = df_melted['Cantidad'].round()\n"
   ]
  },
  {
   "cell_type": "markdown",
   "metadata": {},
   "source": [
    "Se pierden unidades al redondear"
   ]
  },
  {
   "cell_type": "code",
   "execution_count": 91,
   "metadata": {},
   "outputs": [
    {
     "data": {
      "text/plain": [
       "75945229.0"
      ]
     },
     "execution_count": 91,
     "metadata": {},
     "output_type": "execute_result"
    }
   ],
   "source": [
    "sumax = df_melted['Cantidad'].sum()\n",
    "sumax"
   ]
  },
  {
   "cell_type": "code",
   "execution_count": 92,
   "metadata": {},
   "outputs": [
    {
     "data": {
      "text/html": [
       "<div>\n",
       "<style scoped>\n",
       "    .dataframe tbody tr th:only-of-type {\n",
       "        vertical-align: middle;\n",
       "    }\n",
       "\n",
       "    .dataframe tbody tr th {\n",
       "        vertical-align: top;\n",
       "    }\n",
       "\n",
       "    .dataframe thead th {\n",
       "        text-align: right;\n",
       "    }\n",
       "</style>\n",
       "<table border=\"1\" class=\"dataframe\">\n",
       "  <thead>\n",
       "    <tr style=\"text-align: right;\">\n",
       "      <th></th>\n",
       "      <th>Fecha</th>\n",
       "      <th>ID transacción</th>\n",
       "      <th>idSKU</th>\n",
       "      <th>idSKU_R3</th>\n",
       "      <th>Cantidad</th>\n",
       "      <th>valor_trn</th>\n",
       "      <th>Canal</th>\n",
       "      <th>Unidad Medida</th>\n",
       "      <th>Pais</th>\n",
       "      <th>Tipo_Venta</th>\n",
       "    </tr>\n",
       "  </thead>\n",
       "  <tbody>\n",
       "    <tr>\n",
       "      <th>0</th>\n",
       "      <td>01-01-2018</td>\n",
       "      <td>TR1</td>\n",
       "      <td>1000078</td>\n",
       "      <td>SKU1</td>\n",
       "      <td>0.0</td>\n",
       "      <td>0</td>\n",
       "      <td>CL MAYORISTA</td>\n",
       "      <td>UN</td>\n",
       "      <td>CL</td>\n",
       "      <td>SI</td>\n",
       "    </tr>\n",
       "    <tr>\n",
       "      <th>1</th>\n",
       "      <td>01-01-2018</td>\n",
       "      <td>TR2</td>\n",
       "      <td>1000144</td>\n",
       "      <td>SKU2</td>\n",
       "      <td>0.0</td>\n",
       "      <td>0</td>\n",
       "      <td>CL MAYORISTA</td>\n",
       "      <td>UN</td>\n",
       "      <td>CL</td>\n",
       "      <td>SI</td>\n",
       "    </tr>\n",
       "    <tr>\n",
       "      <th>2</th>\n",
       "      <td>01-01-2018</td>\n",
       "      <td>TR3</td>\n",
       "      <td>1000147</td>\n",
       "      <td>SKU3</td>\n",
       "      <td>0.0</td>\n",
       "      <td>0</td>\n",
       "      <td>CL CES 01</td>\n",
       "      <td>UN</td>\n",
       "      <td>CL</td>\n",
       "      <td>SI</td>\n",
       "    </tr>\n",
       "    <tr>\n",
       "      <th>3</th>\n",
       "      <td>01-01-2018</td>\n",
       "      <td>TR4</td>\n",
       "      <td>1000147</td>\n",
       "      <td>SKU4</td>\n",
       "      <td>0.0</td>\n",
       "      <td>0</td>\n",
       "      <td>CL MAYORISTA</td>\n",
       "      <td>UN</td>\n",
       "      <td>CL</td>\n",
       "      <td>SI</td>\n",
       "    </tr>\n",
       "    <tr>\n",
       "      <th>4</th>\n",
       "      <td>01-01-2018</td>\n",
       "      <td>TR5</td>\n",
       "      <td>1000148</td>\n",
       "      <td>SKU5</td>\n",
       "      <td>0.0</td>\n",
       "      <td>0</td>\n",
       "      <td>CL CES 01</td>\n",
       "      <td>UN</td>\n",
       "      <td>CL</td>\n",
       "      <td>SI</td>\n",
       "    </tr>\n",
       "    <tr>\n",
       "      <th>...</th>\n",
       "      <td>...</td>\n",
       "      <td>...</td>\n",
       "      <td>...</td>\n",
       "      <td>...</td>\n",
       "      <td>...</td>\n",
       "      <td>...</td>\n",
       "      <td>...</td>\n",
       "      <td>...</td>\n",
       "      <td>...</td>\n",
       "      <td>...</td>\n",
       "    </tr>\n",
       "    <tr>\n",
       "      <th>4852017</th>\n",
       "      <td>2024-07-01</td>\n",
       "      <td>TR4852018</td>\n",
       "      <td>750797</td>\n",
       "      <td>SKU4852018</td>\n",
       "      <td>1.0</td>\n",
       "      <td>0</td>\n",
       "      <td>CL RETAIL</td>\n",
       "      <td>UN</td>\n",
       "      <td>CL</td>\n",
       "      <td>SO</td>\n",
       "    </tr>\n",
       "    <tr>\n",
       "      <th>4852018</th>\n",
       "      <td>2024-07-01</td>\n",
       "      <td>TR4852019</td>\n",
       "      <td>750803</td>\n",
       "      <td>SKU4852019</td>\n",
       "      <td>4.0</td>\n",
       "      <td>0</td>\n",
       "      <td>CL RETAIL</td>\n",
       "      <td>UN</td>\n",
       "      <td>CL</td>\n",
       "      <td>SO</td>\n",
       "    </tr>\n",
       "    <tr>\n",
       "      <th>4852019</th>\n",
       "      <td>2024-07-01</td>\n",
       "      <td>TR4852020</td>\n",
       "      <td>750809</td>\n",
       "      <td>SKU4852020</td>\n",
       "      <td>3.0</td>\n",
       "      <td>0</td>\n",
       "      <td>CL RETAIL</td>\n",
       "      <td>UN</td>\n",
       "      <td>CL</td>\n",
       "      <td>SO</td>\n",
       "    </tr>\n",
       "    <tr>\n",
       "      <th>4852020</th>\n",
       "      <td>2024-07-01</td>\n",
       "      <td>TR4852021</td>\n",
       "      <td>750816</td>\n",
       "      <td>SKU4852021</td>\n",
       "      <td>4.0</td>\n",
       "      <td>0</td>\n",
       "      <td>CL RETAIL</td>\n",
       "      <td>UN</td>\n",
       "      <td>CL</td>\n",
       "      <td>SO</td>\n",
       "    </tr>\n",
       "    <tr>\n",
       "      <th>4852021</th>\n",
       "      <td>2024-07-01</td>\n",
       "      <td>TR4852022</td>\n",
       "      <td>752466</td>\n",
       "      <td>SKU4852022</td>\n",
       "      <td>4.0</td>\n",
       "      <td>0</td>\n",
       "      <td>CL RETAIL</td>\n",
       "      <td>UN</td>\n",
       "      <td>CL</td>\n",
       "      <td>SO</td>\n",
       "    </tr>\n",
       "  </tbody>\n",
       "</table>\n",
       "<p>4852022 rows × 10 columns</p>\n",
       "</div>"
      ],
      "text/plain": [
       "              Fecha ID transacción    idSKU    idSKU_R3  Cantidad  valor_trn  \\\n",
       "0        01-01-2018            TR1  1000078        SKU1       0.0          0   \n",
       "1        01-01-2018            TR2  1000144        SKU2       0.0          0   \n",
       "2        01-01-2018            TR3  1000147        SKU3       0.0          0   \n",
       "3        01-01-2018            TR4  1000147        SKU4       0.0          0   \n",
       "4        01-01-2018            TR5  1000148        SKU5       0.0          0   \n",
       "...             ...            ...      ...         ...       ...        ...   \n",
       "4852017  2024-07-01      TR4852018   750797  SKU4852018       1.0          0   \n",
       "4852018  2024-07-01      TR4852019   750803  SKU4852019       4.0          0   \n",
       "4852019  2024-07-01      TR4852020   750809  SKU4852020       3.0          0   \n",
       "4852020  2024-07-01      TR4852021   750816  SKU4852021       4.0          0   \n",
       "4852021  2024-07-01      TR4852022   752466  SKU4852022       4.0          0   \n",
       "\n",
       "                Canal Unidad Medida Pais Tipo_Venta  \n",
       "0        CL MAYORISTA            UN   CL         SI  \n",
       "1        CL MAYORISTA            UN   CL         SI  \n",
       "2           CL CES 01            UN   CL         SI  \n",
       "3        CL MAYORISTA            UN   CL         SI  \n",
       "4           CL CES 01            UN   CL         SI  \n",
       "...               ...           ...  ...        ...  \n",
       "4852017     CL RETAIL            UN   CL         SO  \n",
       "4852018     CL RETAIL            UN   CL         SO  \n",
       "4852019     CL RETAIL            UN   CL         SO  \n",
       "4852020     CL RETAIL            UN   CL         SO  \n",
       "4852021     CL RETAIL            UN   CL         SO  \n",
       "\n",
       "[4852022 rows x 10 columns]"
      ]
     },
     "execution_count": 92,
     "metadata": {},
     "output_type": "execute_result"
    }
   ],
   "source": [
    "cols = ['Fecha', 'ID transacción', 'idSKU', 'idSKU_R3', 'Cantidad', 'valor_trn', 'Canal', 'Unidad Medida', 'Pais', 'Tipo_Venta']\n",
    "df_melted = df_melted[cols]\n",
    "\n",
    "df_melted"
   ]
  },
  {
   "cell_type": "code",
   "execution_count": 93,
   "metadata": {},
   "outputs": [
    {
     "name": "stdout",
     "output_type": "stream",
     "text": [
      "['01-01-2018' '01-02-2018' '01-03-2018' '01-04-2018' '01-05-2018'\n",
      " '01-06-2018' '01-07-2018' '01-08-2018' '01-09-2018' '01-10-2018'\n",
      " '01-11-2018' '01-12-2018' '01-01-2019' '01-02-2019' '01-03-2019'\n",
      " '01-04-2019' '01-05-2019' '01-06-2019' '01-07-2019' '01-08-2019'\n",
      " '01-09-2019' '01-10-2019' '01-11-2019' '01-12-2019' '01-01-2020'\n",
      " '01-02-2020' '01-03-2020' '01-04-2020' '01-05-2020' '01-06-2020'\n",
      " '01-07-2020' '01-08-2020' '01-09-2020' '01-10-2020' '01-11-2020'\n",
      " '01-12-2020' '01-01-2021' '01-02-2021' '01-03-2021' '01-04-2021'\n",
      " '01-05-2021' '01-06-2021' '01-07-2021' '01-08-2021' '01-09-2021'\n",
      " '01-10-2021' '01-11-2021' '01-12-2021' '01-01-2022' '01-02-2022'\n",
      " '01-03-2022' '01-04-2022' '01-05-2022' '01-06-2022' '01-07-2022'\n",
      " '2022-08-01' '2022-09-01' '2022-10-01' '2022-11-01' '2022-12-01'\n",
      " '2023-01-01' '2023-02-01' '2023-03-01' '2023-04-01' '2023-05-01'\n",
      " '2023-06-01' '2023-07-01' '2023-08-01' '2023-09-01' '2023-10-01'\n",
      " '2023-11-01' '2023-12-01' '2024-01-01' '2024-02-01' '2024-03-01'\n",
      " '2024-04-01' '2024-05-01' '2024-06-01' '2024-07-01']\n"
     ]
    }
   ],
   "source": [
    "print(df_melted['Fecha'].unique())\n",
    "\n"
   ]
  },
  {
   "cell_type": "code",
   "execution_count": 94,
   "metadata": {},
   "outputs": [],
   "source": [
    "df_melted['Fecha'] = df_melted['Fecha'].apply(lambda fecha: f'{fecha[8:10]}-{fecha[5:7]}-{fecha[:4]}' if fecha.startswith('2022-') else fecha)\n"
   ]
  },
  {
   "cell_type": "code",
   "execution_count": 95,
   "metadata": {},
   "outputs": [],
   "source": [
    "df_melted['Fecha'] = df_melted['Fecha'].apply(lambda fecha: f'{fecha[8:10]}-{fecha[5:7]}-{fecha[:4]}' if fecha.startswith('2023-') else fecha)\n"
   ]
  },
  {
   "cell_type": "code",
   "execution_count": 96,
   "metadata": {},
   "outputs": [],
   "source": [
    "df_melted['Fecha'] = df_melted['Fecha'].apply(lambda fecha: f'{fecha[8:10]}-{fecha[5:7]}-{fecha[:4]}' if fecha.startswith('2024-') else fecha)\n"
   ]
  },
  {
   "cell_type": "code",
   "execution_count": 97,
   "metadata": {},
   "outputs": [
    {
     "data": {
      "text/html": [
       "<div>\n",
       "<style scoped>\n",
       "    .dataframe tbody tr th:only-of-type {\n",
       "        vertical-align: middle;\n",
       "    }\n",
       "\n",
       "    .dataframe tbody tr th {\n",
       "        vertical-align: top;\n",
       "    }\n",
       "\n",
       "    .dataframe thead th {\n",
       "        text-align: right;\n",
       "    }\n",
       "</style>\n",
       "<table border=\"1\" class=\"dataframe\">\n",
       "  <thead>\n",
       "    <tr style=\"text-align: right;\">\n",
       "      <th></th>\n",
       "      <th>Fecha</th>\n",
       "      <th>ID transacción</th>\n",
       "      <th>idSKU</th>\n",
       "      <th>idSKU_R3</th>\n",
       "      <th>Cantidad</th>\n",
       "      <th>valor_trn</th>\n",
       "      <th>Canal</th>\n",
       "      <th>Unidad Medida</th>\n",
       "      <th>Pais</th>\n",
       "      <th>Tipo_Venta</th>\n",
       "    </tr>\n",
       "  </thead>\n",
       "  <tbody>\n",
       "    <tr>\n",
       "      <th>0</th>\n",
       "      <td>01-01-2018</td>\n",
       "      <td>TR1</td>\n",
       "      <td>1000078</td>\n",
       "      <td>SKU1</td>\n",
       "      <td>0.0</td>\n",
       "      <td>0</td>\n",
       "      <td>CL MAYORISTA</td>\n",
       "      <td>UN</td>\n",
       "      <td>CL</td>\n",
       "      <td>SI</td>\n",
       "    </tr>\n",
       "    <tr>\n",
       "      <th>1</th>\n",
       "      <td>01-01-2018</td>\n",
       "      <td>TR2</td>\n",
       "      <td>1000144</td>\n",
       "      <td>SKU2</td>\n",
       "      <td>0.0</td>\n",
       "      <td>0</td>\n",
       "      <td>CL MAYORISTA</td>\n",
       "      <td>UN</td>\n",
       "      <td>CL</td>\n",
       "      <td>SI</td>\n",
       "    </tr>\n",
       "    <tr>\n",
       "      <th>2</th>\n",
       "      <td>01-01-2018</td>\n",
       "      <td>TR3</td>\n",
       "      <td>1000147</td>\n",
       "      <td>SKU3</td>\n",
       "      <td>0.0</td>\n",
       "      <td>0</td>\n",
       "      <td>CL CES 01</td>\n",
       "      <td>UN</td>\n",
       "      <td>CL</td>\n",
       "      <td>SI</td>\n",
       "    </tr>\n",
       "    <tr>\n",
       "      <th>3</th>\n",
       "      <td>01-01-2018</td>\n",
       "      <td>TR4</td>\n",
       "      <td>1000147</td>\n",
       "      <td>SKU4</td>\n",
       "      <td>0.0</td>\n",
       "      <td>0</td>\n",
       "      <td>CL MAYORISTA</td>\n",
       "      <td>UN</td>\n",
       "      <td>CL</td>\n",
       "      <td>SI</td>\n",
       "    </tr>\n",
       "    <tr>\n",
       "      <th>4</th>\n",
       "      <td>01-01-2018</td>\n",
       "      <td>TR5</td>\n",
       "      <td>1000148</td>\n",
       "      <td>SKU5</td>\n",
       "      <td>0.0</td>\n",
       "      <td>0</td>\n",
       "      <td>CL CES 01</td>\n",
       "      <td>UN</td>\n",
       "      <td>CL</td>\n",
       "      <td>SI</td>\n",
       "    </tr>\n",
       "    <tr>\n",
       "      <th>...</th>\n",
       "      <td>...</td>\n",
       "      <td>...</td>\n",
       "      <td>...</td>\n",
       "      <td>...</td>\n",
       "      <td>...</td>\n",
       "      <td>...</td>\n",
       "      <td>...</td>\n",
       "      <td>...</td>\n",
       "      <td>...</td>\n",
       "      <td>...</td>\n",
       "    </tr>\n",
       "    <tr>\n",
       "      <th>4852017</th>\n",
       "      <td>01-07-2024</td>\n",
       "      <td>TR4852018</td>\n",
       "      <td>750797</td>\n",
       "      <td>SKU4852018</td>\n",
       "      <td>1.0</td>\n",
       "      <td>0</td>\n",
       "      <td>CL RETAIL</td>\n",
       "      <td>UN</td>\n",
       "      <td>CL</td>\n",
       "      <td>SO</td>\n",
       "    </tr>\n",
       "    <tr>\n",
       "      <th>4852018</th>\n",
       "      <td>01-07-2024</td>\n",
       "      <td>TR4852019</td>\n",
       "      <td>750803</td>\n",
       "      <td>SKU4852019</td>\n",
       "      <td>4.0</td>\n",
       "      <td>0</td>\n",
       "      <td>CL RETAIL</td>\n",
       "      <td>UN</td>\n",
       "      <td>CL</td>\n",
       "      <td>SO</td>\n",
       "    </tr>\n",
       "    <tr>\n",
       "      <th>4852019</th>\n",
       "      <td>01-07-2024</td>\n",
       "      <td>TR4852020</td>\n",
       "      <td>750809</td>\n",
       "      <td>SKU4852020</td>\n",
       "      <td>3.0</td>\n",
       "      <td>0</td>\n",
       "      <td>CL RETAIL</td>\n",
       "      <td>UN</td>\n",
       "      <td>CL</td>\n",
       "      <td>SO</td>\n",
       "    </tr>\n",
       "    <tr>\n",
       "      <th>4852020</th>\n",
       "      <td>01-07-2024</td>\n",
       "      <td>TR4852021</td>\n",
       "      <td>750816</td>\n",
       "      <td>SKU4852021</td>\n",
       "      <td>4.0</td>\n",
       "      <td>0</td>\n",
       "      <td>CL RETAIL</td>\n",
       "      <td>UN</td>\n",
       "      <td>CL</td>\n",
       "      <td>SO</td>\n",
       "    </tr>\n",
       "    <tr>\n",
       "      <th>4852021</th>\n",
       "      <td>01-07-2024</td>\n",
       "      <td>TR4852022</td>\n",
       "      <td>752466</td>\n",
       "      <td>SKU4852022</td>\n",
       "      <td>4.0</td>\n",
       "      <td>0</td>\n",
       "      <td>CL RETAIL</td>\n",
       "      <td>UN</td>\n",
       "      <td>CL</td>\n",
       "      <td>SO</td>\n",
       "    </tr>\n",
       "  </tbody>\n",
       "</table>\n",
       "<p>4852022 rows × 10 columns</p>\n",
       "</div>"
      ],
      "text/plain": [
       "              Fecha ID transacción    idSKU    idSKU_R3  Cantidad  valor_trn  \\\n",
       "0        01-01-2018            TR1  1000078        SKU1       0.0          0   \n",
       "1        01-01-2018            TR2  1000144        SKU2       0.0          0   \n",
       "2        01-01-2018            TR3  1000147        SKU3       0.0          0   \n",
       "3        01-01-2018            TR4  1000147        SKU4       0.0          0   \n",
       "4        01-01-2018            TR5  1000148        SKU5       0.0          0   \n",
       "...             ...            ...      ...         ...       ...        ...   \n",
       "4852017  01-07-2024      TR4852018   750797  SKU4852018       1.0          0   \n",
       "4852018  01-07-2024      TR4852019   750803  SKU4852019       4.0          0   \n",
       "4852019  01-07-2024      TR4852020   750809  SKU4852020       3.0          0   \n",
       "4852020  01-07-2024      TR4852021   750816  SKU4852021       4.0          0   \n",
       "4852021  01-07-2024      TR4852022   752466  SKU4852022       4.0          0   \n",
       "\n",
       "                Canal Unidad Medida Pais Tipo_Venta  \n",
       "0        CL MAYORISTA            UN   CL         SI  \n",
       "1        CL MAYORISTA            UN   CL         SI  \n",
       "2           CL CES 01            UN   CL         SI  \n",
       "3        CL MAYORISTA            UN   CL         SI  \n",
       "4           CL CES 01            UN   CL         SI  \n",
       "...               ...           ...  ...        ...  \n",
       "4852017     CL RETAIL            UN   CL         SO  \n",
       "4852018     CL RETAIL            UN   CL         SO  \n",
       "4852019     CL RETAIL            UN   CL         SO  \n",
       "4852020     CL RETAIL            UN   CL         SO  \n",
       "4852021     CL RETAIL            UN   CL         SO  \n",
       "\n",
       "[4852022 rows x 10 columns]"
      ]
     },
     "execution_count": 97,
     "metadata": {},
     "output_type": "execute_result"
    }
   ],
   "source": [
    "df_melted"
   ]
  },
  {
   "cell_type": "markdown",
   "metadata": {},
   "source": [
    "_________________________________________________________"
   ]
  },
  {
   "cell_type": "code",
   "execution_count": 98,
   "metadata": {},
   "outputs": [
    {
     "data": {
      "text/plain": [
       "Index(['Fecha', 'ID transacción', 'idSKU', 'idSKU_R3', 'Cantidad', 'valor_trn',\n",
       "       'Canal', 'Unidad Medida', 'Pais', 'Tipo_Venta'],\n",
       "      dtype='object')"
      ]
     },
     "execution_count": 98,
     "metadata": {},
     "output_type": "execute_result"
    }
   ],
   "source": [
    "df_melted.columns"
   ]
  },
  {
   "cell_type": "markdown",
   "metadata": {},
   "source": [
    "División de DF's para tener uno por Tipo De Venta"
   ]
  },
  {
   "cell_type": "code",
   "execution_count": 99,
   "metadata": {},
   "outputs": [],
   "source": [
    "df_melted.rename(columns={'ID transacción': 'ID transaccion'}, inplace=True)\n",
    "df_si = df_melted[df_melted['Tipo_Venta']== 'SI'].copy()\n",
    "df_so = df_melted[df_melted['Tipo_Venta'] == 'SO'].copy()\n",
    "df_si_so = df_melted"
   ]
  },
  {
   "cell_type": "code",
   "execution_count": 100,
   "metadata": {},
   "outputs": [
    {
     "data": {
      "text/plain": [
       "Index(['Ultimo Eslabón', 'Canal 3', '01-01-2018 0:00.1', '01-02-2018 0:00.1',\n",
       "       '01-03-2018 0:00.1', '01-04-2018 0:00.1', '01-05-2018 0:00.1',\n",
       "       '01-06-2018 0:00.1', '01-07-2018 0:00.1', '01-08-2018 0:00.1',\n",
       "       '01-09-2018 0:00.1', '01-10-2018 0:00.1', '01-11-2018 0:00.1',\n",
       "       '01-12-2018 0:00.1', '01-01-2019 0:00.1', '01-02-2019 0:00.1',\n",
       "       '01-03-2019 0:00.1', '01-04-2019 0:00.1', '01-05-2019 0:00.1',\n",
       "       '01-06-2019 0:00.1', '01-07-2019 0:00.1', '01-08-2019 0:00.1',\n",
       "       '01-09-2019 0:00.1', '01-10-2019 0:00.1', '01-11-2019 0:00.1',\n",
       "       '01-12-2019 0:00.1', '01-01-2020 0:00.1', '01-02-2020 0:00.1',\n",
       "       '01-03-2020 0:00.1', '01-04-2020 0:00.1', '01-05-2020 0:00.1',\n",
       "       '01-06-2020 0:00.1', '01-07-2020 0:00.1', '01-08-2020 0:00.1',\n",
       "       '01-09-2020 0:00.1', '01-10-2020 0:00.1', '01-11-2020 0:00.1',\n",
       "       '01-12-2020 0:00.1', '01-01-2021 0:00.1', '01-02-2021 0:00.1',\n",
       "       '01-03-2021 0:00.1', '01-04-2021 0:00.1', '01-05-2021 0:00.1',\n",
       "       '01-06-2021 0:00.1', '01-07-2021 0:00.1', '01-08-2021 0:00.1',\n",
       "       '01-09-2021 0:00.1', '01-10-2021 0:00.1', '01-11-2021 0:00.1',\n",
       "       '01-12-2021 0:00.1', '01-01-2022 0:00.1', '01-02-2022 0:00.1',\n",
       "       '01-03-2022 0:00.1', '01-04-2022 0:00.1', '01-05-2022 0:00.1',\n",
       "       '01-06-2022 0:00.1', '01-07-2022 0:00.1', '01-08-2022 0:00.1',\n",
       "       '01-09-2022 0:00.1', '01-10-2022 0:00.1', '01-11-2022 0:00.1',\n",
       "       '01-12-2022 0:00.1', '01-01-2023 0:00.1', '01-02-2023 0:00.1',\n",
       "       '01-03-2023 0:00.1', '01-04-2023 0:00.1', '01-05-2023 0:00.1',\n",
       "       '01-06-2023 0:00.1', '01-07-2023 0:00.1', '01-08-2023 0:00.1',\n",
       "       '01-09-2023 0:00.1', '01-10-2023 0:00.1', '01-11-2023 0:00.1',\n",
       "       '01-12-2023 0:00.1', '01-01-2024 0:00.1', '01-02-2024 0:00.1',\n",
       "       '01-03-2024 0:00.1', '01-04-2024 0:00.1', '01-05-2024 0:00.1',\n",
       "       '01-06-2024 0:00.1', '01-07-2024 0:00.1', 'SI/SO', 'ALERTA', 'Total',\n",
       "       'Venta Sku', '%'],\n",
       "      dtype='object')"
      ]
     },
     "execution_count": 100,
     "metadata": {},
     "output_type": "execute_result"
    }
   ],
   "source": [
    "df_siso.columns"
   ]
  },
  {
   "cell_type": "code",
   "execution_count": 101,
   "metadata": {},
   "outputs": [],
   "source": [
    "df_si = df_si[['Fecha', 'ID transaccion', 'idSKU', 'idSKU_R3', 'Cantidad', 'valor_trn', 'Canal', 'Unidad Medida', 'Pais', 'Tipo_Venta']]\n",
    "df_so = df_so[['Fecha', 'ID transaccion', 'idSKU', 'idSKU_R3', 'Cantidad', 'valor_trn', 'Canal', 'Unidad Medida', 'Pais', 'Tipo_Venta']]\n",
    "df_si_so = df_si_so[['Fecha', 'ID transaccion', 'idSKU', 'idSKU_R3', 'Cantidad', 'valor_trn', 'Canal', 'Unidad Medida', 'Pais', 'Tipo_Venta']]\n"
   ]
  },
  {
   "cell_type": "code",
   "execution_count": 102,
   "metadata": {},
   "outputs": [
    {
     "data": {
      "text/plain": [
       "Index(['Fecha', 'ID transaccion', 'idSKU', 'idSKU_R3', 'Cantidad', 'valor_trn',\n",
       "       'Canal', 'Unidad Medida', 'Pais', 'Tipo_Venta'],\n",
       "      dtype='object')"
      ]
     },
     "execution_count": 102,
     "metadata": {},
     "output_type": "execute_result"
    }
   ],
   "source": [
    "df_si_so.columns"
   ]
  },
  {
   "cell_type": "code",
   "execution_count": 103,
   "metadata": {},
   "outputs": [],
   "source": [
    "df_si_so['Cantidad'] = df_si_so['Cantidad'].astype(str).str.replace('.0', '', regex=False)\n"
   ]
  },
  {
   "cell_type": "code",
   "execution_count": 104,
   "metadata": {},
   "outputs": [],
   "source": [
    "df_si_so['idSKU'] = df_si_so['idSKU'].astype(str)"
   ]
  },
  {
   "cell_type": "code",
   "execution_count": 105,
   "metadata": {},
   "outputs": [
    {
     "data": {
      "text/plain": [
       "Fecha             object\n",
       "ID transaccion    object\n",
       "idSKU             object\n",
       "idSKU_R3          object\n",
       "Cantidad          object\n",
       "valor_trn          int64\n",
       "Canal             object\n",
       "Unidad Medida     object\n",
       "Pais              object\n",
       "Tipo_Venta        object\n",
       "dtype: object"
      ]
     },
     "execution_count": 105,
     "metadata": {},
     "output_type": "execute_result"
    }
   ],
   "source": [
    "df_si_so.dtypes"
   ]
  },
  {
   "cell_type": "code",
   "execution_count": 106,
   "metadata": {},
   "outputs": [
    {
     "data": {
      "text/html": [
       "<div>\n",
       "<style scoped>\n",
       "    .dataframe tbody tr th:only-of-type {\n",
       "        vertical-align: middle;\n",
       "    }\n",
       "\n",
       "    .dataframe tbody tr th {\n",
       "        vertical-align: top;\n",
       "    }\n",
       "\n",
       "    .dataframe thead th {\n",
       "        text-align: right;\n",
       "    }\n",
       "</style>\n",
       "<table border=\"1\" class=\"dataframe\">\n",
       "  <thead>\n",
       "    <tr style=\"text-align: right;\">\n",
       "      <th></th>\n",
       "      <th>Fecha</th>\n",
       "      <th>ID transaccion</th>\n",
       "      <th>idSKU</th>\n",
       "      <th>idSKU_R3</th>\n",
       "      <th>Cantidad</th>\n",
       "      <th>valor_trn</th>\n",
       "      <th>Canal</th>\n",
       "      <th>Unidad Medida</th>\n",
       "      <th>Pais</th>\n",
       "      <th>Tipo_Venta</th>\n",
       "    </tr>\n",
       "  </thead>\n",
       "  <tbody>\n",
       "  </tbody>\n",
       "</table>\n",
       "</div>"
      ],
      "text/plain": [
       "Empty DataFrame\n",
       "Columns: [Fecha, ID transaccion, idSKU, idSKU_R3, Cantidad, valor_trn, Canal, Unidad Medida, Pais, Tipo_Venta]\n",
       "Index: []"
      ]
     },
     "execution_count": 106,
     "metadata": {},
     "output_type": "execute_result"
    }
   ],
   "source": [
    "ers = df_si_so[df_si_so['Fecha'] == \"2023-08-01\"]\n",
    "ers\n"
   ]
  },
  {
   "cell_type": "code",
   "execution_count": 107,
   "metadata": {},
   "outputs": [],
   "source": [
    "# df_si_so['Fecha'] = pd.to_datetime(df_si_so['Fecha'], dayfirst=True, errors='coerce')\n",
    "\n",
    "# df_si_so[['Día', 'Mes', 'Año']] = df_si_so['Fecha'].str.split('-', expand=True)\n",
    "# df_si_so['Fecha'] = df_si_so['Año'] + '-' + df_si_so['Mes'] + '-' + df_si_so['Día']\n",
    "# df_si_so = df_si_so.drop(columns=['Día', 'Mes', 'Año'])"
   ]
  },
  {
   "cell_type": "code",
   "execution_count": 108,
   "metadata": {},
   "outputs": [],
   "source": [
    "# df_si_so['Fecha'] = df_si_so['Fecha'].dt.strftime('%Y-%m-%d')"
   ]
  },
  {
   "cell_type": "code",
   "execution_count": 109,
   "metadata": {},
   "outputs": [],
   "source": [
    "# df_si_so['Cantidad'].astype(int)"
   ]
  },
  {
   "cell_type": "code",
   "execution_count": 110,
   "metadata": {},
   "outputs": [
    {
     "data": {
      "text/plain": [
       "Fecha             object\n",
       "ID transaccion    object\n",
       "idSKU             object\n",
       "idSKU_R3          object\n",
       "Cantidad          object\n",
       "valor_trn          int64\n",
       "Canal             object\n",
       "Unidad Medida     object\n",
       "Pais              object\n",
       "Tipo_Venta        object\n",
       "dtype: object"
      ]
     },
     "execution_count": 110,
     "metadata": {},
     "output_type": "execute_result"
    }
   ],
   "source": [
    "df_si_so.dtypes"
   ]
  },
  {
   "cell_type": "code",
   "execution_count": 111,
   "metadata": {},
   "outputs": [
    {
     "data": {
      "text/plain": [
       "(1073351, 10)"
      ]
     },
     "execution_count": 111,
     "metadata": {},
     "output_type": "execute_result"
    }
   ],
   "source": [
    "df_si_so['Cantidad'] = pd.to_numeric(df_si_so['Cantidad'], errors='coerce')\n",
    "df_si_so= df_si_so[df_si_so['Cantidad'] > 0].copy()\n",
    "df_si_so.shape"
   ]
  },
  {
   "cell_type": "code",
   "execution_count": 112,
   "metadata": {},
   "outputs": [
    {
     "data": {
      "text/html": [
       "<div>\n",
       "<style scoped>\n",
       "    .dataframe tbody tr th:only-of-type {\n",
       "        vertical-align: middle;\n",
       "    }\n",
       "\n",
       "    .dataframe tbody tr th {\n",
       "        vertical-align: top;\n",
       "    }\n",
       "\n",
       "    .dataframe thead th {\n",
       "        text-align: right;\n",
       "    }\n",
       "</style>\n",
       "<table border=\"1\" class=\"dataframe\">\n",
       "  <thead>\n",
       "    <tr style=\"text-align: right;\">\n",
       "      <th></th>\n",
       "      <th>Fecha</th>\n",
       "      <th>ID transaccion</th>\n",
       "      <th>idSKU</th>\n",
       "      <th>idSKU_R3</th>\n",
       "      <th>Cantidad</th>\n",
       "      <th>valor_trn</th>\n",
       "      <th>Canal</th>\n",
       "      <th>Unidad Medida</th>\n",
       "      <th>Pais</th>\n",
       "      <th>Tipo_Venta</th>\n",
       "    </tr>\n",
       "  </thead>\n",
       "  <tbody>\n",
       "    <tr>\n",
       "      <th>143</th>\n",
       "      <td>01-01-2018</td>\n",
       "      <td>TR144</td>\n",
       "      <td>1004078</td>\n",
       "      <td>SKU144</td>\n",
       "      <td>2</td>\n",
       "      <td>0</td>\n",
       "      <td>CL MAYORISTA</td>\n",
       "      <td>UN</td>\n",
       "      <td>CL</td>\n",
       "      <td>SI</td>\n",
       "    </tr>\n",
       "    <tr>\n",
       "      <th>159</th>\n",
       "      <td>01-01-2018</td>\n",
       "      <td>TR160</td>\n",
       "      <td>1004224</td>\n",
       "      <td>SKU160</td>\n",
       "      <td>140</td>\n",
       "      <td>0</td>\n",
       "      <td>CL MAYORISTA</td>\n",
       "      <td>UN</td>\n",
       "      <td>CL</td>\n",
       "      <td>SI</td>\n",
       "    </tr>\n",
       "    <tr>\n",
       "      <th>161</th>\n",
       "      <td>01-01-2018</td>\n",
       "      <td>TR162</td>\n",
       "      <td>1004226</td>\n",
       "      <td>SKU162</td>\n",
       "      <td>2</td>\n",
       "      <td>0</td>\n",
       "      <td>CL MAYORISTA</td>\n",
       "      <td>UN</td>\n",
       "      <td>CL</td>\n",
       "      <td>SI</td>\n",
       "    </tr>\n",
       "    <tr>\n",
       "      <th>163</th>\n",
       "      <td>01-01-2018</td>\n",
       "      <td>TR164</td>\n",
       "      <td>1004227</td>\n",
       "      <td>SKU164</td>\n",
       "      <td>5</td>\n",
       "      <td>0</td>\n",
       "      <td>CL MAYORISTA</td>\n",
       "      <td>UN</td>\n",
       "      <td>CL</td>\n",
       "      <td>SI</td>\n",
       "    </tr>\n",
       "    <tr>\n",
       "      <th>173</th>\n",
       "      <td>01-01-2018</td>\n",
       "      <td>TR174</td>\n",
       "      <td>1004237</td>\n",
       "      <td>SKU174</td>\n",
       "      <td>3</td>\n",
       "      <td>0</td>\n",
       "      <td>CL MAYORISTA</td>\n",
       "      <td>UN</td>\n",
       "      <td>CL</td>\n",
       "      <td>SI</td>\n",
       "    </tr>\n",
       "    <tr>\n",
       "      <th>...</th>\n",
       "      <td>...</td>\n",
       "      <td>...</td>\n",
       "      <td>...</td>\n",
       "      <td>...</td>\n",
       "      <td>...</td>\n",
       "      <td>...</td>\n",
       "      <td>...</td>\n",
       "      <td>...</td>\n",
       "      <td>...</td>\n",
       "      <td>...</td>\n",
       "    </tr>\n",
       "    <tr>\n",
       "      <th>4852017</th>\n",
       "      <td>01-07-2024</td>\n",
       "      <td>TR4852018</td>\n",
       "      <td>750797</td>\n",
       "      <td>SKU4852018</td>\n",
       "      <td>1</td>\n",
       "      <td>0</td>\n",
       "      <td>CL RETAIL</td>\n",
       "      <td>UN</td>\n",
       "      <td>CL</td>\n",
       "      <td>SO</td>\n",
       "    </tr>\n",
       "    <tr>\n",
       "      <th>4852018</th>\n",
       "      <td>01-07-2024</td>\n",
       "      <td>TR4852019</td>\n",
       "      <td>750803</td>\n",
       "      <td>SKU4852019</td>\n",
       "      <td>4</td>\n",
       "      <td>0</td>\n",
       "      <td>CL RETAIL</td>\n",
       "      <td>UN</td>\n",
       "      <td>CL</td>\n",
       "      <td>SO</td>\n",
       "    </tr>\n",
       "    <tr>\n",
       "      <th>4852019</th>\n",
       "      <td>01-07-2024</td>\n",
       "      <td>TR4852020</td>\n",
       "      <td>750809</td>\n",
       "      <td>SKU4852020</td>\n",
       "      <td>3</td>\n",
       "      <td>0</td>\n",
       "      <td>CL RETAIL</td>\n",
       "      <td>UN</td>\n",
       "      <td>CL</td>\n",
       "      <td>SO</td>\n",
       "    </tr>\n",
       "    <tr>\n",
       "      <th>4852020</th>\n",
       "      <td>01-07-2024</td>\n",
       "      <td>TR4852021</td>\n",
       "      <td>750816</td>\n",
       "      <td>SKU4852021</td>\n",
       "      <td>4</td>\n",
       "      <td>0</td>\n",
       "      <td>CL RETAIL</td>\n",
       "      <td>UN</td>\n",
       "      <td>CL</td>\n",
       "      <td>SO</td>\n",
       "    </tr>\n",
       "    <tr>\n",
       "      <th>4852021</th>\n",
       "      <td>01-07-2024</td>\n",
       "      <td>TR4852022</td>\n",
       "      <td>752466</td>\n",
       "      <td>SKU4852022</td>\n",
       "      <td>4</td>\n",
       "      <td>0</td>\n",
       "      <td>CL RETAIL</td>\n",
       "      <td>UN</td>\n",
       "      <td>CL</td>\n",
       "      <td>SO</td>\n",
       "    </tr>\n",
       "  </tbody>\n",
       "</table>\n",
       "<p>1073351 rows × 10 columns</p>\n",
       "</div>"
      ],
      "text/plain": [
       "              Fecha ID transaccion    idSKU    idSKU_R3  Cantidad  valor_trn  \\\n",
       "143      01-01-2018          TR144  1004078      SKU144         2          0   \n",
       "159      01-01-2018          TR160  1004224      SKU160       140          0   \n",
       "161      01-01-2018          TR162  1004226      SKU162         2          0   \n",
       "163      01-01-2018          TR164  1004227      SKU164         5          0   \n",
       "173      01-01-2018          TR174  1004237      SKU174         3          0   \n",
       "...             ...            ...      ...         ...       ...        ...   \n",
       "4852017  01-07-2024      TR4852018   750797  SKU4852018         1          0   \n",
       "4852018  01-07-2024      TR4852019   750803  SKU4852019         4          0   \n",
       "4852019  01-07-2024      TR4852020   750809  SKU4852020         3          0   \n",
       "4852020  01-07-2024      TR4852021   750816  SKU4852021         4          0   \n",
       "4852021  01-07-2024      TR4852022   752466  SKU4852022         4          0   \n",
       "\n",
       "                Canal Unidad Medida Pais Tipo_Venta  \n",
       "143      CL MAYORISTA            UN   CL         SI  \n",
       "159      CL MAYORISTA            UN   CL         SI  \n",
       "161      CL MAYORISTA            UN   CL         SI  \n",
       "163      CL MAYORISTA            UN   CL         SI  \n",
       "173      CL MAYORISTA            UN   CL         SI  \n",
       "...               ...           ...  ...        ...  \n",
       "4852017     CL RETAIL            UN   CL         SO  \n",
       "4852018     CL RETAIL            UN   CL         SO  \n",
       "4852019     CL RETAIL            UN   CL         SO  \n",
       "4852020     CL RETAIL            UN   CL         SO  \n",
       "4852021     CL RETAIL            UN   CL         SO  \n",
       "\n",
       "[1073351 rows x 10 columns]"
      ]
     },
     "execution_count": 112,
     "metadata": {},
     "output_type": "execute_result"
    }
   ],
   "source": [
    "df_si_so"
   ]
  },
  {
   "cell_type": "code",
   "execution_count": 113,
   "metadata": {},
   "outputs": [
    {
     "name": "stdout",
     "output_type": "stream",
     "text": [
      "              Fecha ID transaccion    idSKU    idSKU_R3  Cantidad  valor_trn  \\\n",
      "0        01-01-2018            TR1  1004078        SKU1         2          0   \n",
      "1        01-01-2018            TR2  1004224        SKU2       140          0   \n",
      "2        01-01-2018            TR3  1004226        SKU3         2          0   \n",
      "3        01-01-2018            TR4  1004227        SKU4         5          0   \n",
      "4        01-01-2018            TR5  1004237        SKU5         3          0   \n",
      "...             ...            ...      ...         ...       ...        ...   \n",
      "1073346  01-07-2024      TR1073347   750797  SKU1073347         1          0   \n",
      "1073347  01-07-2024      TR1073348   750803  SKU1073348         4          0   \n",
      "1073348  01-07-2024      TR1073349   750809  SKU1073349         3          0   \n",
      "1073349  01-07-2024      TR1073350   750816  SKU1073350         4          0   \n",
      "1073350  01-07-2024      TR1073351   752466  SKU1073351         4          0   \n",
      "\n",
      "                Canal Unidad Medida Pais Tipo_Venta  \n",
      "0        CL MAYORISTA            UN   CL         SI  \n",
      "1        CL MAYORISTA            UN   CL         SI  \n",
      "2        CL MAYORISTA            UN   CL         SI  \n",
      "3        CL MAYORISTA            UN   CL         SI  \n",
      "4        CL MAYORISTA            UN   CL         SI  \n",
      "...               ...           ...  ...        ...  \n",
      "1073346     CL RETAIL            UN   CL         SO  \n",
      "1073347     CL RETAIL            UN   CL         SO  \n",
      "1073348     CL RETAIL            UN   CL         SO  \n",
      "1073349     CL RETAIL            UN   CL         SO  \n",
      "1073350     CL RETAIL            UN   CL         SO  \n",
      "\n",
      "[1073351 rows x 10 columns]\n"
     ]
    }
   ],
   "source": [
    "import pandas as pd\n",
    "\n",
    "# Suponiendo que ya tienes tu DataFrame df_si_so cargado\n",
    "# Ejemplo: df_si_so = pd.read_csv('ruta_al_archivo.csv')\n",
    "\n",
    "# Resetear el índice del DataFrame\n",
    "df_si_so.reset_index(drop=True, inplace=True)\n",
    "\n",
    "# Crear los nuevos valores incrementales para 'idSKU_R3' e 'ID transaccion'\n",
    "df_si_so['idSKU_R3'] = 'SKU' + (df_si_so.index + 1).astype(str)\n",
    "df_si_so['ID transaccion'] = 'TR' + (df_si_so.index + 1).astype(str)\n",
    "\n",
    "# Mostrar el DataFrame modificado\n",
    "print(df_si_so)\n",
    "\n",
    "# Guardar el DataFrame si es necesario\n",
    "# df_si_so.to_csv('ruta_al_archivo_actualizado.csv', index=False)\n"
   ]
  },
  {
   "cell_type": "code",
   "execution_count": 114,
   "metadata": {},
   "outputs": [
    {
     "data": {
      "text/plain": [
       "array(['01-01-2018', '01-02-2018', '01-03-2018', '01-04-2018',\n",
       "       '01-05-2018', '01-06-2018', '01-07-2018', '01-08-2018',\n",
       "       '01-09-2018', '01-10-2018', '01-11-2018', '01-12-2018',\n",
       "       '01-01-2019', '01-02-2019', '01-03-2019', '01-04-2019',\n",
       "       '01-05-2019', '01-06-2019', '01-07-2019', '01-08-2019',\n",
       "       '01-09-2019', '01-10-2019', '01-11-2019', '01-12-2019',\n",
       "       '01-01-2020', '01-02-2020', '01-03-2020', '01-04-2020',\n",
       "       '01-05-2020', '01-06-2020', '01-07-2020', '01-08-2020',\n",
       "       '01-09-2020', '01-10-2020', '01-11-2020', '01-12-2020',\n",
       "       '01-01-2021', '01-02-2021', '01-03-2021', '01-04-2021',\n",
       "       '01-05-2021', '01-06-2021', '01-07-2021', '01-08-2021',\n",
       "       '01-09-2021', '01-10-2021', '01-11-2021', '01-12-2021',\n",
       "       '01-01-2022', '01-02-2022', '01-03-2022', '01-04-2022',\n",
       "       '01-05-2022', '01-06-2022', '01-07-2022', '01-08-2022',\n",
       "       '01-09-2022', '01-10-2022', '01-11-2022', '01-12-2022',\n",
       "       '01-01-2023', '01-02-2023', '01-03-2023', '01-04-2023',\n",
       "       '01-05-2023', '01-06-2023', '01-07-2023', '01-08-2023',\n",
       "       '01-09-2023', '01-10-2023', '01-11-2023', '01-12-2023',\n",
       "       '01-01-2024', '01-02-2024', '01-03-2024', '01-04-2024',\n",
       "       '01-05-2024', '01-06-2024', '01-07-2024'], dtype=object)"
      ]
     },
     "execution_count": 114,
     "metadata": {},
     "output_type": "execute_result"
    }
   ],
   "source": [
    "ax=df_si_so['Fecha'].unique()\n",
    "ax"
   ]
  },
  {
   "cell_type": "code",
   "execution_count": 115,
   "metadata": {},
   "outputs": [],
   "source": [
    "# Diccionario para reemplazar las fechas\n",
    "reemplazos = {\n",
    "    '01-01-2018': '2018-01-01',\n",
    "    '01-02-2018': '2018-02-01',\n",
    "    '01-03-2018': '2018-03-01',\n",
    "    '01-04-2018': '2018-04-01',\n",
    "    '01-05-2018': '2018-05-01',\n",
    "    '01-06-2018': '2018-06-01',\n",
    "    '01-07-2018': '2018-07-01',\n",
    "    '01-08-2018': '2018-08-01',\n",
    "    '01-09-2018': '2018-09-01',\n",
    "    '01-10-2018': '2018-10-01',\n",
    "    '01-11-2018': '2018-11-01',\n",
    "    '01-12-2018': '2018-12-01',\n",
    "    '01-01-2019': '2019-01-01',\n",
    "    '01-02-2019': '2019-02-01',\n",
    "    '01-03-2019': '2019-03-01',\n",
    "    '01-04-2019': '2019-04-01',\n",
    "    '01-05-2019': '2019-05-01',\n",
    "    '01-06-2019': '2019-06-01',\n",
    "    '01-07-2019': '2019-07-01',\n",
    "    '01-08-2019': '2019-08-01',\n",
    "    '01-09-2019': '2019-09-01',\n",
    "    '01-10-2019': '2019-10-01',\n",
    "    '01-11-2019': '2019-11-01',\n",
    "    '01-12-2019': '2019-12-01',\n",
    "    '01-01-2020': '2020-01-01',\n",
    "    '01-02-2020': '2020-02-01',\n",
    "    '01-03-2020': '2020-03-01',\n",
    "    '01-04-2020': '2020-04-01',\n",
    "    '01-05-2020': '2020-05-01',\n",
    "    '01-06-2020': '2020-06-01',\n",
    "    '01-07-2020': '2020-07-01',\n",
    "    '01-08-2020': '2020-08-01',\n",
    "    '01-09-2020': '2020-09-01',\n",
    "    '01-10-2020': '2020-10-01',\n",
    "    '01-11-2020': '2020-11-01',\n",
    "    '01-12-2020': '2020-12-01',\n",
    "    '01-01-2021': '2021-01-01',\n",
    "    '01-02-2021': '2021-02-01',\n",
    "    '01-03-2021': '2021-03-01',\n",
    "    '01-04-2021': '2021-04-01',\n",
    "    '01-05-2021': '2021-05-01',\n",
    "    '01-06-2021': '2021-06-01',\n",
    "    '01-07-2021': '2021-07-01',\n",
    "    '01-08-2021': '2021-08-01',\n",
    "    '01-09-2021': '2021-09-01',\n",
    "    '01-10-2021': '2021-10-01',\n",
    "    '01-11-2021': '2021-11-01',\n",
    "    '01-12-2021': '2021-12-01',\n",
    "    '01-01-2022': '2022-01-01',\n",
    "    '01-02-2022': '2022-02-01',\n",
    "    '01-03-2022': '2022-03-01',\n",
    "    '01-04-2022': '2022-04-01',\n",
    "    '01-05-2022': '2022-05-01',\n",
    "    '01-06-2022': '2022-06-01',\n",
    "    '01-07-2022': '2022-07-01',\n",
    "    '01-08-2022': '2022-08-01',\n",
    "    '01-09-2022': '2022-09-01',\n",
    "    '01-10-2022': '2022-10-01',\n",
    "    '01-11-2022': '2022-11-01',\n",
    "    '01-12-2022': '2022-12-01',\n",
    "    '01-01-2023': '2023-01-01',\n",
    "    '01-02-2023': '2023-02-01',\n",
    "    '01-03-2023': '2023-03-01',\n",
    "    '01-04-2023': '2023-04-01',\n",
    "    '01-05-2023': '2023-05-01',\n",
    "    '01-06-2023': '2023-06-01',\n",
    "    '01-07-2023': '2023-07-01',\n",
    "    '01-08-2023': '2023-08-01',\n",
    "    '01-09-2023': '2023-09-01',\n",
    "    '01-10-2023': '2023-10-01',\n",
    "    '01-11-2023': '2023-11-01',\n",
    "    '01-12-2023': '2023-12-01',\n",
    "    '01-01-2024': '2024-01-01',\n",
    "    '01-02-2024': '2024-02-01',\n",
    "    '01-03-2024': '2024-03-01',\n",
    "    '01-04-2024': '2024-04-01',\n",
    "    '01-05-2024': '2024-05-01',\n",
    "    '01-06-2024': '2024-06-01',\n",
    "    '01-07-2024': '2024-07-01'\n",
    "}\n",
    "\n",
    "# Reemplazar las fechas en el DataFrame\n",
    "df_si_so['Fecha'] = df_si_so['Fecha'].replace(reemplazos)\n"
   ]
  },
  {
   "cell_type": "code",
   "execution_count": 116,
   "metadata": {},
   "outputs": [
    {
     "data": {
      "text/html": [
       "<div>\n",
       "<style scoped>\n",
       "    .dataframe tbody tr th:only-of-type {\n",
       "        vertical-align: middle;\n",
       "    }\n",
       "\n",
       "    .dataframe tbody tr th {\n",
       "        vertical-align: top;\n",
       "    }\n",
       "\n",
       "    .dataframe thead th {\n",
       "        text-align: right;\n",
       "    }\n",
       "</style>\n",
       "<table border=\"1\" class=\"dataframe\">\n",
       "  <thead>\n",
       "    <tr style=\"text-align: right;\">\n",
       "      <th></th>\n",
       "      <th>Fecha</th>\n",
       "      <th>ID transaccion</th>\n",
       "      <th>idSKU</th>\n",
       "      <th>idSKU_R3</th>\n",
       "      <th>Cantidad</th>\n",
       "      <th>valor_trn</th>\n",
       "      <th>Canal</th>\n",
       "      <th>Unidad Medida</th>\n",
       "      <th>Pais</th>\n",
       "      <th>Tipo_Venta</th>\n",
       "    </tr>\n",
       "  </thead>\n",
       "  <tbody>\n",
       "    <tr>\n",
       "      <th>0</th>\n",
       "      <td>2018-01-01</td>\n",
       "      <td>TR1</td>\n",
       "      <td>1004078</td>\n",
       "      <td>SKU1</td>\n",
       "      <td>2</td>\n",
       "      <td>0</td>\n",
       "      <td>CL MAYORISTA</td>\n",
       "      <td>UN</td>\n",
       "      <td>CL</td>\n",
       "      <td>SI</td>\n",
       "    </tr>\n",
       "    <tr>\n",
       "      <th>1</th>\n",
       "      <td>2018-01-01</td>\n",
       "      <td>TR2</td>\n",
       "      <td>1004224</td>\n",
       "      <td>SKU2</td>\n",
       "      <td>140</td>\n",
       "      <td>0</td>\n",
       "      <td>CL MAYORISTA</td>\n",
       "      <td>UN</td>\n",
       "      <td>CL</td>\n",
       "      <td>SI</td>\n",
       "    </tr>\n",
       "    <tr>\n",
       "      <th>2</th>\n",
       "      <td>2018-01-01</td>\n",
       "      <td>TR3</td>\n",
       "      <td>1004226</td>\n",
       "      <td>SKU3</td>\n",
       "      <td>2</td>\n",
       "      <td>0</td>\n",
       "      <td>CL MAYORISTA</td>\n",
       "      <td>UN</td>\n",
       "      <td>CL</td>\n",
       "      <td>SI</td>\n",
       "    </tr>\n",
       "    <tr>\n",
       "      <th>3</th>\n",
       "      <td>2018-01-01</td>\n",
       "      <td>TR4</td>\n",
       "      <td>1004227</td>\n",
       "      <td>SKU4</td>\n",
       "      <td>5</td>\n",
       "      <td>0</td>\n",
       "      <td>CL MAYORISTA</td>\n",
       "      <td>UN</td>\n",
       "      <td>CL</td>\n",
       "      <td>SI</td>\n",
       "    </tr>\n",
       "    <tr>\n",
       "      <th>4</th>\n",
       "      <td>2018-01-01</td>\n",
       "      <td>TR5</td>\n",
       "      <td>1004237</td>\n",
       "      <td>SKU5</td>\n",
       "      <td>3</td>\n",
       "      <td>0</td>\n",
       "      <td>CL MAYORISTA</td>\n",
       "      <td>UN</td>\n",
       "      <td>CL</td>\n",
       "      <td>SI</td>\n",
       "    </tr>\n",
       "    <tr>\n",
       "      <th>...</th>\n",
       "      <td>...</td>\n",
       "      <td>...</td>\n",
       "      <td>...</td>\n",
       "      <td>...</td>\n",
       "      <td>...</td>\n",
       "      <td>...</td>\n",
       "      <td>...</td>\n",
       "      <td>...</td>\n",
       "      <td>...</td>\n",
       "      <td>...</td>\n",
       "    </tr>\n",
       "    <tr>\n",
       "      <th>1073346</th>\n",
       "      <td>2024-07-01</td>\n",
       "      <td>TR1073347</td>\n",
       "      <td>750797</td>\n",
       "      <td>SKU1073347</td>\n",
       "      <td>1</td>\n",
       "      <td>0</td>\n",
       "      <td>CL RETAIL</td>\n",
       "      <td>UN</td>\n",
       "      <td>CL</td>\n",
       "      <td>SO</td>\n",
       "    </tr>\n",
       "    <tr>\n",
       "      <th>1073347</th>\n",
       "      <td>2024-07-01</td>\n",
       "      <td>TR1073348</td>\n",
       "      <td>750803</td>\n",
       "      <td>SKU1073348</td>\n",
       "      <td>4</td>\n",
       "      <td>0</td>\n",
       "      <td>CL RETAIL</td>\n",
       "      <td>UN</td>\n",
       "      <td>CL</td>\n",
       "      <td>SO</td>\n",
       "    </tr>\n",
       "    <tr>\n",
       "      <th>1073348</th>\n",
       "      <td>2024-07-01</td>\n",
       "      <td>TR1073349</td>\n",
       "      <td>750809</td>\n",
       "      <td>SKU1073349</td>\n",
       "      <td>3</td>\n",
       "      <td>0</td>\n",
       "      <td>CL RETAIL</td>\n",
       "      <td>UN</td>\n",
       "      <td>CL</td>\n",
       "      <td>SO</td>\n",
       "    </tr>\n",
       "    <tr>\n",
       "      <th>1073349</th>\n",
       "      <td>2024-07-01</td>\n",
       "      <td>TR1073350</td>\n",
       "      <td>750816</td>\n",
       "      <td>SKU1073350</td>\n",
       "      <td>4</td>\n",
       "      <td>0</td>\n",
       "      <td>CL RETAIL</td>\n",
       "      <td>UN</td>\n",
       "      <td>CL</td>\n",
       "      <td>SO</td>\n",
       "    </tr>\n",
       "    <tr>\n",
       "      <th>1073350</th>\n",
       "      <td>2024-07-01</td>\n",
       "      <td>TR1073351</td>\n",
       "      <td>752466</td>\n",
       "      <td>SKU1073351</td>\n",
       "      <td>4</td>\n",
       "      <td>0</td>\n",
       "      <td>CL RETAIL</td>\n",
       "      <td>UN</td>\n",
       "      <td>CL</td>\n",
       "      <td>SO</td>\n",
       "    </tr>\n",
       "  </tbody>\n",
       "</table>\n",
       "<p>1073351 rows × 10 columns</p>\n",
       "</div>"
      ],
      "text/plain": [
       "              Fecha ID transaccion    idSKU    idSKU_R3  Cantidad  valor_trn  \\\n",
       "0        2018-01-01            TR1  1004078        SKU1         2          0   \n",
       "1        2018-01-01            TR2  1004224        SKU2       140          0   \n",
       "2        2018-01-01            TR3  1004226        SKU3         2          0   \n",
       "3        2018-01-01            TR4  1004227        SKU4         5          0   \n",
       "4        2018-01-01            TR5  1004237        SKU5         3          0   \n",
       "...             ...            ...      ...         ...       ...        ...   \n",
       "1073346  2024-07-01      TR1073347   750797  SKU1073347         1          0   \n",
       "1073347  2024-07-01      TR1073348   750803  SKU1073348         4          0   \n",
       "1073348  2024-07-01      TR1073349   750809  SKU1073349         3          0   \n",
       "1073349  2024-07-01      TR1073350   750816  SKU1073350         4          0   \n",
       "1073350  2024-07-01      TR1073351   752466  SKU1073351         4          0   \n",
       "\n",
       "                Canal Unidad Medida Pais Tipo_Venta  \n",
       "0        CL MAYORISTA            UN   CL         SI  \n",
       "1        CL MAYORISTA            UN   CL         SI  \n",
       "2        CL MAYORISTA            UN   CL         SI  \n",
       "3        CL MAYORISTA            UN   CL         SI  \n",
       "4        CL MAYORISTA            UN   CL         SI  \n",
       "...               ...           ...  ...        ...  \n",
       "1073346     CL RETAIL            UN   CL         SO  \n",
       "1073347     CL RETAIL            UN   CL         SO  \n",
       "1073348     CL RETAIL            UN   CL         SO  \n",
       "1073349     CL RETAIL            UN   CL         SO  \n",
       "1073350     CL RETAIL            UN   CL         SO  \n",
       "\n",
       "[1073351 rows x 10 columns]"
      ]
     },
     "execution_count": 116,
     "metadata": {},
     "output_type": "execute_result"
    }
   ],
   "source": [
    "df_si_so"
   ]
  },
  {
   "cell_type": "code",
   "execution_count": 117,
   "metadata": {},
   "outputs": [],
   "source": [
    "anio_mes_leer = fecha_actual.strftime(f\"%Y-%m Ciclo {meses_espanol_abreviado[mes_siguiente]}-%y\")\n",
    "nombre_archivosi = fecha_actual.strftime(f\"SI Ciclo {meses_espanol_abreviado[mes_siguiente]}-%Y\")\n",
    "nombre_archivoso = fecha_actual.strftime(f\"SO Ciclo {meses_espanol_abreviado[mes_siguiente]}-%Y\")\n",
    "nombre_archivosi_so = fecha_actual.strftime(f\"SI_SO Ciclo {meses_espanol_abreviado[mes_siguiente]}-%Y\")\n",
    "anio_mes_guardar = fecha_actual.strftime(f\"%Y-%m Ciclo {meses_espanol_abreviado[mes_siguiente]}-%y\")\n",
    "ruta_guardar_csvsi = f\"C:\\\\Users\\\\{usuario}.dercoparts\\\\DERCO CHILE REPUESTOS SpA\\\\Planificación y abastecimiento - Documentos\\\\Planificación y Compras Anastasia\\\\Carga Historia de Venta\\\\{anio_mes_guardar}\\\\AFM\\\\Correccion Dispo\\\\Python_Correcion\\\\{nombre_archivosi}2.csv\"\n",
    "ruta_guardar_csvso = f\"C:\\\\Users\\\\{usuario}\\\\DERCO CHILE REPUESTOS SpA\\\\Planificación y abastecimiento - Documentos\\\\Planificación y Compras Anastasia\\\\Carga Historia de Venta\\\\{anio_mes_guardar}\\\\AFM\\\\Correccion Dispo\\\\Python_Correcion\\\\{nombre_archivoso}2.csv\"\n",
    "ruta_guardar_csvsi_so = f\"C:\\\\Users\\\\{usuario}.dercoparts\\\\DERCO CHILE REPUESTOS SpA\\\\Planificación y abastecimiento - Documentos\\\\Planificación y Compras Anastasia\\\\Carga Historia de Venta\\\\{anio_mes_guardar}\\\\AFM\\\\Correccion Dispo\\\\Python_Correcion\\\\{nombre_archivosi_so}AE.csv\"\n",
    "os.makedirs(os.path.dirname(ruta_guardar_csvsi), exist_ok=True)\n",
    "df_si_so.to_csv(ruta_guardar_csvsi_so, sep=',', index=False, encoding='utf-8')\n",
    "\n",
    "# os.makedirs(os.path.dirname(ruta_guardar_csvso), exist_ok=True)\n",
    "# df_so.to_csv(ruta_guardar_csvso, sep=',', index=False, encoding='utf-8')\n"
   ]
  },
  {
   "cell_type": "code",
   "execution_count": null,
   "metadata": {},
   "outputs": [],
   "source": []
  },
  {
   "cell_type": "code",
   "execution_count": 118,
   "metadata": {},
   "outputs": [
    {
     "data": {
      "text/plain": [
       "'C:\\\\Users\\\\etorres\\\\DERCO CHILE REPUESTOS SpA\\\\Planificación y abastecimiento - Documentos\\\\Planificación y Compras Anastasia\\\\Carga Historia de Venta\\\\2024-08 Ciclo Sep-24\\\\AFM\\\\Correccion Dispo\\\\Python_Correcion\\\\SO Ciclo Sep-20242.csv'"
      ]
     },
     "execution_count": 118,
     "metadata": {},
     "output_type": "execute_result"
    }
   ],
   "source": [
    "ruta_guardar_csvso"
   ]
  },
  {
   "cell_type": "markdown",
   "metadata": {},
   "source": [
    "CONTINUAR CON METODOS POR DEMAND TYPE, CODIGO MODELOS_DEMAND_TYPE.ipynb >>>>>>>>>>>>>>>"
   ]
  }
 ],
 "metadata": {
  "kernelspec": {
   "display_name": "Python 3",
   "language": "python",
   "name": "python3"
  },
  "language_info": {
   "codemirror_mode": {
    "name": "ipython",
    "version": 3
   },
   "file_extension": ".py",
   "mimetype": "text/x-python",
   "name": "python",
   "nbconvert_exporter": "python",
   "pygments_lexer": "ipython3",
   "version": "3.12.4"
  }
 },
 "nbformat": 4,
 "nbformat_minor": 2
}
