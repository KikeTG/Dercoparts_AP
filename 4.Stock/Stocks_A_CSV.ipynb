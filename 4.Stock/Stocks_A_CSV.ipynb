{
 "cells": [
  {
   "cell_type": "code",
   "execution_count": 1,
   "metadata": {},
   "outputs": [
    {
     "name": "stdout",
     "output_type": "stream",
     "text": [
      "Archivo convertido: 2024-11-04 Stock S4.csv\n",
      "Archivo convertido: 2024-11-11 Stock S4.csv\n",
      "Archivo convertido: 2024-11-18 Stock S4.csv\n",
      "Archivo convertido: 2024-11-25 Stock S4.csv\n",
      "Archivo convertido: 2024-12-02 Stock S4.csv\n",
      "Conversión completada.\n"
     ]
    }
   ],
   "source": [
    "import pandas as pd\n",
    "import os\n",
    "\n",
    "directorio = r\"C:\\Users\\etorres.DERCOPARTS\\DERCO CHILE REPUESTOS SpA\\Planificación y abastecimiento - Documentoss\\Planificación y Compras AFM\\S&OP Demanda\\Codigos Demanda\\Stock Histórico\\convertir stocks nuevos\"\n",
    "\n",
    "archivos_excel = [f for f in os.listdir(directorio) if f.endswith('.XLSX') or f.endswith('.xls')]\n",
    "\n",
    "for archivo in archivos_excel:\n",
    "    ruta_excel = os.path.join(directorio, archivo)\n",
    "    df = pd.read_excel(ruta_excel, sheet_name='Sheet1')\n",
    "    nombre_csv = os.path.splitext(archivo)[0] + '.csv'\n",
    "    ruta_csv = os.path.join(directorio, nombre_csv)\n",
    "    df.to_csv(ruta_csv, sep=';', decimal=',', index=False)\n",
    "    print(f\"Archivo convertido: {nombre_csv}\")\n",
    "\n",
    "print(\"Conversión completada.\")\n"
   ]
  }
 ],
 "metadata": {
  "kernelspec": {
   "display_name": "Python 3",
   "language": "python",
   "name": "python3"
  },
  "language_info": {
   "codemirror_mode": {
    "name": "ipython",
    "version": 3
   },
   "file_extension": ".py",
   "mimetype": "text/x-python",
   "name": "python",
   "nbconvert_exporter": "python",
   "pygments_lexer": "ipython3",
   "version": "3.12.4"
  }
 },
 "nbformat": 4,
 "nbformat_minor": 2
}
