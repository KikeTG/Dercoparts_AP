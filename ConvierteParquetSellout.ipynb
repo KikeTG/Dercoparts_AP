{
 "cells": [
  {
   "cell_type": "code",
   "execution_count": 1,
   "metadata": {},
   "outputs": [],
   "source": [
    "import os\n",
    "import pandas as pd\n",
    "import datetime as datetime"
   ]
  },
  {
   "cell_type": "code",
   "execution_count": 2,
   "metadata": {},
   "outputs": [
    {
     "data": {
      "text/html": [
       "<div>\n",
       "<style scoped>\n",
       "    .dataframe tbody tr th:only-of-type {\n",
       "        vertical-align: middle;\n",
       "    }\n",
       "\n",
       "    .dataframe tbody tr th {\n",
       "        vertical-align: top;\n",
       "    }\n",
       "\n",
       "    .dataframe thead th {\n",
       "        text-align: right;\n",
       "    }\n",
       "</style>\n",
       "<table border=\"1\" class=\"dataframe\">\n",
       "  <thead>\n",
       "    <tr style=\"text-align: right;\">\n",
       "      <th></th>\n",
       "      <th>Canal</th>\n",
       "      <th>Material</th>\n",
       "      <th>Venta UMB</th>\n",
       "      <th>Mes</th>\n",
       "      <th>SI/SO</th>\n",
       "      <th>Ultimo Eslabón</th>\n",
       "      <th>Tipo</th>\n",
       "      <th>Fuente</th>\n",
       "      <th>Canal 2</th>\n",
       "      <th>Canal 3</th>\n",
       "    </tr>\n",
       "  </thead>\n",
       "  <tbody>\n",
       "    <tr>\n",
       "      <th>0</th>\n",
       "      <td>AP</td>\n",
       "      <td>1000147</td>\n",
       "      <td>52</td>\n",
       "      <td>2021-06-01</td>\n",
       "      <td>SO</td>\n",
       "      <td>1000147</td>\n",
       "      <td>ACC</td>\n",
       "      <td>Sell Out MB51 - SISO</td>\n",
       "      <td>Retail</td>\n",
       "      <td>CL RETAIL</td>\n",
       "    </tr>\n",
       "    <tr>\n",
       "      <th>1</th>\n",
       "      <td>AP</td>\n",
       "      <td>1000148</td>\n",
       "      <td>75</td>\n",
       "      <td>2021-06-01</td>\n",
       "      <td>SO</td>\n",
       "      <td>1000148</td>\n",
       "      <td>ACC</td>\n",
       "      <td>Sell Out MB51 - SISO</td>\n",
       "      <td>Retail</td>\n",
       "      <td>CL RETAIL</td>\n",
       "    </tr>\n",
       "  </tbody>\n",
       "</table>\n",
       "</div>"
      ],
      "text/plain": [
       "  Canal  Material  Venta UMB        Mes SI/SO  Ultimo Eslabón Tipo  \\\n",
       "0    AP   1000147         52 2021-06-01    SO         1000147  ACC   \n",
       "1    AP   1000148         75 2021-06-01    SO         1000148  ACC   \n",
       "\n",
       "                 Fuente Canal 2     Canal 3  \n",
       "0  Sell Out MB51 - SISO   Retail  CL RETAIL  \n",
       "1  Sell Out MB51 - SISO   Retail  CL RETAIL  "
      ]
     },
     "execution_count": 2,
     "metadata": {},
     "output_type": "execute_result"
    }
   ],
   "source": [
    "ruta_base_usuario1 = os.path.expanduser(\"~\")\n",
    "ruta_directorio_base1 = os.path.join(ruta_base_usuario1, \"Inchcape\", \"Planificación y abastecimiento AFM - Documentos\", \"Planificación y Compras AFM\", \"S&OP Demanda\", \"Codigos Demanda\", \"Corrección VTA\")\n",
    "ruta_archivo1 = os.path.join(ruta_directorio_base1, \"Part1SellOut.xlsx\")\n",
    "sellout1 = pd.read_excel(ruta_archivo1) # Leer la hoja \"Sheet1\"\n",
    "sellout1.head(2)"
   ]
  },
  {
   "cell_type": "code",
   "execution_count": 3,
   "metadata": {},
   "outputs": [
    {
     "data": {
      "text/plain": [
       "36287376"
      ]
     },
     "execution_count": 3,
     "metadata": {},
     "output_type": "execute_result"
    }
   ],
   "source": [
    "Ventas =sellout1[\"Venta UMB\"].sum()\n",
    "Ventas\n",
    "# 36287376"
   ]
  },
  {
   "cell_type": "code",
   "execution_count": 4,
   "metadata": {},
   "outputs": [
    {
     "name": "stdout",
     "output_type": "stream",
     "text": [
      "Canal                     object\n",
      "Material                  object\n",
      "Venta UMB                  int64\n",
      "Mes               datetime64[ns]\n",
      "SI/SO                     object\n",
      "Ultimo Eslabón             int64\n",
      "Tipo                      object\n",
      "Fuente                    object\n",
      "Canal 2                   object\n",
      "Canal 3                   object\n",
      "dtype: object\n"
     ]
    }
   ],
   "source": [
    "sellout1['Venta UMB'] = pd.to_numeric(sellout1['Venta UMB'], errors='coerce')\n",
    "sellout1['Material'] = sellout1['Material'].astype(str)\n",
    "\n",
    "# Verifica la conversión\n",
    "print(sellout1.dtypes)"
   ]
  },
  {
   "cell_type": "code",
   "execution_count": 6,
   "metadata": {},
   "outputs": [
    {
     "data": {
      "text/html": [
       "<div>\n",
       "<style scoped>\n",
       "    .dataframe tbody tr th:only-of-type {\n",
       "        vertical-align: middle;\n",
       "    }\n",
       "\n",
       "    .dataframe tbody tr th {\n",
       "        vertical-align: top;\n",
       "    }\n",
       "\n",
       "    .dataframe thead th {\n",
       "        text-align: right;\n",
       "    }\n",
       "</style>\n",
       "<table border=\"1\" class=\"dataframe\">\n",
       "  <thead>\n",
       "    <tr style=\"text-align: right;\">\n",
       "      <th></th>\n",
       "      <th>Canal</th>\n",
       "      <th>Material</th>\n",
       "      <th>Venta UMB</th>\n",
       "      <th>Mes</th>\n",
       "      <th>SI/SO</th>\n",
       "      <th>Ultimo Eslabón</th>\n",
       "      <th>Tipo</th>\n",
       "      <th>Fuente</th>\n",
       "      <th>Canal 2</th>\n",
       "      <th>Canal 3</th>\n",
       "    </tr>\n",
       "  </thead>\n",
       "  <tbody>\n",
       "    <tr>\n",
       "      <th>0</th>\n",
       "      <td>AP</td>\n",
       "      <td>1000144</td>\n",
       "      <td>110.0</td>\n",
       "      <td>2021-12-01</td>\n",
       "      <td>SO</td>\n",
       "      <td>1000144</td>\n",
       "      <td>ACC</td>\n",
       "      <td>Sell Out MB51 - SISO</td>\n",
       "      <td>Retail</td>\n",
       "      <td>CL RETAIL</td>\n",
       "    </tr>\n",
       "    <tr>\n",
       "      <th>1</th>\n",
       "      <td>AP</td>\n",
       "      <td>1000147</td>\n",
       "      <td>44.0</td>\n",
       "      <td>2021-12-01</td>\n",
       "      <td>SO</td>\n",
       "      <td>1000147</td>\n",
       "      <td>ACC</td>\n",
       "      <td>Sell Out MB51 - SISO</td>\n",
       "      <td>Retail</td>\n",
       "      <td>CL RETAIL</td>\n",
       "    </tr>\n",
       "  </tbody>\n",
       "</table>\n",
       "</div>"
      ],
      "text/plain": [
       "  Canal  Material  Venta UMB        Mes SI/SO  Ultimo Eslabón Tipo  \\\n",
       "0    AP   1000144      110.0 2021-12-01    SO         1000144  ACC   \n",
       "1    AP   1000147       44.0 2021-12-01    SO         1000147  ACC   \n",
       "\n",
       "                 Fuente Canal 2    Canal 3  \n",
       "0  Sell Out MB51 - SISO  Retail  CL RETAIL  \n",
       "1  Sell Out MB51 - SISO  Retail  CL RETAIL  "
      ]
     },
     "execution_count": 6,
     "metadata": {},
     "output_type": "execute_result"
    }
   ],
   "source": [
    "ruta_base_usuario1 = os.path.expanduser(\"~\")\n",
    "ruta_directorio_base1 = os.path.join(ruta_base_usuario1, \"Inchcape\", \"Planificación y abastecimiento AFM - Documentos\", \"Planificación y Compras AFM\", \"S&OP Demanda\", \"Codigos Demanda\", \"Corrección VTA\")\n",
    "ruta_archivo1 = os.path.join(ruta_directorio_base1, \"Part2SellOut.xlsx\")\n",
    "sellout2 = pd.read_excel(ruta_archivo1)  # Leer la hoja \"Sheet1\"\n",
    "sellout2.head(2)"
   ]
  },
  {
   "cell_type": "code",
   "execution_count": 7,
   "metadata": {},
   "outputs": [
    {
     "data": {
      "text/plain": [
       "Index(['Canal', 'Material', 'Venta UMB', 'Mes', 'SI/SO', 'Ultimo Eslabón',\n",
       "       'Tipo', 'Fuente', 'Canal 2 ', 'Canal 3'],\n",
       "      dtype='object')"
      ]
     },
     "execution_count": 7,
     "metadata": {},
     "output_type": "execute_result"
    }
   ],
   "source": [
    "sellout1.columns"
   ]
  },
  {
   "cell_type": "code",
   "execution_count": 8,
   "metadata": {},
   "outputs": [
    {
     "name": "stdout",
     "output_type": "stream",
     "text": [
      "Canal                     object\n",
      "Material                  object\n",
      "Venta UMB                float64\n",
      "Mes               datetime64[ns]\n",
      "SI/SO                     object\n",
      "Ultimo Eslabón             int64\n",
      "Tipo                      object\n",
      "Fuente                    object\n",
      "Canal 2                   object\n",
      "Canal 3                   object\n",
      "dtype: object\n"
     ]
    }
   ],
   "source": [
    "sellout2['Venta UMB'] = pd.to_numeric(sellout2['Venta UMB'], errors='coerce')\n",
    "sellout2['Material'] = sellout2['Material'].astype(str)\n",
    "# Verifica la conversión\n",
    "print(sellout2.dtypes)"
   ]
  },
  {
   "cell_type": "code",
   "execution_count": 9,
   "metadata": {},
   "outputs": [
    {
     "data": {
      "text/plain": [
       "22267090.080333337"
      ]
     },
     "execution_count": 9,
     "metadata": {},
     "output_type": "execute_result"
    }
   ],
   "source": [
    "Ventas2 =sellout2[\"Venta UMB\"].sum()\n",
    "Ventas2\n",
    "# 22903480.080333337\n",
    "# 22267090.080333337"
   ]
  },
  {
   "cell_type": "code",
   "execution_count": 10,
   "metadata": {},
   "outputs": [
    {
     "data": {
      "text/plain": [
       "Index(['Canal', 'Material', 'Venta UMB', 'Mes', 'SI/SO', 'Ultimo Eslabón',\n",
       "       'Tipo', 'Fuente', 'Canal 2', 'Canal 3'],\n",
       "      dtype='object')"
      ]
     },
     "execution_count": 10,
     "metadata": {},
     "output_type": "execute_result"
    }
   ],
   "source": [
    "sellout2.columns"
   ]
  },
  {
   "cell_type": "code",
   "execution_count": 11,
   "metadata": {},
   "outputs": [],
   "source": [
    "\n",
    "sellout1.rename(columns={'Canal 2 ': 'Canal 2'}, inplace=True)"
   ]
  },
  {
   "cell_type": "code",
   "execution_count": 12,
   "metadata": {},
   "outputs": [
    {
     "data": {
      "text/html": [
       "<div>\n",
       "<style scoped>\n",
       "    .dataframe tbody tr th:only-of-type {\n",
       "        vertical-align: middle;\n",
       "    }\n",
       "\n",
       "    .dataframe tbody tr th {\n",
       "        vertical-align: top;\n",
       "    }\n",
       "\n",
       "    .dataframe thead th {\n",
       "        text-align: right;\n",
       "    }\n",
       "</style>\n",
       "<table border=\"1\" class=\"dataframe\">\n",
       "  <thead>\n",
       "    <tr style=\"text-align: right;\">\n",
       "      <th></th>\n",
       "      <th>Canal</th>\n",
       "      <th>Material</th>\n",
       "      <th>Venta UMB</th>\n",
       "      <th>Mes</th>\n",
       "      <th>SI/SO</th>\n",
       "      <th>Ultimo Eslabón</th>\n",
       "      <th>Tipo</th>\n",
       "      <th>Fuente</th>\n",
       "      <th>Canal 2</th>\n",
       "      <th>Canal 3</th>\n",
       "    </tr>\n",
       "  </thead>\n",
       "  <tbody>\n",
       "    <tr>\n",
       "      <th>0</th>\n",
       "      <td>AP</td>\n",
       "      <td>1000147</td>\n",
       "      <td>52.0</td>\n",
       "      <td>2021-06-01</td>\n",
       "      <td>SO</td>\n",
       "      <td>1000147</td>\n",
       "      <td>ACC</td>\n",
       "      <td>Sell Out MB51 - SISO</td>\n",
       "      <td>Retail</td>\n",
       "      <td>CL RETAIL</td>\n",
       "    </tr>\n",
       "    <tr>\n",
       "      <th>1</th>\n",
       "      <td>AP</td>\n",
       "      <td>1000148</td>\n",
       "      <td>75.0</td>\n",
       "      <td>2021-06-01</td>\n",
       "      <td>SO</td>\n",
       "      <td>1000148</td>\n",
       "      <td>ACC</td>\n",
       "      <td>Sell Out MB51 - SISO</td>\n",
       "      <td>Retail</td>\n",
       "      <td>CL RETAIL</td>\n",
       "    </tr>\n",
       "  </tbody>\n",
       "</table>\n",
       "</div>"
      ],
      "text/plain": [
       "  Canal Material  Venta UMB        Mes SI/SO  Ultimo Eslabón Tipo  \\\n",
       "0    AP  1000147       52.0 2021-06-01    SO         1000147  ACC   \n",
       "1    AP  1000148       75.0 2021-06-01    SO         1000148  ACC   \n",
       "\n",
       "                 Fuente Canal 2    Canal 3  \n",
       "0  Sell Out MB51 - SISO  Retail  CL RETAIL  \n",
       "1  Sell Out MB51 - SISO  Retail  CL RETAIL  "
      ]
     },
     "execution_count": 12,
     "metadata": {},
     "output_type": "execute_result"
    }
   ],
   "source": [
    "sellout_concat = pd.concat([sellout1, sellout2], ignore_index=True)\n",
    "sellout_concat.head(2)"
   ]
  },
  {
   "cell_type": "code",
   "execution_count": 13,
   "metadata": {},
   "outputs": [
    {
     "data": {
      "text/html": [
       "<div>\n",
       "<style scoped>\n",
       "    .dataframe tbody tr th:only-of-type {\n",
       "        vertical-align: middle;\n",
       "    }\n",
       "\n",
       "    .dataframe tbody tr th {\n",
       "        vertical-align: top;\n",
       "    }\n",
       "\n",
       "    .dataframe thead th {\n",
       "        text-align: right;\n",
       "    }\n",
       "</style>\n",
       "<table border=\"1\" class=\"dataframe\">\n",
       "  <thead>\n",
       "    <tr style=\"text-align: right;\">\n",
       "      <th></th>\n",
       "      <th>Canal</th>\n",
       "      <th>Material</th>\n",
       "      <th>Venta UMB</th>\n",
       "      <th>Mes</th>\n",
       "      <th>SI/SO</th>\n",
       "      <th>Ultimo Eslabón</th>\n",
       "      <th>Tipo</th>\n",
       "      <th>Fuente</th>\n",
       "      <th>Canal 2</th>\n",
       "      <th>Canal 3</th>\n",
       "    </tr>\n",
       "  </thead>\n",
       "  <tbody>\n",
       "    <tr>\n",
       "      <th>1349523</th>\n",
       "      <td>Sodimac</td>\n",
       "      <td>454487</td>\n",
       "      <td>15.0</td>\n",
       "      <td>2024-03-01</td>\n",
       "      <td>SO</td>\n",
       "      <td>454487</td>\n",
       "      <td>LUB</td>\n",
       "      <td>Sell Out GT abr-24</td>\n",
       "      <td>Sodimac</td>\n",
       "      <td>CL SODIMAC</td>\n",
       "    </tr>\n",
       "    <tr>\n",
       "      <th>1349524</th>\n",
       "      <td>Sodimac</td>\n",
       "      <td>124236</td>\n",
       "      <td>40.0</td>\n",
       "      <td>2024-03-01</td>\n",
       "      <td>SO</td>\n",
       "      <td>124236</td>\n",
       "      <td>LUB</td>\n",
       "      <td>Sell Out GT abr-24</td>\n",
       "      <td>Sodimac</td>\n",
       "      <td>CL SODIMAC</td>\n",
       "    </tr>\n",
       "  </tbody>\n",
       "</table>\n",
       "</div>"
      ],
      "text/plain": [
       "           Canal Material  Venta UMB        Mes SI/SO  Ultimo Eslabón Tipo  \\\n",
       "1349523  Sodimac   454487       15.0 2024-03-01    SO          454487  LUB   \n",
       "1349524  Sodimac   124236       40.0 2024-03-01    SO          124236  LUB   \n",
       "\n",
       "                     Fuente  Canal 2     Canal 3  \n",
       "1349523  Sell Out GT abr-24  Sodimac  CL SODIMAC  \n",
       "1349524  Sell Out GT abr-24  Sodimac  CL SODIMAC  "
      ]
     },
     "execution_count": 13,
     "metadata": {},
     "output_type": "execute_result"
    }
   ],
   "source": [
    "sellout_concat.tail(2)"
   ]
  },
  {
   "cell_type": "code",
   "execution_count": 14,
   "metadata": {},
   "outputs": [
    {
     "data": {
      "text/plain": [
       "58554466.08033333"
      ]
     },
     "execution_count": 14,
     "metadata": {},
     "output_type": "execute_result"
    }
   ],
   "source": [
    "Ventas3 =sellout_concat[\"Venta UMB\"].sum()\n",
    "Ventas3"
   ]
  },
  {
   "cell_type": "code",
   "execution_count": 15,
   "metadata": {},
   "outputs": [],
   "source": [
    "# Asegurar que todas las columnas tengan el tipo correcto\n",
    "sellout_concat['Canal'] = sellout_concat['Canal'].astype('object')\n",
    "sellout_concat['Material'] = sellout_concat['Material'].astype('object')\n",
    "sellout_concat['Venta UMB'] = sellout_concat['Venta UMB'].astype('float64')\n",
    "sellout_concat['Mes'] = pd.to_datetime(sellout_concat['Mes'])\n",
    "sellout_concat['SI/SO'] = sellout_concat['SI/SO'].astype('object')\n",
    "sellout_concat['Ultimo Eslabón'] = sellout_concat['Ultimo Eslabón'].astype('str')\n",
    "sellout_concat['Tipo'] = sellout_concat['Tipo'].astype('object')\n",
    "sellout_concat['Fuente'] = sellout_concat['Fuente'].astype('object')\n",
    "sellout_concat['Canal 2'] = sellout_concat['Canal 2'].astype('object')\n",
    "sellout_concat['Canal 3'] = sellout_concat['Canal 3'].astype('object')"
   ]
  },
  {
   "cell_type": "code",
   "execution_count": 16,
   "metadata": {},
   "outputs": [],
   "source": [
    "# Convertir todas las columnas a string para evitar problemas de tipo de datos\n",
    "sellout_concat = sellout_concat.astype(str)\n",
    "\n",
    "# Asegurar que las columnas tengan los tipos específicos necesarios después de la conversión a str\n",
    "sellout_concat['Venta UMB'] = sellout_concat['Venta UMB'].astype(float)\n",
    "sellout_concat['Mes'] = pd.to_datetime(sellout_concat['Mes'])"
   ]
  },
  {
   "cell_type": "code",
   "execution_count": 17,
   "metadata": {},
   "outputs": [
    {
     "data": {
      "text/plain": [
       "Canal                     object\n",
       "Material                  object\n",
       "Venta UMB                float64\n",
       "Mes               datetime64[ns]\n",
       "SI/SO                     object\n",
       "Ultimo Eslabón            object\n",
       "Tipo                      object\n",
       "Fuente                    object\n",
       "Canal 2                   object\n",
       "Canal 3                   object\n",
       "dtype: object"
      ]
     },
     "execution_count": 17,
     "metadata": {},
     "output_type": "execute_result"
    }
   ],
   "source": [
    "sellout_concat.dtypes"
   ]
  },
  {
   "cell_type": "code",
   "execution_count": 18,
   "metadata": {},
   "outputs": [
    {
     "name": "stdout",
     "output_type": "stream",
     "text": [
      "Archivo Parquet exportado exitosamente en: C:\\Users\\etorres\\Inchcape\\Planificación y abastecimiento AFM - Documentos\\Planificación y Compras Anastasia\\Carga Historia de Venta\\Historia_Sell_Out.parquet\n"
     ]
    }
   ],
   "source": [
    "\n",
    "# Obtener el nombre del usuario actual del sistema\n",
    "usuario = os.getlogin()\n",
    "\n",
    "# Definir la ruta completa\n",
    "ruta = f'C:\\\\Users\\\\{usuario}\\\\Inchcape\\\\Planificación y abastecimiento AFM - Documentos\\\\Planificación y Compras Anastasia\\\\Carga Historia de Venta\\\\Historia_Sell_Out.parquet'\n",
    "\n",
    "# Exportar a archivo Parquet\n",
    "sellout_concat.to_parquet(ruta)\n",
    "\n",
    "print(\"Archivo Parquet exportado exitosamente en:\", ruta)\n"
   ]
  },
  {
   "cell_type": "markdown",
   "metadata": {},
   "source": [
    "Historia Terminada, agregando SellOUT GT y luego Sellout"
   ]
  },
  {
   "cell_type": "code",
   "execution_count": null,
   "metadata": {},
   "outputs": [],
   "source": [
    "import os\n",
    "import pandas as pd\n",
    "\n",
    "# Obtener el año y mes actual en el formato YYYY y MM\n",
    "fecha_actual = pd.Timestamp.now()\n",
    "año_actual = fecha_actual.year\n",
    "mes_actual = fecha_actual.strftime(\"%m\")\n",
    "\n",
    "# Construir la ruta completa al directorio que contiene los archivos\n",
    "ruta_base_usuario = os.path.expanduser(\"~\")\n",
    "ruta_directorio_base = os.path.join(ruta_base_usuario, \"Inchcape\", \"Planificación y abastecimiento AFM - Documentos\", \"Planificación y Compras Ventas\", \"Venta Historica Mensual\")\n",
    "ruta_directorio = os.path.join(ruta_directorio_base, str(año_actual), f\"{año_actual}-{mes_actual}\")\n",
    "\n",
    "# Verificar si el directorio existe\n",
    "if os.path.exists(ruta_directorio):\n",
    "    archivo_selloutGT = None\n",
    "    for archivoGT in os.listdir(ruta_directorio):\n",
    "        if \"Sell Out\" in archivoGT and \"GT\" in archivoGT:\n",
    "            archivo_selloutGT = archivoGT\n",
    "            break\n",
    "\n",
    "    if archivo_selloutGT:\n",
    "        ruta_archivo_selloutGT = os.path.join(ruta_directorio, archivo_selloutGT)\n",
    "        try:\n",
    "            # Leer el archivo de Excel desde la tercera fila como encabezado\n",
    "            selloutGT = pd.read_excel(ruta_archivo_selloutGT, sheet_name=\"Sell Out GT\", header=2)\n",
    "            print(\"Se leyó el archivo de Sell Out:\", ruta_archivo_selloutGT)\n",
    "        except Exception as e:\n",
    "            print(\"Error al leer el archivo de Excel:\", e)\n",
    "    else:\n",
    "        print(\"No se encontró ningún archivo con 'Sell Out' en su nombre.\")\n",
    "else:\n",
    "    print(f\"El directorio {ruta_directorio} no existe.\")\n"
   ]
  },
  {
   "cell_type": "code",
   "execution_count": null,
   "metadata": {},
   "outputs": [],
   "source": [
    "selloutGT"
   ]
  },
  {
   "cell_type": "code",
   "execution_count": null,
   "metadata": {},
   "outputs": [],
   "source": [
    "# Asumiendo que selloutGT ya ha sido leído correctamente en el DataFrame\n",
    "\n",
    "# Reordenar las columnas para que la penúltima, última, primera y segunda sean las únicas que permanezcan\n",
    "columnas_a_mantener = [selloutGT.columns[-2], selloutGT.columns[-1], selloutGT.columns[0], selloutGT.columns[1]]\n",
    "selloutGT1 = selloutGT[columnas_a_mantener]\n",
    "\n",
    "\n",
    "selloutGT1"
   ]
  },
  {
   "cell_type": "code",
   "execution_count": null,
   "metadata": {},
   "outputs": [],
   "source": [
    "# Asumiendo que selloutGT ya ha sido filtrado y tiene las columnas deseadas\n",
    "\n",
    "# Renombrar la primera columna a 'Venta' y convertirla a tipo int\n",
    "selloutGT1.rename(columns={selloutGT1.columns[0]: 'Venta'}, inplace=True)\n",
    "selloutGT1['Venta'] = selloutGT1['Venta'].astype(int)\n",
    "\n",
    "# Filtrar solo los valores mayores a 0\n",
    "selloutGT1 = selloutGT1[selloutGT1['Venta'] > 0]\n",
    "\n",
    "# Mostrar una muestra del DataFrame y la suma de la columna 'Venta'\n",
    "muestra = selloutGT1.head()  # Muestra de los primeros 5 registros\n",
    "suma_ventas = selloutGT1['Venta'].sum()\n",
    "\n",
    "print(\"Muestra del DataFrame:\")\n",
    "print(muestra)\n",
    "print(f\"\\nSuma de la columna 'Venta': {suma_ventas}\")\n"
   ]
  },
  {
   "cell_type": "code",
   "execution_count": null,
   "metadata": {},
   "outputs": [],
   "source": [
    "import pandas as pd\n",
    "from datetime import datetime, timedelta\n",
    "selloutGT1['Fuente'] = 'Sell Out MB51 - SISO'\n",
    "selloutGT1['SI/SO'] = 'SO'\n",
    "\n",
    "primer_dia_mes_anterior = (fecha_actual.replace(day=1) - timedelta(days=1)).replace(day=1)\n",
    "\n",
    "# Crear una columna 'Mes' con el formato especificado\n",
    "selloutGT1['Mes'] = primer_dia_mes_anterior.strftime('%Y-%m-%d')\n",
    "selloutGT1.head(1)"
   ]
  },
  {
   "cell_type": "code",
   "execution_count": null,
   "metadata": {},
   "outputs": [],
   "source": [
    "selloutGT1.dtypes"
   ]
  },
  {
   "cell_type": "code",
   "execution_count": null,
   "metadata": {},
   "outputs": [],
   "source": [
    "sellout_concat.columns"
   ]
  },
  {
   "cell_type": "code",
   "execution_count": null,
   "metadata": {},
   "outputs": [],
   "source": [
    "sellout_concat.tail(1)"
   ]
  },
  {
   "cell_type": "code",
   "execution_count": null,
   "metadata": {},
   "outputs": [],
   "source": [
    "v1 = selloutGT1['Venta'].sum()\n",
    "v1"
   ]
  },
  {
   "cell_type": "code",
   "execution_count": null,
   "metadata": {},
   "outputs": [],
   "source": [
    "v1 = sellout_concat['Venta UMB'].sum()\n",
    "v1"
   ]
  },
  {
   "cell_type": "code",
   "execution_count": null,
   "metadata": {},
   "outputs": [],
   "source": [
    "# Renombrar columnas de selloutGT1 para facilitar el concatenado\n",
    "selloutGT1.rename(columns={'Material S4': 'Material', 'Venta': 'Venta UMB', 'Cliente': 'Canal'}, inplace=True)\n",
    "\n",
    "# Seleccionar solo las columnas necesarias de selloutGT1\n",
    "selloutGT1 = selloutGT1[['Material', 'Venta UMB', 'Canal']]\n",
    "\n",
    "# Concatenar los DataFrames\n",
    "sellout_concat = pd.concat([sellout_concat, selloutGT1], ignore_index=True)\n",
    "\n",
    "# Mostrar el DataFrame resultante\n",
    "v3 = sellout_concat['Venta UMB'].sum()\n",
    "v3"
   ]
  },
  {
   "cell_type": "code",
   "execution_count": null,
   "metadata": {},
   "outputs": [],
   "source": [
    "sellout_concat.head(2)"
   ]
  },
  {
   "cell_type": "code",
   "execution_count": null,
   "metadata": {},
   "outputs": [],
   "source": [
    "sellout_concat.tail(2)"
   ]
  },
  {
   "cell_type": "markdown",
   "metadata": {},
   "source": [
    "SELLOUT MES ANTERIOR"
   ]
  },
  {
   "cell_type": "code",
   "execution_count": null,
   "metadata": {},
   "outputs": [],
   "source": [
    "# Obtener el año y mes actual en el formato YYYY y MM\n",
    "fecha_actual = pd.Timestamp.now()\n",
    "año_actual = fecha_actual.year\n",
    "mes_actual = fecha_actual.strftime(\"%m\")\n",
    "\n",
    "# Construir la ruta completa al directorio que contiene los archivos\n",
    "ruta_base_usuario = os.path.expanduser(\"~\")\n",
    "ruta_directorio_base = os.path.join(ruta_base_usuario, \"Inchcape\", \"Planificación y abastecimiento AFM - Documentos\", \"Planificación y Compras Ventas\", \"Venta Historica Mensual\")\n",
    "ruta_directorio = os.path.join(ruta_directorio_base, str(año_actual), f\"{año_actual}-{mes_actual}\")\n",
    "\n",
    "# # Buscar el archivo que contiene \"Sell In\" en su nombre\n",
    "# archivo_sellin = None\n",
    "# for archivo in os.listdir(ruta_directorio):\n",
    "#     if \"Sell In\" in archivo:\n",
    "#         archivo_sellin = archivo\n",
    "#         break\n",
    "\n",
    "# Buscar el archivo que contiene \"Sell Out\" en su nombre\n",
    "archivo_sellout = None\n",
    "for archivo in os.listdir(ruta_directorio):\n",
    "    if \"Sell Out\" in archivo and \"GT\" not in archivo:\n",
    "        archivo_sellout = archivo\n",
    "        break\n",
    "\n",
    "# # Leer los archivos en dataframes si se encontraron\n",
    "# if archivo_sellin:\n",
    "#     ruta_archivo_sellin = os.path.join(ruta_directorio, archivo_sellin)\n",
    "#     sellin = pd.read_excel(ruta_archivo_sellin, sheet_name=\"Sheet1\")  # Leer la hoja \"Sheet1\"\n",
    "#     print(\"Se leyó el archivo de Sell In:\", ruta_archivo_sellin)\n",
    "# else:\n",
    "#     print(\"No se encontró ningún archivo con 'Sell In' en su nombre.\")\n",
    "\n",
    "if archivo_sellout:\n",
    "    ruta_archivo_sellout = os.path.join(ruta_directorio, archivo_sellout)\n",
    "    sellout = pd.read_excel(ruta_archivo_sellout, sheet_name=\"Sheet1\")  # Leer la hoja \"Sheet1\"\n",
    "    print(\"Se leyó el archivo de Sell Out:\", ruta_archivo_sellout)\n",
    "else:\n",
    "    print(\"No se encontró ningún archivo con 'Sell Out' en su nombre.\")\n",
    "\n"
   ]
  },
  {
   "cell_type": "code",
   "execution_count": null,
   "metadata": {},
   "outputs": [],
   "source": [
    "sellout.columns\n"
   ]
  }
 ],
 "metadata": {
  "kernelspec": {
   "display_name": "Python 3",
   "language": "python",
   "name": "python3"
  },
  "language_info": {
   "codemirror_mode": {
    "name": "ipython",
    "version": 3
   },
   "file_extension": ".py",
   "mimetype": "text/x-python",
   "name": "python",
   "nbconvert_exporter": "python",
   "pygments_lexer": "ipython3",
   "version": "3.12.0"
  }
 },
 "nbformat": 4,
 "nbformat_minor": 2
}
