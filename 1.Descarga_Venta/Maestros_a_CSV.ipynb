{
 "cells": [
  {
   "cell_type": "code",
   "execution_count": 7,
   "metadata": {},
   "outputs": [],
   "source": [
    "import os\n",
    "import pandas as pd\n",
    "from datetime import datetime\n",
    "\n",
    "usuario = os.getlogin()\n",
    "anio_actual = datetime.now().strftime(\"%Y\")\n",
    "fecha_actual = datetime.now().strftime(\"%Y-%m\")\n",
    "ruta_origen = f\"C:\\\\Users\\\\{usuario}.dercoparts\\\\DERCO CHILE REPUESTOS SpA\\\\Planificación y abastecimiento - Documentos\\\\Planificación y Compras Maestros\\\\{anio_actual}\\\\{fecha_actual}\"\n",
    "ruta_destino = f\"{ruta_origen}\\\\MaestrosCSV\"\n",
    "\n",
    "if not os.path.exists(ruta_destino):\n",
    "    os.makedirs(ruta_destino)\n",
    "\n",
    "for archivo in os.listdir(ruta_origen):\n",
    "    if archivo.endswith(\".xlsx\"):\n",
    "        archivo_xlsx = os.path.join(ruta_origen, archivo)\n",
    "        df = pd.read_excel(archivo_xlsx)\n",
    "        archivo_csv = os.path.join(ruta_destino, archivo.replace('.xlsx', '.csv'))\n",
    "        df.to_csv(archivo_csv, index=False)\n"
   ]
  },
  {
   "cell_type": "code",
   "execution_count": 8,
   "metadata": {},
   "outputs": [],
   "source": [
    "import os\n",
    "import pandas as pd\n",
    "from datetime import datetime\n",
    "\n",
    "usuario = os.getlogin()\n",
    "anio_actual = datetime.now().strftime(\"%Y\")\n",
    "fecha_actual = datetime.now().strftime(\"%Y-%m\")\n",
    "ruta_origen = f\"C:\\\\Users\\\\{usuario}.dercoparts\\\\DERCO CHILE REPUESTOS SpA\\\\Planificación y abastecimiento - Documentos\\\\Planificación y Compras Maestros\\\\{anio_actual}\\\\{fecha_actual}\"\n",
    "ruta_destino = f\"{ruta_origen}\\\\MaestrosCSV\"\n",
    "\n",
    "if not os.path.exists(ruta_destino):\n",
    "    os.makedirs(ruta_destino)\n",
    "\n",
    "for archivo in os.listdir(ruta_origen):\n",
    "    if archivo.endswith(\".xlsx\"):\n",
    "        archivo_xlsx = os.path.join(ruta_origen, archivo)\n",
    "        df = pd.read_excel(archivo_xlsx)\n",
    "        archivo_csv = os.path.join(ruta_destino, archivo.replace('.xlsx', '.csv'))\n",
    "        df.to_csv(archivo_csv, index=False, sep=';')\n"
   ]
  }
 ],
 "metadata": {
  "kernelspec": {
   "display_name": "Python 3",
   "language": "python",
   "name": "python3"
  },
  "language_info": {
   "codemirror_mode": {
    "name": "ipython",
    "version": 3
   },
   "file_extension": ".py",
   "mimetype": "text/x-python",
   "name": "python",
   "nbconvert_exporter": "python",
   "pygments_lexer": "ipython3",
   "version": "3.12.4"
  }
 },
 "nbformat": 4,
 "nbformat_minor": 2
}
