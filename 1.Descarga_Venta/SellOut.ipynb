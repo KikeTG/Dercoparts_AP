{
 "cells": [
  {
   "cell_type": "code",
   "execution_count": 25,
   "metadata": {},
   "outputs": [
    {
     "name": "stdout",
     "output_type": "stream",
     "text": [
      "Script VBA guardado exitosamente en: C:\\Users\\etorres.DERCOPARTS\\OneDrive - DERCO CHILE REPUESTOS SpA\\Escritorio\\MB51SELLOUT.vbs\n"
     ]
    },
    {
     "data": {
      "text/plain": [
       "0"
      ]
     },
     "execution_count": 25,
     "metadata": {},
     "output_type": "execute_result"
    }
   ],
   "source": [
    "import datetime\n",
    "import os\n",
    "\n",
    "# Función para encontrar el lunes de la semana pasada y el domingo de esa semana\n",
    "def obtener_rango_fechas():\n",
    "    hoy = datetime.date.today()\n",
    "    # Día de la semana como número, donde lunes es 0 y domingo es 6\n",
    "    dia_semana = hoy.weekday()\n",
    "    \n",
    "    # Calcular el lunes de la semana pasada\n",
    "    lunes_pasado = hoy - datetime.timedelta(days=dia_semana + 7)\n",
    "    # Calcular el domingo de la misma semana del lunes pasado\n",
    "    domingo_pasado = lunes_pasado + datetime.timedelta(days=6)\n",
    "    \n",
    "    return lunes_pasado.strftime('%d%m%Y'), domingo_pasado.strftime('%d%m%Y')\n",
    "\n",
    "# Obtener las fechas de inicio y fin formateadas\n",
    "fecha_baja, fecha_alta = obtener_rango_fechas()\n",
    "# fecha_baja = '01042024'\n",
    "# fecha_alta = '30042024'\n",
    "usuario = os.path.expanduser('~').split('\\\\')[-1]\n",
    "\n",
    "ruta_archivo = f\"C:\\\\Users\\\\{usuario}\\\\OneDrive - DERCO CHILE REPUESTOS SpA\\\\Escritorio\\\\MB51SELLOUT.vbs\"\n",
    "\n",
    "fecha_baja = \"01112024\"\n",
    "fecha_alta = \"30112024\"\n",
    "\n",
    "# Crear directorio si no existe\n",
    "os.makedirs(os.path.dirname(ruta_archivo), exist_ok=True)\n",
    "\n",
    "# Script VBA con fechas actualizadas\n",
    "vba_script = f\"\"\"\n",
    "If Not IsObject(application) Then\n",
    "   Set SapGuiAuto  = GetObject(\"SAPGUI\")\n",
    "   Set application = SapGuiAuto.GetScriptingEngine\n",
    "End If\n",
    "If Not IsObject(connection) Then\n",
    "   Set connection = application.Children(0)\n",
    "End If\n",
    "If Not IsObject(session) Then\n",
    "   Set session    = connection.Children(0)\n",
    "End If\n",
    "If IsObject(WScript) Then\n",
    "   WScript.ConnectObject session,     \"on\"\n",
    "   WScript.ConnectObject application, \"on\"\n",
    "End If\n",
    "session.findById(\"wnd[0]\").maximize\n",
    "session.findById(\"wnd[0]/tbar[0]/okcd\").text = \"mb51\"\n",
    "session.findById(\"wnd[0]\").sendVKey 0\n",
    "session.findById(\"wnd[0]/tbar[1]/btn[17]\").press\n",
    "session.findById(\"wnd[1]/usr/txtV-LOW\").text = \"/ddasellout\"\n",
    "session.findById(\"wnd[1]/usr/txtENAME-LOW\").text = \"etorres\"\n",
    "session.findById(\"wnd[1]/usr/txtV-LOW\").caretPosition = 11\n",
    "session.findById(\"wnd[1]/tbar[0]/btn[8]\").press\n",
    "session.findById(\"wnd[0]/usr/ctxtBUDAT-LOW\").text = \"{fecha_baja}\"\n",
    "session.findById(\"wnd[0]/usr/ctxtBUDAT-HIGH\").text = \"{fecha_alta}\"\n",
    "session.findById(\"wnd[0]/usr/ctxtBUDAT-HIGH\").setFocus\n",
    "session.findById(\"wnd[0]/usr/ctxtBUDAT-HIGH\").caretPosition = 8\n",
    "session.findById(\"wnd[0]/tbar[1]/btn[8]\").press\n",
    "session.findById(\"wnd[0]/mbar/menu[0]/menu[1]/menu[2]\").select\n",
    "session.findById(\"wnd[1]/usr/subSUBSCREEN_STEPLOOP:SAPLSPO5:0150/sub:SAPLSPO5:0150/radSPOPLI-SELFLAG[1,0]\").select\n",
    "session.findById(\"wnd[1]/usr/subSUBSCREEN_STEPLOOP:SAPLSPO5:0150/sub:SAPLSPO5:0150/radSPOPLI-SELFLAG[1,0]\").setFocus\n",
    "session.findById(\"wnd[1]/tbar[0]/btn[0]\").press\n",
    "session.findById(\"wnd[1]/usr/ctxtDY_PATH\").text = \"C:\\\\Users\\\\{usuario}\\\\OneDrive - DERCO CHILE REPUESTOS SpA\\\\Escritorio\\\\\"\n",
    "session.findById(\"wnd[1]/usr/ctxtDY_FILENAME\").text = \"VtaSellout.csv\"\n",
    "session.findById(\"wnd[1]/usr/ctxtDY_FILENAME\").caretPosition = 15\n",
    "session.findById(\"wnd[1]/tbar[0]/btn[11]\").press\n",
    "session.findById(\"wnd[0]\").sendVKey 3\n",
    "session.findById(\"wnd[0]\").sendVKey 3\n",
    "\"\"\"\n",
    "\n",
    "# Guardar el script VBA\n",
    "with open(ruta_archivo, 'w') as file:\n",
    "    file.write(vba_script)\n",
    "\n",
    "print(\"Script VBA guardado exitosamente en:\", ruta_archivo)\n",
    "ruta_archivo = f\"C:\\\\Users\\\\{usuario}\\\\OneDrive - DERCO CHILE REPUESTOS SpA\\\\Escritorio\\\\MB51SELLOUT.vbs\"\n",
    "\n",
    "# Comando para abrir el archivo VBS con el intérprete predeterminado\n",
    "os.system(f'start \"\" \"{ruta_archivo}\"')"
   ]
  },
  {
   "cell_type": "code",
   "execution_count": 26,
   "metadata": {},
   "outputs": [],
   "source": [
    "import datetime\n",
    "import os"
   ]
  },
  {
   "cell_type": "code",
   "execution_count": 27,
   "metadata": {},
   "outputs": [
    {
     "name": "stderr",
     "output_type": "stream",
     "text": [
      "C:\\Users\\etorres.DERCOPARTS\\AppData\\Local\\Temp\\ipykernel_4536\\613487620.py:7: DtypeWarning: Columns (1,8,12) have mixed types. Specify dtype option on import or set low_memory=False.\n",
      "  df_temp = pd.read_csv(\n"
     ]
    }
   ],
   "source": [
    "import os\n",
    "import pandas as pd\n",
    "\n",
    "ruta_csv = os.path.join(os.path.expanduser('~'), 'OneDrive - DERCO CHILE REPUESTOS SpA', 'Escritorio', 'VtaSellout.csv')\n",
    "\n",
    "# Leer el archivo CSV una vez\n",
    "df_temp = pd.read_csv(\n",
    "    ruta_csv,\n",
    "    sep='\\t',\n",
    "    decimal=',',\n",
    "    encoding='ISO-8859-1',\n",
    "    skiprows=2,  # Saltar las dos primeras filas\n",
    "    usecols=lambda column: column not in [0, 1]  # Excluir columnas 0 y 1\n",
    ")\n",
    "\n",
    "SO_MB51 = df_temp\n"
   ]
  },
  {
   "cell_type": "code",
   "execution_count": 28,
   "metadata": {},
   "outputs": [
    {
     "data": {
      "text/plain": [
       "Index(['Unnamed: 0', 'Unnamed: 1', 'Ce.', 'Material',\n",
       "       'Texto breve de material', 'CMv', 'Doc.mat.', 'Fe.contab.',\n",
       "       '   Ctd.en UME', 'UME', '     Importe ML', 'Mon.', 'Cantidad', 'Ctd.en',\n",
       "       'Ctd.UMPP', 'Pedido', 'Txt clase-mov.', 'UMP', 'UMB', 'UMP.1',\n",
       "       'Cliente'],\n",
       "      dtype='object')"
      ]
     },
     "execution_count": 28,
     "metadata": {},
     "output_type": "execute_result"
    }
   ],
   "source": [
    "\n",
    "if 'Cantidad' not in SO_MB51.columns:\n",
    "    for col in SO_MB51.columns:\n",
    "        if 'Cantidad' in col:\n",
    "            SO_MB51.rename(columns={col: 'Cantidad'}, inplace=True)\n",
    "            break\n",
    "\n",
    "SO_MB51.columns\n"
   ]
  },
  {
   "cell_type": "code",
   "execution_count": 29,
   "metadata": {},
   "outputs": [
    {
     "data": {
      "text/plain": [
       "Index(['Unnamed: 0', 'Unnamed: 1', 'Ce.', 'Material',\n",
       "       'Texto breve de material', 'CMv', 'Doc.mat.', 'Fe.contab.',\n",
       "       '   Ctd.en UME', 'UME', '     Importe ML', 'Mon.', 'Cantidad', 'Ctd.en',\n",
       "       'Ctd.UMPP', 'Pedido', 'Txt clase-mov.', 'UMP', 'UMB', 'UMP.1',\n",
       "       'Cliente'],\n",
       "      dtype='object')"
      ]
     },
     "execution_count": 29,
     "metadata": {},
     "output_type": "execute_result"
    }
   ],
   "source": [
    "SO_MB51.columns"
   ]
  },
  {
   "cell_type": "code",
   "execution_count": 30,
   "metadata": {},
   "outputs": [
    {
     "data": {
      "text/html": [
       "<div>\n",
       "<style scoped>\n",
       "    .dataframe tbody tr th:only-of-type {\n",
       "        vertical-align: middle;\n",
       "    }\n",
       "\n",
       "    .dataframe tbody tr th {\n",
       "        vertical-align: top;\n",
       "    }\n",
       "\n",
       "    .dataframe thead th {\n",
       "        text-align: right;\n",
       "    }\n",
       "</style>\n",
       "<table border=\"1\" class=\"dataframe\">\n",
       "  <thead>\n",
       "    <tr style=\"text-align: right;\">\n",
       "      <th></th>\n",
       "      <th>Unnamed: 0</th>\n",
       "      <th>Unnamed: 1</th>\n",
       "      <th>Ce.</th>\n",
       "      <th>Material</th>\n",
       "      <th>Texto breve de material</th>\n",
       "      <th>CMv</th>\n",
       "      <th>Doc.mat.</th>\n",
       "      <th>Fe.contab.</th>\n",
       "      <th>Ctd.en UME</th>\n",
       "      <th>UME</th>\n",
       "      <th>...</th>\n",
       "      <th>Mon.</th>\n",
       "      <th>Cantidad</th>\n",
       "      <th>Ctd.en</th>\n",
       "      <th>Ctd.UMPP</th>\n",
       "      <th>Pedido</th>\n",
       "      <th>Txt clase-mov.</th>\n",
       "      <th>UMP</th>\n",
       "      <th>UMB</th>\n",
       "      <th>UMP.1</th>\n",
       "      <th>Cliente</th>\n",
       "    </tr>\n",
       "  </thead>\n",
       "  <tbody>\n",
       "    <tr>\n",
       "      <th>0</th>\n",
       "      <td>NaN</td>\n",
       "      <td>NaN</td>\n",
       "      <td>0445</td>\n",
       "      <td>100487.0</td>\n",
       "      <td>W68/80 F.AC.MANN</td>\n",
       "      <td>251.0</td>\n",
       "      <td>4.905961e+09</td>\n",
       "      <td>01.11.2024</td>\n",
       "      <td>-1</td>\n",
       "      <td>UN</td>\n",
       "      <td>...</td>\n",
       "      <td>CLP</td>\n",
       "      <td>-1</td>\n",
       "      <td>NaN</td>\n",
       "      <td>NaN</td>\n",
       "      <td>NaN</td>\n",
       "      <td>SM para ventas</td>\n",
       "      <td>NaN</td>\n",
       "      <td>UN</td>\n",
       "      <td>NaN</td>\n",
       "      <td>TI0445</td>\n",
       "    </tr>\n",
       "    <tr>\n",
       "      <th>1</th>\n",
       "      <td>NaN</td>\n",
       "      <td>NaN</td>\n",
       "      <td>0411</td>\n",
       "      <td>100498.0</td>\n",
       "      <td>W712/12 F.AC.MANN</td>\n",
       "      <td>251.0</td>\n",
       "      <td>4.905961e+09</td>\n",
       "      <td>01.11.2024</td>\n",
       "      <td>-1</td>\n",
       "      <td>UN</td>\n",
       "      <td>...</td>\n",
       "      <td>CLP</td>\n",
       "      <td>-1</td>\n",
       "      <td>NaN</td>\n",
       "      <td>NaN</td>\n",
       "      <td>NaN</td>\n",
       "      <td>SM para ventas</td>\n",
       "      <td>NaN</td>\n",
       "      <td>UN</td>\n",
       "      <td>NaN</td>\n",
       "      <td>TI0411</td>\n",
       "    </tr>\n",
       "    <tr>\n",
       "      <th>2</th>\n",
       "      <td>NaN</td>\n",
       "      <td>NaN</td>\n",
       "      <td>0448</td>\n",
       "      <td>100505.0</td>\n",
       "      <td>FIL ACEITE MANN WP928/83</td>\n",
       "      <td>251.0</td>\n",
       "      <td>4.905961e+09</td>\n",
       "      <td>01.11.2024</td>\n",
       "      <td>-1</td>\n",
       "      <td>UN</td>\n",
       "      <td>...</td>\n",
       "      <td>CLP</td>\n",
       "      <td>-1</td>\n",
       "      <td>NaN</td>\n",
       "      <td>NaN</td>\n",
       "      <td>NaN</td>\n",
       "      <td>SM para ventas</td>\n",
       "      <td>NaN</td>\n",
       "      <td>UN</td>\n",
       "      <td>NaN</td>\n",
       "      <td>TI0448</td>\n",
       "    </tr>\n",
       "    <tr>\n",
       "      <th>3</th>\n",
       "      <td>NaN</td>\n",
       "      <td>NaN</td>\n",
       "      <td>0475</td>\n",
       "      <td>100540.0</td>\n",
       "      <td>FIL ACEITE MANN W718</td>\n",
       "      <td>251.0</td>\n",
       "      <td>4.905961e+09</td>\n",
       "      <td>01.11.2024</td>\n",
       "      <td>-1</td>\n",
       "      <td>UN</td>\n",
       "      <td>...</td>\n",
       "      <td>CLP</td>\n",
       "      <td>-1</td>\n",
       "      <td>NaN</td>\n",
       "      <td>NaN</td>\n",
       "      <td>NaN</td>\n",
       "      <td>SM para ventas</td>\n",
       "      <td>NaN</td>\n",
       "      <td>UN</td>\n",
       "      <td>NaN</td>\n",
       "      <td>TI0475</td>\n",
       "    </tr>\n",
       "    <tr>\n",
       "      <th>4</th>\n",
       "      <td>NaN</td>\n",
       "      <td>NaN</td>\n",
       "      <td>0428</td>\n",
       "      <td>100842.0</td>\n",
       "      <td>FILTRO.COMB MANN FILTER WK66</td>\n",
       "      <td>251.0</td>\n",
       "      <td>4.905961e+09</td>\n",
       "      <td>01.11.2024</td>\n",
       "      <td>-1</td>\n",
       "      <td>UN</td>\n",
       "      <td>...</td>\n",
       "      <td>CLP</td>\n",
       "      <td>-1</td>\n",
       "      <td>NaN</td>\n",
       "      <td>NaN</td>\n",
       "      <td>NaN</td>\n",
       "      <td>SM para ventas</td>\n",
       "      <td>NaN</td>\n",
       "      <td>UN</td>\n",
       "      <td>NaN</td>\n",
       "      <td>TI0428</td>\n",
       "    </tr>\n",
       "    <tr>\n",
       "      <th>...</th>\n",
       "      <td>...</td>\n",
       "      <td>...</td>\n",
       "      <td>...</td>\n",
       "      <td>...</td>\n",
       "      <td>...</td>\n",
       "      <td>...</td>\n",
       "      <td>...</td>\n",
       "      <td>...</td>\n",
       "      <td>...</td>\n",
       "      <td>...</td>\n",
       "      <td>...</td>\n",
       "      <td>...</td>\n",
       "      <td>...</td>\n",
       "      <td>...</td>\n",
       "      <td>...</td>\n",
       "      <td>...</td>\n",
       "      <td>...</td>\n",
       "      <td>...</td>\n",
       "      <td>...</td>\n",
       "      <td>...</td>\n",
       "      <td>...</td>\n",
       "    </tr>\n",
       "    <tr>\n",
       "      <th>374638</th>\n",
       "      <td>NaN</td>\n",
       "      <td>NaN</td>\n",
       "      <td>0472</td>\n",
       "      <td>1171968.0</td>\n",
       "      <td>PACK SIMONIZ BASICO SET 3 PC</td>\n",
       "      <td>251.0</td>\n",
       "      <td>4.905991e+09</td>\n",
       "      <td>30.11.2024</td>\n",
       "      <td>-1</td>\n",
       "      <td>UN</td>\n",
       "      <td>...</td>\n",
       "      <td>CLP</td>\n",
       "      <td>-1.0</td>\n",
       "      <td>NaN</td>\n",
       "      <td>NaN</td>\n",
       "      <td>NaN</td>\n",
       "      <td>SM para ventas</td>\n",
       "      <td>NaN</td>\n",
       "      <td>UN</td>\n",
       "      <td>NaN</td>\n",
       "      <td>TI0472</td>\n",
       "    </tr>\n",
       "    <tr>\n",
       "      <th>374639</th>\n",
       "      <td>NaN</td>\n",
       "      <td>NaN</td>\n",
       "      <td>0472</td>\n",
       "      <td>1171969.0</td>\n",
       "      <td>PACK SIMONIZ INTERMEDIO SET 4 PC</td>\n",
       "      <td>251.0</td>\n",
       "      <td>4.905991e+09</td>\n",
       "      <td>30.11.2024</td>\n",
       "      <td>-1</td>\n",
       "      <td>UN</td>\n",
       "      <td>...</td>\n",
       "      <td>CLP</td>\n",
       "      <td>-1.0</td>\n",
       "      <td>NaN</td>\n",
       "      <td>NaN</td>\n",
       "      <td>NaN</td>\n",
       "      <td>SM para ventas</td>\n",
       "      <td>NaN</td>\n",
       "      <td>UN</td>\n",
       "      <td>NaN</td>\n",
       "      <td>TI0472</td>\n",
       "    </tr>\n",
       "    <tr>\n",
       "      <th>374640</th>\n",
       "      <td>NaN</td>\n",
       "      <td>NaN</td>\n",
       "      <td>0448</td>\n",
       "      <td>1171970.0</td>\n",
       "      <td>PACK SIMONIZ AVANZADO SET 5 PC</td>\n",
       "      <td>252.0</td>\n",
       "      <td>4.905991e+09</td>\n",
       "      <td>30.11.2024</td>\n",
       "      <td>1</td>\n",
       "      <td>UN</td>\n",
       "      <td>...</td>\n",
       "      <td>CLP</td>\n",
       "      <td>1.0</td>\n",
       "      <td>NaN</td>\n",
       "      <td>NaN</td>\n",
       "      <td>NaN</td>\n",
       "      <td>DM para ventas</td>\n",
       "      <td>NaN</td>\n",
       "      <td>UN</td>\n",
       "      <td>NaN</td>\n",
       "      <td>TI0448</td>\n",
       "    </tr>\n",
       "    <tr>\n",
       "      <th>374641</th>\n",
       "      <td>NaN</td>\n",
       "      <td>NaN</td>\n",
       "      <td>0448</td>\n",
       "      <td>1171970.0</td>\n",
       "      <td>PACK SIMONIZ AVANZADO SET 5 PC</td>\n",
       "      <td>251.0</td>\n",
       "      <td>4.905991e+09</td>\n",
       "      <td>30.11.2024</td>\n",
       "      <td>-2</td>\n",
       "      <td>UN</td>\n",
       "      <td>...</td>\n",
       "      <td>CLP</td>\n",
       "      <td>-2.0</td>\n",
       "      <td>NaN</td>\n",
       "      <td>NaN</td>\n",
       "      <td>NaN</td>\n",
       "      <td>SM para ventas</td>\n",
       "      <td>NaN</td>\n",
       "      <td>UN</td>\n",
       "      <td>NaN</td>\n",
       "      <td>TI0448</td>\n",
       "    </tr>\n",
       "    <tr>\n",
       "      <th>374642</th>\n",
       "      <td>NaN</td>\n",
       "      <td>*</td>\n",
       "      <td>NaN</td>\n",
       "      <td>NaN</td>\n",
       "      <td>NaN</td>\n",
       "      <td>NaN</td>\n",
       "      <td>NaN</td>\n",
       "      <td>NaN</td>\n",
       "      <td>-570.827</td>\n",
       "      <td>UN</td>\n",
       "      <td>...</td>\n",
       "      <td>CLP</td>\n",
       "      <td>NaN</td>\n",
       "      <td>NaN</td>\n",
       "      <td>NaN</td>\n",
       "      <td>NaN</td>\n",
       "      <td>NaN</td>\n",
       "      <td>NaN</td>\n",
       "      <td>NaN</td>\n",
       "      <td>NaN</td>\n",
       "      <td>NaN</td>\n",
       "    </tr>\n",
       "  </tbody>\n",
       "</table>\n",
       "<p>374643 rows × 21 columns</p>\n",
       "</div>"
      ],
      "text/plain": [
       "        Unnamed: 0 Unnamed: 1   Ce.   Material  \\\n",
       "0              NaN        NaN  0445   100487.0   \n",
       "1              NaN        NaN  0411   100498.0   \n",
       "2              NaN        NaN  0448   100505.0   \n",
       "3              NaN        NaN  0475   100540.0   \n",
       "4              NaN        NaN  0428   100842.0   \n",
       "...            ...        ...   ...        ...   \n",
       "374638         NaN        NaN  0472  1171968.0   \n",
       "374639         NaN        NaN  0472  1171969.0   \n",
       "374640         NaN        NaN  0448  1171970.0   \n",
       "374641         NaN        NaN  0448  1171970.0   \n",
       "374642         NaN          *   NaN        NaN   \n",
       "\n",
       "                 Texto breve de material    CMv      Doc.mat.  Fe.contab.  \\\n",
       "0                       W68/80 F.AC.MANN  251.0  4.905961e+09  01.11.2024   \n",
       "1                      W712/12 F.AC.MANN  251.0  4.905961e+09  01.11.2024   \n",
       "2               FIL ACEITE MANN WP928/83  251.0  4.905961e+09  01.11.2024   \n",
       "3                   FIL ACEITE MANN W718  251.0  4.905961e+09  01.11.2024   \n",
       "4           FILTRO.COMB MANN FILTER WK66  251.0  4.905961e+09  01.11.2024   \n",
       "...                                  ...    ...           ...         ...   \n",
       "374638      PACK SIMONIZ BASICO SET 3 PC  251.0  4.905991e+09  30.11.2024   \n",
       "374639  PACK SIMONIZ INTERMEDIO SET 4 PC  251.0  4.905991e+09  30.11.2024   \n",
       "374640    PACK SIMONIZ AVANZADO SET 5 PC  252.0  4.905991e+09  30.11.2024   \n",
       "374641    PACK SIMONIZ AVANZADO SET 5 PC  251.0  4.905991e+09  30.11.2024   \n",
       "374642                               NaN    NaN           NaN         NaN   \n",
       "\n",
       "          Ctd.en UME UME  ... Mon. Cantidad Ctd.en  Ctd.UMPP  Pedido  \\\n",
       "0                 -1  UN  ...  CLP       -1    NaN       NaN     NaN   \n",
       "1                 -1  UN  ...  CLP       -1    NaN       NaN     NaN   \n",
       "2                 -1  UN  ...  CLP       -1    NaN       NaN     NaN   \n",
       "3                 -1  UN  ...  CLP       -1    NaN       NaN     NaN   \n",
       "4                 -1  UN  ...  CLP       -1    NaN       NaN     NaN   \n",
       "...              ...  ..  ...  ...      ...    ...       ...     ...   \n",
       "374638            -1  UN  ...  CLP     -1.0    NaN       NaN     NaN   \n",
       "374639            -1  UN  ...  CLP     -1.0    NaN       NaN     NaN   \n",
       "374640             1  UN  ...  CLP      1.0    NaN       NaN     NaN   \n",
       "374641            -2  UN  ...  CLP     -2.0    NaN       NaN     NaN   \n",
       "374642      -570.827  UN  ...  CLP      NaN    NaN       NaN     NaN   \n",
       "\n",
       "        Txt clase-mov. UMP  UMB UMP.1  Cliente  \n",
       "0       SM para ventas NaN   UN   NaN   TI0445  \n",
       "1       SM para ventas NaN   UN   NaN   TI0411  \n",
       "2       SM para ventas NaN   UN   NaN   TI0448  \n",
       "3       SM para ventas NaN   UN   NaN   TI0475  \n",
       "4       SM para ventas NaN   UN   NaN   TI0428  \n",
       "...                ...  ..  ...   ...      ...  \n",
       "374638  SM para ventas NaN   UN   NaN   TI0472  \n",
       "374639  SM para ventas NaN   UN   NaN   TI0472  \n",
       "374640  DM para ventas NaN   UN   NaN   TI0448  \n",
       "374641  SM para ventas NaN   UN   NaN   TI0448  \n",
       "374642             NaN NaN  NaN   NaN      NaN  \n",
       "\n",
       "[374643 rows x 21 columns]"
      ]
     },
     "execution_count": 30,
     "metadata": {},
     "output_type": "execute_result"
    }
   ],
   "source": [
    "SO_MB51"
   ]
  },
  {
   "cell_type": "code",
   "execution_count": 31,
   "metadata": {},
   "outputs": [
    {
     "name": "stdout",
     "output_type": "stream",
     "text": [
      "La suma de la columna 'cantidad' es: -569758.0700000001\n"
     ]
    }
   ],
   "source": [
    "# Calcular la suma de la columna 'Ctd.en UME'\n",
    "SO_MB51['Cantidad']=SO_MB51['Cantidad'].astype(float)\n",
    "suma_cantidad = SO_MB51['Cantidad'].sum()\n",
    "# Mostrar la suma\n",
    "print(\"La suma de la columna 'cantidad' es:\", suma_cantidad)"
   ]
  },
  {
   "cell_type": "code",
   "execution_count": 32,
   "metadata": {},
   "outputs": [],
   "source": [
    "\n",
    "# import pandas as pd\n",
    "\n",
    "# # Lista con los nombres de las nuevas columnas\n",
    "# nuevas_columnas = [\n",
    "#     'Canal', 'Venta UMB', 'R3 Mara', 'Sector Mara', 'Nombre Sector', 'Tipo',\n",
    "#     'R3 Vigencia', 'Sector Vigencia', 'VF', 'ID', 'BVA', 'BVN',\n",
    "#     'Forecast AFM?', 'Forecast OEM', 'Forecast AXS?', 'División',\n",
    "#     'Valor Libro', 'Costo', 'BV', 'Ult. Eslabón', 'ID', 'Canal 2', 'Semana'\n",
    "# ]\n",
    "\n",
    "# # Agregar las nuevas columnas al DataFrame con valores NaN o cualquier otro valor por defecto\n",
    "# for columna in nuevas_columnas:\n",
    "#     SO_MB51[columna] = pd.NA  # o puedes usar np.nan si prefieres\n",
    "\n",
    "# # Ahora el DataFrame SO_MB51 tiene las nuevas columnas añadidas al final\n"
   ]
  },
  {
   "cell_type": "code",
   "execution_count": 33,
   "metadata": {},
   "outputs": [
    {
     "data": {
      "text/html": [
       "<div>\n",
       "<style scoped>\n",
       "    .dataframe tbody tr th:only-of-type {\n",
       "        vertical-align: middle;\n",
       "    }\n",
       "\n",
       "    .dataframe tbody tr th {\n",
       "        vertical-align: top;\n",
       "    }\n",
       "\n",
       "    .dataframe thead th {\n",
       "        text-align: right;\n",
       "    }\n",
       "</style>\n",
       "<table border=\"1\" class=\"dataframe\">\n",
       "  <thead>\n",
       "    <tr style=\"text-align: right;\">\n",
       "      <th></th>\n",
       "      <th>Unnamed: 0</th>\n",
       "      <th>Unnamed: 1</th>\n",
       "      <th>Ce.</th>\n",
       "      <th>Material</th>\n",
       "      <th>Texto breve de material</th>\n",
       "      <th>CMv</th>\n",
       "      <th>Doc.mat.</th>\n",
       "      <th>Fe.contab.</th>\n",
       "      <th>Ctd.en UME</th>\n",
       "      <th>UME</th>\n",
       "      <th>...</th>\n",
       "      <th>Mon.</th>\n",
       "      <th>Cantidad</th>\n",
       "      <th>Ctd.en</th>\n",
       "      <th>Ctd.UMPP</th>\n",
       "      <th>Pedido</th>\n",
       "      <th>Txt clase-mov.</th>\n",
       "      <th>UMP</th>\n",
       "      <th>UMB</th>\n",
       "      <th>UMP.1</th>\n",
       "      <th>Cliente</th>\n",
       "    </tr>\n",
       "  </thead>\n",
       "  <tbody>\n",
       "    <tr>\n",
       "      <th>0</th>\n",
       "      <td>NaN</td>\n",
       "      <td>NaN</td>\n",
       "      <td>0445</td>\n",
       "      <td>100487.0</td>\n",
       "      <td>W68/80 F.AC.MANN</td>\n",
       "      <td>251.0</td>\n",
       "      <td>4.905961e+09</td>\n",
       "      <td>01.11.2024</td>\n",
       "      <td>-1</td>\n",
       "      <td>UN</td>\n",
       "      <td>...</td>\n",
       "      <td>CLP</td>\n",
       "      <td>-1.0</td>\n",
       "      <td>NaN</td>\n",
       "      <td>NaN</td>\n",
       "      <td>NaN</td>\n",
       "      <td>SM para ventas</td>\n",
       "      <td>NaN</td>\n",
       "      <td>UN</td>\n",
       "      <td>NaN</td>\n",
       "      <td>TI0445</td>\n",
       "    </tr>\n",
       "    <tr>\n",
       "      <th>1</th>\n",
       "      <td>NaN</td>\n",
       "      <td>NaN</td>\n",
       "      <td>0411</td>\n",
       "      <td>100498.0</td>\n",
       "      <td>W712/12 F.AC.MANN</td>\n",
       "      <td>251.0</td>\n",
       "      <td>4.905961e+09</td>\n",
       "      <td>01.11.2024</td>\n",
       "      <td>-1</td>\n",
       "      <td>UN</td>\n",
       "      <td>...</td>\n",
       "      <td>CLP</td>\n",
       "      <td>-1.0</td>\n",
       "      <td>NaN</td>\n",
       "      <td>NaN</td>\n",
       "      <td>NaN</td>\n",
       "      <td>SM para ventas</td>\n",
       "      <td>NaN</td>\n",
       "      <td>UN</td>\n",
       "      <td>NaN</td>\n",
       "      <td>TI0411</td>\n",
       "    </tr>\n",
       "  </tbody>\n",
       "</table>\n",
       "<p>2 rows × 21 columns</p>\n",
       "</div>"
      ],
      "text/plain": [
       "   Unnamed: 0 Unnamed: 1   Ce.  Material Texto breve de material    CMv  \\\n",
       "0         NaN        NaN  0445  100487.0        W68/80 F.AC.MANN  251.0   \n",
       "1         NaN        NaN  0411  100498.0       W712/12 F.AC.MANN  251.0   \n",
       "\n",
       "       Doc.mat.  Fe.contab.    Ctd.en UME UME  ... Mon. Cantidad  Ctd.en  \\\n",
       "0  4.905961e+09  01.11.2024            -1  UN  ...  CLP     -1.0     NaN   \n",
       "1  4.905961e+09  01.11.2024            -1  UN  ...  CLP     -1.0     NaN   \n",
       "\n",
       "   Ctd.UMPP  Pedido  Txt clase-mov. UMP  UMB UMP.1  Cliente  \n",
       "0       NaN     NaN  SM para ventas NaN   UN   NaN   TI0445  \n",
       "1       NaN     NaN  SM para ventas NaN   UN   NaN   TI0411  \n",
       "\n",
       "[2 rows x 21 columns]"
      ]
     },
     "execution_count": 33,
     "metadata": {},
     "output_type": "execute_result"
    }
   ],
   "source": [
    "SO_MB51.head(2)"
   ]
  },
  {
   "cell_type": "code",
   "execution_count": 34,
   "metadata": {},
   "outputs": [],
   "source": [
    "import os\n",
    "import pandas as pd\n",
    "import datetime\n",
    "import glob\n",
    "\n",
    "usuario = os.path.expanduser('~').split('\\\\')[-1]\n",
    "año_actual = datetime.datetime.now().year\n",
    "mes_actual = datetime.datetime.now().strftime('%m')\n",
    "\n",
    "ruta_directorio = f\"C:\\\\Users\\\\{usuario}\\\\DERCO CHILE REPUESTOS SpA\\\\Planificación y abastecimiento - Documentos\\\\Planificación y Compras Maestros\\\\{año_actual}\\\\{año_actual}-{mes_actual}\\\\MaestrosCSV\\\\\"\n",
    "archivos_mara = glob.glob(os.path.join(ruta_directorio, \"*MARA*.csv\"))\n",
    "\n",
    "if archivos_mara:\n",
    "    archivo_mara = archivos_mara[0]\n",
    "    mara = pd.read_csv(archivo_mara, sep=';')\n",
    "else:\n",
    "    print(\"No se encontró ningún archivo que contenga 'MARA' en el nombre en el directorio especificado.\")\n",
    "\n"
   ]
  },
  {
   "cell_type": "code",
   "execution_count": 35,
   "metadata": {},
   "outputs": [
    {
     "data": {
      "text/plain": [
       "'C:\\\\Users\\\\etorres.DERCOPARTS\\\\DERCO CHILE REPUESTOS SpA\\\\Planificación y abastecimiento - Documentos\\\\Planificación y Compras Maestros\\\\2024\\\\2024-12\\\\MaestrosCSV\\\\'"
      ]
     },
     "execution_count": 35,
     "metadata": {},
     "output_type": "execute_result"
    }
   ],
   "source": [
    "ruta_directorio"
   ]
  },
  {
   "cell_type": "code",
   "execution_count": 36,
   "metadata": {},
   "outputs": [
    {
     "data": {
      "text/plain": [
       "Index(['Unnamed: 0', 'Unnamed: 1', 'Ce.', 'Material',\n",
       "       'Texto breve de material', 'CMv', 'Doc.mat.', 'Fe.contab.',\n",
       "       '   Ctd.en UME', 'UME', '     Importe ML', 'Mon.', 'Cantidad', 'Ctd.en',\n",
       "       'Ctd.UMPP', 'Pedido', 'Txt clase-mov.', 'UMP', 'UMB', 'UMP.1',\n",
       "       'Cliente'],\n",
       "      dtype='object')"
      ]
     },
     "execution_count": 36,
     "metadata": {},
     "output_type": "execute_result"
    }
   ],
   "source": [
    "SO_MB51.columns"
   ]
  },
  {
   "cell_type": "code",
   "execution_count": 37,
   "metadata": {},
   "outputs": [
    {
     "name": "stdout",
     "output_type": "stream",
     "text": [
      "La suma de la columna 'cantidad' es: -569758.0700000001\n"
     ]
    }
   ],
   "source": [
    "# Calcular la suma de la columna 'Ctd.en UME'\n",
    "suma_cantidad = SO_MB51['Cantidad'].sum()\n",
    "# Mostrar la suma\n",
    "print(\"La suma de la columna 'cantidad' es:\", suma_cantidad)\n"
   ]
  },
  {
   "cell_type": "code",
   "execution_count": 38,
   "metadata": {},
   "outputs": [
    {
     "name": "stderr",
     "output_type": "stream",
     "text": [
      "C:\\Users\\etorres.DERCOPARTS\\AppData\\Local\\Temp\\ipykernel_4536\\3410330401.py:28: FutureWarning: A value is trying to be set on a copy of a DataFrame or Series through chained assignment using an inplace method.\n",
      "The behavior will change in pandas 3.0. This inplace method will never work because the intermediate object on which we are setting values always behaves as a copy.\n",
      "\n",
      "For example, when doing 'df[col].method(value, inplace=True)', try using 'df.method({col: value}, inplace=True)' or df[col] = df[col].method(value) instead, to perform the operation inplace on the original object.\n",
      "\n",
      "\n",
      "  sellout['Cod_Actual_1'].fillna(sellout['Material'], inplace=True)\n"
     ]
    }
   ],
   "source": [
    "SO_MB51['Material'] = SO_MB51['Material'].astype(str).str.replace(r'\\.0$', '', regex=True)\n",
    "sellout = SO_MB51\n",
    "# Ruta del archivo Excel\n",
    "import os\n",
    "import pandas as pd\n",
    "import datetime\n",
    "import glob\n",
    "\n",
    "usuario = os.path.expanduser('~').split('\\\\')[-1]\n",
    "año_actual = datetime.datetime.now().year\n",
    "mes_actual = datetime.datetime.now().strftime('%m')\n",
    "\n",
    "ruta_directorio = f\"C:\\\\Users\\\\{usuario}\\\\DERCO CHILE REPUESTOS SpA\\\\Planificación y abastecimiento - Documentos\\\\Planificación y Compras Maestros\\\\{año_actual}\\\\{año_actual}-{mes_actual}\\\\MaestrosCSV\\\\\"\n",
    "archivos_cod = glob.glob(os.path.join(ruta_directorio, \"*COD*.csv\"))\n",
    "\n",
    "if archivos_cod:\n",
    "    archivo_cod = archivos_cod[0]\n",
    "    ultimoeslabon = pd.read_csv(archivo_cod, delimiter=';', encoding='latin-1', decimal=',')\n",
    "else:\n",
    "    print(\"No se encontró ningún archivo que contenga 'COD' en el nombre en el directorio especificado.\")\n",
    "\n",
    "\n",
    "ulteslabon = ultimoeslabon.loc[:, ['Nro_pieza_fabricante_1', 'Cod_Actual_1']]\n",
    "# Combinar los DataFrames mediante la columna 'Material' en 'sellout' y 'Nro_pieza_fabricante_1' en 'ulteslabon'\n",
    "sellout = sellout.merge(ulteslabon[['Nro_pieza_fabricante_1', 'Cod_Actual_1']], how='left', left_on='Material', right_on='Nro_pieza_fabricante_1')\n",
    "\n",
    "# Llenar los valores faltantes en 'Cod_Actual_1' con los valores de 'Material'\n",
    "sellout['Cod_Actual_1'].fillna(sellout['Material'], inplace=True)\n",
    "\n",
    "# Eliminar la columna 'Nro_pieza_fabricante_1' ya que ya no es necesaria\n",
    "sellout.drop(columns=['Nro_pieza_fabricante_1'], inplace=True)\n",
    "# Renombrar la columna 'Cod_Actual_1' a 'Ult.Eslabón'\n",
    "sellout.rename(columns={'Cod_Actual_1': 'Ult.Eslabón'}, inplace=True)"
   ]
  },
  {
   "cell_type": "code",
   "execution_count": 39,
   "metadata": {},
   "outputs": [
    {
     "data": {
      "text/plain": [
       "'C:\\\\Users\\\\etorres.DERCOPARTS\\\\DERCO CHILE REPUESTOS SpA\\\\Planificación y abastecimiento - Documentos\\\\Planificación y Compras Maestros\\\\2024\\\\2024-12\\\\MaestrosCSV\\\\'"
      ]
     },
     "execution_count": 39,
     "metadata": {},
     "output_type": "execute_result"
    }
   ],
   "source": [
    "ruta_directorio"
   ]
  },
  {
   "cell_type": "code",
   "execution_count": 40,
   "metadata": {},
   "outputs": [
    {
     "name": "stdout",
     "output_type": "stream",
     "text": [
      "La suma de la columna 'cantidad' es: -569758.0700000001\n"
     ]
    }
   ],
   "source": [
    "# Calcular la suma de la columna 'Ctd.en UME'\n",
    "suma_cantidad = SO_MB51['Cantidad'].sum()\n",
    "# Mostrar la suma\n",
    "print(\"La suma de la columna 'cantidad' es:\", suma_cantidad)\n"
   ]
  },
  {
   "cell_type": "code",
   "execution_count": 41,
   "metadata": {},
   "outputs": [
    {
     "data": {
      "text/html": [
       "<div>\n",
       "<style scoped>\n",
       "    .dataframe tbody tr th:only-of-type {\n",
       "        vertical-align: middle;\n",
       "    }\n",
       "\n",
       "    .dataframe tbody tr th {\n",
       "        vertical-align: top;\n",
       "    }\n",
       "\n",
       "    .dataframe thead th {\n",
       "        text-align: right;\n",
       "    }\n",
       "</style>\n",
       "<table border=\"1\" class=\"dataframe\">\n",
       "  <thead>\n",
       "    <tr style=\"text-align: right;\">\n",
       "      <th></th>\n",
       "      <th>Material_S4</th>\n",
       "      <th>Creado_el</th>\n",
       "      <th>Sector_MU</th>\n",
       "      <th>Nombre_Sector</th>\n",
       "      <th>Marca</th>\n",
       "      <th>Marca_txt</th>\n",
       "      <th>Texto_breve_material</th>\n",
       "    </tr>\n",
       "  </thead>\n",
       "  <tbody>\n",
       "    <tr>\n",
       "      <th>0</th>\n",
       "      <td>159081</td>\n",
       "      <td>2019-04-02</td>\n",
       "      <td>54</td>\n",
       "      <td>RMAQ</td>\n",
       "      <td>636.0</td>\n",
       "      <td>NEXEN</td>\n",
       "      <td>CAMARA 7.50X16 VALVULA TR218A</td>\n",
       "    </tr>\n",
       "    <tr>\n",
       "      <th>1</th>\n",
       "      <td>1143617</td>\n",
       "      <td>2022-08-03</td>\n",
       "      <td>48</td>\n",
       "      <td>ACC</td>\n",
       "      <td>1371.0</td>\n",
       "      <td>NOMADE</td>\n",
       "      <td>CAJA PORTAEQUIPAJE PARA AUTO 450 LTS</td>\n",
       "    </tr>\n",
       "    <tr>\n",
       "      <th>2</th>\n",
       "      <td>1172010</td>\n",
       "      <td>2024-11-13</td>\n",
       "      <td>48</td>\n",
       "      <td>ACC</td>\n",
       "      <td>13.0</td>\n",
       "      <td>MOTORLIFE</td>\n",
       "      <td>PARAGUA AUTOPLANET TEMPORADA 2025</td>\n",
       "    </tr>\n",
       "    <tr>\n",
       "      <th>3</th>\n",
       "      <td>154856</td>\n",
       "      <td>2019-04-02</td>\n",
       "      <td>29</td>\n",
       "      <td>RALT</td>\n",
       "      <td>580.0</td>\n",
       "      <td>ASAHI</td>\n",
       "      <td>JG. MET. BAN MS1208A STD</td>\n",
       "    </tr>\n",
       "    <tr>\n",
       "      <th>4</th>\n",
       "      <td>341259</td>\n",
       "      <td>2019-02-16</td>\n",
       "      <td>48</td>\n",
       "      <td>ACC</td>\n",
       "      <td>146.0</td>\n",
       "      <td>AUTOSTYLE</td>\n",
       "      <td>AMP HB3/9005 12V65W(P20D)STD-BL1 CJ10UN</td>\n",
       "    </tr>\n",
       "    <tr>\n",
       "      <th>...</th>\n",
       "      <td>...</td>\n",
       "      <td>...</td>\n",
       "      <td>...</td>\n",
       "      <td>...</td>\n",
       "      <td>...</td>\n",
       "      <td>...</td>\n",
       "      <td>...</td>\n",
       "    </tr>\n",
       "    <tr>\n",
       "      <th>451814</th>\n",
       "      <td>1127257</td>\n",
       "      <td>2021-12-27</td>\n",
       "      <td>48</td>\n",
       "      <td>ACC</td>\n",
       "      <td>1163.0</td>\n",
       "      <td>SMART CHOICE</td>\n",
       "      <td>CAMARA DE RETROCESO SMART CHOICE 1</td>\n",
       "    </tr>\n",
       "    <tr>\n",
       "      <th>451815</th>\n",
       "      <td>151262</td>\n",
       "      <td>2019-02-16</td>\n",
       "      <td>54</td>\n",
       "      <td>RMAQ</td>\n",
       "      <td>100.0</td>\n",
       "      <td>AGPO</td>\n",
       "      <td>CHAPA CONTACTO C/ENCENDIDO FRI</td>\n",
       "    </tr>\n",
       "    <tr>\n",
       "      <th>451816</th>\n",
       "      <td>121722</td>\n",
       "      <td>2019-02-16</td>\n",
       "      <td>29</td>\n",
       "      <td>RALT</td>\n",
       "      <td>17.0</td>\n",
       "      <td>DGP</td>\n",
       "      <td>CRR AUX DGP SZ SAMURAI 1.3 87/96</td>\n",
       "    </tr>\n",
       "    <tr>\n",
       "      <th>451817</th>\n",
       "      <td>155909</td>\n",
       "      <td>2019-03-31</td>\n",
       "      <td>54</td>\n",
       "      <td>RMAQ</td>\n",
       "      <td>46.0</td>\n",
       "      <td>KOYO</td>\n",
       "      <td>ROD KOYO 6003 ZZ UN</td>\n",
       "    </tr>\n",
       "    <tr>\n",
       "      <th>451818</th>\n",
       "      <td>1040176</td>\n",
       "      <td>2019-11-06</td>\n",
       "      <td>54</td>\n",
       "      <td>RMAQ</td>\n",
       "      <td>1267.0</td>\n",
       "      <td>MARCA ALTERNATIVA</td>\n",
       "      <td>TAPA GRASA</td>\n",
       "    </tr>\n",
       "  </tbody>\n",
       "</table>\n",
       "<p>451819 rows × 7 columns</p>\n",
       "</div>"
      ],
      "text/plain": [
       "       Material_S4   Creado_el Sector_MU Nombre_Sector   Marca  \\\n",
       "0           159081  2019-04-02        54          RMAQ   636.0   \n",
       "1          1143617  2022-08-03        48           ACC  1371.0   \n",
       "2          1172010  2024-11-13        48           ACC    13.0   \n",
       "3           154856  2019-04-02        29          RALT   580.0   \n",
       "4           341259  2019-02-16        48           ACC   146.0   \n",
       "...            ...         ...       ...           ...     ...   \n",
       "451814     1127257  2021-12-27        48           ACC  1163.0   \n",
       "451815      151262  2019-02-16        54          RMAQ   100.0   \n",
       "451816      121722  2019-02-16        29          RALT    17.0   \n",
       "451817      155909  2019-03-31        54          RMAQ    46.0   \n",
       "451818     1040176  2019-11-06        54          RMAQ  1267.0   \n",
       "\n",
       "                Marca_txt                     Texto_breve_material  \n",
       "0                   NEXEN            CAMARA 7.50X16 VALVULA TR218A  \n",
       "1                  NOMADE     CAJA PORTAEQUIPAJE PARA AUTO 450 LTS  \n",
       "2               MOTORLIFE        PARAGUA AUTOPLANET TEMPORADA 2025  \n",
       "3                   ASAHI                 JG. MET. BAN MS1208A STD  \n",
       "4               AUTOSTYLE  AMP HB3/9005 12V65W(P20D)STD-BL1 CJ10UN  \n",
       "...                   ...                                      ...  \n",
       "451814       SMART CHOICE       CAMARA DE RETROCESO SMART CHOICE 1  \n",
       "451815               AGPO           CHAPA CONTACTO C/ENCENDIDO FRI  \n",
       "451816                DGP         CRR AUX DGP SZ SAMURAI 1.3 87/96  \n",
       "451817               KOYO                      ROD KOYO 6003 ZZ UN  \n",
       "451818  MARCA ALTERNATIVA                               TAPA GRASA  \n",
       "\n",
       "[451819 rows x 7 columns]"
      ]
     },
     "execution_count": 41,
     "metadata": {},
     "output_type": "execute_result"
    }
   ],
   "source": [
    "mara"
   ]
  },
  {
   "cell_type": "code",
   "execution_count": 42,
   "metadata": {},
   "outputs": [],
   "source": [
    "mara.rename(columns={'Nombre_Sector': 'Nombre Sector'}, inplace=True)\n",
    "mara['Material_S4'] = mara['Material_S4'].astype(str)\n",
    "mara_reducido = mara[['Material_S4', 'Nombre Sector', 'Sector_MU']]\n",
    "\n",
    "# Realizar el merge\n",
    "sellout = pd.merge(sellout, mara_reducido, left_on='Ult.Eslabón', right_on='Material_S4', how='left')"
   ]
  },
  {
   "cell_type": "code",
   "execution_count": 43,
   "metadata": {},
   "outputs": [
    {
     "data": {
      "text/plain": [
       "Index(['Unnamed: 0', 'Unnamed: 1', 'Ce.', 'Material',\n",
       "       'Texto breve de material', 'CMv', 'Doc.mat.', 'Fe.contab.',\n",
       "       '   Ctd.en UME', 'UME', '     Importe ML', 'Mon.', 'Cantidad', 'Ctd.en',\n",
       "       'Ctd.UMPP', 'Pedido', 'Txt clase-mov.', 'UMP', 'UMB', 'UMP.1',\n",
       "       'Cliente', 'Ult.Eslabón', 'Nombre Sector', 'Sector_MU'],\n",
       "      dtype='object')"
      ]
     },
     "execution_count": 43,
     "metadata": {},
     "output_type": "execute_result"
    }
   ],
   "source": [
    "sellout.drop(columns=['Material_S4'], inplace=True)\n",
    "# Mostrar las primeras filas del DataFrame resultante para verificarcomo puedo saber cuantas columna tiene mi dataframe sellout\n",
    "sellout.shape\n",
    "sellout.columns"
   ]
  },
  {
   "cell_type": "code",
   "execution_count": 44,
   "metadata": {},
   "outputs": [],
   "source": [
    "import pandas as pd\n",
    "\n",
    "# Asegúrate de que el DataFrame está cargado correctamente\n",
    "if 'sellout' in globals() and 'Nombre Sector' in sellout.columns:\n",
    "    # Asumiendo que 'sellout' es tu DataFrame ya cargado\n",
    "\n",
    "    # Paso 1: Preparar los datos, asegurando que no hay valores NaN en la columna 'Nombre Sector'\n",
    "    sellout['Nombre Sector'] = sellout['Nombre Sector'].fillna('')  # Asegurar que no hay valores NaN\n",
    "\n",
    "    # Paso 2: Crear nuevas columnas con valores predeterminados\n",
    "    sellout['Canal'] = 'Retail'\n",
    "    sellout['Tipo'] = 'Otros'\n",
    "    sellout['Forecast AFM'] = 'NO'\n",
    "    sellout['Forecast OEM'] = 'NO'\n",
    "    sellout['Venta UMB'] = sellout['Cantidad']*-1\n",
    "\n",
    "    # Definir las listas de valores a buscar\n",
    "    buscarValoresAFM = [\"RALT\", \"ACC\", \"BAT\", \"LUB\", \"NEU\", \"RMAQ\"]\n",
    "    buscarValoresOEM = [\"Great Wall\", \"Suzuki\", \"Renault\", \"Mazda\", \"Samsung\", \"Changan\", \"JAC Cars\"]"
   ]
  },
  {
   "cell_type": "code",
   "execution_count": 45,
   "metadata": {},
   "outputs": [
    {
     "name": "stdout",
     "output_type": "stream",
     "text": [
      "La suma de la columna 'cantidad' es: -569758.0700000001\n"
     ]
    }
   ],
   "source": [
    "# Calcular la suma de la columna 'Ctd.en UME'\n",
    "suma_cantidad = SO_MB51['Cantidad'].sum()\n",
    "# Mostrar la suma\n",
    "print(\"La suma de la columna 'cantidad' es:\", suma_cantidad)\n"
   ]
  },
  {
   "cell_type": "code",
   "execution_count": 46,
   "metadata": {},
   "outputs": [
    {
     "data": {
      "text/plain": [
       "Index(['Unnamed: 0', 'Unnamed: 1', 'Ce.', 'Material',\n",
       "       'Texto breve de material', 'CMv', 'Doc.mat.', 'Fe.contab.',\n",
       "       '   Ctd.en UME', 'UME', '     Importe ML', 'Mon.', 'Cantidad', 'Ctd.en',\n",
       "       'Ctd.UMPP', 'Pedido', 'Txt clase-mov.', 'UMP', 'UMB', 'UMP.1',\n",
       "       'Cliente', 'Ult.Eslabón', 'Nombre Sector', 'Sector_MU', 'Canal', 'Tipo',\n",
       "       'Forecast AFM', 'Forecast OEM', 'Venta UMB'],\n",
       "      dtype='object')"
      ]
     },
     "execution_count": 46,
     "metadata": {},
     "output_type": "execute_result"
    }
   ],
   "source": [
    "sellout.columns"
   ]
  },
  {
   "cell_type": "code",
   "execution_count": 47,
   "metadata": {},
   "outputs": [],
   "source": [
    "for i, valor in sellout['Nombre Sector'].items():\n",
    "    if valor == 'AXS':\n",
    "            sellout.at[i, 'Tipo'] = 'AXS'\n",
    "    elif valor in buscarValoresAFM:\n",
    "            sellout.at[i, 'Tipo'] = 'AFM'\n",
    "            sellout.at[i, 'Forecast AFM'] = 'SI'\n",
    "    elif valor in buscarValoresOEM:\n",
    "            sellout.at[i, 'Tipo'] = 'OEM'\n",
    "            sellout.at[i, 'Forecast OEM'] = 'SI'"
   ]
  },
  {
   "cell_type": "code",
   "execution_count": 48,
   "metadata": {},
   "outputs": [
    {
     "data": {
      "text/plain": [
       "Index(['Unnamed: 0', 'Unnamed: 1', 'Ce.', 'Material',\n",
       "       'Texto breve de material', 'CMv', 'Doc.mat.', 'Fe.contab.',\n",
       "       '   Ctd.en UME', 'UME', '     Importe ML', 'Mon.', 'Cantidad', 'Ctd.en',\n",
       "       'Ctd.UMPP', 'Pedido', 'Txt clase-mov.', 'UMP', 'UMB', 'UMP.1',\n",
       "       'Cliente', 'Ult.Eslabón', 'Nombre Sector', 'Sector_MU', 'Canal', 'Tipo',\n",
       "       'Forecast AFM', 'Forecast OEM', 'Venta UMB'],\n",
       "      dtype='object')"
      ]
     },
     "execution_count": 48,
     "metadata": {},
     "output_type": "execute_result"
    }
   ],
   "source": [
    "sellout.columns"
   ]
  },
  {
   "cell_type": "code",
   "execution_count": 49,
   "metadata": {},
   "outputs": [],
   "source": [
    "# # Asumiendo que 'sellout' ya está definido y tiene las columnas correctas\n",
    "# if 'sellout' in globals() and 'Nombre Sector' in sellout.columns:\n",
    "#     # Paso 4: Calcular la semana en una nueva columna 'Semana'\n",
    "#     # Especifica el formato correcto de la fecha\n",
    "#     sellout['Semana'] = pd.to_datetime(sellout['Fe.contabilización'], format='%d-%m-%Y').dt.isocalendar().week\n",
    "\n",
    "#     # Paso 5: Llenar la columna 'Canal 2' con \"CL RETAIL\"\n",
    "#     sellout['Canal 2'] = 'CL RETAIL'\n",
    "    \n",
    "# else:\n",
    "#     print(\"El DataFrame 'sellout' no está definido o la columna 'Nombre Sector' no existe.\")\n",
    "# sellout['ID'] = sellout['Ult.Eslabón'].astype(str) + sellout['Canal 2']\n"
   ]
  },
  {
   "cell_type": "code",
   "execution_count": 50,
   "metadata": {},
   "outputs": [
    {
     "name": "stdout",
     "output_type": "stream",
     "text": [
      "La suma de la columna 'cantidad' es: -569758.0700000001\n"
     ]
    }
   ],
   "source": [
    "# Calcular la suma de la columna 'Ctd.en UME'\n",
    "suma_cantidad = SO_MB51['Cantidad'].sum()\n",
    "# Mostrar la suma\n",
    "print(\"La suma de la columna 'cantidad' es:\", suma_cantidad)\n"
   ]
  },
  {
   "cell_type": "code",
   "execution_count": 51,
   "metadata": {},
   "outputs": [
    {
     "data": {
      "text/plain": [
       "array(['01.11.2024', '02.11.2024', '03.11.2024', '04.11.2024',\n",
       "       '05.11.2024', '06.11.2024', '07.11.2024', '08.11.2024',\n",
       "       '09.11.2024', '10.11.2024', '11.11.2024', '12.11.2024',\n",
       "       '13.11.2024', '14.11.2024', '15.11.2024', '16.11.2024',\n",
       "       '17.11.2024', '18.11.2024', '19.11.2024', '20.11.2024',\n",
       "       '21.11.2024', '22.11.2024', '23.11.2024', '24.11.2024',\n",
       "       '25.11.2024', '26.11.2024', '27.11.2024', '28.11.2024',\n",
       "       '29.11.2024', '30.11.2024', nan], dtype=object)"
      ]
     },
     "execution_count": 51,
     "metadata": {},
     "output_type": "execute_result"
    }
   ],
   "source": [
    "selloutx=SO_MB51['Fe.contab.'].unique()\n",
    "selloutx"
   ]
  },
  {
   "cell_type": "code",
   "execution_count": 52,
   "metadata": {},
   "outputs": [],
   "source": [
    "# Asumiendo que 'sellout' ya está definido y tiene las columnas correctas\n",
    "if 'sellout' in globals() and 'Nombre Sector' in sellout.columns:\n",
    "    # Paso 4: Calcular la semana en una nueva columna 'Semana'\n",
    "    # Especifica el formato correcto de la fecha\n",
    "    sellout['Semana'] = pd.to_datetime(sellout['Fe.contab.'], format='%d.%m.%Y').dt.isocalendar().week\n",
    "\n",
    "    # Paso 5: Llenar la columna 'Canal 2' con \"CL RETAIL\"\n",
    "    sellout['Canal 2'] = 'CL RETAIL'\n",
    "    \n",
    "else:\n",
    "    print(\"El DataFrame 'sellout' no está definido o la columna 'Nombre Sector' no existe.\")\n",
    "sellout['ID'] = sellout['Ult.Eslabón'].astype(str) + sellout['Canal 2']\n"
   ]
  },
  {
   "cell_type": "code",
   "execution_count": 53,
   "metadata": {},
   "outputs": [
    {
     "name": "stdout",
     "output_type": "stream",
     "text": [
      "La suma de la columna 'cantidad' es: -569758.0700000001\n"
     ]
    }
   ],
   "source": [
    "# Calcular la suma de la columna 'Ctd.en UME'\n",
    "suma_cantidad = SO_MB51['Cantidad'].sum()\n",
    "# Mostrar la suma\n",
    "print(\"La suma de la columna 'cantidad' es:\", suma_cantidad)\n"
   ]
  },
  {
   "cell_type": "markdown",
   "metadata": {},
   "source": [
    "crear ID"
   ]
  },
  {
   "cell_type": "code",
   "execution_count": 54,
   "metadata": {},
   "outputs": [
    {
     "data": {
      "text/html": [
       "<div>\n",
       "<style scoped>\n",
       "    .dataframe tbody tr th:only-of-type {\n",
       "        vertical-align: middle;\n",
       "    }\n",
       "\n",
       "    .dataframe tbody tr th {\n",
       "        vertical-align: top;\n",
       "    }\n",
       "\n",
       "    .dataframe thead th {\n",
       "        text-align: right;\n",
       "    }\n",
       "</style>\n",
       "<table border=\"1\" class=\"dataframe\">\n",
       "  <thead>\n",
       "    <tr style=\"text-align: right;\">\n",
       "      <th></th>\n",
       "      <th>Unnamed: 0</th>\n",
       "      <th>Unnamed: 1</th>\n",
       "      <th>Ce.</th>\n",
       "      <th>Material</th>\n",
       "      <th>Texto breve de material</th>\n",
       "      <th>CMv</th>\n",
       "      <th>Doc.mat.</th>\n",
       "      <th>Fe.contab.</th>\n",
       "      <th>Ctd.en UME</th>\n",
       "      <th>UME</th>\n",
       "      <th>...</th>\n",
       "      <th>Nombre Sector</th>\n",
       "      <th>Sector_MU</th>\n",
       "      <th>Canal</th>\n",
       "      <th>Tipo</th>\n",
       "      <th>Forecast AFM</th>\n",
       "      <th>Forecast OEM</th>\n",
       "      <th>Venta UMB</th>\n",
       "      <th>Semana</th>\n",
       "      <th>Canal 2</th>\n",
       "      <th>ID</th>\n",
       "    </tr>\n",
       "  </thead>\n",
       "  <tbody>\n",
       "    <tr>\n",
       "      <th>0</th>\n",
       "      <td>NaN</td>\n",
       "      <td>NaN</td>\n",
       "      <td>0445</td>\n",
       "      <td>100487</td>\n",
       "      <td>W68/80 F.AC.MANN</td>\n",
       "      <td>251.0</td>\n",
       "      <td>4.905961e+09</td>\n",
       "      <td>01.11.2024</td>\n",
       "      <td>-1</td>\n",
       "      <td>UN</td>\n",
       "      <td>...</td>\n",
       "      <td>RALT</td>\n",
       "      <td>29</td>\n",
       "      <td>Retail</td>\n",
       "      <td>AFM</td>\n",
       "      <td>SI</td>\n",
       "      <td>NO</td>\n",
       "      <td>1.0</td>\n",
       "      <td>44</td>\n",
       "      <td>CL RETAIL</td>\n",
       "      <td>100487CL RETAIL</td>\n",
       "    </tr>\n",
       "    <tr>\n",
       "      <th>1</th>\n",
       "      <td>NaN</td>\n",
       "      <td>NaN</td>\n",
       "      <td>0411</td>\n",
       "      <td>100498</td>\n",
       "      <td>W712/12 F.AC.MANN</td>\n",
       "      <td>251.0</td>\n",
       "      <td>4.905961e+09</td>\n",
       "      <td>01.11.2024</td>\n",
       "      <td>-1</td>\n",
       "      <td>UN</td>\n",
       "      <td>...</td>\n",
       "      <td>RALT</td>\n",
       "      <td>29</td>\n",
       "      <td>Retail</td>\n",
       "      <td>AFM</td>\n",
       "      <td>SI</td>\n",
       "      <td>NO</td>\n",
       "      <td>1.0</td>\n",
       "      <td>44</td>\n",
       "      <td>CL RETAIL</td>\n",
       "      <td>100498CL RETAIL</td>\n",
       "    </tr>\n",
       "  </tbody>\n",
       "</table>\n",
       "<p>2 rows × 32 columns</p>\n",
       "</div>"
      ],
      "text/plain": [
       "   Unnamed: 0 Unnamed: 1   Ce. Material Texto breve de material    CMv  \\\n",
       "0         NaN        NaN  0445   100487        W68/80 F.AC.MANN  251.0   \n",
       "1         NaN        NaN  0411   100498       W712/12 F.AC.MANN  251.0   \n",
       "\n",
       "       Doc.mat.  Fe.contab.    Ctd.en UME UME  ... Nombre Sector Sector_MU  \\\n",
       "0  4.905961e+09  01.11.2024            -1  UN  ...          RALT        29   \n",
       "1  4.905961e+09  01.11.2024            -1  UN  ...          RALT        29   \n",
       "\n",
       "    Canal  Tipo  Forecast AFM  Forecast OEM Venta UMB  Semana    Canal 2  \\\n",
       "0  Retail   AFM            SI            NO       1.0      44  CL RETAIL   \n",
       "1  Retail   AFM            SI            NO       1.0      44  CL RETAIL   \n",
       "\n",
       "                ID  \n",
       "0  100487CL RETAIL  \n",
       "1  100498CL RETAIL  \n",
       "\n",
       "[2 rows x 32 columns]"
      ]
     },
     "execution_count": 54,
     "metadata": {},
     "output_type": "execute_result"
    }
   ],
   "source": [
    "sellout.head(2)"
   ]
  },
  {
   "cell_type": "code",
   "execution_count": 55,
   "metadata": {},
   "outputs": [
    {
     "data": {
      "text/plain": [
       "Index(['Unnamed: 0', 'Unnamed: 1', 'Ce.', 'Material',\n",
       "       'Texto breve de material', 'CMv', 'Doc.mat.', 'Fe.contab.',\n",
       "       '   Ctd.en UME', 'UME', '     Importe ML', 'Mon.', 'Cantidad', 'Ctd.en',\n",
       "       'Ctd.UMPP', 'Pedido', 'Txt clase-mov.', 'UMP', 'UMB', 'UMP.1',\n",
       "       'Cliente', 'Ult.Eslabón', 'Nombre Sector', 'Sector_MU', 'Canal', 'Tipo',\n",
       "       'Forecast AFM', 'Forecast OEM', 'Venta UMB', 'Semana', 'Canal 2', 'ID'],\n",
       "      dtype='object')"
      ]
     },
     "execution_count": 55,
     "metadata": {},
     "output_type": "execute_result"
    }
   ],
   "source": [
    "sellout.columns"
   ]
  },
  {
   "cell_type": "code",
   "execution_count": 56,
   "metadata": {},
   "outputs": [],
   "source": [
    "# # Especifica la ruta donde deseas guardar el archivo Excel\n",
    "# ruta_excel2 = r'C:\\Users\\Etorres\\Desktop\\CicloMay24\\VentaSellOut\\datos_sellout2.xlsx'\n",
    "# # Guardar el DataFrame como un archivo Excel\n",
    "# try:\n",
    "#     sellout.to_excel(ruta_excel2, index=False, engine='openpyxl')\n",
    "#     print(f\"Archivo guardado exitosamente en: {ruta_excel2}\")\n",
    "# except Exception as e:\n",
    "#     print(f\"Error al guardar el archivo: {e}\")"
   ]
  },
  {
   "cell_type": "code",
   "execution_count": 57,
   "metadata": {},
   "outputs": [],
   "source": [
    "from datetime import datetime\n",
    "import os\n",
    "current_month = datetime.now().strftime(\"%B\")\n",
    "desktop_dir = os.path.join(os.path.expanduser(\"~\"), 'Downloads')\n",
    "\n",
    "\n",
    "sellout_csv = sellout\n",
    "\n",
    "# Eliminar \".0\" al final de los valores en las columnas 'Cantidad' y 'Venta UMB' solo si terminan en \".0\"\n",
    "sellout_csv['Cantidad'] = sellout_csv['Cantidad'].apply(lambda x: str(x)[:-2] if str(x).endswith('.0') else x)\n",
    "sellout_csv['Venta UMB'] = sellout_csv['Venta UMB'].apply(lambda x: str(x)[:-2] if str(x).endswith('.0') else x)\n",
    "\n",
    "# Guardar el DataFrame modificado en un archivo CSV\n",
    "sellout_csv.to_csv(os.path.join(desktop_dir, f'Sell Out {current_month}.csv'), sep=';', index=False)\n"
   ]
  },
  {
   "cell_type": "code",
   "execution_count": 58,
   "metadata": {},
   "outputs": [
    {
     "data": {
      "text/plain": [
       "'C:\\\\Users\\\\etorres.DERCOPARTS\\\\Downloads'"
      ]
     },
     "execution_count": 58,
     "metadata": {},
     "output_type": "execute_result"
    }
   ],
   "source": [
    "desktop_dir"
   ]
  },
  {
   "cell_type": "code",
   "execution_count": 59,
   "metadata": {},
   "outputs": [],
   "source": [
    "import os\n",
    "import pandas as pd\n",
    "from datetime import datetime\n",
    "\n",
    "current_month = datetime.now().strftime(\"%B\")\n",
    "desktop_dir = os.path.join(os.path.expanduser(\"~\"), 'Downloads')\n",
    "\n",
    "# Suponiendo que 'sellout' es el DataFrame que contiene la columna 'Cantidad'\n",
    "sellout['Cantidad'] = sellout['Cantidad'].astype(str).str.replace(',', '')\n",
    "sellout['Venta UMB'] = sellout['Venta UMB'].astype(str).str.replace(',', '')\n",
    "sellout['Cantidad'] = pd.to_numeric(sellout['Cantidad'], errors='coerce')\n",
    "\n",
    "# Reemplazar valores NaN o infinitos con 0\n",
    "sellout['Cantidad'] = sellout['Cantidad'].fillna(0)\n",
    "\n",
    "# Redondear los valores antes de convertir a enteros\n",
    "sellout['Cantidad'] = sellout['Cantidad'].round().astype(int)\n",
    "# Guardar el DataFrame modificado en un archivo Excel\n",
    "sellout.to_excel(os.path.join(desktop_dir, f'Sell Out {current_month}.xlsx'), index=False)\n"
   ]
  },
  {
   "cell_type": "code",
   "execution_count": 60,
   "metadata": {},
   "outputs": [
    {
     "data": {
      "text/plain": [
       "'C:\\\\Users\\\\etorres.DERCOPARTS\\\\Downloads'"
      ]
     },
     "execution_count": 60,
     "metadata": {},
     "output_type": "execute_result"
    }
   ],
   "source": [
    "desktop_dir"
   ]
  },
  {
   "cell_type": "code",
   "execution_count": 61,
   "metadata": {},
   "outputs": [],
   "source": [
    "\n",
    "\n",
    "# # Convertir los valores a float primero para manejar decimales\n",
    "# sellout['Cantidad'] = sellout['Cantidad'].astype(float)\n",
    "\n",
    "# # Redondear los valores antes de convertir a enteros\n",
    "# sellout['Cantidad'] = sellout['Cantidad'].round().astype(int)\n",
    "\n",
    "# # Guardar el DataFrame modificado en un archivo Excel\n",
    "# sellout.to_excel(os.path.join(desktop_dir, f'Sell Out {current_month}.xlsx'), index=False)\n"
   ]
  }
 ],
 "metadata": {
  "kernelspec": {
   "display_name": "Python 3",
   "language": "python",
   "name": "python3"
  },
  "language_info": {
   "codemirror_mode": {
    "name": "ipython",
    "version": 3
   },
   "file_extension": ".py",
   "mimetype": "text/x-python",
   "name": "python",
   "nbconvert_exporter": "python",
   "pygments_lexer": "ipython3",
   "version": "3.12.4"
  }
 },
 "nbformat": 4,
 "nbformat_minor": 2
}
