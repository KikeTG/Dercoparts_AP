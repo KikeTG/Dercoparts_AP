{
 "cells": [
  {
   "cell_type": "code",
   "execution_count": 1,
   "metadata": {},
   "outputs": [
    {
     "name": "stdout",
     "output_type": "stream",
     "text": [
      "El archivo de Vigencia más reciente es: C:\\Users\\etorres.DERCOPARTS\\DERCO CHILE REPUESTOS SpA\\Planificación y abastecimiento - Documentos\\Planificación y Compras Maestros\\Vigencias\\2024-11 Vigencia Demanda AFM.xlsx\n"
     ]
    }
   ],
   "source": [
    "import os\n",
    "import glob\n",
    "from datetime import datetime\n",
    "from pathlib import Path\n",
    "import pandas as pd\n",
    "\n",
    "def get_latest_vigencia_file():\n",
    "    base_path = Path(os.path.expanduser(\"~/DERCO CHILE REPUESTOS SpA/Planificación y abastecimiento - Documentos/Planificación y Compras Maestros/Vigencias\"))\n",
    "    pattern = str(base_path / \"*Vigencia*.xlsx\")\n",
    "    files = glob.glob(pattern)\n",
    "    \n",
    "    if not files:\n",
    "        return None\n",
    "\n",
    "    def extract_date(filename):\n",
    "        try:\n",
    "            date_str = Path(filename).stem.split()[0]\n",
    "            return datetime.strptime(date_str, \"%Y-%m\")\n",
    "        except ValueError:\n",
    "            return datetime.min\n",
    "\n",
    "    latest_file = max(files, key=extract_date)\n",
    "    return latest_file\n",
    "\n",
    "latest_vigencia_file = get_latest_vigencia_file()\n",
    "\n",
    "if latest_vigencia_file:\n",
    "    print(f\"El archivo de Vigencia más reciente es: {latest_vigencia_file}\")\n",
    "else:\n",
    "    print(\"No se encontró ningún archivo de Vigencia.\")\n"
   ]
  },
  {
   "cell_type": "code",
   "execution_count": 2,
   "metadata": {},
   "outputs": [
    {
     "name": "stdout",
     "output_type": "stream",
     "text": [
      "Nombre del DataFrame: df_ces_01\n",
      "Nombre del DataFrame: df_mayorista\n",
      "Nombre del DataFrame: df_sodimac\n",
      "Nombre del DataFrame: df_easy\n",
      "Nombre del DataFrame: df_walmart\n",
      "Nombre del DataFrame: df_smu\n",
      "Nombre del DataFrame: df_tottus\n",
      "Nombre del DataFrame: df_retail_(ap-ag)\n"
     ]
    }
   ],
   "source": [
    "\n",
    "def process_excel(file_path):\n",
    "    df=pd.read_excel(file_path)\n",
    "    columns=['Material SAP','CES 01','Mayorista','Sodimac','Easy','Walmart','SMU','Tottus','Retail (AP-AG)']\n",
    "    df=df[columns]\n",
    "    pivot_tables={}\n",
    "    for col in columns[1:]:\n",
    "        pivot=df[df[col]==1].groupby(['Material SAP',col]).size().reset_index(name='Count')\n",
    "        pivot['Material SAP']=pivot['Material SAP'].astype(int)\n",
    "        pivot[col]=pivot[col].astype(int)\n",
    "        df_name=f\"df_{col.replace(' ','_').lower()}\"\n",
    "        pivot_tables[df_name]=pivot\n",
    "    return pivot_tables\n",
    "file_path=get_latest_vigencia_file()\n",
    "if file_path:\n",
    "    results=process_excel(file_path)\n",
    "    for df_name,table in results.items():\n",
    "        print(f\"Nombre del DataFrame: {df_name}\")\n",
    "else:\n",
    "    print(\"No se encontró el archivo.\")"
   ]
  },
  {
   "cell_type": "code",
   "execution_count": 3,
   "metadata": {},
   "outputs": [
    {
     "name": "stdout",
     "output_type": "stream",
     "text": [
      "Archivo guardado como: C:\\Users\\etorres.DERCOPARTS\\DERCO CHILE REPUESTOS SpA\\Planificación y abastecimiento - Documentos\\Planificación y Compras Maestros\\Vigencias\\Resumen_Vigencias_2024-11.xlsx\n"
     ]
    }
   ],
   "source": [
    "def merge_dataframes(dataframes):\n",
    "    merged = pd.DataFrame()\n",
    "    for name, df in dataframes.items():\n",
    "        df = df.drop(columns=['Count'], errors='ignore')\n",
    "        second_col = df.columns[1]\n",
    "        if 'Retail' in second_col:\n",
    "            df['ID'] = df['Material SAP'].astype(str) + 'Retail'\n",
    "        else:\n",
    "            df['ID'] = df['Material SAP'].astype(str) + second_col\n",
    "        df = df[['ID'] + df.columns[:-1].tolist()]\n",
    "        merged = pd.concat([merged, df], ignore_index=True)\n",
    "\n",
    "    # Crear la columna 'vigencia'\n",
    "    merged['vigencia'] = merged.iloc[:, 2:].gt(0).any(axis=1).astype(int)\n",
    "    \n",
    "    # Mantener solo las columnas 'ID', 'Material SAP' y 'vigencia'\n",
    "    # merged = merged[['ID', 'Material SAP', 'vigencia']]\n",
    "    \n",
    "    return merged\n",
    "\n",
    "file_path = get_latest_vigencia_file()\n",
    "if file_path:\n",
    "    results = process_excel(file_path)\n",
    "    merged_df = merge_dataframes(results)\n",
    "    current_date = datetime.now().strftime(\"%Y-%m\")\n",
    "    output_path = Path(file_path).parent / f\"Resumen_Vigencias_{current_date}.xlsx\"\n",
    "    merged_df.to_excel(output_path, index=False)\n",
    "    print(f\"Archivo guardado como: {output_path}\")\n",
    "else:\n",
    "    print(\"No se encontró el archivo.\")\n"
   ]
  }
 ],
 "metadata": {
  "kernelspec": {
   "display_name": "Python 3",
   "language": "python",
   "name": "python3"
  },
  "language_info": {
   "codemirror_mode": {
    "name": "ipython",
    "version": 3
   },
   "file_extension": ".py",
   "mimetype": "text/x-python",
   "name": "python",
   "nbconvert_exporter": "python",
   "pygments_lexer": "ipython3",
   "version": "3.12.4"
  }
 },
 "nbformat": 4,
 "nbformat_minor": 2
}
